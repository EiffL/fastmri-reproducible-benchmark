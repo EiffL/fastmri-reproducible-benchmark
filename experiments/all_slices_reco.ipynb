{
 "cells": [
  {
   "cell_type": "code",
   "execution_count": 1,
   "metadata": {},
   "outputs": [
    {
     "name": "stdout",
     "output_type": "stream",
     "text": [
      "/volatile/home/Zaccharie/workspace/fastmri-reproducible-benchmark\n"
     ]
    }
   ],
   "source": [
    "%cd .."
   ]
  },
  {
   "cell_type": "code",
   "execution_count": 2,
   "metadata": {},
   "outputs": [],
   "source": [
    "import sys\n",
    "sys.path.append('/volatile/home/Zaccharie/workspace/fastmri-reproducible-benchmark')"
   ]
  },
  {
   "cell_type": "code",
   "execution_count": 3,
   "metadata": {},
   "outputs": [
    {
     "name": "stderr",
     "output_type": "stream",
     "text": [
      "Using TensorFlow backend.\n"
     ]
    },
    {
     "name": "stdout",
     "output_type": "stream",
     "text": [
      "\n",
      "                 .|'''|       /.\\      '||'''|,\n",
      "                 ||          // \\\\      ||   ||\n",
      "'||''|, '||  ||` `|'''|,    //...\\\\     ||...|'\n",
      " ||  ||  `|..||   .   ||   //     \\\\    ||\n",
      " ||..|'      ||   |...|' .//       \\\\. .||\n",
      " ||       ,  |'\n",
      ".||        ''\n",
      "\n",
      "Package version: 0.0.3\n",
      "\n",
      "License: CeCILL-B\n",
      "\n",
      "Authors: \n",
      "\n",
      "Antoine Grigis <antoine.grigis@cea.fr>\n",
      "Samuel Farrens <samuel.farrens@cea.fr>\n",
      "Jean-Luc Starck <jl.stark@cea.fr>\n",
      "Philippe Ciuciu <philippe.ciuciu@cea.fr>\n",
      "\n",
      "Dependencies: \n",
      "\n",
      "scipy          : >=0.18.0  - required | 1.3.0     installed\n",
      "numpy          : >=1.11.0  - required | 1.16.4    installed\n",
      "matplotlib     : >=2.0.0   - required | 3.1.0     installed\n",
      "future         : >=0.16.0  - required | 0.17.1    installed\n",
      "astropy        : ==2.0.8   - required | 2.0.8     installed\n",
      "nibabel        : >=2.1.0   - required | 2.4.1     installed\n",
      "pyqtgraph      : >=0.10.0  - required | 0.10.0    installed\n",
      "progressbar2   : >=3.34.3  - required | ?         installed\n",
      "modopt         : >=1.1.5   - required | 1.3.1     installed\n",
      "scikit-learn   : >=0.19.1  - required | ?         installed\n",
      "pywt           : >=1.0.0   - required | 1.0.3     installed\n",
      "pybind11       : >=2.2.4   - required | 2.3.0     installed\n",
      "pysparse       : >=0.0.1   - required | 0.1.0     installed\n",
      "\n"
     ]
    }
   ],
   "source": [
    "%load_ext autoreload\n",
    "%autoreload 2\n",
    "%matplotlib nbagg\n",
    "import glob\n",
    "import os\n",
    "import os.path as op\n",
    "import random\n",
    "import time\n",
    "import warnings\n",
    "warnings.filterwarnings(\"ignore\")\n",
    "\n",
    "import h5py\n",
    "from joblib import Parallel, delayed\n",
    "import matplotlib.pyplot as plt\n",
    "import numpy as np\n",
    "from tqdm import tqdm_notebook\n",
    "\n",
    "from evaluate import METRIC_FUNCS, Metrics\n",
    "from fourier import FFT2\n",
    "from utils import crop_center, gen_mask\n",
    "from wavelets import WaveletDecimated, WaveletUndecimated\n",
    "\n",
    "from modopt.opt.linear import Identity\n",
    "from mri.numerics.reconstruct import sparse_rec_fista\n",
    "from modopt.opt.proximity import SparseThreshold, LinearCompositionProx\n",
    "from mri.numerics.gradient import GradAnalysis2"
   ]
  },
  {
   "cell_type": "code",
   "execution_count": 4,
   "metadata": {},
   "outputs": [],
   "source": [
    "plt.rcParams['figure.figsize'] = (9, 5)\n",
    "plt.rcParams['image.cmap'] = 'gray'"
   ]
  },
  {
   "cell_type": "code",
   "execution_count": 5,
   "metadata": {},
   "outputs": [],
   "source": [
    "fourier_op = FFT2(np.array([1]))"
   ]
  },
  {
   "cell_type": "code",
   "execution_count": 6,
   "metadata": {},
   "outputs": [],
   "source": [
    "val_path = '/media/Zaccharie/UHRes/singlecoil_val/'\n",
    "val_reco_path = '/media/Zaccharie/UHRes/singlecoil_val_reco/'\n",
    "val_filenames = glob.glob(val_path + '*')\n",
    "\n",
    "def from_val_file_to_image_and_kspace(filename):\n",
    "    h5_obj = h5py.File(filename)\n",
    "    try:\n",
    "        image = h5_obj['reconstruction_esc'][()]\n",
    "#         image = h5_obj['reconstruction_rss'][()]\n",
    "    except:\n",
    "        print(filename)\n",
    "        raise\n",
    "    kspace = h5_obj['kspace'][()]\n",
    "    h5_obj.close()\n",
    "    return image, kspace"
   ]
  },
  {
   "cell_type": "code",
   "execution_count": 7,
   "metadata": {},
   "outputs": [],
   "source": [
    "test_path = '/media/Zaccharie/UHRes/singlecoil_test/'\n",
    "test_reco_path = '/media/Zaccharie/UHRes/singlecoil_test_reco/'\n",
    "test_filenames = glob.glob(test_path + '*')\n",
    "\n",
    "def from_test_file_to_mask_and_kspace(filename):\n",
    "    h5_obj = h5py.File(filename)\n",
    "    mask = h5_obj['mask'][()]\n",
    "    kspace = h5_obj['kspace'][()]\n",
    "    h5_obj.close()\n",
    "    return mask, kspace"
   ]
  },
  {
   "cell_type": "code",
   "execution_count": 8,
   "metadata": {},
   "outputs": [],
   "source": [
    "AF = 4"
   ]
  },
  {
   "cell_type": "code",
   "execution_count": 9,
   "metadata": {},
   "outputs": [],
   "source": [
    "nb_scales = 4\n",
    "wavelet_name = 'db4'\n",
    "    \n",
    "def reco_from_kspace(kspace, gradient_op, mu=1*1e-8, max_iter=10):\n",
    "    linear_op = WaveletDecimated(\n",
    "        nb_scale=nb_scales,\n",
    "        wavelet_name=wavelet_name,\n",
    "        padding='periodization',\n",
    "    )\n",
    "    \n",
    "    prox_op = LinearCompositionProx(\n",
    "        linear_op=linear_op,\n",
    "        prox_op=SparseThreshold(Identity(), None, thresh_type=\"soft\"),\n",
    "    )\n",
    "    gradient_op.obs_data = kspace\n",
    "    cost_op = None\n",
    "    x_final, _, _, _ = sparse_rec_fista(\n",
    "        gradient_op=gradient_op,\n",
    "        linear_op=Identity(),\n",
    "        prox_op=prox_op,\n",
    "        cost_op=cost_op,\n",
    "        xi_restart=0.96,\n",
    "        s_greedy=1.1,\n",
    "        mu=mu,\n",
    "        restart_strategy='greedy',\n",
    "        pov='analysis',\n",
    "        max_nb_of_iter=max_iter,\n",
    "        metrics=None,\n",
    "        metric_call_period=1,\n",
    "        verbose=0,\n",
    "        progress=False,\n",
    "    )\n",
    "#     x_final = gradient_op.fourier_op.adj_op(kspace)\n",
    "    x_final = np.abs(x_final)\n",
    "    x_final = crop_center(x_final, 320)\n",
    "    return x_final\n",
    "\n",
    "def reco_from_test_file(filename, **kwargs):\n",
    "    mask, kspaces = from_test_file_to_mask_and_kspace(filename)\n",
    "    # mask handling\n",
    "    fake_kspace = np.zeros_like(kspaces[0])\n",
    "    fourier_mask = np.repeat(mask.astype(np.float)[None, :], fake_kspace.shape[0], axis=0)\n",
    "    # op creation\n",
    "    fourier_op_masked = FFT2(mask=fourier_mask)\n",
    "    gradient_op = GradAnalysis2(\n",
    "        data=fake_kspace,\n",
    "        fourier_op=fourier_op_masked,\n",
    "    )\n",
    "    im_recos = np.array([reco_from_kspace(kspace * fourier_mask, gradient_op, **kwargs) for kspace in kspaces])\n",
    "    return im_recos\n",
    "\n",
    "def reco_from_val_file(filename, accel_factor=AF, **kwargs):\n",
    "    images, kspaces = from_val_file_to_image_and_kspace(filename)\n",
    "    # mask gen\n",
    "    fake_kspace = np.zeros_like(kspaces[0])\n",
    "    mask = gen_mask(fake_kspace, accel_factor=accel_factor)\n",
    "    fourier_mask = np.repeat(mask.astype(np.float), fake_kspace.shape[0], axis=0)\n",
    "    # op creation\n",
    "    fourier_op_masked = FFT2(mask=fourier_mask)\n",
    "    masked_kspace = fake_kspace * fourier_mask\n",
    "    gradient_op = GradAnalysis2(\n",
    "        data=masked_kspace,\n",
    "        fourier_op=fourier_op_masked,\n",
    "    )\n",
    "    im_recos = np.array([reco_from_kspace(kspace * fourier_mask, gradient_op, **kwargs) for kspace in kspaces[10:20]])\n",
    "    return im_recos, images[10:20]"
   ]
  },
  {
   "cell_type": "markdown",
   "metadata": {},
   "source": [
    "Mean of psnr: 27.655572112315\n",
    "Mean of ssim: 0.60\n",
    "\n",
    "For mu=5*1e-8,  4 scales, db4, 20 iterations in 1h43 mins\n",
    "\n",
    "Mean of psnr: 29.5\n",
    "Mean of ssim: 0.65\n",
    "\n",
    "For zero-filled"
   ]
  },
  {
   "cell_type": "code",
   "execution_count": 10,
   "metadata": {},
   "outputs": [],
   "source": [
    "def metrics_for_args(mu=1e-8, max_iter=20, file_prop=0.2):\n",
    "    metrics = Metrics(METRIC_FUNCS)\n",
    "    sample_val_filenames = random.sample(val_filenames, int(file_prop * len(val_filenames)))\n",
    "    pred_and_gt = Parallel(n_jobs=-1, backend='loky')(\n",
    "        delayed(reco_from_val_file)(val_file, mu=mu, max_iter=max_iter) \n",
    "        for val_file in tqdm_notebook(sample_val_filenames)\n",
    "    )\n",
    "    \n",
    "    for im_recos, images in tqdm_notebook(pred_and_gt, desc='Stats'):\n",
    "        metrics.push(images, im_recos)\n",
    "    return metrics"
   ]
  },
  {
   "cell_type": "markdown",
   "metadata": {},
   "source": [
    "For wavelet reco:\n",
    "- multiprocessing: 4'\n",
    "- loky: 4'\n",
    "- multithreading: 4'"
   ]
  },
  {
   "cell_type": "code",
   "execution_count": null,
   "metadata": {
    "code_folding": [],
    "scrolled": true
   },
   "outputs": [
    {
     "data": {
      "application/vnd.jupyter.widget-view+json": {
       "model_id": "f40d5b28f2fc4966beb9dbd64e2b56d5",
       "version_major": 2,
       "version_minor": 0
      },
      "text/plain": [
       "HBox(children=(IntProgress(value=0, max=10), HTML(value='')))"
      ]
     },
     "metadata": {},
     "output_type": "display_data"
    },
    {
     "name": "stdout",
     "output_type": "stream",
     "text": [
      "Testing 1e-06\n"
     ]
    },
    {
     "data": {
      "application/vnd.jupyter.widget-view+json": {
       "model_id": "0e11cb52b2db4893a4fa0b1cc6a32d74",
       "version_major": 2,
       "version_minor": 0
      },
      "text/plain": [
       "HBox(children=(IntProgress(value=0, max=39), HTML(value='')))"
      ]
     },
     "metadata": {},
     "output_type": "display_data"
    }
   ],
   "source": [
    "n_exp = 10\n",
    "mus = np.logspace(-6, -5, n_exp)\n",
    "# mus = [8*1e-8]\n",
    "metrics_list = []\n",
    "for mu in tqdm_notebook(mus):\n",
    "    print('Testing', mu)\n",
    "    metrics = metrics_for_args(mu=mu, max_iter=15, file_prop=0.2)\n",
    "    metrics_list.append(metrics)"
   ]
  },
  {
   "cell_type": "code",
   "execution_count": null,
   "metadata": {},
   "outputs": [],
   "source": [
    "plt.figure()\n",
    "plt.errorbar(\n",
    "    mus, \n",
    "    [metrics.metrics['PSNR'].mean() for metrics in metrics_list], \n",
    "    [metrics.metrics['PSNR'].stddev() for metrics in metrics_list],\n",
    "    linestyle='None', \n",
    "    marker='o',\n",
    ")\n",
    "plt.xscale('log')"
   ]
  },
  {
   "cell_type": "code",
   "execution_count": null,
   "metadata": {},
   "outputs": [],
   "source": [
    "plt.figure()\n",
    "plt.errorbar(\n",
    "    mus, \n",
    "    [metrics.metrics['SSIM'].mean() for metrics in metrics_list], \n",
    "    [metrics.metrics['SSIM'].stddev() for metrics in metrics_list],\n",
    "    linestyle='None', \n",
    "    marker='o',\n",
    ")\n",
    "plt.xscale('log')"
   ]
  },
  {
   "cell_type": "code",
   "execution_count": 23,
   "metadata": {
    "code_folding": [],
    "scrolled": true
   },
   "outputs": [
    {
     "data": {
      "application/vnd.jupyter.widget-view+json": {
       "model_id": "3c1d49c1533341059f1115124446c75a",
       "version_major": 2,
       "version_minor": 0
      },
      "text/plain": [
       "HBox(children=(IntProgress(value=0, max=20), HTML(value='')))"
      ]
     },
     "metadata": {},
     "output_type": "display_data"
    },
    {
     "name": "stdout",
     "output_type": "stream",
     "text": [
      "Testing 1e-09\n"
     ]
    },
    {
     "data": {
      "application/vnd.jupyter.widget-view+json": {
       "model_id": "0be96e55033e40c8a030a96d0537ec4b",
       "version_major": 2,
       "version_minor": 0
      },
      "text/plain": [
       "HBox(children=(IntProgress(value=0, max=39), HTML(value='')))"
      ]
     },
     "metadata": {},
     "output_type": "display_data"
    },
    {
     "data": {
      "application/vnd.jupyter.widget-view+json": {
       "model_id": "a954db6f4c6a4ccd9830f2a9c4b1fa9a",
       "version_major": 2,
       "version_minor": 0
      },
      "text/plain": [
       "HBox(children=(IntProgress(value=0, description='Stats', max=39, style=ProgressStyle(description_width='initia…"
      ]
     },
     "metadata": {},
     "output_type": "display_data"
    },
    {
     "name": "stdout",
     "output_type": "stream",
     "text": [
      "Testing 2.06913808111479e-09\n"
     ]
    },
    {
     "data": {
      "application/vnd.jupyter.widget-view+json": {
       "model_id": "26fb2887354e4ae7864fb468f4668597",
       "version_major": 2,
       "version_minor": 0
      },
      "text/plain": [
       "HBox(children=(IntProgress(value=0, max=39), HTML(value='')))"
      ]
     },
     "metadata": {},
     "output_type": "display_data"
    },
    {
     "data": {
      "application/vnd.jupyter.widget-view+json": {
       "model_id": "d136c617728744b6b4769115e41f4530",
       "version_major": 2,
       "version_minor": 0
      },
      "text/plain": [
       "HBox(children=(IntProgress(value=0, description='Stats', max=39, style=ProgressStyle(description_width='initia…"
      ]
     },
     "metadata": {},
     "output_type": "display_data"
    },
    {
     "name": "stdout",
     "output_type": "stream",
     "text": [
      "Testing 4.281332398719396e-09\n"
     ]
    },
    {
     "data": {
      "application/vnd.jupyter.widget-view+json": {
       "model_id": "e8d8830f56cf4a2aa0b74b114deaba87",
       "version_major": 2,
       "version_minor": 0
      },
      "text/plain": [
       "HBox(children=(IntProgress(value=0, max=39), HTML(value='')))"
      ]
     },
     "metadata": {},
     "output_type": "display_data"
    },
    {
     "data": {
      "application/vnd.jupyter.widget-view+json": {
       "model_id": "de5798d47da54580a47ccda3e98fc37c",
       "version_major": 2,
       "version_minor": 0
      },
      "text/plain": [
       "HBox(children=(IntProgress(value=0, description='Stats', max=39, style=ProgressStyle(description_width='initia…"
      ]
     },
     "metadata": {},
     "output_type": "display_data"
    },
    {
     "name": "stdout",
     "output_type": "stream",
     "text": [
      "Testing 8.858667904100832e-09\n"
     ]
    },
    {
     "data": {
      "application/vnd.jupyter.widget-view+json": {
       "model_id": "6f2264a35dd84c718adb83ed30419b10",
       "version_major": 2,
       "version_minor": 0
      },
      "text/plain": [
       "HBox(children=(IntProgress(value=0, max=39), HTML(value='')))"
      ]
     },
     "metadata": {},
     "output_type": "display_data"
    },
    {
     "data": {
      "application/vnd.jupyter.widget-view+json": {
       "model_id": "d399270bc41a48aba3e5952af1a21b48",
       "version_major": 2,
       "version_minor": 0
      },
      "text/plain": [
       "HBox(children=(IntProgress(value=0, description='Stats', max=39, style=ProgressStyle(description_width='initia…"
      ]
     },
     "metadata": {},
     "output_type": "display_data"
    },
    {
     "name": "stdout",
     "output_type": "stream",
     "text": [
      "Testing 1.8329807108324374e-08\n"
     ]
    },
    {
     "data": {
      "application/vnd.jupyter.widget-view+json": {
       "model_id": "b40d6aa90a74444ca8fdaca9e36b5bb8",
       "version_major": 2,
       "version_minor": 0
      },
      "text/plain": [
       "HBox(children=(IntProgress(value=0, max=39), HTML(value='')))"
      ]
     },
     "metadata": {},
     "output_type": "display_data"
    },
    {
     "data": {
      "application/vnd.jupyter.widget-view+json": {
       "model_id": "d914f3f7a39a4442bbd1302b1fbbf14f",
       "version_major": 2,
       "version_minor": 0
      },
      "text/plain": [
       "HBox(children=(IntProgress(value=0, description='Stats', max=39, style=ProgressStyle(description_width='initia…"
      ]
     },
     "metadata": {},
     "output_type": "display_data"
    },
    {
     "name": "stdout",
     "output_type": "stream",
     "text": [
      "Testing 3.792690190732254e-08\n"
     ]
    },
    {
     "data": {
      "application/vnd.jupyter.widget-view+json": {
       "model_id": "f40ced6cb7ad4330a4bb408e20250eb0",
       "version_major": 2,
       "version_minor": 0
      },
      "text/plain": [
       "HBox(children=(IntProgress(value=0, max=39), HTML(value='')))"
      ]
     },
     "metadata": {},
     "output_type": "display_data"
    },
    {
     "data": {
      "application/vnd.jupyter.widget-view+json": {
       "model_id": "0fe8ce0f6ce544e3a9f8512279a1d16c",
       "version_major": 2,
       "version_minor": 0
      },
      "text/plain": [
       "HBox(children=(IntProgress(value=0, description='Stats', max=39, style=ProgressStyle(description_width='initia…"
      ]
     },
     "metadata": {},
     "output_type": "display_data"
    },
    {
     "name": "stdout",
     "output_type": "stream",
     "text": [
      "Testing 7.847599703514607e-08\n"
     ]
    },
    {
     "data": {
      "application/vnd.jupyter.widget-view+json": {
       "model_id": "f4bf53cafab9419096666f071e7723ed",
       "version_major": 2,
       "version_minor": 0
      },
      "text/plain": [
       "HBox(children=(IntProgress(value=0, max=39), HTML(value='')))"
      ]
     },
     "metadata": {},
     "output_type": "display_data"
    },
    {
     "data": {
      "application/vnd.jupyter.widget-view+json": {
       "model_id": "11318d35e5014b9d9e01b2d510a3cbad",
       "version_major": 2,
       "version_minor": 0
      },
      "text/plain": [
       "HBox(children=(IntProgress(value=0, description='Stats', max=39, style=ProgressStyle(description_width='initia…"
      ]
     },
     "metadata": {},
     "output_type": "display_data"
    },
    {
     "name": "stdout",
     "output_type": "stream",
     "text": [
      "Testing 1.623776739188721e-07\n"
     ]
    },
    {
     "data": {
      "application/vnd.jupyter.widget-view+json": {
       "model_id": "7776e1efaefc4e28a9bf9bd318dceffb",
       "version_major": 2,
       "version_minor": 0
      },
      "text/plain": [
       "HBox(children=(IntProgress(value=0, max=39), HTML(value='')))"
      ]
     },
     "metadata": {},
     "output_type": "display_data"
    },
    {
     "data": {
      "application/vnd.jupyter.widget-view+json": {
       "model_id": "e2ecc67b8a9a4864bc7799970e9b5bc8",
       "version_major": 2,
       "version_minor": 0
      },
      "text/plain": [
       "HBox(children=(IntProgress(value=0, description='Stats', max=39, style=ProgressStyle(description_width='initia…"
      ]
     },
     "metadata": {},
     "output_type": "display_data"
    },
    {
     "name": "stdout",
     "output_type": "stream",
     "text": [
      "Testing 3.359818286283781e-07\n"
     ]
    },
    {
     "data": {
      "application/vnd.jupyter.widget-view+json": {
       "model_id": "c7479d2c3c57446193e374f2a1218e23",
       "version_major": 2,
       "version_minor": 0
      },
      "text/plain": [
       "HBox(children=(IntProgress(value=0, max=39), HTML(value='')))"
      ]
     },
     "metadata": {},
     "output_type": "display_data"
    },
    {
     "data": {
      "application/vnd.jupyter.widget-view+json": {
       "model_id": "559e30f9dc214ff9b076a7b47cf1457c",
       "version_major": 2,
       "version_minor": 0
      },
      "text/plain": [
       "HBox(children=(IntProgress(value=0, description='Stats', max=39, style=ProgressStyle(description_width='initia…"
      ]
     },
     "metadata": {},
     "output_type": "display_data"
    },
    {
     "name": "stdout",
     "output_type": "stream",
     "text": [
      "Testing 6.951927961775605e-07\n"
     ]
    },
    {
     "data": {
      "application/vnd.jupyter.widget-view+json": {
       "model_id": "ce81311d82e7419fa397e581f21cf315",
       "version_major": 2,
       "version_minor": 0
      },
      "text/plain": [
       "HBox(children=(IntProgress(value=0, max=39), HTML(value='')))"
      ]
     },
     "metadata": {},
     "output_type": "display_data"
    },
    {
     "data": {
      "application/vnd.jupyter.widget-view+json": {
       "model_id": "379a983558f949e681a2e0d1da8114c7",
       "version_major": 2,
       "version_minor": 0
      },
      "text/plain": [
       "HBox(children=(IntProgress(value=0, description='Stats', max=39, style=ProgressStyle(description_width='initia…"
      ]
     },
     "metadata": {},
     "output_type": "display_data"
    },
    {
     "name": "stdout",
     "output_type": "stream",
     "text": [
      "Testing 1.438449888287663e-06\n"
     ]
    },
    {
     "data": {
      "application/vnd.jupyter.widget-view+json": {
       "model_id": "5ed4f8e3c3fd4833a644c7df55781d85",
       "version_major": 2,
       "version_minor": 0
      },
      "text/plain": [
       "HBox(children=(IntProgress(value=0, max=39), HTML(value='')))"
      ]
     },
     "metadata": {},
     "output_type": "display_data"
    },
    {
     "data": {
      "application/vnd.jupyter.widget-view+json": {
       "model_id": "04d8216763664e6a9400209c6fc04f9d",
       "version_major": 2,
       "version_minor": 0
      },
      "text/plain": [
       "HBox(children=(IntProgress(value=0, description='Stats', max=39, style=ProgressStyle(description_width='initia…"
      ]
     },
     "metadata": {},
     "output_type": "display_data"
    },
    {
     "name": "stdout",
     "output_type": "stream",
     "text": [
      "Testing 2.976351441631313e-06\n"
     ]
    },
    {
     "data": {
      "application/vnd.jupyter.widget-view+json": {
       "model_id": "f1518fd421864ba9b18ac42d633af445",
       "version_major": 2,
       "version_minor": 0
      },
      "text/plain": [
       "HBox(children=(IntProgress(value=0, max=39), HTML(value='')))"
      ]
     },
     "metadata": {},
     "output_type": "display_data"
    },
    {
     "data": {
      "application/vnd.jupyter.widget-view+json": {
       "model_id": "6894b953309d48038c41452e9c990921",
       "version_major": 2,
       "version_minor": 0
      },
      "text/plain": [
       "HBox(children=(IntProgress(value=0, description='Stats', max=39, style=ProgressStyle(description_width='initia…"
      ]
     },
     "metadata": {},
     "output_type": "display_data"
    },
    {
     "name": "stdout",
     "output_type": "stream",
     "text": [
      "Testing 6.158482110660255e-06\n"
     ]
    },
    {
     "data": {
      "application/vnd.jupyter.widget-view+json": {
       "model_id": "e51538210e384a31ba073a8a856b9ad3",
       "version_major": 2,
       "version_minor": 0
      },
      "text/plain": [
       "HBox(children=(IntProgress(value=0, max=39), HTML(value='')))"
      ]
     },
     "metadata": {},
     "output_type": "display_data"
    },
    {
     "data": {
      "application/vnd.jupyter.widget-view+json": {
       "model_id": "ac5d7bb975e64fec89bf262d35e6de8b",
       "version_major": 2,
       "version_minor": 0
      },
      "text/plain": [
       "HBox(children=(IntProgress(value=0, description='Stats', max=39, style=ProgressStyle(description_width='initia…"
      ]
     },
     "metadata": {},
     "output_type": "display_data"
    },
    {
     "name": "stdout",
     "output_type": "stream",
     "text": [
      "Testing 1.274274985703132e-05\n"
     ]
    },
    {
     "data": {
      "application/vnd.jupyter.widget-view+json": {
       "model_id": "6c6b6b8ff2e245c9b92f6a80b06c79b6",
       "version_major": 2,
       "version_minor": 0
      },
      "text/plain": [
       "HBox(children=(IntProgress(value=0, max=39), HTML(value='')))"
      ]
     },
     "metadata": {},
     "output_type": "display_data"
    },
    {
     "data": {
      "application/vnd.jupyter.widget-view+json": {
       "model_id": "7018bdcb7d924e90b8e2befd92e05ed8",
       "version_major": 2,
       "version_minor": 0
      },
      "text/plain": [
       "HBox(children=(IntProgress(value=0, description='Stats', max=39, style=ProgressStyle(description_width='initia…"
      ]
     },
     "metadata": {},
     "output_type": "display_data"
    },
    {
     "name": "stdout",
     "output_type": "stream",
     "text": [
      "Testing 2.6366508987303556e-05\n"
     ]
    },
    {
     "data": {
      "application/vnd.jupyter.widget-view+json": {
       "model_id": "e2b7ed40a67c4b469a893e28fd637659",
       "version_major": 2,
       "version_minor": 0
      },
      "text/plain": [
       "HBox(children=(IntProgress(value=0, max=39), HTML(value='')))"
      ]
     },
     "metadata": {},
     "output_type": "display_data"
    },
    {
     "data": {
      "application/vnd.jupyter.widget-view+json": {
       "model_id": "c68fb764a22e499f9c793c7d4fda6280",
       "version_major": 2,
       "version_minor": 0
      },
      "text/plain": [
       "HBox(children=(IntProgress(value=0, description='Stats', max=39, style=ProgressStyle(description_width='initia…"
      ]
     },
     "metadata": {},
     "output_type": "display_data"
    },
    {
     "name": "stdout",
     "output_type": "stream",
     "text": [
      "Testing 5.4555947811685143e-05\n"
     ]
    },
    {
     "data": {
      "application/vnd.jupyter.widget-view+json": {
       "model_id": "292add420739424b96d06d49240ade5d",
       "version_major": 2,
       "version_minor": 0
      },
      "text/plain": [
       "HBox(children=(IntProgress(value=0, max=39), HTML(value='')))"
      ]
     },
     "metadata": {},
     "output_type": "display_data"
    },
    {
     "data": {
      "application/vnd.jupyter.widget-view+json": {
       "model_id": "fd5dc339a5ca457fa94515ebce1b3b88",
       "version_major": 2,
       "version_minor": 0
      },
      "text/plain": [
       "HBox(children=(IntProgress(value=0, description='Stats', max=39, style=ProgressStyle(description_width='initia…"
      ]
     },
     "metadata": {},
     "output_type": "display_data"
    },
    {
     "name": "stdout",
     "output_type": "stream",
     "text": [
      "Testing 0.00011288378916846884\n"
     ]
    },
    {
     "data": {
      "application/vnd.jupyter.widget-view+json": {
       "model_id": "fc4b03e62fbf4d58bd324423a14f3322",
       "version_major": 2,
       "version_minor": 0
      },
      "text/plain": [
       "HBox(children=(IntProgress(value=0, max=39), HTML(value='')))"
      ]
     },
     "metadata": {},
     "output_type": "display_data"
    },
    {
     "data": {
      "application/vnd.jupyter.widget-view+json": {
       "model_id": "4f6171c9de3245a6bf40b1daf0055de8",
       "version_major": 2,
       "version_minor": 0
      },
      "text/plain": [
       "HBox(children=(IntProgress(value=0, description='Stats', max=39, style=ProgressStyle(description_width='initia…"
      ]
     },
     "metadata": {},
     "output_type": "display_data"
    },
    {
     "name": "stdout",
     "output_type": "stream",
     "text": [
      "Testing 0.00023357214690901214\n"
     ]
    },
    {
     "data": {
      "application/vnd.jupyter.widget-view+json": {
       "model_id": "0376fd4766d3466381d32417da57770c",
       "version_major": 2,
       "version_minor": 0
      },
      "text/plain": [
       "HBox(children=(IntProgress(value=0, max=39), HTML(value='')))"
      ]
     },
     "metadata": {},
     "output_type": "display_data"
    },
    {
     "data": {
      "application/vnd.jupyter.widget-view+json": {
       "model_id": "147ea01e6e3d48299241e3609190e645",
       "version_major": 2,
       "version_minor": 0
      },
      "text/plain": [
       "HBox(children=(IntProgress(value=0, description='Stats', max=39, style=ProgressStyle(description_width='initia…"
      ]
     },
     "metadata": {},
     "output_type": "display_data"
    },
    {
     "name": "stdout",
     "output_type": "stream",
     "text": [
      "Testing 0.0004832930238571752\n"
     ]
    },
    {
     "data": {
      "application/vnd.jupyter.widget-view+json": {
       "model_id": "b168c4799dd44db09a7ce6f5fc7a554b",
       "version_major": 2,
       "version_minor": 0
      },
      "text/plain": [
       "HBox(children=(IntProgress(value=0, max=39), HTML(value='')))"
      ]
     },
     "metadata": {},
     "output_type": "display_data"
    },
    {
     "data": {
      "application/vnd.jupyter.widget-view+json": {
       "model_id": "5d82215fb1ad4746aec2fbb8294d2dd6",
       "version_major": 2,
       "version_minor": 0
      },
      "text/plain": [
       "HBox(children=(IntProgress(value=0, description='Stats', max=39, style=ProgressStyle(description_width='initia…"
      ]
     },
     "metadata": {},
     "output_type": "display_data"
    },
    {
     "name": "stdout",
     "output_type": "stream",
     "text": [
      "Testing 0.001\n"
     ]
    },
    {
     "data": {
      "application/vnd.jupyter.widget-view+json": {
       "model_id": "cf98b244ff764cb588c5a3621bbd5647",
       "version_major": 2,
       "version_minor": 0
      },
      "text/plain": [
       "HBox(children=(IntProgress(value=0, max=39), HTML(value='')))"
      ]
     },
     "metadata": {},
     "output_type": "display_data"
    },
    {
     "data": {
      "application/vnd.jupyter.widget-view+json": {
       "model_id": "dfb14f54dbd146359cf09a996c0e0516",
       "version_major": 2,
       "version_minor": 0
      },
      "text/plain": [
       "HBox(children=(IntProgress(value=0, description='Stats', max=39, style=ProgressStyle(description_width='initia…"
      ]
     },
     "metadata": {},
     "output_type": "display_data"
    },
    {
     "name": "stdout",
     "output_type": "stream",
     "text": [
      "\n"
     ]
    }
   ],
   "source": [
    "n_exp = 20\n",
    "mus = np.logspace(-9, -3, n_exp)\n",
    "# mus = [8*1e-8]\n",
    "metrics_list = []\n",
    "for mu in tqdm_notebook(mus):\n",
    "    print('Testing', mu)\n",
    "    metrics = metrics_for_args(mu=mu, max_iter=15, file_prop=0.2)\n",
    "    metrics_list.append(metrics)"
   ]
  },
  {
   "cell_type": "code",
   "execution_count": 24,
   "metadata": {},
   "outputs": [
    {
     "data": {
      "application/javascript": [
       "/* Put everything inside the global mpl namespace */\n",
       "window.mpl = {};\n",
       "\n",
       "\n",
       "mpl.get_websocket_type = function() {\n",
       "    if (typeof(WebSocket) !== 'undefined') {\n",
       "        return WebSocket;\n",
       "    } else if (typeof(MozWebSocket) !== 'undefined') {\n",
       "        return MozWebSocket;\n",
       "    } else {\n",
       "        alert('Your browser does not have WebSocket support. ' +\n",
       "              'Please try Chrome, Safari or Firefox ≥ 6. ' +\n",
       "              'Firefox 4 and 5 are also supported but you ' +\n",
       "              'have to enable WebSockets in about:config.');\n",
       "    };\n",
       "}\n",
       "\n",
       "mpl.figure = function(figure_id, websocket, ondownload, parent_element) {\n",
       "    this.id = figure_id;\n",
       "\n",
       "    this.ws = websocket;\n",
       "\n",
       "    this.supports_binary = (this.ws.binaryType != undefined);\n",
       "\n",
       "    if (!this.supports_binary) {\n",
       "        var warnings = document.getElementById(\"mpl-warnings\");\n",
       "        if (warnings) {\n",
       "            warnings.style.display = 'block';\n",
       "            warnings.textContent = (\n",
       "                \"This browser does not support binary websocket messages. \" +\n",
       "                    \"Performance may be slow.\");\n",
       "        }\n",
       "    }\n",
       "\n",
       "    this.imageObj = new Image();\n",
       "\n",
       "    this.context = undefined;\n",
       "    this.message = undefined;\n",
       "    this.canvas = undefined;\n",
       "    this.rubberband_canvas = undefined;\n",
       "    this.rubberband_context = undefined;\n",
       "    this.format_dropdown = undefined;\n",
       "\n",
       "    this.image_mode = 'full';\n",
       "\n",
       "    this.root = $('<div/>');\n",
       "    this._root_extra_style(this.root)\n",
       "    this.root.attr('style', 'display: inline-block');\n",
       "\n",
       "    $(parent_element).append(this.root);\n",
       "\n",
       "    this._init_header(this);\n",
       "    this._init_canvas(this);\n",
       "    this._init_toolbar(this);\n",
       "\n",
       "    var fig = this;\n",
       "\n",
       "    this.waiting = false;\n",
       "\n",
       "    this.ws.onopen =  function () {\n",
       "            fig.send_message(\"supports_binary\", {value: fig.supports_binary});\n",
       "            fig.send_message(\"send_image_mode\", {});\n",
       "            if (mpl.ratio != 1) {\n",
       "                fig.send_message(\"set_dpi_ratio\", {'dpi_ratio': mpl.ratio});\n",
       "            }\n",
       "            fig.send_message(\"refresh\", {});\n",
       "        }\n",
       "\n",
       "    this.imageObj.onload = function() {\n",
       "            if (fig.image_mode == 'full') {\n",
       "                // Full images could contain transparency (where diff images\n",
       "                // almost always do), so we need to clear the canvas so that\n",
       "                // there is no ghosting.\n",
       "                fig.context.clearRect(0, 0, fig.canvas.width, fig.canvas.height);\n",
       "            }\n",
       "            fig.context.drawImage(fig.imageObj, 0, 0);\n",
       "        };\n",
       "\n",
       "    this.imageObj.onunload = function() {\n",
       "        fig.ws.close();\n",
       "    }\n",
       "\n",
       "    this.ws.onmessage = this._make_on_message_function(this);\n",
       "\n",
       "    this.ondownload = ondownload;\n",
       "}\n",
       "\n",
       "mpl.figure.prototype._init_header = function() {\n",
       "    var titlebar = $(\n",
       "        '<div class=\"ui-dialog-titlebar ui-widget-header ui-corner-all ' +\n",
       "        'ui-helper-clearfix\"/>');\n",
       "    var titletext = $(\n",
       "        '<div class=\"ui-dialog-title\" style=\"width: 100%; ' +\n",
       "        'text-align: center; padding: 3px;\"/>');\n",
       "    titlebar.append(titletext)\n",
       "    this.root.append(titlebar);\n",
       "    this.header = titletext[0];\n",
       "}\n",
       "\n",
       "\n",
       "\n",
       "mpl.figure.prototype._canvas_extra_style = function(canvas_div) {\n",
       "\n",
       "}\n",
       "\n",
       "\n",
       "mpl.figure.prototype._root_extra_style = function(canvas_div) {\n",
       "\n",
       "}\n",
       "\n",
       "mpl.figure.prototype._init_canvas = function() {\n",
       "    var fig = this;\n",
       "\n",
       "    var canvas_div = $('<div/>');\n",
       "\n",
       "    canvas_div.attr('style', 'position: relative; clear: both; outline: 0');\n",
       "\n",
       "    function canvas_keyboard_event(event) {\n",
       "        return fig.key_event(event, event['data']);\n",
       "    }\n",
       "\n",
       "    canvas_div.keydown('key_press', canvas_keyboard_event);\n",
       "    canvas_div.keyup('key_release', canvas_keyboard_event);\n",
       "    this.canvas_div = canvas_div\n",
       "    this._canvas_extra_style(canvas_div)\n",
       "    this.root.append(canvas_div);\n",
       "\n",
       "    var canvas = $('<canvas/>');\n",
       "    canvas.addClass('mpl-canvas');\n",
       "    canvas.attr('style', \"left: 0; top: 0; z-index: 0; outline: 0\")\n",
       "\n",
       "    this.canvas = canvas[0];\n",
       "    this.context = canvas[0].getContext(\"2d\");\n",
       "\n",
       "    var backingStore = this.context.backingStorePixelRatio ||\n",
       "\tthis.context.webkitBackingStorePixelRatio ||\n",
       "\tthis.context.mozBackingStorePixelRatio ||\n",
       "\tthis.context.msBackingStorePixelRatio ||\n",
       "\tthis.context.oBackingStorePixelRatio ||\n",
       "\tthis.context.backingStorePixelRatio || 1;\n",
       "\n",
       "    mpl.ratio = (window.devicePixelRatio || 1) / backingStore;\n",
       "\n",
       "    var rubberband = $('<canvas/>');\n",
       "    rubberband.attr('style', \"position: absolute; left: 0; top: 0; z-index: 1;\")\n",
       "\n",
       "    var pass_mouse_events = true;\n",
       "\n",
       "    canvas_div.resizable({\n",
       "        start: function(event, ui) {\n",
       "            pass_mouse_events = false;\n",
       "        },\n",
       "        resize: function(event, ui) {\n",
       "            fig.request_resize(ui.size.width, ui.size.height);\n",
       "        },\n",
       "        stop: function(event, ui) {\n",
       "            pass_mouse_events = true;\n",
       "            fig.request_resize(ui.size.width, ui.size.height);\n",
       "        },\n",
       "    });\n",
       "\n",
       "    function mouse_event_fn(event) {\n",
       "        if (pass_mouse_events)\n",
       "            return fig.mouse_event(event, event['data']);\n",
       "    }\n",
       "\n",
       "    rubberband.mousedown('button_press', mouse_event_fn);\n",
       "    rubberband.mouseup('button_release', mouse_event_fn);\n",
       "    // Throttle sequential mouse events to 1 every 20ms.\n",
       "    rubberband.mousemove('motion_notify', mouse_event_fn);\n",
       "\n",
       "    rubberband.mouseenter('figure_enter', mouse_event_fn);\n",
       "    rubberband.mouseleave('figure_leave', mouse_event_fn);\n",
       "\n",
       "    canvas_div.on(\"wheel\", function (event) {\n",
       "        event = event.originalEvent;\n",
       "        event['data'] = 'scroll'\n",
       "        if (event.deltaY < 0) {\n",
       "            event.step = 1;\n",
       "        } else {\n",
       "            event.step = -1;\n",
       "        }\n",
       "        mouse_event_fn(event);\n",
       "    });\n",
       "\n",
       "    canvas_div.append(canvas);\n",
       "    canvas_div.append(rubberband);\n",
       "\n",
       "    this.rubberband = rubberband;\n",
       "    this.rubberband_canvas = rubberband[0];\n",
       "    this.rubberband_context = rubberband[0].getContext(\"2d\");\n",
       "    this.rubberband_context.strokeStyle = \"#000000\";\n",
       "\n",
       "    this._resize_canvas = function(width, height) {\n",
       "        // Keep the size of the canvas, canvas container, and rubber band\n",
       "        // canvas in synch.\n",
       "        canvas_div.css('width', width)\n",
       "        canvas_div.css('height', height)\n",
       "\n",
       "        canvas.attr('width', width * mpl.ratio);\n",
       "        canvas.attr('height', height * mpl.ratio);\n",
       "        canvas.attr('style', 'width: ' + width + 'px; height: ' + height + 'px;');\n",
       "\n",
       "        rubberband.attr('width', width);\n",
       "        rubberband.attr('height', height);\n",
       "    }\n",
       "\n",
       "    // Set the figure to an initial 600x600px, this will subsequently be updated\n",
       "    // upon first draw.\n",
       "    this._resize_canvas(600, 600);\n",
       "\n",
       "    // Disable right mouse context menu.\n",
       "    $(this.rubberband_canvas).bind(\"contextmenu\",function(e){\n",
       "        return false;\n",
       "    });\n",
       "\n",
       "    function set_focus () {\n",
       "        canvas.focus();\n",
       "        canvas_div.focus();\n",
       "    }\n",
       "\n",
       "    window.setTimeout(set_focus, 100);\n",
       "}\n",
       "\n",
       "mpl.figure.prototype._init_toolbar = function() {\n",
       "    var fig = this;\n",
       "\n",
       "    var nav_element = $('<div/>');\n",
       "    nav_element.attr('style', 'width: 100%');\n",
       "    this.root.append(nav_element);\n",
       "\n",
       "    // Define a callback function for later on.\n",
       "    function toolbar_event(event) {\n",
       "        return fig.toolbar_button_onclick(event['data']);\n",
       "    }\n",
       "    function toolbar_mouse_event(event) {\n",
       "        return fig.toolbar_button_onmouseover(event['data']);\n",
       "    }\n",
       "\n",
       "    for(var toolbar_ind in mpl.toolbar_items) {\n",
       "        var name = mpl.toolbar_items[toolbar_ind][0];\n",
       "        var tooltip = mpl.toolbar_items[toolbar_ind][1];\n",
       "        var image = mpl.toolbar_items[toolbar_ind][2];\n",
       "        var method_name = mpl.toolbar_items[toolbar_ind][3];\n",
       "\n",
       "        if (!name) {\n",
       "            // put a spacer in here.\n",
       "            continue;\n",
       "        }\n",
       "        var button = $('<button/>');\n",
       "        button.addClass('ui-button ui-widget ui-state-default ui-corner-all ' +\n",
       "                        'ui-button-icon-only');\n",
       "        button.attr('role', 'button');\n",
       "        button.attr('aria-disabled', 'false');\n",
       "        button.click(method_name, toolbar_event);\n",
       "        button.mouseover(tooltip, toolbar_mouse_event);\n",
       "\n",
       "        var icon_img = $('<span/>');\n",
       "        icon_img.addClass('ui-button-icon-primary ui-icon');\n",
       "        icon_img.addClass(image);\n",
       "        icon_img.addClass('ui-corner-all');\n",
       "\n",
       "        var tooltip_span = $('<span/>');\n",
       "        tooltip_span.addClass('ui-button-text');\n",
       "        tooltip_span.html(tooltip);\n",
       "\n",
       "        button.append(icon_img);\n",
       "        button.append(tooltip_span);\n",
       "\n",
       "        nav_element.append(button);\n",
       "    }\n",
       "\n",
       "    var fmt_picker_span = $('<span/>');\n",
       "\n",
       "    var fmt_picker = $('<select/>');\n",
       "    fmt_picker.addClass('mpl-toolbar-option ui-widget ui-widget-content');\n",
       "    fmt_picker_span.append(fmt_picker);\n",
       "    nav_element.append(fmt_picker_span);\n",
       "    this.format_dropdown = fmt_picker[0];\n",
       "\n",
       "    for (var ind in mpl.extensions) {\n",
       "        var fmt = mpl.extensions[ind];\n",
       "        var option = $(\n",
       "            '<option/>', {selected: fmt === mpl.default_extension}).html(fmt);\n",
       "        fmt_picker.append(option);\n",
       "    }\n",
       "\n",
       "    // Add hover states to the ui-buttons\n",
       "    $( \".ui-button\" ).hover(\n",
       "        function() { $(this).addClass(\"ui-state-hover\");},\n",
       "        function() { $(this).removeClass(\"ui-state-hover\");}\n",
       "    );\n",
       "\n",
       "    var status_bar = $('<span class=\"mpl-message\"/>');\n",
       "    nav_element.append(status_bar);\n",
       "    this.message = status_bar[0];\n",
       "}\n",
       "\n",
       "mpl.figure.prototype.request_resize = function(x_pixels, y_pixels) {\n",
       "    // Request matplotlib to resize the figure. Matplotlib will then trigger a resize in the client,\n",
       "    // which will in turn request a refresh of the image.\n",
       "    this.send_message('resize', {'width': x_pixels, 'height': y_pixels});\n",
       "}\n",
       "\n",
       "mpl.figure.prototype.send_message = function(type, properties) {\n",
       "    properties['type'] = type;\n",
       "    properties['figure_id'] = this.id;\n",
       "    this.ws.send(JSON.stringify(properties));\n",
       "}\n",
       "\n",
       "mpl.figure.prototype.send_draw_message = function() {\n",
       "    if (!this.waiting) {\n",
       "        this.waiting = true;\n",
       "        this.ws.send(JSON.stringify({type: \"draw\", figure_id: this.id}));\n",
       "    }\n",
       "}\n",
       "\n",
       "\n",
       "mpl.figure.prototype.handle_save = function(fig, msg) {\n",
       "    var format_dropdown = fig.format_dropdown;\n",
       "    var format = format_dropdown.options[format_dropdown.selectedIndex].value;\n",
       "    fig.ondownload(fig, format);\n",
       "}\n",
       "\n",
       "\n",
       "mpl.figure.prototype.handle_resize = function(fig, msg) {\n",
       "    var size = msg['size'];\n",
       "    if (size[0] != fig.canvas.width || size[1] != fig.canvas.height) {\n",
       "        fig._resize_canvas(size[0], size[1]);\n",
       "        fig.send_message(\"refresh\", {});\n",
       "    };\n",
       "}\n",
       "\n",
       "mpl.figure.prototype.handle_rubberband = function(fig, msg) {\n",
       "    var x0 = msg['x0'] / mpl.ratio;\n",
       "    var y0 = (fig.canvas.height - msg['y0']) / mpl.ratio;\n",
       "    var x1 = msg['x1'] / mpl.ratio;\n",
       "    var y1 = (fig.canvas.height - msg['y1']) / mpl.ratio;\n",
       "    x0 = Math.floor(x0) + 0.5;\n",
       "    y0 = Math.floor(y0) + 0.5;\n",
       "    x1 = Math.floor(x1) + 0.5;\n",
       "    y1 = Math.floor(y1) + 0.5;\n",
       "    var min_x = Math.min(x0, x1);\n",
       "    var min_y = Math.min(y0, y1);\n",
       "    var width = Math.abs(x1 - x0);\n",
       "    var height = Math.abs(y1 - y0);\n",
       "\n",
       "    fig.rubberband_context.clearRect(\n",
       "        0, 0, fig.canvas.width, fig.canvas.height);\n",
       "\n",
       "    fig.rubberband_context.strokeRect(min_x, min_y, width, height);\n",
       "}\n",
       "\n",
       "mpl.figure.prototype.handle_figure_label = function(fig, msg) {\n",
       "    // Updates the figure title.\n",
       "    fig.header.textContent = msg['label'];\n",
       "}\n",
       "\n",
       "mpl.figure.prototype.handle_cursor = function(fig, msg) {\n",
       "    var cursor = msg['cursor'];\n",
       "    switch(cursor)\n",
       "    {\n",
       "    case 0:\n",
       "        cursor = 'pointer';\n",
       "        break;\n",
       "    case 1:\n",
       "        cursor = 'default';\n",
       "        break;\n",
       "    case 2:\n",
       "        cursor = 'crosshair';\n",
       "        break;\n",
       "    case 3:\n",
       "        cursor = 'move';\n",
       "        break;\n",
       "    }\n",
       "    fig.rubberband_canvas.style.cursor = cursor;\n",
       "}\n",
       "\n",
       "mpl.figure.prototype.handle_message = function(fig, msg) {\n",
       "    fig.message.textContent = msg['message'];\n",
       "}\n",
       "\n",
       "mpl.figure.prototype.handle_draw = function(fig, msg) {\n",
       "    // Request the server to send over a new figure.\n",
       "    fig.send_draw_message();\n",
       "}\n",
       "\n",
       "mpl.figure.prototype.handle_image_mode = function(fig, msg) {\n",
       "    fig.image_mode = msg['mode'];\n",
       "}\n",
       "\n",
       "mpl.figure.prototype.updated_canvas_event = function() {\n",
       "    // Called whenever the canvas gets updated.\n",
       "    this.send_message(\"ack\", {});\n",
       "}\n",
       "\n",
       "// A function to construct a web socket function for onmessage handling.\n",
       "// Called in the figure constructor.\n",
       "mpl.figure.prototype._make_on_message_function = function(fig) {\n",
       "    return function socket_on_message(evt) {\n",
       "        if (evt.data instanceof Blob) {\n",
       "            /* FIXME: We get \"Resource interpreted as Image but\n",
       "             * transferred with MIME type text/plain:\" errors on\n",
       "             * Chrome.  But how to set the MIME type?  It doesn't seem\n",
       "             * to be part of the websocket stream */\n",
       "            evt.data.type = \"image/png\";\n",
       "\n",
       "            /* Free the memory for the previous frames */\n",
       "            if (fig.imageObj.src) {\n",
       "                (window.URL || window.webkitURL).revokeObjectURL(\n",
       "                    fig.imageObj.src);\n",
       "            }\n",
       "\n",
       "            fig.imageObj.src = (window.URL || window.webkitURL).createObjectURL(\n",
       "                evt.data);\n",
       "            fig.updated_canvas_event();\n",
       "            fig.waiting = false;\n",
       "            return;\n",
       "        }\n",
       "        else if (typeof evt.data === 'string' && evt.data.slice(0, 21) == \"data:image/png;base64\") {\n",
       "            fig.imageObj.src = evt.data;\n",
       "            fig.updated_canvas_event();\n",
       "            fig.waiting = false;\n",
       "            return;\n",
       "        }\n",
       "\n",
       "        var msg = JSON.parse(evt.data);\n",
       "        var msg_type = msg['type'];\n",
       "\n",
       "        // Call the  \"handle_{type}\" callback, which takes\n",
       "        // the figure and JSON message as its only arguments.\n",
       "        try {\n",
       "            var callback = fig[\"handle_\" + msg_type];\n",
       "        } catch (e) {\n",
       "            console.log(\"No handler for the '\" + msg_type + \"' message type: \", msg);\n",
       "            return;\n",
       "        }\n",
       "\n",
       "        if (callback) {\n",
       "            try {\n",
       "                // console.log(\"Handling '\" + msg_type + \"' message: \", msg);\n",
       "                callback(fig, msg);\n",
       "            } catch (e) {\n",
       "                console.log(\"Exception inside the 'handler_\" + msg_type + \"' callback:\", e, e.stack, msg);\n",
       "            }\n",
       "        }\n",
       "    };\n",
       "}\n",
       "\n",
       "// from http://stackoverflow.com/questions/1114465/getting-mouse-location-in-canvas\n",
       "mpl.findpos = function(e) {\n",
       "    //this section is from http://www.quirksmode.org/js/events_properties.html\n",
       "    var targ;\n",
       "    if (!e)\n",
       "        e = window.event;\n",
       "    if (e.target)\n",
       "        targ = e.target;\n",
       "    else if (e.srcElement)\n",
       "        targ = e.srcElement;\n",
       "    if (targ.nodeType == 3) // defeat Safari bug\n",
       "        targ = targ.parentNode;\n",
       "\n",
       "    // jQuery normalizes the pageX and pageY\n",
       "    // pageX,Y are the mouse positions relative to the document\n",
       "    // offset() returns the position of the element relative to the document\n",
       "    var x = e.pageX - $(targ).offset().left;\n",
       "    var y = e.pageY - $(targ).offset().top;\n",
       "\n",
       "    return {\"x\": x, \"y\": y};\n",
       "};\n",
       "\n",
       "/*\n",
       " * return a copy of an object with only non-object keys\n",
       " * we need this to avoid circular references\n",
       " * http://stackoverflow.com/a/24161582/3208463\n",
       " */\n",
       "function simpleKeys (original) {\n",
       "  return Object.keys(original).reduce(function (obj, key) {\n",
       "    if (typeof original[key] !== 'object')\n",
       "        obj[key] = original[key]\n",
       "    return obj;\n",
       "  }, {});\n",
       "}\n",
       "\n",
       "mpl.figure.prototype.mouse_event = function(event, name) {\n",
       "    var canvas_pos = mpl.findpos(event)\n",
       "\n",
       "    if (name === 'button_press')\n",
       "    {\n",
       "        this.canvas.focus();\n",
       "        this.canvas_div.focus();\n",
       "    }\n",
       "\n",
       "    var x = canvas_pos.x * mpl.ratio;\n",
       "    var y = canvas_pos.y * mpl.ratio;\n",
       "\n",
       "    this.send_message(name, {x: x, y: y, button: event.button,\n",
       "                             step: event.step,\n",
       "                             guiEvent: simpleKeys(event)});\n",
       "\n",
       "    /* This prevents the web browser from automatically changing to\n",
       "     * the text insertion cursor when the button is pressed.  We want\n",
       "     * to control all of the cursor setting manually through the\n",
       "     * 'cursor' event from matplotlib */\n",
       "    event.preventDefault();\n",
       "    return false;\n",
       "}\n",
       "\n",
       "mpl.figure.prototype._key_event_extra = function(event, name) {\n",
       "    // Handle any extra behaviour associated with a key event\n",
       "}\n",
       "\n",
       "mpl.figure.prototype.key_event = function(event, name) {\n",
       "\n",
       "    // Prevent repeat events\n",
       "    if (name == 'key_press')\n",
       "    {\n",
       "        if (event.which === this._key)\n",
       "            return;\n",
       "        else\n",
       "            this._key = event.which;\n",
       "    }\n",
       "    if (name == 'key_release')\n",
       "        this._key = null;\n",
       "\n",
       "    var value = '';\n",
       "    if (event.ctrlKey && event.which != 17)\n",
       "        value += \"ctrl+\";\n",
       "    if (event.altKey && event.which != 18)\n",
       "        value += \"alt+\";\n",
       "    if (event.shiftKey && event.which != 16)\n",
       "        value += \"shift+\";\n",
       "\n",
       "    value += 'k';\n",
       "    value += event.which.toString();\n",
       "\n",
       "    this._key_event_extra(event, name);\n",
       "\n",
       "    this.send_message(name, {key: value,\n",
       "                             guiEvent: simpleKeys(event)});\n",
       "    return false;\n",
       "}\n",
       "\n",
       "mpl.figure.prototype.toolbar_button_onclick = function(name) {\n",
       "    if (name == 'download') {\n",
       "        this.handle_save(this, null);\n",
       "    } else {\n",
       "        this.send_message(\"toolbar_button\", {name: name});\n",
       "    }\n",
       "};\n",
       "\n",
       "mpl.figure.prototype.toolbar_button_onmouseover = function(tooltip) {\n",
       "    this.message.textContent = tooltip;\n",
       "};\n",
       "mpl.toolbar_items = [[\"Home\", \"Reset original view\", \"fa fa-home icon-home\", \"home\"], [\"Back\", \"Back to previous view\", \"fa fa-arrow-left icon-arrow-left\", \"back\"], [\"Forward\", \"Forward to next view\", \"fa fa-arrow-right icon-arrow-right\", \"forward\"], [\"\", \"\", \"\", \"\"], [\"Pan\", \"Pan axes with left mouse, zoom with right\", \"fa fa-arrows icon-move\", \"pan\"], [\"Zoom\", \"Zoom to rectangle\", \"fa fa-square-o icon-check-empty\", \"zoom\"], [\"\", \"\", \"\", \"\"], [\"Download\", \"Download plot\", \"fa fa-floppy-o icon-save\", \"download\"]];\n",
       "\n",
       "mpl.extensions = [\"eps\", \"jpeg\", \"pdf\", \"png\", \"ps\", \"raw\", \"svg\", \"tif\"];\n",
       "\n",
       "mpl.default_extension = \"png\";var comm_websocket_adapter = function(comm) {\n",
       "    // Create a \"websocket\"-like object which calls the given IPython comm\n",
       "    // object with the appropriate methods. Currently this is a non binary\n",
       "    // socket, so there is still some room for performance tuning.\n",
       "    var ws = {};\n",
       "\n",
       "    ws.close = function() {\n",
       "        comm.close()\n",
       "    };\n",
       "    ws.send = function(m) {\n",
       "        //console.log('sending', m);\n",
       "        comm.send(m);\n",
       "    };\n",
       "    // Register the callback with on_msg.\n",
       "    comm.on_msg(function(msg) {\n",
       "        //console.log('receiving', msg['content']['data'], msg);\n",
       "        // Pass the mpl event to the overridden (by mpl) onmessage function.\n",
       "        ws.onmessage(msg['content']['data'])\n",
       "    });\n",
       "    return ws;\n",
       "}\n",
       "\n",
       "mpl.mpl_figure_comm = function(comm, msg) {\n",
       "    // This is the function which gets called when the mpl process\n",
       "    // starts-up an IPython Comm through the \"matplotlib\" channel.\n",
       "\n",
       "    var id = msg.content.data.id;\n",
       "    // Get hold of the div created by the display call when the Comm\n",
       "    // socket was opened in Python.\n",
       "    var element = $(\"#\" + id);\n",
       "    var ws_proxy = comm_websocket_adapter(comm)\n",
       "\n",
       "    function ondownload(figure, format) {\n",
       "        window.open(figure.imageObj.src);\n",
       "    }\n",
       "\n",
       "    var fig = new mpl.figure(id, ws_proxy,\n",
       "                           ondownload,\n",
       "                           element.get(0));\n",
       "\n",
       "    // Call onopen now - mpl needs it, as it is assuming we've passed it a real\n",
       "    // web socket which is closed, not our websocket->open comm proxy.\n",
       "    ws_proxy.onopen();\n",
       "\n",
       "    fig.parent_element = element.get(0);\n",
       "    fig.cell_info = mpl.find_output_cell(\"<div id='\" + id + \"'></div>\");\n",
       "    if (!fig.cell_info) {\n",
       "        console.error(\"Failed to find cell for figure\", id, fig);\n",
       "        return;\n",
       "    }\n",
       "\n",
       "    var output_index = fig.cell_info[2]\n",
       "    var cell = fig.cell_info[0];\n",
       "\n",
       "};\n",
       "\n",
       "mpl.figure.prototype.handle_close = function(fig, msg) {\n",
       "    var width = fig.canvas.width/mpl.ratio\n",
       "    fig.root.unbind('remove')\n",
       "\n",
       "    // Update the output cell to use the data from the current canvas.\n",
       "    fig.push_to_output();\n",
       "    var dataURL = fig.canvas.toDataURL();\n",
       "    // Re-enable the keyboard manager in IPython - without this line, in FF,\n",
       "    // the notebook keyboard shortcuts fail.\n",
       "    IPython.keyboard_manager.enable()\n",
       "    $(fig.parent_element).html('<img src=\"' + dataURL + '\" width=\"' + width + '\">');\n",
       "    fig.close_ws(fig, msg);\n",
       "}\n",
       "\n",
       "mpl.figure.prototype.close_ws = function(fig, msg){\n",
       "    fig.send_message('closing', msg);\n",
       "    // fig.ws.close()\n",
       "}\n",
       "\n",
       "mpl.figure.prototype.push_to_output = function(remove_interactive) {\n",
       "    // Turn the data on the canvas into data in the output cell.\n",
       "    var width = this.canvas.width/mpl.ratio\n",
       "    var dataURL = this.canvas.toDataURL();\n",
       "    this.cell_info[1]['text/html'] = '<img src=\"' + dataURL + '\" width=\"' + width + '\">';\n",
       "}\n",
       "\n",
       "mpl.figure.prototype.updated_canvas_event = function() {\n",
       "    // Tell IPython that the notebook contents must change.\n",
       "    IPython.notebook.set_dirty(true);\n",
       "    this.send_message(\"ack\", {});\n",
       "    var fig = this;\n",
       "    // Wait a second, then push the new image to the DOM so\n",
       "    // that it is saved nicely (might be nice to debounce this).\n",
       "    setTimeout(function () { fig.push_to_output() }, 1000);\n",
       "}\n",
       "\n",
       "mpl.figure.prototype._init_toolbar = function() {\n",
       "    var fig = this;\n",
       "\n",
       "    var nav_element = $('<div/>');\n",
       "    nav_element.attr('style', 'width: 100%');\n",
       "    this.root.append(nav_element);\n",
       "\n",
       "    // Define a callback function for later on.\n",
       "    function toolbar_event(event) {\n",
       "        return fig.toolbar_button_onclick(event['data']);\n",
       "    }\n",
       "    function toolbar_mouse_event(event) {\n",
       "        return fig.toolbar_button_onmouseover(event['data']);\n",
       "    }\n",
       "\n",
       "    for(var toolbar_ind in mpl.toolbar_items){\n",
       "        var name = mpl.toolbar_items[toolbar_ind][0];\n",
       "        var tooltip = mpl.toolbar_items[toolbar_ind][1];\n",
       "        var image = mpl.toolbar_items[toolbar_ind][2];\n",
       "        var method_name = mpl.toolbar_items[toolbar_ind][3];\n",
       "\n",
       "        if (!name) { continue; };\n",
       "\n",
       "        var button = $('<button class=\"btn btn-default\" href=\"#\" title=\"' + name + '\"><i class=\"fa ' + image + ' fa-lg\"></i></button>');\n",
       "        button.click(method_name, toolbar_event);\n",
       "        button.mouseover(tooltip, toolbar_mouse_event);\n",
       "        nav_element.append(button);\n",
       "    }\n",
       "\n",
       "    // Add the status bar.\n",
       "    var status_bar = $('<span class=\"mpl-message\" style=\"text-align:right; float: right;\"/>');\n",
       "    nav_element.append(status_bar);\n",
       "    this.message = status_bar[0];\n",
       "\n",
       "    // Add the close button to the window.\n",
       "    var buttongrp = $('<div class=\"btn-group inline pull-right\"></div>');\n",
       "    var button = $('<button class=\"btn btn-mini btn-primary\" href=\"#\" title=\"Stop Interaction\"><i class=\"fa fa-power-off icon-remove icon-large\"></i></button>');\n",
       "    button.click(function (evt) { fig.handle_close(fig, {}); } );\n",
       "    button.mouseover('Stop Interaction', toolbar_mouse_event);\n",
       "    buttongrp.append(button);\n",
       "    var titlebar = this.root.find($('.ui-dialog-titlebar'));\n",
       "    titlebar.prepend(buttongrp);\n",
       "}\n",
       "\n",
       "mpl.figure.prototype._root_extra_style = function(el){\n",
       "    var fig = this\n",
       "    el.on(\"remove\", function(){\n",
       "\tfig.close_ws(fig, {});\n",
       "    });\n",
       "}\n",
       "\n",
       "mpl.figure.prototype._canvas_extra_style = function(el){\n",
       "    // this is important to make the div 'focusable\n",
       "    el.attr('tabindex', 0)\n",
       "    // reach out to IPython and tell the keyboard manager to turn it's self\n",
       "    // off when our div gets focus\n",
       "\n",
       "    // location in version 3\n",
       "    if (IPython.notebook.keyboard_manager) {\n",
       "        IPython.notebook.keyboard_manager.register_events(el);\n",
       "    }\n",
       "    else {\n",
       "        // location in version 2\n",
       "        IPython.keyboard_manager.register_events(el);\n",
       "    }\n",
       "\n",
       "}\n",
       "\n",
       "mpl.figure.prototype._key_event_extra = function(event, name) {\n",
       "    var manager = IPython.notebook.keyboard_manager;\n",
       "    if (!manager)\n",
       "        manager = IPython.keyboard_manager;\n",
       "\n",
       "    // Check for shift+enter\n",
       "    if (event.shiftKey && event.which == 13) {\n",
       "        this.canvas_div.blur();\n",
       "        event.shiftKey = false;\n",
       "        // Send a \"J\" for go to next cell\n",
       "        event.which = 74;\n",
       "        event.keyCode = 74;\n",
       "        manager.command_mode();\n",
       "        manager.handle_keydown(event);\n",
       "    }\n",
       "}\n",
       "\n",
       "mpl.figure.prototype.handle_save = function(fig, msg) {\n",
       "    fig.ondownload(fig, null);\n",
       "}\n",
       "\n",
       "\n",
       "mpl.find_output_cell = function(html_output) {\n",
       "    // Return the cell and output element which can be found *uniquely* in the notebook.\n",
       "    // Note - this is a bit hacky, but it is done because the \"notebook_saving.Notebook\"\n",
       "    // IPython event is triggered only after the cells have been serialised, which for\n",
       "    // our purposes (turning an active figure into a static one), is too late.\n",
       "    var cells = IPython.notebook.get_cells();\n",
       "    var ncells = cells.length;\n",
       "    for (var i=0; i<ncells; i++) {\n",
       "        var cell = cells[i];\n",
       "        if (cell.cell_type === 'code'){\n",
       "            for (var j=0; j<cell.output_area.outputs.length; j++) {\n",
       "                var data = cell.output_area.outputs[j];\n",
       "                if (data.data) {\n",
       "                    // IPython >= 3 moved mimebundle to data attribute of output\n",
       "                    data = data.data;\n",
       "                }\n",
       "                if (data['text/html'] == html_output) {\n",
       "                    return [cell, data, j];\n",
       "                }\n",
       "            }\n",
       "        }\n",
       "    }\n",
       "}\n",
       "\n",
       "// Register the function which deals with the matplotlib target/channel.\n",
       "// The kernel may be null if the page has been refreshed.\n",
       "if (IPython.notebook.kernel != null) {\n",
       "    IPython.notebook.kernel.comm_manager.register_target('matplotlib', mpl.mpl_figure_comm);\n",
       "}\n"
      ],
      "text/plain": [
       "<IPython.core.display.Javascript object>"
      ]
     },
     "metadata": {},
     "output_type": "display_data"
    },
    {
     "data": {
      "text/html": [
       "<img src=\"data:image/png;base64,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\" width=\"900\">"
      ],
      "text/plain": [
       "<IPython.core.display.HTML object>"
      ]
     },
     "metadata": {},
     "output_type": "display_data"
    }
   ],
   "source": [
    "plt.figure()\n",
    "plt.errorbar(\n",
    "    mus, \n",
    "    [metrics.metrics['PSNR'].mean() for metrics in metrics_list], \n",
    "    [metrics.metrics['PSNR'].stddev() for metrics in metrics_list],\n",
    "    linestyle='None', \n",
    "    marker='o',\n",
    ")\n",
    "plt.xscale('log')"
   ]
  },
  {
   "cell_type": "code",
   "execution_count": 25,
   "metadata": {},
   "outputs": [
    {
     "data": {
      "application/javascript": [
       "/* Put everything inside the global mpl namespace */\n",
       "window.mpl = {};\n",
       "\n",
       "\n",
       "mpl.get_websocket_type = function() {\n",
       "    if (typeof(WebSocket) !== 'undefined') {\n",
       "        return WebSocket;\n",
       "    } else if (typeof(MozWebSocket) !== 'undefined') {\n",
       "        return MozWebSocket;\n",
       "    } else {\n",
       "        alert('Your browser does not have WebSocket support. ' +\n",
       "              'Please try Chrome, Safari or Firefox ≥ 6. ' +\n",
       "              'Firefox 4 and 5 are also supported but you ' +\n",
       "              'have to enable WebSockets in about:config.');\n",
       "    };\n",
       "}\n",
       "\n",
       "mpl.figure = function(figure_id, websocket, ondownload, parent_element) {\n",
       "    this.id = figure_id;\n",
       "\n",
       "    this.ws = websocket;\n",
       "\n",
       "    this.supports_binary = (this.ws.binaryType != undefined);\n",
       "\n",
       "    if (!this.supports_binary) {\n",
       "        var warnings = document.getElementById(\"mpl-warnings\");\n",
       "        if (warnings) {\n",
       "            warnings.style.display = 'block';\n",
       "            warnings.textContent = (\n",
       "                \"This browser does not support binary websocket messages. \" +\n",
       "                    \"Performance may be slow.\");\n",
       "        }\n",
       "    }\n",
       "\n",
       "    this.imageObj = new Image();\n",
       "\n",
       "    this.context = undefined;\n",
       "    this.message = undefined;\n",
       "    this.canvas = undefined;\n",
       "    this.rubberband_canvas = undefined;\n",
       "    this.rubberband_context = undefined;\n",
       "    this.format_dropdown = undefined;\n",
       "\n",
       "    this.image_mode = 'full';\n",
       "\n",
       "    this.root = $('<div/>');\n",
       "    this._root_extra_style(this.root)\n",
       "    this.root.attr('style', 'display: inline-block');\n",
       "\n",
       "    $(parent_element).append(this.root);\n",
       "\n",
       "    this._init_header(this);\n",
       "    this._init_canvas(this);\n",
       "    this._init_toolbar(this);\n",
       "\n",
       "    var fig = this;\n",
       "\n",
       "    this.waiting = false;\n",
       "\n",
       "    this.ws.onopen =  function () {\n",
       "            fig.send_message(\"supports_binary\", {value: fig.supports_binary});\n",
       "            fig.send_message(\"send_image_mode\", {});\n",
       "            if (mpl.ratio != 1) {\n",
       "                fig.send_message(\"set_dpi_ratio\", {'dpi_ratio': mpl.ratio});\n",
       "            }\n",
       "            fig.send_message(\"refresh\", {});\n",
       "        }\n",
       "\n",
       "    this.imageObj.onload = function() {\n",
       "            if (fig.image_mode == 'full') {\n",
       "                // Full images could contain transparency (where diff images\n",
       "                // almost always do), so we need to clear the canvas so that\n",
       "                // there is no ghosting.\n",
       "                fig.context.clearRect(0, 0, fig.canvas.width, fig.canvas.height);\n",
       "            }\n",
       "            fig.context.drawImage(fig.imageObj, 0, 0);\n",
       "        };\n",
       "\n",
       "    this.imageObj.onunload = function() {\n",
       "        fig.ws.close();\n",
       "    }\n",
       "\n",
       "    this.ws.onmessage = this._make_on_message_function(this);\n",
       "\n",
       "    this.ondownload = ondownload;\n",
       "}\n",
       "\n",
       "mpl.figure.prototype._init_header = function() {\n",
       "    var titlebar = $(\n",
       "        '<div class=\"ui-dialog-titlebar ui-widget-header ui-corner-all ' +\n",
       "        'ui-helper-clearfix\"/>');\n",
       "    var titletext = $(\n",
       "        '<div class=\"ui-dialog-title\" style=\"width: 100%; ' +\n",
       "        'text-align: center; padding: 3px;\"/>');\n",
       "    titlebar.append(titletext)\n",
       "    this.root.append(titlebar);\n",
       "    this.header = titletext[0];\n",
       "}\n",
       "\n",
       "\n",
       "\n",
       "mpl.figure.prototype._canvas_extra_style = function(canvas_div) {\n",
       "\n",
       "}\n",
       "\n",
       "\n",
       "mpl.figure.prototype._root_extra_style = function(canvas_div) {\n",
       "\n",
       "}\n",
       "\n",
       "mpl.figure.prototype._init_canvas = function() {\n",
       "    var fig = this;\n",
       "\n",
       "    var canvas_div = $('<div/>');\n",
       "\n",
       "    canvas_div.attr('style', 'position: relative; clear: both; outline: 0');\n",
       "\n",
       "    function canvas_keyboard_event(event) {\n",
       "        return fig.key_event(event, event['data']);\n",
       "    }\n",
       "\n",
       "    canvas_div.keydown('key_press', canvas_keyboard_event);\n",
       "    canvas_div.keyup('key_release', canvas_keyboard_event);\n",
       "    this.canvas_div = canvas_div\n",
       "    this._canvas_extra_style(canvas_div)\n",
       "    this.root.append(canvas_div);\n",
       "\n",
       "    var canvas = $('<canvas/>');\n",
       "    canvas.addClass('mpl-canvas');\n",
       "    canvas.attr('style', \"left: 0; top: 0; z-index: 0; outline: 0\")\n",
       "\n",
       "    this.canvas = canvas[0];\n",
       "    this.context = canvas[0].getContext(\"2d\");\n",
       "\n",
       "    var backingStore = this.context.backingStorePixelRatio ||\n",
       "\tthis.context.webkitBackingStorePixelRatio ||\n",
       "\tthis.context.mozBackingStorePixelRatio ||\n",
       "\tthis.context.msBackingStorePixelRatio ||\n",
       "\tthis.context.oBackingStorePixelRatio ||\n",
       "\tthis.context.backingStorePixelRatio || 1;\n",
       "\n",
       "    mpl.ratio = (window.devicePixelRatio || 1) / backingStore;\n",
       "\n",
       "    var rubberband = $('<canvas/>');\n",
       "    rubberband.attr('style', \"position: absolute; left: 0; top: 0; z-index: 1;\")\n",
       "\n",
       "    var pass_mouse_events = true;\n",
       "\n",
       "    canvas_div.resizable({\n",
       "        start: function(event, ui) {\n",
       "            pass_mouse_events = false;\n",
       "        },\n",
       "        resize: function(event, ui) {\n",
       "            fig.request_resize(ui.size.width, ui.size.height);\n",
       "        },\n",
       "        stop: function(event, ui) {\n",
       "            pass_mouse_events = true;\n",
       "            fig.request_resize(ui.size.width, ui.size.height);\n",
       "        },\n",
       "    });\n",
       "\n",
       "    function mouse_event_fn(event) {\n",
       "        if (pass_mouse_events)\n",
       "            return fig.mouse_event(event, event['data']);\n",
       "    }\n",
       "\n",
       "    rubberband.mousedown('button_press', mouse_event_fn);\n",
       "    rubberband.mouseup('button_release', mouse_event_fn);\n",
       "    // Throttle sequential mouse events to 1 every 20ms.\n",
       "    rubberband.mousemove('motion_notify', mouse_event_fn);\n",
       "\n",
       "    rubberband.mouseenter('figure_enter', mouse_event_fn);\n",
       "    rubberband.mouseleave('figure_leave', mouse_event_fn);\n",
       "\n",
       "    canvas_div.on(\"wheel\", function (event) {\n",
       "        event = event.originalEvent;\n",
       "        event['data'] = 'scroll'\n",
       "        if (event.deltaY < 0) {\n",
       "            event.step = 1;\n",
       "        } else {\n",
       "            event.step = -1;\n",
       "        }\n",
       "        mouse_event_fn(event);\n",
       "    });\n",
       "\n",
       "    canvas_div.append(canvas);\n",
       "    canvas_div.append(rubberband);\n",
       "\n",
       "    this.rubberband = rubberband;\n",
       "    this.rubberband_canvas = rubberband[0];\n",
       "    this.rubberband_context = rubberband[0].getContext(\"2d\");\n",
       "    this.rubberband_context.strokeStyle = \"#000000\";\n",
       "\n",
       "    this._resize_canvas = function(width, height) {\n",
       "        // Keep the size of the canvas, canvas container, and rubber band\n",
       "        // canvas in synch.\n",
       "        canvas_div.css('width', width)\n",
       "        canvas_div.css('height', height)\n",
       "\n",
       "        canvas.attr('width', width * mpl.ratio);\n",
       "        canvas.attr('height', height * mpl.ratio);\n",
       "        canvas.attr('style', 'width: ' + width + 'px; height: ' + height + 'px;');\n",
       "\n",
       "        rubberband.attr('width', width);\n",
       "        rubberband.attr('height', height);\n",
       "    }\n",
       "\n",
       "    // Set the figure to an initial 600x600px, this will subsequently be updated\n",
       "    // upon first draw.\n",
       "    this._resize_canvas(600, 600);\n",
       "\n",
       "    // Disable right mouse context menu.\n",
       "    $(this.rubberband_canvas).bind(\"contextmenu\",function(e){\n",
       "        return false;\n",
       "    });\n",
       "\n",
       "    function set_focus () {\n",
       "        canvas.focus();\n",
       "        canvas_div.focus();\n",
       "    }\n",
       "\n",
       "    window.setTimeout(set_focus, 100);\n",
       "}\n",
       "\n",
       "mpl.figure.prototype._init_toolbar = function() {\n",
       "    var fig = this;\n",
       "\n",
       "    var nav_element = $('<div/>');\n",
       "    nav_element.attr('style', 'width: 100%');\n",
       "    this.root.append(nav_element);\n",
       "\n",
       "    // Define a callback function for later on.\n",
       "    function toolbar_event(event) {\n",
       "        return fig.toolbar_button_onclick(event['data']);\n",
       "    }\n",
       "    function toolbar_mouse_event(event) {\n",
       "        return fig.toolbar_button_onmouseover(event['data']);\n",
       "    }\n",
       "\n",
       "    for(var toolbar_ind in mpl.toolbar_items) {\n",
       "        var name = mpl.toolbar_items[toolbar_ind][0];\n",
       "        var tooltip = mpl.toolbar_items[toolbar_ind][1];\n",
       "        var image = mpl.toolbar_items[toolbar_ind][2];\n",
       "        var method_name = mpl.toolbar_items[toolbar_ind][3];\n",
       "\n",
       "        if (!name) {\n",
       "            // put a spacer in here.\n",
       "            continue;\n",
       "        }\n",
       "        var button = $('<button/>');\n",
       "        button.addClass('ui-button ui-widget ui-state-default ui-corner-all ' +\n",
       "                        'ui-button-icon-only');\n",
       "        button.attr('role', 'button');\n",
       "        button.attr('aria-disabled', 'false');\n",
       "        button.click(method_name, toolbar_event);\n",
       "        button.mouseover(tooltip, toolbar_mouse_event);\n",
       "\n",
       "        var icon_img = $('<span/>');\n",
       "        icon_img.addClass('ui-button-icon-primary ui-icon');\n",
       "        icon_img.addClass(image);\n",
       "        icon_img.addClass('ui-corner-all');\n",
       "\n",
       "        var tooltip_span = $('<span/>');\n",
       "        tooltip_span.addClass('ui-button-text');\n",
       "        tooltip_span.html(tooltip);\n",
       "\n",
       "        button.append(icon_img);\n",
       "        button.append(tooltip_span);\n",
       "\n",
       "        nav_element.append(button);\n",
       "    }\n",
       "\n",
       "    var fmt_picker_span = $('<span/>');\n",
       "\n",
       "    var fmt_picker = $('<select/>');\n",
       "    fmt_picker.addClass('mpl-toolbar-option ui-widget ui-widget-content');\n",
       "    fmt_picker_span.append(fmt_picker);\n",
       "    nav_element.append(fmt_picker_span);\n",
       "    this.format_dropdown = fmt_picker[0];\n",
       "\n",
       "    for (var ind in mpl.extensions) {\n",
       "        var fmt = mpl.extensions[ind];\n",
       "        var option = $(\n",
       "            '<option/>', {selected: fmt === mpl.default_extension}).html(fmt);\n",
       "        fmt_picker.append(option);\n",
       "    }\n",
       "\n",
       "    // Add hover states to the ui-buttons\n",
       "    $( \".ui-button\" ).hover(\n",
       "        function() { $(this).addClass(\"ui-state-hover\");},\n",
       "        function() { $(this).removeClass(\"ui-state-hover\");}\n",
       "    );\n",
       "\n",
       "    var status_bar = $('<span class=\"mpl-message\"/>');\n",
       "    nav_element.append(status_bar);\n",
       "    this.message = status_bar[0];\n",
       "}\n",
       "\n",
       "mpl.figure.prototype.request_resize = function(x_pixels, y_pixels) {\n",
       "    // Request matplotlib to resize the figure. Matplotlib will then trigger a resize in the client,\n",
       "    // which will in turn request a refresh of the image.\n",
       "    this.send_message('resize', {'width': x_pixels, 'height': y_pixels});\n",
       "}\n",
       "\n",
       "mpl.figure.prototype.send_message = function(type, properties) {\n",
       "    properties['type'] = type;\n",
       "    properties['figure_id'] = this.id;\n",
       "    this.ws.send(JSON.stringify(properties));\n",
       "}\n",
       "\n",
       "mpl.figure.prototype.send_draw_message = function() {\n",
       "    if (!this.waiting) {\n",
       "        this.waiting = true;\n",
       "        this.ws.send(JSON.stringify({type: \"draw\", figure_id: this.id}));\n",
       "    }\n",
       "}\n",
       "\n",
       "\n",
       "mpl.figure.prototype.handle_save = function(fig, msg) {\n",
       "    var format_dropdown = fig.format_dropdown;\n",
       "    var format = format_dropdown.options[format_dropdown.selectedIndex].value;\n",
       "    fig.ondownload(fig, format);\n",
       "}\n",
       "\n",
       "\n",
       "mpl.figure.prototype.handle_resize = function(fig, msg) {\n",
       "    var size = msg['size'];\n",
       "    if (size[0] != fig.canvas.width || size[1] != fig.canvas.height) {\n",
       "        fig._resize_canvas(size[0], size[1]);\n",
       "        fig.send_message(\"refresh\", {});\n",
       "    };\n",
       "}\n",
       "\n",
       "mpl.figure.prototype.handle_rubberband = function(fig, msg) {\n",
       "    var x0 = msg['x0'] / mpl.ratio;\n",
       "    var y0 = (fig.canvas.height - msg['y0']) / mpl.ratio;\n",
       "    var x1 = msg['x1'] / mpl.ratio;\n",
       "    var y1 = (fig.canvas.height - msg['y1']) / mpl.ratio;\n",
       "    x0 = Math.floor(x0) + 0.5;\n",
       "    y0 = Math.floor(y0) + 0.5;\n",
       "    x1 = Math.floor(x1) + 0.5;\n",
       "    y1 = Math.floor(y1) + 0.5;\n",
       "    var min_x = Math.min(x0, x1);\n",
       "    var min_y = Math.min(y0, y1);\n",
       "    var width = Math.abs(x1 - x0);\n",
       "    var height = Math.abs(y1 - y0);\n",
       "\n",
       "    fig.rubberband_context.clearRect(\n",
       "        0, 0, fig.canvas.width, fig.canvas.height);\n",
       "\n",
       "    fig.rubberband_context.strokeRect(min_x, min_y, width, height);\n",
       "}\n",
       "\n",
       "mpl.figure.prototype.handle_figure_label = function(fig, msg) {\n",
       "    // Updates the figure title.\n",
       "    fig.header.textContent = msg['label'];\n",
       "}\n",
       "\n",
       "mpl.figure.prototype.handle_cursor = function(fig, msg) {\n",
       "    var cursor = msg['cursor'];\n",
       "    switch(cursor)\n",
       "    {\n",
       "    case 0:\n",
       "        cursor = 'pointer';\n",
       "        break;\n",
       "    case 1:\n",
       "        cursor = 'default';\n",
       "        break;\n",
       "    case 2:\n",
       "        cursor = 'crosshair';\n",
       "        break;\n",
       "    case 3:\n",
       "        cursor = 'move';\n",
       "        break;\n",
       "    }\n",
       "    fig.rubberband_canvas.style.cursor = cursor;\n",
       "}\n",
       "\n",
       "mpl.figure.prototype.handle_message = function(fig, msg) {\n",
       "    fig.message.textContent = msg['message'];\n",
       "}\n",
       "\n",
       "mpl.figure.prototype.handle_draw = function(fig, msg) {\n",
       "    // Request the server to send over a new figure.\n",
       "    fig.send_draw_message();\n",
       "}\n",
       "\n",
       "mpl.figure.prototype.handle_image_mode = function(fig, msg) {\n",
       "    fig.image_mode = msg['mode'];\n",
       "}\n",
       "\n",
       "mpl.figure.prototype.updated_canvas_event = function() {\n",
       "    // Called whenever the canvas gets updated.\n",
       "    this.send_message(\"ack\", {});\n",
       "}\n",
       "\n",
       "// A function to construct a web socket function for onmessage handling.\n",
       "// Called in the figure constructor.\n",
       "mpl.figure.prototype._make_on_message_function = function(fig) {\n",
       "    return function socket_on_message(evt) {\n",
       "        if (evt.data instanceof Blob) {\n",
       "            /* FIXME: We get \"Resource interpreted as Image but\n",
       "             * transferred with MIME type text/plain:\" errors on\n",
       "             * Chrome.  But how to set the MIME type?  It doesn't seem\n",
       "             * to be part of the websocket stream */\n",
       "            evt.data.type = \"image/png\";\n",
       "\n",
       "            /* Free the memory for the previous frames */\n",
       "            if (fig.imageObj.src) {\n",
       "                (window.URL || window.webkitURL).revokeObjectURL(\n",
       "                    fig.imageObj.src);\n",
       "            }\n",
       "\n",
       "            fig.imageObj.src = (window.URL || window.webkitURL).createObjectURL(\n",
       "                evt.data);\n",
       "            fig.updated_canvas_event();\n",
       "            fig.waiting = false;\n",
       "            return;\n",
       "        }\n",
       "        else if (typeof evt.data === 'string' && evt.data.slice(0, 21) == \"data:image/png;base64\") {\n",
       "            fig.imageObj.src = evt.data;\n",
       "            fig.updated_canvas_event();\n",
       "            fig.waiting = false;\n",
       "            return;\n",
       "        }\n",
       "\n",
       "        var msg = JSON.parse(evt.data);\n",
       "        var msg_type = msg['type'];\n",
       "\n",
       "        // Call the  \"handle_{type}\" callback, which takes\n",
       "        // the figure and JSON message as its only arguments.\n",
       "        try {\n",
       "            var callback = fig[\"handle_\" + msg_type];\n",
       "        } catch (e) {\n",
       "            console.log(\"No handler for the '\" + msg_type + \"' message type: \", msg);\n",
       "            return;\n",
       "        }\n",
       "\n",
       "        if (callback) {\n",
       "            try {\n",
       "                // console.log(\"Handling '\" + msg_type + \"' message: \", msg);\n",
       "                callback(fig, msg);\n",
       "            } catch (e) {\n",
       "                console.log(\"Exception inside the 'handler_\" + msg_type + \"' callback:\", e, e.stack, msg);\n",
       "            }\n",
       "        }\n",
       "    };\n",
       "}\n",
       "\n",
       "// from http://stackoverflow.com/questions/1114465/getting-mouse-location-in-canvas\n",
       "mpl.findpos = function(e) {\n",
       "    //this section is from http://www.quirksmode.org/js/events_properties.html\n",
       "    var targ;\n",
       "    if (!e)\n",
       "        e = window.event;\n",
       "    if (e.target)\n",
       "        targ = e.target;\n",
       "    else if (e.srcElement)\n",
       "        targ = e.srcElement;\n",
       "    if (targ.nodeType == 3) // defeat Safari bug\n",
       "        targ = targ.parentNode;\n",
       "\n",
       "    // jQuery normalizes the pageX and pageY\n",
       "    // pageX,Y are the mouse positions relative to the document\n",
       "    // offset() returns the position of the element relative to the document\n",
       "    var x = e.pageX - $(targ).offset().left;\n",
       "    var y = e.pageY - $(targ).offset().top;\n",
       "\n",
       "    return {\"x\": x, \"y\": y};\n",
       "};\n",
       "\n",
       "/*\n",
       " * return a copy of an object with only non-object keys\n",
       " * we need this to avoid circular references\n",
       " * http://stackoverflow.com/a/24161582/3208463\n",
       " */\n",
       "function simpleKeys (original) {\n",
       "  return Object.keys(original).reduce(function (obj, key) {\n",
       "    if (typeof original[key] !== 'object')\n",
       "        obj[key] = original[key]\n",
       "    return obj;\n",
       "  }, {});\n",
       "}\n",
       "\n",
       "mpl.figure.prototype.mouse_event = function(event, name) {\n",
       "    var canvas_pos = mpl.findpos(event)\n",
       "\n",
       "    if (name === 'button_press')\n",
       "    {\n",
       "        this.canvas.focus();\n",
       "        this.canvas_div.focus();\n",
       "    }\n",
       "\n",
       "    var x = canvas_pos.x * mpl.ratio;\n",
       "    var y = canvas_pos.y * mpl.ratio;\n",
       "\n",
       "    this.send_message(name, {x: x, y: y, button: event.button,\n",
       "                             step: event.step,\n",
       "                             guiEvent: simpleKeys(event)});\n",
       "\n",
       "    /* This prevents the web browser from automatically changing to\n",
       "     * the text insertion cursor when the button is pressed.  We want\n",
       "     * to control all of the cursor setting manually through the\n",
       "     * 'cursor' event from matplotlib */\n",
       "    event.preventDefault();\n",
       "    return false;\n",
       "}\n",
       "\n",
       "mpl.figure.prototype._key_event_extra = function(event, name) {\n",
       "    // Handle any extra behaviour associated with a key event\n",
       "}\n",
       "\n",
       "mpl.figure.prototype.key_event = function(event, name) {\n",
       "\n",
       "    // Prevent repeat events\n",
       "    if (name == 'key_press')\n",
       "    {\n",
       "        if (event.which === this._key)\n",
       "            return;\n",
       "        else\n",
       "            this._key = event.which;\n",
       "    }\n",
       "    if (name == 'key_release')\n",
       "        this._key = null;\n",
       "\n",
       "    var value = '';\n",
       "    if (event.ctrlKey && event.which != 17)\n",
       "        value += \"ctrl+\";\n",
       "    if (event.altKey && event.which != 18)\n",
       "        value += \"alt+\";\n",
       "    if (event.shiftKey && event.which != 16)\n",
       "        value += \"shift+\";\n",
       "\n",
       "    value += 'k';\n",
       "    value += event.which.toString();\n",
       "\n",
       "    this._key_event_extra(event, name);\n",
       "\n",
       "    this.send_message(name, {key: value,\n",
       "                             guiEvent: simpleKeys(event)});\n",
       "    return false;\n",
       "}\n",
       "\n",
       "mpl.figure.prototype.toolbar_button_onclick = function(name) {\n",
       "    if (name == 'download') {\n",
       "        this.handle_save(this, null);\n",
       "    } else {\n",
       "        this.send_message(\"toolbar_button\", {name: name});\n",
       "    }\n",
       "};\n",
       "\n",
       "mpl.figure.prototype.toolbar_button_onmouseover = function(tooltip) {\n",
       "    this.message.textContent = tooltip;\n",
       "};\n",
       "mpl.toolbar_items = [[\"Home\", \"Reset original view\", \"fa fa-home icon-home\", \"home\"], [\"Back\", \"Back to previous view\", \"fa fa-arrow-left icon-arrow-left\", \"back\"], [\"Forward\", \"Forward to next view\", \"fa fa-arrow-right icon-arrow-right\", \"forward\"], [\"\", \"\", \"\", \"\"], [\"Pan\", \"Pan axes with left mouse, zoom with right\", \"fa fa-arrows icon-move\", \"pan\"], [\"Zoom\", \"Zoom to rectangle\", \"fa fa-square-o icon-check-empty\", \"zoom\"], [\"\", \"\", \"\", \"\"], [\"Download\", \"Download plot\", \"fa fa-floppy-o icon-save\", \"download\"]];\n",
       "\n",
       "mpl.extensions = [\"eps\", \"jpeg\", \"pdf\", \"png\", \"ps\", \"raw\", \"svg\", \"tif\"];\n",
       "\n",
       "mpl.default_extension = \"png\";var comm_websocket_adapter = function(comm) {\n",
       "    // Create a \"websocket\"-like object which calls the given IPython comm\n",
       "    // object with the appropriate methods. Currently this is a non binary\n",
       "    // socket, so there is still some room for performance tuning.\n",
       "    var ws = {};\n",
       "\n",
       "    ws.close = function() {\n",
       "        comm.close()\n",
       "    };\n",
       "    ws.send = function(m) {\n",
       "        //console.log('sending', m);\n",
       "        comm.send(m);\n",
       "    };\n",
       "    // Register the callback with on_msg.\n",
       "    comm.on_msg(function(msg) {\n",
       "        //console.log('receiving', msg['content']['data'], msg);\n",
       "        // Pass the mpl event to the overridden (by mpl) onmessage function.\n",
       "        ws.onmessage(msg['content']['data'])\n",
       "    });\n",
       "    return ws;\n",
       "}\n",
       "\n",
       "mpl.mpl_figure_comm = function(comm, msg) {\n",
       "    // This is the function which gets called when the mpl process\n",
       "    // starts-up an IPython Comm through the \"matplotlib\" channel.\n",
       "\n",
       "    var id = msg.content.data.id;\n",
       "    // Get hold of the div created by the display call when the Comm\n",
       "    // socket was opened in Python.\n",
       "    var element = $(\"#\" + id);\n",
       "    var ws_proxy = comm_websocket_adapter(comm)\n",
       "\n",
       "    function ondownload(figure, format) {\n",
       "        window.open(figure.imageObj.src);\n",
       "    }\n",
       "\n",
       "    var fig = new mpl.figure(id, ws_proxy,\n",
       "                           ondownload,\n",
       "                           element.get(0));\n",
       "\n",
       "    // Call onopen now - mpl needs it, as it is assuming we've passed it a real\n",
       "    // web socket which is closed, not our websocket->open comm proxy.\n",
       "    ws_proxy.onopen();\n",
       "\n",
       "    fig.parent_element = element.get(0);\n",
       "    fig.cell_info = mpl.find_output_cell(\"<div id='\" + id + \"'></div>\");\n",
       "    if (!fig.cell_info) {\n",
       "        console.error(\"Failed to find cell for figure\", id, fig);\n",
       "        return;\n",
       "    }\n",
       "\n",
       "    var output_index = fig.cell_info[2]\n",
       "    var cell = fig.cell_info[0];\n",
       "\n",
       "};\n",
       "\n",
       "mpl.figure.prototype.handle_close = function(fig, msg) {\n",
       "    var width = fig.canvas.width/mpl.ratio\n",
       "    fig.root.unbind('remove')\n",
       "\n",
       "    // Update the output cell to use the data from the current canvas.\n",
       "    fig.push_to_output();\n",
       "    var dataURL = fig.canvas.toDataURL();\n",
       "    // Re-enable the keyboard manager in IPython - without this line, in FF,\n",
       "    // the notebook keyboard shortcuts fail.\n",
       "    IPython.keyboard_manager.enable()\n",
       "    $(fig.parent_element).html('<img src=\"' + dataURL + '\" width=\"' + width + '\">');\n",
       "    fig.close_ws(fig, msg);\n",
       "}\n",
       "\n",
       "mpl.figure.prototype.close_ws = function(fig, msg){\n",
       "    fig.send_message('closing', msg);\n",
       "    // fig.ws.close()\n",
       "}\n",
       "\n",
       "mpl.figure.prototype.push_to_output = function(remove_interactive) {\n",
       "    // Turn the data on the canvas into data in the output cell.\n",
       "    var width = this.canvas.width/mpl.ratio\n",
       "    var dataURL = this.canvas.toDataURL();\n",
       "    this.cell_info[1]['text/html'] = '<img src=\"' + dataURL + '\" width=\"' + width + '\">';\n",
       "}\n",
       "\n",
       "mpl.figure.prototype.updated_canvas_event = function() {\n",
       "    // Tell IPython that the notebook contents must change.\n",
       "    IPython.notebook.set_dirty(true);\n",
       "    this.send_message(\"ack\", {});\n",
       "    var fig = this;\n",
       "    // Wait a second, then push the new image to the DOM so\n",
       "    // that it is saved nicely (might be nice to debounce this).\n",
       "    setTimeout(function () { fig.push_to_output() }, 1000);\n",
       "}\n",
       "\n",
       "mpl.figure.prototype._init_toolbar = function() {\n",
       "    var fig = this;\n",
       "\n",
       "    var nav_element = $('<div/>');\n",
       "    nav_element.attr('style', 'width: 100%');\n",
       "    this.root.append(nav_element);\n",
       "\n",
       "    // Define a callback function for later on.\n",
       "    function toolbar_event(event) {\n",
       "        return fig.toolbar_button_onclick(event['data']);\n",
       "    }\n",
       "    function toolbar_mouse_event(event) {\n",
       "        return fig.toolbar_button_onmouseover(event['data']);\n",
       "    }\n",
       "\n",
       "    for(var toolbar_ind in mpl.toolbar_items){\n",
       "        var name = mpl.toolbar_items[toolbar_ind][0];\n",
       "        var tooltip = mpl.toolbar_items[toolbar_ind][1];\n",
       "        var image = mpl.toolbar_items[toolbar_ind][2];\n",
       "        var method_name = mpl.toolbar_items[toolbar_ind][3];\n",
       "\n",
       "        if (!name) { continue; };\n",
       "\n",
       "        var button = $('<button class=\"btn btn-default\" href=\"#\" title=\"' + name + '\"><i class=\"fa ' + image + ' fa-lg\"></i></button>');\n",
       "        button.click(method_name, toolbar_event);\n",
       "        button.mouseover(tooltip, toolbar_mouse_event);\n",
       "        nav_element.append(button);\n",
       "    }\n",
       "\n",
       "    // Add the status bar.\n",
       "    var status_bar = $('<span class=\"mpl-message\" style=\"text-align:right; float: right;\"/>');\n",
       "    nav_element.append(status_bar);\n",
       "    this.message = status_bar[0];\n",
       "\n",
       "    // Add the close button to the window.\n",
       "    var buttongrp = $('<div class=\"btn-group inline pull-right\"></div>');\n",
       "    var button = $('<button class=\"btn btn-mini btn-primary\" href=\"#\" title=\"Stop Interaction\"><i class=\"fa fa-power-off icon-remove icon-large\"></i></button>');\n",
       "    button.click(function (evt) { fig.handle_close(fig, {}); } );\n",
       "    button.mouseover('Stop Interaction', toolbar_mouse_event);\n",
       "    buttongrp.append(button);\n",
       "    var titlebar = this.root.find($('.ui-dialog-titlebar'));\n",
       "    titlebar.prepend(buttongrp);\n",
       "}\n",
       "\n",
       "mpl.figure.prototype._root_extra_style = function(el){\n",
       "    var fig = this\n",
       "    el.on(\"remove\", function(){\n",
       "\tfig.close_ws(fig, {});\n",
       "    });\n",
       "}\n",
       "\n",
       "mpl.figure.prototype._canvas_extra_style = function(el){\n",
       "    // this is important to make the div 'focusable\n",
       "    el.attr('tabindex', 0)\n",
       "    // reach out to IPython and tell the keyboard manager to turn it's self\n",
       "    // off when our div gets focus\n",
       "\n",
       "    // location in version 3\n",
       "    if (IPython.notebook.keyboard_manager) {\n",
       "        IPython.notebook.keyboard_manager.register_events(el);\n",
       "    }\n",
       "    else {\n",
       "        // location in version 2\n",
       "        IPython.keyboard_manager.register_events(el);\n",
       "    }\n",
       "\n",
       "}\n",
       "\n",
       "mpl.figure.prototype._key_event_extra = function(event, name) {\n",
       "    var manager = IPython.notebook.keyboard_manager;\n",
       "    if (!manager)\n",
       "        manager = IPython.keyboard_manager;\n",
       "\n",
       "    // Check for shift+enter\n",
       "    if (event.shiftKey && event.which == 13) {\n",
       "        this.canvas_div.blur();\n",
       "        event.shiftKey = false;\n",
       "        // Send a \"J\" for go to next cell\n",
       "        event.which = 74;\n",
       "        event.keyCode = 74;\n",
       "        manager.command_mode();\n",
       "        manager.handle_keydown(event);\n",
       "    }\n",
       "}\n",
       "\n",
       "mpl.figure.prototype.handle_save = function(fig, msg) {\n",
       "    fig.ondownload(fig, null);\n",
       "}\n",
       "\n",
       "\n",
       "mpl.find_output_cell = function(html_output) {\n",
       "    // Return the cell and output element which can be found *uniquely* in the notebook.\n",
       "    // Note - this is a bit hacky, but it is done because the \"notebook_saving.Notebook\"\n",
       "    // IPython event is triggered only after the cells have been serialised, which for\n",
       "    // our purposes (turning an active figure into a static one), is too late.\n",
       "    var cells = IPython.notebook.get_cells();\n",
       "    var ncells = cells.length;\n",
       "    for (var i=0; i<ncells; i++) {\n",
       "        var cell = cells[i];\n",
       "        if (cell.cell_type === 'code'){\n",
       "            for (var j=0; j<cell.output_area.outputs.length; j++) {\n",
       "                var data = cell.output_area.outputs[j];\n",
       "                if (data.data) {\n",
       "                    // IPython >= 3 moved mimebundle to data attribute of output\n",
       "                    data = data.data;\n",
       "                }\n",
       "                if (data['text/html'] == html_output) {\n",
       "                    return [cell, data, j];\n",
       "                }\n",
       "            }\n",
       "        }\n",
       "    }\n",
       "}\n",
       "\n",
       "// Register the function which deals with the matplotlib target/channel.\n",
       "// The kernel may be null if the page has been refreshed.\n",
       "if (IPython.notebook.kernel != null) {\n",
       "    IPython.notebook.kernel.comm_manager.register_target('matplotlib', mpl.mpl_figure_comm);\n",
       "}\n"
      ],
      "text/plain": [
       "<IPython.core.display.Javascript object>"
      ]
     },
     "metadata": {},
     "output_type": "display_data"
    },
    {
     "data": {
      "text/html": [
       "<img src=\"data:image/png;base64,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\" width=\"900\">"
      ],
      "text/plain": [
       "<IPython.core.display.HTML object>"
      ]
     },
     "metadata": {},
     "output_type": "display_data"
    }
   ],
   "source": [
    "plt.figure()\n",
    "plt.errorbar(\n",
    "    mus, \n",
    "    [metrics.metrics['SSIM'].mean() for metrics in metrics_list], \n",
    "    [metrics.metrics['SSIM'].stddev() for metrics in metrics_list],\n",
    "    linestyle='None', \n",
    "    marker='o',\n",
    ")\n",
    "plt.xscale('log')"
   ]
  },
  {
   "cell_type": "markdown",
   "metadata": {},
   "source": [
    "# Test inference"
   ]
  },
  {
   "cell_type": "code",
   "execution_count": 42,
   "metadata": {},
   "outputs": [],
   "source": [
    "reco_type = 'zero_filled'"
   ]
  },
  {
   "cell_type": "code",
   "execution_count": 43,
   "metadata": {},
   "outputs": [],
   "source": [
    "def filename_submission(filename):\n",
    "    relative_filename = filename.split('/')[-1]\n",
    "    name = relative_filename.split('.')[0]\n",
    "    name += '_v2.h5'\n",
    "    return name\n",
    "#     return relative_filename"
   ]
  },
  {
   "cell_type": "code",
   "execution_count": 44,
   "metadata": {},
   "outputs": [],
   "source": [
    "def reco_and_save(filename, path, **kwargs):\n",
    "    im_recos = reco_from_test_file(filename, **kwargs)\n",
    "    im_crops = [np.abs(crop_center(im_reco, 320)) for im_reco in im_recos]\n",
    "    im_crops = np.array(im_crops)\n",
    "    with h5py.File(op.join(path, reco_type, filename_submission(filename)), 'w') as f:\n",
    "            f.create_dataset('reconstruction', data=im_crops)"
   ]
  },
  {
   "cell_type": "code",
   "execution_count": 45,
   "metadata": {
    "scrolled": true
   },
   "outputs": [
    {
     "data": {
      "application/vnd.jupyter.widget-view+json": {
       "model_id": "46a7fbf85d84488ca85ac58fb15924fc",
       "version_major": 2,
       "version_minor": 0
      },
      "text/plain": [
       "HBox(children=(IntProgress(value=0, max=199), HTML(value='')))"
      ]
     },
     "metadata": {},
     "output_type": "display_data"
    },
    {
     "name": "stderr",
     "output_type": "stream",
     "text": [
      "\u001b[33mWARNING\u001b[0m: Making input data immutable.\n",
      "\u001b[33mWARNING\u001b[0m: Making input data immutable.\n",
      "\u001b[33mWARNING\u001b[0m: Making input data immutable.\n",
      "\u001b[33mWARNING\u001b[0m: Making input data immutable.\n",
      "\u001b[33mWARNING\u001b[0m: Making input data immutable.\n",
      "\u001b[33mWARNING\u001b[0m: Making input data immutable.\n",
      "\u001b[33mWARNING\u001b[0m: Making input data immutable.\n",
      "\u001b[33mWARNING\u001b[0m: Making input data immutable.\n",
      "\u001b[33mWARNING\u001b[0m: Making input data immutable.\n",
      "\u001b[33mWARNING\u001b[0m: Making input data immutable.\n",
      "\u001b[33mWARNING\u001b[0m: Making input data immutable.\n",
      "\u001b[33mWARNING\u001b[0m: Making input data immutable.\n",
      "\u001b[33mWARNING\u001b[0m: Making input data immutable.\n",
      "\u001b[33mWARNING\u001b[0m: Making input data immutable.\n",
      "\u001b[33mWARNING\u001b[0m: Making input data immutable.\n",
      "\u001b[33mWARNING\u001b[0m: Making input data immutable.\n",
      "\u001b[33mWARNING\u001b[0m: Making input data immutable.\n",
      "\u001b[33mWARNING\u001b[0m: Making input data immutable.\n",
      "\u001b[33mWARNING\u001b[0m: Making input data immutable.\n",
      "\u001b[33mWARNING\u001b[0m: Making input data immutable.\n",
      "\u001b[33mWARNING\u001b[0m: Making input data immutable.\n",
      "\u001b[33mWARNING\u001b[0m: Making input data immutable.\n",
      "\u001b[33mWARNING\u001b[0m: Making input data immutable.\n",
      "\u001b[33mWARNING\u001b[0m: Making input data immutable.\n",
      "\u001b[33mWARNING\u001b[0m: Making input data immutable.\n",
      "\u001b[33mWARNING\u001b[0m: Making input data immutable.\n",
      "\u001b[33mWARNING\u001b[0m: Making input data immutable.\n",
      "\u001b[33mWARNING\u001b[0m: Making input data immutable.\n",
      "\u001b[33mWARNING\u001b[0m: Making input data immutable.\n",
      "\u001b[33mWARNING\u001b[0m: Making input data immutable.\n",
      "\u001b[33mWARNING\u001b[0m: Making input data immutable.\n",
      "\u001b[33mWARNING\u001b[0m: Making input data immutable.\n",
      "\u001b[33mWARNING\u001b[0m: Making input data immutable.\n",
      "\u001b[33mWARNING\u001b[0m: Making input data immutable.\n",
      "\u001b[33mWARNING\u001b[0m: Making input data immutable.\n",
      "\u001b[33mWARNING\u001b[0m: Making input data immutable.\n",
      "\u001b[33mWARNING\u001b[0m: Making input data immutable.\n",
      "\u001b[33mWARNING\u001b[0m: Making input data immutable.\n",
      "\u001b[33mWARNING\u001b[0m: Making input data immutable.\n",
      "\u001b[33mWARNING\u001b[0m: Making input data immutable.\n",
      "\u001b[33mWARNING\u001b[0m: Making input data immutable.\n",
      "\u001b[33mWARNING\u001b[0m: Making input data immutable.\n",
      "\u001b[33mWARNING\u001b[0m: Making input data immutable.\n",
      "\u001b[33mWARNING\u001b[0m: Making input data immutable.\n",
      "\u001b[33mWARNING\u001b[0m: Making input data immutable.\n",
      "\u001b[33mWARNING\u001b[0m: Making input data immutable.\n",
      "\u001b[33mWARNING\u001b[0m: Making input data immutable.\n",
      "\u001b[33mWARNING\u001b[0m: Making input data immutable.\n",
      "\u001b[33mWARNING\u001b[0m: Making input data immutable.\n",
      "\u001b[33mWARNING\u001b[0m: Making input data immutable.\n",
      "\u001b[33mWARNING\u001b[0m: Making input data immutable.\n",
      "\u001b[33mWARNING\u001b[0m: Making input data immutable.\n",
      "\u001b[33mWARNING\u001b[0m: Making input data immutable.\n",
      "\u001b[33mWARNING\u001b[0m: Making input data immutable.\n",
      "\u001b[33mWARNING\u001b[0m: Making input data immutable.\n",
      "\u001b[33mWARNING\u001b[0m: Making input data immutable.\n",
      "\u001b[33mWARNING\u001b[0m: Making input data immutable.\n",
      "\u001b[33mWARNING\u001b[0m: Making input data immutable.\n",
      "\u001b[33mWARNING\u001b[0m: Making input data immutable.\n",
      "\u001b[33mWARNING\u001b[0m: Making input data immutable.\n",
      "\u001b[33mWARNING\u001b[0m: Making input data immutable.\n",
      "\u001b[33mWARNING\u001b[0m: Making input data immutable.\n",
      "\u001b[33mWARNING\u001b[0m: Making input data immutable.\n",
      "\u001b[33mWARNING\u001b[0m: Making input data immutable.\n",
      "\u001b[33mWARNING\u001b[0m: Making input data immutable.\n",
      "\u001b[33mWARNING\u001b[0m: Making input data immutable.\n",
      "\u001b[33mWARNING\u001b[0m: Making input data immutable.\n",
      "\u001b[33mWARNING\u001b[0m: Making input data immutable.\n",
      "\u001b[33mWARNING\u001b[0m: Making input data immutable.\n",
      "\u001b[33mWARNING\u001b[0m: Making input data immutable.\n",
      "\u001b[33mWARNING\u001b[0m: Making input data immutable.\n",
      "\u001b[33mWARNING\u001b[0m: Making input data immutable.\n",
      "\u001b[33mWARNING\u001b[0m: Making input data immutable.\n",
      "\u001b[33mWARNING\u001b[0m: Making input data immutable.\n",
      "\u001b[33mWARNING\u001b[0m: Making input data immutable.\n",
      "\u001b[33mWARNING\u001b[0m: Making input data immutable.\n",
      "\u001b[33mWARNING\u001b[0m: Making input data immutable.\n",
      "\u001b[33mWARNING\u001b[0m: Making input data immutable.\n",
      "\u001b[33mWARNING\u001b[0m: Making input data immutable.\n",
      "\u001b[33mWARNING\u001b[0m: Making input data immutable.\n",
      "\u001b[33mWARNING\u001b[0m: Making input data immutable.\n",
      "\u001b[33mWARNING\u001b[0m: Making input data immutable.\n",
      "\u001b[33mWARNING\u001b[0m: Making input data immutable.\n",
      "\u001b[33mWARNING\u001b[0m: Making input data immutable.\n",
      "\u001b[33mWARNING\u001b[0m: Making input data immutable.\n",
      "\u001b[33mWARNING\u001b[0m: Making input data immutable.\n",
      "\u001b[33mWARNING\u001b[0m: Making input data immutable.\n",
      "\u001b[33mWARNING\u001b[0m: Making input data immutable.\n",
      "\u001b[33mWARNING\u001b[0m: Making input data immutable.\n",
      "\u001b[33mWARNING\u001b[0m: Making input data immutable.\n",
      "\u001b[33mWARNING\u001b[0m: Making input data immutable.\n",
      "\u001b[33mWARNING\u001b[0m: Making input data immutable.\n",
      "\u001b[33mWARNING\u001b[0m: Making input data immutable.\n",
      "\u001b[33mWARNING\u001b[0m: Making input data immutable.\n",
      "\u001b[33mWARNING\u001b[0m: Making input data immutable.\n",
      "\u001b[33mWARNING\u001b[0m: Making input data immutable.\n",
      "\u001b[33mWARNING\u001b[0m: Making input data immutable.\n",
      "\u001b[33mWARNING\u001b[0m: Making input data immutable.\n",
      "\u001b[33mWARNING\u001b[0m: Making input data immutable.\n",
      "\u001b[33mWARNING\u001b[0m: Making input data immutable.\n",
      "\u001b[33mWARNING\u001b[0m: Making input data immutable.\n",
      "\u001b[33mWARNING\u001b[0m: Making input data immutable.\n",
      "\u001b[33mWARNING\u001b[0m: Making input data immutable.\n",
      "\u001b[33mWARNING\u001b[0m: Making input data immutable.\n",
      "\u001b[33mWARNING\u001b[0m: Making input data immutable.\n",
      "\u001b[33mWARNING\u001b[0m: Making input data immutable.\n",
      "\u001b[33mWARNING\u001b[0m: Making input data immutable.\n",
      "\u001b[33mWARNING\u001b[0m: Making input data immutable.\n",
      "\u001b[33mWARNING\u001b[0m: Making input data immutable.\n",
      "\u001b[33mWARNING\u001b[0m: Making input data immutable.\n",
      "\u001b[33mWARNING\u001b[0m: Making input data immutable.\n",
      "\u001b[33mWARNING\u001b[0m: Making input data immutable.\n",
      "\u001b[33mWARNING\u001b[0m: Making input data immutable.\n",
      "\u001b[33mWARNING\u001b[0m: Making input data immutable.\n",
      "\u001b[33mWARNING\u001b[0m: Making input data immutable.\n",
      "\u001b[33mWARNING\u001b[0m: Making input data immutable.\n",
      "\u001b[33mWARNING\u001b[0m: Making input data immutable.\n",
      "\u001b[33mWARNING\u001b[0m: Making input data immutable.\n",
      "\u001b[33mWARNING\u001b[0m: Making input data immutable.\n",
      "\u001b[33mWARNING\u001b[0m: Making input data immutable.\n",
      "\u001b[33mWARNING\u001b[0m: Making input data immutable.\n",
      "\u001b[33mWARNING\u001b[0m: Making input data immutable.\n",
      "\u001b[33mWARNING\u001b[0m: Making input data immutable.\n",
      "\u001b[33mWARNING\u001b[0m: Making input data immutable.\n",
      "\u001b[33mWARNING\u001b[0m: Making input data immutable.\n",
      "\u001b[33mWARNING\u001b[0m: Making input data immutable.\n",
      "\u001b[33mWARNING\u001b[0m: Making input data immutable.\n",
      "\u001b[33mWARNING\u001b[0m: Making input data immutable.\n",
      "\u001b[33mWARNING\u001b[0m: Making input data immutable.\n",
      "\u001b[33mWARNING\u001b[0m: Making input data immutable.\n",
      "\u001b[33mWARNING\u001b[0m: Making input data immutable.\n",
      "\u001b[33mWARNING\u001b[0m: Making input data immutable.\n",
      "\u001b[33mWARNING\u001b[0m: Making input data immutable.\n",
      "\u001b[33mWARNING\u001b[0m: Making input data immutable.\n",
      "\u001b[33mWARNING\u001b[0m: Making input data immutable.\n",
      "\u001b[33mWARNING\u001b[0m: Making input data immutable.\n",
      "\u001b[33mWARNING\u001b[0m: Making input data immutable.\n",
      "\u001b[33mWARNING\u001b[0m: Making input data immutable.\n",
      "\u001b[33mWARNING\u001b[0m: Making input data immutable.\n",
      "\u001b[33mWARNING\u001b[0m: Making input data immutable.\n",
      "\u001b[33mWARNING\u001b[0m: Making input data immutable.\n",
      "\u001b[33mWARNING\u001b[0m: Making input data immutable.\n",
      "\u001b[33mWARNING\u001b[0m: Making input data immutable.\n",
      "\u001b[33mWARNING\u001b[0m: Making input data immutable.\n",
      "\u001b[33mWARNING\u001b[0m: Making input data immutable.\n",
      "\u001b[33mWARNING\u001b[0m: Making input data immutable.\n",
      "\u001b[33mWARNING\u001b[0m: Making input data immutable.\n",
      "\u001b[33mWARNING\u001b[0m: Making input data immutable.\n",
      "\u001b[33mWARNING\u001b[0m: Making input data immutable.\n",
      "\u001b[33mWARNING\u001b[0m: Making input data immutable.\n",
      "\u001b[33mWARNING\u001b[0m: Making input data immutable.\n",
      "\u001b[33mWARNING\u001b[0m: Making input data immutable.\n",
      "\u001b[33mWARNING\u001b[0m: Making input data immutable.\n",
      "\u001b[33mWARNING\u001b[0m: Making input data immutable.\n",
      "\u001b[33mWARNING\u001b[0m: Making input data immutable.\n",
      "\u001b[33mWARNING\u001b[0m: Making input data immutable.\n",
      "\u001b[33mWARNING\u001b[0m: Making input data immutable.\n",
      "\u001b[33mWARNING\u001b[0m: Making input data immutable.\n",
      "\u001b[33mWARNING\u001b[0m: Making input data immutable.\n",
      "\u001b[33mWARNING\u001b[0m: Making input data immutable.\n",
      "\u001b[33mWARNING\u001b[0m: Making input data immutable.\n",
      "\u001b[33mWARNING\u001b[0m: Making input data immutable.\n",
      "\u001b[33mWARNING\u001b[0m: Making input data immutable.\n",
      "\u001b[33mWARNING\u001b[0m: Making input data immutable.\n",
      "\u001b[33mWARNING\u001b[0m: Making input data immutable.\n",
      "\u001b[33mWARNING\u001b[0m: Making input data immutable.\n",
      "\u001b[33mWARNING\u001b[0m: Making input data immutable.\n",
      "\u001b[33mWARNING\u001b[0m: Making input data immutable.\n",
      "\u001b[33mWARNING\u001b[0m: Making input data immutable.\n",
      "\u001b[33mWARNING\u001b[0m: Making input data immutable.\n",
      "\u001b[33mWARNING\u001b[0m: Making input data immutable.\n",
      "\u001b[33mWARNING\u001b[0m: Making input data immutable.\n",
      "\u001b[33mWARNING\u001b[0m: Making input data immutable.\n",
      "\u001b[33mWARNING\u001b[0m: Making input data immutable.\n",
      "\u001b[33mWARNING\u001b[0m: Making input data immutable.\n"
     ]
    },
    {
     "name": "stderr",
     "output_type": "stream",
     "text": [
      "\u001b[33mWARNING\u001b[0m: Making input data immutable.\n",
      "\u001b[33mWARNING\u001b[0m: Making input data immutable.\n",
      "\u001b[33mWARNING\u001b[0m: Making input data immutable.\n",
      "\u001b[33mWARNING\u001b[0m: Making input data immutable.\n",
      "\u001b[33mWARNING\u001b[0m: Making input data immutable.\n",
      "\u001b[33mWARNING\u001b[0m: Making input data immutable.\n",
      "\u001b[33mWARNING\u001b[0m: Making input data immutable.\n",
      "\u001b[33mWARNING\u001b[0m: Making input data immutable.\n",
      "\u001b[33mWARNING\u001b[0m: Making input data immutable.\n",
      "\u001b[33mWARNING\u001b[0m: Making input data immutable.\n",
      "\u001b[33mWARNING\u001b[0m: Making input data immutable.\n",
      "\u001b[33mWARNING\u001b[0m: Making input data immutable.\n",
      "\u001b[33mWARNING\u001b[0m: Making input data immutable.\n",
      "\u001b[33mWARNING\u001b[0m: Making input data immutable.\n",
      "\u001b[33mWARNING\u001b[0m: Making input data immutable.\n",
      "\u001b[33mWARNING\u001b[0m: Making input data immutable.\n",
      "\u001b[33mWARNING\u001b[0m: Making input data immutable.\n",
      "\u001b[33mWARNING\u001b[0m: Making input data immutable.\n",
      "\u001b[33mWARNING\u001b[0m: Making input data immutable.\n",
      "\u001b[33mWARNING\u001b[0m: Making input data immutable.\n",
      "\u001b[33mWARNING\u001b[0m: Making input data immutable.\n",
      "\u001b[33mWARNING\u001b[0m: Making input data immutable.\n",
      "\u001b[33mWARNING\u001b[0m: Making input data immutable.\n",
      "\u001b[33mWARNING\u001b[0m: Making input data immutable.\n"
     ]
    }
   ],
   "source": [
    "Parallel(n_jobs=-1, backend='multiprocessing', batch_size=len(test_filenames)//40)(\n",
    "    delayed(reco_and_save)(filename, test_reco_path) for filename in tqdm_notebook(test_filenames)\n",
    ");"
   ]
  },
  {
   "cell_type": "code",
   "execution_count": null,
   "metadata": {},
   "outputs": [],
   "source": []
  }
 ],
 "metadata": {
  "kernelspec": {
   "display_name": "Python 3",
   "language": "python",
   "name": "python3"
  },
  "language_info": {
   "codemirror_mode": {
    "name": "ipython",
    "version": 3
   },
   "file_extension": ".py",
   "mimetype": "text/x-python",
   "name": "python",
   "nbconvert_exporter": "python",
   "pygments_lexer": "ipython3",
   "version": "3.6.8"
  },
  "notify_time": "30"
 },
 "nbformat": 4,
 "nbformat_minor": 2
}
