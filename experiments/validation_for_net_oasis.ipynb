{
 "cells": [
  {
   "cell_type": "code",
   "execution_count": 22,
   "metadata": {},
   "outputs": [
    {
     "name": "stdout",
     "output_type": "stream",
     "text": [
      "The autoreload extension is already loaded. To reload it, use:\n",
      "  %reload_ext autoreload\n"
     ]
    }
   ],
   "source": [
    "%load_ext autoreload\n",
    "%autoreload 2\n",
    "%matplotlib nbagg\n",
    "import random\n",
    "import time\n",
    "import warnings\n",
    "warnings.filterwarnings(\"ignore\")\n",
    "\n",
    "import matplotlib.pyplot as plt\n",
    "import numpy as np\n",
    "import pandas as pd\n",
    "from tqdm import tqdm_notebook\n",
    "\n",
    "from fastmri_recon.data.oasis_sequences import Masked2DSequence\n",
    "from fastmri_recon.helpers.evaluate import METRIC_FUNCS, Metrics\n",
    "from fastmri_recon.helpers.nn_mri import lrelu\n",
    "from fastmri_recon.helpers.reconstruction import reco_and_gt_zfilled_from_val_file, reco_and_gt_net_from_val_file\n",
    "from fastmri_recon.models.cascading import cascade_net\n",
    "from fastmri_recon.models.kiki_sep import full_kiki_net\n",
    "from fastmri_recon.models.pdnet import pdnet\n",
    "from fastmri_recon.models.unet import unet"
   ]
  },
  {
   "cell_type": "code",
   "execution_count": 2,
   "metadata": {},
   "outputs": [],
   "source": [
    "np.random.seed(0)"
   ]
  },
  {
   "cell_type": "code",
   "execution_count": 3,
   "metadata": {},
   "outputs": [],
   "source": [
    "plt.rcParams['figure.figsize'] = (9, 5)\n",
    "plt.rcParams['image.cmap'] = 'gray'"
   ]
  },
  {
   "cell_type": "code",
   "execution_count": 4,
   "metadata": {},
   "outputs": [],
   "source": [
    "# paths\n",
    "train_path = '/media/Zaccharie/UHRes/OASIS_data/'\n",
    "\n",
    "# generators\n",
    "AF = 4\n",
    "train_gen = Masked2DSequence(\n",
    "    train_path,\n",
    "    af=AF,\n",
    "    inner_slices=32,\n",
    "    scale_factor=1e-2,\n",
    "    seed=0,\n",
    "    rand=True,\n",
    "    val_split=0.1,\n",
    ")\n",
    "val_gen = train_gen.val_sequence\n",
    "n_train = 1000\n",
    "n_val = 2\n",
    "random.seed(0)\n",
    "train_gen.filenames = random.sample(train_gen.filenames, n_train)\n",
    "val_gen.filenames = random.sample(val_gen.filenames, n_val)"
   ]
  },
  {
   "cell_type": "code",
   "execution_count": 5,
   "metadata": {},
   "outputs": [],
   "source": [
    "all_net_params = [\n",
    "#     {\n",
    "#         'name': 'unet',\n",
    "#         'init_function': unet,\n",
    "#         'run_params': {\n",
    "#             'n_layers': 4,\n",
    "#             'pool': 'max',\n",
    "#             \"layers_n_channels\": [16, 32, 64, 128],\n",
    "#             'layers_n_non_lins': 2,\n",
    "#             'input_size': (320, 320, 1),\n",
    "#         },\n",
    "#         'val_gen': val_gen_zero,\n",
    "#         'run_id': 'unet_af4_1569210349',\n",
    "#     },\n",
    "#     {\n",
    "#         'name': 'pdnet',\n",
    "#         'init_function': pdnet,\n",
    "#         'run_params': {\n",
    "#             'n_primal': 5,\n",
    "#             'n_dual': 5,\n",
    "#             'n_iter': 10,\n",
    "#             'n_filters': 32,\n",
    "#         },\n",
    "#         'val_gen': val_gen_scaled,\n",
    "#         'run_id': 'pdnet_af4_1568384763',\n",
    "#     },\n",
    "    {\n",
    "        'name': 'cascadenet',\n",
    "        'init_function': cascade_net,\n",
    "        'run_params': {\n",
    "            'n_cascade': 5,\n",
    "            'n_convs': 5,\n",
    "            'n_filters': 48,\n",
    "            'noiseless': True,\n",
    "        },\n",
    "        'run_id': 'cascadenet_af4_oasis_1569491836',\n",
    "    },\n",
    "#     {\n",
    "#         'name': 'kikinet',\n",
    "#         'init_function': kiki_net,\n",
    "#         'run_params': {\n",
    "#             'n_cascade': 2,\n",
    "#             'n_convs': 25,\n",
    "#             'n_filters': 32,\n",
    "#             'noiseless': True,\n",
    "#         },\n",
    "#         'val_gen': val_gen_scaled,\n",
    "#         'run_id': 'kikinet_af4_1568724379',\n",
    "#     },\n",
    "        {\n",
    "        'name': 'kikinet-sep',\n",
    "        'init_function': full_kiki_net,\n",
    "        'run_params': {\n",
    "            'n_convs': 25,\n",
    "            'n_filters': 48,\n",
    "            'noiseless': True,\n",
    "            'activation': lrelu,\n",
    "        },\n",
    "        'run_id': 'kikinet_sep_I2_af4_oasis_1571452949',\n",
    "        'epoch': 50,\n",
    "    },\n",
    "]"
   ]
  },
  {
   "cell_type": "code",
   "execution_count": 6,
   "metadata": {},
   "outputs": [],
   "source": [
    "def unpack_model(init_function=None, run_params=None, run_id=None, epoch=300, **dummy_kwargs):\n",
    "    model = init_function(input_size=(None, None, 1), fastmri=False, **run_params)\n",
    "    chkpt_path = f'../checkpoints/{run_id}-{epoch}.hdf5'\n",
    "    model.load_weights(chkpt_path)\n",
    "    return model\n",
    "\n",
    "def metrics_for_params(name=None, **net_params):\n",
    "    model = unpack_model(**net_params)\n",
    "    metrics = Metrics(METRIC_FUNCS)\n",
    "    pred_and_gt = [\n",
    "        reco_and_gt_net_from_val_file(*val_gen[i], model)\n",
    "        for i in tqdm_notebook(range(len(val_gen)), desc=f'Val files for {name}')\n",
    "    ]    \n",
    "    for im_recos, images in tqdm_notebook(pred_and_gt, desc=f'Stats for {name}'):\n",
    "        metrics.push(images, im_recos)\n",
    "    return metrics\n",
    "\n",
    "\n",
    "def metrics_zfilled():\n",
    "    metrics = Metrics(METRIC_FUNCS)\n",
    "    pred_and_gt = [\n",
    "        reco_and_gt_zfilled_from_val_file(*val_gen[i], crop=False)\n",
    "        for i in tqdm_notebook(range(len(val_gen)), desc='Val files for z-filled')\n",
    "    ]    \n",
    "    for im_recos, images in tqdm_notebook(pred_and_gt, desc='Stats for z-filled'):\n",
    "        metrics.push(images, im_recos)\n",
    "    return metrics"
   ]
  },
  {
   "cell_type": "code",
   "execution_count": 7,
   "metadata": {},
   "outputs": [
    {
     "name": "stderr",
     "output_type": "stream",
     "text": [
      "WARNING: Logging before flag parsing goes to stderr.\n",
      "W1019 11:22:51.875104 140514566358784 deprecation.py:323] From /volatile/home/Zaccharie/workspace/fastmri-reproducible-benchmark/fastmri_recon/helpers/nn_mri.py:82: to_float (from tensorflow.python.ops.math_ops) is deprecated and will be removed in a future version.\n",
      "Instructions for updating:\n",
      "Use `tf.cast` instead.\n"
     ]
    },
    {
     "data": {
      "application/vnd.jupyter.widget-view+json": {
       "model_id": "37ce4b35724c454097b1b517397121cd",
       "version_major": 2,
       "version_minor": 0
      },
      "text/plain": [
       "HBox(children=(IntProgress(value=0, description='Val files for cascadenet', max=2, style=ProgressStyle(descrip…"
      ]
     },
     "metadata": {},
     "output_type": "display_data"
    },
    {
     "name": "stderr",
     "output_type": "stream",
     "text": [
      "W1019 11:23:12.160444 140514566358784 deprecation_wrapper.py:119] From /volatile/home/Zaccharie/workspace/keras/keras/backend/tensorflow_backend.py:422: The name tf.global_variables is deprecated. Please use tf.compat.v1.global_variables instead.\n",
      "\n"
     ]
    },
    {
     "name": "stdout",
     "output_type": "stream",
     "text": [
      "\n"
     ]
    },
    {
     "data": {
      "application/vnd.jupyter.widget-view+json": {
       "model_id": "2a65b9a3ff2d4265bc7f582b75eff621",
       "version_major": 2,
       "version_minor": 0
      },
      "text/plain": [
       "HBox(children=(IntProgress(value=0, description='Stats for cascadenet', max=2, style=ProgressStyle(description…"
      ]
     },
     "metadata": {},
     "output_type": "display_data"
    },
    {
     "name": "stdout",
     "output_type": "stream",
     "text": [
      "\n"
     ]
    },
    {
     "data": {
      "application/vnd.jupyter.widget-view+json": {
       "model_id": "52ef8ef46efe42259b48d47f8155bd3d",
       "version_major": 2,
       "version_minor": 0
      },
      "text/plain": [
       "HBox(children=(IntProgress(value=0, description='Val files for kikinet-sep', max=2, style=ProgressStyle(descri…"
      ]
     },
     "metadata": {},
     "output_type": "display_data"
    },
    {
     "name": "stdout",
     "output_type": "stream",
     "text": [
      "\n"
     ]
    },
    {
     "data": {
      "application/vnd.jupyter.widget-view+json": {
       "model_id": "b196f7ab1b08472091a53e05b26b2967",
       "version_major": 2,
       "version_minor": 0
      },
      "text/plain": [
       "HBox(children=(IntProgress(value=0, description='Stats for kikinet-sep', max=2, style=ProgressStyle(descriptio…"
      ]
     },
     "metadata": {},
     "output_type": "display_data"
    },
    {
     "name": "stdout",
     "output_type": "stream",
     "text": [
      "\n"
     ]
    },
    {
     "data": {
      "application/vnd.jupyter.widget-view+json": {
       "model_id": "940d20c9702e482587ead1a2152631ab",
       "version_major": 2,
       "version_minor": 0
      },
      "text/plain": [
       "HBox(children=(IntProgress(value=0, description='Val files for z-filled', max=2, style=ProgressStyle(descripti…"
      ]
     },
     "metadata": {},
     "output_type": "display_data"
    },
    {
     "name": "stdout",
     "output_type": "stream",
     "text": [
      "\n"
     ]
    },
    {
     "data": {
      "application/vnd.jupyter.widget-view+json": {
       "model_id": "e4bf2ec8152e437d9c1bf393283b75e1",
       "version_major": 2,
       "version_minor": 0
      },
      "text/plain": [
       "HBox(children=(IntProgress(value=0, description='Stats for z-filled', max=2, style=ProgressStyle(description_w…"
      ]
     },
     "metadata": {},
     "output_type": "display_data"
    },
    {
     "name": "stdout",
     "output_type": "stream",
     "text": [
      "\n",
      "CPU times: user 20.8 s, sys: 4.68 s, total: 25.5 s\n",
      "Wall time: 39.5 s\n"
     ]
    }
   ],
   "source": [
    "%%time\n",
    "metrics = []\n",
    "for net_params in all_net_params:\n",
    "    metrics.append((net_params['name'], metrics_for_params(**net_params)))\n",
    "    \n",
    "metrics.append(('zfilled', metrics_zfilled()))"
   ]
  },
  {
   "cell_type": "code",
   "execution_count": 8,
   "metadata": {},
   "outputs": [
    {
     "data": {
      "text/plain": [
       "[('cascadenet', PSNR = 32.59 +/- 7.896 SSIM = 0.9009 +/- 0.09883),\n",
       " ('kikinet-sep', PSNR = 19.45 +/- 4.042 SSIM = 0.356 +/- 0.1048),\n",
       " ('zfilled', PSNR = 26.93 +/- 4.438 SSIM = 0.6744 +/- 0.08495)]"
      ]
     },
     "execution_count": 8,
     "metadata": {},
     "output_type": "execute_result"
    }
   ],
   "source": [
    "metrics"
   ]
  },
  {
   "cell_type": "code",
   "execution_count": 9,
   "metadata": {},
   "outputs": [],
   "source": [
    "metrics.sort(key=lambda x: x[1].metrics['PSNR'].mean())"
   ]
  },
  {
   "cell_type": "code",
   "execution_count": 10,
   "metadata": {},
   "outputs": [],
   "source": [
    "# import pickle\n",
    "# with open('metrics_net_rec_oasis', 'wb') as f:\n",
    "#     pickle.dump(metrics, f)"
   ]
  },
  {
   "cell_type": "code",
   "execution_count": 11,
   "metadata": {},
   "outputs": [],
   "source": [
    "def n_model_params_for_params(reco_function=None, val_gen=None, name=None, **net_params):\n",
    "    model = unpack_model(**net_params)\n",
    "    n_params = model.count_params()\n",
    "    return n_params"
   ]
  },
  {
   "cell_type": "code",
   "execution_count": 12,
   "metadata": {},
   "outputs": [
    {
     "name": "stdout",
     "output_type": "stream",
     "text": [
      "CPU times: user 8.12 s, sys: 94.3 ms, total: 8.22 s\n",
      "Wall time: 8.1 s\n"
     ]
    }
   ],
   "source": [
    "%%time\n",
    "n_params = {}\n",
    "for net_params in all_net_params:\n",
    "    n_params[net_params['name']] =  n_model_params_for_params(**net_params)\n",
    "    \n",
    "n_params['zfilled'] =  0"
   ]
  },
  {
   "cell_type": "code",
   "execution_count": 31,
   "metadata": {},
   "outputs": [],
   "source": [
    "def runtime_for_params(name=None, **net_params):\n",
    "    model = unpack_model(**net_params)\n",
    "    data = val_gen[0]\n",
    "    start = time.time()\n",
    "    reco_and_gt_net_from_val_file(*data, model)\n",
    "    end = time.time()\n",
    "    return end - start\n",
    "\n",
    "def runtime_zfilled():\n",
    "    data = val_gen[0]\n",
    "    start = time.time()\n",
    "    reco_and_gt_zfilled_from_val_file(*data, crop=False)\n",
    "    end = time.time()\n",
    "    return end - start"
   ]
  },
  {
   "cell_type": "code",
   "execution_count": 32,
   "metadata": {},
   "outputs": [
    {
     "data": {
      "application/vnd.jupyter.widget-view+json": {
       "model_id": "27a41dfd88ce44888704f554ae90243e",
       "version_major": 2,
       "version_minor": 0
      },
      "text/plain": [
       "HBox(children=(IntProgress(value=0, max=2), HTML(value='')))"
      ]
     },
     "metadata": {},
     "output_type": "display_data"
    },
    {
     "name": "stdout",
     "output_type": "stream",
     "text": [
      "\n",
      "CPU times: user 19.1 s, sys: 1.08 s, total: 20.2 s\n",
      "Wall time: 21.2 s\n"
     ]
    }
   ],
   "source": [
    "%%time\n",
    "runtimes = {}\n",
    "for net_params in tqdm_notebook(all_net_params):\n",
    "    runtimes[net_params['name']] =  runtime_for_params(**net_params)\n",
    "    \n",
    "runtimes['zfilled'] = runtime_zfilled()"
   ]
  },
  {
   "cell_type": "code",
   "execution_count": 33,
   "metadata": {},
   "outputs": [],
   "source": [
    "metrics_table = pd.DataFrame(\n",
    "    index=[name for name, _ in metrics], \n",
    "    columns=['PSNR-mean (std) (dB)', 'SSIM-mean (std)', '# params', 'Runtime (s)'],\n",
    ")\n",
    "for name, m in metrics:\n",
    "    metrics_table.loc[name, 'PSNR-mean (std) (dB)'] = \"{mean:.4} ({std:.4})\".format(\n",
    "        mean=m.metrics['PSNR'].mean(), \n",
    "        std=m.metrics['PSNR'].stddev(),\n",
    "    )\n",
    "    metrics_table.loc[name, 'SSIM-mean (std)'] = \"{mean:.4} ({std:.4})\".format(\n",
    "        mean=m.metrics['SSIM'].mean(), \n",
    "        std=m.metrics['SSIM'].stddev(),\n",
    "    )\n",
    "    metrics_table.loc[name, '# params'] = \"{}\".format(\n",
    "        n_params[name], \n",
    "     )\n",
    "    metrics_table.loc[name, 'Runtime (s)'] = \"{runtime:.4}\".format(\n",
    "        runtime=runtimes[name], \n",
    "    )"
   ]
  },
  {
   "cell_type": "code",
   "execution_count": 34,
   "metadata": {},
   "outputs": [
    {
     "data": {
      "text/html": [
       "<div>\n",
       "<style scoped>\n",
       "    .dataframe tbody tr th:only-of-type {\n",
       "        vertical-align: middle;\n",
       "    }\n",
       "\n",
       "    .dataframe tbody tr th {\n",
       "        vertical-align: top;\n",
       "    }\n",
       "\n",
       "    .dataframe thead th {\n",
       "        text-align: right;\n",
       "    }\n",
       "</style>\n",
       "<table border=\"1\" class=\"dataframe\">\n",
       "  <thead>\n",
       "    <tr style=\"text-align: right;\">\n",
       "      <th></th>\n",
       "      <th>PSNR-mean (std) (dB)</th>\n",
       "      <th>SSIM-mean (std)</th>\n",
       "      <th># params</th>\n",
       "      <th>Runtime (s)</th>\n",
       "    </tr>\n",
       "  </thead>\n",
       "  <tbody>\n",
       "    <tr>\n",
       "      <th>kikinet-sep</th>\n",
       "      <td>19.45 (2.021)</td>\n",
       "      <td>0.356 (0.0524)</td>\n",
       "      <td>1999304</td>\n",
       "      <td>4.448</td>\n",
       "    </tr>\n",
       "    <tr>\n",
       "      <th>zfilled</th>\n",
       "      <td>26.93 (2.219)</td>\n",
       "      <td>0.6744 (0.04248)</td>\n",
       "      <td>0</td>\n",
       "      <td>0.156</td>\n",
       "    </tr>\n",
       "    <tr>\n",
       "      <th>cascadenet</th>\n",
       "      <td>32.59 (3.948)</td>\n",
       "      <td>0.9009 (0.04942)</td>\n",
       "      <td>424570</td>\n",
       "      <td>2.117</td>\n",
       "    </tr>\n",
       "  </tbody>\n",
       "</table>\n",
       "</div>"
      ],
      "text/plain": [
       "            PSNR-mean (std) (dB)   SSIM-mean (std) # params Runtime (s)\n",
       "kikinet-sep        19.45 (2.021)    0.356 (0.0524)  1999304       4.448\n",
       "zfilled            26.93 (2.219)  0.6744 (0.04248)        0       0.156\n",
       "cascadenet         32.59 (3.948)  0.9009 (0.04942)   424570       2.117"
      ]
     },
     "execution_count": 34,
     "metadata": {},
     "output_type": "execute_result"
    }
   ],
   "source": [
    "metrics_table"
   ]
  },
  {
   "cell_type": "code",
   "execution_count": null,
   "metadata": {},
   "outputs": [],
   "source": []
  }
 ],
 "metadata": {
  "kernelspec": {
   "display_name": "Python 3",
   "language": "python",
   "name": "python3"
  },
  "language_info": {
   "codemirror_mode": {
    "name": "ipython",
    "version": 3
   },
   "file_extension": ".py",
   "mimetype": "text/x-python",
   "name": "python",
   "nbconvert_exporter": "python",
   "pygments_lexer": "ipython3",
   "version": "3.6.8"
  },
  "notify_time": "30"
 },
 "nbformat": 4,
 "nbformat_minor": 2
}
