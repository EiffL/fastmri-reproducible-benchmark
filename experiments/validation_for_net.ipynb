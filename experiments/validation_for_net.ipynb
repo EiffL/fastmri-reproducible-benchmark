{
 "cells": [
  {
   "cell_type": "code",
   "execution_count": 1,
   "metadata": {},
   "outputs": [
    {
     "name": "stdout",
     "output_type": "stream",
     "text": [
      "/volatile/home/Zaccharie/workspace/fastmri-reproducible-benchmark\n"
     ]
    }
   ],
   "source": [
    "%cd .."
   ]
  },
  {
   "cell_type": "code",
   "execution_count": 2,
   "metadata": {},
   "outputs": [],
   "source": [
    "import sys\n",
    "sys.path.append('/volatile/home/Zaccharie/workspace/fastmri-reproducible-benchmark')"
   ]
  },
  {
   "cell_type": "code",
   "execution_count": 3,
   "metadata": {},
   "outputs": [
    {
     "name": "stderr",
     "output_type": "stream",
     "text": [
      "Using TensorFlow backend.\n"
     ]
    },
    {
     "name": "stdout",
     "output_type": "stream",
     "text": [
      "\n",
      "                 .|'''|       /.\\      '||'''|,\n",
      "                 ||          // \\\\      ||   ||\n",
      "'||''|, '||  ||` `|'''|,    //...\\\\     ||...|'\n",
      " ||  ||  `|..||   .   ||   //     \\\\    ||\n",
      " ||..|'      ||   |...|' .//       \\\\. .||\n",
      " ||       ,  |'\n",
      ".||        ''\n",
      "\n",
      "Package version: 0.0.3\n",
      "\n",
      "License: CeCILL-B\n",
      "\n",
      "Authors: \n",
      "\n",
      "Antoine Grigis <antoine.grigis@cea.fr>\n",
      "Samuel Farrens <samuel.farrens@cea.fr>\n",
      "Jean-Luc Starck <jl.stark@cea.fr>\n",
      "Philippe Ciuciu <philippe.ciuciu@cea.fr>\n",
      "\n",
      "Dependencies: \n",
      "\n",
      "scipy          : >=0.18.0  - required | 1.3.0     installed\n",
      "numpy          : >=1.11.0  - required | 1.16.4    installed\n",
      "matplotlib     : >=2.0.0   - required | 3.1.0     installed\n",
      "future         : >=0.16.0  - required | 0.17.1    installed\n",
      "astropy        : ==2.0.8   - required | 2.0.8     installed\n",
      "nibabel        : >=2.1.0   - required | 2.4.1     installed\n",
      "pyqtgraph      : >=0.10.0  - required | 0.10.0    installed\n",
      "progressbar2   : >=3.34.3  - required | ?         installed\n",
      "modopt         : >=1.1.5   - required | 1.3.3     installed\n",
      "scikit-learn   : >=0.19.1  - required | ?         installed\n",
      "pywt           : >=1.0.0   - required | 1.0.3     installed\n",
      "pybind11       : >=2.2.4   - required | 2.3.0     installed\n",
      "pysparse       : >=0.0.1   - required | 0.1.0     installed\n",
      "\n"
     ]
    }
   ],
   "source": [
    "%load_ext autoreload\n",
    "%autoreload 2\n",
    "%matplotlib nbagg\n",
    "import glob\n",
    "import os\n",
    "import os.path as op\n",
    "import random\n",
    "import time\n",
    "import warnings\n",
    "warnings.filterwarnings(\"ignore\")\n",
    "\n",
    "import h5py\n",
    "from joblib import Parallel, delayed\n",
    "from keras.models import load_model\n",
    "import matplotlib.pyplot as plt\n",
    "import numpy as np\n",
    "from tqdm import tqdm_notebook\n",
    "\n",
    "from mri.numerics.gradient import GradAnalysis2\n",
    "\n",
    "from cascading import cascade_net\n",
    "from data import ZeroFilled2DSequence, MaskShifted2DSequence, MaskedUntouched2DSequence\n",
    "from evaluate import METRIC_FUNCS, Metrics\n",
    "from fourier import FFT2\n",
    "from utils import gen_mask, keras_psnr, keras_ssim\n",
    "from reconstruction import reco_unet_from_test_file, reco_and_gt_unet_from_val_file, reco_and_gt_unet_from_val_file_no_norm, reco_and_gt_net_from_val_file"
   ]
  },
  {
   "cell_type": "code",
   "execution_count": 4,
   "metadata": {},
   "outputs": [],
   "source": [
    "np.random.seed(0)"
   ]
  },
  {
   "cell_type": "code",
   "execution_count": 5,
   "metadata": {},
   "outputs": [],
   "source": [
    "plt.rcParams['figure.figsize'] = (9, 5)\n",
    "plt.rcParams['image.cmap'] = 'gray'"
   ]
  },
  {
   "cell_type": "code",
   "execution_count": 6,
   "metadata": {},
   "outputs": [],
   "source": [
    "fourier_op = FFT2(np.array([1]))"
   ]
  },
  {
   "cell_type": "code",
   "execution_count": 7,
   "metadata": {},
   "outputs": [],
   "source": [
    "val_path = '/media/Zaccharie/UHRes/singlecoil_val/'\n",
    "val_reco_path = '/media/Zaccharie/UHRes/singlecoil_val_reco/'\n",
    "val_filenames = glob.glob(val_path + '*')"
   ]
  },
  {
   "cell_type": "code",
   "execution_count": 8,
   "metadata": {},
   "outputs": [],
   "source": [
    "AF = 4"
   ]
  },
  {
   "cell_type": "code",
   "execution_count": 9,
   "metadata": {},
   "outputs": [],
   "source": [
    "val_gen = MaskedUntouched2DSequence(val_path, mode='validation', af=AF)"
   ]
  },
  {
   "cell_type": "code",
   "execution_count": 10,
   "metadata": {},
   "outputs": [],
   "source": [
    "def metrics_for_args(model):\n",
    "    metrics = Metrics(METRIC_FUNCS)\n",
    "    pred_and_gt = [\n",
    "#         reco_and_gt_unet_from_val_file(*val_gen[i], model) \n",
    "        reco_and_gt_net_from_val_file(*val_gen[i], model)\n",
    "#         reco_and_gt_unet_from_val_file_no_norm(*val_gen[i], model) \n",
    "        for i in tqdm_notebook(range(len(val_gen)), desc='Val files')\n",
    "    ]    \n",
    "    for im_recos, images in tqdm_notebook(pred_and_gt, desc='Stats'):\n",
    "        metrics.push(images, im_recos)\n",
    "    return metrics"
   ]
  },
  {
   "cell_type": "code",
   "execution_count": 11,
   "metadata": {
    "scrolled": true
   },
   "outputs": [
    {
     "name": "stderr",
     "output_type": "stream",
     "text": [
      "WARNING: Logging before flag parsing goes to stderr.\n",
      "W0828 13:51:10.843884 140194992424704 deprecation_wrapper.py:119] From /volatile/home/Zaccharie/workspace/keras/keras/backend/tensorflow_backend.py:529: The name tf.placeholder is deprecated. Please use tf.compat.v1.placeholder instead.\n",
      "\n",
      "W0828 13:51:10.869534 140194992424704 deprecation.py:323] From /volatile/home/Zaccharie/workspace/fastmri-reproducible-benchmark/pdnet_crop.py:63: to_float (from tensorflow.python.ops.math_ops) is deprecated and will be removed in a future version.\n",
      "Instructions for updating:\n",
      "Use `tf.cast` instead.\n",
      "W0828 13:51:10.903230 140194992424704 deprecation_wrapper.py:119] From /volatile/home/Zaccharie/workspace/keras/keras/backend/tensorflow_backend.py:74: The name tf.get_default_graph is deprecated. Please use tf.compat.v1.get_default_graph instead.\n",
      "\n",
      "W0828 13:51:10.911182 140194992424704 deprecation_wrapper.py:119] From /volatile/home/Zaccharie/workspace/keras/keras/backend/tensorflow_backend.py:4467: The name tf.truncated_normal is deprecated. Please use tf.random.truncated_normal instead.\n",
      "\n",
      "W0828 13:51:11.596168 140194992424704 deprecation_wrapper.py:119] From /volatile/home/Zaccharie/workspace/keras/keras/optimizers.py:793: The name tf.train.Optimizer is deprecated. Please use tf.compat.v1.train.Optimizer instead.\n",
      "\n",
      "W0828 13:51:11.812483 140194992424704 deprecation_wrapper.py:119] From /volatile/home/Zaccharie/workspace/keras/keras/backend/tensorflow_backend.py:178: The name tf.get_default_session is deprecated. Please use tf.compat.v1.get_default_session instead.\n",
      "\n",
      "W0828 13:51:11.813979 140194992424704 deprecation_wrapper.py:119] From /volatile/home/Zaccharie/workspace/keras/keras/backend/tensorflow_backend.py:185: The name tf.ConfigProto is deprecated. Please use tf.compat.v1.ConfigProto instead.\n",
      "\n"
     ]
    }
   ],
   "source": [
    "# run_id = f'unet_wo_lastrelu_af{AF}_test'\n",
    "run_id = f'cascadenet_af{AF}_1566919402'\n",
    "epoch = 200\n",
    "chkpt_path = f'checkpoints/{run_id}-{epoch}.hdf5'\n",
    "# unet = load_model(chkpt_path, custom_objects={'keras_psnr': keras_psnr,'keras_ssim': keras_ssim})\n",
    "run_params = {\n",
    "    'n_cascade': 5,\n",
    "    'n_convs': 5,\n",
    "    'n_filters': 64,\n",
    "    'noiseless': True,\n",
    "}\n",
    "cascade_net = cascade_net(**run_params)\n",
    "cascade_net.load_weights(chkpt_path)"
   ]
  },
  {
   "cell_type": "code",
   "execution_count": 12,
   "metadata": {},
   "outputs": [
    {
     "data": {
      "application/vnd.jupyter.widget-view+json": {
       "model_id": "0b77b219bba04e15bbd52d10a4037ae5",
       "version_major": 2,
       "version_minor": 0
      },
      "text/plain": [
       "HBox(children=(IntProgress(value=0, description='Val files', max=199, style=ProgressStyle(description_width='i…"
      ]
     },
     "metadata": {},
     "output_type": "display_data"
    },
    {
     "name": "stdout",
     "output_type": "stream",
     "text": [
      "\n"
     ]
    },
    {
     "data": {
      "application/vnd.jupyter.widget-view+json": {
       "model_id": "c96f0806e10148d99000c4c1e2aa1d93",
       "version_major": 2,
       "version_minor": 0
      },
      "text/plain": [
       "HBox(children=(IntProgress(value=0, description='Stats', max=199, style=ProgressStyle(description_width='initi…"
      ]
     },
     "metadata": {},
     "output_type": "display_data"
    },
    {
     "name": "stdout",
     "output_type": "stream",
     "text": [
      "\n"
     ]
    }
   ],
   "source": [
    "metrics = metrics_for_args(cascade_net)"
   ]
  },
  {
   "cell_type": "code",
   "execution_count": 13,
   "metadata": {},
   "outputs": [
    {
     "data": {
      "text/plain": [
       "PSNR = 31.94 +/- 6.999 SSIM = 0.7185 +/- 0.2721"
      ]
     },
     "execution_count": 13,
     "metadata": {},
     "output_type": "execute_result"
    }
   ],
   "source": [
    "metrics"
   ]
  },
  {
   "cell_type": "code",
   "execution_count": null,
   "metadata": {},
   "outputs": [],
   "source": []
  }
 ],
 "metadata": {
  "kernelspec": {
   "display_name": "Python 3",
   "language": "python",
   "name": "python3"
  },
  "language_info": {
   "codemirror_mode": {
    "name": "ipython",
    "version": 3
   },
   "file_extension": ".py",
   "mimetype": "text/x-python",
   "name": "python",
   "nbconvert_exporter": "python",
   "pygments_lexer": "ipython3",
   "version": "3.6.8"
  },
  "notify_time": "30"
 },
 "nbformat": 4,
 "nbformat_minor": 2
}
