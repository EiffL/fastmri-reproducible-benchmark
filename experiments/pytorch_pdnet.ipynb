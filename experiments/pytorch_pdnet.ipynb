{
 "cells": [
  {
   "cell_type": "code",
   "execution_count": 1,
   "metadata": {},
   "outputs": [],
   "source": [
    "# # this just to make sure we are using only on CPU\n",
    "# import os\n",
    "# os.environ[\"CUDA_VISIBLE_DEVICES\"]=\"-1\""
   ]
  },
  {
   "cell_type": "code",
   "execution_count": 2,
   "metadata": {},
   "outputs": [
    {
     "name": "stdout",
     "output_type": "stream",
     "text": [
      "/home/zaccharie/workspace/fastmri-reproducible-benchmark\n"
     ]
    }
   ],
   "source": [
    "%cd .."
   ]
  },
  {
   "cell_type": "code",
   "execution_count": 3,
   "metadata": {},
   "outputs": [
    {
     "name": "stderr",
     "output_type": "stream",
     "text": [
      "Using TensorFlow backend.\n"
     ]
    }
   ],
   "source": [
    "import time\n",
    "import os.path as op\n",
    "\n",
    "import numpy as np\n",
    "import torch\n",
    "from torch.optim import Adam\n",
    "from torch.nn import functional as F\n",
    "from torch.utils.data import DataLoader\n",
    "from torch.utils.tensorboard import SummaryWriter\n",
    "from tqdm import tqdm_notebook\n",
    "\n",
    "from pdnet_crop import PDNetCrop\n",
    "from data_torch import MaskedUntouched2DDataset, MaskedUntouched2DAllLoadedDataset\n",
    "from torch_training import fit_torch, torch_psnr"
   ]
  },
  {
   "cell_type": "code",
   "execution_count": 4,
   "metadata": {},
   "outputs": [],
   "source": [
    "# paths\n",
    "# train_path = '/media/Zaccharie/UHRes/singlecoil_train/singlecoil_train/'\n",
    "# val_path = '/media/Zaccharie/UHRes/singlecoil_val/'\n",
    "# test_path = '/media/Zaccharie/UHRes/singlecoil_test/'\n",
    "\n",
    "val_path = '../singlecoil_val/'\n",
    "train_path = val_path\n",
    "test_path = '../singlecoil_test/'\n",
    "\n",
    "n_samples_train = 34742\n",
    "n_samples_val = 7135\n",
    "\n",
    "n_volumes_train = 973\n",
    "n_volumes_val = 199"
   ]
  },
  {
   "cell_type": "code",
   "execution_count": 5,
   "metadata": {},
   "outputs": [],
   "source": [
    "# data loader\n",
    "# generators\n",
    "AF = 4\n",
    "# train_gen = MaskedUntouched2DAllLoadedDataset(train_path, af=AF, inner_slices=1)\n",
    "train_gen = MaskedUntouched2DDataset(train_path, af=AF, inner_slices=1)\n",
    "val_gen = MaskedUntouched2DDataset(val_path, af=AF)\n",
    "\n",
    "train_loader = DataLoader(\n",
    "    dataset=train_gen,\n",
    "    batch_size=1,\n",
    "    shuffle=False,\n",
    "    num_workers=10,\n",
    "    pin_memory=True,\n",
    ")"
   ]
  },
  {
   "cell_type": "code",
   "execution_count": 6,
   "metadata": {},
   "outputs": [
    {
     "name": "stdout",
     "output_type": "stream",
     "text": [
      "pdnet_torch_af4_1568296527\n"
     ]
    }
   ],
   "source": [
    "run_params = {\n",
    "    'n_primal': 2,\n",
    "    'n_dual': 2,\n",
    "    'n_iter': 10,\n",
    "    'n_filters': 32,\n",
    "    'primal_only': False,\n",
    "}\n",
    "n_epochs = 500\n",
    "run_id = f'pdnet_torch_af{AF}_{int(time.time())}'\n",
    "chkpt_path = f'checkpoints/{run_id}' + '-{epoch:02d}.hdf5'\n",
    "log_dir = op.join('logs', run_id)\n",
    "print(run_id)"
   ]
  },
  {
   "cell_type": "code",
   "execution_count": 7,
   "metadata": {},
   "outputs": [],
   "source": [
    "model = PDNetCrop(**run_params)\n",
    "optimizer = Adam(model.parameters(), lr=1e-3, weight_decay=1e-7)\n",
    "writer = SummaryWriter(log_dir=log_dir)\n",
    "\n",
    "# model.cuda();"
   ]
  },
  {
   "cell_type": "code",
   "execution_count": 8,
   "metadata": {},
   "outputs": [],
   "source": [
    "model_parameters = filter(lambda p: p.requires_grad, model.parameters())\n",
    "params = sum([np.prod(p.size()) for p in model_parameters])"
   ]
  },
  {
   "cell_type": "code",
   "execution_count": 9,
   "metadata": {},
   "outputs": [
    {
     "data": {
      "text/plain": [
       "249040"
      ]
     },
     "execution_count": 9,
     "metadata": {},
     "output_type": "execute_result"
    }
   ],
   "source": [
    "params"
   ]
  },
  {
   "cell_type": "code",
   "execution_count": 10,
   "metadata": {},
   "outputs": [],
   "source": [
    "def overfit_epoch(model, data, optimizer, device):\n",
    "    model.train()\n",
    "    kspace, mask, image_gt = data\n",
    "    kspace = kspace[0] * 1e6\n",
    "    mask = mask[0]\n",
    "    image_gt = image_gt[0] * 1e6\n",
    "    kspace = kspace.to(device)\n",
    "    mask = mask.to(device)\n",
    "    image_gt = image_gt.to(device)\n",
    "    image_pred = model(kspace, mask)\n",
    "\n",
    "\n",
    "    loss = F.l1_loss(image_pred, image_gt)\n",
    "    optimizer.zero_grad()\n",
    "    loss.backward()\n",
    "    optimizer.step()\n",
    "    psnr = torch_psnr(image_pred, image_gt)\n",
    "    print('Training PSNR:', psnr)"
   ]
  },
  {
   "cell_type": "code",
   "execution_count": null,
   "metadata": {
    "scrolled": true
   },
   "outputs": [
    {
     "data": {
      "application/vnd.jupyter.widget-view+json": {
       "model_id": "66935443d05c4be3baa50d7e1eb6b641",
       "version_major": 2,
       "version_minor": 0
      },
      "text/plain": [
       "HBox(children=(IntProgress(value=0, max=500), HTML(value='')))"
      ]
     },
     "metadata": {},
     "output_type": "display_data"
    },
    {
     "name": "stdout",
     "output_type": "stream",
     "text": [
      "Training PSNR: tensor(15.4876, grad_fn=<MulBackward0>)\n",
      "Training PSNR: tensor(16.2738, grad_fn=<MulBackward0>)\n",
      "Training PSNR: tensor(17.8109, grad_fn=<MulBackward0>)\n",
      "Training PSNR: tensor(19.3993, grad_fn=<MulBackward0>)\n",
      "Training PSNR: tensor(19.3083, grad_fn=<MulBackward0>)\n",
      "Training PSNR: tensor(22.6661, grad_fn=<MulBackward0>)\n",
      "Training PSNR: tensor(22.4735, grad_fn=<MulBackward0>)\n",
      "Training PSNR: tensor(21.9442, grad_fn=<MulBackward0>)\n",
      "Training PSNR: tensor(22.3033, grad_fn=<MulBackward0>)\n",
      "Training PSNR: tensor(22.9027, grad_fn=<MulBackward0>)\n",
      "Training PSNR: tensor(23.0537, grad_fn=<MulBackward0>)\n",
      "Training PSNR: tensor(23.0528, grad_fn=<MulBackward0>)\n",
      "Training PSNR: tensor(23.5714, grad_fn=<MulBackward0>)\n",
      "Training PSNR: tensor(24.1247, grad_fn=<MulBackward0>)\n",
      "Training PSNR: tensor(24.2099, grad_fn=<MulBackward0>)\n",
      "Training PSNR: tensor(24.1388, grad_fn=<MulBackward0>)\n",
      "Training PSNR: tensor(24.2167, grad_fn=<MulBackward0>)\n",
      "Training PSNR: tensor(24.3787, grad_fn=<MulBackward0>)\n",
      "Training PSNR: tensor(24.5223, grad_fn=<MulBackward0>)\n",
      "Training PSNR: tensor(24.6429, grad_fn=<MulBackward0>)\n",
      "Training PSNR: tensor(24.7035, grad_fn=<MulBackward0>)\n",
      "Training PSNR: tensor(24.7136, grad_fn=<MulBackward0>)\n",
      "Training PSNR: tensor(24.7727, grad_fn=<MulBackward0>)\n",
      "Training PSNR: tensor(24.9326, grad_fn=<MulBackward0>)\n",
      "Training PSNR: tensor(25.1004, grad_fn=<MulBackward0>)\n",
      "Training PSNR: tensor(25.1414, grad_fn=<MulBackward0>)\n",
      "Training PSNR: tensor(25.1360, grad_fn=<MulBackward0>)\n",
      "Training PSNR: tensor(25.1557, grad_fn=<MulBackward0>)\n",
      "Training PSNR: tensor(25.1625, grad_fn=<MulBackward0>)\n",
      "Training PSNR: tensor(25.2096, grad_fn=<MulBackward0>)\n",
      "Training PSNR: tensor(25.3274, grad_fn=<MulBackward0>)\n",
      "Training PSNR: tensor(25.4403, grad_fn=<MulBackward0>)\n",
      "Training PSNR: tensor(25.5061, grad_fn=<MulBackward0>)\n",
      "Training PSNR: tensor(25.5609, grad_fn=<MulBackward0>)\n",
      "Training PSNR: tensor(25.5866, grad_fn=<MulBackward0>)\n",
      "Training PSNR: tensor(25.5895, grad_fn=<MulBackward0>)\n",
      "Training PSNR: tensor(25.6376, grad_fn=<MulBackward0>)\n",
      "Training PSNR: tensor(25.7328, grad_fn=<MulBackward0>)\n",
      "Training PSNR: tensor(25.8174, grad_fn=<MulBackward0>)\n",
      "Training PSNR: tensor(25.8739, grad_fn=<MulBackward0>)\n",
      "Training PSNR: tensor(25.9073, grad_fn=<MulBackward0>)\n",
      "Training PSNR: tensor(25.9273, grad_fn=<MulBackward0>)\n",
      "Training PSNR: tensor(25.9631, grad_fn=<MulBackward0>)\n",
      "Training PSNR: tensor(26.0088, grad_fn=<MulBackward0>)\n",
      "Training PSNR: tensor(26.0424, grad_fn=<MulBackward0>)\n",
      "Training PSNR: tensor(26.0732, grad_fn=<MulBackward0>)\n",
      "Training PSNR: tensor(26.0950, grad_fn=<MulBackward0>)\n",
      "Training PSNR: tensor(26.1172, grad_fn=<MulBackward0>)\n",
      "Training PSNR: tensor(26.1577, grad_fn=<MulBackward0>)\n",
      "Training PSNR: tensor(26.1954, grad_fn=<MulBackward0>)\n",
      "Training PSNR: tensor(26.2156, grad_fn=<MulBackward0>)\n",
      "Training PSNR: tensor(26.2277, grad_fn=<MulBackward0>)\n",
      "Training PSNR: tensor(26.2441, grad_fn=<MulBackward0>)\n",
      "Training PSNR: tensor(26.2768, grad_fn=<MulBackward0>)\n",
      "Training PSNR: tensor(26.3080, grad_fn=<MulBackward0>)\n",
      "Training PSNR: tensor(26.3319, grad_fn=<MulBackward0>)\n",
      "Training PSNR: tensor(26.3484, grad_fn=<MulBackward0>)\n",
      "Training PSNR: tensor(26.3620, grad_fn=<MulBackward0>)\n",
      "Training PSNR: tensor(26.3897, grad_fn=<MulBackward0>)\n",
      "Training PSNR: tensor(26.4197, grad_fn=<MulBackward0>)\n",
      "Training PSNR: tensor(26.4389, grad_fn=<MulBackward0>)\n",
      "Training PSNR: tensor(26.4474, grad_fn=<MulBackward0>)\n",
      "Training PSNR: tensor(26.4706, grad_fn=<MulBackward0>)\n",
      "Training PSNR: tensor(26.5006, grad_fn=<MulBackward0>)\n",
      "Training PSNR: tensor(26.5177, grad_fn=<MulBackward0>)\n",
      "Training PSNR: tensor(26.5277, grad_fn=<MulBackward0>)\n",
      "Training PSNR: tensor(26.5563, grad_fn=<MulBackward0>)\n",
      "Training PSNR: tensor(26.5874, grad_fn=<MulBackward0>)\n",
      "Training PSNR: tensor(26.6067, grad_fn=<MulBackward0>)\n",
      "Training PSNR: tensor(26.6240, grad_fn=<MulBackward0>)\n",
      "Training PSNR: tensor(26.6535, grad_fn=<MulBackward0>)\n",
      "Training PSNR: tensor(26.6777, grad_fn=<MulBackward0>)\n",
      "Training PSNR: tensor(26.6973, grad_fn=<MulBackward0>)\n",
      "Training PSNR: tensor(26.7286, grad_fn=<MulBackward0>)\n",
      "Training PSNR: tensor(26.7522, grad_fn=<MulBackward0>)\n",
      "Training PSNR: tensor(26.7680, grad_fn=<MulBackward0>)\n",
      "Training PSNR: tensor(26.8058, grad_fn=<MulBackward0>)\n",
      "Training PSNR: tensor(26.8240, grad_fn=<MulBackward0>)\n",
      "Training PSNR: tensor(26.8565, grad_fn=<MulBackward0>)\n",
      "Training PSNR: tensor(26.8656, grad_fn=<MulBackward0>)\n",
      "Training PSNR: tensor(26.9033, grad_fn=<MulBackward0>)\n",
      "Training PSNR: tensor(26.8936, grad_fn=<MulBackward0>)\n",
      "Training PSNR: tensor(26.9547, grad_fn=<MulBackward0>)\n",
      "Training PSNR: tensor(26.9155, grad_fn=<MulBackward0>)\n",
      "Training PSNR: tensor(26.9942, grad_fn=<MulBackward0>)\n",
      "Training PSNR: tensor(27.0129, grad_fn=<MulBackward0>)\n",
      "Training PSNR: tensor(27.0024, grad_fn=<MulBackward0>)\n",
      "Training PSNR: tensor(27.0575, grad_fn=<MulBackward0>)\n",
      "Training PSNR: tensor(27.0557, grad_fn=<MulBackward0>)\n",
      "Training PSNR: tensor(27.0847, grad_fn=<MulBackward0>)\n",
      "Training PSNR: tensor(27.1181, grad_fn=<MulBackward0>)\n",
      "Training PSNR: tensor(27.1077, grad_fn=<MulBackward0>)\n",
      "Training PSNR: tensor(27.1616, grad_fn=<MulBackward0>)\n",
      "Training PSNR: tensor(27.1636, grad_fn=<MulBackward0>)\n",
      "Training PSNR: tensor(27.2058, grad_fn=<MulBackward0>)\n",
      "Training PSNR: tensor(27.2273, grad_fn=<MulBackward0>)\n",
      "Training PSNR: tensor(27.2388, grad_fn=<MulBackward0>)\n",
      "Training PSNR: tensor(27.2852, grad_fn=<MulBackward0>)\n",
      "Training PSNR: tensor(27.2585, grad_fn=<MulBackward0>)\n",
      "Training PSNR: tensor(27.3279, grad_fn=<MulBackward0>)\n",
      "Training PSNR: tensor(27.2319, grad_fn=<MulBackward0>)\n",
      "Training PSNR: tensor(27.3732, grad_fn=<MulBackward0>)\n",
      "Training PSNR: tensor(27.3869, grad_fn=<MulBackward0>)\n",
      "Training PSNR: tensor(27.3958, grad_fn=<MulBackward0>)\n",
      "Training PSNR: tensor(27.4483, grad_fn=<MulBackward0>)\n",
      "Training PSNR: tensor(27.4089, grad_fn=<MulBackward0>)\n",
      "Training PSNR: tensor(27.5073, grad_fn=<MulBackward0>)\n",
      "Training PSNR: tensor(27.5335, grad_fn=<MulBackward0>)\n",
      "Training PSNR: tensor(27.4865, grad_fn=<MulBackward0>)\n"
     ]
    }
   ],
   "source": [
    "# %%time\n",
    "i, data = next(enumerate(train_loader))\n",
    "for _ in tqdm_notebook(range(500)):\n",
    "    overfit_epoch(model, data, optimizer, 'cpu')"
   ]
  },
  {
   "cell_type": "code",
   "execution_count": null,
   "metadata": {
    "scrolled": true
   },
   "outputs": [],
   "source": [
    "# %%time\n",
    "# train_gen.filenames = train_gen.filenames[:10]\n",
    "# val_gen.filenames = val_gen.filenames[:1]\n",
    "# train_loader = DataLoader(\n",
    "#     dataset=train_gen,\n",
    "#     batch_size=1,\n",
    "#     shuffle=False,\n",
    "#     num_workers=10,\n",
    "#     pin_memory=True,\n",
    "# )\n",
    "# val_loader = DataLoader(\n",
    "#     dataset=val_gen,\n",
    "#     batch_size=1,\n",
    "# #     num_workers=35,\n",
    "#     pin_memory=True,\n",
    "#     shuffle=False,\n",
    "# )\n",
    "# fit_torch(\n",
    "#     model, \n",
    "#     train_loader, \n",
    "#     val_loader, \n",
    "#     n_epochs,\n",
    "#     writer, \n",
    "#     optimizer, \n",
    "#     chkpt_path, \n",
    "#     run_id=run_id, \n",
    "#     device='cuda', \n",
    "#     save_freq=500, \n",
    "#     tqdm_wrapper=tqdm_notebook,\n",
    "# )"
   ]
  },
  {
   "cell_type": "code",
   "execution_count": null,
   "metadata": {},
   "outputs": [],
   "source": []
  }
 ],
 "metadata": {
  "kernelspec": {
   "display_name": "Python 3",
   "language": "python",
   "name": "python3"
  },
  "language_info": {
   "codemirror_mode": {
    "name": "ipython",
    "version": 3
   },
   "file_extension": ".py",
   "mimetype": "text/x-python",
   "name": "python",
   "nbconvert_exporter": "python",
   "pygments_lexer": "ipython3",
   "version": "3.6.8"
  },
  "notify_time": "30"
 },
 "nbformat": 4,
 "nbformat_minor": 2
}
