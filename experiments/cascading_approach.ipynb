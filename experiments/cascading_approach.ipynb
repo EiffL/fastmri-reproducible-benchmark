{
 "cells": [
  {
   "cell_type": "code",
   "execution_count": 1,
   "metadata": {},
   "outputs": [
    {
     "name": "stdout",
     "output_type": "stream",
     "text": [
      "/home/zaccharie/workspace/fastmri-reproducible-benchmark\n"
     ]
    }
   ],
   "source": [
    "%cd .."
   ]
  },
  {
   "cell_type": "code",
   "execution_count": 2,
   "metadata": {},
   "outputs": [
    {
     "name": "stderr",
     "output_type": "stream",
     "text": [
      "Using TensorFlow backend.\n"
     ]
    }
   ],
   "source": [
    "%load_ext autoreload\n",
    "%autoreload 2\n",
    "%matplotlib nbagg\n",
    "\n",
    "import os.path as op\n",
    "import time\n",
    "\n",
    "\n",
    "from keras.callbacks import TensorBoard, ModelCheckpoint, ReduceLROnPlateau\n",
    "from keras_tqdm import TQDMNotebookCallback\n",
    "import numpy as np\n",
    "\n",
    "from cascading import cascade_net\n",
    "from data import MaskedUntouched2DSequence\n",
    "from evaluate import psnr"
   ]
  },
  {
   "cell_type": "code",
   "execution_count": 3,
   "metadata": {},
   "outputs": [],
   "source": [
    "# paths\n",
    "train_path = '../singlecoil_val/'\n",
    "val_path = '../singlecoil_val/'\n",
    "\n",
    "n_samples_train = 7135\n",
    "n_samples_val = 7135\n",
    "\n",
    "n_volumes_train = 199\n",
    "n_volumes_val = 199"
   ]
  },
  {
   "cell_type": "code",
   "execution_count": 4,
   "metadata": {},
   "outputs": [],
   "source": [
    "# generators\n",
    "AF = 4\n",
    "# MaskShifted2DSequence, MaskShiftedSingleImage2DSequence, MaskedUntouched2DSequence\n",
    "train_gen = MaskedUntouched2DSequence(train_path, af=AF, inner_slices=8)\n",
    "val_gen = MaskedUntouched2DSequence(val_path, af=AF)"
   ]
  },
  {
   "cell_type": "code",
   "execution_count": 5,
   "metadata": {},
   "outputs": [
    {
     "name": "stdout",
     "output_type": "stream",
     "text": [
      "cascadenet_af4_1566572390\n"
     ]
    }
   ],
   "source": [
    "run_params = {\n",
    "    'n_cascade': 2, \n",
    "    'n_convs': 2, \n",
    "    'n_filters': 8,\n",
    "    'noiseless': False,\n",
    "}\n",
    "\n",
    "n_epochs = 10\n",
    "run_id = f'cascadenet_af{AF}_{int(time.time())}'\n",
    "chkpt_path = f'checkpoints/{run_id}' + '-{epoch:02d}.hdf5'\n",
    "print(run_id)"
   ]
  },
  {
   "cell_type": "code",
   "execution_count": 6,
   "metadata": {},
   "outputs": [],
   "source": [
    "chkpt_cback = ModelCheckpoint(chkpt_path, period=2, save_weights_only=True)\n",
    "log_dir = op.join('logs', run_id)\n",
    "tboard_cback = TensorBoard(\n",
    "    log_dir=log_dir, \n",
    "    histogram_freq=0, \n",
    "    write_graph=True, \n",
    "    write_images=False, \n",
    ")\n",
    "lr_on_plat_cback = ReduceLROnPlateau(monitor='val_loss', min_lr=5*1e-5, mode='auto', patience=3)\n",
    "tqdm_cb = TQDMNotebookCallback(metric_format=\"{name}: {value:e}\")"
   ]
  },
  {
   "cell_type": "code",
   "execution_count": 7,
   "metadata": {
    "scrolled": true
   },
   "outputs": [
    {
     "name": "stderr",
     "output_type": "stream",
     "text": [
      "WARNING: Logging before flag parsing goes to stderr.\n",
      "W0823 16:59:51.010439 140429478225664 deprecation_wrapper.py:119] From /home/zaccharie/workspace/keras/keras/backend/tensorflow_backend.py:529: The name tf.placeholder is deprecated. Please use tf.compat.v1.placeholder instead.\n",
      "\n",
      "W0823 16:59:51.017043 140429478225664 deprecation.py:323] From /home/zaccharie/workspace/fastmri-reproducible-benchmark/pdnet_crop.py:59: to_float (from tensorflow.python.ops.math_ops) is deprecated and will be removed in a future version.\n",
      "Instructions for updating:\n",
      "Use `tf.cast` instead.\n",
      "W0823 16:59:51.046924 140429478225664 deprecation_wrapper.py:119] From /home/zaccharie/workspace/keras/keras/backend/tensorflow_backend.py:74: The name tf.get_default_graph is deprecated. Please use tf.compat.v1.get_default_graph instead.\n",
      "\n",
      "W0823 16:59:51.052393 140429478225664 deprecation_wrapper.py:119] From /home/zaccharie/workspace/keras/keras/backend/tensorflow_backend.py:4467: The name tf.truncated_normal is deprecated. Please use tf.random.truncated_normal instead.\n",
      "\n",
      "W0823 16:59:51.214720 140429478225664 deprecation_wrapper.py:119] From /home/zaccharie/workspace/fastmri-reproducible-benchmark/cascading.py:87: The name tf.RunOptions is deprecated. Please use tf.compat.v1.RunOptions instead.\n",
      "\n",
      "W0823 16:59:51.215241 140429478225664 deprecation_wrapper.py:119] From /home/zaccharie/workspace/fastmri-reproducible-benchmark/cascading.py:88: The name tf.RunMetadata is deprecated. Please use tf.compat.v1.RunMetadata instead.\n",
      "\n",
      "W0823 16:59:51.228612 140429478225664 deprecation_wrapper.py:119] From /home/zaccharie/workspace/keras/keras/optimizers.py:793: The name tf.train.Optimizer is deprecated. Please use tf.compat.v1.train.Optimizer instead.\n",
      "\n"
     ]
    },
    {
     "name": "stdout",
     "output_type": "stream",
     "text": [
      "Model: \"model_1\"\n",
      "____________________________________________________________________________________________________\n",
      "Layer (type)                     Output Shape          Param #     Connected to                     \n",
      "====================================================================================================\n",
      "kspace_input (InputLayer)        (None, 640, None, 1)  0                                            \n",
      "____________________________________________________________________________________________________\n",
      "mask_input (InputLayer)          (None, 640, None)     0                                            \n",
      "____________________________________________________________________________________________________\n",
      "ifft_simple (Lambda)             (None, 640, None, 1)  0           kspace_input[0][0]               \n",
      "                                                                   mask_input[0][0]                 \n",
      "____________________________________________________________________________________________________\n",
      "lambda_1 (Lambda)                (None, 640, None, 1)  0           ifft_simple[0][0]                \n",
      "____________________________________________________________________________________________________\n",
      "lambda_2 (Lambda)                (None, 640, None, 1)  0           ifft_simple[0][0]                \n",
      "____________________________________________________________________________________________________\n",
      "concatenate_1 (Concatenate)      (None, 640, None, 2)  0           lambda_1[0][0]                   \n",
      "                                                                   lambda_2[0][0]                   \n",
      "____________________________________________________________________________________________________\n",
      "conv2d_1 (Conv2D)                (None, 640, None, 8)  144         concatenate_1[0][0]              \n",
      "____________________________________________________________________________________________________\n",
      "conv2d_2 (Conv2D)                (None, 640, None, 8)  576         conv2d_1[0][0]                   \n",
      "____________________________________________________________________________________________________\n",
      "conv2d_3 (Conv2D)                (None, 640, None, 2)  144         conv2d_2[0][0]                   \n",
      "____________________________________________________________________________________________________\n",
      "lambda_3 (Lambda)                (None, 640, None, 1)  0           conv2d_3[0][0]                   \n",
      "____________________________________________________________________________________________________\n",
      "res_connex_1 (Add)               (None, 640, None, 1)  0           ifft_simple[0][0]                \n",
      "                                                                   lambda_3[0][0]                   \n",
      "____________________________________________________________________________________________________\n",
      "fft_masked_1 (Lambda)            (None, 640, None, 1)  0           res_connex_1[0][0]               \n",
      "                                                                   mask_input[0][0]                 \n",
      "____________________________________________________________________________________________________\n",
      "lambda_4 (Lambda)                (None, 640, None, 1)  0           fft_masked_1[0][0]               \n",
      "____________________________________________________________________________________________________\n",
      "data_consist_fft_1 (Add)         (None, 640, None, 1)  0           kspace_input[0][0]               \n",
      "                                                                   lambda_4[0][0]                   \n",
      "____________________________________________________________________________________________________\n",
      "ifft_masked_1 (Lambda)           (None, 640, None, 1)  0           data_consist_fft_1[0][0]         \n",
      "                                                                   mask_input[0][0]                 \n",
      "____________________________________________________________________________________________________\n",
      "multiply_scalar_1 (MultiplyScala (None, 640, None, 1)  1           ifft_masked_1[0][0]              \n",
      "                                                                   ifft_masked_2[0][0]              \n",
      "____________________________________________________________________________________________________\n",
      "data_consist_enf_1 (Add)         (None, 640, None, 1)  0           res_connex_1[0][0]               \n",
      "                                                                   multiply_scalar_1[0][0]          \n",
      "____________________________________________________________________________________________________\n",
      "lambda_5 (Lambda)                (None, 640, None, 1)  0           data_consist_enf_1[0][0]         \n",
      "____________________________________________________________________________________________________\n",
      "lambda_6 (Lambda)                (None, 640, None, 1)  0           data_consist_enf_1[0][0]         \n",
      "____________________________________________________________________________________________________\n",
      "concatenate_2 (Concatenate)      (None, 640, None, 2)  0           lambda_5[0][0]                   \n",
      "                                                                   lambda_6[0][0]                   \n",
      "____________________________________________________________________________________________________\n",
      "conv2d_4 (Conv2D)                (None, 640, None, 8)  144         concatenate_2[0][0]              \n",
      "____________________________________________________________________________________________________\n",
      "conv2d_5 (Conv2D)                (None, 640, None, 8)  576         conv2d_4[0][0]                   \n",
      "____________________________________________________________________________________________________\n",
      "conv2d_6 (Conv2D)                (None, 640, None, 2)  144         conv2d_5[0][0]                   \n",
      "____________________________________________________________________________________________________\n",
      "lambda_7 (Lambda)                (None, 640, None, 1)  0           conv2d_6[0][0]                   \n",
      "____________________________________________________________________________________________________\n",
      "res_connex_2 (Add)               (None, 640, None, 1)  0           data_consist_enf_1[0][0]         \n",
      "                                                                   lambda_7[0][0]                   \n",
      "____________________________________________________________________________________________________\n",
      "fft_masked_2 (Lambda)            (None, 640, None, 1)  0           res_connex_2[0][0]               \n",
      "                                                                   mask_input[0][0]                 \n",
      "____________________________________________________________________________________________________\n",
      "lambda_8 (Lambda)                (None, 640, None, 1)  0           fft_masked_2[0][0]               \n",
      "____________________________________________________________________________________________________\n",
      "data_consist_fft_2 (Add)         (None, 640, None, 1)  0           kspace_input[0][0]               \n",
      "                                                                   lambda_8[0][0]                   \n",
      "____________________________________________________________________________________________________\n",
      "ifft_masked_2 (Lambda)           (None, 640, None, 1)  0           data_consist_fft_2[0][0]         \n",
      "                                                                   mask_input[0][0]                 \n",
      "____________________________________________________________________________________________________\n",
      "data_consist_enf_2 (Add)         (None, 640, None, 1)  0           res_connex_2[0][0]               \n",
      "                                                                   multiply_scalar_1[1][0]          \n",
      "____________________________________________________________________________________________________\n",
      "image_module (Lambda)            (None, 640, None, 1)  0           data_consist_enf_2[0][0]         \n",
      "____________________________________________________________________________________________________\n",
      "cropping (Lambda)                (None, 320, 320, 1)   0           image_module[0][0]               \n",
      "====================================================================================================\n",
      "Total params: 1,729\n",
      "Trainable params: 1,729\n",
      "Non-trainable params: 0\n",
      "____________________________________________________________________________________________________\n",
      "None\n"
     ]
    }
   ],
   "source": [
    "model, run_metadata = cascade_net(lr=1e-3, **run_params)\n",
    "print(model.summary(line_length=100))"
   ]
  },
  {
   "cell_type": "code",
   "execution_count": 8,
   "metadata": {
    "scrolled": false
   },
   "outputs": [
    {
     "name": "stderr",
     "output_type": "stream",
     "text": [
      "W0823 16:59:52.130730 140429478225664 deprecation_wrapper.py:119] From /home/zaccharie/workspace/keras/keras/callbacks.py:1122: The name tf.summary.merge_all is deprecated. Please use tf.compat.v1.summary.merge_all instead.\n",
      "\n",
      "W0823 16:59:52.131265 140429478225664 deprecation_wrapper.py:119] From /home/zaccharie/workspace/keras/keras/callbacks.py:1125: The name tf.summary.FileWriter is deprecated. Please use tf.compat.v1.summary.FileWriter instead.\n",
      "\n"
     ]
    },
    {
     "name": "stdout",
     "output_type": "stream",
     "text": [
      "Train on 8 samples, validate on 38 samples\n",
      "Epoch 1/1\n",
      " - 96s - loss: 5.8385e-06 - mean_squared_error: 6.1160e-11 - keras_psnr: 26.8721 - keras_ssim: 0.5493 - val_loss: 9.9581e-06 - val_mean_squared_error: 1.5986e-10 - val_keras_psnr: 20.9585 - val_keras_ssim: 0.3024\n"
     ]
    },
    {
     "data": {
      "text/plain": [
       "<keras.callbacks.History at 0x7fb7dbdc4898>"
      ]
     },
     "execution_count": 8,
     "metadata": {},
     "output_type": "execute_result"
    }
   ],
   "source": [
    "# simple overfit trials\n",
    "\n",
    "data = train_gen[0]\n",
    "val_data = val_gen[1]\n",
    "model.fit(\n",
    "    x=data[0], \n",
    "    y=data[1], \n",
    "    validation_data=val_data, \n",
    "    batch_size=data[0][0].shape[0], \n",
    "    callbacks=[tboard_cback],\n",
    "    epochs=1,\n",
    "    verbose=2, \n",
    "    shuffle=False,\n",
    ")"
   ]
  },
  {
   "cell_type": "code",
   "execution_count": 14,
   "metadata": {},
   "outputs": [
    {
     "name": "stdout",
     "output_type": "stream",
     "text": [
      "91.3 ms ± 1.79 ms per loop (mean ± std. dev. of 7 runs, 10 loops each)\n"
     ]
    }
   ],
   "source": [
    "%%timeit\n",
    "\n",
    "fft_inv = FFT2(np.ones(1)).adj_op\n",
    "for i in range(len(data[0][0])):\n",
    "    fft_inv(np.squeeze(data[0][0][i]))"
   ]
  },
  {
   "cell_type": "code",
   "execution_count": null,
   "metadata": {},
   "outputs": [],
   "source": []
  },
  {
   "cell_type": "code",
   "execution_count": 12,
   "metadata": {},
   "outputs": [],
   "source": [
    "from fourier import FFT2"
   ]
  },
  {
   "cell_type": "code",
   "execution_count": 10,
   "metadata": {},
   "outputs": [],
   "source": [
    "from tensorflow.python.client import timeline\n",
    "tl = timeline.Timeline(run_metadata.step_stats)\n",
    "ctf = tl.generate_chrome_trace_format()\n",
    "with open('timeline.json', 'w') as f:\n",
    "    f.write(ctf)"
   ]
  },
  {
   "cell_type": "code",
   "execution_count": null,
   "metadata": {},
   "outputs": [],
   "source": []
  }
 ],
 "metadata": {
  "kernelspec": {
   "display_name": "Python 3",
   "language": "python",
   "name": "python3"
  },
  "language_info": {
   "codemirror_mode": {
    "name": "ipython",
    "version": 3
   },
   "file_extension": ".py",
   "mimetype": "text/x-python",
   "name": "python",
   "nbconvert_exporter": "python",
   "pygments_lexer": "ipython3",
   "version": "3.6.8"
  }
 },
 "nbformat": 4,
 "nbformat_minor": 2
}
