{
 "cells": [
  {
   "cell_type": "code",
   "execution_count": 1,
   "metadata": {},
   "outputs": [
    {
     "name": "stdout",
     "output_type": "stream",
     "text": [
      "/home/zaccharie/workspace/fastmri-reproducible-benchmark\n"
     ]
    }
   ],
   "source": [
    "%cd .."
   ]
  },
  {
   "cell_type": "code",
   "execution_count": 2,
   "metadata": {},
   "outputs": [
    {
     "name": "stderr",
     "output_type": "stream",
     "text": [
      "Using TensorFlow backend.\n"
     ]
    }
   ],
   "source": [
    "%load_ext autoreload\n",
    "%autoreload 2\n",
    "%matplotlib nbagg\n",
    "\n",
    "import os.path as op\n",
    "import time\n",
    "\n",
    "\n",
    "from keras.callbacks import TensorBoard, ModelCheckpoint, ReduceLROnPlateau\n",
    "from keras_tqdm import TQDMNotebookCallback\n",
    "\n",
    "from cascading import cascade_net\n",
    "from data import MaskedUntouched2DSequence"
   ]
  },
  {
   "cell_type": "code",
   "execution_count": 3,
   "metadata": {},
   "outputs": [],
   "source": [
    "# paths\n",
    "train_path = '../singlecoil_val/'\n",
    "val_path = '../singlecoil_val/'\n",
    "\n",
    "n_samples_train = 7135\n",
    "n_samples_val = 7135\n",
    "\n",
    "n_volumes_train = 199\n",
    "n_volumes_val = 199"
   ]
  },
  {
   "cell_type": "code",
   "execution_count": 4,
   "metadata": {},
   "outputs": [],
   "source": [
    "# generators\n",
    "AF = 4\n",
    "# MaskShifted2DSequence, MaskShiftedSingleImage2DSequence, MaskedUntouched2DSequence\n",
    "train_gen = MaskedUntouched2DSequence(train_path, af=AF, inner_slices=8)\n",
    "val_gen = MaskedUntouched2DSequence(val_path, af=AF)"
   ]
  },
  {
   "cell_type": "code",
   "execution_count": 5,
   "metadata": {},
   "outputs": [],
   "source": [
    "run_params = {\n",
    "    'n_cascade': 2, \n",
    "    'n_convs': 2, \n",
    "    'n_filters': 8,\n",
    "}\n",
    "\n",
    "n_epochs = 10\n",
    "run_id = f'cascadenet_af{AF}_{int(time.time())}'\n",
    "chkpt_path = f'checkpoints/{run_id}' + '-{epoch:02d}.hdf5'"
   ]
  },
  {
   "cell_type": "code",
   "execution_count": 6,
   "metadata": {},
   "outputs": [],
   "source": [
    "chkpt_cback = ModelCheckpoint(chkpt_path, period=2, save_weights_only=True)\n",
    "log_dir = op.join('logs', run_id)\n",
    "tboard_cback = TensorBoard(\n",
    "    log_dir=log_dir, \n",
    "    histogram_freq=0, \n",
    "    write_graph=True, \n",
    "    write_images=False, \n",
    ")\n",
    "lr_on_plat_cback = ReduceLROnPlateau(monitor='val_loss', min_lr=5*1e-5, mode='auto', patience=3)\n",
    "tqdm_cb = TQDMNotebookCallback(metric_format=\"{name}: {value:e}\")"
   ]
  },
  {
   "cell_type": "code",
   "execution_count": 7,
   "metadata": {
    "scrolled": false
   },
   "outputs": [
    {
     "name": "stderr",
     "output_type": "stream",
     "text": [
      "WARNING: Logging before flag parsing goes to stderr.\n",
      "W0823 13:27:26.807692 139926072043264 deprecation_wrapper.py:119] From /home/zaccharie/workspace/keras/keras/backend/tensorflow_backend.py:529: The name tf.placeholder is deprecated. Please use tf.compat.v1.placeholder instead.\n",
      "\n",
      "W0823 13:27:26.814299 139926072043264 deprecation.py:323] From /home/zaccharie/workspace/fastmri-reproducible-benchmark/pdnet_crop.py:59: to_float (from tensorflow.python.ops.math_ops) is deprecated and will be removed in a future version.\n",
      "Instructions for updating:\n",
      "Use `tf.cast` instead.\n",
      "W0823 13:27:26.841716 139926072043264 deprecation_wrapper.py:119] From /home/zaccharie/workspace/keras/keras/backend/tensorflow_backend.py:74: The name tf.get_default_graph is deprecated. Please use tf.compat.v1.get_default_graph instead.\n",
      "\n",
      "W0823 13:27:26.847037 139926072043264 deprecation_wrapper.py:119] From /home/zaccharie/workspace/keras/keras/backend/tensorflow_backend.py:4467: The name tf.truncated_normal is deprecated. Please use tf.random.truncated_normal instead.\n",
      "\n",
      "W0823 13:27:27.010289 139926072043264 deprecation_wrapper.py:119] From /home/zaccharie/workspace/keras/keras/optimizers.py:793: The name tf.train.Optimizer is deprecated. Please use tf.compat.v1.train.Optimizer instead.\n",
      "\n"
     ]
    },
    {
     "name": "stdout",
     "output_type": "stream",
     "text": [
      "Model: \"model_1\"\n",
      "______________________________________________________________________________________________________________________________________________________\n",
      "Layer (type)                                     Output Shape                     Param #           Connected to                                      \n",
      "======================================================================================================================================================\n",
      "kspace_input (InputLayer)                        (None, 640, None, 1)             0                                                                   \n",
      "______________________________________________________________________________________________________________________________________________________\n",
      "mask_input (InputLayer)                          (None, 640, None)                0                                                                   \n",
      "______________________________________________________________________________________________________________________________________________________\n",
      "ifft_simple (Lambda)                             (None, 640, None, 1)             0                 kspace_input[0][0]                                \n",
      "                                                                                                    mask_input[0][0]                                  \n",
      "______________________________________________________________________________________________________________________________________________________\n",
      "lambda_1 (Lambda)                                (None, 640, None, 1)             0                 ifft_simple[0][0]                                 \n",
      "______________________________________________________________________________________________________________________________________________________\n",
      "lambda_2 (Lambda)                                (None, 640, None, 1)             0                 ifft_simple[0][0]                                 \n",
      "______________________________________________________________________________________________________________________________________________________\n",
      "concatenate_1 (Concatenate)                      (None, 640, None, 2)             0                 lambda_1[0][0]                                    \n",
      "                                                                                                    lambda_2[0][0]                                    \n",
      "______________________________________________________________________________________________________________________________________________________\n",
      "conv2d_1 (Conv2D)                                (None, 640, None, 8)             144               concatenate_1[0][0]                               \n",
      "______________________________________________________________________________________________________________________________________________________\n",
      "conv2d_2 (Conv2D)                                (None, 640, None, 8)             576               conv2d_1[0][0]                                    \n",
      "______________________________________________________________________________________________________________________________________________________\n",
      "conv2d_3 (Conv2D)                                (None, 640, None, 2)             144               conv2d_2[0][0]                                    \n",
      "______________________________________________________________________________________________________________________________________________________\n",
      "lambda_3 (Lambda)                                (None, 640, None, 1)             0                 conv2d_3[0][0]                                    \n",
      "______________________________________________________________________________________________________________________________________________________\n",
      "res_connex_1 (Add)                               (None, 640, None, 1)             0                 ifft_simple[0][0]                                 \n",
      "                                                                                                    lambda_3[0][0]                                    \n",
      "______________________________________________________________________________________________________________________________________________________\n",
      "fft_masked_1 (Lambda)                            (None, 640, None, 1)             0                 res_connex_1[0][0]                                \n",
      "                                                                                                    mask_input[0][0]                                  \n",
      "______________________________________________________________________________________________________________________________________________________\n",
      "lambda_4 (Lambda)                                (None, 640, None, 1)             0                 fft_masked_1[0][0]                                \n",
      "______________________________________________________________________________________________________________________________________________________\n",
      "data_consist_fft_1 (Add)                         (None, 640, None, 1)             0                 kspace_input[0][0]                                \n",
      "                                                                                                    lambda_4[0][0]                                    \n",
      "______________________________________________________________________________________________________________________________________________________\n",
      "ifft_masked_1 (Lambda)                           (None, 640, None, 1)             0                 data_consist_fft_1[0][0]                          \n",
      "                                                                                                    mask_input[0][0]                                  \n",
      "______________________________________________________________________________________________________________________________________________________\n",
      "lambda_5 (Lambda)                                (None, 640, None, 1)             0                 ifft_masked_1[0][0]                               \n",
      "______________________________________________________________________________________________________________________________________________________\n",
      "data_consist_enf_1 (Add)                         (None, 640, None, 1)             0                 res_connex_1[0][0]                                \n",
      "                                                                                                    lambda_5[0][0]                                    \n",
      "______________________________________________________________________________________________________________________________________________________\n",
      "lambda_6 (Lambda)                                (None, 640, None, 1)             0                 data_consist_enf_1[0][0]                          \n",
      "______________________________________________________________________________________________________________________________________________________\n",
      "lambda_7 (Lambda)                                (None, 640, None, 1)             0                 data_consist_enf_1[0][0]                          \n",
      "______________________________________________________________________________________________________________________________________________________\n",
      "concatenate_2 (Concatenate)                      (None, 640, None, 2)             0                 lambda_6[0][0]                                    \n",
      "                                                                                                    lambda_7[0][0]                                    \n",
      "______________________________________________________________________________________________________________________________________________________\n",
      "conv2d_4 (Conv2D)                                (None, 640, None, 8)             144               concatenate_2[0][0]                               \n",
      "______________________________________________________________________________________________________________________________________________________\n",
      "conv2d_5 (Conv2D)                                (None, 640, None, 8)             576               conv2d_4[0][0]                                    \n",
      "______________________________________________________________________________________________________________________________________________________\n",
      "conv2d_6 (Conv2D)                                (None, 640, None, 2)             144               conv2d_5[0][0]                                    \n",
      "______________________________________________________________________________________________________________________________________________________\n",
      "lambda_8 (Lambda)                                (None, 640, None, 1)             0                 conv2d_6[0][0]                                    \n",
      "______________________________________________________________________________________________________________________________________________________\n",
      "res_connex_2 (Add)                               (None, 640, None, 1)             0                 data_consist_enf_1[0][0]                          \n",
      "                                                                                                    lambda_8[0][0]                                    \n",
      "______________________________________________________________________________________________________________________________________________________\n",
      "fft_masked_2 (Lambda)                            (None, 640, None, 1)             0                 res_connex_2[0][0]                                \n",
      "                                                                                                    mask_input[0][0]                                  \n",
      "______________________________________________________________________________________________________________________________________________________\n",
      "lambda_9 (Lambda)                                (None, 640, None, 1)             0                 fft_masked_2[0][0]                                \n",
      "______________________________________________________________________________________________________________________________________________________\n",
      "data_consist_fft_2 (Add)                         (None, 640, None, 1)             0                 kspace_input[0][0]                                \n",
      "                                                                                                    lambda_9[0][0]                                    \n",
      "______________________________________________________________________________________________________________________________________________________\n",
      "ifft_masked_2 (Lambda)                           (None, 640, None, 1)             0                 data_consist_fft_2[0][0]                          \n",
      "                                                                                                    mask_input[0][0]                                  \n",
      "______________________________________________________________________________________________________________________________________________________\n",
      "lambda_10 (Lambda)                               (None, 640, None, 1)             0                 ifft_masked_2[0][0]                               \n",
      "______________________________________________________________________________________________________________________________________________________\n",
      "data_consist_enf_2 (Add)                         (None, 640, None, 1)             0                 res_connex_2[0][0]                                \n",
      "                                                                                                    lambda_10[0][0]                                   \n",
      "______________________________________________________________________________________________________________________________________________________\n",
      "image_module (Lambda)                            (None, 640, None, 1)             0                 data_consist_enf_2[0][0]                          \n",
      "______________________________________________________________________________________________________________________________________________________\n",
      "cropping (Lambda)                                (None, 320, 320, 1)              0                 image_module[0][0]                                \n",
      "======================================================================================================================================================\n",
      "Total params: 1,728\n",
      "Trainable params: 1,728\n",
      "Non-trainable params: 0\n",
      "______________________________________________________________________________________________________________________________________________________\n",
      "None\n"
     ]
    }
   ],
   "source": [
    "model = cascade_net(lr=1e-3, **run_params)\n",
    "print(model.summary(line_length=100))"
   ]
  },
  {
   "cell_type": "code",
   "execution_count": null,
   "metadata": {
    "scrolled": false
   },
   "outputs": [
    {
     "name": "stderr",
     "output_type": "stream",
     "text": [
      "W0823 13:27:27.695096 139926072043264 deprecation_wrapper.py:119] From /home/zaccharie/workspace/keras/keras/backend/tensorflow_backend.py:1021: The name tf.assign_add is deprecated. Please use tf.compat.v1.assign_add instead.\n",
      "\n",
      "W0823 13:27:27.752016 139926072043264 deprecation_wrapper.py:119] From /home/zaccharie/workspace/keras/keras/backend/tensorflow_backend.py:1008: The name tf.assign is deprecated. Please use tf.compat.v1.assign instead.\n",
      "\n"
     ]
    },
    {
     "name": "stdout",
     "output_type": "stream",
     "text": [
      "Train on 8 samples, validate on 38 samples\n",
      "Epoch 1/100\n"
     ]
    }
   ],
   "source": [
    "# simple overfit trials\n",
    "\n",
    "data = train_gen[0]\n",
    "val_data = val_gen[1]\n",
    "model.fit(\n",
    "    x=data[0], \n",
    "    y=data[1], \n",
    "    validation_data=val_data, \n",
    "    batch_size=data[0][0].shape[0], \n",
    "    epochs=100,\n",
    "    verbose=2, \n",
    "    shuffle=False,\n",
    ")"
   ]
  },
  {
   "cell_type": "code",
   "execution_count": null,
   "metadata": {},
   "outputs": [],
   "source": []
  }
 ],
 "metadata": {
  "kernelspec": {
   "display_name": "Python 3",
   "language": "python",
   "name": "python3"
  },
  "language_info": {
   "codemirror_mode": {
    "name": "ipython",
    "version": 3
   },
   "file_extension": ".py",
   "mimetype": "text/x-python",
   "name": "python",
   "nbconvert_exporter": "python",
   "pygments_lexer": "ipython3",
   "version": "3.6.8"
  }
 },
 "nbformat": 4,
 "nbformat_minor": 2
}
