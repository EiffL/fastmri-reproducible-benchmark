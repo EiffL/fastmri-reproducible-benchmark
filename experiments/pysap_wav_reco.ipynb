{
 "cells": [
  {
   "cell_type": "code",
   "execution_count": 1,
   "metadata": {},
   "outputs": [
    {
     "name": "stderr",
     "output_type": "stream",
     "text": [
      "/volatile/home/Zaccharie/workspace/pysap-mri/mri/operators/fourier/cartesian.py:33: UserWarning: pynufft python package has not been found. If needed use the master release. Till then you cannot use NUFFT on GPU\n",
      "  warnings.warn(\"pynufft python package has not been found. If needed use \"\n",
      "/volatile/home/Zaccharie/workspace/pysap-mri/mri/operators/fourier/non_cartesian.py:33: UserWarning: pynufft python package has not been found. If needed use the master release. Till then you cannot use NUFFT on GPU\n",
      "  warnings.warn(\"pynufft python package has not been found. If needed use \"\n"
     ]
    },
    {
     "name": "stdout",
     "output_type": "stream",
     "text": [
      "\n",
      "                 .|'''|       /.\\      '||'''|,\n",
      "                 ||          // \\\\      ||   ||\n",
      "'||''|, '||  ||` `|'''|,    //...\\\\     ||...|'\n",
      " ||  ||  `|..||   .   ||   //     \\\\    ||\n",
      " ||..|'      ||   |...|' .//       \\\\. .||\n",
      " ||       ,  |'\n",
      ".||        ''\n",
      "\n",
      "Package version: 0.0.3\n",
      "\n",
      "License: CeCILL-B\n",
      "\n",
      "Authors: \n",
      "\n",
      "Antoine Grigis <antoine.grigis@cea.fr>\n",
      "Samuel Farrens <samuel.farrens@cea.fr>\n",
      "Jean-Luc Starck <jl.stark@cea.fr>\n",
      "Philippe Ciuciu <philippe.ciuciu@cea.fr>\n",
      "\n",
      "Dependencies: \n",
      "\n",
      "scipy          : >=1.3.0   - required | 1.3.3     installed\n",
      "numpy          : >=1.16.4  - required | 1.17.4    installed\n",
      "matplotlib     : >=3.0.0   - required | 3.1.2     installed\n",
      "astropy        : >=3.0.0   - required | 4.0       installed\n",
      "nibabel        : >=2.3.2   - required | 2.5.1     installed\n",
      "pyqtgraph      : >=0.10.0  - required | 0.10.0    installed\n",
      "progressbar2   : >=3.34.3  - required | ?         installed\n",
      "modopt         : >=1.4.0   - required | 1.4.2     installed\n",
      "scikit-learn   : >=0.19.1  - required | ?         installed\n",
      "pywt           : >=1.0.0   - required | 1.1.1     installed\n",
      "pysparse       : >=0.0.1   - required | 0.1.0     installed\n",
      "\n"
     ]
    }
   ],
   "source": [
    "%matplotlib nbagg\n",
    "import matplotlib.pyplot as plt\n",
    "from modopt.opt.proximity import SparseThreshold\n",
    "from modopt.opt.linear import Identity\n",
    "from mri.operators import FFT, WaveletN\n",
    "from mri.operators.utils import convert_mask_to_locations\n",
    "from mri.reconstructors import SingleChannelReconstructor\n",
    "import numpy as np\n",
    "from tqdm.notebook import tqdm\n",
    "\n",
    "from fastmri_recon.data.fastmri_sequences import Masked2DSequence\n",
    "from fastmri_recon.helpers.utils import crop_center\n",
    "# from fastmri_recon.helpers.evaluate import psnr, ssim\n",
    "from fastmri_recon.helpers.evaluate import METRIC_FUNCS, Metrics"
   ]
  },
  {
   "cell_type": "code",
   "execution_count": 2,
   "metadata": {},
   "outputs": [],
   "source": [
    "plt.rcParams['figure.figsize'] = (9, 5)\n",
    "plt.rcParams['image.cmap'] = 'gray'"
   ]
  },
  {
   "cell_type": "code",
   "execution_count": 3,
   "metadata": {},
   "outputs": [],
   "source": [
    "# paths\n",
    "train_path = '/media/Zaccharie/UHRes/singlecoil_train/singlecoil_train/'\n",
    "val_path = '/media/Zaccharie/UHRes/singlecoil_val/'\n",
    "test_path = '/media/Zaccharie/UHRes/singlecoil_test/'\n",
    "\n",
    "n_volumes_train = 973\n",
    "n_volumes_val = 199"
   ]
  },
  {
   "cell_type": "code",
   "execution_count": 4,
   "metadata": {},
   "outputs": [],
   "source": [
    "# generators\n",
    "# CORPDFS_FBK CORPD_FBK None\n",
    "AF = 4\n",
    "train_gen = Masked2DSequence(train_path, af=AF, inner_slices=1, contrast='CORPDFS_FBK')\n",
    "val_gen = Masked2DSequence(val_path, af=AF, contrast='CORPDFS_FBK')"
   ]
  },
  {
   "cell_type": "code",
   "execution_count": 29,
   "metadata": {},
   "outputs": [],
   "source": [
    "def reconstruct_image(kspace, mask, max_iter=200, mu=0.1):\n",
    "    kspace_squeeze = np.squeeze(kspace)\n",
    "    mask = np.squeeze(mask)\n",
    "    k_shape = kspace_squeeze.shape\n",
    "    kspace_loc = convert_mask_to_locations(mask)\n",
    "    fourier_op = FFT(samples=kspace_loc, shape=k_shape)\n",
    "    linear_op = WaveletN(wavelet_name=\"sym8\", nb_scales=4)\n",
    "    regularizer_op = SparseThreshold(Identity(), 2 * 1e-7, thresh_type=\"soft\")\n",
    "    reconstructor = SingleChannelReconstructor(\n",
    "        fourier_op=fourier_op,\n",
    "        linear_op=linear_op,\n",
    "        regularizer_op=regularizer_op,\n",
    "        gradient_formulation='synthesis',\n",
    "        verbose=0,\n",
    "    )\n",
    "    x_final, costs, metrics = reconstructor.reconstruct(\n",
    "        kspace_data=kspace_squeeze,\n",
    "        optimization_alg='fista',\n",
    "        num_iterations=max_iter,\n",
    "        restart_strategy='greedy',\n",
    "        xi_restart=0.96, \n",
    "        s_greedy=1.3,\n",
    "        metric_call_period=None,\n",
    "        progress=False,\n",
    "        cost_op_kwargs={'cost_interval': None},\n",
    "    )\n",
    "    image_rec_fs = crop_center(np.abs(x_final), 320)\n",
    "    return image_rec_fs\n",
    "\n",
    "def reconstruct_zero(kspace, mask):\n",
    "    kspace_squeeze = np.squeeze(kspace)\n",
    "    mask = np.squeeze(mask)\n",
    "    k_shape = kspace_squeeze.shape\n",
    "    kspace_loc = convert_mask_to_locations(mask)\n",
    "    fourier_op = FFT(samples=kspace_loc, shape=k_shape)\n",
    "    x = fourier_op.adj_op(kspace_squeeze)\n",
    "    image_rec_fs = crop_center(np.abs(x), 320)\n",
    "    return image_rec_fs"
   ]
  },
  {
   "cell_type": "code",
   "execution_count": 21,
   "metadata": {},
   "outputs": [],
   "source": [
    "def metrics_for_args(sub_prop=0.2, **rec_kwargs):\n",
    "    metrics = Metrics(METRIC_FUNCS)\n",
    "    sampled_ids = np.random.randint(high=n_volumes_train//2-1, low=0, size=int(sub_prop * n_volumes_train//2))\n",
    "    pred_and_gt = [\n",
    "        (reconstruct_image(*train_gen[sampled_id][0], **rec_kwargs), train_gen[sampled_id][1])\n",
    "        for sampled_id in tqdm(sampled_ids, desc='K-spaces')\n",
    "    ]\n",
    "\n",
    "    for im_recos, images in tqdm(pred_and_gt, desc='Stats'):\n",
    "        metrics.push(images[..., 0], im_recos[None, ...])\n",
    "    return metrics"
   ]
  },
  {
   "cell_type": "code",
   "execution_count": 22,
   "metadata": {},
   "outputs": [],
   "source": [
    "def metrics_zero(sub_prop=0.2):\n",
    "    metrics = Metrics(METRIC_FUNCS)\n",
    "    sampled_ids = np.random.randint(high=n_volumes_train//2-1, low=0, size=int(sub_prop * n_volumes_train//2))\n",
    "    pred_and_gt = [\n",
    "        (reconstruct_zero(*train_gen[sampled_id][0]), train_gen[sampled_id][1])\n",
    "        for sampled_id in tqdm(sampled_ids, desc='K-spaces')\n",
    "    ]\n",
    "\n",
    "    for im_recos, images in tqdm(pred_and_gt, desc='Stats for zero'):\n",
    "        metrics.push(images[..., 0], im_recos[None, ...])\n",
    "    return metrics"
   ]
  },
  {
   "cell_type": "code",
   "execution_count": 18,
   "metadata": {},
   "outputs": [
    {
     "data": {
      "application/vnd.jupyter.widget-view+json": {
       "model_id": "903beeea4e5c4973af301b8afce93711",
       "version_major": 2,
       "version_minor": 0
      },
      "text/plain": [
       "HBox(children=(FloatProgress(value=0.0, description='K-spaces', max=486.0, style=ProgressStyle(description_wid…"
      ]
     },
     "metadata": {},
     "output_type": "display_data"
    },
    {
     "name": "stdout",
     "output_type": "stream",
     "text": [
      "\n"
     ]
    },
    {
     "data": {
      "application/vnd.jupyter.widget-view+json": {
       "model_id": "a2222b7bd38d4d91bc2e35757498e300",
       "version_major": 2,
       "version_minor": 0
      },
      "text/plain": [
       "HBox(children=(FloatProgress(value=0.0, description='Stats for zero', max=486.0, style=ProgressStyle(descripti…"
      ]
     },
     "metadata": {},
     "output_type": "display_data"
    },
    {
     "name": "stderr",
     "output_type": "stream",
     "text": [
      "/volatile/home/Zaccharie/workspace/fastmri-reproducible-benchmark/fastmri_recon/helpers/evaluate.py:24: UserWarning: DEPRECATED: skimage.measure.compare_psnr has been moved to skimage.metrics.peak_signal_noise_ratio. It will be removed from skimage.measure in version 0.18.\n",
      "  return compare_psnr(gt, pred, data_range=gt.max() - gt.min())\n",
      "/volatile/home/Zaccharie/workspace/fastmri-reproducible-benchmark/fastmri_recon/helpers/evaluate.py:30: UserWarning: DEPRECATED: skimage.measure.compare_ssim has been moved to skimage.metrics.structural_similarity. It will be removed from skimage.measure in version 0.18.\n",
      "  gt.transpose(1, 2, 0), pred.transpose(1, 2, 0), multichannel=True, data_range=gt.max() - gt.min()\n"
     ]
    },
    {
     "name": "stdout",
     "output_type": "stream",
     "text": [
      "\n"
     ]
    },
    {
     "data": {
      "text/plain": [
       "24.494717492428688"
      ]
     },
     "execution_count": 18,
     "metadata": {},
     "output_type": "execute_result"
    }
   ],
   "source": [
    "metrics_zero(sub_prop=1).metrics['PSNR'].mean()"
   ]
  },
  {
   "cell_type": "code",
   "execution_count": 32,
   "metadata": {},
   "outputs": [
    {
     "data": {
      "application/javascript": [
       "/* Put everything inside the global mpl namespace */\n",
       "window.mpl = {};\n",
       "\n",
       "\n",
       "mpl.get_websocket_type = function() {\n",
       "    if (typeof(WebSocket) !== 'undefined') {\n",
       "        return WebSocket;\n",
       "    } else if (typeof(MozWebSocket) !== 'undefined') {\n",
       "        return MozWebSocket;\n",
       "    } else {\n",
       "        alert('Your browser does not have WebSocket support. ' +\n",
       "              'Please try Chrome, Safari or Firefox ≥ 6. ' +\n",
       "              'Firefox 4 and 5 are also supported but you ' +\n",
       "              'have to enable WebSockets in about:config.');\n",
       "    };\n",
       "}\n",
       "\n",
       "mpl.figure = function(figure_id, websocket, ondownload, parent_element) {\n",
       "    this.id = figure_id;\n",
       "\n",
       "    this.ws = websocket;\n",
       "\n",
       "    this.supports_binary = (this.ws.binaryType != undefined);\n",
       "\n",
       "    if (!this.supports_binary) {\n",
       "        var warnings = document.getElementById(\"mpl-warnings\");\n",
       "        if (warnings) {\n",
       "            warnings.style.display = 'block';\n",
       "            warnings.textContent = (\n",
       "                \"This browser does not support binary websocket messages. \" +\n",
       "                    \"Performance may be slow.\");\n",
       "        }\n",
       "    }\n",
       "\n",
       "    this.imageObj = new Image();\n",
       "\n",
       "    this.context = undefined;\n",
       "    this.message = undefined;\n",
       "    this.canvas = undefined;\n",
       "    this.rubberband_canvas = undefined;\n",
       "    this.rubberband_context = undefined;\n",
       "    this.format_dropdown = undefined;\n",
       "\n",
       "    this.image_mode = 'full';\n",
       "\n",
       "    this.root = $('<div/>');\n",
       "    this._root_extra_style(this.root)\n",
       "    this.root.attr('style', 'display: inline-block');\n",
       "\n",
       "    $(parent_element).append(this.root);\n",
       "\n",
       "    this._init_header(this);\n",
       "    this._init_canvas(this);\n",
       "    this._init_toolbar(this);\n",
       "\n",
       "    var fig = this;\n",
       "\n",
       "    this.waiting = false;\n",
       "\n",
       "    this.ws.onopen =  function () {\n",
       "            fig.send_message(\"supports_binary\", {value: fig.supports_binary});\n",
       "            fig.send_message(\"send_image_mode\", {});\n",
       "            if (mpl.ratio != 1) {\n",
       "                fig.send_message(\"set_dpi_ratio\", {'dpi_ratio': mpl.ratio});\n",
       "            }\n",
       "            fig.send_message(\"refresh\", {});\n",
       "        }\n",
       "\n",
       "    this.imageObj.onload = function() {\n",
       "            if (fig.image_mode == 'full') {\n",
       "                // Full images could contain transparency (where diff images\n",
       "                // almost always do), so we need to clear the canvas so that\n",
       "                // there is no ghosting.\n",
       "                fig.context.clearRect(0, 0, fig.canvas.width, fig.canvas.height);\n",
       "            }\n",
       "            fig.context.drawImage(fig.imageObj, 0, 0);\n",
       "        };\n",
       "\n",
       "    this.imageObj.onunload = function() {\n",
       "        fig.ws.close();\n",
       "    }\n",
       "\n",
       "    this.ws.onmessage = this._make_on_message_function(this);\n",
       "\n",
       "    this.ondownload = ondownload;\n",
       "}\n",
       "\n",
       "mpl.figure.prototype._init_header = function() {\n",
       "    var titlebar = $(\n",
       "        '<div class=\"ui-dialog-titlebar ui-widget-header ui-corner-all ' +\n",
       "        'ui-helper-clearfix\"/>');\n",
       "    var titletext = $(\n",
       "        '<div class=\"ui-dialog-title\" style=\"width: 100%; ' +\n",
       "        'text-align: center; padding: 3px;\"/>');\n",
       "    titlebar.append(titletext)\n",
       "    this.root.append(titlebar);\n",
       "    this.header = titletext[0];\n",
       "}\n",
       "\n",
       "\n",
       "\n",
       "mpl.figure.prototype._canvas_extra_style = function(canvas_div) {\n",
       "\n",
       "}\n",
       "\n",
       "\n",
       "mpl.figure.prototype._root_extra_style = function(canvas_div) {\n",
       "\n",
       "}\n",
       "\n",
       "mpl.figure.prototype._init_canvas = function() {\n",
       "    var fig = this;\n",
       "\n",
       "    var canvas_div = $('<div/>');\n",
       "\n",
       "    canvas_div.attr('style', 'position: relative; clear: both; outline: 0');\n",
       "\n",
       "    function canvas_keyboard_event(event) {\n",
       "        return fig.key_event(event, event['data']);\n",
       "    }\n",
       "\n",
       "    canvas_div.keydown('key_press', canvas_keyboard_event);\n",
       "    canvas_div.keyup('key_release', canvas_keyboard_event);\n",
       "    this.canvas_div = canvas_div\n",
       "    this._canvas_extra_style(canvas_div)\n",
       "    this.root.append(canvas_div);\n",
       "\n",
       "    var canvas = $('<canvas/>');\n",
       "    canvas.addClass('mpl-canvas');\n",
       "    canvas.attr('style', \"left: 0; top: 0; z-index: 0; outline: 0\")\n",
       "\n",
       "    this.canvas = canvas[0];\n",
       "    this.context = canvas[0].getContext(\"2d\");\n",
       "\n",
       "    var backingStore = this.context.backingStorePixelRatio ||\n",
       "\tthis.context.webkitBackingStorePixelRatio ||\n",
       "\tthis.context.mozBackingStorePixelRatio ||\n",
       "\tthis.context.msBackingStorePixelRatio ||\n",
       "\tthis.context.oBackingStorePixelRatio ||\n",
       "\tthis.context.backingStorePixelRatio || 1;\n",
       "\n",
       "    mpl.ratio = (window.devicePixelRatio || 1) / backingStore;\n",
       "\n",
       "    var rubberband = $('<canvas/>');\n",
       "    rubberband.attr('style', \"position: absolute; left: 0; top: 0; z-index: 1;\")\n",
       "\n",
       "    var pass_mouse_events = true;\n",
       "\n",
       "    canvas_div.resizable({\n",
       "        start: function(event, ui) {\n",
       "            pass_mouse_events = false;\n",
       "        },\n",
       "        resize: function(event, ui) {\n",
       "            fig.request_resize(ui.size.width, ui.size.height);\n",
       "        },\n",
       "        stop: function(event, ui) {\n",
       "            pass_mouse_events = true;\n",
       "            fig.request_resize(ui.size.width, ui.size.height);\n",
       "        },\n",
       "    });\n",
       "\n",
       "    function mouse_event_fn(event) {\n",
       "        if (pass_mouse_events)\n",
       "            return fig.mouse_event(event, event['data']);\n",
       "    }\n",
       "\n",
       "    rubberband.mousedown('button_press', mouse_event_fn);\n",
       "    rubberband.mouseup('button_release', mouse_event_fn);\n",
       "    // Throttle sequential mouse events to 1 every 20ms.\n",
       "    rubberband.mousemove('motion_notify', mouse_event_fn);\n",
       "\n",
       "    rubberband.mouseenter('figure_enter', mouse_event_fn);\n",
       "    rubberband.mouseleave('figure_leave', mouse_event_fn);\n",
       "\n",
       "    canvas_div.on(\"wheel\", function (event) {\n",
       "        event = event.originalEvent;\n",
       "        event['data'] = 'scroll'\n",
       "        if (event.deltaY < 0) {\n",
       "            event.step = 1;\n",
       "        } else {\n",
       "            event.step = -1;\n",
       "        }\n",
       "        mouse_event_fn(event);\n",
       "    });\n",
       "\n",
       "    canvas_div.append(canvas);\n",
       "    canvas_div.append(rubberband);\n",
       "\n",
       "    this.rubberband = rubberband;\n",
       "    this.rubberband_canvas = rubberband[0];\n",
       "    this.rubberband_context = rubberband[0].getContext(\"2d\");\n",
       "    this.rubberband_context.strokeStyle = \"#000000\";\n",
       "\n",
       "    this._resize_canvas = function(width, height) {\n",
       "        // Keep the size of the canvas, canvas container, and rubber band\n",
       "        // canvas in synch.\n",
       "        canvas_div.css('width', width)\n",
       "        canvas_div.css('height', height)\n",
       "\n",
       "        canvas.attr('width', width * mpl.ratio);\n",
       "        canvas.attr('height', height * mpl.ratio);\n",
       "        canvas.attr('style', 'width: ' + width + 'px; height: ' + height + 'px;');\n",
       "\n",
       "        rubberband.attr('width', width);\n",
       "        rubberband.attr('height', height);\n",
       "    }\n",
       "\n",
       "    // Set the figure to an initial 600x600px, this will subsequently be updated\n",
       "    // upon first draw.\n",
       "    this._resize_canvas(600, 600);\n",
       "\n",
       "    // Disable right mouse context menu.\n",
       "    $(this.rubberband_canvas).bind(\"contextmenu\",function(e){\n",
       "        return false;\n",
       "    });\n",
       "\n",
       "    function set_focus () {\n",
       "        canvas.focus();\n",
       "        canvas_div.focus();\n",
       "    }\n",
       "\n",
       "    window.setTimeout(set_focus, 100);\n",
       "}\n",
       "\n",
       "mpl.figure.prototype._init_toolbar = function() {\n",
       "    var fig = this;\n",
       "\n",
       "    var nav_element = $('<div/>');\n",
       "    nav_element.attr('style', 'width: 100%');\n",
       "    this.root.append(nav_element);\n",
       "\n",
       "    // Define a callback function for later on.\n",
       "    function toolbar_event(event) {\n",
       "        return fig.toolbar_button_onclick(event['data']);\n",
       "    }\n",
       "    function toolbar_mouse_event(event) {\n",
       "        return fig.toolbar_button_onmouseover(event['data']);\n",
       "    }\n",
       "\n",
       "    for(var toolbar_ind in mpl.toolbar_items) {\n",
       "        var name = mpl.toolbar_items[toolbar_ind][0];\n",
       "        var tooltip = mpl.toolbar_items[toolbar_ind][1];\n",
       "        var image = mpl.toolbar_items[toolbar_ind][2];\n",
       "        var method_name = mpl.toolbar_items[toolbar_ind][3];\n",
       "\n",
       "        if (!name) {\n",
       "            // put a spacer in here.\n",
       "            continue;\n",
       "        }\n",
       "        var button = $('<button/>');\n",
       "        button.addClass('ui-button ui-widget ui-state-default ui-corner-all ' +\n",
       "                        'ui-button-icon-only');\n",
       "        button.attr('role', 'button');\n",
       "        button.attr('aria-disabled', 'false');\n",
       "        button.click(method_name, toolbar_event);\n",
       "        button.mouseover(tooltip, toolbar_mouse_event);\n",
       "\n",
       "        var icon_img = $('<span/>');\n",
       "        icon_img.addClass('ui-button-icon-primary ui-icon');\n",
       "        icon_img.addClass(image);\n",
       "        icon_img.addClass('ui-corner-all');\n",
       "\n",
       "        var tooltip_span = $('<span/>');\n",
       "        tooltip_span.addClass('ui-button-text');\n",
       "        tooltip_span.html(tooltip);\n",
       "\n",
       "        button.append(icon_img);\n",
       "        button.append(tooltip_span);\n",
       "\n",
       "        nav_element.append(button);\n",
       "    }\n",
       "\n",
       "    var fmt_picker_span = $('<span/>');\n",
       "\n",
       "    var fmt_picker = $('<select/>');\n",
       "    fmt_picker.addClass('mpl-toolbar-option ui-widget ui-widget-content');\n",
       "    fmt_picker_span.append(fmt_picker);\n",
       "    nav_element.append(fmt_picker_span);\n",
       "    this.format_dropdown = fmt_picker[0];\n",
       "\n",
       "    for (var ind in mpl.extensions) {\n",
       "        var fmt = mpl.extensions[ind];\n",
       "        var option = $(\n",
       "            '<option/>', {selected: fmt === mpl.default_extension}).html(fmt);\n",
       "        fmt_picker.append(option);\n",
       "    }\n",
       "\n",
       "    // Add hover states to the ui-buttons\n",
       "    $( \".ui-button\" ).hover(\n",
       "        function() { $(this).addClass(\"ui-state-hover\");},\n",
       "        function() { $(this).removeClass(\"ui-state-hover\");}\n",
       "    );\n",
       "\n",
       "    var status_bar = $('<span class=\"mpl-message\"/>');\n",
       "    nav_element.append(status_bar);\n",
       "    this.message = status_bar[0];\n",
       "}\n",
       "\n",
       "mpl.figure.prototype.request_resize = function(x_pixels, y_pixels) {\n",
       "    // Request matplotlib to resize the figure. Matplotlib will then trigger a resize in the client,\n",
       "    // which will in turn request a refresh of the image.\n",
       "    this.send_message('resize', {'width': x_pixels, 'height': y_pixels});\n",
       "}\n",
       "\n",
       "mpl.figure.prototype.send_message = function(type, properties) {\n",
       "    properties['type'] = type;\n",
       "    properties['figure_id'] = this.id;\n",
       "    this.ws.send(JSON.stringify(properties));\n",
       "}\n",
       "\n",
       "mpl.figure.prototype.send_draw_message = function() {\n",
       "    if (!this.waiting) {\n",
       "        this.waiting = true;\n",
       "        this.ws.send(JSON.stringify({type: \"draw\", figure_id: this.id}));\n",
       "    }\n",
       "}\n",
       "\n",
       "\n",
       "mpl.figure.prototype.handle_save = function(fig, msg) {\n",
       "    var format_dropdown = fig.format_dropdown;\n",
       "    var format = format_dropdown.options[format_dropdown.selectedIndex].value;\n",
       "    fig.ondownload(fig, format);\n",
       "}\n",
       "\n",
       "\n",
       "mpl.figure.prototype.handle_resize = function(fig, msg) {\n",
       "    var size = msg['size'];\n",
       "    if (size[0] != fig.canvas.width || size[1] != fig.canvas.height) {\n",
       "        fig._resize_canvas(size[0], size[1]);\n",
       "        fig.send_message(\"refresh\", {});\n",
       "    };\n",
       "}\n",
       "\n",
       "mpl.figure.prototype.handle_rubberband = function(fig, msg) {\n",
       "    var x0 = msg['x0'] / mpl.ratio;\n",
       "    var y0 = (fig.canvas.height - msg['y0']) / mpl.ratio;\n",
       "    var x1 = msg['x1'] / mpl.ratio;\n",
       "    var y1 = (fig.canvas.height - msg['y1']) / mpl.ratio;\n",
       "    x0 = Math.floor(x0) + 0.5;\n",
       "    y0 = Math.floor(y0) + 0.5;\n",
       "    x1 = Math.floor(x1) + 0.5;\n",
       "    y1 = Math.floor(y1) + 0.5;\n",
       "    var min_x = Math.min(x0, x1);\n",
       "    var min_y = Math.min(y0, y1);\n",
       "    var width = Math.abs(x1 - x0);\n",
       "    var height = Math.abs(y1 - y0);\n",
       "\n",
       "    fig.rubberband_context.clearRect(\n",
       "        0, 0, fig.canvas.width / mpl.ratio, fig.canvas.height / mpl.ratio);\n",
       "\n",
       "    fig.rubberband_context.strokeRect(min_x, min_y, width, height);\n",
       "}\n",
       "\n",
       "mpl.figure.prototype.handle_figure_label = function(fig, msg) {\n",
       "    // Updates the figure title.\n",
       "    fig.header.textContent = msg['label'];\n",
       "}\n",
       "\n",
       "mpl.figure.prototype.handle_cursor = function(fig, msg) {\n",
       "    var cursor = msg['cursor'];\n",
       "    switch(cursor)\n",
       "    {\n",
       "    case 0:\n",
       "        cursor = 'pointer';\n",
       "        break;\n",
       "    case 1:\n",
       "        cursor = 'default';\n",
       "        break;\n",
       "    case 2:\n",
       "        cursor = 'crosshair';\n",
       "        break;\n",
       "    case 3:\n",
       "        cursor = 'move';\n",
       "        break;\n",
       "    }\n",
       "    fig.rubberband_canvas.style.cursor = cursor;\n",
       "}\n",
       "\n",
       "mpl.figure.prototype.handle_message = function(fig, msg) {\n",
       "    fig.message.textContent = msg['message'];\n",
       "}\n",
       "\n",
       "mpl.figure.prototype.handle_draw = function(fig, msg) {\n",
       "    // Request the server to send over a new figure.\n",
       "    fig.send_draw_message();\n",
       "}\n",
       "\n",
       "mpl.figure.prototype.handle_image_mode = function(fig, msg) {\n",
       "    fig.image_mode = msg['mode'];\n",
       "}\n",
       "\n",
       "mpl.figure.prototype.updated_canvas_event = function() {\n",
       "    // Called whenever the canvas gets updated.\n",
       "    this.send_message(\"ack\", {});\n",
       "}\n",
       "\n",
       "// A function to construct a web socket function for onmessage handling.\n",
       "// Called in the figure constructor.\n",
       "mpl.figure.prototype._make_on_message_function = function(fig) {\n",
       "    return function socket_on_message(evt) {\n",
       "        if (evt.data instanceof Blob) {\n",
       "            /* FIXME: We get \"Resource interpreted as Image but\n",
       "             * transferred with MIME type text/plain:\" errors on\n",
       "             * Chrome.  But how to set the MIME type?  It doesn't seem\n",
       "             * to be part of the websocket stream */\n",
       "            evt.data.type = \"image/png\";\n",
       "\n",
       "            /* Free the memory for the previous frames */\n",
       "            if (fig.imageObj.src) {\n",
       "                (window.URL || window.webkitURL).revokeObjectURL(\n",
       "                    fig.imageObj.src);\n",
       "            }\n",
       "\n",
       "            fig.imageObj.src = (window.URL || window.webkitURL).createObjectURL(\n",
       "                evt.data);\n",
       "            fig.updated_canvas_event();\n",
       "            fig.waiting = false;\n",
       "            return;\n",
       "        }\n",
       "        else if (typeof evt.data === 'string' && evt.data.slice(0, 21) == \"data:image/png;base64\") {\n",
       "            fig.imageObj.src = evt.data;\n",
       "            fig.updated_canvas_event();\n",
       "            fig.waiting = false;\n",
       "            return;\n",
       "        }\n",
       "\n",
       "        var msg = JSON.parse(evt.data);\n",
       "        var msg_type = msg['type'];\n",
       "\n",
       "        // Call the  \"handle_{type}\" callback, which takes\n",
       "        // the figure and JSON message as its only arguments.\n",
       "        try {\n",
       "            var callback = fig[\"handle_\" + msg_type];\n",
       "        } catch (e) {\n",
       "            console.log(\"No handler for the '\" + msg_type + \"' message type: \", msg);\n",
       "            return;\n",
       "        }\n",
       "\n",
       "        if (callback) {\n",
       "            try {\n",
       "                // console.log(\"Handling '\" + msg_type + \"' message: \", msg);\n",
       "                callback(fig, msg);\n",
       "            } catch (e) {\n",
       "                console.log(\"Exception inside the 'handler_\" + msg_type + \"' callback:\", e, e.stack, msg);\n",
       "            }\n",
       "        }\n",
       "    };\n",
       "}\n",
       "\n",
       "// from http://stackoverflow.com/questions/1114465/getting-mouse-location-in-canvas\n",
       "mpl.findpos = function(e) {\n",
       "    //this section is from http://www.quirksmode.org/js/events_properties.html\n",
       "    var targ;\n",
       "    if (!e)\n",
       "        e = window.event;\n",
       "    if (e.target)\n",
       "        targ = e.target;\n",
       "    else if (e.srcElement)\n",
       "        targ = e.srcElement;\n",
       "    if (targ.nodeType == 3) // defeat Safari bug\n",
       "        targ = targ.parentNode;\n",
       "\n",
       "    // jQuery normalizes the pageX and pageY\n",
       "    // pageX,Y are the mouse positions relative to the document\n",
       "    // offset() returns the position of the element relative to the document\n",
       "    var x = e.pageX - $(targ).offset().left;\n",
       "    var y = e.pageY - $(targ).offset().top;\n",
       "\n",
       "    return {\"x\": x, \"y\": y};\n",
       "};\n",
       "\n",
       "/*\n",
       " * return a copy of an object with only non-object keys\n",
       " * we need this to avoid circular references\n",
       " * http://stackoverflow.com/a/24161582/3208463\n",
       " */\n",
       "function simpleKeys (original) {\n",
       "  return Object.keys(original).reduce(function (obj, key) {\n",
       "    if (typeof original[key] !== 'object')\n",
       "        obj[key] = original[key]\n",
       "    return obj;\n",
       "  }, {});\n",
       "}\n",
       "\n",
       "mpl.figure.prototype.mouse_event = function(event, name) {\n",
       "    var canvas_pos = mpl.findpos(event)\n",
       "\n",
       "    if (name === 'button_press')\n",
       "    {\n",
       "        this.canvas.focus();\n",
       "        this.canvas_div.focus();\n",
       "    }\n",
       "\n",
       "    var x = canvas_pos.x * mpl.ratio;\n",
       "    var y = canvas_pos.y * mpl.ratio;\n",
       "\n",
       "    this.send_message(name, {x: x, y: y, button: event.button,\n",
       "                             step: event.step,\n",
       "                             guiEvent: simpleKeys(event)});\n",
       "\n",
       "    /* This prevents the web browser from automatically changing to\n",
       "     * the text insertion cursor when the button is pressed.  We want\n",
       "     * to control all of the cursor setting manually through the\n",
       "     * 'cursor' event from matplotlib */\n",
       "    event.preventDefault();\n",
       "    return false;\n",
       "}\n",
       "\n",
       "mpl.figure.prototype._key_event_extra = function(event, name) {\n",
       "    // Handle any extra behaviour associated with a key event\n",
       "}\n",
       "\n",
       "mpl.figure.prototype.key_event = function(event, name) {\n",
       "\n",
       "    // Prevent repeat events\n",
       "    if (name == 'key_press')\n",
       "    {\n",
       "        if (event.which === this._key)\n",
       "            return;\n",
       "        else\n",
       "            this._key = event.which;\n",
       "    }\n",
       "    if (name == 'key_release')\n",
       "        this._key = null;\n",
       "\n",
       "    var value = '';\n",
       "    if (event.ctrlKey && event.which != 17)\n",
       "        value += \"ctrl+\";\n",
       "    if (event.altKey && event.which != 18)\n",
       "        value += \"alt+\";\n",
       "    if (event.shiftKey && event.which != 16)\n",
       "        value += \"shift+\";\n",
       "\n",
       "    value += 'k';\n",
       "    value += event.which.toString();\n",
       "\n",
       "    this._key_event_extra(event, name);\n",
       "\n",
       "    this.send_message(name, {key: value,\n",
       "                             guiEvent: simpleKeys(event)});\n",
       "    return false;\n",
       "}\n",
       "\n",
       "mpl.figure.prototype.toolbar_button_onclick = function(name) {\n",
       "    if (name == 'download') {\n",
       "        this.handle_save(this, null);\n",
       "    } else {\n",
       "        this.send_message(\"toolbar_button\", {name: name});\n",
       "    }\n",
       "};\n",
       "\n",
       "mpl.figure.prototype.toolbar_button_onmouseover = function(tooltip) {\n",
       "    this.message.textContent = tooltip;\n",
       "};\n",
       "mpl.toolbar_items = [[\"Home\", \"Reset original view\", \"fa fa-home icon-home\", \"home\"], [\"Back\", \"Back to previous view\", \"fa fa-arrow-left icon-arrow-left\", \"back\"], [\"Forward\", \"Forward to next view\", \"fa fa-arrow-right icon-arrow-right\", \"forward\"], [\"\", \"\", \"\", \"\"], [\"Pan\", \"Pan axes with left mouse, zoom with right\", \"fa fa-arrows icon-move\", \"pan\"], [\"Zoom\", \"Zoom to rectangle\", \"fa fa-square-o icon-check-empty\", \"zoom\"], [\"\", \"\", \"\", \"\"], [\"Download\", \"Download plot\", \"fa fa-floppy-o icon-save\", \"download\"]];\n",
       "\n",
       "mpl.extensions = [\"eps\", \"jpeg\", \"pdf\", \"png\", \"ps\", \"raw\", \"svg\", \"tif\"];\n",
       "\n",
       "mpl.default_extension = \"png\";var comm_websocket_adapter = function(comm) {\n",
       "    // Create a \"websocket\"-like object which calls the given IPython comm\n",
       "    // object with the appropriate methods. Currently this is a non binary\n",
       "    // socket, so there is still some room for performance tuning.\n",
       "    var ws = {};\n",
       "\n",
       "    ws.close = function() {\n",
       "        comm.close()\n",
       "    };\n",
       "    ws.send = function(m) {\n",
       "        //console.log('sending', m);\n",
       "        comm.send(m);\n",
       "    };\n",
       "    // Register the callback with on_msg.\n",
       "    comm.on_msg(function(msg) {\n",
       "        //console.log('receiving', msg['content']['data'], msg);\n",
       "        // Pass the mpl event to the overridden (by mpl) onmessage function.\n",
       "        ws.onmessage(msg['content']['data'])\n",
       "    });\n",
       "    return ws;\n",
       "}\n",
       "\n",
       "mpl.mpl_figure_comm = function(comm, msg) {\n",
       "    // This is the function which gets called when the mpl process\n",
       "    // starts-up an IPython Comm through the \"matplotlib\" channel.\n",
       "\n",
       "    var id = msg.content.data.id;\n",
       "    // Get hold of the div created by the display call when the Comm\n",
       "    // socket was opened in Python.\n",
       "    var element = $(\"#\" + id);\n",
       "    var ws_proxy = comm_websocket_adapter(comm)\n",
       "\n",
       "    function ondownload(figure, format) {\n",
       "        window.open(figure.imageObj.src);\n",
       "    }\n",
       "\n",
       "    var fig = new mpl.figure(id, ws_proxy,\n",
       "                           ondownload,\n",
       "                           element.get(0));\n",
       "\n",
       "    // Call onopen now - mpl needs it, as it is assuming we've passed it a real\n",
       "    // web socket which is closed, not our websocket->open comm proxy.\n",
       "    ws_proxy.onopen();\n",
       "\n",
       "    fig.parent_element = element.get(0);\n",
       "    fig.cell_info = mpl.find_output_cell(\"<div id='\" + id + \"'></div>\");\n",
       "    if (!fig.cell_info) {\n",
       "        console.error(\"Failed to find cell for figure\", id, fig);\n",
       "        return;\n",
       "    }\n",
       "\n",
       "    var output_index = fig.cell_info[2]\n",
       "    var cell = fig.cell_info[0];\n",
       "\n",
       "};\n",
       "\n",
       "mpl.figure.prototype.handle_close = function(fig, msg) {\n",
       "    var width = fig.canvas.width/mpl.ratio\n",
       "    fig.root.unbind('remove')\n",
       "\n",
       "    // Update the output cell to use the data from the current canvas.\n",
       "    fig.push_to_output();\n",
       "    var dataURL = fig.canvas.toDataURL();\n",
       "    // Re-enable the keyboard manager in IPython - without this line, in FF,\n",
       "    // the notebook keyboard shortcuts fail.\n",
       "    IPython.keyboard_manager.enable()\n",
       "    $(fig.parent_element).html('<img src=\"' + dataURL + '\" width=\"' + width + '\">');\n",
       "    fig.close_ws(fig, msg);\n",
       "}\n",
       "\n",
       "mpl.figure.prototype.close_ws = function(fig, msg){\n",
       "    fig.send_message('closing', msg);\n",
       "    // fig.ws.close()\n",
       "}\n",
       "\n",
       "mpl.figure.prototype.push_to_output = function(remove_interactive) {\n",
       "    // Turn the data on the canvas into data in the output cell.\n",
       "    var width = this.canvas.width/mpl.ratio\n",
       "    var dataURL = this.canvas.toDataURL();\n",
       "    this.cell_info[1]['text/html'] = '<img src=\"' + dataURL + '\" width=\"' + width + '\">';\n",
       "}\n",
       "\n",
       "mpl.figure.prototype.updated_canvas_event = function() {\n",
       "    // Tell IPython that the notebook contents must change.\n",
       "    IPython.notebook.set_dirty(true);\n",
       "    this.send_message(\"ack\", {});\n",
       "    var fig = this;\n",
       "    // Wait a second, then push the new image to the DOM so\n",
       "    // that it is saved nicely (might be nice to debounce this).\n",
       "    setTimeout(function () { fig.push_to_output() }, 1000);\n",
       "}\n",
       "\n",
       "mpl.figure.prototype._init_toolbar = function() {\n",
       "    var fig = this;\n",
       "\n",
       "    var nav_element = $('<div/>');\n",
       "    nav_element.attr('style', 'width: 100%');\n",
       "    this.root.append(nav_element);\n",
       "\n",
       "    // Define a callback function for later on.\n",
       "    function toolbar_event(event) {\n",
       "        return fig.toolbar_button_onclick(event['data']);\n",
       "    }\n",
       "    function toolbar_mouse_event(event) {\n",
       "        return fig.toolbar_button_onmouseover(event['data']);\n",
       "    }\n",
       "\n",
       "    for(var toolbar_ind in mpl.toolbar_items){\n",
       "        var name = mpl.toolbar_items[toolbar_ind][0];\n",
       "        var tooltip = mpl.toolbar_items[toolbar_ind][1];\n",
       "        var image = mpl.toolbar_items[toolbar_ind][2];\n",
       "        var method_name = mpl.toolbar_items[toolbar_ind][3];\n",
       "\n",
       "        if (!name) { continue; };\n",
       "\n",
       "        var button = $('<button class=\"btn btn-default\" href=\"#\" title=\"' + name + '\"><i class=\"fa ' + image + ' fa-lg\"></i></button>');\n",
       "        button.click(method_name, toolbar_event);\n",
       "        button.mouseover(tooltip, toolbar_mouse_event);\n",
       "        nav_element.append(button);\n",
       "    }\n",
       "\n",
       "    // Add the status bar.\n",
       "    var status_bar = $('<span class=\"mpl-message\" style=\"text-align:right; float: right;\"/>');\n",
       "    nav_element.append(status_bar);\n",
       "    this.message = status_bar[0];\n",
       "\n",
       "    // Add the close button to the window.\n",
       "    var buttongrp = $('<div class=\"btn-group inline pull-right\"></div>');\n",
       "    var button = $('<button class=\"btn btn-mini btn-primary\" href=\"#\" title=\"Stop Interaction\"><i class=\"fa fa-power-off icon-remove icon-large\"></i></button>');\n",
       "    button.click(function (evt) { fig.handle_close(fig, {}); } );\n",
       "    button.mouseover('Stop Interaction', toolbar_mouse_event);\n",
       "    buttongrp.append(button);\n",
       "    var titlebar = this.root.find($('.ui-dialog-titlebar'));\n",
       "    titlebar.prepend(buttongrp);\n",
       "}\n",
       "\n",
       "mpl.figure.prototype._root_extra_style = function(el){\n",
       "    var fig = this\n",
       "    el.on(\"remove\", function(){\n",
       "\tfig.close_ws(fig, {});\n",
       "    });\n",
       "}\n",
       "\n",
       "mpl.figure.prototype._canvas_extra_style = function(el){\n",
       "    // this is important to make the div 'focusable\n",
       "    el.attr('tabindex', 0)\n",
       "    // reach out to IPython and tell the keyboard manager to turn it's self\n",
       "    // off when our div gets focus\n",
       "\n",
       "    // location in version 3\n",
       "    if (IPython.notebook.keyboard_manager) {\n",
       "        IPython.notebook.keyboard_manager.register_events(el);\n",
       "    }\n",
       "    else {\n",
       "        // location in version 2\n",
       "        IPython.keyboard_manager.register_events(el);\n",
       "    }\n",
       "\n",
       "}\n",
       "\n",
       "mpl.figure.prototype._key_event_extra = function(event, name) {\n",
       "    var manager = IPython.notebook.keyboard_manager;\n",
       "    if (!manager)\n",
       "        manager = IPython.keyboard_manager;\n",
       "\n",
       "    // Check for shift+enter\n",
       "    if (event.shiftKey && event.which == 13) {\n",
       "        this.canvas_div.blur();\n",
       "        // select the cell after this one\n",
       "        var index = IPython.notebook.find_cell_index(this.cell_info[0]);\n",
       "        IPython.notebook.select(index + 1);\n",
       "    }\n",
       "}\n",
       "\n",
       "mpl.figure.prototype.handle_save = function(fig, msg) {\n",
       "    fig.ondownload(fig, null);\n",
       "}\n",
       "\n",
       "\n",
       "mpl.find_output_cell = function(html_output) {\n",
       "    // Return the cell and output element which can be found *uniquely* in the notebook.\n",
       "    // Note - this is a bit hacky, but it is done because the \"notebook_saving.Notebook\"\n",
       "    // IPython event is triggered only after the cells have been serialised, which for\n",
       "    // our purposes (turning an active figure into a static one), is too late.\n",
       "    var cells = IPython.notebook.get_cells();\n",
       "    var ncells = cells.length;\n",
       "    for (var i=0; i<ncells; i++) {\n",
       "        var cell = cells[i];\n",
       "        if (cell.cell_type === 'code'){\n",
       "            for (var j=0; j<cell.output_area.outputs.length; j++) {\n",
       "                var data = cell.output_area.outputs[j];\n",
       "                if (data.data) {\n",
       "                    // IPython >= 3 moved mimebundle to data attribute of output\n",
       "                    data = data.data;\n",
       "                }\n",
       "                if (data['text/html'] == html_output) {\n",
       "                    return [cell, data, j];\n",
       "                }\n",
       "            }\n",
       "        }\n",
       "    }\n",
       "}\n",
       "\n",
       "// Register the function which deals with the matplotlib target/channel.\n",
       "// The kernel may be null if the page has been refreshed.\n",
       "if (IPython.notebook.kernel != null) {\n",
       "    IPython.notebook.kernel.comm_manager.register_target('matplotlib', mpl.mpl_figure_comm);\n",
       "}\n"
      ],
      "text/plain": [
       "<IPython.core.display.Javascript object>"
      ]
     },
     "metadata": {},
     "output_type": "display_data"
    },
    {
     "data": {
      "text/html": [
       "<img src=\"data:image/png;base64,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\" width=\"899.9999804930258\">"
      ],
      "text/plain": [
       "<IPython.core.display.HTML object>"
      ]
     },
     "metadata": {},
     "output_type": "display_data"
    },
    {
     "data": {
      "application/vnd.jupyter.widget-view+json": {
       "model_id": "127b512d8e3d47cab166a06c48a6d7c0",
       "version_major": 2,
       "version_minor": 0
      },
      "text/plain": [
       "HBox(children=(FloatProgress(value=0.0, description='K-spaces', max=4.0, style=ProgressStyle(description_width…"
      ]
     },
     "metadata": {},
     "output_type": "display_data"
    },
    {
     "name": "stderr",
     "output_type": "stream",
     "text": [
      "\u001b[33mWARNING\u001b[0m: Making input data immutable.\n",
      "\u001b[33mWARNING\u001b[0m: Making input data immutable.\n",
      "\u001b[33mWARNING\u001b[0m: Making input data immutable.\n",
      "\u001b[33mWARNING\u001b[0m: Making input data immutable.\n",
      "\u001b[33mWARNING\u001b[0m: Making input data immutable.\n",
      "\u001b[33mWARNING\u001b[0m: Making input data immutable.\n",
      "\u001b[33mWARNING\u001b[0m: Making input data immutable.\n",
      "\u001b[33mWARNING\u001b[0m: Making input data immutable.\n"
     ]
    },
    {
     "name": "stdout",
     "output_type": "stream",
     "text": [
      "\n"
     ]
    },
    {
     "data": {
      "application/vnd.jupyter.widget-view+json": {
       "model_id": "e3f79cac56c74e5d91c4fa94868ed78c",
       "version_major": 2,
       "version_minor": 0
      },
      "text/plain": [
       "HBox(children=(FloatProgress(value=0.0, description='Stats', max=4.0, style=ProgressStyle(description_width='i…"
      ]
     },
     "metadata": {},
     "output_type": "display_data"
    },
    {
     "name": "stdout",
     "output_type": "stream",
     "text": [
      "\n"
     ]
    },
    {
     "data": {
      "text/plain": [
       "<matplotlib.lines.Line2D at 0x7fd11dc0d6d8>"
      ]
     },
     "execution_count": 32,
     "metadata": {},
     "output_type": "execute_result"
    }
   ],
   "source": [
    "# sanity check\n",
    "plt.figure()\n",
    "plt.errorbar(\n",
    "    0, \n",
    "    metrics_for_args(sub_prop=0.01, mu=0).metrics['PSNR'].mean(), \n",
    "#     [metric.metrics['PSNR'].stddev() for metric in metrics],\n",
    "    linestyle='None', \n",
    "    marker='o',\n",
    ")\n",
    "plt.axhline(24.61, color='C3')\n",
    "# plt.xscale('log')"
   ]
  },
  {
   "cell_type": "code",
   "execution_count": 33,
   "metadata": {},
   "outputs": [],
   "source": [
    "mus_to_test = np.logspace(-11, -4, 7)"
   ]
  },
  {
   "cell_type": "code",
   "execution_count": 34,
   "metadata": {
    "scrolled": true
   },
   "outputs": [
    {
     "data": {
      "application/vnd.jupyter.widget-view+json": {
       "model_id": "75d1b751cbbf4d1984dca4f1cee8e728",
       "version_major": 2,
       "version_minor": 0
      },
      "text/plain": [
       "HBox(children=(FloatProgress(value=0.0, description='mus', max=7.0, style=ProgressStyle(description_width='ini…"
      ]
     },
     "metadata": {},
     "output_type": "display_data"
    },
    {
     "data": {
      "application/vnd.jupyter.widget-view+json": {
       "model_id": "6e76dc5f96274871a62ad5ffa8b7b78d",
       "version_major": 2,
       "version_minor": 0
      },
      "text/plain": [
       "HBox(children=(FloatProgress(value=0.0, description='K-spaces', max=1.0, style=ProgressStyle(description_width…"
      ]
     },
     "metadata": {},
     "output_type": "display_data"
    },
    {
     "name": "stderr",
     "output_type": "stream",
     "text": [
      "\u001b[33mWARNING\u001b[0m: Making input data immutable.\n",
      "\u001b[33mWARNING\u001b[0m: Making input data immutable.\n"
     ]
    },
    {
     "name": "stdout",
     "output_type": "stream",
     "text": [
      "\n"
     ]
    },
    {
     "data": {
      "application/vnd.jupyter.widget-view+json": {
       "model_id": "a0a0acca591d432eaa92ba783dbfdaf1",
       "version_major": 2,
       "version_minor": 0
      },
      "text/plain": [
       "HBox(children=(FloatProgress(value=0.0, description='Stats', max=1.0, style=ProgressStyle(description_width='i…"
      ]
     },
     "metadata": {},
     "output_type": "display_data"
    },
    {
     "name": "stdout",
     "output_type": "stream",
     "text": [
      "\n"
     ]
    },
    {
     "data": {
      "application/vnd.jupyter.widget-view+json": {
       "model_id": "9205c8784741460a81f4934a59f1b805",
       "version_major": 2,
       "version_minor": 0
      },
      "text/plain": [
       "HBox(children=(FloatProgress(value=0.0, description='K-spaces', max=1.0, style=ProgressStyle(description_width…"
      ]
     },
     "metadata": {},
     "output_type": "display_data"
    },
    {
     "name": "stderr",
     "output_type": "stream",
     "text": [
      "\u001b[33mWARNING\u001b[0m: Making input data immutable.\n",
      "\u001b[33mWARNING\u001b[0m: Making input data immutable.\n"
     ]
    },
    {
     "name": "stdout",
     "output_type": "stream",
     "text": [
      "\n"
     ]
    },
    {
     "data": {
      "application/vnd.jupyter.widget-view+json": {
       "model_id": "d5112616b9f54d36898edf46ae205459",
       "version_major": 2,
       "version_minor": 0
      },
      "text/plain": [
       "HBox(children=(FloatProgress(value=0.0, description='Stats', max=1.0, style=ProgressStyle(description_width='i…"
      ]
     },
     "metadata": {},
     "output_type": "display_data"
    },
    {
     "name": "stdout",
     "output_type": "stream",
     "text": [
      "\n"
     ]
    },
    {
     "data": {
      "application/vnd.jupyter.widget-view+json": {
       "model_id": "06a987c3d27a4267b101d044aa6439c2",
       "version_major": 2,
       "version_minor": 0
      },
      "text/plain": [
       "HBox(children=(FloatProgress(value=0.0, description='K-spaces', max=1.0, style=ProgressStyle(description_width…"
      ]
     },
     "metadata": {},
     "output_type": "display_data"
    },
    {
     "name": "stderr",
     "output_type": "stream",
     "text": [
      "\u001b[33mWARNING\u001b[0m: Making input data immutable.\n",
      "\u001b[33mWARNING\u001b[0m: Making input data immutable.\n"
     ]
    },
    {
     "name": "stdout",
     "output_type": "stream",
     "text": [
      "\n"
     ]
    },
    {
     "data": {
      "application/vnd.jupyter.widget-view+json": {
       "model_id": "d792bcc8a16d4da0b5983dce19a55666",
       "version_major": 2,
       "version_minor": 0
      },
      "text/plain": [
       "HBox(children=(FloatProgress(value=0.0, description='Stats', max=1.0, style=ProgressStyle(description_width='i…"
      ]
     },
     "metadata": {},
     "output_type": "display_data"
    },
    {
     "name": "stdout",
     "output_type": "stream",
     "text": [
      "\n"
     ]
    },
    {
     "data": {
      "application/vnd.jupyter.widget-view+json": {
       "model_id": "4d24b72943294cf896494f1c38517031",
       "version_major": 2,
       "version_minor": 0
      },
      "text/plain": [
       "HBox(children=(FloatProgress(value=0.0, description='K-spaces', max=1.0, style=ProgressStyle(description_width…"
      ]
     },
     "metadata": {},
     "output_type": "display_data"
    },
    {
     "name": "stderr",
     "output_type": "stream",
     "text": [
      "\u001b[33mWARNING\u001b[0m: Making input data immutable.\n",
      "\u001b[33mWARNING\u001b[0m: Making input data immutable.\n"
     ]
    },
    {
     "name": "stdout",
     "output_type": "stream",
     "text": [
      "\n"
     ]
    },
    {
     "data": {
      "application/vnd.jupyter.widget-view+json": {
       "model_id": "f7db171cad494f44bbff9c3f156b51c0",
       "version_major": 2,
       "version_minor": 0
      },
      "text/plain": [
       "HBox(children=(FloatProgress(value=0.0, description='Stats', max=1.0, style=ProgressStyle(description_width='i…"
      ]
     },
     "metadata": {},
     "output_type": "display_data"
    },
    {
     "name": "stdout",
     "output_type": "stream",
     "text": [
      "\n"
     ]
    },
    {
     "data": {
      "application/vnd.jupyter.widget-view+json": {
       "model_id": "262c3d9c32ec4408bbc16bfb38bf7ab8",
       "version_major": 2,
       "version_minor": 0
      },
      "text/plain": [
       "HBox(children=(FloatProgress(value=0.0, description='K-spaces', max=1.0, style=ProgressStyle(description_width…"
      ]
     },
     "metadata": {},
     "output_type": "display_data"
    },
    {
     "name": "stderr",
     "output_type": "stream",
     "text": [
      "\u001b[33mWARNING\u001b[0m: Making input data immutable.\n",
      "\u001b[33mWARNING\u001b[0m: Making input data immutable.\n"
     ]
    },
    {
     "name": "stdout",
     "output_type": "stream",
     "text": [
      "\n"
     ]
    },
    {
     "data": {
      "application/vnd.jupyter.widget-view+json": {
       "model_id": "4539072f422c4363af1af4c3178c0163",
       "version_major": 2,
       "version_minor": 0
      },
      "text/plain": [
       "HBox(children=(FloatProgress(value=0.0, description='Stats', max=1.0, style=ProgressStyle(description_width='i…"
      ]
     },
     "metadata": {},
     "output_type": "display_data"
    },
    {
     "name": "stdout",
     "output_type": "stream",
     "text": [
      "\n"
     ]
    },
    {
     "data": {
      "application/vnd.jupyter.widget-view+json": {
       "model_id": "c10812cdc7fc45ba9e7724362440c258",
       "version_major": 2,
       "version_minor": 0
      },
      "text/plain": [
       "HBox(children=(FloatProgress(value=0.0, description='K-spaces', max=1.0, style=ProgressStyle(description_width…"
      ]
     },
     "metadata": {},
     "output_type": "display_data"
    },
    {
     "name": "stderr",
     "output_type": "stream",
     "text": [
      "\u001b[33mWARNING\u001b[0m: Making input data immutable.\n",
      "\u001b[33mWARNING\u001b[0m: Making input data immutable.\n"
     ]
    },
    {
     "name": "stdout",
     "output_type": "stream",
     "text": [
      "\n"
     ]
    },
    {
     "data": {
      "application/vnd.jupyter.widget-view+json": {
       "model_id": "122c406e67424f29b249bca8a5185d2a",
       "version_major": 2,
       "version_minor": 0
      },
      "text/plain": [
       "HBox(children=(FloatProgress(value=0.0, description='Stats', max=1.0, style=ProgressStyle(description_width='i…"
      ]
     },
     "metadata": {},
     "output_type": "display_data"
    },
    {
     "name": "stdout",
     "output_type": "stream",
     "text": [
      "\n"
     ]
    },
    {
     "data": {
      "application/vnd.jupyter.widget-view+json": {
       "model_id": "d8765e9f33a943479f5ed027fc3f4688",
       "version_major": 2,
       "version_minor": 0
      },
      "text/plain": [
       "HBox(children=(FloatProgress(value=0.0, description='K-spaces', max=1.0, style=ProgressStyle(description_width…"
      ]
     },
     "metadata": {},
     "output_type": "display_data"
    },
    {
     "name": "stderr",
     "output_type": "stream",
     "text": [
      "\u001b[33mWARNING\u001b[0m: Making input data immutable.\n",
      "\u001b[33mWARNING\u001b[0m: Making input data immutable.\n"
     ]
    },
    {
     "name": "stdout",
     "output_type": "stream",
     "text": [
      "\n"
     ]
    },
    {
     "data": {
      "application/vnd.jupyter.widget-view+json": {
       "model_id": "ca8fcc0f20c54ef2aec757808e84b8e1",
       "version_major": 2,
       "version_minor": 0
      },
      "text/plain": [
       "HBox(children=(FloatProgress(value=0.0, description='Stats', max=1.0, style=ProgressStyle(description_width='i…"
      ]
     },
     "metadata": {},
     "output_type": "display_data"
    },
    {
     "name": "stdout",
     "output_type": "stream",
     "text": [
      "\n",
      "\n",
      "CPU times: user 54min 53s, sys: 1h 6min 31s, total: 2h 1min 24s\n",
      "Wall time: 4min 10s\n"
     ]
    }
   ],
   "source": [
    "%%time\n",
    "metrics = []\n",
    "for mu in tqdm(mus_to_test, desc='mus'):\n",
    "    metric = metrics_for_args(sub_prop=0.003, mu=mu)\n",
    "    metrics.append(metric)"
   ]
  },
  {
   "cell_type": "code",
   "execution_count": 35,
   "metadata": {},
   "outputs": [
    {
     "data": {
      "application/javascript": [
       "/* Put everything inside the global mpl namespace */\n",
       "window.mpl = {};\n",
       "\n",
       "\n",
       "mpl.get_websocket_type = function() {\n",
       "    if (typeof(WebSocket) !== 'undefined') {\n",
       "        return WebSocket;\n",
       "    } else if (typeof(MozWebSocket) !== 'undefined') {\n",
       "        return MozWebSocket;\n",
       "    } else {\n",
       "        alert('Your browser does not have WebSocket support. ' +\n",
       "              'Please try Chrome, Safari or Firefox ≥ 6. ' +\n",
       "              'Firefox 4 and 5 are also supported but you ' +\n",
       "              'have to enable WebSockets in about:config.');\n",
       "    };\n",
       "}\n",
       "\n",
       "mpl.figure = function(figure_id, websocket, ondownload, parent_element) {\n",
       "    this.id = figure_id;\n",
       "\n",
       "    this.ws = websocket;\n",
       "\n",
       "    this.supports_binary = (this.ws.binaryType != undefined);\n",
       "\n",
       "    if (!this.supports_binary) {\n",
       "        var warnings = document.getElementById(\"mpl-warnings\");\n",
       "        if (warnings) {\n",
       "            warnings.style.display = 'block';\n",
       "            warnings.textContent = (\n",
       "                \"This browser does not support binary websocket messages. \" +\n",
       "                    \"Performance may be slow.\");\n",
       "        }\n",
       "    }\n",
       "\n",
       "    this.imageObj = new Image();\n",
       "\n",
       "    this.context = undefined;\n",
       "    this.message = undefined;\n",
       "    this.canvas = undefined;\n",
       "    this.rubberband_canvas = undefined;\n",
       "    this.rubberband_context = undefined;\n",
       "    this.format_dropdown = undefined;\n",
       "\n",
       "    this.image_mode = 'full';\n",
       "\n",
       "    this.root = $('<div/>');\n",
       "    this._root_extra_style(this.root)\n",
       "    this.root.attr('style', 'display: inline-block');\n",
       "\n",
       "    $(parent_element).append(this.root);\n",
       "\n",
       "    this._init_header(this);\n",
       "    this._init_canvas(this);\n",
       "    this._init_toolbar(this);\n",
       "\n",
       "    var fig = this;\n",
       "\n",
       "    this.waiting = false;\n",
       "\n",
       "    this.ws.onopen =  function () {\n",
       "            fig.send_message(\"supports_binary\", {value: fig.supports_binary});\n",
       "            fig.send_message(\"send_image_mode\", {});\n",
       "            if (mpl.ratio != 1) {\n",
       "                fig.send_message(\"set_dpi_ratio\", {'dpi_ratio': mpl.ratio});\n",
       "            }\n",
       "            fig.send_message(\"refresh\", {});\n",
       "        }\n",
       "\n",
       "    this.imageObj.onload = function() {\n",
       "            if (fig.image_mode == 'full') {\n",
       "                // Full images could contain transparency (where diff images\n",
       "                // almost always do), so we need to clear the canvas so that\n",
       "                // there is no ghosting.\n",
       "                fig.context.clearRect(0, 0, fig.canvas.width, fig.canvas.height);\n",
       "            }\n",
       "            fig.context.drawImage(fig.imageObj, 0, 0);\n",
       "        };\n",
       "\n",
       "    this.imageObj.onunload = function() {\n",
       "        fig.ws.close();\n",
       "    }\n",
       "\n",
       "    this.ws.onmessage = this._make_on_message_function(this);\n",
       "\n",
       "    this.ondownload = ondownload;\n",
       "}\n",
       "\n",
       "mpl.figure.prototype._init_header = function() {\n",
       "    var titlebar = $(\n",
       "        '<div class=\"ui-dialog-titlebar ui-widget-header ui-corner-all ' +\n",
       "        'ui-helper-clearfix\"/>');\n",
       "    var titletext = $(\n",
       "        '<div class=\"ui-dialog-title\" style=\"width: 100%; ' +\n",
       "        'text-align: center; padding: 3px;\"/>');\n",
       "    titlebar.append(titletext)\n",
       "    this.root.append(titlebar);\n",
       "    this.header = titletext[0];\n",
       "}\n",
       "\n",
       "\n",
       "\n",
       "mpl.figure.prototype._canvas_extra_style = function(canvas_div) {\n",
       "\n",
       "}\n",
       "\n",
       "\n",
       "mpl.figure.prototype._root_extra_style = function(canvas_div) {\n",
       "\n",
       "}\n",
       "\n",
       "mpl.figure.prototype._init_canvas = function() {\n",
       "    var fig = this;\n",
       "\n",
       "    var canvas_div = $('<div/>');\n",
       "\n",
       "    canvas_div.attr('style', 'position: relative; clear: both; outline: 0');\n",
       "\n",
       "    function canvas_keyboard_event(event) {\n",
       "        return fig.key_event(event, event['data']);\n",
       "    }\n",
       "\n",
       "    canvas_div.keydown('key_press', canvas_keyboard_event);\n",
       "    canvas_div.keyup('key_release', canvas_keyboard_event);\n",
       "    this.canvas_div = canvas_div\n",
       "    this._canvas_extra_style(canvas_div)\n",
       "    this.root.append(canvas_div);\n",
       "\n",
       "    var canvas = $('<canvas/>');\n",
       "    canvas.addClass('mpl-canvas');\n",
       "    canvas.attr('style', \"left: 0; top: 0; z-index: 0; outline: 0\")\n",
       "\n",
       "    this.canvas = canvas[0];\n",
       "    this.context = canvas[0].getContext(\"2d\");\n",
       "\n",
       "    var backingStore = this.context.backingStorePixelRatio ||\n",
       "\tthis.context.webkitBackingStorePixelRatio ||\n",
       "\tthis.context.mozBackingStorePixelRatio ||\n",
       "\tthis.context.msBackingStorePixelRatio ||\n",
       "\tthis.context.oBackingStorePixelRatio ||\n",
       "\tthis.context.backingStorePixelRatio || 1;\n",
       "\n",
       "    mpl.ratio = (window.devicePixelRatio || 1) / backingStore;\n",
       "\n",
       "    var rubberband = $('<canvas/>');\n",
       "    rubberband.attr('style', \"position: absolute; left: 0; top: 0; z-index: 1;\")\n",
       "\n",
       "    var pass_mouse_events = true;\n",
       "\n",
       "    canvas_div.resizable({\n",
       "        start: function(event, ui) {\n",
       "            pass_mouse_events = false;\n",
       "        },\n",
       "        resize: function(event, ui) {\n",
       "            fig.request_resize(ui.size.width, ui.size.height);\n",
       "        },\n",
       "        stop: function(event, ui) {\n",
       "            pass_mouse_events = true;\n",
       "            fig.request_resize(ui.size.width, ui.size.height);\n",
       "        },\n",
       "    });\n",
       "\n",
       "    function mouse_event_fn(event) {\n",
       "        if (pass_mouse_events)\n",
       "            return fig.mouse_event(event, event['data']);\n",
       "    }\n",
       "\n",
       "    rubberband.mousedown('button_press', mouse_event_fn);\n",
       "    rubberband.mouseup('button_release', mouse_event_fn);\n",
       "    // Throttle sequential mouse events to 1 every 20ms.\n",
       "    rubberband.mousemove('motion_notify', mouse_event_fn);\n",
       "\n",
       "    rubberband.mouseenter('figure_enter', mouse_event_fn);\n",
       "    rubberband.mouseleave('figure_leave', mouse_event_fn);\n",
       "\n",
       "    canvas_div.on(\"wheel\", function (event) {\n",
       "        event = event.originalEvent;\n",
       "        event['data'] = 'scroll'\n",
       "        if (event.deltaY < 0) {\n",
       "            event.step = 1;\n",
       "        } else {\n",
       "            event.step = -1;\n",
       "        }\n",
       "        mouse_event_fn(event);\n",
       "    });\n",
       "\n",
       "    canvas_div.append(canvas);\n",
       "    canvas_div.append(rubberband);\n",
       "\n",
       "    this.rubberband = rubberband;\n",
       "    this.rubberband_canvas = rubberband[0];\n",
       "    this.rubberband_context = rubberband[0].getContext(\"2d\");\n",
       "    this.rubberband_context.strokeStyle = \"#000000\";\n",
       "\n",
       "    this._resize_canvas = function(width, height) {\n",
       "        // Keep the size of the canvas, canvas container, and rubber band\n",
       "        // canvas in synch.\n",
       "        canvas_div.css('width', width)\n",
       "        canvas_div.css('height', height)\n",
       "\n",
       "        canvas.attr('width', width * mpl.ratio);\n",
       "        canvas.attr('height', height * mpl.ratio);\n",
       "        canvas.attr('style', 'width: ' + width + 'px; height: ' + height + 'px;');\n",
       "\n",
       "        rubberband.attr('width', width);\n",
       "        rubberband.attr('height', height);\n",
       "    }\n",
       "\n",
       "    // Set the figure to an initial 600x600px, this will subsequently be updated\n",
       "    // upon first draw.\n",
       "    this._resize_canvas(600, 600);\n",
       "\n",
       "    // Disable right mouse context menu.\n",
       "    $(this.rubberband_canvas).bind(\"contextmenu\",function(e){\n",
       "        return false;\n",
       "    });\n",
       "\n",
       "    function set_focus () {\n",
       "        canvas.focus();\n",
       "        canvas_div.focus();\n",
       "    }\n",
       "\n",
       "    window.setTimeout(set_focus, 100);\n",
       "}\n",
       "\n",
       "mpl.figure.prototype._init_toolbar = function() {\n",
       "    var fig = this;\n",
       "\n",
       "    var nav_element = $('<div/>');\n",
       "    nav_element.attr('style', 'width: 100%');\n",
       "    this.root.append(nav_element);\n",
       "\n",
       "    // Define a callback function for later on.\n",
       "    function toolbar_event(event) {\n",
       "        return fig.toolbar_button_onclick(event['data']);\n",
       "    }\n",
       "    function toolbar_mouse_event(event) {\n",
       "        return fig.toolbar_button_onmouseover(event['data']);\n",
       "    }\n",
       "\n",
       "    for(var toolbar_ind in mpl.toolbar_items) {\n",
       "        var name = mpl.toolbar_items[toolbar_ind][0];\n",
       "        var tooltip = mpl.toolbar_items[toolbar_ind][1];\n",
       "        var image = mpl.toolbar_items[toolbar_ind][2];\n",
       "        var method_name = mpl.toolbar_items[toolbar_ind][3];\n",
       "\n",
       "        if (!name) {\n",
       "            // put a spacer in here.\n",
       "            continue;\n",
       "        }\n",
       "        var button = $('<button/>');\n",
       "        button.addClass('ui-button ui-widget ui-state-default ui-corner-all ' +\n",
       "                        'ui-button-icon-only');\n",
       "        button.attr('role', 'button');\n",
       "        button.attr('aria-disabled', 'false');\n",
       "        button.click(method_name, toolbar_event);\n",
       "        button.mouseover(tooltip, toolbar_mouse_event);\n",
       "\n",
       "        var icon_img = $('<span/>');\n",
       "        icon_img.addClass('ui-button-icon-primary ui-icon');\n",
       "        icon_img.addClass(image);\n",
       "        icon_img.addClass('ui-corner-all');\n",
       "\n",
       "        var tooltip_span = $('<span/>');\n",
       "        tooltip_span.addClass('ui-button-text');\n",
       "        tooltip_span.html(tooltip);\n",
       "\n",
       "        button.append(icon_img);\n",
       "        button.append(tooltip_span);\n",
       "\n",
       "        nav_element.append(button);\n",
       "    }\n",
       "\n",
       "    var fmt_picker_span = $('<span/>');\n",
       "\n",
       "    var fmt_picker = $('<select/>');\n",
       "    fmt_picker.addClass('mpl-toolbar-option ui-widget ui-widget-content');\n",
       "    fmt_picker_span.append(fmt_picker);\n",
       "    nav_element.append(fmt_picker_span);\n",
       "    this.format_dropdown = fmt_picker[0];\n",
       "\n",
       "    for (var ind in mpl.extensions) {\n",
       "        var fmt = mpl.extensions[ind];\n",
       "        var option = $(\n",
       "            '<option/>', {selected: fmt === mpl.default_extension}).html(fmt);\n",
       "        fmt_picker.append(option);\n",
       "    }\n",
       "\n",
       "    // Add hover states to the ui-buttons\n",
       "    $( \".ui-button\" ).hover(\n",
       "        function() { $(this).addClass(\"ui-state-hover\");},\n",
       "        function() { $(this).removeClass(\"ui-state-hover\");}\n",
       "    );\n",
       "\n",
       "    var status_bar = $('<span class=\"mpl-message\"/>');\n",
       "    nav_element.append(status_bar);\n",
       "    this.message = status_bar[0];\n",
       "}\n",
       "\n",
       "mpl.figure.prototype.request_resize = function(x_pixels, y_pixels) {\n",
       "    // Request matplotlib to resize the figure. Matplotlib will then trigger a resize in the client,\n",
       "    // which will in turn request a refresh of the image.\n",
       "    this.send_message('resize', {'width': x_pixels, 'height': y_pixels});\n",
       "}\n",
       "\n",
       "mpl.figure.prototype.send_message = function(type, properties) {\n",
       "    properties['type'] = type;\n",
       "    properties['figure_id'] = this.id;\n",
       "    this.ws.send(JSON.stringify(properties));\n",
       "}\n",
       "\n",
       "mpl.figure.prototype.send_draw_message = function() {\n",
       "    if (!this.waiting) {\n",
       "        this.waiting = true;\n",
       "        this.ws.send(JSON.stringify({type: \"draw\", figure_id: this.id}));\n",
       "    }\n",
       "}\n",
       "\n",
       "\n",
       "mpl.figure.prototype.handle_save = function(fig, msg) {\n",
       "    var format_dropdown = fig.format_dropdown;\n",
       "    var format = format_dropdown.options[format_dropdown.selectedIndex].value;\n",
       "    fig.ondownload(fig, format);\n",
       "}\n",
       "\n",
       "\n",
       "mpl.figure.prototype.handle_resize = function(fig, msg) {\n",
       "    var size = msg['size'];\n",
       "    if (size[0] != fig.canvas.width || size[1] != fig.canvas.height) {\n",
       "        fig._resize_canvas(size[0], size[1]);\n",
       "        fig.send_message(\"refresh\", {});\n",
       "    };\n",
       "}\n",
       "\n",
       "mpl.figure.prototype.handle_rubberband = function(fig, msg) {\n",
       "    var x0 = msg['x0'] / mpl.ratio;\n",
       "    var y0 = (fig.canvas.height - msg['y0']) / mpl.ratio;\n",
       "    var x1 = msg['x1'] / mpl.ratio;\n",
       "    var y1 = (fig.canvas.height - msg['y1']) / mpl.ratio;\n",
       "    x0 = Math.floor(x0) + 0.5;\n",
       "    y0 = Math.floor(y0) + 0.5;\n",
       "    x1 = Math.floor(x1) + 0.5;\n",
       "    y1 = Math.floor(y1) + 0.5;\n",
       "    var min_x = Math.min(x0, x1);\n",
       "    var min_y = Math.min(y0, y1);\n",
       "    var width = Math.abs(x1 - x0);\n",
       "    var height = Math.abs(y1 - y0);\n",
       "\n",
       "    fig.rubberband_context.clearRect(\n",
       "        0, 0, fig.canvas.width / mpl.ratio, fig.canvas.height / mpl.ratio);\n",
       "\n",
       "    fig.rubberband_context.strokeRect(min_x, min_y, width, height);\n",
       "}\n",
       "\n",
       "mpl.figure.prototype.handle_figure_label = function(fig, msg) {\n",
       "    // Updates the figure title.\n",
       "    fig.header.textContent = msg['label'];\n",
       "}\n",
       "\n",
       "mpl.figure.prototype.handle_cursor = function(fig, msg) {\n",
       "    var cursor = msg['cursor'];\n",
       "    switch(cursor)\n",
       "    {\n",
       "    case 0:\n",
       "        cursor = 'pointer';\n",
       "        break;\n",
       "    case 1:\n",
       "        cursor = 'default';\n",
       "        break;\n",
       "    case 2:\n",
       "        cursor = 'crosshair';\n",
       "        break;\n",
       "    case 3:\n",
       "        cursor = 'move';\n",
       "        break;\n",
       "    }\n",
       "    fig.rubberband_canvas.style.cursor = cursor;\n",
       "}\n",
       "\n",
       "mpl.figure.prototype.handle_message = function(fig, msg) {\n",
       "    fig.message.textContent = msg['message'];\n",
       "}\n",
       "\n",
       "mpl.figure.prototype.handle_draw = function(fig, msg) {\n",
       "    // Request the server to send over a new figure.\n",
       "    fig.send_draw_message();\n",
       "}\n",
       "\n",
       "mpl.figure.prototype.handle_image_mode = function(fig, msg) {\n",
       "    fig.image_mode = msg['mode'];\n",
       "}\n",
       "\n",
       "mpl.figure.prototype.updated_canvas_event = function() {\n",
       "    // Called whenever the canvas gets updated.\n",
       "    this.send_message(\"ack\", {});\n",
       "}\n",
       "\n",
       "// A function to construct a web socket function for onmessage handling.\n",
       "// Called in the figure constructor.\n",
       "mpl.figure.prototype._make_on_message_function = function(fig) {\n",
       "    return function socket_on_message(evt) {\n",
       "        if (evt.data instanceof Blob) {\n",
       "            /* FIXME: We get \"Resource interpreted as Image but\n",
       "             * transferred with MIME type text/plain:\" errors on\n",
       "             * Chrome.  But how to set the MIME type?  It doesn't seem\n",
       "             * to be part of the websocket stream */\n",
       "            evt.data.type = \"image/png\";\n",
       "\n",
       "            /* Free the memory for the previous frames */\n",
       "            if (fig.imageObj.src) {\n",
       "                (window.URL || window.webkitURL).revokeObjectURL(\n",
       "                    fig.imageObj.src);\n",
       "            }\n",
       "\n",
       "            fig.imageObj.src = (window.URL || window.webkitURL).createObjectURL(\n",
       "                evt.data);\n",
       "            fig.updated_canvas_event();\n",
       "            fig.waiting = false;\n",
       "            return;\n",
       "        }\n",
       "        else if (typeof evt.data === 'string' && evt.data.slice(0, 21) == \"data:image/png;base64\") {\n",
       "            fig.imageObj.src = evt.data;\n",
       "            fig.updated_canvas_event();\n",
       "            fig.waiting = false;\n",
       "            return;\n",
       "        }\n",
       "\n",
       "        var msg = JSON.parse(evt.data);\n",
       "        var msg_type = msg['type'];\n",
       "\n",
       "        // Call the  \"handle_{type}\" callback, which takes\n",
       "        // the figure and JSON message as its only arguments.\n",
       "        try {\n",
       "            var callback = fig[\"handle_\" + msg_type];\n",
       "        } catch (e) {\n",
       "            console.log(\"No handler for the '\" + msg_type + \"' message type: \", msg);\n",
       "            return;\n",
       "        }\n",
       "\n",
       "        if (callback) {\n",
       "            try {\n",
       "                // console.log(\"Handling '\" + msg_type + \"' message: \", msg);\n",
       "                callback(fig, msg);\n",
       "            } catch (e) {\n",
       "                console.log(\"Exception inside the 'handler_\" + msg_type + \"' callback:\", e, e.stack, msg);\n",
       "            }\n",
       "        }\n",
       "    };\n",
       "}\n",
       "\n",
       "// from http://stackoverflow.com/questions/1114465/getting-mouse-location-in-canvas\n",
       "mpl.findpos = function(e) {\n",
       "    //this section is from http://www.quirksmode.org/js/events_properties.html\n",
       "    var targ;\n",
       "    if (!e)\n",
       "        e = window.event;\n",
       "    if (e.target)\n",
       "        targ = e.target;\n",
       "    else if (e.srcElement)\n",
       "        targ = e.srcElement;\n",
       "    if (targ.nodeType == 3) // defeat Safari bug\n",
       "        targ = targ.parentNode;\n",
       "\n",
       "    // jQuery normalizes the pageX and pageY\n",
       "    // pageX,Y are the mouse positions relative to the document\n",
       "    // offset() returns the position of the element relative to the document\n",
       "    var x = e.pageX - $(targ).offset().left;\n",
       "    var y = e.pageY - $(targ).offset().top;\n",
       "\n",
       "    return {\"x\": x, \"y\": y};\n",
       "};\n",
       "\n",
       "/*\n",
       " * return a copy of an object with only non-object keys\n",
       " * we need this to avoid circular references\n",
       " * http://stackoverflow.com/a/24161582/3208463\n",
       " */\n",
       "function simpleKeys (original) {\n",
       "  return Object.keys(original).reduce(function (obj, key) {\n",
       "    if (typeof original[key] !== 'object')\n",
       "        obj[key] = original[key]\n",
       "    return obj;\n",
       "  }, {});\n",
       "}\n",
       "\n",
       "mpl.figure.prototype.mouse_event = function(event, name) {\n",
       "    var canvas_pos = mpl.findpos(event)\n",
       "\n",
       "    if (name === 'button_press')\n",
       "    {\n",
       "        this.canvas.focus();\n",
       "        this.canvas_div.focus();\n",
       "    }\n",
       "\n",
       "    var x = canvas_pos.x * mpl.ratio;\n",
       "    var y = canvas_pos.y * mpl.ratio;\n",
       "\n",
       "    this.send_message(name, {x: x, y: y, button: event.button,\n",
       "                             step: event.step,\n",
       "                             guiEvent: simpleKeys(event)});\n",
       "\n",
       "    /* This prevents the web browser from automatically changing to\n",
       "     * the text insertion cursor when the button is pressed.  We want\n",
       "     * to control all of the cursor setting manually through the\n",
       "     * 'cursor' event from matplotlib */\n",
       "    event.preventDefault();\n",
       "    return false;\n",
       "}\n",
       "\n",
       "mpl.figure.prototype._key_event_extra = function(event, name) {\n",
       "    // Handle any extra behaviour associated with a key event\n",
       "}\n",
       "\n",
       "mpl.figure.prototype.key_event = function(event, name) {\n",
       "\n",
       "    // Prevent repeat events\n",
       "    if (name == 'key_press')\n",
       "    {\n",
       "        if (event.which === this._key)\n",
       "            return;\n",
       "        else\n",
       "            this._key = event.which;\n",
       "    }\n",
       "    if (name == 'key_release')\n",
       "        this._key = null;\n",
       "\n",
       "    var value = '';\n",
       "    if (event.ctrlKey && event.which != 17)\n",
       "        value += \"ctrl+\";\n",
       "    if (event.altKey && event.which != 18)\n",
       "        value += \"alt+\";\n",
       "    if (event.shiftKey && event.which != 16)\n",
       "        value += \"shift+\";\n",
       "\n",
       "    value += 'k';\n",
       "    value += event.which.toString();\n",
       "\n",
       "    this._key_event_extra(event, name);\n",
       "\n",
       "    this.send_message(name, {key: value,\n",
       "                             guiEvent: simpleKeys(event)});\n",
       "    return false;\n",
       "}\n",
       "\n",
       "mpl.figure.prototype.toolbar_button_onclick = function(name) {\n",
       "    if (name == 'download') {\n",
       "        this.handle_save(this, null);\n",
       "    } else {\n",
       "        this.send_message(\"toolbar_button\", {name: name});\n",
       "    }\n",
       "};\n",
       "\n",
       "mpl.figure.prototype.toolbar_button_onmouseover = function(tooltip) {\n",
       "    this.message.textContent = tooltip;\n",
       "};\n",
       "mpl.toolbar_items = [[\"Home\", \"Reset original view\", \"fa fa-home icon-home\", \"home\"], [\"Back\", \"Back to previous view\", \"fa fa-arrow-left icon-arrow-left\", \"back\"], [\"Forward\", \"Forward to next view\", \"fa fa-arrow-right icon-arrow-right\", \"forward\"], [\"\", \"\", \"\", \"\"], [\"Pan\", \"Pan axes with left mouse, zoom with right\", \"fa fa-arrows icon-move\", \"pan\"], [\"Zoom\", \"Zoom to rectangle\", \"fa fa-square-o icon-check-empty\", \"zoom\"], [\"\", \"\", \"\", \"\"], [\"Download\", \"Download plot\", \"fa fa-floppy-o icon-save\", \"download\"]];\n",
       "\n",
       "mpl.extensions = [\"eps\", \"jpeg\", \"pdf\", \"png\", \"ps\", \"raw\", \"svg\", \"tif\"];\n",
       "\n",
       "mpl.default_extension = \"png\";var comm_websocket_adapter = function(comm) {\n",
       "    // Create a \"websocket\"-like object which calls the given IPython comm\n",
       "    // object with the appropriate methods. Currently this is a non binary\n",
       "    // socket, so there is still some room for performance tuning.\n",
       "    var ws = {};\n",
       "\n",
       "    ws.close = function() {\n",
       "        comm.close()\n",
       "    };\n",
       "    ws.send = function(m) {\n",
       "        //console.log('sending', m);\n",
       "        comm.send(m);\n",
       "    };\n",
       "    // Register the callback with on_msg.\n",
       "    comm.on_msg(function(msg) {\n",
       "        //console.log('receiving', msg['content']['data'], msg);\n",
       "        // Pass the mpl event to the overridden (by mpl) onmessage function.\n",
       "        ws.onmessage(msg['content']['data'])\n",
       "    });\n",
       "    return ws;\n",
       "}\n",
       "\n",
       "mpl.mpl_figure_comm = function(comm, msg) {\n",
       "    // This is the function which gets called when the mpl process\n",
       "    // starts-up an IPython Comm through the \"matplotlib\" channel.\n",
       "\n",
       "    var id = msg.content.data.id;\n",
       "    // Get hold of the div created by the display call when the Comm\n",
       "    // socket was opened in Python.\n",
       "    var element = $(\"#\" + id);\n",
       "    var ws_proxy = comm_websocket_adapter(comm)\n",
       "\n",
       "    function ondownload(figure, format) {\n",
       "        window.open(figure.imageObj.src);\n",
       "    }\n",
       "\n",
       "    var fig = new mpl.figure(id, ws_proxy,\n",
       "                           ondownload,\n",
       "                           element.get(0));\n",
       "\n",
       "    // Call onopen now - mpl needs it, as it is assuming we've passed it a real\n",
       "    // web socket which is closed, not our websocket->open comm proxy.\n",
       "    ws_proxy.onopen();\n",
       "\n",
       "    fig.parent_element = element.get(0);\n",
       "    fig.cell_info = mpl.find_output_cell(\"<div id='\" + id + \"'></div>\");\n",
       "    if (!fig.cell_info) {\n",
       "        console.error(\"Failed to find cell for figure\", id, fig);\n",
       "        return;\n",
       "    }\n",
       "\n",
       "    var output_index = fig.cell_info[2]\n",
       "    var cell = fig.cell_info[0];\n",
       "\n",
       "};\n",
       "\n",
       "mpl.figure.prototype.handle_close = function(fig, msg) {\n",
       "    var width = fig.canvas.width/mpl.ratio\n",
       "    fig.root.unbind('remove')\n",
       "\n",
       "    // Update the output cell to use the data from the current canvas.\n",
       "    fig.push_to_output();\n",
       "    var dataURL = fig.canvas.toDataURL();\n",
       "    // Re-enable the keyboard manager in IPython - without this line, in FF,\n",
       "    // the notebook keyboard shortcuts fail.\n",
       "    IPython.keyboard_manager.enable()\n",
       "    $(fig.parent_element).html('<img src=\"' + dataURL + '\" width=\"' + width + '\">');\n",
       "    fig.close_ws(fig, msg);\n",
       "}\n",
       "\n",
       "mpl.figure.prototype.close_ws = function(fig, msg){\n",
       "    fig.send_message('closing', msg);\n",
       "    // fig.ws.close()\n",
       "}\n",
       "\n",
       "mpl.figure.prototype.push_to_output = function(remove_interactive) {\n",
       "    // Turn the data on the canvas into data in the output cell.\n",
       "    var width = this.canvas.width/mpl.ratio\n",
       "    var dataURL = this.canvas.toDataURL();\n",
       "    this.cell_info[1]['text/html'] = '<img src=\"' + dataURL + '\" width=\"' + width + '\">';\n",
       "}\n",
       "\n",
       "mpl.figure.prototype.updated_canvas_event = function() {\n",
       "    // Tell IPython that the notebook contents must change.\n",
       "    IPython.notebook.set_dirty(true);\n",
       "    this.send_message(\"ack\", {});\n",
       "    var fig = this;\n",
       "    // Wait a second, then push the new image to the DOM so\n",
       "    // that it is saved nicely (might be nice to debounce this).\n",
       "    setTimeout(function () { fig.push_to_output() }, 1000);\n",
       "}\n",
       "\n",
       "mpl.figure.prototype._init_toolbar = function() {\n",
       "    var fig = this;\n",
       "\n",
       "    var nav_element = $('<div/>');\n",
       "    nav_element.attr('style', 'width: 100%');\n",
       "    this.root.append(nav_element);\n",
       "\n",
       "    // Define a callback function for later on.\n",
       "    function toolbar_event(event) {\n",
       "        return fig.toolbar_button_onclick(event['data']);\n",
       "    }\n",
       "    function toolbar_mouse_event(event) {\n",
       "        return fig.toolbar_button_onmouseover(event['data']);\n",
       "    }\n",
       "\n",
       "    for(var toolbar_ind in mpl.toolbar_items){\n",
       "        var name = mpl.toolbar_items[toolbar_ind][0];\n",
       "        var tooltip = mpl.toolbar_items[toolbar_ind][1];\n",
       "        var image = mpl.toolbar_items[toolbar_ind][2];\n",
       "        var method_name = mpl.toolbar_items[toolbar_ind][3];\n",
       "\n",
       "        if (!name) { continue; };\n",
       "\n",
       "        var button = $('<button class=\"btn btn-default\" href=\"#\" title=\"' + name + '\"><i class=\"fa ' + image + ' fa-lg\"></i></button>');\n",
       "        button.click(method_name, toolbar_event);\n",
       "        button.mouseover(tooltip, toolbar_mouse_event);\n",
       "        nav_element.append(button);\n",
       "    }\n",
       "\n",
       "    // Add the status bar.\n",
       "    var status_bar = $('<span class=\"mpl-message\" style=\"text-align:right; float: right;\"/>');\n",
       "    nav_element.append(status_bar);\n",
       "    this.message = status_bar[0];\n",
       "\n",
       "    // Add the close button to the window.\n",
       "    var buttongrp = $('<div class=\"btn-group inline pull-right\"></div>');\n",
       "    var button = $('<button class=\"btn btn-mini btn-primary\" href=\"#\" title=\"Stop Interaction\"><i class=\"fa fa-power-off icon-remove icon-large\"></i></button>');\n",
       "    button.click(function (evt) { fig.handle_close(fig, {}); } );\n",
       "    button.mouseover('Stop Interaction', toolbar_mouse_event);\n",
       "    buttongrp.append(button);\n",
       "    var titlebar = this.root.find($('.ui-dialog-titlebar'));\n",
       "    titlebar.prepend(buttongrp);\n",
       "}\n",
       "\n",
       "mpl.figure.prototype._root_extra_style = function(el){\n",
       "    var fig = this\n",
       "    el.on(\"remove\", function(){\n",
       "\tfig.close_ws(fig, {});\n",
       "    });\n",
       "}\n",
       "\n",
       "mpl.figure.prototype._canvas_extra_style = function(el){\n",
       "    // this is important to make the div 'focusable\n",
       "    el.attr('tabindex', 0)\n",
       "    // reach out to IPython and tell the keyboard manager to turn it's self\n",
       "    // off when our div gets focus\n",
       "\n",
       "    // location in version 3\n",
       "    if (IPython.notebook.keyboard_manager) {\n",
       "        IPython.notebook.keyboard_manager.register_events(el);\n",
       "    }\n",
       "    else {\n",
       "        // location in version 2\n",
       "        IPython.keyboard_manager.register_events(el);\n",
       "    }\n",
       "\n",
       "}\n",
       "\n",
       "mpl.figure.prototype._key_event_extra = function(event, name) {\n",
       "    var manager = IPython.notebook.keyboard_manager;\n",
       "    if (!manager)\n",
       "        manager = IPython.keyboard_manager;\n",
       "\n",
       "    // Check for shift+enter\n",
       "    if (event.shiftKey && event.which == 13) {\n",
       "        this.canvas_div.blur();\n",
       "        // select the cell after this one\n",
       "        var index = IPython.notebook.find_cell_index(this.cell_info[0]);\n",
       "        IPython.notebook.select(index + 1);\n",
       "    }\n",
       "}\n",
       "\n",
       "mpl.figure.prototype.handle_save = function(fig, msg) {\n",
       "    fig.ondownload(fig, null);\n",
       "}\n",
       "\n",
       "\n",
       "mpl.find_output_cell = function(html_output) {\n",
       "    // Return the cell and output element which can be found *uniquely* in the notebook.\n",
       "    // Note - this is a bit hacky, but it is done because the \"notebook_saving.Notebook\"\n",
       "    // IPython event is triggered only after the cells have been serialised, which for\n",
       "    // our purposes (turning an active figure into a static one), is too late.\n",
       "    var cells = IPython.notebook.get_cells();\n",
       "    var ncells = cells.length;\n",
       "    for (var i=0; i<ncells; i++) {\n",
       "        var cell = cells[i];\n",
       "        if (cell.cell_type === 'code'){\n",
       "            for (var j=0; j<cell.output_area.outputs.length; j++) {\n",
       "                var data = cell.output_area.outputs[j];\n",
       "                if (data.data) {\n",
       "                    // IPython >= 3 moved mimebundle to data attribute of output\n",
       "                    data = data.data;\n",
       "                }\n",
       "                if (data['text/html'] == html_output) {\n",
       "                    return [cell, data, j];\n",
       "                }\n",
       "            }\n",
       "        }\n",
       "    }\n",
       "}\n",
       "\n",
       "// Register the function which deals with the matplotlib target/channel.\n",
       "// The kernel may be null if the page has been refreshed.\n",
       "if (IPython.notebook.kernel != null) {\n",
       "    IPython.notebook.kernel.comm_manager.register_target('matplotlib', mpl.mpl_figure_comm);\n",
       "}\n"
      ],
      "text/plain": [
       "<IPython.core.display.Javascript object>"
      ]
     },
     "metadata": {},
     "output_type": "display_data"
    },
    {
     "data": {
      "text/html": [
       "<img src=\"data:image/png;base64,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\" width=\"899.9999804930258\">"
      ],
      "text/plain": [
       "<IPython.core.display.HTML object>"
      ]
     },
     "metadata": {},
     "output_type": "display_data"
    }
   ],
   "source": [
    "plt.figure()\n",
    "plt.errorbar(\n",
    "    mus_to_test, \n",
    "    [metric.metrics['PSNR'].mean() for metric in metrics], \n",
    "#     [metric.metrics['PSNR'].stddev() for metric in metrics],\n",
    "    linestyle='None', \n",
    "    marker='o',\n",
    ")\n",
    "plt.axhline(24.61, color='C3')\n",
    "plt.xscale('log')"
   ]
  },
  {
   "cell_type": "code",
   "execution_count": 36,
   "metadata": {},
   "outputs": [],
   "source": [
    "mus_to_test = np.logspace(-9, -6, 7)"
   ]
  },
  {
   "cell_type": "code",
   "execution_count": 37,
   "metadata": {
    "scrolled": true
   },
   "outputs": [
    {
     "data": {
      "application/vnd.jupyter.widget-view+json": {
       "model_id": "139d3a2029264654a2e1a7a6bf552a6b",
       "version_major": 2,
       "version_minor": 0
      },
      "text/plain": [
       "HBox(children=(FloatProgress(value=0.0, description='mus', max=7.0, style=ProgressStyle(description_width='ini…"
      ]
     },
     "metadata": {},
     "output_type": "display_data"
    },
    {
     "data": {
      "application/vnd.jupyter.widget-view+json": {
       "model_id": "5fc89c3735d4497382d66342c854c868",
       "version_major": 2,
       "version_minor": 0
      },
      "text/plain": [
       "HBox(children=(FloatProgress(value=0.0, description='K-spaces', max=4.0, style=ProgressStyle(description_width…"
      ]
     },
     "metadata": {},
     "output_type": "display_data"
    },
    {
     "name": "stderr",
     "output_type": "stream",
     "text": [
      "/volatile/home/Zaccharie/workspace/pysap-mri/mri/operators/fourier/utils.py:78: FutureWarning: Using a non-tuple sequence for multidimensional indexing is deprecated; use `arr[tuple(seq)]` instead of `arr[seq]`. In the future this will be interpreted as an array index, `arr[np.array(seq)]`, which will result either in an error or a different result.\n",
      "  mask[test] = 1\n",
      "\u001b[33mWARNING\u001b[0m: Making input data immutable.\n",
      "\u001b[33mWARNING\u001b[0m: Making input data immutable.\n",
      "\u001b[33mWARNING\u001b[0m: Making input data immutable.\n",
      "\u001b[33mWARNING\u001b[0m: Making input data immutable.\n",
      "\u001b[33mWARNING\u001b[0m: Making input data immutable.\n",
      "\u001b[33mWARNING\u001b[0m: Making input data immutable.\n",
      "\u001b[33mWARNING\u001b[0m: Making input data immutable.\n",
      "\u001b[33mWARNING\u001b[0m: Making input data immutable.\n"
     ]
    },
    {
     "name": "stdout",
     "output_type": "stream",
     "text": [
      "\n"
     ]
    },
    {
     "data": {
      "application/vnd.jupyter.widget-view+json": {
       "model_id": "7895057f3f6b43ac8f6e2c71832bbd4e",
       "version_major": 2,
       "version_minor": 0
      },
      "text/plain": [
       "HBox(children=(FloatProgress(value=0.0, description='Stats', max=4.0, style=ProgressStyle(description_width='i…"
      ]
     },
     "metadata": {},
     "output_type": "display_data"
    },
    {
     "name": "stdout",
     "output_type": "stream",
     "text": [
      "\n"
     ]
    },
    {
     "name": "stderr",
     "output_type": "stream",
     "text": [
      "/volatile/home/Zaccharie/workspace/fastmri-reproducible-benchmark/fastmri_recon/helpers/evaluate.py:24: UserWarning: DEPRECATED: skimage.measure.compare_psnr has been moved to skimage.metrics.peak_signal_noise_ratio. It will be removed from skimage.measure in version 0.18.\n",
      "  return compare_psnr(gt, pred, data_range=gt.max() - gt.min())\n",
      "/volatile/home/Zaccharie/workspace/fastmri-reproducible-benchmark/fastmri_recon/helpers/evaluate.py:30: UserWarning: DEPRECATED: skimage.measure.compare_ssim has been moved to skimage.metrics.structural_similarity. It will be removed from skimage.measure in version 0.18.\n",
      "  gt.transpose(1, 2, 0), pred.transpose(1, 2, 0), multichannel=True, data_range=gt.max() - gt.min()\n"
     ]
    },
    {
     "data": {
      "application/vnd.jupyter.widget-view+json": {
       "model_id": "5dc22b38799249129a973783cc9b9a12",
       "version_major": 2,
       "version_minor": 0
      },
      "text/plain": [
       "HBox(children=(FloatProgress(value=0.0, description='K-spaces', max=4.0, style=ProgressStyle(description_width…"
      ]
     },
     "metadata": {},
     "output_type": "display_data"
    },
    {
     "name": "stderr",
     "output_type": "stream",
     "text": [
      "\u001b[33mWARNING\u001b[0m: Making input data immutable.\n",
      "\u001b[33mWARNING\u001b[0m: Making input data immutable.\n",
      "\u001b[33mWARNING\u001b[0m: Making input data immutable.\n",
      "\u001b[33mWARNING\u001b[0m: Making input data immutable.\n",
      "\u001b[33mWARNING\u001b[0m: Making input data immutable.\n",
      "\u001b[33mWARNING\u001b[0m: Making input data immutable.\n",
      "\u001b[33mWARNING\u001b[0m: Making input data immutable.\n",
      "\u001b[33mWARNING\u001b[0m: Making input data immutable.\n"
     ]
    },
    {
     "name": "stdout",
     "output_type": "stream",
     "text": [
      "\n"
     ]
    },
    {
     "data": {
      "application/vnd.jupyter.widget-view+json": {
       "model_id": "f11bd6f9ec3f48589e9c4e33131b1446",
       "version_major": 2,
       "version_minor": 0
      },
      "text/plain": [
       "HBox(children=(FloatProgress(value=0.0, description='Stats', max=4.0, style=ProgressStyle(description_width='i…"
      ]
     },
     "metadata": {},
     "output_type": "display_data"
    },
    {
     "name": "stdout",
     "output_type": "stream",
     "text": [
      "\n"
     ]
    },
    {
     "data": {
      "application/vnd.jupyter.widget-view+json": {
       "model_id": "587cd60a943249b496cf9325d467a0a2",
       "version_major": 2,
       "version_minor": 0
      },
      "text/plain": [
       "HBox(children=(FloatProgress(value=0.0, description='K-spaces', max=4.0, style=ProgressStyle(description_width…"
      ]
     },
     "metadata": {},
     "output_type": "display_data"
    },
    {
     "name": "stderr",
     "output_type": "stream",
     "text": [
      "\u001b[33mWARNING\u001b[0m: Making input data immutable.\n",
      "\u001b[33mWARNING\u001b[0m: Making input data immutable.\n",
      "\u001b[33mWARNING\u001b[0m: Making input data immutable.\n",
      "\u001b[33mWARNING\u001b[0m: Making input data immutable.\n",
      "\u001b[33mWARNING\u001b[0m: Making input data immutable.\n",
      "\u001b[33mWARNING\u001b[0m: Making input data immutable.\n",
      "\u001b[33mWARNING\u001b[0m: Making input data immutable.\n",
      "\u001b[33mWARNING\u001b[0m: Making input data immutable.\n"
     ]
    },
    {
     "name": "stdout",
     "output_type": "stream",
     "text": [
      "\n"
     ]
    },
    {
     "data": {
      "application/vnd.jupyter.widget-view+json": {
       "model_id": "fab10f134adc4e319604be317bae60ed",
       "version_major": 2,
       "version_minor": 0
      },
      "text/plain": [
       "HBox(children=(FloatProgress(value=0.0, description='Stats', max=4.0, style=ProgressStyle(description_width='i…"
      ]
     },
     "metadata": {},
     "output_type": "display_data"
    },
    {
     "name": "stdout",
     "output_type": "stream",
     "text": [
      "\n"
     ]
    },
    {
     "data": {
      "application/vnd.jupyter.widget-view+json": {
       "model_id": "39b590d83262460e93f9a0e06a66babb",
       "version_major": 2,
       "version_minor": 0
      },
      "text/plain": [
       "HBox(children=(FloatProgress(value=0.0, description='K-spaces', max=4.0, style=ProgressStyle(description_width…"
      ]
     },
     "metadata": {},
     "output_type": "display_data"
    },
    {
     "name": "stderr",
     "output_type": "stream",
     "text": [
      "\u001b[33mWARNING\u001b[0m: Making input data immutable.\n",
      "\u001b[33mWARNING\u001b[0m: Making input data immutable.\n",
      "\u001b[33mWARNING\u001b[0m: Making input data immutable.\n",
      "\u001b[33mWARNING\u001b[0m: Making input data immutable.\n",
      "\u001b[33mWARNING\u001b[0m: Making input data immutable.\n",
      "\u001b[33mWARNING\u001b[0m: Making input data immutable.\n",
      "\u001b[33mWARNING\u001b[0m: Making input data immutable.\n",
      "\u001b[33mWARNING\u001b[0m: Making input data immutable.\n"
     ]
    },
    {
     "name": "stdout",
     "output_type": "stream",
     "text": [
      "\n"
     ]
    },
    {
     "data": {
      "application/vnd.jupyter.widget-view+json": {
       "model_id": "b5fc72a976a24d9991c613cb97849e5c",
       "version_major": 2,
       "version_minor": 0
      },
      "text/plain": [
       "HBox(children=(FloatProgress(value=0.0, description='Stats', max=4.0, style=ProgressStyle(description_width='i…"
      ]
     },
     "metadata": {},
     "output_type": "display_data"
    },
    {
     "name": "stdout",
     "output_type": "stream",
     "text": [
      "\n"
     ]
    },
    {
     "data": {
      "application/vnd.jupyter.widget-view+json": {
       "model_id": "9f608a78d3d04be092b7ef5ffff516a5",
       "version_major": 2,
       "version_minor": 0
      },
      "text/plain": [
       "HBox(children=(FloatProgress(value=0.0, description='K-spaces', max=4.0, style=ProgressStyle(description_width…"
      ]
     },
     "metadata": {},
     "output_type": "display_data"
    },
    {
     "name": "stderr",
     "output_type": "stream",
     "text": [
      "\u001b[33mWARNING\u001b[0m: Making input data immutable.\n",
      "\u001b[33mWARNING\u001b[0m: Making input data immutable.\n",
      "\u001b[33mWARNING\u001b[0m: Making input data immutable.\n",
      "\u001b[33mWARNING\u001b[0m: Making input data immutable.\n",
      "\u001b[33mWARNING\u001b[0m: Making input data immutable.\n",
      "\u001b[33mWARNING\u001b[0m: Making input data immutable.\n",
      "\u001b[33mWARNING\u001b[0m: Making input data immutable.\n",
      "\u001b[33mWARNING\u001b[0m: Making input data immutable.\n"
     ]
    },
    {
     "name": "stdout",
     "output_type": "stream",
     "text": [
      "\n"
     ]
    },
    {
     "data": {
      "application/vnd.jupyter.widget-view+json": {
       "model_id": "d641d9a872d64e409f0a38a24af854c6",
       "version_major": 2,
       "version_minor": 0
      },
      "text/plain": [
       "HBox(children=(FloatProgress(value=0.0, description='Stats', max=4.0, style=ProgressStyle(description_width='i…"
      ]
     },
     "metadata": {},
     "output_type": "display_data"
    },
    {
     "name": "stdout",
     "output_type": "stream",
     "text": [
      "\n"
     ]
    },
    {
     "data": {
      "application/vnd.jupyter.widget-view+json": {
       "model_id": "b97e61a13ceb44618120bd6352b228e5",
       "version_major": 2,
       "version_minor": 0
      },
      "text/plain": [
       "HBox(children=(FloatProgress(value=0.0, description='K-spaces', max=4.0, style=ProgressStyle(description_width…"
      ]
     },
     "metadata": {},
     "output_type": "display_data"
    },
    {
     "name": "stderr",
     "output_type": "stream",
     "text": [
      "\u001b[33mWARNING\u001b[0m: Making input data immutable.\n",
      "\u001b[33mWARNING\u001b[0m: Making input data immutable.\n",
      "\u001b[33mWARNING\u001b[0m: Making input data immutable.\n",
      "\u001b[33mWARNING\u001b[0m: Making input data immutable.\n",
      "\u001b[33mWARNING\u001b[0m: Making input data immutable.\n",
      "\u001b[33mWARNING\u001b[0m: Making input data immutable.\n",
      "\u001b[33mWARNING\u001b[0m: Making input data immutable.\n",
      "\u001b[33mWARNING\u001b[0m: Making input data immutable.\n"
     ]
    },
    {
     "name": "stdout",
     "output_type": "stream",
     "text": [
      "\n"
     ]
    },
    {
     "data": {
      "application/vnd.jupyter.widget-view+json": {
       "model_id": "443c0a64a3414cdea9fc636d064f0ea9",
       "version_major": 2,
       "version_minor": 0
      },
      "text/plain": [
       "HBox(children=(FloatProgress(value=0.0, description='Stats', max=4.0, style=ProgressStyle(description_width='i…"
      ]
     },
     "metadata": {},
     "output_type": "display_data"
    },
    {
     "name": "stdout",
     "output_type": "stream",
     "text": [
      "\n"
     ]
    },
    {
     "data": {
      "application/vnd.jupyter.widget-view+json": {
       "model_id": "94ef3dfbb4424ee9a75ee21717180422",
       "version_major": 2,
       "version_minor": 0
      },
      "text/plain": [
       "HBox(children=(FloatProgress(value=0.0, description='K-spaces', max=4.0, style=ProgressStyle(description_width…"
      ]
     },
     "metadata": {},
     "output_type": "display_data"
    },
    {
     "name": "stderr",
     "output_type": "stream",
     "text": [
      "\u001b[33mWARNING\u001b[0m: Making input data immutable.\n",
      "\u001b[33mWARNING\u001b[0m: Making input data immutable.\n",
      "\u001b[33mWARNING\u001b[0m: Making input data immutable.\n",
      "\u001b[33mWARNING\u001b[0m: Making input data immutable.\n",
      "\u001b[33mWARNING\u001b[0m: Making input data immutable.\n",
      "\u001b[33mWARNING\u001b[0m: Making input data immutable.\n",
      "\u001b[33mWARNING\u001b[0m: Making input data immutable.\n",
      "\u001b[33mWARNING\u001b[0m: Making input data immutable.\n"
     ]
    },
    {
     "name": "stdout",
     "output_type": "stream",
     "text": [
      "\n"
     ]
    },
    {
     "data": {
      "application/vnd.jupyter.widget-view+json": {
       "model_id": "70ebaf20f1f345bbb3dadfc6ccf035aa",
       "version_major": 2,
       "version_minor": 0
      },
      "text/plain": [
       "HBox(children=(FloatProgress(value=0.0, description='Stats', max=4.0, style=ProgressStyle(description_width='i…"
      ]
     },
     "metadata": {},
     "output_type": "display_data"
    },
    {
     "name": "stdout",
     "output_type": "stream",
     "text": [
      "\n",
      "\n",
      "CPU times: user 3h 38min 36s, sys: 4h 25min 40s, total: 8h 4min 17s\n",
      "Wall time: 16min 38s\n"
     ]
    }
   ],
   "source": [
    "%%time\n",
    "metrics = []\n",
    "for mu in tqdm(mus_to_test, desc='mus'):\n",
    "    metric = metrics_for_args(sub_prop=0.01, mu=mu)\n",
    "    metrics.append(metric)"
   ]
  },
  {
   "cell_type": "code",
   "execution_count": 38,
   "metadata": {},
   "outputs": [
    {
     "data": {
      "application/javascript": [
       "/* Put everything inside the global mpl namespace */\n",
       "window.mpl = {};\n",
       "\n",
       "\n",
       "mpl.get_websocket_type = function() {\n",
       "    if (typeof(WebSocket) !== 'undefined') {\n",
       "        return WebSocket;\n",
       "    } else if (typeof(MozWebSocket) !== 'undefined') {\n",
       "        return MozWebSocket;\n",
       "    } else {\n",
       "        alert('Your browser does not have WebSocket support. ' +\n",
       "              'Please try Chrome, Safari or Firefox ≥ 6. ' +\n",
       "              'Firefox 4 and 5 are also supported but you ' +\n",
       "              'have to enable WebSockets in about:config.');\n",
       "    };\n",
       "}\n",
       "\n",
       "mpl.figure = function(figure_id, websocket, ondownload, parent_element) {\n",
       "    this.id = figure_id;\n",
       "\n",
       "    this.ws = websocket;\n",
       "\n",
       "    this.supports_binary = (this.ws.binaryType != undefined);\n",
       "\n",
       "    if (!this.supports_binary) {\n",
       "        var warnings = document.getElementById(\"mpl-warnings\");\n",
       "        if (warnings) {\n",
       "            warnings.style.display = 'block';\n",
       "            warnings.textContent = (\n",
       "                \"This browser does not support binary websocket messages. \" +\n",
       "                    \"Performance may be slow.\");\n",
       "        }\n",
       "    }\n",
       "\n",
       "    this.imageObj = new Image();\n",
       "\n",
       "    this.context = undefined;\n",
       "    this.message = undefined;\n",
       "    this.canvas = undefined;\n",
       "    this.rubberband_canvas = undefined;\n",
       "    this.rubberband_context = undefined;\n",
       "    this.format_dropdown = undefined;\n",
       "\n",
       "    this.image_mode = 'full';\n",
       "\n",
       "    this.root = $('<div/>');\n",
       "    this._root_extra_style(this.root)\n",
       "    this.root.attr('style', 'display: inline-block');\n",
       "\n",
       "    $(parent_element).append(this.root);\n",
       "\n",
       "    this._init_header(this);\n",
       "    this._init_canvas(this);\n",
       "    this._init_toolbar(this);\n",
       "\n",
       "    var fig = this;\n",
       "\n",
       "    this.waiting = false;\n",
       "\n",
       "    this.ws.onopen =  function () {\n",
       "            fig.send_message(\"supports_binary\", {value: fig.supports_binary});\n",
       "            fig.send_message(\"send_image_mode\", {});\n",
       "            if (mpl.ratio != 1) {\n",
       "                fig.send_message(\"set_dpi_ratio\", {'dpi_ratio': mpl.ratio});\n",
       "            }\n",
       "            fig.send_message(\"refresh\", {});\n",
       "        }\n",
       "\n",
       "    this.imageObj.onload = function() {\n",
       "            if (fig.image_mode == 'full') {\n",
       "                // Full images could contain transparency (where diff images\n",
       "                // almost always do), so we need to clear the canvas so that\n",
       "                // there is no ghosting.\n",
       "                fig.context.clearRect(0, 0, fig.canvas.width, fig.canvas.height);\n",
       "            }\n",
       "            fig.context.drawImage(fig.imageObj, 0, 0);\n",
       "        };\n",
       "\n",
       "    this.imageObj.onunload = function() {\n",
       "        fig.ws.close();\n",
       "    }\n",
       "\n",
       "    this.ws.onmessage = this._make_on_message_function(this);\n",
       "\n",
       "    this.ondownload = ondownload;\n",
       "}\n",
       "\n",
       "mpl.figure.prototype._init_header = function() {\n",
       "    var titlebar = $(\n",
       "        '<div class=\"ui-dialog-titlebar ui-widget-header ui-corner-all ' +\n",
       "        'ui-helper-clearfix\"/>');\n",
       "    var titletext = $(\n",
       "        '<div class=\"ui-dialog-title\" style=\"width: 100%; ' +\n",
       "        'text-align: center; padding: 3px;\"/>');\n",
       "    titlebar.append(titletext)\n",
       "    this.root.append(titlebar);\n",
       "    this.header = titletext[0];\n",
       "}\n",
       "\n",
       "\n",
       "\n",
       "mpl.figure.prototype._canvas_extra_style = function(canvas_div) {\n",
       "\n",
       "}\n",
       "\n",
       "\n",
       "mpl.figure.prototype._root_extra_style = function(canvas_div) {\n",
       "\n",
       "}\n",
       "\n",
       "mpl.figure.prototype._init_canvas = function() {\n",
       "    var fig = this;\n",
       "\n",
       "    var canvas_div = $('<div/>');\n",
       "\n",
       "    canvas_div.attr('style', 'position: relative; clear: both; outline: 0');\n",
       "\n",
       "    function canvas_keyboard_event(event) {\n",
       "        return fig.key_event(event, event['data']);\n",
       "    }\n",
       "\n",
       "    canvas_div.keydown('key_press', canvas_keyboard_event);\n",
       "    canvas_div.keyup('key_release', canvas_keyboard_event);\n",
       "    this.canvas_div = canvas_div\n",
       "    this._canvas_extra_style(canvas_div)\n",
       "    this.root.append(canvas_div);\n",
       "\n",
       "    var canvas = $('<canvas/>');\n",
       "    canvas.addClass('mpl-canvas');\n",
       "    canvas.attr('style', \"left: 0; top: 0; z-index: 0; outline: 0\")\n",
       "\n",
       "    this.canvas = canvas[0];\n",
       "    this.context = canvas[0].getContext(\"2d\");\n",
       "\n",
       "    var backingStore = this.context.backingStorePixelRatio ||\n",
       "\tthis.context.webkitBackingStorePixelRatio ||\n",
       "\tthis.context.mozBackingStorePixelRatio ||\n",
       "\tthis.context.msBackingStorePixelRatio ||\n",
       "\tthis.context.oBackingStorePixelRatio ||\n",
       "\tthis.context.backingStorePixelRatio || 1;\n",
       "\n",
       "    mpl.ratio = (window.devicePixelRatio || 1) / backingStore;\n",
       "\n",
       "    var rubberband = $('<canvas/>');\n",
       "    rubberband.attr('style', \"position: absolute; left: 0; top: 0; z-index: 1;\")\n",
       "\n",
       "    var pass_mouse_events = true;\n",
       "\n",
       "    canvas_div.resizable({\n",
       "        start: function(event, ui) {\n",
       "            pass_mouse_events = false;\n",
       "        },\n",
       "        resize: function(event, ui) {\n",
       "            fig.request_resize(ui.size.width, ui.size.height);\n",
       "        },\n",
       "        stop: function(event, ui) {\n",
       "            pass_mouse_events = true;\n",
       "            fig.request_resize(ui.size.width, ui.size.height);\n",
       "        },\n",
       "    });\n",
       "\n",
       "    function mouse_event_fn(event) {\n",
       "        if (pass_mouse_events)\n",
       "            return fig.mouse_event(event, event['data']);\n",
       "    }\n",
       "\n",
       "    rubberband.mousedown('button_press', mouse_event_fn);\n",
       "    rubberband.mouseup('button_release', mouse_event_fn);\n",
       "    // Throttle sequential mouse events to 1 every 20ms.\n",
       "    rubberband.mousemove('motion_notify', mouse_event_fn);\n",
       "\n",
       "    rubberband.mouseenter('figure_enter', mouse_event_fn);\n",
       "    rubberband.mouseleave('figure_leave', mouse_event_fn);\n",
       "\n",
       "    canvas_div.on(\"wheel\", function (event) {\n",
       "        event = event.originalEvent;\n",
       "        event['data'] = 'scroll'\n",
       "        if (event.deltaY < 0) {\n",
       "            event.step = 1;\n",
       "        } else {\n",
       "            event.step = -1;\n",
       "        }\n",
       "        mouse_event_fn(event);\n",
       "    });\n",
       "\n",
       "    canvas_div.append(canvas);\n",
       "    canvas_div.append(rubberband);\n",
       "\n",
       "    this.rubberband = rubberband;\n",
       "    this.rubberband_canvas = rubberband[0];\n",
       "    this.rubberband_context = rubberband[0].getContext(\"2d\");\n",
       "    this.rubberband_context.strokeStyle = \"#000000\";\n",
       "\n",
       "    this._resize_canvas = function(width, height) {\n",
       "        // Keep the size of the canvas, canvas container, and rubber band\n",
       "        // canvas in synch.\n",
       "        canvas_div.css('width', width)\n",
       "        canvas_div.css('height', height)\n",
       "\n",
       "        canvas.attr('width', width * mpl.ratio);\n",
       "        canvas.attr('height', height * mpl.ratio);\n",
       "        canvas.attr('style', 'width: ' + width + 'px; height: ' + height + 'px;');\n",
       "\n",
       "        rubberband.attr('width', width);\n",
       "        rubberband.attr('height', height);\n",
       "    }\n",
       "\n",
       "    // Set the figure to an initial 600x600px, this will subsequently be updated\n",
       "    // upon first draw.\n",
       "    this._resize_canvas(600, 600);\n",
       "\n",
       "    // Disable right mouse context menu.\n",
       "    $(this.rubberband_canvas).bind(\"contextmenu\",function(e){\n",
       "        return false;\n",
       "    });\n",
       "\n",
       "    function set_focus () {\n",
       "        canvas.focus();\n",
       "        canvas_div.focus();\n",
       "    }\n",
       "\n",
       "    window.setTimeout(set_focus, 100);\n",
       "}\n",
       "\n",
       "mpl.figure.prototype._init_toolbar = function() {\n",
       "    var fig = this;\n",
       "\n",
       "    var nav_element = $('<div/>');\n",
       "    nav_element.attr('style', 'width: 100%');\n",
       "    this.root.append(nav_element);\n",
       "\n",
       "    // Define a callback function for later on.\n",
       "    function toolbar_event(event) {\n",
       "        return fig.toolbar_button_onclick(event['data']);\n",
       "    }\n",
       "    function toolbar_mouse_event(event) {\n",
       "        return fig.toolbar_button_onmouseover(event['data']);\n",
       "    }\n",
       "\n",
       "    for(var toolbar_ind in mpl.toolbar_items) {\n",
       "        var name = mpl.toolbar_items[toolbar_ind][0];\n",
       "        var tooltip = mpl.toolbar_items[toolbar_ind][1];\n",
       "        var image = mpl.toolbar_items[toolbar_ind][2];\n",
       "        var method_name = mpl.toolbar_items[toolbar_ind][3];\n",
       "\n",
       "        if (!name) {\n",
       "            // put a spacer in here.\n",
       "            continue;\n",
       "        }\n",
       "        var button = $('<button/>');\n",
       "        button.addClass('ui-button ui-widget ui-state-default ui-corner-all ' +\n",
       "                        'ui-button-icon-only');\n",
       "        button.attr('role', 'button');\n",
       "        button.attr('aria-disabled', 'false');\n",
       "        button.click(method_name, toolbar_event);\n",
       "        button.mouseover(tooltip, toolbar_mouse_event);\n",
       "\n",
       "        var icon_img = $('<span/>');\n",
       "        icon_img.addClass('ui-button-icon-primary ui-icon');\n",
       "        icon_img.addClass(image);\n",
       "        icon_img.addClass('ui-corner-all');\n",
       "\n",
       "        var tooltip_span = $('<span/>');\n",
       "        tooltip_span.addClass('ui-button-text');\n",
       "        tooltip_span.html(tooltip);\n",
       "\n",
       "        button.append(icon_img);\n",
       "        button.append(tooltip_span);\n",
       "\n",
       "        nav_element.append(button);\n",
       "    }\n",
       "\n",
       "    var fmt_picker_span = $('<span/>');\n",
       "\n",
       "    var fmt_picker = $('<select/>');\n",
       "    fmt_picker.addClass('mpl-toolbar-option ui-widget ui-widget-content');\n",
       "    fmt_picker_span.append(fmt_picker);\n",
       "    nav_element.append(fmt_picker_span);\n",
       "    this.format_dropdown = fmt_picker[0];\n",
       "\n",
       "    for (var ind in mpl.extensions) {\n",
       "        var fmt = mpl.extensions[ind];\n",
       "        var option = $(\n",
       "            '<option/>', {selected: fmt === mpl.default_extension}).html(fmt);\n",
       "        fmt_picker.append(option);\n",
       "    }\n",
       "\n",
       "    // Add hover states to the ui-buttons\n",
       "    $( \".ui-button\" ).hover(\n",
       "        function() { $(this).addClass(\"ui-state-hover\");},\n",
       "        function() { $(this).removeClass(\"ui-state-hover\");}\n",
       "    );\n",
       "\n",
       "    var status_bar = $('<span class=\"mpl-message\"/>');\n",
       "    nav_element.append(status_bar);\n",
       "    this.message = status_bar[0];\n",
       "}\n",
       "\n",
       "mpl.figure.prototype.request_resize = function(x_pixels, y_pixels) {\n",
       "    // Request matplotlib to resize the figure. Matplotlib will then trigger a resize in the client,\n",
       "    // which will in turn request a refresh of the image.\n",
       "    this.send_message('resize', {'width': x_pixels, 'height': y_pixels});\n",
       "}\n",
       "\n",
       "mpl.figure.prototype.send_message = function(type, properties) {\n",
       "    properties['type'] = type;\n",
       "    properties['figure_id'] = this.id;\n",
       "    this.ws.send(JSON.stringify(properties));\n",
       "}\n",
       "\n",
       "mpl.figure.prototype.send_draw_message = function() {\n",
       "    if (!this.waiting) {\n",
       "        this.waiting = true;\n",
       "        this.ws.send(JSON.stringify({type: \"draw\", figure_id: this.id}));\n",
       "    }\n",
       "}\n",
       "\n",
       "\n",
       "mpl.figure.prototype.handle_save = function(fig, msg) {\n",
       "    var format_dropdown = fig.format_dropdown;\n",
       "    var format = format_dropdown.options[format_dropdown.selectedIndex].value;\n",
       "    fig.ondownload(fig, format);\n",
       "}\n",
       "\n",
       "\n",
       "mpl.figure.prototype.handle_resize = function(fig, msg) {\n",
       "    var size = msg['size'];\n",
       "    if (size[0] != fig.canvas.width || size[1] != fig.canvas.height) {\n",
       "        fig._resize_canvas(size[0], size[1]);\n",
       "        fig.send_message(\"refresh\", {});\n",
       "    };\n",
       "}\n",
       "\n",
       "mpl.figure.prototype.handle_rubberband = function(fig, msg) {\n",
       "    var x0 = msg['x0'] / mpl.ratio;\n",
       "    var y0 = (fig.canvas.height - msg['y0']) / mpl.ratio;\n",
       "    var x1 = msg['x1'] / mpl.ratio;\n",
       "    var y1 = (fig.canvas.height - msg['y1']) / mpl.ratio;\n",
       "    x0 = Math.floor(x0) + 0.5;\n",
       "    y0 = Math.floor(y0) + 0.5;\n",
       "    x1 = Math.floor(x1) + 0.5;\n",
       "    y1 = Math.floor(y1) + 0.5;\n",
       "    var min_x = Math.min(x0, x1);\n",
       "    var min_y = Math.min(y0, y1);\n",
       "    var width = Math.abs(x1 - x0);\n",
       "    var height = Math.abs(y1 - y0);\n",
       "\n",
       "    fig.rubberband_context.clearRect(\n",
       "        0, 0, fig.canvas.width / mpl.ratio, fig.canvas.height / mpl.ratio);\n",
       "\n",
       "    fig.rubberband_context.strokeRect(min_x, min_y, width, height);\n",
       "}\n",
       "\n",
       "mpl.figure.prototype.handle_figure_label = function(fig, msg) {\n",
       "    // Updates the figure title.\n",
       "    fig.header.textContent = msg['label'];\n",
       "}\n",
       "\n",
       "mpl.figure.prototype.handle_cursor = function(fig, msg) {\n",
       "    var cursor = msg['cursor'];\n",
       "    switch(cursor)\n",
       "    {\n",
       "    case 0:\n",
       "        cursor = 'pointer';\n",
       "        break;\n",
       "    case 1:\n",
       "        cursor = 'default';\n",
       "        break;\n",
       "    case 2:\n",
       "        cursor = 'crosshair';\n",
       "        break;\n",
       "    case 3:\n",
       "        cursor = 'move';\n",
       "        break;\n",
       "    }\n",
       "    fig.rubberband_canvas.style.cursor = cursor;\n",
       "}\n",
       "\n",
       "mpl.figure.prototype.handle_message = function(fig, msg) {\n",
       "    fig.message.textContent = msg['message'];\n",
       "}\n",
       "\n",
       "mpl.figure.prototype.handle_draw = function(fig, msg) {\n",
       "    // Request the server to send over a new figure.\n",
       "    fig.send_draw_message();\n",
       "}\n",
       "\n",
       "mpl.figure.prototype.handle_image_mode = function(fig, msg) {\n",
       "    fig.image_mode = msg['mode'];\n",
       "}\n",
       "\n",
       "mpl.figure.prototype.updated_canvas_event = function() {\n",
       "    // Called whenever the canvas gets updated.\n",
       "    this.send_message(\"ack\", {});\n",
       "}\n",
       "\n",
       "// A function to construct a web socket function for onmessage handling.\n",
       "// Called in the figure constructor.\n",
       "mpl.figure.prototype._make_on_message_function = function(fig) {\n",
       "    return function socket_on_message(evt) {\n",
       "        if (evt.data instanceof Blob) {\n",
       "            /* FIXME: We get \"Resource interpreted as Image but\n",
       "             * transferred with MIME type text/plain:\" errors on\n",
       "             * Chrome.  But how to set the MIME type?  It doesn't seem\n",
       "             * to be part of the websocket stream */\n",
       "            evt.data.type = \"image/png\";\n",
       "\n",
       "            /* Free the memory for the previous frames */\n",
       "            if (fig.imageObj.src) {\n",
       "                (window.URL || window.webkitURL).revokeObjectURL(\n",
       "                    fig.imageObj.src);\n",
       "            }\n",
       "\n",
       "            fig.imageObj.src = (window.URL || window.webkitURL).createObjectURL(\n",
       "                evt.data);\n",
       "            fig.updated_canvas_event();\n",
       "            fig.waiting = false;\n",
       "            return;\n",
       "        }\n",
       "        else if (typeof evt.data === 'string' && evt.data.slice(0, 21) == \"data:image/png;base64\") {\n",
       "            fig.imageObj.src = evt.data;\n",
       "            fig.updated_canvas_event();\n",
       "            fig.waiting = false;\n",
       "            return;\n",
       "        }\n",
       "\n",
       "        var msg = JSON.parse(evt.data);\n",
       "        var msg_type = msg['type'];\n",
       "\n",
       "        // Call the  \"handle_{type}\" callback, which takes\n",
       "        // the figure and JSON message as its only arguments.\n",
       "        try {\n",
       "            var callback = fig[\"handle_\" + msg_type];\n",
       "        } catch (e) {\n",
       "            console.log(\"No handler for the '\" + msg_type + \"' message type: \", msg);\n",
       "            return;\n",
       "        }\n",
       "\n",
       "        if (callback) {\n",
       "            try {\n",
       "                // console.log(\"Handling '\" + msg_type + \"' message: \", msg);\n",
       "                callback(fig, msg);\n",
       "            } catch (e) {\n",
       "                console.log(\"Exception inside the 'handler_\" + msg_type + \"' callback:\", e, e.stack, msg);\n",
       "            }\n",
       "        }\n",
       "    };\n",
       "}\n",
       "\n",
       "// from http://stackoverflow.com/questions/1114465/getting-mouse-location-in-canvas\n",
       "mpl.findpos = function(e) {\n",
       "    //this section is from http://www.quirksmode.org/js/events_properties.html\n",
       "    var targ;\n",
       "    if (!e)\n",
       "        e = window.event;\n",
       "    if (e.target)\n",
       "        targ = e.target;\n",
       "    else if (e.srcElement)\n",
       "        targ = e.srcElement;\n",
       "    if (targ.nodeType == 3) // defeat Safari bug\n",
       "        targ = targ.parentNode;\n",
       "\n",
       "    // jQuery normalizes the pageX and pageY\n",
       "    // pageX,Y are the mouse positions relative to the document\n",
       "    // offset() returns the position of the element relative to the document\n",
       "    var x = e.pageX - $(targ).offset().left;\n",
       "    var y = e.pageY - $(targ).offset().top;\n",
       "\n",
       "    return {\"x\": x, \"y\": y};\n",
       "};\n",
       "\n",
       "/*\n",
       " * return a copy of an object with only non-object keys\n",
       " * we need this to avoid circular references\n",
       " * http://stackoverflow.com/a/24161582/3208463\n",
       " */\n",
       "function simpleKeys (original) {\n",
       "  return Object.keys(original).reduce(function (obj, key) {\n",
       "    if (typeof original[key] !== 'object')\n",
       "        obj[key] = original[key]\n",
       "    return obj;\n",
       "  }, {});\n",
       "}\n",
       "\n",
       "mpl.figure.prototype.mouse_event = function(event, name) {\n",
       "    var canvas_pos = mpl.findpos(event)\n",
       "\n",
       "    if (name === 'button_press')\n",
       "    {\n",
       "        this.canvas.focus();\n",
       "        this.canvas_div.focus();\n",
       "    }\n",
       "\n",
       "    var x = canvas_pos.x * mpl.ratio;\n",
       "    var y = canvas_pos.y * mpl.ratio;\n",
       "\n",
       "    this.send_message(name, {x: x, y: y, button: event.button,\n",
       "                             step: event.step,\n",
       "                             guiEvent: simpleKeys(event)});\n",
       "\n",
       "    /* This prevents the web browser from automatically changing to\n",
       "     * the text insertion cursor when the button is pressed.  We want\n",
       "     * to control all of the cursor setting manually through the\n",
       "     * 'cursor' event from matplotlib */\n",
       "    event.preventDefault();\n",
       "    return false;\n",
       "}\n",
       "\n",
       "mpl.figure.prototype._key_event_extra = function(event, name) {\n",
       "    // Handle any extra behaviour associated with a key event\n",
       "}\n",
       "\n",
       "mpl.figure.prototype.key_event = function(event, name) {\n",
       "\n",
       "    // Prevent repeat events\n",
       "    if (name == 'key_press')\n",
       "    {\n",
       "        if (event.which === this._key)\n",
       "            return;\n",
       "        else\n",
       "            this._key = event.which;\n",
       "    }\n",
       "    if (name == 'key_release')\n",
       "        this._key = null;\n",
       "\n",
       "    var value = '';\n",
       "    if (event.ctrlKey && event.which != 17)\n",
       "        value += \"ctrl+\";\n",
       "    if (event.altKey && event.which != 18)\n",
       "        value += \"alt+\";\n",
       "    if (event.shiftKey && event.which != 16)\n",
       "        value += \"shift+\";\n",
       "\n",
       "    value += 'k';\n",
       "    value += event.which.toString();\n",
       "\n",
       "    this._key_event_extra(event, name);\n",
       "\n",
       "    this.send_message(name, {key: value,\n",
       "                             guiEvent: simpleKeys(event)});\n",
       "    return false;\n",
       "}\n",
       "\n",
       "mpl.figure.prototype.toolbar_button_onclick = function(name) {\n",
       "    if (name == 'download') {\n",
       "        this.handle_save(this, null);\n",
       "    } else {\n",
       "        this.send_message(\"toolbar_button\", {name: name});\n",
       "    }\n",
       "};\n",
       "\n",
       "mpl.figure.prototype.toolbar_button_onmouseover = function(tooltip) {\n",
       "    this.message.textContent = tooltip;\n",
       "};\n",
       "mpl.toolbar_items = [[\"Home\", \"Reset original view\", \"fa fa-home icon-home\", \"home\"], [\"Back\", \"Back to previous view\", \"fa fa-arrow-left icon-arrow-left\", \"back\"], [\"Forward\", \"Forward to next view\", \"fa fa-arrow-right icon-arrow-right\", \"forward\"], [\"\", \"\", \"\", \"\"], [\"Pan\", \"Pan axes with left mouse, zoom with right\", \"fa fa-arrows icon-move\", \"pan\"], [\"Zoom\", \"Zoom to rectangle\", \"fa fa-square-o icon-check-empty\", \"zoom\"], [\"\", \"\", \"\", \"\"], [\"Download\", \"Download plot\", \"fa fa-floppy-o icon-save\", \"download\"]];\n",
       "\n",
       "mpl.extensions = [\"eps\", \"jpeg\", \"pdf\", \"png\", \"ps\", \"raw\", \"svg\", \"tif\"];\n",
       "\n",
       "mpl.default_extension = \"png\";var comm_websocket_adapter = function(comm) {\n",
       "    // Create a \"websocket\"-like object which calls the given IPython comm\n",
       "    // object with the appropriate methods. Currently this is a non binary\n",
       "    // socket, so there is still some room for performance tuning.\n",
       "    var ws = {};\n",
       "\n",
       "    ws.close = function() {\n",
       "        comm.close()\n",
       "    };\n",
       "    ws.send = function(m) {\n",
       "        //console.log('sending', m);\n",
       "        comm.send(m);\n",
       "    };\n",
       "    // Register the callback with on_msg.\n",
       "    comm.on_msg(function(msg) {\n",
       "        //console.log('receiving', msg['content']['data'], msg);\n",
       "        // Pass the mpl event to the overridden (by mpl) onmessage function.\n",
       "        ws.onmessage(msg['content']['data'])\n",
       "    });\n",
       "    return ws;\n",
       "}\n",
       "\n",
       "mpl.mpl_figure_comm = function(comm, msg) {\n",
       "    // This is the function which gets called when the mpl process\n",
       "    // starts-up an IPython Comm through the \"matplotlib\" channel.\n",
       "\n",
       "    var id = msg.content.data.id;\n",
       "    // Get hold of the div created by the display call when the Comm\n",
       "    // socket was opened in Python.\n",
       "    var element = $(\"#\" + id);\n",
       "    var ws_proxy = comm_websocket_adapter(comm)\n",
       "\n",
       "    function ondownload(figure, format) {\n",
       "        window.open(figure.imageObj.src);\n",
       "    }\n",
       "\n",
       "    var fig = new mpl.figure(id, ws_proxy,\n",
       "                           ondownload,\n",
       "                           element.get(0));\n",
       "\n",
       "    // Call onopen now - mpl needs it, as it is assuming we've passed it a real\n",
       "    // web socket which is closed, not our websocket->open comm proxy.\n",
       "    ws_proxy.onopen();\n",
       "\n",
       "    fig.parent_element = element.get(0);\n",
       "    fig.cell_info = mpl.find_output_cell(\"<div id='\" + id + \"'></div>\");\n",
       "    if (!fig.cell_info) {\n",
       "        console.error(\"Failed to find cell for figure\", id, fig);\n",
       "        return;\n",
       "    }\n",
       "\n",
       "    var output_index = fig.cell_info[2]\n",
       "    var cell = fig.cell_info[0];\n",
       "\n",
       "};\n",
       "\n",
       "mpl.figure.prototype.handle_close = function(fig, msg) {\n",
       "    var width = fig.canvas.width/mpl.ratio\n",
       "    fig.root.unbind('remove')\n",
       "\n",
       "    // Update the output cell to use the data from the current canvas.\n",
       "    fig.push_to_output();\n",
       "    var dataURL = fig.canvas.toDataURL();\n",
       "    // Re-enable the keyboard manager in IPython - without this line, in FF,\n",
       "    // the notebook keyboard shortcuts fail.\n",
       "    IPython.keyboard_manager.enable()\n",
       "    $(fig.parent_element).html('<img src=\"' + dataURL + '\" width=\"' + width + '\">');\n",
       "    fig.close_ws(fig, msg);\n",
       "}\n",
       "\n",
       "mpl.figure.prototype.close_ws = function(fig, msg){\n",
       "    fig.send_message('closing', msg);\n",
       "    // fig.ws.close()\n",
       "}\n",
       "\n",
       "mpl.figure.prototype.push_to_output = function(remove_interactive) {\n",
       "    // Turn the data on the canvas into data in the output cell.\n",
       "    var width = this.canvas.width/mpl.ratio\n",
       "    var dataURL = this.canvas.toDataURL();\n",
       "    this.cell_info[1]['text/html'] = '<img src=\"' + dataURL + '\" width=\"' + width + '\">';\n",
       "}\n",
       "\n",
       "mpl.figure.prototype.updated_canvas_event = function() {\n",
       "    // Tell IPython that the notebook contents must change.\n",
       "    IPython.notebook.set_dirty(true);\n",
       "    this.send_message(\"ack\", {});\n",
       "    var fig = this;\n",
       "    // Wait a second, then push the new image to the DOM so\n",
       "    // that it is saved nicely (might be nice to debounce this).\n",
       "    setTimeout(function () { fig.push_to_output() }, 1000);\n",
       "}\n",
       "\n",
       "mpl.figure.prototype._init_toolbar = function() {\n",
       "    var fig = this;\n",
       "\n",
       "    var nav_element = $('<div/>');\n",
       "    nav_element.attr('style', 'width: 100%');\n",
       "    this.root.append(nav_element);\n",
       "\n",
       "    // Define a callback function for later on.\n",
       "    function toolbar_event(event) {\n",
       "        return fig.toolbar_button_onclick(event['data']);\n",
       "    }\n",
       "    function toolbar_mouse_event(event) {\n",
       "        return fig.toolbar_button_onmouseover(event['data']);\n",
       "    }\n",
       "\n",
       "    for(var toolbar_ind in mpl.toolbar_items){\n",
       "        var name = mpl.toolbar_items[toolbar_ind][0];\n",
       "        var tooltip = mpl.toolbar_items[toolbar_ind][1];\n",
       "        var image = mpl.toolbar_items[toolbar_ind][2];\n",
       "        var method_name = mpl.toolbar_items[toolbar_ind][3];\n",
       "\n",
       "        if (!name) { continue; };\n",
       "\n",
       "        var button = $('<button class=\"btn btn-default\" href=\"#\" title=\"' + name + '\"><i class=\"fa ' + image + ' fa-lg\"></i></button>');\n",
       "        button.click(method_name, toolbar_event);\n",
       "        button.mouseover(tooltip, toolbar_mouse_event);\n",
       "        nav_element.append(button);\n",
       "    }\n",
       "\n",
       "    // Add the status bar.\n",
       "    var status_bar = $('<span class=\"mpl-message\" style=\"text-align:right; float: right;\"/>');\n",
       "    nav_element.append(status_bar);\n",
       "    this.message = status_bar[0];\n",
       "\n",
       "    // Add the close button to the window.\n",
       "    var buttongrp = $('<div class=\"btn-group inline pull-right\"></div>');\n",
       "    var button = $('<button class=\"btn btn-mini btn-primary\" href=\"#\" title=\"Stop Interaction\"><i class=\"fa fa-power-off icon-remove icon-large\"></i></button>');\n",
       "    button.click(function (evt) { fig.handle_close(fig, {}); } );\n",
       "    button.mouseover('Stop Interaction', toolbar_mouse_event);\n",
       "    buttongrp.append(button);\n",
       "    var titlebar = this.root.find($('.ui-dialog-titlebar'));\n",
       "    titlebar.prepend(buttongrp);\n",
       "}\n",
       "\n",
       "mpl.figure.prototype._root_extra_style = function(el){\n",
       "    var fig = this\n",
       "    el.on(\"remove\", function(){\n",
       "\tfig.close_ws(fig, {});\n",
       "    });\n",
       "}\n",
       "\n",
       "mpl.figure.prototype._canvas_extra_style = function(el){\n",
       "    // this is important to make the div 'focusable\n",
       "    el.attr('tabindex', 0)\n",
       "    // reach out to IPython and tell the keyboard manager to turn it's self\n",
       "    // off when our div gets focus\n",
       "\n",
       "    // location in version 3\n",
       "    if (IPython.notebook.keyboard_manager) {\n",
       "        IPython.notebook.keyboard_manager.register_events(el);\n",
       "    }\n",
       "    else {\n",
       "        // location in version 2\n",
       "        IPython.keyboard_manager.register_events(el);\n",
       "    }\n",
       "\n",
       "}\n",
       "\n",
       "mpl.figure.prototype._key_event_extra = function(event, name) {\n",
       "    var manager = IPython.notebook.keyboard_manager;\n",
       "    if (!manager)\n",
       "        manager = IPython.keyboard_manager;\n",
       "\n",
       "    // Check for shift+enter\n",
       "    if (event.shiftKey && event.which == 13) {\n",
       "        this.canvas_div.blur();\n",
       "        // select the cell after this one\n",
       "        var index = IPython.notebook.find_cell_index(this.cell_info[0]);\n",
       "        IPython.notebook.select(index + 1);\n",
       "    }\n",
       "}\n",
       "\n",
       "mpl.figure.prototype.handle_save = function(fig, msg) {\n",
       "    fig.ondownload(fig, null);\n",
       "}\n",
       "\n",
       "\n",
       "mpl.find_output_cell = function(html_output) {\n",
       "    // Return the cell and output element which can be found *uniquely* in the notebook.\n",
       "    // Note - this is a bit hacky, but it is done because the \"notebook_saving.Notebook\"\n",
       "    // IPython event is triggered only after the cells have been serialised, which for\n",
       "    // our purposes (turning an active figure into a static one), is too late.\n",
       "    var cells = IPython.notebook.get_cells();\n",
       "    var ncells = cells.length;\n",
       "    for (var i=0; i<ncells; i++) {\n",
       "        var cell = cells[i];\n",
       "        if (cell.cell_type === 'code'){\n",
       "            for (var j=0; j<cell.output_area.outputs.length; j++) {\n",
       "                var data = cell.output_area.outputs[j];\n",
       "                if (data.data) {\n",
       "                    // IPython >= 3 moved mimebundle to data attribute of output\n",
       "                    data = data.data;\n",
       "                }\n",
       "                if (data['text/html'] == html_output) {\n",
       "                    return [cell, data, j];\n",
       "                }\n",
       "            }\n",
       "        }\n",
       "    }\n",
       "}\n",
       "\n",
       "// Register the function which deals with the matplotlib target/channel.\n",
       "// The kernel may be null if the page has been refreshed.\n",
       "if (IPython.notebook.kernel != null) {\n",
       "    IPython.notebook.kernel.comm_manager.register_target('matplotlib', mpl.mpl_figure_comm);\n",
       "}\n"
      ],
      "text/plain": [
       "<IPython.core.display.Javascript object>"
      ]
     },
     "metadata": {},
     "output_type": "display_data"
    },
    {
     "data": {
      "text/html": [
       "<img src=\"data:image/png;base64,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\" width=\"899.9999804930258\">"
      ],
      "text/plain": [
       "<IPython.core.display.HTML object>"
      ]
     },
     "metadata": {},
     "output_type": "display_data"
    }
   ],
   "source": [
    "plt.figure()\n",
    "plt.errorbar(\n",
    "    mus_to_test, \n",
    "    [metric.metrics['PSNR'].mean() for metric in metrics], \n",
    "    [metric.metrics['PSNR'].stddev() for metric in metrics],\n",
    "    linestyle='None', \n",
    "    marker='o',\n",
    ")\n",
    "plt.axhline(24.61, color='C3')\n",
    "plt.xscale('log')"
   ]
  },
  {
   "cell_type": "code",
   "execution_count": 54,
   "metadata": {},
   "outputs": [],
   "source": [
    "mus_to_test = np.logspace(-10, -8, 7)"
   ]
  },
  {
   "cell_type": "code",
   "execution_count": 55,
   "metadata": {
    "scrolled": true
   },
   "outputs": [
    {
     "name": "stderr",
     "output_type": "stream",
     "text": [
      "/volatile/home/Zaccharie/workspace/fastmri-reproducible-benchmark/venv/lib/python3.6/site-packages/ipykernel_launcher.py:2: TqdmDeprecationWarning: This function will be removed in tqdm==5.0.0\n",
      "Please use `tqdm.notebook.tqdm` instead of `tqdm.tqdm_notebook`\n",
      "  \n"
     ]
    },
    {
     "data": {
      "application/vnd.jupyter.widget-view+json": {
       "model_id": "a706e9edebd24eedb20c53b9682c3f05",
       "version_major": 2,
       "version_minor": 0
      },
      "text/plain": [
       "HBox(children=(FloatProgress(value=0.0, description='mus', max=7.0, style=ProgressStyle(description_width='ini…"
      ]
     },
     "metadata": {},
     "output_type": "display_data"
    },
    {
     "name": "stderr",
     "output_type": "stream",
     "text": [
      "/volatile/home/Zaccharie/workspace/fastmri-reproducible-benchmark/venv/lib/python3.6/site-packages/ipykernel_launcher.py:6: TqdmDeprecationWarning: This function will be removed in tqdm==5.0.0\n",
      "Please use `tqdm.notebook.tqdm` instead of `tqdm.tqdm_notebook`\n",
      "  \n"
     ]
    },
    {
     "data": {
      "application/vnd.jupyter.widget-view+json": {
       "model_id": "c8b6807eab93447fa11d834194e57bbd",
       "version_major": 2,
       "version_minor": 0
      },
      "text/plain": [
       "HBox(children=(FloatProgress(value=0.0, description='K-spaces', max=24.0, style=ProgressStyle(description_widt…"
      ]
     },
     "metadata": {},
     "output_type": "display_data"
    },
    {
     "name": "stderr",
     "output_type": "stream",
     "text": [
      "/volatile/home/Zaccharie/workspace/fastmri-reproducible-benchmark/fastmri_recon/data/data_utils.py:18: H5pyDeprecationWarning: The default file mode will change to 'r' (read-only) in h5py 3.0. To suppress this warning, pass the mode you need to h5py.File(), or set the global default h5.get_config().default_file_mode, or set the environment variable H5PY_DEFAULT_READONLY=1. Available modes are: 'r', 'r+', 'w', 'w-'/'x', 'a'. See the docs for details.\n",
      "  with h5py.File(filename) as h5_obj:\n",
      "/volatile/home/Zaccharie/workspace/fastmri-reproducible-benchmark/venv/lib/python3.6/site-packages/mri/reconstruct/utils.py:74: FutureWarning: Using a non-tuple sequence for multidimensional indexing is deprecated; use `arr[tuple(seq)]` instead of `arr[seq]`. In the future this will be interpreted as an array index, `arr[np.array(seq)]`, which will result either in an error or a different result.\n",
      "  mask[test] = 1\n",
      "\u001b[33mWARNING\u001b[0m: Making input data immutable.\n"
     ]
    },
    {
     "name": "stdout",
     "output_type": "stream",
     "text": [
      "\n",
      "  _____             ____     _____      _\n",
      " |\" ___|    ___    / __\"| u |_ \" _| U  /\"\\  u\n",
      "U| |_  u   |_\"_|  <\\___ \\/    | |    \\/ _ \\/\n",
      "\\|  _|/     | |    u___) |   /| |\\   / ___ \\\\\n",
      " |_|      U/| |\\u  |____/>> u |_|U  /_/   \\_\\\\\n",
      " )(\\\\\\,-.-,_|___|_,-.)(  (__)_// \\\\\\_  \\\\\\    >>\n",
      "(__)(_/ \\_)-' '-(_/(__)    (__) (__)(__)  (__)\n",
      "    \n",
      " - mu:  1e-10\n",
      " - lipschitz constant:  1.0999999999999774\n",
      " - data:  (640, 368)\n",
      " - wavelet:  <mri.reconstruct.linear.WaveletN object at 0x7fa415738780> - 4\n",
      " - max iterations:  200\n",
      " - image variable shape:  (640, 368)\n",
      " - alpha variable shape:  (235520,)\n",
      "----------------------------------------\n",
      "Starting optimization...\n"
     ]
    },
    {
     "name": "stderr",
     "output_type": "stream",
     "text": [
      "100% (200 of 200) |######################| Elapsed Time: 0:00:50 Time:  0:00:50\n"
     ]
    },
    {
     "name": "stdout",
     "output_type": "stream",
     "text": [
      " - final iteration number:  200\n",
      " - final log10 cost value:  -5.129166774908001\n",
      " - converged:  True\n",
      "Done.\n",
      "Execution time:  1604.404189000008  seconds\n",
      "----------------------------------------\n"
     ]
    },
    {
     "name": "stderr",
     "output_type": "stream",
     "text": [
      "\u001b[33mWARNING\u001b[0m: Making input data immutable.\n"
     ]
    },
    {
     "name": "stdout",
     "output_type": "stream",
     "text": [
      "\n",
      "  _____             ____     _____      _\n",
      " |\" ___|    ___    / __\"| u |_ \" _| U  /\"\\  u\n",
      "U| |_  u   |_\"_|  <\\___ \\/    | |    \\/ _ \\/\n",
      "\\|  _|/     | |    u___) |   /| |\\   / ___ \\\\\n",
      " |_|      U/| |\\u  |____/>> u |_|U  /_/   \\_\\\\\n",
      " )(\\\\\\,-.-,_|___|_,-.)(  (__)_// \\\\\\_  \\\\\\    >>\n",
      "(__)(_/ \\_)-' '-(_/(__)    (__) (__)(__)  (__)\n",
      "    \n",
      " - mu:  1e-10\n",
      " - lipschitz constant:  1.0999999999999854\n",
      " - data:  (640, 372)\n",
      " - wavelet:  <mri.reconstruct.linear.WaveletN object at 0x7fa415738470> - 4\n",
      " - max iterations:  200\n",
      " - image variable shape:  (640, 372)\n",
      " - alpha variable shape:  (238320,)\n",
      "----------------------------------------\n",
      "Starting optimization...\n"
     ]
    },
    {
     "name": "stderr",
     "output_type": "stream",
     "text": [
      "100% (200 of 200) |######################| Elapsed Time: 0:00:52 Time:  0:00:52\n"
     ]
    },
    {
     "name": "stdout",
     "output_type": "stream",
     "text": [
      " - final iteration number:  200\n",
      " - final log10 cost value:  -6.418936831273035\n",
      " - converged:  True\n",
      "Done.\n",
      "Execution time:  1556.348484000002  seconds\n",
      "----------------------------------------\n"
     ]
    },
    {
     "name": "stderr",
     "output_type": "stream",
     "text": [
      "\u001b[33mWARNING\u001b[0m: Making input data immutable.\n"
     ]
    },
    {
     "name": "stdout",
     "output_type": "stream",
     "text": [
      "\n",
      "  _____             ____     _____      _\n",
      " |\" ___|    ___    / __\"| u |_ \" _| U  /\"\\  u\n",
      "U| |_  u   |_\"_|  <\\___ \\/    | |    \\/ _ \\/\n",
      "\\|  _|/     | |    u___) |   /| |\\   / ___ \\\\\n",
      " |_|      U/| |\\u  |____/>> u |_|U  /_/   \\_\\\\\n",
      " )(\\\\\\,-.-,_|___|_,-.)(  (__)_// \\\\\\_  \\\\\\    >>\n",
      "(__)(_/ \\_)-' '-(_/(__)    (__) (__)(__)  (__)\n",
      "    \n",
      " - mu:  1e-10\n",
      " - lipschitz constant:  1.1000000000000307\n",
      " - data:  (640, 368)\n",
      " - wavelet:  <mri.reconstruct.linear.WaveletN object at 0x7fa415738358> - 4\n",
      " - max iterations:  200\n",
      " - image variable shape:  (640, 368)\n",
      " - alpha variable shape:  (235520,)\n",
      "----------------------------------------\n",
      "Starting optimization...\n"
     ]
    },
    {
     "name": "stderr",
     "output_type": "stream",
     "text": [
      "100% (200 of 200) |######################| Elapsed Time: 0:00:51 Time:  0:00:51\n"
     ]
    },
    {
     "name": "stdout",
     "output_type": "stream",
     "text": [
      " - final iteration number:  200\n",
      " - final log10 cost value:  -5.175782095709387\n",
      " - converged:  True\n",
      "Done.\n",
      "Execution time:  1600.4624179999955  seconds\n",
      "----------------------------------------\n"
     ]
    },
    {
     "name": "stderr",
     "output_type": "stream",
     "text": [
      "\u001b[33mWARNING\u001b[0m: Making input data immutable.\n"
     ]
    },
    {
     "name": "stdout",
     "output_type": "stream",
     "text": [
      "\n",
      "  _____             ____     _____      _\n",
      " |\" ___|    ___    / __\"| u |_ \" _| U  /\"\\  u\n",
      "U| |_  u   |_\"_|  <\\___ \\/    | |    \\/ _ \\/\n",
      "\\|  _|/     | |    u___) |   /| |\\   / ___ \\\\\n",
      " |_|      U/| |\\u  |____/>> u |_|U  /_/   \\_\\\\\n",
      " )(\\\\\\,-.-,_|___|_,-.)(  (__)_// \\\\\\_  \\\\\\    >>\n",
      "(__)(_/ \\_)-' '-(_/(__)    (__) (__)(__)  (__)\n",
      "    \n",
      " - mu:  1e-10\n",
      " - lipschitz constant:  1.1000000000000216\n",
      " - data:  (640, 338)\n",
      " - wavelet:  <mri.reconstruct.linear.WaveletN object at 0x7fa415738be0> - 4\n",
      " - max iterations:  200\n",
      " - image variable shape:  (640, 338)\n",
      " - alpha variable shape:  (216880,)\n",
      "----------------------------------------\n",
      "Starting optimization...\n"
     ]
    },
    {
     "name": "stderr",
     "output_type": "stream",
     "text": [
      "100% (200 of 200) |######################| Elapsed Time: 0:00:48 Time:  0:00:48\n"
     ]
    },
    {
     "name": "stdout",
     "output_type": "stream",
     "text": [
      " - final iteration number:  200\n",
      " - final log10 cost value:  -6.12450223235385\n",
      " - converged:  True\n",
      "Done.\n",
      "Execution time:  1610.3389529999986  seconds\n",
      "----------------------------------------\n"
     ]
    },
    {
     "name": "stderr",
     "output_type": "stream",
     "text": [
      "\u001b[33mWARNING\u001b[0m: Making input data immutable.\n"
     ]
    },
    {
     "name": "stdout",
     "output_type": "stream",
     "text": [
      "\n",
      "  _____             ____     _____      _\n",
      " |\" ___|    ___    / __\"| u |_ \" _| U  /\"\\  u\n",
      "U| |_  u   |_\"_|  <\\___ \\/    | |    \\/ _ \\/\n",
      "\\|  _|/     | |    u___) |   /| |\\   / ___ \\\\\n",
      " |_|      U/| |\\u  |____/>> u |_|U  /_/   \\_\\\\\n",
      " )(\\\\\\,-.-,_|___|_,-.)(  (__)_// \\\\\\_  \\\\\\    >>\n",
      "(__)(_/ \\_)-' '-(_/(__)    (__) (__)(__)  (__)\n",
      "    \n",
      " - mu:  1e-10\n",
      " - lipschitz constant:  1.1000000000000878\n",
      " - data:  (640, 368)\n",
      " - wavelet:  <mri.reconstruct.linear.WaveletN object at 0x7fa41578ec88> - 4\n",
      " - max iterations:  200\n",
      " - image variable shape:  (640, 368)\n",
      " - alpha variable shape:  (235520,)\n",
      "----------------------------------------\n",
      "Starting optimization...\n"
     ]
    },
    {
     "name": "stderr",
     "output_type": "stream",
     "text": [
      "100% (200 of 200) |######################| Elapsed Time: 0:00:50 Time:  0:00:50\n"
     ]
    },
    {
     "name": "stdout",
     "output_type": "stream",
     "text": [
      " - final iteration number:  200\n",
      " - final log10 cost value:  -5.4349043533584265\n",
      " - converged:  True\n",
      "Done.\n",
      "Execution time:  1644.1018040000054  seconds\n",
      "----------------------------------------\n"
     ]
    },
    {
     "name": "stderr",
     "output_type": "stream",
     "text": [
      "\u001b[33mWARNING\u001b[0m: Making input data immutable.\n"
     ]
    },
    {
     "name": "stdout",
     "output_type": "stream",
     "text": [
      "\n",
      "  _____             ____     _____      _\n",
      " |\" ___|    ___    / __\"| u |_ \" _| U  /\"\\  u\n",
      "U| |_  u   |_\"_|  <\\___ \\/    | |    \\/ _ \\/\n",
      "\\|  _|/     | |    u___) |   /| |\\   / ___ \\\\\n",
      " |_|      U/| |\\u  |____/>> u |_|U  /_/   \\_\\\\\n",
      " )(\\\\\\,-.-,_|___|_,-.)(  (__)_// \\\\\\_  \\\\\\    >>\n",
      "(__)(_/ \\_)-' '-(_/(__)    (__) (__)(__)  (__)\n",
      "    \n",
      " - mu:  1e-10\n",
      " - lipschitz constant:  1.1000000000000303\n",
      " - data:  (640, 372)\n",
      " - wavelet:  <mri.reconstruct.linear.WaveletN object at 0x7fa41578ebe0> - 4\n",
      " - max iterations:  200\n",
      " - image variable shape:  (640, 372)\n",
      " - alpha variable shape:  (238320,)\n",
      "----------------------------------------\n",
      "Starting optimization...\n"
     ]
    },
    {
     "name": "stderr",
     "output_type": "stream",
     "text": [
      "100% (200 of 200) |######################| Elapsed Time: 0:00:51 Time:  0:00:51\n"
     ]
    },
    {
     "name": "stdout",
     "output_type": "stream",
     "text": [
      " - final iteration number:  200\n",
      " - final log10 cost value:  -6.5467727080736875\n",
      " - converged:  True\n",
      "Done.\n",
      "Execution time:  1670.9342869999964  seconds\n",
      "----------------------------------------\n"
     ]
    },
    {
     "name": "stderr",
     "output_type": "stream",
     "text": [
      "\u001b[33mWARNING\u001b[0m: Making input data immutable.\n"
     ]
    },
    {
     "name": "stdout",
     "output_type": "stream",
     "text": [
      "\n",
      "  _____             ____     _____      _\n",
      " |\" ___|    ___    / __\"| u |_ \" _| U  /\"\\  u\n",
      "U| |_  u   |_\"_|  <\\___ \\/    | |    \\/ _ \\/\n",
      "\\|  _|/     | |    u___) |   /| |\\   / ___ \\\\\n",
      " |_|      U/| |\\u  |____/>> u |_|U  /_/   \\_\\\\\n",
      " )(\\\\\\,-.-,_|___|_,-.)(  (__)_// \\\\\\_  \\\\\\    >>\n",
      "(__)(_/ \\_)-' '-(_/(__)    (__) (__)(__)  (__)\n",
      "    \n",
      " - mu:  1e-10\n",
      " - lipschitz constant:  1.099999999999974\n",
      " - data:  (640, 372)\n",
      " - wavelet:  <mri.reconstruct.linear.WaveletN object at 0x7fa415738be0> - 4\n",
      " - max iterations:  200\n",
      " - image variable shape:  (640, 372)\n",
      " - alpha variable shape:  (238320,)\n",
      "----------------------------------------\n",
      "Starting optimization...\n"
     ]
    },
    {
     "name": "stderr",
     "output_type": "stream",
     "text": [
      "100% (200 of 200) |######################| Elapsed Time: 0:00:52 Time:  0:00:52\n"
     ]
    },
    {
     "name": "stdout",
     "output_type": "stream",
     "text": [
      " - final iteration number:  200\n",
      " - final log10 cost value:  -6.276227700315011\n",
      " - converged:  True\n",
      "Done.\n",
      "Execution time:  1680.9568870000076  seconds\n",
      "----------------------------------------\n"
     ]
    },
    {
     "name": "stderr",
     "output_type": "stream",
     "text": [
      "\u001b[33mWARNING\u001b[0m: Making input data immutable.\n"
     ]
    },
    {
     "name": "stdout",
     "output_type": "stream",
     "text": [
      "\n",
      "  _____             ____     _____      _\n",
      " |\" ___|    ___    / __\"| u |_ \" _| U  /\"\\  u\n",
      "U| |_  u   |_\"_|  <\\___ \\/    | |    \\/ _ \\/\n",
      "\\|  _|/     | |    u___) |   /| |\\   / ___ \\\\\n",
      " |_|      U/| |\\u  |____/>> u |_|U  /_/   \\_\\\\\n",
      " )(\\\\\\,-.-,_|___|_,-.)(  (__)_// \\\\\\_  \\\\\\    >>\n",
      "(__)(_/ \\_)-' '-(_/(__)    (__) (__)(__)  (__)\n",
      "    \n",
      " - mu:  1e-10\n",
      " - lipschitz constant:  1.100000000000089\n",
      " - data:  (640, 368)\n",
      " - wavelet:  <mri.reconstruct.linear.WaveletN object at 0x7fa41578e630> - 4\n",
      " - max iterations:  200\n",
      " - image variable shape:  (640, 368)\n",
      " - alpha variable shape:  (235520,)\n",
      "----------------------------------------\n",
      "Starting optimization...\n"
     ]
    },
    {
     "name": "stderr",
     "output_type": "stream",
     "text": [
      "100% (200 of 200) |######################| Elapsed Time: 0:00:50 Time:  0:00:50\n"
     ]
    },
    {
     "name": "stdout",
     "output_type": "stream",
     "text": [
      " - final iteration number:  200\n",
      " - final log10 cost value:  -5.364504777813146\n",
      " - converged:  True\n",
      "Done.\n",
      "Execution time:  1642.4891770000104  seconds\n",
      "----------------------------------------\n"
     ]
    },
    {
     "name": "stderr",
     "output_type": "stream",
     "text": [
      "\u001b[33mWARNING\u001b[0m: Making input data immutable.\n"
     ]
    },
    {
     "name": "stdout",
     "output_type": "stream",
     "text": [
      "\n",
      "  _____             ____     _____      _\n",
      " |\" ___|    ___    / __\"| u |_ \" _| U  /\"\\  u\n",
      "U| |_  u   |_\"_|  <\\___ \\/    | |    \\/ _ \\/\n",
      "\\|  _|/     | |    u___) |   /| |\\   / ___ \\\\\n",
      " |_|      U/| |\\u  |____/>> u |_|U  /_/   \\_\\\\\n",
      " )(\\\\\\,-.-,_|___|_,-.)(  (__)_// \\\\\\_  \\\\\\    >>\n",
      "(__)(_/ \\_)-' '-(_/(__)    (__) (__)(__)  (__)\n",
      "    \n",
      " - mu:  1e-10\n",
      " - lipschitz constant:  1.099999999999977\n",
      " - data:  (640, 372)\n",
      " - wavelet:  <mri.reconstruct.linear.WaveletN object at 0x7fa41578ed30> - 4\n",
      " - max iterations:  200\n",
      " - image variable shape:  (640, 372)\n",
      " - alpha variable shape:  (238320,)\n",
      "----------------------------------------\n",
      "Starting optimization...\n"
     ]
    },
    {
     "name": "stderr",
     "output_type": "stream",
     "text": [
      "100% (200 of 200) |######################| Elapsed Time: 0:00:51 Time:  0:00:51\n"
     ]
    },
    {
     "name": "stdout",
     "output_type": "stream",
     "text": [
      " - final iteration number:  200\n",
      " - final log10 cost value:  -6.471197495286625\n",
      " - converged:  True\n",
      "Done.\n",
      "Execution time:  1679.9251610000065  seconds\n",
      "----------------------------------------\n"
     ]
    },
    {
     "name": "stderr",
     "output_type": "stream",
     "text": [
      "\u001b[33mWARNING\u001b[0m: Making input data immutable.\n"
     ]
    },
    {
     "name": "stdout",
     "output_type": "stream",
     "text": [
      "\n",
      "  _____             ____     _____      _\n",
      " |\" ___|    ___    / __\"| u |_ \" _| U  /\"\\  u\n",
      "U| |_  u   |_\"_|  <\\___ \\/    | |    \\/ _ \\/\n",
      "\\|  _|/     | |    u___) |   /| |\\   / ___ \\\\\n",
      " |_|      U/| |\\u  |____/>> u |_|U  /_/   \\_\\\\\n",
      " )(\\\\\\,-.-,_|___|_,-.)(  (__)_// \\\\\\_  \\\\\\    >>\n",
      "(__)(_/ \\_)-' '-(_/(__)    (__) (__)(__)  (__)\n",
      "    \n",
      " - mu:  1e-10\n",
      " - lipschitz constant:  1.100000000000085\n",
      " - data:  (640, 368)\n",
      " - wavelet:  <mri.reconstruct.linear.WaveletN object at 0x7fa41578e860> - 4\n",
      " - max iterations:  200\n",
      " - image variable shape:  (640, 368)\n",
      " - alpha variable shape:  (235520,)\n",
      "----------------------------------------\n",
      "Starting optimization...\n"
     ]
    },
    {
     "name": "stderr",
     "output_type": "stream",
     "text": [
      "100% (200 of 200) |######################| Elapsed Time: 0:00:50 Time:  0:00:50\n"
     ]
    },
    {
     "name": "stdout",
     "output_type": "stream",
     "text": [
      " - final iteration number:  200\n",
      " - final log10 cost value:  -5.3912519208579806\n",
      " - converged:  True\n",
      "Done.\n",
      "Execution time:  1644.2491330000048  seconds\n",
      "----------------------------------------\n"
     ]
    },
    {
     "name": "stderr",
     "output_type": "stream",
     "text": [
      "\u001b[33mWARNING\u001b[0m: Making input data immutable.\n"
     ]
    },
    {
     "name": "stdout",
     "output_type": "stream",
     "text": [
      "\n",
      "  _____             ____     _____      _\n",
      " |\" ___|    ___    / __\"| u |_ \" _| U  /\"\\  u\n",
      "U| |_  u   |_\"_|  <\\___ \\/    | |    \\/ _ \\/\n",
      "\\|  _|/     | |    u___) |   /| |\\   / ___ \\\\\n",
      " |_|      U/| |\\u  |____/>> u |_|U  /_/   \\_\\\\\n",
      " )(\\\\\\,-.-,_|___|_,-.)(  (__)_// \\\\\\_  \\\\\\    >>\n",
      "(__)(_/ \\_)-' '-(_/(__)    (__) (__)(__)  (__)\n",
      "    \n",
      " - mu:  1e-10\n",
      " - lipschitz constant:  1.1000000000000845\n",
      " - data:  (640, 372)\n",
      " - wavelet:  <mri.reconstruct.linear.WaveletN object at 0x7fa415760ef0> - 4\n",
      " - max iterations:  200\n",
      " - image variable shape:  (640, 372)\n",
      " - alpha variable shape:  (238320,)\n",
      "----------------------------------------\n",
      "Starting optimization...\n"
     ]
    },
    {
     "name": "stderr",
     "output_type": "stream",
     "text": [
      "100% (200 of 200) |######################| Elapsed Time: 0:00:52 Time:  0:00:52\n"
     ]
    },
    {
     "name": "stdout",
     "output_type": "stream",
     "text": [
      " - final iteration number:  200\n",
      " - final log10 cost value:  -6.1479384899800475\n",
      " - converged:  True\n",
      "Done.\n",
      "Execution time:  1677.750469000006  seconds\n",
      "----------------------------------------\n"
     ]
    },
    {
     "name": "stderr",
     "output_type": "stream",
     "text": [
      "\u001b[33mWARNING\u001b[0m: Making input data immutable.\n"
     ]
    },
    {
     "name": "stdout",
     "output_type": "stream",
     "text": [
      "\n",
      "  _____             ____     _____      _\n",
      " |\" ___|    ___    / __\"| u |_ \" _| U  /\"\\  u\n",
      "U| |_  u   |_\"_|  <\\___ \\/    | |    \\/ _ \\/\n",
      "\\|  _|/     | |    u___) |   /| |\\   / ___ \\\\\n",
      " |_|      U/| |\\u  |____/>> u |_|U  /_/   \\_\\\\\n",
      " )(\\\\\\,-.-,_|___|_,-.)(  (__)_// \\\\\\_  \\\\\\    >>\n",
      "(__)(_/ \\_)-' '-(_/(__)    (__) (__)(__)  (__)\n",
      "    \n",
      " - mu:  1e-10\n",
      " - lipschitz constant:  1.1000000000000694\n",
      " - data:  (640, 372)\n",
      " - wavelet:  <mri.reconstruct.linear.WaveletN object at 0x7fa415760320> - 4\n",
      " - max iterations:  200\n",
      " - image variable shape:  (640, 372)\n",
      " - alpha variable shape:  (238320,)\n",
      "----------------------------------------\n",
      "Starting optimization...\n"
     ]
    },
    {
     "name": "stderr",
     "output_type": "stream",
     "text": [
      "100% (200 of 200) |######################| Elapsed Time: 0:00:51 Time:  0:00:51\n"
     ]
    },
    {
     "name": "stdout",
     "output_type": "stream",
     "text": [
      " - final iteration number:  200\n",
      " - final log10 cost value:  -6.289961427742488\n",
      " - converged:  True\n",
      "Done.\n",
      "Execution time:  1671.3306490000105  seconds\n",
      "----------------------------------------\n"
     ]
    },
    {
     "name": "stderr",
     "output_type": "stream",
     "text": [
      "\u001b[33mWARNING\u001b[0m: Making input data immutable.\n"
     ]
    },
    {
     "name": "stdout",
     "output_type": "stream",
     "text": [
      "\n",
      "  _____             ____     _____      _\n",
      " |\" ___|    ___    / __\"| u |_ \" _| U  /\"\\  u\n",
      "U| |_  u   |_\"_|  <\\___ \\/    | |    \\/ _ \\/\n",
      "\\|  _|/     | |    u___) |   /| |\\   / ___ \\\\\n",
      " |_|      U/| |\\u  |____/>> u |_|U  /_/   \\_\\\\\n",
      " )(\\\\\\,-.-,_|___|_,-.)(  (__)_// \\\\\\_  \\\\\\    >>\n",
      "(__)(_/ \\_)-' '-(_/(__)    (__) (__)(__)  (__)\n",
      "    \n",
      " - mu:  1e-10\n",
      " - lipschitz constant:  1.1000000000000292\n",
      " - data:  (640, 372)\n",
      " - wavelet:  <mri.reconstruct.linear.WaveletN object at 0x7fa415738f28> - 4\n",
      " - max iterations:  200\n",
      " - image variable shape:  (640, 372)\n",
      " - alpha variable shape:  (238320,)\n",
      "----------------------------------------\n",
      "Starting optimization...\n"
     ]
    },
    {
     "name": "stderr",
     "output_type": "stream",
     "text": [
      "100% (200 of 200) |######################| Elapsed Time: 0:00:52 Time:  0:00:52\n"
     ]
    },
    {
     "name": "stdout",
     "output_type": "stream",
     "text": [
      " - final iteration number:  200\n",
      " - final log10 cost value:  -6.4303912926666955\n",
      " - converged:  True\n",
      "Done.\n",
      "Execution time:  1680.4874300000083  seconds\n",
      "----------------------------------------\n"
     ]
    },
    {
     "name": "stderr",
     "output_type": "stream",
     "text": [
      "\u001b[33mWARNING\u001b[0m: Making input data immutable.\n"
     ]
    },
    {
     "name": "stdout",
     "output_type": "stream",
     "text": [
      "\n",
      "  _____             ____     _____      _\n",
      " |\" ___|    ___    / __\"| u |_ \" _| U  /\"\\  u\n",
      "U| |_  u   |_\"_|  <\\___ \\/    | |    \\/ _ \\/\n",
      "\\|  _|/     | |    u___) |   /| |\\   / ___ \\\\\n",
      " |_|      U/| |\\u  |____/>> u |_|U  /_/   \\_\\\\\n",
      " )(\\\\\\,-.-,_|___|_,-.)(  (__)_// \\\\\\_  \\\\\\    >>\n",
      "(__)(_/ \\_)-' '-(_/(__)    (__) (__)(__)  (__)\n",
      "    \n",
      " - mu:  1e-10\n",
      " - lipschitz constant:  1.1000000000000734\n",
      " - data:  (640, 368)\n",
      " - wavelet:  <mri.reconstruct.linear.WaveletN object at 0x7fa415760c18> - 4\n",
      " - max iterations:  200\n",
      " - image variable shape:  (640, 368)\n",
      " - alpha variable shape:  (235520,)\n",
      "----------------------------------------\n",
      "Starting optimization...\n"
     ]
    },
    {
     "name": "stderr",
     "output_type": "stream",
     "text": [
      "100% (200 of 200) |######################| Elapsed Time: 0:00:50 Time:  0:00:50\n"
     ]
    },
    {
     "name": "stdout",
     "output_type": "stream",
     "text": [
      " - final iteration number:  200\n",
      " - final log10 cost value:  -5.373431815844556\n",
      " - converged:  True\n",
      "Done.\n",
      "Execution time:  1644.9911970000103  seconds\n",
      "----------------------------------------\n"
     ]
    },
    {
     "name": "stderr",
     "output_type": "stream",
     "text": [
      "\u001b[33mWARNING\u001b[0m: Making input data immutable.\n"
     ]
    },
    {
     "name": "stdout",
     "output_type": "stream",
     "text": [
      "\n",
      "  _____             ____     _____      _\n",
      " |\" ___|    ___    / __\"| u |_ \" _| U  /\"\\  u\n",
      "U| |_  u   |_\"_|  <\\___ \\/    | |    \\/ _ \\/\n",
      "\\|  _|/     | |    u___) |   /| |\\   / ___ \\\\\n",
      " |_|      U/| |\\u  |____/>> u |_|U  /_/   \\_\\\\\n",
      " )(\\\\\\,-.-,_|___|_,-.)(  (__)_// \\\\\\_  \\\\\\    >>\n",
      "(__)(_/ \\_)-' '-(_/(__)    (__) (__)(__)  (__)\n",
      "    \n",
      " - mu:  1e-10\n",
      " - lipschitz constant:  1.099999999999977\n",
      " - data:  (640, 372)\n",
      " - wavelet:  <mri.reconstruct.linear.WaveletN object at 0x7fa4157602e8> - 4\n",
      " - max iterations:  200\n",
      " - image variable shape:  (640, 372)\n",
      " - alpha variable shape:  (238320,)\n",
      "----------------------------------------\n",
      "Starting optimization...\n"
     ]
    },
    {
     "name": "stderr",
     "output_type": "stream",
     "text": [
      "100% (200 of 200) |######################| Elapsed Time: 0:00:52 Time:  0:00:52\n"
     ]
    },
    {
     "name": "stdout",
     "output_type": "stream",
     "text": [
      " - final iteration number:  200\n",
      " - final log10 cost value:  -6.45388146050302\n",
      " - converged:  True\n",
      "Done.\n",
      "Execution time:  1652.7812750000012  seconds\n",
      "----------------------------------------\n"
     ]
    },
    {
     "name": "stderr",
     "output_type": "stream",
     "text": [
      "\u001b[33mWARNING\u001b[0m: Making input data immutable.\n"
     ]
    },
    {
     "name": "stdout",
     "output_type": "stream",
     "text": [
      "\n",
      "  _____             ____     _____      _\n",
      " |\" ___|    ___    / __\"| u |_ \" _| U  /\"\\  u\n",
      "U| |_  u   |_\"_|  <\\___ \\/    | |    \\/ _ \\/\n",
      "\\|  _|/     | |    u___) |   /| |\\   / ___ \\\\\n",
      " |_|      U/| |\\u  |____/>> u |_|U  /_/   \\_\\\\\n",
      " )(\\\\\\,-.-,_|___|_,-.)(  (__)_// \\\\\\_  \\\\\\    >>\n",
      "(__)(_/ \\_)-' '-(_/(__)    (__) (__)(__)  (__)\n",
      "    \n",
      " - mu:  1e-10\n",
      " - lipschitz constant:  1.1000000000000822\n",
      " - data:  (640, 372)\n",
      " - wavelet:  <mri.reconstruct.linear.WaveletN object at 0x7fa41578e630> - 4\n",
      " - max iterations:  200\n",
      " - image variable shape:  (640, 372)\n",
      " - alpha variable shape:  (238320,)\n",
      "----------------------------------------\n",
      "Starting optimization...\n"
     ]
    },
    {
     "name": "stderr",
     "output_type": "stream",
     "text": [
      "100% (200 of 200) |######################| Elapsed Time: 0:00:53 Time:  0:00:53\n"
     ]
    },
    {
     "name": "stdout",
     "output_type": "stream",
     "text": [
      " - final iteration number:  200\n",
      " - final log10 cost value:  -6.359165348174548\n",
      " - converged:  True\n",
      "Done.\n",
      "Execution time:  1605.553031000003  seconds\n",
      "----------------------------------------\n"
     ]
    },
    {
     "name": "stderr",
     "output_type": "stream",
     "text": [
      "\u001b[33mWARNING\u001b[0m: Making input data immutable.\n"
     ]
    },
    {
     "name": "stdout",
     "output_type": "stream",
     "text": [
      "\n",
      "  _____             ____     _____      _\n",
      " |\" ___|    ___    / __\"| u |_ \" _| U  /\"\\  u\n",
      "U| |_  u   |_\"_|  <\\___ \\/    | |    \\/ _ \\/\n",
      "\\|  _|/     | |    u___) |   /| |\\   / ___ \\\\\n",
      " |_|      U/| |\\u  |____/>> u |_|U  /_/   \\_\\\\\n",
      " )(\\\\\\,-.-,_|___|_,-.)(  (__)_// \\\\\\_  \\\\\\    >>\n",
      "(__)(_/ \\_)-' '-(_/(__)    (__) (__)(__)  (__)\n",
      "    \n",
      " - mu:  1e-10\n",
      " - lipschitz constant:  1.10000000000007\n",
      " - data:  (640, 372)\n",
      " - wavelet:  <mri.reconstruct.linear.WaveletN object at 0x7fa41578e860> - 4\n",
      " - max iterations:  200\n",
      " - image variable shape:  (640, 372)\n",
      " - alpha variable shape:  (238320,)\n",
      "----------------------------------------\n",
      "Starting optimization...\n"
     ]
    },
    {
     "name": "stderr",
     "output_type": "stream",
     "text": [
      "100% (200 of 200) |######################| Elapsed Time: 0:00:53 Time:  0:00:53\n"
     ]
    },
    {
     "name": "stdout",
     "output_type": "stream",
     "text": [
      " - final iteration number:  200\n",
      " - final log10 cost value:  -6.395988665477855\n",
      " - converged:  True\n",
      "Done.\n",
      "Execution time:  1571.0063910000026  seconds\n",
      "----------------------------------------\n"
     ]
    },
    {
     "name": "stderr",
     "output_type": "stream",
     "text": [
      "\u001b[33mWARNING\u001b[0m: Making input data immutable.\n"
     ]
    },
    {
     "name": "stdout",
     "output_type": "stream",
     "text": [
      "\n",
      "  _____             ____     _____      _\n",
      " |\" ___|    ___    / __\"| u |_ \" _| U  /\"\\  u\n",
      "U| |_  u   |_\"_|  <\\___ \\/    | |    \\/ _ \\/\n",
      "\\|  _|/     | |    u___) |   /| |\\   / ___ \\\\\n",
      " |_|      U/| |\\u  |____/>> u |_|U  /_/   \\_\\\\\n",
      " )(\\\\\\,-.-,_|___|_,-.)(  (__)_// \\\\\\_  \\\\\\    >>\n",
      "(__)(_/ \\_)-' '-(_/(__)    (__) (__)(__)  (__)\n",
      "    \n",
      " - mu:  1e-10\n",
      " - lipschitz constant:  1.1000000000000356\n",
      " - data:  (640, 368)\n",
      " - wavelet:  <mri.reconstruct.linear.WaveletN object at 0x7fa415738cf8> - 4\n",
      " - max iterations:  200\n",
      " - image variable shape:  (640, 368)\n",
      " - alpha variable shape:  (235520,)\n",
      "----------------------------------------\n",
      "Starting optimization...\n"
     ]
    },
    {
     "name": "stderr",
     "output_type": "stream",
     "text": [
      "100% (200 of 200) |######################| Elapsed Time: 0:00:51 Time:  0:00:51\n"
     ]
    },
    {
     "name": "stdout",
     "output_type": "stream",
     "text": [
      " - final iteration number:  200\n",
      " - final log10 cost value:  -5.353593210690113\n",
      " - converged:  True\n",
      "Done.\n",
      "Execution time:  1526.273061999993  seconds\n",
      "----------------------------------------\n"
     ]
    },
    {
     "name": "stderr",
     "output_type": "stream",
     "text": [
      "\u001b[33mWARNING\u001b[0m: Making input data immutable.\n"
     ]
    },
    {
     "name": "stdout",
     "output_type": "stream",
     "text": [
      "\n",
      "  _____             ____     _____      _\n",
      " |\" ___|    ___    / __\"| u |_ \" _| U  /\"\\  u\n",
      "U| |_  u   |_\"_|  <\\___ \\/    | |    \\/ _ \\/\n",
      "\\|  _|/     | |    u___) |   /| |\\   / ___ \\\\\n",
      " |_|      U/| |\\u  |____/>> u |_|U  /_/   \\_\\\\\n",
      " )(\\\\\\,-.-,_|___|_,-.)(  (__)_// \\\\\\_  \\\\\\    >>\n",
      "(__)(_/ \\_)-' '-(_/(__)    (__) (__)(__)  (__)\n",
      "    \n",
      " - mu:  1e-10\n",
      " - lipschitz constant:  1.0999999999999794\n",
      " - data:  (640, 372)\n",
      " - wavelet:  <mri.reconstruct.linear.WaveletN object at 0x7fa415766e80> - 4\n",
      " - max iterations:  200\n",
      " - image variable shape:  (640, 372)\n",
      " - alpha variable shape:  (238320,)\n",
      "----------------------------------------\n",
      "Starting optimization...\n"
     ]
    },
    {
     "name": "stderr",
     "output_type": "stream",
     "text": [
      "100% (200 of 200) |######################| Elapsed Time: 0:00:53 Time:  0:00:53\n"
     ]
    },
    {
     "name": "stdout",
     "output_type": "stream",
     "text": [
      " - final iteration number:  200\n",
      " - final log10 cost value:  -6.308658413179068\n",
      " - converged:  True\n",
      "Done.\n",
      "Execution time:  1573.7708620000049  seconds\n",
      "----------------------------------------\n"
     ]
    },
    {
     "name": "stderr",
     "output_type": "stream",
     "text": [
      "\u001b[33mWARNING\u001b[0m: Making input data immutable.\n"
     ]
    },
    {
     "name": "stdout",
     "output_type": "stream",
     "text": [
      "\n",
      "  _____             ____     _____      _\n",
      " |\" ___|    ___    / __\"| u |_ \" _| U  /\"\\  u\n",
      "U| |_  u   |_\"_|  <\\___ \\/    | |    \\/ _ \\/\n",
      "\\|  _|/     | |    u___) |   /| |\\   / ___ \\\\\n",
      " |_|      U/| |\\u  |____/>> u |_|U  /_/   \\_\\\\\n",
      " )(\\\\\\,-.-,_|___|_,-.)(  (__)_// \\\\\\_  \\\\\\    >>\n",
      "(__)(_/ \\_)-' '-(_/(__)    (__) (__)(__)  (__)\n",
      "    \n",
      " - mu:  1e-10\n",
      " - lipschitz constant:  1.1000000000000278\n",
      " - data:  (640, 368)\n",
      " - wavelet:  <mri.reconstruct.linear.WaveletN object at 0x7fa415766b00> - 4\n",
      " - max iterations:  200\n",
      " - image variable shape:  (640, 368)\n",
      " - alpha variable shape:  (235520,)\n",
      "----------------------------------------\n",
      "Starting optimization...\n"
     ]
    },
    {
     "name": "stderr",
     "output_type": "stream",
     "text": [
      "100% (200 of 200) |######################| Elapsed Time: 0:00:51 Time:  0:00:51\n"
     ]
    },
    {
     "name": "stdout",
     "output_type": "stream",
     "text": [
      " - final iteration number:  200\n",
      " - final log10 cost value:  -5.245438671904571\n",
      " - converged:  True\n",
      "Done.\n",
      "Execution time:  1527.0944900000031  seconds\n",
      "----------------------------------------\n"
     ]
    },
    {
     "name": "stderr",
     "output_type": "stream",
     "text": [
      "\u001b[33mWARNING\u001b[0m: Making input data immutable.\n"
     ]
    },
    {
     "name": "stdout",
     "output_type": "stream",
     "text": [
      "\n",
      "  _____             ____     _____      _\n",
      " |\" ___|    ___    / __\"| u |_ \" _| U  /\"\\  u\n",
      "U| |_  u   |_\"_|  <\\___ \\/    | |    \\/ _ \\/\n",
      "\\|  _|/     | |    u___) |   /| |\\   / ___ \\\\\n",
      " |_|      U/| |\\u  |____/>> u |_|U  /_/   \\_\\\\\n",
      " )(\\\\\\,-.-,_|___|_,-.)(  (__)_// \\\\\\_  \\\\\\    >>\n",
      "(__)(_/ \\_)-' '-(_/(__)    (__) (__)(__)  (__)\n",
      "    \n",
      " - mu:  1e-10\n",
      " - lipschitz constant:  1.1000000000000323\n",
      " - data:  (640, 372)\n",
      " - wavelet:  <mri.reconstruct.linear.WaveletN object at 0x7fa415766c88> - 4\n",
      " - max iterations:  200\n",
      " - image variable shape:  (640, 372)\n",
      " - alpha variable shape:  (238320,)\n",
      "----------------------------------------\n",
      "Starting optimization...\n"
     ]
    },
    {
     "name": "stderr",
     "output_type": "stream",
     "text": [
      "100% (200 of 200) |######################| Elapsed Time: 0:00:54 Time:  0:00:54\n"
     ]
    },
    {
     "name": "stdout",
     "output_type": "stream",
     "text": [
      " - final iteration number:  200\n",
      " - final log10 cost value:  -6.369252216028483\n",
      " - converged:  True\n",
      "Done.\n",
      "Execution time:  1609.2352939999982  seconds\n",
      "----------------------------------------\n"
     ]
    },
    {
     "name": "stderr",
     "output_type": "stream",
     "text": [
      "\u001b[33mWARNING\u001b[0m: Making input data immutable.\n"
     ]
    },
    {
     "name": "stdout",
     "output_type": "stream",
     "text": [
      "\n",
      "  _____             ____     _____      _\n",
      " |\" ___|    ___    / __\"| u |_ \" _| U  /\"\\  u\n",
      "U| |_  u   |_\"_|  <\\___ \\/    | |    \\/ _ \\/\n",
      "\\|  _|/     | |    u___) |   /| |\\   / ___ \\\\\n",
      " |_|      U/| |\\u  |____/>> u |_|U  /_/   \\_\\\\\n",
      " )(\\\\\\,-.-,_|___|_,-.)(  (__)_// \\\\\\_  \\\\\\    >>\n",
      "(__)(_/ \\_)-' '-(_/(__)    (__) (__)(__)  (__)\n",
      "    \n",
      " - mu:  1e-10\n",
      " - lipschitz constant:  1.0999999999999808\n",
      " - data:  (640, 368)\n",
      " - wavelet:  <mri.reconstruct.linear.WaveletN object at 0x7fa415766be0> - 4\n",
      " - max iterations:  200\n",
      " - image variable shape:  (640, 368)\n",
      " - alpha variable shape:  (235520,)\n",
      "----------------------------------------\n",
      "Starting optimization...\n"
     ]
    },
    {
     "name": "stderr",
     "output_type": "stream",
     "text": [
      "100% (200 of 200) |######################| Elapsed Time: 0:00:51 Time:  0:00:51\n"
     ]
    },
    {
     "name": "stdout",
     "output_type": "stream",
     "text": [
      " - final iteration number:  200\n",
      " - final log10 cost value:  -5.311845780146264\n",
      " - converged:  True\n",
      "Done.\n",
      "Execution time:  1522.939818999992  seconds\n",
      "----------------------------------------\n"
     ]
    },
    {
     "name": "stderr",
     "output_type": "stream",
     "text": [
      "\u001b[33mWARNING\u001b[0m: Making input data immutable.\n"
     ]
    },
    {
     "name": "stdout",
     "output_type": "stream",
     "text": [
      "\n",
      "  _____             ____     _____      _\n",
      " |\" ___|    ___    / __\"| u |_ \" _| U  /\"\\  u\n",
      "U| |_  u   |_\"_|  <\\___ \\/    | |    \\/ _ \\/\n",
      "\\|  _|/     | |    u___) |   /| |\\   / ___ \\\\\n",
      " |_|      U/| |\\u  |____/>> u |_|U  /_/   \\_\\\\\n",
      " )(\\\\\\,-.-,_|___|_,-.)(  (__)_// \\\\\\_  \\\\\\    >>\n",
      "(__)(_/ \\_)-' '-(_/(__)    (__) (__)(__)  (__)\n",
      "    \n",
      " - mu:  1e-10\n",
      " - lipschitz constant:  1.099999999999975\n",
      " - data:  (640, 372)\n",
      " - wavelet:  <mri.reconstruct.linear.WaveletN object at 0x7fa415766a90> - 4\n",
      " - max iterations:  200\n",
      " - image variable shape:  (640, 372)\n",
      " - alpha variable shape:  (238320,)\n",
      "----------------------------------------\n",
      "Starting optimization...\n"
     ]
    },
    {
     "name": "stderr",
     "output_type": "stream",
     "text": [
      "100% (200 of 200) |######################| Elapsed Time: 0:00:54 Time:  0:00:54\n"
     ]
    },
    {
     "name": "stdout",
     "output_type": "stream",
     "text": [
      " - final iteration number:  200\n",
      " - final log10 cost value:  -6.292623545788726\n",
      " - converged:  True\n",
      "Done.\n",
      "Execution time:  1609.0213039999944  seconds\n",
      "----------------------------------------\n"
     ]
    },
    {
     "name": "stderr",
     "output_type": "stream",
     "text": [
      "\u001b[33mWARNING\u001b[0m: Making input data immutable.\n"
     ]
    },
    {
     "name": "stdout",
     "output_type": "stream",
     "text": [
      "\n",
      "  _____             ____     _____      _\n",
      " |\" ___|    ___    / __\"| u |_ \" _| U  /\"\\  u\n",
      "U| |_  u   |_\"_|  <\\___ \\/    | |    \\/ _ \\/\n",
      "\\|  _|/     | |    u___) |   /| |\\   / ___ \\\\\n",
      " |_|      U/| |\\u  |____/>> u |_|U  /_/   \\_\\\\\n",
      " )(\\\\\\,-.-,_|___|_,-.)(  (__)_// \\\\\\_  \\\\\\    >>\n",
      "(__)(_/ \\_)-' '-(_/(__)    (__) (__)(__)  (__)\n",
      "    \n",
      " - mu:  1e-10\n",
      " - lipschitz constant:  1.0999999999999792\n",
      " - data:  (640, 368)\n",
      " - wavelet:  <mri.reconstruct.linear.WaveletN object at 0x7fa4157600f0> - 4\n",
      " - max iterations:  200\n",
      " - image variable shape:  (640, 368)\n",
      " - alpha variable shape:  (235520,)\n",
      "----------------------------------------\n",
      "Starting optimization...\n"
     ]
    },
    {
     "name": "stderr",
     "output_type": "stream",
     "text": [
      "100% (200 of 200) |######################| Elapsed Time: 0:00:52 Time:  0:00:52\n"
     ]
    },
    {
     "name": "stdout",
     "output_type": "stream",
     "text": [
      " - final iteration number:  200\n",
      " - final log10 cost value:  -5.031631085328165\n",
      " - converged:  True\n",
      "Done.\n",
      "Execution time:  1544.8128929999948  seconds\n",
      "----------------------------------------\n",
      "\n"
     ]
    },
    {
     "name": "stderr",
     "output_type": "stream",
     "text": [
      "/volatile/home/Zaccharie/workspace/fastmri-reproducible-benchmark/venv/lib/python3.6/site-packages/ipykernel_launcher.py:9: TqdmDeprecationWarning: This function will be removed in tqdm==5.0.0\n",
      "Please use `tqdm.notebook.tqdm` instead of `tqdm.tqdm_notebook`\n",
      "  if __name__ == '__main__':\n"
     ]
    },
    {
     "data": {
      "application/vnd.jupyter.widget-view+json": {
       "model_id": "857ffbb4a2c94849ad9bbd770eabd7eb",
       "version_major": 2,
       "version_minor": 0
      },
      "text/plain": [
       "HBox(children=(FloatProgress(value=0.0, description='Stats', max=24.0, style=ProgressStyle(description_width='…"
      ]
     },
     "metadata": {},
     "output_type": "display_data"
    },
    {
     "name": "stderr",
     "output_type": "stream",
     "text": [
      "/volatile/home/Zaccharie/workspace/fastmri-reproducible-benchmark/fastmri_recon/helpers/evaluate.py:25: UserWarning: DEPRECATED: skimage.measure.compare_psnr has been moved to skimage.metrics.peak_signal_noise_ratio. It will be removed from skimage.measure in version 0.18.\n",
      "  return compare_psnr(gt, pred, data_range=gt.max() - gt.min())\n",
      "/volatile/home/Zaccharie/workspace/fastmri-reproducible-benchmark/fastmri_recon/helpers/evaluate.py:31: UserWarning: DEPRECATED: skimage.measure.compare_ssim has been moved to skimage.metrics.structural_similarity. It will be removed from skimage.measure in version 0.18.\n",
      "  gt.transpose(1, 2, 0), pred.transpose(1, 2, 0), multichannel=True, data_range=gt.max() - gt.min()\n"
     ]
    },
    {
     "name": "stdout",
     "output_type": "stream",
     "text": [
      "\n"
     ]
    },
    {
     "data": {
      "application/vnd.jupyter.widget-view+json": {
       "model_id": "a9e3658844784a8f82d7641c820a2d48",
       "version_major": 2,
       "version_minor": 0
      },
      "text/plain": [
       "HBox(children=(FloatProgress(value=0.0, description='K-spaces', max=24.0, style=ProgressStyle(description_widt…"
      ]
     },
     "metadata": {},
     "output_type": "display_data"
    },
    {
     "name": "stderr",
     "output_type": "stream",
     "text": [
      "\u001b[33mWARNING\u001b[0m: Making input data immutable.\n"
     ]
    },
    {
     "name": "stdout",
     "output_type": "stream",
     "text": [
      "\n",
      "  _____             ____     _____      _\n",
      " |\" ___|    ___    / __\"| u |_ \" _| U  /\"\\  u\n",
      "U| |_  u   |_\"_|  <\\___ \\/    | |    \\/ _ \\/\n",
      "\\|  _|/     | |    u___) |   /| |\\   / ___ \\\\\n",
      " |_|      U/| |\\u  |____/>> u |_|U  /_/   \\_\\\\\n",
      " )(\\\\\\,-.-,_|___|_,-.)(  (__)_// \\\\\\_  \\\\\\    >>\n",
      "(__)(_/ \\_)-' '-(_/(__)    (__) (__)(__)  (__)\n",
      "    \n",
      " - mu:  2.1544346900318867e-10\n",
      " - lipschitz constant:  1.1000000000000596\n",
      " - data:  (640, 372)\n",
      " - wavelet:  <mri.reconstruct.linear.WaveletN object at 0x7fa4157602e8> - 4\n",
      " - max iterations:  200\n",
      " - image variable shape:  (640, 372)\n",
      " - alpha variable shape:  (238320,)\n",
      "----------------------------------------\n",
      "Starting optimization...\n"
     ]
    },
    {
     "name": "stderr",
     "output_type": "stream",
     "text": [
      "100% (200 of 200) |######################| Elapsed Time: 0:00:53 Time:  0:00:53\n"
     ]
    },
    {
     "name": "stdout",
     "output_type": "stream",
     "text": [
      " - final iteration number:  200\n",
      " - final log10 cost value:  -6.284584605819866\n",
      " - converged:  True\n",
      "Done.\n",
      "Execution time:  1637.9881440000026  seconds\n",
      "----------------------------------------\n"
     ]
    },
    {
     "name": "stderr",
     "output_type": "stream",
     "text": [
      "\u001b[33mWARNING\u001b[0m: Making input data immutable.\n"
     ]
    },
    {
     "name": "stdout",
     "output_type": "stream",
     "text": [
      "\n",
      "  _____             ____     _____      _\n",
      " |\" ___|    ___    / __\"| u |_ \" _| U  /\"\\  u\n",
      "U| |_  u   |_\"_|  <\\___ \\/    | |    \\/ _ \\/\n",
      "\\|  _|/     | |    u___) |   /| |\\   / ___ \\\\\n",
      " |_|      U/| |\\u  |____/>> u |_|U  /_/   \\_\\\\\n",
      " )(\\\\\\,-.-,_|___|_,-.)(  (__)_// \\\\\\_  \\\\\\    >>\n",
      "(__)(_/ \\_)-' '-(_/(__)    (__) (__)(__)  (__)\n",
      "    \n",
      " - mu:  2.1544346900318867e-10\n",
      " - lipschitz constant:  1.1000000000000316\n",
      " - data:  (640, 372)\n",
      " - wavelet:  <mri.reconstruct.linear.WaveletN object at 0x7fa4157604e0> - 4\n",
      " - max iterations:  200\n",
      " - image variable shape:  (640, 372)\n",
      " - alpha variable shape:  (238320,)\n",
      "----------------------------------------\n",
      "Starting optimization...\n"
     ]
    },
    {
     "name": "stderr",
     "output_type": "stream",
     "text": [
      "100% (200 of 200) |######################| Elapsed Time: 0:00:51 Time:  0:00:51\n"
     ]
    },
    {
     "name": "stdout",
     "output_type": "stream",
     "text": [
      " - final iteration number:  200\n",
      " - final log10 cost value:  -6.333141420704984\n",
      " - converged:  True\n",
      "Done.\n",
      "Execution time:  1667.5507439999783  seconds\n",
      "----------------------------------------\n"
     ]
    },
    {
     "name": "stderr",
     "output_type": "stream",
     "text": [
      "\u001b[33mWARNING\u001b[0m: Making input data immutable.\n"
     ]
    },
    {
     "name": "stdout",
     "output_type": "stream",
     "text": [
      "\n",
      "  _____             ____     _____      _\n",
      " |\" ___|    ___    / __\"| u |_ \" _| U  /\"\\  u\n",
      "U| |_  u   |_\"_|  <\\___ \\/    | |    \\/ _ \\/\n",
      "\\|  _|/     | |    u___) |   /| |\\   / ___ \\\\\n",
      " |_|      U/| |\\u  |____/>> u |_|U  /_/   \\_\\\\\n",
      " )(\\\\\\,-.-,_|___|_,-.)(  (__)_// \\\\\\_  \\\\\\    >>\n",
      "(__)(_/ \\_)-' '-(_/(__)    (__) (__)(__)  (__)\n",
      "    \n",
      " - mu:  2.1544346900318867e-10\n",
      " - lipschitz constant:  1.1000000000000851\n",
      " - data:  (640, 372)\n",
      " - wavelet:  <mri.reconstruct.linear.WaveletN object at 0x7fa415766ac8> - 4\n",
      " - max iterations:  200\n",
      " - image variable shape:  (640, 372)\n",
      " - alpha variable shape:  (238320,)\n",
      "----------------------------------------\n",
      "Starting optimization...\n"
     ]
    },
    {
     "name": "stderr",
     "output_type": "stream",
     "text": [
      "100% (200 of 200) |######################| Elapsed Time: 0:00:52 Time:  0:00:52\n"
     ]
    },
    {
     "name": "stdout",
     "output_type": "stream",
     "text": [
      " - final iteration number:  200\n",
      " - final log10 cost value:  -6.443470980668161\n",
      " - converged:  True\n",
      "Done.\n",
      "Execution time:  1675.906295999972  seconds\n",
      "----------------------------------------\n"
     ]
    },
    {
     "name": "stderr",
     "output_type": "stream",
     "text": [
      "\u001b[33mWARNING\u001b[0m: Making input data immutable.\n"
     ]
    },
    {
     "name": "stdout",
     "output_type": "stream",
     "text": [
      "\n",
      "  _____             ____     _____      _\n",
      " |\" ___|    ___    / __\"| u |_ \" _| U  /\"\\  u\n",
      "U| |_  u   |_\"_|  <\\___ \\/    | |    \\/ _ \\/\n",
      "\\|  _|/     | |    u___) |   /| |\\   / ___ \\\\\n",
      " |_|      U/| |\\u  |____/>> u |_|U  /_/   \\_\\\\\n",
      " )(\\\\\\,-.-,_|___|_,-.)(  (__)_// \\\\\\_  \\\\\\    >>\n",
      "(__)(_/ \\_)-' '-(_/(__)    (__) (__)(__)  (__)\n",
      "    \n",
      " - mu:  2.1544346900318867e-10\n",
      " - lipschitz constant:  1.0999999999999743\n",
      " - data:  (640, 368)\n",
      " - wavelet:  <mri.reconstruct.linear.WaveletN object at 0x7fa415766eb8> - 4\n",
      " - max iterations:  200\n",
      " - image variable shape:  (640, 368)\n",
      " - alpha variable shape:  (235520,)\n",
      "----------------------------------------\n",
      "Starting optimization...\n"
     ]
    },
    {
     "name": "stderr",
     "output_type": "stream",
     "text": [
      "100% (200 of 200) |######################| Elapsed Time: 0:00:50 Time:  0:00:50\n"
     ]
    },
    {
     "name": "stdout",
     "output_type": "stream",
     "text": [
      " - final iteration number:  200\n",
      " - final log10 cost value:  -5.243735535334302\n",
      " - converged:  True\n",
      "Done.\n",
      "Execution time:  1605.0694169999915  seconds\n",
      "----------------------------------------\n"
     ]
    },
    {
     "name": "stderr",
     "output_type": "stream",
     "text": [
      "\u001b[33mWARNING\u001b[0m: Making input data immutable.\n"
     ]
    },
    {
     "name": "stdout",
     "output_type": "stream",
     "text": [
      "\n",
      "  _____             ____     _____      _\n",
      " |\" ___|    ___    / __\"| u |_ \" _| U  /\"\\  u\n",
      "U| |_  u   |_\"_|  <\\___ \\/    | |    \\/ _ \\/\n",
      "\\|  _|/     | |    u___) |   /| |\\   / ___ \\\\\n",
      " |_|      U/| |\\u  |____/>> u |_|U  /_/   \\_\\\\\n",
      " )(\\\\\\,-.-,_|___|_,-.)(  (__)_// \\\\\\_  \\\\\\    >>\n",
      "(__)(_/ \\_)-' '-(_/(__)    (__) (__)(__)  (__)\n",
      "    \n",
      " - mu:  2.1544346900318867e-10\n",
      " - lipschitz constant:  1.1000000000000871\n",
      " - data:  (640, 368)\n",
      " - wavelet:  <mri.reconstruct.linear.WaveletN object at 0x7fa415766c88> - 4\n",
      " - max iterations:  200\n",
      " - image variable shape:  (640, 368)\n",
      " - alpha variable shape:  (235520,)\n",
      "----------------------------------------\n",
      "Starting optimization...\n"
     ]
    },
    {
     "name": "stderr",
     "output_type": "stream",
     "text": [
      "100% (200 of 200) |######################| Elapsed Time: 0:00:50 Time:  0:00:50\n"
     ]
    },
    {
     "name": "stdout",
     "output_type": "stream",
     "text": [
      " - final iteration number:  200\n",
      " - final log10 cost value:  -5.649936579650119\n",
      " - converged:  True\n",
      "Done.\n",
      "Execution time:  1585.8347479999939  seconds\n",
      "----------------------------------------\n"
     ]
    },
    {
     "name": "stderr",
     "output_type": "stream",
     "text": [
      "\u001b[33mWARNING\u001b[0m: Making input data immutable.\n"
     ]
    },
    {
     "name": "stdout",
     "output_type": "stream",
     "text": [
      "\n",
      "  _____             ____     _____      _\n",
      " |\" ___|    ___    / __\"| u |_ \" _| U  /\"\\  u\n",
      "U| |_  u   |_\"_|  <\\___ \\/    | |    \\/ _ \\/\n",
      "\\|  _|/     | |    u___) |   /| |\\   / ___ \\\\\n",
      " |_|      U/| |\\u  |____/>> u |_|U  /_/   \\_\\\\\n",
      " )(\\\\\\,-.-,_|___|_,-.)(  (__)_// \\\\\\_  \\\\\\    >>\n",
      "(__)(_/ \\_)-' '-(_/(__)    (__) (__)(__)  (__)\n",
      "    \n",
      " - mu:  2.1544346900318867e-10\n",
      " - lipschitz constant:  1.099999999999977\n",
      " - data:  (640, 368)\n",
      " - wavelet:  <mri.reconstruct.linear.WaveletN object at 0x7fa415738048> - 4\n",
      " - max iterations:  200\n",
      " - image variable shape:  (640, 368)\n",
      " - alpha variable shape:  (235520,)\n",
      "----------------------------------------\n",
      "Starting optimization...\n"
     ]
    },
    {
     "name": "stderr",
     "output_type": "stream",
     "text": [
      "100% (200 of 200) |######################| Elapsed Time: 0:00:51 Time:  0:00:51\n"
     ]
    },
    {
     "name": "stdout",
     "output_type": "stream",
     "text": [
      " - final iteration number:  200\n",
      " - final log10 cost value:  -5.487080402098002\n",
      " - converged:  True\n",
      "Done.\n",
      "Execution time:  1536.4451129999943  seconds\n",
      "----------------------------------------\n"
     ]
    },
    {
     "name": "stderr",
     "output_type": "stream",
     "text": [
      "\u001b[33mWARNING\u001b[0m: Making input data immutable.\n"
     ]
    },
    {
     "name": "stdout",
     "output_type": "stream",
     "text": [
      "\n",
      "  _____             ____     _____      _\n",
      " |\" ___|    ___    / __\"| u |_ \" _| U  /\"\\  u\n",
      "U| |_  u   |_\"_|  <\\___ \\/    | |    \\/ _ \\/\n",
      "\\|  _|/     | |    u___) |   /| |\\   / ___ \\\\\n",
      " |_|      U/| |\\u  |____/>> u |_|U  /_/   \\_\\\\\n",
      " )(\\\\\\,-.-,_|___|_,-.)(  (__)_// \\\\\\_  \\\\\\    >>\n",
      "(__)(_/ \\_)-' '-(_/(__)    (__) (__)(__)  (__)\n",
      "    \n",
      " - mu:  2.1544346900318867e-10\n",
      " - lipschitz constant:  1.100000000000092\n",
      " - data:  (640, 368)\n",
      " - wavelet:  <mri.reconstruct.linear.WaveletN object at 0x7fa415760c50> - 4\n",
      " - max iterations:  200\n",
      " - image variable shape:  (640, 368)\n",
      " - alpha variable shape:  (235520,)\n",
      "----------------------------------------\n",
      "Starting optimization...\n"
     ]
    },
    {
     "name": "stderr",
     "output_type": "stream",
     "text": [
      "100% (200 of 200) |######################| Elapsed Time: 0:00:51 Time:  0:00:51\n"
     ]
    },
    {
     "name": "stdout",
     "output_type": "stream",
     "text": [
      " - final iteration number:  200\n",
      " - final log10 cost value:  -5.013436274551487\n",
      " - converged:  True\n",
      "Done.\n",
      "Execution time:  1549.4358799999754  seconds\n",
      "----------------------------------------\n"
     ]
    },
    {
     "name": "stderr",
     "output_type": "stream",
     "text": [
      "\u001b[33mWARNING\u001b[0m: Making input data immutable.\n"
     ]
    },
    {
     "name": "stdout",
     "output_type": "stream",
     "text": [
      "\n",
      "  _____             ____     _____      _\n",
      " |\" ___|    ___    / __\"| u |_ \" _| U  /\"\\  u\n",
      "U| |_  u   |_\"_|  <\\___ \\/    | |    \\/ _ \\/\n",
      "\\|  _|/     | |    u___) |   /| |\\   / ___ \\\\\n",
      " |_|      U/| |\\u  |____/>> u |_|U  /_/   \\_\\\\\n",
      " )(\\\\\\,-.-,_|___|_,-.)(  (__)_// \\\\\\_  \\\\\\    >>\n",
      "(__)(_/ \\_)-' '-(_/(__)    (__) (__)(__)  (__)\n",
      "    \n",
      " - mu:  2.1544346900318867e-10\n",
      " - lipschitz constant:  1.099999999999981\n",
      " - data:  (640, 372)\n",
      " - wavelet:  <mri.reconstruct.linear.WaveletN object at 0x7fa415738c18> - 4\n",
      " - max iterations:  200\n",
      " - image variable shape:  (640, 372)\n",
      " - alpha variable shape:  (238320,)\n",
      "----------------------------------------\n",
      "Starting optimization...\n"
     ]
    },
    {
     "name": "stderr",
     "output_type": "stream",
     "text": [
      "100% (200 of 200) |######################| Elapsed Time: 0:00:54 Time:  0:00:54\n"
     ]
    },
    {
     "name": "stdout",
     "output_type": "stream",
     "text": [
      " - final iteration number:  200\n",
      " - final log10 cost value:  -6.378708520845294\n",
      " - converged:  True\n",
      "Done.\n",
      "Execution time:  1569.5121759999893  seconds\n",
      "----------------------------------------\n"
     ]
    },
    {
     "name": "stderr",
     "output_type": "stream",
     "text": [
      "\u001b[33mWARNING\u001b[0m: Making input data immutable.\n"
     ]
    },
    {
     "name": "stdout",
     "output_type": "stream",
     "text": [
      "\n",
      "  _____             ____     _____      _\n",
      " |\" ___|    ___    / __\"| u |_ \" _| U  /\"\\  u\n",
      "U| |_  u   |_\"_|  <\\___ \\/    | |    \\/ _ \\/\n",
      "\\|  _|/     | |    u___) |   /| |\\   / ___ \\\\\n",
      " |_|      U/| |\\u  |____/>> u |_|U  /_/   \\_\\\\\n",
      " )(\\\\\\,-.-,_|___|_,-.)(  (__)_// \\\\\\_  \\\\\\    >>\n",
      "(__)(_/ \\_)-' '-(_/(__)    (__) (__)(__)  (__)\n",
      "    \n",
      " - mu:  2.1544346900318867e-10\n",
      " - lipschitz constant:  1.1000000000000736\n",
      " - data:  (640, 356)\n",
      " - wavelet:  <mri.reconstruct.linear.WaveletN object at 0x7fa415738470> - 4\n",
      " - max iterations:  200\n",
      " - image variable shape:  (640, 356)\n",
      " - alpha variable shape:  (228080,)\n",
      "----------------------------------------\n",
      "Starting optimization...\n"
     ]
    },
    {
     "name": "stderr",
     "output_type": "stream",
     "text": [
      "100% (200 of 200) |######################| Elapsed Time: 0:00:58 Time:  0:00:58\n"
     ]
    },
    {
     "name": "stdout",
     "output_type": "stream",
     "text": [
      " - final iteration number:  200\n",
      " - final log10 cost value:  -4.926795640676506\n",
      " - converged:  True\n",
      "Done.\n",
      "Execution time:  1698.5204870000016  seconds\n",
      "----------------------------------------\n"
     ]
    },
    {
     "name": "stderr",
     "output_type": "stream",
     "text": [
      "\u001b[33mWARNING\u001b[0m: Making input data immutable.\n"
     ]
    },
    {
     "name": "stdout",
     "output_type": "stream",
     "text": [
      "\n",
      "  _____             ____     _____      _\n",
      " |\" ___|    ___    / __\"| u |_ \" _| U  /\"\\  u\n",
      "U| |_  u   |_\"_|  <\\___ \\/    | |    \\/ _ \\/\n",
      "\\|  _|/     | |    u___) |   /| |\\   / ___ \\\\\n",
      " |_|      U/| |\\u  |____/>> u |_|U  /_/   \\_\\\\\n",
      " )(\\\\\\,-.-,_|___|_,-.)(  (__)_// \\\\\\_  \\\\\\    >>\n",
      "(__)(_/ \\_)-' '-(_/(__)    (__) (__)(__)  (__)\n",
      "    \n",
      " - mu:  2.1544346900318867e-10\n",
      " - lipschitz constant:  1.1000000000000343\n",
      " - data:  (640, 368)\n",
      " - wavelet:  <mri.reconstruct.linear.WaveletN object at 0x7fa415766390> - 4\n",
      " - max iterations:  200\n",
      " - image variable shape:  (640, 368)\n",
      " - alpha variable shape:  (235520,)\n",
      "----------------------------------------\n",
      "Starting optimization...\n"
     ]
    },
    {
     "name": "stderr",
     "output_type": "stream",
     "text": [
      "100% (200 of 200) |######################| Elapsed Time: 0:00:51 Time:  0:00:51\n"
     ]
    },
    {
     "name": "stdout",
     "output_type": "stream",
     "text": [
      " - final iteration number:  200\n",
      " - final log10 cost value:  -4.912965319647921\n",
      " - converged:  True\n",
      "Done.\n",
      "Execution time:  1544.6013410000014  seconds\n",
      "----------------------------------------\n"
     ]
    },
    {
     "name": "stderr",
     "output_type": "stream",
     "text": [
      "\u001b[33mWARNING\u001b[0m: Making input data immutable.\n"
     ]
    },
    {
     "name": "stdout",
     "output_type": "stream",
     "text": [
      "\n",
      "  _____             ____     _____      _\n",
      " |\" ___|    ___    / __\"| u |_ \" _| U  /\"\\  u\n",
      "U| |_  u   |_\"_|  <\\___ \\/    | |    \\/ _ \\/\n",
      "\\|  _|/     | |    u___) |   /| |\\   / ___ \\\\\n",
      " |_|      U/| |\\u  |____/>> u |_|U  /_/   \\_\\\\\n",
      " )(\\\\\\,-.-,_|___|_,-.)(  (__)_// \\\\\\_  \\\\\\    >>\n",
      "(__)(_/ \\_)-' '-(_/(__)    (__) (__)(__)  (__)\n",
      "    \n",
      " - mu:  2.1544346900318867e-10\n",
      " - lipschitz constant:  1.1000000000000303\n",
      " - data:  (640, 368)\n",
      " - wavelet:  <mri.reconstruct.linear.WaveletN object at 0x7fa415766a90> - 4\n",
      " - max iterations:  200\n",
      " - image variable shape:  (640, 368)\n",
      " - alpha variable shape:  (235520,)\n",
      "----------------------------------------\n",
      "Starting optimization...\n"
     ]
    },
    {
     "name": "stderr",
     "output_type": "stream",
     "text": [
      "100% (200 of 200) |######################| Elapsed Time: 0:00:51 Time:  0:00:51\n"
     ]
    },
    {
     "name": "stdout",
     "output_type": "stream",
     "text": [
      " - final iteration number:  200\n",
      " - final log10 cost value:  -5.309171501880667\n",
      " - converged:  True\n",
      "Done.\n",
      "Execution time:  1509.4566889999842  seconds\n",
      "----------------------------------------\n"
     ]
    },
    {
     "name": "stderr",
     "output_type": "stream",
     "text": [
      "\u001b[33mWARNING\u001b[0m: Making input data immutable.\n"
     ]
    },
    {
     "name": "stdout",
     "output_type": "stream",
     "text": [
      "\n",
      "  _____             ____     _____      _\n",
      " |\" ___|    ___    / __\"| u |_ \" _| U  /\"\\  u\n",
      "U| |_  u   |_\"_|  <\\___ \\/    | |    \\/ _ \\/\n",
      "\\|  _|/     | |    u___) |   /| |\\   / ___ \\\\\n",
      " |_|      U/| |\\u  |____/>> u |_|U  /_/   \\_\\\\\n",
      " )(\\\\\\,-.-,_|___|_,-.)(  (__)_// \\\\\\_  \\\\\\    >>\n",
      "(__)(_/ \\_)-' '-(_/(__)    (__) (__)(__)  (__)\n",
      "    \n",
      " - mu:  2.1544346900318867e-10\n",
      " - lipschitz constant:  1.0999999999999772\n",
      " - data:  (640, 368)\n",
      " - wavelet:  <mri.reconstruct.linear.WaveletN object at 0x7fa41578e048> - 4\n",
      " - max iterations:  200\n",
      " - image variable shape:  (640, 368)\n",
      " - alpha variable shape:  (235520,)\n",
      "----------------------------------------\n",
      "Starting optimization...\n"
     ]
    },
    {
     "name": "stderr",
     "output_type": "stream",
     "text": [
      "100% (200 of 200) |######################| Elapsed Time: 0:00:50 Time:  0:00:50\n"
     ]
    },
    {
     "name": "stdout",
     "output_type": "stream",
     "text": [
      " - final iteration number:  200\n",
      " - final log10 cost value:  -5.036575411883558\n",
      " - converged:  True\n",
      "Done.\n",
      "Execution time:  1546.6370469999965  seconds\n",
      "----------------------------------------\n"
     ]
    },
    {
     "name": "stderr",
     "output_type": "stream",
     "text": [
      "\u001b[33mWARNING\u001b[0m: Making input data immutable.\n"
     ]
    },
    {
     "name": "stdout",
     "output_type": "stream",
     "text": [
      "\n",
      "  _____             ____     _____      _\n",
      " |\" ___|    ___    / __\"| u |_ \" _| U  /\"\\  u\n",
      "U| |_  u   |_\"_|  <\\___ \\/    | |    \\/ _ \\/\n",
      "\\|  _|/     | |    u___) |   /| |\\   / ___ \\\\\n",
      " |_|      U/| |\\u  |____/>> u |_|U  /_/   \\_\\\\\n",
      " )(\\\\\\,-.-,_|___|_,-.)(  (__)_// \\\\\\_  \\\\\\    >>\n",
      "(__)(_/ \\_)-' '-(_/(__)    (__) (__)(__)  (__)\n",
      "    \n",
      " - mu:  2.1544346900318867e-10\n",
      " - lipschitz constant:  1.1000000000000694\n",
      " - data:  (640, 368)\n",
      " - wavelet:  <mri.reconstruct.linear.WaveletN object at 0x7fa415806e10> - 4\n",
      " - max iterations:  200\n",
      " - image variable shape:  (640, 368)\n",
      " - alpha variable shape:  (235520,)\n",
      "----------------------------------------\n",
      "Starting optimization...\n"
     ]
    },
    {
     "name": "stderr",
     "output_type": "stream",
     "text": [
      "100% (200 of 200) |######################| Elapsed Time: 0:00:51 Time:  0:00:51\n"
     ]
    },
    {
     "name": "stdout",
     "output_type": "stream",
     "text": [
      " - final iteration number:  200\n",
      " - final log10 cost value:  -5.537652046844512\n",
      " - converged:  True\n",
      "Done.\n",
      "Execution time:  1557.525358999992  seconds\n",
      "----------------------------------------\n"
     ]
    },
    {
     "name": "stderr",
     "output_type": "stream",
     "text": [
      "\u001b[33mWARNING\u001b[0m: Making input data immutable.\n"
     ]
    },
    {
     "name": "stdout",
     "output_type": "stream",
     "text": [
      "\n",
      "  _____             ____     _____      _\n",
      " |\" ___|    ___    / __\"| u |_ \" _| U  /\"\\  u\n",
      "U| |_  u   |_\"_|  <\\___ \\/    | |    \\/ _ \\/\n",
      "\\|  _|/     | |    u___) |   /| |\\   / ___ \\\\\n",
      " |_|      U/| |\\u  |____/>> u |_|U  /_/   \\_\\\\\n",
      " )(\\\\\\,-.-,_|___|_,-.)(  (__)_// \\\\\\_  \\\\\\    >>\n",
      "(__)(_/ \\_)-' '-(_/(__)    (__) (__)(__)  (__)\n",
      "    \n",
      " - mu:  2.1544346900318867e-10\n",
      " - lipschitz constant:  1.1000000000000314\n",
      " - data:  (640, 372)\n",
      " - wavelet:  <mri.reconstruct.linear.WaveletN object at 0x7fa415806c18> - 4\n",
      " - max iterations:  200\n",
      " - image variable shape:  (640, 372)\n",
      " - alpha variable shape:  (238320,)\n",
      "----------------------------------------\n",
      "Starting optimization...\n"
     ]
    },
    {
     "name": "stderr",
     "output_type": "stream",
     "text": [
      "100% (200 of 200) |######################| Elapsed Time: 0:00:53 Time:  0:00:53\n"
     ]
    },
    {
     "name": "stdout",
     "output_type": "stream",
     "text": [
      " - final iteration number:  200\n",
      " - final log10 cost value:  -6.34249784701638\n",
      " - converged:  True\n",
      "Done.\n",
      "Execution time:  1590.2235130000045  seconds\n",
      "----------------------------------------\n"
     ]
    },
    {
     "name": "stderr",
     "output_type": "stream",
     "text": [
      "\u001b[33mWARNING\u001b[0m: Making input data immutable.\n"
     ]
    },
    {
     "name": "stdout",
     "output_type": "stream",
     "text": [
      "\n",
      "  _____             ____     _____      _\n",
      " |\" ___|    ___    / __\"| u |_ \" _| U  /\"\\  u\n",
      "U| |_  u   |_\"_|  <\\___ \\/    | |    \\/ _ \\/\n",
      "\\|  _|/     | |    u___) |   /| |\\   / ___ \\\\\n",
      " |_|      U/| |\\u  |____/>> u |_|U  /_/   \\_\\\\\n",
      " )(\\\\\\,-.-,_|___|_,-.)(  (__)_// \\\\\\_  \\\\\\    >>\n",
      "(__)(_/ \\_)-' '-(_/(__)    (__) (__)(__)  (__)\n",
      "    \n",
      " - mu:  2.1544346900318867e-10\n",
      " - lipschitz constant:  1.0999999999999805\n",
      " - data:  (640, 372)\n",
      " - wavelet:  <mri.reconstruct.linear.WaveletN object at 0x7fa4157cbcc0> - 4\n",
      " - max iterations:  200\n",
      " - image variable shape:  (640, 372)\n",
      " - alpha variable shape:  (238320,)\n",
      "----------------------------------------\n",
      "Starting optimization...\n"
     ]
    },
    {
     "name": "stderr",
     "output_type": "stream",
     "text": [
      "100% (200 of 200) |######################| Elapsed Time: 0:00:52 Time:  0:00:52\n"
     ]
    },
    {
     "name": "stdout",
     "output_type": "stream",
     "text": [
      " - final iteration number:  200\n",
      " - final log10 cost value:  -6.284568660989276\n",
      " - converged:  True\n",
      "Done.\n",
      "Execution time:  1674.3750569999975  seconds\n",
      "----------------------------------------\n"
     ]
    },
    {
     "name": "stderr",
     "output_type": "stream",
     "text": [
      "\u001b[33mWARNING\u001b[0m: Making input data immutable.\n"
     ]
    },
    {
     "name": "stdout",
     "output_type": "stream",
     "text": [
      "\n",
      "  _____             ____     _____      _\n",
      " |\" ___|    ___    / __\"| u |_ \" _| U  /\"\\  u\n",
      "U| |_  u   |_\"_|  <\\___ \\/    | |    \\/ _ \\/\n",
      "\\|  _|/     | |    u___) |   /| |\\   / ___ \\\\\n",
      " |_|      U/| |\\u  |____/>> u |_|U  /_/   \\_\\\\\n",
      " )(\\\\\\,-.-,_|___|_,-.)(  (__)_// \\\\\\_  \\\\\\    >>\n",
      "(__)(_/ \\_)-' '-(_/(__)    (__) (__)(__)  (__)\n",
      "    \n",
      " - mu:  2.1544346900318867e-10\n",
      " - lipschitz constant:  1.1000000000000316\n",
      " - data:  (640, 368)\n",
      " - wavelet:  <mri.reconstruct.linear.WaveletN object at 0x7fa415760828> - 4\n",
      " - max iterations:  200\n",
      " - image variable shape:  (640, 368)\n",
      " - alpha variable shape:  (235520,)\n",
      "----------------------------------------\n",
      "Starting optimization...\n"
     ]
    },
    {
     "name": "stderr",
     "output_type": "stream",
     "text": [
      "100% (200 of 200) |######################| Elapsed Time: 0:00:50 Time:  0:00:50\n"
     ]
    },
    {
     "name": "stdout",
     "output_type": "stream",
     "text": [
      " - final iteration number:  200\n",
      " - final log10 cost value:  -5.493649700536307\n",
      " - converged:  True\n",
      "Done.\n",
      "Execution time:  1621.369255000027  seconds\n",
      "----------------------------------------\n"
     ]
    },
    {
     "name": "stderr",
     "output_type": "stream",
     "text": [
      "\u001b[33mWARNING\u001b[0m: Making input data immutable.\n"
     ]
    },
    {
     "name": "stdout",
     "output_type": "stream",
     "text": [
      "\n",
      "  _____             ____     _____      _\n",
      " |\" ___|    ___    / __\"| u |_ \" _| U  /\"\\  u\n",
      "U| |_  u   |_\"_|  <\\___ \\/    | |    \\/ _ \\/\n",
      "\\|  _|/     | |    u___) |   /| |\\   / ___ \\\\\n",
      " |_|      U/| |\\u  |____/>> u |_|U  /_/   \\_\\\\\n",
      " )(\\\\\\,-.-,_|___|_,-.)(  (__)_// \\\\\\_  \\\\\\    >>\n",
      "(__)(_/ \\_)-' '-(_/(__)    (__) (__)(__)  (__)\n",
      "    \n",
      " - mu:  2.1544346900318867e-10\n",
      " - lipschitz constant:  1.0999999999999828\n",
      " - data:  (640, 372)\n",
      " - wavelet:  <mri.reconstruct.linear.WaveletN object at 0x7fa415777128> - 4\n",
      " - max iterations:  200\n",
      " - image variable shape:  (640, 372)\n",
      " - alpha variable shape:  (238320,)\n",
      "----------------------------------------\n",
      "Starting optimization...\n"
     ]
    },
    {
     "name": "stderr",
     "output_type": "stream",
     "text": [
      "100% (200 of 200) |######################| Elapsed Time: 0:00:52 Time:  0:00:52\n"
     ]
    },
    {
     "name": "stdout",
     "output_type": "stream",
     "text": [
      " - final iteration number:  200\n",
      " - final log10 cost value:  -6.244687944337405\n",
      " - converged:  True\n",
      "Done.\n",
      "Execution time:  1670.6353189999936  seconds\n",
      "----------------------------------------\n"
     ]
    },
    {
     "name": "stderr",
     "output_type": "stream",
     "text": [
      "\u001b[33mWARNING\u001b[0m: Making input data immutable.\n"
     ]
    },
    {
     "name": "stdout",
     "output_type": "stream",
     "text": [
      "\n",
      "  _____             ____     _____      _\n",
      " |\" ___|    ___    / __\"| u |_ \" _| U  /\"\\  u\n",
      "U| |_  u   |_\"_|  <\\___ \\/    | |    \\/ _ \\/\n",
      "\\|  _|/     | |    u___) |   /| |\\   / ___ \\\\\n",
      " |_|      U/| |\\u  |____/>> u |_|U  /_/   \\_\\\\\n",
      " )(\\\\\\,-.-,_|___|_,-.)(  (__)_// \\\\\\_  \\\\\\    >>\n",
      "(__)(_/ \\_)-' '-(_/(__)    (__) (__)(__)  (__)\n",
      "    \n",
      " - mu:  2.1544346900318867e-10\n",
      " - lipschitz constant:  1.099999999999981\n",
      " - data:  (640, 368)\n",
      " - wavelet:  <mri.reconstruct.linear.WaveletN object at 0x7fa4157779e8> - 4\n",
      " - max iterations:  200\n",
      " - image variable shape:  (640, 368)\n",
      " - alpha variable shape:  (235520,)\n",
      "----------------------------------------\n",
      "Starting optimization...\n"
     ]
    },
    {
     "name": "stderr",
     "output_type": "stream",
     "text": [
      "100% (200 of 200) |######################| Elapsed Time: 0:00:51 Time:  0:00:51\n"
     ]
    },
    {
     "name": "stdout",
     "output_type": "stream",
     "text": [
      " - final iteration number:  200\n",
      " - final log10 cost value:  -5.099264614450328\n",
      " - converged:  True\n",
      "Done.\n",
      "Execution time:  1654.1876819999889  seconds\n",
      "----------------------------------------\n"
     ]
    },
    {
     "name": "stderr",
     "output_type": "stream",
     "text": [
      "\u001b[33mWARNING\u001b[0m: Making input data immutable.\n"
     ]
    },
    {
     "name": "stdout",
     "output_type": "stream",
     "text": [
      "\n",
      "  _____             ____     _____      _\n",
      " |\" ___|    ___    / __\"| u |_ \" _| U  /\"\\  u\n",
      "U| |_  u   |_\"_|  <\\___ \\/    | |    \\/ _ \\/\n",
      "\\|  _|/     | |    u___) |   /| |\\   / ___ \\\\\n",
      " |_|      U/| |\\u  |____/>> u |_|U  /_/   \\_\\\\\n",
      " )(\\\\\\,-.-,_|___|_,-.)(  (__)_// \\\\\\_  \\\\\\    >>\n",
      "(__)(_/ \\_)-' '-(_/(__)    (__) (__)(__)  (__)\n",
      "    \n",
      " - mu:  2.1544346900318867e-10\n",
      " - lipschitz constant:  1.099999999999976\n",
      " - data:  (640, 368)\n",
      " - wavelet:  <mri.reconstruct.linear.WaveletN object at 0x7fa4157d56d8> - 4\n",
      " - max iterations:  200\n",
      " - image variable shape:  (640, 368)\n",
      " - alpha variable shape:  (235520,)\n",
      "----------------------------------------\n",
      "Starting optimization...\n"
     ]
    },
    {
     "name": "stderr",
     "output_type": "stream",
     "text": [
      "100% (200 of 200) |######################| Elapsed Time: 0:00:50 Time:  0:00:50\n"
     ]
    },
    {
     "name": "stdout",
     "output_type": "stream",
     "text": [
      " - final iteration number:  200\n",
      " - final log10 cost value:  -5.177662768573012\n",
      " - converged:  True\n",
      "Done.\n",
      "Execution time:  1605.1780689999869  seconds\n",
      "----------------------------------------\n"
     ]
    },
    {
     "name": "stderr",
     "output_type": "stream",
     "text": [
      "\u001b[33mWARNING\u001b[0m: Making input data immutable.\n"
     ]
    },
    {
     "name": "stdout",
     "output_type": "stream",
     "text": [
      "\n",
      "  _____             ____     _____      _\n",
      " |\" ___|    ___    / __\"| u |_ \" _| U  /\"\\  u\n",
      "U| |_  u   |_\"_|  <\\___ \\/    | |    \\/ _ \\/\n",
      "\\|  _|/     | |    u___) |   /| |\\   / ___ \\\\\n",
      " |_|      U/| |\\u  |____/>> u |_|U  /_/   \\_\\\\\n",
      " )(\\\\\\,-.-,_|___|_,-.)(  (__)_// \\\\\\_  \\\\\\    >>\n",
      "(__)(_/ \\_)-' '-(_/(__)    (__) (__)(__)  (__)\n",
      "    \n",
      " - mu:  2.1544346900318867e-10\n",
      " - lipschitz constant:  1.1000000000000743\n",
      " - data:  (640, 368)\n",
      " - wavelet:  <mri.reconstruct.linear.WaveletN object at 0x7fa415806e10> - 4\n",
      " - max iterations:  200\n",
      " - image variable shape:  (640, 368)\n",
      " - alpha variable shape:  (235520,)\n",
      "----------------------------------------\n",
      "Starting optimization...\n"
     ]
    },
    {
     "name": "stderr",
     "output_type": "stream",
     "text": [
      "100% (200 of 200) |######################| Elapsed Time: 0:00:52 Time:  0:00:52\n"
     ]
    },
    {
     "name": "stdout",
     "output_type": "stream",
     "text": [
      " - final iteration number:  200\n",
      " - final log10 cost value:  -5.174506047266066\n",
      " - converged:  True\n",
      "Done.\n",
      "Execution time:  1571.047544000001  seconds\n",
      "----------------------------------------\n"
     ]
    },
    {
     "name": "stderr",
     "output_type": "stream",
     "text": [
      "\u001b[33mWARNING\u001b[0m: Making input data immutable.\n"
     ]
    },
    {
     "name": "stdout",
     "output_type": "stream",
     "text": [
      "\n",
      "  _____             ____     _____      _\n",
      " |\" ___|    ___    / __\"| u |_ \" _| U  /\"\\  u\n",
      "U| |_  u   |_\"_|  <\\___ \\/    | |    \\/ _ \\/\n",
      "\\|  _|/     | |    u___) |   /| |\\   / ___ \\\\\n",
      " |_|      U/| |\\u  |____/>> u |_|U  /_/   \\_\\\\\n",
      " )(\\\\\\,-.-,_|___|_,-.)(  (__)_// \\\\\\_  \\\\\\    >>\n",
      "(__)(_/ \\_)-' '-(_/(__)    (__) (__)(__)  (__)\n",
      "    \n",
      " - mu:  2.1544346900318867e-10\n",
      " - lipschitz constant:  1.099999999999979\n",
      " - data:  (640, 372)\n",
      " - wavelet:  <mri.reconstruct.linear.WaveletN object at 0x7fa4157d5940> - 4\n",
      " - max iterations:  200\n",
      " - image variable shape:  (640, 372)\n",
      " - alpha variable shape:  (238320,)\n",
      "----------------------------------------\n",
      "Starting optimization...\n"
     ]
    },
    {
     "name": "stderr",
     "output_type": "stream",
     "text": [
      "100% (200 of 200) |######################| Elapsed Time: 0:00:54 Time:  0:00:54\n"
     ]
    },
    {
     "name": "stdout",
     "output_type": "stream",
     "text": [
      " - final iteration number:  200\n",
      " - final log10 cost value:  -6.033223393996825\n",
      " - converged:  True\n",
      "Done.\n",
      "Execution time:  1593.2278959999967  seconds\n",
      "----------------------------------------\n"
     ]
    },
    {
     "name": "stderr",
     "output_type": "stream",
     "text": [
      "\u001b[33mWARNING\u001b[0m: Making input data immutable.\n"
     ]
    },
    {
     "name": "stdout",
     "output_type": "stream",
     "text": [
      "\n",
      "  _____             ____     _____      _\n",
      " |\" ___|    ___    / __\"| u |_ \" _| U  /\"\\  u\n",
      "U| |_  u   |_\"_|  <\\___ \\/    | |    \\/ _ \\/\n",
      "\\|  _|/     | |    u___) |   /| |\\   / ___ \\\\\n",
      " |_|      U/| |\\u  |____/>> u |_|U  /_/   \\_\\\\\n",
      " )(\\\\\\,-.-,_|___|_,-.)(  (__)_// \\\\\\_  \\\\\\    >>\n",
      "(__)(_/ \\_)-' '-(_/(__)    (__) (__)(__)  (__)\n",
      "    \n",
      " - mu:  2.1544346900318867e-10\n",
      " - lipschitz constant:  1.0999999999999799\n",
      " - data:  (640, 368)\n",
      " - wavelet:  <mri.reconstruct.linear.WaveletN object at 0x7fa415806c18> - 4\n",
      " - max iterations:  200\n",
      " - image variable shape:  (640, 368)\n",
      " - alpha variable shape:  (235520,)\n",
      "----------------------------------------\n",
      "Starting optimization...\n"
     ]
    },
    {
     "name": "stderr",
     "output_type": "stream",
     "text": [
      "100% (200 of 200) |######################| Elapsed Time: 0:00:51 Time:  0:00:51\n"
     ]
    },
    {
     "name": "stdout",
     "output_type": "stream",
     "text": [
      " - final iteration number:  200\n",
      " - final log10 cost value:  -4.851420405308618\n",
      " - converged:  True\n",
      "Done.\n",
      "Execution time:  1557.2928019999817  seconds\n",
      "----------------------------------------\n"
     ]
    },
    {
     "name": "stderr",
     "output_type": "stream",
     "text": [
      "\u001b[33mWARNING\u001b[0m: Making input data immutable.\n"
     ]
    },
    {
     "name": "stdout",
     "output_type": "stream",
     "text": [
      "\n",
      "  _____             ____     _____      _\n",
      " |\" ___|    ___    / __\"| u |_ \" _| U  /\"\\  u\n",
      "U| |_  u   |_\"_|  <\\___ \\/    | |    \\/ _ \\/\n",
      "\\|  _|/     | |    u___) |   /| |\\   / ___ \\\\\n",
      " |_|      U/| |\\u  |____/>> u |_|U  /_/   \\_\\\\\n",
      " )(\\\\\\,-.-,_|___|_,-.)(  (__)_// \\\\\\_  \\\\\\    >>\n",
      "(__)(_/ \\_)-' '-(_/(__)    (__) (__)(__)  (__)\n",
      "    \n",
      " - mu:  2.1544346900318867e-10\n",
      " - lipschitz constant:  1.0999999999999814\n",
      " - data:  (640, 372)\n",
      " - wavelet:  <mri.reconstruct.linear.WaveletN object at 0x7fa415777b38> - 4\n",
      " - max iterations:  200\n",
      " - image variable shape:  (640, 372)\n",
      " - alpha variable shape:  (238320,)\n",
      "----------------------------------------\n",
      "Starting optimization...\n"
     ]
    },
    {
     "name": "stderr",
     "output_type": "stream",
     "text": [
      "100% (200 of 200) |######################| Elapsed Time: 0:00:54 Time:  0:00:54\n"
     ]
    },
    {
     "name": "stdout",
     "output_type": "stream",
     "text": [
      " - final iteration number:  200\n",
      " - final log10 cost value:  -6.5279073128353815\n",
      " - converged:  True\n",
      "Done.\n",
      "Execution time:  1555.7802479999955  seconds\n",
      "----------------------------------------\n"
     ]
    },
    {
     "name": "stderr",
     "output_type": "stream",
     "text": [
      "\u001b[33mWARNING\u001b[0m: Making input data immutable.\n"
     ]
    },
    {
     "name": "stdout",
     "output_type": "stream",
     "text": [
      "\n",
      "  _____             ____     _____      _\n",
      " |\" ___|    ___    / __\"| u |_ \" _| U  /\"\\  u\n",
      "U| |_  u   |_\"_|  <\\___ \\/    | |    \\/ _ \\/\n",
      "\\|  _|/     | |    u___) |   /| |\\   / ___ \\\\\n",
      " |_|      U/| |\\u  |____/>> u |_|U  /_/   \\_\\\\\n",
      " )(\\\\\\,-.-,_|___|_,-.)(  (__)_// \\\\\\_  \\\\\\    >>\n",
      "(__)(_/ \\_)-' '-(_/(__)    (__) (__)(__)  (__)\n",
      "    \n",
      " - mu:  2.1544346900318867e-10\n",
      " - lipschitz constant:  1.100000000000073\n",
      " - data:  (640, 368)\n",
      " - wavelet:  <mri.reconstruct.linear.WaveletN object at 0x7fa415766978> - 4\n",
      " - max iterations:  200\n",
      " - image variable shape:  (640, 368)\n",
      " - alpha variable shape:  (235520,)\n",
      "----------------------------------------\n",
      "Starting optimization...\n"
     ]
    },
    {
     "name": "stderr",
     "output_type": "stream",
     "text": [
      "100% (200 of 200) |######################| Elapsed Time: 0:00:52 Time:  0:00:52\n"
     ]
    },
    {
     "name": "stdout",
     "output_type": "stream",
     "text": [
      " - final iteration number:  200\n",
      " - final log10 cost value:  -4.988086896290388\n",
      " - converged:  True\n",
      "Done.\n",
      "Execution time:  1550.4071650000114  seconds\n",
      "----------------------------------------\n",
      "\n"
     ]
    },
    {
     "data": {
      "application/vnd.jupyter.widget-view+json": {
       "model_id": "23b7fcae4ab447f19c08c9a36e7255d7",
       "version_major": 2,
       "version_minor": 0
      },
      "text/plain": [
       "HBox(children=(FloatProgress(value=0.0, description='Stats', max=24.0, style=ProgressStyle(description_width='…"
      ]
     },
     "metadata": {},
     "output_type": "display_data"
    },
    {
     "name": "stdout",
     "output_type": "stream",
     "text": [
      "\n"
     ]
    },
    {
     "data": {
      "application/vnd.jupyter.widget-view+json": {
       "model_id": "25fbb0f3b4074d5c95a9cac635b0e9d3",
       "version_major": 2,
       "version_minor": 0
      },
      "text/plain": [
       "HBox(children=(FloatProgress(value=0.0, description='K-spaces', max=24.0, style=ProgressStyle(description_widt…"
      ]
     },
     "metadata": {},
     "output_type": "display_data"
    },
    {
     "name": "stderr",
     "output_type": "stream",
     "text": [
      "\u001b[33mWARNING\u001b[0m: Making input data immutable.\n"
     ]
    },
    {
     "name": "stdout",
     "output_type": "stream",
     "text": [
      "\n",
      "  _____             ____     _____      _\n",
      " |\" ___|    ___    / __\"| u |_ \" _| U  /\"\\  u\n",
      "U| |_  u   |_\"_|  <\\___ \\/    | |    \\/ _ \\/\n",
      "\\|  _|/     | |    u___) |   /| |\\   / ___ \\\\\n",
      " |_|      U/| |\\u  |____/>> u |_|U  /_/   \\_\\\\\n",
      " )(\\\\\\,-.-,_|___|_,-.)(  (__)_// \\\\\\_  \\\\\\    >>\n",
      "(__)(_/ \\_)-' '-(_/(__)    (__) (__)(__)  (__)\n",
      "    \n",
      " - mu:  4.6415888336127727e-10\n",
      " - lipschitz constant:  1.1000000000000345\n",
      " - data:  (640, 368)\n",
      " - wavelet:  <mri.reconstruct.linear.WaveletN object at 0x7fa41578eb70> - 4\n",
      " - max iterations:  200\n",
      " - image variable shape:  (640, 368)\n",
      " - alpha variable shape:  (235520,)\n",
      "----------------------------------------\n",
      "Starting optimization...\n"
     ]
    },
    {
     "name": "stderr",
     "output_type": "stream",
     "text": [
      "100% (200 of 200) |######################| Elapsed Time: 0:00:52 Time:  0:00:52\n"
     ]
    },
    {
     "name": "stdout",
     "output_type": "stream",
     "text": [
      " - final iteration number:  200\n",
      " - final log10 cost value:  -4.990289946095847\n",
      " - converged:  True\n",
      "Done.\n",
      "Execution time:  1560.2592550000118  seconds\n",
      "----------------------------------------\n"
     ]
    },
    {
     "name": "stderr",
     "output_type": "stream",
     "text": [
      "\u001b[33mWARNING\u001b[0m: Making input data immutable.\n"
     ]
    },
    {
     "name": "stdout",
     "output_type": "stream",
     "text": [
      "\n",
      "  _____             ____     _____      _\n",
      " |\" ___|    ___    / __\"| u |_ \" _| U  /\"\\  u\n",
      "U| |_  u   |_\"_|  <\\___ \\/    | |    \\/ _ \\/\n",
      "\\|  _|/     | |    u___) |   /| |\\   / ___ \\\\\n",
      " |_|      U/| |\\u  |____/>> u |_|U  /_/   \\_\\\\\n",
      " )(\\\\\\,-.-,_|___|_,-.)(  (__)_// \\\\\\_  \\\\\\    >>\n",
      "(__)(_/ \\_)-' '-(_/(__)    (__) (__)(__)  (__)\n",
      "    \n",
      " - mu:  4.6415888336127727e-10\n",
      " - lipschitz constant:  1.1000000000001402\n",
      " - data:  (640, 372)\n",
      " - wavelet:  <mri.reconstruct.linear.WaveletN object at 0x7fa4157d5940> - 4\n",
      " - max iterations:  200\n",
      " - image variable shape:  (640, 372)\n",
      " - alpha variable shape:  (238320,)\n",
      "----------------------------------------\n",
      "Starting optimization...\n"
     ]
    },
    {
     "name": "stderr",
     "output_type": "stream",
     "text": [
      "100% (200 of 200) |######################| Elapsed Time: 0:00:53 Time:  0:00:53\n"
     ]
    },
    {
     "name": "stdout",
     "output_type": "stream",
     "text": [
      " - final iteration number:  200\n",
      " - final log10 cost value:  -6.123077369416291\n",
      " - converged:  True\n",
      "Done.\n",
      "Execution time:  1540.2863570000045  seconds\n",
      "----------------------------------------\n"
     ]
    },
    {
     "name": "stderr",
     "output_type": "stream",
     "text": [
      "\u001b[33mWARNING\u001b[0m: Making input data immutable.\n"
     ]
    },
    {
     "name": "stdout",
     "output_type": "stream",
     "text": [
      "\n",
      "  _____             ____     _____      _\n",
      " |\" ___|    ___    / __\"| u |_ \" _| U  /\"\\  u\n",
      "U| |_  u   |_\"_|  <\\___ \\/    | |    \\/ _ \\/\n",
      "\\|  _|/     | |    u___) |   /| |\\   / ___ \\\\\n",
      " |_|      U/| |\\u  |____/>> u |_|U  /_/   \\_\\\\\n",
      " )(\\\\\\,-.-,_|___|_,-.)(  (__)_// \\\\\\_  \\\\\\    >>\n",
      "(__)(_/ \\_)-' '-(_/(__)    (__) (__)(__)  (__)\n",
      "    \n",
      " - mu:  4.6415888336127727e-10\n",
      " - lipschitz constant:  1.1000000000000862\n",
      " - data:  (640, 368)\n",
      " - wavelet:  <mri.reconstruct.linear.WaveletN object at 0x7fa4157d5748> - 4\n",
      " - max iterations:  200\n",
      " - image variable shape:  (640, 368)\n",
      " - alpha variable shape:  (235520,)\n",
      "----------------------------------------\n",
      "Starting optimization...\n"
     ]
    },
    {
     "name": "stderr",
     "output_type": "stream",
     "text": [
      "100% (200 of 200) |######################| Elapsed Time: 0:00:51 Time:  0:00:51\n"
     ]
    },
    {
     "name": "stdout",
     "output_type": "stream",
     "text": [
      " - final iteration number:  200\n",
      " - final log10 cost value:  -5.36275983035422\n",
      " - converged:  True\n",
      "Done.\n",
      "Execution time:  1547.6352809999953  seconds\n",
      "----------------------------------------\n"
     ]
    },
    {
     "name": "stderr",
     "output_type": "stream",
     "text": [
      "\u001b[33mWARNING\u001b[0m: Making input data immutable.\n"
     ]
    },
    {
     "name": "stdout",
     "output_type": "stream",
     "text": [
      "\n",
      "  _____             ____     _____      _\n",
      " |\" ___|    ___    / __\"| u |_ \" _| U  /\"\\  u\n",
      "U| |_  u   |_\"_|  <\\___ \\/    | |    \\/ _ \\/\n",
      "\\|  _|/     | |    u___) |   /| |\\   / ___ \\\\\n",
      " |_|      U/| |\\u  |____/>> u |_|U  /_/   \\_\\\\\n",
      " )(\\\\\\,-.-,_|___|_,-.)(  (__)_// \\\\\\_  \\\\\\    >>\n",
      "(__)(_/ \\_)-' '-(_/(__)    (__) (__)(__)  (__)\n",
      "    \n",
      " - mu:  4.6415888336127727e-10\n",
      " - lipschitz constant:  1.0999999999999721\n",
      " - data:  (640, 368)\n",
      " - wavelet:  <mri.reconstruct.linear.WaveletN object at 0x7fa415777e80> - 4\n",
      " - max iterations:  200\n",
      " - image variable shape:  (640, 368)\n",
      " - alpha variable shape:  (235520,)\n",
      "----------------------------------------\n",
      "Starting optimization...\n"
     ]
    },
    {
     "name": "stderr",
     "output_type": "stream",
     "text": [
      "100% (200 of 200) |######################| Elapsed Time: 0:00:51 Time:  0:00:51\n"
     ]
    },
    {
     "name": "stdout",
     "output_type": "stream",
     "text": [
      " - final iteration number:  200\n",
      " - final log10 cost value:  -5.480272046536967\n",
      " - converged:  True\n",
      "Done.\n",
      "Execution time:  1543.8021290000179  seconds\n",
      "----------------------------------------\n"
     ]
    },
    {
     "name": "stderr",
     "output_type": "stream",
     "text": [
      "\u001b[33mWARNING\u001b[0m: Making input data immutable.\n"
     ]
    },
    {
     "name": "stdout",
     "output_type": "stream",
     "text": [
      "\n",
      "  _____             ____     _____      _\n",
      " |\" ___|    ___    / __\"| u |_ \" _| U  /\"\\  u\n",
      "U| |_  u   |_\"_|  <\\___ \\/    | |    \\/ _ \\/\n",
      "\\|  _|/     | |    u___) |   /| |\\   / ___ \\\\\n",
      " |_|      U/| |\\u  |____/>> u |_|U  /_/   \\_\\\\\n",
      " )(\\\\\\,-.-,_|___|_,-.)(  (__)_// \\\\\\_  \\\\\\    >>\n",
      "(__)(_/ \\_)-' '-(_/(__)    (__) (__)(__)  (__)\n",
      "    \n",
      " - mu:  4.6415888336127727e-10\n",
      " - lipschitz constant:  1.1000000000000876\n",
      " - data:  (640, 372)\n",
      " - wavelet:  <mri.reconstruct.linear.WaveletN object at 0x7fa41578ed30> - 4\n",
      " - max iterations:  200\n",
      " - image variable shape:  (640, 372)\n",
      " - alpha variable shape:  (238320,)\n",
      "----------------------------------------\n",
      "Starting optimization...\n"
     ]
    },
    {
     "name": "stderr",
     "output_type": "stream",
     "text": [
      "100% (200 of 200) |######################| Elapsed Time: 0:00:52 Time:  0:00:52\n"
     ]
    },
    {
     "name": "stdout",
     "output_type": "stream",
     "text": [
      " - final iteration number:  200\n",
      " - final log10 cost value:  -6.383950889224809\n",
      " - converged:  True\n",
      "Done.\n",
      "Execution time:  1580.724623999995  seconds\n",
      "----------------------------------------\n"
     ]
    },
    {
     "name": "stderr",
     "output_type": "stream",
     "text": [
      "\u001b[33mWARNING\u001b[0m: Making input data immutable.\n"
     ]
    },
    {
     "name": "stdout",
     "output_type": "stream",
     "text": [
      "\n",
      "  _____             ____     _____      _\n",
      " |\" ___|    ___    / __\"| u |_ \" _| U  /\"\\  u\n",
      "U| |_  u   |_\"_|  <\\___ \\/    | |    \\/ _ \\/\n",
      "\\|  _|/     | |    u___) |   /| |\\   / ___ \\\\\n",
      " |_|      U/| |\\u  |____/>> u |_|U  /_/   \\_\\\\\n",
      " )(\\\\\\,-.-,_|___|_,-.)(  (__)_// \\\\\\_  \\\\\\    >>\n",
      "(__)(_/ \\_)-' '-(_/(__)    (__) (__)(__)  (__)\n",
      "    \n",
      " - mu:  4.6415888336127727e-10\n",
      " - lipschitz constant:  1.0999999999999879\n",
      " - data:  (640, 372)\n",
      " - wavelet:  <mri.reconstruct.linear.WaveletN object at 0x7fa415760978> - 4\n",
      " - max iterations:  200\n",
      " - image variable shape:  (640, 372)\n",
      " - alpha variable shape:  (238320,)\n",
      "----------------------------------------\n",
      "Starting optimization...\n"
     ]
    },
    {
     "name": "stderr",
     "output_type": "stream",
     "text": [
      "100% (200 of 200) |######################| Elapsed Time: 0:00:52 Time:  0:00:52\n"
     ]
    },
    {
     "name": "stdout",
     "output_type": "stream",
     "text": [
      " - final iteration number:  200\n",
      " - final log10 cost value:  -6.358795944847378\n",
      " - converged:  True\n",
      "Done.\n",
      "Execution time:  1647.3839119999902  seconds\n",
      "----------------------------------------\n"
     ]
    },
    {
     "name": "stderr",
     "output_type": "stream",
     "text": [
      "\u001b[33mWARNING\u001b[0m: Making input data immutable.\n"
     ]
    },
    {
     "name": "stdout",
     "output_type": "stream",
     "text": [
      "\n",
      "  _____             ____     _____      _\n",
      " |\" ___|    ___    / __\"| u |_ \" _| U  /\"\\  u\n",
      "U| |_  u   |_\"_|  <\\___ \\/    | |    \\/ _ \\/\n",
      "\\|  _|/     | |    u___) |   /| |\\   / ___ \\\\\n",
      " |_|      U/| |\\u  |____/>> u |_|U  /_/   \\_\\\\\n",
      " )(\\\\\\,-.-,_|___|_,-.)(  (__)_// \\\\\\_  \\\\\\    >>\n",
      "(__)(_/ \\_)-' '-(_/(__)    (__) (__)(__)  (__)\n",
      "    \n",
      " - mu:  4.6415888336127727e-10\n",
      " - lipschitz constant:  1.0999999999999763\n",
      " - data:  (640, 372)\n",
      " - wavelet:  <mri.reconstruct.linear.WaveletN object at 0x7fa4157604e0> - 4\n",
      " - max iterations:  200\n",
      " - image variable shape:  (640, 372)\n",
      " - alpha variable shape:  (238320,)\n",
      "----------------------------------------\n",
      "Starting optimization...\n"
     ]
    },
    {
     "name": "stderr",
     "output_type": "stream",
     "text": [
      "100% (200 of 200) |######################| Elapsed Time: 0:00:52 Time:  0:00:52\n"
     ]
    },
    {
     "name": "stdout",
     "output_type": "stream",
     "text": [
      " - final iteration number:  200\n",
      " - final log10 cost value:  -6.167136568846719\n",
      " - converged:  True\n",
      "Done.\n",
      "Execution time:  1634.9034939999983  seconds\n",
      "----------------------------------------\n"
     ]
    },
    {
     "name": "stderr",
     "output_type": "stream",
     "text": [
      "\u001b[33mWARNING\u001b[0m: Making input data immutable.\n"
     ]
    },
    {
     "name": "stdout",
     "output_type": "stream",
     "text": [
      "\n",
      "  _____             ____     _____      _\n",
      " |\" ___|    ___    / __\"| u |_ \" _| U  /\"\\  u\n",
      "U| |_  u   |_\"_|  <\\___ \\/    | |    \\/ _ \\/\n",
      "\\|  _|/     | |    u___) |   /| |\\   / ___ \\\\\n",
      " |_|      U/| |\\u  |____/>> u |_|U  /_/   \\_\\\\\n",
      " )(\\\\\\,-.-,_|___|_,-.)(  (__)_// \\\\\\_  \\\\\\    >>\n",
      "(__)(_/ \\_)-' '-(_/(__)    (__) (__)(__)  (__)\n",
      "    \n",
      " - mu:  4.6415888336127727e-10\n",
      " - lipschitz constant:  1.1000000000000667\n",
      " - data:  (640, 368)\n",
      " - wavelet:  <mri.reconstruct.linear.WaveletN object at 0x7fa415760f28> - 4\n",
      " - max iterations:  200\n",
      " - image variable shape:  (640, 368)\n",
      " - alpha variable shape:  (235520,)\n",
      "----------------------------------------\n",
      "Starting optimization...\n"
     ]
    },
    {
     "name": "stderr",
     "output_type": "stream",
     "text": [
      "100% (200 of 200) |######################| Elapsed Time: 0:00:52 Time:  0:00:52\n"
     ]
    },
    {
     "name": "stdout",
     "output_type": "stream",
     "text": [
      " - final iteration number:  200\n",
      " - final log10 cost value:  -5.213854647430532\n",
      " - converged:  True\n",
      "Done.\n",
      "Execution time:  1529.7643749999988  seconds\n",
      "----------------------------------------\n"
     ]
    },
    {
     "name": "stderr",
     "output_type": "stream",
     "text": [
      "\u001b[33mWARNING\u001b[0m: Making input data immutable.\n"
     ]
    },
    {
     "name": "stdout",
     "output_type": "stream",
     "text": [
      "\n",
      "  _____             ____     _____      _\n",
      " |\" ___|    ___    / __\"| u |_ \" _| U  /\"\\  u\n",
      "U| |_  u   |_\"_|  <\\___ \\/    | |    \\/ _ \\/\n",
      "\\|  _|/     | |    u___) |   /| |\\   / ___ \\\\\n",
      " |_|      U/| |\\u  |____/>> u |_|U  /_/   \\_\\\\\n",
      " )(\\\\\\,-.-,_|___|_,-.)(  (__)_// \\\\\\_  \\\\\\    >>\n",
      "(__)(_/ \\_)-' '-(_/(__)    (__) (__)(__)  (__)\n",
      "    \n",
      " - mu:  4.6415888336127727e-10\n",
      " - lipschitz constant:  1.1000000000000323\n",
      " - data:  (640, 372)\n",
      " - wavelet:  <mri.reconstruct.linear.WaveletN object at 0x7fa415799ef0> - 4\n",
      " - max iterations:  200\n",
      " - image variable shape:  (640, 372)\n",
      " - alpha variable shape:  (238320,)\n",
      "----------------------------------------\n",
      "Starting optimization...\n"
     ]
    },
    {
     "name": "stderr",
     "output_type": "stream",
     "text": [
      "100% (200 of 200) |######################| Elapsed Time: 0:00:53 Time:  0:00:53\n"
     ]
    },
    {
     "name": "stdout",
     "output_type": "stream",
     "text": [
      " - final iteration number:  200\n",
      " - final log10 cost value:  -6.541624305533552\n",
      " - converged:  True\n",
      "Done.\n",
      "Execution time:  1586.0670470000186  seconds\n",
      "----------------------------------------\n"
     ]
    },
    {
     "name": "stderr",
     "output_type": "stream",
     "text": [
      "\u001b[33mWARNING\u001b[0m: Making input data immutable.\n"
     ]
    },
    {
     "name": "stdout",
     "output_type": "stream",
     "text": [
      "\n",
      "  _____             ____     _____      _\n",
      " |\" ___|    ___    / __\"| u |_ \" _| U  /\"\\  u\n",
      "U| |_  u   |_\"_|  <\\___ \\/    | |    \\/ _ \\/\n",
      "\\|  _|/     | |    u___) |   /| |\\   / ___ \\\\\n",
      " |_|      U/| |\\u  |____/>> u |_|U  /_/   \\_\\\\\n",
      " )(\\\\\\,-.-,_|___|_,-.)(  (__)_// \\\\\\_  \\\\\\    >>\n",
      "(__)(_/ \\_)-' '-(_/(__)    (__) (__)(__)  (__)\n",
      "    \n",
      " - mu:  4.6415888336127727e-10\n",
      " - lipschitz constant:  1.1000000000000276\n",
      " - data:  (640, 372)\n",
      " - wavelet:  <mri.reconstruct.linear.WaveletN object at 0x7fa415738710> - 4\n",
      " - max iterations:  200\n",
      " - image variable shape:  (640, 372)\n",
      " - alpha variable shape:  (238320,)\n",
      "----------------------------------------\n",
      "Starting optimization...\n"
     ]
    },
    {
     "name": "stderr",
     "output_type": "stream",
     "text": [
      "100% (200 of 200) |######################| Elapsed Time: 0:00:53 Time:  0:00:53\n"
     ]
    },
    {
     "name": "stdout",
     "output_type": "stream",
     "text": [
      " - final iteration number:  200\n",
      " - final log10 cost value:  -6.28207876258263\n",
      " - converged:  True\n",
      "Done.\n",
      "Execution time:  1578.0400760000048  seconds\n",
      "----------------------------------------\n"
     ]
    },
    {
     "name": "stderr",
     "output_type": "stream",
     "text": [
      "\u001b[33mWARNING\u001b[0m: Making input data immutable.\n"
     ]
    },
    {
     "name": "stdout",
     "output_type": "stream",
     "text": [
      "\n",
      "  _____             ____     _____      _\n",
      " |\" ___|    ___    / __\"| u |_ \" _| U  /\"\\  u\n",
      "U| |_  u   |_\"_|  <\\___ \\/    | |    \\/ _ \\/\n",
      "\\|  _|/     | |    u___) |   /| |\\   / ___ \\\\\n",
      " |_|      U/| |\\u  |____/>> u |_|U  /_/   \\_\\\\\n",
      " )(\\\\\\,-.-,_|___|_,-.)(  (__)_// \\\\\\_  \\\\\\    >>\n",
      "(__)(_/ \\_)-' '-(_/(__)    (__) (__)(__)  (__)\n",
      "    \n",
      " - mu:  4.6415888336127727e-10\n",
      " - lipschitz constant:  1.0999999999999839\n",
      " - data:  (640, 372)\n",
      " - wavelet:  <mri.reconstruct.linear.WaveletN object at 0x7fa415766ac8> - 4\n",
      " - max iterations:  200\n",
      " - image variable shape:  (640, 372)\n",
      " - alpha variable shape:  (238320,)\n",
      "----------------------------------------\n",
      "Starting optimization...\n"
     ]
    },
    {
     "name": "stderr",
     "output_type": "stream",
     "text": [
      "100% (200 of 200) |######################| Elapsed Time: 0:00:54 Time:  0:00:54\n"
     ]
    },
    {
     "name": "stdout",
     "output_type": "stream",
     "text": [
      " - final iteration number:  200\n",
      " - final log10 cost value:  -6.518039338293987\n",
      " - converged:  True\n",
      "Done.\n",
      "Execution time:  1582.7076159999997  seconds\n",
      "----------------------------------------\n"
     ]
    },
    {
     "name": "stderr",
     "output_type": "stream",
     "text": [
      "\u001b[33mWARNING\u001b[0m: Making input data immutable.\n"
     ]
    },
    {
     "name": "stdout",
     "output_type": "stream",
     "text": [
      "\n",
      "  _____             ____     _____      _\n",
      " |\" ___|    ___    / __\"| u |_ \" _| U  /\"\\  u\n",
      "U| |_  u   |_\"_|  <\\___ \\/    | |    \\/ _ \\/\n",
      "\\|  _|/     | |    u___) |   /| |\\   / ___ \\\\\n",
      " |_|      U/| |\\u  |____/>> u |_|U  /_/   \\_\\\\\n",
      " )(\\\\\\,-.-,_|___|_,-.)(  (__)_// \\\\\\_  \\\\\\    >>\n",
      "(__)(_/ \\_)-' '-(_/(__)    (__) (__)(__)  (__)\n",
      "    \n",
      " - mu:  4.6415888336127727e-10\n",
      " - lipschitz constant:  1.1000000000001497\n",
      " - data:  (640, 368)\n",
      " - wavelet:  <mri.reconstruct.linear.WaveletN object at 0x7fa415766b00> - 4\n",
      " - max iterations:  200\n",
      " - image variable shape:  (640, 368)\n",
      " - alpha variable shape:  (235520,)\n",
      "----------------------------------------\n",
      "Starting optimization...\n"
     ]
    },
    {
     "name": "stderr",
     "output_type": "stream",
     "text": [
      "100% (200 of 200) |######################| Elapsed Time: 0:00:50 Time:  0:00:50\n"
     ]
    },
    {
     "name": "stdout",
     "output_type": "stream",
     "text": [
      " - final iteration number:  200\n",
      " - final log10 cost value:  -5.752232998822134\n",
      " - converged:  True\n",
      "Done.\n",
      "Execution time:  1551.8085510000237  seconds\n",
      "----------------------------------------\n"
     ]
    },
    {
     "name": "stderr",
     "output_type": "stream",
     "text": [
      "\u001b[33mWARNING\u001b[0m: Making input data immutable.\n"
     ]
    },
    {
     "name": "stdout",
     "output_type": "stream",
     "text": [
      "\n",
      "  _____             ____     _____      _\n",
      " |\" ___|    ___    / __\"| u |_ \" _| U  /\"\\  u\n",
      "U| |_  u   |_\"_|  <\\___ \\/    | |    \\/ _ \\/\n",
      "\\|  _|/     | |    u___) |   /| |\\   / ___ \\\\\n",
      " |_|      U/| |\\u  |____/>> u |_|U  /_/   \\_\\\\\n",
      " )(\\\\\\,-.-,_|___|_,-.)(  (__)_// \\\\\\_  \\\\\\    >>\n",
      "(__)(_/ \\_)-' '-(_/(__)    (__) (__)(__)  (__)\n",
      "    \n",
      " - mu:  4.6415888336127727e-10\n",
      " - lipschitz constant:  1.1000000000000316\n",
      " - data:  (640, 372)\n",
      " - wavelet:  <mri.reconstruct.linear.WaveletN object at 0x7fa415738f60> - 4\n",
      " - max iterations:  200\n",
      " - image variable shape:  (640, 372)\n",
      " - alpha variable shape:  (238320,)\n",
      "----------------------------------------\n",
      "Starting optimization...\n"
     ]
    },
    {
     "name": "stderr",
     "output_type": "stream",
     "text": [
      "100% (200 of 200) |######################| Elapsed Time: 0:00:54 Time:  0:00:54\n"
     ]
    },
    {
     "name": "stdout",
     "output_type": "stream",
     "text": [
      " - final iteration number:  200\n",
      " - final log10 cost value:  -6.25637050113421\n",
      " - converged:  True\n",
      "Done.\n",
      "Execution time:  1539.903668999992  seconds\n",
      "----------------------------------------\n"
     ]
    },
    {
     "name": "stderr",
     "output_type": "stream",
     "text": [
      "\u001b[33mWARNING\u001b[0m: Making input data immutable.\n"
     ]
    },
    {
     "name": "stdout",
     "output_type": "stream",
     "text": [
      "\n",
      "  _____             ____     _____      _\n",
      " |\" ___|    ___    / __\"| u |_ \" _| U  /\"\\  u\n",
      "U| |_  u   |_\"_|  <\\___ \\/    | |    \\/ _ \\/\n",
      "\\|  _|/     | |    u___) |   /| |\\   / ___ \\\\\n",
      " |_|      U/| |\\u  |____/>> u |_|U  /_/   \\_\\\\\n",
      " )(\\\\\\,-.-,_|___|_,-.)(  (__)_// \\\\\\_  \\\\\\    >>\n",
      "(__)(_/ \\_)-' '-(_/(__)    (__) (__)(__)  (__)\n",
      "    \n",
      " - mu:  4.6415888336127727e-10\n",
      " - lipschitz constant:  1.1000000000000314\n",
      " - data:  (640, 372)\n",
      " - wavelet:  <mri.reconstruct.linear.WaveletN object at 0x7fa4156f21d0> - 4\n",
      " - max iterations:  200\n",
      " - image variable shape:  (640, 372)\n",
      " - alpha variable shape:  (238320,)\n",
      "----------------------------------------\n",
      "Starting optimization...\n"
     ]
    },
    {
     "name": "stderr",
     "output_type": "stream",
     "text": [
      "100% (200 of 200) |######################| Elapsed Time: 0:00:53 Time:  0:00:53\n"
     ]
    },
    {
     "name": "stdout",
     "output_type": "stream",
     "text": [
      " - final iteration number:  200\n",
      " - final log10 cost value:  -6.367421867037847\n",
      " - converged:  True\n",
      "Done.\n",
      "Execution time:  1605.9578439999896  seconds\n",
      "----------------------------------------\n"
     ]
    },
    {
     "name": "stderr",
     "output_type": "stream",
     "text": [
      "\u001b[33mWARNING\u001b[0m: Making input data immutable.\n"
     ]
    },
    {
     "name": "stdout",
     "output_type": "stream",
     "text": [
      "\n",
      "  _____             ____     _____      _\n",
      " |\" ___|    ___    / __\"| u |_ \" _| U  /\"\\  u\n",
      "U| |_  u   |_\"_|  <\\___ \\/    | |    \\/ _ \\/\n",
      "\\|  _|/     | |    u___) |   /| |\\   / ___ \\\\\n",
      " |_|      U/| |\\u  |____/>> u |_|U  /_/   \\_\\\\\n",
      " )(\\\\\\,-.-,_|___|_,-.)(  (__)_// \\\\\\_  \\\\\\    >>\n",
      "(__)(_/ \\_)-' '-(_/(__)    (__) (__)(__)  (__)\n",
      "    \n",
      " - mu:  4.6415888336127727e-10\n",
      " - lipschitz constant:  1.1000000000000638\n",
      " - data:  (640, 372)\n",
      " - wavelet:  <mri.reconstruct.linear.WaveletN object at 0x7fa4156f2198> - 4\n",
      " - max iterations:  200\n",
      " - image variable shape:  (640, 372)\n",
      " - alpha variable shape:  (238320,)\n",
      "----------------------------------------\n",
      "Starting optimization...\n"
     ]
    },
    {
     "name": "stderr",
     "output_type": "stream",
     "text": [
      "100% (200 of 200) |######################| Elapsed Time: 0:00:55 Time:  0:00:55\n"
     ]
    },
    {
     "name": "stdout",
     "output_type": "stream",
     "text": [
      " - final iteration number:  200\n",
      " - final log10 cost value:  -6.633370877985645\n",
      " - converged:  True\n",
      "Done.\n",
      "Execution time:  1571.0277720000013  seconds\n",
      "----------------------------------------\n"
     ]
    },
    {
     "name": "stderr",
     "output_type": "stream",
     "text": [
      "\u001b[33mWARNING\u001b[0m: Making input data immutable.\n"
     ]
    },
    {
     "name": "stdout",
     "output_type": "stream",
     "text": [
      "\n",
      "  _____             ____     _____      _\n",
      " |\" ___|    ___    / __\"| u |_ \" _| U  /\"\\  u\n",
      "U| |_  u   |_\"_|  <\\___ \\/    | |    \\/ _ \\/\n",
      "\\|  _|/     | |    u___) |   /| |\\   / ___ \\\\\n",
      " |_|      U/| |\\u  |____/>> u |_|U  /_/   \\_\\\\\n",
      " )(\\\\\\,-.-,_|___|_,-.)(  (__)_// \\\\\\_  \\\\\\    >>\n",
      "(__)(_/ \\_)-' '-(_/(__)    (__) (__)(__)  (__)\n",
      "    \n",
      " - mu:  4.6415888336127727e-10\n",
      " - lipschitz constant:  1.0999999999999888\n",
      " - data:  (640, 372)\n",
      " - wavelet:  <mri.reconstruct.linear.WaveletN object at 0x7fa415738470> - 4\n",
      " - max iterations:  200\n",
      " - image variable shape:  (640, 372)\n",
      " - alpha variable shape:  (238320,)\n",
      "----------------------------------------\n",
      "Starting optimization...\n"
     ]
    },
    {
     "name": "stderr",
     "output_type": "stream",
     "text": [
      "100% (200 of 200) |######################| Elapsed Time: 0:00:54 Time:  0:00:54\n"
     ]
    },
    {
     "name": "stdout",
     "output_type": "stream",
     "text": [
      " - final iteration number:  200\n",
      " - final log10 cost value:  -6.4757996465600325\n",
      " - converged:  True\n",
      "Done.\n",
      "Execution time:  1608.5751140000066  seconds\n",
      "----------------------------------------\n"
     ]
    },
    {
     "name": "stderr",
     "output_type": "stream",
     "text": [
      "\u001b[33mWARNING\u001b[0m: Making input data immutable.\n"
     ]
    },
    {
     "name": "stdout",
     "output_type": "stream",
     "text": [
      "\n",
      "  _____             ____     _____      _\n",
      " |\" ___|    ___    / __\"| u |_ \" _| U  /\"\\  u\n",
      "U| |_  u   |_\"_|  <\\___ \\/    | |    \\/ _ \\/\n",
      "\\|  _|/     | |    u___) |   /| |\\   / ___ \\\\\n",
      " |_|      U/| |\\u  |____/>> u |_|U  /_/   \\_\\\\\n",
      " )(\\\\\\,-.-,_|___|_,-.)(  (__)_// \\\\\\_  \\\\\\    >>\n",
      "(__)(_/ \\_)-' '-(_/(__)    (__) (__)(__)  (__)\n",
      "    \n",
      " - mu:  4.6415888336127727e-10\n",
      " - lipschitz constant:  1.1000000000000751\n",
      " - data:  (640, 372)\n",
      " - wavelet:  <mri.reconstruct.linear.WaveletN object at 0x7fa415738710> - 4\n",
      " - max iterations:  200\n",
      " - image variable shape:  (640, 372)\n",
      " - alpha variable shape:  (238320,)\n",
      "----------------------------------------\n",
      "Starting optimization...\n"
     ]
    },
    {
     "name": "stderr",
     "output_type": "stream",
     "text": [
      "100% (200 of 200) |######################| Elapsed Time: 0:00:52 Time:  0:00:52\n"
     ]
    },
    {
     "name": "stdout",
     "output_type": "stream",
     "text": [
      " - final iteration number:  200\n",
      " - final log10 cost value:  -6.299281388914781\n",
      " - converged:  True\n",
      "Done.\n",
      "Execution time:  1646.995368999982  seconds\n",
      "----------------------------------------\n"
     ]
    },
    {
     "name": "stderr",
     "output_type": "stream",
     "text": [
      "\u001b[33mWARNING\u001b[0m: Making input data immutable.\n"
     ]
    },
    {
     "name": "stdout",
     "output_type": "stream",
     "text": [
      "\n",
      "  _____             ____     _____      _\n",
      " |\" ___|    ___    / __\"| u |_ \" _| U  /\"\\  u\n",
      "U| |_  u   |_\"_|  <\\___ \\/    | |    \\/ _ \\/\n",
      "\\|  _|/     | |    u___) |   /| |\\   / ___ \\\\\n",
      " |_|      U/| |\\u  |____/>> u |_|U  /_/   \\_\\\\\n",
      " )(\\\\\\,-.-,_|___|_,-.)(  (__)_// \\\\\\_  \\\\\\    >>\n",
      "(__)(_/ \\_)-' '-(_/(__)    (__) (__)(__)  (__)\n",
      "    \n",
      " - mu:  4.6415888336127727e-10\n",
      " - lipschitz constant:  1.1000000000000798\n",
      " - data:  (640, 368)\n",
      " - wavelet:  <mri.reconstruct.linear.WaveletN object at 0x7fa415799198> - 4\n",
      " - max iterations:  200\n",
      " - image variable shape:  (640, 368)\n",
      " - alpha variable shape:  (235520,)\n",
      "----------------------------------------\n",
      "Starting optimization...\n"
     ]
    },
    {
     "name": "stderr",
     "output_type": "stream",
     "text": [
      "100% (200 of 200) |######################| Elapsed Time: 0:00:50 Time:  0:00:50\n"
     ]
    },
    {
     "name": "stdout",
     "output_type": "stream",
     "text": [
      " - final iteration number:  200\n",
      " - final log10 cost value:  -5.046437968245987\n",
      " - converged:  True\n",
      "Done.\n",
      "Execution time:  1631.5164740000037  seconds\n",
      "----------------------------------------\n"
     ]
    },
    {
     "name": "stderr",
     "output_type": "stream",
     "text": [
      "\u001b[33mWARNING\u001b[0m: Making input data immutable.\n"
     ]
    },
    {
     "name": "stdout",
     "output_type": "stream",
     "text": [
      "\n",
      "  _____             ____     _____      _\n",
      " |\" ___|    ___    / __\"| u |_ \" _| U  /\"\\  u\n",
      "U| |_  u   |_\"_|  <\\___ \\/    | |    \\/ _ \\/\n",
      "\\|  _|/     | |    u___) |   /| |\\   / ___ \\\\\n",
      " |_|      U/| |\\u  |____/>> u |_|U  /_/   \\_\\\\\n",
      " )(\\\\\\,-.-,_|___|_,-.)(  (__)_// \\\\\\_  \\\\\\    >>\n",
      "(__)(_/ \\_)-' '-(_/(__)    (__) (__)(__)  (__)\n",
      "    \n",
      " - mu:  4.6415888336127727e-10\n",
      " - lipschitz constant:  1.100000000000088\n",
      " - data:  (640, 368)\n",
      " - wavelet:  <mri.reconstruct.linear.WaveletN object at 0x7fa415766ac8> - 4\n",
      " - max iterations:  200\n",
      " - image variable shape:  (640, 368)\n",
      " - alpha variable shape:  (235520,)\n",
      "----------------------------------------\n",
      "Starting optimization...\n"
     ]
    },
    {
     "name": "stderr",
     "output_type": "stream",
     "text": [
      "100% (200 of 200) |######################| Elapsed Time: 0:00:50 Time:  0:00:50\n"
     ]
    },
    {
     "name": "stdout",
     "output_type": "stream",
     "text": [
      " - final iteration number:  200\n",
      " - final log10 cost value:  -5.3490363288939085\n",
      " - converged:  True\n",
      "Done.\n",
      "Execution time:  1556.9497149999952  seconds\n",
      "----------------------------------------\n"
     ]
    },
    {
     "name": "stderr",
     "output_type": "stream",
     "text": [
      "\u001b[33mWARNING\u001b[0m: Making input data immutable.\n"
     ]
    },
    {
     "name": "stdout",
     "output_type": "stream",
     "text": [
      "\n",
      "  _____             ____     _____      _\n",
      " |\" ___|    ___    / __\"| u |_ \" _| U  /\"\\  u\n",
      "U| |_  u   |_\"_|  <\\___ \\/    | |    \\/ _ \\/\n",
      "\\|  _|/     | |    u___) |   /| |\\   / ___ \\\\\n",
      " |_|      U/| |\\u  |____/>> u |_|U  /_/   \\_\\\\\n",
      " )(\\\\\\,-.-,_|___|_,-.)(  (__)_// \\\\\\_  \\\\\\    >>\n",
      "(__)(_/ \\_)-' '-(_/(__)    (__) (__)(__)  (__)\n",
      "    \n",
      " - mu:  4.6415888336127727e-10\n",
      " - lipschitz constant:  1.1000000000000694\n",
      " - data:  (640, 368)\n",
      " - wavelet:  <mri.reconstruct.linear.WaveletN object at 0x7fa415760160> - 4\n",
      " - max iterations:  200\n",
      " - image variable shape:  (640, 368)\n",
      " - alpha variable shape:  (235520,)\n",
      "----------------------------------------\n",
      "Starting optimization...\n"
     ]
    },
    {
     "name": "stderr",
     "output_type": "stream",
     "text": [
      "100% (200 of 200) |######################| Elapsed Time: 0:00:51 Time:  0:00:51\n"
     ]
    },
    {
     "name": "stdout",
     "output_type": "stream",
     "text": [
      " - final iteration number:  200\n",
      " - final log10 cost value:  -4.801880100051701\n",
      " - converged:  True\n",
      "Done.\n",
      "Execution time:  1571.054214999982  seconds\n",
      "----------------------------------------\n"
     ]
    },
    {
     "name": "stderr",
     "output_type": "stream",
     "text": [
      "\u001b[33mWARNING\u001b[0m: Making input data immutable.\n"
     ]
    },
    {
     "name": "stdout",
     "output_type": "stream",
     "text": [
      "\n",
      "  _____             ____     _____      _\n",
      " |\" ___|    ___    / __\"| u |_ \" _| U  /\"\\  u\n",
      "U| |_  u   |_\"_|  <\\___ \\/    | |    \\/ _ \\/\n",
      "\\|  _|/     | |    u___) |   /| |\\   / ___ \\\\\n",
      " |_|      U/| |\\u  |____/>> u |_|U  /_/   \\_\\\\\n",
      " )(\\\\\\,-.-,_|___|_,-.)(  (__)_// \\\\\\_  \\\\\\    >>\n",
      "(__)(_/ \\_)-' '-(_/(__)    (__) (__)(__)  (__)\n",
      "    \n",
      " - mu:  4.6415888336127727e-10\n",
      " - lipschitz constant:  1.1000000000000665\n",
      " - data:  (640, 372)\n",
      " - wavelet:  <mri.reconstruct.linear.WaveletN object at 0x7fa415760f28> - 4\n",
      " - max iterations:  200\n",
      " - image variable shape:  (640, 372)\n",
      " - alpha variable shape:  (238320,)\n",
      "----------------------------------------\n",
      "Starting optimization...\n"
     ]
    },
    {
     "name": "stderr",
     "output_type": "stream",
     "text": [
      "100% (200 of 200) |######################| Elapsed Time: 0:00:53 Time:  0:00:53\n"
     ]
    },
    {
     "name": "stdout",
     "output_type": "stream",
     "text": [
      " - final iteration number:  200\n",
      " - final log10 cost value:  -6.300477411146958\n",
      " - converged:  True\n",
      "Done.\n",
      "Execution time:  1551.170053000009  seconds\n",
      "----------------------------------------\n"
     ]
    },
    {
     "name": "stderr",
     "output_type": "stream",
     "text": [
      "\u001b[33mWARNING\u001b[0m: Making input data immutable.\n"
     ]
    },
    {
     "name": "stdout",
     "output_type": "stream",
     "text": [
      "\n",
      "  _____             ____     _____      _\n",
      " |\" ___|    ___    / __\"| u |_ \" _| U  /\"\\  u\n",
      "U| |_  u   |_\"_|  <\\___ \\/    | |    \\/ _ \\/\n",
      "\\|  _|/     | |    u___) |   /| |\\   / ___ \\\\\n",
      " |_|      U/| |\\u  |____/>> u |_|U  /_/   \\_\\\\\n",
      " )(\\\\\\,-.-,_|___|_,-.)(  (__)_// \\\\\\_  \\\\\\    >>\n",
      "(__)(_/ \\_)-' '-(_/(__)    (__) (__)(__)  (__)\n",
      "    \n",
      " - mu:  4.6415888336127727e-10\n",
      " - lipschitz constant:  1.099999999999976\n",
      " - data:  (640, 372)\n",
      " - wavelet:  <mri.reconstruct.linear.WaveletN object at 0x7fa415738c18> - 4\n",
      " - max iterations:  200\n",
      " - image variable shape:  (640, 372)\n",
      " - alpha variable shape:  (238320,)\n",
      "----------------------------------------\n",
      "Starting optimization...\n"
     ]
    },
    {
     "name": "stderr",
     "output_type": "stream",
     "text": [
      "100% (200 of 200) |######################| Elapsed Time: 0:00:53 Time:  0:00:53\n"
     ]
    },
    {
     "name": "stdout",
     "output_type": "stream",
     "text": [
      " - final iteration number:  200\n",
      " - final log10 cost value:  -6.478021954730058\n",
      " - converged:  True\n",
      "Done.\n",
      "Execution time:  1533.1889220000012  seconds\n",
      "----------------------------------------\n"
     ]
    },
    {
     "name": "stderr",
     "output_type": "stream",
     "text": [
      "\u001b[33mWARNING\u001b[0m: Making input data immutable.\n"
     ]
    },
    {
     "name": "stdout",
     "output_type": "stream",
     "text": [
      "\n",
      "  _____             ____     _____      _\n",
      " |\" ___|    ___    / __\"| u |_ \" _| U  /\"\\  u\n",
      "U| |_  u   |_\"_|  <\\___ \\/    | |    \\/ _ \\/\n",
      "\\|  _|/     | |    u___) |   /| |\\   / ___ \\\\\n",
      " |_|      U/| |\\u  |____/>> u |_|U  /_/   \\_\\\\\n",
      " )(\\\\\\,-.-,_|___|_,-.)(  (__)_// \\\\\\_  \\\\\\    >>\n",
      "(__)(_/ \\_)-' '-(_/(__)    (__) (__)(__)  (__)\n",
      "    \n",
      " - mu:  4.6415888336127727e-10\n",
      " - lipschitz constant:  1.1000000000000734\n",
      " - data:  (640, 368)\n",
      " - wavelet:  <mri.reconstruct.linear.WaveletN object at 0x7fa4157668d0> - 4\n",
      " - max iterations:  200\n",
      " - image variable shape:  (640, 368)\n",
      " - alpha variable shape:  (235520,)\n",
      "----------------------------------------\n",
      "Starting optimization...\n"
     ]
    },
    {
     "name": "stderr",
     "output_type": "stream",
     "text": [
      "100% (200 of 200) |######################| Elapsed Time: 0:00:51 Time:  0:00:51\n"
     ]
    },
    {
     "name": "stdout",
     "output_type": "stream",
     "text": [
      " - final iteration number:  200\n",
      " - final log10 cost value:  -5.016051704664077\n",
      " - converged:  True\n",
      "Done.\n",
      "Execution time:  1498.1514329999918  seconds\n",
      "----------------------------------------\n"
     ]
    },
    {
     "name": "stderr",
     "output_type": "stream",
     "text": [
      "\u001b[33mWARNING\u001b[0m: Making input data immutable.\n"
     ]
    },
    {
     "name": "stdout",
     "output_type": "stream",
     "text": [
      "\n",
      "  _____             ____     _____      _\n",
      " |\" ___|    ___    / __\"| u |_ \" _| U  /\"\\  u\n",
      "U| |_  u   |_\"_|  <\\___ \\/    | |    \\/ _ \\/\n",
      "\\|  _|/     | |    u___) |   /| |\\   / ___ \\\\\n",
      " |_|      U/| |\\u  |____/>> u |_|U  /_/   \\_\\\\\n",
      " )(\\\\\\,-.-,_|___|_,-.)(  (__)_// \\\\\\_  \\\\\\    >>\n",
      "(__)(_/ \\_)-' '-(_/(__)    (__) (__)(__)  (__)\n",
      "    \n",
      " - mu:  4.6415888336127727e-10\n",
      " - lipschitz constant:  1.0999999999999803\n",
      " - data:  (640, 368)\n",
      " - wavelet:  <mri.reconstruct.linear.WaveletN object at 0x7fa415738f60> - 4\n",
      " - max iterations:  200\n",
      " - image variable shape:  (640, 368)\n",
      " - alpha variable shape:  (235520,)\n",
      "----------------------------------------\n",
      "Starting optimization...\n"
     ]
    },
    {
     "name": "stderr",
     "output_type": "stream",
     "text": [
      "100% (200 of 200) |######################| Elapsed Time: 0:00:52 Time:  0:00:52\n"
     ]
    },
    {
     "name": "stdout",
     "output_type": "stream",
     "text": [
      " - final iteration number:  200\n",
      " - final log10 cost value:  -5.193165571213524\n",
      " - converged:  True\n",
      "Done.\n",
      "Execution time:  1547.0837769999926  seconds\n",
      "----------------------------------------\n",
      "\n"
     ]
    },
    {
     "data": {
      "application/vnd.jupyter.widget-view+json": {
       "model_id": "cb6d697b98944f31af5fda4f3ab08b05",
       "version_major": 2,
       "version_minor": 0
      },
      "text/plain": [
       "HBox(children=(FloatProgress(value=0.0, description='Stats', max=24.0, style=ProgressStyle(description_width='…"
      ]
     },
     "metadata": {},
     "output_type": "display_data"
    },
    {
     "name": "stdout",
     "output_type": "stream",
     "text": [
      "\n"
     ]
    },
    {
     "data": {
      "application/vnd.jupyter.widget-view+json": {
       "model_id": "323c0fc3259144878db1415ac0158e77",
       "version_major": 2,
       "version_minor": 0
      },
      "text/plain": [
       "HBox(children=(FloatProgress(value=0.0, description='K-spaces', max=24.0, style=ProgressStyle(description_widt…"
      ]
     },
     "metadata": {},
     "output_type": "display_data"
    },
    {
     "name": "stderr",
     "output_type": "stream",
     "text": [
      "\u001b[33mWARNING\u001b[0m: Making input data immutable.\n"
     ]
    },
    {
     "name": "stdout",
     "output_type": "stream",
     "text": [
      "\n",
      "  _____             ____     _____      _\n",
      " |\" ___|    ___    / __\"| u |_ \" _| U  /\"\\  u\n",
      "U| |_  u   |_\"_|  <\\___ \\/    | |    \\/ _ \\/\n",
      "\\|  _|/     | |    u___) |   /| |\\   / ___ \\\\\n",
      " |_|      U/| |\\u  |____/>> u |_|U  /_/   \\_\\\\\n",
      " )(\\\\\\,-.-,_|___|_,-.)(  (__)_// \\\\\\_  \\\\\\    >>\n",
      "(__)(_/ \\_)-' '-(_/(__)    (__) (__)(__)  (__)\n",
      "    \n",
      " - mu:  1e-09\n",
      " - lipschitz constant:  1.1000000000001449\n",
      " - data:  (640, 368)\n",
      " - wavelet:  <mri.reconstruct.linear.WaveletN object at 0x7fa41578e630> - 4\n",
      " - max iterations:  200\n",
      " - image variable shape:  (640, 368)\n",
      " - alpha variable shape:  (235520,)\n",
      "----------------------------------------\n",
      "Starting optimization...\n"
     ]
    },
    {
     "name": "stderr",
     "output_type": "stream",
     "text": [
      "100% (200 of 200) |######################| Elapsed Time: 0:00:51 Time:  0:00:51\n"
     ]
    },
    {
     "name": "stdout",
     "output_type": "stream",
     "text": [
      " - final iteration number:  200\n",
      " - final log10 cost value:  -5.301385037964724\n",
      " - converged:  True\n",
      "Done.\n",
      "Execution time:  1505.342249999987  seconds\n",
      "----------------------------------------\n"
     ]
    },
    {
     "name": "stderr",
     "output_type": "stream",
     "text": [
      "\u001b[33mWARNING\u001b[0m: Making input data immutable.\n"
     ]
    },
    {
     "name": "stdout",
     "output_type": "stream",
     "text": [
      "\n",
      "  _____             ____     _____      _\n",
      " |\" ___|    ___    / __\"| u |_ \" _| U  /\"\\  u\n",
      "U| |_  u   |_\"_|  <\\___ \\/    | |    \\/ _ \\/\n",
      "\\|  _|/     | |    u___) |   /| |\\   / ___ \\\\\n",
      " |_|      U/| |\\u  |____/>> u |_|U  /_/   \\_\\\\\n",
      " )(\\\\\\,-.-,_|___|_,-.)(  (__)_// \\\\\\_  \\\\\\    >>\n",
      "(__)(_/ \\_)-' '-(_/(__)    (__) (__)(__)  (__)\n",
      "    \n",
      " - mu:  1e-09\n",
      " - lipschitz constant:  1.100000000000071\n",
      " - data:  (640, 372)\n",
      " - wavelet:  <mri.reconstruct.linear.WaveletN object at 0x7fa415766f28> - 4\n",
      " - max iterations:  200\n",
      " - image variable shape:  (640, 372)\n",
      " - alpha variable shape:  (238320,)\n",
      "----------------------------------------\n",
      "Starting optimization...\n"
     ]
    },
    {
     "name": "stderr",
     "output_type": "stream",
     "text": [
      "100% (200 of 200) |######################| Elapsed Time: 0:00:52 Time:  0:00:52\n"
     ]
    },
    {
     "name": "stdout",
     "output_type": "stream",
     "text": [
      " - final iteration number:  200\n",
      " - final log10 cost value:  -6.258356024028352\n",
      " - converged:  True\n",
      "Done.\n",
      "Execution time:  1562.9389329999976  seconds\n",
      "----------------------------------------\n"
     ]
    },
    {
     "name": "stderr",
     "output_type": "stream",
     "text": [
      "\u001b[33mWARNING\u001b[0m: Making input data immutable.\n"
     ]
    },
    {
     "name": "stdout",
     "output_type": "stream",
     "text": [
      "\n",
      "  _____             ____     _____      _\n",
      " |\" ___|    ___    / __\"| u |_ \" _| U  /\"\\  u\n",
      "U| |_  u   |_\"_|  <\\___ \\/    | |    \\/ _ \\/\n",
      "\\|  _|/     | |    u___) |   /| |\\   / ___ \\\\\n",
      " |_|      U/| |\\u  |____/>> u |_|U  /_/   \\_\\\\\n",
      " )(\\\\\\,-.-,_|___|_,-.)(  (__)_// \\\\\\_  \\\\\\    >>\n",
      "(__)(_/ \\_)-' '-(_/(__)    (__) (__)(__)  (__)\n",
      "    \n",
      " - mu:  1e-09\n",
      " - lipschitz constant:  1.0999999999999808\n",
      " - data:  (640, 368)\n",
      " - wavelet:  <mri.reconstruct.linear.WaveletN object at 0x7fa41578eb70> - 4\n",
      " - max iterations:  200\n",
      " - image variable shape:  (640, 368)\n",
      " - alpha variable shape:  (235520,)\n",
      "----------------------------------------\n",
      "Starting optimization...\n"
     ]
    },
    {
     "name": "stderr",
     "output_type": "stream",
     "text": [
      "100% (200 of 200) |######################| Elapsed Time: 0:00:50 Time:  0:00:50\n"
     ]
    },
    {
     "name": "stdout",
     "output_type": "stream",
     "text": [
      " - final iteration number:  200\n",
      " - final log10 cost value:  -5.316313571646152\n",
      " - converged:  True\n",
      "Done.\n",
      "Execution time:  1636.306958000001  seconds\n",
      "----------------------------------------\n"
     ]
    },
    {
     "name": "stderr",
     "output_type": "stream",
     "text": [
      "\u001b[33mWARNING\u001b[0m: Making input data immutable.\n"
     ]
    },
    {
     "name": "stdout",
     "output_type": "stream",
     "text": [
      "\n",
      "  _____             ____     _____      _\n",
      " |\" ___|    ___    / __\"| u |_ \" _| U  /\"\\  u\n",
      "U| |_  u   |_\"_|  <\\___ \\/    | |    \\/ _ \\/\n",
      "\\|  _|/     | |    u___) |   /| |\\   / ___ \\\\\n",
      " |_|      U/| |\\u  |____/>> u |_|U  /_/   \\_\\\\\n",
      " )(\\\\\\,-.-,_|___|_,-.)(  (__)_// \\\\\\_  \\\\\\    >>\n",
      "(__)(_/ \\_)-' '-(_/(__)    (__) (__)(__)  (__)\n",
      "    \n",
      " - mu:  1e-09\n",
      " - lipschitz constant:  1.0999999999999814\n",
      " - data:  (640, 368)\n",
      " - wavelet:  <mri.reconstruct.linear.WaveletN object at 0x7fa4156f2908> - 4\n",
      " - max iterations:  200\n",
      " - image variable shape:  (640, 368)\n",
      " - alpha variable shape:  (235520,)\n",
      "----------------------------------------\n",
      "Starting optimization...\n"
     ]
    },
    {
     "name": "stderr",
     "output_type": "stream",
     "text": [
      "100% (200 of 200) |######################| Elapsed Time: 0:00:50 Time:  0:00:50\n"
     ]
    },
    {
     "name": "stdout",
     "output_type": "stream",
     "text": [
      " - final iteration number:  200\n",
      " - final log10 cost value:  -5.200147619692579\n",
      " - converged:  True\n",
      "Done.\n",
      "Execution time:  1574.1924430000072  seconds\n",
      "----------------------------------------\n"
     ]
    },
    {
     "name": "stderr",
     "output_type": "stream",
     "text": [
      "\u001b[33mWARNING\u001b[0m: Making input data immutable.\n"
     ]
    },
    {
     "name": "stdout",
     "output_type": "stream",
     "text": [
      "\n",
      "  _____             ____     _____      _\n",
      " |\" ___|    ___    / __\"| u |_ \" _| U  /\"\\  u\n",
      "U| |_  u   |_\"_|  <\\___ \\/    | |    \\/ _ \\/\n",
      "\\|  _|/     | |    u___) |   /| |\\   / ___ \\\\\n",
      " |_|      U/| |\\u  |____/>> u |_|U  /_/   \\_\\\\\n",
      " )(\\\\\\,-.-,_|___|_,-.)(  (__)_// \\\\\\_  \\\\\\    >>\n",
      "(__)(_/ \\_)-' '-(_/(__)    (__) (__)(__)  (__)\n",
      "    \n",
      " - mu:  1e-09\n",
      " - lipschitz constant:  1.1000000000000654\n",
      " - data:  (640, 372)\n",
      " - wavelet:  <mri.reconstruct.linear.WaveletN object at 0x7fa415766c50> - 4\n",
      " - max iterations:  200\n",
      " - image variable shape:  (640, 372)\n",
      " - alpha variable shape:  (238320,)\n",
      "----------------------------------------\n",
      "Starting optimization...\n"
     ]
    },
    {
     "name": "stderr",
     "output_type": "stream",
     "text": [
      "100% (200 of 200) |######################| Elapsed Time: 0:00:54 Time:  0:00:54\n"
     ]
    },
    {
     "name": "stdout",
     "output_type": "stream",
     "text": [
      " - final iteration number:  200\n",
      " - final log10 cost value:  -6.053394900076589\n",
      " - converged:  True\n",
      "Done.\n",
      "Execution time:  1604.0512919999892  seconds\n",
      "----------------------------------------\n"
     ]
    },
    {
     "name": "stderr",
     "output_type": "stream",
     "text": [
      "\u001b[33mWARNING\u001b[0m: Making input data immutable.\n"
     ]
    },
    {
     "name": "stdout",
     "output_type": "stream",
     "text": [
      "\n",
      "  _____             ____     _____      _\n",
      " |\" ___|    ___    / __\"| u |_ \" _| U  /\"\\  u\n",
      "U| |_  u   |_\"_|  <\\___ \\/    | |    \\/ _ \\/\n",
      "\\|  _|/     | |    u___) |   /| |\\   / ___ \\\\\n",
      " |_|      U/| |\\u  |____/>> u |_|U  /_/   \\_\\\\\n",
      " )(\\\\\\,-.-,_|___|_,-.)(  (__)_// \\\\\\_  \\\\\\    >>\n",
      "(__)(_/ \\_)-' '-(_/(__)    (__) (__)(__)  (__)\n",
      "    \n",
      " - mu:  1e-09\n",
      " - lipschitz constant:  1.0999999999999823\n",
      " - data:  (640, 372)\n",
      " - wavelet:  <mri.reconstruct.linear.WaveletN object at 0x7fa41578e630> - 4\n",
      " - max iterations:  200\n",
      " - image variable shape:  (640, 372)\n",
      " - alpha variable shape:  (238320,)\n",
      "----------------------------------------\n",
      "Starting optimization...\n"
     ]
    },
    {
     "name": "stderr",
     "output_type": "stream",
     "text": [
      "100% (200 of 200) |######################| Elapsed Time: 0:00:53 Time:  0:00:53\n"
     ]
    },
    {
     "name": "stdout",
     "output_type": "stream",
     "text": [
      " - final iteration number:  200\n",
      " - final log10 cost value:  -6.319177152154036\n",
      " - converged:  True\n",
      "Done.\n",
      "Execution time:  1554.4649679999857  seconds\n",
      "----------------------------------------\n"
     ]
    },
    {
     "name": "stderr",
     "output_type": "stream",
     "text": [
      "\u001b[33mWARNING\u001b[0m: Making input data immutable.\n"
     ]
    },
    {
     "name": "stdout",
     "output_type": "stream",
     "text": [
      "\n",
      "  _____             ____     _____      _\n",
      " |\" ___|    ___    / __\"| u |_ \" _| U  /\"\\  u\n",
      "U| |_  u   |_\"_|  <\\___ \\/    | |    \\/ _ \\/\n",
      "\\|  _|/     | |    u___) |   /| |\\   / ___ \\\\\n",
      " |_|      U/| |\\u  |____/>> u |_|U  /_/   \\_\\\\\n",
      " )(\\\\\\,-.-,_|___|_,-.)(  (__)_// \\\\\\_  \\\\\\    >>\n",
      "(__)(_/ \\_)-' '-(_/(__)    (__) (__)(__)  (__)\n",
      "    \n",
      " - mu:  1e-09\n",
      " - lipschitz constant:  1.1000000000000838\n",
      " - data:  (640, 372)\n",
      " - wavelet:  <mri.reconstruct.linear.WaveletN object at 0x7fa4157604e0> - 4\n",
      " - max iterations:  200\n",
      " - image variable shape:  (640, 372)\n",
      " - alpha variable shape:  (238320,)\n",
      "----------------------------------------\n",
      "Starting optimization...\n"
     ]
    },
    {
     "name": "stderr",
     "output_type": "stream",
     "text": [
      "100% (200 of 200) |######################| Elapsed Time: 0:00:54 Time:  0:00:54\n"
     ]
    },
    {
     "name": "stdout",
     "output_type": "stream",
     "text": [
      " - final iteration number:  200\n",
      " - final log10 cost value:  -6.252545127177224\n",
      " - converged:  True\n",
      "Done.\n",
      "Execution time:  1584.9791199999745  seconds\n",
      "----------------------------------------\n"
     ]
    },
    {
     "name": "stderr",
     "output_type": "stream",
     "text": [
      "\u001b[33mWARNING\u001b[0m: Making input data immutable.\n"
     ]
    },
    {
     "name": "stdout",
     "output_type": "stream",
     "text": [
      "\n",
      "  _____             ____     _____      _\n",
      " |\" ___|    ___    / __\"| u |_ \" _| U  /\"\\  u\n",
      "U| |_  u   |_\"_|  <\\___ \\/    | |    \\/ _ \\/\n",
      "\\|  _|/     | |    u___) |   /| |\\   / ___ \\\\\n",
      " |_|      U/| |\\u  |____/>> u |_|U  /_/   \\_\\\\\n",
      " )(\\\\\\,-.-,_|___|_,-.)(  (__)_// \\\\\\_  \\\\\\    >>\n",
      "(__)(_/ \\_)-' '-(_/(__)    (__) (__)(__)  (__)\n",
      "    \n",
      " - mu:  1e-09\n",
      " - lipschitz constant:  1.099999999999975\n",
      " - data:  (640, 356)\n",
      " - wavelet:  <mri.reconstruct.linear.WaveletN object at 0x7fa4156f2e48> - 4\n",
      " - max iterations:  200\n",
      " - image variable shape:  (640, 356)\n",
      " - alpha variable shape:  (228080,)\n",
      "----------------------------------------\n",
      "Starting optimization...\n"
     ]
    },
    {
     "name": "stderr",
     "output_type": "stream",
     "text": [
      "100% (200 of 200) |######################| Elapsed Time: 0:00:59 Time:  0:00:59\n"
     ]
    },
    {
     "name": "stdout",
     "output_type": "stream",
     "text": [
      " - final iteration number:  200\n",
      " - final log10 cost value:  -4.918132160862778\n",
      " - converged:  True\n",
      "Done.\n",
      "Execution time:  1647.8298869999999  seconds\n",
      "----------------------------------------\n"
     ]
    },
    {
     "name": "stderr",
     "output_type": "stream",
     "text": [
      "\u001b[33mWARNING\u001b[0m: Making input data immutable.\n"
     ]
    },
    {
     "name": "stdout",
     "output_type": "stream",
     "text": [
      "\n",
      "  _____             ____     _____      _\n",
      " |\" ___|    ___    / __\"| u |_ \" _| U  /\"\\  u\n",
      "U| |_  u   |_\"_|  <\\___ \\/    | |    \\/ _ \\/\n",
      "\\|  _|/     | |    u___) |   /| |\\   / ___ \\\\\n",
      " |_|      U/| |\\u  |____/>> u |_|U  /_/   \\_\\\\\n",
      " )(\\\\\\,-.-,_|___|_,-.)(  (__)_// \\\\\\_  \\\\\\    >>\n",
      "(__)(_/ \\_)-' '-(_/(__)    (__) (__)(__)  (__)\n",
      "    \n",
      " - mu:  1e-09\n",
      " - lipschitz constant:  1.100000000000075\n",
      " - data:  (640, 368)\n",
      " - wavelet:  <mri.reconstruct.linear.WaveletN object at 0x7fa415766f28> - 4\n",
      " - max iterations:  200\n",
      " - image variable shape:  (640, 368)\n",
      " - alpha variable shape:  (235520,)\n",
      "----------------------------------------\n",
      "Starting optimization...\n"
     ]
    },
    {
     "name": "stderr",
     "output_type": "stream",
     "text": [
      "100% (200 of 200) |######################| Elapsed Time: 0:00:52 Time:  0:00:52\n"
     ]
    },
    {
     "name": "stdout",
     "output_type": "stream",
     "text": [
      " - final iteration number:  200\n",
      " - final log10 cost value:  -5.609753904670292\n",
      " - converged:  True\n",
      "Done.\n",
      "Execution time:  1568.3410880000156  seconds\n",
      "----------------------------------------\n"
     ]
    },
    {
     "name": "stderr",
     "output_type": "stream",
     "text": [
      "\u001b[33mWARNING\u001b[0m: Making input data immutable.\n"
     ]
    },
    {
     "name": "stdout",
     "output_type": "stream",
     "text": [
      "\n",
      "  _____             ____     _____      _\n",
      " |\" ___|    ___    / __\"| u |_ \" _| U  /\"\\  u\n",
      "U| |_  u   |_\"_|  <\\___ \\/    | |    \\/ _ \\/\n",
      "\\|  _|/     | |    u___) |   /| |\\   / ___ \\\\\n",
      " |_|      U/| |\\u  |____/>> u |_|U  /_/   \\_\\\\\n",
      " )(\\\\\\,-.-,_|___|_,-.)(  (__)_// \\\\\\_  \\\\\\    >>\n",
      "(__)(_/ \\_)-' '-(_/(__)    (__) (__)(__)  (__)\n",
      "    \n",
      " - mu:  1e-09\n",
      " - lipschitz constant:  1.0999999999999754\n",
      " - data:  (640, 372)\n",
      " - wavelet:  <mri.reconstruct.linear.WaveletN object at 0x7fa4156f2c18> - 4\n",
      " - max iterations:  200\n",
      " - image variable shape:  (640, 372)\n",
      " - alpha variable shape:  (238320,)\n",
      "----------------------------------------\n",
      "Starting optimization...\n"
     ]
    },
    {
     "name": "stderr",
     "output_type": "stream",
     "text": [
      "100% (200 of 200) |######################| Elapsed Time: 0:00:52 Time:  0:00:52\n"
     ]
    },
    {
     "name": "stdout",
     "output_type": "stream",
     "text": [
      " - final iteration number:  200\n",
      " - final log10 cost value:  -6.502182833200285\n",
      " - converged:  True\n",
      "Done.\n",
      "Execution time:  1561.3500100000238  seconds\n",
      "----------------------------------------\n"
     ]
    },
    {
     "name": "stderr",
     "output_type": "stream",
     "text": [
      "\u001b[33mWARNING\u001b[0m: Making input data immutable.\n"
     ]
    },
    {
     "name": "stdout",
     "output_type": "stream",
     "text": [
      "\n",
      "  _____             ____     _____      _\n",
      " |\" ___|    ___    / __\"| u |_ \" _| U  /\"\\  u\n",
      "U| |_  u   |_\"_|  <\\___ \\/    | |    \\/ _ \\/\n",
      "\\|  _|/     | |    u___) |   /| |\\   / ___ \\\\\n",
      " |_|      U/| |\\u  |____/>> u |_|U  /_/   \\_\\\\\n",
      " )(\\\\\\,-.-,_|___|_,-.)(  (__)_// \\\\\\_  \\\\\\    >>\n",
      "(__)(_/ \\_)-' '-(_/(__)    (__) (__)(__)  (__)\n",
      "    \n",
      " - mu:  1e-09\n",
      " - lipschitz constant:  1.099999999999985\n",
      " - data:  (640, 368)\n",
      " - wavelet:  <mri.reconstruct.linear.WaveletN object at 0x7fa41570e668> - 4\n",
      " - max iterations:  200\n",
      " - image variable shape:  (640, 368)\n",
      " - alpha variable shape:  (235520,)\n",
      "----------------------------------------\n",
      "Starting optimization...\n"
     ]
    },
    {
     "name": "stderr",
     "output_type": "stream",
     "text": [
      "100% (200 of 200) |######################| Elapsed Time: 0:00:51 Time:  0:00:51\n"
     ]
    },
    {
     "name": "stdout",
     "output_type": "stream",
     "text": [
      " - final iteration number:  200\n",
      " - final log10 cost value:  -5.442332410190506\n",
      " - converged:  True\n",
      "Done.\n",
      "Execution time:  1514.8848550000112  seconds\n",
      "----------------------------------------\n"
     ]
    },
    {
     "name": "stderr",
     "output_type": "stream",
     "text": [
      "\u001b[33mWARNING\u001b[0m: Making input data immutable.\n"
     ]
    },
    {
     "name": "stdout",
     "output_type": "stream",
     "text": [
      "\n",
      "  _____             ____     _____      _\n",
      " |\" ___|    ___    / __\"| u |_ \" _| U  /\"\\  u\n",
      "U| |_  u   |_\"_|  <\\___ \\/    | |    \\/ _ \\/\n",
      "\\|  _|/     | |    u___) |   /| |\\   / ___ \\\\\n",
      " |_|      U/| |\\u  |____/>> u |_|U  /_/   \\_\\\\\n",
      " )(\\\\\\,-.-,_|___|_,-.)(  (__)_// \\\\\\_  \\\\\\    >>\n",
      "(__)(_/ \\_)-' '-(_/(__)    (__) (__)(__)  (__)\n",
      "    \n",
      " - mu:  1e-09\n",
      " - lipschitz constant:  1.1000000000000287\n",
      " - data:  (640, 372)\n",
      " - wavelet:  <mri.reconstruct.linear.WaveletN object at 0x7fa415777e80> - 4\n",
      " - max iterations:  200\n",
      " - image variable shape:  (640, 372)\n",
      " - alpha variable shape:  (238320,)\n",
      "----------------------------------------\n",
      "Starting optimization...\n"
     ]
    },
    {
     "name": "stderr",
     "output_type": "stream",
     "text": [
      "100% (200 of 200) |######################| Elapsed Time: 0:00:52 Time:  0:00:52\n"
     ]
    },
    {
     "name": "stdout",
     "output_type": "stream",
     "text": [
      " - final iteration number:  200\n",
      " - final log10 cost value:  -6.328210061474686\n",
      " - converged:  True\n",
      "Done.\n",
      "Execution time:  1595.6319779999903  seconds\n",
      "----------------------------------------\n"
     ]
    },
    {
     "name": "stderr",
     "output_type": "stream",
     "text": [
      "\u001b[33mWARNING\u001b[0m: Making input data immutable.\n"
     ]
    },
    {
     "name": "stdout",
     "output_type": "stream",
     "text": [
      "\n",
      "  _____             ____     _____      _\n",
      " |\" ___|    ___    / __\"| u |_ \" _| U  /\"\\  u\n",
      "U| |_  u   |_\"_|  <\\___ \\/    | |    \\/ _ \\/\n",
      "\\|  _|/     | |    u___) |   /| |\\   / ___ \\\\\n",
      " |_|      U/| |\\u  |____/>> u |_|U  /_/   \\_\\\\\n",
      " )(\\\\\\,-.-,_|___|_,-.)(  (__)_// \\\\\\_  \\\\\\    >>\n",
      "(__)(_/ \\_)-' '-(_/(__)    (__) (__)(__)  (__)\n",
      "    \n",
      " - mu:  1e-09\n",
      " - lipschitz constant:  1.1000000000000287\n",
      " - data:  (640, 372)\n",
      " - wavelet:  <mri.reconstruct.linear.WaveletN object at 0x7fa41570e198> - 4\n",
      " - max iterations:  200\n",
      " - image variable shape:  (640, 372)\n",
      " - alpha variable shape:  (238320,)\n",
      "----------------------------------------\n",
      "Starting optimization...\n"
     ]
    },
    {
     "name": "stderr",
     "output_type": "stream",
     "text": [
      "100% (200 of 200) |######################| Elapsed Time: 0:00:55 Time:  0:00:55\n"
     ]
    },
    {
     "name": "stdout",
     "output_type": "stream",
     "text": [
      " - final iteration number:  200\n",
      " - final log10 cost value:  -6.361413130873295\n",
      " - converged:  True\n",
      "Done.\n",
      "Execution time:  1531.53592200001  seconds\n",
      "----------------------------------------\n"
     ]
    },
    {
     "name": "stderr",
     "output_type": "stream",
     "text": [
      "\u001b[33mWARNING\u001b[0m: Making input data immutable.\n"
     ]
    },
    {
     "name": "stdout",
     "output_type": "stream",
     "text": [
      "\n",
      "  _____             ____     _____      _\n",
      " |\" ___|    ___    / __\"| u |_ \" _| U  /\"\\  u\n",
      "U| |_  u   |_\"_|  <\\___ \\/    | |    \\/ _ \\/\n",
      "\\|  _|/     | |    u___) |   /| |\\   / ___ \\\\\n",
      " |_|      U/| |\\u  |____/>> u |_|U  /_/   \\_\\\\\n",
      " )(\\\\\\,-.-,_|___|_,-.)(  (__)_// \\\\\\_  \\\\\\    >>\n",
      "(__)(_/ \\_)-' '-(_/(__)    (__) (__)(__)  (__)\n",
      "    \n",
      " - mu:  1e-09\n",
      " - lipschitz constant:  1.0999999999999819\n",
      " - data:  (640, 372)\n",
      " - wavelet:  <mri.reconstruct.linear.WaveletN object at 0x7fa41570e438> - 4\n",
      " - max iterations:  200\n",
      " - image variable shape:  (640, 372)\n",
      " - alpha variable shape:  (238320,)\n",
      "----------------------------------------\n",
      "Starting optimization...\n"
     ]
    },
    {
     "name": "stderr",
     "output_type": "stream",
     "text": [
      "100% (200 of 200) |######################| Elapsed Time: 0:00:52 Time:  0:00:52\n"
     ]
    },
    {
     "name": "stdout",
     "output_type": "stream",
     "text": [
      " - final iteration number:  200\n",
      " - final log10 cost value:  -6.246367110371379\n",
      " - converged:  True\n",
      "Done.\n",
      "Execution time:  1588.5399390000093  seconds\n",
      "----------------------------------------\n"
     ]
    },
    {
     "name": "stderr",
     "output_type": "stream",
     "text": [
      "\u001b[33mWARNING\u001b[0m: Making input data immutable.\n"
     ]
    },
    {
     "name": "stdout",
     "output_type": "stream",
     "text": [
      "\n",
      "  _____             ____     _____      _\n",
      " |\" ___|    ___    / __\"| u |_ \" _| U  /\"\\  u\n",
      "U| |_  u   |_\"_|  <\\___ \\/    | |    \\/ _ \\/\n",
      "\\|  _|/     | |    u___) |   /| |\\   / ___ \\\\\n",
      " |_|      U/| |\\u  |____/>> u |_|U  /_/   \\_\\\\\n",
      " )(\\\\\\,-.-,_|___|_,-.)(  (__)_// \\\\\\_  \\\\\\    >>\n",
      "(__)(_/ \\_)-' '-(_/(__)    (__) (__)(__)  (__)\n",
      "    \n",
      " - mu:  1e-09\n",
      " - lipschitz constant:  1.1000000000000307\n",
      " - data:  (640, 386)\n",
      " - wavelet:  <mri.reconstruct.linear.WaveletN object at 0x7fa4156f20f0> - 4\n",
      " - max iterations:  200\n",
      " - image variable shape:  (640, 386)\n",
      " - alpha variable shape:  (247600,)\n",
      "----------------------------------------\n",
      "Starting optimization...\n"
     ]
    },
    {
     "name": "stderr",
     "output_type": "stream",
     "text": [
      "100% (200 of 200) |######################| Elapsed Time: 0:01:02 Time:  0:01:02\n"
     ]
    },
    {
     "name": "stdout",
     "output_type": "stream",
     "text": [
      " - final iteration number:  200\n",
      " - final log10 cost value:  -6.144802362347721\n",
      " - converged:  True\n",
      "Done.\n",
      "Execution time:  1784.6908770000155  seconds\n",
      "----------------------------------------\n"
     ]
    },
    {
     "name": "stderr",
     "output_type": "stream",
     "text": [
      "\u001b[33mWARNING\u001b[0m: Making input data immutable.\n"
     ]
    },
    {
     "name": "stdout",
     "output_type": "stream",
     "text": [
      "\n",
      "  _____             ____     _____      _\n",
      " |\" ___|    ___    / __\"| u |_ \" _| U  /\"\\  u\n",
      "U| |_  u   |_\"_|  <\\___ \\/    | |    \\/ _ \\/\n",
      "\\|  _|/     | |    u___) |   /| |\\   / ___ \\\\\n",
      " |_|      U/| |\\u  |____/>> u |_|U  /_/   \\_\\\\\n",
      " )(\\\\\\,-.-,_|___|_,-.)(  (__)_// \\\\\\_  \\\\\\    >>\n",
      "(__)(_/ \\_)-' '-(_/(__)    (__) (__)(__)  (__)\n",
      "    \n",
      " - mu:  1e-09\n",
      " - lipschitz constant:  1.0999999999999808\n",
      " - data:  (640, 388)\n",
      " - wavelet:  <mri.reconstruct.linear.WaveletN object at 0x7fa4156f2668> - 4\n",
      " - max iterations:  200\n",
      " - image variable shape:  (640, 388)\n",
      " - alpha variable shape:  (248560,)\n",
      "----------------------------------------\n",
      "Starting optimization...\n"
     ]
    },
    {
     "name": "stderr",
     "output_type": "stream",
     "text": [
      "100% (200 of 200) |######################| Elapsed Time: 0:01:03 Time:  0:01:03\n"
     ]
    },
    {
     "name": "stdout",
     "output_type": "stream",
     "text": [
      " - final iteration number:  200\n",
      " - final log10 cost value:  -5.83184023365012\n",
      " - converged:  True\n",
      "Done.\n",
      "Execution time:  1865.1285700000008  seconds\n",
      "----------------------------------------\n"
     ]
    },
    {
     "name": "stderr",
     "output_type": "stream",
     "text": [
      "\u001b[33mWARNING\u001b[0m: Making input data immutable.\n"
     ]
    },
    {
     "name": "stdout",
     "output_type": "stream",
     "text": [
      "\n",
      "  _____             ____     _____      _\n",
      " |\" ___|    ___    / __\"| u |_ \" _| U  /\"\\  u\n",
      "U| |_  u   |_\"_|  <\\___ \\/    | |    \\/ _ \\/\n",
      "\\|  _|/     | |    u___) |   /| |\\   / ___ \\\\\n",
      " |_|      U/| |\\u  |____/>> u |_|U  /_/   \\_\\\\\n",
      " )(\\\\\\,-.-,_|___|_,-.)(  (__)_// \\\\\\_  \\\\\\    >>\n",
      "(__)(_/ \\_)-' '-(_/(__)    (__) (__)(__)  (__)\n",
      "    \n",
      " - mu:  1e-09\n",
      " - lipschitz constant:  1.099999999999979\n",
      " - data:  (640, 372)\n",
      " - wavelet:  <mri.reconstruct.linear.WaveletN object at 0x7fa4156f29e8> - 4\n",
      " - max iterations:  200\n",
      " - image variable shape:  (640, 372)\n",
      " - alpha variable shape:  (238320,)\n",
      "----------------------------------------\n",
      "Starting optimization...\n"
     ]
    },
    {
     "name": "stderr",
     "output_type": "stream",
     "text": [
      "100% (200 of 200) |######################| Elapsed Time: 0:00:52 Time:  0:00:52\n"
     ]
    },
    {
     "name": "stdout",
     "output_type": "stream",
     "text": [
      " - final iteration number:  200\n",
      " - final log10 cost value:  -6.3007439418704125\n",
      " - converged:  True\n",
      "Done.\n",
      "Execution time:  1692.5009730000165  seconds\n",
      "----------------------------------------\n"
     ]
    },
    {
     "name": "stderr",
     "output_type": "stream",
     "text": [
      "\u001b[33mWARNING\u001b[0m: Making input data immutable.\n"
     ]
    },
    {
     "name": "stdout",
     "output_type": "stream",
     "text": [
      "\n",
      "  _____             ____     _____      _\n",
      " |\" ___|    ___    / __\"| u |_ \" _| U  /\"\\  u\n",
      "U| |_  u   |_\"_|  <\\___ \\/    | |    \\/ _ \\/\n",
      "\\|  _|/     | |    u___) |   /| |\\   / ___ \\\\\n",
      " |_|      U/| |\\u  |____/>> u |_|U  /_/   \\_\\\\\n",
      " )(\\\\\\,-.-,_|___|_,-.)(  (__)_// \\\\\\_  \\\\\\    >>\n",
      "(__)(_/ \\_)-' '-(_/(__)    (__) (__)(__)  (__)\n",
      "    \n",
      " - mu:  1e-09\n",
      " - lipschitz constant:  1.1000000000000618\n",
      " - data:  (640, 368)\n",
      " - wavelet:  <mri.reconstruct.linear.WaveletN object at 0x7fa415720ac8> - 4\n",
      " - max iterations:  200\n",
      " - image variable shape:  (640, 368)\n",
      " - alpha variable shape:  (235520,)\n",
      "----------------------------------------\n",
      "Starting optimization...\n"
     ]
    },
    {
     "name": "stderr",
     "output_type": "stream",
     "text": [
      "100% (200 of 200) |######################| Elapsed Time: 0:00:50 Time:  0:00:50\n"
     ]
    },
    {
     "name": "stdout",
     "output_type": "stream",
     "text": [
      " - final iteration number:  200\n",
      " - final log10 cost value:  -5.637752071845453\n",
      " - converged:  True\n",
      "Done.\n",
      "Execution time:  1638.8941259999992  seconds\n",
      "----------------------------------------\n"
     ]
    },
    {
     "name": "stderr",
     "output_type": "stream",
     "text": [
      "\u001b[33mWARNING\u001b[0m: Making input data immutable.\n"
     ]
    },
    {
     "name": "stdout",
     "output_type": "stream",
     "text": [
      "\n",
      "  _____             ____     _____      _\n",
      " |\" ___|    ___    / __\"| u |_ \" _| U  /\"\\  u\n",
      "U| |_  u   |_\"_|  <\\___ \\/    | |    \\/ _ \\/\n",
      "\\|  _|/     | |    u___) |   /| |\\   / ___ \\\\\n",
      " |_|      U/| |\\u  |____/>> u |_|U  /_/   \\_\\\\\n",
      " )(\\\\\\,-.-,_|___|_,-.)(  (__)_// \\\\\\_  \\\\\\    >>\n",
      "(__)(_/ \\_)-' '-(_/(__)    (__) (__)(__)  (__)\n",
      "    \n",
      " - mu:  1e-09\n",
      " - lipschitz constant:  1.1000000000000663\n",
      " - data:  (640, 368)\n",
      " - wavelet:  <mri.reconstruct.linear.WaveletN object at 0x7fa41570e400> - 4\n",
      " - max iterations:  200\n",
      " - image variable shape:  (640, 368)\n",
      " - alpha variable shape:  (235520,)\n",
      "----------------------------------------\n",
      "Starting optimization...\n"
     ]
    },
    {
     "name": "stderr",
     "output_type": "stream",
     "text": [
      "100% (200 of 200) |######################| Elapsed Time: 0:00:50 Time:  0:00:50\n"
     ]
    },
    {
     "name": "stdout",
     "output_type": "stream",
     "text": [
      " - final iteration number:  200\n",
      " - final log10 cost value:  -5.123650757589723\n",
      " - converged:  True\n",
      "Done.\n",
      "Execution time:  1614.0852979999909  seconds\n",
      "----------------------------------------\n"
     ]
    },
    {
     "name": "stderr",
     "output_type": "stream",
     "text": [
      "\u001b[33mWARNING\u001b[0m: Making input data immutable.\n"
     ]
    },
    {
     "name": "stdout",
     "output_type": "stream",
     "text": [
      "\n",
      "  _____             ____     _____      _\n",
      " |\" ___|    ___    / __\"| u |_ \" _| U  /\"\\  u\n",
      "U| |_  u   |_\"_|  <\\___ \\/    | |    \\/ _ \\/\n",
      "\\|  _|/     | |    u___) |   /| |\\   / ___ \\\\\n",
      " |_|      U/| |\\u  |____/>> u |_|U  /_/   \\_\\\\\n",
      " )(\\\\\\,-.-,_|___|_,-.)(  (__)_// \\\\\\_  \\\\\\    >>\n",
      "(__)(_/ \\_)-' '-(_/(__)    (__) (__)(__)  (__)\n",
      "    \n",
      " - mu:  1e-09\n",
      " - lipschitz constant:  1.0999999999999837\n",
      " - data:  (640, 368)\n",
      " - wavelet:  <mri.reconstruct.linear.WaveletN object at 0x7fa415799198> - 4\n",
      " - max iterations:  200\n",
      " - image variable shape:  (640, 368)\n",
      " - alpha variable shape:  (235520,)\n",
      "----------------------------------------\n",
      "Starting optimization...\n"
     ]
    },
    {
     "name": "stderr",
     "output_type": "stream",
     "text": [
      "100% (200 of 200) |######################| Elapsed Time: 0:00:50 Time:  0:00:50\n"
     ]
    },
    {
     "name": "stdout",
     "output_type": "stream",
     "text": [
      " - final iteration number:  200\n",
      " - final log10 cost value:  -5.473602709616496\n",
      " - converged:  True\n",
      "Done.\n",
      "Execution time:  1601.8969030000153  seconds\n",
      "----------------------------------------\n"
     ]
    },
    {
     "name": "stderr",
     "output_type": "stream",
     "text": [
      "\u001b[33mWARNING\u001b[0m: Making input data immutable.\n"
     ]
    },
    {
     "name": "stdout",
     "output_type": "stream",
     "text": [
      "\n",
      "  _____             ____     _____      _\n",
      " |\" ___|    ___    / __\"| u |_ \" _| U  /\"\\  u\n",
      "U| |_  u   |_\"_|  <\\___ \\/    | |    \\/ _ \\/\n",
      "\\|  _|/     | |    u___) |   /| |\\   / ___ \\\\\n",
      " |_|      U/| |\\u  |____/>> u |_|U  /_/   \\_\\\\\n",
      " )(\\\\\\,-.-,_|___|_,-.)(  (__)_// \\\\\\_  \\\\\\    >>\n",
      "(__)(_/ \\_)-' '-(_/(__)    (__) (__)(__)  (__)\n",
      "    \n",
      " - mu:  1e-09\n",
      " - lipschitz constant:  1.1000000000000723\n",
      " - data:  (640, 368)\n",
      " - wavelet:  <mri.reconstruct.linear.WaveletN object at 0x7fa415799fd0> - 4\n",
      " - max iterations:  200\n",
      " - image variable shape:  (640, 368)\n",
      " - alpha variable shape:  (235520,)\n",
      "----------------------------------------\n",
      "Starting optimization...\n"
     ]
    },
    {
     "name": "stderr",
     "output_type": "stream",
     "text": [
      "100% (200 of 200) |######################| Elapsed Time: 0:00:50 Time:  0:00:50\n"
     ]
    },
    {
     "name": "stdout",
     "output_type": "stream",
     "text": [
      " - final iteration number:  200\n",
      " - final log10 cost value:  -4.75218050765945\n",
      " - converged:  True\n",
      "Done.\n",
      "Execution time:  1607.5367909999914  seconds\n",
      "----------------------------------------\n"
     ]
    },
    {
     "name": "stderr",
     "output_type": "stream",
     "text": [
      "\u001b[33mWARNING\u001b[0m: Making input data immutable.\n"
     ]
    },
    {
     "name": "stdout",
     "output_type": "stream",
     "text": [
      "\n",
      "  _____             ____     _____      _\n",
      " |\" ___|    ___    / __\"| u |_ \" _| U  /\"\\  u\n",
      "U| |_  u   |_\"_|  <\\___ \\/    | |    \\/ _ \\/\n",
      "\\|  _|/     | |    u___) |   /| |\\   / ___ \\\\\n",
      " |_|      U/| |\\u  |____/>> u |_|U  /_/   \\_\\\\\n",
      " )(\\\\\\,-.-,_|___|_,-.)(  (__)_// \\\\\\_  \\\\\\    >>\n",
      "(__)(_/ \\_)-' '-(_/(__)    (__) (__)(__)  (__)\n",
      "    \n",
      " - mu:  1e-09\n",
      " - lipschitz constant:  1.0999999999999786\n",
      " - data:  (640, 368)\n",
      " - wavelet:  <mri.reconstruct.linear.WaveletN object at 0x7fa41570eb00> - 4\n",
      " - max iterations:  200\n",
      " - image variable shape:  (640, 368)\n",
      " - alpha variable shape:  (235520,)\n",
      "----------------------------------------\n",
      "Starting optimization...\n"
     ]
    },
    {
     "name": "stderr",
     "output_type": "stream",
     "text": [
      "100% (200 of 200) |######################| Elapsed Time: 0:00:50 Time:  0:00:50\n"
     ]
    },
    {
     "name": "stdout",
     "output_type": "stream",
     "text": [
      " - final iteration number:  200\n",
      " - final log10 cost value:  -5.148635902848347\n",
      " - converged:  True\n",
      "Done.\n",
      "Execution time:  1543.62557199999  seconds\n",
      "----------------------------------------\n"
     ]
    },
    {
     "name": "stderr",
     "output_type": "stream",
     "text": [
      "\u001b[33mWARNING\u001b[0m: Making input data immutable.\n"
     ]
    },
    {
     "name": "stdout",
     "output_type": "stream",
     "text": [
      "\n",
      "  _____             ____     _____      _\n",
      " |\" ___|    ___    / __\"| u |_ \" _| U  /\"\\  u\n",
      "U| |_  u   |_\"_|  <\\___ \\/    | |    \\/ _ \\/\n",
      "\\|  _|/     | |    u___) |   /| |\\   / ___ \\\\\n",
      " |_|      U/| |\\u  |____/>> u |_|U  /_/   \\_\\\\\n",
      " )(\\\\\\,-.-,_|___|_,-.)(  (__)_// \\\\\\_  \\\\\\    >>\n",
      "(__)(_/ \\_)-' '-(_/(__)    (__) (__)(__)  (__)\n",
      "    \n",
      " - mu:  1e-09\n",
      " - lipschitz constant:  1.0999999999999783\n",
      " - data:  (640, 372)\n",
      " - wavelet:  <mri.reconstruct.linear.WaveletN object at 0x7fa4157990f0> - 4\n",
      " - max iterations:  200\n",
      " - image variable shape:  (640, 372)\n",
      " - alpha variable shape:  (238320,)\n",
      "----------------------------------------\n",
      "Starting optimization...\n"
     ]
    },
    {
     "name": "stderr",
     "output_type": "stream",
     "text": [
      "100% (200 of 200) |######################| Elapsed Time: 0:00:52 Time:  0:00:52\n"
     ]
    },
    {
     "name": "stdout",
     "output_type": "stream",
     "text": [
      " - final iteration number:  200\n",
      " - final log10 cost value:  -6.235445003206886\n",
      " - converged:  True\n",
      "Done.\n",
      "Execution time:  1579.027632000012  seconds\n",
      "----------------------------------------\n"
     ]
    },
    {
     "name": "stderr",
     "output_type": "stream",
     "text": [
      "\u001b[33mWARNING\u001b[0m: Making input data immutable.\n"
     ]
    },
    {
     "name": "stdout",
     "output_type": "stream",
     "text": [
      "\n",
      "  _____             ____     _____      _\n",
      " |\" ___|    ___    / __\"| u |_ \" _| U  /\"\\  u\n",
      "U| |_  u   |_\"_|  <\\___ \\/    | |    \\/ _ \\/\n",
      "\\|  _|/     | |    u___) |   /| |\\   / ___ \\\\\n",
      " |_|      U/| |\\u  |____/>> u |_|U  /_/   \\_\\\\\n",
      " )(\\\\\\,-.-,_|___|_,-.)(  (__)_// \\\\\\_  \\\\\\    >>\n",
      "(__)(_/ \\_)-' '-(_/(__)    (__) (__)(__)  (__)\n",
      "    \n",
      " - mu:  1e-09\n",
      " - lipschitz constant:  1.0999999999999823\n",
      " - data:  (640, 372)\n",
      " - wavelet:  <mri.reconstruct.linear.WaveletN object at 0x7fa4157d5630> - 4\n",
      " - max iterations:  200\n",
      " - image variable shape:  (640, 372)\n",
      " - alpha variable shape:  (238320,)\n",
      "----------------------------------------\n",
      "Starting optimization...\n"
     ]
    },
    {
     "name": "stderr",
     "output_type": "stream",
     "text": [
      "100% (200 of 200) |######################| Elapsed Time: 0:00:52 Time:  0:00:52\n"
     ]
    },
    {
     "name": "stdout",
     "output_type": "stream",
     "text": [
      " - final iteration number:  200\n",
      " - final log10 cost value:  -6.335478455557225\n",
      " - converged:  True\n",
      "Done.\n",
      "Execution time:  1610.8389939999906  seconds\n",
      "----------------------------------------\n",
      "\n"
     ]
    },
    {
     "data": {
      "application/vnd.jupyter.widget-view+json": {
       "model_id": "7fd08215f0af4cb38bfac47c8d81ce44",
       "version_major": 2,
       "version_minor": 0
      },
      "text/plain": [
       "HBox(children=(FloatProgress(value=0.0, description='Stats', max=24.0, style=ProgressStyle(description_width='…"
      ]
     },
     "metadata": {},
     "output_type": "display_data"
    },
    {
     "name": "stdout",
     "output_type": "stream",
     "text": [
      "\n"
     ]
    },
    {
     "data": {
      "application/vnd.jupyter.widget-view+json": {
       "model_id": "2875bcddb5fc4be3b4106ee207a4d398",
       "version_major": 2,
       "version_minor": 0
      },
      "text/plain": [
       "HBox(children=(FloatProgress(value=0.0, description='K-spaces', max=24.0, style=ProgressStyle(description_widt…"
      ]
     },
     "metadata": {},
     "output_type": "display_data"
    },
    {
     "name": "stderr",
     "output_type": "stream",
     "text": [
      "\u001b[33mWARNING\u001b[0m: Making input data immutable.\n"
     ]
    },
    {
     "name": "stdout",
     "output_type": "stream",
     "text": [
      "\n",
      "  _____             ____     _____      _\n",
      " |\" ___|    ___    / __\"| u |_ \" _| U  /\"\\  u\n",
      "U| |_  u   |_\"_|  <\\___ \\/    | |    \\/ _ \\/\n",
      "\\|  _|/     | |    u___) |   /| |\\   / ___ \\\\\n",
      " |_|      U/| |\\u  |____/>> u |_|U  /_/   \\_\\\\\n",
      " )(\\\\\\,-.-,_|___|_,-.)(  (__)_// \\\\\\_  \\\\\\    >>\n",
      "(__)(_/ \\_)-' '-(_/(__)    (__) (__)(__)  (__)\n",
      "    \n",
      " - mu:  2.1544346900318866e-09\n",
      " - lipschitz constant:  1.099999999999979\n",
      " - data:  (640, 368)\n",
      " - wavelet:  <mri.reconstruct.linear.WaveletN object at 0x7fa4156f2080> - 4\n",
      " - max iterations:  200\n",
      " - image variable shape:  (640, 368)\n",
      " - alpha variable shape:  (235520,)\n",
      "----------------------------------------\n",
      "Starting optimization...\n"
     ]
    },
    {
     "name": "stderr",
     "output_type": "stream",
     "text": [
      "100% (200 of 200) |######################| Elapsed Time: 0:00:50 Time:  0:00:50\n"
     ]
    },
    {
     "name": "stdout",
     "output_type": "stream",
     "text": [
      " - final iteration number:  200\n",
      " - final log10 cost value:  -5.367617883832146\n",
      " - converged:  True\n",
      "Done.\n",
      "Execution time:  1574.5681420000037  seconds\n",
      "----------------------------------------\n"
     ]
    },
    {
     "name": "stderr",
     "output_type": "stream",
     "text": [
      "\u001b[33mWARNING\u001b[0m: Making input data immutable.\n"
     ]
    },
    {
     "name": "stdout",
     "output_type": "stream",
     "text": [
      "\n",
      "  _____             ____     _____      _\n",
      " |\" ___|    ___    / __\"| u |_ \" _| U  /\"\\  u\n",
      "U| |_  u   |_\"_|  <\\___ \\/    | |    \\/ _ \\/\n",
      "\\|  _|/     | |    u___) |   /| |\\   / ___ \\\\\n",
      " |_|      U/| |\\u  |____/>> u |_|U  /_/   \\_\\\\\n",
      " )(\\\\\\,-.-,_|___|_,-.)(  (__)_// \\\\\\_  \\\\\\    >>\n",
      "(__)(_/ \\_)-' '-(_/(__)    (__) (__)(__)  (__)\n",
      "    \n",
      " - mu:  2.1544346900318866e-09\n",
      " - lipschitz constant:  1.1000000000000738\n",
      " - data:  (640, 368)\n",
      " - wavelet:  <mri.reconstruct.linear.WaveletN object at 0x7fa4156f2208> - 4\n",
      " - max iterations:  200\n",
      " - image variable shape:  (640, 368)\n",
      " - alpha variable shape:  (235520,)\n",
      "----------------------------------------\n",
      "Starting optimization...\n"
     ]
    },
    {
     "name": "stderr",
     "output_type": "stream",
     "text": [
      "100% (200 of 200) |######################| Elapsed Time: 0:00:49 Time:  0:00:49\n"
     ]
    },
    {
     "name": "stdout",
     "output_type": "stream",
     "text": [
      " - final iteration number:  200\n",
      " - final log10 cost value:  -4.762120735612271\n",
      " - converged:  True\n",
      "Done.\n",
      "Execution time:  1566.012281000003  seconds\n",
      "----------------------------------------\n"
     ]
    },
    {
     "name": "stderr",
     "output_type": "stream",
     "text": [
      "\u001b[33mWARNING\u001b[0m: Making input data immutable.\n"
     ]
    },
    {
     "name": "stdout",
     "output_type": "stream",
     "text": [
      "\n",
      "  _____             ____     _____      _\n",
      " |\" ___|    ___    / __\"| u |_ \" _| U  /\"\\  u\n",
      "U| |_  u   |_\"_|  <\\___ \\/    | |    \\/ _ \\/\n",
      "\\|  _|/     | |    u___) |   /| |\\   / ___ \\\\\n",
      " |_|      U/| |\\u  |____/>> u |_|U  /_/   \\_\\\\\n",
      " )(\\\\\\,-.-,_|___|_,-.)(  (__)_// \\\\\\_  \\\\\\    >>\n",
      "(__)(_/ \\_)-' '-(_/(__)    (__) (__)(__)  (__)\n",
      "    \n",
      " - mu:  2.1544346900318866e-09\n",
      " - lipschitz constant:  1.0999999999999803\n",
      " - data:  (640, 368)\n",
      " - wavelet:  <mri.reconstruct.linear.WaveletN object at 0x7fa4156f2eb8> - 4\n",
      " - max iterations:  200\n",
      " - image variable shape:  (640, 368)\n",
      " - alpha variable shape:  (235520,)\n",
      "----------------------------------------\n",
      "Starting optimization...\n"
     ]
    },
    {
     "name": "stderr",
     "output_type": "stream",
     "text": [
      "100% (200 of 200) |######################| Elapsed Time: 0:00:50 Time:  0:00:50\n"
     ]
    },
    {
     "name": "stdout",
     "output_type": "stream",
     "text": [
      " - final iteration number:  200\n",
      " - final log10 cost value:  -5.372893668990267\n",
      " - converged:  True\n",
      "Done.\n",
      "Execution time:  1589.8651700000046  seconds\n",
      "----------------------------------------\n"
     ]
    },
    {
     "name": "stderr",
     "output_type": "stream",
     "text": [
      "\u001b[33mWARNING\u001b[0m: Making input data immutable.\n"
     ]
    },
    {
     "name": "stdout",
     "output_type": "stream",
     "text": [
      "\n",
      "  _____             ____     _____      _\n",
      " |\" ___|    ___    / __\"| u |_ \" _| U  /\"\\  u\n",
      "U| |_  u   |_\"_|  <\\___ \\/    | |    \\/ _ \\/\n",
      "\\|  _|/     | |    u___) |   /| |\\   / ___ \\\\\n",
      " |_|      U/| |\\u  |____/>> u |_|U  /_/   \\_\\\\\n",
      " )(\\\\\\,-.-,_|___|_,-.)(  (__)_// \\\\\\_  \\\\\\    >>\n",
      "(__)(_/ \\_)-' '-(_/(__)    (__) (__)(__)  (__)\n",
      "    \n",
      " - mu:  2.1544346900318866e-09\n",
      " - lipschitz constant:  1.099999999999989\n",
      " - data:  (640, 368)\n",
      " - wavelet:  <mri.reconstruct.linear.WaveletN object at 0x7fa41570e4e0> - 4\n",
      " - max iterations:  200\n",
      " - image variable shape:  (640, 368)\n",
      " - alpha variable shape:  (235520,)\n",
      "----------------------------------------\n",
      "Starting optimization...\n"
     ]
    },
    {
     "name": "stderr",
     "output_type": "stream",
     "text": [
      "100% (200 of 200) |######################| Elapsed Time: 0:00:50 Time:  0:00:50\n"
     ]
    },
    {
     "name": "stdout",
     "output_type": "stream",
     "text": [
      " - final iteration number:  200\n",
      " - final log10 cost value:  -5.588925926732768\n",
      " - converged:  True\n",
      "Done.\n",
      "Execution time:  1581.4752579999913  seconds\n",
      "----------------------------------------\n"
     ]
    },
    {
     "name": "stderr",
     "output_type": "stream",
     "text": [
      "\u001b[33mWARNING\u001b[0m: Making input data immutable.\n"
     ]
    },
    {
     "name": "stdout",
     "output_type": "stream",
     "text": [
      "\n",
      "  _____             ____     _____      _\n",
      " |\" ___|    ___    / __\"| u |_ \" _| U  /\"\\  u\n",
      "U| |_  u   |_\"_|  <\\___ \\/    | |    \\/ _ \\/\n",
      "\\|  _|/     | |    u___) |   /| |\\   / ___ \\\\\n",
      " |_|      U/| |\\u  |____/>> u |_|U  /_/   \\_\\\\\n",
      " )(\\\\\\,-.-,_|___|_,-.)(  (__)_// \\\\\\_  \\\\\\    >>\n",
      "(__)(_/ \\_)-' '-(_/(__)    (__) (__)(__)  (__)\n",
      "    \n",
      " - mu:  2.1544346900318866e-09\n",
      " - lipschitz constant:  1.0999999999999857\n",
      " - data:  (640, 368)\n",
      " - wavelet:  <mri.reconstruct.linear.WaveletN object at 0x7fa415799dd8> - 4\n",
      " - max iterations:  200\n",
      " - image variable shape:  (640, 368)\n",
      " - alpha variable shape:  (235520,)\n",
      "----------------------------------------\n",
      "Starting optimization...\n"
     ]
    },
    {
     "name": "stderr",
     "output_type": "stream",
     "text": [
      "100% (200 of 200) |######################| Elapsed Time: 0:00:51 Time:  0:00:51\n"
     ]
    },
    {
     "name": "stdout",
     "output_type": "stream",
     "text": [
      " - final iteration number:  200\n",
      " - final log10 cost value:  -5.176976499634129\n",
      " - converged:  True\n",
      "Done.\n",
      "Execution time:  1603.0411719999975  seconds\n",
      "----------------------------------------\n"
     ]
    },
    {
     "name": "stderr",
     "output_type": "stream",
     "text": [
      "\u001b[33mWARNING\u001b[0m: Making input data immutable.\n"
     ]
    },
    {
     "name": "stdout",
     "output_type": "stream",
     "text": [
      "\n",
      "  _____             ____     _____      _\n",
      " |\" ___|    ___    / __\"| u |_ \" _| U  /\"\\  u\n",
      "U| |_  u   |_\"_|  <\\___ \\/    | |    \\/ _ \\/\n",
      "\\|  _|/     | |    u___) |   /| |\\   / ___ \\\\\n",
      " |_|      U/| |\\u  |____/>> u |_|U  /_/   \\_\\\\\n",
      " )(\\\\\\,-.-,_|___|_,-.)(  (__)_// \\\\\\_  \\\\\\    >>\n",
      "(__)(_/ \\_)-' '-(_/(__)    (__) (__)(__)  (__)\n",
      "    \n",
      " - mu:  2.1544346900318866e-09\n",
      " - lipschitz constant:  1.0999999999999759\n",
      " - data:  (640, 368)\n",
      " - wavelet:  <mri.reconstruct.linear.WaveletN object at 0x7fa41570e6d8> - 4\n",
      " - max iterations:  200\n",
      " - image variable shape:  (640, 368)\n",
      " - alpha variable shape:  (235520,)\n",
      "----------------------------------------\n",
      "Starting optimization...\n"
     ]
    },
    {
     "name": "stderr",
     "output_type": "stream",
     "text": [
      "100% (200 of 200) |######################| Elapsed Time: 0:00:50 Time:  0:00:50\n"
     ]
    },
    {
     "name": "stdout",
     "output_type": "stream",
     "text": [
      " - final iteration number:  200\n",
      " - final log10 cost value:  -5.183085754224406\n",
      " - converged:  True\n",
      "Done.\n",
      "Execution time:  1611.2799130000058  seconds\n",
      "----------------------------------------\n"
     ]
    },
    {
     "name": "stderr",
     "output_type": "stream",
     "text": [
      "\u001b[33mWARNING\u001b[0m: Making input data immutable.\n"
     ]
    },
    {
     "name": "stdout",
     "output_type": "stream",
     "text": [
      "\n",
      "  _____             ____     _____      _\n",
      " |\" ___|    ___    / __\"| u |_ \" _| U  /\"\\  u\n",
      "U| |_  u   |_\"_|  <\\___ \\/    | |    \\/ _ \\/\n",
      "\\|  _|/     | |    u___) |   /| |\\   / ___ \\\\\n",
      " |_|      U/| |\\u  |____/>> u |_|U  /_/   \\_\\\\\n",
      " )(\\\\\\,-.-,_|___|_,-.)(  (__)_// \\\\\\_  \\\\\\    >>\n",
      "(__)(_/ \\_)-' '-(_/(__)    (__) (__)(__)  (__)\n",
      "    \n",
      " - mu:  2.1544346900318866e-09\n",
      " - lipschitz constant:  1.1000000000000754\n",
      " - data:  (640, 368)\n",
      " - wavelet:  <mri.reconstruct.linear.WaveletN object at 0x7fa41570eb70> - 4\n",
      " - max iterations:  200\n",
      " - image variable shape:  (640, 368)\n",
      " - alpha variable shape:  (235520,)\n",
      "----------------------------------------\n",
      "Starting optimization...\n"
     ]
    },
    {
     "name": "stderr",
     "output_type": "stream",
     "text": [
      "100% (200 of 200) |######################| Elapsed Time: 0:00:50 Time:  0:00:50\n"
     ]
    },
    {
     "name": "stdout",
     "output_type": "stream",
     "text": [
      " - final iteration number:  200\n",
      " - final log10 cost value:  -5.280141409155237\n",
      " - converged:  True\n",
      "Done.\n",
      "Execution time:  1594.958381000004  seconds\n",
      "----------------------------------------\n"
     ]
    },
    {
     "name": "stderr",
     "output_type": "stream",
     "text": [
      "\u001b[33mWARNING\u001b[0m: Making input data immutable.\n"
     ]
    },
    {
     "name": "stdout",
     "output_type": "stream",
     "text": [
      "\n",
      "  _____             ____     _____      _\n",
      " |\" ___|    ___    / __\"| u |_ \" _| U  /\"\\  u\n",
      "U| |_  u   |_\"_|  <\\___ \\/    | |    \\/ _ \\/\n",
      "\\|  _|/     | |    u___) |   /| |\\   / ___ \\\\\n",
      " |_|      U/| |\\u  |____/>> u |_|U  /_/   \\_\\\\\n",
      " )(\\\\\\,-.-,_|___|_,-.)(  (__)_// \\\\\\_  \\\\\\    >>\n",
      "(__)(_/ \\_)-' '-(_/(__)    (__) (__)(__)  (__)\n",
      "    \n",
      " - mu:  2.1544346900318866e-09\n",
      " - lipschitz constant:  1.0999999999999794\n",
      " - data:  (640, 368)\n",
      " - wavelet:  <mri.reconstruct.linear.WaveletN object at 0x7fa41570ec88> - 4\n",
      " - max iterations:  200\n",
      " - image variable shape:  (640, 368)\n",
      " - alpha variable shape:  (235520,)\n",
      "----------------------------------------\n",
      "Starting optimization...\n"
     ]
    },
    {
     "name": "stderr",
     "output_type": "stream",
     "text": [
      "100% (200 of 200) |######################| Elapsed Time: 0:00:49 Time:  0:00:49\n"
     ]
    },
    {
     "name": "stdout",
     "output_type": "stream",
     "text": [
      " - final iteration number:  200\n",
      " - final log10 cost value:  -5.0745792913562315\n",
      " - converged:  True\n",
      "Done.\n",
      "Execution time:  1580.8778929999971  seconds\n",
      "----------------------------------------\n"
     ]
    },
    {
     "name": "stderr",
     "output_type": "stream",
     "text": [
      "\u001b[33mWARNING\u001b[0m: Making input data immutable.\n"
     ]
    },
    {
     "name": "stdout",
     "output_type": "stream",
     "text": [
      "\n",
      "  _____             ____     _____      _\n",
      " |\" ___|    ___    / __\"| u |_ \" _| U  /\"\\  u\n",
      "U| |_  u   |_\"_|  <\\___ \\/    | |    \\/ _ \\/\n",
      "\\|  _|/     | |    u___) |   /| |\\   / ___ \\\\\n",
      " |_|      U/| |\\u  |____/>> u |_|U  /_/   \\_\\\\\n",
      " )(\\\\\\,-.-,_|___|_,-.)(  (__)_// \\\\\\_  \\\\\\    >>\n",
      "(__)(_/ \\_)-' '-(_/(__)    (__) (__)(__)  (__)\n",
      "    \n",
      " - mu:  2.1544346900318866e-09\n",
      " - lipschitz constant:  1.0999999999999783\n",
      " - data:  (640, 368)\n",
      " - wavelet:  <mri.reconstruct.linear.WaveletN object at 0x7fa415777198> - 4\n",
      " - max iterations:  200\n",
      " - image variable shape:  (640, 368)\n",
      " - alpha variable shape:  (235520,)\n",
      "----------------------------------------\n",
      "Starting optimization...\n"
     ]
    },
    {
     "name": "stderr",
     "output_type": "stream",
     "text": [
      "100% (200 of 200) |######################| Elapsed Time: 0:00:50 Time:  0:00:50\n"
     ]
    },
    {
     "name": "stdout",
     "output_type": "stream",
     "text": [
      " - final iteration number:  200\n",
      " - final log10 cost value:  -5.2438151029396955\n",
      " - converged:  True\n",
      "Done.\n",
      "Execution time:  1596.1716250000172  seconds\n",
      "----------------------------------------\n"
     ]
    },
    {
     "name": "stderr",
     "output_type": "stream",
     "text": [
      "\u001b[33mWARNING\u001b[0m: Making input data immutable.\n"
     ]
    },
    {
     "name": "stdout",
     "output_type": "stream",
     "text": [
      "\n",
      "  _____             ____     _____      _\n",
      " |\" ___|    ___    / __\"| u |_ \" _| U  /\"\\  u\n",
      "U| |_  u   |_\"_|  <\\___ \\/    | |    \\/ _ \\/\n",
      "\\|  _|/     | |    u___) |   /| |\\   / ___ \\\\\n",
      " |_|      U/| |\\u  |____/>> u |_|U  /_/   \\_\\\\\n",
      " )(\\\\\\,-.-,_|___|_,-.)(  (__)_// \\\\\\_  \\\\\\    >>\n",
      "(__)(_/ \\_)-' '-(_/(__)    (__) (__)(__)  (__)\n",
      "    \n",
      " - mu:  2.1544346900318866e-09\n",
      " - lipschitz constant:  1.1000000000000887\n",
      " - data:  (640, 368)\n",
      " - wavelet:  <mri.reconstruct.linear.WaveletN object at 0x7fa41570eac8> - 4\n",
      " - max iterations:  200\n",
      " - image variable shape:  (640, 368)\n",
      " - alpha variable shape:  (235520,)\n",
      "----------------------------------------\n",
      "Starting optimization...\n"
     ]
    },
    {
     "name": "stderr",
     "output_type": "stream",
     "text": [
      "100% (200 of 200) |######################| Elapsed Time: 0:00:49 Time:  0:00:49\n"
     ]
    },
    {
     "name": "stdout",
     "output_type": "stream",
     "text": [
      " - final iteration number:  200\n",
      " - final log10 cost value:  -5.170165748257095\n",
      " - converged:  True\n",
      "Done.\n",
      "Execution time:  1588.1426729999948  seconds\n",
      "----------------------------------------\n"
     ]
    },
    {
     "name": "stderr",
     "output_type": "stream",
     "text": [
      "\u001b[33mWARNING\u001b[0m: Making input data immutable.\n"
     ]
    },
    {
     "name": "stdout",
     "output_type": "stream",
     "text": [
      "\n",
      "  _____             ____     _____      _\n",
      " |\" ___|    ___    / __\"| u |_ \" _| U  /\"\\  u\n",
      "U| |_  u   |_\"_|  <\\___ \\/    | |    \\/ _ \\/\n",
      "\\|  _|/     | |    u___) |   /| |\\   / ___ \\\\\n",
      " |_|      U/| |\\u  |____/>> u |_|U  /_/   \\_\\\\\n",
      " )(\\\\\\,-.-,_|___|_,-.)(  (__)_// \\\\\\_  \\\\\\    >>\n",
      "(__)(_/ \\_)-' '-(_/(__)    (__) (__)(__)  (__)\n",
      "    \n",
      " - mu:  2.1544346900318866e-09\n",
      " - lipschitz constant:  1.099999999999974\n",
      " - data:  (640, 372)\n",
      " - wavelet:  <mri.reconstruct.linear.WaveletN object at 0x7fa415777320> - 4\n",
      " - max iterations:  200\n",
      " - image variable shape:  (640, 372)\n",
      " - alpha variable shape:  (238320,)\n",
      "----------------------------------------\n",
      "Starting optimization...\n"
     ]
    },
    {
     "name": "stderr",
     "output_type": "stream",
     "text": [
      "100% (200 of 200) |######################| Elapsed Time: 0:00:52 Time:  0:00:52\n"
     ]
    },
    {
     "name": "stdout",
     "output_type": "stream",
     "text": [
      " - final iteration number:  200\n",
      " - final log10 cost value:  -6.177475493957613\n",
      " - converged:  True\n",
      "Done.\n",
      "Execution time:  1618.6763899999787  seconds\n",
      "----------------------------------------\n"
     ]
    },
    {
     "name": "stderr",
     "output_type": "stream",
     "text": [
      "\u001b[33mWARNING\u001b[0m: Making input data immutable.\n"
     ]
    },
    {
     "name": "stdout",
     "output_type": "stream",
     "text": [
      "\n",
      "  _____             ____     _____      _\n",
      " |\" ___|    ___    / __\"| u |_ \" _| U  /\"\\  u\n",
      "U| |_  u   |_\"_|  <\\___ \\/    | |    \\/ _ \\/\n",
      "\\|  _|/     | |    u___) |   /| |\\   / ___ \\\\\n",
      " |_|      U/| |\\u  |____/>> u |_|U  /_/   \\_\\\\\n",
      " )(\\\\\\,-.-,_|___|_,-.)(  (__)_// \\\\\\_  \\\\\\    >>\n",
      "(__)(_/ \\_)-' '-(_/(__)    (__) (__)(__)  (__)\n",
      "    \n",
      " - mu:  2.1544346900318866e-09\n",
      " - lipschitz constant:  1.100000000000062\n",
      " - data:  (640, 372)\n",
      " - wavelet:  <mri.reconstruct.linear.WaveletN object at 0x7fa415760be0> - 4\n",
      " - max iterations:  200\n",
      " - image variable shape:  (640, 372)\n",
      " - alpha variable shape:  (238320,)\n",
      "----------------------------------------\n",
      "Starting optimization...\n"
     ]
    },
    {
     "name": "stderr",
     "output_type": "stream",
     "text": [
      "100% (200 of 200) |######################| Elapsed Time: 0:00:52 Time:  0:00:52\n"
     ]
    },
    {
     "name": "stdout",
     "output_type": "stream",
     "text": [
      " - final iteration number:  200\n",
      " - final log10 cost value:  -6.346661815702636\n",
      " - converged:  True\n",
      "Done.\n",
      "Execution time:  1649.5355160000036  seconds\n",
      "----------------------------------------\n"
     ]
    },
    {
     "name": "stderr",
     "output_type": "stream",
     "text": [
      "\u001b[33mWARNING\u001b[0m: Making input data immutable.\n"
     ]
    },
    {
     "name": "stdout",
     "output_type": "stream",
     "text": [
      "\n",
      "  _____             ____     _____      _\n",
      " |\" ___|    ___    / __\"| u |_ \" _| U  /\"\\  u\n",
      "U| |_  u   |_\"_|  <\\___ \\/    | |    \\/ _ \\/\n",
      "\\|  _|/     | |    u___) |   /| |\\   / ___ \\\\\n",
      " |_|      U/| |\\u  |____/>> u |_|U  /_/   \\_\\\\\n",
      " )(\\\\\\,-.-,_|___|_,-.)(  (__)_// \\\\\\_  \\\\\\    >>\n",
      "(__)(_/ \\_)-' '-(_/(__)    (__) (__)(__)  (__)\n",
      "    \n",
      " - mu:  2.1544346900318866e-09\n",
      " - lipschitz constant:  1.1000000000000678\n",
      " - data:  (640, 368)\n",
      " - wavelet:  <mri.reconstruct.linear.WaveletN object at 0x7fa41578e860> - 4\n",
      " - max iterations:  200\n",
      " - image variable shape:  (640, 368)\n",
      " - alpha variable shape:  (235520,)\n",
      "----------------------------------------\n",
      "Starting optimization...\n"
     ]
    },
    {
     "name": "stderr",
     "output_type": "stream",
     "text": [
      "100% (200 of 200) |######################| Elapsed Time: 0:00:50 Time:  0:00:50\n"
     ]
    },
    {
     "name": "stdout",
     "output_type": "stream",
     "text": [
      " - final iteration number:  200\n",
      " - final log10 cost value:  -5.47382707430091\n",
      " - converged:  True\n",
      "Done.\n",
      "Execution time:  1578.3130860000383  seconds\n",
      "----------------------------------------\n"
     ]
    },
    {
     "name": "stderr",
     "output_type": "stream",
     "text": [
      "\u001b[33mWARNING\u001b[0m: Making input data immutable.\n"
     ]
    },
    {
     "name": "stdout",
     "output_type": "stream",
     "text": [
      "\n",
      "  _____             ____     _____      _\n",
      " |\" ___|    ___    / __\"| u |_ \" _| U  /\"\\  u\n",
      "U| |_  u   |_\"_|  <\\___ \\/    | |    \\/ _ \\/\n",
      "\\|  _|/     | |    u___) |   /| |\\   / ___ \\\\\n",
      " |_|      U/| |\\u  |____/>> u |_|U  /_/   \\_\\\\\n",
      " )(\\\\\\,-.-,_|___|_,-.)(  (__)_// \\\\\\_  \\\\\\    >>\n",
      "(__)(_/ \\_)-' '-(_/(__)    (__) (__)(__)  (__)\n",
      "    \n",
      " - mu:  2.1544346900318866e-09\n",
      " - lipschitz constant:  1.1000000000000594\n",
      " - data:  (640, 372)\n",
      " - wavelet:  <mri.reconstruct.linear.WaveletN object at 0x7fa415b3df60> - 4\n",
      " - max iterations:  200\n",
      " - image variable shape:  (640, 372)\n",
      " - alpha variable shape:  (238320,)\n",
      "----------------------------------------\n",
      "Starting optimization...\n"
     ]
    },
    {
     "name": "stderr",
     "output_type": "stream",
     "text": [
      "100% (200 of 200) |######################| Elapsed Time: 0:00:52 Time:  0:00:52\n"
     ]
    },
    {
     "name": "stdout",
     "output_type": "stream",
     "text": [
      " - final iteration number:  200\n",
      " - final log10 cost value:  -6.153129231443277\n",
      " - converged:  True\n",
      "Done.\n",
      "Execution time:  1638.4842330000247  seconds\n",
      "----------------------------------------\n"
     ]
    },
    {
     "name": "stderr",
     "output_type": "stream",
     "text": [
      "\u001b[33mWARNING\u001b[0m: Making input data immutable.\n"
     ]
    },
    {
     "name": "stdout",
     "output_type": "stream",
     "text": [
      "\n",
      "  _____             ____     _____      _\n",
      " |\" ___|    ___    / __\"| u |_ \" _| U  /\"\\  u\n",
      "U| |_  u   |_\"_|  <\\___ \\/    | |    \\/ _ \\/\n",
      "\\|  _|/     | |    u___) |   /| |\\   / ___ \\\\\n",
      " |_|      U/| |\\u  |____/>> u |_|U  /_/   \\_\\\\\n",
      " )(\\\\\\,-.-,_|___|_,-.)(  (__)_// \\\\\\_  \\\\\\    >>\n",
      "(__)(_/ \\_)-' '-(_/(__)    (__) (__)(__)  (__)\n",
      "    \n",
      " - mu:  2.1544346900318866e-09\n",
      " - lipschitz constant:  1.0999999999999823\n",
      " - data:  (640, 368)\n",
      " - wavelet:  <mri.reconstruct.linear.WaveletN object at 0x7fa4156f20f0> - 4\n",
      " - max iterations:  200\n",
      " - image variable shape:  (640, 368)\n",
      " - alpha variable shape:  (235520,)\n",
      "----------------------------------------\n",
      "Starting optimization...\n"
     ]
    },
    {
     "name": "stderr",
     "output_type": "stream",
     "text": [
      "100% (200 of 200) |######################| Elapsed Time: 0:00:50 Time:  0:00:50\n"
     ]
    },
    {
     "name": "stdout",
     "output_type": "stream",
     "text": [
      " - final iteration number:  200\n",
      " - final log10 cost value:  -5.333510088069523\n",
      " - converged:  True\n",
      "Done.\n",
      "Execution time:  1597.7918090000167  seconds\n",
      "----------------------------------------\n"
     ]
    },
    {
     "name": "stderr",
     "output_type": "stream",
     "text": [
      "\u001b[33mWARNING\u001b[0m: Making input data immutable.\n"
     ]
    },
    {
     "name": "stdout",
     "output_type": "stream",
     "text": [
      "\n",
      "  _____             ____     _____      _\n",
      " |\" ___|    ___    / __\"| u |_ \" _| U  /\"\\  u\n",
      "U| |_  u   |_\"_|  <\\___ \\/    | |    \\/ _ \\/\n",
      "\\|  _|/     | |    u___) |   /| |\\   / ___ \\\\\n",
      " |_|      U/| |\\u  |____/>> u |_|U  /_/   \\_\\\\\n",
      " )(\\\\\\,-.-,_|___|_,-.)(  (__)_// \\\\\\_  \\\\\\    >>\n",
      "(__)(_/ \\_)-' '-(_/(__)    (__) (__)(__)  (__)\n",
      "    \n",
      " - mu:  2.1544346900318866e-09\n",
      " - lipschitz constant:  1.0999999999999819\n",
      " - data:  (640, 368)\n",
      " - wavelet:  <mri.reconstruct.linear.WaveletN object at 0x7fa4157389e8> - 4\n",
      " - max iterations:  200\n",
      " - image variable shape:  (640, 368)\n",
      " - alpha variable shape:  (235520,)\n",
      "----------------------------------------\n",
      "Starting optimization...\n"
     ]
    },
    {
     "name": "stderr",
     "output_type": "stream",
     "text": [
      "100% (200 of 200) |######################| Elapsed Time: 0:00:49 Time:  0:00:49\n"
     ]
    },
    {
     "name": "stdout",
     "output_type": "stream",
     "text": [
      " - final iteration number:  200\n",
      " - final log10 cost value:  -5.362341126236309\n",
      " - converged:  True\n",
      "Done.\n",
      "Execution time:  1586.3174059999874  seconds\n",
      "----------------------------------------\n"
     ]
    },
    {
     "name": "stderr",
     "output_type": "stream",
     "text": [
      "\u001b[33mWARNING\u001b[0m: Making input data immutable.\n"
     ]
    },
    {
     "name": "stdout",
     "output_type": "stream",
     "text": [
      "\n",
      "  _____             ____     _____      _\n",
      " |\" ___|    ___    / __\"| u |_ \" _| U  /\"\\  u\n",
      "U| |_  u   |_\"_|  <\\___ \\/    | |    \\/ _ \\/\n",
      "\\|  _|/     | |    u___) |   /| |\\   / ___ \\\\\n",
      " |_|      U/| |\\u  |____/>> u |_|U  /_/   \\_\\\\\n",
      " )(\\\\\\,-.-,_|___|_,-.)(  (__)_// \\\\\\_  \\\\\\    >>\n",
      "(__)(_/ \\_)-' '-(_/(__)    (__) (__)(__)  (__)\n",
      "    \n",
      " - mu:  2.1544346900318866e-09\n",
      " - lipschitz constant:  1.0999999999999768\n",
      " - data:  (640, 368)\n",
      " - wavelet:  <mri.reconstruct.linear.WaveletN object at 0x7fa41578ea90> - 4\n",
      " - max iterations:  200\n",
      " - image variable shape:  (640, 368)\n",
      " - alpha variable shape:  (235520,)\n",
      "----------------------------------------\n",
      "Starting optimization...\n"
     ]
    },
    {
     "name": "stderr",
     "output_type": "stream",
     "text": [
      "100% (200 of 200) |######################| Elapsed Time: 0:00:50 Time:  0:00:50\n"
     ]
    },
    {
     "name": "stdout",
     "output_type": "stream",
     "text": [
      " - final iteration number:  200\n",
      " - final log10 cost value:  -5.125462849291174\n",
      " - converged:  True\n",
      "Done.\n",
      "Execution time:  1603.0367020000122  seconds\n",
      "----------------------------------------\n"
     ]
    },
    {
     "name": "stderr",
     "output_type": "stream",
     "text": [
      "\u001b[33mWARNING\u001b[0m: Making input data immutable.\n"
     ]
    },
    {
     "name": "stdout",
     "output_type": "stream",
     "text": [
      "\n",
      "  _____             ____     _____      _\n",
      " |\" ___|    ___    / __\"| u |_ \" _| U  /\"\\  u\n",
      "U| |_  u   |_\"_|  <\\___ \\/    | |    \\/ _ \\/\n",
      "\\|  _|/     | |    u___) |   /| |\\   / ___ \\\\\n",
      " |_|      U/| |\\u  |____/>> u |_|U  /_/   \\_\\\\\n",
      " )(\\\\\\,-.-,_|___|_,-.)(  (__)_// \\\\\\_  \\\\\\    >>\n",
      "(__)(_/ \\_)-' '-(_/(__)    (__) (__)(__)  (__)\n",
      "    \n",
      " - mu:  2.1544346900318866e-09\n",
      " - lipschitz constant:  1.0999999999999728\n",
      " - data:  (640, 372)\n",
      " - wavelet:  <mri.reconstruct.linear.WaveletN object at 0x7fa415738780> - 4\n",
      " - max iterations:  200\n",
      " - image variable shape:  (640, 372)\n",
      " - alpha variable shape:  (238320,)\n",
      "----------------------------------------\n",
      "Starting optimization...\n"
     ]
    },
    {
     "name": "stderr",
     "output_type": "stream",
     "text": [
      "100% (200 of 200) |######################| Elapsed Time: 0:00:52 Time:  0:00:52\n"
     ]
    },
    {
     "name": "stdout",
     "output_type": "stream",
     "text": [
      " - final iteration number:  200\n",
      " - final log10 cost value:  -6.2451570185705565\n",
      " - converged:  True\n",
      "Done.\n",
      "Execution time:  1637.1757249999791  seconds\n",
      "----------------------------------------\n"
     ]
    },
    {
     "name": "stderr",
     "output_type": "stream",
     "text": [
      "\u001b[33mWARNING\u001b[0m: Making input data immutable.\n"
     ]
    },
    {
     "name": "stdout",
     "output_type": "stream",
     "text": [
      "\n",
      "  _____             ____     _____      _\n",
      " |\" ___|    ___    / __\"| u |_ \" _| U  /\"\\  u\n",
      "U| |_  u   |_\"_|  <\\___ \\/    | |    \\/ _ \\/\n",
      "\\|  _|/     | |    u___) |   /| |\\   / ___ \\\\\n",
      " |_|      U/| |\\u  |____/>> u |_|U  /_/   \\_\\\\\n",
      " )(\\\\\\,-.-,_|___|_,-.)(  (__)_// \\\\\\_  \\\\\\    >>\n",
      "(__)(_/ \\_)-' '-(_/(__)    (__) (__)(__)  (__)\n",
      "    \n",
      " - mu:  2.1544346900318866e-09\n",
      " - lipschitz constant:  1.1000000000000694\n",
      " - data:  (640, 368)\n",
      " - wavelet:  <mri.reconstruct.linear.WaveletN object at 0x7fa4157604e0> - 4\n",
      " - max iterations:  200\n",
      " - image variable shape:  (640, 368)\n",
      " - alpha variable shape:  (235520,)\n",
      "----------------------------------------\n",
      "Starting optimization...\n"
     ]
    },
    {
     "name": "stderr",
     "output_type": "stream",
     "text": [
      "100% (200 of 200) |######################| Elapsed Time: 0:00:49 Time:  0:00:49\n"
     ]
    },
    {
     "name": "stdout",
     "output_type": "stream",
     "text": [
      " - final iteration number:  200\n",
      " - final log10 cost value:  -5.142849133305113\n",
      " - converged:  True\n",
      "Done.\n",
      "Execution time:  1579.735109000001  seconds\n",
      "----------------------------------------\n"
     ]
    },
    {
     "name": "stderr",
     "output_type": "stream",
     "text": [
      "\u001b[33mWARNING\u001b[0m: Making input data immutable.\n"
     ]
    },
    {
     "name": "stdout",
     "output_type": "stream",
     "text": [
      "\n",
      "  _____             ____     _____      _\n",
      " |\" ___|    ___    / __\"| u |_ \" _| U  /\"\\  u\n",
      "U| |_  u   |_\"_|  <\\___ \\/    | |    \\/ _ \\/\n",
      "\\|  _|/     | |    u___) |   /| |\\   / ___ \\\\\n",
      " |_|      U/| |\\u  |____/>> u |_|U  /_/   \\_\\\\\n",
      " )(\\\\\\,-.-,_|___|_,-.)(  (__)_// \\\\\\_  \\\\\\    >>\n",
      "(__)(_/ \\_)-' '-(_/(__)    (__) (__)(__)  (__)\n",
      "    \n",
      " - mu:  2.1544346900318866e-09\n",
      " - lipschitz constant:  1.1000000000000703\n",
      " - data:  (640, 372)\n",
      " - wavelet:  <mri.reconstruct.linear.WaveletN object at 0x7fa41578e8d0> - 4\n",
      " - max iterations:  200\n",
      " - image variable shape:  (640, 372)\n",
      " - alpha variable shape:  (238320,)\n",
      "----------------------------------------\n",
      "Starting optimization...\n"
     ]
    },
    {
     "name": "stderr",
     "output_type": "stream",
     "text": [
      "100% (200 of 200) |######################| Elapsed Time: 0:00:52 Time:  0:00:52\n"
     ]
    },
    {
     "name": "stdout",
     "output_type": "stream",
     "text": [
      " - final iteration number:  200\n",
      " - final log10 cost value:  -6.296344962561328\n",
      " - converged:  True\n",
      "Done.\n",
      "Execution time:  1645.8904079999775  seconds\n",
      "----------------------------------------\n"
     ]
    },
    {
     "name": "stderr",
     "output_type": "stream",
     "text": [
      "\u001b[33mWARNING\u001b[0m: Making input data immutable.\n"
     ]
    },
    {
     "name": "stdout",
     "output_type": "stream",
     "text": [
      "\n",
      "  _____             ____     _____      _\n",
      " |\" ___|    ___    / __\"| u |_ \" _| U  /\"\\  u\n",
      "U| |_  u   |_\"_|  <\\___ \\/    | |    \\/ _ \\/\n",
      "\\|  _|/     | |    u___) |   /| |\\   / ___ \\\\\n",
      " |_|      U/| |\\u  |____/>> u |_|U  /_/   \\_\\\\\n",
      " )(\\\\\\,-.-,_|___|_,-.)(  (__)_// \\\\\\_  \\\\\\    >>\n",
      "(__)(_/ \\_)-' '-(_/(__)    (__) (__)(__)  (__)\n",
      "    \n",
      " - mu:  2.1544346900318866e-09\n",
      " - lipschitz constant:  1.1000000000000654\n",
      " - data:  (640, 372)\n",
      " - wavelet:  <mri.reconstruct.linear.WaveletN object at 0x7fa415760978> - 4\n",
      " - max iterations:  200\n",
      " - image variable shape:  (640, 372)\n",
      " - alpha variable shape:  (238320,)\n",
      "----------------------------------------\n",
      "Starting optimization...\n"
     ]
    },
    {
     "name": "stderr",
     "output_type": "stream",
     "text": [
      "100% (200 of 200) |######################| Elapsed Time: 0:00:52 Time:  0:00:52\n"
     ]
    },
    {
     "name": "stdout",
     "output_type": "stream",
     "text": [
      " - final iteration number:  200\n",
      " - final log10 cost value:  -6.337954142925233\n",
      " - converged:  True\n",
      "Done.\n",
      "Execution time:  1640.0149299999466  seconds\n",
      "----------------------------------------\n"
     ]
    },
    {
     "name": "stderr",
     "output_type": "stream",
     "text": [
      "\u001b[33mWARNING\u001b[0m: Making input data immutable.\n"
     ]
    },
    {
     "name": "stdout",
     "output_type": "stream",
     "text": [
      "\n",
      "  _____             ____     _____      _\n",
      " |\" ___|    ___    / __\"| u |_ \" _| U  /\"\\  u\n",
      "U| |_  u   |_\"_|  <\\___ \\/    | |    \\/ _ \\/\n",
      "\\|  _|/     | |    u___) |   /| |\\   / ___ \\\\\n",
      " |_|      U/| |\\u  |____/>> u |_|U  /_/   \\_\\\\\n",
      " )(\\\\\\,-.-,_|___|_,-.)(  (__)_// \\\\\\_  \\\\\\    >>\n",
      "(__)(_/ \\_)-' '-(_/(__)    (__) (__)(__)  (__)\n",
      "    \n",
      " - mu:  2.1544346900318866e-09\n",
      " - lipschitz constant:  1.1000000000000685\n",
      " - data:  (640, 372)\n",
      " - wavelet:  <mri.reconstruct.linear.WaveletN object at 0x7fa415b3df60> - 4\n",
      " - max iterations:  200\n",
      " - image variable shape:  (640, 372)\n",
      " - alpha variable shape:  (238320,)\n",
      "----------------------------------------\n",
      "Starting optimization...\n"
     ]
    },
    {
     "name": "stderr",
     "output_type": "stream",
     "text": [
      "100% (200 of 200) |######################| Elapsed Time: 0:00:51 Time:  0:00:51\n"
     ]
    },
    {
     "name": "stdout",
     "output_type": "stream",
     "text": [
      " - final iteration number:  200\n",
      " - final log10 cost value:  -6.306288472555329\n",
      " - converged:  True\n",
      "Done.\n",
      "Execution time:  1601.4444119999534  seconds\n",
      "----------------------------------------\n"
     ]
    },
    {
     "name": "stderr",
     "output_type": "stream",
     "text": [
      "\u001b[33mWARNING\u001b[0m: Making input data immutable.\n"
     ]
    },
    {
     "name": "stdout",
     "output_type": "stream",
     "text": [
      "\n",
      "  _____             ____     _____      _\n",
      " |\" ___|    ___    / __\"| u |_ \" _| U  /\"\\  u\n",
      "U| |_  u   |_\"_|  <\\___ \\/    | |    \\/ _ \\/\n",
      "\\|  _|/     | |    u___) |   /| |\\   / ___ \\\\\n",
      " |_|      U/| |\\u  |____/>> u |_|U  /_/   \\_\\\\\n",
      " )(\\\\\\,-.-,_|___|_,-.)(  (__)_// \\\\\\_  \\\\\\    >>\n",
      "(__)(_/ \\_)-' '-(_/(__)    (__) (__)(__)  (__)\n",
      "    \n",
      " - mu:  2.1544346900318866e-09\n",
      " - lipschitz constant:  1.0999999999999834\n",
      " - data:  (640, 368)\n",
      " - wavelet:  <mri.reconstruct.linear.WaveletN object at 0x7fa4156f2668> - 4\n",
      " - max iterations:  200\n",
      " - image variable shape:  (640, 368)\n",
      " - alpha variable shape:  (235520,)\n",
      "----------------------------------------\n",
      "Starting optimization...\n"
     ]
    },
    {
     "name": "stderr",
     "output_type": "stream",
     "text": [
      "100% (200 of 200) |######################| Elapsed Time: 0:00:50 Time:  0:00:50\n"
     ]
    },
    {
     "name": "stdout",
     "output_type": "stream",
     "text": [
      " - final iteration number:  200\n",
      " - final log10 cost value:  -5.4458239097175705\n",
      " - converged:  True\n",
      "Done.\n",
      "Execution time:  1591.188908000011  seconds\n",
      "----------------------------------------\n"
     ]
    },
    {
     "name": "stderr",
     "output_type": "stream",
     "text": [
      "\u001b[33mWARNING\u001b[0m: Making input data immutable.\n"
     ]
    },
    {
     "name": "stdout",
     "output_type": "stream",
     "text": [
      "\n",
      "  _____             ____     _____      _\n",
      " |\" ___|    ___    / __\"| u |_ \" _| U  /\"\\  u\n",
      "U| |_  u   |_\"_|  <\\___ \\/    | |    \\/ _ \\/\n",
      "\\|  _|/     | |    u___) |   /| |\\   / ___ \\\\\n",
      " |_|      U/| |\\u  |____/>> u |_|U  /_/   \\_\\\\\n",
      " )(\\\\\\,-.-,_|___|_,-.)(  (__)_// \\\\\\_  \\\\\\    >>\n",
      "(__)(_/ \\_)-' '-(_/(__)    (__) (__)(__)  (__)\n",
      "    \n",
      " - mu:  2.1544346900318866e-09\n",
      " - lipschitz constant:  1.0999999999999748\n",
      " - data:  (640, 372)\n",
      " - wavelet:  <mri.reconstruct.linear.WaveletN object at 0x7fa415777320> - 4\n",
      " - max iterations:  200\n",
      " - image variable shape:  (640, 372)\n",
      " - alpha variable shape:  (238320,)\n",
      "----------------------------------------\n",
      "Starting optimization...\n"
     ]
    },
    {
     "name": "stderr",
     "output_type": "stream",
     "text": [
      "100% (200 of 200) |######################| Elapsed Time: 0:00:51 Time:  0:00:51\n"
     ]
    },
    {
     "name": "stdout",
     "output_type": "stream",
     "text": [
      " - final iteration number:  200\n",
      " - final log10 cost value:  -6.518919788222123\n",
      " - converged:  True\n",
      "Done.\n",
      "Execution time:  1630.296876999957  seconds\n",
      "----------------------------------------\n",
      "\n"
     ]
    },
    {
     "data": {
      "application/vnd.jupyter.widget-view+json": {
       "model_id": "a322b89292a54b9c9580f2448335cf64",
       "version_major": 2,
       "version_minor": 0
      },
      "text/plain": [
       "HBox(children=(FloatProgress(value=0.0, description='Stats', max=24.0, style=ProgressStyle(description_width='…"
      ]
     },
     "metadata": {},
     "output_type": "display_data"
    },
    {
     "name": "stdout",
     "output_type": "stream",
     "text": [
      "\n"
     ]
    },
    {
     "data": {
      "application/vnd.jupyter.widget-view+json": {
       "model_id": "6c5ec16bc65340748b9d0b59da8b29df",
       "version_major": 2,
       "version_minor": 0
      },
      "text/plain": [
       "HBox(children=(FloatProgress(value=0.0, description='K-spaces', max=24.0, style=ProgressStyle(description_widt…"
      ]
     },
     "metadata": {},
     "output_type": "display_data"
    },
    {
     "name": "stderr",
     "output_type": "stream",
     "text": [
      "\u001b[33mWARNING\u001b[0m: Making input data immutable.\n"
     ]
    },
    {
     "name": "stdout",
     "output_type": "stream",
     "text": [
      "\n",
      "  _____             ____     _____      _\n",
      " |\" ___|    ___    / __\"| u |_ \" _| U  /\"\\  u\n",
      "U| |_  u   |_\"_|  <\\___ \\/    | |    \\/ _ \\/\n",
      "\\|  _|/     | |    u___) |   /| |\\   / ___ \\\\\n",
      " |_|      U/| |\\u  |____/>> u |_|U  /_/   \\_\\\\\n",
      " )(\\\\\\,-.-,_|___|_,-.)(  (__)_// \\\\\\_  \\\\\\    >>\n",
      "(__)(_/ \\_)-' '-(_/(__)    (__) (__)(__)  (__)\n",
      "    \n",
      " - mu:  4.641588833612773e-09\n",
      " - lipschitz constant:  1.0999999999999819\n",
      " - data:  (640, 368)\n",
      " - wavelet:  <mri.reconstruct.linear.WaveletN object at 0x7fa4157661d0> - 4\n",
      " - max iterations:  200\n",
      " - image variable shape:  (640, 368)\n",
      " - alpha variable shape:  (235520,)\n",
      "----------------------------------------\n",
      "Starting optimization...\n"
     ]
    },
    {
     "name": "stderr",
     "output_type": "stream",
     "text": [
      "100% (200 of 200) |######################| Elapsed Time: 0:00:50 Time:  0:00:50\n"
     ]
    },
    {
     "name": "stdout",
     "output_type": "stream",
     "text": [
      " - final iteration number:  200\n",
      " - final log10 cost value:  -5.214383409833588\n",
      " - converged:  True\n",
      "Done.\n",
      "Execution time:  1615.0541890000459  seconds\n",
      "----------------------------------------\n"
     ]
    },
    {
     "name": "stderr",
     "output_type": "stream",
     "text": [
      "\u001b[33mWARNING\u001b[0m: Making input data immutable.\n"
     ]
    },
    {
     "name": "stdout",
     "output_type": "stream",
     "text": [
      "\n",
      "  _____             ____     _____      _\n",
      " |\" ___|    ___    / __\"| u |_ \" _| U  /\"\\  u\n",
      "U| |_  u   |_\"_|  <\\___ \\/    | |    \\/ _ \\/\n",
      "\\|  _|/     | |    u___) |   /| |\\   / ___ \\\\\n",
      " |_|      U/| |\\u  |____/>> u |_|U  /_/   \\_\\\\\n",
      " )(\\\\\\,-.-,_|___|_,-.)(  (__)_// \\\\\\_  \\\\\\    >>\n",
      "(__)(_/ \\_)-' '-(_/(__)    (__) (__)(__)  (__)\n",
      "    \n",
      " - mu:  4.641588833612773e-09\n",
      " - lipschitz constant:  1.100000000000031\n",
      " - data:  (640, 372)\n",
      " - wavelet:  <mri.reconstruct.linear.WaveletN object at 0x7fa41578ea90> - 4\n",
      " - max iterations:  200\n",
      " - image variable shape:  (640, 372)\n",
      " - alpha variable shape:  (238320,)\n",
      "----------------------------------------\n",
      "Starting optimization...\n"
     ]
    },
    {
     "name": "stderr",
     "output_type": "stream",
     "text": [
      "100% (200 of 200) |######################| Elapsed Time: 0:00:52 Time:  0:00:52\n"
     ]
    },
    {
     "name": "stdout",
     "output_type": "stream",
     "text": [
      " - final iteration number:  200\n",
      " - final log10 cost value:  -6.751284478500436\n",
      " - converged:  True\n",
      "Done.\n",
      "Execution time:  1632.6227679999429  seconds\n",
      "----------------------------------------\n"
     ]
    },
    {
     "name": "stderr",
     "output_type": "stream",
     "text": [
      "\u001b[33mWARNING\u001b[0m: Making input data immutable.\n"
     ]
    },
    {
     "name": "stdout",
     "output_type": "stream",
     "text": [
      "\n",
      "  _____             ____     _____      _\n",
      " |\" ___|    ___    / __\"| u |_ \" _| U  /\"\\  u\n",
      "U| |_  u   |_\"_|  <\\___ \\/    | |    \\/ _ \\/\n",
      "\\|  _|/     | |    u___) |   /| |\\   / ___ \\\\\n",
      " |_|      U/| |\\u  |____/>> u |_|U  /_/   \\_\\\\\n",
      " )(\\\\\\,-.-,_|___|_,-.)(  (__)_// \\\\\\_  \\\\\\    >>\n",
      "(__)(_/ \\_)-' '-(_/(__)    (__) (__)(__)  (__)\n",
      "    \n",
      " - mu:  4.641588833612773e-09\n",
      " - lipschitz constant:  1.1000000000000727\n",
      " - data:  (640, 368)\n",
      " - wavelet:  <mri.reconstruct.linear.WaveletN object at 0x7fa415799198> - 4\n",
      " - max iterations:  200\n",
      " - image variable shape:  (640, 368)\n",
      " - alpha variable shape:  (235520,)\n",
      "----------------------------------------\n",
      "Starting optimization...\n"
     ]
    },
    {
     "name": "stderr",
     "output_type": "stream",
     "text": [
      "100% (200 of 200) |######################| Elapsed Time: 0:00:50 Time:  0:00:50\n"
     ]
    },
    {
     "name": "stdout",
     "output_type": "stream",
     "text": [
      " - final iteration number:  200\n",
      " - final log10 cost value:  -4.844922377292427\n",
      " - converged:  True\n",
      "Done.\n",
      "Execution time:  1576.844969000027  seconds\n",
      "----------------------------------------\n"
     ]
    },
    {
     "name": "stderr",
     "output_type": "stream",
     "text": [
      "\u001b[33mWARNING\u001b[0m: Making input data immutable.\n"
     ]
    },
    {
     "name": "stdout",
     "output_type": "stream",
     "text": [
      "\n",
      "  _____             ____     _____      _\n",
      " |\" ___|    ___    / __\"| u |_ \" _| U  /\"\\  u\n",
      "U| |_  u   |_\"_|  <\\___ \\/    | |    \\/ _ \\/\n",
      "\\|  _|/     | |    u___) |   /| |\\   / ___ \\\\\n",
      " |_|      U/| |\\u  |____/>> u |_|U  /_/   \\_\\\\\n",
      " )(\\\\\\,-.-,_|___|_,-.)(  (__)_// \\\\\\_  \\\\\\    >>\n",
      "(__)(_/ \\_)-' '-(_/(__)    (__) (__)(__)  (__)\n",
      "    \n",
      " - mu:  4.641588833612773e-09\n",
      " - lipschitz constant:  1.099999999999979\n",
      " - data:  (640, 356)\n",
      " - wavelet:  <mri.reconstruct.linear.WaveletN object at 0x7fa415760978> - 4\n",
      " - max iterations:  200\n",
      " - image variable shape:  (640, 356)\n",
      " - alpha variable shape:  (228080,)\n",
      "----------------------------------------\n",
      "Starting optimization...\n"
     ]
    },
    {
     "name": "stderr",
     "output_type": "stream",
     "text": [
      "100% (200 of 200) |######################| Elapsed Time: 0:00:57 Time:  0:00:57\n"
     ]
    },
    {
     "name": "stdout",
     "output_type": "stream",
     "text": [
      " - final iteration number:  200\n",
      " - final log10 cost value:  -5.087340922392365\n",
      " - converged:  True\n",
      "Done.\n",
      "Execution time:  1759.186457999982  seconds\n",
      "----------------------------------------\n"
     ]
    },
    {
     "name": "stderr",
     "output_type": "stream",
     "text": [
      "\u001b[33mWARNING\u001b[0m: Making input data immutable.\n"
     ]
    },
    {
     "name": "stdout",
     "output_type": "stream",
     "text": [
      "\n",
      "  _____             ____     _____      _\n",
      " |\" ___|    ___    / __\"| u |_ \" _| U  /\"\\  u\n",
      "U| |_  u   |_\"_|  <\\___ \\/    | |    \\/ _ \\/\n",
      "\\|  _|/     | |    u___) |   /| |\\   / ___ \\\\\n",
      " |_|      U/| |\\u  |____/>> u |_|U  /_/   \\_\\\\\n",
      " )(\\\\\\,-.-,_|___|_,-.)(  (__)_// \\\\\\_  \\\\\\    >>\n",
      "(__)(_/ \\_)-' '-(_/(__)    (__) (__)(__)  (__)\n",
      "    \n",
      " - mu:  4.641588833612773e-09\n",
      " - lipschitz constant:  1.1000000000000674\n",
      " - data:  (640, 372)\n",
      " - wavelet:  <mri.reconstruct.linear.WaveletN object at 0x7fa4156f2cc0> - 4\n",
      " - max iterations:  200\n",
      " - image variable shape:  (640, 372)\n",
      " - alpha variable shape:  (238320,)\n",
      "----------------------------------------\n",
      "Starting optimization...\n"
     ]
    },
    {
     "name": "stderr",
     "output_type": "stream",
     "text": [
      "100% (200 of 200) |######################| Elapsed Time: 0:00:52 Time:  0:00:52\n"
     ]
    },
    {
     "name": "stdout",
     "output_type": "stream",
     "text": [
      " - final iteration number:  200\n",
      " - final log10 cost value:  -6.3602559840899096\n",
      " - converged:  True\n",
      "Done.\n",
      "Execution time:  1612.7803430000204  seconds\n",
      "----------------------------------------\n"
     ]
    },
    {
     "name": "stderr",
     "output_type": "stream",
     "text": [
      "\u001b[33mWARNING\u001b[0m: Making input data immutable.\n"
     ]
    },
    {
     "name": "stdout",
     "output_type": "stream",
     "text": [
      "\n",
      "  _____             ____     _____      _\n",
      " |\" ___|    ___    / __\"| u |_ \" _| U  /\"\\  u\n",
      "U| |_  u   |_\"_|  <\\___ \\/    | |    \\/ _ \\/\n",
      "\\|  _|/     | |    u___) |   /| |\\   / ___ \\\\\n",
      " |_|      U/| |\\u  |____/>> u |_|U  /_/   \\_\\\\\n",
      " )(\\\\\\,-.-,_|___|_,-.)(  (__)_// \\\\\\_  \\\\\\    >>\n",
      "(__)(_/ \\_)-' '-(_/(__)    (__) (__)(__)  (__)\n",
      "    \n",
      " - mu:  4.641588833612773e-09\n",
      " - lipschitz constant:  1.0999999999999894\n",
      " - data:  (640, 368)\n",
      " - wavelet:  <mri.reconstruct.linear.WaveletN object at 0x7fa41570e6d8> - 4\n",
      " - max iterations:  200\n",
      " - image variable shape:  (640, 368)\n",
      " - alpha variable shape:  (235520,)\n",
      "----------------------------------------\n",
      "Starting optimization...\n"
     ]
    },
    {
     "name": "stderr",
     "output_type": "stream",
     "text": [
      "100% (200 of 200) |######################| Elapsed Time: 0:00:50 Time:  0:00:50\n"
     ]
    },
    {
     "name": "stdout",
     "output_type": "stream",
     "text": [
      " - final iteration number:  200\n",
      " - final log10 cost value:  -5.518532541051384\n",
      " - converged:  True\n",
      "Done.\n",
      "Execution time:  1597.0265079999808  seconds\n",
      "----------------------------------------\n"
     ]
    },
    {
     "name": "stderr",
     "output_type": "stream",
     "text": [
      "\u001b[33mWARNING\u001b[0m: Making input data immutable.\n"
     ]
    },
    {
     "name": "stdout",
     "output_type": "stream",
     "text": [
      "\n",
      "  _____             ____     _____      _\n",
      " |\" ___|    ___    / __\"| u |_ \" _| U  /\"\\  u\n",
      "U| |_  u   |_\"_|  <\\___ \\/    | |    \\/ _ \\/\n",
      "\\|  _|/     | |    u___) |   /| |\\   / ___ \\\\\n",
      " |_|      U/| |\\u  |____/>> u |_|U  /_/   \\_\\\\\n",
      " )(\\\\\\,-.-,_|___|_,-.)(  (__)_// \\\\\\_  \\\\\\    >>\n",
      "(__)(_/ \\_)-' '-(_/(__)    (__) (__)(__)  (__)\n",
      "    \n",
      " - mu:  4.641588833612773e-09\n",
      " - lipschitz constant:  1.1000000000000827\n",
      " - data:  (640, 372)\n",
      " - wavelet:  <mri.reconstruct.linear.WaveletN object at 0x7fa415738c50> - 4\n",
      " - max iterations:  200\n",
      " - image variable shape:  (640, 372)\n",
      " - alpha variable shape:  (238320,)\n",
      "----------------------------------------\n",
      "Starting optimization...\n"
     ]
    },
    {
     "name": "stderr",
     "output_type": "stream",
     "text": [
      "100% (200 of 200) |######################| Elapsed Time: 0:00:52 Time:  0:00:52\n"
     ]
    },
    {
     "name": "stdout",
     "output_type": "stream",
     "text": [
      " - final iteration number:  200\n",
      " - final log10 cost value:  -6.4364729173497786\n",
      " - converged:  True\n",
      "Done.\n",
      "Execution time:  1635.7316310000024  seconds\n",
      "----------------------------------------\n"
     ]
    },
    {
     "name": "stderr",
     "output_type": "stream",
     "text": [
      "\u001b[33mWARNING\u001b[0m: Making input data immutable.\n"
     ]
    },
    {
     "name": "stdout",
     "output_type": "stream",
     "text": [
      "\n",
      "  _____             ____     _____      _\n",
      " |\" ___|    ___    / __\"| u |_ \" _| U  /\"\\  u\n",
      "U| |_  u   |_\"_|  <\\___ \\/    | |    \\/ _ \\/\n",
      "\\|  _|/     | |    u___) |   /| |\\   / ___ \\\\\n",
      " |_|      U/| |\\u  |____/>> u |_|U  /_/   \\_\\\\\n",
      " )(\\\\\\,-.-,_|___|_,-.)(  (__)_// \\\\\\_  \\\\\\    >>\n",
      "(__)(_/ \\_)-' '-(_/(__)    (__) (__)(__)  (__)\n",
      "    \n",
      " - mu:  4.641588833612773e-09\n",
      " - lipschitz constant:  1.0999999999999848\n",
      " - data:  (640, 368)\n",
      " - wavelet:  <mri.reconstruct.linear.WaveletN object at 0x7fa4157667f0> - 4\n",
      " - max iterations:  200\n",
      " - image variable shape:  (640, 368)\n",
      " - alpha variable shape:  (235520,)\n",
      "----------------------------------------\n",
      "Starting optimization...\n"
     ]
    },
    {
     "name": "stderr",
     "output_type": "stream",
     "text": [
      "100% (200 of 200) |######################| Elapsed Time: 0:00:49 Time:  0:00:49\n"
     ]
    },
    {
     "name": "stdout",
     "output_type": "stream",
     "text": [
      " - final iteration number:  200\n",
      " - final log10 cost value:  -5.236387569293441\n",
      " - converged:  True\n",
      "Done.\n",
      "Execution time:  1577.876419999986  seconds\n",
      "----------------------------------------\n"
     ]
    },
    {
     "name": "stderr",
     "output_type": "stream",
     "text": [
      "\u001b[33mWARNING\u001b[0m: Making input data immutable.\n"
     ]
    },
    {
     "name": "stdout",
     "output_type": "stream",
     "text": [
      "\n",
      "  _____             ____     _____      _\n",
      " |\" ___|    ___    / __\"| u |_ \" _| U  /\"\\  u\n",
      "U| |_  u   |_\"_|  <\\___ \\/    | |    \\/ _ \\/\n",
      "\\|  _|/     | |    u___) |   /| |\\   / ___ \\\\\n",
      " |_|      U/| |\\u  |____/>> u |_|U  /_/   \\_\\\\\n",
      " )(\\\\\\,-.-,_|___|_,-.)(  (__)_// \\\\\\_  \\\\\\    >>\n",
      "(__)(_/ \\_)-' '-(_/(__)    (__) (__)(__)  (__)\n",
      "    \n",
      " - mu:  4.641588833612773e-09\n",
      " - lipschitz constant:  1.099999999999974\n",
      " - data:  (640, 372)\n",
      " - wavelet:  <mri.reconstruct.linear.WaveletN object at 0x7fa41570ea20> - 4\n",
      " - max iterations:  200\n",
      " - image variable shape:  (640, 372)\n",
      " - alpha variable shape:  (238320,)\n",
      "----------------------------------------\n",
      "Starting optimization...\n"
     ]
    },
    {
     "name": "stderr",
     "output_type": "stream",
     "text": [
      "100% (200 of 200) |######################| Elapsed Time: 0:00:51 Time:  0:00:51\n"
     ]
    },
    {
     "name": "stdout",
     "output_type": "stream",
     "text": [
      " - final iteration number:  200\n",
      " - final log10 cost value:  -6.5441157605702776\n",
      " - converged:  True\n",
      "Done.\n",
      "Execution time:  1608.172630999994  seconds\n",
      "----------------------------------------\n"
     ]
    },
    {
     "name": "stderr",
     "output_type": "stream",
     "text": [
      "\u001b[33mWARNING\u001b[0m: Making input data immutable.\n"
     ]
    },
    {
     "name": "stdout",
     "output_type": "stream",
     "text": [
      "\n",
      "  _____             ____     _____      _\n",
      " |\" ___|    ___    / __\"| u |_ \" _| U  /\"\\  u\n",
      "U| |_  u   |_\"_|  <\\___ \\/    | |    \\/ _ \\/\n",
      "\\|  _|/     | |    u___) |   /| |\\   / ___ \\\\\n",
      " |_|      U/| |\\u  |____/>> u |_|U  /_/   \\_\\\\\n",
      " )(\\\\\\,-.-,_|___|_,-.)(  (__)_// \\\\\\_  \\\\\\    >>\n",
      "(__)(_/ \\_)-' '-(_/(__)    (__) (__)(__)  (__)\n",
      "    \n",
      " - mu:  4.641588833612773e-09\n",
      " - lipschitz constant:  1.0999999999999792\n",
      " - data:  (640, 372)\n",
      " - wavelet:  <mri.reconstruct.linear.WaveletN object at 0x7fa41570ee80> - 4\n",
      " - max iterations:  200\n",
      " - image variable shape:  (640, 372)\n",
      " - alpha variable shape:  (238320,)\n",
      "----------------------------------------\n",
      "Starting optimization...\n"
     ]
    },
    {
     "name": "stderr",
     "output_type": "stream",
     "text": [
      "100% (200 of 200) |######################| Elapsed Time: 0:00:51 Time:  0:00:51\n"
     ]
    },
    {
     "name": "stdout",
     "output_type": "stream",
     "text": [
      " - final iteration number:  200\n",
      " - final log10 cost value:  -6.5834764524787275\n",
      " - converged:  True\n",
      "Done.\n",
      "Execution time:  1625.192108999996  seconds\n",
      "----------------------------------------\n"
     ]
    },
    {
     "name": "stderr",
     "output_type": "stream",
     "text": [
      "\u001b[33mWARNING\u001b[0m: Making input data immutable.\n"
     ]
    },
    {
     "name": "stdout",
     "output_type": "stream",
     "text": [
      "\n",
      "  _____             ____     _____      _\n",
      " |\" ___|    ___    / __\"| u |_ \" _| U  /\"\\  u\n",
      "U| |_  u   |_\"_|  <\\___ \\/    | |    \\/ _ \\/\n",
      "\\|  _|/     | |    u___) |   /| |\\   / ___ \\\\\n",
      " |_|      U/| |\\u  |____/>> u |_|U  /_/   \\_\\\\\n",
      " )(\\\\\\,-.-,_|___|_,-.)(  (__)_// \\\\\\_  \\\\\\    >>\n",
      "(__)(_/ \\_)-' '-(_/(__)    (__) (__)(__)  (__)\n",
      "    \n",
      " - mu:  4.641588833612773e-09\n",
      " - lipschitz constant:  1.0999999999999794\n",
      " - data:  (640, 372)\n",
      " - wavelet:  <mri.reconstruct.linear.WaveletN object at 0x7fa415777cc0> - 4\n",
      " - max iterations:  200\n",
      " - image variable shape:  (640, 372)\n",
      " - alpha variable shape:  (238320,)\n",
      "----------------------------------------\n",
      "Starting optimization...\n"
     ]
    },
    {
     "name": "stderr",
     "output_type": "stream",
     "text": [
      "100% (200 of 200) |######################| Elapsed Time: 0:00:52 Time:  0:00:52\n"
     ]
    },
    {
     "name": "stdout",
     "output_type": "stream",
     "text": [
      " - final iteration number:  200\n",
      " - final log10 cost value:  -6.290576893530339\n",
      " - converged:  True\n",
      "Done.\n",
      "Execution time:  1646.2072530000005  seconds\n",
      "----------------------------------------\n"
     ]
    },
    {
     "name": "stderr",
     "output_type": "stream",
     "text": [
      "\u001b[33mWARNING\u001b[0m: Making input data immutable.\n"
     ]
    },
    {
     "name": "stdout",
     "output_type": "stream",
     "text": [
      "\n",
      "  _____             ____     _____      _\n",
      " |\" ___|    ___    / __\"| u |_ \" _| U  /\"\\  u\n",
      "U| |_  u   |_\"_|  <\\___ \\/    | |    \\/ _ \\/\n",
      "\\|  _|/     | |    u___) |   /| |\\   / ___ \\\\\n",
      " |_|      U/| |\\u  |____/>> u |_|U  /_/   \\_\\\\\n",
      " )(\\\\\\,-.-,_|___|_,-.)(  (__)_// \\\\\\_  \\\\\\    >>\n",
      "(__)(_/ \\_)-' '-(_/(__)    (__) (__)(__)  (__)\n",
      "    \n",
      " - mu:  4.641588833612773e-09\n",
      " - lipschitz constant:  1.0999999999999763\n",
      " - data:  (640, 368)\n",
      " - wavelet:  <mri.reconstruct.linear.WaveletN object at 0x7fa415777d30> - 4\n",
      " - max iterations:  200\n",
      " - image variable shape:  (640, 368)\n",
      " - alpha variable shape:  (235520,)\n",
      "----------------------------------------\n",
      "Starting optimization...\n"
     ]
    },
    {
     "name": "stderr",
     "output_type": "stream",
     "text": [
      "100% (200 of 200) |######################| Elapsed Time: 0:00:50 Time:  0:00:50\n"
     ]
    },
    {
     "name": "stdout",
     "output_type": "stream",
     "text": [
      " - final iteration number:  200\n",
      " - final log10 cost value:  -5.541294653337418\n",
      " - converged:  True\n",
      "Done.\n",
      "Execution time:  1606.8117590000038  seconds\n",
      "----------------------------------------\n"
     ]
    },
    {
     "name": "stderr",
     "output_type": "stream",
     "text": [
      "\u001b[33mWARNING\u001b[0m: Making input data immutable.\n"
     ]
    },
    {
     "name": "stdout",
     "output_type": "stream",
     "text": [
      "\n",
      "  _____             ____     _____      _\n",
      " |\" ___|    ___    / __\"| u |_ \" _| U  /\"\\  u\n",
      "U| |_  u   |_\"_|  <\\___ \\/    | |    \\/ _ \\/\n",
      "\\|  _|/     | |    u___) |   /| |\\   / ___ \\\\\n",
      " |_|      U/| |\\u  |____/>> u |_|U  /_/   \\_\\\\\n",
      " )(\\\\\\,-.-,_|___|_,-.)(  (__)_// \\\\\\_  \\\\\\    >>\n",
      "(__)(_/ \\_)-' '-(_/(__)    (__) (__)(__)  (__)\n",
      "    \n",
      " - mu:  4.641588833612773e-09\n",
      " - lipschitz constant:  1.0999999999999845\n",
      " - data:  (640, 368)\n",
      " - wavelet:  <mri.reconstruct.linear.WaveletN object at 0x7fa415720940> - 4\n",
      " - max iterations:  200\n",
      " - image variable shape:  (640, 368)\n",
      " - alpha variable shape:  (235520,)\n",
      "----------------------------------------\n",
      "Starting optimization...\n"
     ]
    },
    {
     "name": "stderr",
     "output_type": "stream",
     "text": [
      "100% (200 of 200) |######################| Elapsed Time: 0:00:50 Time:  0:00:50\n"
     ]
    },
    {
     "name": "stdout",
     "output_type": "stream",
     "text": [
      " - final iteration number:  200\n",
      " - final log10 cost value:  -5.362003193738225\n",
      " - converged:  True\n",
      "Done.\n",
      "Execution time:  1620.477665000013  seconds\n",
      "----------------------------------------\n"
     ]
    },
    {
     "name": "stderr",
     "output_type": "stream",
     "text": [
      "\u001b[33mWARNING\u001b[0m: Making input data immutable.\n"
     ]
    },
    {
     "name": "stdout",
     "output_type": "stream",
     "text": [
      "\n",
      "  _____             ____     _____      _\n",
      " |\" ___|    ___    / __\"| u |_ \" _| U  /\"\\  u\n",
      "U| |_  u   |_\"_|  <\\___ \\/    | |    \\/ _ \\/\n",
      "\\|  _|/     | |    u___) |   /| |\\   / ___ \\\\\n",
      " |_|      U/| |\\u  |____/>> u |_|U  /_/   \\_\\\\\n",
      " )(\\\\\\,-.-,_|___|_,-.)(  (__)_// \\\\\\_  \\\\\\    >>\n",
      "(__)(_/ \\_)-' '-(_/(__)    (__) (__)(__)  (__)\n",
      "    \n",
      " - mu:  4.641588833612773e-09\n",
      " - lipschitz constant:  1.0999999999999819\n",
      " - data:  (640, 368)\n",
      " - wavelet:  <mri.reconstruct.linear.WaveletN object at 0x7fa4157207f0> - 4\n",
      " - max iterations:  200\n",
      " - image variable shape:  (640, 368)\n",
      " - alpha variable shape:  (235520,)\n",
      "----------------------------------------\n",
      "Starting optimization...\n"
     ]
    },
    {
     "name": "stderr",
     "output_type": "stream",
     "text": [
      "100% (200 of 200) |######################| Elapsed Time: 0:00:50 Time:  0:00:50\n"
     ]
    },
    {
     "name": "stdout",
     "output_type": "stream",
     "text": [
      " - final iteration number:  200\n",
      " - final log10 cost value:  -5.833673268981418\n",
      " - converged:  True\n",
      "Done.\n",
      "Execution time:  1585.3495040000416  seconds\n",
      "----------------------------------------\n"
     ]
    },
    {
     "name": "stderr",
     "output_type": "stream",
     "text": [
      "\u001b[33mWARNING\u001b[0m: Making input data immutable.\n"
     ]
    },
    {
     "name": "stdout",
     "output_type": "stream",
     "text": [
      "\n",
      "  _____             ____     _____      _\n",
      " |\" ___|    ___    / __\"| u |_ \" _| U  /\"\\  u\n",
      "U| |_  u   |_\"_|  <\\___ \\/    | |    \\/ _ \\/\n",
      "\\|  _|/     | |    u___) |   /| |\\   / ___ \\\\\n",
      " |_|      U/| |\\u  |____/>> u |_|U  /_/   \\_\\\\\n",
      " )(\\\\\\,-.-,_|___|_,-.)(  (__)_// \\\\\\_  \\\\\\    >>\n",
      "(__)(_/ \\_)-' '-(_/(__)    (__) (__)(__)  (__)\n",
      "    \n",
      " - mu:  4.641588833612773e-09\n",
      " - lipschitz constant:  1.0999999999999803\n",
      " - data:  (640, 368)\n",
      " - wavelet:  <mri.reconstruct.linear.WaveletN object at 0x7fa4157661d0> - 4\n",
      " - max iterations:  200\n",
      " - image variable shape:  (640, 368)\n",
      " - alpha variable shape:  (235520,)\n",
      "----------------------------------------\n",
      "Starting optimization...\n"
     ]
    },
    {
     "name": "stderr",
     "output_type": "stream",
     "text": [
      "100% (200 of 200) |######################| Elapsed Time: 0:00:49 Time:  0:00:49\n"
     ]
    },
    {
     "name": "stdout",
     "output_type": "stream",
     "text": [
      " - final iteration number:  200\n",
      " - final log10 cost value:  -4.606205340410237\n",
      " - converged:  True\n",
      "Done.\n",
      "Execution time:  1580.4049879999948  seconds\n",
      "----------------------------------------\n"
     ]
    },
    {
     "name": "stderr",
     "output_type": "stream",
     "text": [
      "\u001b[33mWARNING\u001b[0m: Making input data immutable.\n"
     ]
    },
    {
     "name": "stdout",
     "output_type": "stream",
     "text": [
      "\n",
      "  _____             ____     _____      _\n",
      " |\" ___|    ___    / __\"| u |_ \" _| U  /\"\\  u\n",
      "U| |_  u   |_\"_|  <\\___ \\/    | |    \\/ _ \\/\n",
      "\\|  _|/     | |    u___) |   /| |\\   / ___ \\\\\n",
      " |_|      U/| |\\u  |____/>> u |_|U  /_/   \\_\\\\\n",
      " )(\\\\\\,-.-,_|___|_,-.)(  (__)_// \\\\\\_  \\\\\\    >>\n",
      "(__)(_/ \\_)-' '-(_/(__)    (__) (__)(__)  (__)\n",
      "    \n",
      " - mu:  4.641588833612773e-09\n",
      " - lipschitz constant:  1.0999999999999759\n",
      " - data:  (640, 368)\n",
      " - wavelet:  <mri.reconstruct.linear.WaveletN object at 0x7fa415738c50> - 4\n",
      " - max iterations:  200\n",
      " - image variable shape:  (640, 368)\n",
      " - alpha variable shape:  (235520,)\n",
      "----------------------------------------\n",
      "Starting optimization...\n"
     ]
    },
    {
     "name": "stderr",
     "output_type": "stream",
     "text": [
      "100% (200 of 200) |######################| Elapsed Time: 0:00:50 Time:  0:00:50\n"
     ]
    },
    {
     "name": "stdout",
     "output_type": "stream",
     "text": [
      " - final iteration number:  200\n",
      " - final log10 cost value:  -4.821846752923392\n",
      " - converged:  True\n",
      "Done.\n",
      "Execution time:  1603.058098999958  seconds\n",
      "----------------------------------------\n"
     ]
    },
    {
     "name": "stderr",
     "output_type": "stream",
     "text": [
      "\u001b[33mWARNING\u001b[0m: Making input data immutable.\n"
     ]
    },
    {
     "name": "stdout",
     "output_type": "stream",
     "text": [
      "\n",
      "  _____             ____     _____      _\n",
      " |\" ___|    ___    / __\"| u |_ \" _| U  /\"\\  u\n",
      "U| |_  u   |_\"_|  <\\___ \\/    | |    \\/ _ \\/\n",
      "\\|  _|/     | |    u___) |   /| |\\   / ___ \\\\\n",
      " |_|      U/| |\\u  |____/>> u |_|U  /_/   \\_\\\\\n",
      " )(\\\\\\,-.-,_|___|_,-.)(  (__)_// \\\\\\_  \\\\\\    >>\n",
      "(__)(_/ \\_)-' '-(_/(__)    (__) (__)(__)  (__)\n",
      "    \n",
      " - mu:  4.641588833612773e-09\n",
      " - lipschitz constant:  1.0999999999999832\n",
      " - data:  (640, 368)\n",
      " - wavelet:  <mri.reconstruct.linear.WaveletN object at 0x7fa41578e240> - 4\n",
      " - max iterations:  200\n",
      " - image variable shape:  (640, 368)\n",
      " - alpha variable shape:  (235520,)\n",
      "----------------------------------------\n",
      "Starting optimization...\n"
     ]
    },
    {
     "name": "stderr",
     "output_type": "stream",
     "text": [
      "100% (200 of 200) |######################| Elapsed Time: 0:00:50 Time:  0:00:50\n"
     ]
    },
    {
     "name": "stdout",
     "output_type": "stream",
     "text": [
      " - final iteration number:  200\n",
      " - final log10 cost value:  -5.716499455646329\n",
      " - converged:  True\n",
      "Done.\n",
      "Execution time:  1596.475043000013  seconds\n",
      "----------------------------------------\n"
     ]
    },
    {
     "name": "stderr",
     "output_type": "stream",
     "text": [
      "\u001b[33mWARNING\u001b[0m: Making input data immutable.\n"
     ]
    },
    {
     "name": "stdout",
     "output_type": "stream",
     "text": [
      "\n",
      "  _____             ____     _____      _\n",
      " |\" ___|    ___    / __\"| u |_ \" _| U  /\"\\  u\n",
      "U| |_  u   |_\"_|  <\\___ \\/    | |    \\/ _ \\/\n",
      "\\|  _|/     | |    u___) |   /| |\\   / ___ \\\\\n",
      " |_|      U/| |\\u  |____/>> u |_|U  /_/   \\_\\\\\n",
      " )(\\\\\\,-.-,_|___|_,-.)(  (__)_// \\\\\\_  \\\\\\    >>\n",
      "(__)(_/ \\_)-' '-(_/(__)    (__) (__)(__)  (__)\n",
      "    \n",
      " - mu:  4.641588833612773e-09\n",
      " - lipschitz constant:  1.0999999999999865\n",
      " - data:  (640, 368)\n",
      " - wavelet:  <mri.reconstruct.linear.WaveletN object at 0x7fa41570ed30> - 4\n",
      " - max iterations:  200\n",
      " - image variable shape:  (640, 368)\n",
      " - alpha variable shape:  (235520,)\n",
      "----------------------------------------\n",
      "Starting optimization...\n"
     ]
    },
    {
     "name": "stderr",
     "output_type": "stream",
     "text": [
      "100% (200 of 200) |######################| Elapsed Time: 0:00:49 Time:  0:00:49\n"
     ]
    },
    {
     "name": "stdout",
     "output_type": "stream",
     "text": [
      " - final iteration number:  200\n",
      " - final log10 cost value:  -5.123280891072524\n",
      " - converged:  True\n",
      "Done.\n",
      "Execution time:  1609.8110369999777  seconds\n",
      "----------------------------------------\n"
     ]
    },
    {
     "name": "stderr",
     "output_type": "stream",
     "text": [
      "\u001b[33mWARNING\u001b[0m: Making input data immutable.\n"
     ]
    },
    {
     "name": "stdout",
     "output_type": "stream",
     "text": [
      "\n",
      "  _____             ____     _____      _\n",
      " |\" ___|    ___    / __\"| u |_ \" _| U  /\"\\  u\n",
      "U| |_  u   |_\"_|  <\\___ \\/    | |    \\/ _ \\/\n",
      "\\|  _|/     | |    u___) |   /| |\\   / ___ \\\\\n",
      " |_|      U/| |\\u  |____/>> u |_|U  /_/   \\_\\\\\n",
      " )(\\\\\\,-.-,_|___|_,-.)(  (__)_// \\\\\\_  \\\\\\    >>\n",
      "(__)(_/ \\_)-' '-(_/(__)    (__) (__)(__)  (__)\n",
      "    \n",
      " - mu:  4.641588833612773e-09\n",
      " - lipschitz constant:  1.10000000000003\n",
      " - data:  (640, 372)\n",
      " - wavelet:  <mri.reconstruct.linear.WaveletN object at 0x7fa415760e48> - 4\n",
      " - max iterations:  200\n",
      " - image variable shape:  (640, 372)\n",
      " - alpha variable shape:  (238320,)\n",
      "----------------------------------------\n",
      "Starting optimization...\n"
     ]
    },
    {
     "name": "stderr",
     "output_type": "stream",
     "text": [
      "100% (200 of 200) |######################| Elapsed Time: 0:00:51 Time:  0:00:51\n"
     ]
    },
    {
     "name": "stdout",
     "output_type": "stream",
     "text": [
      " - final iteration number:  200\n",
      " - final log10 cost value:  -6.355481142618463\n",
      " - converged:  True\n",
      "Done.\n",
      "Execution time:  1623.3321949999663  seconds\n",
      "----------------------------------------\n"
     ]
    },
    {
     "name": "stderr",
     "output_type": "stream",
     "text": [
      "\u001b[33mWARNING\u001b[0m: Making input data immutable.\n"
     ]
    },
    {
     "name": "stdout",
     "output_type": "stream",
     "text": [
      "\n",
      "  _____             ____     _____      _\n",
      " |\" ___|    ___    / __\"| u |_ \" _| U  /\"\\  u\n",
      "U| |_  u   |_\"_|  <\\___ \\/    | |    \\/ _ \\/\n",
      "\\|  _|/     | |    u___) |   /| |\\   / ___ \\\\\n",
      " |_|      U/| |\\u  |____/>> u |_|U  /_/   \\_\\\\\n",
      " )(\\\\\\,-.-,_|___|_,-.)(  (__)_// \\\\\\_  \\\\\\    >>\n",
      "(__)(_/ \\_)-' '-(_/(__)    (__) (__)(__)  (__)\n",
      "    \n",
      " - mu:  4.641588833612773e-09\n",
      " - lipschitz constant:  1.099999999999977\n",
      " - data:  (640, 372)\n",
      " - wavelet:  <mri.reconstruct.linear.WaveletN object at 0x7fa4157667f0> - 4\n",
      " - max iterations:  200\n",
      " - image variable shape:  (640, 372)\n",
      " - alpha variable shape:  (238320,)\n",
      "----------------------------------------\n",
      "Starting optimization...\n"
     ]
    },
    {
     "name": "stderr",
     "output_type": "stream",
     "text": [
      "100% (200 of 200) |######################| Elapsed Time: 0:00:52 Time:  0:00:52\n"
     ]
    },
    {
     "name": "stdout",
     "output_type": "stream",
     "text": [
      " - final iteration number:  200\n",
      " - final log10 cost value:  -6.226597954238462\n",
      " - converged:  True\n",
      "Done.\n",
      "Execution time:  1626.8657670000102  seconds\n",
      "----------------------------------------\n"
     ]
    },
    {
     "name": "stderr",
     "output_type": "stream",
     "text": [
      "\u001b[33mWARNING\u001b[0m: Making input data immutable.\n"
     ]
    },
    {
     "name": "stdout",
     "output_type": "stream",
     "text": [
      "\n",
      "  _____             ____     _____      _\n",
      " |\" ___|    ___    / __\"| u |_ \" _| U  /\"\\  u\n",
      "U| |_  u   |_\"_|  <\\___ \\/    | |    \\/ _ \\/\n",
      "\\|  _|/     | |    u___) |   /| |\\   / ___ \\\\\n",
      " |_|      U/| |\\u  |____/>> u |_|U  /_/   \\_\\\\\n",
      " )(\\\\\\,-.-,_|___|_,-.)(  (__)_// \\\\\\_  \\\\\\    >>\n",
      "(__)(_/ \\_)-' '-(_/(__)    (__) (__)(__)  (__)\n",
      "    \n",
      " - mu:  4.641588833612773e-09\n",
      " - lipschitz constant:  1.0999999999999854\n",
      " - data:  (640, 368)\n",
      " - wavelet:  <mri.reconstruct.linear.WaveletN object at 0x7fa415799fd0> - 4\n",
      " - max iterations:  200\n",
      " - image variable shape:  (640, 368)\n",
      " - alpha variable shape:  (235520,)\n",
      "----------------------------------------\n",
      "Starting optimization...\n"
     ]
    },
    {
     "name": "stderr",
     "output_type": "stream",
     "text": [
      "100% (200 of 200) |######################| Elapsed Time: 0:00:50 Time:  0:00:50\n"
     ]
    },
    {
     "name": "stdout",
     "output_type": "stream",
     "text": [
      " - final iteration number:  200\n",
      " - final log10 cost value:  -5.228911639193204\n",
      " - converged:  True\n",
      "Done.\n",
      "Execution time:  1599.017441999982  seconds\n",
      "----------------------------------------\n"
     ]
    },
    {
     "name": "stderr",
     "output_type": "stream",
     "text": [
      "\u001b[33mWARNING\u001b[0m: Making input data immutable.\n"
     ]
    },
    {
     "name": "stdout",
     "output_type": "stream",
     "text": [
      "\n",
      "  _____             ____     _____      _\n",
      " |\" ___|    ___    / __\"| u |_ \" _| U  /\"\\  u\n",
      "U| |_  u   |_\"_|  <\\___ \\/    | |    \\/ _ \\/\n",
      "\\|  _|/     | |    u___) |   /| |\\   / ___ \\\\\n",
      " |_|      U/| |\\u  |____/>> u |_|U  /_/   \\_\\\\\n",
      " )(\\\\\\,-.-,_|___|_,-.)(  (__)_// \\\\\\_  \\\\\\    >>\n",
      "(__)(_/ \\_)-' '-(_/(__)    (__) (__)(__)  (__)\n",
      "    \n",
      " - mu:  4.641588833612773e-09\n",
      " - lipschitz constant:  1.0999999999999812\n",
      " - data:  (640, 368)\n",
      " - wavelet:  <mri.reconstruct.linear.WaveletN object at 0x7fa4156f2208> - 4\n",
      " - max iterations:  200\n",
      " - image variable shape:  (640, 368)\n",
      " - alpha variable shape:  (235520,)\n",
      "----------------------------------------\n",
      "Starting optimization...\n"
     ]
    },
    {
     "name": "stderr",
     "output_type": "stream",
     "text": [
      "100% (200 of 200) |######################| Elapsed Time: 0:00:49 Time:  0:00:49\n"
     ]
    },
    {
     "name": "stdout",
     "output_type": "stream",
     "text": [
      " - final iteration number:  200\n",
      " - final log10 cost value:  -5.597729481847598\n",
      " - converged:  True\n",
      "Done.\n",
      "Execution time:  1580.133559000038  seconds\n",
      "----------------------------------------\n"
     ]
    },
    {
     "name": "stderr",
     "output_type": "stream",
     "text": [
      "\u001b[33mWARNING\u001b[0m: Making input data immutable.\n"
     ]
    },
    {
     "name": "stdout",
     "output_type": "stream",
     "text": [
      "\n",
      "  _____             ____     _____      _\n",
      " |\" ___|    ___    / __\"| u |_ \" _| U  /\"\\  u\n",
      "U| |_  u   |_\"_|  <\\___ \\/    | |    \\/ _ \\/\n",
      "\\|  _|/     | |    u___) |   /| |\\   / ___ \\\\\n",
      " |_|      U/| |\\u  |____/>> u |_|U  /_/   \\_\\\\\n",
      " )(\\\\\\,-.-,_|___|_,-.)(  (__)_// \\\\\\_  \\\\\\    >>\n",
      "(__)(_/ \\_)-' '-(_/(__)    (__) (__)(__)  (__)\n",
      "    \n",
      " - mu:  4.641588833612773e-09\n",
      " - lipschitz constant:  1.0999999999999774\n",
      " - data:  (640, 368)\n",
      " - wavelet:  <mri.reconstruct.linear.WaveletN object at 0x7fa4157661d0> - 4\n",
      " - max iterations:  200\n",
      " - image variable shape:  (640, 368)\n",
      " - alpha variable shape:  (235520,)\n",
      "----------------------------------------\n",
      "Starting optimization...\n"
     ]
    },
    {
     "name": "stderr",
     "output_type": "stream",
     "text": [
      "100% (200 of 200) |######################| Elapsed Time: 0:00:49 Time:  0:00:49\n"
     ]
    },
    {
     "name": "stdout",
     "output_type": "stream",
     "text": [
      " - final iteration number:  200\n",
      " - final log10 cost value:  -4.851355209946308\n",
      " - converged:  True\n",
      "Done.\n",
      "Execution time:  1598.2965030000196  seconds\n",
      "----------------------------------------\n"
     ]
    },
    {
     "name": "stderr",
     "output_type": "stream",
     "text": [
      "\u001b[33mWARNING\u001b[0m: Making input data immutable.\n"
     ]
    },
    {
     "name": "stdout",
     "output_type": "stream",
     "text": [
      "\n",
      "  _____             ____     _____      _\n",
      " |\" ___|    ___    / __\"| u |_ \" _| U  /\"\\  u\n",
      "U| |_  u   |_\"_|  <\\___ \\/    | |    \\/ _ \\/\n",
      "\\|  _|/     | |    u___) |   /| |\\   / ___ \\\\\n",
      " |_|      U/| |\\u  |____/>> u |_|U  /_/   \\_\\\\\n",
      " )(\\\\\\,-.-,_|___|_,-.)(  (__)_// \\\\\\_  \\\\\\    >>\n",
      "(__)(_/ \\_)-' '-(_/(__)    (__) (__)(__)  (__)\n",
      "    \n",
      " - mu:  4.641588833612773e-09\n",
      " - lipschitz constant:  1.1000000000001473\n",
      " - data:  (640, 368)\n",
      " - wavelet:  <mri.reconstruct.linear.WaveletN object at 0x7fa4157607b8> - 4\n",
      " - max iterations:  200\n",
      " - image variable shape:  (640, 368)\n",
      " - alpha variable shape:  (235520,)\n",
      "----------------------------------------\n",
      "Starting optimization...\n"
     ]
    },
    {
     "name": "stderr",
     "output_type": "stream",
     "text": [
      "100% (200 of 200) |######################| Elapsed Time: 0:00:49 Time:  0:00:49\n"
     ]
    },
    {
     "name": "stdout",
     "output_type": "stream",
     "text": [
      " - final iteration number:  200\n",
      " - final log10 cost value:  -5.620859431243074\n",
      " - converged:  True\n",
      "Done.\n",
      "Execution time:  1583.0785339999711  seconds\n",
      "----------------------------------------\n",
      "\n"
     ]
    },
    {
     "data": {
      "application/vnd.jupyter.widget-view+json": {
       "model_id": "cfeaf136e00d487c9cd38aae5defe42b",
       "version_major": 2,
       "version_minor": 0
      },
      "text/plain": [
       "HBox(children=(FloatProgress(value=0.0, description='Stats', max=24.0, style=ProgressStyle(description_width='…"
      ]
     },
     "metadata": {},
     "output_type": "display_data"
    },
    {
     "name": "stdout",
     "output_type": "stream",
     "text": [
      "\n"
     ]
    },
    {
     "data": {
      "application/vnd.jupyter.widget-view+json": {
       "model_id": "d4134a2631c54c4d8a9eb92f74195f86",
       "version_major": 2,
       "version_minor": 0
      },
      "text/plain": [
       "HBox(children=(FloatProgress(value=0.0, description='K-spaces', max=24.0, style=ProgressStyle(description_widt…"
      ]
     },
     "metadata": {},
     "output_type": "display_data"
    },
    {
     "name": "stderr",
     "output_type": "stream",
     "text": [
      "\u001b[33mWARNING\u001b[0m: Making input data immutable.\n"
     ]
    },
    {
     "name": "stdout",
     "output_type": "stream",
     "text": [
      "\n",
      "  _____             ____     _____      _\n",
      " |\" ___|    ___    / __\"| u |_ \" _| U  /\"\\  u\n",
      "U| |_  u   |_\"_|  <\\___ \\/    | |    \\/ _ \\/\n",
      "\\|  _|/     | |    u___) |   /| |\\   / ___ \\\\\n",
      " |_|      U/| |\\u  |____/>> u |_|U  /_/   \\_\\\\\n",
      " )(\\\\\\,-.-,_|___|_,-.)(  (__)_// \\\\\\_  \\\\\\    >>\n",
      "(__)(_/ \\_)-' '-(_/(__)    (__) (__)(__)  (__)\n",
      "    \n",
      " - mu:  1e-08\n",
      " - lipschitz constant:  1.0999999999999746\n",
      " - data:  (640, 372)\n",
      " - wavelet:  <mri.reconstruct.linear.WaveletN object at 0x7fa415760198> - 4\n",
      " - max iterations:  200\n",
      " - image variable shape:  (640, 372)\n",
      " - alpha variable shape:  (238320,)\n",
      "----------------------------------------\n",
      "Starting optimization...\n"
     ]
    },
    {
     "name": "stderr",
     "output_type": "stream",
     "text": [
      "100% (200 of 200) |######################| Elapsed Time: 0:00:52 Time:  0:00:52\n"
     ]
    },
    {
     "name": "stdout",
     "output_type": "stream",
     "text": [
      " - final iteration number:  200\n",
      " - final log10 cost value:  -6.296078064481873\n",
      " - converged:  True\n",
      "Done.\n",
      "Execution time:  1618.9475169999641  seconds\n",
      "----------------------------------------\n"
     ]
    },
    {
     "name": "stderr",
     "output_type": "stream",
     "text": [
      "\u001b[33mWARNING\u001b[0m: Making input data immutable.\n"
     ]
    },
    {
     "name": "stdout",
     "output_type": "stream",
     "text": [
      "\n",
      "  _____             ____     _____      _\n",
      " |\" ___|    ___    / __\"| u |_ \" _| U  /\"\\  u\n",
      "U| |_  u   |_\"_|  <\\___ \\/    | |    \\/ _ \\/\n",
      "\\|  _|/     | |    u___) |   /| |\\   / ___ \\\\\n",
      " |_|      U/| |\\u  |____/>> u |_|U  /_/   \\_\\\\\n",
      " )(\\\\\\,-.-,_|___|_,-.)(  (__)_// \\\\\\_  \\\\\\    >>\n",
      "(__)(_/ \\_)-' '-(_/(__)    (__) (__)(__)  (__)\n",
      "    \n",
      " - mu:  1e-08\n",
      " - lipschitz constant:  1.1000000000000685\n",
      " - data:  (640, 368)\n",
      " - wavelet:  <mri.reconstruct.linear.WaveletN object at 0x7fa415720c50> - 4\n",
      " - max iterations:  200\n",
      " - image variable shape:  (640, 368)\n",
      " - alpha variable shape:  (235520,)\n",
      "----------------------------------------\n",
      "Starting optimization...\n"
     ]
    },
    {
     "name": "stderr",
     "output_type": "stream",
     "text": [
      "100% (200 of 200) |######################| Elapsed Time: 0:00:50 Time:  0:00:50\n"
     ]
    },
    {
     "name": "stdout",
     "output_type": "stream",
     "text": [
      " - final iteration number:  200\n",
      " - final log10 cost value:  -5.7442697482873255\n",
      " - converged:  True\n",
      "Done.\n",
      "Execution time:  1577.5587280000327  seconds\n",
      "----------------------------------------\n"
     ]
    },
    {
     "name": "stderr",
     "output_type": "stream",
     "text": [
      "\u001b[33mWARNING\u001b[0m: Making input data immutable.\n"
     ]
    },
    {
     "name": "stdout",
     "output_type": "stream",
     "text": [
      "\n",
      "  _____             ____     _____      _\n",
      " |\" ___|    ___    / __\"| u |_ \" _| U  /\"\\  u\n",
      "U| |_  u   |_\"_|  <\\___ \\/    | |    \\/ _ \\/\n",
      "\\|  _|/     | |    u___) |   /| |\\   / ___ \\\\\n",
      " |_|      U/| |\\u  |____/>> u |_|U  /_/   \\_\\\\\n",
      " )(\\\\\\,-.-,_|___|_,-.)(  (__)_// \\\\\\_  \\\\\\    >>\n",
      "(__)(_/ \\_)-' '-(_/(__)    (__) (__)(__)  (__)\n",
      "    \n",
      " - mu:  1e-08\n",
      " - lipschitz constant:  1.1000000000000336\n",
      " - data:  (640, 368)\n",
      " - wavelet:  <mri.reconstruct.linear.WaveletN object at 0x7fa415738f98> - 4\n",
      " - max iterations:  200\n",
      " - image variable shape:  (640, 368)\n",
      " - alpha variable shape:  (235520,)\n",
      "----------------------------------------\n",
      "Starting optimization...\n"
     ]
    },
    {
     "name": "stderr",
     "output_type": "stream",
     "text": [
      "100% (200 of 200) |######################| Elapsed Time: 0:00:49 Time:  0:00:49\n"
     ]
    },
    {
     "name": "stdout",
     "output_type": "stream",
     "text": [
      " - final iteration number:  200\n",
      " - final log10 cost value:  -5.64227570493377\n",
      " - converged:  True\n",
      "Done.\n",
      "Execution time:  1586.3604129999876  seconds\n",
      "----------------------------------------\n"
     ]
    },
    {
     "name": "stderr",
     "output_type": "stream",
     "text": [
      "\u001b[33mWARNING\u001b[0m: Making input data immutable.\n"
     ]
    },
    {
     "name": "stdout",
     "output_type": "stream",
     "text": [
      "\n",
      "  _____             ____     _____      _\n",
      " |\" ___|    ___    / __\"| u |_ \" _| U  /\"\\  u\n",
      "U| |_  u   |_\"_|  <\\___ \\/    | |    \\/ _ \\/\n",
      "\\|  _|/     | |    u___) |   /| |\\   / ___ \\\\\n",
      " |_|      U/| |\\u  |____/>> u |_|U  /_/   \\_\\\\\n",
      " )(\\\\\\,-.-,_|___|_,-.)(  (__)_// \\\\\\_  \\\\\\    >>\n",
      "(__)(_/ \\_)-' '-(_/(__)    (__) (__)(__)  (__)\n",
      "    \n",
      " - mu:  1e-08\n",
      " - lipschitz constant:  1.0999999999999877\n",
      " - data:  (640, 368)\n",
      " - wavelet:  <mri.reconstruct.linear.WaveletN object at 0x7fa41570e828> - 4\n",
      " - max iterations:  200\n",
      " - image variable shape:  (640, 368)\n",
      " - alpha variable shape:  (235520,)\n",
      "----------------------------------------\n",
      "Starting optimization...\n"
     ]
    },
    {
     "name": "stderr",
     "output_type": "stream",
     "text": [
      "100% (200 of 200) |######################| Elapsed Time: 0:00:49 Time:  0:00:49\n"
     ]
    },
    {
     "name": "stdout",
     "output_type": "stream",
     "text": [
      " - final iteration number:  200\n",
      " - final log10 cost value:  -5.011754855011911\n",
      " - converged:  True\n",
      "Done.\n",
      "Execution time:  1582.466281000001  seconds\n",
      "----------------------------------------\n"
     ]
    },
    {
     "name": "stderr",
     "output_type": "stream",
     "text": [
      "\u001b[33mWARNING\u001b[0m: Making input data immutable.\n"
     ]
    },
    {
     "name": "stdout",
     "output_type": "stream",
     "text": [
      "\n",
      "  _____             ____     _____      _\n",
      " |\" ___|    ___    / __\"| u |_ \" _| U  /\"\\  u\n",
      "U| |_  u   |_\"_|  <\\___ \\/    | |    \\/ _ \\/\n",
      "\\|  _|/     | |    u___) |   /| |\\   / ___ \\\\\n",
      " |_|      U/| |\\u  |____/>> u |_|U  /_/   \\_\\\\\n",
      " )(\\\\\\,-.-,_|___|_,-.)(  (__)_// \\\\\\_  \\\\\\    >>\n",
      "(__)(_/ \\_)-' '-(_/(__)    (__) (__)(__)  (__)\n",
      "    \n",
      " - mu:  1e-08\n",
      " - lipschitz constant:  1.100000000000073\n",
      " - data:  (640, 372)\n",
      " - wavelet:  <mri.reconstruct.linear.WaveletN object at 0x7fa415738c50> - 4\n",
      " - max iterations:  200\n",
      " - image variable shape:  (640, 372)\n",
      " - alpha variable shape:  (238320,)\n",
      "----------------------------------------\n",
      "Starting optimization...\n"
     ]
    },
    {
     "name": "stderr",
     "output_type": "stream",
     "text": [
      "100% (200 of 200) |######################| Elapsed Time: 0:00:51 Time:  0:00:51\n"
     ]
    },
    {
     "name": "stdout",
     "output_type": "stream",
     "text": [
      " - final iteration number:  200\n",
      " - final log10 cost value:  -6.281556028523493\n",
      " - converged:  True\n",
      "Done.\n",
      "Execution time:  1628.8736799999606  seconds\n",
      "----------------------------------------\n"
     ]
    },
    {
     "name": "stderr",
     "output_type": "stream",
     "text": [
      "\u001b[33mWARNING\u001b[0m: Making input data immutable.\n"
     ]
    },
    {
     "name": "stdout",
     "output_type": "stream",
     "text": [
      "\n",
      "  _____             ____     _____      _\n",
      " |\" ___|    ___    / __\"| u |_ \" _| U  /\"\\  u\n",
      "U| |_  u   |_\"_|  <\\___ \\/    | |    \\/ _ \\/\n",
      "\\|  _|/     | |    u___) |   /| |\\   / ___ \\\\\n",
      " |_|      U/| |\\u  |____/>> u |_|U  /_/   \\_\\\\\n",
      " )(\\\\\\,-.-,_|___|_,-.)(  (__)_// \\\\\\_  \\\\\\    >>\n",
      "(__)(_/ \\_)-' '-(_/(__)    (__) (__)(__)  (__)\n",
      "    \n",
      " - mu:  1e-08\n",
      " - lipschitz constant:  1.0999999999999788\n",
      " - data:  (640, 368)\n",
      " - wavelet:  <mri.reconstruct.linear.WaveletN object at 0x7fa41570e940> - 4\n",
      " - max iterations:  200\n",
      " - image variable shape:  (640, 368)\n",
      " - alpha variable shape:  (235520,)\n",
      "----------------------------------------\n",
      "Starting optimization...\n"
     ]
    },
    {
     "name": "stderr",
     "output_type": "stream",
     "text": [
      "100% (200 of 200) |######################| Elapsed Time: 0:00:49 Time:  0:00:49\n"
     ]
    },
    {
     "name": "stdout",
     "output_type": "stream",
     "text": [
      " - final iteration number:  200\n",
      " - final log10 cost value:  -5.615478136828998\n",
      " - converged:  True\n",
      "Done.\n",
      "Execution time:  1609.9719499999774  seconds\n",
      "----------------------------------------\n"
     ]
    },
    {
     "name": "stderr",
     "output_type": "stream",
     "text": [
      "\u001b[33mWARNING\u001b[0m: Making input data immutable.\n"
     ]
    },
    {
     "name": "stdout",
     "output_type": "stream",
     "text": [
      "\n",
      "  _____             ____     _____      _\n",
      " |\" ___|    ___    / __\"| u |_ \" _| U  /\"\\  u\n",
      "U| |_  u   |_\"_|  <\\___ \\/    | |    \\/ _ \\/\n",
      "\\|  _|/     | |    u___) |   /| |\\   / ___ \\\\\n",
      " |_|      U/| |\\u  |____/>> u |_|U  /_/   \\_\\\\\n",
      " )(\\\\\\,-.-,_|___|_,-.)(  (__)_// \\\\\\_  \\\\\\    >>\n",
      "(__)(_/ \\_)-' '-(_/(__)    (__) (__)(__)  (__)\n",
      "    \n",
      " - mu:  1e-08\n",
      " - lipschitz constant:  1.0999999999999786\n",
      " - data:  (640, 388)\n",
      " - wavelet:  <mri.reconstruct.linear.WaveletN object at 0x7fa4156a8438> - 4\n",
      " - max iterations:  200\n",
      " - image variable shape:  (640, 388)\n",
      " - alpha variable shape:  (248560,)\n",
      "----------------------------------------\n",
      "Starting optimization...\n"
     ]
    },
    {
     "name": "stderr",
     "output_type": "stream",
     "text": [
      "100% (200 of 200) |######################| Elapsed Time: 0:01:03 Time:  0:01:03\n"
     ]
    },
    {
     "name": "stdout",
     "output_type": "stream",
     "text": [
      " - final iteration number:  200\n",
      " - final log10 cost value:  -5.636111531050658\n",
      " - converged:  True\n",
      "Done.\n",
      "Execution time:  1838.2412219999824  seconds\n",
      "----------------------------------------\n"
     ]
    },
    {
     "name": "stderr",
     "output_type": "stream",
     "text": [
      "\u001b[33mWARNING\u001b[0m: Making input data immutable.\n"
     ]
    },
    {
     "name": "stdout",
     "output_type": "stream",
     "text": [
      "\n",
      "  _____             ____     _____      _\n",
      " |\" ___|    ___    / __\"| u |_ \" _| U  /\"\\  u\n",
      "U| |_  u   |_\"_|  <\\___ \\/    | |    \\/ _ \\/\n",
      "\\|  _|/     | |    u___) |   /| |\\   / ___ \\\\\n",
      " |_|      U/| |\\u  |____/>> u |_|U  /_/   \\_\\\\\n",
      " )(\\\\\\,-.-,_|___|_,-.)(  (__)_// \\\\\\_  \\\\\\    >>\n",
      "(__)(_/ \\_)-' '-(_/(__)    (__) (__)(__)  (__)\n",
      "    \n",
      " - mu:  1e-08\n",
      " - lipschitz constant:  1.1000000000000854\n",
      " - data:  (640, 400)\n",
      " - wavelet:  <mri.reconstruct.linear.WaveletN object at 0x7fa4156f2208> - 4\n",
      " - max iterations:  200\n",
      " - image variable shape:  (640, 400)\n",
      " - alpha variable shape:  (256000,)\n",
      "----------------------------------------\n",
      "Starting optimization...\n"
     ]
    },
    {
     "name": "stderr",
     "output_type": "stream",
     "text": [
      "100% (200 of 200) |######################| Elapsed Time: 0:00:51 Time:  0:00:51\n"
     ]
    },
    {
     "name": "stdout",
     "output_type": "stream",
     "text": [
      " - final iteration number:  200\n",
      " - final log10 cost value:  -4.884946612756571\n",
      " - converged:  True\n",
      "Done.\n",
      "Execution time:  1631.025576999993  seconds\n",
      "----------------------------------------\n"
     ]
    },
    {
     "name": "stderr",
     "output_type": "stream",
     "text": [
      "\u001b[33mWARNING\u001b[0m: Making input data immutable.\n"
     ]
    },
    {
     "name": "stdout",
     "output_type": "stream",
     "text": [
      "\n",
      "  _____             ____     _____      _\n",
      " |\" ___|    ___    / __\"| u |_ \" _| U  /\"\\  u\n",
      "U| |_  u   |_\"_|  <\\___ \\/    | |    \\/ _ \\/\n",
      "\\|  _|/     | |    u___) |   /| |\\   / ___ \\\\\n",
      " |_|      U/| |\\u  |____/>> u |_|U  /_/   \\_\\\\\n",
      " )(\\\\\\,-.-,_|___|_,-.)(  (__)_// \\\\\\_  \\\\\\    >>\n",
      "(__)(_/ \\_)-' '-(_/(__)    (__) (__)(__)  (__)\n",
      "    \n",
      " - mu:  1e-08\n",
      " - lipschitz constant:  1.100000000000027\n",
      " - data:  (640, 368)\n",
      " - wavelet:  <mri.reconstruct.linear.WaveletN object at 0x7fa415760400> - 4\n",
      " - max iterations:  200\n",
      " - image variable shape:  (640, 368)\n",
      " - alpha variable shape:  (235520,)\n",
      "----------------------------------------\n",
      "Starting optimization...\n"
     ]
    },
    {
     "name": "stderr",
     "output_type": "stream",
     "text": [
      "100% (200 of 200) |######################| Elapsed Time: 0:00:50 Time:  0:00:50\n"
     ]
    },
    {
     "name": "stdout",
     "output_type": "stream",
     "text": [
      " - final iteration number:  200\n",
      " - final log10 cost value:  -5.257670503981364\n",
      " - converged:  True\n",
      "Done.\n",
      "Execution time:  1597.081481000001  seconds\n",
      "----------------------------------------\n"
     ]
    },
    {
     "name": "stderr",
     "output_type": "stream",
     "text": [
      "\u001b[33mWARNING\u001b[0m: Making input data immutable.\n"
     ]
    },
    {
     "name": "stdout",
     "output_type": "stream",
     "text": [
      "\n",
      "  _____             ____     _____      _\n",
      " |\" ___|    ___    / __\"| u |_ \" _| U  /\"\\  u\n",
      "U| |_  u   |_\"_|  <\\___ \\/    | |    \\/ _ \\/\n",
      "\\|  _|/     | |    u___) |   /| |\\   / ___ \\\\\n",
      " |_|      U/| |\\u  |____/>> u |_|U  /_/   \\_\\\\\n",
      " )(\\\\\\,-.-,_|___|_,-.)(  (__)_// \\\\\\_  \\\\\\    >>\n",
      "(__)(_/ \\_)-' '-(_/(__)    (__) (__)(__)  (__)\n",
      "    \n",
      " - mu:  1e-08\n",
      " - lipschitz constant:  1.0999999999999808\n",
      " - data:  (640, 372)\n",
      " - wavelet:  <mri.reconstruct.linear.WaveletN object at 0x7fa41578e8d0> - 4\n",
      " - max iterations:  200\n",
      " - image variable shape:  (640, 372)\n",
      " - alpha variable shape:  (238320,)\n",
      "----------------------------------------\n",
      "Starting optimization...\n"
     ]
    },
    {
     "name": "stderr",
     "output_type": "stream",
     "text": [
      "100% (200 of 200) |######################| Elapsed Time: 0:00:51 Time:  0:00:51\n"
     ]
    },
    {
     "name": "stdout",
     "output_type": "stream",
     "text": [
      " - final iteration number:  200\n",
      " - final log10 cost value:  -6.381774557699733\n",
      " - converged:  True\n",
      "Done.\n",
      "Execution time:  1646.6014600000344  seconds\n",
      "----------------------------------------\n"
     ]
    },
    {
     "name": "stderr",
     "output_type": "stream",
     "text": [
      "\u001b[33mWARNING\u001b[0m: Making input data immutable.\n"
     ]
    },
    {
     "name": "stdout",
     "output_type": "stream",
     "text": [
      "\n",
      "  _____             ____     _____      _\n",
      " |\" ___|    ___    / __\"| u |_ \" _| U  /\"\\  u\n",
      "U| |_  u   |_\"_|  <\\___ \\/    | |    \\/ _ \\/\n",
      "\\|  _|/     | |    u___) |   /| |\\   / ___ \\\\\n",
      " |_|      U/| |\\u  |____/>> u |_|U  /_/   \\_\\\\\n",
      " )(\\\\\\,-.-,_|___|_,-.)(  (__)_// \\\\\\_  \\\\\\    >>\n",
      "(__)(_/ \\_)-' '-(_/(__)    (__) (__)(__)  (__)\n",
      "    \n",
      " - mu:  1e-08\n",
      " - lipschitz constant:  1.0999999999999681\n",
      " - data:  (640, 372)\n",
      " - wavelet:  <mri.reconstruct.linear.WaveletN object at 0x7fa41570e5f8> - 4\n",
      " - max iterations:  200\n",
      " - image variable shape:  (640, 372)\n",
      " - alpha variable shape:  (238320,)\n",
      "----------------------------------------\n",
      "Starting optimization...\n"
     ]
    },
    {
     "name": "stderr",
     "output_type": "stream",
     "text": [
      "100% (200 of 200) |######################| Elapsed Time: 0:00:52 Time:  0:00:52\n"
     ]
    },
    {
     "name": "stdout",
     "output_type": "stream",
     "text": [
      " - final iteration number:  200\n",
      " - final log10 cost value:  -6.289917020510698\n",
      " - converged:  True\n",
      "Done.\n",
      "Execution time:  1634.2898389999755  seconds\n",
      "----------------------------------------\n"
     ]
    },
    {
     "name": "stderr",
     "output_type": "stream",
     "text": [
      "\u001b[33mWARNING\u001b[0m: Making input data immutable.\n"
     ]
    },
    {
     "name": "stdout",
     "output_type": "stream",
     "text": [
      "\n",
      "  _____             ____     _____      _\n",
      " |\" ___|    ___    / __\"| u |_ \" _| U  /\"\\  u\n",
      "U| |_  u   |_\"_|  <\\___ \\/    | |    \\/ _ \\/\n",
      "\\|  _|/     | |    u___) |   /| |\\   / ___ \\\\\n",
      " |_|      U/| |\\u  |____/>> u |_|U  /_/   \\_\\\\\n",
      " )(\\\\\\,-.-,_|___|_,-.)(  (__)_// \\\\\\_  \\\\\\    >>\n",
      "(__)(_/ \\_)-' '-(_/(__)    (__) (__)(__)  (__)\n",
      "    \n",
      " - mu:  1e-08\n",
      " - lipschitz constant:  1.1000000000000687\n",
      " - data:  (640, 372)\n",
      " - wavelet:  <mri.reconstruct.linear.WaveletN object at 0x7fa415777ac8> - 4\n",
      " - max iterations:  200\n",
      " - image variable shape:  (640, 372)\n",
      " - alpha variable shape:  (238320,)\n",
      "----------------------------------------\n",
      "Starting optimization...\n"
     ]
    },
    {
     "name": "stderr",
     "output_type": "stream",
     "text": [
      "100% (200 of 200) |######################| Elapsed Time: 0:00:52 Time:  0:00:52\n"
     ]
    },
    {
     "name": "stdout",
     "output_type": "stream",
     "text": [
      " - final iteration number:  200\n",
      " - final log10 cost value:  -6.417415870400221\n",
      " - converged:  True\n",
      "Done.\n",
      "Execution time:  1637.6214679999975  seconds\n",
      "----------------------------------------\n"
     ]
    },
    {
     "name": "stderr",
     "output_type": "stream",
     "text": [
      "\u001b[33mWARNING\u001b[0m: Making input data immutable.\n"
     ]
    },
    {
     "name": "stdout",
     "output_type": "stream",
     "text": [
      "\n",
      "  _____             ____     _____      _\n",
      " |\" ___|    ___    / __\"| u |_ \" _| U  /\"\\  u\n",
      "U| |_  u   |_\"_|  <\\___ \\/    | |    \\/ _ \\/\n",
      "\\|  _|/     | |    u___) |   /| |\\   / ___ \\\\\n",
      " |_|      U/| |\\u  |____/>> u |_|U  /_/   \\_\\\\\n",
      " )(\\\\\\,-.-,_|___|_,-.)(  (__)_// \\\\\\_  \\\\\\    >>\n",
      "(__)(_/ \\_)-' '-(_/(__)    (__) (__)(__)  (__)\n",
      "    \n",
      " - mu:  1e-08\n",
      " - lipschitz constant:  1.1000000000000723\n",
      " - data:  (640, 368)\n",
      " - wavelet:  <mri.reconstruct.linear.WaveletN object at 0x7fa415738c50> - 4\n",
      " - max iterations:  200\n",
      " - image variable shape:  (640, 368)\n",
      " - alpha variable shape:  (235520,)\n",
      "----------------------------------------\n",
      "Starting optimization...\n"
     ]
    },
    {
     "name": "stderr",
     "output_type": "stream",
     "text": [
      "100% (200 of 200) |######################| Elapsed Time: 0:00:50 Time:  0:00:50\n"
     ]
    },
    {
     "name": "stdout",
     "output_type": "stream",
     "text": [
      " - final iteration number:  200\n",
      " - final log10 cost value:  -5.120523650586075\n",
      " - converged:  True\n",
      "Done.\n",
      "Execution time:  1579.405724000011  seconds\n",
      "----------------------------------------\n"
     ]
    },
    {
     "name": "stderr",
     "output_type": "stream",
     "text": [
      "\u001b[33mWARNING\u001b[0m: Making input data immutable.\n"
     ]
    },
    {
     "name": "stdout",
     "output_type": "stream",
     "text": [
      "\n",
      "  _____             ____     _____      _\n",
      " |\" ___|    ___    / __\"| u |_ \" _| U  /\"\\  u\n",
      "U| |_  u   |_\"_|  <\\___ \\/    | |    \\/ _ \\/\n",
      "\\|  _|/     | |    u___) |   /| |\\   / ___ \\\\\n",
      " |_|      U/| |\\u  |____/>> u |_|U  /_/   \\_\\\\\n",
      " )(\\\\\\,-.-,_|___|_,-.)(  (__)_// \\\\\\_  \\\\\\    >>\n",
      "(__)(_/ \\_)-' '-(_/(__)    (__) (__)(__)  (__)\n",
      "    \n",
      " - mu:  1e-08\n",
      " - lipschitz constant:  1.1000000000000603\n",
      " - data:  (640, 368)\n",
      " - wavelet:  <mri.reconstruct.linear.WaveletN object at 0x7fa41578e668> - 4\n",
      " - max iterations:  200\n",
      " - image variable shape:  (640, 368)\n",
      " - alpha variable shape:  (235520,)\n",
      "----------------------------------------\n",
      "Starting optimization...\n"
     ]
    },
    {
     "name": "stderr",
     "output_type": "stream",
     "text": [
      "100% (200 of 200) |######################| Elapsed Time: 0:00:49 Time:  0:00:49\n"
     ]
    },
    {
     "name": "stdout",
     "output_type": "stream",
     "text": [
      " - final iteration number:  200\n",
      " - final log10 cost value:  -5.211049290141536\n",
      " - converged:  True\n",
      "Done.\n",
      "Execution time:  1592.3622529999702  seconds\n",
      "----------------------------------------\n"
     ]
    },
    {
     "name": "stderr",
     "output_type": "stream",
     "text": [
      "\u001b[33mWARNING\u001b[0m: Making input data immutable.\n"
     ]
    },
    {
     "name": "stdout",
     "output_type": "stream",
     "text": [
      "\n",
      "  _____             ____     _____      _\n",
      " |\" ___|    ___    / __\"| u |_ \" _| U  /\"\\  u\n",
      "U| |_  u   |_\"_|  <\\___ \\/    | |    \\/ _ \\/\n",
      "\\|  _|/     | |    u___) |   /| |\\   / ___ \\\\\n",
      " |_|      U/| |\\u  |____/>> u |_|U  /_/   \\_\\\\\n",
      " )(\\\\\\,-.-,_|___|_,-.)(  (__)_// \\\\\\_  \\\\\\    >>\n",
      "(__)(_/ \\_)-' '-(_/(__)    (__) (__)(__)  (__)\n",
      "    \n",
      " - mu:  1e-08\n",
      " - lipschitz constant:  1.0999999999999792\n",
      " - data:  (640, 372)\n",
      " - wavelet:  <mri.reconstruct.linear.WaveletN object at 0x7fa4156d3860> - 4\n",
      " - max iterations:  200\n",
      " - image variable shape:  (640, 372)\n",
      " - alpha variable shape:  (238320,)\n",
      "----------------------------------------\n",
      "Starting optimization...\n"
     ]
    },
    {
     "name": "stderr",
     "output_type": "stream",
     "text": [
      "100% (200 of 200) |######################| Elapsed Time: 0:00:52 Time:  0:00:52\n"
     ]
    },
    {
     "name": "stdout",
     "output_type": "stream",
     "text": [
      " - final iteration number:  200\n",
      " - final log10 cost value:  -6.270659941015538\n",
      " - converged:  True\n",
      "Done.\n",
      "Execution time:  1636.0332469999557  seconds\n",
      "----------------------------------------\n"
     ]
    },
    {
     "name": "stderr",
     "output_type": "stream",
     "text": [
      "\u001b[33mWARNING\u001b[0m: Making input data immutable.\n"
     ]
    },
    {
     "name": "stdout",
     "output_type": "stream",
     "text": [
      "\n",
      "  _____             ____     _____      _\n",
      " |\" ___|    ___    / __\"| u |_ \" _| U  /\"\\  u\n",
      "U| |_  u   |_\"_|  <\\___ \\/    | |    \\/ _ \\/\n",
      "\\|  _|/     | |    u___) |   /| |\\   / ___ \\\\\n",
      " |_|      U/| |\\u  |____/>> u |_|U  /_/   \\_\\\\\n",
      " )(\\\\\\,-.-,_|___|_,-.)(  (__)_// \\\\\\_  \\\\\\    >>\n",
      "(__)(_/ \\_)-' '-(_/(__)    (__) (__)(__)  (__)\n",
      "    \n",
      " - mu:  1e-08\n",
      " - lipschitz constant:  1.1000000000001475\n",
      " - data:  (640, 372)\n",
      " - wavelet:  <mri.reconstruct.linear.WaveletN object at 0x7fa4156d3668> - 4\n",
      " - max iterations:  200\n",
      " - image variable shape:  (640, 372)\n",
      " - alpha variable shape:  (238320,)\n",
      "----------------------------------------\n",
      "Starting optimization...\n"
     ]
    },
    {
     "name": "stderr",
     "output_type": "stream",
     "text": [
      "100% (200 of 200) |######################| Elapsed Time: 0:00:51 Time:  0:00:51\n"
     ]
    },
    {
     "name": "stdout",
     "output_type": "stream",
     "text": [
      " - final iteration number:  200\n",
      " - final log10 cost value:  -6.313804784151993\n",
      " - converged:  True\n",
      "Done.\n",
      "Execution time:  1632.3587219999754  seconds\n",
      "----------------------------------------\n"
     ]
    },
    {
     "name": "stderr",
     "output_type": "stream",
     "text": [
      "\u001b[33mWARNING\u001b[0m: Making input data immutable.\n"
     ]
    },
    {
     "name": "stdout",
     "output_type": "stream",
     "text": [
      "\n",
      "  _____             ____     _____      _\n",
      " |\" ___|    ___    / __\"| u |_ \" _| U  /\"\\  u\n",
      "U| |_  u   |_\"_|  <\\___ \\/    | |    \\/ _ \\/\n",
      "\\|  _|/     | |    u___) |   /| |\\   / ___ \\\\\n",
      " |_|      U/| |\\u  |____/>> u |_|U  /_/   \\_\\\\\n",
      " )(\\\\\\,-.-,_|___|_,-.)(  (__)_// \\\\\\_  \\\\\\    >>\n",
      "(__)(_/ \\_)-' '-(_/(__)    (__) (__)(__)  (__)\n",
      "    \n",
      " - mu:  1e-08\n",
      " - lipschitz constant:  1.1000000000000676\n",
      " - data:  (640, 368)\n",
      " - wavelet:  <mri.reconstruct.linear.WaveletN object at 0x7fa415738c50> - 4\n",
      " - max iterations:  200\n",
      " - image variable shape:  (640, 368)\n",
      " - alpha variable shape:  (235520,)\n",
      "----------------------------------------\n",
      "Starting optimization...\n"
     ]
    },
    {
     "name": "stderr",
     "output_type": "stream",
     "text": [
      "100% (200 of 200) |######################| Elapsed Time: 0:00:50 Time:  0:00:50\n"
     ]
    },
    {
     "name": "stdout",
     "output_type": "stream",
     "text": [
      " - final iteration number:  200\n",
      " - final log10 cost value:  -4.81165906477803\n",
      " - converged:  True\n",
      "Done.\n",
      "Execution time:  1610.2370970000047  seconds\n",
      "----------------------------------------\n"
     ]
    },
    {
     "name": "stderr",
     "output_type": "stream",
     "text": [
      "\u001b[33mWARNING\u001b[0m: Making input data immutable.\n"
     ]
    },
    {
     "name": "stdout",
     "output_type": "stream",
     "text": [
      "\n",
      "  _____             ____     _____      _\n",
      " |\" ___|    ___    / __\"| u |_ \" _| U  /\"\\  u\n",
      "U| |_  u   |_\"_|  <\\___ \\/    | |    \\/ _ \\/\n",
      "\\|  _|/     | |    u___) |   /| |\\   / ___ \\\\\n",
      " |_|      U/| |\\u  |____/>> u |_|U  /_/   \\_\\\\\n",
      " )(\\\\\\,-.-,_|___|_,-.)(  (__)_// \\\\\\_  \\\\\\    >>\n",
      "(__)(_/ \\_)-' '-(_/(__)    (__) (__)(__)  (__)\n",
      "    \n",
      " - mu:  1e-08\n",
      " - lipschitz constant:  1.0999999999999792\n",
      " - data:  (640, 368)\n",
      " - wavelet:  <mri.reconstruct.linear.WaveletN object at 0x7fa41578e240> - 4\n",
      " - max iterations:  200\n",
      " - image variable shape:  (640, 368)\n",
      " - alpha variable shape:  (235520,)\n",
      "----------------------------------------\n",
      "Starting optimization...\n"
     ]
    },
    {
     "name": "stderr",
     "output_type": "stream",
     "text": [
      "100% (200 of 200) |######################| Elapsed Time: 0:00:50 Time:  0:00:50\n"
     ]
    },
    {
     "name": "stdout",
     "output_type": "stream",
     "text": [
      " - final iteration number:  200\n",
      " - final log10 cost value:  -5.619535568255418\n",
      " - converged:  True\n",
      "Done.\n",
      "Execution time:  1602.6450220000115  seconds\n",
      "----------------------------------------\n"
     ]
    },
    {
     "name": "stderr",
     "output_type": "stream",
     "text": [
      "\u001b[33mWARNING\u001b[0m: Making input data immutable.\n"
     ]
    },
    {
     "name": "stdout",
     "output_type": "stream",
     "text": [
      "\n",
      "  _____             ____     _____      _\n",
      " |\" ___|    ___    / __\"| u |_ \" _| U  /\"\\  u\n",
      "U| |_  u   |_\"_|  <\\___ \\/    | |    \\/ _ \\/\n",
      "\\|  _|/     | |    u___) |   /| |\\   / ___ \\\\\n",
      " |_|      U/| |\\u  |____/>> u |_|U  /_/   \\_\\\\\n",
      " )(\\\\\\,-.-,_|___|_,-.)(  (__)_// \\\\\\_  \\\\\\    >>\n",
      "(__)(_/ \\_)-' '-(_/(__)    (__) (__)(__)  (__)\n",
      "    \n",
      " - mu:  1e-08\n",
      " - lipschitz constant:  1.0999999999999788\n",
      " - data:  (640, 368)\n",
      " - wavelet:  <mri.reconstruct.linear.WaveletN object at 0x7fa4156d3470> - 4\n",
      " - max iterations:  200\n",
      " - image variable shape:  (640, 368)\n",
      " - alpha variable shape:  (235520,)\n",
      "----------------------------------------\n",
      "Starting optimization...\n"
     ]
    },
    {
     "name": "stderr",
     "output_type": "stream",
     "text": [
      "100% (200 of 200) |######################| Elapsed Time: 0:00:50 Time:  0:00:50\n"
     ]
    },
    {
     "name": "stdout",
     "output_type": "stream",
     "text": [
      " - final iteration number:  200\n",
      " - final log10 cost value:  -4.76685810609642\n",
      " - converged:  True\n",
      "Done.\n",
      "Execution time:  1595.489719999954  seconds\n",
      "----------------------------------------\n"
     ]
    },
    {
     "name": "stderr",
     "output_type": "stream",
     "text": [
      "\u001b[33mWARNING\u001b[0m: Making input data immutable.\n"
     ]
    },
    {
     "name": "stdout",
     "output_type": "stream",
     "text": [
      "\n",
      "  _____             ____     _____      _\n",
      " |\" ___|    ___    / __\"| u |_ \" _| U  /\"\\  u\n",
      "U| |_  u   |_\"_|  <\\___ \\/    | |    \\/ _ \\/\n",
      "\\|  _|/     | |    u___) |   /| |\\   / ___ \\\\\n",
      " |_|      U/| |\\u  |____/>> u |_|U  /_/   \\_\\\\\n",
      " )(\\\\\\,-.-,_|___|_,-.)(  (__)_// \\\\\\_  \\\\\\    >>\n",
      "(__)(_/ \\_)-' '-(_/(__)    (__) (__)(__)  (__)\n",
      "    \n",
      " - mu:  1e-08\n",
      " - lipschitz constant:  1.0999999999999783\n",
      " - data:  (640, 368)\n",
      " - wavelet:  <mri.reconstruct.linear.WaveletN object at 0x7fa4156d3278> - 4\n",
      " - max iterations:  200\n",
      " - image variable shape:  (640, 368)\n",
      " - alpha variable shape:  (235520,)\n",
      "----------------------------------------\n",
      "Starting optimization...\n"
     ]
    },
    {
     "name": "stderr",
     "output_type": "stream",
     "text": [
      "100% (200 of 200) |######################| Elapsed Time: 0:00:50 Time:  0:00:50\n"
     ]
    },
    {
     "name": "stdout",
     "output_type": "stream",
     "text": [
      " - final iteration number:  200\n",
      " - final log10 cost value:  -5.652201266883239\n",
      " - converged:  True\n",
      "Done.\n",
      "Execution time:  1600.35639000003  seconds\n",
      "----------------------------------------\n"
     ]
    },
    {
     "name": "stderr",
     "output_type": "stream",
     "text": [
      "\u001b[33mWARNING\u001b[0m: Making input data immutable.\n"
     ]
    },
    {
     "name": "stdout",
     "output_type": "stream",
     "text": [
      "\n",
      "  _____             ____     _____      _\n",
      " |\" ___|    ___    / __\"| u |_ \" _| U  /\"\\  u\n",
      "U| |_  u   |_\"_|  <\\___ \\/    | |    \\/ _ \\/\n",
      "\\|  _|/     | |    u___) |   /| |\\   / ___ \\\\\n",
      " |_|      U/| |\\u  |____/>> u |_|U  /_/   \\_\\\\\n",
      " )(\\\\\\,-.-,_|___|_,-.)(  (__)_// \\\\\\_  \\\\\\    >>\n",
      "(__)(_/ \\_)-' '-(_/(__)    (__) (__)(__)  (__)\n",
      "    \n",
      " - mu:  1e-08\n",
      " - lipschitz constant:  1.0999999999999852\n",
      " - data:  (640, 372)\n",
      " - wavelet:  <mri.reconstruct.linear.WaveletN object at 0x7fa4156d3710> - 4\n",
      " - max iterations:  200\n",
      " - image variable shape:  (640, 372)\n",
      " - alpha variable shape:  (238320,)\n",
      "----------------------------------------\n",
      "Starting optimization...\n"
     ]
    },
    {
     "name": "stderr",
     "output_type": "stream",
     "text": [
      "100% (200 of 200) |######################| Elapsed Time: 0:00:52 Time:  0:00:52\n"
     ]
    },
    {
     "name": "stdout",
     "output_type": "stream",
     "text": [
      " - final iteration number:  200\n",
      " - final log10 cost value:  -6.454001644200325\n",
      " - converged:  True\n",
      "Done.\n",
      "Execution time:  1639.7400339999585  seconds\n",
      "----------------------------------------\n"
     ]
    },
    {
     "name": "stderr",
     "output_type": "stream",
     "text": [
      "\u001b[33mWARNING\u001b[0m: Making input data immutable.\n"
     ]
    },
    {
     "name": "stdout",
     "output_type": "stream",
     "text": [
      "\n",
      "  _____             ____     _____      _\n",
      " |\" ___|    ___    / __\"| u |_ \" _| U  /\"\\  u\n",
      "U| |_  u   |_\"_|  <\\___ \\/    | |    \\/ _ \\/\n",
      "\\|  _|/     | |    u___) |   /| |\\   / ___ \\\\\n",
      " |_|      U/| |\\u  |____/>> u |_|U  /_/   \\_\\\\\n",
      " )(\\\\\\,-.-,_|___|_,-.)(  (__)_// \\\\\\_  \\\\\\    >>\n",
      "(__)(_/ \\_)-' '-(_/(__)    (__) (__)(__)  (__)\n",
      "    \n",
      " - mu:  1e-08\n",
      " - lipschitz constant:  1.099999999999985\n",
      " - data:  (640, 368)\n",
      " - wavelet:  <mri.reconstruct.linear.WaveletN object at 0x7fa4156d3550> - 4\n",
      " - max iterations:  200\n",
      " - image variable shape:  (640, 368)\n",
      " - alpha variable shape:  (235520,)\n",
      "----------------------------------------\n",
      "Starting optimization...\n"
     ]
    },
    {
     "name": "stderr",
     "output_type": "stream",
     "text": [
      "100% (200 of 200) |######################| Elapsed Time: 0:00:50 Time:  0:00:50\n"
     ]
    },
    {
     "name": "stdout",
     "output_type": "stream",
     "text": [
      " - final iteration number:  200\n",
      " - final log10 cost value:  -5.20189266534393\n",
      " - converged:  True\n",
      "Done.\n",
      "Execution time:  1608.1809369999683  seconds\n",
      "----------------------------------------\n"
     ]
    },
    {
     "name": "stderr",
     "output_type": "stream",
     "text": [
      "\u001b[33mWARNING\u001b[0m: Making input data immutable.\n"
     ]
    },
    {
     "name": "stdout",
     "output_type": "stream",
     "text": [
      "\n",
      "  _____             ____     _____      _\n",
      " |\" ___|    ___    / __\"| u |_ \" _| U  /\"\\  u\n",
      "U| |_  u   |_\"_|  <\\___ \\/    | |    \\/ _ \\/\n",
      "\\|  _|/     | |    u___) |   /| |\\   / ___ \\\\\n",
      " |_|      U/| |\\u  |____/>> u |_|U  /_/   \\_\\\\\n",
      " )(\\\\\\,-.-,_|___|_,-.)(  (__)_// \\\\\\_  \\\\\\    >>\n",
      "(__)(_/ \\_)-' '-(_/(__)    (__) (__)(__)  (__)\n",
      "    \n",
      " - mu:  1e-08\n",
      " - lipschitz constant:  1.099999999999972\n",
      " - data:  (640, 368)\n",
      " - wavelet:  <mri.reconstruct.linear.WaveletN object at 0x7fa4156d3198> - 4\n",
      " - max iterations:  200\n",
      " - image variable shape:  (640, 368)\n",
      " - alpha variable shape:  (235520,)\n",
      "----------------------------------------\n",
      "Starting optimization...\n"
     ]
    },
    {
     "name": "stderr",
     "output_type": "stream",
     "text": [
      "100% (200 of 200) |######################| Elapsed Time: 0:00:50 Time:  0:00:50\n"
     ]
    },
    {
     "name": "stdout",
     "output_type": "stream",
     "text": [
      " - final iteration number:  200\n",
      " - final log10 cost value:  -5.19914857704656\n",
      " - converged:  True\n",
      "Done.\n",
      "Execution time:  1593.273429999943  seconds\n",
      "----------------------------------------\n"
     ]
    },
    {
     "name": "stderr",
     "output_type": "stream",
     "text": [
      "\u001b[33mWARNING\u001b[0m: Making input data immutable.\n"
     ]
    },
    {
     "name": "stdout",
     "output_type": "stream",
     "text": [
      "\n",
      "  _____             ____     _____      _\n",
      " |\" ___|    ___    / __\"| u |_ \" _| U  /\"\\  u\n",
      "U| |_  u   |_\"_|  <\\___ \\/    | |    \\/ _ \\/\n",
      "\\|  _|/     | |    u___) |   /| |\\   / ___ \\\\\n",
      " |_|      U/| |\\u  |____/>> u |_|U  /_/   \\_\\\\\n",
      " )(\\\\\\,-.-,_|___|_,-.)(  (__)_// \\\\\\_  \\\\\\    >>\n",
      "(__)(_/ \\_)-' '-(_/(__)    (__) (__)(__)  (__)\n",
      "    \n",
      " - mu:  1e-08\n",
      " - lipschitz constant:  1.0999999999999825\n",
      " - data:  (640, 368)\n",
      " - wavelet:  <mri.reconstruct.linear.WaveletN object at 0x7fa4156d3a58> - 4\n",
      " - max iterations:  200\n",
      " - image variable shape:  (640, 368)\n",
      " - alpha variable shape:  (235520,)\n",
      "----------------------------------------\n",
      "Starting optimization...\n"
     ]
    },
    {
     "name": "stderr",
     "output_type": "stream",
     "text": [
      "100% (200 of 200) |######################| Elapsed Time: 0:00:50 Time:  0:00:50\n"
     ]
    },
    {
     "name": "stdout",
     "output_type": "stream",
     "text": [
      " - final iteration number:  200\n",
      " - final log10 cost value:  -5.246464041142865\n",
      " - converged:  True\n",
      "Done.\n",
      "Execution time:  1623.560832999996  seconds\n",
      "----------------------------------------\n",
      "\n"
     ]
    },
    {
     "data": {
      "application/vnd.jupyter.widget-view+json": {
       "model_id": "7ed491a9fd3b431d9c230ecbfbeb97db",
       "version_major": 2,
       "version_minor": 0
      },
      "text/plain": [
       "HBox(children=(FloatProgress(value=0.0, description='Stats', max=24.0, style=ProgressStyle(description_width='…"
      ]
     },
     "metadata": {},
     "output_type": "display_data"
    },
    {
     "name": "stdout",
     "output_type": "stream",
     "text": [
      "\n",
      "\n",
      "CPU times: user 1d 9h 45min 5s, sys: 1d 17h 57min 29s, total: 3d 3h 42min 35s\n",
      "Wall time: 2h 29min 49s\n"
     ]
    }
   ],
   "source": [
    "%%time\n",
    "metrics = []\n",
    "for mu in tqdm(mus_to_test, desc='mus'):\n",
    "    metric = metrics_for_args(sub_prop=0.05, mu=mu)\n",
    "    metrics.append(metric)"
   ]
  },
  {
   "cell_type": "code",
   "execution_count": 56,
   "metadata": {},
   "outputs": [
    {
     "data": {
      "application/javascript": [
       "/* Put everything inside the global mpl namespace */\n",
       "window.mpl = {};\n",
       "\n",
       "\n",
       "mpl.get_websocket_type = function() {\n",
       "    if (typeof(WebSocket) !== 'undefined') {\n",
       "        return WebSocket;\n",
       "    } else if (typeof(MozWebSocket) !== 'undefined') {\n",
       "        return MozWebSocket;\n",
       "    } else {\n",
       "        alert('Your browser does not have WebSocket support. ' +\n",
       "              'Please try Chrome, Safari or Firefox ≥ 6. ' +\n",
       "              'Firefox 4 and 5 are also supported but you ' +\n",
       "              'have to enable WebSockets in about:config.');\n",
       "    };\n",
       "}\n",
       "\n",
       "mpl.figure = function(figure_id, websocket, ondownload, parent_element) {\n",
       "    this.id = figure_id;\n",
       "\n",
       "    this.ws = websocket;\n",
       "\n",
       "    this.supports_binary = (this.ws.binaryType != undefined);\n",
       "\n",
       "    if (!this.supports_binary) {\n",
       "        var warnings = document.getElementById(\"mpl-warnings\");\n",
       "        if (warnings) {\n",
       "            warnings.style.display = 'block';\n",
       "            warnings.textContent = (\n",
       "                \"This browser does not support binary websocket messages. \" +\n",
       "                    \"Performance may be slow.\");\n",
       "        }\n",
       "    }\n",
       "\n",
       "    this.imageObj = new Image();\n",
       "\n",
       "    this.context = undefined;\n",
       "    this.message = undefined;\n",
       "    this.canvas = undefined;\n",
       "    this.rubberband_canvas = undefined;\n",
       "    this.rubberband_context = undefined;\n",
       "    this.format_dropdown = undefined;\n",
       "\n",
       "    this.image_mode = 'full';\n",
       "\n",
       "    this.root = $('<div/>');\n",
       "    this._root_extra_style(this.root)\n",
       "    this.root.attr('style', 'display: inline-block');\n",
       "\n",
       "    $(parent_element).append(this.root);\n",
       "\n",
       "    this._init_header(this);\n",
       "    this._init_canvas(this);\n",
       "    this._init_toolbar(this);\n",
       "\n",
       "    var fig = this;\n",
       "\n",
       "    this.waiting = false;\n",
       "\n",
       "    this.ws.onopen =  function () {\n",
       "            fig.send_message(\"supports_binary\", {value: fig.supports_binary});\n",
       "            fig.send_message(\"send_image_mode\", {});\n",
       "            if (mpl.ratio != 1) {\n",
       "                fig.send_message(\"set_dpi_ratio\", {'dpi_ratio': mpl.ratio});\n",
       "            }\n",
       "            fig.send_message(\"refresh\", {});\n",
       "        }\n",
       "\n",
       "    this.imageObj.onload = function() {\n",
       "            if (fig.image_mode == 'full') {\n",
       "                // Full images could contain transparency (where diff images\n",
       "                // almost always do), so we need to clear the canvas so that\n",
       "                // there is no ghosting.\n",
       "                fig.context.clearRect(0, 0, fig.canvas.width, fig.canvas.height);\n",
       "            }\n",
       "            fig.context.drawImage(fig.imageObj, 0, 0);\n",
       "        };\n",
       "\n",
       "    this.imageObj.onunload = function() {\n",
       "        fig.ws.close();\n",
       "    }\n",
       "\n",
       "    this.ws.onmessage = this._make_on_message_function(this);\n",
       "\n",
       "    this.ondownload = ondownload;\n",
       "}\n",
       "\n",
       "mpl.figure.prototype._init_header = function() {\n",
       "    var titlebar = $(\n",
       "        '<div class=\"ui-dialog-titlebar ui-widget-header ui-corner-all ' +\n",
       "        'ui-helper-clearfix\"/>');\n",
       "    var titletext = $(\n",
       "        '<div class=\"ui-dialog-title\" style=\"width: 100%; ' +\n",
       "        'text-align: center; padding: 3px;\"/>');\n",
       "    titlebar.append(titletext)\n",
       "    this.root.append(titlebar);\n",
       "    this.header = titletext[0];\n",
       "}\n",
       "\n",
       "\n",
       "\n",
       "mpl.figure.prototype._canvas_extra_style = function(canvas_div) {\n",
       "\n",
       "}\n",
       "\n",
       "\n",
       "mpl.figure.prototype._root_extra_style = function(canvas_div) {\n",
       "\n",
       "}\n",
       "\n",
       "mpl.figure.prototype._init_canvas = function() {\n",
       "    var fig = this;\n",
       "\n",
       "    var canvas_div = $('<div/>');\n",
       "\n",
       "    canvas_div.attr('style', 'position: relative; clear: both; outline: 0');\n",
       "\n",
       "    function canvas_keyboard_event(event) {\n",
       "        return fig.key_event(event, event['data']);\n",
       "    }\n",
       "\n",
       "    canvas_div.keydown('key_press', canvas_keyboard_event);\n",
       "    canvas_div.keyup('key_release', canvas_keyboard_event);\n",
       "    this.canvas_div = canvas_div\n",
       "    this._canvas_extra_style(canvas_div)\n",
       "    this.root.append(canvas_div);\n",
       "\n",
       "    var canvas = $('<canvas/>');\n",
       "    canvas.addClass('mpl-canvas');\n",
       "    canvas.attr('style', \"left: 0; top: 0; z-index: 0; outline: 0\")\n",
       "\n",
       "    this.canvas = canvas[0];\n",
       "    this.context = canvas[0].getContext(\"2d\");\n",
       "\n",
       "    var backingStore = this.context.backingStorePixelRatio ||\n",
       "\tthis.context.webkitBackingStorePixelRatio ||\n",
       "\tthis.context.mozBackingStorePixelRatio ||\n",
       "\tthis.context.msBackingStorePixelRatio ||\n",
       "\tthis.context.oBackingStorePixelRatio ||\n",
       "\tthis.context.backingStorePixelRatio || 1;\n",
       "\n",
       "    mpl.ratio = (window.devicePixelRatio || 1) / backingStore;\n",
       "\n",
       "    var rubberband = $('<canvas/>');\n",
       "    rubberband.attr('style', \"position: absolute; left: 0; top: 0; z-index: 1;\")\n",
       "\n",
       "    var pass_mouse_events = true;\n",
       "\n",
       "    canvas_div.resizable({\n",
       "        start: function(event, ui) {\n",
       "            pass_mouse_events = false;\n",
       "        },\n",
       "        resize: function(event, ui) {\n",
       "            fig.request_resize(ui.size.width, ui.size.height);\n",
       "        },\n",
       "        stop: function(event, ui) {\n",
       "            pass_mouse_events = true;\n",
       "            fig.request_resize(ui.size.width, ui.size.height);\n",
       "        },\n",
       "    });\n",
       "\n",
       "    function mouse_event_fn(event) {\n",
       "        if (pass_mouse_events)\n",
       "            return fig.mouse_event(event, event['data']);\n",
       "    }\n",
       "\n",
       "    rubberband.mousedown('button_press', mouse_event_fn);\n",
       "    rubberband.mouseup('button_release', mouse_event_fn);\n",
       "    // Throttle sequential mouse events to 1 every 20ms.\n",
       "    rubberband.mousemove('motion_notify', mouse_event_fn);\n",
       "\n",
       "    rubberband.mouseenter('figure_enter', mouse_event_fn);\n",
       "    rubberband.mouseleave('figure_leave', mouse_event_fn);\n",
       "\n",
       "    canvas_div.on(\"wheel\", function (event) {\n",
       "        event = event.originalEvent;\n",
       "        event['data'] = 'scroll'\n",
       "        if (event.deltaY < 0) {\n",
       "            event.step = 1;\n",
       "        } else {\n",
       "            event.step = -1;\n",
       "        }\n",
       "        mouse_event_fn(event);\n",
       "    });\n",
       "\n",
       "    canvas_div.append(canvas);\n",
       "    canvas_div.append(rubberband);\n",
       "\n",
       "    this.rubberband = rubberband;\n",
       "    this.rubberband_canvas = rubberband[0];\n",
       "    this.rubberband_context = rubberband[0].getContext(\"2d\");\n",
       "    this.rubberband_context.strokeStyle = \"#000000\";\n",
       "\n",
       "    this._resize_canvas = function(width, height) {\n",
       "        // Keep the size of the canvas, canvas container, and rubber band\n",
       "        // canvas in synch.\n",
       "        canvas_div.css('width', width)\n",
       "        canvas_div.css('height', height)\n",
       "\n",
       "        canvas.attr('width', width * mpl.ratio);\n",
       "        canvas.attr('height', height * mpl.ratio);\n",
       "        canvas.attr('style', 'width: ' + width + 'px; height: ' + height + 'px;');\n",
       "\n",
       "        rubberband.attr('width', width);\n",
       "        rubberband.attr('height', height);\n",
       "    }\n",
       "\n",
       "    // Set the figure to an initial 600x600px, this will subsequently be updated\n",
       "    // upon first draw.\n",
       "    this._resize_canvas(600, 600);\n",
       "\n",
       "    // Disable right mouse context menu.\n",
       "    $(this.rubberband_canvas).bind(\"contextmenu\",function(e){\n",
       "        return false;\n",
       "    });\n",
       "\n",
       "    function set_focus () {\n",
       "        canvas.focus();\n",
       "        canvas_div.focus();\n",
       "    }\n",
       "\n",
       "    window.setTimeout(set_focus, 100);\n",
       "}\n",
       "\n",
       "mpl.figure.prototype._init_toolbar = function() {\n",
       "    var fig = this;\n",
       "\n",
       "    var nav_element = $('<div/>');\n",
       "    nav_element.attr('style', 'width: 100%');\n",
       "    this.root.append(nav_element);\n",
       "\n",
       "    // Define a callback function for later on.\n",
       "    function toolbar_event(event) {\n",
       "        return fig.toolbar_button_onclick(event['data']);\n",
       "    }\n",
       "    function toolbar_mouse_event(event) {\n",
       "        return fig.toolbar_button_onmouseover(event['data']);\n",
       "    }\n",
       "\n",
       "    for(var toolbar_ind in mpl.toolbar_items) {\n",
       "        var name = mpl.toolbar_items[toolbar_ind][0];\n",
       "        var tooltip = mpl.toolbar_items[toolbar_ind][1];\n",
       "        var image = mpl.toolbar_items[toolbar_ind][2];\n",
       "        var method_name = mpl.toolbar_items[toolbar_ind][3];\n",
       "\n",
       "        if (!name) {\n",
       "            // put a spacer in here.\n",
       "            continue;\n",
       "        }\n",
       "        var button = $('<button/>');\n",
       "        button.addClass('ui-button ui-widget ui-state-default ui-corner-all ' +\n",
       "                        'ui-button-icon-only');\n",
       "        button.attr('role', 'button');\n",
       "        button.attr('aria-disabled', 'false');\n",
       "        button.click(method_name, toolbar_event);\n",
       "        button.mouseover(tooltip, toolbar_mouse_event);\n",
       "\n",
       "        var icon_img = $('<span/>');\n",
       "        icon_img.addClass('ui-button-icon-primary ui-icon');\n",
       "        icon_img.addClass(image);\n",
       "        icon_img.addClass('ui-corner-all');\n",
       "\n",
       "        var tooltip_span = $('<span/>');\n",
       "        tooltip_span.addClass('ui-button-text');\n",
       "        tooltip_span.html(tooltip);\n",
       "\n",
       "        button.append(icon_img);\n",
       "        button.append(tooltip_span);\n",
       "\n",
       "        nav_element.append(button);\n",
       "    }\n",
       "\n",
       "    var fmt_picker_span = $('<span/>');\n",
       "\n",
       "    var fmt_picker = $('<select/>');\n",
       "    fmt_picker.addClass('mpl-toolbar-option ui-widget ui-widget-content');\n",
       "    fmt_picker_span.append(fmt_picker);\n",
       "    nav_element.append(fmt_picker_span);\n",
       "    this.format_dropdown = fmt_picker[0];\n",
       "\n",
       "    for (var ind in mpl.extensions) {\n",
       "        var fmt = mpl.extensions[ind];\n",
       "        var option = $(\n",
       "            '<option/>', {selected: fmt === mpl.default_extension}).html(fmt);\n",
       "        fmt_picker.append(option);\n",
       "    }\n",
       "\n",
       "    // Add hover states to the ui-buttons\n",
       "    $( \".ui-button\" ).hover(\n",
       "        function() { $(this).addClass(\"ui-state-hover\");},\n",
       "        function() { $(this).removeClass(\"ui-state-hover\");}\n",
       "    );\n",
       "\n",
       "    var status_bar = $('<span class=\"mpl-message\"/>');\n",
       "    nav_element.append(status_bar);\n",
       "    this.message = status_bar[0];\n",
       "}\n",
       "\n",
       "mpl.figure.prototype.request_resize = function(x_pixels, y_pixels) {\n",
       "    // Request matplotlib to resize the figure. Matplotlib will then trigger a resize in the client,\n",
       "    // which will in turn request a refresh of the image.\n",
       "    this.send_message('resize', {'width': x_pixels, 'height': y_pixels});\n",
       "}\n",
       "\n",
       "mpl.figure.prototype.send_message = function(type, properties) {\n",
       "    properties['type'] = type;\n",
       "    properties['figure_id'] = this.id;\n",
       "    this.ws.send(JSON.stringify(properties));\n",
       "}\n",
       "\n",
       "mpl.figure.prototype.send_draw_message = function() {\n",
       "    if (!this.waiting) {\n",
       "        this.waiting = true;\n",
       "        this.ws.send(JSON.stringify({type: \"draw\", figure_id: this.id}));\n",
       "    }\n",
       "}\n",
       "\n",
       "\n",
       "mpl.figure.prototype.handle_save = function(fig, msg) {\n",
       "    var format_dropdown = fig.format_dropdown;\n",
       "    var format = format_dropdown.options[format_dropdown.selectedIndex].value;\n",
       "    fig.ondownload(fig, format);\n",
       "}\n",
       "\n",
       "\n",
       "mpl.figure.prototype.handle_resize = function(fig, msg) {\n",
       "    var size = msg['size'];\n",
       "    if (size[0] != fig.canvas.width || size[1] != fig.canvas.height) {\n",
       "        fig._resize_canvas(size[0], size[1]);\n",
       "        fig.send_message(\"refresh\", {});\n",
       "    };\n",
       "}\n",
       "\n",
       "mpl.figure.prototype.handle_rubberband = function(fig, msg) {\n",
       "    var x0 = msg['x0'] / mpl.ratio;\n",
       "    var y0 = (fig.canvas.height - msg['y0']) / mpl.ratio;\n",
       "    var x1 = msg['x1'] / mpl.ratio;\n",
       "    var y1 = (fig.canvas.height - msg['y1']) / mpl.ratio;\n",
       "    x0 = Math.floor(x0) + 0.5;\n",
       "    y0 = Math.floor(y0) + 0.5;\n",
       "    x1 = Math.floor(x1) + 0.5;\n",
       "    y1 = Math.floor(y1) + 0.5;\n",
       "    var min_x = Math.min(x0, x1);\n",
       "    var min_y = Math.min(y0, y1);\n",
       "    var width = Math.abs(x1 - x0);\n",
       "    var height = Math.abs(y1 - y0);\n",
       "\n",
       "    fig.rubberband_context.clearRect(\n",
       "        0, 0, fig.canvas.width / mpl.ratio, fig.canvas.height / mpl.ratio);\n",
       "\n",
       "    fig.rubberband_context.strokeRect(min_x, min_y, width, height);\n",
       "}\n",
       "\n",
       "mpl.figure.prototype.handle_figure_label = function(fig, msg) {\n",
       "    // Updates the figure title.\n",
       "    fig.header.textContent = msg['label'];\n",
       "}\n",
       "\n",
       "mpl.figure.prototype.handle_cursor = function(fig, msg) {\n",
       "    var cursor = msg['cursor'];\n",
       "    switch(cursor)\n",
       "    {\n",
       "    case 0:\n",
       "        cursor = 'pointer';\n",
       "        break;\n",
       "    case 1:\n",
       "        cursor = 'default';\n",
       "        break;\n",
       "    case 2:\n",
       "        cursor = 'crosshair';\n",
       "        break;\n",
       "    case 3:\n",
       "        cursor = 'move';\n",
       "        break;\n",
       "    }\n",
       "    fig.rubberband_canvas.style.cursor = cursor;\n",
       "}\n",
       "\n",
       "mpl.figure.prototype.handle_message = function(fig, msg) {\n",
       "    fig.message.textContent = msg['message'];\n",
       "}\n",
       "\n",
       "mpl.figure.prototype.handle_draw = function(fig, msg) {\n",
       "    // Request the server to send over a new figure.\n",
       "    fig.send_draw_message();\n",
       "}\n",
       "\n",
       "mpl.figure.prototype.handle_image_mode = function(fig, msg) {\n",
       "    fig.image_mode = msg['mode'];\n",
       "}\n",
       "\n",
       "mpl.figure.prototype.updated_canvas_event = function() {\n",
       "    // Called whenever the canvas gets updated.\n",
       "    this.send_message(\"ack\", {});\n",
       "}\n",
       "\n",
       "// A function to construct a web socket function for onmessage handling.\n",
       "// Called in the figure constructor.\n",
       "mpl.figure.prototype._make_on_message_function = function(fig) {\n",
       "    return function socket_on_message(evt) {\n",
       "        if (evt.data instanceof Blob) {\n",
       "            /* FIXME: We get \"Resource interpreted as Image but\n",
       "             * transferred with MIME type text/plain:\" errors on\n",
       "             * Chrome.  But how to set the MIME type?  It doesn't seem\n",
       "             * to be part of the websocket stream */\n",
       "            evt.data.type = \"image/png\";\n",
       "\n",
       "            /* Free the memory for the previous frames */\n",
       "            if (fig.imageObj.src) {\n",
       "                (window.URL || window.webkitURL).revokeObjectURL(\n",
       "                    fig.imageObj.src);\n",
       "            }\n",
       "\n",
       "            fig.imageObj.src = (window.URL || window.webkitURL).createObjectURL(\n",
       "                evt.data);\n",
       "            fig.updated_canvas_event();\n",
       "            fig.waiting = false;\n",
       "            return;\n",
       "        }\n",
       "        else if (typeof evt.data === 'string' && evt.data.slice(0, 21) == \"data:image/png;base64\") {\n",
       "            fig.imageObj.src = evt.data;\n",
       "            fig.updated_canvas_event();\n",
       "            fig.waiting = false;\n",
       "            return;\n",
       "        }\n",
       "\n",
       "        var msg = JSON.parse(evt.data);\n",
       "        var msg_type = msg['type'];\n",
       "\n",
       "        // Call the  \"handle_{type}\" callback, which takes\n",
       "        // the figure and JSON message as its only arguments.\n",
       "        try {\n",
       "            var callback = fig[\"handle_\" + msg_type];\n",
       "        } catch (e) {\n",
       "            console.log(\"No handler for the '\" + msg_type + \"' message type: \", msg);\n",
       "            return;\n",
       "        }\n",
       "\n",
       "        if (callback) {\n",
       "            try {\n",
       "                // console.log(\"Handling '\" + msg_type + \"' message: \", msg);\n",
       "                callback(fig, msg);\n",
       "            } catch (e) {\n",
       "                console.log(\"Exception inside the 'handler_\" + msg_type + \"' callback:\", e, e.stack, msg);\n",
       "            }\n",
       "        }\n",
       "    };\n",
       "}\n",
       "\n",
       "// from http://stackoverflow.com/questions/1114465/getting-mouse-location-in-canvas\n",
       "mpl.findpos = function(e) {\n",
       "    //this section is from http://www.quirksmode.org/js/events_properties.html\n",
       "    var targ;\n",
       "    if (!e)\n",
       "        e = window.event;\n",
       "    if (e.target)\n",
       "        targ = e.target;\n",
       "    else if (e.srcElement)\n",
       "        targ = e.srcElement;\n",
       "    if (targ.nodeType == 3) // defeat Safari bug\n",
       "        targ = targ.parentNode;\n",
       "\n",
       "    // jQuery normalizes the pageX and pageY\n",
       "    // pageX,Y are the mouse positions relative to the document\n",
       "    // offset() returns the position of the element relative to the document\n",
       "    var x = e.pageX - $(targ).offset().left;\n",
       "    var y = e.pageY - $(targ).offset().top;\n",
       "\n",
       "    return {\"x\": x, \"y\": y};\n",
       "};\n",
       "\n",
       "/*\n",
       " * return a copy of an object with only non-object keys\n",
       " * we need this to avoid circular references\n",
       " * http://stackoverflow.com/a/24161582/3208463\n",
       " */\n",
       "function simpleKeys (original) {\n",
       "  return Object.keys(original).reduce(function (obj, key) {\n",
       "    if (typeof original[key] !== 'object')\n",
       "        obj[key] = original[key]\n",
       "    return obj;\n",
       "  }, {});\n",
       "}\n",
       "\n",
       "mpl.figure.prototype.mouse_event = function(event, name) {\n",
       "    var canvas_pos = mpl.findpos(event)\n",
       "\n",
       "    if (name === 'button_press')\n",
       "    {\n",
       "        this.canvas.focus();\n",
       "        this.canvas_div.focus();\n",
       "    }\n",
       "\n",
       "    var x = canvas_pos.x * mpl.ratio;\n",
       "    var y = canvas_pos.y * mpl.ratio;\n",
       "\n",
       "    this.send_message(name, {x: x, y: y, button: event.button,\n",
       "                             step: event.step,\n",
       "                             guiEvent: simpleKeys(event)});\n",
       "\n",
       "    /* This prevents the web browser from automatically changing to\n",
       "     * the text insertion cursor when the button is pressed.  We want\n",
       "     * to control all of the cursor setting manually through the\n",
       "     * 'cursor' event from matplotlib */\n",
       "    event.preventDefault();\n",
       "    return false;\n",
       "}\n",
       "\n",
       "mpl.figure.prototype._key_event_extra = function(event, name) {\n",
       "    // Handle any extra behaviour associated with a key event\n",
       "}\n",
       "\n",
       "mpl.figure.prototype.key_event = function(event, name) {\n",
       "\n",
       "    // Prevent repeat events\n",
       "    if (name == 'key_press')\n",
       "    {\n",
       "        if (event.which === this._key)\n",
       "            return;\n",
       "        else\n",
       "            this._key = event.which;\n",
       "    }\n",
       "    if (name == 'key_release')\n",
       "        this._key = null;\n",
       "\n",
       "    var value = '';\n",
       "    if (event.ctrlKey && event.which != 17)\n",
       "        value += \"ctrl+\";\n",
       "    if (event.altKey && event.which != 18)\n",
       "        value += \"alt+\";\n",
       "    if (event.shiftKey && event.which != 16)\n",
       "        value += \"shift+\";\n",
       "\n",
       "    value += 'k';\n",
       "    value += event.which.toString();\n",
       "\n",
       "    this._key_event_extra(event, name);\n",
       "\n",
       "    this.send_message(name, {key: value,\n",
       "                             guiEvent: simpleKeys(event)});\n",
       "    return false;\n",
       "}\n",
       "\n",
       "mpl.figure.prototype.toolbar_button_onclick = function(name) {\n",
       "    if (name == 'download') {\n",
       "        this.handle_save(this, null);\n",
       "    } else {\n",
       "        this.send_message(\"toolbar_button\", {name: name});\n",
       "    }\n",
       "};\n",
       "\n",
       "mpl.figure.prototype.toolbar_button_onmouseover = function(tooltip) {\n",
       "    this.message.textContent = tooltip;\n",
       "};\n",
       "mpl.toolbar_items = [[\"Home\", \"Reset original view\", \"fa fa-home icon-home\", \"home\"], [\"Back\", \"Back to previous view\", \"fa fa-arrow-left icon-arrow-left\", \"back\"], [\"Forward\", \"Forward to next view\", \"fa fa-arrow-right icon-arrow-right\", \"forward\"], [\"\", \"\", \"\", \"\"], [\"Pan\", \"Pan axes with left mouse, zoom with right\", \"fa fa-arrows icon-move\", \"pan\"], [\"Zoom\", \"Zoom to rectangle\", \"fa fa-square-o icon-check-empty\", \"zoom\"], [\"\", \"\", \"\", \"\"], [\"Download\", \"Download plot\", \"fa fa-floppy-o icon-save\", \"download\"]];\n",
       "\n",
       "mpl.extensions = [\"eps\", \"jpeg\", \"pdf\", \"png\", \"ps\", \"raw\", \"svg\", \"tif\"];\n",
       "\n",
       "mpl.default_extension = \"png\";var comm_websocket_adapter = function(comm) {\n",
       "    // Create a \"websocket\"-like object which calls the given IPython comm\n",
       "    // object with the appropriate methods. Currently this is a non binary\n",
       "    // socket, so there is still some room for performance tuning.\n",
       "    var ws = {};\n",
       "\n",
       "    ws.close = function() {\n",
       "        comm.close()\n",
       "    };\n",
       "    ws.send = function(m) {\n",
       "        //console.log('sending', m);\n",
       "        comm.send(m);\n",
       "    };\n",
       "    // Register the callback with on_msg.\n",
       "    comm.on_msg(function(msg) {\n",
       "        //console.log('receiving', msg['content']['data'], msg);\n",
       "        // Pass the mpl event to the overridden (by mpl) onmessage function.\n",
       "        ws.onmessage(msg['content']['data'])\n",
       "    });\n",
       "    return ws;\n",
       "}\n",
       "\n",
       "mpl.mpl_figure_comm = function(comm, msg) {\n",
       "    // This is the function which gets called when the mpl process\n",
       "    // starts-up an IPython Comm through the \"matplotlib\" channel.\n",
       "\n",
       "    var id = msg.content.data.id;\n",
       "    // Get hold of the div created by the display call when the Comm\n",
       "    // socket was opened in Python.\n",
       "    var element = $(\"#\" + id);\n",
       "    var ws_proxy = comm_websocket_adapter(comm)\n",
       "\n",
       "    function ondownload(figure, format) {\n",
       "        window.open(figure.imageObj.src);\n",
       "    }\n",
       "\n",
       "    var fig = new mpl.figure(id, ws_proxy,\n",
       "                           ondownload,\n",
       "                           element.get(0));\n",
       "\n",
       "    // Call onopen now - mpl needs it, as it is assuming we've passed it a real\n",
       "    // web socket which is closed, not our websocket->open comm proxy.\n",
       "    ws_proxy.onopen();\n",
       "\n",
       "    fig.parent_element = element.get(0);\n",
       "    fig.cell_info = mpl.find_output_cell(\"<div id='\" + id + \"'></div>\");\n",
       "    if (!fig.cell_info) {\n",
       "        console.error(\"Failed to find cell for figure\", id, fig);\n",
       "        return;\n",
       "    }\n",
       "\n",
       "    var output_index = fig.cell_info[2]\n",
       "    var cell = fig.cell_info[0];\n",
       "\n",
       "};\n",
       "\n",
       "mpl.figure.prototype.handle_close = function(fig, msg) {\n",
       "    var width = fig.canvas.width/mpl.ratio\n",
       "    fig.root.unbind('remove')\n",
       "\n",
       "    // Update the output cell to use the data from the current canvas.\n",
       "    fig.push_to_output();\n",
       "    var dataURL = fig.canvas.toDataURL();\n",
       "    // Re-enable the keyboard manager in IPython - without this line, in FF,\n",
       "    // the notebook keyboard shortcuts fail.\n",
       "    IPython.keyboard_manager.enable()\n",
       "    $(fig.parent_element).html('<img src=\"' + dataURL + '\" width=\"' + width + '\">');\n",
       "    fig.close_ws(fig, msg);\n",
       "}\n",
       "\n",
       "mpl.figure.prototype.close_ws = function(fig, msg){\n",
       "    fig.send_message('closing', msg);\n",
       "    // fig.ws.close()\n",
       "}\n",
       "\n",
       "mpl.figure.prototype.push_to_output = function(remove_interactive) {\n",
       "    // Turn the data on the canvas into data in the output cell.\n",
       "    var width = this.canvas.width/mpl.ratio\n",
       "    var dataURL = this.canvas.toDataURL();\n",
       "    this.cell_info[1]['text/html'] = '<img src=\"' + dataURL + '\" width=\"' + width + '\">';\n",
       "}\n",
       "\n",
       "mpl.figure.prototype.updated_canvas_event = function() {\n",
       "    // Tell IPython that the notebook contents must change.\n",
       "    IPython.notebook.set_dirty(true);\n",
       "    this.send_message(\"ack\", {});\n",
       "    var fig = this;\n",
       "    // Wait a second, then push the new image to the DOM so\n",
       "    // that it is saved nicely (might be nice to debounce this).\n",
       "    setTimeout(function () { fig.push_to_output() }, 1000);\n",
       "}\n",
       "\n",
       "mpl.figure.prototype._init_toolbar = function() {\n",
       "    var fig = this;\n",
       "\n",
       "    var nav_element = $('<div/>');\n",
       "    nav_element.attr('style', 'width: 100%');\n",
       "    this.root.append(nav_element);\n",
       "\n",
       "    // Define a callback function for later on.\n",
       "    function toolbar_event(event) {\n",
       "        return fig.toolbar_button_onclick(event['data']);\n",
       "    }\n",
       "    function toolbar_mouse_event(event) {\n",
       "        return fig.toolbar_button_onmouseover(event['data']);\n",
       "    }\n",
       "\n",
       "    for(var toolbar_ind in mpl.toolbar_items){\n",
       "        var name = mpl.toolbar_items[toolbar_ind][0];\n",
       "        var tooltip = mpl.toolbar_items[toolbar_ind][1];\n",
       "        var image = mpl.toolbar_items[toolbar_ind][2];\n",
       "        var method_name = mpl.toolbar_items[toolbar_ind][3];\n",
       "\n",
       "        if (!name) { continue; };\n",
       "\n",
       "        var button = $('<button class=\"btn btn-default\" href=\"#\" title=\"' + name + '\"><i class=\"fa ' + image + ' fa-lg\"></i></button>');\n",
       "        button.click(method_name, toolbar_event);\n",
       "        button.mouseover(tooltip, toolbar_mouse_event);\n",
       "        nav_element.append(button);\n",
       "    }\n",
       "\n",
       "    // Add the status bar.\n",
       "    var status_bar = $('<span class=\"mpl-message\" style=\"text-align:right; float: right;\"/>');\n",
       "    nav_element.append(status_bar);\n",
       "    this.message = status_bar[0];\n",
       "\n",
       "    // Add the close button to the window.\n",
       "    var buttongrp = $('<div class=\"btn-group inline pull-right\"></div>');\n",
       "    var button = $('<button class=\"btn btn-mini btn-primary\" href=\"#\" title=\"Stop Interaction\"><i class=\"fa fa-power-off icon-remove icon-large\"></i></button>');\n",
       "    button.click(function (evt) { fig.handle_close(fig, {}); } );\n",
       "    button.mouseover('Stop Interaction', toolbar_mouse_event);\n",
       "    buttongrp.append(button);\n",
       "    var titlebar = this.root.find($('.ui-dialog-titlebar'));\n",
       "    titlebar.prepend(buttongrp);\n",
       "}\n",
       "\n",
       "mpl.figure.prototype._root_extra_style = function(el){\n",
       "    var fig = this\n",
       "    el.on(\"remove\", function(){\n",
       "\tfig.close_ws(fig, {});\n",
       "    });\n",
       "}\n",
       "\n",
       "mpl.figure.prototype._canvas_extra_style = function(el){\n",
       "    // this is important to make the div 'focusable\n",
       "    el.attr('tabindex', 0)\n",
       "    // reach out to IPython and tell the keyboard manager to turn it's self\n",
       "    // off when our div gets focus\n",
       "\n",
       "    // location in version 3\n",
       "    if (IPython.notebook.keyboard_manager) {\n",
       "        IPython.notebook.keyboard_manager.register_events(el);\n",
       "    }\n",
       "    else {\n",
       "        // location in version 2\n",
       "        IPython.keyboard_manager.register_events(el);\n",
       "    }\n",
       "\n",
       "}\n",
       "\n",
       "mpl.figure.prototype._key_event_extra = function(event, name) {\n",
       "    var manager = IPython.notebook.keyboard_manager;\n",
       "    if (!manager)\n",
       "        manager = IPython.keyboard_manager;\n",
       "\n",
       "    // Check for shift+enter\n",
       "    if (event.shiftKey && event.which == 13) {\n",
       "        this.canvas_div.blur();\n",
       "        // select the cell after this one\n",
       "        var index = IPython.notebook.find_cell_index(this.cell_info[0]);\n",
       "        IPython.notebook.select(index + 1);\n",
       "    }\n",
       "}\n",
       "\n",
       "mpl.figure.prototype.handle_save = function(fig, msg) {\n",
       "    fig.ondownload(fig, null);\n",
       "}\n",
       "\n",
       "\n",
       "mpl.find_output_cell = function(html_output) {\n",
       "    // Return the cell and output element which can be found *uniquely* in the notebook.\n",
       "    // Note - this is a bit hacky, but it is done because the \"notebook_saving.Notebook\"\n",
       "    // IPython event is triggered only after the cells have been serialised, which for\n",
       "    // our purposes (turning an active figure into a static one), is too late.\n",
       "    var cells = IPython.notebook.get_cells();\n",
       "    var ncells = cells.length;\n",
       "    for (var i=0; i<ncells; i++) {\n",
       "        var cell = cells[i];\n",
       "        if (cell.cell_type === 'code'){\n",
       "            for (var j=0; j<cell.output_area.outputs.length; j++) {\n",
       "                var data = cell.output_area.outputs[j];\n",
       "                if (data.data) {\n",
       "                    // IPython >= 3 moved mimebundle to data attribute of output\n",
       "                    data = data.data;\n",
       "                }\n",
       "                if (data['text/html'] == html_output) {\n",
       "                    return [cell, data, j];\n",
       "                }\n",
       "            }\n",
       "        }\n",
       "    }\n",
       "}\n",
       "\n",
       "// Register the function which deals with the matplotlib target/channel.\n",
       "// The kernel may be null if the page has been refreshed.\n",
       "if (IPython.notebook.kernel != null) {\n",
       "    IPython.notebook.kernel.comm_manager.register_target('matplotlib', mpl.mpl_figure_comm);\n",
       "}\n"
      ],
      "text/plain": [
       "<IPython.core.display.Javascript object>"
      ]
     },
     "metadata": {},
     "output_type": "display_data"
    },
    {
     "data": {
      "text/html": [
       "<img src=\"data:image/png;base64,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\" width=\"899.9999804930258\">"
      ],
      "text/plain": [
       "<IPython.core.display.HTML object>"
      ]
     },
     "metadata": {},
     "output_type": "display_data"
    }
   ],
   "source": [
    "plt.figure()\n",
    "plt.errorbar(\n",
    "    mus_to_test, \n",
    "    [metric.metrics['PSNR'].mean() for metric in metrics], \n",
    "    [metric.metrics['PSNR'].stddev() for metric in metrics],\n",
    "    linestyle='None', \n",
    "    marker='o',\n",
    ")\n",
    "plt.xscale('log')"
   ]
  },
  {
   "cell_type": "code",
   "execution_count": null,
   "metadata": {},
   "outputs": [],
   "source": []
  }
 ],
 "metadata": {
  "kernelspec": {
   "display_name": "Python 3",
   "language": "python",
   "name": "python3"
  },
  "language_info": {
   "codemirror_mode": {
    "name": "ipython",
    "version": 3
   },
   "file_extension": ".py",
   "mimetype": "text/x-python",
   "name": "python",
   "nbconvert_exporter": "python",
   "pygments_lexer": "ipython3",
   "version": "3.6.8"
  }
 },
 "nbformat": 4,
 "nbformat_minor": 2
}
