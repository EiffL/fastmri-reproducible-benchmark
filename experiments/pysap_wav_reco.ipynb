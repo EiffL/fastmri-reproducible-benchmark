{
 "cells": [
  {
   "cell_type": "code",
   "execution_count": 1,
   "metadata": {},
   "outputs": [
    {
     "name": "stderr",
     "output_type": "stream",
     "text": [
      "/volatile/home/Zaccharie/workspace/pysap-mri/mri/operators/fourier/cartesian.py:33: UserWarning: pynufft python package has not been found. If needed use the master release. Till then you cannot use NUFFT on GPU\n",
      "  warnings.warn(\"pynufft python package has not been found. If needed use \"\n",
      "/volatile/home/Zaccharie/workspace/pysap-mri/mri/operators/fourier/non_cartesian.py:33: UserWarning: pynufft python package has not been found. If needed use the master release. Till then you cannot use NUFFT on GPU\n",
      "  warnings.warn(\"pynufft python package has not been found. If needed use \"\n"
     ]
    },
    {
     "name": "stdout",
     "output_type": "stream",
     "text": [
      "\n",
      "                 .|'''|       /.\\      '||'''|,\n",
      "                 ||          // \\\\      ||   ||\n",
      "'||''|, '||  ||` `|'''|,    //...\\\\     ||...|'\n",
      " ||  ||  `|..||   .   ||   //     \\\\    ||\n",
      " ||..|'      ||   |...|' .//       \\\\. .||\n",
      " ||       ,  |'\n",
      ".||        ''\n",
      "\n",
      "Package version: 0.0.3\n",
      "\n",
      "License: CeCILL-B\n",
      "\n",
      "Authors: \n",
      "\n",
      "Antoine Grigis <antoine.grigis@cea.fr>\n",
      "Samuel Farrens <samuel.farrens@cea.fr>\n",
      "Jean-Luc Starck <jl.stark@cea.fr>\n",
      "Philippe Ciuciu <philippe.ciuciu@cea.fr>\n",
      "\n",
      "Dependencies: \n",
      "\n",
      "scipy          : >=1.3.0   - required | 1.3.3     installed\n",
      "numpy          : >=1.16.4  - required | 1.17.4    installed\n",
      "matplotlib     : >=3.0.0   - required | 3.1.2     installed\n",
      "astropy        : >=3.0.0   - required | 4.0       installed\n",
      "nibabel        : >=2.3.2   - required | 2.5.1     installed\n",
      "pyqtgraph      : >=0.10.0  - required | 0.10.0    installed\n",
      "progressbar2   : >=3.34.3  - required | ?         installed\n",
      "modopt         : >=1.4.0   - required | 1.4.2     installed\n",
      "scikit-learn   : >=0.19.1  - required | ?         installed\n",
      "pywt           : >=1.0.0   - required | 1.1.1     installed\n",
      "pysparse       : >=0.0.1   - required | 0.1.0     installed\n",
      "\n"
     ]
    }
   ],
   "source": [
    "%matplotlib nbagg\n",
    "import matplotlib.pyplot as plt\n",
    "from modopt.opt.proximity import SparseThreshold\n",
    "from modopt.opt.linear import Identity\n",
    "from mri.operators import FFT, WaveletN\n",
    "from mri.operators.utils import convert_mask_to_locations\n",
    "from mri.reconstructors import SingleChannelReconstructor\n",
    "import numpy as np\n",
    "from pysap.base.utils import flatten, unflatten\n",
    "import pywt\n",
    "from tqdm.notebook import tqdm\n",
    "\n",
    "from fastmri_recon.data.fastmri_sequences import Masked2DSequence\n",
    "from fastmri_recon.helpers.utils import crop_center\n",
    "from fastmri_recon.helpers.evaluate import psnr, ssim\n",
    "from fastmri_recon.helpers.evaluate import METRIC_FUNCS, Metrics"
   ]
  },
  {
   "cell_type": "code",
   "execution_count": 2,
   "metadata": {},
   "outputs": [],
   "source": [
    "plt.rcParams['figure.figsize'] = (9, 5)\n",
    "plt.rcParams['image.cmap'] = 'gray'"
   ]
  },
  {
   "cell_type": "code",
   "execution_count": 3,
   "metadata": {},
   "outputs": [],
   "source": [
    "# paths\n",
    "train_path = '/media/Zaccharie/UHRes/singlecoil_train/singlecoil_train/'\n",
    "val_path = '/media/Zaccharie/UHRes/singlecoil_val/'\n",
    "test_path = '/media/Zaccharie/UHRes/singlecoil_test/'\n",
    "\n",
    "n_volumes_train = 973\n",
    "n_volumes_val = 199"
   ]
  },
  {
   "cell_type": "code",
   "execution_count": 4,
   "metadata": {},
   "outputs": [],
   "source": [
    "# generators\n",
    "# CORPDFS_FBK CORPD_FBK None\n",
    "AF = 4\n",
    "train_gen = Masked2DSequence(train_path, af=AF, inner_slices=1, contrast='CORPDFS_FBK')\n",
    "val_gen = Masked2DSequence(val_path, af=AF, contrast='CORPDFS_FBK')"
   ]
  },
  {
   "cell_type": "code",
   "execution_count": 5,
   "metadata": {},
   "outputs": [],
   "source": [
    "def reconstruct_image(kspace, mask, max_iter=200, mu=0.1):\n",
    "    kspace_squeeze = np.squeeze(kspace)\n",
    "    mask = np.squeeze(mask)\n",
    "    k_shape = kspace_squeeze.shape\n",
    "    kspace_loc = convert_mask_to_locations(mask)\n",
    "    fourier_op = FFT(samples=kspace_loc, shape=k_shape)\n",
    "    linear_op = WaveletN(wavelet_name=\"sym8\", nb_scales=4)\n",
    "#     _ = linear_op.op(np.ones_like(kspace_squeeze))\n",
    "#     coarse_mask, _ = flatten([np.ones(linear_op.coeffs_shape[0])] + [np.zeros(coef_shape) for coef_shape in linear_op.coeffs_shape[1:]])\n",
    "    regularizer_op = SparseThreshold(Identity(), mu, thresh_type=\"soft\")\n",
    "    reconstructor = SingleChannelReconstructor(\n",
    "        fourier_op=fourier_op,\n",
    "        linear_op=linear_op,\n",
    "        regularizer_op=regularizer_op,\n",
    "        gradient_formulation='synthesis',\n",
    "        verbose=0,\n",
    "    )\n",
    "    x_final, costs, metrics = reconstructor.reconstruct(\n",
    "        kspace_data=kspace_squeeze,\n",
    "        optimization_alg='fista',\n",
    "        num_iterations=max_iter,\n",
    "        restart_strategy='greedy',\n",
    "        xi_restart=0.96, \n",
    "        s_greedy=1.3,\n",
    "        metric_call_period=None,\n",
    "        progress=False,\n",
    "        cost_op_kwargs={'cost_interval': None},\n",
    "    )\n",
    "    image_rec_fs = crop_center(np.abs(x_final), 320)\n",
    "    return image_rec_fs\n",
    "\n",
    "def reconstruct_zero(kspace, mask):\n",
    "    kspace_squeeze = np.squeeze(kspace)\n",
    "    mask = np.squeeze(mask)\n",
    "    k_shape = kspace_squeeze.shape\n",
    "    kspace_loc = convert_mask_to_locations(mask)\n",
    "    fourier_op = FFT(samples=kspace_loc, shape=k_shape)\n",
    "    x = fourier_op.adj_op(kspace_squeeze)\n",
    "    image_rec_fs = crop_center(np.abs(x), 320)\n",
    "    return image_rec_fs"
   ]
  },
  {
   "cell_type": "code",
   "execution_count": 6,
   "metadata": {},
   "outputs": [],
   "source": [
    "def metrics_for_args(sub_prop=0.2, **rec_kwargs):\n",
    "    metrics = Metrics(METRIC_FUNCS)\n",
    "    sampled_ids = np.random.randint(high=n_volumes_train//2-1, low=0, size=int(sub_prop * n_volumes_train//2))\n",
    "    pred_and_gt = [\n",
    "        (reconstruct_image(*train_gen[sampled_id][0], **rec_kwargs), train_gen[sampled_id][1])\n",
    "        for sampled_id in tqdm(sampled_ids, desc='K-spaces')\n",
    "    ]\n",
    "\n",
    "    for im_recos, images in tqdm(pred_and_gt, desc='Stats'):\n",
    "        metrics.push(images[..., 0], im_recos[None, ...])\n",
    "    return metrics"
   ]
  },
  {
   "cell_type": "code",
   "execution_count": 7,
   "metadata": {},
   "outputs": [],
   "source": [
    "def metrics_zero(sub_prop=0.2):\n",
    "    metrics = Metrics(METRIC_FUNCS)\n",
    "    sampled_ids = np.random.randint(high=n_volumes_train//2-1, low=0, size=int(sub_prop * n_volumes_train//2))\n",
    "    pred_and_gt = [\n",
    "        (reconstruct_zero(*train_gen[sampled_id][0]), train_gen[sampled_id][1])\n",
    "        for sampled_id in tqdm(sampled_ids, desc='K-spaces')\n",
    "    ]\n",
    "\n",
    "    for im_recos, images in tqdm(pred_and_gt, desc='Stats for zero'):\n",
    "        metrics.push(images[..., 0], im_recos[None, ...])\n",
    "    return metrics"
   ]
  },
  {
   "cell_type": "code",
   "execution_count": 8,
   "metadata": {},
   "outputs": [],
   "source": [
    "def psnr_gain(sub_prop=0.2, **rec_kwargs):\n",
    "    psnr_gains = []\n",
    "    sampled_ids = np.random.randint(high=n_volumes_train//2-1, low=0, size=int(sub_prop * n_volumes_train//2))\n",
    "    for sampled_id in tqdm(sampled_ids, desc='K-spaces'):\n",
    "        kspace_mask, orig_image = train_gen[sampled_id]\n",
    "        pred = reconstruct_image(*kspace_mask, **rec_kwargs)\n",
    "        z_pred = reconstruct_zero(*kspace_mask)\n",
    "        _psnr = psnr(np.squeeze(orig_image), np.squeeze(pred))\n",
    "        z_psnr = psnr(np.squeeze(orig_image), np.squeeze(z_pred))\n",
    "        _psnr_gain = _psnr - z_psnr\n",
    "        psnr_gains.append(_psnr_gain)\n",
    "    return np.mean(psnr_gains), np.std(psnr_gains)"
   ]
  },
  {
   "cell_type": "code",
   "execution_count": 9,
   "metadata": {},
   "outputs": [
    {
     "data": {
      "application/vnd.jupyter.widget-view+json": {
       "model_id": "03667cd017264308b90c41f794917ca0",
       "version_major": 2,
       "version_minor": 0
      },
      "text/plain": [
       "HBox(children=(FloatProgress(value=0.0, description='K-spaces', max=486.0, style=ProgressStyle(description_wid…"
      ]
     },
     "metadata": {},
     "output_type": "display_data"
    },
    {
     "name": "stderr",
     "output_type": "stream",
     "text": [
      "/volatile/home/Zaccharie/workspace/pysap-mri/mri/operators/fourier/utils.py:78: FutureWarning: Using a non-tuple sequence for multidimensional indexing is deprecated; use `arr[tuple(seq)]` instead of `arr[seq]`. In the future this will be interpreted as an array index, `arr[np.array(seq)]`, which will result either in an error or a different result.\n",
      "  mask[test] = 1\n"
     ]
    },
    {
     "name": "stdout",
     "output_type": "stream",
     "text": [
      "\n"
     ]
    },
    {
     "data": {
      "application/vnd.jupyter.widget-view+json": {
       "model_id": "35f6dbb1222b4ecc9eaf272fafc65f88",
       "version_major": 2,
       "version_minor": 0
      },
      "text/plain": [
       "HBox(children=(FloatProgress(value=0.0, description='Stats for zero', max=486.0, style=ProgressStyle(descripti…"
      ]
     },
     "metadata": {},
     "output_type": "display_data"
    },
    {
     "name": "stderr",
     "output_type": "stream",
     "text": [
      "/volatile/home/Zaccharie/workspace/fastmri-reproducible-benchmark/fastmri_recon/helpers/evaluate.py:24: UserWarning: DEPRECATED: skimage.measure.compare_psnr has been moved to skimage.metrics.peak_signal_noise_ratio. It will be removed from skimage.measure in version 0.18.\n",
      "  return compare_psnr(gt, pred, data_range=gt.max() - gt.min())\n",
      "/volatile/home/Zaccharie/workspace/fastmri-reproducible-benchmark/fastmri_recon/helpers/evaluate.py:30: UserWarning: DEPRECATED: skimage.measure.compare_ssim has been moved to skimage.metrics.structural_similarity. It will be removed from skimage.measure in version 0.18.\n",
      "  gt.transpose(1, 2, 0), pred.transpose(1, 2, 0), multichannel=True, data_range=gt.max() - gt.min()\n"
     ]
    },
    {
     "name": "stdout",
     "output_type": "stream",
     "text": [
      "\n"
     ]
    },
    {
     "data": {
      "text/plain": [
       "(24.381956473547696, 1.6356807567511964)"
      ]
     },
     "execution_count": 9,
     "metadata": {},
     "output_type": "execute_result"
    }
   ],
   "source": [
    "mz = metrics_zero(sub_prop=1).metrics['PSNR']\n",
    "mz.mean(), mz.stddev()"
   ]
  },
  {
   "cell_type": "code",
   "execution_count": 10,
   "metadata": {},
   "outputs": [
    {
     "data": {
      "application/javascript": [
       "/* Put everything inside the global mpl namespace */\n",
       "window.mpl = {};\n",
       "\n",
       "\n",
       "mpl.get_websocket_type = function() {\n",
       "    if (typeof(WebSocket) !== 'undefined') {\n",
       "        return WebSocket;\n",
       "    } else if (typeof(MozWebSocket) !== 'undefined') {\n",
       "        return MozWebSocket;\n",
       "    } else {\n",
       "        alert('Your browser does not have WebSocket support. ' +\n",
       "              'Please try Chrome, Safari or Firefox ≥ 6. ' +\n",
       "              'Firefox 4 and 5 are also supported but you ' +\n",
       "              'have to enable WebSockets in about:config.');\n",
       "    };\n",
       "}\n",
       "\n",
       "mpl.figure = function(figure_id, websocket, ondownload, parent_element) {\n",
       "    this.id = figure_id;\n",
       "\n",
       "    this.ws = websocket;\n",
       "\n",
       "    this.supports_binary = (this.ws.binaryType != undefined);\n",
       "\n",
       "    if (!this.supports_binary) {\n",
       "        var warnings = document.getElementById(\"mpl-warnings\");\n",
       "        if (warnings) {\n",
       "            warnings.style.display = 'block';\n",
       "            warnings.textContent = (\n",
       "                \"This browser does not support binary websocket messages. \" +\n",
       "                    \"Performance may be slow.\");\n",
       "        }\n",
       "    }\n",
       "\n",
       "    this.imageObj = new Image();\n",
       "\n",
       "    this.context = undefined;\n",
       "    this.message = undefined;\n",
       "    this.canvas = undefined;\n",
       "    this.rubberband_canvas = undefined;\n",
       "    this.rubberband_context = undefined;\n",
       "    this.format_dropdown = undefined;\n",
       "\n",
       "    this.image_mode = 'full';\n",
       "\n",
       "    this.root = $('<div/>');\n",
       "    this._root_extra_style(this.root)\n",
       "    this.root.attr('style', 'display: inline-block');\n",
       "\n",
       "    $(parent_element).append(this.root);\n",
       "\n",
       "    this._init_header(this);\n",
       "    this._init_canvas(this);\n",
       "    this._init_toolbar(this);\n",
       "\n",
       "    var fig = this;\n",
       "\n",
       "    this.waiting = false;\n",
       "\n",
       "    this.ws.onopen =  function () {\n",
       "            fig.send_message(\"supports_binary\", {value: fig.supports_binary});\n",
       "            fig.send_message(\"send_image_mode\", {});\n",
       "            if (mpl.ratio != 1) {\n",
       "                fig.send_message(\"set_dpi_ratio\", {'dpi_ratio': mpl.ratio});\n",
       "            }\n",
       "            fig.send_message(\"refresh\", {});\n",
       "        }\n",
       "\n",
       "    this.imageObj.onload = function() {\n",
       "            if (fig.image_mode == 'full') {\n",
       "                // Full images could contain transparency (where diff images\n",
       "                // almost always do), so we need to clear the canvas so that\n",
       "                // there is no ghosting.\n",
       "                fig.context.clearRect(0, 0, fig.canvas.width, fig.canvas.height);\n",
       "            }\n",
       "            fig.context.drawImage(fig.imageObj, 0, 0);\n",
       "        };\n",
       "\n",
       "    this.imageObj.onunload = function() {\n",
       "        fig.ws.close();\n",
       "    }\n",
       "\n",
       "    this.ws.onmessage = this._make_on_message_function(this);\n",
       "\n",
       "    this.ondownload = ondownload;\n",
       "}\n",
       "\n",
       "mpl.figure.prototype._init_header = function() {\n",
       "    var titlebar = $(\n",
       "        '<div class=\"ui-dialog-titlebar ui-widget-header ui-corner-all ' +\n",
       "        'ui-helper-clearfix\"/>');\n",
       "    var titletext = $(\n",
       "        '<div class=\"ui-dialog-title\" style=\"width: 100%; ' +\n",
       "        'text-align: center; padding: 3px;\"/>');\n",
       "    titlebar.append(titletext)\n",
       "    this.root.append(titlebar);\n",
       "    this.header = titletext[0];\n",
       "}\n",
       "\n",
       "\n",
       "\n",
       "mpl.figure.prototype._canvas_extra_style = function(canvas_div) {\n",
       "\n",
       "}\n",
       "\n",
       "\n",
       "mpl.figure.prototype._root_extra_style = function(canvas_div) {\n",
       "\n",
       "}\n",
       "\n",
       "mpl.figure.prototype._init_canvas = function() {\n",
       "    var fig = this;\n",
       "\n",
       "    var canvas_div = $('<div/>');\n",
       "\n",
       "    canvas_div.attr('style', 'position: relative; clear: both; outline: 0');\n",
       "\n",
       "    function canvas_keyboard_event(event) {\n",
       "        return fig.key_event(event, event['data']);\n",
       "    }\n",
       "\n",
       "    canvas_div.keydown('key_press', canvas_keyboard_event);\n",
       "    canvas_div.keyup('key_release', canvas_keyboard_event);\n",
       "    this.canvas_div = canvas_div\n",
       "    this._canvas_extra_style(canvas_div)\n",
       "    this.root.append(canvas_div);\n",
       "\n",
       "    var canvas = $('<canvas/>');\n",
       "    canvas.addClass('mpl-canvas');\n",
       "    canvas.attr('style', \"left: 0; top: 0; z-index: 0; outline: 0\")\n",
       "\n",
       "    this.canvas = canvas[0];\n",
       "    this.context = canvas[0].getContext(\"2d\");\n",
       "\n",
       "    var backingStore = this.context.backingStorePixelRatio ||\n",
       "\tthis.context.webkitBackingStorePixelRatio ||\n",
       "\tthis.context.mozBackingStorePixelRatio ||\n",
       "\tthis.context.msBackingStorePixelRatio ||\n",
       "\tthis.context.oBackingStorePixelRatio ||\n",
       "\tthis.context.backingStorePixelRatio || 1;\n",
       "\n",
       "    mpl.ratio = (window.devicePixelRatio || 1) / backingStore;\n",
       "\n",
       "    var rubberband = $('<canvas/>');\n",
       "    rubberband.attr('style', \"position: absolute; left: 0; top: 0; z-index: 1;\")\n",
       "\n",
       "    var pass_mouse_events = true;\n",
       "\n",
       "    canvas_div.resizable({\n",
       "        start: function(event, ui) {\n",
       "            pass_mouse_events = false;\n",
       "        },\n",
       "        resize: function(event, ui) {\n",
       "            fig.request_resize(ui.size.width, ui.size.height);\n",
       "        },\n",
       "        stop: function(event, ui) {\n",
       "            pass_mouse_events = true;\n",
       "            fig.request_resize(ui.size.width, ui.size.height);\n",
       "        },\n",
       "    });\n",
       "\n",
       "    function mouse_event_fn(event) {\n",
       "        if (pass_mouse_events)\n",
       "            return fig.mouse_event(event, event['data']);\n",
       "    }\n",
       "\n",
       "    rubberband.mousedown('button_press', mouse_event_fn);\n",
       "    rubberband.mouseup('button_release', mouse_event_fn);\n",
       "    // Throttle sequential mouse events to 1 every 20ms.\n",
       "    rubberband.mousemove('motion_notify', mouse_event_fn);\n",
       "\n",
       "    rubberband.mouseenter('figure_enter', mouse_event_fn);\n",
       "    rubberband.mouseleave('figure_leave', mouse_event_fn);\n",
       "\n",
       "    canvas_div.on(\"wheel\", function (event) {\n",
       "        event = event.originalEvent;\n",
       "        event['data'] = 'scroll'\n",
       "        if (event.deltaY < 0) {\n",
       "            event.step = 1;\n",
       "        } else {\n",
       "            event.step = -1;\n",
       "        }\n",
       "        mouse_event_fn(event);\n",
       "    });\n",
       "\n",
       "    canvas_div.append(canvas);\n",
       "    canvas_div.append(rubberband);\n",
       "\n",
       "    this.rubberband = rubberband;\n",
       "    this.rubberband_canvas = rubberband[0];\n",
       "    this.rubberband_context = rubberband[0].getContext(\"2d\");\n",
       "    this.rubberband_context.strokeStyle = \"#000000\";\n",
       "\n",
       "    this._resize_canvas = function(width, height) {\n",
       "        // Keep the size of the canvas, canvas container, and rubber band\n",
       "        // canvas in synch.\n",
       "        canvas_div.css('width', width)\n",
       "        canvas_div.css('height', height)\n",
       "\n",
       "        canvas.attr('width', width * mpl.ratio);\n",
       "        canvas.attr('height', height * mpl.ratio);\n",
       "        canvas.attr('style', 'width: ' + width + 'px; height: ' + height + 'px;');\n",
       "\n",
       "        rubberband.attr('width', width);\n",
       "        rubberband.attr('height', height);\n",
       "    }\n",
       "\n",
       "    // Set the figure to an initial 600x600px, this will subsequently be updated\n",
       "    // upon first draw.\n",
       "    this._resize_canvas(600, 600);\n",
       "\n",
       "    // Disable right mouse context menu.\n",
       "    $(this.rubberband_canvas).bind(\"contextmenu\",function(e){\n",
       "        return false;\n",
       "    });\n",
       "\n",
       "    function set_focus () {\n",
       "        canvas.focus();\n",
       "        canvas_div.focus();\n",
       "    }\n",
       "\n",
       "    window.setTimeout(set_focus, 100);\n",
       "}\n",
       "\n",
       "mpl.figure.prototype._init_toolbar = function() {\n",
       "    var fig = this;\n",
       "\n",
       "    var nav_element = $('<div/>');\n",
       "    nav_element.attr('style', 'width: 100%');\n",
       "    this.root.append(nav_element);\n",
       "\n",
       "    // Define a callback function for later on.\n",
       "    function toolbar_event(event) {\n",
       "        return fig.toolbar_button_onclick(event['data']);\n",
       "    }\n",
       "    function toolbar_mouse_event(event) {\n",
       "        return fig.toolbar_button_onmouseover(event['data']);\n",
       "    }\n",
       "\n",
       "    for(var toolbar_ind in mpl.toolbar_items) {\n",
       "        var name = mpl.toolbar_items[toolbar_ind][0];\n",
       "        var tooltip = mpl.toolbar_items[toolbar_ind][1];\n",
       "        var image = mpl.toolbar_items[toolbar_ind][2];\n",
       "        var method_name = mpl.toolbar_items[toolbar_ind][3];\n",
       "\n",
       "        if (!name) {\n",
       "            // put a spacer in here.\n",
       "            continue;\n",
       "        }\n",
       "        var button = $('<button/>');\n",
       "        button.addClass('ui-button ui-widget ui-state-default ui-corner-all ' +\n",
       "                        'ui-button-icon-only');\n",
       "        button.attr('role', 'button');\n",
       "        button.attr('aria-disabled', 'false');\n",
       "        button.click(method_name, toolbar_event);\n",
       "        button.mouseover(tooltip, toolbar_mouse_event);\n",
       "\n",
       "        var icon_img = $('<span/>');\n",
       "        icon_img.addClass('ui-button-icon-primary ui-icon');\n",
       "        icon_img.addClass(image);\n",
       "        icon_img.addClass('ui-corner-all');\n",
       "\n",
       "        var tooltip_span = $('<span/>');\n",
       "        tooltip_span.addClass('ui-button-text');\n",
       "        tooltip_span.html(tooltip);\n",
       "\n",
       "        button.append(icon_img);\n",
       "        button.append(tooltip_span);\n",
       "\n",
       "        nav_element.append(button);\n",
       "    }\n",
       "\n",
       "    var fmt_picker_span = $('<span/>');\n",
       "\n",
       "    var fmt_picker = $('<select/>');\n",
       "    fmt_picker.addClass('mpl-toolbar-option ui-widget ui-widget-content');\n",
       "    fmt_picker_span.append(fmt_picker);\n",
       "    nav_element.append(fmt_picker_span);\n",
       "    this.format_dropdown = fmt_picker[0];\n",
       "\n",
       "    for (var ind in mpl.extensions) {\n",
       "        var fmt = mpl.extensions[ind];\n",
       "        var option = $(\n",
       "            '<option/>', {selected: fmt === mpl.default_extension}).html(fmt);\n",
       "        fmt_picker.append(option);\n",
       "    }\n",
       "\n",
       "    // Add hover states to the ui-buttons\n",
       "    $( \".ui-button\" ).hover(\n",
       "        function() { $(this).addClass(\"ui-state-hover\");},\n",
       "        function() { $(this).removeClass(\"ui-state-hover\");}\n",
       "    );\n",
       "\n",
       "    var status_bar = $('<span class=\"mpl-message\"/>');\n",
       "    nav_element.append(status_bar);\n",
       "    this.message = status_bar[0];\n",
       "}\n",
       "\n",
       "mpl.figure.prototype.request_resize = function(x_pixels, y_pixels) {\n",
       "    // Request matplotlib to resize the figure. Matplotlib will then trigger a resize in the client,\n",
       "    // which will in turn request a refresh of the image.\n",
       "    this.send_message('resize', {'width': x_pixels, 'height': y_pixels});\n",
       "}\n",
       "\n",
       "mpl.figure.prototype.send_message = function(type, properties) {\n",
       "    properties['type'] = type;\n",
       "    properties['figure_id'] = this.id;\n",
       "    this.ws.send(JSON.stringify(properties));\n",
       "}\n",
       "\n",
       "mpl.figure.prototype.send_draw_message = function() {\n",
       "    if (!this.waiting) {\n",
       "        this.waiting = true;\n",
       "        this.ws.send(JSON.stringify({type: \"draw\", figure_id: this.id}));\n",
       "    }\n",
       "}\n",
       "\n",
       "\n",
       "mpl.figure.prototype.handle_save = function(fig, msg) {\n",
       "    var format_dropdown = fig.format_dropdown;\n",
       "    var format = format_dropdown.options[format_dropdown.selectedIndex].value;\n",
       "    fig.ondownload(fig, format);\n",
       "}\n",
       "\n",
       "\n",
       "mpl.figure.prototype.handle_resize = function(fig, msg) {\n",
       "    var size = msg['size'];\n",
       "    if (size[0] != fig.canvas.width || size[1] != fig.canvas.height) {\n",
       "        fig._resize_canvas(size[0], size[1]);\n",
       "        fig.send_message(\"refresh\", {});\n",
       "    };\n",
       "}\n",
       "\n",
       "mpl.figure.prototype.handle_rubberband = function(fig, msg) {\n",
       "    var x0 = msg['x0'] / mpl.ratio;\n",
       "    var y0 = (fig.canvas.height - msg['y0']) / mpl.ratio;\n",
       "    var x1 = msg['x1'] / mpl.ratio;\n",
       "    var y1 = (fig.canvas.height - msg['y1']) / mpl.ratio;\n",
       "    x0 = Math.floor(x0) + 0.5;\n",
       "    y0 = Math.floor(y0) + 0.5;\n",
       "    x1 = Math.floor(x1) + 0.5;\n",
       "    y1 = Math.floor(y1) + 0.5;\n",
       "    var min_x = Math.min(x0, x1);\n",
       "    var min_y = Math.min(y0, y1);\n",
       "    var width = Math.abs(x1 - x0);\n",
       "    var height = Math.abs(y1 - y0);\n",
       "\n",
       "    fig.rubberband_context.clearRect(\n",
       "        0, 0, fig.canvas.width / mpl.ratio, fig.canvas.height / mpl.ratio);\n",
       "\n",
       "    fig.rubberband_context.strokeRect(min_x, min_y, width, height);\n",
       "}\n",
       "\n",
       "mpl.figure.prototype.handle_figure_label = function(fig, msg) {\n",
       "    // Updates the figure title.\n",
       "    fig.header.textContent = msg['label'];\n",
       "}\n",
       "\n",
       "mpl.figure.prototype.handle_cursor = function(fig, msg) {\n",
       "    var cursor = msg['cursor'];\n",
       "    switch(cursor)\n",
       "    {\n",
       "    case 0:\n",
       "        cursor = 'pointer';\n",
       "        break;\n",
       "    case 1:\n",
       "        cursor = 'default';\n",
       "        break;\n",
       "    case 2:\n",
       "        cursor = 'crosshair';\n",
       "        break;\n",
       "    case 3:\n",
       "        cursor = 'move';\n",
       "        break;\n",
       "    }\n",
       "    fig.rubberband_canvas.style.cursor = cursor;\n",
       "}\n",
       "\n",
       "mpl.figure.prototype.handle_message = function(fig, msg) {\n",
       "    fig.message.textContent = msg['message'];\n",
       "}\n",
       "\n",
       "mpl.figure.prototype.handle_draw = function(fig, msg) {\n",
       "    // Request the server to send over a new figure.\n",
       "    fig.send_draw_message();\n",
       "}\n",
       "\n",
       "mpl.figure.prototype.handle_image_mode = function(fig, msg) {\n",
       "    fig.image_mode = msg['mode'];\n",
       "}\n",
       "\n",
       "mpl.figure.prototype.updated_canvas_event = function() {\n",
       "    // Called whenever the canvas gets updated.\n",
       "    this.send_message(\"ack\", {});\n",
       "}\n",
       "\n",
       "// A function to construct a web socket function for onmessage handling.\n",
       "// Called in the figure constructor.\n",
       "mpl.figure.prototype._make_on_message_function = function(fig) {\n",
       "    return function socket_on_message(evt) {\n",
       "        if (evt.data instanceof Blob) {\n",
       "            /* FIXME: We get \"Resource interpreted as Image but\n",
       "             * transferred with MIME type text/plain:\" errors on\n",
       "             * Chrome.  But how to set the MIME type?  It doesn't seem\n",
       "             * to be part of the websocket stream */\n",
       "            evt.data.type = \"image/png\";\n",
       "\n",
       "            /* Free the memory for the previous frames */\n",
       "            if (fig.imageObj.src) {\n",
       "                (window.URL || window.webkitURL).revokeObjectURL(\n",
       "                    fig.imageObj.src);\n",
       "            }\n",
       "\n",
       "            fig.imageObj.src = (window.URL || window.webkitURL).createObjectURL(\n",
       "                evt.data);\n",
       "            fig.updated_canvas_event();\n",
       "            fig.waiting = false;\n",
       "            return;\n",
       "        }\n",
       "        else if (typeof evt.data === 'string' && evt.data.slice(0, 21) == \"data:image/png;base64\") {\n",
       "            fig.imageObj.src = evt.data;\n",
       "            fig.updated_canvas_event();\n",
       "            fig.waiting = false;\n",
       "            return;\n",
       "        }\n",
       "\n",
       "        var msg = JSON.parse(evt.data);\n",
       "        var msg_type = msg['type'];\n",
       "\n",
       "        // Call the  \"handle_{type}\" callback, which takes\n",
       "        // the figure and JSON message as its only arguments.\n",
       "        try {\n",
       "            var callback = fig[\"handle_\" + msg_type];\n",
       "        } catch (e) {\n",
       "            console.log(\"No handler for the '\" + msg_type + \"' message type: \", msg);\n",
       "            return;\n",
       "        }\n",
       "\n",
       "        if (callback) {\n",
       "            try {\n",
       "                // console.log(\"Handling '\" + msg_type + \"' message: \", msg);\n",
       "                callback(fig, msg);\n",
       "            } catch (e) {\n",
       "                console.log(\"Exception inside the 'handler_\" + msg_type + \"' callback:\", e, e.stack, msg);\n",
       "            }\n",
       "        }\n",
       "    };\n",
       "}\n",
       "\n",
       "// from http://stackoverflow.com/questions/1114465/getting-mouse-location-in-canvas\n",
       "mpl.findpos = function(e) {\n",
       "    //this section is from http://www.quirksmode.org/js/events_properties.html\n",
       "    var targ;\n",
       "    if (!e)\n",
       "        e = window.event;\n",
       "    if (e.target)\n",
       "        targ = e.target;\n",
       "    else if (e.srcElement)\n",
       "        targ = e.srcElement;\n",
       "    if (targ.nodeType == 3) // defeat Safari bug\n",
       "        targ = targ.parentNode;\n",
       "\n",
       "    // jQuery normalizes the pageX and pageY\n",
       "    // pageX,Y are the mouse positions relative to the document\n",
       "    // offset() returns the position of the element relative to the document\n",
       "    var x = e.pageX - $(targ).offset().left;\n",
       "    var y = e.pageY - $(targ).offset().top;\n",
       "\n",
       "    return {\"x\": x, \"y\": y};\n",
       "};\n",
       "\n",
       "/*\n",
       " * return a copy of an object with only non-object keys\n",
       " * we need this to avoid circular references\n",
       " * http://stackoverflow.com/a/24161582/3208463\n",
       " */\n",
       "function simpleKeys (original) {\n",
       "  return Object.keys(original).reduce(function (obj, key) {\n",
       "    if (typeof original[key] !== 'object')\n",
       "        obj[key] = original[key]\n",
       "    return obj;\n",
       "  }, {});\n",
       "}\n",
       "\n",
       "mpl.figure.prototype.mouse_event = function(event, name) {\n",
       "    var canvas_pos = mpl.findpos(event)\n",
       "\n",
       "    if (name === 'button_press')\n",
       "    {\n",
       "        this.canvas.focus();\n",
       "        this.canvas_div.focus();\n",
       "    }\n",
       "\n",
       "    var x = canvas_pos.x * mpl.ratio;\n",
       "    var y = canvas_pos.y * mpl.ratio;\n",
       "\n",
       "    this.send_message(name, {x: x, y: y, button: event.button,\n",
       "                             step: event.step,\n",
       "                             guiEvent: simpleKeys(event)});\n",
       "\n",
       "    /* This prevents the web browser from automatically changing to\n",
       "     * the text insertion cursor when the button is pressed.  We want\n",
       "     * to control all of the cursor setting manually through the\n",
       "     * 'cursor' event from matplotlib */\n",
       "    event.preventDefault();\n",
       "    return false;\n",
       "}\n",
       "\n",
       "mpl.figure.prototype._key_event_extra = function(event, name) {\n",
       "    // Handle any extra behaviour associated with a key event\n",
       "}\n",
       "\n",
       "mpl.figure.prototype.key_event = function(event, name) {\n",
       "\n",
       "    // Prevent repeat events\n",
       "    if (name == 'key_press')\n",
       "    {\n",
       "        if (event.which === this._key)\n",
       "            return;\n",
       "        else\n",
       "            this._key = event.which;\n",
       "    }\n",
       "    if (name == 'key_release')\n",
       "        this._key = null;\n",
       "\n",
       "    var value = '';\n",
       "    if (event.ctrlKey && event.which != 17)\n",
       "        value += \"ctrl+\";\n",
       "    if (event.altKey && event.which != 18)\n",
       "        value += \"alt+\";\n",
       "    if (event.shiftKey && event.which != 16)\n",
       "        value += \"shift+\";\n",
       "\n",
       "    value += 'k';\n",
       "    value += event.which.toString();\n",
       "\n",
       "    this._key_event_extra(event, name);\n",
       "\n",
       "    this.send_message(name, {key: value,\n",
       "                             guiEvent: simpleKeys(event)});\n",
       "    return false;\n",
       "}\n",
       "\n",
       "mpl.figure.prototype.toolbar_button_onclick = function(name) {\n",
       "    if (name == 'download') {\n",
       "        this.handle_save(this, null);\n",
       "    } else {\n",
       "        this.send_message(\"toolbar_button\", {name: name});\n",
       "    }\n",
       "};\n",
       "\n",
       "mpl.figure.prototype.toolbar_button_onmouseover = function(tooltip) {\n",
       "    this.message.textContent = tooltip;\n",
       "};\n",
       "mpl.toolbar_items = [[\"Home\", \"Reset original view\", \"fa fa-home icon-home\", \"home\"], [\"Back\", \"Back to previous view\", \"fa fa-arrow-left icon-arrow-left\", \"back\"], [\"Forward\", \"Forward to next view\", \"fa fa-arrow-right icon-arrow-right\", \"forward\"], [\"\", \"\", \"\", \"\"], [\"Pan\", \"Pan axes with left mouse, zoom with right\", \"fa fa-arrows icon-move\", \"pan\"], [\"Zoom\", \"Zoom to rectangle\", \"fa fa-square-o icon-check-empty\", \"zoom\"], [\"\", \"\", \"\", \"\"], [\"Download\", \"Download plot\", \"fa fa-floppy-o icon-save\", \"download\"]];\n",
       "\n",
       "mpl.extensions = [\"eps\", \"jpeg\", \"pdf\", \"png\", \"ps\", \"raw\", \"svg\", \"tif\"];\n",
       "\n",
       "mpl.default_extension = \"png\";var comm_websocket_adapter = function(comm) {\n",
       "    // Create a \"websocket\"-like object which calls the given IPython comm\n",
       "    // object with the appropriate methods. Currently this is a non binary\n",
       "    // socket, so there is still some room for performance tuning.\n",
       "    var ws = {};\n",
       "\n",
       "    ws.close = function() {\n",
       "        comm.close()\n",
       "    };\n",
       "    ws.send = function(m) {\n",
       "        //console.log('sending', m);\n",
       "        comm.send(m);\n",
       "    };\n",
       "    // Register the callback with on_msg.\n",
       "    comm.on_msg(function(msg) {\n",
       "        //console.log('receiving', msg['content']['data'], msg);\n",
       "        // Pass the mpl event to the overridden (by mpl) onmessage function.\n",
       "        ws.onmessage(msg['content']['data'])\n",
       "    });\n",
       "    return ws;\n",
       "}\n",
       "\n",
       "mpl.mpl_figure_comm = function(comm, msg) {\n",
       "    // This is the function which gets called when the mpl process\n",
       "    // starts-up an IPython Comm through the \"matplotlib\" channel.\n",
       "\n",
       "    var id = msg.content.data.id;\n",
       "    // Get hold of the div created by the display call when the Comm\n",
       "    // socket was opened in Python.\n",
       "    var element = $(\"#\" + id);\n",
       "    var ws_proxy = comm_websocket_adapter(comm)\n",
       "\n",
       "    function ondownload(figure, format) {\n",
       "        window.open(figure.imageObj.src);\n",
       "    }\n",
       "\n",
       "    var fig = new mpl.figure(id, ws_proxy,\n",
       "                           ondownload,\n",
       "                           element.get(0));\n",
       "\n",
       "    // Call onopen now - mpl needs it, as it is assuming we've passed it a real\n",
       "    // web socket which is closed, not our websocket->open comm proxy.\n",
       "    ws_proxy.onopen();\n",
       "\n",
       "    fig.parent_element = element.get(0);\n",
       "    fig.cell_info = mpl.find_output_cell(\"<div id='\" + id + \"'></div>\");\n",
       "    if (!fig.cell_info) {\n",
       "        console.error(\"Failed to find cell for figure\", id, fig);\n",
       "        return;\n",
       "    }\n",
       "\n",
       "    var output_index = fig.cell_info[2]\n",
       "    var cell = fig.cell_info[0];\n",
       "\n",
       "};\n",
       "\n",
       "mpl.figure.prototype.handle_close = function(fig, msg) {\n",
       "    var width = fig.canvas.width/mpl.ratio\n",
       "    fig.root.unbind('remove')\n",
       "\n",
       "    // Update the output cell to use the data from the current canvas.\n",
       "    fig.push_to_output();\n",
       "    var dataURL = fig.canvas.toDataURL();\n",
       "    // Re-enable the keyboard manager in IPython - without this line, in FF,\n",
       "    // the notebook keyboard shortcuts fail.\n",
       "    IPython.keyboard_manager.enable()\n",
       "    $(fig.parent_element).html('<img src=\"' + dataURL + '\" width=\"' + width + '\">');\n",
       "    fig.close_ws(fig, msg);\n",
       "}\n",
       "\n",
       "mpl.figure.prototype.close_ws = function(fig, msg){\n",
       "    fig.send_message('closing', msg);\n",
       "    // fig.ws.close()\n",
       "}\n",
       "\n",
       "mpl.figure.prototype.push_to_output = function(remove_interactive) {\n",
       "    // Turn the data on the canvas into data in the output cell.\n",
       "    var width = this.canvas.width/mpl.ratio\n",
       "    var dataURL = this.canvas.toDataURL();\n",
       "    this.cell_info[1]['text/html'] = '<img src=\"' + dataURL + '\" width=\"' + width + '\">';\n",
       "}\n",
       "\n",
       "mpl.figure.prototype.updated_canvas_event = function() {\n",
       "    // Tell IPython that the notebook contents must change.\n",
       "    IPython.notebook.set_dirty(true);\n",
       "    this.send_message(\"ack\", {});\n",
       "    var fig = this;\n",
       "    // Wait a second, then push the new image to the DOM so\n",
       "    // that it is saved nicely (might be nice to debounce this).\n",
       "    setTimeout(function () { fig.push_to_output() }, 1000);\n",
       "}\n",
       "\n",
       "mpl.figure.prototype._init_toolbar = function() {\n",
       "    var fig = this;\n",
       "\n",
       "    var nav_element = $('<div/>');\n",
       "    nav_element.attr('style', 'width: 100%');\n",
       "    this.root.append(nav_element);\n",
       "\n",
       "    // Define a callback function for later on.\n",
       "    function toolbar_event(event) {\n",
       "        return fig.toolbar_button_onclick(event['data']);\n",
       "    }\n",
       "    function toolbar_mouse_event(event) {\n",
       "        return fig.toolbar_button_onmouseover(event['data']);\n",
       "    }\n",
       "\n",
       "    for(var toolbar_ind in mpl.toolbar_items){\n",
       "        var name = mpl.toolbar_items[toolbar_ind][0];\n",
       "        var tooltip = mpl.toolbar_items[toolbar_ind][1];\n",
       "        var image = mpl.toolbar_items[toolbar_ind][2];\n",
       "        var method_name = mpl.toolbar_items[toolbar_ind][3];\n",
       "\n",
       "        if (!name) { continue; };\n",
       "\n",
       "        var button = $('<button class=\"btn btn-default\" href=\"#\" title=\"' + name + '\"><i class=\"fa ' + image + ' fa-lg\"></i></button>');\n",
       "        button.click(method_name, toolbar_event);\n",
       "        button.mouseover(tooltip, toolbar_mouse_event);\n",
       "        nav_element.append(button);\n",
       "    }\n",
       "\n",
       "    // Add the status bar.\n",
       "    var status_bar = $('<span class=\"mpl-message\" style=\"text-align:right; float: right;\"/>');\n",
       "    nav_element.append(status_bar);\n",
       "    this.message = status_bar[0];\n",
       "\n",
       "    // Add the close button to the window.\n",
       "    var buttongrp = $('<div class=\"btn-group inline pull-right\"></div>');\n",
       "    var button = $('<button class=\"btn btn-mini btn-primary\" href=\"#\" title=\"Stop Interaction\"><i class=\"fa fa-power-off icon-remove icon-large\"></i></button>');\n",
       "    button.click(function (evt) { fig.handle_close(fig, {}); } );\n",
       "    button.mouseover('Stop Interaction', toolbar_mouse_event);\n",
       "    buttongrp.append(button);\n",
       "    var titlebar = this.root.find($('.ui-dialog-titlebar'));\n",
       "    titlebar.prepend(buttongrp);\n",
       "}\n",
       "\n",
       "mpl.figure.prototype._root_extra_style = function(el){\n",
       "    var fig = this\n",
       "    el.on(\"remove\", function(){\n",
       "\tfig.close_ws(fig, {});\n",
       "    });\n",
       "}\n",
       "\n",
       "mpl.figure.prototype._canvas_extra_style = function(el){\n",
       "    // this is important to make the div 'focusable\n",
       "    el.attr('tabindex', 0)\n",
       "    // reach out to IPython and tell the keyboard manager to turn it's self\n",
       "    // off when our div gets focus\n",
       "\n",
       "    // location in version 3\n",
       "    if (IPython.notebook.keyboard_manager) {\n",
       "        IPython.notebook.keyboard_manager.register_events(el);\n",
       "    }\n",
       "    else {\n",
       "        // location in version 2\n",
       "        IPython.keyboard_manager.register_events(el);\n",
       "    }\n",
       "\n",
       "}\n",
       "\n",
       "mpl.figure.prototype._key_event_extra = function(event, name) {\n",
       "    var manager = IPython.notebook.keyboard_manager;\n",
       "    if (!manager)\n",
       "        manager = IPython.keyboard_manager;\n",
       "\n",
       "    // Check for shift+enter\n",
       "    if (event.shiftKey && event.which == 13) {\n",
       "        this.canvas_div.blur();\n",
       "        // select the cell after this one\n",
       "        var index = IPython.notebook.find_cell_index(this.cell_info[0]);\n",
       "        IPython.notebook.select(index + 1);\n",
       "    }\n",
       "}\n",
       "\n",
       "mpl.figure.prototype.handle_save = function(fig, msg) {\n",
       "    fig.ondownload(fig, null);\n",
       "}\n",
       "\n",
       "\n",
       "mpl.find_output_cell = function(html_output) {\n",
       "    // Return the cell and output element which can be found *uniquely* in the notebook.\n",
       "    // Note - this is a bit hacky, but it is done because the \"notebook_saving.Notebook\"\n",
       "    // IPython event is triggered only after the cells have been serialised, which for\n",
       "    // our purposes (turning an active figure into a static one), is too late.\n",
       "    var cells = IPython.notebook.get_cells();\n",
       "    var ncells = cells.length;\n",
       "    for (var i=0; i<ncells; i++) {\n",
       "        var cell = cells[i];\n",
       "        if (cell.cell_type === 'code'){\n",
       "            for (var j=0; j<cell.output_area.outputs.length; j++) {\n",
       "                var data = cell.output_area.outputs[j];\n",
       "                if (data.data) {\n",
       "                    // IPython >= 3 moved mimebundle to data attribute of output\n",
       "                    data = data.data;\n",
       "                }\n",
       "                if (data['text/html'] == html_output) {\n",
       "                    return [cell, data, j];\n",
       "                }\n",
       "            }\n",
       "        }\n",
       "    }\n",
       "}\n",
       "\n",
       "// Register the function which deals with the matplotlib target/channel.\n",
       "// The kernel may be null if the page has been refreshed.\n",
       "if (IPython.notebook.kernel != null) {\n",
       "    IPython.notebook.kernel.comm_manager.register_target('matplotlib', mpl.mpl_figure_comm);\n",
       "}\n"
      ],
      "text/plain": [
       "<IPython.core.display.Javascript object>"
      ]
     },
     "metadata": {},
     "output_type": "display_data"
    },
    {
     "data": {
      "text/html": [
       "<img src=\"data:image/png;base64,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\" width=\"899.9999804930258\">"
      ],
      "text/plain": [
       "<IPython.core.display.HTML object>"
      ]
     },
     "metadata": {},
     "output_type": "display_data"
    },
    {
     "data": {
      "application/vnd.jupyter.widget-view+json": {
       "model_id": "fbecf225fe85429292f62d42c8de9504",
       "version_major": 2,
       "version_minor": 0
      },
      "text/plain": [
       "HBox(children=(FloatProgress(value=0.0, description='K-spaces', max=4.0, style=ProgressStyle(description_width…"
      ]
     },
     "metadata": {},
     "output_type": "display_data"
    },
    {
     "name": "stderr",
     "output_type": "stream",
     "text": [
      "\u001b[33mWARNING\u001b[0m: Making input data immutable.\n",
      "\u001b[33mWARNING\u001b[0m: Making input data immutable.\n",
      "\u001b[33mWARNING\u001b[0m: Making input data immutable.\n",
      "\u001b[33mWARNING\u001b[0m: Making input data immutable.\n",
      "\u001b[33mWARNING\u001b[0m: Making input data immutable.\n",
      "\u001b[33mWARNING\u001b[0m: Making input data immutable.\n",
      "\u001b[33mWARNING\u001b[0m: Making input data immutable.\n",
      "\u001b[33mWARNING\u001b[0m: Making input data immutable.\n"
     ]
    },
    {
     "name": "stdout",
     "output_type": "stream",
     "text": [
      "\n"
     ]
    },
    {
     "data": {
      "text/plain": [
       "<matplotlib.lines.Line2D at 0x7fc1d88d5be0>"
      ]
     },
     "execution_count": 10,
     "metadata": {},
     "output_type": "execute_result"
    }
   ],
   "source": [
    "# sanity check\n",
    "plt.figure()\n",
    "psnr_gains = psnr_gain(sub_prop=0.01, mu=0)\n",
    "plt.errorbar(\n",
    "    0, \n",
    "    psnr_gains[0], \n",
    "    psnr_gains[1],\n",
    "    linestyle='None', \n",
    "    marker='o',\n",
    ")\n",
    "plt.axhline(0, color='C3')\n",
    "# plt.xscale('log')"
   ]
  },
  {
   "cell_type": "code",
   "execution_count": 11,
   "metadata": {},
   "outputs": [],
   "source": [
    "mus_to_test = np.logspace(-12, -3, 9)"
   ]
  },
  {
   "cell_type": "code",
   "execution_count": 12,
   "metadata": {
    "scrolled": true
   },
   "outputs": [
    {
     "data": {
      "application/vnd.jupyter.widget-view+json": {
       "model_id": "e54f9bf1b8714a919787cf36f0c5c4aa",
       "version_major": 2,
       "version_minor": 0
      },
      "text/plain": [
       "HBox(children=(FloatProgress(value=0.0, description='mus', max=9.0, style=ProgressStyle(description_width='ini…"
      ]
     },
     "metadata": {},
     "output_type": "display_data"
    },
    {
     "data": {
      "application/vnd.jupyter.widget-view+json": {
       "model_id": "bb404955cdd341618d5ecc195edfd115",
       "version_major": 2,
       "version_minor": 0
      },
      "text/plain": [
       "HBox(children=(FloatProgress(value=0.0, description='K-spaces', max=1.0, style=ProgressStyle(description_width…"
      ]
     },
     "metadata": {},
     "output_type": "display_data"
    },
    {
     "name": "stderr",
     "output_type": "stream",
     "text": [
      "\u001b[33mWARNING\u001b[0m: Making input data immutable.\n",
      "\u001b[33mWARNING\u001b[0m: Making input data immutable.\n"
     ]
    },
    {
     "name": "stdout",
     "output_type": "stream",
     "text": [
      "\n"
     ]
    },
    {
     "data": {
      "application/vnd.jupyter.widget-view+json": {
       "model_id": "431791778b87439fb6365c1f8feb9b73",
       "version_major": 2,
       "version_minor": 0
      },
      "text/plain": [
       "HBox(children=(FloatProgress(value=0.0, description='K-spaces', max=1.0, style=ProgressStyle(description_width…"
      ]
     },
     "metadata": {},
     "output_type": "display_data"
    },
    {
     "name": "stderr",
     "output_type": "stream",
     "text": [
      "\u001b[33mWARNING\u001b[0m: Making input data immutable.\n",
      "\u001b[33mWARNING\u001b[0m: Making input data immutable.\n"
     ]
    },
    {
     "name": "stdout",
     "output_type": "stream",
     "text": [
      "\n"
     ]
    },
    {
     "data": {
      "application/vnd.jupyter.widget-view+json": {
       "model_id": "89dae8edb33c4927b82d9fd4871fdea8",
       "version_major": 2,
       "version_minor": 0
      },
      "text/plain": [
       "HBox(children=(FloatProgress(value=0.0, description='K-spaces', max=1.0, style=ProgressStyle(description_width…"
      ]
     },
     "metadata": {},
     "output_type": "display_data"
    },
    {
     "name": "stderr",
     "output_type": "stream",
     "text": [
      "\u001b[33mWARNING\u001b[0m: Making input data immutable.\n",
      "\u001b[33mWARNING\u001b[0m: Making input data immutable.\n"
     ]
    },
    {
     "name": "stdout",
     "output_type": "stream",
     "text": [
      "\n"
     ]
    },
    {
     "data": {
      "application/vnd.jupyter.widget-view+json": {
       "model_id": "252e71a1bac14c43b6d9abb46dbe27a2",
       "version_major": 2,
       "version_minor": 0
      },
      "text/plain": [
       "HBox(children=(FloatProgress(value=0.0, description='K-spaces', max=1.0, style=ProgressStyle(description_width…"
      ]
     },
     "metadata": {},
     "output_type": "display_data"
    },
    {
     "name": "stderr",
     "output_type": "stream",
     "text": [
      "\u001b[33mWARNING\u001b[0m: Making input data immutable.\n",
      "\u001b[33mWARNING\u001b[0m: Making input data immutable.\n"
     ]
    },
    {
     "name": "stdout",
     "output_type": "stream",
     "text": [
      "\n"
     ]
    },
    {
     "data": {
      "application/vnd.jupyter.widget-view+json": {
       "model_id": "b93474bb98574ac2a6789ece6ff37c51",
       "version_major": 2,
       "version_minor": 0
      },
      "text/plain": [
       "HBox(children=(FloatProgress(value=0.0, description='K-spaces', max=1.0, style=ProgressStyle(description_width…"
      ]
     },
     "metadata": {},
     "output_type": "display_data"
    },
    {
     "name": "stderr",
     "output_type": "stream",
     "text": [
      "\u001b[33mWARNING\u001b[0m: Making input data immutable.\n",
      "\u001b[33mWARNING\u001b[0m: Making input data immutable.\n"
     ]
    },
    {
     "name": "stdout",
     "output_type": "stream",
     "text": [
      "\n"
     ]
    },
    {
     "data": {
      "application/vnd.jupyter.widget-view+json": {
       "model_id": "c9b45e0df99644078d35f043bc2f3e1d",
       "version_major": 2,
       "version_minor": 0
      },
      "text/plain": [
       "HBox(children=(FloatProgress(value=0.0, description='K-spaces', max=1.0, style=ProgressStyle(description_width…"
      ]
     },
     "metadata": {},
     "output_type": "display_data"
    },
    {
     "name": "stderr",
     "output_type": "stream",
     "text": [
      "\u001b[33mWARNING\u001b[0m: Making input data immutable.\n",
      "\u001b[33mWARNING\u001b[0m: Making input data immutable.\n"
     ]
    },
    {
     "name": "stdout",
     "output_type": "stream",
     "text": [
      "\n"
     ]
    },
    {
     "data": {
      "application/vnd.jupyter.widget-view+json": {
       "model_id": "ba3186d545dd46768390472822ee8db8",
       "version_major": 2,
       "version_minor": 0
      },
      "text/plain": [
       "HBox(children=(FloatProgress(value=0.0, description='K-spaces', max=1.0, style=ProgressStyle(description_width…"
      ]
     },
     "metadata": {},
     "output_type": "display_data"
    },
    {
     "name": "stderr",
     "output_type": "stream",
     "text": [
      "\u001b[33mWARNING\u001b[0m: Making input data immutable.\n",
      "\u001b[33mWARNING\u001b[0m: Making input data immutable.\n"
     ]
    },
    {
     "name": "stdout",
     "output_type": "stream",
     "text": [
      "\n"
     ]
    },
    {
     "data": {
      "application/vnd.jupyter.widget-view+json": {
       "model_id": "c672f3e766284762b01acd682398f6ae",
       "version_major": 2,
       "version_minor": 0
      },
      "text/plain": [
       "HBox(children=(FloatProgress(value=0.0, description='K-spaces', max=1.0, style=ProgressStyle(description_width…"
      ]
     },
     "metadata": {},
     "output_type": "display_data"
    },
    {
     "name": "stderr",
     "output_type": "stream",
     "text": [
      "\u001b[33mWARNING\u001b[0m: Making input data immutable.\n",
      "\u001b[33mWARNING\u001b[0m: Making input data immutable.\n"
     ]
    },
    {
     "name": "stdout",
     "output_type": "stream",
     "text": [
      "\n"
     ]
    },
    {
     "data": {
      "application/vnd.jupyter.widget-view+json": {
       "model_id": "ba713386bfe44660afe2b293a326ffc3",
       "version_major": 2,
       "version_minor": 0
      },
      "text/plain": [
       "HBox(children=(FloatProgress(value=0.0, description='K-spaces', max=1.0, style=ProgressStyle(description_width…"
      ]
     },
     "metadata": {},
     "output_type": "display_data"
    },
    {
     "name": "stderr",
     "output_type": "stream",
     "text": [
      "\u001b[33mWARNING\u001b[0m: Making input data immutable.\n",
      "\u001b[33mWARNING\u001b[0m: Making input data immutable.\n"
     ]
    },
    {
     "name": "stdout",
     "output_type": "stream",
     "text": [
      "\n",
      "\n",
      "CPU times: user 1h 10min 46s, sys: 1h 25min 18s, total: 2h 36min 4s\n",
      "Wall time: 5min 11s\n"
     ]
    }
   ],
   "source": [
    "%%time\n",
    "metrics = []\n",
    "for mu in tqdm(mus_to_test, desc='mus'):\n",
    "    psnr_gains = psnr_gain(sub_prop=0.003, mu=mu)\n",
    "    metrics.append(psnr_gains)"
   ]
  },
  {
   "cell_type": "code",
   "execution_count": 13,
   "metadata": {},
   "outputs": [
    {
     "data": {
      "application/javascript": [
       "/* Put everything inside the global mpl namespace */\n",
       "window.mpl = {};\n",
       "\n",
       "\n",
       "mpl.get_websocket_type = function() {\n",
       "    if (typeof(WebSocket) !== 'undefined') {\n",
       "        return WebSocket;\n",
       "    } else if (typeof(MozWebSocket) !== 'undefined') {\n",
       "        return MozWebSocket;\n",
       "    } else {\n",
       "        alert('Your browser does not have WebSocket support. ' +\n",
       "              'Please try Chrome, Safari or Firefox ≥ 6. ' +\n",
       "              'Firefox 4 and 5 are also supported but you ' +\n",
       "              'have to enable WebSockets in about:config.');\n",
       "    };\n",
       "}\n",
       "\n",
       "mpl.figure = function(figure_id, websocket, ondownload, parent_element) {\n",
       "    this.id = figure_id;\n",
       "\n",
       "    this.ws = websocket;\n",
       "\n",
       "    this.supports_binary = (this.ws.binaryType != undefined);\n",
       "\n",
       "    if (!this.supports_binary) {\n",
       "        var warnings = document.getElementById(\"mpl-warnings\");\n",
       "        if (warnings) {\n",
       "            warnings.style.display = 'block';\n",
       "            warnings.textContent = (\n",
       "                \"This browser does not support binary websocket messages. \" +\n",
       "                    \"Performance may be slow.\");\n",
       "        }\n",
       "    }\n",
       "\n",
       "    this.imageObj = new Image();\n",
       "\n",
       "    this.context = undefined;\n",
       "    this.message = undefined;\n",
       "    this.canvas = undefined;\n",
       "    this.rubberband_canvas = undefined;\n",
       "    this.rubberband_context = undefined;\n",
       "    this.format_dropdown = undefined;\n",
       "\n",
       "    this.image_mode = 'full';\n",
       "\n",
       "    this.root = $('<div/>');\n",
       "    this._root_extra_style(this.root)\n",
       "    this.root.attr('style', 'display: inline-block');\n",
       "\n",
       "    $(parent_element).append(this.root);\n",
       "\n",
       "    this._init_header(this);\n",
       "    this._init_canvas(this);\n",
       "    this._init_toolbar(this);\n",
       "\n",
       "    var fig = this;\n",
       "\n",
       "    this.waiting = false;\n",
       "\n",
       "    this.ws.onopen =  function () {\n",
       "            fig.send_message(\"supports_binary\", {value: fig.supports_binary});\n",
       "            fig.send_message(\"send_image_mode\", {});\n",
       "            if (mpl.ratio != 1) {\n",
       "                fig.send_message(\"set_dpi_ratio\", {'dpi_ratio': mpl.ratio});\n",
       "            }\n",
       "            fig.send_message(\"refresh\", {});\n",
       "        }\n",
       "\n",
       "    this.imageObj.onload = function() {\n",
       "            if (fig.image_mode == 'full') {\n",
       "                // Full images could contain transparency (where diff images\n",
       "                // almost always do), so we need to clear the canvas so that\n",
       "                // there is no ghosting.\n",
       "                fig.context.clearRect(0, 0, fig.canvas.width, fig.canvas.height);\n",
       "            }\n",
       "            fig.context.drawImage(fig.imageObj, 0, 0);\n",
       "        };\n",
       "\n",
       "    this.imageObj.onunload = function() {\n",
       "        fig.ws.close();\n",
       "    }\n",
       "\n",
       "    this.ws.onmessage = this._make_on_message_function(this);\n",
       "\n",
       "    this.ondownload = ondownload;\n",
       "}\n",
       "\n",
       "mpl.figure.prototype._init_header = function() {\n",
       "    var titlebar = $(\n",
       "        '<div class=\"ui-dialog-titlebar ui-widget-header ui-corner-all ' +\n",
       "        'ui-helper-clearfix\"/>');\n",
       "    var titletext = $(\n",
       "        '<div class=\"ui-dialog-title\" style=\"width: 100%; ' +\n",
       "        'text-align: center; padding: 3px;\"/>');\n",
       "    titlebar.append(titletext)\n",
       "    this.root.append(titlebar);\n",
       "    this.header = titletext[0];\n",
       "}\n",
       "\n",
       "\n",
       "\n",
       "mpl.figure.prototype._canvas_extra_style = function(canvas_div) {\n",
       "\n",
       "}\n",
       "\n",
       "\n",
       "mpl.figure.prototype._root_extra_style = function(canvas_div) {\n",
       "\n",
       "}\n",
       "\n",
       "mpl.figure.prototype._init_canvas = function() {\n",
       "    var fig = this;\n",
       "\n",
       "    var canvas_div = $('<div/>');\n",
       "\n",
       "    canvas_div.attr('style', 'position: relative; clear: both; outline: 0');\n",
       "\n",
       "    function canvas_keyboard_event(event) {\n",
       "        return fig.key_event(event, event['data']);\n",
       "    }\n",
       "\n",
       "    canvas_div.keydown('key_press', canvas_keyboard_event);\n",
       "    canvas_div.keyup('key_release', canvas_keyboard_event);\n",
       "    this.canvas_div = canvas_div\n",
       "    this._canvas_extra_style(canvas_div)\n",
       "    this.root.append(canvas_div);\n",
       "\n",
       "    var canvas = $('<canvas/>');\n",
       "    canvas.addClass('mpl-canvas');\n",
       "    canvas.attr('style', \"left: 0; top: 0; z-index: 0; outline: 0\")\n",
       "\n",
       "    this.canvas = canvas[0];\n",
       "    this.context = canvas[0].getContext(\"2d\");\n",
       "\n",
       "    var backingStore = this.context.backingStorePixelRatio ||\n",
       "\tthis.context.webkitBackingStorePixelRatio ||\n",
       "\tthis.context.mozBackingStorePixelRatio ||\n",
       "\tthis.context.msBackingStorePixelRatio ||\n",
       "\tthis.context.oBackingStorePixelRatio ||\n",
       "\tthis.context.backingStorePixelRatio || 1;\n",
       "\n",
       "    mpl.ratio = (window.devicePixelRatio || 1) / backingStore;\n",
       "\n",
       "    var rubberband = $('<canvas/>');\n",
       "    rubberband.attr('style', \"position: absolute; left: 0; top: 0; z-index: 1;\")\n",
       "\n",
       "    var pass_mouse_events = true;\n",
       "\n",
       "    canvas_div.resizable({\n",
       "        start: function(event, ui) {\n",
       "            pass_mouse_events = false;\n",
       "        },\n",
       "        resize: function(event, ui) {\n",
       "            fig.request_resize(ui.size.width, ui.size.height);\n",
       "        },\n",
       "        stop: function(event, ui) {\n",
       "            pass_mouse_events = true;\n",
       "            fig.request_resize(ui.size.width, ui.size.height);\n",
       "        },\n",
       "    });\n",
       "\n",
       "    function mouse_event_fn(event) {\n",
       "        if (pass_mouse_events)\n",
       "            return fig.mouse_event(event, event['data']);\n",
       "    }\n",
       "\n",
       "    rubberband.mousedown('button_press', mouse_event_fn);\n",
       "    rubberband.mouseup('button_release', mouse_event_fn);\n",
       "    // Throttle sequential mouse events to 1 every 20ms.\n",
       "    rubberband.mousemove('motion_notify', mouse_event_fn);\n",
       "\n",
       "    rubberband.mouseenter('figure_enter', mouse_event_fn);\n",
       "    rubberband.mouseleave('figure_leave', mouse_event_fn);\n",
       "\n",
       "    canvas_div.on(\"wheel\", function (event) {\n",
       "        event = event.originalEvent;\n",
       "        event['data'] = 'scroll'\n",
       "        if (event.deltaY < 0) {\n",
       "            event.step = 1;\n",
       "        } else {\n",
       "            event.step = -1;\n",
       "        }\n",
       "        mouse_event_fn(event);\n",
       "    });\n",
       "\n",
       "    canvas_div.append(canvas);\n",
       "    canvas_div.append(rubberband);\n",
       "\n",
       "    this.rubberband = rubberband;\n",
       "    this.rubberband_canvas = rubberband[0];\n",
       "    this.rubberband_context = rubberband[0].getContext(\"2d\");\n",
       "    this.rubberband_context.strokeStyle = \"#000000\";\n",
       "\n",
       "    this._resize_canvas = function(width, height) {\n",
       "        // Keep the size of the canvas, canvas container, and rubber band\n",
       "        // canvas in synch.\n",
       "        canvas_div.css('width', width)\n",
       "        canvas_div.css('height', height)\n",
       "\n",
       "        canvas.attr('width', width * mpl.ratio);\n",
       "        canvas.attr('height', height * mpl.ratio);\n",
       "        canvas.attr('style', 'width: ' + width + 'px; height: ' + height + 'px;');\n",
       "\n",
       "        rubberband.attr('width', width);\n",
       "        rubberband.attr('height', height);\n",
       "    }\n",
       "\n",
       "    // Set the figure to an initial 600x600px, this will subsequently be updated\n",
       "    // upon first draw.\n",
       "    this._resize_canvas(600, 600);\n",
       "\n",
       "    // Disable right mouse context menu.\n",
       "    $(this.rubberband_canvas).bind(\"contextmenu\",function(e){\n",
       "        return false;\n",
       "    });\n",
       "\n",
       "    function set_focus () {\n",
       "        canvas.focus();\n",
       "        canvas_div.focus();\n",
       "    }\n",
       "\n",
       "    window.setTimeout(set_focus, 100);\n",
       "}\n",
       "\n",
       "mpl.figure.prototype._init_toolbar = function() {\n",
       "    var fig = this;\n",
       "\n",
       "    var nav_element = $('<div/>');\n",
       "    nav_element.attr('style', 'width: 100%');\n",
       "    this.root.append(nav_element);\n",
       "\n",
       "    // Define a callback function for later on.\n",
       "    function toolbar_event(event) {\n",
       "        return fig.toolbar_button_onclick(event['data']);\n",
       "    }\n",
       "    function toolbar_mouse_event(event) {\n",
       "        return fig.toolbar_button_onmouseover(event['data']);\n",
       "    }\n",
       "\n",
       "    for(var toolbar_ind in mpl.toolbar_items) {\n",
       "        var name = mpl.toolbar_items[toolbar_ind][0];\n",
       "        var tooltip = mpl.toolbar_items[toolbar_ind][1];\n",
       "        var image = mpl.toolbar_items[toolbar_ind][2];\n",
       "        var method_name = mpl.toolbar_items[toolbar_ind][3];\n",
       "\n",
       "        if (!name) {\n",
       "            // put a spacer in here.\n",
       "            continue;\n",
       "        }\n",
       "        var button = $('<button/>');\n",
       "        button.addClass('ui-button ui-widget ui-state-default ui-corner-all ' +\n",
       "                        'ui-button-icon-only');\n",
       "        button.attr('role', 'button');\n",
       "        button.attr('aria-disabled', 'false');\n",
       "        button.click(method_name, toolbar_event);\n",
       "        button.mouseover(tooltip, toolbar_mouse_event);\n",
       "\n",
       "        var icon_img = $('<span/>');\n",
       "        icon_img.addClass('ui-button-icon-primary ui-icon');\n",
       "        icon_img.addClass(image);\n",
       "        icon_img.addClass('ui-corner-all');\n",
       "\n",
       "        var tooltip_span = $('<span/>');\n",
       "        tooltip_span.addClass('ui-button-text');\n",
       "        tooltip_span.html(tooltip);\n",
       "\n",
       "        button.append(icon_img);\n",
       "        button.append(tooltip_span);\n",
       "\n",
       "        nav_element.append(button);\n",
       "    }\n",
       "\n",
       "    var fmt_picker_span = $('<span/>');\n",
       "\n",
       "    var fmt_picker = $('<select/>');\n",
       "    fmt_picker.addClass('mpl-toolbar-option ui-widget ui-widget-content');\n",
       "    fmt_picker_span.append(fmt_picker);\n",
       "    nav_element.append(fmt_picker_span);\n",
       "    this.format_dropdown = fmt_picker[0];\n",
       "\n",
       "    for (var ind in mpl.extensions) {\n",
       "        var fmt = mpl.extensions[ind];\n",
       "        var option = $(\n",
       "            '<option/>', {selected: fmt === mpl.default_extension}).html(fmt);\n",
       "        fmt_picker.append(option);\n",
       "    }\n",
       "\n",
       "    // Add hover states to the ui-buttons\n",
       "    $( \".ui-button\" ).hover(\n",
       "        function() { $(this).addClass(\"ui-state-hover\");},\n",
       "        function() { $(this).removeClass(\"ui-state-hover\");}\n",
       "    );\n",
       "\n",
       "    var status_bar = $('<span class=\"mpl-message\"/>');\n",
       "    nav_element.append(status_bar);\n",
       "    this.message = status_bar[0];\n",
       "}\n",
       "\n",
       "mpl.figure.prototype.request_resize = function(x_pixels, y_pixels) {\n",
       "    // Request matplotlib to resize the figure. Matplotlib will then trigger a resize in the client,\n",
       "    // which will in turn request a refresh of the image.\n",
       "    this.send_message('resize', {'width': x_pixels, 'height': y_pixels});\n",
       "}\n",
       "\n",
       "mpl.figure.prototype.send_message = function(type, properties) {\n",
       "    properties['type'] = type;\n",
       "    properties['figure_id'] = this.id;\n",
       "    this.ws.send(JSON.stringify(properties));\n",
       "}\n",
       "\n",
       "mpl.figure.prototype.send_draw_message = function() {\n",
       "    if (!this.waiting) {\n",
       "        this.waiting = true;\n",
       "        this.ws.send(JSON.stringify({type: \"draw\", figure_id: this.id}));\n",
       "    }\n",
       "}\n",
       "\n",
       "\n",
       "mpl.figure.prototype.handle_save = function(fig, msg) {\n",
       "    var format_dropdown = fig.format_dropdown;\n",
       "    var format = format_dropdown.options[format_dropdown.selectedIndex].value;\n",
       "    fig.ondownload(fig, format);\n",
       "}\n",
       "\n",
       "\n",
       "mpl.figure.prototype.handle_resize = function(fig, msg) {\n",
       "    var size = msg['size'];\n",
       "    if (size[0] != fig.canvas.width || size[1] != fig.canvas.height) {\n",
       "        fig._resize_canvas(size[0], size[1]);\n",
       "        fig.send_message(\"refresh\", {});\n",
       "    };\n",
       "}\n",
       "\n",
       "mpl.figure.prototype.handle_rubberband = function(fig, msg) {\n",
       "    var x0 = msg['x0'] / mpl.ratio;\n",
       "    var y0 = (fig.canvas.height - msg['y0']) / mpl.ratio;\n",
       "    var x1 = msg['x1'] / mpl.ratio;\n",
       "    var y1 = (fig.canvas.height - msg['y1']) / mpl.ratio;\n",
       "    x0 = Math.floor(x0) + 0.5;\n",
       "    y0 = Math.floor(y0) + 0.5;\n",
       "    x1 = Math.floor(x1) + 0.5;\n",
       "    y1 = Math.floor(y1) + 0.5;\n",
       "    var min_x = Math.min(x0, x1);\n",
       "    var min_y = Math.min(y0, y1);\n",
       "    var width = Math.abs(x1 - x0);\n",
       "    var height = Math.abs(y1 - y0);\n",
       "\n",
       "    fig.rubberband_context.clearRect(\n",
       "        0, 0, fig.canvas.width / mpl.ratio, fig.canvas.height / mpl.ratio);\n",
       "\n",
       "    fig.rubberband_context.strokeRect(min_x, min_y, width, height);\n",
       "}\n",
       "\n",
       "mpl.figure.prototype.handle_figure_label = function(fig, msg) {\n",
       "    // Updates the figure title.\n",
       "    fig.header.textContent = msg['label'];\n",
       "}\n",
       "\n",
       "mpl.figure.prototype.handle_cursor = function(fig, msg) {\n",
       "    var cursor = msg['cursor'];\n",
       "    switch(cursor)\n",
       "    {\n",
       "    case 0:\n",
       "        cursor = 'pointer';\n",
       "        break;\n",
       "    case 1:\n",
       "        cursor = 'default';\n",
       "        break;\n",
       "    case 2:\n",
       "        cursor = 'crosshair';\n",
       "        break;\n",
       "    case 3:\n",
       "        cursor = 'move';\n",
       "        break;\n",
       "    }\n",
       "    fig.rubberband_canvas.style.cursor = cursor;\n",
       "}\n",
       "\n",
       "mpl.figure.prototype.handle_message = function(fig, msg) {\n",
       "    fig.message.textContent = msg['message'];\n",
       "}\n",
       "\n",
       "mpl.figure.prototype.handle_draw = function(fig, msg) {\n",
       "    // Request the server to send over a new figure.\n",
       "    fig.send_draw_message();\n",
       "}\n",
       "\n",
       "mpl.figure.prototype.handle_image_mode = function(fig, msg) {\n",
       "    fig.image_mode = msg['mode'];\n",
       "}\n",
       "\n",
       "mpl.figure.prototype.updated_canvas_event = function() {\n",
       "    // Called whenever the canvas gets updated.\n",
       "    this.send_message(\"ack\", {});\n",
       "}\n",
       "\n",
       "// A function to construct a web socket function for onmessage handling.\n",
       "// Called in the figure constructor.\n",
       "mpl.figure.prototype._make_on_message_function = function(fig) {\n",
       "    return function socket_on_message(evt) {\n",
       "        if (evt.data instanceof Blob) {\n",
       "            /* FIXME: We get \"Resource interpreted as Image but\n",
       "             * transferred with MIME type text/plain:\" errors on\n",
       "             * Chrome.  But how to set the MIME type?  It doesn't seem\n",
       "             * to be part of the websocket stream */\n",
       "            evt.data.type = \"image/png\";\n",
       "\n",
       "            /* Free the memory for the previous frames */\n",
       "            if (fig.imageObj.src) {\n",
       "                (window.URL || window.webkitURL).revokeObjectURL(\n",
       "                    fig.imageObj.src);\n",
       "            }\n",
       "\n",
       "            fig.imageObj.src = (window.URL || window.webkitURL).createObjectURL(\n",
       "                evt.data);\n",
       "            fig.updated_canvas_event();\n",
       "            fig.waiting = false;\n",
       "            return;\n",
       "        }\n",
       "        else if (typeof evt.data === 'string' && evt.data.slice(0, 21) == \"data:image/png;base64\") {\n",
       "            fig.imageObj.src = evt.data;\n",
       "            fig.updated_canvas_event();\n",
       "            fig.waiting = false;\n",
       "            return;\n",
       "        }\n",
       "\n",
       "        var msg = JSON.parse(evt.data);\n",
       "        var msg_type = msg['type'];\n",
       "\n",
       "        // Call the  \"handle_{type}\" callback, which takes\n",
       "        // the figure and JSON message as its only arguments.\n",
       "        try {\n",
       "            var callback = fig[\"handle_\" + msg_type];\n",
       "        } catch (e) {\n",
       "            console.log(\"No handler for the '\" + msg_type + \"' message type: \", msg);\n",
       "            return;\n",
       "        }\n",
       "\n",
       "        if (callback) {\n",
       "            try {\n",
       "                // console.log(\"Handling '\" + msg_type + \"' message: \", msg);\n",
       "                callback(fig, msg);\n",
       "            } catch (e) {\n",
       "                console.log(\"Exception inside the 'handler_\" + msg_type + \"' callback:\", e, e.stack, msg);\n",
       "            }\n",
       "        }\n",
       "    };\n",
       "}\n",
       "\n",
       "// from http://stackoverflow.com/questions/1114465/getting-mouse-location-in-canvas\n",
       "mpl.findpos = function(e) {\n",
       "    //this section is from http://www.quirksmode.org/js/events_properties.html\n",
       "    var targ;\n",
       "    if (!e)\n",
       "        e = window.event;\n",
       "    if (e.target)\n",
       "        targ = e.target;\n",
       "    else if (e.srcElement)\n",
       "        targ = e.srcElement;\n",
       "    if (targ.nodeType == 3) // defeat Safari bug\n",
       "        targ = targ.parentNode;\n",
       "\n",
       "    // jQuery normalizes the pageX and pageY\n",
       "    // pageX,Y are the mouse positions relative to the document\n",
       "    // offset() returns the position of the element relative to the document\n",
       "    var x = e.pageX - $(targ).offset().left;\n",
       "    var y = e.pageY - $(targ).offset().top;\n",
       "\n",
       "    return {\"x\": x, \"y\": y};\n",
       "};\n",
       "\n",
       "/*\n",
       " * return a copy of an object with only non-object keys\n",
       " * we need this to avoid circular references\n",
       " * http://stackoverflow.com/a/24161582/3208463\n",
       " */\n",
       "function simpleKeys (original) {\n",
       "  return Object.keys(original).reduce(function (obj, key) {\n",
       "    if (typeof original[key] !== 'object')\n",
       "        obj[key] = original[key]\n",
       "    return obj;\n",
       "  }, {});\n",
       "}\n",
       "\n",
       "mpl.figure.prototype.mouse_event = function(event, name) {\n",
       "    var canvas_pos = mpl.findpos(event)\n",
       "\n",
       "    if (name === 'button_press')\n",
       "    {\n",
       "        this.canvas.focus();\n",
       "        this.canvas_div.focus();\n",
       "    }\n",
       "\n",
       "    var x = canvas_pos.x * mpl.ratio;\n",
       "    var y = canvas_pos.y * mpl.ratio;\n",
       "\n",
       "    this.send_message(name, {x: x, y: y, button: event.button,\n",
       "                             step: event.step,\n",
       "                             guiEvent: simpleKeys(event)});\n",
       "\n",
       "    /* This prevents the web browser from automatically changing to\n",
       "     * the text insertion cursor when the button is pressed.  We want\n",
       "     * to control all of the cursor setting manually through the\n",
       "     * 'cursor' event from matplotlib */\n",
       "    event.preventDefault();\n",
       "    return false;\n",
       "}\n",
       "\n",
       "mpl.figure.prototype._key_event_extra = function(event, name) {\n",
       "    // Handle any extra behaviour associated with a key event\n",
       "}\n",
       "\n",
       "mpl.figure.prototype.key_event = function(event, name) {\n",
       "\n",
       "    // Prevent repeat events\n",
       "    if (name == 'key_press')\n",
       "    {\n",
       "        if (event.which === this._key)\n",
       "            return;\n",
       "        else\n",
       "            this._key = event.which;\n",
       "    }\n",
       "    if (name == 'key_release')\n",
       "        this._key = null;\n",
       "\n",
       "    var value = '';\n",
       "    if (event.ctrlKey && event.which != 17)\n",
       "        value += \"ctrl+\";\n",
       "    if (event.altKey && event.which != 18)\n",
       "        value += \"alt+\";\n",
       "    if (event.shiftKey && event.which != 16)\n",
       "        value += \"shift+\";\n",
       "\n",
       "    value += 'k';\n",
       "    value += event.which.toString();\n",
       "\n",
       "    this._key_event_extra(event, name);\n",
       "\n",
       "    this.send_message(name, {key: value,\n",
       "                             guiEvent: simpleKeys(event)});\n",
       "    return false;\n",
       "}\n",
       "\n",
       "mpl.figure.prototype.toolbar_button_onclick = function(name) {\n",
       "    if (name == 'download') {\n",
       "        this.handle_save(this, null);\n",
       "    } else {\n",
       "        this.send_message(\"toolbar_button\", {name: name});\n",
       "    }\n",
       "};\n",
       "\n",
       "mpl.figure.prototype.toolbar_button_onmouseover = function(tooltip) {\n",
       "    this.message.textContent = tooltip;\n",
       "};\n",
       "mpl.toolbar_items = [[\"Home\", \"Reset original view\", \"fa fa-home icon-home\", \"home\"], [\"Back\", \"Back to previous view\", \"fa fa-arrow-left icon-arrow-left\", \"back\"], [\"Forward\", \"Forward to next view\", \"fa fa-arrow-right icon-arrow-right\", \"forward\"], [\"\", \"\", \"\", \"\"], [\"Pan\", \"Pan axes with left mouse, zoom with right\", \"fa fa-arrows icon-move\", \"pan\"], [\"Zoom\", \"Zoom to rectangle\", \"fa fa-square-o icon-check-empty\", \"zoom\"], [\"\", \"\", \"\", \"\"], [\"Download\", \"Download plot\", \"fa fa-floppy-o icon-save\", \"download\"]];\n",
       "\n",
       "mpl.extensions = [\"eps\", \"jpeg\", \"pdf\", \"png\", \"ps\", \"raw\", \"svg\", \"tif\"];\n",
       "\n",
       "mpl.default_extension = \"png\";var comm_websocket_adapter = function(comm) {\n",
       "    // Create a \"websocket\"-like object which calls the given IPython comm\n",
       "    // object with the appropriate methods. Currently this is a non binary\n",
       "    // socket, so there is still some room for performance tuning.\n",
       "    var ws = {};\n",
       "\n",
       "    ws.close = function() {\n",
       "        comm.close()\n",
       "    };\n",
       "    ws.send = function(m) {\n",
       "        //console.log('sending', m);\n",
       "        comm.send(m);\n",
       "    };\n",
       "    // Register the callback with on_msg.\n",
       "    comm.on_msg(function(msg) {\n",
       "        //console.log('receiving', msg['content']['data'], msg);\n",
       "        // Pass the mpl event to the overridden (by mpl) onmessage function.\n",
       "        ws.onmessage(msg['content']['data'])\n",
       "    });\n",
       "    return ws;\n",
       "}\n",
       "\n",
       "mpl.mpl_figure_comm = function(comm, msg) {\n",
       "    // This is the function which gets called when the mpl process\n",
       "    // starts-up an IPython Comm through the \"matplotlib\" channel.\n",
       "\n",
       "    var id = msg.content.data.id;\n",
       "    // Get hold of the div created by the display call when the Comm\n",
       "    // socket was opened in Python.\n",
       "    var element = $(\"#\" + id);\n",
       "    var ws_proxy = comm_websocket_adapter(comm)\n",
       "\n",
       "    function ondownload(figure, format) {\n",
       "        window.open(figure.imageObj.src);\n",
       "    }\n",
       "\n",
       "    var fig = new mpl.figure(id, ws_proxy,\n",
       "                           ondownload,\n",
       "                           element.get(0));\n",
       "\n",
       "    // Call onopen now - mpl needs it, as it is assuming we've passed it a real\n",
       "    // web socket which is closed, not our websocket->open comm proxy.\n",
       "    ws_proxy.onopen();\n",
       "\n",
       "    fig.parent_element = element.get(0);\n",
       "    fig.cell_info = mpl.find_output_cell(\"<div id='\" + id + \"'></div>\");\n",
       "    if (!fig.cell_info) {\n",
       "        console.error(\"Failed to find cell for figure\", id, fig);\n",
       "        return;\n",
       "    }\n",
       "\n",
       "    var output_index = fig.cell_info[2]\n",
       "    var cell = fig.cell_info[0];\n",
       "\n",
       "};\n",
       "\n",
       "mpl.figure.prototype.handle_close = function(fig, msg) {\n",
       "    var width = fig.canvas.width/mpl.ratio\n",
       "    fig.root.unbind('remove')\n",
       "\n",
       "    // Update the output cell to use the data from the current canvas.\n",
       "    fig.push_to_output();\n",
       "    var dataURL = fig.canvas.toDataURL();\n",
       "    // Re-enable the keyboard manager in IPython - without this line, in FF,\n",
       "    // the notebook keyboard shortcuts fail.\n",
       "    IPython.keyboard_manager.enable()\n",
       "    $(fig.parent_element).html('<img src=\"' + dataURL + '\" width=\"' + width + '\">');\n",
       "    fig.close_ws(fig, msg);\n",
       "}\n",
       "\n",
       "mpl.figure.prototype.close_ws = function(fig, msg){\n",
       "    fig.send_message('closing', msg);\n",
       "    // fig.ws.close()\n",
       "}\n",
       "\n",
       "mpl.figure.prototype.push_to_output = function(remove_interactive) {\n",
       "    // Turn the data on the canvas into data in the output cell.\n",
       "    var width = this.canvas.width/mpl.ratio\n",
       "    var dataURL = this.canvas.toDataURL();\n",
       "    this.cell_info[1]['text/html'] = '<img src=\"' + dataURL + '\" width=\"' + width + '\">';\n",
       "}\n",
       "\n",
       "mpl.figure.prototype.updated_canvas_event = function() {\n",
       "    // Tell IPython that the notebook contents must change.\n",
       "    IPython.notebook.set_dirty(true);\n",
       "    this.send_message(\"ack\", {});\n",
       "    var fig = this;\n",
       "    // Wait a second, then push the new image to the DOM so\n",
       "    // that it is saved nicely (might be nice to debounce this).\n",
       "    setTimeout(function () { fig.push_to_output() }, 1000);\n",
       "}\n",
       "\n",
       "mpl.figure.prototype._init_toolbar = function() {\n",
       "    var fig = this;\n",
       "\n",
       "    var nav_element = $('<div/>');\n",
       "    nav_element.attr('style', 'width: 100%');\n",
       "    this.root.append(nav_element);\n",
       "\n",
       "    // Define a callback function for later on.\n",
       "    function toolbar_event(event) {\n",
       "        return fig.toolbar_button_onclick(event['data']);\n",
       "    }\n",
       "    function toolbar_mouse_event(event) {\n",
       "        return fig.toolbar_button_onmouseover(event['data']);\n",
       "    }\n",
       "\n",
       "    for(var toolbar_ind in mpl.toolbar_items){\n",
       "        var name = mpl.toolbar_items[toolbar_ind][0];\n",
       "        var tooltip = mpl.toolbar_items[toolbar_ind][1];\n",
       "        var image = mpl.toolbar_items[toolbar_ind][2];\n",
       "        var method_name = mpl.toolbar_items[toolbar_ind][3];\n",
       "\n",
       "        if (!name) { continue; };\n",
       "\n",
       "        var button = $('<button class=\"btn btn-default\" href=\"#\" title=\"' + name + '\"><i class=\"fa ' + image + ' fa-lg\"></i></button>');\n",
       "        button.click(method_name, toolbar_event);\n",
       "        button.mouseover(tooltip, toolbar_mouse_event);\n",
       "        nav_element.append(button);\n",
       "    }\n",
       "\n",
       "    // Add the status bar.\n",
       "    var status_bar = $('<span class=\"mpl-message\" style=\"text-align:right; float: right;\"/>');\n",
       "    nav_element.append(status_bar);\n",
       "    this.message = status_bar[0];\n",
       "\n",
       "    // Add the close button to the window.\n",
       "    var buttongrp = $('<div class=\"btn-group inline pull-right\"></div>');\n",
       "    var button = $('<button class=\"btn btn-mini btn-primary\" href=\"#\" title=\"Stop Interaction\"><i class=\"fa fa-power-off icon-remove icon-large\"></i></button>');\n",
       "    button.click(function (evt) { fig.handle_close(fig, {}); } );\n",
       "    button.mouseover('Stop Interaction', toolbar_mouse_event);\n",
       "    buttongrp.append(button);\n",
       "    var titlebar = this.root.find($('.ui-dialog-titlebar'));\n",
       "    titlebar.prepend(buttongrp);\n",
       "}\n",
       "\n",
       "mpl.figure.prototype._root_extra_style = function(el){\n",
       "    var fig = this\n",
       "    el.on(\"remove\", function(){\n",
       "\tfig.close_ws(fig, {});\n",
       "    });\n",
       "}\n",
       "\n",
       "mpl.figure.prototype._canvas_extra_style = function(el){\n",
       "    // this is important to make the div 'focusable\n",
       "    el.attr('tabindex', 0)\n",
       "    // reach out to IPython and tell the keyboard manager to turn it's self\n",
       "    // off when our div gets focus\n",
       "\n",
       "    // location in version 3\n",
       "    if (IPython.notebook.keyboard_manager) {\n",
       "        IPython.notebook.keyboard_manager.register_events(el);\n",
       "    }\n",
       "    else {\n",
       "        // location in version 2\n",
       "        IPython.keyboard_manager.register_events(el);\n",
       "    }\n",
       "\n",
       "}\n",
       "\n",
       "mpl.figure.prototype._key_event_extra = function(event, name) {\n",
       "    var manager = IPython.notebook.keyboard_manager;\n",
       "    if (!manager)\n",
       "        manager = IPython.keyboard_manager;\n",
       "\n",
       "    // Check for shift+enter\n",
       "    if (event.shiftKey && event.which == 13) {\n",
       "        this.canvas_div.blur();\n",
       "        // select the cell after this one\n",
       "        var index = IPython.notebook.find_cell_index(this.cell_info[0]);\n",
       "        IPython.notebook.select(index + 1);\n",
       "    }\n",
       "}\n",
       "\n",
       "mpl.figure.prototype.handle_save = function(fig, msg) {\n",
       "    fig.ondownload(fig, null);\n",
       "}\n",
       "\n",
       "\n",
       "mpl.find_output_cell = function(html_output) {\n",
       "    // Return the cell and output element which can be found *uniquely* in the notebook.\n",
       "    // Note - this is a bit hacky, but it is done because the \"notebook_saving.Notebook\"\n",
       "    // IPython event is triggered only after the cells have been serialised, which for\n",
       "    // our purposes (turning an active figure into a static one), is too late.\n",
       "    var cells = IPython.notebook.get_cells();\n",
       "    var ncells = cells.length;\n",
       "    for (var i=0; i<ncells; i++) {\n",
       "        var cell = cells[i];\n",
       "        if (cell.cell_type === 'code'){\n",
       "            for (var j=0; j<cell.output_area.outputs.length; j++) {\n",
       "                var data = cell.output_area.outputs[j];\n",
       "                if (data.data) {\n",
       "                    // IPython >= 3 moved mimebundle to data attribute of output\n",
       "                    data = data.data;\n",
       "                }\n",
       "                if (data['text/html'] == html_output) {\n",
       "                    return [cell, data, j];\n",
       "                }\n",
       "            }\n",
       "        }\n",
       "    }\n",
       "}\n",
       "\n",
       "// Register the function which deals with the matplotlib target/channel.\n",
       "// The kernel may be null if the page has been refreshed.\n",
       "if (IPython.notebook.kernel != null) {\n",
       "    IPython.notebook.kernel.comm_manager.register_target('matplotlib', mpl.mpl_figure_comm);\n",
       "}\n"
      ],
      "text/plain": [
       "<IPython.core.display.Javascript object>"
      ]
     },
     "metadata": {},
     "output_type": "display_data"
    },
    {
     "data": {
      "text/html": [
       "<img src=\"data:image/png;base64,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\" width=\"789.9999828772116\">"
      ],
      "text/plain": [
       "<IPython.core.display.HTML object>"
      ]
     },
     "metadata": {},
     "output_type": "display_data"
    }
   ],
   "source": [
    "plt.figure()\n",
    "plt.errorbar(\n",
    "    mus_to_test, \n",
    "    [psnr_gains[0] for psnr_gains in metrics], \n",
    "    [psnr_gains[1] for psnr_gains in metrics], \n",
    "    linestyle='None', \n",
    "    marker='o',\n",
    ")\n",
    "plt.axhline(0, color='C3')\n",
    "plt.xscale('log')"
   ]
  },
  {
   "cell_type": "code",
   "execution_count": 14,
   "metadata": {},
   "outputs": [],
   "source": [
    "mus_to_test = np.logspace(-8, -5, 7)"
   ]
  },
  {
   "cell_type": "code",
   "execution_count": null,
   "metadata": {
    "scrolled": true
   },
   "outputs": [
    {
     "data": {
      "application/vnd.jupyter.widget-view+json": {
       "model_id": "a41d770997f44a669255453c14e78995",
       "version_major": 2,
       "version_minor": 0
      },
      "text/plain": [
       "HBox(children=(FloatProgress(value=0.0, description='mus', max=7.0, style=ProgressStyle(description_width='ini…"
      ]
     },
     "metadata": {},
     "output_type": "display_data"
    },
    {
     "data": {
      "application/vnd.jupyter.widget-view+json": {
       "model_id": "94e5205b766540498b70ddbf803f2efc",
       "version_major": 2,
       "version_minor": 0
      },
      "text/plain": [
       "HBox(children=(FloatProgress(value=0.0, description='K-spaces', max=24.0, style=ProgressStyle(description_widt…"
      ]
     },
     "metadata": {},
     "output_type": "display_data"
    },
    {
     "name": "stderr",
     "output_type": "stream",
     "text": [
      "/volatile/home/Zaccharie/workspace/pysap-mri/mri/operators/fourier/utils.py:78: FutureWarning: Using a non-tuple sequence for multidimensional indexing is deprecated; use `arr[tuple(seq)]` instead of `arr[seq]`. In the future this will be interpreted as an array index, `arr[np.array(seq)]`, which will result either in an error or a different result.\n",
      "  mask[test] = 1\n",
      "\u001b[33mWARNING\u001b[0m: Making input data immutable.\n",
      "\u001b[33mWARNING\u001b[0m: Making input data immutable.\n",
      "/volatile/home/Zaccharie/workspace/fastmri-reproducible-benchmark/fastmri_recon/helpers/evaluate.py:24: UserWarning: DEPRECATED: skimage.measure.compare_psnr has been moved to skimage.metrics.peak_signal_noise_ratio. It will be removed from skimage.measure in version 0.18.\n",
      "  return compare_psnr(gt, pred, data_range=gt.max() - gt.min())\n",
      "\u001b[33mWARNING\u001b[0m: Making input data immutable.\n",
      "\u001b[33mWARNING\u001b[0m: Making input data immutable.\n",
      "\u001b[33mWARNING\u001b[0m: Making input data immutable.\n",
      "\u001b[33mWARNING\u001b[0m: Making input data immutable.\n",
      "\u001b[33mWARNING\u001b[0m: Making input data immutable.\n",
      "\u001b[33mWARNING\u001b[0m: Making input data immutable.\n",
      "\u001b[33mWARNING\u001b[0m: Making input data immutable.\n",
      "\u001b[33mWARNING\u001b[0m: Making input data immutable.\n",
      "\u001b[33mWARNING\u001b[0m: Making input data immutable.\n",
      "\u001b[33mWARNING\u001b[0m: Making input data immutable.\n",
      "\u001b[33mWARNING\u001b[0m: Making input data immutable.\n",
      "\u001b[33mWARNING\u001b[0m: Making input data immutable.\n",
      "\u001b[33mWARNING\u001b[0m: Making input data immutable.\n",
      "\u001b[33mWARNING\u001b[0m: Making input data immutable.\n",
      "\u001b[33mWARNING\u001b[0m: Making input data immutable.\n",
      "\u001b[33mWARNING\u001b[0m: Making input data immutable.\n",
      "\u001b[33mWARNING\u001b[0m: Making input data immutable.\n",
      "\u001b[33mWARNING\u001b[0m: Making input data immutable.\n",
      "\u001b[33mWARNING\u001b[0m: Making input data immutable.\n",
      "\u001b[33mWARNING\u001b[0m: Making input data immutable.\n",
      "\u001b[33mWARNING\u001b[0m: Making input data immutable.\n",
      "\u001b[33mWARNING\u001b[0m: Making input data immutable.\n",
      "\u001b[33mWARNING\u001b[0m: Making input data immutable.\n",
      "\u001b[33mWARNING\u001b[0m: Making input data immutable.\n",
      "\u001b[33mWARNING\u001b[0m: Making input data immutable.\n",
      "\u001b[33mWARNING\u001b[0m: Making input data immutable.\n",
      "\u001b[33mWARNING\u001b[0m: Making input data immutable.\n",
      "\u001b[33mWARNING\u001b[0m: Making input data immutable.\n",
      "\u001b[33mWARNING\u001b[0m: Making input data immutable.\n",
      "\u001b[33mWARNING\u001b[0m: Making input data immutable.\n",
      "\u001b[33mWARNING\u001b[0m: Making input data immutable.\n",
      "\u001b[33mWARNING\u001b[0m: Making input data immutable.\n",
      "\u001b[33mWARNING\u001b[0m: Making input data immutable.\n",
      "\u001b[33mWARNING\u001b[0m: Making input data immutable.\n",
      "\u001b[33mWARNING\u001b[0m: Making input data immutable.\n",
      "\u001b[33mWARNING\u001b[0m: Making input data immutable.\n",
      "\u001b[33mWARNING\u001b[0m: Making input data immutable.\n",
      "\u001b[33mWARNING\u001b[0m: Making input data immutable.\n",
      "\u001b[33mWARNING\u001b[0m: Making input data immutable.\n",
      "\u001b[33mWARNING\u001b[0m: Making input data immutable.\n",
      "\u001b[33mWARNING\u001b[0m: Making input data immutable.\n",
      "\u001b[33mWARNING\u001b[0m: Making input data immutable.\n",
      "\u001b[33mWARNING\u001b[0m: Making input data immutable.\n",
      "\u001b[33mWARNING\u001b[0m: Making input data immutable.\n",
      "\u001b[33mWARNING\u001b[0m: Making input data immutable.\n",
      "\u001b[33mWARNING\u001b[0m: Making input data immutable.\n"
     ]
    },
    {
     "name": "stdout",
     "output_type": "stream",
     "text": [
      "\n"
     ]
    },
    {
     "data": {
      "application/vnd.jupyter.widget-view+json": {
       "model_id": "a7069d072bfd48ba95a65cbd0184dcd9",
       "version_major": 2,
       "version_minor": 0
      },
      "text/plain": [
       "HBox(children=(FloatProgress(value=0.0, description='K-spaces', max=24.0, style=ProgressStyle(description_widt…"
      ]
     },
     "metadata": {},
     "output_type": "display_data"
    },
    {
     "name": "stderr",
     "output_type": "stream",
     "text": [
      "\u001b[33mWARNING\u001b[0m: Making input data immutable.\n",
      "\u001b[33mWARNING\u001b[0m: Making input data immutable.\n",
      "\u001b[33mWARNING\u001b[0m: Making input data immutable.\n",
      "\u001b[33mWARNING\u001b[0m: Making input data immutable.\n",
      "\u001b[33mWARNING\u001b[0m: Making input data immutable.\n",
      "\u001b[33mWARNING\u001b[0m: Making input data immutable.\n",
      "\u001b[33mWARNING\u001b[0m: Making input data immutable.\n",
      "\u001b[33mWARNING\u001b[0m: Making input data immutable.\n",
      "\u001b[33mWARNING\u001b[0m: Making input data immutable.\n",
      "\u001b[33mWARNING\u001b[0m: Making input data immutable.\n",
      "\u001b[33mWARNING\u001b[0m: Making input data immutable.\n",
      "\u001b[33mWARNING\u001b[0m: Making input data immutable.\n",
      "\u001b[33mWARNING\u001b[0m: Making input data immutable.\n",
      "\u001b[33mWARNING\u001b[0m: Making input data immutable.\n",
      "\u001b[33mWARNING\u001b[0m: Making input data immutable.\n",
      "\u001b[33mWARNING\u001b[0m: Making input data immutable.\n",
      "\u001b[33mWARNING\u001b[0m: Making input data immutable.\n",
      "\u001b[33mWARNING\u001b[0m: Making input data immutable.\n",
      "\u001b[33mWARNING\u001b[0m: Making input data immutable.\n",
      "\u001b[33mWARNING\u001b[0m: Making input data immutable.\n",
      "\u001b[33mWARNING\u001b[0m: Making input data immutable.\n",
      "\u001b[33mWARNING\u001b[0m: Making input data immutable.\n",
      "\u001b[33mWARNING\u001b[0m: Making input data immutable.\n",
      "\u001b[33mWARNING\u001b[0m: Making input data immutable.\n",
      "\u001b[33mWARNING\u001b[0m: Making input data immutable.\n",
      "\u001b[33mWARNING\u001b[0m: Making input data immutable.\n",
      "\u001b[33mWARNING\u001b[0m: Making input data immutable.\n",
      "\u001b[33mWARNING\u001b[0m: Making input data immutable.\n",
      "\u001b[33mWARNING\u001b[0m: Making input data immutable.\n",
      "\u001b[33mWARNING\u001b[0m: Making input data immutable.\n",
      "\u001b[33mWARNING\u001b[0m: Making input data immutable.\n",
      "\u001b[33mWARNING\u001b[0m: Making input data immutable.\n",
      "\u001b[33mWARNING\u001b[0m: Making input data immutable.\n",
      "\u001b[33mWARNING\u001b[0m: Making input data immutable.\n",
      "\u001b[33mWARNING\u001b[0m: Making input data immutable.\n",
      "\u001b[33mWARNING\u001b[0m: Making input data immutable.\n",
      "\u001b[33mWARNING\u001b[0m: Making input data immutable.\n",
      "\u001b[33mWARNING\u001b[0m: Making input data immutable.\n",
      "\u001b[33mWARNING\u001b[0m: Making input data immutable.\n",
      "\u001b[33mWARNING\u001b[0m: Making input data immutable.\n",
      "\u001b[33mWARNING\u001b[0m: Making input data immutable.\n",
      "\u001b[33mWARNING\u001b[0m: Making input data immutable.\n",
      "\u001b[33mWARNING\u001b[0m: Making input data immutable.\n",
      "\u001b[33mWARNING\u001b[0m: Making input data immutable.\n",
      "\u001b[33mWARNING\u001b[0m: Making input data immutable.\n",
      "\u001b[33mWARNING\u001b[0m: Making input data immutable.\n",
      "\u001b[33mWARNING\u001b[0m: Making input data immutable.\n",
      "\u001b[33mWARNING\u001b[0m: Making input data immutable.\n"
     ]
    },
    {
     "name": "stdout",
     "output_type": "stream",
     "text": [
      "\n"
     ]
    },
    {
     "data": {
      "application/vnd.jupyter.widget-view+json": {
       "model_id": "1175882b33c1400599bdf05958b7d0a5",
       "version_major": 2,
       "version_minor": 0
      },
      "text/plain": [
       "HBox(children=(FloatProgress(value=0.0, description='K-spaces', max=24.0, style=ProgressStyle(description_widt…"
      ]
     },
     "metadata": {},
     "output_type": "display_data"
    },
    {
     "name": "stderr",
     "output_type": "stream",
     "text": [
      "\u001b[33mWARNING\u001b[0m: Making input data immutable.\n",
      "\u001b[33mWARNING\u001b[0m: Making input data immutable.\n",
      "\u001b[33mWARNING\u001b[0m: Making input data immutable.\n",
      "\u001b[33mWARNING\u001b[0m: Making input data immutable.\n",
      "\u001b[33mWARNING\u001b[0m: Making input data immutable.\n",
      "\u001b[33mWARNING\u001b[0m: Making input data immutable.\n",
      "\u001b[33mWARNING\u001b[0m: Making input data immutable.\n",
      "\u001b[33mWARNING\u001b[0m: Making input data immutable.\n",
      "\u001b[33mWARNING\u001b[0m: Making input data immutable.\n",
      "\u001b[33mWARNING\u001b[0m: Making input data immutable.\n",
      "\u001b[33mWARNING\u001b[0m: Making input data immutable.\n",
      "\u001b[33mWARNING\u001b[0m: Making input data immutable.\n",
      "\u001b[33mWARNING\u001b[0m: Making input data immutable.\n",
      "\u001b[33mWARNING\u001b[0m: Making input data immutable.\n",
      "\u001b[33mWARNING\u001b[0m: Making input data immutable.\n",
      "\u001b[33mWARNING\u001b[0m: Making input data immutable.\n",
      "\u001b[33mWARNING\u001b[0m: Making input data immutable.\n",
      "\u001b[33mWARNING\u001b[0m: Making input data immutable.\n",
      "\u001b[33mWARNING\u001b[0m: Making input data immutable.\n",
      "\u001b[33mWARNING\u001b[0m: Making input data immutable.\n",
      "\u001b[33mWARNING\u001b[0m: Making input data immutable.\n",
      "\u001b[33mWARNING\u001b[0m: Making input data immutable.\n",
      "\u001b[33mWARNING\u001b[0m: Making input data immutable.\n",
      "\u001b[33mWARNING\u001b[0m: Making input data immutable.\n",
      "\u001b[33mWARNING\u001b[0m: Making input data immutable.\n",
      "\u001b[33mWARNING\u001b[0m: Making input data immutable.\n",
      "\u001b[33mWARNING\u001b[0m: Making input data immutable.\n",
      "\u001b[33mWARNING\u001b[0m: Making input data immutable.\n",
      "\u001b[33mWARNING\u001b[0m: Making input data immutable.\n",
      "\u001b[33mWARNING\u001b[0m: Making input data immutable.\n",
      "\u001b[33mWARNING\u001b[0m: Making input data immutable.\n",
      "\u001b[33mWARNING\u001b[0m: Making input data immutable.\n",
      "\u001b[33mWARNING\u001b[0m: Making input data immutable.\n",
      "\u001b[33mWARNING\u001b[0m: Making input data immutable.\n",
      "\u001b[33mWARNING\u001b[0m: Making input data immutable.\n",
      "\u001b[33mWARNING\u001b[0m: Making input data immutable.\n",
      "\u001b[33mWARNING\u001b[0m: Making input data immutable.\n",
      "\u001b[33mWARNING\u001b[0m: Making input data immutable.\n",
      "\u001b[33mWARNING\u001b[0m: Making input data immutable.\n",
      "\u001b[33mWARNING\u001b[0m: Making input data immutable.\n",
      "\u001b[33mWARNING\u001b[0m: Making input data immutable.\n",
      "\u001b[33mWARNING\u001b[0m: Making input data immutable.\n",
      "\u001b[33mWARNING\u001b[0m: Making input data immutable.\n",
      "\u001b[33mWARNING\u001b[0m: Making input data immutable.\n",
      "\u001b[33mWARNING\u001b[0m: Making input data immutable.\n",
      "\u001b[33mWARNING\u001b[0m: Making input data immutable.\n",
      "\u001b[33mWARNING\u001b[0m: Making input data immutable.\n",
      "\u001b[33mWARNING\u001b[0m: Making input data immutable.\n"
     ]
    },
    {
     "name": "stdout",
     "output_type": "stream",
     "text": [
      "\n"
     ]
    },
    {
     "data": {
      "application/vnd.jupyter.widget-view+json": {
       "model_id": "e4a443ab898b42ddb6bf04f4b97bf39c",
       "version_major": 2,
       "version_minor": 0
      },
      "text/plain": [
       "HBox(children=(FloatProgress(value=0.0, description='K-spaces', max=24.0, style=ProgressStyle(description_widt…"
      ]
     },
     "metadata": {},
     "output_type": "display_data"
    },
    {
     "name": "stderr",
     "output_type": "stream",
     "text": [
      "\u001b[33mWARNING\u001b[0m: Making input data immutable.\n",
      "\u001b[33mWARNING\u001b[0m: Making input data immutable.\n",
      "\u001b[33mWARNING\u001b[0m: Making input data immutable.\n",
      "\u001b[33mWARNING\u001b[0m: Making input data immutable.\n",
      "\u001b[33mWARNING\u001b[0m: Making input data immutable.\n",
      "\u001b[33mWARNING\u001b[0m: Making input data immutable.\n",
      "\u001b[33mWARNING\u001b[0m: Making input data immutable.\n",
      "\u001b[33mWARNING\u001b[0m: Making input data immutable.\n",
      "\u001b[33mWARNING\u001b[0m: Making input data immutable.\n",
      "\u001b[33mWARNING\u001b[0m: Making input data immutable.\n",
      "\u001b[33mWARNING\u001b[0m: Making input data immutable.\n",
      "\u001b[33mWARNING\u001b[0m: Making input data immutable.\n",
      "\u001b[33mWARNING\u001b[0m: Making input data immutable.\n",
      "\u001b[33mWARNING\u001b[0m: Making input data immutable.\n",
      "\u001b[33mWARNING\u001b[0m: Making input data immutable.\n",
      "\u001b[33mWARNING\u001b[0m: Making input data immutable.\n",
      "\u001b[33mWARNING\u001b[0m: Making input data immutable.\n",
      "\u001b[33mWARNING\u001b[0m: Making input data immutable.\n",
      "\u001b[33mWARNING\u001b[0m: Making input data immutable.\n",
      "\u001b[33mWARNING\u001b[0m: Making input data immutable.\n",
      "\u001b[33mWARNING\u001b[0m: Making input data immutable.\n",
      "\u001b[33mWARNING\u001b[0m: Making input data immutable.\n",
      "\u001b[33mWARNING\u001b[0m: Making input data immutable.\n",
      "\u001b[33mWARNING\u001b[0m: Making input data immutable.\n",
      "\u001b[33mWARNING\u001b[0m: Making input data immutable.\n",
      "\u001b[33mWARNING\u001b[0m: Making input data immutable.\n",
      "\u001b[33mWARNING\u001b[0m: Making input data immutable.\n",
      "\u001b[33mWARNING\u001b[0m: Making input data immutable.\n",
      "\u001b[33mWARNING\u001b[0m: Making input data immutable.\n",
      "\u001b[33mWARNING\u001b[0m: Making input data immutable.\n",
      "\u001b[33mWARNING\u001b[0m: Making input data immutable.\n",
      "\u001b[33mWARNING\u001b[0m: Making input data immutable.\n",
      "\u001b[33mWARNING\u001b[0m: Making input data immutable.\n",
      "\u001b[33mWARNING\u001b[0m: Making input data immutable.\n",
      "\u001b[33mWARNING\u001b[0m: Making input data immutable.\n"
     ]
    }
   ],
   "source": [
    "%%time\n",
    "metrics = []\n",
    "for mu in tqdm(mus_to_test, desc='mus'):\n",
    "    psnr_gains = psnr_gain(sub_prop=0.05, mu=mu)\n",
    "    metrics.append(psnr_gains)"
   ]
  },
  {
   "cell_type": "code",
   "execution_count": 20,
   "metadata": {},
   "outputs": [
    {
     "data": {
      "application/javascript": [
       "/* Put everything inside the global mpl namespace */\n",
       "window.mpl = {};\n",
       "\n",
       "\n",
       "mpl.get_websocket_type = function() {\n",
       "    if (typeof(WebSocket) !== 'undefined') {\n",
       "        return WebSocket;\n",
       "    } else if (typeof(MozWebSocket) !== 'undefined') {\n",
       "        return MozWebSocket;\n",
       "    } else {\n",
       "        alert('Your browser does not have WebSocket support. ' +\n",
       "              'Please try Chrome, Safari or Firefox ≥ 6. ' +\n",
       "              'Firefox 4 and 5 are also supported but you ' +\n",
       "              'have to enable WebSockets in about:config.');\n",
       "    };\n",
       "}\n",
       "\n",
       "mpl.figure = function(figure_id, websocket, ondownload, parent_element) {\n",
       "    this.id = figure_id;\n",
       "\n",
       "    this.ws = websocket;\n",
       "\n",
       "    this.supports_binary = (this.ws.binaryType != undefined);\n",
       "\n",
       "    if (!this.supports_binary) {\n",
       "        var warnings = document.getElementById(\"mpl-warnings\");\n",
       "        if (warnings) {\n",
       "            warnings.style.display = 'block';\n",
       "            warnings.textContent = (\n",
       "                \"This browser does not support binary websocket messages. \" +\n",
       "                    \"Performance may be slow.\");\n",
       "        }\n",
       "    }\n",
       "\n",
       "    this.imageObj = new Image();\n",
       "\n",
       "    this.context = undefined;\n",
       "    this.message = undefined;\n",
       "    this.canvas = undefined;\n",
       "    this.rubberband_canvas = undefined;\n",
       "    this.rubberband_context = undefined;\n",
       "    this.format_dropdown = undefined;\n",
       "\n",
       "    this.image_mode = 'full';\n",
       "\n",
       "    this.root = $('<div/>');\n",
       "    this._root_extra_style(this.root)\n",
       "    this.root.attr('style', 'display: inline-block');\n",
       "\n",
       "    $(parent_element).append(this.root);\n",
       "\n",
       "    this._init_header(this);\n",
       "    this._init_canvas(this);\n",
       "    this._init_toolbar(this);\n",
       "\n",
       "    var fig = this;\n",
       "\n",
       "    this.waiting = false;\n",
       "\n",
       "    this.ws.onopen =  function () {\n",
       "            fig.send_message(\"supports_binary\", {value: fig.supports_binary});\n",
       "            fig.send_message(\"send_image_mode\", {});\n",
       "            if (mpl.ratio != 1) {\n",
       "                fig.send_message(\"set_dpi_ratio\", {'dpi_ratio': mpl.ratio});\n",
       "            }\n",
       "            fig.send_message(\"refresh\", {});\n",
       "        }\n",
       "\n",
       "    this.imageObj.onload = function() {\n",
       "            if (fig.image_mode == 'full') {\n",
       "                // Full images could contain transparency (where diff images\n",
       "                // almost always do), so we need to clear the canvas so that\n",
       "                // there is no ghosting.\n",
       "                fig.context.clearRect(0, 0, fig.canvas.width, fig.canvas.height);\n",
       "            }\n",
       "            fig.context.drawImage(fig.imageObj, 0, 0);\n",
       "        };\n",
       "\n",
       "    this.imageObj.onunload = function() {\n",
       "        fig.ws.close();\n",
       "    }\n",
       "\n",
       "    this.ws.onmessage = this._make_on_message_function(this);\n",
       "\n",
       "    this.ondownload = ondownload;\n",
       "}\n",
       "\n",
       "mpl.figure.prototype._init_header = function() {\n",
       "    var titlebar = $(\n",
       "        '<div class=\"ui-dialog-titlebar ui-widget-header ui-corner-all ' +\n",
       "        'ui-helper-clearfix\"/>');\n",
       "    var titletext = $(\n",
       "        '<div class=\"ui-dialog-title\" style=\"width: 100%; ' +\n",
       "        'text-align: center; padding: 3px;\"/>');\n",
       "    titlebar.append(titletext)\n",
       "    this.root.append(titlebar);\n",
       "    this.header = titletext[0];\n",
       "}\n",
       "\n",
       "\n",
       "\n",
       "mpl.figure.prototype._canvas_extra_style = function(canvas_div) {\n",
       "\n",
       "}\n",
       "\n",
       "\n",
       "mpl.figure.prototype._root_extra_style = function(canvas_div) {\n",
       "\n",
       "}\n",
       "\n",
       "mpl.figure.prototype._init_canvas = function() {\n",
       "    var fig = this;\n",
       "\n",
       "    var canvas_div = $('<div/>');\n",
       "\n",
       "    canvas_div.attr('style', 'position: relative; clear: both; outline: 0');\n",
       "\n",
       "    function canvas_keyboard_event(event) {\n",
       "        return fig.key_event(event, event['data']);\n",
       "    }\n",
       "\n",
       "    canvas_div.keydown('key_press', canvas_keyboard_event);\n",
       "    canvas_div.keyup('key_release', canvas_keyboard_event);\n",
       "    this.canvas_div = canvas_div\n",
       "    this._canvas_extra_style(canvas_div)\n",
       "    this.root.append(canvas_div);\n",
       "\n",
       "    var canvas = $('<canvas/>');\n",
       "    canvas.addClass('mpl-canvas');\n",
       "    canvas.attr('style', \"left: 0; top: 0; z-index: 0; outline: 0\")\n",
       "\n",
       "    this.canvas = canvas[0];\n",
       "    this.context = canvas[0].getContext(\"2d\");\n",
       "\n",
       "    var backingStore = this.context.backingStorePixelRatio ||\n",
       "\tthis.context.webkitBackingStorePixelRatio ||\n",
       "\tthis.context.mozBackingStorePixelRatio ||\n",
       "\tthis.context.msBackingStorePixelRatio ||\n",
       "\tthis.context.oBackingStorePixelRatio ||\n",
       "\tthis.context.backingStorePixelRatio || 1;\n",
       "\n",
       "    mpl.ratio = (window.devicePixelRatio || 1) / backingStore;\n",
       "\n",
       "    var rubberband = $('<canvas/>');\n",
       "    rubberband.attr('style', \"position: absolute; left: 0; top: 0; z-index: 1;\")\n",
       "\n",
       "    var pass_mouse_events = true;\n",
       "\n",
       "    canvas_div.resizable({\n",
       "        start: function(event, ui) {\n",
       "            pass_mouse_events = false;\n",
       "        },\n",
       "        resize: function(event, ui) {\n",
       "            fig.request_resize(ui.size.width, ui.size.height);\n",
       "        },\n",
       "        stop: function(event, ui) {\n",
       "            pass_mouse_events = true;\n",
       "            fig.request_resize(ui.size.width, ui.size.height);\n",
       "        },\n",
       "    });\n",
       "\n",
       "    function mouse_event_fn(event) {\n",
       "        if (pass_mouse_events)\n",
       "            return fig.mouse_event(event, event['data']);\n",
       "    }\n",
       "\n",
       "    rubberband.mousedown('button_press', mouse_event_fn);\n",
       "    rubberband.mouseup('button_release', mouse_event_fn);\n",
       "    // Throttle sequential mouse events to 1 every 20ms.\n",
       "    rubberband.mousemove('motion_notify', mouse_event_fn);\n",
       "\n",
       "    rubberband.mouseenter('figure_enter', mouse_event_fn);\n",
       "    rubberband.mouseleave('figure_leave', mouse_event_fn);\n",
       "\n",
       "    canvas_div.on(\"wheel\", function (event) {\n",
       "        event = event.originalEvent;\n",
       "        event['data'] = 'scroll'\n",
       "        if (event.deltaY < 0) {\n",
       "            event.step = 1;\n",
       "        } else {\n",
       "            event.step = -1;\n",
       "        }\n",
       "        mouse_event_fn(event);\n",
       "    });\n",
       "\n",
       "    canvas_div.append(canvas);\n",
       "    canvas_div.append(rubberband);\n",
       "\n",
       "    this.rubberband = rubberband;\n",
       "    this.rubberband_canvas = rubberband[0];\n",
       "    this.rubberband_context = rubberband[0].getContext(\"2d\");\n",
       "    this.rubberband_context.strokeStyle = \"#000000\";\n",
       "\n",
       "    this._resize_canvas = function(width, height) {\n",
       "        // Keep the size of the canvas, canvas container, and rubber band\n",
       "        // canvas in synch.\n",
       "        canvas_div.css('width', width)\n",
       "        canvas_div.css('height', height)\n",
       "\n",
       "        canvas.attr('width', width * mpl.ratio);\n",
       "        canvas.attr('height', height * mpl.ratio);\n",
       "        canvas.attr('style', 'width: ' + width + 'px; height: ' + height + 'px;');\n",
       "\n",
       "        rubberband.attr('width', width);\n",
       "        rubberband.attr('height', height);\n",
       "    }\n",
       "\n",
       "    // Set the figure to an initial 600x600px, this will subsequently be updated\n",
       "    // upon first draw.\n",
       "    this._resize_canvas(600, 600);\n",
       "\n",
       "    // Disable right mouse context menu.\n",
       "    $(this.rubberband_canvas).bind(\"contextmenu\",function(e){\n",
       "        return false;\n",
       "    });\n",
       "\n",
       "    function set_focus () {\n",
       "        canvas.focus();\n",
       "        canvas_div.focus();\n",
       "    }\n",
       "\n",
       "    window.setTimeout(set_focus, 100);\n",
       "}\n",
       "\n",
       "mpl.figure.prototype._init_toolbar = function() {\n",
       "    var fig = this;\n",
       "\n",
       "    var nav_element = $('<div/>');\n",
       "    nav_element.attr('style', 'width: 100%');\n",
       "    this.root.append(nav_element);\n",
       "\n",
       "    // Define a callback function for later on.\n",
       "    function toolbar_event(event) {\n",
       "        return fig.toolbar_button_onclick(event['data']);\n",
       "    }\n",
       "    function toolbar_mouse_event(event) {\n",
       "        return fig.toolbar_button_onmouseover(event['data']);\n",
       "    }\n",
       "\n",
       "    for(var toolbar_ind in mpl.toolbar_items) {\n",
       "        var name = mpl.toolbar_items[toolbar_ind][0];\n",
       "        var tooltip = mpl.toolbar_items[toolbar_ind][1];\n",
       "        var image = mpl.toolbar_items[toolbar_ind][2];\n",
       "        var method_name = mpl.toolbar_items[toolbar_ind][3];\n",
       "\n",
       "        if (!name) {\n",
       "            // put a spacer in here.\n",
       "            continue;\n",
       "        }\n",
       "        var button = $('<button/>');\n",
       "        button.addClass('ui-button ui-widget ui-state-default ui-corner-all ' +\n",
       "                        'ui-button-icon-only');\n",
       "        button.attr('role', 'button');\n",
       "        button.attr('aria-disabled', 'false');\n",
       "        button.click(method_name, toolbar_event);\n",
       "        button.mouseover(tooltip, toolbar_mouse_event);\n",
       "\n",
       "        var icon_img = $('<span/>');\n",
       "        icon_img.addClass('ui-button-icon-primary ui-icon');\n",
       "        icon_img.addClass(image);\n",
       "        icon_img.addClass('ui-corner-all');\n",
       "\n",
       "        var tooltip_span = $('<span/>');\n",
       "        tooltip_span.addClass('ui-button-text');\n",
       "        tooltip_span.html(tooltip);\n",
       "\n",
       "        button.append(icon_img);\n",
       "        button.append(tooltip_span);\n",
       "\n",
       "        nav_element.append(button);\n",
       "    }\n",
       "\n",
       "    var fmt_picker_span = $('<span/>');\n",
       "\n",
       "    var fmt_picker = $('<select/>');\n",
       "    fmt_picker.addClass('mpl-toolbar-option ui-widget ui-widget-content');\n",
       "    fmt_picker_span.append(fmt_picker);\n",
       "    nav_element.append(fmt_picker_span);\n",
       "    this.format_dropdown = fmt_picker[0];\n",
       "\n",
       "    for (var ind in mpl.extensions) {\n",
       "        var fmt = mpl.extensions[ind];\n",
       "        var option = $(\n",
       "            '<option/>', {selected: fmt === mpl.default_extension}).html(fmt);\n",
       "        fmt_picker.append(option);\n",
       "    }\n",
       "\n",
       "    // Add hover states to the ui-buttons\n",
       "    $( \".ui-button\" ).hover(\n",
       "        function() { $(this).addClass(\"ui-state-hover\");},\n",
       "        function() { $(this).removeClass(\"ui-state-hover\");}\n",
       "    );\n",
       "\n",
       "    var status_bar = $('<span class=\"mpl-message\"/>');\n",
       "    nav_element.append(status_bar);\n",
       "    this.message = status_bar[0];\n",
       "}\n",
       "\n",
       "mpl.figure.prototype.request_resize = function(x_pixels, y_pixels) {\n",
       "    // Request matplotlib to resize the figure. Matplotlib will then trigger a resize in the client,\n",
       "    // which will in turn request a refresh of the image.\n",
       "    this.send_message('resize', {'width': x_pixels, 'height': y_pixels});\n",
       "}\n",
       "\n",
       "mpl.figure.prototype.send_message = function(type, properties) {\n",
       "    properties['type'] = type;\n",
       "    properties['figure_id'] = this.id;\n",
       "    this.ws.send(JSON.stringify(properties));\n",
       "}\n",
       "\n",
       "mpl.figure.prototype.send_draw_message = function() {\n",
       "    if (!this.waiting) {\n",
       "        this.waiting = true;\n",
       "        this.ws.send(JSON.stringify({type: \"draw\", figure_id: this.id}));\n",
       "    }\n",
       "}\n",
       "\n",
       "\n",
       "mpl.figure.prototype.handle_save = function(fig, msg) {\n",
       "    var format_dropdown = fig.format_dropdown;\n",
       "    var format = format_dropdown.options[format_dropdown.selectedIndex].value;\n",
       "    fig.ondownload(fig, format);\n",
       "}\n",
       "\n",
       "\n",
       "mpl.figure.prototype.handle_resize = function(fig, msg) {\n",
       "    var size = msg['size'];\n",
       "    if (size[0] != fig.canvas.width || size[1] != fig.canvas.height) {\n",
       "        fig._resize_canvas(size[0], size[1]);\n",
       "        fig.send_message(\"refresh\", {});\n",
       "    };\n",
       "}\n",
       "\n",
       "mpl.figure.prototype.handle_rubberband = function(fig, msg) {\n",
       "    var x0 = msg['x0'] / mpl.ratio;\n",
       "    var y0 = (fig.canvas.height - msg['y0']) / mpl.ratio;\n",
       "    var x1 = msg['x1'] / mpl.ratio;\n",
       "    var y1 = (fig.canvas.height - msg['y1']) / mpl.ratio;\n",
       "    x0 = Math.floor(x0) + 0.5;\n",
       "    y0 = Math.floor(y0) + 0.5;\n",
       "    x1 = Math.floor(x1) + 0.5;\n",
       "    y1 = Math.floor(y1) + 0.5;\n",
       "    var min_x = Math.min(x0, x1);\n",
       "    var min_y = Math.min(y0, y1);\n",
       "    var width = Math.abs(x1 - x0);\n",
       "    var height = Math.abs(y1 - y0);\n",
       "\n",
       "    fig.rubberband_context.clearRect(\n",
       "        0, 0, fig.canvas.width / mpl.ratio, fig.canvas.height / mpl.ratio);\n",
       "\n",
       "    fig.rubberband_context.strokeRect(min_x, min_y, width, height);\n",
       "}\n",
       "\n",
       "mpl.figure.prototype.handle_figure_label = function(fig, msg) {\n",
       "    // Updates the figure title.\n",
       "    fig.header.textContent = msg['label'];\n",
       "}\n",
       "\n",
       "mpl.figure.prototype.handle_cursor = function(fig, msg) {\n",
       "    var cursor = msg['cursor'];\n",
       "    switch(cursor)\n",
       "    {\n",
       "    case 0:\n",
       "        cursor = 'pointer';\n",
       "        break;\n",
       "    case 1:\n",
       "        cursor = 'default';\n",
       "        break;\n",
       "    case 2:\n",
       "        cursor = 'crosshair';\n",
       "        break;\n",
       "    case 3:\n",
       "        cursor = 'move';\n",
       "        break;\n",
       "    }\n",
       "    fig.rubberband_canvas.style.cursor = cursor;\n",
       "}\n",
       "\n",
       "mpl.figure.prototype.handle_message = function(fig, msg) {\n",
       "    fig.message.textContent = msg['message'];\n",
       "}\n",
       "\n",
       "mpl.figure.prototype.handle_draw = function(fig, msg) {\n",
       "    // Request the server to send over a new figure.\n",
       "    fig.send_draw_message();\n",
       "}\n",
       "\n",
       "mpl.figure.prototype.handle_image_mode = function(fig, msg) {\n",
       "    fig.image_mode = msg['mode'];\n",
       "}\n",
       "\n",
       "mpl.figure.prototype.updated_canvas_event = function() {\n",
       "    // Called whenever the canvas gets updated.\n",
       "    this.send_message(\"ack\", {});\n",
       "}\n",
       "\n",
       "// A function to construct a web socket function for onmessage handling.\n",
       "// Called in the figure constructor.\n",
       "mpl.figure.prototype._make_on_message_function = function(fig) {\n",
       "    return function socket_on_message(evt) {\n",
       "        if (evt.data instanceof Blob) {\n",
       "            /* FIXME: We get \"Resource interpreted as Image but\n",
       "             * transferred with MIME type text/plain:\" errors on\n",
       "             * Chrome.  But how to set the MIME type?  It doesn't seem\n",
       "             * to be part of the websocket stream */\n",
       "            evt.data.type = \"image/png\";\n",
       "\n",
       "            /* Free the memory for the previous frames */\n",
       "            if (fig.imageObj.src) {\n",
       "                (window.URL || window.webkitURL).revokeObjectURL(\n",
       "                    fig.imageObj.src);\n",
       "            }\n",
       "\n",
       "            fig.imageObj.src = (window.URL || window.webkitURL).createObjectURL(\n",
       "                evt.data);\n",
       "            fig.updated_canvas_event();\n",
       "            fig.waiting = false;\n",
       "            return;\n",
       "        }\n",
       "        else if (typeof evt.data === 'string' && evt.data.slice(0, 21) == \"data:image/png;base64\") {\n",
       "            fig.imageObj.src = evt.data;\n",
       "            fig.updated_canvas_event();\n",
       "            fig.waiting = false;\n",
       "            return;\n",
       "        }\n",
       "\n",
       "        var msg = JSON.parse(evt.data);\n",
       "        var msg_type = msg['type'];\n",
       "\n",
       "        // Call the  \"handle_{type}\" callback, which takes\n",
       "        // the figure and JSON message as its only arguments.\n",
       "        try {\n",
       "            var callback = fig[\"handle_\" + msg_type];\n",
       "        } catch (e) {\n",
       "            console.log(\"No handler for the '\" + msg_type + \"' message type: \", msg);\n",
       "            return;\n",
       "        }\n",
       "\n",
       "        if (callback) {\n",
       "            try {\n",
       "                // console.log(\"Handling '\" + msg_type + \"' message: \", msg);\n",
       "                callback(fig, msg);\n",
       "            } catch (e) {\n",
       "                console.log(\"Exception inside the 'handler_\" + msg_type + \"' callback:\", e, e.stack, msg);\n",
       "            }\n",
       "        }\n",
       "    };\n",
       "}\n",
       "\n",
       "// from http://stackoverflow.com/questions/1114465/getting-mouse-location-in-canvas\n",
       "mpl.findpos = function(e) {\n",
       "    //this section is from http://www.quirksmode.org/js/events_properties.html\n",
       "    var targ;\n",
       "    if (!e)\n",
       "        e = window.event;\n",
       "    if (e.target)\n",
       "        targ = e.target;\n",
       "    else if (e.srcElement)\n",
       "        targ = e.srcElement;\n",
       "    if (targ.nodeType == 3) // defeat Safari bug\n",
       "        targ = targ.parentNode;\n",
       "\n",
       "    // jQuery normalizes the pageX and pageY\n",
       "    // pageX,Y are the mouse positions relative to the document\n",
       "    // offset() returns the position of the element relative to the document\n",
       "    var x = e.pageX - $(targ).offset().left;\n",
       "    var y = e.pageY - $(targ).offset().top;\n",
       "\n",
       "    return {\"x\": x, \"y\": y};\n",
       "};\n",
       "\n",
       "/*\n",
       " * return a copy of an object with only non-object keys\n",
       " * we need this to avoid circular references\n",
       " * http://stackoverflow.com/a/24161582/3208463\n",
       " */\n",
       "function simpleKeys (original) {\n",
       "  return Object.keys(original).reduce(function (obj, key) {\n",
       "    if (typeof original[key] !== 'object')\n",
       "        obj[key] = original[key]\n",
       "    return obj;\n",
       "  }, {});\n",
       "}\n",
       "\n",
       "mpl.figure.prototype.mouse_event = function(event, name) {\n",
       "    var canvas_pos = mpl.findpos(event)\n",
       "\n",
       "    if (name === 'button_press')\n",
       "    {\n",
       "        this.canvas.focus();\n",
       "        this.canvas_div.focus();\n",
       "    }\n",
       "\n",
       "    var x = canvas_pos.x * mpl.ratio;\n",
       "    var y = canvas_pos.y * mpl.ratio;\n",
       "\n",
       "    this.send_message(name, {x: x, y: y, button: event.button,\n",
       "                             step: event.step,\n",
       "                             guiEvent: simpleKeys(event)});\n",
       "\n",
       "    /* This prevents the web browser from automatically changing to\n",
       "     * the text insertion cursor when the button is pressed.  We want\n",
       "     * to control all of the cursor setting manually through the\n",
       "     * 'cursor' event from matplotlib */\n",
       "    event.preventDefault();\n",
       "    return false;\n",
       "}\n",
       "\n",
       "mpl.figure.prototype._key_event_extra = function(event, name) {\n",
       "    // Handle any extra behaviour associated with a key event\n",
       "}\n",
       "\n",
       "mpl.figure.prototype.key_event = function(event, name) {\n",
       "\n",
       "    // Prevent repeat events\n",
       "    if (name == 'key_press')\n",
       "    {\n",
       "        if (event.which === this._key)\n",
       "            return;\n",
       "        else\n",
       "            this._key = event.which;\n",
       "    }\n",
       "    if (name == 'key_release')\n",
       "        this._key = null;\n",
       "\n",
       "    var value = '';\n",
       "    if (event.ctrlKey && event.which != 17)\n",
       "        value += \"ctrl+\";\n",
       "    if (event.altKey && event.which != 18)\n",
       "        value += \"alt+\";\n",
       "    if (event.shiftKey && event.which != 16)\n",
       "        value += \"shift+\";\n",
       "\n",
       "    value += 'k';\n",
       "    value += event.which.toString();\n",
       "\n",
       "    this._key_event_extra(event, name);\n",
       "\n",
       "    this.send_message(name, {key: value,\n",
       "                             guiEvent: simpleKeys(event)});\n",
       "    return false;\n",
       "}\n",
       "\n",
       "mpl.figure.prototype.toolbar_button_onclick = function(name) {\n",
       "    if (name == 'download') {\n",
       "        this.handle_save(this, null);\n",
       "    } else {\n",
       "        this.send_message(\"toolbar_button\", {name: name});\n",
       "    }\n",
       "};\n",
       "\n",
       "mpl.figure.prototype.toolbar_button_onmouseover = function(tooltip) {\n",
       "    this.message.textContent = tooltip;\n",
       "};\n",
       "mpl.toolbar_items = [[\"Home\", \"Reset original view\", \"fa fa-home icon-home\", \"home\"], [\"Back\", \"Back to previous view\", \"fa fa-arrow-left icon-arrow-left\", \"back\"], [\"Forward\", \"Forward to next view\", \"fa fa-arrow-right icon-arrow-right\", \"forward\"], [\"\", \"\", \"\", \"\"], [\"Pan\", \"Pan axes with left mouse, zoom with right\", \"fa fa-arrows icon-move\", \"pan\"], [\"Zoom\", \"Zoom to rectangle\", \"fa fa-square-o icon-check-empty\", \"zoom\"], [\"\", \"\", \"\", \"\"], [\"Download\", \"Download plot\", \"fa fa-floppy-o icon-save\", \"download\"]];\n",
       "\n",
       "mpl.extensions = [\"eps\", \"jpeg\", \"pdf\", \"png\", \"ps\", \"raw\", \"svg\", \"tif\"];\n",
       "\n",
       "mpl.default_extension = \"png\";var comm_websocket_adapter = function(comm) {\n",
       "    // Create a \"websocket\"-like object which calls the given IPython comm\n",
       "    // object with the appropriate methods. Currently this is a non binary\n",
       "    // socket, so there is still some room for performance tuning.\n",
       "    var ws = {};\n",
       "\n",
       "    ws.close = function() {\n",
       "        comm.close()\n",
       "    };\n",
       "    ws.send = function(m) {\n",
       "        //console.log('sending', m);\n",
       "        comm.send(m);\n",
       "    };\n",
       "    // Register the callback with on_msg.\n",
       "    comm.on_msg(function(msg) {\n",
       "        //console.log('receiving', msg['content']['data'], msg);\n",
       "        // Pass the mpl event to the overridden (by mpl) onmessage function.\n",
       "        ws.onmessage(msg['content']['data'])\n",
       "    });\n",
       "    return ws;\n",
       "}\n",
       "\n",
       "mpl.mpl_figure_comm = function(comm, msg) {\n",
       "    // This is the function which gets called when the mpl process\n",
       "    // starts-up an IPython Comm through the \"matplotlib\" channel.\n",
       "\n",
       "    var id = msg.content.data.id;\n",
       "    // Get hold of the div created by the display call when the Comm\n",
       "    // socket was opened in Python.\n",
       "    var element = $(\"#\" + id);\n",
       "    var ws_proxy = comm_websocket_adapter(comm)\n",
       "\n",
       "    function ondownload(figure, format) {\n",
       "        window.open(figure.imageObj.src);\n",
       "    }\n",
       "\n",
       "    var fig = new mpl.figure(id, ws_proxy,\n",
       "                           ondownload,\n",
       "                           element.get(0));\n",
       "\n",
       "    // Call onopen now - mpl needs it, as it is assuming we've passed it a real\n",
       "    // web socket which is closed, not our websocket->open comm proxy.\n",
       "    ws_proxy.onopen();\n",
       "\n",
       "    fig.parent_element = element.get(0);\n",
       "    fig.cell_info = mpl.find_output_cell(\"<div id='\" + id + \"'></div>\");\n",
       "    if (!fig.cell_info) {\n",
       "        console.error(\"Failed to find cell for figure\", id, fig);\n",
       "        return;\n",
       "    }\n",
       "\n",
       "    var output_index = fig.cell_info[2]\n",
       "    var cell = fig.cell_info[0];\n",
       "\n",
       "};\n",
       "\n",
       "mpl.figure.prototype.handle_close = function(fig, msg) {\n",
       "    var width = fig.canvas.width/mpl.ratio\n",
       "    fig.root.unbind('remove')\n",
       "\n",
       "    // Update the output cell to use the data from the current canvas.\n",
       "    fig.push_to_output();\n",
       "    var dataURL = fig.canvas.toDataURL();\n",
       "    // Re-enable the keyboard manager in IPython - without this line, in FF,\n",
       "    // the notebook keyboard shortcuts fail.\n",
       "    IPython.keyboard_manager.enable()\n",
       "    $(fig.parent_element).html('<img src=\"' + dataURL + '\" width=\"' + width + '\">');\n",
       "    fig.close_ws(fig, msg);\n",
       "}\n",
       "\n",
       "mpl.figure.prototype.close_ws = function(fig, msg){\n",
       "    fig.send_message('closing', msg);\n",
       "    // fig.ws.close()\n",
       "}\n",
       "\n",
       "mpl.figure.prototype.push_to_output = function(remove_interactive) {\n",
       "    // Turn the data on the canvas into data in the output cell.\n",
       "    var width = this.canvas.width/mpl.ratio\n",
       "    var dataURL = this.canvas.toDataURL();\n",
       "    this.cell_info[1]['text/html'] = '<img src=\"' + dataURL + '\" width=\"' + width + '\">';\n",
       "}\n",
       "\n",
       "mpl.figure.prototype.updated_canvas_event = function() {\n",
       "    // Tell IPython that the notebook contents must change.\n",
       "    IPython.notebook.set_dirty(true);\n",
       "    this.send_message(\"ack\", {});\n",
       "    var fig = this;\n",
       "    // Wait a second, then push the new image to the DOM so\n",
       "    // that it is saved nicely (might be nice to debounce this).\n",
       "    setTimeout(function () { fig.push_to_output() }, 1000);\n",
       "}\n",
       "\n",
       "mpl.figure.prototype._init_toolbar = function() {\n",
       "    var fig = this;\n",
       "\n",
       "    var nav_element = $('<div/>');\n",
       "    nav_element.attr('style', 'width: 100%');\n",
       "    this.root.append(nav_element);\n",
       "\n",
       "    // Define a callback function for later on.\n",
       "    function toolbar_event(event) {\n",
       "        return fig.toolbar_button_onclick(event['data']);\n",
       "    }\n",
       "    function toolbar_mouse_event(event) {\n",
       "        return fig.toolbar_button_onmouseover(event['data']);\n",
       "    }\n",
       "\n",
       "    for(var toolbar_ind in mpl.toolbar_items){\n",
       "        var name = mpl.toolbar_items[toolbar_ind][0];\n",
       "        var tooltip = mpl.toolbar_items[toolbar_ind][1];\n",
       "        var image = mpl.toolbar_items[toolbar_ind][2];\n",
       "        var method_name = mpl.toolbar_items[toolbar_ind][3];\n",
       "\n",
       "        if (!name) { continue; };\n",
       "\n",
       "        var button = $('<button class=\"btn btn-default\" href=\"#\" title=\"' + name + '\"><i class=\"fa ' + image + ' fa-lg\"></i></button>');\n",
       "        button.click(method_name, toolbar_event);\n",
       "        button.mouseover(tooltip, toolbar_mouse_event);\n",
       "        nav_element.append(button);\n",
       "    }\n",
       "\n",
       "    // Add the status bar.\n",
       "    var status_bar = $('<span class=\"mpl-message\" style=\"text-align:right; float: right;\"/>');\n",
       "    nav_element.append(status_bar);\n",
       "    this.message = status_bar[0];\n",
       "\n",
       "    // Add the close button to the window.\n",
       "    var buttongrp = $('<div class=\"btn-group inline pull-right\"></div>');\n",
       "    var button = $('<button class=\"btn btn-mini btn-primary\" href=\"#\" title=\"Stop Interaction\"><i class=\"fa fa-power-off icon-remove icon-large\"></i></button>');\n",
       "    button.click(function (evt) { fig.handle_close(fig, {}); } );\n",
       "    button.mouseover('Stop Interaction', toolbar_mouse_event);\n",
       "    buttongrp.append(button);\n",
       "    var titlebar = this.root.find($('.ui-dialog-titlebar'));\n",
       "    titlebar.prepend(buttongrp);\n",
       "}\n",
       "\n",
       "mpl.figure.prototype._root_extra_style = function(el){\n",
       "    var fig = this\n",
       "    el.on(\"remove\", function(){\n",
       "\tfig.close_ws(fig, {});\n",
       "    });\n",
       "}\n",
       "\n",
       "mpl.figure.prototype._canvas_extra_style = function(el){\n",
       "    // this is important to make the div 'focusable\n",
       "    el.attr('tabindex', 0)\n",
       "    // reach out to IPython and tell the keyboard manager to turn it's self\n",
       "    // off when our div gets focus\n",
       "\n",
       "    // location in version 3\n",
       "    if (IPython.notebook.keyboard_manager) {\n",
       "        IPython.notebook.keyboard_manager.register_events(el);\n",
       "    }\n",
       "    else {\n",
       "        // location in version 2\n",
       "        IPython.keyboard_manager.register_events(el);\n",
       "    }\n",
       "\n",
       "}\n",
       "\n",
       "mpl.figure.prototype._key_event_extra = function(event, name) {\n",
       "    var manager = IPython.notebook.keyboard_manager;\n",
       "    if (!manager)\n",
       "        manager = IPython.keyboard_manager;\n",
       "\n",
       "    // Check for shift+enter\n",
       "    if (event.shiftKey && event.which == 13) {\n",
       "        this.canvas_div.blur();\n",
       "        // select the cell after this one\n",
       "        var index = IPython.notebook.find_cell_index(this.cell_info[0]);\n",
       "        IPython.notebook.select(index + 1);\n",
       "    }\n",
       "}\n",
       "\n",
       "mpl.figure.prototype.handle_save = function(fig, msg) {\n",
       "    fig.ondownload(fig, null);\n",
       "}\n",
       "\n",
       "\n",
       "mpl.find_output_cell = function(html_output) {\n",
       "    // Return the cell and output element which can be found *uniquely* in the notebook.\n",
       "    // Note - this is a bit hacky, but it is done because the \"notebook_saving.Notebook\"\n",
       "    // IPython event is triggered only after the cells have been serialised, which for\n",
       "    // our purposes (turning an active figure into a static one), is too late.\n",
       "    var cells = IPython.notebook.get_cells();\n",
       "    var ncells = cells.length;\n",
       "    for (var i=0; i<ncells; i++) {\n",
       "        var cell = cells[i];\n",
       "        if (cell.cell_type === 'code'){\n",
       "            for (var j=0; j<cell.output_area.outputs.length; j++) {\n",
       "                var data = cell.output_area.outputs[j];\n",
       "                if (data.data) {\n",
       "                    // IPython >= 3 moved mimebundle to data attribute of output\n",
       "                    data = data.data;\n",
       "                }\n",
       "                if (data['text/html'] == html_output) {\n",
       "                    return [cell, data, j];\n",
       "                }\n",
       "            }\n",
       "        }\n",
       "    }\n",
       "}\n",
       "\n",
       "// Register the function which deals with the matplotlib target/channel.\n",
       "// The kernel may be null if the page has been refreshed.\n",
       "if (IPython.notebook.kernel != null) {\n",
       "    IPython.notebook.kernel.comm_manager.register_target('matplotlib', mpl.mpl_figure_comm);\n",
       "}\n"
      ],
      "text/plain": [
       "<IPython.core.display.Javascript object>"
      ]
     },
     "metadata": {},
     "output_type": "display_data"
    },
    {
     "data": {
      "text/html": [
       "<img src=\"data:image/png;base64,iVBORw0KGgoAAAANSUhEUgAAAu8AAAIdCAYAAACN2ZNDAAAgAElEQVR4Xu3dC7BdZXn/8ScYYryEqwEJMRNiQSgEUEsCjANBrBfKX60VrOUigggDxDrJv1NAq1DuItBpgToYqFNrrRUBq1WLNOhgIzcFC5WLXAKRRhoLJMMlAnL+szac80/I5axnve/vedda+3tmmE7xfZ937c/znL1/Z7HPPhNGRkZGjC8EEEAAAQQQQAABBBBovcAEwnvre8QFIoAAAggggAACCCAwECC8MwgIIIAAAggggAACCHREgPDekUZxmQgggAACCCCAAAIIEN6ZAQQQQAABBBBAAAEEOiJAeO9Io7hMBBBAAAEEEEAAAQQI78wAAggggAACCCCAAAIdESC8d6RRXCYCCCCAAAIIIIAAAoR3ZgABBBBAAAEEEEAAgY4IEN470iguEwEEEEAAAQQQQAABwjszgAACCCCAAAIIIIBARwQI7x1pFJeJAAIIIIAAAggggADhnRlAAAEEEEAAAQQQQKAjAoT3jjSKy0QAAQQQQAABBBBAgPDODCCAAAIIIIAAAggg0BEBwntHGsVlIoAAAggggAACCCBAeGcGEEAAAQQQQAABBBDoiADhvSON4jIRQAABBBBAAAEEECC8MwMIIIAAAggggAACCHREgPDekUZxmQgggAACCCCAAAIIEN6ZAQQQQAABBBBAAAEEOiJAeO9Io7hMBBBAAAEEEEAAAQQI78wAAggggAACCCCAAAIdESC8d6RRXCYCCCCAAAIIIIAAAoR3ZgABBBBAAAEEEEAAgY4IEN470iguEwEEEEAAAQQQQAABwjszgAACCCCAAAIIIIBARwQI7x1pFJeJAAIIIIAAAggggADhnRlAAAEEEEAAAQQQQKAjAoT3jjSKy0QAAQQQQAABBBBAgPDODCCAAAIIIIAAAggg0BEBwntHGsVlIoAAAggggAACCCBAeGcGEEAAAQQQQAABBBDoiADhvSON4jIRQAABBBBAAAEEECC8MwMIIIAAAggggAACCHREgPDekUZxmQgggAACCCCAAAIIEN6ZAQQQQAABBBBAAAEEOiJAeO9Io7hMBBBAAAEEEEAAAQQI78wAAggggAACCCCAAAIdESC8d6RRXCYCCCCAAAIIIIAAAoR3ZgABBBBAAAEEEEAAgY4IEN470iguEwEEEEAAAQQQQAABwjszgAACCCCAAAIIIIBARwQI7x1pFJeJAAIIIIAAAggggADhnRlAAAEEEEAAAQQQQKAjAoT3jjSKy0QAAQQQQAABBBBAgPDODCCAAAIIIIAAAggg0BEBwntHGsVlIoAAAggggAACCCBAeGcGEEAAAQQQQAABBBDoiADhvSON4jIRQAABBBBAAAEEECC8MwMIIIAAAggggAACCHREgPDekUZxmQgggAACCCCAAAIIEN6ZAQQQQAABBBBAAAEEOiJAeO9Io7hMBBBAAAEEEEAAAQQI78wAAggggAACCCCAAAIdESC8d6RRXCYCCCCAAAIIIIAAAoR3ZgABBBBAAAEEEEAAgY4IEN470iguEwEEEEAAAQQQQAABwjszgAACCCCAAAIIIIBARwQI7x1pFJeJAAIIIIAAAggggADhnRlAAAEEEEAAAQQQQKAjAoT3jjSKy0QAAQQQQAABBBBAYCjD+3333Wef//zn7cYbb7Q777zTdt5558H/He9rZGTEzjvvPLv00kttxYoVtueee9pFF11ke++993hb+d8RQAABBBBAAAEEEEgWGMrw/s1vftNOOukkmzt3rt177732wgsv1Arv5557rn32s5+16v/uvvvudskll9h1111nt99+u82aNSu5GRRAAAEEEEAAAQQQQGBjAkMZ3quwvskmmwxcjjrqKLv11lvHDe+rV6+2bbfd1k488UQ7++yzB3ufffZZ22mnneyggw4a3I2v+1XVuuOOO2zq1Kk2ceLEuttYhwACCCCAAAII9E7g+eefH7yjYfbs2TZ58uTePb7cD2gow/uaiHXD++LFi+3AAw+02267bfB2mdGvBQsW2FVXXWVLly6t3ZtbbrnF5syZU3s9CxFAAAEEEEAAgb4L3HzzzbbXXnv1/WEmPz7Ce80779Wd9equ+zPPPLPWT4Vf/OIX7bjjjrOnnnrKXvWqV9VqSBX0d9hhB6uGdLvttqu1h0UIIIAAAggggEAfBZYvXz64qfnggw/azJkz+/gQsz4mwnvN8H7WWWfZGWecYdVbXtb8uvLKK+2QQw6xRx55xKZNm7be5qxatcqqf0a/Rod02bJlNn369KwNpRgCCCCAAAIIINAlgV/+8pf2hje8wchF9bpGeA8I76eddpqdfvrp63SEIa03pKxCAAEEEEAAgf4KEN59vSW81wzvKW+b4c67byhZjQACCCCAAALDI0B49/Wa8F4zvI/+wmr1sZB77LHHmPLChQvtG9/4husXVhlS35CyGgEEEEAAAQT6K0Au8vWW8F4zvI9+VOT8+fPtzDPPHCg/99xzg4+KfM973uP6qEiG1DekrEYAAQQQQACB/gqQi3y9Hcrw/vTTT9t3vvOdgVT1h5buv/9+u/DCCwf///777z/4/PXqYyEfeughq/4a6+hX9ceZqvevV39ltfos0uqtNNdee637jzQxpL4hZTUCCCCAAAII9FeAXOTr7VCG99GPalwf1fXXX2/z5s0b/FOtW/Pz20dGRgZ/XbUK7dUfE6g+7/2iiy6yffbZx6XOkLq4WIwAAggggAACPRYgF/maO5Th3UeUfzVDmt+UiggggAACCCDQTQFyka9vhHefV5bVDGkWRooggAACCCCAQA8EyEW+JhLefV5ZVjOkWRgpggACCCCAAAI9ECAX+ZpIePd5ZVnNkGZhpAgCCCCAAAII9ECAXORrIuHd55VlNUOahZEiCCCAAAIIINADAXKRr4mEd59XltUMaRZGiiCAAAIIIIBADwTIRb4mEt59XllWM6RZGCmCAAIIIIAAAj0QIBf5mkh493llWc2QZmGkCAIIIIAAAgj0QIBc5Gsi4d3nlWU1Q5qFkSIIIIAAAggg0AMBcpGviYR3n1eW1QxpFkaKIIAAAggggEAPBMhFviYS3n1eWVYzpFkYKYIAAgi0VuDBXz9lB3z+B4Pru/7/zrMdXvea1l4rF4ZAaQFyka8DhHefV5bVDGkWRooggAACrRUgvLe2NVxYCwXIRb6mEN59XllWM6RZGCmCAAIJAoTLBLwaW/GtgcQSBF4SIBf5RoHw7vPKspohzcJIEQQQSBAgXCbg1diKbw0kliBAeG80A4T3RmxpmwjvaX7sRgCBdAHCZbrhxirgq/Wler8EyEW+fhLefV5ZVjOkWRgpggACCQKEywS8GlvxrYHEEgS4895oBgjvjdjSNhHe0/zYjQAC6QKEy3RD7rxrDak+PALkIl+vCe8+ryyrGdIsjBRBAIEEAcJ7Al6NrfjWQGIJAtx5bzQDhPdGbGmbCO9pfuxGAIF0AcJluiF33rWGVB8eAXKRr9eEd59XltUMaRZGiiCAQIIA4T0Br8ZWfGsgsQQB7rw3mgHCeyO2tE2E9zQ/diOAQLoA4TLdkDvvWkOqD48AucjXa8K7zyvLaoY0CyNFEEAgQYDwnoBXYyu+NZBYggB33hvNAOG9EVvaJsJ7mh+7EUAgXYBwmW7InXetIdWHR4Bc5Os14d3nlWU1Q5qFkSIIIJAgQHhPwKuxFd8aSCxBgDvvjWaA8N6ILW0T4T3Nj90IIJAuQLhMN+TOu9aQ6sMjQC7y9Zrw7vPKspohzcJIEQQQSBAgvCfg1diKbw0kliDAnfdGM0B4b8SWtonwnubHbgQQSBcgXKYbcudda0j14REgF/l6TXj3eWVZzZBmYaQIAggkCBDeE/BqbMW3BhJLEODOe6MZILw3YkvbRHhP82M3AgikCxAu0w258641pPrwCJCLfL0mvPu8sqxmSLMwUgQBBBIECO8JeDW24lsDiSUIcOe90QwQ3huxpW0ivKf5sRsBBNIFCJfphtx51xpSfXgEyEW+XhPefV5ZVjOkWRgpggACCQKE9wS8GlvxrYHEEgS4895oBgjvjdjSNhHe0/zYjQAC6QKEy3RD7rxrDak+PALkIl+vCe8+ryyrGdIsjBRBAIEEAcJ7Al6NrfjWQGIJAtx5bzQDhPdGbGmbCO9pfuxGAIF0AcJluiF33rWGVB8eAXKRr9eEd59XltUMaRZGiiCAQIIA4T0Br8ZWfGsgsQQB7rw3mgHCeyO2tE2E9zQ/diOAQLoA4TLdkDvvWkOqD48AucjXa8K7zyvLaoY0CyNFEEAgQYDwnoBXYyu+NZBYggB33hvNAOG9EVvaJsJ7mh+7EUAgXYBwmW7InXetIdWHR4Bc5Os14d3nlWU1Q5qFkSIIIJAgQHhPwKuxFd8aSCxBgDvvjWaA8N6ILW0T4T3Nj90IIJAuQLhMN+TOu9aQ6sMjQC7y9Zrw7vPKspohzcJIEQQQSBAgvCfg1diKbw0kliDAnfdGM0B4b8SWtonwnubHbgQQSBcgXKYbcudda0j14REgF/l6TXj3eWVZzZBmYaQIAggkCBDeE/BqbMW3BhJLEODOe6MZILw3YkvbRHhP82M3AgikCxAu0w258641pPrwCJCLfL0mvPu8sqxmSLMwUgQBBBIECO8JeDW24lsDiSUIcOe90QwQ3huxpW0ivKf5sRsBBNIFCJfphtx51xriW843+mRykU+c8O7zyrKaIc3CSBEEEEgQILwn4NXYim8NpIQl+CbgtXArucjXFMK7zyvLaoY0CyNFEEAgQYDwk4BXYyu+NZASluCbgNfCreQiX1MI7z6vLKsZ0iyMFEEAgQQBwk8CXo2t+NZASliCbwJeC7eSi3xNIbz7vLKsZkizMFIEAQQSBAg/CXg1tuJbAylhCb4JeC3cSi7yNYXw7vPKspohzcJIEQQQSBAg/CTg1diKbw2khCX4JuC1cCu5yNcUwrvPK8tqhjQLI0UQQCBBgPCTgFdjK741kBKW4JuA18Kt5CJfUwjvPq8sqxnSLIzFi/DiUbwFXECCAPObgFdjK741kBKW4JuA18Kt5CJfUwjvPq8sqxnSLIzFi/DiUbwFXECCAPObgFdjK741kBKW4JuA18Kt5CJfUwjvPq8sqxnSLIzFi/DiUbwFXECCAPObgFdjK741kBKW4JuA18Kt5CJfUwjvPq8sqxnSLIzFi/DiUbwFXECCAPObgFdjK741kBKW4JuA18Kt5CJfUwjvPq8sqxnSLIzFi/DiUbwFXECCAPObgFdjK741kBKW4JuA18Kt5CJfUwjvPq8sqxnSLIzFi/DiUbwFXECCAPObgFdjK741kBKW4JuA18Kt5CJfUwjvPq8sqxnSLIzFi/DiUbwFXECCAPObgFdjK741kBKW4JuA18Kt5CJfUwjvPq8sqxnSLIzFi/DiUbwFXECCAPObgFdjK741kBKW4JuA18Kt5CJfUwjvPq8sqxnSLIzFi/DiUbwFXECCAPObgFdjK741kBKW4JuA18Kt5CJfUwjvPq8sqxnSLIzFi/DiUbwFXECCAPObgFdjK741kBKW4JuA18Kt5CJfUwjvPq8sqxnSLIzFi/DiUbwFXECCAPObgFdjK741kBKW4JuA18Kt5CJfUwjvPq8sqxnSLIzFi/DiUbwFXECCAPObgFdjK741kBKW4JuA18Kt5CJfUwjvPq8sqxnSLIzFi/DiUbwFXECCAPObgFdjK741kBKW4JuA18Kt5CJfUwjvPq8sqxnSLIzFi/DiUbwFXECCAPObgFdjK741kBKW4JuA18Kt5CJfUwjvPq8sqxnSLIzFi/DiUbwFXECCAPObgFdjK741kBKW4JuA18Kt5CJfUwjvPq8sqxnSLIzFi/DiUbwFXECCAPObgFdjK741kBKW4JuA18Kt5CJfUwjvPq8sqxnSLIzFi/DiUbwFXECCAPObgFdjK741kBKW4JuA18Kt5CJfUwjvPq8sqxnSLIzFi/DiUbwFXECCAPObgFdjK741kBKW4JuA18Kt5CJfUwjvPq8sqxnSLIzFi/DiUbwFXECCAPObgFdjK741kBKW4JuA18Kt5CJfUwjvPq8sqxnSLIzFi/DiUbwFXECCAPObgFdjK741kBKW4JuA18Kt5CJfUwjvPq8sqxnSLIzFi/DiUbwFXECCAPObgFdjK741kBKW4JuA18Kt5CJfUwjvPq8sqxnSLIzFi/DiUbwFXECCAPObgFdjK741kBKW4JuA18Kt5CJfUwjvPq8sqxnSLIzFi/DiUbwFXECCAPObgFdjK741kBKW4JuA18Kt5CJfUwjvPq8sqxnSLIzFi/DiUbwFXECCAPObgFdjK741kBKW4JuA18Kt5CJfU4YyvN999902f/58W7JkiU2ZMsWOPPJIO/PMM23SpEkb1Zs5c6Y99NBD66x55plnbPLkybXlGdLaVK1eyItHq9vDxY0jwPxqRwRffLUC/apOLvL1c+jC++OPP2677rqr7bjjjnbqqafaI488YgsWLLDDDz/cLr744nHD+1577WULFy5ca93cuXNtwoQJteUZ0tpUrV7Ii3Or28PFEd6LzgDPD1p+fLW+0dXJRT7xoQvv55xzjp111ln28MMP21ZbbTXQuuyyy+yEE04Y/Ltp06ZtULC6837wwQePG/LHawFDOp5QN/53Xjy60Seucv0CzK92MvDFVyvQr+rkIl8/hy6877fffoPQfs0114xJPfHEE4N/d8UVV9hRRx1FePfN0NCu5sV5aFvfiwfO/GrbiC++WoF+VSe8+/o5dOF9m222saOPPtrOPffctaS23357O+KII9b592suqu68r1y50p5++mnbdNNNrfpB4LzzzrPZs2e71BlSF1drF/Pi3NrWcGE1BJjfGkgJS/BNwKuxFd8aSB1aQi7yNWvownsVus844ww7+eST15LabbfdbN999x28hWZDX5/4xCesen/7jBkz7IEHHhi8/ebRRx+12267zWbNmrXBfatWrbLqn9Gv5cuX25w5c2zZsmU2ffp0X8dY3RoBXjxa0woupIEA89sAzbEFXwdWg6X4NkBr8RbCu685hPeXvOqE95fTViF85513tsMOO8wuvfTSDcqfdtppdvrpp6/zvxPefcPattW8eLStI1yPR4D59Wj51+LrN/PswNej1f61hHdfj4YuvFdvmznmmGOs+sXVNb/qvG1mfbR/8Ad/YL/+9a/tpptu2qA8d959Q9mV1bx4dKVTXOf6BJhf7Vzgi69WoF/VCe++fg5deK/ep7711lvb1VdfPSZVvY99yy23HPcXVpuG95fvY0h9Q9rW1bw4t7UzXFcdAea3jlLzNfg2t6uzE986St1ZQy7y9Wrownt1x/3ss88evN98iy22GGgtWrTIjj/++HE/KvLltP/93/9tu+yyy+AXXcf7jPg19zKkviFt62pePLSdwRdfrYC2OvOLr1agX9XJRb5+Dl14H/0jTTvttNNaf6Spet/6mgH8wAMPHPw11fvuu28g+tWvftW+/e1v20EHHTT4LPjqF1arHwQee+wx+8lPfmI77LBDbXmGtDZVqxfy4qxtD774agW01ZlffLUC/apOLvL1c+jCe8Vz11132fz5823JkiU2ZcoUO/LIIwefHDNp0qQxvXnz5tnSpUsH/1RfN954o51yyil25513WvW58NVd+7e//e32l3/5l/amN73Jpc6Qurhau5gXZ21r8MVXK6CtzvziqxXoV3Vyka+fQxnefUT5VzOk+U1LVOTFWauOL75aAW115hdfrUC/qpOLfP0kvPu8sqxmSLMwFi/Ci7O2BfjiqxXQVmd+8dUK9Ks6ucjXT8K7zyvLaoY0C2PxIrw4a1uAL75aAW115hdfrUC/qpOLfP0kvPu8sqxmSLMwFi/Ci7O2BfjiqxXQVmd+8dUK9Ks6ucjXT8K7zyvLaoY0C2PxIrw4a1uAL75aAW115hdfrUC/qpOLfP0kvPu8sqxmSLMwFi/Ci7O2BfjiqxXQVmd+8dUK9Ks6ucjXT8K7zyvLaoY0C2PxIrw4a1uAL75aAW115hdfrUC/qpOLfP0kvPu8sqxmSLMwFi/Ci7O2BfjiqxXQVmd+8dUK9Ks6ucjXT8K7zyvLaoY0C2PxIrw4a1uAL75aAW115hdfrUC/qpOLfP0kvPu8sqxmSLMwFi/Ci7O2BfjiqxXQVmd+8dUK9Ks6ucjXT8K7zyvLaoY0C2PxIrw4a1uAL75aAW115hdfrUC/qpOLfP0kvPu8sqxmSLMwFi/Ci7O2BfjiqxXQVmd+8dUK9Ks6ucjXT8K7zyvLaoY0C2PxIrw4a1uAL75aAW115hdfrUC/qpOLfP0kvPu8sqxmSLMwFi/Ci7O2BfjiqxXQVmd+8dUK9Ks6ucjXT8K7zyvLaoY0C2PxIrw4a1uAL75aAW115hdfrUC/qpOLfP0kvPu8sqxmSLMwFi/Ci7O2BfjiqxXQVmd+8dUK9Ks6ucjXT8K7zyvLaoY0C2PxIrw4a1uAL75aAW115hdfrUC/qpOLfP0kvPu8sqxmSLMwFi/Ci7O2BfjiqxXQVmd+8dUK9Ks6ucjXT8K7zyvLaoY0C2PxIrw4a1uAL75aAW115hdfrUC/qpOLfP0kvPu8sqxmSLMwFi/Ci7O2BfjiqxXQVmd+8dUK9Ks6ucjXT8K7zyvLaoY0C2PxIrw4a1uAL75aAW115hdfrUC/qpOLfP0kvPu8sqxmSLMwFi/Ci7O2BfjiqxXQVmd+8dUK9Ks6ucjXT8K7zyvLaoY0C2PxIrw4a1uAL75aAW115hdfrUC/qpOLfP0kvPu8sqxmSLMwFi/Ci7O2BfjiqxXQVmd+8dUK9Ks6ucjXT8K7zyvLaoY0C2PxIrw4a1uAL75aAW115hdfrUC/qpOLfP0kvPu8sqxmSLMwFi/Ci7O2BfjiqxXQVmd+8dUK9Ks6ucjXT8K7zyvLaoY0C2PxIrw4a1uAL75aAW115hdfrUC/qpOLfP0kvPu8sqxmSLMwFi/Ci7O2BfjiqxXQVmd+8dUK9Ks6ucjXT8K7zyvLaoY0C2PxIrw4a1uAL75aAW115hdfrYC+euQMk4t8/SS8+7yyrGZIszAWLxL5xFb8wRa4AHy16PjiqxXQVmd+tb5V9UhjcpGvn4R3n1eW1QxpFsbiRSKf2Io/2AIXgK8WHV98tQLa6syv1pfwrvdNOYHwnqLXcC/hvSFcy7bx4qFtCL74agW01ZlffLUC+uqRM0wu8vWT8O7zyrKaIc3CWLxI5BNb8Qdb4ALw1aLji69WQFud+dX6cudd75tyAuE9Ra/hXsJ7Q7iWbePFQ9sQfPHVCmirM7/4agX01SNnmFzk6yfh3eeVZTVDmoWxeJHIJ7biD7bABeCrRccXX62Atjrzq/XlzrveN+UEwnuKXsO9hPeGcC3bxouHtiH44qsV0FZnfvHVCuirR84wucjXT8K7zyvLaoY0C2PxIpFPbMUfbIELwFeLji++WgFtdeZX68udd71vygmE9xS9hnsJ7w3hWraNFw9tQ/DFVyugrc784qsV0FePnGFyka+fhHefV5bVDGkWxuJFIp/Yij/YAheArxYdX3y1AtrqzK/Wlzvvet+UEwjvKXoN9xLeG8K1bBsvHtqG4IuvVkBbnfnFVyugrx45w+QiXz8J7z6vLKsZ0iyMxYtEPrEVf7AFLgBfLTq++GoFtNWZX60vd971viknEN5T9BruJbw3hGvZNl48tA3BF1+tgLY684uvVkBfPXKGyUW+fhLefV5ZVjOkWRiLF4l8Yiv+YAtcAL5adHzx1QpoqzO/Wl/uvOt9U04gvKfoNdxLeG8I17JtvHhoG4IvvloBbXXmF1+tgL565AyTi3z9JLz7vLKsZkizMBYvEvnEVvzBFrgAfLXo+OKrFdBWZ361vtx51/umnEB4T9FruJfw3hCuZdt48dA2BF98tQLa6swvvloBffXIGSYX+fpJePd5ZVkdMaSR33RZUDpYBGNt0/DFVyugrc784qsV0FePnOGIXKQXizuB8B5nPXZSxJBGftMVIGzFkRhr24AvvloBbXXmF1+tgL565AxH5CK9WNwJhPc4a8J7AWvlkZFPbMrH0dba+Go7gy++WgFtdeZX61tVjzQmvPv6SXj3eWVZHTGkkd90WVA6WARjbdPwxVcroK3O/OKrFdBXj5zhiFykF4s7gfAeZ82d9wLWyiMjn9iUj6OttfHVdgZffLUC2urMr9aXO+9635QTCO8peg33RvyEyRNbw+Y4tmHswGqwFN8GaI4t+DqwGizFtwGaYwu+DqyGSyONI3JRQ4ZWbiO8F2hLxJBGftMVIGzFkRhr24AvvloBbXXmF1+tgL565AxH5CK9WNwJhPc467GTIoY08puuAGErjsRY2wZ88dUKaKszv/hqBfTVI2c4IhfpxeJOILzHWRPeC1grj4x8YlM+jrbWxlfbGXzx1QpoqzO/Wt+qeqQx4d3XT8K7zyvL6oghjfymy4LSwSIYa5uGL75aAW115hdfrYC+euQMR+QivVjcCYT3OGvuvBewVh4Z+cSmfBxtrY2vtjP44qsV0FZnfrW+3HnX+6acQHhP0Wu4N+InTJ7YGjbHsQ1jB1aDpfg2QHNswdeB1WApvg3QHFvwdWA1XBppHJGLGjK0chvhvUBbIoY08puuAGErjsRY2wZ88dUKaKszv/hqBfTVI2c4IhfpxeJOILzHWY+dFDGkkd90BQhbcSTG2jbgi69WQFud+cVXK6CvHjnDEblILxZ3AuE9zprwXsBaeWTkE5vycbS1Nr7azuCLr1ZAW5351fpW1SONCe++fhLefV5ZVkcMaeQ3XRaUDhbBWNs0fPHVCmirM7/4agX01SNnOCIX6cXiTiC8x1lz572AtfLIyCc25eNoa218tZ3BF1+tgLY686v15c673jflBMJ7il7DvRE/YfLE1rA5jm0YO7AaLMW3AZpjC74OrAZL8W2A5tiCrwOr4dJI44hc1JChlR54ppoAACAASURBVNsI7wXaEjGkkd90BQhbcSTG2jbgi69WQFf96Weft0U3PGgXfv/ewSG7b7+5/fGcGfb+N0+zV0+aqDt4iCrz/KBvdqRxRC7Si8WdQHiPsx47KWJII7/pChC24kiMtW3AF1+tgKb6/SuetMMX3WTLV64eO2DCBLOREbPtNp9s//CxufbGqa/VHD5EVXl+0Dc70jgiF+nF4k4gvMdZE94LWCuPjHxiUz6OttbGV9sZfPP7VnfcD7zgh/boqtX2wsi69TeZYLbtZpPt3xfuzx34RH7mNxGwxvZIY8J7jYassYTw7vPKsjpiSCO/6bKgdLAIxtqm4YuvViB/9X+86WE79eo7xi18zgdm24fnzBh3HQs2LMDzg346Io0jcpFeLO4EwnucNXfeC1irjuQ9rSrZ/1838oVD/2jadwK++XtyyBeW2K0PPT54i8yGvqq30MyZuZV97bh98l/AEFVkfvXNjjQmvPv6SXj3eWVZHTGkkd90WVA6VIT3tMY0ixnWOfPDp8b27Rf8wB5Y8dS4xWdNfY0tXjhv3HUs4M57yRmIfA6OyEUlLXOfTXjPLVqjXsSQRn7T1XjIvVnCe1rjWskMa6z54VPjWlXlzrvO9uWVeX7QW0caR+QivVjcCYT3OOuxkyKGNPKbrgBhsSN5T2scPTOc35ofPvObrlmR5wet75rVeX7QW0caR+QivVjcCYT3OGvCewHr3EdyZy236IbrRb5wxD2qsicRLrX+/HCk9SW8x/lWJ0U+BxPefb0lvPu8sqyOGNLIb7osKB0pwnta4xrFDOe35ofP/KYvr8jbkvTG/M6G3pjwHmPc9BTCe1O5hH2E9wS8wlsJP3ENILznt+aHz/ym66tYhcvLf/SgXXDtS39hdfrmg4+GfN+e/IXV1A7ww1GqYP39kc/BEbmo/iNv/0rCe4EeRQxp5DddAcJiR/K2gzh6Zji/NT985jfdUEXmN781b0vKb7qxipEzHJGLYvW0pxHetb7rrR4xpJHfdAUIix3Ji0ccPTOc35ofPvObEt7jTJnfOOvqpMjn4IhcFKunPY3wrvUlvBfwVR/Jf7ZVC79YP/KFI+YRlT+FHz7jesD85rfmvxzlN+XOe6xprtOGMrzffffdNn/+fFuyZIlNmTLFjjzySDvzzDNt0qRJG3UdGRmx8847zy699FJbsWKF7bnnnnbRRRfZ3nvv7epHxE+YvHC4WuJezHta3WTuDcywm6zWBn74rMWUvIj5TSZcpwC/s5HflPAea5rrtKEL748//rjtuuuutuOOO9qpp55qjzzyiC1YsMAOP/xwu/jiizfqeu6559pnP/tZq/7v7rvvbpdccoldd911dvvtt9usWbNq94TwXpuq1Qt5cda2B1+dLz986mxHKzO/+Y25857flPAea5rrtKEL7+ecc46dddZZ9vDDD9tWW201cLzsssvshBNOGPy7adOmrdd29erVtu2229qJJ55oZ5999mDNs88+azvttJMddNBBg7vxdb8I73Wl2r2OF2dtf/DFVyugrc785vflPe/5TQnvsaa5Thu68L7ffvsNQvs111wzZvjEE08M/t0VV1xhRx111HptFy9ebAceeKDddtttg7fLjH5Vd+2vuuoqW7p0ae2eEN5rU7V6IS/O2vbgi69WQFud+c3vy+9s5DclvMea5jpt6ML7NttsY0cfffTgrS9rfm2//fZ2xBFHrPPvR9dUd9aru+7PPPOMTZ48eWzrF7/4RTvuuOPsqaeesle96lW1+jIa3u9fssSmb7ddrT3eRcsef8aOuPymwbYvHzPX3rBlvWvznjPM6zHWdh9ffLUC2urMr8b3gSd+Y0d9a6n96qnnzUZGzCZMsAlmNmJmr3/NRPvS/5lps7Z4pebwIasaOcO/XL7c3rjvvrZs2TKbPn36kEn7H+7QhfdNN93UzjjjDDv55JPX0tptt91s3333HbyFZn1f1Vttqn3V22fW/LryyivtkEMOGbx3fkNvuVm1apVV/4x+LV++3ObMmWOLZ73RXr/ppv6usQMBBBBAAIEhFVj9ikl2/fQ32+I3vMWeeOVrbYvfPGlvX/ZTO+CXt9nk3z47pCrdfti/eu45e/sD9xPea7aR8P4SlDK8n3baaXb66aev0xLCe80pZRkCCCCAAAII9FaA8O5r7dCF9+ptM8ccc4xVv7i65pfybTMbuvPO22Z8w9q21ZH/SbFtjz3ievDVKuOLr1ZAW5351fpW1SONeduMr59DF96rX1jdeuut7eqrrx6TWrlypW255Za1fmG1+ljIPfbYY2zvwoUL7Rvf+Aa/sOqbu16s5hfStG3EF1+tgLY684uvVkBfPXKGIz7IQy8Wd8LQhffqjnv1UY/VL0VsscUWA+lFixbZ8ccfX+ujIqs/7lT9Qafq67nnnht8VOR73vMePioybmZbc1LkE1trHnTgheCrxcYXX62Atjrzq/WtqkcaE959/Ry68D76R5qq0L3mH2k67LDD1vojTdXHQj700EN23333jYlWn1BTvX+9+iurs2fPHgT2a6+9lj/S5Ju53qyOfGLrDZrjgeDrwGqwFN8GaI4t+DqwGizFtwGac0ukMeHd15yhC+8Vz1133WXVHfQlS5bYlClT7Mgjjxz84aZJkyaN6c2bN2/wVpg1P799ZGRk8FGSVWhfsWLF4PPeL7roIttnn31c6hFDGvlN53rwPVqMsbaZ+OKrFdBWZ37x1Qroq0fOcEQu0ovFnTCU4T2Od/0nRQxp5Dddac9S52OslccXX62Atjrzi69WQF89coYjcpFeLO4Ewnuc9dhJEUMa+U1XgLAVR2KsbQO++GoFtNWZX3y1AvrqkTMckYv0YnEnEN7jrAnvBayVR0Y+sSkfR1tr46vtDL74agW01ZlfrW9VPdKY8O7rJ+Hd55VldcSQRn7TZUHpYBGMtU3DF1+tgLY684uvVkBfPXKGI3KRXizuBMJ7nDV33gtYK4+MfGJTPo621sZX2xl88dUKaKszv1pf7rzrfVNOILyn6DXcG/ETJk9sDZvj2IaxA8u59Olnn7dFNzxoF37/3sHO3bff3P54zgx7/5un2asnTXRWY/n6BJhf7Vzgi69WQF89coYjcpFeLO4EwnucNXfeC1grj4x8YlM+jrbVvn/Fk3b4opts+crVY5c2YYLZyIjZdptPtn/42Fx749TXtu2yO3c9zK+2ZfjiqxXQV4+cYcK7r5+Ed59XltURQxr5TZcFpYNFMM7ftOqO+4EX/NAeXbXaXhhZt/4mE8y23Wyy/fvC/bkDn8jP/CYCjrMdX3y1AvrqkTMckYv0YnEnEN7jrLnzXsBaeWTkE5vycbSp9j/e9LCdevUd417SOR+YbR+eM2PcdSzYsADzq50OfPHVCuirR84w4d3XT8K7zyvL6oghjfymy4LSwSIY52/aIV9YYrc+9PjgLTIb+qreQjNn5lb2teN8f9k4/9V2uyLzq+0fvvhqBfTVI2c4IhfpxeJOILzHWXPnvYC18sjIJzbl42hT7bdf8AN7YMVT417SrKmvscUL5427jgXceS81Azw/aOXx1fpW1SONCe++fhLefV5ZVkcMaeQ3XRaUDhbBOH/TuPOe33RDFZlfrTW++GoF9NUjZzgiF+nF4k4gvMdZc+e9gLXyyMgnNuXjaFNt3vMe1w3mV2uNL75aAX31yBkmvPv6SXj3eWVZrR5SPiM7S5vGLRL5xDbuxfRkAZ82E9dI5ldrjS++WgF99cgZVucivVbsCYT3WO/Bacoh5TOy4xoa+cQW96jKn8QMx/SA+dU644uvVkBfPXKGlblILxV/AuE93lwW3rlrGdvMyCe22EdW/rRqli//0YN2wbUv/YXV6ZsPPhryfXvyF1ZzdYf5zSW5/jr44qsV0FePnGHCu6+fhHefV5bVqiHl/cJZ2lO7SOQTW+2L6tFCfLXNxBdfrYC2OvOr9a2qRxqrcpFeqcwJhPcC7qoh5ZM6YpsZ+cQW+8jacRq+2j7gi69WQFud+dX6Et71viknEN5T9BruVYV3PiO7YUMabuPFoyFczW341oRquAzfhnA1t+FbE6rhMnwbwjm2RRqrcpHj4XZqKeG9QLtUQ8qd99hmRj6xxT6ydpyGr7YP+OKrFdBWZ361vtx51/umnEB4T9FruFcV3nnPe8OGNNzGi0dDuJrb8K0J1XAZvg3ham7DtyZUw2X4NoRzbIs0VuUix8Pt1FLCe4F2qYaUT5uJbWbkE1vsI2vHafhq+4AvvloBbXXmV+vLnXe9b8oJhPcUvYZ7VeG9uhw+I7thUxps48WjAZpjC74OrAZL8W2A5tiCrwOrwVJ8G6A5t0QaK3OR82F3YjnhvUCb1EPKZ2THNDXyiS3mEbXrFHy1/cAXX62Atjrzq/XlzrveN+UEwnuKXsO96vAe/U3XkKHz23jx0LYQX3y1AtrqzC++WgF99cgZjshFerG4EwjvcdZjJ0UMaeQ3XQHCVhyJsbYN+OKrFdBWZ37x1Qroq0fOcEQu0ovFnUB4j7MmvBewVh4Z+cSmfBxtrY2vtjP44qsV0FZnfrW+VfVIY8K7r5+Ed59XltURQxr5TZcFpYNFMNY2DV98tQLa6swvvloBffXIGY7IRXqxuBMI73HW3HkvYK08MvKJTfk42lobX21n8MVXK6CtzvxqfbnzrvdNOYHwnqLXcG/ET5g8sTVsjmMbxg6sBkvxbYDm2IKvA6vBUnwboDm24OvAarg00jgiFzVkaOU2wnuBtkQMaeQ3XQHCVhyJsbYN+OKrFdBWZ37x1Qroq0fOcEQu0ovFnUB4j7MeOyliSCO/6QoQtuJIjLVtwBdfrYC2OvOLr1ZAXz1yhiNykV4s7gTCe5w14b2AtfLIyCc25eNoa218tZ3BF1+tgLY686v1rapHGhPeff0kvPu8sqyOGNLIb7osKB0sgrG2afjiqxXQVmd+8dUK6KtHznBELtKLxZ1AeI+z5s57AWvlkZFPbMrH0dba+Go7gy++WgFtdeZX68udd71vygmE9xS9hnsjfsLkia1hcxzbMHZgNViKbwM0xxZ8HVgNluLbAM2xBV8HVsOlkcYRuaghQyu3Ed4LtCViSCO/6QoQtuJIjLVtwBdfrYC2OvOLr1ZAXz1yhiNykV4s7gTCe5z12EkRQxr5TVeAsBVHYqxtA774agW01ZlffLUC+uqRMxyRi/RicScQ3uOsCe8FrJVHRj6xKR9HW2vjq+0MvvhqBbTVmV+tb1U90pjw7usn4d3nlWV1xJBGftNlQelgEYy1TcMXX62Atjrzi69WQF89coYjcpFeLO4EwnucNXfeC1grj4x8YlM+jrbWxlfbGXzx1QpoqzO/Wl/uvOt9U04gvKfoNdwb8RMmT2wNm+PYhrEDq8FSfBugObbg68BqsBTfBmiOLfg6sBoujTSOyEUNGVq5jfBeoC0RQxr5TVeAsBVHYqxtA774agW01ZlffLUC+uqRMxyRi/RicScQ3uOsx06KGNLIb7oChK04EmNtG/DFVyugrc784qsV0FePnOGIXKQXizuB8B5nTXgvYK08MvKJTfk42lobX21n8MVXK6CtzvxqfavqkcaEd18/Ce8+ryyrI4Y08psuC0oHi2CsbRq++GoFtNWZX3y1AvrqkTMckYv0YnEnEN7jrLnzXsBaeWTkE5vycbS1Nr7azuCLr1ZAW5351fpy513vm3IC4T1Fr+HeiJ8weWJr2BzHNowdWA2W4tsAzbEFXwdWg6X4NkBzbMHXgdVwaaRxRC5qyNDKbYT3Am2JGNLIb7oChK04EmNtG/DFVyugrc784qsV0FePnOGIXKQXizuB8B5nPXZSxJBGftMVIGzFkRhr24AvvloBbXXmF1+tgL565AxH5CK9WNwJhPc4a8J7AWvlkZFPbMrH0dba+Go7gy++WgFtdeZX61tVjzQmvPv6SXj3eWVZHTGkkd90WVA6WARjbdPwxVcroK3O/OKrFdBXj5zhiFykF4s7gfAeZ82d9wLWyiMjn9iUj6OttfHVdgZffLUC2urMr9aXO+9635QTCO8peg33RvyEyRNbw+Y4tmHswGqwFN8GaI4t+DqwGizFtwGaYwu+DqyGSyONI3JRQ4ZWbiO8F2hLxJBGftMVIGzFkRhr24AvvloBbXXmF1+tgL565AxH5CK9WNwJhPc467GTIoY08puuAGErjsRY2wZ88dUKaKszv/hqBfTVI2c4IhfpxeJOILzHWRPeC1grj4x8YlM+jrbWxlfbGXzx1QpoqzO/Wt+qeqQx4d3XT8K7zyvL6oghjfymy4LSwSIYa5uGL75aAW115hdfrYC+euQMR+QivVjcCYT3OGvuvBewVh4Z+cSmfBxtrY2vtjP44qsV0FZnfrW+3HnX+6acQHhP0Wu4N+InTJ7YGjbHsQ1jB1aDpfg2QHNswdeB1WApvg3QHFvwdWA1XBppHJGLGjK0chvhvUBbIoY08puuAGErjsRY2wZ88dUKaKszv/hqBfTVI2c4IhfpxeJOILzHWY+dFDGkkd90BQhbcSTG2jbgi69WQFud+cVXK6CvHjnDEblILxZ3AuE9zprwXsBaeWTkE5vycbS1Nr7azuCLr1ZAW5351fpW1SONCe++fhLefV5ZVkcMaeQ3XRaUDhbBWNs0fPHVCmirM7/4agX01SNnOCIX6cXiTiC8x1lz572AtfLIyCc25eNoa218tZ3BF1+tgLY686v15c673jflBMJ7il7DvRE/YfLE1rA5jm0YO7AaLMW3AZpjC74OrAZL8W2A5tiCrwOr4dJI44hc1JChldsI7wXaEjGkkd90BQhbcSTG2jbgi69WQFud+cVXK6CvHjnDEblILxZ3AuE9znrspIghjfymK0DYiiMx1rYBX3y1AtrqzC++WgF99cgZjshFerG4EwjvcdaE9wLWyiMjn9iUj6OttfHVdgZffLUC2urMr9a3qh5pTHj39ZPw7vPKsjpiSCO/6bKgdLAIxtqm4YuvVkBbnfnFVyugrf70s8/bohsetAu/f+/goN2339z+eM4Me/+bp9mrJ03MfnhELsp+0QULEt4L4EcMKS8c+sZirDXGF1+tgLY684uvVkBX/f4VT9rhi26y5StXjx0yYYLZyIjZdptPtn/42Fx749TXZr2AiFyU9YILFyO8F2hAxJDywqFvLMZaY3zx1QpoqzO/+GoFNNWrO+4HXvBDe3TVanthZN0zNplgtu1mk+3fF+6f9Q58RC7SiJWpSngv4B4xpLxw6BuLsdYYX3y1AtrqzC++WgFN9X+86WE79eo7xi1+zgdm24fnzBh3Xd0FEbmo7rV0YR3hvUCXIoaUFw59YzHWGuOLr1ZAW535xVcroKl+yBeW2K0PPT54i8yGvqq30MyZuZV97bh9sl1ERC7KdrEtKER4L9CEiCHlhUPfWIy1xvjiqxXQVmd+8dUKaKq//YIf2AMrnhq3+Kypr7HFC+eNu67ugohcVPdaurCO8F6gSxFDyguHvrEYa43xxVcroK3O/OKrFdBU5867xjV3VcJ7btEa9QjvNZA6sIQXZ22T8MVXK6CtzvziqxXQVOc97xrX3FWHMrx/61vfsk9/+tN2zz332IwZM+yUU06xj370oxu1Xbp0qe2www7rrJk7d67deOONrr4Q3l1crV3Mi7O2NfjiqxXQVmd+8dUKaKrzaTMa19xVhy68/+hHP7J58+bZxz72MfvQhz5kixcvtrPOOsv++Z//2T74wQ9u0Hc0vJ999tl2wAEHjK2bMmWK7brrrq6+EN5dXK1dzIuztjX44qsV0FZnfvHVCuiq8znvOttclYcuvL/rXe+yJ5980v7jP/5jzPBP/uRP7Pbbb7ef//zn44b3r3/96xsN+XUaQ3ivo9T+Nbw4a3uEL75aAW115hdfrYC2enUH/vIfPWgXXPvSX1idvvngoyHftyd/YVUrX6/6UIX33/zmN1bdKf/c5z5nn/zkJ8eE/uVf/sXe97732YMPPmgzZ85cr9zonfeuhPd67WdVigAvzil64+/Fd3yjlBX4puiNvxff8Y1SVuCboldvb6RxxE3Neo+6G6uGKrxXd9art7h897vftXe/+91jHfrFL35hO+200zr/fs0Wjob3173udfbYY4/Z1ltvPQj85513nm211VaubjOkLq7WLo58YmstgvDC8BXimhm++GoFtNWZX61vVT3SmFzk6+dQhffqrTJve9vb7Mc//rHtvffeY1K//vWvberUqfaVr3zFqrfQrO9r+fLldsYZZ1j1tpstttjCbrrppsF75WfNmmU333yzbbrpphuUX7VqlVX/jH5VtebMmWPLli2z6dOn+zrG6tYIRD6xteZBB14IvlpsfPHVCmirM79aX8K73jflhM6H95UrV1oVhsf7qkL2Lbfc0ji8r6/+v/7rv9rBBx9sX/va1+zQQw/d4CWcdtppdvrpp6/zvxPex+tau/93Xjy0/cEXX62Atjrzi69WQF89coa58+7rZ+fD+6JFi+zYY48d91Hfdddd9sILLwzeNvO9731vcAd99KvO22bWd8DIyMjgPfQnnnji4O0zG/rizvu47enkgsgntk4CJV40vomA42zHF1+tgLY686v1rapHGhPeff3sfHj3PNzRX1g9//zz7U//9E/Htlaf+/7e9753o7+wmhLeX76XIfV0rb1rI5/Y2quguzJ8dbbRL8zaR9LO6syvti/4an2jnyPIRb5+DlV4r2iqO+5PP/203XDDDWNShx9+uP30pz/d6EdFro91NPR7P4GGIfUNaVtX8+Kh7Qy++GoFtNWZX3y1AvrqkTNMLvL1c+jC++gfafr4xz8+eJ/69ddfP/hF1Op964cccsiY3sSJE+0jH/mIXX755YN/t3DhQttkk00Gv+ha/cJq9Uuq55xzjr3pTW8a/AJstb7uF0NaV6rd6yKf2Notobk6fDWuo1XxxVcroK3O/Gp9ufOu9005YejCe4VVfa77pz/9abvnnntsxowZdsopp9jRRx+9luOECRMG4f1LX/rS4N9XIf7SSy+1++67b3Dnfvvtt7c//MM/HPwi6mabbebqAeHdxdXaxbx4aFuDL75aAW115hdfrYC+euQMk4t8/RzK8O4jyr+aIc1vWqJi5BNbicdX+kx8tR3AF1+tgLY686v15c673jflBMJ7il7DvYT3hnAt28aLh7Yh+OKrFdBWZ37x1Qroq0fOMLnI10/Cu88ry2qGNAsjRXouEPnC0XPK9T48fLVdxxdfrYC+euQMk4t8/SS8+7yyrGZIszBSpOcCkS8cPackvBdoMPOrRcdX61tVjzQmF/n6SXj3eWVZzZBmYaRIzwUiXzh6Tkl4L9Bg5leLjq/Wl/Cu9005gfCeotdwL+G9IRzbhkqAF2dtu/HFVyugrc78an0J73rflBMI7yl6DfcS3hvCsW2oBHhx1rYbX3y1AtrqzK/Wl/Cu9005gfCeotdwL+G9IRzbhkqAF2dtu/HFVyugrc78an0J73rflBMI7yl6DfcS3hvCsW2oBHhx1rYbX3y1AtrqzK/Wl/Cu9005gfCeotdwL+G9IRzbhkqAF2dtu/HFVyugrc78an0J73rflBMI7yl6DfcS3hvCsW2oBHhx1rYbX3y1AtrqzK/Wl/Cu9005gfCeotdwL+G9IRzbhkqAF2dtu/HFVyugrc78an0J73rflBMI7yl6DfcS3hvCsW2oBHhx1rYbX3y1AtrqzK/Wl/Cu9005gfCeotdwL+G9IRzbhkqAF2dtu/HFVyugrc78an0J73rflBMI7yl6DfcS3hvCsW2oBHhx1rYbX3y1AtrqzK/Wl/Cu9005gfCeotdwL+G9IRzbhkqAF2dtu/HFVyugrc78an0J73rflBMI7yl6DfcS3hvCsW2oBHhx1rYbX3y1AtrqzK/Wl/Cu9005gfCeotdwL+G9IRzbhkqAF2dtu/HFVyugrc78an0J73rflBMI7yl6DfcS3hvCsW2oBHhx1rYbX3y1AtrqzK/Wl/Cu9005gfCeotdwL+G9IRzbhkqAF2dtu/HFVyugrc78an0J73rflBMI7yl6DfcS3hvCsW2oBHhx1rYbX3y1AlTvukDkcwS5yDcthHefV5bVDGkWRor0XCDyhaPnlOt9ePhqu46v1pfqeoHIGSYX+fpJePd5ZVnNkGZhpEjPBSJfOHpOSXgv0GDmtwA6R2YViJxhcpGvdYR3n1eW1QxpFkaKIIBAgkDkC3PCZXZ2K76dbR0X/pJA5AyTi3xjR3j3eWVZzZBmYaQIAggkCES+MCdcZme34tvZ1nHhhPfWzwDhvUCLCO8F0DkSAQTWEiBcagcCX60v1fUCkTNMLvL1k/Du88qymiHNwkgRBBBIEIh8YU64zM5uxbezrePCufPe+hkgvBdoEeG9ADpHIoAAd94DZ4DwHojNURKByBkmF/laSHj3eWVZzZBmYaQIAggkCES+MCdcZme34tvZ1nHh3Hlv/QwQ3gu0iPBeAJ0jEUCAO++BM0B4D8TmKIlA5AyTi3wtJLz7vLKsZkizMFIEAQQSBCJfmBMus7Nb8e1s67hw7ry3fgYI7wVaRHgvgM6RCCDAnffAGSC8B2JzlEQgcobJRb4WEt59XllWM6RZGCmCAAIJApEvzAmX2dmt+Ha2dVw4d95bPwOE9wItIrwXQOdIBBDgznvgDBDeA7E5SiIQOcPkIl8LCe8+ryyrGdIsjBRBAIEEgcgX5oTL7OxWfDvbOi6cO++tnwHCe4EWEd4LoHMkAghw5z1wBgjvgdgcJRGInGFyka+FhHefV5bVDGkWRooggECCQOQLc8JldnYrvp1tHRfOnffWzwDhvUCLCO8F0DkSAQS48x44A4T3QGyOkghEzjC5yNdCwrvPK8tqhjQLI0UQQCBBIPKFOeEyO7sV3862jgvnznvrZ4DwXqBFhPcC6ByJAALceWcGEECgtkDkD6DkotptGSwkvPu8sqxmYCE2IQAAFyFJREFUSLMwUgQBBBIEIl+YEy6TrQggUEgg8jmCXORrMuHd55VlNUOahZEiCCCQIBD5wpxwmWxFAIFCApHPEeQiX5MJ7z6vLKsZ0iyMFEEAgQSByBfmhMtkKwIIFBKIfI4gF/maTHj3eWVZzZBmYaQIAggkCES+MCdcJlsRQKCQQORzBLnI12TCu88ry2qGNAsjRRBAIEEg8oU54TLZigAChQQinyPIRb4mE959XllWM6RZGCmCAAIJApEvzAmXyVYEECgkEPkcQS7yNZnw7vPKspohzcJIEQQQQAABBBAQCRDeRbAZyhLeMyB6SxDevWKsRwABBBBAAIFIAcJ7pLbvLMK7zyvLasJ7FkaKIIAAAggggIBIgPAugs1QlvCeAdFbgvDuFWM9AggggAACCEQKEN4jtX1nEd59XllWE96zMFIEAQQQQAABBEQChHcRbIayhPcMiN4ShHevGOsRQAABBBBAIFKA8B6p7TuL8O7zyrKa8J6FkSIIIIAAAgggIBIgvItgM5QlvGdA9JYgvHvFWI8AAggggAACkQKE90ht31mEd59XltWE9yyMFEEAAQQQQAABkQDhXQSboSzhPQOitwTh3SvGegQQQAABBBCIFCC8R2r7ziK8+7yyrCa8Z2GkCAIIIIAAAgiIBAjvItgMZQnvGRC9JQjvXjHWI4AAAggggECkAOE9Utt3FuHd55VlNeE9CyNFEEAAAQQQQEAkQHgXwWYoS3jPgOgtQXj3irEeAQQQQAABBCIFCO+R2r6zCO8+ryyrCe9ZGCmCAAIIIIAAAiIBwrsINkNZwnsGRG8JwrtXjPUIIIAAAgggEClAeI/U9p1FePd5ZVlNeM/CSBEEEEAAAQQQEAkQ3kWwGcoS3jMgeksQ3r1irEcAAQQQQACBSAHCe6S27yzCu88ry2rCexZGiiCAAAIIIICASIDwLoLNUJbwngHRW4Lw7hVjPQIIIIAAAghEChDeI7V9ZxHefV5ZVhPeszBSBAEEEEAAAQREAoR3EWyGsoT3DIjeEoR3rxjrEUAAAQQQQCBSgPAeqe07i/Du88qymvCehZEiCCCAAAIIICASILyLYDOUJbxnQPSWILx7xViPAAIIIIAAApEChPdIbd9ZhHefV5bVhPcsjBRBAAEEEEAAAZEA4V0Em6Es4T0DorcE4d0rxnoEEEAAAQQQiBQgvEdq+84ivPu8sqwmvGdhpAgCCCCAAAIIiAQI7yLYDGUJ7xkQvSUI714x1iOAAAIIIIBApADhPVLbdxbh3eeVZTXhPQsjRRBAAAEEEEBAJEB4F8FmKEt4z4DoLUF494qxHgEEEEAAAQQiBQjvkdq+swjvPq8sqwnvWRgpggACCCCAAAIiAcK7CDZDWcJ7BkRvCcK7V4z1CCCAAAIIIBApQHiP1PadNXTh/fvf/7793d/9nd100032wAMP2IknnmgXX3xxLbWVK1faggUL7Oqrr7bnnnvO3vWud9nf/M3f2HbbbVdr/+giwruLi8UIIIAAAgggECxAeA8Gdxw3dOF94cKF9r3vfc/mzp07COGHHXZY7fD+7ne/2/7rv/7LLrjgAps8ebJ96lOfsle84hV266232sSJE2uzE95rU7EQAQQQQAABBAoIEN4LoNc8cujC+wsvvGCbbLLJgGfmzJl28MEH1wrvP/7xj23fffe1f/u3f7N3vvOdg/333HOP7bLLLvZP//RPduihh9YkNyO816ZiIQIIIIAAAggUECC8F0CveeTQhfc1XTzh/TOf+czgLTKPPfaYTZgwYazMW97yFtt9993tS1/6Uk1ywnttKBYigAACCCCAQBEBwnsR9lqHEt5r3nmv7qw//PDDduONN64FW73t5v7771/n329MnzvvtWaTRQgggAACCCBQSIDwXgi+xrGE95rh/fd///cH72+v3i+/5tdJJ51k1157rd17770b5F61apVV/4x+LV++3ObMmWPLli2z6dOn12gTSxBAAAEEEEAAgTgBwnuctfekzof36hNgqjA83tesWbNs0qRJay3zvG0mJbyfdtppdvrpp69ziYT38brG/44AAggggAACJQQI7yXU653Z+fC+aNEiO/bYY8d9tHfddZftvPPOjcN79baZKmxXv7i65ledt81w533c9rAAAQQQQAABBFokQHhvUTNedimdD+8ptJ4779UvrFafB/+///u/a/3C6lvf+labPXs2v7Ca0gj2IoAAAggggECrBAjvrWrHWhdDeK/5nvfRj4qs/sjTO97xjgFi9T736m4+HxXZ3gHnyhBAAAEEEEDAL0B495tF7Ri68P7QQw/ZLbfcMvA94YQTrLpzfswxxwz+/w9+8INj7tUfXfrIRz5il19++di/q/5I089//vO1/khT9Znx/JGmqHHlHAQQQAABBBCIECC8Ryg3O2Pownv1eewf/ehH16s1MjIy9u+rz3Kvwvuan99e/XLsggUL7KqrrrLnn39+8Meaqs9+nzZtmkufj4p0cbEYAQQQQAABBIIFCO/B4I7jhi68O2xkSwnvMloKI4AAAggggEAGAcJ7BkRRCcK7CHZjZQnvBdA5EgEEEEAAAQRqCxDea1OFLyS8h5ObEd4LoHMkAggggAACCNQWILzXpgpfSHgPJye8FyDnSAQQQAABBBBwCBDeHVjBSwnvweDVcdx5L4DOkQgggAACCCBQW4DwXpsqfCHhPZyc8F6AnCMRQAABBBBAwCFAeHdgBS8lvAeDc+e9ADhHIoAAAggggIBLgPDu4gpdTHgP5X7xMN42UwCdIxFAAAEEEECgtgDhvTZV+ELCezg54b0AOUcigAACCCCAgEOA8O7ACl5KeA8G5857AXCORAABBBBAAAGXAOHdxRW6mPAeyv3iYbxtpgA6RyKAAAIIIIBAbQHCe22q8IWE93BywnsBco5EAAEEEEAAAYcA4d2BFbyU8B4Mzp33AuAciQACCCCAAAIuAcK7iyt0MeE9lPvFw3jbTAF0jkQAAQQQQACB2gKE99pU4QsJ7+HkhPcC5ByJAAIIIIAAAg4BwrsDK3gp4T0YnDvvBcA5EgEEEEAAAQRcAoR3F1foYsJ7KPeLh/G2mQLoHIkAAggggAACtQUI77WpwhcS3sPJCe8FyDkSAQQQQAABBBwChHcHVvBSwnswOHfeC4BzJAIIIIAAAgi4BAjvLq7QxYT3UO4XD+NtMwXQORIBBBBAAAEEagsQ3mtThS8kvIeTE94LkHMkAggggAACCDgECO8OrOClhPdgcO68FwDnSAQQQAABBBBwCRDeXVyhiwnvodwvHsbbZgqgcyQCCCCAAAII1BYgvNemCl9IeA8nJ7wXIOdIBBBAAAEEEHAIEN4dWMFLCe/B4Nx5LwDOkQgggAACCCDgEiC8u7hCFxPeQ7lfPIy3zRRA50gEEEAAAQQQqC1AeK9NFb6Q8B5OTngvQM6RCCCAAAIIIOAQILw7sIKXEt6DwbnzXgCcIxFAAAEEEEDAJUB4d3GFLia8h3K/eBhvmymAzpEIIIAAAgggUFuA8F6bKnwh4T2cnPBegJwjEUAAAQQQQMAhQHh3YAUvJbwHg3PnvQA4RyKAAAIIIICAS4Dw7uIKXUx4D+V+8TDeNlMAnSMRQAABBBBAoJUC5CJfWwjvPq8sqxnSLIwUQQABBBBAAIEeCJCLfE0kvPu8sqxmSLMwUgQBBBBAAAEEeiBALvI1kfDu88qymiHNwkgRBBBAAAEEEOiBALnI10TCu88ry2qGNAsjRRBAAAEEEECgBwLkIl8TCe8+ryyrGdIsjBRBAAEEEEAAgR4IkIt8TSS8+7yyrGZIszBSBAEEEEAAAQR6IEAu8jWR8O7zyrKaIc3CSBEEEEAAAQQQ6IEAucjXRMK7zyvLaoY0CyNFEEAAAQQQQKAHAuQiXxMJ7z6vLKsZ0iyMFEEAAQQQQACBHgiQi3xNJLz7vLKsZkizMFIEAQQQQAABBHogQC7yNZHw7vPKspohzcJIEQQQQAABBBDogQC5yNdEwrvPK8tqhjQLI0UQQAABBBBAoAcC5CJfEwnvPq8sqxnSLIwUQQABBBBAAIEeCJCLfE0kvPu8sqxmSLMwUgQBBBBAAAEEeiBALvI1kfDu88qymiHNwkgRBBBAAAEEEOiBALnI10TCu88ry2qGNAsjRRBAAAEEEECgBwLkIl8TCe8+ryyrly5dajvssIPdfPPNtt1222WpSREEEEAAAQQQQKCLAsuXL7c5c+bYgw8+aDNnzuziQwi9ZsJ7KPeLh91yyy2DIeULAQQQQAABBBBA4EWB6qbmXnvtBcc4AoT3AiOyevVqu+OOO2zq1Kk2ceLEDV7BHnvsYT/72c82eoUbWzP6k2zf7vDXcVG2VXV+jrpNa3j25V7LDCundd3anv55rixH3aY1vPvqrq+zjvn1TEn62jo9aXJKrrpN63j25V7bhhl+/vnnbcWKFTZ79mybPHlykxYO1R7Ce4vbvc0229j//M//bPQKN7amr+8hq+OibKvq/Bx1m9bw7Mu9lhlWTuu6tT3981xZjrpNa3j31V1fZx3z65mS9LV1etLklFx1m9bx7Mu9dhhnuMmMtGkP4b1N3XjZtZx//vn2Z3/2Zxu9wo2t6Wt4r+OibKvq/Bx1m9bw7Mu9lhlWTuu6tT3981xZjrpNa3j31V1fZx3z65mS9LV1etLklFx1m9bx7Mu9dhhnuMmMtGkP4b1N3ch8LX0N75mZKNdiAWa4xc3h0sYVYH7HJWJBywWY4XY2iPDezr5kuapVq1bZhRdeaAsWLLDNNtssS02KIBApwAxHanNWbgHmN7co9aIFmOFo8XrnEd7rObEKAQQQQAABBBBAAIHiAoT34i3gAhBAAAEEEEAAAQQQqCdAeK/nxCoEEEAAAQQQQAABBIoLEN6Lt4ALQAABBBBAAAEEEECgngDhvZ4TqxBAAAEEEEAAAQQQKC5AeC/eAi4AAQQQQAABBBBAAIF6AoT3ek5Ds+q73/2unXrqqTYyMmITJ060v/qrv7K3ve1tQ/P4eaDdFli6dKm9//3vH3sQ1Z/brv564G233dbtB8bVD43AM888Y5/4xCfshz/8oW266aaDeT7rrLOG5vHzQLsvMHPmTHv1q19tkyZNGjyYz3/+8/aOd7yj+w+sRY+A8N6iZrThUrbddlu7/vrr7Xd/93ft29/+tv3FX/wFwacNjeEaGgkceuih9ta3vtX+/M//vNF+NiEQLXDiiSfaVlttZWecccbg6EcffdSq52W+EOiKQBXer7vuOvud3/mdrlxy566T8N7ylt13332Dn1pvvPFGu/POO23nnXce/N+Xf9199902f/58W7JkiU2ZMsWOPPJIO/PMM8d+8q37MF//+tfb1Vdfbfvss4995Stfsa9+9auDEM8XAk0Fomd49Doff/xxmz59uv3iF7+wadOmNb189g25QOT8Pvnkk7bDDjtY9VctX/nKVw65PA8/l0DkDFfXTHjP1bkN1yG8642TTvjmN79pJ510ks2dO9fuvfdee+GFF9YJ71VI2XXXXW3HHXccvOXlkUceGfxV1cMPP9wuvvhi1/mLFy+26m5l9Z+8fvvb3w7+0y0/PbsIWfwygegZHj3+C1/4glVnV28F4wuBpgKR8/uzn/3MPvzhD9s73/lOu+GGG2zrrbe2888/3/bYY4+ml88+BAbPg5E5ogrvW2yxxSCvHHDAAYO3fb32ta+lExkFCO8ZMRWlquHfZJNNBqWPOuoou/XWW9cJ7+ecc87gm+Phhx8e/OfW6uuyyy6zE044YfDvRu86zpkzxx544IF1LnPGjBn205/+1J5//nk76KCDrKpXvdXgW9/6ln3qU5+y6gVlwoQJiodHzSEQiJzhNTmr/3r0yU9+0j70oQ8NgTIPUSUQOb8/+clP7Pd+7/fsyiuvtD/6oz+ya6+91o499lirfpeD52BVh/tfN3KGK81ly5bZG97wBlu9evXg9zeqDFPdTOErnwDhPZ+lvNKGwvt+++03CO3XXHPN2DU88cQTg393xRVXDEJ/na/qB4OPf/zjgyA/+rXlllsO7vhPnTq1TgnWILBRAfUMjx5ezezee+9ty5cv5+0HzGQ2AfX8Vr9gPRp6Ri+6+oXr//zP/7TqLY18IZAqoJ7hl19f9WEB1dt477jjjtRLZ/8aAoT3Do3Dhr7pqif3o48+2s4999y1Hs32229vRxxxxDr/fkMP+Ve/+pXtsssug19Qrf6zV/X++Q984AODAMRdnw4NSosvVT3Dow+9+i9Gjz32mP3t3/5tizW4tK4JRMzvgQceaJ/5zGds//33H/yX1ve+972D98CP/hfYrplxve0SUM/wU089Nfiv+JtvvvngU+tOOeWUwVt5v/zlL7cLouNXQ3jvUAM39E1XfZxY9ckEJ5988lqPZrfddrN999138Baaul9///d/b5/73OfsFa94xeBjyi644ILBiwhfCOQQiJjh6j8RVz98fv3rXx/8rghfCOQSiJjf6hesq5sxK1eutMmTJw8+rrd6HucLgRwC6hmu3ppb3fSrnoerf3bffXf767/+a3vd616X4/Kp8ZIA4b1Do6D+pusQBZfaUQFmuKON47IHAswvg9B1AWa46x188foJ7x3q48b+c9cxxxwz+EXTNb+8b5vpEAWX2lEBZrijjeOyNxreq7cu8hzMkHRBgOfgLnRp/GskvI9v1JoVG/tFk+ojxarPZx/9qv6Ta/XLpp5fWG3NA+VCeivADPe2tUPxwJjfoWhzrx8kM9yP9hLeO9THjX1U5Nlnnz34eKbqs1Wrr0WLFtnxxx+/1kdFduihcqk9FWCGe9rYIXlYzO+QNLrHD5MZ7kdzCe8t7+PTTz9t3/nOdwZXeckll9j9999vF1544eD/r36RtPoIx9E/0rTTTjut9UeaDjvsMPcfaWo5B5fXQQFmuINN45LHBJhfhqHrAsxw1zu47vUT3lve0+qPc1R/Lnt9X9dff73Nmzdv8D/dddddNn/+/MHHO06ZMmXwuarVH26aNGlSyx8hl9d3AWa47x3u9+Njfvvd32F4dMxw/7pMeO9fT3lECCCAAAIIIIAAAj0VILz3tLE8LAQQQAABBBBAAIH+CRDe+9dTHhECCCCAAAIIIIBATwUI7z1tLA8LAQQQQAABBBBAoH8ChPf+9ZRHhAACCCCAAAIIINBTAcJ7TxvLw0IAAQQQQAABBBDonwDhvX895REhgAACCCCAAAII9FSA8N7TxvKwEEAAAQQQQAABBPonQHjvX095RAgggAACCCCAAAI9FSC897SxPCwEEEAAAQQQQACB/gkQ3vvXUx4RAggggAACCCCAQE8FCO89bSwPCwEEEEAAAQQQQKB/AoT3/vWUR4QAAggggAACCCDQUwHCe08by8NCAAEEEEAAAQQQ6J8A4b1/PeURIYAAAggggAACCPRUgPDe08bysBBAAAEEEEAAAQT6J0B4719PeUQIIIAAAggggAACPRUgvPe0sTwsBBBAAAEEEEAAgf4JEN7711MeEQIIIIAAAggggEBPBQjvPW0sDwsBBBBAAAEEEECgfwKE9/71lEeEAAIIIIAAAggg0FMBwntPG8vDQgABBBBAAAEEEOifAOG9fz3lESGAAAIIIIAAAgj0VIDw3tPG8rAQQAABBBBAAAEE+idAeO9fT3lECCCAAAIIIIAAAj0VILz3tLE8LAQQQAABBBBAAIH+CRDe+9dTHhECCCCAAAIIIIBATwUI7z1tLA8LAQQQQAABBBBAoH8ChPf+9ZRHhAACCCCAAAIIINBTAcJ7TxvLw0IAAQQQQAABBBDonwDhvX895REhgAACCCCAAAII9FSA8N7TxvKwEEAAAQQQQAABBPonQHjvX095RAgggAACCCCAAAI9FSC897SxPCwEEEAAAQQQQACB/gn8PzTA2S0dEtJyAAAAAElFTkSuQmCC\" width=\"682.7272579295579\">"
      ],
      "text/plain": [
       "<IPython.core.display.HTML object>"
      ]
     },
     "metadata": {},
     "output_type": "display_data"
    }
   ],
   "source": [
    "plt.figure()\n",
    "plt.errorbar(\n",
    "    mus_to_test, \n",
    "    [psnr_gains[0] for psnr_gains in metrics], \n",
    "    [psnr_gains[1] for psnr_gains in metrics], \n",
    "    linestyle='None', \n",
    "    marker='o',\n",
    ")\n",
    "plt.axhline(0, color='C3')\n",
    "plt.xscale('log')"
   ]
  },
  {
   "cell_type": "code",
   "execution_count": 54,
   "metadata": {},
   "outputs": [],
   "source": [
    "mus_to_test = np.logspace(-6.5, -5.5, 7)"
   ]
  },
  {
   "cell_type": "code",
   "execution_count": 55,
   "metadata": {
    "scrolled": true
   },
   "outputs": [
    {
     "name": "stderr",
     "output_type": "stream",
     "text": [
      "/volatile/home/Zaccharie/workspace/fastmri-reproducible-benchmark/venv/lib/python3.6/site-packages/ipykernel_launcher.py:2: TqdmDeprecationWarning: This function will be removed in tqdm==5.0.0\n",
      "Please use `tqdm.notebook.tqdm` instead of `tqdm.tqdm_notebook`\n",
      "  \n"
     ]
    },
    {
     "data": {
      "application/vnd.jupyter.widget-view+json": {
       "model_id": "a706e9edebd24eedb20c53b9682c3f05",
       "version_major": 2,
       "version_minor": 0
      },
      "text/plain": [
       "HBox(children=(FloatProgress(value=0.0, description='mus', max=7.0, style=ProgressStyle(description_width='ini…"
      ]
     },
     "metadata": {},
     "output_type": "display_data"
    },
    {
     "name": "stderr",
     "output_type": "stream",
     "text": [
      "/volatile/home/Zaccharie/workspace/fastmri-reproducible-benchmark/venv/lib/python3.6/site-packages/ipykernel_launcher.py:6: TqdmDeprecationWarning: This function will be removed in tqdm==5.0.0\n",
      "Please use `tqdm.notebook.tqdm` instead of `tqdm.tqdm_notebook`\n",
      "  \n"
     ]
    },
    {
     "data": {
      "application/vnd.jupyter.widget-view+json": {
       "model_id": "c8b6807eab93447fa11d834194e57bbd",
       "version_major": 2,
       "version_minor": 0
      },
      "text/plain": [
       "HBox(children=(FloatProgress(value=0.0, description='K-spaces', max=24.0, style=ProgressStyle(description_widt…"
      ]
     },
     "metadata": {},
     "output_type": "display_data"
    },
    {
     "name": "stderr",
     "output_type": "stream",
     "text": [
      "/volatile/home/Zaccharie/workspace/fastmri-reproducible-benchmark/fastmri_recon/data/data_utils.py:18: H5pyDeprecationWarning: The default file mode will change to 'r' (read-only) in h5py 3.0. To suppress this warning, pass the mode you need to h5py.File(), or set the global default h5.get_config().default_file_mode, or set the environment variable H5PY_DEFAULT_READONLY=1. Available modes are: 'r', 'r+', 'w', 'w-'/'x', 'a'. See the docs for details.\n",
      "  with h5py.File(filename) as h5_obj:\n",
      "/volatile/home/Zaccharie/workspace/fastmri-reproducible-benchmark/venv/lib/python3.6/site-packages/mri/reconstruct/utils.py:74: FutureWarning: Using a non-tuple sequence for multidimensional indexing is deprecated; use `arr[tuple(seq)]` instead of `arr[seq]`. In the future this will be interpreted as an array index, `arr[np.array(seq)]`, which will result either in an error or a different result.\n",
      "  mask[test] = 1\n",
      "\u001b[33mWARNING\u001b[0m: Making input data immutable.\n"
     ]
    },
    {
     "name": "stdout",
     "output_type": "stream",
     "text": [
      "\n",
      "  _____             ____     _____      _\n",
      " |\" ___|    ___    / __\"| u |_ \" _| U  /\"\\  u\n",
      "U| |_  u   |_\"_|  <\\___ \\/    | |    \\/ _ \\/\n",
      "\\|  _|/     | |    u___) |   /| |\\   / ___ \\\\\n",
      " |_|      U/| |\\u  |____/>> u |_|U  /_/   \\_\\\\\n",
      " )(\\\\\\,-.-,_|___|_,-.)(  (__)_// \\\\\\_  \\\\\\    >>\n",
      "(__)(_/ \\_)-' '-(_/(__)    (__) (__)(__)  (__)\n",
      "    \n",
      " - mu:  1e-10\n",
      " - lipschitz constant:  1.0999999999999774\n",
      " - data:  (640, 368)\n",
      " - wavelet:  <mri.reconstruct.linear.WaveletN object at 0x7fa415738780> - 4\n",
      " - max iterations:  200\n",
      " - image variable shape:  (640, 368)\n",
      " - alpha variable shape:  (235520,)\n",
      "----------------------------------------\n",
      "Starting optimization...\n"
     ]
    },
    {
     "name": "stderr",
     "output_type": "stream",
     "text": [
      "100% (200 of 200) |######################| Elapsed Time: 0:00:50 Time:  0:00:50\n"
     ]
    },
    {
     "name": "stdout",
     "output_type": "stream",
     "text": [
      " - final iteration number:  200\n",
      " - final log10 cost value:  -5.129166774908001\n",
      " - converged:  True\n",
      "Done.\n",
      "Execution time:  1604.404189000008  seconds\n",
      "----------------------------------------\n"
     ]
    },
    {
     "name": "stderr",
     "output_type": "stream",
     "text": [
      "\u001b[33mWARNING\u001b[0m: Making input data immutable.\n"
     ]
    },
    {
     "name": "stdout",
     "output_type": "stream",
     "text": [
      "\n",
      "  _____             ____     _____      _\n",
      " |\" ___|    ___    / __\"| u |_ \" _| U  /\"\\  u\n",
      "U| |_  u   |_\"_|  <\\___ \\/    | |    \\/ _ \\/\n",
      "\\|  _|/     | |    u___) |   /| |\\   / ___ \\\\\n",
      " |_|      U/| |\\u  |____/>> u |_|U  /_/   \\_\\\\\n",
      " )(\\\\\\,-.-,_|___|_,-.)(  (__)_// \\\\\\_  \\\\\\    >>\n",
      "(__)(_/ \\_)-' '-(_/(__)    (__) (__)(__)  (__)\n",
      "    \n",
      " - mu:  1e-10\n",
      " - lipschitz constant:  1.0999999999999854\n",
      " - data:  (640, 372)\n",
      " - wavelet:  <mri.reconstruct.linear.WaveletN object at 0x7fa415738470> - 4\n",
      " - max iterations:  200\n",
      " - image variable shape:  (640, 372)\n",
      " - alpha variable shape:  (238320,)\n",
      "----------------------------------------\n",
      "Starting optimization...\n"
     ]
    },
    {
     "name": "stderr",
     "output_type": "stream",
     "text": [
      "100% (200 of 200) |######################| Elapsed Time: 0:00:52 Time:  0:00:52\n"
     ]
    },
    {
     "name": "stdout",
     "output_type": "stream",
     "text": [
      " - final iteration number:  200\n",
      " - final log10 cost value:  -6.418936831273035\n",
      " - converged:  True\n",
      "Done.\n",
      "Execution time:  1556.348484000002  seconds\n",
      "----------------------------------------\n"
     ]
    },
    {
     "name": "stderr",
     "output_type": "stream",
     "text": [
      "\u001b[33mWARNING\u001b[0m: Making input data immutable.\n"
     ]
    },
    {
     "name": "stdout",
     "output_type": "stream",
     "text": [
      "\n",
      "  _____             ____     _____      _\n",
      " |\" ___|    ___    / __\"| u |_ \" _| U  /\"\\  u\n",
      "U| |_  u   |_\"_|  <\\___ \\/    | |    \\/ _ \\/\n",
      "\\|  _|/     | |    u___) |   /| |\\   / ___ \\\\\n",
      " |_|      U/| |\\u  |____/>> u |_|U  /_/   \\_\\\\\n",
      " )(\\\\\\,-.-,_|___|_,-.)(  (__)_// \\\\\\_  \\\\\\    >>\n",
      "(__)(_/ \\_)-' '-(_/(__)    (__) (__)(__)  (__)\n",
      "    \n",
      " - mu:  1e-10\n",
      " - lipschitz constant:  1.1000000000000307\n",
      " - data:  (640, 368)\n",
      " - wavelet:  <mri.reconstruct.linear.WaveletN object at 0x7fa415738358> - 4\n",
      " - max iterations:  200\n",
      " - image variable shape:  (640, 368)\n",
      " - alpha variable shape:  (235520,)\n",
      "----------------------------------------\n",
      "Starting optimization...\n"
     ]
    },
    {
     "name": "stderr",
     "output_type": "stream",
     "text": [
      "100% (200 of 200) |######################| Elapsed Time: 0:00:51 Time:  0:00:51\n"
     ]
    },
    {
     "name": "stdout",
     "output_type": "stream",
     "text": [
      " - final iteration number:  200\n",
      " - final log10 cost value:  -5.175782095709387\n",
      " - converged:  True\n",
      "Done.\n",
      "Execution time:  1600.4624179999955  seconds\n",
      "----------------------------------------\n"
     ]
    },
    {
     "name": "stderr",
     "output_type": "stream",
     "text": [
      "\u001b[33mWARNING\u001b[0m: Making input data immutable.\n"
     ]
    },
    {
     "name": "stdout",
     "output_type": "stream",
     "text": [
      "\n",
      "  _____             ____     _____      _\n",
      " |\" ___|    ___    / __\"| u |_ \" _| U  /\"\\  u\n",
      "U| |_  u   |_\"_|  <\\___ \\/    | |    \\/ _ \\/\n",
      "\\|  _|/     | |    u___) |   /| |\\   / ___ \\\\\n",
      " |_|      U/| |\\u  |____/>> u |_|U  /_/   \\_\\\\\n",
      " )(\\\\\\,-.-,_|___|_,-.)(  (__)_// \\\\\\_  \\\\\\    >>\n",
      "(__)(_/ \\_)-' '-(_/(__)    (__) (__)(__)  (__)\n",
      "    \n",
      " - mu:  1e-10\n",
      " - lipschitz constant:  1.1000000000000216\n",
      " - data:  (640, 338)\n",
      " - wavelet:  <mri.reconstruct.linear.WaveletN object at 0x7fa415738be0> - 4\n",
      " - max iterations:  200\n",
      " - image variable shape:  (640, 338)\n",
      " - alpha variable shape:  (216880,)\n",
      "----------------------------------------\n",
      "Starting optimization...\n"
     ]
    },
    {
     "name": "stderr",
     "output_type": "stream",
     "text": [
      "100% (200 of 200) |######################| Elapsed Time: 0:00:48 Time:  0:00:48\n"
     ]
    },
    {
     "name": "stdout",
     "output_type": "stream",
     "text": [
      " - final iteration number:  200\n",
      " - final log10 cost value:  -6.12450223235385\n",
      " - converged:  True\n",
      "Done.\n",
      "Execution time:  1610.3389529999986  seconds\n",
      "----------------------------------------\n"
     ]
    },
    {
     "name": "stderr",
     "output_type": "stream",
     "text": [
      "\u001b[33mWARNING\u001b[0m: Making input data immutable.\n"
     ]
    },
    {
     "name": "stdout",
     "output_type": "stream",
     "text": [
      "\n",
      "  _____             ____     _____      _\n",
      " |\" ___|    ___    / __\"| u |_ \" _| U  /\"\\  u\n",
      "U| |_  u   |_\"_|  <\\___ \\/    | |    \\/ _ \\/\n",
      "\\|  _|/     | |    u___) |   /| |\\   / ___ \\\\\n",
      " |_|      U/| |\\u  |____/>> u |_|U  /_/   \\_\\\\\n",
      " )(\\\\\\,-.-,_|___|_,-.)(  (__)_// \\\\\\_  \\\\\\    >>\n",
      "(__)(_/ \\_)-' '-(_/(__)    (__) (__)(__)  (__)\n",
      "    \n",
      " - mu:  1e-10\n",
      " - lipschitz constant:  1.1000000000000878\n",
      " - data:  (640, 368)\n",
      " - wavelet:  <mri.reconstruct.linear.WaveletN object at 0x7fa41578ec88> - 4\n",
      " - max iterations:  200\n",
      " - image variable shape:  (640, 368)\n",
      " - alpha variable shape:  (235520,)\n",
      "----------------------------------------\n",
      "Starting optimization...\n"
     ]
    },
    {
     "name": "stderr",
     "output_type": "stream",
     "text": [
      "100% (200 of 200) |######################| Elapsed Time: 0:00:50 Time:  0:00:50\n"
     ]
    },
    {
     "name": "stdout",
     "output_type": "stream",
     "text": [
      " - final iteration number:  200\n",
      " - final log10 cost value:  -5.4349043533584265\n",
      " - converged:  True\n",
      "Done.\n",
      "Execution time:  1644.1018040000054  seconds\n",
      "----------------------------------------\n"
     ]
    },
    {
     "name": "stderr",
     "output_type": "stream",
     "text": [
      "\u001b[33mWARNING\u001b[0m: Making input data immutable.\n"
     ]
    },
    {
     "name": "stdout",
     "output_type": "stream",
     "text": [
      "\n",
      "  _____             ____     _____      _\n",
      " |\" ___|    ___    / __\"| u |_ \" _| U  /\"\\  u\n",
      "U| |_  u   |_\"_|  <\\___ \\/    | |    \\/ _ \\/\n",
      "\\|  _|/     | |    u___) |   /| |\\   / ___ \\\\\n",
      " |_|      U/| |\\u  |____/>> u |_|U  /_/   \\_\\\\\n",
      " )(\\\\\\,-.-,_|___|_,-.)(  (__)_// \\\\\\_  \\\\\\    >>\n",
      "(__)(_/ \\_)-' '-(_/(__)    (__) (__)(__)  (__)\n",
      "    \n",
      " - mu:  1e-10\n",
      " - lipschitz constant:  1.1000000000000303\n",
      " - data:  (640, 372)\n",
      " - wavelet:  <mri.reconstruct.linear.WaveletN object at 0x7fa41578ebe0> - 4\n",
      " - max iterations:  200\n",
      " - image variable shape:  (640, 372)\n",
      " - alpha variable shape:  (238320,)\n",
      "----------------------------------------\n",
      "Starting optimization...\n"
     ]
    },
    {
     "name": "stderr",
     "output_type": "stream",
     "text": [
      "100% (200 of 200) |######################| Elapsed Time: 0:00:51 Time:  0:00:51\n"
     ]
    },
    {
     "name": "stdout",
     "output_type": "stream",
     "text": [
      " - final iteration number:  200\n",
      " - final log10 cost value:  -6.5467727080736875\n",
      " - converged:  True\n",
      "Done.\n",
      "Execution time:  1670.9342869999964  seconds\n",
      "----------------------------------------\n"
     ]
    },
    {
     "name": "stderr",
     "output_type": "stream",
     "text": [
      "\u001b[33mWARNING\u001b[0m: Making input data immutable.\n"
     ]
    },
    {
     "name": "stdout",
     "output_type": "stream",
     "text": [
      "\n",
      "  _____             ____     _____      _\n",
      " |\" ___|    ___    / __\"| u |_ \" _| U  /\"\\  u\n",
      "U| |_  u   |_\"_|  <\\___ \\/    | |    \\/ _ \\/\n",
      "\\|  _|/     | |    u___) |   /| |\\   / ___ \\\\\n",
      " |_|      U/| |\\u  |____/>> u |_|U  /_/   \\_\\\\\n",
      " )(\\\\\\,-.-,_|___|_,-.)(  (__)_// \\\\\\_  \\\\\\    >>\n",
      "(__)(_/ \\_)-' '-(_/(__)    (__) (__)(__)  (__)\n",
      "    \n",
      " - mu:  1e-10\n",
      " - lipschitz constant:  1.099999999999974\n",
      " - data:  (640, 372)\n",
      " - wavelet:  <mri.reconstruct.linear.WaveletN object at 0x7fa415738be0> - 4\n",
      " - max iterations:  200\n",
      " - image variable shape:  (640, 372)\n",
      " - alpha variable shape:  (238320,)\n",
      "----------------------------------------\n",
      "Starting optimization...\n"
     ]
    },
    {
     "name": "stderr",
     "output_type": "stream",
     "text": [
      "100% (200 of 200) |######################| Elapsed Time: 0:00:52 Time:  0:00:52\n"
     ]
    },
    {
     "name": "stdout",
     "output_type": "stream",
     "text": [
      " - final iteration number:  200\n",
      " - final log10 cost value:  -6.276227700315011\n",
      " - converged:  True\n",
      "Done.\n",
      "Execution time:  1680.9568870000076  seconds\n",
      "----------------------------------------\n"
     ]
    },
    {
     "name": "stderr",
     "output_type": "stream",
     "text": [
      "\u001b[33mWARNING\u001b[0m: Making input data immutable.\n"
     ]
    },
    {
     "name": "stdout",
     "output_type": "stream",
     "text": [
      "\n",
      "  _____             ____     _____      _\n",
      " |\" ___|    ___    / __\"| u |_ \" _| U  /\"\\  u\n",
      "U| |_  u   |_\"_|  <\\___ \\/    | |    \\/ _ \\/\n",
      "\\|  _|/     | |    u___) |   /| |\\   / ___ \\\\\n",
      " |_|      U/| |\\u  |____/>> u |_|U  /_/   \\_\\\\\n",
      " )(\\\\\\,-.-,_|___|_,-.)(  (__)_// \\\\\\_  \\\\\\    >>\n",
      "(__)(_/ \\_)-' '-(_/(__)    (__) (__)(__)  (__)\n",
      "    \n",
      " - mu:  1e-10\n",
      " - lipschitz constant:  1.100000000000089\n",
      " - data:  (640, 368)\n",
      " - wavelet:  <mri.reconstruct.linear.WaveletN object at 0x7fa41578e630> - 4\n",
      " - max iterations:  200\n",
      " - image variable shape:  (640, 368)\n",
      " - alpha variable shape:  (235520,)\n",
      "----------------------------------------\n",
      "Starting optimization...\n"
     ]
    },
    {
     "name": "stderr",
     "output_type": "stream",
     "text": [
      "100% (200 of 200) |######################| Elapsed Time: 0:00:50 Time:  0:00:50\n"
     ]
    },
    {
     "name": "stdout",
     "output_type": "stream",
     "text": [
      " - final iteration number:  200\n",
      " - final log10 cost value:  -5.364504777813146\n",
      " - converged:  True\n",
      "Done.\n",
      "Execution time:  1642.4891770000104  seconds\n",
      "----------------------------------------\n"
     ]
    },
    {
     "name": "stderr",
     "output_type": "stream",
     "text": [
      "\u001b[33mWARNING\u001b[0m: Making input data immutable.\n"
     ]
    },
    {
     "name": "stdout",
     "output_type": "stream",
     "text": [
      "\n",
      "  _____             ____     _____      _\n",
      " |\" ___|    ___    / __\"| u |_ \" _| U  /\"\\  u\n",
      "U| |_  u   |_\"_|  <\\___ \\/    | |    \\/ _ \\/\n",
      "\\|  _|/     | |    u___) |   /| |\\   / ___ \\\\\n",
      " |_|      U/| |\\u  |____/>> u |_|U  /_/   \\_\\\\\n",
      " )(\\\\\\,-.-,_|___|_,-.)(  (__)_// \\\\\\_  \\\\\\    >>\n",
      "(__)(_/ \\_)-' '-(_/(__)    (__) (__)(__)  (__)\n",
      "    \n",
      " - mu:  1e-10\n",
      " - lipschitz constant:  1.099999999999977\n",
      " - data:  (640, 372)\n",
      " - wavelet:  <mri.reconstruct.linear.WaveletN object at 0x7fa41578ed30> - 4\n",
      " - max iterations:  200\n",
      " - image variable shape:  (640, 372)\n",
      " - alpha variable shape:  (238320,)\n",
      "----------------------------------------\n",
      "Starting optimization...\n"
     ]
    },
    {
     "name": "stderr",
     "output_type": "stream",
     "text": [
      "100% (200 of 200) |######################| Elapsed Time: 0:00:51 Time:  0:00:51\n"
     ]
    },
    {
     "name": "stdout",
     "output_type": "stream",
     "text": [
      " - final iteration number:  200\n",
      " - final log10 cost value:  -6.471197495286625\n",
      " - converged:  True\n",
      "Done.\n",
      "Execution time:  1679.9251610000065  seconds\n",
      "----------------------------------------\n"
     ]
    },
    {
     "name": "stderr",
     "output_type": "stream",
     "text": [
      "\u001b[33mWARNING\u001b[0m: Making input data immutable.\n"
     ]
    },
    {
     "name": "stdout",
     "output_type": "stream",
     "text": [
      "\n",
      "  _____             ____     _____      _\n",
      " |\" ___|    ___    / __\"| u |_ \" _| U  /\"\\  u\n",
      "U| |_  u   |_\"_|  <\\___ \\/    | |    \\/ _ \\/\n",
      "\\|  _|/     | |    u___) |   /| |\\   / ___ \\\\\n",
      " |_|      U/| |\\u  |____/>> u |_|U  /_/   \\_\\\\\n",
      " )(\\\\\\,-.-,_|___|_,-.)(  (__)_// \\\\\\_  \\\\\\    >>\n",
      "(__)(_/ \\_)-' '-(_/(__)    (__) (__)(__)  (__)\n",
      "    \n",
      " - mu:  1e-10\n",
      " - lipschitz constant:  1.100000000000085\n",
      " - data:  (640, 368)\n",
      " - wavelet:  <mri.reconstruct.linear.WaveletN object at 0x7fa41578e860> - 4\n",
      " - max iterations:  200\n",
      " - image variable shape:  (640, 368)\n",
      " - alpha variable shape:  (235520,)\n",
      "----------------------------------------\n",
      "Starting optimization...\n"
     ]
    },
    {
     "name": "stderr",
     "output_type": "stream",
     "text": [
      "100% (200 of 200) |######################| Elapsed Time: 0:00:50 Time:  0:00:50\n"
     ]
    },
    {
     "name": "stdout",
     "output_type": "stream",
     "text": [
      " - final iteration number:  200\n",
      " - final log10 cost value:  -5.3912519208579806\n",
      " - converged:  True\n",
      "Done.\n",
      "Execution time:  1644.2491330000048  seconds\n",
      "----------------------------------------\n"
     ]
    },
    {
     "name": "stderr",
     "output_type": "stream",
     "text": [
      "\u001b[33mWARNING\u001b[0m: Making input data immutable.\n"
     ]
    },
    {
     "name": "stdout",
     "output_type": "stream",
     "text": [
      "\n",
      "  _____             ____     _____      _\n",
      " |\" ___|    ___    / __\"| u |_ \" _| U  /\"\\  u\n",
      "U| |_  u   |_\"_|  <\\___ \\/    | |    \\/ _ \\/\n",
      "\\|  _|/     | |    u___) |   /| |\\   / ___ \\\\\n",
      " |_|      U/| |\\u  |____/>> u |_|U  /_/   \\_\\\\\n",
      " )(\\\\\\,-.-,_|___|_,-.)(  (__)_// \\\\\\_  \\\\\\    >>\n",
      "(__)(_/ \\_)-' '-(_/(__)    (__) (__)(__)  (__)\n",
      "    \n",
      " - mu:  1e-10\n",
      " - lipschitz constant:  1.1000000000000845\n",
      " - data:  (640, 372)\n",
      " - wavelet:  <mri.reconstruct.linear.WaveletN object at 0x7fa415760ef0> - 4\n",
      " - max iterations:  200\n",
      " - image variable shape:  (640, 372)\n",
      " - alpha variable shape:  (238320,)\n",
      "----------------------------------------\n",
      "Starting optimization...\n"
     ]
    },
    {
     "name": "stderr",
     "output_type": "stream",
     "text": [
      "100% (200 of 200) |######################| Elapsed Time: 0:00:52 Time:  0:00:52\n"
     ]
    },
    {
     "name": "stdout",
     "output_type": "stream",
     "text": [
      " - final iteration number:  200\n",
      " - final log10 cost value:  -6.1479384899800475\n",
      " - converged:  True\n",
      "Done.\n",
      "Execution time:  1677.750469000006  seconds\n",
      "----------------------------------------\n"
     ]
    },
    {
     "name": "stderr",
     "output_type": "stream",
     "text": [
      "\u001b[33mWARNING\u001b[0m: Making input data immutable.\n"
     ]
    },
    {
     "name": "stdout",
     "output_type": "stream",
     "text": [
      "\n",
      "  _____             ____     _____      _\n",
      " |\" ___|    ___    / __\"| u |_ \" _| U  /\"\\  u\n",
      "U| |_  u   |_\"_|  <\\___ \\/    | |    \\/ _ \\/\n",
      "\\|  _|/     | |    u___) |   /| |\\   / ___ \\\\\n",
      " |_|      U/| |\\u  |____/>> u |_|U  /_/   \\_\\\\\n",
      " )(\\\\\\,-.-,_|___|_,-.)(  (__)_// \\\\\\_  \\\\\\    >>\n",
      "(__)(_/ \\_)-' '-(_/(__)    (__) (__)(__)  (__)\n",
      "    \n",
      " - mu:  1e-10\n",
      " - lipschitz constant:  1.1000000000000694\n",
      " - data:  (640, 372)\n",
      " - wavelet:  <mri.reconstruct.linear.WaveletN object at 0x7fa415760320> - 4\n",
      " - max iterations:  200\n",
      " - image variable shape:  (640, 372)\n",
      " - alpha variable shape:  (238320,)\n",
      "----------------------------------------\n",
      "Starting optimization...\n"
     ]
    },
    {
     "name": "stderr",
     "output_type": "stream",
     "text": [
      "100% (200 of 200) |######################| Elapsed Time: 0:00:51 Time:  0:00:51\n"
     ]
    },
    {
     "name": "stdout",
     "output_type": "stream",
     "text": [
      " - final iteration number:  200\n",
      " - final log10 cost value:  -6.289961427742488\n",
      " - converged:  True\n",
      "Done.\n",
      "Execution time:  1671.3306490000105  seconds\n",
      "----------------------------------------\n"
     ]
    },
    {
     "name": "stderr",
     "output_type": "stream",
     "text": [
      "\u001b[33mWARNING\u001b[0m: Making input data immutable.\n"
     ]
    },
    {
     "name": "stdout",
     "output_type": "stream",
     "text": [
      "\n",
      "  _____             ____     _____      _\n",
      " |\" ___|    ___    / __\"| u |_ \" _| U  /\"\\  u\n",
      "U| |_  u   |_\"_|  <\\___ \\/    | |    \\/ _ \\/\n",
      "\\|  _|/     | |    u___) |   /| |\\   / ___ \\\\\n",
      " |_|      U/| |\\u  |____/>> u |_|U  /_/   \\_\\\\\n",
      " )(\\\\\\,-.-,_|___|_,-.)(  (__)_// \\\\\\_  \\\\\\    >>\n",
      "(__)(_/ \\_)-' '-(_/(__)    (__) (__)(__)  (__)\n",
      "    \n",
      " - mu:  1e-10\n",
      " - lipschitz constant:  1.1000000000000292\n",
      " - data:  (640, 372)\n",
      " - wavelet:  <mri.reconstruct.linear.WaveletN object at 0x7fa415738f28> - 4\n",
      " - max iterations:  200\n",
      " - image variable shape:  (640, 372)\n",
      " - alpha variable shape:  (238320,)\n",
      "----------------------------------------\n",
      "Starting optimization...\n"
     ]
    },
    {
     "name": "stderr",
     "output_type": "stream",
     "text": [
      "100% (200 of 200) |######################| Elapsed Time: 0:00:52 Time:  0:00:52\n"
     ]
    },
    {
     "name": "stdout",
     "output_type": "stream",
     "text": [
      " - final iteration number:  200\n",
      " - final log10 cost value:  -6.4303912926666955\n",
      " - converged:  True\n",
      "Done.\n",
      "Execution time:  1680.4874300000083  seconds\n",
      "----------------------------------------\n"
     ]
    },
    {
     "name": "stderr",
     "output_type": "stream",
     "text": [
      "\u001b[33mWARNING\u001b[0m: Making input data immutable.\n"
     ]
    },
    {
     "name": "stdout",
     "output_type": "stream",
     "text": [
      "\n",
      "  _____             ____     _____      _\n",
      " |\" ___|    ___    / __\"| u |_ \" _| U  /\"\\  u\n",
      "U| |_  u   |_\"_|  <\\___ \\/    | |    \\/ _ \\/\n",
      "\\|  _|/     | |    u___) |   /| |\\   / ___ \\\\\n",
      " |_|      U/| |\\u  |____/>> u |_|U  /_/   \\_\\\\\n",
      " )(\\\\\\,-.-,_|___|_,-.)(  (__)_// \\\\\\_  \\\\\\    >>\n",
      "(__)(_/ \\_)-' '-(_/(__)    (__) (__)(__)  (__)\n",
      "    \n",
      " - mu:  1e-10\n",
      " - lipschitz constant:  1.1000000000000734\n",
      " - data:  (640, 368)\n",
      " - wavelet:  <mri.reconstruct.linear.WaveletN object at 0x7fa415760c18> - 4\n",
      " - max iterations:  200\n",
      " - image variable shape:  (640, 368)\n",
      " - alpha variable shape:  (235520,)\n",
      "----------------------------------------\n",
      "Starting optimization...\n"
     ]
    },
    {
     "name": "stderr",
     "output_type": "stream",
     "text": [
      "100% (200 of 200) |######################| Elapsed Time: 0:00:50 Time:  0:00:50\n"
     ]
    },
    {
     "name": "stdout",
     "output_type": "stream",
     "text": [
      " - final iteration number:  200\n",
      " - final log10 cost value:  -5.373431815844556\n",
      " - converged:  True\n",
      "Done.\n",
      "Execution time:  1644.9911970000103  seconds\n",
      "----------------------------------------\n"
     ]
    },
    {
     "name": "stderr",
     "output_type": "stream",
     "text": [
      "\u001b[33mWARNING\u001b[0m: Making input data immutable.\n"
     ]
    },
    {
     "name": "stdout",
     "output_type": "stream",
     "text": [
      "\n",
      "  _____             ____     _____      _\n",
      " |\" ___|    ___    / __\"| u |_ \" _| U  /\"\\  u\n",
      "U| |_  u   |_\"_|  <\\___ \\/    | |    \\/ _ \\/\n",
      "\\|  _|/     | |    u___) |   /| |\\   / ___ \\\\\n",
      " |_|      U/| |\\u  |____/>> u |_|U  /_/   \\_\\\\\n",
      " )(\\\\\\,-.-,_|___|_,-.)(  (__)_// \\\\\\_  \\\\\\    >>\n",
      "(__)(_/ \\_)-' '-(_/(__)    (__) (__)(__)  (__)\n",
      "    \n",
      " - mu:  1e-10\n",
      " - lipschitz constant:  1.099999999999977\n",
      " - data:  (640, 372)\n",
      " - wavelet:  <mri.reconstruct.linear.WaveletN object at 0x7fa4157602e8> - 4\n",
      " - max iterations:  200\n",
      " - image variable shape:  (640, 372)\n",
      " - alpha variable shape:  (238320,)\n",
      "----------------------------------------\n",
      "Starting optimization...\n"
     ]
    },
    {
     "name": "stderr",
     "output_type": "stream",
     "text": [
      "100% (200 of 200) |######################| Elapsed Time: 0:00:52 Time:  0:00:52\n"
     ]
    },
    {
     "name": "stdout",
     "output_type": "stream",
     "text": [
      " - final iteration number:  200\n",
      " - final log10 cost value:  -6.45388146050302\n",
      " - converged:  True\n",
      "Done.\n",
      "Execution time:  1652.7812750000012  seconds\n",
      "----------------------------------------\n"
     ]
    },
    {
     "name": "stderr",
     "output_type": "stream",
     "text": [
      "\u001b[33mWARNING\u001b[0m: Making input data immutable.\n"
     ]
    },
    {
     "name": "stdout",
     "output_type": "stream",
     "text": [
      "\n",
      "  _____             ____     _____      _\n",
      " |\" ___|    ___    / __\"| u |_ \" _| U  /\"\\  u\n",
      "U| |_  u   |_\"_|  <\\___ \\/    | |    \\/ _ \\/\n",
      "\\|  _|/     | |    u___) |   /| |\\   / ___ \\\\\n",
      " |_|      U/| |\\u  |____/>> u |_|U  /_/   \\_\\\\\n",
      " )(\\\\\\,-.-,_|___|_,-.)(  (__)_// \\\\\\_  \\\\\\    >>\n",
      "(__)(_/ \\_)-' '-(_/(__)    (__) (__)(__)  (__)\n",
      "    \n",
      " - mu:  1e-10\n",
      " - lipschitz constant:  1.1000000000000822\n",
      " - data:  (640, 372)\n",
      " - wavelet:  <mri.reconstruct.linear.WaveletN object at 0x7fa41578e630> - 4\n",
      " - max iterations:  200\n",
      " - image variable shape:  (640, 372)\n",
      " - alpha variable shape:  (238320,)\n",
      "----------------------------------------\n",
      "Starting optimization...\n"
     ]
    },
    {
     "name": "stderr",
     "output_type": "stream",
     "text": [
      "100% (200 of 200) |######################| Elapsed Time: 0:00:53 Time:  0:00:53\n"
     ]
    },
    {
     "name": "stdout",
     "output_type": "stream",
     "text": [
      " - final iteration number:  200\n",
      " - final log10 cost value:  -6.359165348174548\n",
      " - converged:  True\n",
      "Done.\n",
      "Execution time:  1605.553031000003  seconds\n",
      "----------------------------------------\n"
     ]
    },
    {
     "name": "stderr",
     "output_type": "stream",
     "text": [
      "\u001b[33mWARNING\u001b[0m: Making input data immutable.\n"
     ]
    },
    {
     "name": "stdout",
     "output_type": "stream",
     "text": [
      "\n",
      "  _____             ____     _____      _\n",
      " |\" ___|    ___    / __\"| u |_ \" _| U  /\"\\  u\n",
      "U| |_  u   |_\"_|  <\\___ \\/    | |    \\/ _ \\/\n",
      "\\|  _|/     | |    u___) |   /| |\\   / ___ \\\\\n",
      " |_|      U/| |\\u  |____/>> u |_|U  /_/   \\_\\\\\n",
      " )(\\\\\\,-.-,_|___|_,-.)(  (__)_// \\\\\\_  \\\\\\    >>\n",
      "(__)(_/ \\_)-' '-(_/(__)    (__) (__)(__)  (__)\n",
      "    \n",
      " - mu:  1e-10\n",
      " - lipschitz constant:  1.10000000000007\n",
      " - data:  (640, 372)\n",
      " - wavelet:  <mri.reconstruct.linear.WaveletN object at 0x7fa41578e860> - 4\n",
      " - max iterations:  200\n",
      " - image variable shape:  (640, 372)\n",
      " - alpha variable shape:  (238320,)\n",
      "----------------------------------------\n",
      "Starting optimization...\n"
     ]
    },
    {
     "name": "stderr",
     "output_type": "stream",
     "text": [
      "100% (200 of 200) |######################| Elapsed Time: 0:00:53 Time:  0:00:53\n"
     ]
    },
    {
     "name": "stdout",
     "output_type": "stream",
     "text": [
      " - final iteration number:  200\n",
      " - final log10 cost value:  -6.395988665477855\n",
      " - converged:  True\n",
      "Done.\n",
      "Execution time:  1571.0063910000026  seconds\n",
      "----------------------------------------\n"
     ]
    },
    {
     "name": "stderr",
     "output_type": "stream",
     "text": [
      "\u001b[33mWARNING\u001b[0m: Making input data immutable.\n"
     ]
    },
    {
     "name": "stdout",
     "output_type": "stream",
     "text": [
      "\n",
      "  _____             ____     _____      _\n",
      " |\" ___|    ___    / __\"| u |_ \" _| U  /\"\\  u\n",
      "U| |_  u   |_\"_|  <\\___ \\/    | |    \\/ _ \\/\n",
      "\\|  _|/     | |    u___) |   /| |\\   / ___ \\\\\n",
      " |_|      U/| |\\u  |____/>> u |_|U  /_/   \\_\\\\\n",
      " )(\\\\\\,-.-,_|___|_,-.)(  (__)_// \\\\\\_  \\\\\\    >>\n",
      "(__)(_/ \\_)-' '-(_/(__)    (__) (__)(__)  (__)\n",
      "    \n",
      " - mu:  1e-10\n",
      " - lipschitz constant:  1.1000000000000356\n",
      " - data:  (640, 368)\n",
      " - wavelet:  <mri.reconstruct.linear.WaveletN object at 0x7fa415738cf8> - 4\n",
      " - max iterations:  200\n",
      " - image variable shape:  (640, 368)\n",
      " - alpha variable shape:  (235520,)\n",
      "----------------------------------------\n",
      "Starting optimization...\n"
     ]
    },
    {
     "name": "stderr",
     "output_type": "stream",
     "text": [
      "100% (200 of 200) |######################| Elapsed Time: 0:00:51 Time:  0:00:51\n"
     ]
    },
    {
     "name": "stdout",
     "output_type": "stream",
     "text": [
      " - final iteration number:  200\n",
      " - final log10 cost value:  -5.353593210690113\n",
      " - converged:  True\n",
      "Done.\n",
      "Execution time:  1526.273061999993  seconds\n",
      "----------------------------------------\n"
     ]
    },
    {
     "name": "stderr",
     "output_type": "stream",
     "text": [
      "\u001b[33mWARNING\u001b[0m: Making input data immutable.\n"
     ]
    },
    {
     "name": "stdout",
     "output_type": "stream",
     "text": [
      "\n",
      "  _____             ____     _____      _\n",
      " |\" ___|    ___    / __\"| u |_ \" _| U  /\"\\  u\n",
      "U| |_  u   |_\"_|  <\\___ \\/    | |    \\/ _ \\/\n",
      "\\|  _|/     | |    u___) |   /| |\\   / ___ \\\\\n",
      " |_|      U/| |\\u  |____/>> u |_|U  /_/   \\_\\\\\n",
      " )(\\\\\\,-.-,_|___|_,-.)(  (__)_// \\\\\\_  \\\\\\    >>\n",
      "(__)(_/ \\_)-' '-(_/(__)    (__) (__)(__)  (__)\n",
      "    \n",
      " - mu:  1e-10\n",
      " - lipschitz constant:  1.0999999999999794\n",
      " - data:  (640, 372)\n",
      " - wavelet:  <mri.reconstruct.linear.WaveletN object at 0x7fa415766e80> - 4\n",
      " - max iterations:  200\n",
      " - image variable shape:  (640, 372)\n",
      " - alpha variable shape:  (238320,)\n",
      "----------------------------------------\n",
      "Starting optimization...\n"
     ]
    },
    {
     "name": "stderr",
     "output_type": "stream",
     "text": [
      "100% (200 of 200) |######################| Elapsed Time: 0:00:53 Time:  0:00:53\n"
     ]
    },
    {
     "name": "stdout",
     "output_type": "stream",
     "text": [
      " - final iteration number:  200\n",
      " - final log10 cost value:  -6.308658413179068\n",
      " - converged:  True\n",
      "Done.\n",
      "Execution time:  1573.7708620000049  seconds\n",
      "----------------------------------------\n"
     ]
    },
    {
     "name": "stderr",
     "output_type": "stream",
     "text": [
      "\u001b[33mWARNING\u001b[0m: Making input data immutable.\n"
     ]
    },
    {
     "name": "stdout",
     "output_type": "stream",
     "text": [
      "\n",
      "  _____             ____     _____      _\n",
      " |\" ___|    ___    / __\"| u |_ \" _| U  /\"\\  u\n",
      "U| |_  u   |_\"_|  <\\___ \\/    | |    \\/ _ \\/\n",
      "\\|  _|/     | |    u___) |   /| |\\   / ___ \\\\\n",
      " |_|      U/| |\\u  |____/>> u |_|U  /_/   \\_\\\\\n",
      " )(\\\\\\,-.-,_|___|_,-.)(  (__)_// \\\\\\_  \\\\\\    >>\n",
      "(__)(_/ \\_)-' '-(_/(__)    (__) (__)(__)  (__)\n",
      "    \n",
      " - mu:  1e-10\n",
      " - lipschitz constant:  1.1000000000000278\n",
      " - data:  (640, 368)\n",
      " - wavelet:  <mri.reconstruct.linear.WaveletN object at 0x7fa415766b00> - 4\n",
      " - max iterations:  200\n",
      " - image variable shape:  (640, 368)\n",
      " - alpha variable shape:  (235520,)\n",
      "----------------------------------------\n",
      "Starting optimization...\n"
     ]
    },
    {
     "name": "stderr",
     "output_type": "stream",
     "text": [
      "100% (200 of 200) |######################| Elapsed Time: 0:00:51 Time:  0:00:51\n"
     ]
    },
    {
     "name": "stdout",
     "output_type": "stream",
     "text": [
      " - final iteration number:  200\n",
      " - final log10 cost value:  -5.245438671904571\n",
      " - converged:  True\n",
      "Done.\n",
      "Execution time:  1527.0944900000031  seconds\n",
      "----------------------------------------\n"
     ]
    },
    {
     "name": "stderr",
     "output_type": "stream",
     "text": [
      "\u001b[33mWARNING\u001b[0m: Making input data immutable.\n"
     ]
    },
    {
     "name": "stdout",
     "output_type": "stream",
     "text": [
      "\n",
      "  _____             ____     _____      _\n",
      " |\" ___|    ___    / __\"| u |_ \" _| U  /\"\\  u\n",
      "U| |_  u   |_\"_|  <\\___ \\/    | |    \\/ _ \\/\n",
      "\\|  _|/     | |    u___) |   /| |\\   / ___ \\\\\n",
      " |_|      U/| |\\u  |____/>> u |_|U  /_/   \\_\\\\\n",
      " )(\\\\\\,-.-,_|___|_,-.)(  (__)_// \\\\\\_  \\\\\\    >>\n",
      "(__)(_/ \\_)-' '-(_/(__)    (__) (__)(__)  (__)\n",
      "    \n",
      " - mu:  1e-10\n",
      " - lipschitz constant:  1.1000000000000323\n",
      " - data:  (640, 372)\n",
      " - wavelet:  <mri.reconstruct.linear.WaveletN object at 0x7fa415766c88> - 4\n",
      " - max iterations:  200\n",
      " - image variable shape:  (640, 372)\n",
      " - alpha variable shape:  (238320,)\n",
      "----------------------------------------\n",
      "Starting optimization...\n"
     ]
    },
    {
     "name": "stderr",
     "output_type": "stream",
     "text": [
      "100% (200 of 200) |######################| Elapsed Time: 0:00:54 Time:  0:00:54\n"
     ]
    },
    {
     "name": "stdout",
     "output_type": "stream",
     "text": [
      " - final iteration number:  200\n",
      " - final log10 cost value:  -6.369252216028483\n",
      " - converged:  True\n",
      "Done.\n",
      "Execution time:  1609.2352939999982  seconds\n",
      "----------------------------------------\n"
     ]
    },
    {
     "name": "stderr",
     "output_type": "stream",
     "text": [
      "\u001b[33mWARNING\u001b[0m: Making input data immutable.\n"
     ]
    },
    {
     "name": "stdout",
     "output_type": "stream",
     "text": [
      "\n",
      "  _____             ____     _____      _\n",
      " |\" ___|    ___    / __\"| u |_ \" _| U  /\"\\  u\n",
      "U| |_  u   |_\"_|  <\\___ \\/    | |    \\/ _ \\/\n",
      "\\|  _|/     | |    u___) |   /| |\\   / ___ \\\\\n",
      " |_|      U/| |\\u  |____/>> u |_|U  /_/   \\_\\\\\n",
      " )(\\\\\\,-.-,_|___|_,-.)(  (__)_// \\\\\\_  \\\\\\    >>\n",
      "(__)(_/ \\_)-' '-(_/(__)    (__) (__)(__)  (__)\n",
      "    \n",
      " - mu:  1e-10\n",
      " - lipschitz constant:  1.0999999999999808\n",
      " - data:  (640, 368)\n",
      " - wavelet:  <mri.reconstruct.linear.WaveletN object at 0x7fa415766be0> - 4\n",
      " - max iterations:  200\n",
      " - image variable shape:  (640, 368)\n",
      " - alpha variable shape:  (235520,)\n",
      "----------------------------------------\n",
      "Starting optimization...\n"
     ]
    },
    {
     "name": "stderr",
     "output_type": "stream",
     "text": [
      "100% (200 of 200) |######################| Elapsed Time: 0:00:51 Time:  0:00:51\n"
     ]
    },
    {
     "name": "stdout",
     "output_type": "stream",
     "text": [
      " - final iteration number:  200\n",
      " - final log10 cost value:  -5.311845780146264\n",
      " - converged:  True\n",
      "Done.\n",
      "Execution time:  1522.939818999992  seconds\n",
      "----------------------------------------\n"
     ]
    },
    {
     "name": "stderr",
     "output_type": "stream",
     "text": [
      "\u001b[33mWARNING\u001b[0m: Making input data immutable.\n"
     ]
    },
    {
     "name": "stdout",
     "output_type": "stream",
     "text": [
      "\n",
      "  _____             ____     _____      _\n",
      " |\" ___|    ___    / __\"| u |_ \" _| U  /\"\\  u\n",
      "U| |_  u   |_\"_|  <\\___ \\/    | |    \\/ _ \\/\n",
      "\\|  _|/     | |    u___) |   /| |\\   / ___ \\\\\n",
      " |_|      U/| |\\u  |____/>> u |_|U  /_/   \\_\\\\\n",
      " )(\\\\\\,-.-,_|___|_,-.)(  (__)_// \\\\\\_  \\\\\\    >>\n",
      "(__)(_/ \\_)-' '-(_/(__)    (__) (__)(__)  (__)\n",
      "    \n",
      " - mu:  1e-10\n",
      " - lipschitz constant:  1.099999999999975\n",
      " - data:  (640, 372)\n",
      " - wavelet:  <mri.reconstruct.linear.WaveletN object at 0x7fa415766a90> - 4\n",
      " - max iterations:  200\n",
      " - image variable shape:  (640, 372)\n",
      " - alpha variable shape:  (238320,)\n",
      "----------------------------------------\n",
      "Starting optimization...\n"
     ]
    },
    {
     "name": "stderr",
     "output_type": "stream",
     "text": [
      "100% (200 of 200) |######################| Elapsed Time: 0:00:54 Time:  0:00:54\n"
     ]
    },
    {
     "name": "stdout",
     "output_type": "stream",
     "text": [
      " - final iteration number:  200\n",
      " - final log10 cost value:  -6.292623545788726\n",
      " - converged:  True\n",
      "Done.\n",
      "Execution time:  1609.0213039999944  seconds\n",
      "----------------------------------------\n"
     ]
    },
    {
     "name": "stderr",
     "output_type": "stream",
     "text": [
      "\u001b[33mWARNING\u001b[0m: Making input data immutable.\n"
     ]
    },
    {
     "name": "stdout",
     "output_type": "stream",
     "text": [
      "\n",
      "  _____             ____     _____      _\n",
      " |\" ___|    ___    / __\"| u |_ \" _| U  /\"\\  u\n",
      "U| |_  u   |_\"_|  <\\___ \\/    | |    \\/ _ \\/\n",
      "\\|  _|/     | |    u___) |   /| |\\   / ___ \\\\\n",
      " |_|      U/| |\\u  |____/>> u |_|U  /_/   \\_\\\\\n",
      " )(\\\\\\,-.-,_|___|_,-.)(  (__)_// \\\\\\_  \\\\\\    >>\n",
      "(__)(_/ \\_)-' '-(_/(__)    (__) (__)(__)  (__)\n",
      "    \n",
      " - mu:  1e-10\n",
      " - lipschitz constant:  1.0999999999999792\n",
      " - data:  (640, 368)\n",
      " - wavelet:  <mri.reconstruct.linear.WaveletN object at 0x7fa4157600f0> - 4\n",
      " - max iterations:  200\n",
      " - image variable shape:  (640, 368)\n",
      " - alpha variable shape:  (235520,)\n",
      "----------------------------------------\n",
      "Starting optimization...\n"
     ]
    },
    {
     "name": "stderr",
     "output_type": "stream",
     "text": [
      "100% (200 of 200) |######################| Elapsed Time: 0:00:52 Time:  0:00:52\n"
     ]
    },
    {
     "name": "stdout",
     "output_type": "stream",
     "text": [
      " - final iteration number:  200\n",
      " - final log10 cost value:  -5.031631085328165\n",
      " - converged:  True\n",
      "Done.\n",
      "Execution time:  1544.8128929999948  seconds\n",
      "----------------------------------------\n",
      "\n"
     ]
    },
    {
     "name": "stderr",
     "output_type": "stream",
     "text": [
      "/volatile/home/Zaccharie/workspace/fastmri-reproducible-benchmark/venv/lib/python3.6/site-packages/ipykernel_launcher.py:9: TqdmDeprecationWarning: This function will be removed in tqdm==5.0.0\n",
      "Please use `tqdm.notebook.tqdm` instead of `tqdm.tqdm_notebook`\n",
      "  if __name__ == '__main__':\n"
     ]
    },
    {
     "data": {
      "application/vnd.jupyter.widget-view+json": {
       "model_id": "857ffbb4a2c94849ad9bbd770eabd7eb",
       "version_major": 2,
       "version_minor": 0
      },
      "text/plain": [
       "HBox(children=(FloatProgress(value=0.0, description='Stats', max=24.0, style=ProgressStyle(description_width='…"
      ]
     },
     "metadata": {},
     "output_type": "display_data"
    },
    {
     "name": "stderr",
     "output_type": "stream",
     "text": [
      "/volatile/home/Zaccharie/workspace/fastmri-reproducible-benchmark/fastmri_recon/helpers/evaluate.py:25: UserWarning: DEPRECATED: skimage.measure.compare_psnr has been moved to skimage.metrics.peak_signal_noise_ratio. It will be removed from skimage.measure in version 0.18.\n",
      "  return compare_psnr(gt, pred, data_range=gt.max() - gt.min())\n",
      "/volatile/home/Zaccharie/workspace/fastmri-reproducible-benchmark/fastmri_recon/helpers/evaluate.py:31: UserWarning: DEPRECATED: skimage.measure.compare_ssim has been moved to skimage.metrics.structural_similarity. It will be removed from skimage.measure in version 0.18.\n",
      "  gt.transpose(1, 2, 0), pred.transpose(1, 2, 0), multichannel=True, data_range=gt.max() - gt.min()\n"
     ]
    },
    {
     "name": "stdout",
     "output_type": "stream",
     "text": [
      "\n"
     ]
    },
    {
     "data": {
      "application/vnd.jupyter.widget-view+json": {
       "model_id": "a9e3658844784a8f82d7641c820a2d48",
       "version_major": 2,
       "version_minor": 0
      },
      "text/plain": [
       "HBox(children=(FloatProgress(value=0.0, description='K-spaces', max=24.0, style=ProgressStyle(description_widt…"
      ]
     },
     "metadata": {},
     "output_type": "display_data"
    },
    {
     "name": "stderr",
     "output_type": "stream",
     "text": [
      "\u001b[33mWARNING\u001b[0m: Making input data immutable.\n"
     ]
    },
    {
     "name": "stdout",
     "output_type": "stream",
     "text": [
      "\n",
      "  _____             ____     _____      _\n",
      " |\" ___|    ___    / __\"| u |_ \" _| U  /\"\\  u\n",
      "U| |_  u   |_\"_|  <\\___ \\/    | |    \\/ _ \\/\n",
      "\\|  _|/     | |    u___) |   /| |\\   / ___ \\\\\n",
      " |_|      U/| |\\u  |____/>> u |_|U  /_/   \\_\\\\\n",
      " )(\\\\\\,-.-,_|___|_,-.)(  (__)_// \\\\\\_  \\\\\\    >>\n",
      "(__)(_/ \\_)-' '-(_/(__)    (__) (__)(__)  (__)\n",
      "    \n",
      " - mu:  2.1544346900318867e-10\n",
      " - lipschitz constant:  1.1000000000000596\n",
      " - data:  (640, 372)\n",
      " - wavelet:  <mri.reconstruct.linear.WaveletN object at 0x7fa4157602e8> - 4\n",
      " - max iterations:  200\n",
      " - image variable shape:  (640, 372)\n",
      " - alpha variable shape:  (238320,)\n",
      "----------------------------------------\n",
      "Starting optimization...\n"
     ]
    },
    {
     "name": "stderr",
     "output_type": "stream",
     "text": [
      "100% (200 of 200) |######################| Elapsed Time: 0:00:53 Time:  0:00:53\n"
     ]
    },
    {
     "name": "stdout",
     "output_type": "stream",
     "text": [
      " - final iteration number:  200\n",
      " - final log10 cost value:  -6.284584605819866\n",
      " - converged:  True\n",
      "Done.\n",
      "Execution time:  1637.9881440000026  seconds\n",
      "----------------------------------------\n"
     ]
    },
    {
     "name": "stderr",
     "output_type": "stream",
     "text": [
      "\u001b[33mWARNING\u001b[0m: Making input data immutable.\n"
     ]
    },
    {
     "name": "stdout",
     "output_type": "stream",
     "text": [
      "\n",
      "  _____             ____     _____      _\n",
      " |\" ___|    ___    / __\"| u |_ \" _| U  /\"\\  u\n",
      "U| |_  u   |_\"_|  <\\___ \\/    | |    \\/ _ \\/\n",
      "\\|  _|/     | |    u___) |   /| |\\   / ___ \\\\\n",
      " |_|      U/| |\\u  |____/>> u |_|U  /_/   \\_\\\\\n",
      " )(\\\\\\,-.-,_|___|_,-.)(  (__)_// \\\\\\_  \\\\\\    >>\n",
      "(__)(_/ \\_)-' '-(_/(__)    (__) (__)(__)  (__)\n",
      "    \n",
      " - mu:  2.1544346900318867e-10\n",
      " - lipschitz constant:  1.1000000000000316\n",
      " - data:  (640, 372)\n",
      " - wavelet:  <mri.reconstruct.linear.WaveletN object at 0x7fa4157604e0> - 4\n",
      " - max iterations:  200\n",
      " - image variable shape:  (640, 372)\n",
      " - alpha variable shape:  (238320,)\n",
      "----------------------------------------\n",
      "Starting optimization...\n"
     ]
    },
    {
     "name": "stderr",
     "output_type": "stream",
     "text": [
      "100% (200 of 200) |######################| Elapsed Time: 0:00:51 Time:  0:00:51\n"
     ]
    },
    {
     "name": "stdout",
     "output_type": "stream",
     "text": [
      " - final iteration number:  200\n",
      " - final log10 cost value:  -6.333141420704984\n",
      " - converged:  True\n",
      "Done.\n",
      "Execution time:  1667.5507439999783  seconds\n",
      "----------------------------------------\n"
     ]
    },
    {
     "name": "stderr",
     "output_type": "stream",
     "text": [
      "\u001b[33mWARNING\u001b[0m: Making input data immutable.\n"
     ]
    },
    {
     "name": "stdout",
     "output_type": "stream",
     "text": [
      "\n",
      "  _____             ____     _____      _\n",
      " |\" ___|    ___    / __\"| u |_ \" _| U  /\"\\  u\n",
      "U| |_  u   |_\"_|  <\\___ \\/    | |    \\/ _ \\/\n",
      "\\|  _|/     | |    u___) |   /| |\\   / ___ \\\\\n",
      " |_|      U/| |\\u  |____/>> u |_|U  /_/   \\_\\\\\n",
      " )(\\\\\\,-.-,_|___|_,-.)(  (__)_// \\\\\\_  \\\\\\    >>\n",
      "(__)(_/ \\_)-' '-(_/(__)    (__) (__)(__)  (__)\n",
      "    \n",
      " - mu:  2.1544346900318867e-10\n",
      " - lipschitz constant:  1.1000000000000851\n",
      " - data:  (640, 372)\n",
      " - wavelet:  <mri.reconstruct.linear.WaveletN object at 0x7fa415766ac8> - 4\n",
      " - max iterations:  200\n",
      " - image variable shape:  (640, 372)\n",
      " - alpha variable shape:  (238320,)\n",
      "----------------------------------------\n",
      "Starting optimization...\n"
     ]
    },
    {
     "name": "stderr",
     "output_type": "stream",
     "text": [
      "100% (200 of 200) |######################| Elapsed Time: 0:00:52 Time:  0:00:52\n"
     ]
    },
    {
     "name": "stdout",
     "output_type": "stream",
     "text": [
      " - final iteration number:  200\n",
      " - final log10 cost value:  -6.443470980668161\n",
      " - converged:  True\n",
      "Done.\n",
      "Execution time:  1675.906295999972  seconds\n",
      "----------------------------------------\n"
     ]
    },
    {
     "name": "stderr",
     "output_type": "stream",
     "text": [
      "\u001b[33mWARNING\u001b[0m: Making input data immutable.\n"
     ]
    },
    {
     "name": "stdout",
     "output_type": "stream",
     "text": [
      "\n",
      "  _____             ____     _____      _\n",
      " |\" ___|    ___    / __\"| u |_ \" _| U  /\"\\  u\n",
      "U| |_  u   |_\"_|  <\\___ \\/    | |    \\/ _ \\/\n",
      "\\|  _|/     | |    u___) |   /| |\\   / ___ \\\\\n",
      " |_|      U/| |\\u  |____/>> u |_|U  /_/   \\_\\\\\n",
      " )(\\\\\\,-.-,_|___|_,-.)(  (__)_// \\\\\\_  \\\\\\    >>\n",
      "(__)(_/ \\_)-' '-(_/(__)    (__) (__)(__)  (__)\n",
      "    \n",
      " - mu:  2.1544346900318867e-10\n",
      " - lipschitz constant:  1.0999999999999743\n",
      " - data:  (640, 368)\n",
      " - wavelet:  <mri.reconstruct.linear.WaveletN object at 0x7fa415766eb8> - 4\n",
      " - max iterations:  200\n",
      " - image variable shape:  (640, 368)\n",
      " - alpha variable shape:  (235520,)\n",
      "----------------------------------------\n",
      "Starting optimization...\n"
     ]
    },
    {
     "name": "stderr",
     "output_type": "stream",
     "text": [
      "100% (200 of 200) |######################| Elapsed Time: 0:00:50 Time:  0:00:50\n"
     ]
    },
    {
     "name": "stdout",
     "output_type": "stream",
     "text": [
      " - final iteration number:  200\n",
      " - final log10 cost value:  -5.243735535334302\n",
      " - converged:  True\n",
      "Done.\n",
      "Execution time:  1605.0694169999915  seconds\n",
      "----------------------------------------\n"
     ]
    },
    {
     "name": "stderr",
     "output_type": "stream",
     "text": [
      "\u001b[33mWARNING\u001b[0m: Making input data immutable.\n"
     ]
    },
    {
     "name": "stdout",
     "output_type": "stream",
     "text": [
      "\n",
      "  _____             ____     _____      _\n",
      " |\" ___|    ___    / __\"| u |_ \" _| U  /\"\\  u\n",
      "U| |_  u   |_\"_|  <\\___ \\/    | |    \\/ _ \\/\n",
      "\\|  _|/     | |    u___) |   /| |\\   / ___ \\\\\n",
      " |_|      U/| |\\u  |____/>> u |_|U  /_/   \\_\\\\\n",
      " )(\\\\\\,-.-,_|___|_,-.)(  (__)_// \\\\\\_  \\\\\\    >>\n",
      "(__)(_/ \\_)-' '-(_/(__)    (__) (__)(__)  (__)\n",
      "    \n",
      " - mu:  2.1544346900318867e-10\n",
      " - lipschitz constant:  1.1000000000000871\n",
      " - data:  (640, 368)\n",
      " - wavelet:  <mri.reconstruct.linear.WaveletN object at 0x7fa415766c88> - 4\n",
      " - max iterations:  200\n",
      " - image variable shape:  (640, 368)\n",
      " - alpha variable shape:  (235520,)\n",
      "----------------------------------------\n",
      "Starting optimization...\n"
     ]
    },
    {
     "name": "stderr",
     "output_type": "stream",
     "text": [
      "100% (200 of 200) |######################| Elapsed Time: 0:00:50 Time:  0:00:50\n"
     ]
    },
    {
     "name": "stdout",
     "output_type": "stream",
     "text": [
      " - final iteration number:  200\n",
      " - final log10 cost value:  -5.649936579650119\n",
      " - converged:  True\n",
      "Done.\n",
      "Execution time:  1585.8347479999939  seconds\n",
      "----------------------------------------\n"
     ]
    },
    {
     "name": "stderr",
     "output_type": "stream",
     "text": [
      "\u001b[33mWARNING\u001b[0m: Making input data immutable.\n"
     ]
    },
    {
     "name": "stdout",
     "output_type": "stream",
     "text": [
      "\n",
      "  _____             ____     _____      _\n",
      " |\" ___|    ___    / __\"| u |_ \" _| U  /\"\\  u\n",
      "U| |_  u   |_\"_|  <\\___ \\/    | |    \\/ _ \\/\n",
      "\\|  _|/     | |    u___) |   /| |\\   / ___ \\\\\n",
      " |_|      U/| |\\u  |____/>> u |_|U  /_/   \\_\\\\\n",
      " )(\\\\\\,-.-,_|___|_,-.)(  (__)_// \\\\\\_  \\\\\\    >>\n",
      "(__)(_/ \\_)-' '-(_/(__)    (__) (__)(__)  (__)\n",
      "    \n",
      " - mu:  2.1544346900318867e-10\n",
      " - lipschitz constant:  1.099999999999977\n",
      " - data:  (640, 368)\n",
      " - wavelet:  <mri.reconstruct.linear.WaveletN object at 0x7fa415738048> - 4\n",
      " - max iterations:  200\n",
      " - image variable shape:  (640, 368)\n",
      " - alpha variable shape:  (235520,)\n",
      "----------------------------------------\n",
      "Starting optimization...\n"
     ]
    },
    {
     "name": "stderr",
     "output_type": "stream",
     "text": [
      "100% (200 of 200) |######################| Elapsed Time: 0:00:51 Time:  0:00:51\n"
     ]
    },
    {
     "name": "stdout",
     "output_type": "stream",
     "text": [
      " - final iteration number:  200\n",
      " - final log10 cost value:  -5.487080402098002\n",
      " - converged:  True\n",
      "Done.\n",
      "Execution time:  1536.4451129999943  seconds\n",
      "----------------------------------------\n"
     ]
    },
    {
     "name": "stderr",
     "output_type": "stream",
     "text": [
      "\u001b[33mWARNING\u001b[0m: Making input data immutable.\n"
     ]
    },
    {
     "name": "stdout",
     "output_type": "stream",
     "text": [
      "\n",
      "  _____             ____     _____      _\n",
      " |\" ___|    ___    / __\"| u |_ \" _| U  /\"\\  u\n",
      "U| |_  u   |_\"_|  <\\___ \\/    | |    \\/ _ \\/\n",
      "\\|  _|/     | |    u___) |   /| |\\   / ___ \\\\\n",
      " |_|      U/| |\\u  |____/>> u |_|U  /_/   \\_\\\\\n",
      " )(\\\\\\,-.-,_|___|_,-.)(  (__)_// \\\\\\_  \\\\\\    >>\n",
      "(__)(_/ \\_)-' '-(_/(__)    (__) (__)(__)  (__)\n",
      "    \n",
      " - mu:  2.1544346900318867e-10\n",
      " - lipschitz constant:  1.100000000000092\n",
      " - data:  (640, 368)\n",
      " - wavelet:  <mri.reconstruct.linear.WaveletN object at 0x7fa415760c50> - 4\n",
      " - max iterations:  200\n",
      " - image variable shape:  (640, 368)\n",
      " - alpha variable shape:  (235520,)\n",
      "----------------------------------------\n",
      "Starting optimization...\n"
     ]
    },
    {
     "name": "stderr",
     "output_type": "stream",
     "text": [
      "100% (200 of 200) |######################| Elapsed Time: 0:00:51 Time:  0:00:51\n"
     ]
    },
    {
     "name": "stdout",
     "output_type": "stream",
     "text": [
      " - final iteration number:  200\n",
      " - final log10 cost value:  -5.013436274551487\n",
      " - converged:  True\n",
      "Done.\n",
      "Execution time:  1549.4358799999754  seconds\n",
      "----------------------------------------\n"
     ]
    },
    {
     "name": "stderr",
     "output_type": "stream",
     "text": [
      "\u001b[33mWARNING\u001b[0m: Making input data immutable.\n"
     ]
    },
    {
     "name": "stdout",
     "output_type": "stream",
     "text": [
      "\n",
      "  _____             ____     _____      _\n",
      " |\" ___|    ___    / __\"| u |_ \" _| U  /\"\\  u\n",
      "U| |_  u   |_\"_|  <\\___ \\/    | |    \\/ _ \\/\n",
      "\\|  _|/     | |    u___) |   /| |\\   / ___ \\\\\n",
      " |_|      U/| |\\u  |____/>> u |_|U  /_/   \\_\\\\\n",
      " )(\\\\\\,-.-,_|___|_,-.)(  (__)_// \\\\\\_  \\\\\\    >>\n",
      "(__)(_/ \\_)-' '-(_/(__)    (__) (__)(__)  (__)\n",
      "    \n",
      " - mu:  2.1544346900318867e-10\n",
      " - lipschitz constant:  1.099999999999981\n",
      " - data:  (640, 372)\n",
      " - wavelet:  <mri.reconstruct.linear.WaveletN object at 0x7fa415738c18> - 4\n",
      " - max iterations:  200\n",
      " - image variable shape:  (640, 372)\n",
      " - alpha variable shape:  (238320,)\n",
      "----------------------------------------\n",
      "Starting optimization...\n"
     ]
    },
    {
     "name": "stderr",
     "output_type": "stream",
     "text": [
      "100% (200 of 200) |######################| Elapsed Time: 0:00:54 Time:  0:00:54\n"
     ]
    },
    {
     "name": "stdout",
     "output_type": "stream",
     "text": [
      " - final iteration number:  200\n",
      " - final log10 cost value:  -6.378708520845294\n",
      " - converged:  True\n",
      "Done.\n",
      "Execution time:  1569.5121759999893  seconds\n",
      "----------------------------------------\n"
     ]
    },
    {
     "name": "stderr",
     "output_type": "stream",
     "text": [
      "\u001b[33mWARNING\u001b[0m: Making input data immutable.\n"
     ]
    },
    {
     "name": "stdout",
     "output_type": "stream",
     "text": [
      "\n",
      "  _____             ____     _____      _\n",
      " |\" ___|    ___    / __\"| u |_ \" _| U  /\"\\  u\n",
      "U| |_  u   |_\"_|  <\\___ \\/    | |    \\/ _ \\/\n",
      "\\|  _|/     | |    u___) |   /| |\\   / ___ \\\\\n",
      " |_|      U/| |\\u  |____/>> u |_|U  /_/   \\_\\\\\n",
      " )(\\\\\\,-.-,_|___|_,-.)(  (__)_// \\\\\\_  \\\\\\    >>\n",
      "(__)(_/ \\_)-' '-(_/(__)    (__) (__)(__)  (__)\n",
      "    \n",
      " - mu:  2.1544346900318867e-10\n",
      " - lipschitz constant:  1.1000000000000736\n",
      " - data:  (640, 356)\n",
      " - wavelet:  <mri.reconstruct.linear.WaveletN object at 0x7fa415738470> - 4\n",
      " - max iterations:  200\n",
      " - image variable shape:  (640, 356)\n",
      " - alpha variable shape:  (228080,)\n",
      "----------------------------------------\n",
      "Starting optimization...\n"
     ]
    },
    {
     "name": "stderr",
     "output_type": "stream",
     "text": [
      "100% (200 of 200) |######################| Elapsed Time: 0:00:58 Time:  0:00:58\n"
     ]
    },
    {
     "name": "stdout",
     "output_type": "stream",
     "text": [
      " - final iteration number:  200\n",
      " - final log10 cost value:  -4.926795640676506\n",
      " - converged:  True\n",
      "Done.\n",
      "Execution time:  1698.5204870000016  seconds\n",
      "----------------------------------------\n"
     ]
    },
    {
     "name": "stderr",
     "output_type": "stream",
     "text": [
      "\u001b[33mWARNING\u001b[0m: Making input data immutable.\n"
     ]
    },
    {
     "name": "stdout",
     "output_type": "stream",
     "text": [
      "\n",
      "  _____             ____     _____      _\n",
      " |\" ___|    ___    / __\"| u |_ \" _| U  /\"\\  u\n",
      "U| |_  u   |_\"_|  <\\___ \\/    | |    \\/ _ \\/\n",
      "\\|  _|/     | |    u___) |   /| |\\   / ___ \\\\\n",
      " |_|      U/| |\\u  |____/>> u |_|U  /_/   \\_\\\\\n",
      " )(\\\\\\,-.-,_|___|_,-.)(  (__)_// \\\\\\_  \\\\\\    >>\n",
      "(__)(_/ \\_)-' '-(_/(__)    (__) (__)(__)  (__)\n",
      "    \n",
      " - mu:  2.1544346900318867e-10\n",
      " - lipschitz constant:  1.1000000000000343\n",
      " - data:  (640, 368)\n",
      " - wavelet:  <mri.reconstruct.linear.WaveletN object at 0x7fa415766390> - 4\n",
      " - max iterations:  200\n",
      " - image variable shape:  (640, 368)\n",
      " - alpha variable shape:  (235520,)\n",
      "----------------------------------------\n",
      "Starting optimization...\n"
     ]
    },
    {
     "name": "stderr",
     "output_type": "stream",
     "text": [
      "100% (200 of 200) |######################| Elapsed Time: 0:00:51 Time:  0:00:51\n"
     ]
    },
    {
     "name": "stdout",
     "output_type": "stream",
     "text": [
      " - final iteration number:  200\n",
      " - final log10 cost value:  -4.912965319647921\n",
      " - converged:  True\n",
      "Done.\n",
      "Execution time:  1544.6013410000014  seconds\n",
      "----------------------------------------\n"
     ]
    },
    {
     "name": "stderr",
     "output_type": "stream",
     "text": [
      "\u001b[33mWARNING\u001b[0m: Making input data immutable.\n"
     ]
    },
    {
     "name": "stdout",
     "output_type": "stream",
     "text": [
      "\n",
      "  _____             ____     _____      _\n",
      " |\" ___|    ___    / __\"| u |_ \" _| U  /\"\\  u\n",
      "U| |_  u   |_\"_|  <\\___ \\/    | |    \\/ _ \\/\n",
      "\\|  _|/     | |    u___) |   /| |\\   / ___ \\\\\n",
      " |_|      U/| |\\u  |____/>> u |_|U  /_/   \\_\\\\\n",
      " )(\\\\\\,-.-,_|___|_,-.)(  (__)_// \\\\\\_  \\\\\\    >>\n",
      "(__)(_/ \\_)-' '-(_/(__)    (__) (__)(__)  (__)\n",
      "    \n",
      " - mu:  2.1544346900318867e-10\n",
      " - lipschitz constant:  1.1000000000000303\n",
      " - data:  (640, 368)\n",
      " - wavelet:  <mri.reconstruct.linear.WaveletN object at 0x7fa415766a90> - 4\n",
      " - max iterations:  200\n",
      " - image variable shape:  (640, 368)\n",
      " - alpha variable shape:  (235520,)\n",
      "----------------------------------------\n",
      "Starting optimization...\n"
     ]
    },
    {
     "name": "stderr",
     "output_type": "stream",
     "text": [
      "100% (200 of 200) |######################| Elapsed Time: 0:00:51 Time:  0:00:51\n"
     ]
    },
    {
     "name": "stdout",
     "output_type": "stream",
     "text": [
      " - final iteration number:  200\n",
      " - final log10 cost value:  -5.309171501880667\n",
      " - converged:  True\n",
      "Done.\n",
      "Execution time:  1509.4566889999842  seconds\n",
      "----------------------------------------\n"
     ]
    },
    {
     "name": "stderr",
     "output_type": "stream",
     "text": [
      "\u001b[33mWARNING\u001b[0m: Making input data immutable.\n"
     ]
    },
    {
     "name": "stdout",
     "output_type": "stream",
     "text": [
      "\n",
      "  _____             ____     _____      _\n",
      " |\" ___|    ___    / __\"| u |_ \" _| U  /\"\\  u\n",
      "U| |_  u   |_\"_|  <\\___ \\/    | |    \\/ _ \\/\n",
      "\\|  _|/     | |    u___) |   /| |\\   / ___ \\\\\n",
      " |_|      U/| |\\u  |____/>> u |_|U  /_/   \\_\\\\\n",
      " )(\\\\\\,-.-,_|___|_,-.)(  (__)_// \\\\\\_  \\\\\\    >>\n",
      "(__)(_/ \\_)-' '-(_/(__)    (__) (__)(__)  (__)\n",
      "    \n",
      " - mu:  2.1544346900318867e-10\n",
      " - lipschitz constant:  1.0999999999999772\n",
      " - data:  (640, 368)\n",
      " - wavelet:  <mri.reconstruct.linear.WaveletN object at 0x7fa41578e048> - 4\n",
      " - max iterations:  200\n",
      " - image variable shape:  (640, 368)\n",
      " - alpha variable shape:  (235520,)\n",
      "----------------------------------------\n",
      "Starting optimization...\n"
     ]
    },
    {
     "name": "stderr",
     "output_type": "stream",
     "text": [
      "100% (200 of 200) |######################| Elapsed Time: 0:00:50 Time:  0:00:50\n"
     ]
    },
    {
     "name": "stdout",
     "output_type": "stream",
     "text": [
      " - final iteration number:  200\n",
      " - final log10 cost value:  -5.036575411883558\n",
      " - converged:  True\n",
      "Done.\n",
      "Execution time:  1546.6370469999965  seconds\n",
      "----------------------------------------\n"
     ]
    },
    {
     "name": "stderr",
     "output_type": "stream",
     "text": [
      "\u001b[33mWARNING\u001b[0m: Making input data immutable.\n"
     ]
    },
    {
     "name": "stdout",
     "output_type": "stream",
     "text": [
      "\n",
      "  _____             ____     _____      _\n",
      " |\" ___|    ___    / __\"| u |_ \" _| U  /\"\\  u\n",
      "U| |_  u   |_\"_|  <\\___ \\/    | |    \\/ _ \\/\n",
      "\\|  _|/     | |    u___) |   /| |\\   / ___ \\\\\n",
      " |_|      U/| |\\u  |____/>> u |_|U  /_/   \\_\\\\\n",
      " )(\\\\\\,-.-,_|___|_,-.)(  (__)_// \\\\\\_  \\\\\\    >>\n",
      "(__)(_/ \\_)-' '-(_/(__)    (__) (__)(__)  (__)\n",
      "    \n",
      " - mu:  2.1544346900318867e-10\n",
      " - lipschitz constant:  1.1000000000000694\n",
      " - data:  (640, 368)\n",
      " - wavelet:  <mri.reconstruct.linear.WaveletN object at 0x7fa415806e10> - 4\n",
      " - max iterations:  200\n",
      " - image variable shape:  (640, 368)\n",
      " - alpha variable shape:  (235520,)\n",
      "----------------------------------------\n",
      "Starting optimization...\n"
     ]
    },
    {
     "name": "stderr",
     "output_type": "stream",
     "text": [
      "100% (200 of 200) |######################| Elapsed Time: 0:00:51 Time:  0:00:51\n"
     ]
    },
    {
     "name": "stdout",
     "output_type": "stream",
     "text": [
      " - final iteration number:  200\n",
      " - final log10 cost value:  -5.537652046844512\n",
      " - converged:  True\n",
      "Done.\n",
      "Execution time:  1557.525358999992  seconds\n",
      "----------------------------------------\n"
     ]
    },
    {
     "name": "stderr",
     "output_type": "stream",
     "text": [
      "\u001b[33mWARNING\u001b[0m: Making input data immutable.\n"
     ]
    },
    {
     "name": "stdout",
     "output_type": "stream",
     "text": [
      "\n",
      "  _____             ____     _____      _\n",
      " |\" ___|    ___    / __\"| u |_ \" _| U  /\"\\  u\n",
      "U| |_  u   |_\"_|  <\\___ \\/    | |    \\/ _ \\/\n",
      "\\|  _|/     | |    u___) |   /| |\\   / ___ \\\\\n",
      " |_|      U/| |\\u  |____/>> u |_|U  /_/   \\_\\\\\n",
      " )(\\\\\\,-.-,_|___|_,-.)(  (__)_// \\\\\\_  \\\\\\    >>\n",
      "(__)(_/ \\_)-' '-(_/(__)    (__) (__)(__)  (__)\n",
      "    \n",
      " - mu:  2.1544346900318867e-10\n",
      " - lipschitz constant:  1.1000000000000314\n",
      " - data:  (640, 372)\n",
      " - wavelet:  <mri.reconstruct.linear.WaveletN object at 0x7fa415806c18> - 4\n",
      " - max iterations:  200\n",
      " - image variable shape:  (640, 372)\n",
      " - alpha variable shape:  (238320,)\n",
      "----------------------------------------\n",
      "Starting optimization...\n"
     ]
    },
    {
     "name": "stderr",
     "output_type": "stream",
     "text": [
      "100% (200 of 200) |######################| Elapsed Time: 0:00:53 Time:  0:00:53\n"
     ]
    },
    {
     "name": "stdout",
     "output_type": "stream",
     "text": [
      " - final iteration number:  200\n",
      " - final log10 cost value:  -6.34249784701638\n",
      " - converged:  True\n",
      "Done.\n",
      "Execution time:  1590.2235130000045  seconds\n",
      "----------------------------------------\n"
     ]
    },
    {
     "name": "stderr",
     "output_type": "stream",
     "text": [
      "\u001b[33mWARNING\u001b[0m: Making input data immutable.\n"
     ]
    },
    {
     "name": "stdout",
     "output_type": "stream",
     "text": [
      "\n",
      "  _____             ____     _____      _\n",
      " |\" ___|    ___    / __\"| u |_ \" _| U  /\"\\  u\n",
      "U| |_  u   |_\"_|  <\\___ \\/    | |    \\/ _ \\/\n",
      "\\|  _|/     | |    u___) |   /| |\\   / ___ \\\\\n",
      " |_|      U/| |\\u  |____/>> u |_|U  /_/   \\_\\\\\n",
      " )(\\\\\\,-.-,_|___|_,-.)(  (__)_// \\\\\\_  \\\\\\    >>\n",
      "(__)(_/ \\_)-' '-(_/(__)    (__) (__)(__)  (__)\n",
      "    \n",
      " - mu:  2.1544346900318867e-10\n",
      " - lipschitz constant:  1.0999999999999805\n",
      " - data:  (640, 372)\n",
      " - wavelet:  <mri.reconstruct.linear.WaveletN object at 0x7fa4157cbcc0> - 4\n",
      " - max iterations:  200\n",
      " - image variable shape:  (640, 372)\n",
      " - alpha variable shape:  (238320,)\n",
      "----------------------------------------\n",
      "Starting optimization...\n"
     ]
    },
    {
     "name": "stderr",
     "output_type": "stream",
     "text": [
      "100% (200 of 200) |######################| Elapsed Time: 0:00:52 Time:  0:00:52\n"
     ]
    },
    {
     "name": "stdout",
     "output_type": "stream",
     "text": [
      " - final iteration number:  200\n",
      " - final log10 cost value:  -6.284568660989276\n",
      " - converged:  True\n",
      "Done.\n",
      "Execution time:  1674.3750569999975  seconds\n",
      "----------------------------------------\n"
     ]
    },
    {
     "name": "stderr",
     "output_type": "stream",
     "text": [
      "\u001b[33mWARNING\u001b[0m: Making input data immutable.\n"
     ]
    },
    {
     "name": "stdout",
     "output_type": "stream",
     "text": [
      "\n",
      "  _____             ____     _____      _\n",
      " |\" ___|    ___    / __\"| u |_ \" _| U  /\"\\  u\n",
      "U| |_  u   |_\"_|  <\\___ \\/    | |    \\/ _ \\/\n",
      "\\|  _|/     | |    u___) |   /| |\\   / ___ \\\\\n",
      " |_|      U/| |\\u  |____/>> u |_|U  /_/   \\_\\\\\n",
      " )(\\\\\\,-.-,_|___|_,-.)(  (__)_// \\\\\\_  \\\\\\    >>\n",
      "(__)(_/ \\_)-' '-(_/(__)    (__) (__)(__)  (__)\n",
      "    \n",
      " - mu:  2.1544346900318867e-10\n",
      " - lipschitz constant:  1.1000000000000316\n",
      " - data:  (640, 368)\n",
      " - wavelet:  <mri.reconstruct.linear.WaveletN object at 0x7fa415760828> - 4\n",
      " - max iterations:  200\n",
      " - image variable shape:  (640, 368)\n",
      " - alpha variable shape:  (235520,)\n",
      "----------------------------------------\n",
      "Starting optimization...\n"
     ]
    },
    {
     "name": "stderr",
     "output_type": "stream",
     "text": [
      "100% (200 of 200) |######################| Elapsed Time: 0:00:50 Time:  0:00:50\n"
     ]
    },
    {
     "name": "stdout",
     "output_type": "stream",
     "text": [
      " - final iteration number:  200\n",
      " - final log10 cost value:  -5.493649700536307\n",
      " - converged:  True\n",
      "Done.\n",
      "Execution time:  1621.369255000027  seconds\n",
      "----------------------------------------\n"
     ]
    },
    {
     "name": "stderr",
     "output_type": "stream",
     "text": [
      "\u001b[33mWARNING\u001b[0m: Making input data immutable.\n"
     ]
    },
    {
     "name": "stdout",
     "output_type": "stream",
     "text": [
      "\n",
      "  _____             ____     _____      _\n",
      " |\" ___|    ___    / __\"| u |_ \" _| U  /\"\\  u\n",
      "U| |_  u   |_\"_|  <\\___ \\/    | |    \\/ _ \\/\n",
      "\\|  _|/     | |    u___) |   /| |\\   / ___ \\\\\n",
      " |_|      U/| |\\u  |____/>> u |_|U  /_/   \\_\\\\\n",
      " )(\\\\\\,-.-,_|___|_,-.)(  (__)_// \\\\\\_  \\\\\\    >>\n",
      "(__)(_/ \\_)-' '-(_/(__)    (__) (__)(__)  (__)\n",
      "    \n",
      " - mu:  2.1544346900318867e-10\n",
      " - lipschitz constant:  1.0999999999999828\n",
      " - data:  (640, 372)\n",
      " - wavelet:  <mri.reconstruct.linear.WaveletN object at 0x7fa415777128> - 4\n",
      " - max iterations:  200\n",
      " - image variable shape:  (640, 372)\n",
      " - alpha variable shape:  (238320,)\n",
      "----------------------------------------\n",
      "Starting optimization...\n"
     ]
    },
    {
     "name": "stderr",
     "output_type": "stream",
     "text": [
      "100% (200 of 200) |######################| Elapsed Time: 0:00:52 Time:  0:00:52\n"
     ]
    },
    {
     "name": "stdout",
     "output_type": "stream",
     "text": [
      " - final iteration number:  200\n",
      " - final log10 cost value:  -6.244687944337405\n",
      " - converged:  True\n",
      "Done.\n",
      "Execution time:  1670.6353189999936  seconds\n",
      "----------------------------------------\n"
     ]
    },
    {
     "name": "stderr",
     "output_type": "stream",
     "text": [
      "\u001b[33mWARNING\u001b[0m: Making input data immutable.\n"
     ]
    },
    {
     "name": "stdout",
     "output_type": "stream",
     "text": [
      "\n",
      "  _____             ____     _____      _\n",
      " |\" ___|    ___    / __\"| u |_ \" _| U  /\"\\  u\n",
      "U| |_  u   |_\"_|  <\\___ \\/    | |    \\/ _ \\/\n",
      "\\|  _|/     | |    u___) |   /| |\\   / ___ \\\\\n",
      " |_|      U/| |\\u  |____/>> u |_|U  /_/   \\_\\\\\n",
      " )(\\\\\\,-.-,_|___|_,-.)(  (__)_// \\\\\\_  \\\\\\    >>\n",
      "(__)(_/ \\_)-' '-(_/(__)    (__) (__)(__)  (__)\n",
      "    \n",
      " - mu:  2.1544346900318867e-10\n",
      " - lipschitz constant:  1.099999999999981\n",
      " - data:  (640, 368)\n",
      " - wavelet:  <mri.reconstruct.linear.WaveletN object at 0x7fa4157779e8> - 4\n",
      " - max iterations:  200\n",
      " - image variable shape:  (640, 368)\n",
      " - alpha variable shape:  (235520,)\n",
      "----------------------------------------\n",
      "Starting optimization...\n"
     ]
    },
    {
     "name": "stderr",
     "output_type": "stream",
     "text": [
      "100% (200 of 200) |######################| Elapsed Time: 0:00:51 Time:  0:00:51\n"
     ]
    },
    {
     "name": "stdout",
     "output_type": "stream",
     "text": [
      " - final iteration number:  200\n",
      " - final log10 cost value:  -5.099264614450328\n",
      " - converged:  True\n",
      "Done.\n",
      "Execution time:  1654.1876819999889  seconds\n",
      "----------------------------------------\n"
     ]
    },
    {
     "name": "stderr",
     "output_type": "stream",
     "text": [
      "\u001b[33mWARNING\u001b[0m: Making input data immutable.\n"
     ]
    },
    {
     "name": "stdout",
     "output_type": "stream",
     "text": [
      "\n",
      "  _____             ____     _____      _\n",
      " |\" ___|    ___    / __\"| u |_ \" _| U  /\"\\  u\n",
      "U| |_  u   |_\"_|  <\\___ \\/    | |    \\/ _ \\/\n",
      "\\|  _|/     | |    u___) |   /| |\\   / ___ \\\\\n",
      " |_|      U/| |\\u  |____/>> u |_|U  /_/   \\_\\\\\n",
      " )(\\\\\\,-.-,_|___|_,-.)(  (__)_// \\\\\\_  \\\\\\    >>\n",
      "(__)(_/ \\_)-' '-(_/(__)    (__) (__)(__)  (__)\n",
      "    \n",
      " - mu:  2.1544346900318867e-10\n",
      " - lipschitz constant:  1.099999999999976\n",
      " - data:  (640, 368)\n",
      " - wavelet:  <mri.reconstruct.linear.WaveletN object at 0x7fa4157d56d8> - 4\n",
      " - max iterations:  200\n",
      " - image variable shape:  (640, 368)\n",
      " - alpha variable shape:  (235520,)\n",
      "----------------------------------------\n",
      "Starting optimization...\n"
     ]
    },
    {
     "name": "stderr",
     "output_type": "stream",
     "text": [
      "100% (200 of 200) |######################| Elapsed Time: 0:00:50 Time:  0:00:50\n"
     ]
    },
    {
     "name": "stdout",
     "output_type": "stream",
     "text": [
      " - final iteration number:  200\n",
      " - final log10 cost value:  -5.177662768573012\n",
      " - converged:  True\n",
      "Done.\n",
      "Execution time:  1605.1780689999869  seconds\n",
      "----------------------------------------\n"
     ]
    },
    {
     "name": "stderr",
     "output_type": "stream",
     "text": [
      "\u001b[33mWARNING\u001b[0m: Making input data immutable.\n"
     ]
    },
    {
     "name": "stdout",
     "output_type": "stream",
     "text": [
      "\n",
      "  _____             ____     _____      _\n",
      " |\" ___|    ___    / __\"| u |_ \" _| U  /\"\\  u\n",
      "U| |_  u   |_\"_|  <\\___ \\/    | |    \\/ _ \\/\n",
      "\\|  _|/     | |    u___) |   /| |\\   / ___ \\\\\n",
      " |_|      U/| |\\u  |____/>> u |_|U  /_/   \\_\\\\\n",
      " )(\\\\\\,-.-,_|___|_,-.)(  (__)_// \\\\\\_  \\\\\\    >>\n",
      "(__)(_/ \\_)-' '-(_/(__)    (__) (__)(__)  (__)\n",
      "    \n",
      " - mu:  2.1544346900318867e-10\n",
      " - lipschitz constant:  1.1000000000000743\n",
      " - data:  (640, 368)\n",
      " - wavelet:  <mri.reconstruct.linear.WaveletN object at 0x7fa415806e10> - 4\n",
      " - max iterations:  200\n",
      " - image variable shape:  (640, 368)\n",
      " - alpha variable shape:  (235520,)\n",
      "----------------------------------------\n",
      "Starting optimization...\n"
     ]
    },
    {
     "name": "stderr",
     "output_type": "stream",
     "text": [
      "100% (200 of 200) |######################| Elapsed Time: 0:00:52 Time:  0:00:52\n"
     ]
    },
    {
     "name": "stdout",
     "output_type": "stream",
     "text": [
      " - final iteration number:  200\n",
      " - final log10 cost value:  -5.174506047266066\n",
      " - converged:  True\n",
      "Done.\n",
      "Execution time:  1571.047544000001  seconds\n",
      "----------------------------------------\n"
     ]
    },
    {
     "name": "stderr",
     "output_type": "stream",
     "text": [
      "\u001b[33mWARNING\u001b[0m: Making input data immutable.\n"
     ]
    },
    {
     "name": "stdout",
     "output_type": "stream",
     "text": [
      "\n",
      "  _____             ____     _____      _\n",
      " |\" ___|    ___    / __\"| u |_ \" _| U  /\"\\  u\n",
      "U| |_  u   |_\"_|  <\\___ \\/    | |    \\/ _ \\/\n",
      "\\|  _|/     | |    u___) |   /| |\\   / ___ \\\\\n",
      " |_|      U/| |\\u  |____/>> u |_|U  /_/   \\_\\\\\n",
      " )(\\\\\\,-.-,_|___|_,-.)(  (__)_// \\\\\\_  \\\\\\    >>\n",
      "(__)(_/ \\_)-' '-(_/(__)    (__) (__)(__)  (__)\n",
      "    \n",
      " - mu:  2.1544346900318867e-10\n",
      " - lipschitz constant:  1.099999999999979\n",
      " - data:  (640, 372)\n",
      " - wavelet:  <mri.reconstruct.linear.WaveletN object at 0x7fa4157d5940> - 4\n",
      " - max iterations:  200\n",
      " - image variable shape:  (640, 372)\n",
      " - alpha variable shape:  (238320,)\n",
      "----------------------------------------\n",
      "Starting optimization...\n"
     ]
    },
    {
     "name": "stderr",
     "output_type": "stream",
     "text": [
      "100% (200 of 200) |######################| Elapsed Time: 0:00:54 Time:  0:00:54\n"
     ]
    },
    {
     "name": "stdout",
     "output_type": "stream",
     "text": [
      " - final iteration number:  200\n",
      " - final log10 cost value:  -6.033223393996825\n",
      " - converged:  True\n",
      "Done.\n",
      "Execution time:  1593.2278959999967  seconds\n",
      "----------------------------------------\n"
     ]
    },
    {
     "name": "stderr",
     "output_type": "stream",
     "text": [
      "\u001b[33mWARNING\u001b[0m: Making input data immutable.\n"
     ]
    },
    {
     "name": "stdout",
     "output_type": "stream",
     "text": [
      "\n",
      "  _____             ____     _____      _\n",
      " |\" ___|    ___    / __\"| u |_ \" _| U  /\"\\  u\n",
      "U| |_  u   |_\"_|  <\\___ \\/    | |    \\/ _ \\/\n",
      "\\|  _|/     | |    u___) |   /| |\\   / ___ \\\\\n",
      " |_|      U/| |\\u  |____/>> u |_|U  /_/   \\_\\\\\n",
      " )(\\\\\\,-.-,_|___|_,-.)(  (__)_// \\\\\\_  \\\\\\    >>\n",
      "(__)(_/ \\_)-' '-(_/(__)    (__) (__)(__)  (__)\n",
      "    \n",
      " - mu:  2.1544346900318867e-10\n",
      " - lipschitz constant:  1.0999999999999799\n",
      " - data:  (640, 368)\n",
      " - wavelet:  <mri.reconstruct.linear.WaveletN object at 0x7fa415806c18> - 4\n",
      " - max iterations:  200\n",
      " - image variable shape:  (640, 368)\n",
      " - alpha variable shape:  (235520,)\n",
      "----------------------------------------\n",
      "Starting optimization...\n"
     ]
    },
    {
     "name": "stderr",
     "output_type": "stream",
     "text": [
      "100% (200 of 200) |######################| Elapsed Time: 0:00:51 Time:  0:00:51\n"
     ]
    },
    {
     "name": "stdout",
     "output_type": "stream",
     "text": [
      " - final iteration number:  200\n",
      " - final log10 cost value:  -4.851420405308618\n",
      " - converged:  True\n",
      "Done.\n",
      "Execution time:  1557.2928019999817  seconds\n",
      "----------------------------------------\n"
     ]
    },
    {
     "name": "stderr",
     "output_type": "stream",
     "text": [
      "\u001b[33mWARNING\u001b[0m: Making input data immutable.\n"
     ]
    },
    {
     "name": "stdout",
     "output_type": "stream",
     "text": [
      "\n",
      "  _____             ____     _____      _\n",
      " |\" ___|    ___    / __\"| u |_ \" _| U  /\"\\  u\n",
      "U| |_  u   |_\"_|  <\\___ \\/    | |    \\/ _ \\/\n",
      "\\|  _|/     | |    u___) |   /| |\\   / ___ \\\\\n",
      " |_|      U/| |\\u  |____/>> u |_|U  /_/   \\_\\\\\n",
      " )(\\\\\\,-.-,_|___|_,-.)(  (__)_// \\\\\\_  \\\\\\    >>\n",
      "(__)(_/ \\_)-' '-(_/(__)    (__) (__)(__)  (__)\n",
      "    \n",
      " - mu:  2.1544346900318867e-10\n",
      " - lipschitz constant:  1.0999999999999814\n",
      " - data:  (640, 372)\n",
      " - wavelet:  <mri.reconstruct.linear.WaveletN object at 0x7fa415777b38> - 4\n",
      " - max iterations:  200\n",
      " - image variable shape:  (640, 372)\n",
      " - alpha variable shape:  (238320,)\n",
      "----------------------------------------\n",
      "Starting optimization...\n"
     ]
    },
    {
     "name": "stderr",
     "output_type": "stream",
     "text": [
      "100% (200 of 200) |######################| Elapsed Time: 0:00:54 Time:  0:00:54\n"
     ]
    },
    {
     "name": "stdout",
     "output_type": "stream",
     "text": [
      " - final iteration number:  200\n",
      " - final log10 cost value:  -6.5279073128353815\n",
      " - converged:  True\n",
      "Done.\n",
      "Execution time:  1555.7802479999955  seconds\n",
      "----------------------------------------\n"
     ]
    },
    {
     "name": "stderr",
     "output_type": "stream",
     "text": [
      "\u001b[33mWARNING\u001b[0m: Making input data immutable.\n"
     ]
    },
    {
     "name": "stdout",
     "output_type": "stream",
     "text": [
      "\n",
      "  _____             ____     _____      _\n",
      " |\" ___|    ___    / __\"| u |_ \" _| U  /\"\\  u\n",
      "U| |_  u   |_\"_|  <\\___ \\/    | |    \\/ _ \\/\n",
      "\\|  _|/     | |    u___) |   /| |\\   / ___ \\\\\n",
      " |_|      U/| |\\u  |____/>> u |_|U  /_/   \\_\\\\\n",
      " )(\\\\\\,-.-,_|___|_,-.)(  (__)_// \\\\\\_  \\\\\\    >>\n",
      "(__)(_/ \\_)-' '-(_/(__)    (__) (__)(__)  (__)\n",
      "    \n",
      " - mu:  2.1544346900318867e-10\n",
      " - lipschitz constant:  1.100000000000073\n",
      " - data:  (640, 368)\n",
      " - wavelet:  <mri.reconstruct.linear.WaveletN object at 0x7fa415766978> - 4\n",
      " - max iterations:  200\n",
      " - image variable shape:  (640, 368)\n",
      " - alpha variable shape:  (235520,)\n",
      "----------------------------------------\n",
      "Starting optimization...\n"
     ]
    },
    {
     "name": "stderr",
     "output_type": "stream",
     "text": [
      "100% (200 of 200) |######################| Elapsed Time: 0:00:52 Time:  0:00:52\n"
     ]
    },
    {
     "name": "stdout",
     "output_type": "stream",
     "text": [
      " - final iteration number:  200\n",
      " - final log10 cost value:  -4.988086896290388\n",
      " - converged:  True\n",
      "Done.\n",
      "Execution time:  1550.4071650000114  seconds\n",
      "----------------------------------------\n",
      "\n"
     ]
    },
    {
     "data": {
      "application/vnd.jupyter.widget-view+json": {
       "model_id": "23b7fcae4ab447f19c08c9a36e7255d7",
       "version_major": 2,
       "version_minor": 0
      },
      "text/plain": [
       "HBox(children=(FloatProgress(value=0.0, description='Stats', max=24.0, style=ProgressStyle(description_width='…"
      ]
     },
     "metadata": {},
     "output_type": "display_data"
    },
    {
     "name": "stdout",
     "output_type": "stream",
     "text": [
      "\n"
     ]
    },
    {
     "data": {
      "application/vnd.jupyter.widget-view+json": {
       "model_id": "25fbb0f3b4074d5c95a9cac635b0e9d3",
       "version_major": 2,
       "version_minor": 0
      },
      "text/plain": [
       "HBox(children=(FloatProgress(value=0.0, description='K-spaces', max=24.0, style=ProgressStyle(description_widt…"
      ]
     },
     "metadata": {},
     "output_type": "display_data"
    },
    {
     "name": "stderr",
     "output_type": "stream",
     "text": [
      "\u001b[33mWARNING\u001b[0m: Making input data immutable.\n"
     ]
    },
    {
     "name": "stdout",
     "output_type": "stream",
     "text": [
      "\n",
      "  _____             ____     _____      _\n",
      " |\" ___|    ___    / __\"| u |_ \" _| U  /\"\\  u\n",
      "U| |_  u   |_\"_|  <\\___ \\/    | |    \\/ _ \\/\n",
      "\\|  _|/     | |    u___) |   /| |\\   / ___ \\\\\n",
      " |_|      U/| |\\u  |____/>> u |_|U  /_/   \\_\\\\\n",
      " )(\\\\\\,-.-,_|___|_,-.)(  (__)_// \\\\\\_  \\\\\\    >>\n",
      "(__)(_/ \\_)-' '-(_/(__)    (__) (__)(__)  (__)\n",
      "    \n",
      " - mu:  4.6415888336127727e-10\n",
      " - lipschitz constant:  1.1000000000000345\n",
      " - data:  (640, 368)\n",
      " - wavelet:  <mri.reconstruct.linear.WaveletN object at 0x7fa41578eb70> - 4\n",
      " - max iterations:  200\n",
      " - image variable shape:  (640, 368)\n",
      " - alpha variable shape:  (235520,)\n",
      "----------------------------------------\n",
      "Starting optimization...\n"
     ]
    },
    {
     "name": "stderr",
     "output_type": "stream",
     "text": [
      "100% (200 of 200) |######################| Elapsed Time: 0:00:52 Time:  0:00:52\n"
     ]
    },
    {
     "name": "stdout",
     "output_type": "stream",
     "text": [
      " - final iteration number:  200\n",
      " - final log10 cost value:  -4.990289946095847\n",
      " - converged:  True\n",
      "Done.\n",
      "Execution time:  1560.2592550000118  seconds\n",
      "----------------------------------------\n"
     ]
    },
    {
     "name": "stderr",
     "output_type": "stream",
     "text": [
      "\u001b[33mWARNING\u001b[0m: Making input data immutable.\n"
     ]
    },
    {
     "name": "stdout",
     "output_type": "stream",
     "text": [
      "\n",
      "  _____             ____     _____      _\n",
      " |\" ___|    ___    / __\"| u |_ \" _| U  /\"\\  u\n",
      "U| |_  u   |_\"_|  <\\___ \\/    | |    \\/ _ \\/\n",
      "\\|  _|/     | |    u___) |   /| |\\   / ___ \\\\\n",
      " |_|      U/| |\\u  |____/>> u |_|U  /_/   \\_\\\\\n",
      " )(\\\\\\,-.-,_|___|_,-.)(  (__)_// \\\\\\_  \\\\\\    >>\n",
      "(__)(_/ \\_)-' '-(_/(__)    (__) (__)(__)  (__)\n",
      "    \n",
      " - mu:  4.6415888336127727e-10\n",
      " - lipschitz constant:  1.1000000000001402\n",
      " - data:  (640, 372)\n",
      " - wavelet:  <mri.reconstruct.linear.WaveletN object at 0x7fa4157d5940> - 4\n",
      " - max iterations:  200\n",
      " - image variable shape:  (640, 372)\n",
      " - alpha variable shape:  (238320,)\n",
      "----------------------------------------\n",
      "Starting optimization...\n"
     ]
    },
    {
     "name": "stderr",
     "output_type": "stream",
     "text": [
      "100% (200 of 200) |######################| Elapsed Time: 0:00:53 Time:  0:00:53\n"
     ]
    },
    {
     "name": "stdout",
     "output_type": "stream",
     "text": [
      " - final iteration number:  200\n",
      " - final log10 cost value:  -6.123077369416291\n",
      " - converged:  True\n",
      "Done.\n",
      "Execution time:  1540.2863570000045  seconds\n",
      "----------------------------------------\n"
     ]
    },
    {
     "name": "stderr",
     "output_type": "stream",
     "text": [
      "\u001b[33mWARNING\u001b[0m: Making input data immutable.\n"
     ]
    },
    {
     "name": "stdout",
     "output_type": "stream",
     "text": [
      "\n",
      "  _____             ____     _____      _\n",
      " |\" ___|    ___    / __\"| u |_ \" _| U  /\"\\  u\n",
      "U| |_  u   |_\"_|  <\\___ \\/    | |    \\/ _ \\/\n",
      "\\|  _|/     | |    u___) |   /| |\\   / ___ \\\\\n",
      " |_|      U/| |\\u  |____/>> u |_|U  /_/   \\_\\\\\n",
      " )(\\\\\\,-.-,_|___|_,-.)(  (__)_// \\\\\\_  \\\\\\    >>\n",
      "(__)(_/ \\_)-' '-(_/(__)    (__) (__)(__)  (__)\n",
      "    \n",
      " - mu:  4.6415888336127727e-10\n",
      " - lipschitz constant:  1.1000000000000862\n",
      " - data:  (640, 368)\n",
      " - wavelet:  <mri.reconstruct.linear.WaveletN object at 0x7fa4157d5748> - 4\n",
      " - max iterations:  200\n",
      " - image variable shape:  (640, 368)\n",
      " - alpha variable shape:  (235520,)\n",
      "----------------------------------------\n",
      "Starting optimization...\n"
     ]
    },
    {
     "name": "stderr",
     "output_type": "stream",
     "text": [
      "100% (200 of 200) |######################| Elapsed Time: 0:00:51 Time:  0:00:51\n"
     ]
    },
    {
     "name": "stdout",
     "output_type": "stream",
     "text": [
      " - final iteration number:  200\n",
      " - final log10 cost value:  -5.36275983035422\n",
      " - converged:  True\n",
      "Done.\n",
      "Execution time:  1547.6352809999953  seconds\n",
      "----------------------------------------\n"
     ]
    },
    {
     "name": "stderr",
     "output_type": "stream",
     "text": [
      "\u001b[33mWARNING\u001b[0m: Making input data immutable.\n"
     ]
    },
    {
     "name": "stdout",
     "output_type": "stream",
     "text": [
      "\n",
      "  _____             ____     _____      _\n",
      " |\" ___|    ___    / __\"| u |_ \" _| U  /\"\\  u\n",
      "U| |_  u   |_\"_|  <\\___ \\/    | |    \\/ _ \\/\n",
      "\\|  _|/     | |    u___) |   /| |\\   / ___ \\\\\n",
      " |_|      U/| |\\u  |____/>> u |_|U  /_/   \\_\\\\\n",
      " )(\\\\\\,-.-,_|___|_,-.)(  (__)_// \\\\\\_  \\\\\\    >>\n",
      "(__)(_/ \\_)-' '-(_/(__)    (__) (__)(__)  (__)\n",
      "    \n",
      " - mu:  4.6415888336127727e-10\n",
      " - lipschitz constant:  1.0999999999999721\n",
      " - data:  (640, 368)\n",
      " - wavelet:  <mri.reconstruct.linear.WaveletN object at 0x7fa415777e80> - 4\n",
      " - max iterations:  200\n",
      " - image variable shape:  (640, 368)\n",
      " - alpha variable shape:  (235520,)\n",
      "----------------------------------------\n",
      "Starting optimization...\n"
     ]
    },
    {
     "name": "stderr",
     "output_type": "stream",
     "text": [
      "100% (200 of 200) |######################| Elapsed Time: 0:00:51 Time:  0:00:51\n"
     ]
    },
    {
     "name": "stdout",
     "output_type": "stream",
     "text": [
      " - final iteration number:  200\n",
      " - final log10 cost value:  -5.480272046536967\n",
      " - converged:  True\n",
      "Done.\n",
      "Execution time:  1543.8021290000179  seconds\n",
      "----------------------------------------\n"
     ]
    },
    {
     "name": "stderr",
     "output_type": "stream",
     "text": [
      "\u001b[33mWARNING\u001b[0m: Making input data immutable.\n"
     ]
    },
    {
     "name": "stdout",
     "output_type": "stream",
     "text": [
      "\n",
      "  _____             ____     _____      _\n",
      " |\" ___|    ___    / __\"| u |_ \" _| U  /\"\\  u\n",
      "U| |_  u   |_\"_|  <\\___ \\/    | |    \\/ _ \\/\n",
      "\\|  _|/     | |    u___) |   /| |\\   / ___ \\\\\n",
      " |_|      U/| |\\u  |____/>> u |_|U  /_/   \\_\\\\\n",
      " )(\\\\\\,-.-,_|___|_,-.)(  (__)_// \\\\\\_  \\\\\\    >>\n",
      "(__)(_/ \\_)-' '-(_/(__)    (__) (__)(__)  (__)\n",
      "    \n",
      " - mu:  4.6415888336127727e-10\n",
      " - lipschitz constant:  1.1000000000000876\n",
      " - data:  (640, 372)\n",
      " - wavelet:  <mri.reconstruct.linear.WaveletN object at 0x7fa41578ed30> - 4\n",
      " - max iterations:  200\n",
      " - image variable shape:  (640, 372)\n",
      " - alpha variable shape:  (238320,)\n",
      "----------------------------------------\n",
      "Starting optimization...\n"
     ]
    },
    {
     "name": "stderr",
     "output_type": "stream",
     "text": [
      "100% (200 of 200) |######################| Elapsed Time: 0:00:52 Time:  0:00:52\n"
     ]
    },
    {
     "name": "stdout",
     "output_type": "stream",
     "text": [
      " - final iteration number:  200\n",
      " - final log10 cost value:  -6.383950889224809\n",
      " - converged:  True\n",
      "Done.\n",
      "Execution time:  1580.724623999995  seconds\n",
      "----------------------------------------\n"
     ]
    },
    {
     "name": "stderr",
     "output_type": "stream",
     "text": [
      "\u001b[33mWARNING\u001b[0m: Making input data immutable.\n"
     ]
    },
    {
     "name": "stdout",
     "output_type": "stream",
     "text": [
      "\n",
      "  _____             ____     _____      _\n",
      " |\" ___|    ___    / __\"| u |_ \" _| U  /\"\\  u\n",
      "U| |_  u   |_\"_|  <\\___ \\/    | |    \\/ _ \\/\n",
      "\\|  _|/     | |    u___) |   /| |\\   / ___ \\\\\n",
      " |_|      U/| |\\u  |____/>> u |_|U  /_/   \\_\\\\\n",
      " )(\\\\\\,-.-,_|___|_,-.)(  (__)_// \\\\\\_  \\\\\\    >>\n",
      "(__)(_/ \\_)-' '-(_/(__)    (__) (__)(__)  (__)\n",
      "    \n",
      " - mu:  4.6415888336127727e-10\n",
      " - lipschitz constant:  1.0999999999999879\n",
      " - data:  (640, 372)\n",
      " - wavelet:  <mri.reconstruct.linear.WaveletN object at 0x7fa415760978> - 4\n",
      " - max iterations:  200\n",
      " - image variable shape:  (640, 372)\n",
      " - alpha variable shape:  (238320,)\n",
      "----------------------------------------\n",
      "Starting optimization...\n"
     ]
    },
    {
     "name": "stderr",
     "output_type": "stream",
     "text": [
      "100% (200 of 200) |######################| Elapsed Time: 0:00:52 Time:  0:00:52\n"
     ]
    },
    {
     "name": "stdout",
     "output_type": "stream",
     "text": [
      " - final iteration number:  200\n",
      " - final log10 cost value:  -6.358795944847378\n",
      " - converged:  True\n",
      "Done.\n",
      "Execution time:  1647.3839119999902  seconds\n",
      "----------------------------------------\n"
     ]
    },
    {
     "name": "stderr",
     "output_type": "stream",
     "text": [
      "\u001b[33mWARNING\u001b[0m: Making input data immutable.\n"
     ]
    },
    {
     "name": "stdout",
     "output_type": "stream",
     "text": [
      "\n",
      "  _____             ____     _____      _\n",
      " |\" ___|    ___    / __\"| u |_ \" _| U  /\"\\  u\n",
      "U| |_  u   |_\"_|  <\\___ \\/    | |    \\/ _ \\/\n",
      "\\|  _|/     | |    u___) |   /| |\\   / ___ \\\\\n",
      " |_|      U/| |\\u  |____/>> u |_|U  /_/   \\_\\\\\n",
      " )(\\\\\\,-.-,_|___|_,-.)(  (__)_// \\\\\\_  \\\\\\    >>\n",
      "(__)(_/ \\_)-' '-(_/(__)    (__) (__)(__)  (__)\n",
      "    \n",
      " - mu:  4.6415888336127727e-10\n",
      " - lipschitz constant:  1.0999999999999763\n",
      " - data:  (640, 372)\n",
      " - wavelet:  <mri.reconstruct.linear.WaveletN object at 0x7fa4157604e0> - 4\n",
      " - max iterations:  200\n",
      " - image variable shape:  (640, 372)\n",
      " - alpha variable shape:  (238320,)\n",
      "----------------------------------------\n",
      "Starting optimization...\n"
     ]
    },
    {
     "name": "stderr",
     "output_type": "stream",
     "text": [
      "100% (200 of 200) |######################| Elapsed Time: 0:00:52 Time:  0:00:52\n"
     ]
    },
    {
     "name": "stdout",
     "output_type": "stream",
     "text": [
      " - final iteration number:  200\n",
      " - final log10 cost value:  -6.167136568846719\n",
      " - converged:  True\n",
      "Done.\n",
      "Execution time:  1634.9034939999983  seconds\n",
      "----------------------------------------\n"
     ]
    },
    {
     "name": "stderr",
     "output_type": "stream",
     "text": [
      "\u001b[33mWARNING\u001b[0m: Making input data immutable.\n"
     ]
    },
    {
     "name": "stdout",
     "output_type": "stream",
     "text": [
      "\n",
      "  _____             ____     _____      _\n",
      " |\" ___|    ___    / __\"| u |_ \" _| U  /\"\\  u\n",
      "U| |_  u   |_\"_|  <\\___ \\/    | |    \\/ _ \\/\n",
      "\\|  _|/     | |    u___) |   /| |\\   / ___ \\\\\n",
      " |_|      U/| |\\u  |____/>> u |_|U  /_/   \\_\\\\\n",
      " )(\\\\\\,-.-,_|___|_,-.)(  (__)_// \\\\\\_  \\\\\\    >>\n",
      "(__)(_/ \\_)-' '-(_/(__)    (__) (__)(__)  (__)\n",
      "    \n",
      " - mu:  4.6415888336127727e-10\n",
      " - lipschitz constant:  1.1000000000000667\n",
      " - data:  (640, 368)\n",
      " - wavelet:  <mri.reconstruct.linear.WaveletN object at 0x7fa415760f28> - 4\n",
      " - max iterations:  200\n",
      " - image variable shape:  (640, 368)\n",
      " - alpha variable shape:  (235520,)\n",
      "----------------------------------------\n",
      "Starting optimization...\n"
     ]
    },
    {
     "name": "stderr",
     "output_type": "stream",
     "text": [
      "100% (200 of 200) |######################| Elapsed Time: 0:00:52 Time:  0:00:52\n"
     ]
    },
    {
     "name": "stdout",
     "output_type": "stream",
     "text": [
      " - final iteration number:  200\n",
      " - final log10 cost value:  -5.213854647430532\n",
      " - converged:  True\n",
      "Done.\n",
      "Execution time:  1529.7643749999988  seconds\n",
      "----------------------------------------\n"
     ]
    },
    {
     "name": "stderr",
     "output_type": "stream",
     "text": [
      "\u001b[33mWARNING\u001b[0m: Making input data immutable.\n"
     ]
    },
    {
     "name": "stdout",
     "output_type": "stream",
     "text": [
      "\n",
      "  _____             ____     _____      _\n",
      " |\" ___|    ___    / __\"| u |_ \" _| U  /\"\\  u\n",
      "U| |_  u   |_\"_|  <\\___ \\/    | |    \\/ _ \\/\n",
      "\\|  _|/     | |    u___) |   /| |\\   / ___ \\\\\n",
      " |_|      U/| |\\u  |____/>> u |_|U  /_/   \\_\\\\\n",
      " )(\\\\\\,-.-,_|___|_,-.)(  (__)_// \\\\\\_  \\\\\\    >>\n",
      "(__)(_/ \\_)-' '-(_/(__)    (__) (__)(__)  (__)\n",
      "    \n",
      " - mu:  4.6415888336127727e-10\n",
      " - lipschitz constant:  1.1000000000000323\n",
      " - data:  (640, 372)\n",
      " - wavelet:  <mri.reconstruct.linear.WaveletN object at 0x7fa415799ef0> - 4\n",
      " - max iterations:  200\n",
      " - image variable shape:  (640, 372)\n",
      " - alpha variable shape:  (238320,)\n",
      "----------------------------------------\n",
      "Starting optimization...\n"
     ]
    },
    {
     "name": "stderr",
     "output_type": "stream",
     "text": [
      "100% (200 of 200) |######################| Elapsed Time: 0:00:53 Time:  0:00:53\n"
     ]
    },
    {
     "name": "stdout",
     "output_type": "stream",
     "text": [
      " - final iteration number:  200\n",
      " - final log10 cost value:  -6.541624305533552\n",
      " - converged:  True\n",
      "Done.\n",
      "Execution time:  1586.0670470000186  seconds\n",
      "----------------------------------------\n"
     ]
    },
    {
     "name": "stderr",
     "output_type": "stream",
     "text": [
      "\u001b[33mWARNING\u001b[0m: Making input data immutable.\n"
     ]
    },
    {
     "name": "stdout",
     "output_type": "stream",
     "text": [
      "\n",
      "  _____             ____     _____      _\n",
      " |\" ___|    ___    / __\"| u |_ \" _| U  /\"\\  u\n",
      "U| |_  u   |_\"_|  <\\___ \\/    | |    \\/ _ \\/\n",
      "\\|  _|/     | |    u___) |   /| |\\   / ___ \\\\\n",
      " |_|      U/| |\\u  |____/>> u |_|U  /_/   \\_\\\\\n",
      " )(\\\\\\,-.-,_|___|_,-.)(  (__)_// \\\\\\_  \\\\\\    >>\n",
      "(__)(_/ \\_)-' '-(_/(__)    (__) (__)(__)  (__)\n",
      "    \n",
      " - mu:  4.6415888336127727e-10\n",
      " - lipschitz constant:  1.1000000000000276\n",
      " - data:  (640, 372)\n",
      " - wavelet:  <mri.reconstruct.linear.WaveletN object at 0x7fa415738710> - 4\n",
      " - max iterations:  200\n",
      " - image variable shape:  (640, 372)\n",
      " - alpha variable shape:  (238320,)\n",
      "----------------------------------------\n",
      "Starting optimization...\n"
     ]
    },
    {
     "name": "stderr",
     "output_type": "stream",
     "text": [
      "100% (200 of 200) |######################| Elapsed Time: 0:00:53 Time:  0:00:53\n"
     ]
    },
    {
     "name": "stdout",
     "output_type": "stream",
     "text": [
      " - final iteration number:  200\n",
      " - final log10 cost value:  -6.28207876258263\n",
      " - converged:  True\n",
      "Done.\n",
      "Execution time:  1578.0400760000048  seconds\n",
      "----------------------------------------\n"
     ]
    },
    {
     "name": "stderr",
     "output_type": "stream",
     "text": [
      "\u001b[33mWARNING\u001b[0m: Making input data immutable.\n"
     ]
    },
    {
     "name": "stdout",
     "output_type": "stream",
     "text": [
      "\n",
      "  _____             ____     _____      _\n",
      " |\" ___|    ___    / __\"| u |_ \" _| U  /\"\\  u\n",
      "U| |_  u   |_\"_|  <\\___ \\/    | |    \\/ _ \\/\n",
      "\\|  _|/     | |    u___) |   /| |\\   / ___ \\\\\n",
      " |_|      U/| |\\u  |____/>> u |_|U  /_/   \\_\\\\\n",
      " )(\\\\\\,-.-,_|___|_,-.)(  (__)_// \\\\\\_  \\\\\\    >>\n",
      "(__)(_/ \\_)-' '-(_/(__)    (__) (__)(__)  (__)\n",
      "    \n",
      " - mu:  4.6415888336127727e-10\n",
      " - lipschitz constant:  1.0999999999999839\n",
      " - data:  (640, 372)\n",
      " - wavelet:  <mri.reconstruct.linear.WaveletN object at 0x7fa415766ac8> - 4\n",
      " - max iterations:  200\n",
      " - image variable shape:  (640, 372)\n",
      " - alpha variable shape:  (238320,)\n",
      "----------------------------------------\n",
      "Starting optimization...\n"
     ]
    },
    {
     "name": "stderr",
     "output_type": "stream",
     "text": [
      "100% (200 of 200) |######################| Elapsed Time: 0:00:54 Time:  0:00:54\n"
     ]
    },
    {
     "name": "stdout",
     "output_type": "stream",
     "text": [
      " - final iteration number:  200\n",
      " - final log10 cost value:  -6.518039338293987\n",
      " - converged:  True\n",
      "Done.\n",
      "Execution time:  1582.7076159999997  seconds\n",
      "----------------------------------------\n"
     ]
    },
    {
     "name": "stderr",
     "output_type": "stream",
     "text": [
      "\u001b[33mWARNING\u001b[0m: Making input data immutable.\n"
     ]
    },
    {
     "name": "stdout",
     "output_type": "stream",
     "text": [
      "\n",
      "  _____             ____     _____      _\n",
      " |\" ___|    ___    / __\"| u |_ \" _| U  /\"\\  u\n",
      "U| |_  u   |_\"_|  <\\___ \\/    | |    \\/ _ \\/\n",
      "\\|  _|/     | |    u___) |   /| |\\   / ___ \\\\\n",
      " |_|      U/| |\\u  |____/>> u |_|U  /_/   \\_\\\\\n",
      " )(\\\\\\,-.-,_|___|_,-.)(  (__)_// \\\\\\_  \\\\\\    >>\n",
      "(__)(_/ \\_)-' '-(_/(__)    (__) (__)(__)  (__)\n",
      "    \n",
      " - mu:  4.6415888336127727e-10\n",
      " - lipschitz constant:  1.1000000000001497\n",
      " - data:  (640, 368)\n",
      " - wavelet:  <mri.reconstruct.linear.WaveletN object at 0x7fa415766b00> - 4\n",
      " - max iterations:  200\n",
      " - image variable shape:  (640, 368)\n",
      " - alpha variable shape:  (235520,)\n",
      "----------------------------------------\n",
      "Starting optimization...\n"
     ]
    },
    {
     "name": "stderr",
     "output_type": "stream",
     "text": [
      "100% (200 of 200) |######################| Elapsed Time: 0:00:50 Time:  0:00:50\n"
     ]
    },
    {
     "name": "stdout",
     "output_type": "stream",
     "text": [
      " - final iteration number:  200\n",
      " - final log10 cost value:  -5.752232998822134\n",
      " - converged:  True\n",
      "Done.\n",
      "Execution time:  1551.8085510000237  seconds\n",
      "----------------------------------------\n"
     ]
    },
    {
     "name": "stderr",
     "output_type": "stream",
     "text": [
      "\u001b[33mWARNING\u001b[0m: Making input data immutable.\n"
     ]
    },
    {
     "name": "stdout",
     "output_type": "stream",
     "text": [
      "\n",
      "  _____             ____     _____      _\n",
      " |\" ___|    ___    / __\"| u |_ \" _| U  /\"\\  u\n",
      "U| |_  u   |_\"_|  <\\___ \\/    | |    \\/ _ \\/\n",
      "\\|  _|/     | |    u___) |   /| |\\   / ___ \\\\\n",
      " |_|      U/| |\\u  |____/>> u |_|U  /_/   \\_\\\\\n",
      " )(\\\\\\,-.-,_|___|_,-.)(  (__)_// \\\\\\_  \\\\\\    >>\n",
      "(__)(_/ \\_)-' '-(_/(__)    (__) (__)(__)  (__)\n",
      "    \n",
      " - mu:  4.6415888336127727e-10\n",
      " - lipschitz constant:  1.1000000000000316\n",
      " - data:  (640, 372)\n",
      " - wavelet:  <mri.reconstruct.linear.WaveletN object at 0x7fa415738f60> - 4\n",
      " - max iterations:  200\n",
      " - image variable shape:  (640, 372)\n",
      " - alpha variable shape:  (238320,)\n",
      "----------------------------------------\n",
      "Starting optimization...\n"
     ]
    },
    {
     "name": "stderr",
     "output_type": "stream",
     "text": [
      "100% (200 of 200) |######################| Elapsed Time: 0:00:54 Time:  0:00:54\n"
     ]
    },
    {
     "name": "stdout",
     "output_type": "stream",
     "text": [
      " - final iteration number:  200\n",
      " - final log10 cost value:  -6.25637050113421\n",
      " - converged:  True\n",
      "Done.\n",
      "Execution time:  1539.903668999992  seconds\n",
      "----------------------------------------\n"
     ]
    },
    {
     "name": "stderr",
     "output_type": "stream",
     "text": [
      "\u001b[33mWARNING\u001b[0m: Making input data immutable.\n"
     ]
    },
    {
     "name": "stdout",
     "output_type": "stream",
     "text": [
      "\n",
      "  _____             ____     _____      _\n",
      " |\" ___|    ___    / __\"| u |_ \" _| U  /\"\\  u\n",
      "U| |_  u   |_\"_|  <\\___ \\/    | |    \\/ _ \\/\n",
      "\\|  _|/     | |    u___) |   /| |\\   / ___ \\\\\n",
      " |_|      U/| |\\u  |____/>> u |_|U  /_/   \\_\\\\\n",
      " )(\\\\\\,-.-,_|___|_,-.)(  (__)_// \\\\\\_  \\\\\\    >>\n",
      "(__)(_/ \\_)-' '-(_/(__)    (__) (__)(__)  (__)\n",
      "    \n",
      " - mu:  4.6415888336127727e-10\n",
      " - lipschitz constant:  1.1000000000000314\n",
      " - data:  (640, 372)\n",
      " - wavelet:  <mri.reconstruct.linear.WaveletN object at 0x7fa4156f21d0> - 4\n",
      " - max iterations:  200\n",
      " - image variable shape:  (640, 372)\n",
      " - alpha variable shape:  (238320,)\n",
      "----------------------------------------\n",
      "Starting optimization...\n"
     ]
    },
    {
     "name": "stderr",
     "output_type": "stream",
     "text": [
      "100% (200 of 200) |######################| Elapsed Time: 0:00:53 Time:  0:00:53\n"
     ]
    },
    {
     "name": "stdout",
     "output_type": "stream",
     "text": [
      " - final iteration number:  200\n",
      " - final log10 cost value:  -6.367421867037847\n",
      " - converged:  True\n",
      "Done.\n",
      "Execution time:  1605.9578439999896  seconds\n",
      "----------------------------------------\n"
     ]
    },
    {
     "name": "stderr",
     "output_type": "stream",
     "text": [
      "\u001b[33mWARNING\u001b[0m: Making input data immutable.\n"
     ]
    },
    {
     "name": "stdout",
     "output_type": "stream",
     "text": [
      "\n",
      "  _____             ____     _____      _\n",
      " |\" ___|    ___    / __\"| u |_ \" _| U  /\"\\  u\n",
      "U| |_  u   |_\"_|  <\\___ \\/    | |    \\/ _ \\/\n",
      "\\|  _|/     | |    u___) |   /| |\\   / ___ \\\\\n",
      " |_|      U/| |\\u  |____/>> u |_|U  /_/   \\_\\\\\n",
      " )(\\\\\\,-.-,_|___|_,-.)(  (__)_// \\\\\\_  \\\\\\    >>\n",
      "(__)(_/ \\_)-' '-(_/(__)    (__) (__)(__)  (__)\n",
      "    \n",
      " - mu:  4.6415888336127727e-10\n",
      " - lipschitz constant:  1.1000000000000638\n",
      " - data:  (640, 372)\n",
      " - wavelet:  <mri.reconstruct.linear.WaveletN object at 0x7fa4156f2198> - 4\n",
      " - max iterations:  200\n",
      " - image variable shape:  (640, 372)\n",
      " - alpha variable shape:  (238320,)\n",
      "----------------------------------------\n",
      "Starting optimization...\n"
     ]
    },
    {
     "name": "stderr",
     "output_type": "stream",
     "text": [
      "100% (200 of 200) |######################| Elapsed Time: 0:00:55 Time:  0:00:55\n"
     ]
    },
    {
     "name": "stdout",
     "output_type": "stream",
     "text": [
      " - final iteration number:  200\n",
      " - final log10 cost value:  -6.633370877985645\n",
      " - converged:  True\n",
      "Done.\n",
      "Execution time:  1571.0277720000013  seconds\n",
      "----------------------------------------\n"
     ]
    },
    {
     "name": "stderr",
     "output_type": "stream",
     "text": [
      "\u001b[33mWARNING\u001b[0m: Making input data immutable.\n"
     ]
    },
    {
     "name": "stdout",
     "output_type": "stream",
     "text": [
      "\n",
      "  _____             ____     _____      _\n",
      " |\" ___|    ___    / __\"| u |_ \" _| U  /\"\\  u\n",
      "U| |_  u   |_\"_|  <\\___ \\/    | |    \\/ _ \\/\n",
      "\\|  _|/     | |    u___) |   /| |\\   / ___ \\\\\n",
      " |_|      U/| |\\u  |____/>> u |_|U  /_/   \\_\\\\\n",
      " )(\\\\\\,-.-,_|___|_,-.)(  (__)_// \\\\\\_  \\\\\\    >>\n",
      "(__)(_/ \\_)-' '-(_/(__)    (__) (__)(__)  (__)\n",
      "    \n",
      " - mu:  4.6415888336127727e-10\n",
      " - lipschitz constant:  1.0999999999999888\n",
      " - data:  (640, 372)\n",
      " - wavelet:  <mri.reconstruct.linear.WaveletN object at 0x7fa415738470> - 4\n",
      " - max iterations:  200\n",
      " - image variable shape:  (640, 372)\n",
      " - alpha variable shape:  (238320,)\n",
      "----------------------------------------\n",
      "Starting optimization...\n"
     ]
    },
    {
     "name": "stderr",
     "output_type": "stream",
     "text": [
      "100% (200 of 200) |######################| Elapsed Time: 0:00:54 Time:  0:00:54\n"
     ]
    },
    {
     "name": "stdout",
     "output_type": "stream",
     "text": [
      " - final iteration number:  200\n",
      " - final log10 cost value:  -6.4757996465600325\n",
      " - converged:  True\n",
      "Done.\n",
      "Execution time:  1608.5751140000066  seconds\n",
      "----------------------------------------\n"
     ]
    },
    {
     "name": "stderr",
     "output_type": "stream",
     "text": [
      "\u001b[33mWARNING\u001b[0m: Making input data immutable.\n"
     ]
    },
    {
     "name": "stdout",
     "output_type": "stream",
     "text": [
      "\n",
      "  _____             ____     _____      _\n",
      " |\" ___|    ___    / __\"| u |_ \" _| U  /\"\\  u\n",
      "U| |_  u   |_\"_|  <\\___ \\/    | |    \\/ _ \\/\n",
      "\\|  _|/     | |    u___) |   /| |\\   / ___ \\\\\n",
      " |_|      U/| |\\u  |____/>> u |_|U  /_/   \\_\\\\\n",
      " )(\\\\\\,-.-,_|___|_,-.)(  (__)_// \\\\\\_  \\\\\\    >>\n",
      "(__)(_/ \\_)-' '-(_/(__)    (__) (__)(__)  (__)\n",
      "    \n",
      " - mu:  4.6415888336127727e-10\n",
      " - lipschitz constant:  1.1000000000000751\n",
      " - data:  (640, 372)\n",
      " - wavelet:  <mri.reconstruct.linear.WaveletN object at 0x7fa415738710> - 4\n",
      " - max iterations:  200\n",
      " - image variable shape:  (640, 372)\n",
      " - alpha variable shape:  (238320,)\n",
      "----------------------------------------\n",
      "Starting optimization...\n"
     ]
    },
    {
     "name": "stderr",
     "output_type": "stream",
     "text": [
      "100% (200 of 200) |######################| Elapsed Time: 0:00:52 Time:  0:00:52\n"
     ]
    },
    {
     "name": "stdout",
     "output_type": "stream",
     "text": [
      " - final iteration number:  200\n",
      " - final log10 cost value:  -6.299281388914781\n",
      " - converged:  True\n",
      "Done.\n",
      "Execution time:  1646.995368999982  seconds\n",
      "----------------------------------------\n"
     ]
    },
    {
     "name": "stderr",
     "output_type": "stream",
     "text": [
      "\u001b[33mWARNING\u001b[0m: Making input data immutable.\n"
     ]
    },
    {
     "name": "stdout",
     "output_type": "stream",
     "text": [
      "\n",
      "  _____             ____     _____      _\n",
      " |\" ___|    ___    / __\"| u |_ \" _| U  /\"\\  u\n",
      "U| |_  u   |_\"_|  <\\___ \\/    | |    \\/ _ \\/\n",
      "\\|  _|/     | |    u___) |   /| |\\   / ___ \\\\\n",
      " |_|      U/| |\\u  |____/>> u |_|U  /_/   \\_\\\\\n",
      " )(\\\\\\,-.-,_|___|_,-.)(  (__)_// \\\\\\_  \\\\\\    >>\n",
      "(__)(_/ \\_)-' '-(_/(__)    (__) (__)(__)  (__)\n",
      "    \n",
      " - mu:  4.6415888336127727e-10\n",
      " - lipschitz constant:  1.1000000000000798\n",
      " - data:  (640, 368)\n",
      " - wavelet:  <mri.reconstruct.linear.WaveletN object at 0x7fa415799198> - 4\n",
      " - max iterations:  200\n",
      " - image variable shape:  (640, 368)\n",
      " - alpha variable shape:  (235520,)\n",
      "----------------------------------------\n",
      "Starting optimization...\n"
     ]
    },
    {
     "name": "stderr",
     "output_type": "stream",
     "text": [
      "100% (200 of 200) |######################| Elapsed Time: 0:00:50 Time:  0:00:50\n"
     ]
    },
    {
     "name": "stdout",
     "output_type": "stream",
     "text": [
      " - final iteration number:  200\n",
      " - final log10 cost value:  -5.046437968245987\n",
      " - converged:  True\n",
      "Done.\n",
      "Execution time:  1631.5164740000037  seconds\n",
      "----------------------------------------\n"
     ]
    },
    {
     "name": "stderr",
     "output_type": "stream",
     "text": [
      "\u001b[33mWARNING\u001b[0m: Making input data immutable.\n"
     ]
    },
    {
     "name": "stdout",
     "output_type": "stream",
     "text": [
      "\n",
      "  _____             ____     _____      _\n",
      " |\" ___|    ___    / __\"| u |_ \" _| U  /\"\\  u\n",
      "U| |_  u   |_\"_|  <\\___ \\/    | |    \\/ _ \\/\n",
      "\\|  _|/     | |    u___) |   /| |\\   / ___ \\\\\n",
      " |_|      U/| |\\u  |____/>> u |_|U  /_/   \\_\\\\\n",
      " )(\\\\\\,-.-,_|___|_,-.)(  (__)_// \\\\\\_  \\\\\\    >>\n",
      "(__)(_/ \\_)-' '-(_/(__)    (__) (__)(__)  (__)\n",
      "    \n",
      " - mu:  4.6415888336127727e-10\n",
      " - lipschitz constant:  1.100000000000088\n",
      " - data:  (640, 368)\n",
      " - wavelet:  <mri.reconstruct.linear.WaveletN object at 0x7fa415766ac8> - 4\n",
      " - max iterations:  200\n",
      " - image variable shape:  (640, 368)\n",
      " - alpha variable shape:  (235520,)\n",
      "----------------------------------------\n",
      "Starting optimization...\n"
     ]
    },
    {
     "name": "stderr",
     "output_type": "stream",
     "text": [
      "100% (200 of 200) |######################| Elapsed Time: 0:00:50 Time:  0:00:50\n"
     ]
    },
    {
     "name": "stdout",
     "output_type": "stream",
     "text": [
      " - final iteration number:  200\n",
      " - final log10 cost value:  -5.3490363288939085\n",
      " - converged:  True\n",
      "Done.\n",
      "Execution time:  1556.9497149999952  seconds\n",
      "----------------------------------------\n"
     ]
    },
    {
     "name": "stderr",
     "output_type": "stream",
     "text": [
      "\u001b[33mWARNING\u001b[0m: Making input data immutable.\n"
     ]
    },
    {
     "name": "stdout",
     "output_type": "stream",
     "text": [
      "\n",
      "  _____             ____     _____      _\n",
      " |\" ___|    ___    / __\"| u |_ \" _| U  /\"\\  u\n",
      "U| |_  u   |_\"_|  <\\___ \\/    | |    \\/ _ \\/\n",
      "\\|  _|/     | |    u___) |   /| |\\   / ___ \\\\\n",
      " |_|      U/| |\\u  |____/>> u |_|U  /_/   \\_\\\\\n",
      " )(\\\\\\,-.-,_|___|_,-.)(  (__)_// \\\\\\_  \\\\\\    >>\n",
      "(__)(_/ \\_)-' '-(_/(__)    (__) (__)(__)  (__)\n",
      "    \n",
      " - mu:  4.6415888336127727e-10\n",
      " - lipschitz constant:  1.1000000000000694\n",
      " - data:  (640, 368)\n",
      " - wavelet:  <mri.reconstruct.linear.WaveletN object at 0x7fa415760160> - 4\n",
      " - max iterations:  200\n",
      " - image variable shape:  (640, 368)\n",
      " - alpha variable shape:  (235520,)\n",
      "----------------------------------------\n",
      "Starting optimization...\n"
     ]
    },
    {
     "name": "stderr",
     "output_type": "stream",
     "text": [
      "100% (200 of 200) |######################| Elapsed Time: 0:00:51 Time:  0:00:51\n"
     ]
    },
    {
     "name": "stdout",
     "output_type": "stream",
     "text": [
      " - final iteration number:  200\n",
      " - final log10 cost value:  -4.801880100051701\n",
      " - converged:  True\n",
      "Done.\n",
      "Execution time:  1571.054214999982  seconds\n",
      "----------------------------------------\n"
     ]
    },
    {
     "name": "stderr",
     "output_type": "stream",
     "text": [
      "\u001b[33mWARNING\u001b[0m: Making input data immutable.\n"
     ]
    },
    {
     "name": "stdout",
     "output_type": "stream",
     "text": [
      "\n",
      "  _____             ____     _____      _\n",
      " |\" ___|    ___    / __\"| u |_ \" _| U  /\"\\  u\n",
      "U| |_  u   |_\"_|  <\\___ \\/    | |    \\/ _ \\/\n",
      "\\|  _|/     | |    u___) |   /| |\\   / ___ \\\\\n",
      " |_|      U/| |\\u  |____/>> u |_|U  /_/   \\_\\\\\n",
      " )(\\\\\\,-.-,_|___|_,-.)(  (__)_// \\\\\\_  \\\\\\    >>\n",
      "(__)(_/ \\_)-' '-(_/(__)    (__) (__)(__)  (__)\n",
      "    \n",
      " - mu:  4.6415888336127727e-10\n",
      " - lipschitz constant:  1.1000000000000665\n",
      " - data:  (640, 372)\n",
      " - wavelet:  <mri.reconstruct.linear.WaveletN object at 0x7fa415760f28> - 4\n",
      " - max iterations:  200\n",
      " - image variable shape:  (640, 372)\n",
      " - alpha variable shape:  (238320,)\n",
      "----------------------------------------\n",
      "Starting optimization...\n"
     ]
    },
    {
     "name": "stderr",
     "output_type": "stream",
     "text": [
      "100% (200 of 200) |######################| Elapsed Time: 0:00:53 Time:  0:00:53\n"
     ]
    },
    {
     "name": "stdout",
     "output_type": "stream",
     "text": [
      " - final iteration number:  200\n",
      " - final log10 cost value:  -6.300477411146958\n",
      " - converged:  True\n",
      "Done.\n",
      "Execution time:  1551.170053000009  seconds\n",
      "----------------------------------------\n"
     ]
    },
    {
     "name": "stderr",
     "output_type": "stream",
     "text": [
      "\u001b[33mWARNING\u001b[0m: Making input data immutable.\n"
     ]
    },
    {
     "name": "stdout",
     "output_type": "stream",
     "text": [
      "\n",
      "  _____             ____     _____      _\n",
      " |\" ___|    ___    / __\"| u |_ \" _| U  /\"\\  u\n",
      "U| |_  u   |_\"_|  <\\___ \\/    | |    \\/ _ \\/\n",
      "\\|  _|/     | |    u___) |   /| |\\   / ___ \\\\\n",
      " |_|      U/| |\\u  |____/>> u |_|U  /_/   \\_\\\\\n",
      " )(\\\\\\,-.-,_|___|_,-.)(  (__)_// \\\\\\_  \\\\\\    >>\n",
      "(__)(_/ \\_)-' '-(_/(__)    (__) (__)(__)  (__)\n",
      "    \n",
      " - mu:  4.6415888336127727e-10\n",
      " - lipschitz constant:  1.099999999999976\n",
      " - data:  (640, 372)\n",
      " - wavelet:  <mri.reconstruct.linear.WaveletN object at 0x7fa415738c18> - 4\n",
      " - max iterations:  200\n",
      " - image variable shape:  (640, 372)\n",
      " - alpha variable shape:  (238320,)\n",
      "----------------------------------------\n",
      "Starting optimization...\n"
     ]
    },
    {
     "name": "stderr",
     "output_type": "stream",
     "text": [
      "100% (200 of 200) |######################| Elapsed Time: 0:00:53 Time:  0:00:53\n"
     ]
    },
    {
     "name": "stdout",
     "output_type": "stream",
     "text": [
      " - final iteration number:  200\n",
      " - final log10 cost value:  -6.478021954730058\n",
      " - converged:  True\n",
      "Done.\n",
      "Execution time:  1533.1889220000012  seconds\n",
      "----------------------------------------\n"
     ]
    },
    {
     "name": "stderr",
     "output_type": "stream",
     "text": [
      "\u001b[33mWARNING\u001b[0m: Making input data immutable.\n"
     ]
    },
    {
     "name": "stdout",
     "output_type": "stream",
     "text": [
      "\n",
      "  _____             ____     _____      _\n",
      " |\" ___|    ___    / __\"| u |_ \" _| U  /\"\\  u\n",
      "U| |_  u   |_\"_|  <\\___ \\/    | |    \\/ _ \\/\n",
      "\\|  _|/     | |    u___) |   /| |\\   / ___ \\\\\n",
      " |_|      U/| |\\u  |____/>> u |_|U  /_/   \\_\\\\\n",
      " )(\\\\\\,-.-,_|___|_,-.)(  (__)_// \\\\\\_  \\\\\\    >>\n",
      "(__)(_/ \\_)-' '-(_/(__)    (__) (__)(__)  (__)\n",
      "    \n",
      " - mu:  4.6415888336127727e-10\n",
      " - lipschitz constant:  1.1000000000000734\n",
      " - data:  (640, 368)\n",
      " - wavelet:  <mri.reconstruct.linear.WaveletN object at 0x7fa4157668d0> - 4\n",
      " - max iterations:  200\n",
      " - image variable shape:  (640, 368)\n",
      " - alpha variable shape:  (235520,)\n",
      "----------------------------------------\n",
      "Starting optimization...\n"
     ]
    },
    {
     "name": "stderr",
     "output_type": "stream",
     "text": [
      "100% (200 of 200) |######################| Elapsed Time: 0:00:51 Time:  0:00:51\n"
     ]
    },
    {
     "name": "stdout",
     "output_type": "stream",
     "text": [
      " - final iteration number:  200\n",
      " - final log10 cost value:  -5.016051704664077\n",
      " - converged:  True\n",
      "Done.\n",
      "Execution time:  1498.1514329999918  seconds\n",
      "----------------------------------------\n"
     ]
    },
    {
     "name": "stderr",
     "output_type": "stream",
     "text": [
      "\u001b[33mWARNING\u001b[0m: Making input data immutable.\n"
     ]
    },
    {
     "name": "stdout",
     "output_type": "stream",
     "text": [
      "\n",
      "  _____             ____     _____      _\n",
      " |\" ___|    ___    / __\"| u |_ \" _| U  /\"\\  u\n",
      "U| |_  u   |_\"_|  <\\___ \\/    | |    \\/ _ \\/\n",
      "\\|  _|/     | |    u___) |   /| |\\   / ___ \\\\\n",
      " |_|      U/| |\\u  |____/>> u |_|U  /_/   \\_\\\\\n",
      " )(\\\\\\,-.-,_|___|_,-.)(  (__)_// \\\\\\_  \\\\\\    >>\n",
      "(__)(_/ \\_)-' '-(_/(__)    (__) (__)(__)  (__)\n",
      "    \n",
      " - mu:  4.6415888336127727e-10\n",
      " - lipschitz constant:  1.0999999999999803\n",
      " - data:  (640, 368)\n",
      " - wavelet:  <mri.reconstruct.linear.WaveletN object at 0x7fa415738f60> - 4\n",
      " - max iterations:  200\n",
      " - image variable shape:  (640, 368)\n",
      " - alpha variable shape:  (235520,)\n",
      "----------------------------------------\n",
      "Starting optimization...\n"
     ]
    },
    {
     "name": "stderr",
     "output_type": "stream",
     "text": [
      "100% (200 of 200) |######################| Elapsed Time: 0:00:52 Time:  0:00:52\n"
     ]
    },
    {
     "name": "stdout",
     "output_type": "stream",
     "text": [
      " - final iteration number:  200\n",
      " - final log10 cost value:  -5.193165571213524\n",
      " - converged:  True\n",
      "Done.\n",
      "Execution time:  1547.0837769999926  seconds\n",
      "----------------------------------------\n",
      "\n"
     ]
    },
    {
     "data": {
      "application/vnd.jupyter.widget-view+json": {
       "model_id": "cb6d697b98944f31af5fda4f3ab08b05",
       "version_major": 2,
       "version_minor": 0
      },
      "text/plain": [
       "HBox(children=(FloatProgress(value=0.0, description='Stats', max=24.0, style=ProgressStyle(description_width='…"
      ]
     },
     "metadata": {},
     "output_type": "display_data"
    },
    {
     "name": "stdout",
     "output_type": "stream",
     "text": [
      "\n"
     ]
    },
    {
     "data": {
      "application/vnd.jupyter.widget-view+json": {
       "model_id": "323c0fc3259144878db1415ac0158e77",
       "version_major": 2,
       "version_minor": 0
      },
      "text/plain": [
       "HBox(children=(FloatProgress(value=0.0, description='K-spaces', max=24.0, style=ProgressStyle(description_widt…"
      ]
     },
     "metadata": {},
     "output_type": "display_data"
    },
    {
     "name": "stderr",
     "output_type": "stream",
     "text": [
      "\u001b[33mWARNING\u001b[0m: Making input data immutable.\n"
     ]
    },
    {
     "name": "stdout",
     "output_type": "stream",
     "text": [
      "\n",
      "  _____             ____     _____      _\n",
      " |\" ___|    ___    / __\"| u |_ \" _| U  /\"\\  u\n",
      "U| |_  u   |_\"_|  <\\___ \\/    | |    \\/ _ \\/\n",
      "\\|  _|/     | |    u___) |   /| |\\   / ___ \\\\\n",
      " |_|      U/| |\\u  |____/>> u |_|U  /_/   \\_\\\\\n",
      " )(\\\\\\,-.-,_|___|_,-.)(  (__)_// \\\\\\_  \\\\\\    >>\n",
      "(__)(_/ \\_)-' '-(_/(__)    (__) (__)(__)  (__)\n",
      "    \n",
      " - mu:  1e-09\n",
      " - lipschitz constant:  1.1000000000001449\n",
      " - data:  (640, 368)\n",
      " - wavelet:  <mri.reconstruct.linear.WaveletN object at 0x7fa41578e630> - 4\n",
      " - max iterations:  200\n",
      " - image variable shape:  (640, 368)\n",
      " - alpha variable shape:  (235520,)\n",
      "----------------------------------------\n",
      "Starting optimization...\n"
     ]
    },
    {
     "name": "stderr",
     "output_type": "stream",
     "text": [
      "100% (200 of 200) |######################| Elapsed Time: 0:00:51 Time:  0:00:51\n"
     ]
    },
    {
     "name": "stdout",
     "output_type": "stream",
     "text": [
      " - final iteration number:  200\n",
      " - final log10 cost value:  -5.301385037964724\n",
      " - converged:  True\n",
      "Done.\n",
      "Execution time:  1505.342249999987  seconds\n",
      "----------------------------------------\n"
     ]
    },
    {
     "name": "stderr",
     "output_type": "stream",
     "text": [
      "\u001b[33mWARNING\u001b[0m: Making input data immutable.\n"
     ]
    },
    {
     "name": "stdout",
     "output_type": "stream",
     "text": [
      "\n",
      "  _____             ____     _____      _\n",
      " |\" ___|    ___    / __\"| u |_ \" _| U  /\"\\  u\n",
      "U| |_  u   |_\"_|  <\\___ \\/    | |    \\/ _ \\/\n",
      "\\|  _|/     | |    u___) |   /| |\\   / ___ \\\\\n",
      " |_|      U/| |\\u  |____/>> u |_|U  /_/   \\_\\\\\n",
      " )(\\\\\\,-.-,_|___|_,-.)(  (__)_// \\\\\\_  \\\\\\    >>\n",
      "(__)(_/ \\_)-' '-(_/(__)    (__) (__)(__)  (__)\n",
      "    \n",
      " - mu:  1e-09\n",
      " - lipschitz constant:  1.100000000000071\n",
      " - data:  (640, 372)\n",
      " - wavelet:  <mri.reconstruct.linear.WaveletN object at 0x7fa415766f28> - 4\n",
      " - max iterations:  200\n",
      " - image variable shape:  (640, 372)\n",
      " - alpha variable shape:  (238320,)\n",
      "----------------------------------------\n",
      "Starting optimization...\n"
     ]
    },
    {
     "name": "stderr",
     "output_type": "stream",
     "text": [
      "100% (200 of 200) |######################| Elapsed Time: 0:00:52 Time:  0:00:52\n"
     ]
    },
    {
     "name": "stdout",
     "output_type": "stream",
     "text": [
      " - final iteration number:  200\n",
      " - final log10 cost value:  -6.258356024028352\n",
      " - converged:  True\n",
      "Done.\n",
      "Execution time:  1562.9389329999976  seconds\n",
      "----------------------------------------\n"
     ]
    },
    {
     "name": "stderr",
     "output_type": "stream",
     "text": [
      "\u001b[33mWARNING\u001b[0m: Making input data immutable.\n"
     ]
    },
    {
     "name": "stdout",
     "output_type": "stream",
     "text": [
      "\n",
      "  _____             ____     _____      _\n",
      " |\" ___|    ___    / __\"| u |_ \" _| U  /\"\\  u\n",
      "U| |_  u   |_\"_|  <\\___ \\/    | |    \\/ _ \\/\n",
      "\\|  _|/     | |    u___) |   /| |\\   / ___ \\\\\n",
      " |_|      U/| |\\u  |____/>> u |_|U  /_/   \\_\\\\\n",
      " )(\\\\\\,-.-,_|___|_,-.)(  (__)_// \\\\\\_  \\\\\\    >>\n",
      "(__)(_/ \\_)-' '-(_/(__)    (__) (__)(__)  (__)\n",
      "    \n",
      " - mu:  1e-09\n",
      " - lipschitz constant:  1.0999999999999808\n",
      " - data:  (640, 368)\n",
      " - wavelet:  <mri.reconstruct.linear.WaveletN object at 0x7fa41578eb70> - 4\n",
      " - max iterations:  200\n",
      " - image variable shape:  (640, 368)\n",
      " - alpha variable shape:  (235520,)\n",
      "----------------------------------------\n",
      "Starting optimization...\n"
     ]
    },
    {
     "name": "stderr",
     "output_type": "stream",
     "text": [
      "100% (200 of 200) |######################| Elapsed Time: 0:00:50 Time:  0:00:50\n"
     ]
    },
    {
     "name": "stdout",
     "output_type": "stream",
     "text": [
      " - final iteration number:  200\n",
      " - final log10 cost value:  -5.316313571646152\n",
      " - converged:  True\n",
      "Done.\n",
      "Execution time:  1636.306958000001  seconds\n",
      "----------------------------------------\n"
     ]
    },
    {
     "name": "stderr",
     "output_type": "stream",
     "text": [
      "\u001b[33mWARNING\u001b[0m: Making input data immutable.\n"
     ]
    },
    {
     "name": "stdout",
     "output_type": "stream",
     "text": [
      "\n",
      "  _____             ____     _____      _\n",
      " |\" ___|    ___    / __\"| u |_ \" _| U  /\"\\  u\n",
      "U| |_  u   |_\"_|  <\\___ \\/    | |    \\/ _ \\/\n",
      "\\|  _|/     | |    u___) |   /| |\\   / ___ \\\\\n",
      " |_|      U/| |\\u  |____/>> u |_|U  /_/   \\_\\\\\n",
      " )(\\\\\\,-.-,_|___|_,-.)(  (__)_// \\\\\\_  \\\\\\    >>\n",
      "(__)(_/ \\_)-' '-(_/(__)    (__) (__)(__)  (__)\n",
      "    \n",
      " - mu:  1e-09\n",
      " - lipschitz constant:  1.0999999999999814\n",
      " - data:  (640, 368)\n",
      " - wavelet:  <mri.reconstruct.linear.WaveletN object at 0x7fa4156f2908> - 4\n",
      " - max iterations:  200\n",
      " - image variable shape:  (640, 368)\n",
      " - alpha variable shape:  (235520,)\n",
      "----------------------------------------\n",
      "Starting optimization...\n"
     ]
    },
    {
     "name": "stderr",
     "output_type": "stream",
     "text": [
      "100% (200 of 200) |######################| Elapsed Time: 0:00:50 Time:  0:00:50\n"
     ]
    },
    {
     "name": "stdout",
     "output_type": "stream",
     "text": [
      " - final iteration number:  200\n",
      " - final log10 cost value:  -5.200147619692579\n",
      " - converged:  True\n",
      "Done.\n",
      "Execution time:  1574.1924430000072  seconds\n",
      "----------------------------------------\n"
     ]
    },
    {
     "name": "stderr",
     "output_type": "stream",
     "text": [
      "\u001b[33mWARNING\u001b[0m: Making input data immutable.\n"
     ]
    },
    {
     "name": "stdout",
     "output_type": "stream",
     "text": [
      "\n",
      "  _____             ____     _____      _\n",
      " |\" ___|    ___    / __\"| u |_ \" _| U  /\"\\  u\n",
      "U| |_  u   |_\"_|  <\\___ \\/    | |    \\/ _ \\/\n",
      "\\|  _|/     | |    u___) |   /| |\\   / ___ \\\\\n",
      " |_|      U/| |\\u  |____/>> u |_|U  /_/   \\_\\\\\n",
      " )(\\\\\\,-.-,_|___|_,-.)(  (__)_// \\\\\\_  \\\\\\    >>\n",
      "(__)(_/ \\_)-' '-(_/(__)    (__) (__)(__)  (__)\n",
      "    \n",
      " - mu:  1e-09\n",
      " - lipschitz constant:  1.1000000000000654\n",
      " - data:  (640, 372)\n",
      " - wavelet:  <mri.reconstruct.linear.WaveletN object at 0x7fa415766c50> - 4\n",
      " - max iterations:  200\n",
      " - image variable shape:  (640, 372)\n",
      " - alpha variable shape:  (238320,)\n",
      "----------------------------------------\n",
      "Starting optimization...\n"
     ]
    },
    {
     "name": "stderr",
     "output_type": "stream",
     "text": [
      "100% (200 of 200) |######################| Elapsed Time: 0:00:54 Time:  0:00:54\n"
     ]
    },
    {
     "name": "stdout",
     "output_type": "stream",
     "text": [
      " - final iteration number:  200\n",
      " - final log10 cost value:  -6.053394900076589\n",
      " - converged:  True\n",
      "Done.\n",
      "Execution time:  1604.0512919999892  seconds\n",
      "----------------------------------------\n"
     ]
    },
    {
     "name": "stderr",
     "output_type": "stream",
     "text": [
      "\u001b[33mWARNING\u001b[0m: Making input data immutable.\n"
     ]
    },
    {
     "name": "stdout",
     "output_type": "stream",
     "text": [
      "\n",
      "  _____             ____     _____      _\n",
      " |\" ___|    ___    / __\"| u |_ \" _| U  /\"\\  u\n",
      "U| |_  u   |_\"_|  <\\___ \\/    | |    \\/ _ \\/\n",
      "\\|  _|/     | |    u___) |   /| |\\   / ___ \\\\\n",
      " |_|      U/| |\\u  |____/>> u |_|U  /_/   \\_\\\\\n",
      " )(\\\\\\,-.-,_|___|_,-.)(  (__)_// \\\\\\_  \\\\\\    >>\n",
      "(__)(_/ \\_)-' '-(_/(__)    (__) (__)(__)  (__)\n",
      "    \n",
      " - mu:  1e-09\n",
      " - lipschitz constant:  1.0999999999999823\n",
      " - data:  (640, 372)\n",
      " - wavelet:  <mri.reconstruct.linear.WaveletN object at 0x7fa41578e630> - 4\n",
      " - max iterations:  200\n",
      " - image variable shape:  (640, 372)\n",
      " - alpha variable shape:  (238320,)\n",
      "----------------------------------------\n",
      "Starting optimization...\n"
     ]
    },
    {
     "name": "stderr",
     "output_type": "stream",
     "text": [
      "100% (200 of 200) |######################| Elapsed Time: 0:00:53 Time:  0:00:53\n"
     ]
    },
    {
     "name": "stdout",
     "output_type": "stream",
     "text": [
      " - final iteration number:  200\n",
      " - final log10 cost value:  -6.319177152154036\n",
      " - converged:  True\n",
      "Done.\n",
      "Execution time:  1554.4649679999857  seconds\n",
      "----------------------------------------\n"
     ]
    },
    {
     "name": "stderr",
     "output_type": "stream",
     "text": [
      "\u001b[33mWARNING\u001b[0m: Making input data immutable.\n"
     ]
    },
    {
     "name": "stdout",
     "output_type": "stream",
     "text": [
      "\n",
      "  _____             ____     _____      _\n",
      " |\" ___|    ___    / __\"| u |_ \" _| U  /\"\\  u\n",
      "U| |_  u   |_\"_|  <\\___ \\/    | |    \\/ _ \\/\n",
      "\\|  _|/     | |    u___) |   /| |\\   / ___ \\\\\n",
      " |_|      U/| |\\u  |____/>> u |_|U  /_/   \\_\\\\\n",
      " )(\\\\\\,-.-,_|___|_,-.)(  (__)_// \\\\\\_  \\\\\\    >>\n",
      "(__)(_/ \\_)-' '-(_/(__)    (__) (__)(__)  (__)\n",
      "    \n",
      " - mu:  1e-09\n",
      " - lipschitz constant:  1.1000000000000838\n",
      " - data:  (640, 372)\n",
      " - wavelet:  <mri.reconstruct.linear.WaveletN object at 0x7fa4157604e0> - 4\n",
      " - max iterations:  200\n",
      " - image variable shape:  (640, 372)\n",
      " - alpha variable shape:  (238320,)\n",
      "----------------------------------------\n",
      "Starting optimization...\n"
     ]
    },
    {
     "name": "stderr",
     "output_type": "stream",
     "text": [
      "100% (200 of 200) |######################| Elapsed Time: 0:00:54 Time:  0:00:54\n"
     ]
    },
    {
     "name": "stdout",
     "output_type": "stream",
     "text": [
      " - final iteration number:  200\n",
      " - final log10 cost value:  -6.252545127177224\n",
      " - converged:  True\n",
      "Done.\n",
      "Execution time:  1584.9791199999745  seconds\n",
      "----------------------------------------\n"
     ]
    },
    {
     "name": "stderr",
     "output_type": "stream",
     "text": [
      "\u001b[33mWARNING\u001b[0m: Making input data immutable.\n"
     ]
    },
    {
     "name": "stdout",
     "output_type": "stream",
     "text": [
      "\n",
      "  _____             ____     _____      _\n",
      " |\" ___|    ___    / __\"| u |_ \" _| U  /\"\\  u\n",
      "U| |_  u   |_\"_|  <\\___ \\/    | |    \\/ _ \\/\n",
      "\\|  _|/     | |    u___) |   /| |\\   / ___ \\\\\n",
      " |_|      U/| |\\u  |____/>> u |_|U  /_/   \\_\\\\\n",
      " )(\\\\\\,-.-,_|___|_,-.)(  (__)_// \\\\\\_  \\\\\\    >>\n",
      "(__)(_/ \\_)-' '-(_/(__)    (__) (__)(__)  (__)\n",
      "    \n",
      " - mu:  1e-09\n",
      " - lipschitz constant:  1.099999999999975\n",
      " - data:  (640, 356)\n",
      " - wavelet:  <mri.reconstruct.linear.WaveletN object at 0x7fa4156f2e48> - 4\n",
      " - max iterations:  200\n",
      " - image variable shape:  (640, 356)\n",
      " - alpha variable shape:  (228080,)\n",
      "----------------------------------------\n",
      "Starting optimization...\n"
     ]
    },
    {
     "name": "stderr",
     "output_type": "stream",
     "text": [
      "100% (200 of 200) |######################| Elapsed Time: 0:00:59 Time:  0:00:59\n"
     ]
    },
    {
     "name": "stdout",
     "output_type": "stream",
     "text": [
      " - final iteration number:  200\n",
      " - final log10 cost value:  -4.918132160862778\n",
      " - converged:  True\n",
      "Done.\n",
      "Execution time:  1647.8298869999999  seconds\n",
      "----------------------------------------\n"
     ]
    },
    {
     "name": "stderr",
     "output_type": "stream",
     "text": [
      "\u001b[33mWARNING\u001b[0m: Making input data immutable.\n"
     ]
    },
    {
     "name": "stdout",
     "output_type": "stream",
     "text": [
      "\n",
      "  _____             ____     _____      _\n",
      " |\" ___|    ___    / __\"| u |_ \" _| U  /\"\\  u\n",
      "U| |_  u   |_\"_|  <\\___ \\/    | |    \\/ _ \\/\n",
      "\\|  _|/     | |    u___) |   /| |\\   / ___ \\\\\n",
      " |_|      U/| |\\u  |____/>> u |_|U  /_/   \\_\\\\\n",
      " )(\\\\\\,-.-,_|___|_,-.)(  (__)_// \\\\\\_  \\\\\\    >>\n",
      "(__)(_/ \\_)-' '-(_/(__)    (__) (__)(__)  (__)\n",
      "    \n",
      " - mu:  1e-09\n",
      " - lipschitz constant:  1.100000000000075\n",
      " - data:  (640, 368)\n",
      " - wavelet:  <mri.reconstruct.linear.WaveletN object at 0x7fa415766f28> - 4\n",
      " - max iterations:  200\n",
      " - image variable shape:  (640, 368)\n",
      " - alpha variable shape:  (235520,)\n",
      "----------------------------------------\n",
      "Starting optimization...\n"
     ]
    },
    {
     "name": "stderr",
     "output_type": "stream",
     "text": [
      "100% (200 of 200) |######################| Elapsed Time: 0:00:52 Time:  0:00:52\n"
     ]
    },
    {
     "name": "stdout",
     "output_type": "stream",
     "text": [
      " - final iteration number:  200\n",
      " - final log10 cost value:  -5.609753904670292\n",
      " - converged:  True\n",
      "Done.\n",
      "Execution time:  1568.3410880000156  seconds\n",
      "----------------------------------------\n"
     ]
    },
    {
     "name": "stderr",
     "output_type": "stream",
     "text": [
      "\u001b[33mWARNING\u001b[0m: Making input data immutable.\n"
     ]
    },
    {
     "name": "stdout",
     "output_type": "stream",
     "text": [
      "\n",
      "  _____             ____     _____      _\n",
      " |\" ___|    ___    / __\"| u |_ \" _| U  /\"\\  u\n",
      "U| |_  u   |_\"_|  <\\___ \\/    | |    \\/ _ \\/\n",
      "\\|  _|/     | |    u___) |   /| |\\   / ___ \\\\\n",
      " |_|      U/| |\\u  |____/>> u |_|U  /_/   \\_\\\\\n",
      " )(\\\\\\,-.-,_|___|_,-.)(  (__)_// \\\\\\_  \\\\\\    >>\n",
      "(__)(_/ \\_)-' '-(_/(__)    (__) (__)(__)  (__)\n",
      "    \n",
      " - mu:  1e-09\n",
      " - lipschitz constant:  1.0999999999999754\n",
      " - data:  (640, 372)\n",
      " - wavelet:  <mri.reconstruct.linear.WaveletN object at 0x7fa4156f2c18> - 4\n",
      " - max iterations:  200\n",
      " - image variable shape:  (640, 372)\n",
      " - alpha variable shape:  (238320,)\n",
      "----------------------------------------\n",
      "Starting optimization...\n"
     ]
    },
    {
     "name": "stderr",
     "output_type": "stream",
     "text": [
      "100% (200 of 200) |######################| Elapsed Time: 0:00:52 Time:  0:00:52\n"
     ]
    },
    {
     "name": "stdout",
     "output_type": "stream",
     "text": [
      " - final iteration number:  200\n",
      " - final log10 cost value:  -6.502182833200285\n",
      " - converged:  True\n",
      "Done.\n",
      "Execution time:  1561.3500100000238  seconds\n",
      "----------------------------------------\n"
     ]
    },
    {
     "name": "stderr",
     "output_type": "stream",
     "text": [
      "\u001b[33mWARNING\u001b[0m: Making input data immutable.\n"
     ]
    },
    {
     "name": "stdout",
     "output_type": "stream",
     "text": [
      "\n",
      "  _____             ____     _____      _\n",
      " |\" ___|    ___    / __\"| u |_ \" _| U  /\"\\  u\n",
      "U| |_  u   |_\"_|  <\\___ \\/    | |    \\/ _ \\/\n",
      "\\|  _|/     | |    u___) |   /| |\\   / ___ \\\\\n",
      " |_|      U/| |\\u  |____/>> u |_|U  /_/   \\_\\\\\n",
      " )(\\\\\\,-.-,_|___|_,-.)(  (__)_// \\\\\\_  \\\\\\    >>\n",
      "(__)(_/ \\_)-' '-(_/(__)    (__) (__)(__)  (__)\n",
      "    \n",
      " - mu:  1e-09\n",
      " - lipschitz constant:  1.099999999999985\n",
      " - data:  (640, 368)\n",
      " - wavelet:  <mri.reconstruct.linear.WaveletN object at 0x7fa41570e668> - 4\n",
      " - max iterations:  200\n",
      " - image variable shape:  (640, 368)\n",
      " - alpha variable shape:  (235520,)\n",
      "----------------------------------------\n",
      "Starting optimization...\n"
     ]
    },
    {
     "name": "stderr",
     "output_type": "stream",
     "text": [
      "100% (200 of 200) |######################| Elapsed Time: 0:00:51 Time:  0:00:51\n"
     ]
    },
    {
     "name": "stdout",
     "output_type": "stream",
     "text": [
      " - final iteration number:  200\n",
      " - final log10 cost value:  -5.442332410190506\n",
      " - converged:  True\n",
      "Done.\n",
      "Execution time:  1514.8848550000112  seconds\n",
      "----------------------------------------\n"
     ]
    },
    {
     "name": "stderr",
     "output_type": "stream",
     "text": [
      "\u001b[33mWARNING\u001b[0m: Making input data immutable.\n"
     ]
    },
    {
     "name": "stdout",
     "output_type": "stream",
     "text": [
      "\n",
      "  _____             ____     _____      _\n",
      " |\" ___|    ___    / __\"| u |_ \" _| U  /\"\\  u\n",
      "U| |_  u   |_\"_|  <\\___ \\/    | |    \\/ _ \\/\n",
      "\\|  _|/     | |    u___) |   /| |\\   / ___ \\\\\n",
      " |_|      U/| |\\u  |____/>> u |_|U  /_/   \\_\\\\\n",
      " )(\\\\\\,-.-,_|___|_,-.)(  (__)_// \\\\\\_  \\\\\\    >>\n",
      "(__)(_/ \\_)-' '-(_/(__)    (__) (__)(__)  (__)\n",
      "    \n",
      " - mu:  1e-09\n",
      " - lipschitz constant:  1.1000000000000287\n",
      " - data:  (640, 372)\n",
      " - wavelet:  <mri.reconstruct.linear.WaveletN object at 0x7fa415777e80> - 4\n",
      " - max iterations:  200\n",
      " - image variable shape:  (640, 372)\n",
      " - alpha variable shape:  (238320,)\n",
      "----------------------------------------\n",
      "Starting optimization...\n"
     ]
    },
    {
     "name": "stderr",
     "output_type": "stream",
     "text": [
      "100% (200 of 200) |######################| Elapsed Time: 0:00:52 Time:  0:00:52\n"
     ]
    },
    {
     "name": "stdout",
     "output_type": "stream",
     "text": [
      " - final iteration number:  200\n",
      " - final log10 cost value:  -6.328210061474686\n",
      " - converged:  True\n",
      "Done.\n",
      "Execution time:  1595.6319779999903  seconds\n",
      "----------------------------------------\n"
     ]
    },
    {
     "name": "stderr",
     "output_type": "stream",
     "text": [
      "\u001b[33mWARNING\u001b[0m: Making input data immutable.\n"
     ]
    },
    {
     "name": "stdout",
     "output_type": "stream",
     "text": [
      "\n",
      "  _____             ____     _____      _\n",
      " |\" ___|    ___    / __\"| u |_ \" _| U  /\"\\  u\n",
      "U| |_  u   |_\"_|  <\\___ \\/    | |    \\/ _ \\/\n",
      "\\|  _|/     | |    u___) |   /| |\\   / ___ \\\\\n",
      " |_|      U/| |\\u  |____/>> u |_|U  /_/   \\_\\\\\n",
      " )(\\\\\\,-.-,_|___|_,-.)(  (__)_// \\\\\\_  \\\\\\    >>\n",
      "(__)(_/ \\_)-' '-(_/(__)    (__) (__)(__)  (__)\n",
      "    \n",
      " - mu:  1e-09\n",
      " - lipschitz constant:  1.1000000000000287\n",
      " - data:  (640, 372)\n",
      " - wavelet:  <mri.reconstruct.linear.WaveletN object at 0x7fa41570e198> - 4\n",
      " - max iterations:  200\n",
      " - image variable shape:  (640, 372)\n",
      " - alpha variable shape:  (238320,)\n",
      "----------------------------------------\n",
      "Starting optimization...\n"
     ]
    },
    {
     "name": "stderr",
     "output_type": "stream",
     "text": [
      "100% (200 of 200) |######################| Elapsed Time: 0:00:55 Time:  0:00:55\n"
     ]
    },
    {
     "name": "stdout",
     "output_type": "stream",
     "text": [
      " - final iteration number:  200\n",
      " - final log10 cost value:  -6.361413130873295\n",
      " - converged:  True\n",
      "Done.\n",
      "Execution time:  1531.53592200001  seconds\n",
      "----------------------------------------\n"
     ]
    },
    {
     "name": "stderr",
     "output_type": "stream",
     "text": [
      "\u001b[33mWARNING\u001b[0m: Making input data immutable.\n"
     ]
    },
    {
     "name": "stdout",
     "output_type": "stream",
     "text": [
      "\n",
      "  _____             ____     _____      _\n",
      " |\" ___|    ___    / __\"| u |_ \" _| U  /\"\\  u\n",
      "U| |_  u   |_\"_|  <\\___ \\/    | |    \\/ _ \\/\n",
      "\\|  _|/     | |    u___) |   /| |\\   / ___ \\\\\n",
      " |_|      U/| |\\u  |____/>> u |_|U  /_/   \\_\\\\\n",
      " )(\\\\\\,-.-,_|___|_,-.)(  (__)_// \\\\\\_  \\\\\\    >>\n",
      "(__)(_/ \\_)-' '-(_/(__)    (__) (__)(__)  (__)\n",
      "    \n",
      " - mu:  1e-09\n",
      " - lipschitz constant:  1.0999999999999819\n",
      " - data:  (640, 372)\n",
      " - wavelet:  <mri.reconstruct.linear.WaveletN object at 0x7fa41570e438> - 4\n",
      " - max iterations:  200\n",
      " - image variable shape:  (640, 372)\n",
      " - alpha variable shape:  (238320,)\n",
      "----------------------------------------\n",
      "Starting optimization...\n"
     ]
    },
    {
     "name": "stderr",
     "output_type": "stream",
     "text": [
      "100% (200 of 200) |######################| Elapsed Time: 0:00:52 Time:  0:00:52\n"
     ]
    },
    {
     "name": "stdout",
     "output_type": "stream",
     "text": [
      " - final iteration number:  200\n",
      " - final log10 cost value:  -6.246367110371379\n",
      " - converged:  True\n",
      "Done.\n",
      "Execution time:  1588.5399390000093  seconds\n",
      "----------------------------------------\n"
     ]
    },
    {
     "name": "stderr",
     "output_type": "stream",
     "text": [
      "\u001b[33mWARNING\u001b[0m: Making input data immutable.\n"
     ]
    },
    {
     "name": "stdout",
     "output_type": "stream",
     "text": [
      "\n",
      "  _____             ____     _____      _\n",
      " |\" ___|    ___    / __\"| u |_ \" _| U  /\"\\  u\n",
      "U| |_  u   |_\"_|  <\\___ \\/    | |    \\/ _ \\/\n",
      "\\|  _|/     | |    u___) |   /| |\\   / ___ \\\\\n",
      " |_|      U/| |\\u  |____/>> u |_|U  /_/   \\_\\\\\n",
      " )(\\\\\\,-.-,_|___|_,-.)(  (__)_// \\\\\\_  \\\\\\    >>\n",
      "(__)(_/ \\_)-' '-(_/(__)    (__) (__)(__)  (__)\n",
      "    \n",
      " - mu:  1e-09\n",
      " - lipschitz constant:  1.1000000000000307\n",
      " - data:  (640, 386)\n",
      " - wavelet:  <mri.reconstruct.linear.WaveletN object at 0x7fa4156f20f0> - 4\n",
      " - max iterations:  200\n",
      " - image variable shape:  (640, 386)\n",
      " - alpha variable shape:  (247600,)\n",
      "----------------------------------------\n",
      "Starting optimization...\n"
     ]
    },
    {
     "name": "stderr",
     "output_type": "stream",
     "text": [
      "100% (200 of 200) |######################| Elapsed Time: 0:01:02 Time:  0:01:02\n"
     ]
    },
    {
     "name": "stdout",
     "output_type": "stream",
     "text": [
      " - final iteration number:  200\n",
      " - final log10 cost value:  -6.144802362347721\n",
      " - converged:  True\n",
      "Done.\n",
      "Execution time:  1784.6908770000155  seconds\n",
      "----------------------------------------\n"
     ]
    },
    {
     "name": "stderr",
     "output_type": "stream",
     "text": [
      "\u001b[33mWARNING\u001b[0m: Making input data immutable.\n"
     ]
    },
    {
     "name": "stdout",
     "output_type": "stream",
     "text": [
      "\n",
      "  _____             ____     _____      _\n",
      " |\" ___|    ___    / __\"| u |_ \" _| U  /\"\\  u\n",
      "U| |_  u   |_\"_|  <\\___ \\/    | |    \\/ _ \\/\n",
      "\\|  _|/     | |    u___) |   /| |\\   / ___ \\\\\n",
      " |_|      U/| |\\u  |____/>> u |_|U  /_/   \\_\\\\\n",
      " )(\\\\\\,-.-,_|___|_,-.)(  (__)_// \\\\\\_  \\\\\\    >>\n",
      "(__)(_/ \\_)-' '-(_/(__)    (__) (__)(__)  (__)\n",
      "    \n",
      " - mu:  1e-09\n",
      " - lipschitz constant:  1.0999999999999808\n",
      " - data:  (640, 388)\n",
      " - wavelet:  <mri.reconstruct.linear.WaveletN object at 0x7fa4156f2668> - 4\n",
      " - max iterations:  200\n",
      " - image variable shape:  (640, 388)\n",
      " - alpha variable shape:  (248560,)\n",
      "----------------------------------------\n",
      "Starting optimization...\n"
     ]
    },
    {
     "name": "stderr",
     "output_type": "stream",
     "text": [
      "100% (200 of 200) |######################| Elapsed Time: 0:01:03 Time:  0:01:03\n"
     ]
    },
    {
     "name": "stdout",
     "output_type": "stream",
     "text": [
      " - final iteration number:  200\n",
      " - final log10 cost value:  -5.83184023365012\n",
      " - converged:  True\n",
      "Done.\n",
      "Execution time:  1865.1285700000008  seconds\n",
      "----------------------------------------\n"
     ]
    },
    {
     "name": "stderr",
     "output_type": "stream",
     "text": [
      "\u001b[33mWARNING\u001b[0m: Making input data immutable.\n"
     ]
    },
    {
     "name": "stdout",
     "output_type": "stream",
     "text": [
      "\n",
      "  _____             ____     _____      _\n",
      " |\" ___|    ___    / __\"| u |_ \" _| U  /\"\\  u\n",
      "U| |_  u   |_\"_|  <\\___ \\/    | |    \\/ _ \\/\n",
      "\\|  _|/     | |    u___) |   /| |\\   / ___ \\\\\n",
      " |_|      U/| |\\u  |____/>> u |_|U  /_/   \\_\\\\\n",
      " )(\\\\\\,-.-,_|___|_,-.)(  (__)_// \\\\\\_  \\\\\\    >>\n",
      "(__)(_/ \\_)-' '-(_/(__)    (__) (__)(__)  (__)\n",
      "    \n",
      " - mu:  1e-09\n",
      " - lipschitz constant:  1.099999999999979\n",
      " - data:  (640, 372)\n",
      " - wavelet:  <mri.reconstruct.linear.WaveletN object at 0x7fa4156f29e8> - 4\n",
      " - max iterations:  200\n",
      " - image variable shape:  (640, 372)\n",
      " - alpha variable shape:  (238320,)\n",
      "----------------------------------------\n",
      "Starting optimization...\n"
     ]
    },
    {
     "name": "stderr",
     "output_type": "stream",
     "text": [
      "100% (200 of 200) |######################| Elapsed Time: 0:00:52 Time:  0:00:52\n"
     ]
    },
    {
     "name": "stdout",
     "output_type": "stream",
     "text": [
      " - final iteration number:  200\n",
      " - final log10 cost value:  -6.3007439418704125\n",
      " - converged:  True\n",
      "Done.\n",
      "Execution time:  1692.5009730000165  seconds\n",
      "----------------------------------------\n"
     ]
    },
    {
     "name": "stderr",
     "output_type": "stream",
     "text": [
      "\u001b[33mWARNING\u001b[0m: Making input data immutable.\n"
     ]
    },
    {
     "name": "stdout",
     "output_type": "stream",
     "text": [
      "\n",
      "  _____             ____     _____      _\n",
      " |\" ___|    ___    / __\"| u |_ \" _| U  /\"\\  u\n",
      "U| |_  u   |_\"_|  <\\___ \\/    | |    \\/ _ \\/\n",
      "\\|  _|/     | |    u___) |   /| |\\   / ___ \\\\\n",
      " |_|      U/| |\\u  |____/>> u |_|U  /_/   \\_\\\\\n",
      " )(\\\\\\,-.-,_|___|_,-.)(  (__)_// \\\\\\_  \\\\\\    >>\n",
      "(__)(_/ \\_)-' '-(_/(__)    (__) (__)(__)  (__)\n",
      "    \n",
      " - mu:  1e-09\n",
      " - lipschitz constant:  1.1000000000000618\n",
      " - data:  (640, 368)\n",
      " - wavelet:  <mri.reconstruct.linear.WaveletN object at 0x7fa415720ac8> - 4\n",
      " - max iterations:  200\n",
      " - image variable shape:  (640, 368)\n",
      " - alpha variable shape:  (235520,)\n",
      "----------------------------------------\n",
      "Starting optimization...\n"
     ]
    },
    {
     "name": "stderr",
     "output_type": "stream",
     "text": [
      "100% (200 of 200) |######################| Elapsed Time: 0:00:50 Time:  0:00:50\n"
     ]
    },
    {
     "name": "stdout",
     "output_type": "stream",
     "text": [
      " - final iteration number:  200\n",
      " - final log10 cost value:  -5.637752071845453\n",
      " - converged:  True\n",
      "Done.\n",
      "Execution time:  1638.8941259999992  seconds\n",
      "----------------------------------------\n"
     ]
    },
    {
     "name": "stderr",
     "output_type": "stream",
     "text": [
      "\u001b[33mWARNING\u001b[0m: Making input data immutable.\n"
     ]
    },
    {
     "name": "stdout",
     "output_type": "stream",
     "text": [
      "\n",
      "  _____             ____     _____      _\n",
      " |\" ___|    ___    / __\"| u |_ \" _| U  /\"\\  u\n",
      "U| |_  u   |_\"_|  <\\___ \\/    | |    \\/ _ \\/\n",
      "\\|  _|/     | |    u___) |   /| |\\   / ___ \\\\\n",
      " |_|      U/| |\\u  |____/>> u |_|U  /_/   \\_\\\\\n",
      " )(\\\\\\,-.-,_|___|_,-.)(  (__)_// \\\\\\_  \\\\\\    >>\n",
      "(__)(_/ \\_)-' '-(_/(__)    (__) (__)(__)  (__)\n",
      "    \n",
      " - mu:  1e-09\n",
      " - lipschitz constant:  1.1000000000000663\n",
      " - data:  (640, 368)\n",
      " - wavelet:  <mri.reconstruct.linear.WaveletN object at 0x7fa41570e400> - 4\n",
      " - max iterations:  200\n",
      " - image variable shape:  (640, 368)\n",
      " - alpha variable shape:  (235520,)\n",
      "----------------------------------------\n",
      "Starting optimization...\n"
     ]
    },
    {
     "name": "stderr",
     "output_type": "stream",
     "text": [
      "100% (200 of 200) |######################| Elapsed Time: 0:00:50 Time:  0:00:50\n"
     ]
    },
    {
     "name": "stdout",
     "output_type": "stream",
     "text": [
      " - final iteration number:  200\n",
      " - final log10 cost value:  -5.123650757589723\n",
      " - converged:  True\n",
      "Done.\n",
      "Execution time:  1614.0852979999909  seconds\n",
      "----------------------------------------\n"
     ]
    },
    {
     "name": "stderr",
     "output_type": "stream",
     "text": [
      "\u001b[33mWARNING\u001b[0m: Making input data immutable.\n"
     ]
    },
    {
     "name": "stdout",
     "output_type": "stream",
     "text": [
      "\n",
      "  _____             ____     _____      _\n",
      " |\" ___|    ___    / __\"| u |_ \" _| U  /\"\\  u\n",
      "U| |_  u   |_\"_|  <\\___ \\/    | |    \\/ _ \\/\n",
      "\\|  _|/     | |    u___) |   /| |\\   / ___ \\\\\n",
      " |_|      U/| |\\u  |____/>> u |_|U  /_/   \\_\\\\\n",
      " )(\\\\\\,-.-,_|___|_,-.)(  (__)_// \\\\\\_  \\\\\\    >>\n",
      "(__)(_/ \\_)-' '-(_/(__)    (__) (__)(__)  (__)\n",
      "    \n",
      " - mu:  1e-09\n",
      " - lipschitz constant:  1.0999999999999837\n",
      " - data:  (640, 368)\n",
      " - wavelet:  <mri.reconstruct.linear.WaveletN object at 0x7fa415799198> - 4\n",
      " - max iterations:  200\n",
      " - image variable shape:  (640, 368)\n",
      " - alpha variable shape:  (235520,)\n",
      "----------------------------------------\n",
      "Starting optimization...\n"
     ]
    },
    {
     "name": "stderr",
     "output_type": "stream",
     "text": [
      "100% (200 of 200) |######################| Elapsed Time: 0:00:50 Time:  0:00:50\n"
     ]
    },
    {
     "name": "stdout",
     "output_type": "stream",
     "text": [
      " - final iteration number:  200\n",
      " - final log10 cost value:  -5.473602709616496\n",
      " - converged:  True\n",
      "Done.\n",
      "Execution time:  1601.8969030000153  seconds\n",
      "----------------------------------------\n"
     ]
    },
    {
     "name": "stderr",
     "output_type": "stream",
     "text": [
      "\u001b[33mWARNING\u001b[0m: Making input data immutable.\n"
     ]
    },
    {
     "name": "stdout",
     "output_type": "stream",
     "text": [
      "\n",
      "  _____             ____     _____      _\n",
      " |\" ___|    ___    / __\"| u |_ \" _| U  /\"\\  u\n",
      "U| |_  u   |_\"_|  <\\___ \\/    | |    \\/ _ \\/\n",
      "\\|  _|/     | |    u___) |   /| |\\   / ___ \\\\\n",
      " |_|      U/| |\\u  |____/>> u |_|U  /_/   \\_\\\\\n",
      " )(\\\\\\,-.-,_|___|_,-.)(  (__)_// \\\\\\_  \\\\\\    >>\n",
      "(__)(_/ \\_)-' '-(_/(__)    (__) (__)(__)  (__)\n",
      "    \n",
      " - mu:  1e-09\n",
      " - lipschitz constant:  1.1000000000000723\n",
      " - data:  (640, 368)\n",
      " - wavelet:  <mri.reconstruct.linear.WaveletN object at 0x7fa415799fd0> - 4\n",
      " - max iterations:  200\n",
      " - image variable shape:  (640, 368)\n",
      " - alpha variable shape:  (235520,)\n",
      "----------------------------------------\n",
      "Starting optimization...\n"
     ]
    },
    {
     "name": "stderr",
     "output_type": "stream",
     "text": [
      "100% (200 of 200) |######################| Elapsed Time: 0:00:50 Time:  0:00:50\n"
     ]
    },
    {
     "name": "stdout",
     "output_type": "stream",
     "text": [
      " - final iteration number:  200\n",
      " - final log10 cost value:  -4.75218050765945\n",
      " - converged:  True\n",
      "Done.\n",
      "Execution time:  1607.5367909999914  seconds\n",
      "----------------------------------------\n"
     ]
    },
    {
     "name": "stderr",
     "output_type": "stream",
     "text": [
      "\u001b[33mWARNING\u001b[0m: Making input data immutable.\n"
     ]
    },
    {
     "name": "stdout",
     "output_type": "stream",
     "text": [
      "\n",
      "  _____             ____     _____      _\n",
      " |\" ___|    ___    / __\"| u |_ \" _| U  /\"\\  u\n",
      "U| |_  u   |_\"_|  <\\___ \\/    | |    \\/ _ \\/\n",
      "\\|  _|/     | |    u___) |   /| |\\   / ___ \\\\\n",
      " |_|      U/| |\\u  |____/>> u |_|U  /_/   \\_\\\\\n",
      " )(\\\\\\,-.-,_|___|_,-.)(  (__)_// \\\\\\_  \\\\\\    >>\n",
      "(__)(_/ \\_)-' '-(_/(__)    (__) (__)(__)  (__)\n",
      "    \n",
      " - mu:  1e-09\n",
      " - lipschitz constant:  1.0999999999999786\n",
      " - data:  (640, 368)\n",
      " - wavelet:  <mri.reconstruct.linear.WaveletN object at 0x7fa41570eb00> - 4\n",
      " - max iterations:  200\n",
      " - image variable shape:  (640, 368)\n",
      " - alpha variable shape:  (235520,)\n",
      "----------------------------------------\n",
      "Starting optimization...\n"
     ]
    },
    {
     "name": "stderr",
     "output_type": "stream",
     "text": [
      "100% (200 of 200) |######################| Elapsed Time: 0:00:50 Time:  0:00:50\n"
     ]
    },
    {
     "name": "stdout",
     "output_type": "stream",
     "text": [
      " - final iteration number:  200\n",
      " - final log10 cost value:  -5.148635902848347\n",
      " - converged:  True\n",
      "Done.\n",
      "Execution time:  1543.62557199999  seconds\n",
      "----------------------------------------\n"
     ]
    },
    {
     "name": "stderr",
     "output_type": "stream",
     "text": [
      "\u001b[33mWARNING\u001b[0m: Making input data immutable.\n"
     ]
    },
    {
     "name": "stdout",
     "output_type": "stream",
     "text": [
      "\n",
      "  _____             ____     _____      _\n",
      " |\" ___|    ___    / __\"| u |_ \" _| U  /\"\\  u\n",
      "U| |_  u   |_\"_|  <\\___ \\/    | |    \\/ _ \\/\n",
      "\\|  _|/     | |    u___) |   /| |\\   / ___ \\\\\n",
      " |_|      U/| |\\u  |____/>> u |_|U  /_/   \\_\\\\\n",
      " )(\\\\\\,-.-,_|___|_,-.)(  (__)_// \\\\\\_  \\\\\\    >>\n",
      "(__)(_/ \\_)-' '-(_/(__)    (__) (__)(__)  (__)\n",
      "    \n",
      " - mu:  1e-09\n",
      " - lipschitz constant:  1.0999999999999783\n",
      " - data:  (640, 372)\n",
      " - wavelet:  <mri.reconstruct.linear.WaveletN object at 0x7fa4157990f0> - 4\n",
      " - max iterations:  200\n",
      " - image variable shape:  (640, 372)\n",
      " - alpha variable shape:  (238320,)\n",
      "----------------------------------------\n",
      "Starting optimization...\n"
     ]
    },
    {
     "name": "stderr",
     "output_type": "stream",
     "text": [
      "100% (200 of 200) |######################| Elapsed Time: 0:00:52 Time:  0:00:52\n"
     ]
    },
    {
     "name": "stdout",
     "output_type": "stream",
     "text": [
      " - final iteration number:  200\n",
      " - final log10 cost value:  -6.235445003206886\n",
      " - converged:  True\n",
      "Done.\n",
      "Execution time:  1579.027632000012  seconds\n",
      "----------------------------------------\n"
     ]
    },
    {
     "name": "stderr",
     "output_type": "stream",
     "text": [
      "\u001b[33mWARNING\u001b[0m: Making input data immutable.\n"
     ]
    },
    {
     "name": "stdout",
     "output_type": "stream",
     "text": [
      "\n",
      "  _____             ____     _____      _\n",
      " |\" ___|    ___    / __\"| u |_ \" _| U  /\"\\  u\n",
      "U| |_  u   |_\"_|  <\\___ \\/    | |    \\/ _ \\/\n",
      "\\|  _|/     | |    u___) |   /| |\\   / ___ \\\\\n",
      " |_|      U/| |\\u  |____/>> u |_|U  /_/   \\_\\\\\n",
      " )(\\\\\\,-.-,_|___|_,-.)(  (__)_// \\\\\\_  \\\\\\    >>\n",
      "(__)(_/ \\_)-' '-(_/(__)    (__) (__)(__)  (__)\n",
      "    \n",
      " - mu:  1e-09\n",
      " - lipschitz constant:  1.0999999999999823\n",
      " - data:  (640, 372)\n",
      " - wavelet:  <mri.reconstruct.linear.WaveletN object at 0x7fa4157d5630> - 4\n",
      " - max iterations:  200\n",
      " - image variable shape:  (640, 372)\n",
      " - alpha variable shape:  (238320,)\n",
      "----------------------------------------\n",
      "Starting optimization...\n"
     ]
    },
    {
     "name": "stderr",
     "output_type": "stream",
     "text": [
      "100% (200 of 200) |######################| Elapsed Time: 0:00:52 Time:  0:00:52\n"
     ]
    },
    {
     "name": "stdout",
     "output_type": "stream",
     "text": [
      " - final iteration number:  200\n",
      " - final log10 cost value:  -6.335478455557225\n",
      " - converged:  True\n",
      "Done.\n",
      "Execution time:  1610.8389939999906  seconds\n",
      "----------------------------------------\n",
      "\n"
     ]
    },
    {
     "data": {
      "application/vnd.jupyter.widget-view+json": {
       "model_id": "7fd08215f0af4cb38bfac47c8d81ce44",
       "version_major": 2,
       "version_minor": 0
      },
      "text/plain": [
       "HBox(children=(FloatProgress(value=0.0, description='Stats', max=24.0, style=ProgressStyle(description_width='…"
      ]
     },
     "metadata": {},
     "output_type": "display_data"
    },
    {
     "name": "stdout",
     "output_type": "stream",
     "text": [
      "\n"
     ]
    },
    {
     "data": {
      "application/vnd.jupyter.widget-view+json": {
       "model_id": "2875bcddb5fc4be3b4106ee207a4d398",
       "version_major": 2,
       "version_minor": 0
      },
      "text/plain": [
       "HBox(children=(FloatProgress(value=0.0, description='K-spaces', max=24.0, style=ProgressStyle(description_widt…"
      ]
     },
     "metadata": {},
     "output_type": "display_data"
    },
    {
     "name": "stderr",
     "output_type": "stream",
     "text": [
      "\u001b[33mWARNING\u001b[0m: Making input data immutable.\n"
     ]
    },
    {
     "name": "stdout",
     "output_type": "stream",
     "text": [
      "\n",
      "  _____             ____     _____      _\n",
      " |\" ___|    ___    / __\"| u |_ \" _| U  /\"\\  u\n",
      "U| |_  u   |_\"_|  <\\___ \\/    | |    \\/ _ \\/\n",
      "\\|  _|/     | |    u___) |   /| |\\   / ___ \\\\\n",
      " |_|      U/| |\\u  |____/>> u |_|U  /_/   \\_\\\\\n",
      " )(\\\\\\,-.-,_|___|_,-.)(  (__)_// \\\\\\_  \\\\\\    >>\n",
      "(__)(_/ \\_)-' '-(_/(__)    (__) (__)(__)  (__)\n",
      "    \n",
      " - mu:  2.1544346900318866e-09\n",
      " - lipschitz constant:  1.099999999999979\n",
      " - data:  (640, 368)\n",
      " - wavelet:  <mri.reconstruct.linear.WaveletN object at 0x7fa4156f2080> - 4\n",
      " - max iterations:  200\n",
      " - image variable shape:  (640, 368)\n",
      " - alpha variable shape:  (235520,)\n",
      "----------------------------------------\n",
      "Starting optimization...\n"
     ]
    },
    {
     "name": "stderr",
     "output_type": "stream",
     "text": [
      "100% (200 of 200) |######################| Elapsed Time: 0:00:50 Time:  0:00:50\n"
     ]
    },
    {
     "name": "stdout",
     "output_type": "stream",
     "text": [
      " - final iteration number:  200\n",
      " - final log10 cost value:  -5.367617883832146\n",
      " - converged:  True\n",
      "Done.\n",
      "Execution time:  1574.5681420000037  seconds\n",
      "----------------------------------------\n"
     ]
    },
    {
     "name": "stderr",
     "output_type": "stream",
     "text": [
      "\u001b[33mWARNING\u001b[0m: Making input data immutable.\n"
     ]
    },
    {
     "name": "stdout",
     "output_type": "stream",
     "text": [
      "\n",
      "  _____             ____     _____      _\n",
      " |\" ___|    ___    / __\"| u |_ \" _| U  /\"\\  u\n",
      "U| |_  u   |_\"_|  <\\___ \\/    | |    \\/ _ \\/\n",
      "\\|  _|/     | |    u___) |   /| |\\   / ___ \\\\\n",
      " |_|      U/| |\\u  |____/>> u |_|U  /_/   \\_\\\\\n",
      " )(\\\\\\,-.-,_|___|_,-.)(  (__)_// \\\\\\_  \\\\\\    >>\n",
      "(__)(_/ \\_)-' '-(_/(__)    (__) (__)(__)  (__)\n",
      "    \n",
      " - mu:  2.1544346900318866e-09\n",
      " - lipschitz constant:  1.1000000000000738\n",
      " - data:  (640, 368)\n",
      " - wavelet:  <mri.reconstruct.linear.WaveletN object at 0x7fa4156f2208> - 4\n",
      " - max iterations:  200\n",
      " - image variable shape:  (640, 368)\n",
      " - alpha variable shape:  (235520,)\n",
      "----------------------------------------\n",
      "Starting optimization...\n"
     ]
    },
    {
     "name": "stderr",
     "output_type": "stream",
     "text": [
      "100% (200 of 200) |######################| Elapsed Time: 0:00:49 Time:  0:00:49\n"
     ]
    },
    {
     "name": "stdout",
     "output_type": "stream",
     "text": [
      " - final iteration number:  200\n",
      " - final log10 cost value:  -4.762120735612271\n",
      " - converged:  True\n",
      "Done.\n",
      "Execution time:  1566.012281000003  seconds\n",
      "----------------------------------------\n"
     ]
    },
    {
     "name": "stderr",
     "output_type": "stream",
     "text": [
      "\u001b[33mWARNING\u001b[0m: Making input data immutable.\n"
     ]
    },
    {
     "name": "stdout",
     "output_type": "stream",
     "text": [
      "\n",
      "  _____             ____     _____      _\n",
      " |\" ___|    ___    / __\"| u |_ \" _| U  /\"\\  u\n",
      "U| |_  u   |_\"_|  <\\___ \\/    | |    \\/ _ \\/\n",
      "\\|  _|/     | |    u___) |   /| |\\   / ___ \\\\\n",
      " |_|      U/| |\\u  |____/>> u |_|U  /_/   \\_\\\\\n",
      " )(\\\\\\,-.-,_|___|_,-.)(  (__)_// \\\\\\_  \\\\\\    >>\n",
      "(__)(_/ \\_)-' '-(_/(__)    (__) (__)(__)  (__)\n",
      "    \n",
      " - mu:  2.1544346900318866e-09\n",
      " - lipschitz constant:  1.0999999999999803\n",
      " - data:  (640, 368)\n",
      " - wavelet:  <mri.reconstruct.linear.WaveletN object at 0x7fa4156f2eb8> - 4\n",
      " - max iterations:  200\n",
      " - image variable shape:  (640, 368)\n",
      " - alpha variable shape:  (235520,)\n",
      "----------------------------------------\n",
      "Starting optimization...\n"
     ]
    },
    {
     "name": "stderr",
     "output_type": "stream",
     "text": [
      "100% (200 of 200) |######################| Elapsed Time: 0:00:50 Time:  0:00:50\n"
     ]
    },
    {
     "name": "stdout",
     "output_type": "stream",
     "text": [
      " - final iteration number:  200\n",
      " - final log10 cost value:  -5.372893668990267\n",
      " - converged:  True\n",
      "Done.\n",
      "Execution time:  1589.8651700000046  seconds\n",
      "----------------------------------------\n"
     ]
    },
    {
     "name": "stderr",
     "output_type": "stream",
     "text": [
      "\u001b[33mWARNING\u001b[0m: Making input data immutable.\n"
     ]
    },
    {
     "name": "stdout",
     "output_type": "stream",
     "text": [
      "\n",
      "  _____             ____     _____      _\n",
      " |\" ___|    ___    / __\"| u |_ \" _| U  /\"\\  u\n",
      "U| |_  u   |_\"_|  <\\___ \\/    | |    \\/ _ \\/\n",
      "\\|  _|/     | |    u___) |   /| |\\   / ___ \\\\\n",
      " |_|      U/| |\\u  |____/>> u |_|U  /_/   \\_\\\\\n",
      " )(\\\\\\,-.-,_|___|_,-.)(  (__)_// \\\\\\_  \\\\\\    >>\n",
      "(__)(_/ \\_)-' '-(_/(__)    (__) (__)(__)  (__)\n",
      "    \n",
      " - mu:  2.1544346900318866e-09\n",
      " - lipschitz constant:  1.099999999999989\n",
      " - data:  (640, 368)\n",
      " - wavelet:  <mri.reconstruct.linear.WaveletN object at 0x7fa41570e4e0> - 4\n",
      " - max iterations:  200\n",
      " - image variable shape:  (640, 368)\n",
      " - alpha variable shape:  (235520,)\n",
      "----------------------------------------\n",
      "Starting optimization...\n"
     ]
    },
    {
     "name": "stderr",
     "output_type": "stream",
     "text": [
      "100% (200 of 200) |######################| Elapsed Time: 0:00:50 Time:  0:00:50\n"
     ]
    },
    {
     "name": "stdout",
     "output_type": "stream",
     "text": [
      " - final iteration number:  200\n",
      " - final log10 cost value:  -5.588925926732768\n",
      " - converged:  True\n",
      "Done.\n",
      "Execution time:  1581.4752579999913  seconds\n",
      "----------------------------------------\n"
     ]
    },
    {
     "name": "stderr",
     "output_type": "stream",
     "text": [
      "\u001b[33mWARNING\u001b[0m: Making input data immutable.\n"
     ]
    },
    {
     "name": "stdout",
     "output_type": "stream",
     "text": [
      "\n",
      "  _____             ____     _____      _\n",
      " |\" ___|    ___    / __\"| u |_ \" _| U  /\"\\  u\n",
      "U| |_  u   |_\"_|  <\\___ \\/    | |    \\/ _ \\/\n",
      "\\|  _|/     | |    u___) |   /| |\\   / ___ \\\\\n",
      " |_|      U/| |\\u  |____/>> u |_|U  /_/   \\_\\\\\n",
      " )(\\\\\\,-.-,_|___|_,-.)(  (__)_// \\\\\\_  \\\\\\    >>\n",
      "(__)(_/ \\_)-' '-(_/(__)    (__) (__)(__)  (__)\n",
      "    \n",
      " - mu:  2.1544346900318866e-09\n",
      " - lipschitz constant:  1.0999999999999857\n",
      " - data:  (640, 368)\n",
      " - wavelet:  <mri.reconstruct.linear.WaveletN object at 0x7fa415799dd8> - 4\n",
      " - max iterations:  200\n",
      " - image variable shape:  (640, 368)\n",
      " - alpha variable shape:  (235520,)\n",
      "----------------------------------------\n",
      "Starting optimization...\n"
     ]
    },
    {
     "name": "stderr",
     "output_type": "stream",
     "text": [
      "100% (200 of 200) |######################| Elapsed Time: 0:00:51 Time:  0:00:51\n"
     ]
    },
    {
     "name": "stdout",
     "output_type": "stream",
     "text": [
      " - final iteration number:  200\n",
      " - final log10 cost value:  -5.176976499634129\n",
      " - converged:  True\n",
      "Done.\n",
      "Execution time:  1603.0411719999975  seconds\n",
      "----------------------------------------\n"
     ]
    },
    {
     "name": "stderr",
     "output_type": "stream",
     "text": [
      "\u001b[33mWARNING\u001b[0m: Making input data immutable.\n"
     ]
    },
    {
     "name": "stdout",
     "output_type": "stream",
     "text": [
      "\n",
      "  _____             ____     _____      _\n",
      " |\" ___|    ___    / __\"| u |_ \" _| U  /\"\\  u\n",
      "U| |_  u   |_\"_|  <\\___ \\/    | |    \\/ _ \\/\n",
      "\\|  _|/     | |    u___) |   /| |\\   / ___ \\\\\n",
      " |_|      U/| |\\u  |____/>> u |_|U  /_/   \\_\\\\\n",
      " )(\\\\\\,-.-,_|___|_,-.)(  (__)_// \\\\\\_  \\\\\\    >>\n",
      "(__)(_/ \\_)-' '-(_/(__)    (__) (__)(__)  (__)\n",
      "    \n",
      " - mu:  2.1544346900318866e-09\n",
      " - lipschitz constant:  1.0999999999999759\n",
      " - data:  (640, 368)\n",
      " - wavelet:  <mri.reconstruct.linear.WaveletN object at 0x7fa41570e6d8> - 4\n",
      " - max iterations:  200\n",
      " - image variable shape:  (640, 368)\n",
      " - alpha variable shape:  (235520,)\n",
      "----------------------------------------\n",
      "Starting optimization...\n"
     ]
    },
    {
     "name": "stderr",
     "output_type": "stream",
     "text": [
      "100% (200 of 200) |######################| Elapsed Time: 0:00:50 Time:  0:00:50\n"
     ]
    },
    {
     "name": "stdout",
     "output_type": "stream",
     "text": [
      " - final iteration number:  200\n",
      " - final log10 cost value:  -5.183085754224406\n",
      " - converged:  True\n",
      "Done.\n",
      "Execution time:  1611.2799130000058  seconds\n",
      "----------------------------------------\n"
     ]
    },
    {
     "name": "stderr",
     "output_type": "stream",
     "text": [
      "\u001b[33mWARNING\u001b[0m: Making input data immutable.\n"
     ]
    },
    {
     "name": "stdout",
     "output_type": "stream",
     "text": [
      "\n",
      "  _____             ____     _____      _\n",
      " |\" ___|    ___    / __\"| u |_ \" _| U  /\"\\  u\n",
      "U| |_  u   |_\"_|  <\\___ \\/    | |    \\/ _ \\/\n",
      "\\|  _|/     | |    u___) |   /| |\\   / ___ \\\\\n",
      " |_|      U/| |\\u  |____/>> u |_|U  /_/   \\_\\\\\n",
      " )(\\\\\\,-.-,_|___|_,-.)(  (__)_// \\\\\\_  \\\\\\    >>\n",
      "(__)(_/ \\_)-' '-(_/(__)    (__) (__)(__)  (__)\n",
      "    \n",
      " - mu:  2.1544346900318866e-09\n",
      " - lipschitz constant:  1.1000000000000754\n",
      " - data:  (640, 368)\n",
      " - wavelet:  <mri.reconstruct.linear.WaveletN object at 0x7fa41570eb70> - 4\n",
      " - max iterations:  200\n",
      " - image variable shape:  (640, 368)\n",
      " - alpha variable shape:  (235520,)\n",
      "----------------------------------------\n",
      "Starting optimization...\n"
     ]
    },
    {
     "name": "stderr",
     "output_type": "stream",
     "text": [
      "100% (200 of 200) |######################| Elapsed Time: 0:00:50 Time:  0:00:50\n"
     ]
    },
    {
     "name": "stdout",
     "output_type": "stream",
     "text": [
      " - final iteration number:  200\n",
      " - final log10 cost value:  -5.280141409155237\n",
      " - converged:  True\n",
      "Done.\n",
      "Execution time:  1594.958381000004  seconds\n",
      "----------------------------------------\n"
     ]
    },
    {
     "name": "stderr",
     "output_type": "stream",
     "text": [
      "\u001b[33mWARNING\u001b[0m: Making input data immutable.\n"
     ]
    },
    {
     "name": "stdout",
     "output_type": "stream",
     "text": [
      "\n",
      "  _____             ____     _____      _\n",
      " |\" ___|    ___    / __\"| u |_ \" _| U  /\"\\  u\n",
      "U| |_  u   |_\"_|  <\\___ \\/    | |    \\/ _ \\/\n",
      "\\|  _|/     | |    u___) |   /| |\\   / ___ \\\\\n",
      " |_|      U/| |\\u  |____/>> u |_|U  /_/   \\_\\\\\n",
      " )(\\\\\\,-.-,_|___|_,-.)(  (__)_// \\\\\\_  \\\\\\    >>\n",
      "(__)(_/ \\_)-' '-(_/(__)    (__) (__)(__)  (__)\n",
      "    \n",
      " - mu:  2.1544346900318866e-09\n",
      " - lipschitz constant:  1.0999999999999794\n",
      " - data:  (640, 368)\n",
      " - wavelet:  <mri.reconstruct.linear.WaveletN object at 0x7fa41570ec88> - 4\n",
      " - max iterations:  200\n",
      " - image variable shape:  (640, 368)\n",
      " - alpha variable shape:  (235520,)\n",
      "----------------------------------------\n",
      "Starting optimization...\n"
     ]
    },
    {
     "name": "stderr",
     "output_type": "stream",
     "text": [
      "100% (200 of 200) |######################| Elapsed Time: 0:00:49 Time:  0:00:49\n"
     ]
    },
    {
     "name": "stdout",
     "output_type": "stream",
     "text": [
      " - final iteration number:  200\n",
      " - final log10 cost value:  -5.0745792913562315\n",
      " - converged:  True\n",
      "Done.\n",
      "Execution time:  1580.8778929999971  seconds\n",
      "----------------------------------------\n"
     ]
    },
    {
     "name": "stderr",
     "output_type": "stream",
     "text": [
      "\u001b[33mWARNING\u001b[0m: Making input data immutable.\n"
     ]
    },
    {
     "name": "stdout",
     "output_type": "stream",
     "text": [
      "\n",
      "  _____             ____     _____      _\n",
      " |\" ___|    ___    / __\"| u |_ \" _| U  /\"\\  u\n",
      "U| |_  u   |_\"_|  <\\___ \\/    | |    \\/ _ \\/\n",
      "\\|  _|/     | |    u___) |   /| |\\   / ___ \\\\\n",
      " |_|      U/| |\\u  |____/>> u |_|U  /_/   \\_\\\\\n",
      " )(\\\\\\,-.-,_|___|_,-.)(  (__)_// \\\\\\_  \\\\\\    >>\n",
      "(__)(_/ \\_)-' '-(_/(__)    (__) (__)(__)  (__)\n",
      "    \n",
      " - mu:  2.1544346900318866e-09\n",
      " - lipschitz constant:  1.0999999999999783\n",
      " - data:  (640, 368)\n",
      " - wavelet:  <mri.reconstruct.linear.WaveletN object at 0x7fa415777198> - 4\n",
      " - max iterations:  200\n",
      " - image variable shape:  (640, 368)\n",
      " - alpha variable shape:  (235520,)\n",
      "----------------------------------------\n",
      "Starting optimization...\n"
     ]
    },
    {
     "name": "stderr",
     "output_type": "stream",
     "text": [
      "100% (200 of 200) |######################| Elapsed Time: 0:00:50 Time:  0:00:50\n"
     ]
    },
    {
     "name": "stdout",
     "output_type": "stream",
     "text": [
      " - final iteration number:  200\n",
      " - final log10 cost value:  -5.2438151029396955\n",
      " - converged:  True\n",
      "Done.\n",
      "Execution time:  1596.1716250000172  seconds\n",
      "----------------------------------------\n"
     ]
    },
    {
     "name": "stderr",
     "output_type": "stream",
     "text": [
      "\u001b[33mWARNING\u001b[0m: Making input data immutable.\n"
     ]
    },
    {
     "name": "stdout",
     "output_type": "stream",
     "text": [
      "\n",
      "  _____             ____     _____      _\n",
      " |\" ___|    ___    / __\"| u |_ \" _| U  /\"\\  u\n",
      "U| |_  u   |_\"_|  <\\___ \\/    | |    \\/ _ \\/\n",
      "\\|  _|/     | |    u___) |   /| |\\   / ___ \\\\\n",
      " |_|      U/| |\\u  |____/>> u |_|U  /_/   \\_\\\\\n",
      " )(\\\\\\,-.-,_|___|_,-.)(  (__)_// \\\\\\_  \\\\\\    >>\n",
      "(__)(_/ \\_)-' '-(_/(__)    (__) (__)(__)  (__)\n",
      "    \n",
      " - mu:  2.1544346900318866e-09\n",
      " - lipschitz constant:  1.1000000000000887\n",
      " - data:  (640, 368)\n",
      " - wavelet:  <mri.reconstruct.linear.WaveletN object at 0x7fa41570eac8> - 4\n",
      " - max iterations:  200\n",
      " - image variable shape:  (640, 368)\n",
      " - alpha variable shape:  (235520,)\n",
      "----------------------------------------\n",
      "Starting optimization...\n"
     ]
    },
    {
     "name": "stderr",
     "output_type": "stream",
     "text": [
      "100% (200 of 200) |######################| Elapsed Time: 0:00:49 Time:  0:00:49\n"
     ]
    },
    {
     "name": "stdout",
     "output_type": "stream",
     "text": [
      " - final iteration number:  200\n",
      " - final log10 cost value:  -5.170165748257095\n",
      " - converged:  True\n",
      "Done.\n",
      "Execution time:  1588.1426729999948  seconds\n",
      "----------------------------------------\n"
     ]
    },
    {
     "name": "stderr",
     "output_type": "stream",
     "text": [
      "\u001b[33mWARNING\u001b[0m: Making input data immutable.\n"
     ]
    },
    {
     "name": "stdout",
     "output_type": "stream",
     "text": [
      "\n",
      "  _____             ____     _____      _\n",
      " |\" ___|    ___    / __\"| u |_ \" _| U  /\"\\  u\n",
      "U| |_  u   |_\"_|  <\\___ \\/    | |    \\/ _ \\/\n",
      "\\|  _|/     | |    u___) |   /| |\\   / ___ \\\\\n",
      " |_|      U/| |\\u  |____/>> u |_|U  /_/   \\_\\\\\n",
      " )(\\\\\\,-.-,_|___|_,-.)(  (__)_// \\\\\\_  \\\\\\    >>\n",
      "(__)(_/ \\_)-' '-(_/(__)    (__) (__)(__)  (__)\n",
      "    \n",
      " - mu:  2.1544346900318866e-09\n",
      " - lipschitz constant:  1.099999999999974\n",
      " - data:  (640, 372)\n",
      " - wavelet:  <mri.reconstruct.linear.WaveletN object at 0x7fa415777320> - 4\n",
      " - max iterations:  200\n",
      " - image variable shape:  (640, 372)\n",
      " - alpha variable shape:  (238320,)\n",
      "----------------------------------------\n",
      "Starting optimization...\n"
     ]
    },
    {
     "name": "stderr",
     "output_type": "stream",
     "text": [
      "100% (200 of 200) |######################| Elapsed Time: 0:00:52 Time:  0:00:52\n"
     ]
    },
    {
     "name": "stdout",
     "output_type": "stream",
     "text": [
      " - final iteration number:  200\n",
      " - final log10 cost value:  -6.177475493957613\n",
      " - converged:  True\n",
      "Done.\n",
      "Execution time:  1618.6763899999787  seconds\n",
      "----------------------------------------\n"
     ]
    },
    {
     "name": "stderr",
     "output_type": "stream",
     "text": [
      "\u001b[33mWARNING\u001b[0m: Making input data immutable.\n"
     ]
    },
    {
     "name": "stdout",
     "output_type": "stream",
     "text": [
      "\n",
      "  _____             ____     _____      _\n",
      " |\" ___|    ___    / __\"| u |_ \" _| U  /\"\\  u\n",
      "U| |_  u   |_\"_|  <\\___ \\/    | |    \\/ _ \\/\n",
      "\\|  _|/     | |    u___) |   /| |\\   / ___ \\\\\n",
      " |_|      U/| |\\u  |____/>> u |_|U  /_/   \\_\\\\\n",
      " )(\\\\\\,-.-,_|___|_,-.)(  (__)_// \\\\\\_  \\\\\\    >>\n",
      "(__)(_/ \\_)-' '-(_/(__)    (__) (__)(__)  (__)\n",
      "    \n",
      " - mu:  2.1544346900318866e-09\n",
      " - lipschitz constant:  1.100000000000062\n",
      " - data:  (640, 372)\n",
      " - wavelet:  <mri.reconstruct.linear.WaveletN object at 0x7fa415760be0> - 4\n",
      " - max iterations:  200\n",
      " - image variable shape:  (640, 372)\n",
      " - alpha variable shape:  (238320,)\n",
      "----------------------------------------\n",
      "Starting optimization...\n"
     ]
    },
    {
     "name": "stderr",
     "output_type": "stream",
     "text": [
      "100% (200 of 200) |######################| Elapsed Time: 0:00:52 Time:  0:00:52\n"
     ]
    },
    {
     "name": "stdout",
     "output_type": "stream",
     "text": [
      " - final iteration number:  200\n",
      " - final log10 cost value:  -6.346661815702636\n",
      " - converged:  True\n",
      "Done.\n",
      "Execution time:  1649.5355160000036  seconds\n",
      "----------------------------------------\n"
     ]
    },
    {
     "name": "stderr",
     "output_type": "stream",
     "text": [
      "\u001b[33mWARNING\u001b[0m: Making input data immutable.\n"
     ]
    },
    {
     "name": "stdout",
     "output_type": "stream",
     "text": [
      "\n",
      "  _____             ____     _____      _\n",
      " |\" ___|    ___    / __\"| u |_ \" _| U  /\"\\  u\n",
      "U| |_  u   |_\"_|  <\\___ \\/    | |    \\/ _ \\/\n",
      "\\|  _|/     | |    u___) |   /| |\\   / ___ \\\\\n",
      " |_|      U/| |\\u  |____/>> u |_|U  /_/   \\_\\\\\n",
      " )(\\\\\\,-.-,_|___|_,-.)(  (__)_// \\\\\\_  \\\\\\    >>\n",
      "(__)(_/ \\_)-' '-(_/(__)    (__) (__)(__)  (__)\n",
      "    \n",
      " - mu:  2.1544346900318866e-09\n",
      " - lipschitz constant:  1.1000000000000678\n",
      " - data:  (640, 368)\n",
      " - wavelet:  <mri.reconstruct.linear.WaveletN object at 0x7fa41578e860> - 4\n",
      " - max iterations:  200\n",
      " - image variable shape:  (640, 368)\n",
      " - alpha variable shape:  (235520,)\n",
      "----------------------------------------\n",
      "Starting optimization...\n"
     ]
    },
    {
     "name": "stderr",
     "output_type": "stream",
     "text": [
      "100% (200 of 200) |######################| Elapsed Time: 0:00:50 Time:  0:00:50\n"
     ]
    },
    {
     "name": "stdout",
     "output_type": "stream",
     "text": [
      " - final iteration number:  200\n",
      " - final log10 cost value:  -5.47382707430091\n",
      " - converged:  True\n",
      "Done.\n",
      "Execution time:  1578.3130860000383  seconds\n",
      "----------------------------------------\n"
     ]
    },
    {
     "name": "stderr",
     "output_type": "stream",
     "text": [
      "\u001b[33mWARNING\u001b[0m: Making input data immutable.\n"
     ]
    },
    {
     "name": "stdout",
     "output_type": "stream",
     "text": [
      "\n",
      "  _____             ____     _____      _\n",
      " |\" ___|    ___    / __\"| u |_ \" _| U  /\"\\  u\n",
      "U| |_  u   |_\"_|  <\\___ \\/    | |    \\/ _ \\/\n",
      "\\|  _|/     | |    u___) |   /| |\\   / ___ \\\\\n",
      " |_|      U/| |\\u  |____/>> u |_|U  /_/   \\_\\\\\n",
      " )(\\\\\\,-.-,_|___|_,-.)(  (__)_// \\\\\\_  \\\\\\    >>\n",
      "(__)(_/ \\_)-' '-(_/(__)    (__) (__)(__)  (__)\n",
      "    \n",
      " - mu:  2.1544346900318866e-09\n",
      " - lipschitz constant:  1.1000000000000594\n",
      " - data:  (640, 372)\n",
      " - wavelet:  <mri.reconstruct.linear.WaveletN object at 0x7fa415b3df60> - 4\n",
      " - max iterations:  200\n",
      " - image variable shape:  (640, 372)\n",
      " - alpha variable shape:  (238320,)\n",
      "----------------------------------------\n",
      "Starting optimization...\n"
     ]
    },
    {
     "name": "stderr",
     "output_type": "stream",
     "text": [
      "100% (200 of 200) |######################| Elapsed Time: 0:00:52 Time:  0:00:52\n"
     ]
    },
    {
     "name": "stdout",
     "output_type": "stream",
     "text": [
      " - final iteration number:  200\n",
      " - final log10 cost value:  -6.153129231443277\n",
      " - converged:  True\n",
      "Done.\n",
      "Execution time:  1638.4842330000247  seconds\n",
      "----------------------------------------\n"
     ]
    },
    {
     "name": "stderr",
     "output_type": "stream",
     "text": [
      "\u001b[33mWARNING\u001b[0m: Making input data immutable.\n"
     ]
    },
    {
     "name": "stdout",
     "output_type": "stream",
     "text": [
      "\n",
      "  _____             ____     _____      _\n",
      " |\" ___|    ___    / __\"| u |_ \" _| U  /\"\\  u\n",
      "U| |_  u   |_\"_|  <\\___ \\/    | |    \\/ _ \\/\n",
      "\\|  _|/     | |    u___) |   /| |\\   / ___ \\\\\n",
      " |_|      U/| |\\u  |____/>> u |_|U  /_/   \\_\\\\\n",
      " )(\\\\\\,-.-,_|___|_,-.)(  (__)_// \\\\\\_  \\\\\\    >>\n",
      "(__)(_/ \\_)-' '-(_/(__)    (__) (__)(__)  (__)\n",
      "    \n",
      " - mu:  2.1544346900318866e-09\n",
      " - lipschitz constant:  1.0999999999999823\n",
      " - data:  (640, 368)\n",
      " - wavelet:  <mri.reconstruct.linear.WaveletN object at 0x7fa4156f20f0> - 4\n",
      " - max iterations:  200\n",
      " - image variable shape:  (640, 368)\n",
      " - alpha variable shape:  (235520,)\n",
      "----------------------------------------\n",
      "Starting optimization...\n"
     ]
    },
    {
     "name": "stderr",
     "output_type": "stream",
     "text": [
      "100% (200 of 200) |######################| Elapsed Time: 0:00:50 Time:  0:00:50\n"
     ]
    },
    {
     "name": "stdout",
     "output_type": "stream",
     "text": [
      " - final iteration number:  200\n",
      " - final log10 cost value:  -5.333510088069523\n",
      " - converged:  True\n",
      "Done.\n",
      "Execution time:  1597.7918090000167  seconds\n",
      "----------------------------------------\n"
     ]
    },
    {
     "name": "stderr",
     "output_type": "stream",
     "text": [
      "\u001b[33mWARNING\u001b[0m: Making input data immutable.\n"
     ]
    },
    {
     "name": "stdout",
     "output_type": "stream",
     "text": [
      "\n",
      "  _____             ____     _____      _\n",
      " |\" ___|    ___    / __\"| u |_ \" _| U  /\"\\  u\n",
      "U| |_  u   |_\"_|  <\\___ \\/    | |    \\/ _ \\/\n",
      "\\|  _|/     | |    u___) |   /| |\\   / ___ \\\\\n",
      " |_|      U/| |\\u  |____/>> u |_|U  /_/   \\_\\\\\n",
      " )(\\\\\\,-.-,_|___|_,-.)(  (__)_// \\\\\\_  \\\\\\    >>\n",
      "(__)(_/ \\_)-' '-(_/(__)    (__) (__)(__)  (__)\n",
      "    \n",
      " - mu:  2.1544346900318866e-09\n",
      " - lipschitz constant:  1.0999999999999819\n",
      " - data:  (640, 368)\n",
      " - wavelet:  <mri.reconstruct.linear.WaveletN object at 0x7fa4157389e8> - 4\n",
      " - max iterations:  200\n",
      " - image variable shape:  (640, 368)\n",
      " - alpha variable shape:  (235520,)\n",
      "----------------------------------------\n",
      "Starting optimization...\n"
     ]
    },
    {
     "name": "stderr",
     "output_type": "stream",
     "text": [
      "100% (200 of 200) |######################| Elapsed Time: 0:00:49 Time:  0:00:49\n"
     ]
    },
    {
     "name": "stdout",
     "output_type": "stream",
     "text": [
      " - final iteration number:  200\n",
      " - final log10 cost value:  -5.362341126236309\n",
      " - converged:  True\n",
      "Done.\n",
      "Execution time:  1586.3174059999874  seconds\n",
      "----------------------------------------\n"
     ]
    },
    {
     "name": "stderr",
     "output_type": "stream",
     "text": [
      "\u001b[33mWARNING\u001b[0m: Making input data immutable.\n"
     ]
    },
    {
     "name": "stdout",
     "output_type": "stream",
     "text": [
      "\n",
      "  _____             ____     _____      _\n",
      " |\" ___|    ___    / __\"| u |_ \" _| U  /\"\\  u\n",
      "U| |_  u   |_\"_|  <\\___ \\/    | |    \\/ _ \\/\n",
      "\\|  _|/     | |    u___) |   /| |\\   / ___ \\\\\n",
      " |_|      U/| |\\u  |____/>> u |_|U  /_/   \\_\\\\\n",
      " )(\\\\\\,-.-,_|___|_,-.)(  (__)_// \\\\\\_  \\\\\\    >>\n",
      "(__)(_/ \\_)-' '-(_/(__)    (__) (__)(__)  (__)\n",
      "    \n",
      " - mu:  2.1544346900318866e-09\n",
      " - lipschitz constant:  1.0999999999999768\n",
      " - data:  (640, 368)\n",
      " - wavelet:  <mri.reconstruct.linear.WaveletN object at 0x7fa41578ea90> - 4\n",
      " - max iterations:  200\n",
      " - image variable shape:  (640, 368)\n",
      " - alpha variable shape:  (235520,)\n",
      "----------------------------------------\n",
      "Starting optimization...\n"
     ]
    },
    {
     "name": "stderr",
     "output_type": "stream",
     "text": [
      "100% (200 of 200) |######################| Elapsed Time: 0:00:50 Time:  0:00:50\n"
     ]
    },
    {
     "name": "stdout",
     "output_type": "stream",
     "text": [
      " - final iteration number:  200\n",
      " - final log10 cost value:  -5.125462849291174\n",
      " - converged:  True\n",
      "Done.\n",
      "Execution time:  1603.0367020000122  seconds\n",
      "----------------------------------------\n"
     ]
    },
    {
     "name": "stderr",
     "output_type": "stream",
     "text": [
      "\u001b[33mWARNING\u001b[0m: Making input data immutable.\n"
     ]
    },
    {
     "name": "stdout",
     "output_type": "stream",
     "text": [
      "\n",
      "  _____             ____     _____      _\n",
      " |\" ___|    ___    / __\"| u |_ \" _| U  /\"\\  u\n",
      "U| |_  u   |_\"_|  <\\___ \\/    | |    \\/ _ \\/\n",
      "\\|  _|/     | |    u___) |   /| |\\   / ___ \\\\\n",
      " |_|      U/| |\\u  |____/>> u |_|U  /_/   \\_\\\\\n",
      " )(\\\\\\,-.-,_|___|_,-.)(  (__)_// \\\\\\_  \\\\\\    >>\n",
      "(__)(_/ \\_)-' '-(_/(__)    (__) (__)(__)  (__)\n",
      "    \n",
      " - mu:  2.1544346900318866e-09\n",
      " - lipschitz constant:  1.0999999999999728\n",
      " - data:  (640, 372)\n",
      " - wavelet:  <mri.reconstruct.linear.WaveletN object at 0x7fa415738780> - 4\n",
      " - max iterations:  200\n",
      " - image variable shape:  (640, 372)\n",
      " - alpha variable shape:  (238320,)\n",
      "----------------------------------------\n",
      "Starting optimization...\n"
     ]
    },
    {
     "name": "stderr",
     "output_type": "stream",
     "text": [
      "100% (200 of 200) |######################| Elapsed Time: 0:00:52 Time:  0:00:52\n"
     ]
    },
    {
     "name": "stdout",
     "output_type": "stream",
     "text": [
      " - final iteration number:  200\n",
      " - final log10 cost value:  -6.2451570185705565\n",
      " - converged:  True\n",
      "Done.\n",
      "Execution time:  1637.1757249999791  seconds\n",
      "----------------------------------------\n"
     ]
    },
    {
     "name": "stderr",
     "output_type": "stream",
     "text": [
      "\u001b[33mWARNING\u001b[0m: Making input data immutable.\n"
     ]
    },
    {
     "name": "stdout",
     "output_type": "stream",
     "text": [
      "\n",
      "  _____             ____     _____      _\n",
      " |\" ___|    ___    / __\"| u |_ \" _| U  /\"\\  u\n",
      "U| |_  u   |_\"_|  <\\___ \\/    | |    \\/ _ \\/\n",
      "\\|  _|/     | |    u___) |   /| |\\   / ___ \\\\\n",
      " |_|      U/| |\\u  |____/>> u |_|U  /_/   \\_\\\\\n",
      " )(\\\\\\,-.-,_|___|_,-.)(  (__)_// \\\\\\_  \\\\\\    >>\n",
      "(__)(_/ \\_)-' '-(_/(__)    (__) (__)(__)  (__)\n",
      "    \n",
      " - mu:  2.1544346900318866e-09\n",
      " - lipschitz constant:  1.1000000000000694\n",
      " - data:  (640, 368)\n",
      " - wavelet:  <mri.reconstruct.linear.WaveletN object at 0x7fa4157604e0> - 4\n",
      " - max iterations:  200\n",
      " - image variable shape:  (640, 368)\n",
      " - alpha variable shape:  (235520,)\n",
      "----------------------------------------\n",
      "Starting optimization...\n"
     ]
    },
    {
     "name": "stderr",
     "output_type": "stream",
     "text": [
      "100% (200 of 200) |######################| Elapsed Time: 0:00:49 Time:  0:00:49\n"
     ]
    },
    {
     "name": "stdout",
     "output_type": "stream",
     "text": [
      " - final iteration number:  200\n",
      " - final log10 cost value:  -5.142849133305113\n",
      " - converged:  True\n",
      "Done.\n",
      "Execution time:  1579.735109000001  seconds\n",
      "----------------------------------------\n"
     ]
    },
    {
     "name": "stderr",
     "output_type": "stream",
     "text": [
      "\u001b[33mWARNING\u001b[0m: Making input data immutable.\n"
     ]
    },
    {
     "name": "stdout",
     "output_type": "stream",
     "text": [
      "\n",
      "  _____             ____     _____      _\n",
      " |\" ___|    ___    / __\"| u |_ \" _| U  /\"\\  u\n",
      "U| |_  u   |_\"_|  <\\___ \\/    | |    \\/ _ \\/\n",
      "\\|  _|/     | |    u___) |   /| |\\   / ___ \\\\\n",
      " |_|      U/| |\\u  |____/>> u |_|U  /_/   \\_\\\\\n",
      " )(\\\\\\,-.-,_|___|_,-.)(  (__)_// \\\\\\_  \\\\\\    >>\n",
      "(__)(_/ \\_)-' '-(_/(__)    (__) (__)(__)  (__)\n",
      "    \n",
      " - mu:  2.1544346900318866e-09\n",
      " - lipschitz constant:  1.1000000000000703\n",
      " - data:  (640, 372)\n",
      " - wavelet:  <mri.reconstruct.linear.WaveletN object at 0x7fa41578e8d0> - 4\n",
      " - max iterations:  200\n",
      " - image variable shape:  (640, 372)\n",
      " - alpha variable shape:  (238320,)\n",
      "----------------------------------------\n",
      "Starting optimization...\n"
     ]
    },
    {
     "name": "stderr",
     "output_type": "stream",
     "text": [
      "100% (200 of 200) |######################| Elapsed Time: 0:00:52 Time:  0:00:52\n"
     ]
    },
    {
     "name": "stdout",
     "output_type": "stream",
     "text": [
      " - final iteration number:  200\n",
      " - final log10 cost value:  -6.296344962561328\n",
      " - converged:  True\n",
      "Done.\n",
      "Execution time:  1645.8904079999775  seconds\n",
      "----------------------------------------\n"
     ]
    },
    {
     "name": "stderr",
     "output_type": "stream",
     "text": [
      "\u001b[33mWARNING\u001b[0m: Making input data immutable.\n"
     ]
    },
    {
     "name": "stdout",
     "output_type": "stream",
     "text": [
      "\n",
      "  _____             ____     _____      _\n",
      " |\" ___|    ___    / __\"| u |_ \" _| U  /\"\\  u\n",
      "U| |_  u   |_\"_|  <\\___ \\/    | |    \\/ _ \\/\n",
      "\\|  _|/     | |    u___) |   /| |\\   / ___ \\\\\n",
      " |_|      U/| |\\u  |____/>> u |_|U  /_/   \\_\\\\\n",
      " )(\\\\\\,-.-,_|___|_,-.)(  (__)_// \\\\\\_  \\\\\\    >>\n",
      "(__)(_/ \\_)-' '-(_/(__)    (__) (__)(__)  (__)\n",
      "    \n",
      " - mu:  2.1544346900318866e-09\n",
      " - lipschitz constant:  1.1000000000000654\n",
      " - data:  (640, 372)\n",
      " - wavelet:  <mri.reconstruct.linear.WaveletN object at 0x7fa415760978> - 4\n",
      " - max iterations:  200\n",
      " - image variable shape:  (640, 372)\n",
      " - alpha variable shape:  (238320,)\n",
      "----------------------------------------\n",
      "Starting optimization...\n"
     ]
    },
    {
     "name": "stderr",
     "output_type": "stream",
     "text": [
      "100% (200 of 200) |######################| Elapsed Time: 0:00:52 Time:  0:00:52\n"
     ]
    },
    {
     "name": "stdout",
     "output_type": "stream",
     "text": [
      " - final iteration number:  200\n",
      " - final log10 cost value:  -6.337954142925233\n",
      " - converged:  True\n",
      "Done.\n",
      "Execution time:  1640.0149299999466  seconds\n",
      "----------------------------------------\n"
     ]
    },
    {
     "name": "stderr",
     "output_type": "stream",
     "text": [
      "\u001b[33mWARNING\u001b[0m: Making input data immutable.\n"
     ]
    },
    {
     "name": "stdout",
     "output_type": "stream",
     "text": [
      "\n",
      "  _____             ____     _____      _\n",
      " |\" ___|    ___    / __\"| u |_ \" _| U  /\"\\  u\n",
      "U| |_  u   |_\"_|  <\\___ \\/    | |    \\/ _ \\/\n",
      "\\|  _|/     | |    u___) |   /| |\\   / ___ \\\\\n",
      " |_|      U/| |\\u  |____/>> u |_|U  /_/   \\_\\\\\n",
      " )(\\\\\\,-.-,_|___|_,-.)(  (__)_// \\\\\\_  \\\\\\    >>\n",
      "(__)(_/ \\_)-' '-(_/(__)    (__) (__)(__)  (__)\n",
      "    \n",
      " - mu:  2.1544346900318866e-09\n",
      " - lipschitz constant:  1.1000000000000685\n",
      " - data:  (640, 372)\n",
      " - wavelet:  <mri.reconstruct.linear.WaveletN object at 0x7fa415b3df60> - 4\n",
      " - max iterations:  200\n",
      " - image variable shape:  (640, 372)\n",
      " - alpha variable shape:  (238320,)\n",
      "----------------------------------------\n",
      "Starting optimization...\n"
     ]
    },
    {
     "name": "stderr",
     "output_type": "stream",
     "text": [
      "100% (200 of 200) |######################| Elapsed Time: 0:00:51 Time:  0:00:51\n"
     ]
    },
    {
     "name": "stdout",
     "output_type": "stream",
     "text": [
      " - final iteration number:  200\n",
      " - final log10 cost value:  -6.306288472555329\n",
      " - converged:  True\n",
      "Done.\n",
      "Execution time:  1601.4444119999534  seconds\n",
      "----------------------------------------\n"
     ]
    },
    {
     "name": "stderr",
     "output_type": "stream",
     "text": [
      "\u001b[33mWARNING\u001b[0m: Making input data immutable.\n"
     ]
    },
    {
     "name": "stdout",
     "output_type": "stream",
     "text": [
      "\n",
      "  _____             ____     _____      _\n",
      " |\" ___|    ___    / __\"| u |_ \" _| U  /\"\\  u\n",
      "U| |_  u   |_\"_|  <\\___ \\/    | |    \\/ _ \\/\n",
      "\\|  _|/     | |    u___) |   /| |\\   / ___ \\\\\n",
      " |_|      U/| |\\u  |____/>> u |_|U  /_/   \\_\\\\\n",
      " )(\\\\\\,-.-,_|___|_,-.)(  (__)_// \\\\\\_  \\\\\\    >>\n",
      "(__)(_/ \\_)-' '-(_/(__)    (__) (__)(__)  (__)\n",
      "    \n",
      " - mu:  2.1544346900318866e-09\n",
      " - lipschitz constant:  1.0999999999999834\n",
      " - data:  (640, 368)\n",
      " - wavelet:  <mri.reconstruct.linear.WaveletN object at 0x7fa4156f2668> - 4\n",
      " - max iterations:  200\n",
      " - image variable shape:  (640, 368)\n",
      " - alpha variable shape:  (235520,)\n",
      "----------------------------------------\n",
      "Starting optimization...\n"
     ]
    },
    {
     "name": "stderr",
     "output_type": "stream",
     "text": [
      "100% (200 of 200) |######################| Elapsed Time: 0:00:50 Time:  0:00:50\n"
     ]
    },
    {
     "name": "stdout",
     "output_type": "stream",
     "text": [
      " - final iteration number:  200\n",
      " - final log10 cost value:  -5.4458239097175705\n",
      " - converged:  True\n",
      "Done.\n",
      "Execution time:  1591.188908000011  seconds\n",
      "----------------------------------------\n"
     ]
    },
    {
     "name": "stderr",
     "output_type": "stream",
     "text": [
      "\u001b[33mWARNING\u001b[0m: Making input data immutable.\n"
     ]
    },
    {
     "name": "stdout",
     "output_type": "stream",
     "text": [
      "\n",
      "  _____             ____     _____      _\n",
      " |\" ___|    ___    / __\"| u |_ \" _| U  /\"\\  u\n",
      "U| |_  u   |_\"_|  <\\___ \\/    | |    \\/ _ \\/\n",
      "\\|  _|/     | |    u___) |   /| |\\   / ___ \\\\\n",
      " |_|      U/| |\\u  |____/>> u |_|U  /_/   \\_\\\\\n",
      " )(\\\\\\,-.-,_|___|_,-.)(  (__)_// \\\\\\_  \\\\\\    >>\n",
      "(__)(_/ \\_)-' '-(_/(__)    (__) (__)(__)  (__)\n",
      "    \n",
      " - mu:  2.1544346900318866e-09\n",
      " - lipschitz constant:  1.0999999999999748\n",
      " - data:  (640, 372)\n",
      " - wavelet:  <mri.reconstruct.linear.WaveletN object at 0x7fa415777320> - 4\n",
      " - max iterations:  200\n",
      " - image variable shape:  (640, 372)\n",
      " - alpha variable shape:  (238320,)\n",
      "----------------------------------------\n",
      "Starting optimization...\n"
     ]
    },
    {
     "name": "stderr",
     "output_type": "stream",
     "text": [
      "100% (200 of 200) |######################| Elapsed Time: 0:00:51 Time:  0:00:51\n"
     ]
    },
    {
     "name": "stdout",
     "output_type": "stream",
     "text": [
      " - final iteration number:  200\n",
      " - final log10 cost value:  -6.518919788222123\n",
      " - converged:  True\n",
      "Done.\n",
      "Execution time:  1630.296876999957  seconds\n",
      "----------------------------------------\n",
      "\n"
     ]
    },
    {
     "data": {
      "application/vnd.jupyter.widget-view+json": {
       "model_id": "a322b89292a54b9c9580f2448335cf64",
       "version_major": 2,
       "version_minor": 0
      },
      "text/plain": [
       "HBox(children=(FloatProgress(value=0.0, description='Stats', max=24.0, style=ProgressStyle(description_width='…"
      ]
     },
     "metadata": {},
     "output_type": "display_data"
    },
    {
     "name": "stdout",
     "output_type": "stream",
     "text": [
      "\n"
     ]
    },
    {
     "data": {
      "application/vnd.jupyter.widget-view+json": {
       "model_id": "6c5ec16bc65340748b9d0b59da8b29df",
       "version_major": 2,
       "version_minor": 0
      },
      "text/plain": [
       "HBox(children=(FloatProgress(value=0.0, description='K-spaces', max=24.0, style=ProgressStyle(description_widt…"
      ]
     },
     "metadata": {},
     "output_type": "display_data"
    },
    {
     "name": "stderr",
     "output_type": "stream",
     "text": [
      "\u001b[33mWARNING\u001b[0m: Making input data immutable.\n"
     ]
    },
    {
     "name": "stdout",
     "output_type": "stream",
     "text": [
      "\n",
      "  _____             ____     _____      _\n",
      " |\" ___|    ___    / __\"| u |_ \" _| U  /\"\\  u\n",
      "U| |_  u   |_\"_|  <\\___ \\/    | |    \\/ _ \\/\n",
      "\\|  _|/     | |    u___) |   /| |\\   / ___ \\\\\n",
      " |_|      U/| |\\u  |____/>> u |_|U  /_/   \\_\\\\\n",
      " )(\\\\\\,-.-,_|___|_,-.)(  (__)_// \\\\\\_  \\\\\\    >>\n",
      "(__)(_/ \\_)-' '-(_/(__)    (__) (__)(__)  (__)\n",
      "    \n",
      " - mu:  4.641588833612773e-09\n",
      " - lipschitz constant:  1.0999999999999819\n",
      " - data:  (640, 368)\n",
      " - wavelet:  <mri.reconstruct.linear.WaveletN object at 0x7fa4157661d0> - 4\n",
      " - max iterations:  200\n",
      " - image variable shape:  (640, 368)\n",
      " - alpha variable shape:  (235520,)\n",
      "----------------------------------------\n",
      "Starting optimization...\n"
     ]
    },
    {
     "name": "stderr",
     "output_type": "stream",
     "text": [
      "100% (200 of 200) |######################| Elapsed Time: 0:00:50 Time:  0:00:50\n"
     ]
    },
    {
     "name": "stdout",
     "output_type": "stream",
     "text": [
      " - final iteration number:  200\n",
      " - final log10 cost value:  -5.214383409833588\n",
      " - converged:  True\n",
      "Done.\n",
      "Execution time:  1615.0541890000459  seconds\n",
      "----------------------------------------\n"
     ]
    },
    {
     "name": "stderr",
     "output_type": "stream",
     "text": [
      "\u001b[33mWARNING\u001b[0m: Making input data immutable.\n"
     ]
    },
    {
     "name": "stdout",
     "output_type": "stream",
     "text": [
      "\n",
      "  _____             ____     _____      _\n",
      " |\" ___|    ___    / __\"| u |_ \" _| U  /\"\\  u\n",
      "U| |_  u   |_\"_|  <\\___ \\/    | |    \\/ _ \\/\n",
      "\\|  _|/     | |    u___) |   /| |\\   / ___ \\\\\n",
      " |_|      U/| |\\u  |____/>> u |_|U  /_/   \\_\\\\\n",
      " )(\\\\\\,-.-,_|___|_,-.)(  (__)_// \\\\\\_  \\\\\\    >>\n",
      "(__)(_/ \\_)-' '-(_/(__)    (__) (__)(__)  (__)\n",
      "    \n",
      " - mu:  4.641588833612773e-09\n",
      " - lipschitz constant:  1.100000000000031\n",
      " - data:  (640, 372)\n",
      " - wavelet:  <mri.reconstruct.linear.WaveletN object at 0x7fa41578ea90> - 4\n",
      " - max iterations:  200\n",
      " - image variable shape:  (640, 372)\n",
      " - alpha variable shape:  (238320,)\n",
      "----------------------------------------\n",
      "Starting optimization...\n"
     ]
    },
    {
     "name": "stderr",
     "output_type": "stream",
     "text": [
      "100% (200 of 200) |######################| Elapsed Time: 0:00:52 Time:  0:00:52\n"
     ]
    },
    {
     "name": "stdout",
     "output_type": "stream",
     "text": [
      " - final iteration number:  200\n",
      " - final log10 cost value:  -6.751284478500436\n",
      " - converged:  True\n",
      "Done.\n",
      "Execution time:  1632.6227679999429  seconds\n",
      "----------------------------------------\n"
     ]
    },
    {
     "name": "stderr",
     "output_type": "stream",
     "text": [
      "\u001b[33mWARNING\u001b[0m: Making input data immutable.\n"
     ]
    },
    {
     "name": "stdout",
     "output_type": "stream",
     "text": [
      "\n",
      "  _____             ____     _____      _\n",
      " |\" ___|    ___    / __\"| u |_ \" _| U  /\"\\  u\n",
      "U| |_  u   |_\"_|  <\\___ \\/    | |    \\/ _ \\/\n",
      "\\|  _|/     | |    u___) |   /| |\\   / ___ \\\\\n",
      " |_|      U/| |\\u  |____/>> u |_|U  /_/   \\_\\\\\n",
      " )(\\\\\\,-.-,_|___|_,-.)(  (__)_// \\\\\\_  \\\\\\    >>\n",
      "(__)(_/ \\_)-' '-(_/(__)    (__) (__)(__)  (__)\n",
      "    \n",
      " - mu:  4.641588833612773e-09\n",
      " - lipschitz constant:  1.1000000000000727\n",
      " - data:  (640, 368)\n",
      " - wavelet:  <mri.reconstruct.linear.WaveletN object at 0x7fa415799198> - 4\n",
      " - max iterations:  200\n",
      " - image variable shape:  (640, 368)\n",
      " - alpha variable shape:  (235520,)\n",
      "----------------------------------------\n",
      "Starting optimization...\n"
     ]
    },
    {
     "name": "stderr",
     "output_type": "stream",
     "text": [
      "100% (200 of 200) |######################| Elapsed Time: 0:00:50 Time:  0:00:50\n"
     ]
    },
    {
     "name": "stdout",
     "output_type": "stream",
     "text": [
      " - final iteration number:  200\n",
      " - final log10 cost value:  -4.844922377292427\n",
      " - converged:  True\n",
      "Done.\n",
      "Execution time:  1576.844969000027  seconds\n",
      "----------------------------------------\n"
     ]
    },
    {
     "name": "stderr",
     "output_type": "stream",
     "text": [
      "\u001b[33mWARNING\u001b[0m: Making input data immutable.\n"
     ]
    },
    {
     "name": "stdout",
     "output_type": "stream",
     "text": [
      "\n",
      "  _____             ____     _____      _\n",
      " |\" ___|    ___    / __\"| u |_ \" _| U  /\"\\  u\n",
      "U| |_  u   |_\"_|  <\\___ \\/    | |    \\/ _ \\/\n",
      "\\|  _|/     | |    u___) |   /| |\\   / ___ \\\\\n",
      " |_|      U/| |\\u  |____/>> u |_|U  /_/   \\_\\\\\n",
      " )(\\\\\\,-.-,_|___|_,-.)(  (__)_// \\\\\\_  \\\\\\    >>\n",
      "(__)(_/ \\_)-' '-(_/(__)    (__) (__)(__)  (__)\n",
      "    \n",
      " - mu:  4.641588833612773e-09\n",
      " - lipschitz constant:  1.099999999999979\n",
      " - data:  (640, 356)\n",
      " - wavelet:  <mri.reconstruct.linear.WaveletN object at 0x7fa415760978> - 4\n",
      " - max iterations:  200\n",
      " - image variable shape:  (640, 356)\n",
      " - alpha variable shape:  (228080,)\n",
      "----------------------------------------\n",
      "Starting optimization...\n"
     ]
    },
    {
     "name": "stderr",
     "output_type": "stream",
     "text": [
      "100% (200 of 200) |######################| Elapsed Time: 0:00:57 Time:  0:00:57\n"
     ]
    },
    {
     "name": "stdout",
     "output_type": "stream",
     "text": [
      " - final iteration number:  200\n",
      " - final log10 cost value:  -5.087340922392365\n",
      " - converged:  True\n",
      "Done.\n",
      "Execution time:  1759.186457999982  seconds\n",
      "----------------------------------------\n"
     ]
    },
    {
     "name": "stderr",
     "output_type": "stream",
     "text": [
      "\u001b[33mWARNING\u001b[0m: Making input data immutable.\n"
     ]
    },
    {
     "name": "stdout",
     "output_type": "stream",
     "text": [
      "\n",
      "  _____             ____     _____      _\n",
      " |\" ___|    ___    / __\"| u |_ \" _| U  /\"\\  u\n",
      "U| |_  u   |_\"_|  <\\___ \\/    | |    \\/ _ \\/\n",
      "\\|  _|/     | |    u___) |   /| |\\   / ___ \\\\\n",
      " |_|      U/| |\\u  |____/>> u |_|U  /_/   \\_\\\\\n",
      " )(\\\\\\,-.-,_|___|_,-.)(  (__)_// \\\\\\_  \\\\\\    >>\n",
      "(__)(_/ \\_)-' '-(_/(__)    (__) (__)(__)  (__)\n",
      "    \n",
      " - mu:  4.641588833612773e-09\n",
      " - lipschitz constant:  1.1000000000000674\n",
      " - data:  (640, 372)\n",
      " - wavelet:  <mri.reconstruct.linear.WaveletN object at 0x7fa4156f2cc0> - 4\n",
      " - max iterations:  200\n",
      " - image variable shape:  (640, 372)\n",
      " - alpha variable shape:  (238320,)\n",
      "----------------------------------------\n",
      "Starting optimization...\n"
     ]
    },
    {
     "name": "stderr",
     "output_type": "stream",
     "text": [
      "100% (200 of 200) |######################| Elapsed Time: 0:00:52 Time:  0:00:52\n"
     ]
    },
    {
     "name": "stdout",
     "output_type": "stream",
     "text": [
      " - final iteration number:  200\n",
      " - final log10 cost value:  -6.3602559840899096\n",
      " - converged:  True\n",
      "Done.\n",
      "Execution time:  1612.7803430000204  seconds\n",
      "----------------------------------------\n"
     ]
    },
    {
     "name": "stderr",
     "output_type": "stream",
     "text": [
      "\u001b[33mWARNING\u001b[0m: Making input data immutable.\n"
     ]
    },
    {
     "name": "stdout",
     "output_type": "stream",
     "text": [
      "\n",
      "  _____             ____     _____      _\n",
      " |\" ___|    ___    / __\"| u |_ \" _| U  /\"\\  u\n",
      "U| |_  u   |_\"_|  <\\___ \\/    | |    \\/ _ \\/\n",
      "\\|  _|/     | |    u___) |   /| |\\   / ___ \\\\\n",
      " |_|      U/| |\\u  |____/>> u |_|U  /_/   \\_\\\\\n",
      " )(\\\\\\,-.-,_|___|_,-.)(  (__)_// \\\\\\_  \\\\\\    >>\n",
      "(__)(_/ \\_)-' '-(_/(__)    (__) (__)(__)  (__)\n",
      "    \n",
      " - mu:  4.641588833612773e-09\n",
      " - lipschitz constant:  1.0999999999999894\n",
      " - data:  (640, 368)\n",
      " - wavelet:  <mri.reconstruct.linear.WaveletN object at 0x7fa41570e6d8> - 4\n",
      " - max iterations:  200\n",
      " - image variable shape:  (640, 368)\n",
      " - alpha variable shape:  (235520,)\n",
      "----------------------------------------\n",
      "Starting optimization...\n"
     ]
    },
    {
     "name": "stderr",
     "output_type": "stream",
     "text": [
      "100% (200 of 200) |######################| Elapsed Time: 0:00:50 Time:  0:00:50\n"
     ]
    },
    {
     "name": "stdout",
     "output_type": "stream",
     "text": [
      " - final iteration number:  200\n",
      " - final log10 cost value:  -5.518532541051384\n",
      " - converged:  True\n",
      "Done.\n",
      "Execution time:  1597.0265079999808  seconds\n",
      "----------------------------------------\n"
     ]
    },
    {
     "name": "stderr",
     "output_type": "stream",
     "text": [
      "\u001b[33mWARNING\u001b[0m: Making input data immutable.\n"
     ]
    },
    {
     "name": "stdout",
     "output_type": "stream",
     "text": [
      "\n",
      "  _____             ____     _____      _\n",
      " |\" ___|    ___    / __\"| u |_ \" _| U  /\"\\  u\n",
      "U| |_  u   |_\"_|  <\\___ \\/    | |    \\/ _ \\/\n",
      "\\|  _|/     | |    u___) |   /| |\\   / ___ \\\\\n",
      " |_|      U/| |\\u  |____/>> u |_|U  /_/   \\_\\\\\n",
      " )(\\\\\\,-.-,_|___|_,-.)(  (__)_// \\\\\\_  \\\\\\    >>\n",
      "(__)(_/ \\_)-' '-(_/(__)    (__) (__)(__)  (__)\n",
      "    \n",
      " - mu:  4.641588833612773e-09\n",
      " - lipschitz constant:  1.1000000000000827\n",
      " - data:  (640, 372)\n",
      " - wavelet:  <mri.reconstruct.linear.WaveletN object at 0x7fa415738c50> - 4\n",
      " - max iterations:  200\n",
      " - image variable shape:  (640, 372)\n",
      " - alpha variable shape:  (238320,)\n",
      "----------------------------------------\n",
      "Starting optimization...\n"
     ]
    },
    {
     "name": "stderr",
     "output_type": "stream",
     "text": [
      "100% (200 of 200) |######################| Elapsed Time: 0:00:52 Time:  0:00:52\n"
     ]
    },
    {
     "name": "stdout",
     "output_type": "stream",
     "text": [
      " - final iteration number:  200\n",
      " - final log10 cost value:  -6.4364729173497786\n",
      " - converged:  True\n",
      "Done.\n",
      "Execution time:  1635.7316310000024  seconds\n",
      "----------------------------------------\n"
     ]
    },
    {
     "name": "stderr",
     "output_type": "stream",
     "text": [
      "\u001b[33mWARNING\u001b[0m: Making input data immutable.\n"
     ]
    },
    {
     "name": "stdout",
     "output_type": "stream",
     "text": [
      "\n",
      "  _____             ____     _____      _\n",
      " |\" ___|    ___    / __\"| u |_ \" _| U  /\"\\  u\n",
      "U| |_  u   |_\"_|  <\\___ \\/    | |    \\/ _ \\/\n",
      "\\|  _|/     | |    u___) |   /| |\\   / ___ \\\\\n",
      " |_|      U/| |\\u  |____/>> u |_|U  /_/   \\_\\\\\n",
      " )(\\\\\\,-.-,_|___|_,-.)(  (__)_// \\\\\\_  \\\\\\    >>\n",
      "(__)(_/ \\_)-' '-(_/(__)    (__) (__)(__)  (__)\n",
      "    \n",
      " - mu:  4.641588833612773e-09\n",
      " - lipschitz constant:  1.0999999999999848\n",
      " - data:  (640, 368)\n",
      " - wavelet:  <mri.reconstruct.linear.WaveletN object at 0x7fa4157667f0> - 4\n",
      " - max iterations:  200\n",
      " - image variable shape:  (640, 368)\n",
      " - alpha variable shape:  (235520,)\n",
      "----------------------------------------\n",
      "Starting optimization...\n"
     ]
    },
    {
     "name": "stderr",
     "output_type": "stream",
     "text": [
      "100% (200 of 200) |######################| Elapsed Time: 0:00:49 Time:  0:00:49\n"
     ]
    },
    {
     "name": "stdout",
     "output_type": "stream",
     "text": [
      " - final iteration number:  200\n",
      " - final log10 cost value:  -5.236387569293441\n",
      " - converged:  True\n",
      "Done.\n",
      "Execution time:  1577.876419999986  seconds\n",
      "----------------------------------------\n"
     ]
    },
    {
     "name": "stderr",
     "output_type": "stream",
     "text": [
      "\u001b[33mWARNING\u001b[0m: Making input data immutable.\n"
     ]
    },
    {
     "name": "stdout",
     "output_type": "stream",
     "text": [
      "\n",
      "  _____             ____     _____      _\n",
      " |\" ___|    ___    / __\"| u |_ \" _| U  /\"\\  u\n",
      "U| |_  u   |_\"_|  <\\___ \\/    | |    \\/ _ \\/\n",
      "\\|  _|/     | |    u___) |   /| |\\   / ___ \\\\\n",
      " |_|      U/| |\\u  |____/>> u |_|U  /_/   \\_\\\\\n",
      " )(\\\\\\,-.-,_|___|_,-.)(  (__)_// \\\\\\_  \\\\\\    >>\n",
      "(__)(_/ \\_)-' '-(_/(__)    (__) (__)(__)  (__)\n",
      "    \n",
      " - mu:  4.641588833612773e-09\n",
      " - lipschitz constant:  1.099999999999974\n",
      " - data:  (640, 372)\n",
      " - wavelet:  <mri.reconstruct.linear.WaveletN object at 0x7fa41570ea20> - 4\n",
      " - max iterations:  200\n",
      " - image variable shape:  (640, 372)\n",
      " - alpha variable shape:  (238320,)\n",
      "----------------------------------------\n",
      "Starting optimization...\n"
     ]
    },
    {
     "name": "stderr",
     "output_type": "stream",
     "text": [
      "100% (200 of 200) |######################| Elapsed Time: 0:00:51 Time:  0:00:51\n"
     ]
    },
    {
     "name": "stdout",
     "output_type": "stream",
     "text": [
      " - final iteration number:  200\n",
      " - final log10 cost value:  -6.5441157605702776\n",
      " - converged:  True\n",
      "Done.\n",
      "Execution time:  1608.172630999994  seconds\n",
      "----------------------------------------\n"
     ]
    },
    {
     "name": "stderr",
     "output_type": "stream",
     "text": [
      "\u001b[33mWARNING\u001b[0m: Making input data immutable.\n"
     ]
    },
    {
     "name": "stdout",
     "output_type": "stream",
     "text": [
      "\n",
      "  _____             ____     _____      _\n",
      " |\" ___|    ___    / __\"| u |_ \" _| U  /\"\\  u\n",
      "U| |_  u   |_\"_|  <\\___ \\/    | |    \\/ _ \\/\n",
      "\\|  _|/     | |    u___) |   /| |\\   / ___ \\\\\n",
      " |_|      U/| |\\u  |____/>> u |_|U  /_/   \\_\\\\\n",
      " )(\\\\\\,-.-,_|___|_,-.)(  (__)_// \\\\\\_  \\\\\\    >>\n",
      "(__)(_/ \\_)-' '-(_/(__)    (__) (__)(__)  (__)\n",
      "    \n",
      " - mu:  4.641588833612773e-09\n",
      " - lipschitz constant:  1.0999999999999792\n",
      " - data:  (640, 372)\n",
      " - wavelet:  <mri.reconstruct.linear.WaveletN object at 0x7fa41570ee80> - 4\n",
      " - max iterations:  200\n",
      " - image variable shape:  (640, 372)\n",
      " - alpha variable shape:  (238320,)\n",
      "----------------------------------------\n",
      "Starting optimization...\n"
     ]
    },
    {
     "name": "stderr",
     "output_type": "stream",
     "text": [
      "100% (200 of 200) |######################| Elapsed Time: 0:00:51 Time:  0:00:51\n"
     ]
    },
    {
     "name": "stdout",
     "output_type": "stream",
     "text": [
      " - final iteration number:  200\n",
      " - final log10 cost value:  -6.5834764524787275\n",
      " - converged:  True\n",
      "Done.\n",
      "Execution time:  1625.192108999996  seconds\n",
      "----------------------------------------\n"
     ]
    },
    {
     "name": "stderr",
     "output_type": "stream",
     "text": [
      "\u001b[33mWARNING\u001b[0m: Making input data immutable.\n"
     ]
    },
    {
     "name": "stdout",
     "output_type": "stream",
     "text": [
      "\n",
      "  _____             ____     _____      _\n",
      " |\" ___|    ___    / __\"| u |_ \" _| U  /\"\\  u\n",
      "U| |_  u   |_\"_|  <\\___ \\/    | |    \\/ _ \\/\n",
      "\\|  _|/     | |    u___) |   /| |\\   / ___ \\\\\n",
      " |_|      U/| |\\u  |____/>> u |_|U  /_/   \\_\\\\\n",
      " )(\\\\\\,-.-,_|___|_,-.)(  (__)_// \\\\\\_  \\\\\\    >>\n",
      "(__)(_/ \\_)-' '-(_/(__)    (__) (__)(__)  (__)\n",
      "    \n",
      " - mu:  4.641588833612773e-09\n",
      " - lipschitz constant:  1.0999999999999794\n",
      " - data:  (640, 372)\n",
      " - wavelet:  <mri.reconstruct.linear.WaveletN object at 0x7fa415777cc0> - 4\n",
      " - max iterations:  200\n",
      " - image variable shape:  (640, 372)\n",
      " - alpha variable shape:  (238320,)\n",
      "----------------------------------------\n",
      "Starting optimization...\n"
     ]
    },
    {
     "name": "stderr",
     "output_type": "stream",
     "text": [
      "100% (200 of 200) |######################| Elapsed Time: 0:00:52 Time:  0:00:52\n"
     ]
    },
    {
     "name": "stdout",
     "output_type": "stream",
     "text": [
      " - final iteration number:  200\n",
      " - final log10 cost value:  -6.290576893530339\n",
      " - converged:  True\n",
      "Done.\n",
      "Execution time:  1646.2072530000005  seconds\n",
      "----------------------------------------\n"
     ]
    },
    {
     "name": "stderr",
     "output_type": "stream",
     "text": [
      "\u001b[33mWARNING\u001b[0m: Making input data immutable.\n"
     ]
    },
    {
     "name": "stdout",
     "output_type": "stream",
     "text": [
      "\n",
      "  _____             ____     _____      _\n",
      " |\" ___|    ___    / __\"| u |_ \" _| U  /\"\\  u\n",
      "U| |_  u   |_\"_|  <\\___ \\/    | |    \\/ _ \\/\n",
      "\\|  _|/     | |    u___) |   /| |\\   / ___ \\\\\n",
      " |_|      U/| |\\u  |____/>> u |_|U  /_/   \\_\\\\\n",
      " )(\\\\\\,-.-,_|___|_,-.)(  (__)_// \\\\\\_  \\\\\\    >>\n",
      "(__)(_/ \\_)-' '-(_/(__)    (__) (__)(__)  (__)\n",
      "    \n",
      " - mu:  4.641588833612773e-09\n",
      " - lipschitz constant:  1.0999999999999763\n",
      " - data:  (640, 368)\n",
      " - wavelet:  <mri.reconstruct.linear.WaveletN object at 0x7fa415777d30> - 4\n",
      " - max iterations:  200\n",
      " - image variable shape:  (640, 368)\n",
      " - alpha variable shape:  (235520,)\n",
      "----------------------------------------\n",
      "Starting optimization...\n"
     ]
    },
    {
     "name": "stderr",
     "output_type": "stream",
     "text": [
      "100% (200 of 200) |######################| Elapsed Time: 0:00:50 Time:  0:00:50\n"
     ]
    },
    {
     "name": "stdout",
     "output_type": "stream",
     "text": [
      " - final iteration number:  200\n",
      " - final log10 cost value:  -5.541294653337418\n",
      " - converged:  True\n",
      "Done.\n",
      "Execution time:  1606.8117590000038  seconds\n",
      "----------------------------------------\n"
     ]
    },
    {
     "name": "stderr",
     "output_type": "stream",
     "text": [
      "\u001b[33mWARNING\u001b[0m: Making input data immutable.\n"
     ]
    },
    {
     "name": "stdout",
     "output_type": "stream",
     "text": [
      "\n",
      "  _____             ____     _____      _\n",
      " |\" ___|    ___    / __\"| u |_ \" _| U  /\"\\  u\n",
      "U| |_  u   |_\"_|  <\\___ \\/    | |    \\/ _ \\/\n",
      "\\|  _|/     | |    u___) |   /| |\\   / ___ \\\\\n",
      " |_|      U/| |\\u  |____/>> u |_|U  /_/   \\_\\\\\n",
      " )(\\\\\\,-.-,_|___|_,-.)(  (__)_// \\\\\\_  \\\\\\    >>\n",
      "(__)(_/ \\_)-' '-(_/(__)    (__) (__)(__)  (__)\n",
      "    \n",
      " - mu:  4.641588833612773e-09\n",
      " - lipschitz constant:  1.0999999999999845\n",
      " - data:  (640, 368)\n",
      " - wavelet:  <mri.reconstruct.linear.WaveletN object at 0x7fa415720940> - 4\n",
      " - max iterations:  200\n",
      " - image variable shape:  (640, 368)\n",
      " - alpha variable shape:  (235520,)\n",
      "----------------------------------------\n",
      "Starting optimization...\n"
     ]
    },
    {
     "name": "stderr",
     "output_type": "stream",
     "text": [
      "100% (200 of 200) |######################| Elapsed Time: 0:00:50 Time:  0:00:50\n"
     ]
    },
    {
     "name": "stdout",
     "output_type": "stream",
     "text": [
      " - final iteration number:  200\n",
      " - final log10 cost value:  -5.362003193738225\n",
      " - converged:  True\n",
      "Done.\n",
      "Execution time:  1620.477665000013  seconds\n",
      "----------------------------------------\n"
     ]
    },
    {
     "name": "stderr",
     "output_type": "stream",
     "text": [
      "\u001b[33mWARNING\u001b[0m: Making input data immutable.\n"
     ]
    },
    {
     "name": "stdout",
     "output_type": "stream",
     "text": [
      "\n",
      "  _____             ____     _____      _\n",
      " |\" ___|    ___    / __\"| u |_ \" _| U  /\"\\  u\n",
      "U| |_  u   |_\"_|  <\\___ \\/    | |    \\/ _ \\/\n",
      "\\|  _|/     | |    u___) |   /| |\\   / ___ \\\\\n",
      " |_|      U/| |\\u  |____/>> u |_|U  /_/   \\_\\\\\n",
      " )(\\\\\\,-.-,_|___|_,-.)(  (__)_// \\\\\\_  \\\\\\    >>\n",
      "(__)(_/ \\_)-' '-(_/(__)    (__) (__)(__)  (__)\n",
      "    \n",
      " - mu:  4.641588833612773e-09\n",
      " - lipschitz constant:  1.0999999999999819\n",
      " - data:  (640, 368)\n",
      " - wavelet:  <mri.reconstruct.linear.WaveletN object at 0x7fa4157207f0> - 4\n",
      " - max iterations:  200\n",
      " - image variable shape:  (640, 368)\n",
      " - alpha variable shape:  (235520,)\n",
      "----------------------------------------\n",
      "Starting optimization...\n"
     ]
    },
    {
     "name": "stderr",
     "output_type": "stream",
     "text": [
      "100% (200 of 200) |######################| Elapsed Time: 0:00:50 Time:  0:00:50\n"
     ]
    },
    {
     "name": "stdout",
     "output_type": "stream",
     "text": [
      " - final iteration number:  200\n",
      " - final log10 cost value:  -5.833673268981418\n",
      " - converged:  True\n",
      "Done.\n",
      "Execution time:  1585.3495040000416  seconds\n",
      "----------------------------------------\n"
     ]
    },
    {
     "name": "stderr",
     "output_type": "stream",
     "text": [
      "\u001b[33mWARNING\u001b[0m: Making input data immutable.\n"
     ]
    },
    {
     "name": "stdout",
     "output_type": "stream",
     "text": [
      "\n",
      "  _____             ____     _____      _\n",
      " |\" ___|    ___    / __\"| u |_ \" _| U  /\"\\  u\n",
      "U| |_  u   |_\"_|  <\\___ \\/    | |    \\/ _ \\/\n",
      "\\|  _|/     | |    u___) |   /| |\\   / ___ \\\\\n",
      " |_|      U/| |\\u  |____/>> u |_|U  /_/   \\_\\\\\n",
      " )(\\\\\\,-.-,_|___|_,-.)(  (__)_// \\\\\\_  \\\\\\    >>\n",
      "(__)(_/ \\_)-' '-(_/(__)    (__) (__)(__)  (__)\n",
      "    \n",
      " - mu:  4.641588833612773e-09\n",
      " - lipschitz constant:  1.0999999999999803\n",
      " - data:  (640, 368)\n",
      " - wavelet:  <mri.reconstruct.linear.WaveletN object at 0x7fa4157661d0> - 4\n",
      " - max iterations:  200\n",
      " - image variable shape:  (640, 368)\n",
      " - alpha variable shape:  (235520,)\n",
      "----------------------------------------\n",
      "Starting optimization...\n"
     ]
    },
    {
     "name": "stderr",
     "output_type": "stream",
     "text": [
      "100% (200 of 200) |######################| Elapsed Time: 0:00:49 Time:  0:00:49\n"
     ]
    },
    {
     "name": "stdout",
     "output_type": "stream",
     "text": [
      " - final iteration number:  200\n",
      " - final log10 cost value:  -4.606205340410237\n",
      " - converged:  True\n",
      "Done.\n",
      "Execution time:  1580.4049879999948  seconds\n",
      "----------------------------------------\n"
     ]
    },
    {
     "name": "stderr",
     "output_type": "stream",
     "text": [
      "\u001b[33mWARNING\u001b[0m: Making input data immutable.\n"
     ]
    },
    {
     "name": "stdout",
     "output_type": "stream",
     "text": [
      "\n",
      "  _____             ____     _____      _\n",
      " |\" ___|    ___    / __\"| u |_ \" _| U  /\"\\  u\n",
      "U| |_  u   |_\"_|  <\\___ \\/    | |    \\/ _ \\/\n",
      "\\|  _|/     | |    u___) |   /| |\\   / ___ \\\\\n",
      " |_|      U/| |\\u  |____/>> u |_|U  /_/   \\_\\\\\n",
      " )(\\\\\\,-.-,_|___|_,-.)(  (__)_// \\\\\\_  \\\\\\    >>\n",
      "(__)(_/ \\_)-' '-(_/(__)    (__) (__)(__)  (__)\n",
      "    \n",
      " - mu:  4.641588833612773e-09\n",
      " - lipschitz constant:  1.0999999999999759\n",
      " - data:  (640, 368)\n",
      " - wavelet:  <mri.reconstruct.linear.WaveletN object at 0x7fa415738c50> - 4\n",
      " - max iterations:  200\n",
      " - image variable shape:  (640, 368)\n",
      " - alpha variable shape:  (235520,)\n",
      "----------------------------------------\n",
      "Starting optimization...\n"
     ]
    },
    {
     "name": "stderr",
     "output_type": "stream",
     "text": [
      "100% (200 of 200) |######################| Elapsed Time: 0:00:50 Time:  0:00:50\n"
     ]
    },
    {
     "name": "stdout",
     "output_type": "stream",
     "text": [
      " - final iteration number:  200\n",
      " - final log10 cost value:  -4.821846752923392\n",
      " - converged:  True\n",
      "Done.\n",
      "Execution time:  1603.058098999958  seconds\n",
      "----------------------------------------\n"
     ]
    },
    {
     "name": "stderr",
     "output_type": "stream",
     "text": [
      "\u001b[33mWARNING\u001b[0m: Making input data immutable.\n"
     ]
    },
    {
     "name": "stdout",
     "output_type": "stream",
     "text": [
      "\n",
      "  _____             ____     _____      _\n",
      " |\" ___|    ___    / __\"| u |_ \" _| U  /\"\\  u\n",
      "U| |_  u   |_\"_|  <\\___ \\/    | |    \\/ _ \\/\n",
      "\\|  _|/     | |    u___) |   /| |\\   / ___ \\\\\n",
      " |_|      U/| |\\u  |____/>> u |_|U  /_/   \\_\\\\\n",
      " )(\\\\\\,-.-,_|___|_,-.)(  (__)_// \\\\\\_  \\\\\\    >>\n",
      "(__)(_/ \\_)-' '-(_/(__)    (__) (__)(__)  (__)\n",
      "    \n",
      " - mu:  4.641588833612773e-09\n",
      " - lipschitz constant:  1.0999999999999832\n",
      " - data:  (640, 368)\n",
      " - wavelet:  <mri.reconstruct.linear.WaveletN object at 0x7fa41578e240> - 4\n",
      " - max iterations:  200\n",
      " - image variable shape:  (640, 368)\n",
      " - alpha variable shape:  (235520,)\n",
      "----------------------------------------\n",
      "Starting optimization...\n"
     ]
    },
    {
     "name": "stderr",
     "output_type": "stream",
     "text": [
      "100% (200 of 200) |######################| Elapsed Time: 0:00:50 Time:  0:00:50\n"
     ]
    },
    {
     "name": "stdout",
     "output_type": "stream",
     "text": [
      " - final iteration number:  200\n",
      " - final log10 cost value:  -5.716499455646329\n",
      " - converged:  True\n",
      "Done.\n",
      "Execution time:  1596.475043000013  seconds\n",
      "----------------------------------------\n"
     ]
    },
    {
     "name": "stderr",
     "output_type": "stream",
     "text": [
      "\u001b[33mWARNING\u001b[0m: Making input data immutable.\n"
     ]
    },
    {
     "name": "stdout",
     "output_type": "stream",
     "text": [
      "\n",
      "  _____             ____     _____      _\n",
      " |\" ___|    ___    / __\"| u |_ \" _| U  /\"\\  u\n",
      "U| |_  u   |_\"_|  <\\___ \\/    | |    \\/ _ \\/\n",
      "\\|  _|/     | |    u___) |   /| |\\   / ___ \\\\\n",
      " |_|      U/| |\\u  |____/>> u |_|U  /_/   \\_\\\\\n",
      " )(\\\\\\,-.-,_|___|_,-.)(  (__)_// \\\\\\_  \\\\\\    >>\n",
      "(__)(_/ \\_)-' '-(_/(__)    (__) (__)(__)  (__)\n",
      "    \n",
      " - mu:  4.641588833612773e-09\n",
      " - lipschitz constant:  1.0999999999999865\n",
      " - data:  (640, 368)\n",
      " - wavelet:  <mri.reconstruct.linear.WaveletN object at 0x7fa41570ed30> - 4\n",
      " - max iterations:  200\n",
      " - image variable shape:  (640, 368)\n",
      " - alpha variable shape:  (235520,)\n",
      "----------------------------------------\n",
      "Starting optimization...\n"
     ]
    },
    {
     "name": "stderr",
     "output_type": "stream",
     "text": [
      "100% (200 of 200) |######################| Elapsed Time: 0:00:49 Time:  0:00:49\n"
     ]
    },
    {
     "name": "stdout",
     "output_type": "stream",
     "text": [
      " - final iteration number:  200\n",
      " - final log10 cost value:  -5.123280891072524\n",
      " - converged:  True\n",
      "Done.\n",
      "Execution time:  1609.8110369999777  seconds\n",
      "----------------------------------------\n"
     ]
    },
    {
     "name": "stderr",
     "output_type": "stream",
     "text": [
      "\u001b[33mWARNING\u001b[0m: Making input data immutable.\n"
     ]
    },
    {
     "name": "stdout",
     "output_type": "stream",
     "text": [
      "\n",
      "  _____             ____     _____      _\n",
      " |\" ___|    ___    / __\"| u |_ \" _| U  /\"\\  u\n",
      "U| |_  u   |_\"_|  <\\___ \\/    | |    \\/ _ \\/\n",
      "\\|  _|/     | |    u___) |   /| |\\   / ___ \\\\\n",
      " |_|      U/| |\\u  |____/>> u |_|U  /_/   \\_\\\\\n",
      " )(\\\\\\,-.-,_|___|_,-.)(  (__)_// \\\\\\_  \\\\\\    >>\n",
      "(__)(_/ \\_)-' '-(_/(__)    (__) (__)(__)  (__)\n",
      "    \n",
      " - mu:  4.641588833612773e-09\n",
      " - lipschitz constant:  1.10000000000003\n",
      " - data:  (640, 372)\n",
      " - wavelet:  <mri.reconstruct.linear.WaveletN object at 0x7fa415760e48> - 4\n",
      " - max iterations:  200\n",
      " - image variable shape:  (640, 372)\n",
      " - alpha variable shape:  (238320,)\n",
      "----------------------------------------\n",
      "Starting optimization...\n"
     ]
    },
    {
     "name": "stderr",
     "output_type": "stream",
     "text": [
      "100% (200 of 200) |######################| Elapsed Time: 0:00:51 Time:  0:00:51\n"
     ]
    },
    {
     "name": "stdout",
     "output_type": "stream",
     "text": [
      " - final iteration number:  200\n",
      " - final log10 cost value:  -6.355481142618463\n",
      " - converged:  True\n",
      "Done.\n",
      "Execution time:  1623.3321949999663  seconds\n",
      "----------------------------------------\n"
     ]
    },
    {
     "name": "stderr",
     "output_type": "stream",
     "text": [
      "\u001b[33mWARNING\u001b[0m: Making input data immutable.\n"
     ]
    },
    {
     "name": "stdout",
     "output_type": "stream",
     "text": [
      "\n",
      "  _____             ____     _____      _\n",
      " |\" ___|    ___    / __\"| u |_ \" _| U  /\"\\  u\n",
      "U| |_  u   |_\"_|  <\\___ \\/    | |    \\/ _ \\/\n",
      "\\|  _|/     | |    u___) |   /| |\\   / ___ \\\\\n",
      " |_|      U/| |\\u  |____/>> u |_|U  /_/   \\_\\\\\n",
      " )(\\\\\\,-.-,_|___|_,-.)(  (__)_// \\\\\\_  \\\\\\    >>\n",
      "(__)(_/ \\_)-' '-(_/(__)    (__) (__)(__)  (__)\n",
      "    \n",
      " - mu:  4.641588833612773e-09\n",
      " - lipschitz constant:  1.099999999999977\n",
      " - data:  (640, 372)\n",
      " - wavelet:  <mri.reconstruct.linear.WaveletN object at 0x7fa4157667f0> - 4\n",
      " - max iterations:  200\n",
      " - image variable shape:  (640, 372)\n",
      " - alpha variable shape:  (238320,)\n",
      "----------------------------------------\n",
      "Starting optimization...\n"
     ]
    },
    {
     "name": "stderr",
     "output_type": "stream",
     "text": [
      "100% (200 of 200) |######################| Elapsed Time: 0:00:52 Time:  0:00:52\n"
     ]
    },
    {
     "name": "stdout",
     "output_type": "stream",
     "text": [
      " - final iteration number:  200\n",
      " - final log10 cost value:  -6.226597954238462\n",
      " - converged:  True\n",
      "Done.\n",
      "Execution time:  1626.8657670000102  seconds\n",
      "----------------------------------------\n"
     ]
    },
    {
     "name": "stderr",
     "output_type": "stream",
     "text": [
      "\u001b[33mWARNING\u001b[0m: Making input data immutable.\n"
     ]
    },
    {
     "name": "stdout",
     "output_type": "stream",
     "text": [
      "\n",
      "  _____             ____     _____      _\n",
      " |\" ___|    ___    / __\"| u |_ \" _| U  /\"\\  u\n",
      "U| |_  u   |_\"_|  <\\___ \\/    | |    \\/ _ \\/\n",
      "\\|  _|/     | |    u___) |   /| |\\   / ___ \\\\\n",
      " |_|      U/| |\\u  |____/>> u |_|U  /_/   \\_\\\\\n",
      " )(\\\\\\,-.-,_|___|_,-.)(  (__)_// \\\\\\_  \\\\\\    >>\n",
      "(__)(_/ \\_)-' '-(_/(__)    (__) (__)(__)  (__)\n",
      "    \n",
      " - mu:  4.641588833612773e-09\n",
      " - lipschitz constant:  1.0999999999999854\n",
      " - data:  (640, 368)\n",
      " - wavelet:  <mri.reconstruct.linear.WaveletN object at 0x7fa415799fd0> - 4\n",
      " - max iterations:  200\n",
      " - image variable shape:  (640, 368)\n",
      " - alpha variable shape:  (235520,)\n",
      "----------------------------------------\n",
      "Starting optimization...\n"
     ]
    },
    {
     "name": "stderr",
     "output_type": "stream",
     "text": [
      "100% (200 of 200) |######################| Elapsed Time: 0:00:50 Time:  0:00:50\n"
     ]
    },
    {
     "name": "stdout",
     "output_type": "stream",
     "text": [
      " - final iteration number:  200\n",
      " - final log10 cost value:  -5.228911639193204\n",
      " - converged:  True\n",
      "Done.\n",
      "Execution time:  1599.017441999982  seconds\n",
      "----------------------------------------\n"
     ]
    },
    {
     "name": "stderr",
     "output_type": "stream",
     "text": [
      "\u001b[33mWARNING\u001b[0m: Making input data immutable.\n"
     ]
    },
    {
     "name": "stdout",
     "output_type": "stream",
     "text": [
      "\n",
      "  _____             ____     _____      _\n",
      " |\" ___|    ___    / __\"| u |_ \" _| U  /\"\\  u\n",
      "U| |_  u   |_\"_|  <\\___ \\/    | |    \\/ _ \\/\n",
      "\\|  _|/     | |    u___) |   /| |\\   / ___ \\\\\n",
      " |_|      U/| |\\u  |____/>> u |_|U  /_/   \\_\\\\\n",
      " )(\\\\\\,-.-,_|___|_,-.)(  (__)_// \\\\\\_  \\\\\\    >>\n",
      "(__)(_/ \\_)-' '-(_/(__)    (__) (__)(__)  (__)\n",
      "    \n",
      " - mu:  4.641588833612773e-09\n",
      " - lipschitz constant:  1.0999999999999812\n",
      " - data:  (640, 368)\n",
      " - wavelet:  <mri.reconstruct.linear.WaveletN object at 0x7fa4156f2208> - 4\n",
      " - max iterations:  200\n",
      " - image variable shape:  (640, 368)\n",
      " - alpha variable shape:  (235520,)\n",
      "----------------------------------------\n",
      "Starting optimization...\n"
     ]
    },
    {
     "name": "stderr",
     "output_type": "stream",
     "text": [
      "100% (200 of 200) |######################| Elapsed Time: 0:00:49 Time:  0:00:49\n"
     ]
    },
    {
     "name": "stdout",
     "output_type": "stream",
     "text": [
      " - final iteration number:  200\n",
      " - final log10 cost value:  -5.597729481847598\n",
      " - converged:  True\n",
      "Done.\n",
      "Execution time:  1580.133559000038  seconds\n",
      "----------------------------------------\n"
     ]
    },
    {
     "name": "stderr",
     "output_type": "stream",
     "text": [
      "\u001b[33mWARNING\u001b[0m: Making input data immutable.\n"
     ]
    },
    {
     "name": "stdout",
     "output_type": "stream",
     "text": [
      "\n",
      "  _____             ____     _____      _\n",
      " |\" ___|    ___    / __\"| u |_ \" _| U  /\"\\  u\n",
      "U| |_  u   |_\"_|  <\\___ \\/    | |    \\/ _ \\/\n",
      "\\|  _|/     | |    u___) |   /| |\\   / ___ \\\\\n",
      " |_|      U/| |\\u  |____/>> u |_|U  /_/   \\_\\\\\n",
      " )(\\\\\\,-.-,_|___|_,-.)(  (__)_// \\\\\\_  \\\\\\    >>\n",
      "(__)(_/ \\_)-' '-(_/(__)    (__) (__)(__)  (__)\n",
      "    \n",
      " - mu:  4.641588833612773e-09\n",
      " - lipschitz constant:  1.0999999999999774\n",
      " - data:  (640, 368)\n",
      " - wavelet:  <mri.reconstruct.linear.WaveletN object at 0x7fa4157661d0> - 4\n",
      " - max iterations:  200\n",
      " - image variable shape:  (640, 368)\n",
      " - alpha variable shape:  (235520,)\n",
      "----------------------------------------\n",
      "Starting optimization...\n"
     ]
    },
    {
     "name": "stderr",
     "output_type": "stream",
     "text": [
      "100% (200 of 200) |######################| Elapsed Time: 0:00:49 Time:  0:00:49\n"
     ]
    },
    {
     "name": "stdout",
     "output_type": "stream",
     "text": [
      " - final iteration number:  200\n",
      " - final log10 cost value:  -4.851355209946308\n",
      " - converged:  True\n",
      "Done.\n",
      "Execution time:  1598.2965030000196  seconds\n",
      "----------------------------------------\n"
     ]
    },
    {
     "name": "stderr",
     "output_type": "stream",
     "text": [
      "\u001b[33mWARNING\u001b[0m: Making input data immutable.\n"
     ]
    },
    {
     "name": "stdout",
     "output_type": "stream",
     "text": [
      "\n",
      "  _____             ____     _____      _\n",
      " |\" ___|    ___    / __\"| u |_ \" _| U  /\"\\  u\n",
      "U| |_  u   |_\"_|  <\\___ \\/    | |    \\/ _ \\/\n",
      "\\|  _|/     | |    u___) |   /| |\\   / ___ \\\\\n",
      " |_|      U/| |\\u  |____/>> u |_|U  /_/   \\_\\\\\n",
      " )(\\\\\\,-.-,_|___|_,-.)(  (__)_// \\\\\\_  \\\\\\    >>\n",
      "(__)(_/ \\_)-' '-(_/(__)    (__) (__)(__)  (__)\n",
      "    \n",
      " - mu:  4.641588833612773e-09\n",
      " - lipschitz constant:  1.1000000000001473\n",
      " - data:  (640, 368)\n",
      " - wavelet:  <mri.reconstruct.linear.WaveletN object at 0x7fa4157607b8> - 4\n",
      " - max iterations:  200\n",
      " - image variable shape:  (640, 368)\n",
      " - alpha variable shape:  (235520,)\n",
      "----------------------------------------\n",
      "Starting optimization...\n"
     ]
    },
    {
     "name": "stderr",
     "output_type": "stream",
     "text": [
      "100% (200 of 200) |######################| Elapsed Time: 0:00:49 Time:  0:00:49\n"
     ]
    },
    {
     "name": "stdout",
     "output_type": "stream",
     "text": [
      " - final iteration number:  200\n",
      " - final log10 cost value:  -5.620859431243074\n",
      " - converged:  True\n",
      "Done.\n",
      "Execution time:  1583.0785339999711  seconds\n",
      "----------------------------------------\n",
      "\n"
     ]
    },
    {
     "data": {
      "application/vnd.jupyter.widget-view+json": {
       "model_id": "cfeaf136e00d487c9cd38aae5defe42b",
       "version_major": 2,
       "version_minor": 0
      },
      "text/plain": [
       "HBox(children=(FloatProgress(value=0.0, description='Stats', max=24.0, style=ProgressStyle(description_width='…"
      ]
     },
     "metadata": {},
     "output_type": "display_data"
    },
    {
     "name": "stdout",
     "output_type": "stream",
     "text": [
      "\n"
     ]
    },
    {
     "data": {
      "application/vnd.jupyter.widget-view+json": {
       "model_id": "d4134a2631c54c4d8a9eb92f74195f86",
       "version_major": 2,
       "version_minor": 0
      },
      "text/plain": [
       "HBox(children=(FloatProgress(value=0.0, description='K-spaces', max=24.0, style=ProgressStyle(description_widt…"
      ]
     },
     "metadata": {},
     "output_type": "display_data"
    },
    {
     "name": "stderr",
     "output_type": "stream",
     "text": [
      "\u001b[33mWARNING\u001b[0m: Making input data immutable.\n"
     ]
    },
    {
     "name": "stdout",
     "output_type": "stream",
     "text": [
      "\n",
      "  _____             ____     _____      _\n",
      " |\" ___|    ___    / __\"| u |_ \" _| U  /\"\\  u\n",
      "U| |_  u   |_\"_|  <\\___ \\/    | |    \\/ _ \\/\n",
      "\\|  _|/     | |    u___) |   /| |\\   / ___ \\\\\n",
      " |_|      U/| |\\u  |____/>> u |_|U  /_/   \\_\\\\\n",
      " )(\\\\\\,-.-,_|___|_,-.)(  (__)_// \\\\\\_  \\\\\\    >>\n",
      "(__)(_/ \\_)-' '-(_/(__)    (__) (__)(__)  (__)\n",
      "    \n",
      " - mu:  1e-08\n",
      " - lipschitz constant:  1.0999999999999746\n",
      " - data:  (640, 372)\n",
      " - wavelet:  <mri.reconstruct.linear.WaveletN object at 0x7fa415760198> - 4\n",
      " - max iterations:  200\n",
      " - image variable shape:  (640, 372)\n",
      " - alpha variable shape:  (238320,)\n",
      "----------------------------------------\n",
      "Starting optimization...\n"
     ]
    },
    {
     "name": "stderr",
     "output_type": "stream",
     "text": [
      "100% (200 of 200) |######################| Elapsed Time: 0:00:52 Time:  0:00:52\n"
     ]
    },
    {
     "name": "stdout",
     "output_type": "stream",
     "text": [
      " - final iteration number:  200\n",
      " - final log10 cost value:  -6.296078064481873\n",
      " - converged:  True\n",
      "Done.\n",
      "Execution time:  1618.9475169999641  seconds\n",
      "----------------------------------------\n"
     ]
    },
    {
     "name": "stderr",
     "output_type": "stream",
     "text": [
      "\u001b[33mWARNING\u001b[0m: Making input data immutable.\n"
     ]
    },
    {
     "name": "stdout",
     "output_type": "stream",
     "text": [
      "\n",
      "  _____             ____     _____      _\n",
      " |\" ___|    ___    / __\"| u |_ \" _| U  /\"\\  u\n",
      "U| |_  u   |_\"_|  <\\___ \\/    | |    \\/ _ \\/\n",
      "\\|  _|/     | |    u___) |   /| |\\   / ___ \\\\\n",
      " |_|      U/| |\\u  |____/>> u |_|U  /_/   \\_\\\\\n",
      " )(\\\\\\,-.-,_|___|_,-.)(  (__)_// \\\\\\_  \\\\\\    >>\n",
      "(__)(_/ \\_)-' '-(_/(__)    (__) (__)(__)  (__)\n",
      "    \n",
      " - mu:  1e-08\n",
      " - lipschitz constant:  1.1000000000000685\n",
      " - data:  (640, 368)\n",
      " - wavelet:  <mri.reconstruct.linear.WaveletN object at 0x7fa415720c50> - 4\n",
      " - max iterations:  200\n",
      " - image variable shape:  (640, 368)\n",
      " - alpha variable shape:  (235520,)\n",
      "----------------------------------------\n",
      "Starting optimization...\n"
     ]
    },
    {
     "name": "stderr",
     "output_type": "stream",
     "text": [
      "100% (200 of 200) |######################| Elapsed Time: 0:00:50 Time:  0:00:50\n"
     ]
    },
    {
     "name": "stdout",
     "output_type": "stream",
     "text": [
      " - final iteration number:  200\n",
      " - final log10 cost value:  -5.7442697482873255\n",
      " - converged:  True\n",
      "Done.\n",
      "Execution time:  1577.5587280000327  seconds\n",
      "----------------------------------------\n"
     ]
    },
    {
     "name": "stderr",
     "output_type": "stream",
     "text": [
      "\u001b[33mWARNING\u001b[0m: Making input data immutable.\n"
     ]
    },
    {
     "name": "stdout",
     "output_type": "stream",
     "text": [
      "\n",
      "  _____             ____     _____      _\n",
      " |\" ___|    ___    / __\"| u |_ \" _| U  /\"\\  u\n",
      "U| |_  u   |_\"_|  <\\___ \\/    | |    \\/ _ \\/\n",
      "\\|  _|/     | |    u___) |   /| |\\   / ___ \\\\\n",
      " |_|      U/| |\\u  |____/>> u |_|U  /_/   \\_\\\\\n",
      " )(\\\\\\,-.-,_|___|_,-.)(  (__)_// \\\\\\_  \\\\\\    >>\n",
      "(__)(_/ \\_)-' '-(_/(__)    (__) (__)(__)  (__)\n",
      "    \n",
      " - mu:  1e-08\n",
      " - lipschitz constant:  1.1000000000000336\n",
      " - data:  (640, 368)\n",
      " - wavelet:  <mri.reconstruct.linear.WaveletN object at 0x7fa415738f98> - 4\n",
      " - max iterations:  200\n",
      " - image variable shape:  (640, 368)\n",
      " - alpha variable shape:  (235520,)\n",
      "----------------------------------------\n",
      "Starting optimization...\n"
     ]
    },
    {
     "name": "stderr",
     "output_type": "stream",
     "text": [
      "100% (200 of 200) |######################| Elapsed Time: 0:00:49 Time:  0:00:49\n"
     ]
    },
    {
     "name": "stdout",
     "output_type": "stream",
     "text": [
      " - final iteration number:  200\n",
      " - final log10 cost value:  -5.64227570493377\n",
      " - converged:  True\n",
      "Done.\n",
      "Execution time:  1586.3604129999876  seconds\n",
      "----------------------------------------\n"
     ]
    },
    {
     "name": "stderr",
     "output_type": "stream",
     "text": [
      "\u001b[33mWARNING\u001b[0m: Making input data immutable.\n"
     ]
    },
    {
     "name": "stdout",
     "output_type": "stream",
     "text": [
      "\n",
      "  _____             ____     _____      _\n",
      " |\" ___|    ___    / __\"| u |_ \" _| U  /\"\\  u\n",
      "U| |_  u   |_\"_|  <\\___ \\/    | |    \\/ _ \\/\n",
      "\\|  _|/     | |    u___) |   /| |\\   / ___ \\\\\n",
      " |_|      U/| |\\u  |____/>> u |_|U  /_/   \\_\\\\\n",
      " )(\\\\\\,-.-,_|___|_,-.)(  (__)_// \\\\\\_  \\\\\\    >>\n",
      "(__)(_/ \\_)-' '-(_/(__)    (__) (__)(__)  (__)\n",
      "    \n",
      " - mu:  1e-08\n",
      " - lipschitz constant:  1.0999999999999877\n",
      " - data:  (640, 368)\n",
      " - wavelet:  <mri.reconstruct.linear.WaveletN object at 0x7fa41570e828> - 4\n",
      " - max iterations:  200\n",
      " - image variable shape:  (640, 368)\n",
      " - alpha variable shape:  (235520,)\n",
      "----------------------------------------\n",
      "Starting optimization...\n"
     ]
    },
    {
     "name": "stderr",
     "output_type": "stream",
     "text": [
      "100% (200 of 200) |######################| Elapsed Time: 0:00:49 Time:  0:00:49\n"
     ]
    },
    {
     "name": "stdout",
     "output_type": "stream",
     "text": [
      " - final iteration number:  200\n",
      " - final log10 cost value:  -5.011754855011911\n",
      " - converged:  True\n",
      "Done.\n",
      "Execution time:  1582.466281000001  seconds\n",
      "----------------------------------------\n"
     ]
    },
    {
     "name": "stderr",
     "output_type": "stream",
     "text": [
      "\u001b[33mWARNING\u001b[0m: Making input data immutable.\n"
     ]
    },
    {
     "name": "stdout",
     "output_type": "stream",
     "text": [
      "\n",
      "  _____             ____     _____      _\n",
      " |\" ___|    ___    / __\"| u |_ \" _| U  /\"\\  u\n",
      "U| |_  u   |_\"_|  <\\___ \\/    | |    \\/ _ \\/\n",
      "\\|  _|/     | |    u___) |   /| |\\   / ___ \\\\\n",
      " |_|      U/| |\\u  |____/>> u |_|U  /_/   \\_\\\\\n",
      " )(\\\\\\,-.-,_|___|_,-.)(  (__)_// \\\\\\_  \\\\\\    >>\n",
      "(__)(_/ \\_)-' '-(_/(__)    (__) (__)(__)  (__)\n",
      "    \n",
      " - mu:  1e-08\n",
      " - lipschitz constant:  1.100000000000073\n",
      " - data:  (640, 372)\n",
      " - wavelet:  <mri.reconstruct.linear.WaveletN object at 0x7fa415738c50> - 4\n",
      " - max iterations:  200\n",
      " - image variable shape:  (640, 372)\n",
      " - alpha variable shape:  (238320,)\n",
      "----------------------------------------\n",
      "Starting optimization...\n"
     ]
    },
    {
     "name": "stderr",
     "output_type": "stream",
     "text": [
      "100% (200 of 200) |######################| Elapsed Time: 0:00:51 Time:  0:00:51\n"
     ]
    },
    {
     "name": "stdout",
     "output_type": "stream",
     "text": [
      " - final iteration number:  200\n",
      " - final log10 cost value:  -6.281556028523493\n",
      " - converged:  True\n",
      "Done.\n",
      "Execution time:  1628.8736799999606  seconds\n",
      "----------------------------------------\n"
     ]
    },
    {
     "name": "stderr",
     "output_type": "stream",
     "text": [
      "\u001b[33mWARNING\u001b[0m: Making input data immutable.\n"
     ]
    },
    {
     "name": "stdout",
     "output_type": "stream",
     "text": [
      "\n",
      "  _____             ____     _____      _\n",
      " |\" ___|    ___    / __\"| u |_ \" _| U  /\"\\  u\n",
      "U| |_  u   |_\"_|  <\\___ \\/    | |    \\/ _ \\/\n",
      "\\|  _|/     | |    u___) |   /| |\\   / ___ \\\\\n",
      " |_|      U/| |\\u  |____/>> u |_|U  /_/   \\_\\\\\n",
      " )(\\\\\\,-.-,_|___|_,-.)(  (__)_// \\\\\\_  \\\\\\    >>\n",
      "(__)(_/ \\_)-' '-(_/(__)    (__) (__)(__)  (__)\n",
      "    \n",
      " - mu:  1e-08\n",
      " - lipschitz constant:  1.0999999999999788\n",
      " - data:  (640, 368)\n",
      " - wavelet:  <mri.reconstruct.linear.WaveletN object at 0x7fa41570e940> - 4\n",
      " - max iterations:  200\n",
      " - image variable shape:  (640, 368)\n",
      " - alpha variable shape:  (235520,)\n",
      "----------------------------------------\n",
      "Starting optimization...\n"
     ]
    },
    {
     "name": "stderr",
     "output_type": "stream",
     "text": [
      "100% (200 of 200) |######################| Elapsed Time: 0:00:49 Time:  0:00:49\n"
     ]
    },
    {
     "name": "stdout",
     "output_type": "stream",
     "text": [
      " - final iteration number:  200\n",
      " - final log10 cost value:  -5.615478136828998\n",
      " - converged:  True\n",
      "Done.\n",
      "Execution time:  1609.9719499999774  seconds\n",
      "----------------------------------------\n"
     ]
    },
    {
     "name": "stderr",
     "output_type": "stream",
     "text": [
      "\u001b[33mWARNING\u001b[0m: Making input data immutable.\n"
     ]
    },
    {
     "name": "stdout",
     "output_type": "stream",
     "text": [
      "\n",
      "  _____             ____     _____      _\n",
      " |\" ___|    ___    / __\"| u |_ \" _| U  /\"\\  u\n",
      "U| |_  u   |_\"_|  <\\___ \\/    | |    \\/ _ \\/\n",
      "\\|  _|/     | |    u___) |   /| |\\   / ___ \\\\\n",
      " |_|      U/| |\\u  |____/>> u |_|U  /_/   \\_\\\\\n",
      " )(\\\\\\,-.-,_|___|_,-.)(  (__)_// \\\\\\_  \\\\\\    >>\n",
      "(__)(_/ \\_)-' '-(_/(__)    (__) (__)(__)  (__)\n",
      "    \n",
      " - mu:  1e-08\n",
      " - lipschitz constant:  1.0999999999999786\n",
      " - data:  (640, 388)\n",
      " - wavelet:  <mri.reconstruct.linear.WaveletN object at 0x7fa4156a8438> - 4\n",
      " - max iterations:  200\n",
      " - image variable shape:  (640, 388)\n",
      " - alpha variable shape:  (248560,)\n",
      "----------------------------------------\n",
      "Starting optimization...\n"
     ]
    },
    {
     "name": "stderr",
     "output_type": "stream",
     "text": [
      "100% (200 of 200) |######################| Elapsed Time: 0:01:03 Time:  0:01:03\n"
     ]
    },
    {
     "name": "stdout",
     "output_type": "stream",
     "text": [
      " - final iteration number:  200\n",
      " - final log10 cost value:  -5.636111531050658\n",
      " - converged:  True\n",
      "Done.\n",
      "Execution time:  1838.2412219999824  seconds\n",
      "----------------------------------------\n"
     ]
    },
    {
     "name": "stderr",
     "output_type": "stream",
     "text": [
      "\u001b[33mWARNING\u001b[0m: Making input data immutable.\n"
     ]
    },
    {
     "name": "stdout",
     "output_type": "stream",
     "text": [
      "\n",
      "  _____             ____     _____      _\n",
      " |\" ___|    ___    / __\"| u |_ \" _| U  /\"\\  u\n",
      "U| |_  u   |_\"_|  <\\___ \\/    | |    \\/ _ \\/\n",
      "\\|  _|/     | |    u___) |   /| |\\   / ___ \\\\\n",
      " |_|      U/| |\\u  |____/>> u |_|U  /_/   \\_\\\\\n",
      " )(\\\\\\,-.-,_|___|_,-.)(  (__)_// \\\\\\_  \\\\\\    >>\n",
      "(__)(_/ \\_)-' '-(_/(__)    (__) (__)(__)  (__)\n",
      "    \n",
      " - mu:  1e-08\n",
      " - lipschitz constant:  1.1000000000000854\n",
      " - data:  (640, 400)\n",
      " - wavelet:  <mri.reconstruct.linear.WaveletN object at 0x7fa4156f2208> - 4\n",
      " - max iterations:  200\n",
      " - image variable shape:  (640, 400)\n",
      " - alpha variable shape:  (256000,)\n",
      "----------------------------------------\n",
      "Starting optimization...\n"
     ]
    },
    {
     "name": "stderr",
     "output_type": "stream",
     "text": [
      "100% (200 of 200) |######################| Elapsed Time: 0:00:51 Time:  0:00:51\n"
     ]
    },
    {
     "name": "stdout",
     "output_type": "stream",
     "text": [
      " - final iteration number:  200\n",
      " - final log10 cost value:  -4.884946612756571\n",
      " - converged:  True\n",
      "Done.\n",
      "Execution time:  1631.025576999993  seconds\n",
      "----------------------------------------\n"
     ]
    },
    {
     "name": "stderr",
     "output_type": "stream",
     "text": [
      "\u001b[33mWARNING\u001b[0m: Making input data immutable.\n"
     ]
    },
    {
     "name": "stdout",
     "output_type": "stream",
     "text": [
      "\n",
      "  _____             ____     _____      _\n",
      " |\" ___|    ___    / __\"| u |_ \" _| U  /\"\\  u\n",
      "U| |_  u   |_\"_|  <\\___ \\/    | |    \\/ _ \\/\n",
      "\\|  _|/     | |    u___) |   /| |\\   / ___ \\\\\n",
      " |_|      U/| |\\u  |____/>> u |_|U  /_/   \\_\\\\\n",
      " )(\\\\\\,-.-,_|___|_,-.)(  (__)_// \\\\\\_  \\\\\\    >>\n",
      "(__)(_/ \\_)-' '-(_/(__)    (__) (__)(__)  (__)\n",
      "    \n",
      " - mu:  1e-08\n",
      " - lipschitz constant:  1.100000000000027\n",
      " - data:  (640, 368)\n",
      " - wavelet:  <mri.reconstruct.linear.WaveletN object at 0x7fa415760400> - 4\n",
      " - max iterations:  200\n",
      " - image variable shape:  (640, 368)\n",
      " - alpha variable shape:  (235520,)\n",
      "----------------------------------------\n",
      "Starting optimization...\n"
     ]
    },
    {
     "name": "stderr",
     "output_type": "stream",
     "text": [
      "100% (200 of 200) |######################| Elapsed Time: 0:00:50 Time:  0:00:50\n"
     ]
    },
    {
     "name": "stdout",
     "output_type": "stream",
     "text": [
      " - final iteration number:  200\n",
      " - final log10 cost value:  -5.257670503981364\n",
      " - converged:  True\n",
      "Done.\n",
      "Execution time:  1597.081481000001  seconds\n",
      "----------------------------------------\n"
     ]
    },
    {
     "name": "stderr",
     "output_type": "stream",
     "text": [
      "\u001b[33mWARNING\u001b[0m: Making input data immutable.\n"
     ]
    },
    {
     "name": "stdout",
     "output_type": "stream",
     "text": [
      "\n",
      "  _____             ____     _____      _\n",
      " |\" ___|    ___    / __\"| u |_ \" _| U  /\"\\  u\n",
      "U| |_  u   |_\"_|  <\\___ \\/    | |    \\/ _ \\/\n",
      "\\|  _|/     | |    u___) |   /| |\\   / ___ \\\\\n",
      " |_|      U/| |\\u  |____/>> u |_|U  /_/   \\_\\\\\n",
      " )(\\\\\\,-.-,_|___|_,-.)(  (__)_// \\\\\\_  \\\\\\    >>\n",
      "(__)(_/ \\_)-' '-(_/(__)    (__) (__)(__)  (__)\n",
      "    \n",
      " - mu:  1e-08\n",
      " - lipschitz constant:  1.0999999999999808\n",
      " - data:  (640, 372)\n",
      " - wavelet:  <mri.reconstruct.linear.WaveletN object at 0x7fa41578e8d0> - 4\n",
      " - max iterations:  200\n",
      " - image variable shape:  (640, 372)\n",
      " - alpha variable shape:  (238320,)\n",
      "----------------------------------------\n",
      "Starting optimization...\n"
     ]
    },
    {
     "name": "stderr",
     "output_type": "stream",
     "text": [
      "100% (200 of 200) |######################| Elapsed Time: 0:00:51 Time:  0:00:51\n"
     ]
    },
    {
     "name": "stdout",
     "output_type": "stream",
     "text": [
      " - final iteration number:  200\n",
      " - final log10 cost value:  -6.381774557699733\n",
      " - converged:  True\n",
      "Done.\n",
      "Execution time:  1646.6014600000344  seconds\n",
      "----------------------------------------\n"
     ]
    },
    {
     "name": "stderr",
     "output_type": "stream",
     "text": [
      "\u001b[33mWARNING\u001b[0m: Making input data immutable.\n"
     ]
    },
    {
     "name": "stdout",
     "output_type": "stream",
     "text": [
      "\n",
      "  _____             ____     _____      _\n",
      " |\" ___|    ___    / __\"| u |_ \" _| U  /\"\\  u\n",
      "U| |_  u   |_\"_|  <\\___ \\/    | |    \\/ _ \\/\n",
      "\\|  _|/     | |    u___) |   /| |\\   / ___ \\\\\n",
      " |_|      U/| |\\u  |____/>> u |_|U  /_/   \\_\\\\\n",
      " )(\\\\\\,-.-,_|___|_,-.)(  (__)_// \\\\\\_  \\\\\\    >>\n",
      "(__)(_/ \\_)-' '-(_/(__)    (__) (__)(__)  (__)\n",
      "    \n",
      " - mu:  1e-08\n",
      " - lipschitz constant:  1.0999999999999681\n",
      " - data:  (640, 372)\n",
      " - wavelet:  <mri.reconstruct.linear.WaveletN object at 0x7fa41570e5f8> - 4\n",
      " - max iterations:  200\n",
      " - image variable shape:  (640, 372)\n",
      " - alpha variable shape:  (238320,)\n",
      "----------------------------------------\n",
      "Starting optimization...\n"
     ]
    },
    {
     "name": "stderr",
     "output_type": "stream",
     "text": [
      "100% (200 of 200) |######################| Elapsed Time: 0:00:52 Time:  0:00:52\n"
     ]
    },
    {
     "name": "stdout",
     "output_type": "stream",
     "text": [
      " - final iteration number:  200\n",
      " - final log10 cost value:  -6.289917020510698\n",
      " - converged:  True\n",
      "Done.\n",
      "Execution time:  1634.2898389999755  seconds\n",
      "----------------------------------------\n"
     ]
    },
    {
     "name": "stderr",
     "output_type": "stream",
     "text": [
      "\u001b[33mWARNING\u001b[0m: Making input data immutable.\n"
     ]
    },
    {
     "name": "stdout",
     "output_type": "stream",
     "text": [
      "\n",
      "  _____             ____     _____      _\n",
      " |\" ___|    ___    / __\"| u |_ \" _| U  /\"\\  u\n",
      "U| |_  u   |_\"_|  <\\___ \\/    | |    \\/ _ \\/\n",
      "\\|  _|/     | |    u___) |   /| |\\   / ___ \\\\\n",
      " |_|      U/| |\\u  |____/>> u |_|U  /_/   \\_\\\\\n",
      " )(\\\\\\,-.-,_|___|_,-.)(  (__)_// \\\\\\_  \\\\\\    >>\n",
      "(__)(_/ \\_)-' '-(_/(__)    (__) (__)(__)  (__)\n",
      "    \n",
      " - mu:  1e-08\n",
      " - lipschitz constant:  1.1000000000000687\n",
      " - data:  (640, 372)\n",
      " - wavelet:  <mri.reconstruct.linear.WaveletN object at 0x7fa415777ac8> - 4\n",
      " - max iterations:  200\n",
      " - image variable shape:  (640, 372)\n",
      " - alpha variable shape:  (238320,)\n",
      "----------------------------------------\n",
      "Starting optimization...\n"
     ]
    },
    {
     "name": "stderr",
     "output_type": "stream",
     "text": [
      "100% (200 of 200) |######################| Elapsed Time: 0:00:52 Time:  0:00:52\n"
     ]
    },
    {
     "name": "stdout",
     "output_type": "stream",
     "text": [
      " - final iteration number:  200\n",
      " - final log10 cost value:  -6.417415870400221\n",
      " - converged:  True\n",
      "Done.\n",
      "Execution time:  1637.6214679999975  seconds\n",
      "----------------------------------------\n"
     ]
    },
    {
     "name": "stderr",
     "output_type": "stream",
     "text": [
      "\u001b[33mWARNING\u001b[0m: Making input data immutable.\n"
     ]
    },
    {
     "name": "stdout",
     "output_type": "stream",
     "text": [
      "\n",
      "  _____             ____     _____      _\n",
      " |\" ___|    ___    / __\"| u |_ \" _| U  /\"\\  u\n",
      "U| |_  u   |_\"_|  <\\___ \\/    | |    \\/ _ \\/\n",
      "\\|  _|/     | |    u___) |   /| |\\   / ___ \\\\\n",
      " |_|      U/| |\\u  |____/>> u |_|U  /_/   \\_\\\\\n",
      " )(\\\\\\,-.-,_|___|_,-.)(  (__)_// \\\\\\_  \\\\\\    >>\n",
      "(__)(_/ \\_)-' '-(_/(__)    (__) (__)(__)  (__)\n",
      "    \n",
      " - mu:  1e-08\n",
      " - lipschitz constant:  1.1000000000000723\n",
      " - data:  (640, 368)\n",
      " - wavelet:  <mri.reconstruct.linear.WaveletN object at 0x7fa415738c50> - 4\n",
      " - max iterations:  200\n",
      " - image variable shape:  (640, 368)\n",
      " - alpha variable shape:  (235520,)\n",
      "----------------------------------------\n",
      "Starting optimization...\n"
     ]
    },
    {
     "name": "stderr",
     "output_type": "stream",
     "text": [
      "100% (200 of 200) |######################| Elapsed Time: 0:00:50 Time:  0:00:50\n"
     ]
    },
    {
     "name": "stdout",
     "output_type": "stream",
     "text": [
      " - final iteration number:  200\n",
      " - final log10 cost value:  -5.120523650586075\n",
      " - converged:  True\n",
      "Done.\n",
      "Execution time:  1579.405724000011  seconds\n",
      "----------------------------------------\n"
     ]
    },
    {
     "name": "stderr",
     "output_type": "stream",
     "text": [
      "\u001b[33mWARNING\u001b[0m: Making input data immutable.\n"
     ]
    },
    {
     "name": "stdout",
     "output_type": "stream",
     "text": [
      "\n",
      "  _____             ____     _____      _\n",
      " |\" ___|    ___    / __\"| u |_ \" _| U  /\"\\  u\n",
      "U| |_  u   |_\"_|  <\\___ \\/    | |    \\/ _ \\/\n",
      "\\|  _|/     | |    u___) |   /| |\\   / ___ \\\\\n",
      " |_|      U/| |\\u  |____/>> u |_|U  /_/   \\_\\\\\n",
      " )(\\\\\\,-.-,_|___|_,-.)(  (__)_// \\\\\\_  \\\\\\    >>\n",
      "(__)(_/ \\_)-' '-(_/(__)    (__) (__)(__)  (__)\n",
      "    \n",
      " - mu:  1e-08\n",
      " - lipschitz constant:  1.1000000000000603\n",
      " - data:  (640, 368)\n",
      " - wavelet:  <mri.reconstruct.linear.WaveletN object at 0x7fa41578e668> - 4\n",
      " - max iterations:  200\n",
      " - image variable shape:  (640, 368)\n",
      " - alpha variable shape:  (235520,)\n",
      "----------------------------------------\n",
      "Starting optimization...\n"
     ]
    },
    {
     "name": "stderr",
     "output_type": "stream",
     "text": [
      "100% (200 of 200) |######################| Elapsed Time: 0:00:49 Time:  0:00:49\n"
     ]
    },
    {
     "name": "stdout",
     "output_type": "stream",
     "text": [
      " - final iteration number:  200\n",
      " - final log10 cost value:  -5.211049290141536\n",
      " - converged:  True\n",
      "Done.\n",
      "Execution time:  1592.3622529999702  seconds\n",
      "----------------------------------------\n"
     ]
    },
    {
     "name": "stderr",
     "output_type": "stream",
     "text": [
      "\u001b[33mWARNING\u001b[0m: Making input data immutable.\n"
     ]
    },
    {
     "name": "stdout",
     "output_type": "stream",
     "text": [
      "\n",
      "  _____             ____     _____      _\n",
      " |\" ___|    ___    / __\"| u |_ \" _| U  /\"\\  u\n",
      "U| |_  u   |_\"_|  <\\___ \\/    | |    \\/ _ \\/\n",
      "\\|  _|/     | |    u___) |   /| |\\   / ___ \\\\\n",
      " |_|      U/| |\\u  |____/>> u |_|U  /_/   \\_\\\\\n",
      " )(\\\\\\,-.-,_|___|_,-.)(  (__)_// \\\\\\_  \\\\\\    >>\n",
      "(__)(_/ \\_)-' '-(_/(__)    (__) (__)(__)  (__)\n",
      "    \n",
      " - mu:  1e-08\n",
      " - lipschitz constant:  1.0999999999999792\n",
      " - data:  (640, 372)\n",
      " - wavelet:  <mri.reconstruct.linear.WaveletN object at 0x7fa4156d3860> - 4\n",
      " - max iterations:  200\n",
      " - image variable shape:  (640, 372)\n",
      " - alpha variable shape:  (238320,)\n",
      "----------------------------------------\n",
      "Starting optimization...\n"
     ]
    },
    {
     "name": "stderr",
     "output_type": "stream",
     "text": [
      "100% (200 of 200) |######################| Elapsed Time: 0:00:52 Time:  0:00:52\n"
     ]
    },
    {
     "name": "stdout",
     "output_type": "stream",
     "text": [
      " - final iteration number:  200\n",
      " - final log10 cost value:  -6.270659941015538\n",
      " - converged:  True\n",
      "Done.\n",
      "Execution time:  1636.0332469999557  seconds\n",
      "----------------------------------------\n"
     ]
    },
    {
     "name": "stderr",
     "output_type": "stream",
     "text": [
      "\u001b[33mWARNING\u001b[0m: Making input data immutable.\n"
     ]
    },
    {
     "name": "stdout",
     "output_type": "stream",
     "text": [
      "\n",
      "  _____             ____     _____      _\n",
      " |\" ___|    ___    / __\"| u |_ \" _| U  /\"\\  u\n",
      "U| |_  u   |_\"_|  <\\___ \\/    | |    \\/ _ \\/\n",
      "\\|  _|/     | |    u___) |   /| |\\   / ___ \\\\\n",
      " |_|      U/| |\\u  |____/>> u |_|U  /_/   \\_\\\\\n",
      " )(\\\\\\,-.-,_|___|_,-.)(  (__)_// \\\\\\_  \\\\\\    >>\n",
      "(__)(_/ \\_)-' '-(_/(__)    (__) (__)(__)  (__)\n",
      "    \n",
      " - mu:  1e-08\n",
      " - lipschitz constant:  1.1000000000001475\n",
      " - data:  (640, 372)\n",
      " - wavelet:  <mri.reconstruct.linear.WaveletN object at 0x7fa4156d3668> - 4\n",
      " - max iterations:  200\n",
      " - image variable shape:  (640, 372)\n",
      " - alpha variable shape:  (238320,)\n",
      "----------------------------------------\n",
      "Starting optimization...\n"
     ]
    },
    {
     "name": "stderr",
     "output_type": "stream",
     "text": [
      "100% (200 of 200) |######################| Elapsed Time: 0:00:51 Time:  0:00:51\n"
     ]
    },
    {
     "name": "stdout",
     "output_type": "stream",
     "text": [
      " - final iteration number:  200\n",
      " - final log10 cost value:  -6.313804784151993\n",
      " - converged:  True\n",
      "Done.\n",
      "Execution time:  1632.3587219999754  seconds\n",
      "----------------------------------------\n"
     ]
    },
    {
     "name": "stderr",
     "output_type": "stream",
     "text": [
      "\u001b[33mWARNING\u001b[0m: Making input data immutable.\n"
     ]
    },
    {
     "name": "stdout",
     "output_type": "stream",
     "text": [
      "\n",
      "  _____             ____     _____      _\n",
      " |\" ___|    ___    / __\"| u |_ \" _| U  /\"\\  u\n",
      "U| |_  u   |_\"_|  <\\___ \\/    | |    \\/ _ \\/\n",
      "\\|  _|/     | |    u___) |   /| |\\   / ___ \\\\\n",
      " |_|      U/| |\\u  |____/>> u |_|U  /_/   \\_\\\\\n",
      " )(\\\\\\,-.-,_|___|_,-.)(  (__)_// \\\\\\_  \\\\\\    >>\n",
      "(__)(_/ \\_)-' '-(_/(__)    (__) (__)(__)  (__)\n",
      "    \n",
      " - mu:  1e-08\n",
      " - lipschitz constant:  1.1000000000000676\n",
      " - data:  (640, 368)\n",
      " - wavelet:  <mri.reconstruct.linear.WaveletN object at 0x7fa415738c50> - 4\n",
      " - max iterations:  200\n",
      " - image variable shape:  (640, 368)\n",
      " - alpha variable shape:  (235520,)\n",
      "----------------------------------------\n",
      "Starting optimization...\n"
     ]
    },
    {
     "name": "stderr",
     "output_type": "stream",
     "text": [
      "100% (200 of 200) |######################| Elapsed Time: 0:00:50 Time:  0:00:50\n"
     ]
    },
    {
     "name": "stdout",
     "output_type": "stream",
     "text": [
      " - final iteration number:  200\n",
      " - final log10 cost value:  -4.81165906477803\n",
      " - converged:  True\n",
      "Done.\n",
      "Execution time:  1610.2370970000047  seconds\n",
      "----------------------------------------\n"
     ]
    },
    {
     "name": "stderr",
     "output_type": "stream",
     "text": [
      "\u001b[33mWARNING\u001b[0m: Making input data immutable.\n"
     ]
    },
    {
     "name": "stdout",
     "output_type": "stream",
     "text": [
      "\n",
      "  _____             ____     _____      _\n",
      " |\" ___|    ___    / __\"| u |_ \" _| U  /\"\\  u\n",
      "U| |_  u   |_\"_|  <\\___ \\/    | |    \\/ _ \\/\n",
      "\\|  _|/     | |    u___) |   /| |\\   / ___ \\\\\n",
      " |_|      U/| |\\u  |____/>> u |_|U  /_/   \\_\\\\\n",
      " )(\\\\\\,-.-,_|___|_,-.)(  (__)_// \\\\\\_  \\\\\\    >>\n",
      "(__)(_/ \\_)-' '-(_/(__)    (__) (__)(__)  (__)\n",
      "    \n",
      " - mu:  1e-08\n",
      " - lipschitz constant:  1.0999999999999792\n",
      " - data:  (640, 368)\n",
      " - wavelet:  <mri.reconstruct.linear.WaveletN object at 0x7fa41578e240> - 4\n",
      " - max iterations:  200\n",
      " - image variable shape:  (640, 368)\n",
      " - alpha variable shape:  (235520,)\n",
      "----------------------------------------\n",
      "Starting optimization...\n"
     ]
    },
    {
     "name": "stderr",
     "output_type": "stream",
     "text": [
      "100% (200 of 200) |######################| Elapsed Time: 0:00:50 Time:  0:00:50\n"
     ]
    },
    {
     "name": "stdout",
     "output_type": "stream",
     "text": [
      " - final iteration number:  200\n",
      " - final log10 cost value:  -5.619535568255418\n",
      " - converged:  True\n",
      "Done.\n",
      "Execution time:  1602.6450220000115  seconds\n",
      "----------------------------------------\n"
     ]
    },
    {
     "name": "stderr",
     "output_type": "stream",
     "text": [
      "\u001b[33mWARNING\u001b[0m: Making input data immutable.\n"
     ]
    },
    {
     "name": "stdout",
     "output_type": "stream",
     "text": [
      "\n",
      "  _____             ____     _____      _\n",
      " |\" ___|    ___    / __\"| u |_ \" _| U  /\"\\  u\n",
      "U| |_  u   |_\"_|  <\\___ \\/    | |    \\/ _ \\/\n",
      "\\|  _|/     | |    u___) |   /| |\\   / ___ \\\\\n",
      " |_|      U/| |\\u  |____/>> u |_|U  /_/   \\_\\\\\n",
      " )(\\\\\\,-.-,_|___|_,-.)(  (__)_// \\\\\\_  \\\\\\    >>\n",
      "(__)(_/ \\_)-' '-(_/(__)    (__) (__)(__)  (__)\n",
      "    \n",
      " - mu:  1e-08\n",
      " - lipschitz constant:  1.0999999999999788\n",
      " - data:  (640, 368)\n",
      " - wavelet:  <mri.reconstruct.linear.WaveletN object at 0x7fa4156d3470> - 4\n",
      " - max iterations:  200\n",
      " - image variable shape:  (640, 368)\n",
      " - alpha variable shape:  (235520,)\n",
      "----------------------------------------\n",
      "Starting optimization...\n"
     ]
    },
    {
     "name": "stderr",
     "output_type": "stream",
     "text": [
      "100% (200 of 200) |######################| Elapsed Time: 0:00:50 Time:  0:00:50\n"
     ]
    },
    {
     "name": "stdout",
     "output_type": "stream",
     "text": [
      " - final iteration number:  200\n",
      " - final log10 cost value:  -4.76685810609642\n",
      " - converged:  True\n",
      "Done.\n",
      "Execution time:  1595.489719999954  seconds\n",
      "----------------------------------------\n"
     ]
    },
    {
     "name": "stderr",
     "output_type": "stream",
     "text": [
      "\u001b[33mWARNING\u001b[0m: Making input data immutable.\n"
     ]
    },
    {
     "name": "stdout",
     "output_type": "stream",
     "text": [
      "\n",
      "  _____             ____     _____      _\n",
      " |\" ___|    ___    / __\"| u |_ \" _| U  /\"\\  u\n",
      "U| |_  u   |_\"_|  <\\___ \\/    | |    \\/ _ \\/\n",
      "\\|  _|/     | |    u___) |   /| |\\   / ___ \\\\\n",
      " |_|      U/| |\\u  |____/>> u |_|U  /_/   \\_\\\\\n",
      " )(\\\\\\,-.-,_|___|_,-.)(  (__)_// \\\\\\_  \\\\\\    >>\n",
      "(__)(_/ \\_)-' '-(_/(__)    (__) (__)(__)  (__)\n",
      "    \n",
      " - mu:  1e-08\n",
      " - lipschitz constant:  1.0999999999999783\n",
      " - data:  (640, 368)\n",
      " - wavelet:  <mri.reconstruct.linear.WaveletN object at 0x7fa4156d3278> - 4\n",
      " - max iterations:  200\n",
      " - image variable shape:  (640, 368)\n",
      " - alpha variable shape:  (235520,)\n",
      "----------------------------------------\n",
      "Starting optimization...\n"
     ]
    },
    {
     "name": "stderr",
     "output_type": "stream",
     "text": [
      "100% (200 of 200) |######################| Elapsed Time: 0:00:50 Time:  0:00:50\n"
     ]
    },
    {
     "name": "stdout",
     "output_type": "stream",
     "text": [
      " - final iteration number:  200\n",
      " - final log10 cost value:  -5.652201266883239\n",
      " - converged:  True\n",
      "Done.\n",
      "Execution time:  1600.35639000003  seconds\n",
      "----------------------------------------\n"
     ]
    },
    {
     "name": "stderr",
     "output_type": "stream",
     "text": [
      "\u001b[33mWARNING\u001b[0m: Making input data immutable.\n"
     ]
    },
    {
     "name": "stdout",
     "output_type": "stream",
     "text": [
      "\n",
      "  _____             ____     _____      _\n",
      " |\" ___|    ___    / __\"| u |_ \" _| U  /\"\\  u\n",
      "U| |_  u   |_\"_|  <\\___ \\/    | |    \\/ _ \\/\n",
      "\\|  _|/     | |    u___) |   /| |\\   / ___ \\\\\n",
      " |_|      U/| |\\u  |____/>> u |_|U  /_/   \\_\\\\\n",
      " )(\\\\\\,-.-,_|___|_,-.)(  (__)_// \\\\\\_  \\\\\\    >>\n",
      "(__)(_/ \\_)-' '-(_/(__)    (__) (__)(__)  (__)\n",
      "    \n",
      " - mu:  1e-08\n",
      " - lipschitz constant:  1.0999999999999852\n",
      " - data:  (640, 372)\n",
      " - wavelet:  <mri.reconstruct.linear.WaveletN object at 0x7fa4156d3710> - 4\n",
      " - max iterations:  200\n",
      " - image variable shape:  (640, 372)\n",
      " - alpha variable shape:  (238320,)\n",
      "----------------------------------------\n",
      "Starting optimization...\n"
     ]
    },
    {
     "name": "stderr",
     "output_type": "stream",
     "text": [
      "100% (200 of 200) |######################| Elapsed Time: 0:00:52 Time:  0:00:52\n"
     ]
    },
    {
     "name": "stdout",
     "output_type": "stream",
     "text": [
      " - final iteration number:  200\n",
      " - final log10 cost value:  -6.454001644200325\n",
      " - converged:  True\n",
      "Done.\n",
      "Execution time:  1639.7400339999585  seconds\n",
      "----------------------------------------\n"
     ]
    },
    {
     "name": "stderr",
     "output_type": "stream",
     "text": [
      "\u001b[33mWARNING\u001b[0m: Making input data immutable.\n"
     ]
    },
    {
     "name": "stdout",
     "output_type": "stream",
     "text": [
      "\n",
      "  _____             ____     _____      _\n",
      " |\" ___|    ___    / __\"| u |_ \" _| U  /\"\\  u\n",
      "U| |_  u   |_\"_|  <\\___ \\/    | |    \\/ _ \\/\n",
      "\\|  _|/     | |    u___) |   /| |\\   / ___ \\\\\n",
      " |_|      U/| |\\u  |____/>> u |_|U  /_/   \\_\\\\\n",
      " )(\\\\\\,-.-,_|___|_,-.)(  (__)_// \\\\\\_  \\\\\\    >>\n",
      "(__)(_/ \\_)-' '-(_/(__)    (__) (__)(__)  (__)\n",
      "    \n",
      " - mu:  1e-08\n",
      " - lipschitz constant:  1.099999999999985\n",
      " - data:  (640, 368)\n",
      " - wavelet:  <mri.reconstruct.linear.WaveletN object at 0x7fa4156d3550> - 4\n",
      " - max iterations:  200\n",
      " - image variable shape:  (640, 368)\n",
      " - alpha variable shape:  (235520,)\n",
      "----------------------------------------\n",
      "Starting optimization...\n"
     ]
    },
    {
     "name": "stderr",
     "output_type": "stream",
     "text": [
      "100% (200 of 200) |######################| Elapsed Time: 0:00:50 Time:  0:00:50\n"
     ]
    },
    {
     "name": "stdout",
     "output_type": "stream",
     "text": [
      " - final iteration number:  200\n",
      " - final log10 cost value:  -5.20189266534393\n",
      " - converged:  True\n",
      "Done.\n",
      "Execution time:  1608.1809369999683  seconds\n",
      "----------------------------------------\n"
     ]
    },
    {
     "name": "stderr",
     "output_type": "stream",
     "text": [
      "\u001b[33mWARNING\u001b[0m: Making input data immutable.\n"
     ]
    },
    {
     "name": "stdout",
     "output_type": "stream",
     "text": [
      "\n",
      "  _____             ____     _____      _\n",
      " |\" ___|    ___    / __\"| u |_ \" _| U  /\"\\  u\n",
      "U| |_  u   |_\"_|  <\\___ \\/    | |    \\/ _ \\/\n",
      "\\|  _|/     | |    u___) |   /| |\\   / ___ \\\\\n",
      " |_|      U/| |\\u  |____/>> u |_|U  /_/   \\_\\\\\n",
      " )(\\\\\\,-.-,_|___|_,-.)(  (__)_// \\\\\\_  \\\\\\    >>\n",
      "(__)(_/ \\_)-' '-(_/(__)    (__) (__)(__)  (__)\n",
      "    \n",
      " - mu:  1e-08\n",
      " - lipschitz constant:  1.099999999999972\n",
      " - data:  (640, 368)\n",
      " - wavelet:  <mri.reconstruct.linear.WaveletN object at 0x7fa4156d3198> - 4\n",
      " - max iterations:  200\n",
      " - image variable shape:  (640, 368)\n",
      " - alpha variable shape:  (235520,)\n",
      "----------------------------------------\n",
      "Starting optimization...\n"
     ]
    },
    {
     "name": "stderr",
     "output_type": "stream",
     "text": [
      "100% (200 of 200) |######################| Elapsed Time: 0:00:50 Time:  0:00:50\n"
     ]
    },
    {
     "name": "stdout",
     "output_type": "stream",
     "text": [
      " - final iteration number:  200\n",
      " - final log10 cost value:  -5.19914857704656\n",
      " - converged:  True\n",
      "Done.\n",
      "Execution time:  1593.273429999943  seconds\n",
      "----------------------------------------\n"
     ]
    },
    {
     "name": "stderr",
     "output_type": "stream",
     "text": [
      "\u001b[33mWARNING\u001b[0m: Making input data immutable.\n"
     ]
    },
    {
     "name": "stdout",
     "output_type": "stream",
     "text": [
      "\n",
      "  _____             ____     _____      _\n",
      " |\" ___|    ___    / __\"| u |_ \" _| U  /\"\\  u\n",
      "U| |_  u   |_\"_|  <\\___ \\/    | |    \\/ _ \\/\n",
      "\\|  _|/     | |    u___) |   /| |\\   / ___ \\\\\n",
      " |_|      U/| |\\u  |____/>> u |_|U  /_/   \\_\\\\\n",
      " )(\\\\\\,-.-,_|___|_,-.)(  (__)_// \\\\\\_  \\\\\\    >>\n",
      "(__)(_/ \\_)-' '-(_/(__)    (__) (__)(__)  (__)\n",
      "    \n",
      " - mu:  1e-08\n",
      " - lipschitz constant:  1.0999999999999825\n",
      " - data:  (640, 368)\n",
      " - wavelet:  <mri.reconstruct.linear.WaveletN object at 0x7fa4156d3a58> - 4\n",
      " - max iterations:  200\n",
      " - image variable shape:  (640, 368)\n",
      " - alpha variable shape:  (235520,)\n",
      "----------------------------------------\n",
      "Starting optimization...\n"
     ]
    },
    {
     "name": "stderr",
     "output_type": "stream",
     "text": [
      "100% (200 of 200) |######################| Elapsed Time: 0:00:50 Time:  0:00:50\n"
     ]
    },
    {
     "name": "stdout",
     "output_type": "stream",
     "text": [
      " - final iteration number:  200\n",
      " - final log10 cost value:  -5.246464041142865\n",
      " - converged:  True\n",
      "Done.\n",
      "Execution time:  1623.560832999996  seconds\n",
      "----------------------------------------\n",
      "\n"
     ]
    },
    {
     "data": {
      "application/vnd.jupyter.widget-view+json": {
       "model_id": "7ed491a9fd3b431d9c230ecbfbeb97db",
       "version_major": 2,
       "version_minor": 0
      },
      "text/plain": [
       "HBox(children=(FloatProgress(value=0.0, description='Stats', max=24.0, style=ProgressStyle(description_width='…"
      ]
     },
     "metadata": {},
     "output_type": "display_data"
    },
    {
     "name": "stdout",
     "output_type": "stream",
     "text": [
      "\n",
      "\n",
      "CPU times: user 1d 9h 45min 5s, sys: 1d 17h 57min 29s, total: 3d 3h 42min 35s\n",
      "Wall time: 2h 29min 49s\n"
     ]
    }
   ],
   "source": [
    "%%time\n",
    "metrics = []\n",
    "for mu in tqdm(mus_to_test, desc='mus'):\n",
    "    psnr_gains = psnr_gain(sub_prop=0.1, mu=mu)\n",
    "    metrics.append(psnr_gains)"
   ]
  },
  {
   "cell_type": "code",
   "execution_count": 56,
   "metadata": {},
   "outputs": [
    {
     "data": {
      "application/javascript": [
       "/* Put everything inside the global mpl namespace */\n",
       "window.mpl = {};\n",
       "\n",
       "\n",
       "mpl.get_websocket_type = function() {\n",
       "    if (typeof(WebSocket) !== 'undefined') {\n",
       "        return WebSocket;\n",
       "    } else if (typeof(MozWebSocket) !== 'undefined') {\n",
       "        return MozWebSocket;\n",
       "    } else {\n",
       "        alert('Your browser does not have WebSocket support. ' +\n",
       "              'Please try Chrome, Safari or Firefox ≥ 6. ' +\n",
       "              'Firefox 4 and 5 are also supported but you ' +\n",
       "              'have to enable WebSockets in about:config.');\n",
       "    };\n",
       "}\n",
       "\n",
       "mpl.figure = function(figure_id, websocket, ondownload, parent_element) {\n",
       "    this.id = figure_id;\n",
       "\n",
       "    this.ws = websocket;\n",
       "\n",
       "    this.supports_binary = (this.ws.binaryType != undefined);\n",
       "\n",
       "    if (!this.supports_binary) {\n",
       "        var warnings = document.getElementById(\"mpl-warnings\");\n",
       "        if (warnings) {\n",
       "            warnings.style.display = 'block';\n",
       "            warnings.textContent = (\n",
       "                \"This browser does not support binary websocket messages. \" +\n",
       "                    \"Performance may be slow.\");\n",
       "        }\n",
       "    }\n",
       "\n",
       "    this.imageObj = new Image();\n",
       "\n",
       "    this.context = undefined;\n",
       "    this.message = undefined;\n",
       "    this.canvas = undefined;\n",
       "    this.rubberband_canvas = undefined;\n",
       "    this.rubberband_context = undefined;\n",
       "    this.format_dropdown = undefined;\n",
       "\n",
       "    this.image_mode = 'full';\n",
       "\n",
       "    this.root = $('<div/>');\n",
       "    this._root_extra_style(this.root)\n",
       "    this.root.attr('style', 'display: inline-block');\n",
       "\n",
       "    $(parent_element).append(this.root);\n",
       "\n",
       "    this._init_header(this);\n",
       "    this._init_canvas(this);\n",
       "    this._init_toolbar(this);\n",
       "\n",
       "    var fig = this;\n",
       "\n",
       "    this.waiting = false;\n",
       "\n",
       "    this.ws.onopen =  function () {\n",
       "            fig.send_message(\"supports_binary\", {value: fig.supports_binary});\n",
       "            fig.send_message(\"send_image_mode\", {});\n",
       "            if (mpl.ratio != 1) {\n",
       "                fig.send_message(\"set_dpi_ratio\", {'dpi_ratio': mpl.ratio});\n",
       "            }\n",
       "            fig.send_message(\"refresh\", {});\n",
       "        }\n",
       "\n",
       "    this.imageObj.onload = function() {\n",
       "            if (fig.image_mode == 'full') {\n",
       "                // Full images could contain transparency (where diff images\n",
       "                // almost always do), so we need to clear the canvas so that\n",
       "                // there is no ghosting.\n",
       "                fig.context.clearRect(0, 0, fig.canvas.width, fig.canvas.height);\n",
       "            }\n",
       "            fig.context.drawImage(fig.imageObj, 0, 0);\n",
       "        };\n",
       "\n",
       "    this.imageObj.onunload = function() {\n",
       "        fig.ws.close();\n",
       "    }\n",
       "\n",
       "    this.ws.onmessage = this._make_on_message_function(this);\n",
       "\n",
       "    this.ondownload = ondownload;\n",
       "}\n",
       "\n",
       "mpl.figure.prototype._init_header = function() {\n",
       "    var titlebar = $(\n",
       "        '<div class=\"ui-dialog-titlebar ui-widget-header ui-corner-all ' +\n",
       "        'ui-helper-clearfix\"/>');\n",
       "    var titletext = $(\n",
       "        '<div class=\"ui-dialog-title\" style=\"width: 100%; ' +\n",
       "        'text-align: center; padding: 3px;\"/>');\n",
       "    titlebar.append(titletext)\n",
       "    this.root.append(titlebar);\n",
       "    this.header = titletext[0];\n",
       "}\n",
       "\n",
       "\n",
       "\n",
       "mpl.figure.prototype._canvas_extra_style = function(canvas_div) {\n",
       "\n",
       "}\n",
       "\n",
       "\n",
       "mpl.figure.prototype._root_extra_style = function(canvas_div) {\n",
       "\n",
       "}\n",
       "\n",
       "mpl.figure.prototype._init_canvas = function() {\n",
       "    var fig = this;\n",
       "\n",
       "    var canvas_div = $('<div/>');\n",
       "\n",
       "    canvas_div.attr('style', 'position: relative; clear: both; outline: 0');\n",
       "\n",
       "    function canvas_keyboard_event(event) {\n",
       "        return fig.key_event(event, event['data']);\n",
       "    }\n",
       "\n",
       "    canvas_div.keydown('key_press', canvas_keyboard_event);\n",
       "    canvas_div.keyup('key_release', canvas_keyboard_event);\n",
       "    this.canvas_div = canvas_div\n",
       "    this._canvas_extra_style(canvas_div)\n",
       "    this.root.append(canvas_div);\n",
       "\n",
       "    var canvas = $('<canvas/>');\n",
       "    canvas.addClass('mpl-canvas');\n",
       "    canvas.attr('style', \"left: 0; top: 0; z-index: 0; outline: 0\")\n",
       "\n",
       "    this.canvas = canvas[0];\n",
       "    this.context = canvas[0].getContext(\"2d\");\n",
       "\n",
       "    var backingStore = this.context.backingStorePixelRatio ||\n",
       "\tthis.context.webkitBackingStorePixelRatio ||\n",
       "\tthis.context.mozBackingStorePixelRatio ||\n",
       "\tthis.context.msBackingStorePixelRatio ||\n",
       "\tthis.context.oBackingStorePixelRatio ||\n",
       "\tthis.context.backingStorePixelRatio || 1;\n",
       "\n",
       "    mpl.ratio = (window.devicePixelRatio || 1) / backingStore;\n",
       "\n",
       "    var rubberband = $('<canvas/>');\n",
       "    rubberband.attr('style', \"position: absolute; left: 0; top: 0; z-index: 1;\")\n",
       "\n",
       "    var pass_mouse_events = true;\n",
       "\n",
       "    canvas_div.resizable({\n",
       "        start: function(event, ui) {\n",
       "            pass_mouse_events = false;\n",
       "        },\n",
       "        resize: function(event, ui) {\n",
       "            fig.request_resize(ui.size.width, ui.size.height);\n",
       "        },\n",
       "        stop: function(event, ui) {\n",
       "            pass_mouse_events = true;\n",
       "            fig.request_resize(ui.size.width, ui.size.height);\n",
       "        },\n",
       "    });\n",
       "\n",
       "    function mouse_event_fn(event) {\n",
       "        if (pass_mouse_events)\n",
       "            return fig.mouse_event(event, event['data']);\n",
       "    }\n",
       "\n",
       "    rubberband.mousedown('button_press', mouse_event_fn);\n",
       "    rubberband.mouseup('button_release', mouse_event_fn);\n",
       "    // Throttle sequential mouse events to 1 every 20ms.\n",
       "    rubberband.mousemove('motion_notify', mouse_event_fn);\n",
       "\n",
       "    rubberband.mouseenter('figure_enter', mouse_event_fn);\n",
       "    rubberband.mouseleave('figure_leave', mouse_event_fn);\n",
       "\n",
       "    canvas_div.on(\"wheel\", function (event) {\n",
       "        event = event.originalEvent;\n",
       "        event['data'] = 'scroll'\n",
       "        if (event.deltaY < 0) {\n",
       "            event.step = 1;\n",
       "        } else {\n",
       "            event.step = -1;\n",
       "        }\n",
       "        mouse_event_fn(event);\n",
       "    });\n",
       "\n",
       "    canvas_div.append(canvas);\n",
       "    canvas_div.append(rubberband);\n",
       "\n",
       "    this.rubberband = rubberband;\n",
       "    this.rubberband_canvas = rubberband[0];\n",
       "    this.rubberband_context = rubberband[0].getContext(\"2d\");\n",
       "    this.rubberband_context.strokeStyle = \"#000000\";\n",
       "\n",
       "    this._resize_canvas = function(width, height) {\n",
       "        // Keep the size of the canvas, canvas container, and rubber band\n",
       "        // canvas in synch.\n",
       "        canvas_div.css('width', width)\n",
       "        canvas_div.css('height', height)\n",
       "\n",
       "        canvas.attr('width', width * mpl.ratio);\n",
       "        canvas.attr('height', height * mpl.ratio);\n",
       "        canvas.attr('style', 'width: ' + width + 'px; height: ' + height + 'px;');\n",
       "\n",
       "        rubberband.attr('width', width);\n",
       "        rubberband.attr('height', height);\n",
       "    }\n",
       "\n",
       "    // Set the figure to an initial 600x600px, this will subsequently be updated\n",
       "    // upon first draw.\n",
       "    this._resize_canvas(600, 600);\n",
       "\n",
       "    // Disable right mouse context menu.\n",
       "    $(this.rubberband_canvas).bind(\"contextmenu\",function(e){\n",
       "        return false;\n",
       "    });\n",
       "\n",
       "    function set_focus () {\n",
       "        canvas.focus();\n",
       "        canvas_div.focus();\n",
       "    }\n",
       "\n",
       "    window.setTimeout(set_focus, 100);\n",
       "}\n",
       "\n",
       "mpl.figure.prototype._init_toolbar = function() {\n",
       "    var fig = this;\n",
       "\n",
       "    var nav_element = $('<div/>');\n",
       "    nav_element.attr('style', 'width: 100%');\n",
       "    this.root.append(nav_element);\n",
       "\n",
       "    // Define a callback function for later on.\n",
       "    function toolbar_event(event) {\n",
       "        return fig.toolbar_button_onclick(event['data']);\n",
       "    }\n",
       "    function toolbar_mouse_event(event) {\n",
       "        return fig.toolbar_button_onmouseover(event['data']);\n",
       "    }\n",
       "\n",
       "    for(var toolbar_ind in mpl.toolbar_items) {\n",
       "        var name = mpl.toolbar_items[toolbar_ind][0];\n",
       "        var tooltip = mpl.toolbar_items[toolbar_ind][1];\n",
       "        var image = mpl.toolbar_items[toolbar_ind][2];\n",
       "        var method_name = mpl.toolbar_items[toolbar_ind][3];\n",
       "\n",
       "        if (!name) {\n",
       "            // put a spacer in here.\n",
       "            continue;\n",
       "        }\n",
       "        var button = $('<button/>');\n",
       "        button.addClass('ui-button ui-widget ui-state-default ui-corner-all ' +\n",
       "                        'ui-button-icon-only');\n",
       "        button.attr('role', 'button');\n",
       "        button.attr('aria-disabled', 'false');\n",
       "        button.click(method_name, toolbar_event);\n",
       "        button.mouseover(tooltip, toolbar_mouse_event);\n",
       "\n",
       "        var icon_img = $('<span/>');\n",
       "        icon_img.addClass('ui-button-icon-primary ui-icon');\n",
       "        icon_img.addClass(image);\n",
       "        icon_img.addClass('ui-corner-all');\n",
       "\n",
       "        var tooltip_span = $('<span/>');\n",
       "        tooltip_span.addClass('ui-button-text');\n",
       "        tooltip_span.html(tooltip);\n",
       "\n",
       "        button.append(icon_img);\n",
       "        button.append(tooltip_span);\n",
       "\n",
       "        nav_element.append(button);\n",
       "    }\n",
       "\n",
       "    var fmt_picker_span = $('<span/>');\n",
       "\n",
       "    var fmt_picker = $('<select/>');\n",
       "    fmt_picker.addClass('mpl-toolbar-option ui-widget ui-widget-content');\n",
       "    fmt_picker_span.append(fmt_picker);\n",
       "    nav_element.append(fmt_picker_span);\n",
       "    this.format_dropdown = fmt_picker[0];\n",
       "\n",
       "    for (var ind in mpl.extensions) {\n",
       "        var fmt = mpl.extensions[ind];\n",
       "        var option = $(\n",
       "            '<option/>', {selected: fmt === mpl.default_extension}).html(fmt);\n",
       "        fmt_picker.append(option);\n",
       "    }\n",
       "\n",
       "    // Add hover states to the ui-buttons\n",
       "    $( \".ui-button\" ).hover(\n",
       "        function() { $(this).addClass(\"ui-state-hover\");},\n",
       "        function() { $(this).removeClass(\"ui-state-hover\");}\n",
       "    );\n",
       "\n",
       "    var status_bar = $('<span class=\"mpl-message\"/>');\n",
       "    nav_element.append(status_bar);\n",
       "    this.message = status_bar[0];\n",
       "}\n",
       "\n",
       "mpl.figure.prototype.request_resize = function(x_pixels, y_pixels) {\n",
       "    // Request matplotlib to resize the figure. Matplotlib will then trigger a resize in the client,\n",
       "    // which will in turn request a refresh of the image.\n",
       "    this.send_message('resize', {'width': x_pixels, 'height': y_pixels});\n",
       "}\n",
       "\n",
       "mpl.figure.prototype.send_message = function(type, properties) {\n",
       "    properties['type'] = type;\n",
       "    properties['figure_id'] = this.id;\n",
       "    this.ws.send(JSON.stringify(properties));\n",
       "}\n",
       "\n",
       "mpl.figure.prototype.send_draw_message = function() {\n",
       "    if (!this.waiting) {\n",
       "        this.waiting = true;\n",
       "        this.ws.send(JSON.stringify({type: \"draw\", figure_id: this.id}));\n",
       "    }\n",
       "}\n",
       "\n",
       "\n",
       "mpl.figure.prototype.handle_save = function(fig, msg) {\n",
       "    var format_dropdown = fig.format_dropdown;\n",
       "    var format = format_dropdown.options[format_dropdown.selectedIndex].value;\n",
       "    fig.ondownload(fig, format);\n",
       "}\n",
       "\n",
       "\n",
       "mpl.figure.prototype.handle_resize = function(fig, msg) {\n",
       "    var size = msg['size'];\n",
       "    if (size[0] != fig.canvas.width || size[1] != fig.canvas.height) {\n",
       "        fig._resize_canvas(size[0], size[1]);\n",
       "        fig.send_message(\"refresh\", {});\n",
       "    };\n",
       "}\n",
       "\n",
       "mpl.figure.prototype.handle_rubberband = function(fig, msg) {\n",
       "    var x0 = msg['x0'] / mpl.ratio;\n",
       "    var y0 = (fig.canvas.height - msg['y0']) / mpl.ratio;\n",
       "    var x1 = msg['x1'] / mpl.ratio;\n",
       "    var y1 = (fig.canvas.height - msg['y1']) / mpl.ratio;\n",
       "    x0 = Math.floor(x0) + 0.5;\n",
       "    y0 = Math.floor(y0) + 0.5;\n",
       "    x1 = Math.floor(x1) + 0.5;\n",
       "    y1 = Math.floor(y1) + 0.5;\n",
       "    var min_x = Math.min(x0, x1);\n",
       "    var min_y = Math.min(y0, y1);\n",
       "    var width = Math.abs(x1 - x0);\n",
       "    var height = Math.abs(y1 - y0);\n",
       "\n",
       "    fig.rubberband_context.clearRect(\n",
       "        0, 0, fig.canvas.width / mpl.ratio, fig.canvas.height / mpl.ratio);\n",
       "\n",
       "    fig.rubberband_context.strokeRect(min_x, min_y, width, height);\n",
       "}\n",
       "\n",
       "mpl.figure.prototype.handle_figure_label = function(fig, msg) {\n",
       "    // Updates the figure title.\n",
       "    fig.header.textContent = msg['label'];\n",
       "}\n",
       "\n",
       "mpl.figure.prototype.handle_cursor = function(fig, msg) {\n",
       "    var cursor = msg['cursor'];\n",
       "    switch(cursor)\n",
       "    {\n",
       "    case 0:\n",
       "        cursor = 'pointer';\n",
       "        break;\n",
       "    case 1:\n",
       "        cursor = 'default';\n",
       "        break;\n",
       "    case 2:\n",
       "        cursor = 'crosshair';\n",
       "        break;\n",
       "    case 3:\n",
       "        cursor = 'move';\n",
       "        break;\n",
       "    }\n",
       "    fig.rubberband_canvas.style.cursor = cursor;\n",
       "}\n",
       "\n",
       "mpl.figure.prototype.handle_message = function(fig, msg) {\n",
       "    fig.message.textContent = msg['message'];\n",
       "}\n",
       "\n",
       "mpl.figure.prototype.handle_draw = function(fig, msg) {\n",
       "    // Request the server to send over a new figure.\n",
       "    fig.send_draw_message();\n",
       "}\n",
       "\n",
       "mpl.figure.prototype.handle_image_mode = function(fig, msg) {\n",
       "    fig.image_mode = msg['mode'];\n",
       "}\n",
       "\n",
       "mpl.figure.prototype.updated_canvas_event = function() {\n",
       "    // Called whenever the canvas gets updated.\n",
       "    this.send_message(\"ack\", {});\n",
       "}\n",
       "\n",
       "// A function to construct a web socket function for onmessage handling.\n",
       "// Called in the figure constructor.\n",
       "mpl.figure.prototype._make_on_message_function = function(fig) {\n",
       "    return function socket_on_message(evt) {\n",
       "        if (evt.data instanceof Blob) {\n",
       "            /* FIXME: We get \"Resource interpreted as Image but\n",
       "             * transferred with MIME type text/plain:\" errors on\n",
       "             * Chrome.  But how to set the MIME type?  It doesn't seem\n",
       "             * to be part of the websocket stream */\n",
       "            evt.data.type = \"image/png\";\n",
       "\n",
       "            /* Free the memory for the previous frames */\n",
       "            if (fig.imageObj.src) {\n",
       "                (window.URL || window.webkitURL).revokeObjectURL(\n",
       "                    fig.imageObj.src);\n",
       "            }\n",
       "\n",
       "            fig.imageObj.src = (window.URL || window.webkitURL).createObjectURL(\n",
       "                evt.data);\n",
       "            fig.updated_canvas_event();\n",
       "            fig.waiting = false;\n",
       "            return;\n",
       "        }\n",
       "        else if (typeof evt.data === 'string' && evt.data.slice(0, 21) == \"data:image/png;base64\") {\n",
       "            fig.imageObj.src = evt.data;\n",
       "            fig.updated_canvas_event();\n",
       "            fig.waiting = false;\n",
       "            return;\n",
       "        }\n",
       "\n",
       "        var msg = JSON.parse(evt.data);\n",
       "        var msg_type = msg['type'];\n",
       "\n",
       "        // Call the  \"handle_{type}\" callback, which takes\n",
       "        // the figure and JSON message as its only arguments.\n",
       "        try {\n",
       "            var callback = fig[\"handle_\" + msg_type];\n",
       "        } catch (e) {\n",
       "            console.log(\"No handler for the '\" + msg_type + \"' message type: \", msg);\n",
       "            return;\n",
       "        }\n",
       "\n",
       "        if (callback) {\n",
       "            try {\n",
       "                // console.log(\"Handling '\" + msg_type + \"' message: \", msg);\n",
       "                callback(fig, msg);\n",
       "            } catch (e) {\n",
       "                console.log(\"Exception inside the 'handler_\" + msg_type + \"' callback:\", e, e.stack, msg);\n",
       "            }\n",
       "        }\n",
       "    };\n",
       "}\n",
       "\n",
       "// from http://stackoverflow.com/questions/1114465/getting-mouse-location-in-canvas\n",
       "mpl.findpos = function(e) {\n",
       "    //this section is from http://www.quirksmode.org/js/events_properties.html\n",
       "    var targ;\n",
       "    if (!e)\n",
       "        e = window.event;\n",
       "    if (e.target)\n",
       "        targ = e.target;\n",
       "    else if (e.srcElement)\n",
       "        targ = e.srcElement;\n",
       "    if (targ.nodeType == 3) // defeat Safari bug\n",
       "        targ = targ.parentNode;\n",
       "\n",
       "    // jQuery normalizes the pageX and pageY\n",
       "    // pageX,Y are the mouse positions relative to the document\n",
       "    // offset() returns the position of the element relative to the document\n",
       "    var x = e.pageX - $(targ).offset().left;\n",
       "    var y = e.pageY - $(targ).offset().top;\n",
       "\n",
       "    return {\"x\": x, \"y\": y};\n",
       "};\n",
       "\n",
       "/*\n",
       " * return a copy of an object with only non-object keys\n",
       " * we need this to avoid circular references\n",
       " * http://stackoverflow.com/a/24161582/3208463\n",
       " */\n",
       "function simpleKeys (original) {\n",
       "  return Object.keys(original).reduce(function (obj, key) {\n",
       "    if (typeof original[key] !== 'object')\n",
       "        obj[key] = original[key]\n",
       "    return obj;\n",
       "  }, {});\n",
       "}\n",
       "\n",
       "mpl.figure.prototype.mouse_event = function(event, name) {\n",
       "    var canvas_pos = mpl.findpos(event)\n",
       "\n",
       "    if (name === 'button_press')\n",
       "    {\n",
       "        this.canvas.focus();\n",
       "        this.canvas_div.focus();\n",
       "    }\n",
       "\n",
       "    var x = canvas_pos.x * mpl.ratio;\n",
       "    var y = canvas_pos.y * mpl.ratio;\n",
       "\n",
       "    this.send_message(name, {x: x, y: y, button: event.button,\n",
       "                             step: event.step,\n",
       "                             guiEvent: simpleKeys(event)});\n",
       "\n",
       "    /* This prevents the web browser from automatically changing to\n",
       "     * the text insertion cursor when the button is pressed.  We want\n",
       "     * to control all of the cursor setting manually through the\n",
       "     * 'cursor' event from matplotlib */\n",
       "    event.preventDefault();\n",
       "    return false;\n",
       "}\n",
       "\n",
       "mpl.figure.prototype._key_event_extra = function(event, name) {\n",
       "    // Handle any extra behaviour associated with a key event\n",
       "}\n",
       "\n",
       "mpl.figure.prototype.key_event = function(event, name) {\n",
       "\n",
       "    // Prevent repeat events\n",
       "    if (name == 'key_press')\n",
       "    {\n",
       "        if (event.which === this._key)\n",
       "            return;\n",
       "        else\n",
       "            this._key = event.which;\n",
       "    }\n",
       "    if (name == 'key_release')\n",
       "        this._key = null;\n",
       "\n",
       "    var value = '';\n",
       "    if (event.ctrlKey && event.which != 17)\n",
       "        value += \"ctrl+\";\n",
       "    if (event.altKey && event.which != 18)\n",
       "        value += \"alt+\";\n",
       "    if (event.shiftKey && event.which != 16)\n",
       "        value += \"shift+\";\n",
       "\n",
       "    value += 'k';\n",
       "    value += event.which.toString();\n",
       "\n",
       "    this._key_event_extra(event, name);\n",
       "\n",
       "    this.send_message(name, {key: value,\n",
       "                             guiEvent: simpleKeys(event)});\n",
       "    return false;\n",
       "}\n",
       "\n",
       "mpl.figure.prototype.toolbar_button_onclick = function(name) {\n",
       "    if (name == 'download') {\n",
       "        this.handle_save(this, null);\n",
       "    } else {\n",
       "        this.send_message(\"toolbar_button\", {name: name});\n",
       "    }\n",
       "};\n",
       "\n",
       "mpl.figure.prototype.toolbar_button_onmouseover = function(tooltip) {\n",
       "    this.message.textContent = tooltip;\n",
       "};\n",
       "mpl.toolbar_items = [[\"Home\", \"Reset original view\", \"fa fa-home icon-home\", \"home\"], [\"Back\", \"Back to previous view\", \"fa fa-arrow-left icon-arrow-left\", \"back\"], [\"Forward\", \"Forward to next view\", \"fa fa-arrow-right icon-arrow-right\", \"forward\"], [\"\", \"\", \"\", \"\"], [\"Pan\", \"Pan axes with left mouse, zoom with right\", \"fa fa-arrows icon-move\", \"pan\"], [\"Zoom\", \"Zoom to rectangle\", \"fa fa-square-o icon-check-empty\", \"zoom\"], [\"\", \"\", \"\", \"\"], [\"Download\", \"Download plot\", \"fa fa-floppy-o icon-save\", \"download\"]];\n",
       "\n",
       "mpl.extensions = [\"eps\", \"jpeg\", \"pdf\", \"png\", \"ps\", \"raw\", \"svg\", \"tif\"];\n",
       "\n",
       "mpl.default_extension = \"png\";var comm_websocket_adapter = function(comm) {\n",
       "    // Create a \"websocket\"-like object which calls the given IPython comm\n",
       "    // object with the appropriate methods. Currently this is a non binary\n",
       "    // socket, so there is still some room for performance tuning.\n",
       "    var ws = {};\n",
       "\n",
       "    ws.close = function() {\n",
       "        comm.close()\n",
       "    };\n",
       "    ws.send = function(m) {\n",
       "        //console.log('sending', m);\n",
       "        comm.send(m);\n",
       "    };\n",
       "    // Register the callback with on_msg.\n",
       "    comm.on_msg(function(msg) {\n",
       "        //console.log('receiving', msg['content']['data'], msg);\n",
       "        // Pass the mpl event to the overridden (by mpl) onmessage function.\n",
       "        ws.onmessage(msg['content']['data'])\n",
       "    });\n",
       "    return ws;\n",
       "}\n",
       "\n",
       "mpl.mpl_figure_comm = function(comm, msg) {\n",
       "    // This is the function which gets called when the mpl process\n",
       "    // starts-up an IPython Comm through the \"matplotlib\" channel.\n",
       "\n",
       "    var id = msg.content.data.id;\n",
       "    // Get hold of the div created by the display call when the Comm\n",
       "    // socket was opened in Python.\n",
       "    var element = $(\"#\" + id);\n",
       "    var ws_proxy = comm_websocket_adapter(comm)\n",
       "\n",
       "    function ondownload(figure, format) {\n",
       "        window.open(figure.imageObj.src);\n",
       "    }\n",
       "\n",
       "    var fig = new mpl.figure(id, ws_proxy,\n",
       "                           ondownload,\n",
       "                           element.get(0));\n",
       "\n",
       "    // Call onopen now - mpl needs it, as it is assuming we've passed it a real\n",
       "    // web socket which is closed, not our websocket->open comm proxy.\n",
       "    ws_proxy.onopen();\n",
       "\n",
       "    fig.parent_element = element.get(0);\n",
       "    fig.cell_info = mpl.find_output_cell(\"<div id='\" + id + \"'></div>\");\n",
       "    if (!fig.cell_info) {\n",
       "        console.error(\"Failed to find cell for figure\", id, fig);\n",
       "        return;\n",
       "    }\n",
       "\n",
       "    var output_index = fig.cell_info[2]\n",
       "    var cell = fig.cell_info[0];\n",
       "\n",
       "};\n",
       "\n",
       "mpl.figure.prototype.handle_close = function(fig, msg) {\n",
       "    var width = fig.canvas.width/mpl.ratio\n",
       "    fig.root.unbind('remove')\n",
       "\n",
       "    // Update the output cell to use the data from the current canvas.\n",
       "    fig.push_to_output();\n",
       "    var dataURL = fig.canvas.toDataURL();\n",
       "    // Re-enable the keyboard manager in IPython - without this line, in FF,\n",
       "    // the notebook keyboard shortcuts fail.\n",
       "    IPython.keyboard_manager.enable()\n",
       "    $(fig.parent_element).html('<img src=\"' + dataURL + '\" width=\"' + width + '\">');\n",
       "    fig.close_ws(fig, msg);\n",
       "}\n",
       "\n",
       "mpl.figure.prototype.close_ws = function(fig, msg){\n",
       "    fig.send_message('closing', msg);\n",
       "    // fig.ws.close()\n",
       "}\n",
       "\n",
       "mpl.figure.prototype.push_to_output = function(remove_interactive) {\n",
       "    // Turn the data on the canvas into data in the output cell.\n",
       "    var width = this.canvas.width/mpl.ratio\n",
       "    var dataURL = this.canvas.toDataURL();\n",
       "    this.cell_info[1]['text/html'] = '<img src=\"' + dataURL + '\" width=\"' + width + '\">';\n",
       "}\n",
       "\n",
       "mpl.figure.prototype.updated_canvas_event = function() {\n",
       "    // Tell IPython that the notebook contents must change.\n",
       "    IPython.notebook.set_dirty(true);\n",
       "    this.send_message(\"ack\", {});\n",
       "    var fig = this;\n",
       "    // Wait a second, then push the new image to the DOM so\n",
       "    // that it is saved nicely (might be nice to debounce this).\n",
       "    setTimeout(function () { fig.push_to_output() }, 1000);\n",
       "}\n",
       "\n",
       "mpl.figure.prototype._init_toolbar = function() {\n",
       "    var fig = this;\n",
       "\n",
       "    var nav_element = $('<div/>');\n",
       "    nav_element.attr('style', 'width: 100%');\n",
       "    this.root.append(nav_element);\n",
       "\n",
       "    // Define a callback function for later on.\n",
       "    function toolbar_event(event) {\n",
       "        return fig.toolbar_button_onclick(event['data']);\n",
       "    }\n",
       "    function toolbar_mouse_event(event) {\n",
       "        return fig.toolbar_button_onmouseover(event['data']);\n",
       "    }\n",
       "\n",
       "    for(var toolbar_ind in mpl.toolbar_items){\n",
       "        var name = mpl.toolbar_items[toolbar_ind][0];\n",
       "        var tooltip = mpl.toolbar_items[toolbar_ind][1];\n",
       "        var image = mpl.toolbar_items[toolbar_ind][2];\n",
       "        var method_name = mpl.toolbar_items[toolbar_ind][3];\n",
       "\n",
       "        if (!name) { continue; };\n",
       "\n",
       "        var button = $('<button class=\"btn btn-default\" href=\"#\" title=\"' + name + '\"><i class=\"fa ' + image + ' fa-lg\"></i></button>');\n",
       "        button.click(method_name, toolbar_event);\n",
       "        button.mouseover(tooltip, toolbar_mouse_event);\n",
       "        nav_element.append(button);\n",
       "    }\n",
       "\n",
       "    // Add the status bar.\n",
       "    var status_bar = $('<span class=\"mpl-message\" style=\"text-align:right; float: right;\"/>');\n",
       "    nav_element.append(status_bar);\n",
       "    this.message = status_bar[0];\n",
       "\n",
       "    // Add the close button to the window.\n",
       "    var buttongrp = $('<div class=\"btn-group inline pull-right\"></div>');\n",
       "    var button = $('<button class=\"btn btn-mini btn-primary\" href=\"#\" title=\"Stop Interaction\"><i class=\"fa fa-power-off icon-remove icon-large\"></i></button>');\n",
       "    button.click(function (evt) { fig.handle_close(fig, {}); } );\n",
       "    button.mouseover('Stop Interaction', toolbar_mouse_event);\n",
       "    buttongrp.append(button);\n",
       "    var titlebar = this.root.find($('.ui-dialog-titlebar'));\n",
       "    titlebar.prepend(buttongrp);\n",
       "}\n",
       "\n",
       "mpl.figure.prototype._root_extra_style = function(el){\n",
       "    var fig = this\n",
       "    el.on(\"remove\", function(){\n",
       "\tfig.close_ws(fig, {});\n",
       "    });\n",
       "}\n",
       "\n",
       "mpl.figure.prototype._canvas_extra_style = function(el){\n",
       "    // this is important to make the div 'focusable\n",
       "    el.attr('tabindex', 0)\n",
       "    // reach out to IPython and tell the keyboard manager to turn it's self\n",
       "    // off when our div gets focus\n",
       "\n",
       "    // location in version 3\n",
       "    if (IPython.notebook.keyboard_manager) {\n",
       "        IPython.notebook.keyboard_manager.register_events(el);\n",
       "    }\n",
       "    else {\n",
       "        // location in version 2\n",
       "        IPython.keyboard_manager.register_events(el);\n",
       "    }\n",
       "\n",
       "}\n",
       "\n",
       "mpl.figure.prototype._key_event_extra = function(event, name) {\n",
       "    var manager = IPython.notebook.keyboard_manager;\n",
       "    if (!manager)\n",
       "        manager = IPython.keyboard_manager;\n",
       "\n",
       "    // Check for shift+enter\n",
       "    if (event.shiftKey && event.which == 13) {\n",
       "        this.canvas_div.blur();\n",
       "        // select the cell after this one\n",
       "        var index = IPython.notebook.find_cell_index(this.cell_info[0]);\n",
       "        IPython.notebook.select(index + 1);\n",
       "    }\n",
       "}\n",
       "\n",
       "mpl.figure.prototype.handle_save = function(fig, msg) {\n",
       "    fig.ondownload(fig, null);\n",
       "}\n",
       "\n",
       "\n",
       "mpl.find_output_cell = function(html_output) {\n",
       "    // Return the cell and output element which can be found *uniquely* in the notebook.\n",
       "    // Note - this is a bit hacky, but it is done because the \"notebook_saving.Notebook\"\n",
       "    // IPython event is triggered only after the cells have been serialised, which for\n",
       "    // our purposes (turning an active figure into a static one), is too late.\n",
       "    var cells = IPython.notebook.get_cells();\n",
       "    var ncells = cells.length;\n",
       "    for (var i=0; i<ncells; i++) {\n",
       "        var cell = cells[i];\n",
       "        if (cell.cell_type === 'code'){\n",
       "            for (var j=0; j<cell.output_area.outputs.length; j++) {\n",
       "                var data = cell.output_area.outputs[j];\n",
       "                if (data.data) {\n",
       "                    // IPython >= 3 moved mimebundle to data attribute of output\n",
       "                    data = data.data;\n",
       "                }\n",
       "                if (data['text/html'] == html_output) {\n",
       "                    return [cell, data, j];\n",
       "                }\n",
       "            }\n",
       "        }\n",
       "    }\n",
       "}\n",
       "\n",
       "// Register the function which deals with the matplotlib target/channel.\n",
       "// The kernel may be null if the page has been refreshed.\n",
       "if (IPython.notebook.kernel != null) {\n",
       "    IPython.notebook.kernel.comm_manager.register_target('matplotlib', mpl.mpl_figure_comm);\n",
       "}\n"
      ],
      "text/plain": [
       "<IPython.core.display.Javascript object>"
      ]
     },
     "metadata": {},
     "output_type": "display_data"
    },
    {
     "data": {
      "text/html": [
       "<img src=\"data:image/png;base64,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\" width=\"899.9999804930258\">"
      ],
      "text/plain": [
       "<IPython.core.display.HTML object>"
      ]
     },
     "metadata": {},
     "output_type": "display_data"
    }
   ],
   "source": [
    "plt.figure()\n",
    "plt.errorbar(\n",
    "    mus_to_test, \n",
    "    [psnr_gains[0] for psnr_gains in metrics], \n",
    "    [psnr_gains[1] for psnr_gains in metrics], \n",
    "    linestyle='None', \n",
    "    marker='o',\n",
    ")\n",
    "plt.axhline(0, color='C3')\n",
    "plt.xscale('log')"
   ]
  },
  {
   "cell_type": "code",
   "execution_count": null,
   "metadata": {},
   "outputs": [],
   "source": []
  }
 ],
 "metadata": {
  "kernelspec": {
   "display_name": "Python 3",
   "language": "python",
   "name": "python3"
  },
  "language_info": {
   "codemirror_mode": {
    "name": "ipython",
    "version": 3
   },
   "file_extension": ".py",
   "mimetype": "text/x-python",
   "name": "python",
   "nbconvert_exporter": "python",
   "pygments_lexer": "ipython3",
   "version": "3.6.8"
  }
 },
 "nbformat": 4,
 "nbformat_minor": 2
}
