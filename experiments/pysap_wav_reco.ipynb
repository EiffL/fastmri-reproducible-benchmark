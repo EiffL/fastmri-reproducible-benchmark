{
 "cells": [
  {
   "cell_type": "code",
   "execution_count": 1,
   "metadata": {},
   "outputs": [
    {
     "name": "stderr",
     "output_type": "stream",
     "text": [
      "/volatile/home/Zaccharie/workspace/fastmri-reproducible-benchmark/venv/lib/python3.6/site-packages/mri/reconstruct/fourier.py:26: UserWarning: pynfft python package has not been found. If needed use the master release.\n",
      "  warnings.warn(\"pynfft python package has not been found. If needed use \"\n"
     ]
    },
    {
     "name": "stdout",
     "output_type": "stream",
     "text": [
      "\n",
      "                 .|'''|       /.\\      '||'''|,\n",
      "                 ||          // \\\\      ||   ||\n",
      "'||''|, '||  ||` `|'''|,    //...\\\\     ||...|'\n",
      " ||  ||  `|..||   .   ||   //     \\\\    ||\n",
      " ||..|'      ||   |...|' .//       \\\\. .||\n",
      " ||       ,  |'\n",
      ".||        ''\n",
      "\n",
      "Package version: 0.0.3\n",
      "\n",
      "License: CeCILL-B\n",
      "\n",
      "Authors: \n",
      "\n",
      "Antoine Grigis <antoine.grigis@cea.fr>\n",
      "Samuel Farrens <samuel.farrens@cea.fr>\n",
      "Jean-Luc Starck <jl.stark@cea.fr>\n",
      "Philippe Ciuciu <philippe.ciuciu@cea.fr>\n",
      "\n",
      "Dependencies: \n",
      "\n",
      "scipy          : >=1.3.0   - required | 1.4.1     installed\n",
      "numpy          : >=1.16.4  - required | 1.17.4    installed\n",
      "matplotlib     : >=3.0.0   - required | 3.1.2     installed\n",
      "astropy        : >=3.0.0   - required | 4.0       installed\n",
      "nibabel        : >=2.3.2   - required | 2.5.1     installed\n",
      "pyqtgraph      : >=0.10.0  - required | 0.10.0    installed\n",
      "progressbar2   : >=3.34.3  - required | ?         installed\n",
      "modopt         : >=1.4.0   - required | 1.4.1     installed\n",
      "scikit-learn   : >=0.19.1  - required | ?         installed\n",
      "pywt           : >=1.0.0   - required | 1.1.1     installed\n",
      "pysparse       : >=0.0.1   - required | 0.1.0     installed\n",
      "\n"
     ]
    }
   ],
   "source": [
    "%matplotlib nbagg\n",
    "import matplotlib.pyplot as plt\n",
    "from mri.numerics.fourier import FFT2\n",
    "from mri.numerics.reconstruct import sparse_rec_fista\n",
    "from mri.numerics.utils import generate_operators\n",
    "from mri.numerics.utils import convert_mask_to_locations\n",
    "import numpy as np\n",
    "from tqdm import tqdm_notebook as tqdm\n",
    "\n",
    "from fastmri_recon.data.fastmri_sequences import Masked2DSequence\n",
    "from fastmri_recon.helpers.utils import crop_center\n",
    "# from fastmri_recon.helpers.evaluate import psnr, ssim\n",
    "from fastmri_recon.helpers.evaluate import METRIC_FUNCS, Metrics"
   ]
  },
  {
   "cell_type": "code",
   "execution_count": 2,
   "metadata": {},
   "outputs": [],
   "source": [
    "plt.rcParams['figure.figsize'] = (9, 5)\n",
    "plt.rcParams['image.cmap'] = 'gray'"
   ]
  },
  {
   "cell_type": "code",
   "execution_count": 3,
   "metadata": {},
   "outputs": [],
   "source": [
    "# paths\n",
    "train_path = '/media/Zaccharie/UHRes/singlecoil_train/singlecoil_train/'\n",
    "val_path = '/media/Zaccharie/UHRes/singlecoil_val/'\n",
    "test_path = '/media/Zaccharie/UHRes/singlecoil_test/'\n",
    "\n",
    "n_volumes_train = 973\n",
    "n_volumes_val = 199"
   ]
  },
  {
   "cell_type": "code",
   "execution_count": 4,
   "metadata": {},
   "outputs": [
    {
     "name": "stderr",
     "output_type": "stream",
     "text": [
      "/volatile/home/Zaccharie/workspace/fastmri-reproducible-benchmark/fastmri_recon/data/data_utils.py:34: H5pyDeprecationWarning: The default file mode will change to 'r' (read-only) in h5py 3.0. To suppress this warning, pass the mode you need to h5py.File(), or set the global default h5.get_config().default_file_mode, or set the environment variable H5PY_DEFAULT_READONLY=1. Available modes are: 'r', 'r+', 'w', 'w-'/'x', 'a'. See the docs for details.\n",
      "  with h5py.File(filename) as h5_obj:\n"
     ]
    }
   ],
   "source": [
    "# generators\n",
    "# CORPDFS_FBK CORPD_FBK None\n",
    "AF = 4\n",
    "train_gen = Masked2DSequence(train_path, af=AF, inner_slices=1, contrast='CORPDFS_FBK')\n",
    "val_gen = Masked2DSequence(val_path, af=AF, contrast='CORPDFS_FBK')"
   ]
  },
  {
   "cell_type": "code",
   "execution_count": 28,
   "metadata": {},
   "outputs": [],
   "source": [
    "def reconstruct_image(kspace, mask, max_iter=200, mu=0.1):\n",
    "    kspace_squeeze = np.squeeze(kspace)\n",
    "    mask = np.squeeze(mask)\n",
    "    k_shape = kspace_squeeze.shape\n",
    "    kspace_loc = convert_mask_to_locations(mask)\n",
    "    fourier_op = FFT2(samples=kspace_loc, shape=k_shape)\n",
    "    gradient_op, linear_op, prox_op, cost_op = generate_operators(\n",
    "        data=kspace_squeeze,\n",
    "        wavelet_name=\"sym8\",\n",
    "        samples=kspace_loc,\n",
    "        nb_scales=4,\n",
    "        mu=mu,\n",
    "        non_cartesian=False,\n",
    "        uniform_data_shape=None,\n",
    "        gradient_space=\"synthesis\",\n",
    "        padding_mode=\"periodization\",\n",
    "    )\n",
    "    x_final,  costs, metrics = sparse_rec_fista(\n",
    "        gradient_op,\n",
    "        linear_op,\n",
    "        prox_op,\n",
    "        cost_op,\n",
    "        max_nb_of_iter=max_iter,\n",
    "        restart_strategy='greedy',\n",
    "        xi_restart=0.96, \n",
    "        s_greedy=1.3,\n",
    "        verbose=0)\n",
    "    image_rec_fs = crop_center(np.abs(np.fft.fftshift(x_final)), 320)\n",
    "    return image_rec_fs"
   ]
  },
  {
   "cell_type": "code",
   "execution_count": 38,
   "metadata": {},
   "outputs": [],
   "source": [
    "def metrics_for_args(sub_prop=0.2, **rec_kwargs):\n",
    "    metrics = Metrics(METRIC_FUNCS)\n",
    "    sampled_ids = np.random.randint(high=n_volumes_train//2-1, low=0, size=int(sub_prop * n_volumes_train//2))\n",
    "    pred_and_gt = [\n",
    "        (reconstruct_image(*train_gen[sampled_id][0], **rec_kwargs), train_gen[sampled_id][1])\n",
    "        for sampled_id in tqdm(sampled_ids, desc='K-spaces')\n",
    "    ]\n",
    "\n",
    "    for im_recos, images in tqdm(pred_and_gt, desc='Stats'):\n",
    "        metrics.push(images[..., 0], im_recos[None, ...])\n",
    "    return metrics"
   ]
  },
  {
   "cell_type": "code",
   "execution_count": 48,
   "metadata": {},
   "outputs": [],
   "source": [
    "mus_to_test = np.logspace(-11, -4, 7)"
   ]
  },
  {
   "cell_type": "code",
   "execution_count": 49,
   "metadata": {
    "scrolled": true
   },
   "outputs": [
    {
     "name": "stderr",
     "output_type": "stream",
     "text": [
      "/volatile/home/Zaccharie/workspace/fastmri-reproducible-benchmark/venv/lib/python3.6/site-packages/ipykernel_launcher.py:2: TqdmDeprecationWarning: This function will be removed in tqdm==5.0.0\n",
      "Please use `tqdm.notebook.tqdm` instead of `tqdm.tqdm_notebook`\n",
      "  \n"
     ]
    },
    {
     "data": {
      "application/vnd.jupyter.widget-view+json": {
       "model_id": "",
       "version_major": 2,
       "version_minor": 0
      },
      "text/plain": [
       "HBox(children=(FloatProgress(value=0.0, description='mus', max=7.0, style=ProgressStyle(description_width='ini…"
      ]
     },
     "metadata": {},
     "output_type": "display_data"
    },
    {
     "name": "stderr",
     "output_type": "stream",
     "text": [
      "/volatile/home/Zaccharie/workspace/fastmri-reproducible-benchmark/venv/lib/python3.6/site-packages/ipykernel_launcher.py:6: TqdmDeprecationWarning: This function will be removed in tqdm==5.0.0\n",
      "Please use `tqdm.notebook.tqdm` instead of `tqdm.tqdm_notebook`\n",
      "  \n"
     ]
    },
    {
     "data": {
      "application/vnd.jupyter.widget-view+json": {
       "model_id": "",
       "version_major": 2,
       "version_minor": 0
      },
      "text/plain": [
       "HBox(children=(FloatProgress(value=0.0, description='K-spaces', max=1.0, style=ProgressStyle(description_width…"
      ]
     },
     "metadata": {},
     "output_type": "display_data"
    },
    {
     "name": "stderr",
     "output_type": "stream",
     "text": [
      "/volatile/home/Zaccharie/workspace/fastmri-reproducible-benchmark/fastmri_recon/data/data_utils.py:18: H5pyDeprecationWarning: The default file mode will change to 'r' (read-only) in h5py 3.0. To suppress this warning, pass the mode you need to h5py.File(), or set the global default h5.get_config().default_file_mode, or set the environment variable H5PY_DEFAULT_READONLY=1. Available modes are: 'r', 'r+', 'w', 'w-'/'x', 'a'. See the docs for details.\n",
      "  with h5py.File(filename) as h5_obj:\n",
      "/volatile/home/Zaccharie/workspace/fastmri-reproducible-benchmark/venv/lib/python3.6/site-packages/mri/reconstruct/utils.py:74: FutureWarning: Using a non-tuple sequence for multidimensional indexing is deprecated; use `arr[tuple(seq)]` instead of `arr[seq]`. In the future this will be interpreted as an array index, `arr[np.array(seq)]`, which will result either in an error or a different result.\n",
      "  mask[test] = 1\n",
      "\u001b[33mWARNING\u001b[0m: Making input data immutable.\n"
     ]
    },
    {
     "name": "stdout",
     "output_type": "stream",
     "text": [
      "\n",
      "  _____             ____     _____      _\n",
      " |\" ___|    ___    / __\"| u |_ \" _| U  /\"\\  u\n",
      "U| |_  u   |_\"_|  <\\___ \\/    | |    \\/ _ \\/\n",
      "\\|  _|/     | |    u___) |   /| |\\   / ___ \\\\\n",
      " |_|      U/| |\\u  |____/>> u |_|U  /_/   \\_\\\\\n",
      " )(\\\\\\,-.-,_|___|_,-.)(  (__)_// \\\\\\_  \\\\\\    >>\n",
      "(__)(_/ \\_)-' '-(_/(__)    (__) (__)(__)  (__)\n",
      "    \n",
      " - mu:  1e-11\n",
      " - lipschitz constant:  1.0999999999999823\n",
      " - data:  (640, 368)\n",
      " - wavelet:  <mri.reconstruct.linear.WaveletN object at 0x7fa415c026d8> - 4\n",
      " - max iterations:  200\n",
      " - image variable shape:  (640, 368)\n",
      " - alpha variable shape:  (235520,)\n",
      "----------------------------------------\n",
      "Starting optimization...\n"
     ]
    },
    {
     "name": "stderr",
     "output_type": "stream",
     "text": [
      "100% (200 of 200) |######################| Elapsed Time: 0:00:50 Time:  0:00:50\n"
     ]
    },
    {
     "name": "stdout",
     "output_type": "stream",
     "text": [
      " - final iteration number:  200\n",
      " - final log10 cost value:  -5.003576402256208\n",
      " - converged:  True\n",
      "Done.\n",
      "Execution time:  1614.6036260000037  seconds\n",
      "----------------------------------------\n",
      "\n"
     ]
    },
    {
     "name": "stderr",
     "output_type": "stream",
     "text": [
      "/volatile/home/Zaccharie/workspace/fastmri-reproducible-benchmark/venv/lib/python3.6/site-packages/ipykernel_launcher.py:9: TqdmDeprecationWarning: This function will be removed in tqdm==5.0.0\n",
      "Please use `tqdm.notebook.tqdm` instead of `tqdm.tqdm_notebook`\n",
      "  if __name__ == '__main__':\n"
     ]
    },
    {
     "data": {
      "application/vnd.jupyter.widget-view+json": {
       "model_id": "",
       "version_major": 2,
       "version_minor": 0
      },
      "text/plain": [
       "HBox(children=(FloatProgress(value=0.0, description='Stats', max=1.0, style=ProgressStyle(description_width='i…"
      ]
     },
     "metadata": {},
     "output_type": "display_data"
    },
    {
     "name": "stderr",
     "output_type": "stream",
     "text": [
      "/volatile/home/Zaccharie/workspace/fastmri-reproducible-benchmark/fastmri_recon/helpers/evaluate.py:25: UserWarning: DEPRECATED: skimage.measure.compare_psnr has been moved to skimage.metrics.peak_signal_noise_ratio. It will be removed from skimage.measure in version 0.18.\n",
      "  return compare_psnr(gt, pred, data_range=gt.max() - gt.min())\n",
      "/volatile/home/Zaccharie/workspace/fastmri-reproducible-benchmark/fastmri_recon/helpers/evaluate.py:31: UserWarning: DEPRECATED: skimage.measure.compare_ssim has been moved to skimage.metrics.structural_similarity. It will be removed from skimage.measure in version 0.18.\n",
      "  gt.transpose(1, 2, 0), pred.transpose(1, 2, 0), multichannel=True, data_range=gt.max() - gt.min()\n"
     ]
    },
    {
     "name": "stdout",
     "output_type": "stream",
     "text": [
      "\n"
     ]
    },
    {
     "data": {
      "application/vnd.jupyter.widget-view+json": {
       "model_id": "",
       "version_major": 2,
       "version_minor": 0
      },
      "text/plain": [
       "HBox(children=(FloatProgress(value=0.0, description='K-spaces', max=1.0, style=ProgressStyle(description_width…"
      ]
     },
     "metadata": {},
     "output_type": "display_data"
    },
    {
     "name": "stderr",
     "output_type": "stream",
     "text": [
      "\u001b[33mWARNING\u001b[0m: Making input data immutable.\n"
     ]
    },
    {
     "name": "stdout",
     "output_type": "stream",
     "text": [
      "\n",
      "  _____             ____     _____      _\n",
      " |\" ___|    ___    / __\"| u |_ \" _| U  /\"\\  u\n",
      "U| |_  u   |_\"_|  <\\___ \\/    | |    \\/ _ \\/\n",
      "\\|  _|/     | |    u___) |   /| |\\   / ___ \\\\\n",
      " |_|      U/| |\\u  |____/>> u |_|U  /_/   \\_\\\\\n",
      " )(\\\\\\,-.-,_|___|_,-.)(  (__)_// \\\\\\_  \\\\\\    >>\n",
      "(__)(_/ \\_)-' '-(_/(__)    (__) (__)(__)  (__)\n",
      "    \n",
      " - mu:  1.4677992676220674e-10\n",
      " - lipschitz constant:  1.1000000000001415\n",
      " - data:  (640, 368)\n",
      " - wavelet:  <mri.reconstruct.linear.WaveletN object at 0x7fa415be8ba8> - 4\n",
      " - max iterations:  200\n",
      " - image variable shape:  (640, 368)\n",
      " - alpha variable shape:  (235520,)\n",
      "----------------------------------------\n",
      "Starting optimization...\n"
     ]
    },
    {
     "name": "stderr",
     "output_type": "stream",
     "text": [
      "100% (200 of 200) |######################| Elapsed Time: 0:00:50 Time:  0:00:50\n"
     ]
    },
    {
     "name": "stdout",
     "output_type": "stream",
     "text": [
      " - final iteration number:  200\n",
      " - final log10 cost value:  -5.429349120989869\n",
      " - converged:  True\n",
      "Done.\n",
      "Execution time:  1588.3882789999989  seconds\n",
      "----------------------------------------\n",
      "\n"
     ]
    },
    {
     "data": {
      "application/vnd.jupyter.widget-view+json": {
       "model_id": "",
       "version_major": 2,
       "version_minor": 0
      },
      "text/plain": [
       "HBox(children=(FloatProgress(value=0.0, description='Stats', max=1.0, style=ProgressStyle(description_width='i…"
      ]
     },
     "metadata": {},
     "output_type": "display_data"
    },
    {
     "name": "stdout",
     "output_type": "stream",
     "text": [
      "\n"
     ]
    },
    {
     "data": {
      "application/vnd.jupyter.widget-view+json": {
       "model_id": "",
       "version_major": 2,
       "version_minor": 0
      },
      "text/plain": [
       "HBox(children=(FloatProgress(value=0.0, description='K-spaces', max=1.0, style=ProgressStyle(description_width…"
      ]
     },
     "metadata": {},
     "output_type": "display_data"
    },
    {
     "name": "stderr",
     "output_type": "stream",
     "text": [
      "\u001b[33mWARNING\u001b[0m: Making input data immutable.\n"
     ]
    },
    {
     "name": "stdout",
     "output_type": "stream",
     "text": [
      "\n",
      "  _____             ____     _____      _\n",
      " |\" ___|    ___    / __\"| u |_ \" _| U  /\"\\  u\n",
      "U| |_  u   |_\"_|  <\\___ \\/    | |    \\/ _ \\/\n",
      "\\|  _|/     | |    u___) |   /| |\\   / ___ \\\\\n",
      " |_|      U/| |\\u  |____/>> u |_|U  /_/   \\_\\\\\n",
      " )(\\\\\\,-.-,_|___|_,-.)(  (__)_// \\\\\\_  \\\\\\    >>\n",
      "(__)(_/ \\_)-' '-(_/(__)    (__) (__)(__)  (__)\n",
      "    \n",
      " - mu:  2.1544346900318866e-09\n",
      " - lipschitz constant:  1.099999999999984\n",
      " - data:  (640, 368)\n",
      " - wavelet:  <mri.reconstruct.linear.WaveletN object at 0x7fa415be8f60> - 4\n",
      " - max iterations:  200\n",
      " - image variable shape:  (640, 368)\n",
      " - alpha variable shape:  (235520,)\n",
      "----------------------------------------\n",
      "Starting optimization...\n"
     ]
    },
    {
     "name": "stderr",
     "output_type": "stream",
     "text": [
      "100% (200 of 200) |######################| Elapsed Time: 0:00:51 Time:  0:00:51\n"
     ]
    },
    {
     "name": "stdout",
     "output_type": "stream",
     "text": [
      " - final iteration number:  200\n",
      " - final log10 cost value:  -5.189712294561615\n",
      " - converged:  True\n",
      "Done.\n",
      "Execution time:  1588.8602040000042  seconds\n",
      "----------------------------------------\n",
      "\n"
     ]
    },
    {
     "data": {
      "application/vnd.jupyter.widget-view+json": {
       "model_id": "",
       "version_major": 2,
       "version_minor": 0
      },
      "text/plain": [
       "HBox(children=(FloatProgress(value=0.0, description='Stats', max=1.0, style=ProgressStyle(description_width='i…"
      ]
     },
     "metadata": {},
     "output_type": "display_data"
    },
    {
     "name": "stdout",
     "output_type": "stream",
     "text": [
      "\n"
     ]
    },
    {
     "data": {
      "application/vnd.jupyter.widget-view+json": {
       "model_id": "",
       "version_major": 2,
       "version_minor": 0
      },
      "text/plain": [
       "HBox(children=(FloatProgress(value=0.0, description='K-spaces', max=1.0, style=ProgressStyle(description_width…"
      ]
     },
     "metadata": {},
     "output_type": "display_data"
    },
    {
     "name": "stderr",
     "output_type": "stream",
     "text": [
      "\u001b[33mWARNING\u001b[0m: Making input data immutable.\n"
     ]
    },
    {
     "name": "stdout",
     "output_type": "stream",
     "text": [
      "\n",
      "  _____             ____     _____      _\n",
      " |\" ___|    ___    / __\"| u |_ \" _| U  /\"\\  u\n",
      "U| |_  u   |_\"_|  <\\___ \\/    | |    \\/ _ \\/\n",
      "\\|  _|/     | |    u___) |   /| |\\   / ___ \\\\\n",
      " |_|      U/| |\\u  |____/>> u |_|U  /_/   \\_\\\\\n",
      " )(\\\\\\,-.-,_|___|_,-.)(  (__)_// \\\\\\_  \\\\\\    >>\n",
      "(__)(_/ \\_)-' '-(_/(__)    (__) (__)(__)  (__)\n",
      "    \n",
      " - mu:  3.162277660168379e-08\n",
      " - lipschitz constant:  1.1000000000000276\n",
      " - data:  (640, 386)\n",
      " - wavelet:  <mri.reconstruct.linear.WaveletN object at 0x7fa415be9c50> - 4\n",
      " - max iterations:  200\n",
      " - image variable shape:  (640, 386)\n",
      " - alpha variable shape:  (247600,)\n",
      "----------------------------------------\n",
      "Starting optimization...\n"
     ]
    },
    {
     "name": "stderr",
     "output_type": "stream",
     "text": [
      "100% (200 of 200) |######################| Elapsed Time: 0:01:01 Time:  0:01:01\n"
     ]
    },
    {
     "name": "stdout",
     "output_type": "stream",
     "text": [
      " - final iteration number:  200\n",
      " - final log10 cost value:  -6.20020070029468\n",
      " - converged:  True\n",
      "Done.\n",
      "Execution time:  1847.4768669999976  seconds\n",
      "----------------------------------------\n",
      "\n"
     ]
    },
    {
     "data": {
      "application/vnd.jupyter.widget-view+json": {
       "model_id": "",
       "version_major": 2,
       "version_minor": 0
      },
      "text/plain": [
       "HBox(children=(FloatProgress(value=0.0, description='Stats', max=1.0, style=ProgressStyle(description_width='i…"
      ]
     },
     "metadata": {},
     "output_type": "display_data"
    },
    {
     "name": "stdout",
     "output_type": "stream",
     "text": [
      "\n"
     ]
    },
    {
     "data": {
      "application/vnd.jupyter.widget-view+json": {
       "model_id": "",
       "version_major": 2,
       "version_minor": 0
      },
      "text/plain": [
       "HBox(children=(FloatProgress(value=0.0, description='K-spaces', max=1.0, style=ProgressStyle(description_width…"
      ]
     },
     "metadata": {},
     "output_type": "display_data"
    },
    {
     "name": "stderr",
     "output_type": "stream",
     "text": [
      "\u001b[33mWARNING\u001b[0m: Making input data immutable.\n"
     ]
    },
    {
     "name": "stdout",
     "output_type": "stream",
     "text": [
      "\n",
      "  _____             ____     _____      _\n",
      " |\" ___|    ___    / __\"| u |_ \" _| U  /\"\\  u\n",
      "U| |_  u   |_\"_|  <\\___ \\/    | |    \\/ _ \\/\n",
      "\\|  _|/     | |    u___) |   /| |\\   / ___ \\\\\n",
      " |_|      U/| |\\u  |____/>> u |_|U  /_/   \\_\\\\\n",
      " )(\\\\\\,-.-,_|___|_,-.)(  (__)_// \\\\\\_  \\\\\\    >>\n",
      "(__)(_/ \\_)-' '-(_/(__)    (__) (__)(__)  (__)\n",
      "    \n",
      " - mu:  4.641588833612782e-07\n",
      " - lipschitz constant:  1.1000000000000871\n",
      " - data:  (640, 372)\n",
      " - wavelet:  <mri.reconstruct.linear.WaveletN object at 0x7fa416057128> - 4\n",
      " - max iterations:  200\n",
      " - image variable shape:  (640, 372)\n",
      " - alpha variable shape:  (238320,)\n",
      "----------------------------------------\n",
      "Starting optimization...\n"
     ]
    },
    {
     "name": "stderr",
     "output_type": "stream",
     "text": [
      "100% (200 of 200) |######################| Elapsed Time: 0:00:52 Time:  0:00:52\n"
     ]
    },
    {
     "name": "stdout",
     "output_type": "stream",
     "text": [
      " - final iteration number:  200\n",
      " - final log10 cost value:  -5.955600324376687\n",
      " - converged:  True\n",
      "Done.\n",
      "Execution time:  1677.0787120000023  seconds\n",
      "----------------------------------------\n",
      "\n"
     ]
    },
    {
     "data": {
      "application/vnd.jupyter.widget-view+json": {
       "model_id": "",
       "version_major": 2,
       "version_minor": 0
      },
      "text/plain": [
       "HBox(children=(FloatProgress(value=0.0, description='Stats', max=1.0, style=ProgressStyle(description_width='i…"
      ]
     },
     "metadata": {},
     "output_type": "display_data"
    },
    {
     "name": "stdout",
     "output_type": "stream",
     "text": [
      "\n"
     ]
    },
    {
     "data": {
      "application/vnd.jupyter.widget-view+json": {
       "model_id": "",
       "version_major": 2,
       "version_minor": 0
      },
      "text/plain": [
       "HBox(children=(FloatProgress(value=0.0, description='K-spaces', max=1.0, style=ProgressStyle(description_width…"
      ]
     },
     "metadata": {},
     "output_type": "display_data"
    },
    {
     "name": "stderr",
     "output_type": "stream",
     "text": [
      "\u001b[33mWARNING\u001b[0m: Making input data immutable.\n"
     ]
    },
    {
     "name": "stdout",
     "output_type": "stream",
     "text": [
      "\n",
      "  _____             ____     _____      _\n",
      " |\" ___|    ___    / __\"| u |_ \" _| U  /\"\\  u\n",
      "U| |_  u   |_\"_|  <\\___ \\/    | |    \\/ _ \\/\n",
      "\\|  _|/     | |    u___) |   /| |\\   / ___ \\\\\n",
      " |_|      U/| |\\u  |____/>> u |_|U  /_/   \\_\\\\\n",
      " )(\\\\\\,-.-,_|___|_,-.)(  (__)_// \\\\\\_  \\\\\\    >>\n",
      "(__)(_/ \\_)-' '-(_/(__)    (__) (__)(__)  (__)\n",
      "    \n",
      " - mu:  6.812920690579622e-06\n",
      " - lipschitz constant:  1.0999999999999772\n",
      " - data:  (640, 372)\n",
      " - wavelet:  <mri.reconstruct.linear.WaveletN object at 0x7fa415beac50> - 4\n",
      " - max iterations:  200\n",
      " - image variable shape:  (640, 372)\n",
      " - alpha variable shape:  (238320,)\n",
      "----------------------------------------\n",
      "Starting optimization...\n"
     ]
    },
    {
     "name": "stderr",
     "output_type": "stream",
     "text": [
      "100% (200 of 200) |######################| Elapsed Time: 0:00:52 Time:  0:00:52\n"
     ]
    },
    {
     "name": "stdout",
     "output_type": "stream",
     "text": [
      " - final iteration number:  200\n",
      " - final log10 cost value:  -5.022958029647691\n",
      " - converged:  True\n",
      "Done.\n",
      "Execution time:  1635.2248519999994  seconds\n",
      "----------------------------------------\n",
      "\n"
     ]
    },
    {
     "data": {
      "application/vnd.jupyter.widget-view+json": {
       "model_id": "",
       "version_major": 2,
       "version_minor": 0
      },
      "text/plain": [
       "HBox(children=(FloatProgress(value=0.0, description='Stats', max=1.0, style=ProgressStyle(description_width='i…"
      ]
     },
     "metadata": {},
     "output_type": "display_data"
    },
    {
     "name": "stdout",
     "output_type": "stream",
     "text": [
      "\n"
     ]
    },
    {
     "data": {
      "application/vnd.jupyter.widget-view+json": {
       "model_id": "",
       "version_major": 2,
       "version_minor": 0
      },
      "text/plain": [
       "HBox(children=(FloatProgress(value=0.0, description='K-spaces', max=1.0, style=ProgressStyle(description_width…"
      ]
     },
     "metadata": {},
     "output_type": "display_data"
    },
    {
     "name": "stderr",
     "output_type": "stream",
     "text": [
      "\u001b[33mWARNING\u001b[0m: Making input data immutable.\n"
     ]
    },
    {
     "name": "stdout",
     "output_type": "stream",
     "text": [
      "\n",
      "  _____             ____     _____      _\n",
      " |\" ___|    ___    / __\"| u |_ \" _| U  /\"\\  u\n",
      "U| |_  u   |_\"_|  <\\___ \\/    | |    \\/ _ \\/\n",
      "\\|  _|/     | |    u___) |   /| |\\   / ___ \\\\\n",
      " |_|      U/| |\\u  |____/>> u |_|U  /_/   \\_\\\\\n",
      " )(\\\\\\,-.-,_|___|_,-.)(  (__)_// \\\\\\_  \\\\\\    >>\n",
      "(__)(_/ \\_)-' '-(_/(__)    (__) (__)(__)  (__)\n",
      "    \n",
      " - mu:  0.0001\n",
      " - lipschitz constant:  1.099999999999985\n",
      " - data:  (640, 368)\n",
      " - wavelet:  <mri.reconstruct.linear.WaveletN object at 0x7fa415c17a58> - 4\n",
      " - max iterations:  200\n",
      " - image variable shape:  (640, 368)\n",
      " - alpha variable shape:  (235520,)\n",
      "----------------------------------------\n",
      "Starting optimization...\n"
     ]
    },
    {
     "name": "stderr",
     "output_type": "stream",
     "text": [
      "100% (200 of 200) |######################| Elapsed Time: 0:00:50 Time:  0:00:50\n"
     ]
    },
    {
     "name": "stdout",
     "output_type": "stream",
     "text": [
      " - final iteration number:  200\n",
      " - final log10 cost value:  -4.165688095962333\n",
      " - converged:  True\n",
      "Done.\n",
      "Execution time:  1610.2472899999993  seconds\n",
      "----------------------------------------\n",
      "\n"
     ]
    },
    {
     "data": {
      "application/vnd.jupyter.widget-view+json": {
       "model_id": "",
       "version_major": 2,
       "version_minor": 0
      },
      "text/plain": [
       "HBox(children=(FloatProgress(value=0.0, description='Stats', max=1.0, style=ProgressStyle(description_width='i…"
      ]
     },
     "metadata": {},
     "output_type": "display_data"
    },
    {
     "name": "stdout",
     "output_type": "stream",
     "text": [
      "\n",
      "\n",
      "CPU times: user 1h 27min 19s, sys: 1h 47min 35s, total: 3h 14min 55s\n",
      "Wall time: 6min 21s\n"
     ]
    }
   ],
   "source": [
    "%%time\n",
    "metrics = []\n",
    "for mu in tqdm(mus_to_test, desc='mus'):\n",
    "    metric = metrics_for_args(sub_prop=0.003, mu=mu)\n",
    "    metrics.append(metric)"
   ]
  },
  {
   "cell_type": "code",
   "execution_count": 50,
   "metadata": {},
   "outputs": [
    {
     "data": {
      "application/javascript": [
       "/* Put everything inside the global mpl namespace */\n",
       "window.mpl = {};\n",
       "\n",
       "\n",
       "mpl.get_websocket_type = function() {\n",
       "    if (typeof(WebSocket) !== 'undefined') {\n",
       "        return WebSocket;\n",
       "    } else if (typeof(MozWebSocket) !== 'undefined') {\n",
       "        return MozWebSocket;\n",
       "    } else {\n",
       "        alert('Your browser does not have WebSocket support. ' +\n",
       "              'Please try Chrome, Safari or Firefox ≥ 6. ' +\n",
       "              'Firefox 4 and 5 are also supported but you ' +\n",
       "              'have to enable WebSockets in about:config.');\n",
       "    };\n",
       "}\n",
       "\n",
       "mpl.figure = function(figure_id, websocket, ondownload, parent_element) {\n",
       "    this.id = figure_id;\n",
       "\n",
       "    this.ws = websocket;\n",
       "\n",
       "    this.supports_binary = (this.ws.binaryType != undefined);\n",
       "\n",
       "    if (!this.supports_binary) {\n",
       "        var warnings = document.getElementById(\"mpl-warnings\");\n",
       "        if (warnings) {\n",
       "            warnings.style.display = 'block';\n",
       "            warnings.textContent = (\n",
       "                \"This browser does not support binary websocket messages. \" +\n",
       "                    \"Performance may be slow.\");\n",
       "        }\n",
       "    }\n",
       "\n",
       "    this.imageObj = new Image();\n",
       "\n",
       "    this.context = undefined;\n",
       "    this.message = undefined;\n",
       "    this.canvas = undefined;\n",
       "    this.rubberband_canvas = undefined;\n",
       "    this.rubberband_context = undefined;\n",
       "    this.format_dropdown = undefined;\n",
       "\n",
       "    this.image_mode = 'full';\n",
       "\n",
       "    this.root = $('<div/>');\n",
       "    this._root_extra_style(this.root)\n",
       "    this.root.attr('style', 'display: inline-block');\n",
       "\n",
       "    $(parent_element).append(this.root);\n",
       "\n",
       "    this._init_header(this);\n",
       "    this._init_canvas(this);\n",
       "    this._init_toolbar(this);\n",
       "\n",
       "    var fig = this;\n",
       "\n",
       "    this.waiting = false;\n",
       "\n",
       "    this.ws.onopen =  function () {\n",
       "            fig.send_message(\"supports_binary\", {value: fig.supports_binary});\n",
       "            fig.send_message(\"send_image_mode\", {});\n",
       "            if (mpl.ratio != 1) {\n",
       "                fig.send_message(\"set_dpi_ratio\", {'dpi_ratio': mpl.ratio});\n",
       "            }\n",
       "            fig.send_message(\"refresh\", {});\n",
       "        }\n",
       "\n",
       "    this.imageObj.onload = function() {\n",
       "            if (fig.image_mode == 'full') {\n",
       "                // Full images could contain transparency (where diff images\n",
       "                // almost always do), so we need to clear the canvas so that\n",
       "                // there is no ghosting.\n",
       "                fig.context.clearRect(0, 0, fig.canvas.width, fig.canvas.height);\n",
       "            }\n",
       "            fig.context.drawImage(fig.imageObj, 0, 0);\n",
       "        };\n",
       "\n",
       "    this.imageObj.onunload = function() {\n",
       "        fig.ws.close();\n",
       "    }\n",
       "\n",
       "    this.ws.onmessage = this._make_on_message_function(this);\n",
       "\n",
       "    this.ondownload = ondownload;\n",
       "}\n",
       "\n",
       "mpl.figure.prototype._init_header = function() {\n",
       "    var titlebar = $(\n",
       "        '<div class=\"ui-dialog-titlebar ui-widget-header ui-corner-all ' +\n",
       "        'ui-helper-clearfix\"/>');\n",
       "    var titletext = $(\n",
       "        '<div class=\"ui-dialog-title\" style=\"width: 100%; ' +\n",
       "        'text-align: center; padding: 3px;\"/>');\n",
       "    titlebar.append(titletext)\n",
       "    this.root.append(titlebar);\n",
       "    this.header = titletext[0];\n",
       "}\n",
       "\n",
       "\n",
       "\n",
       "mpl.figure.prototype._canvas_extra_style = function(canvas_div) {\n",
       "\n",
       "}\n",
       "\n",
       "\n",
       "mpl.figure.prototype._root_extra_style = function(canvas_div) {\n",
       "\n",
       "}\n",
       "\n",
       "mpl.figure.prototype._init_canvas = function() {\n",
       "    var fig = this;\n",
       "\n",
       "    var canvas_div = $('<div/>');\n",
       "\n",
       "    canvas_div.attr('style', 'position: relative; clear: both; outline: 0');\n",
       "\n",
       "    function canvas_keyboard_event(event) {\n",
       "        return fig.key_event(event, event['data']);\n",
       "    }\n",
       "\n",
       "    canvas_div.keydown('key_press', canvas_keyboard_event);\n",
       "    canvas_div.keyup('key_release', canvas_keyboard_event);\n",
       "    this.canvas_div = canvas_div\n",
       "    this._canvas_extra_style(canvas_div)\n",
       "    this.root.append(canvas_div);\n",
       "\n",
       "    var canvas = $('<canvas/>');\n",
       "    canvas.addClass('mpl-canvas');\n",
       "    canvas.attr('style', \"left: 0; top: 0; z-index: 0; outline: 0\")\n",
       "\n",
       "    this.canvas = canvas[0];\n",
       "    this.context = canvas[0].getContext(\"2d\");\n",
       "\n",
       "    var backingStore = this.context.backingStorePixelRatio ||\n",
       "\tthis.context.webkitBackingStorePixelRatio ||\n",
       "\tthis.context.mozBackingStorePixelRatio ||\n",
       "\tthis.context.msBackingStorePixelRatio ||\n",
       "\tthis.context.oBackingStorePixelRatio ||\n",
       "\tthis.context.backingStorePixelRatio || 1;\n",
       "\n",
       "    mpl.ratio = (window.devicePixelRatio || 1) / backingStore;\n",
       "\n",
       "    var rubberband = $('<canvas/>');\n",
       "    rubberband.attr('style', \"position: absolute; left: 0; top: 0; z-index: 1;\")\n",
       "\n",
       "    var pass_mouse_events = true;\n",
       "\n",
       "    canvas_div.resizable({\n",
       "        start: function(event, ui) {\n",
       "            pass_mouse_events = false;\n",
       "        },\n",
       "        resize: function(event, ui) {\n",
       "            fig.request_resize(ui.size.width, ui.size.height);\n",
       "        },\n",
       "        stop: function(event, ui) {\n",
       "            pass_mouse_events = true;\n",
       "            fig.request_resize(ui.size.width, ui.size.height);\n",
       "        },\n",
       "    });\n",
       "\n",
       "    function mouse_event_fn(event) {\n",
       "        if (pass_mouse_events)\n",
       "            return fig.mouse_event(event, event['data']);\n",
       "    }\n",
       "\n",
       "    rubberband.mousedown('button_press', mouse_event_fn);\n",
       "    rubberband.mouseup('button_release', mouse_event_fn);\n",
       "    // Throttle sequential mouse events to 1 every 20ms.\n",
       "    rubberband.mousemove('motion_notify', mouse_event_fn);\n",
       "\n",
       "    rubberband.mouseenter('figure_enter', mouse_event_fn);\n",
       "    rubberband.mouseleave('figure_leave', mouse_event_fn);\n",
       "\n",
       "    canvas_div.on(\"wheel\", function (event) {\n",
       "        event = event.originalEvent;\n",
       "        event['data'] = 'scroll'\n",
       "        if (event.deltaY < 0) {\n",
       "            event.step = 1;\n",
       "        } else {\n",
       "            event.step = -1;\n",
       "        }\n",
       "        mouse_event_fn(event);\n",
       "    });\n",
       "\n",
       "    canvas_div.append(canvas);\n",
       "    canvas_div.append(rubberband);\n",
       "\n",
       "    this.rubberband = rubberband;\n",
       "    this.rubberband_canvas = rubberband[0];\n",
       "    this.rubberband_context = rubberband[0].getContext(\"2d\");\n",
       "    this.rubberband_context.strokeStyle = \"#000000\";\n",
       "\n",
       "    this._resize_canvas = function(width, height) {\n",
       "        // Keep the size of the canvas, canvas container, and rubber band\n",
       "        // canvas in synch.\n",
       "        canvas_div.css('width', width)\n",
       "        canvas_div.css('height', height)\n",
       "\n",
       "        canvas.attr('width', width * mpl.ratio);\n",
       "        canvas.attr('height', height * mpl.ratio);\n",
       "        canvas.attr('style', 'width: ' + width + 'px; height: ' + height + 'px;');\n",
       "\n",
       "        rubberband.attr('width', width);\n",
       "        rubberband.attr('height', height);\n",
       "    }\n",
       "\n",
       "    // Set the figure to an initial 600x600px, this will subsequently be updated\n",
       "    // upon first draw.\n",
       "    this._resize_canvas(600, 600);\n",
       "\n",
       "    // Disable right mouse context menu.\n",
       "    $(this.rubberband_canvas).bind(\"contextmenu\",function(e){\n",
       "        return false;\n",
       "    });\n",
       "\n",
       "    function set_focus () {\n",
       "        canvas.focus();\n",
       "        canvas_div.focus();\n",
       "    }\n",
       "\n",
       "    window.setTimeout(set_focus, 100);\n",
       "}\n",
       "\n",
       "mpl.figure.prototype._init_toolbar = function() {\n",
       "    var fig = this;\n",
       "\n",
       "    var nav_element = $('<div/>');\n",
       "    nav_element.attr('style', 'width: 100%');\n",
       "    this.root.append(nav_element);\n",
       "\n",
       "    // Define a callback function for later on.\n",
       "    function toolbar_event(event) {\n",
       "        return fig.toolbar_button_onclick(event['data']);\n",
       "    }\n",
       "    function toolbar_mouse_event(event) {\n",
       "        return fig.toolbar_button_onmouseover(event['data']);\n",
       "    }\n",
       "\n",
       "    for(var toolbar_ind in mpl.toolbar_items) {\n",
       "        var name = mpl.toolbar_items[toolbar_ind][0];\n",
       "        var tooltip = mpl.toolbar_items[toolbar_ind][1];\n",
       "        var image = mpl.toolbar_items[toolbar_ind][2];\n",
       "        var method_name = mpl.toolbar_items[toolbar_ind][3];\n",
       "\n",
       "        if (!name) {\n",
       "            // put a spacer in here.\n",
       "            continue;\n",
       "        }\n",
       "        var button = $('<button/>');\n",
       "        button.addClass('ui-button ui-widget ui-state-default ui-corner-all ' +\n",
       "                        'ui-button-icon-only');\n",
       "        button.attr('role', 'button');\n",
       "        button.attr('aria-disabled', 'false');\n",
       "        button.click(method_name, toolbar_event);\n",
       "        button.mouseover(tooltip, toolbar_mouse_event);\n",
       "\n",
       "        var icon_img = $('<span/>');\n",
       "        icon_img.addClass('ui-button-icon-primary ui-icon');\n",
       "        icon_img.addClass(image);\n",
       "        icon_img.addClass('ui-corner-all');\n",
       "\n",
       "        var tooltip_span = $('<span/>');\n",
       "        tooltip_span.addClass('ui-button-text');\n",
       "        tooltip_span.html(tooltip);\n",
       "\n",
       "        button.append(icon_img);\n",
       "        button.append(tooltip_span);\n",
       "\n",
       "        nav_element.append(button);\n",
       "    }\n",
       "\n",
       "    var fmt_picker_span = $('<span/>');\n",
       "\n",
       "    var fmt_picker = $('<select/>');\n",
       "    fmt_picker.addClass('mpl-toolbar-option ui-widget ui-widget-content');\n",
       "    fmt_picker_span.append(fmt_picker);\n",
       "    nav_element.append(fmt_picker_span);\n",
       "    this.format_dropdown = fmt_picker[0];\n",
       "\n",
       "    for (var ind in mpl.extensions) {\n",
       "        var fmt = mpl.extensions[ind];\n",
       "        var option = $(\n",
       "            '<option/>', {selected: fmt === mpl.default_extension}).html(fmt);\n",
       "        fmt_picker.append(option);\n",
       "    }\n",
       "\n",
       "    // Add hover states to the ui-buttons\n",
       "    $( \".ui-button\" ).hover(\n",
       "        function() { $(this).addClass(\"ui-state-hover\");},\n",
       "        function() { $(this).removeClass(\"ui-state-hover\");}\n",
       "    );\n",
       "\n",
       "    var status_bar = $('<span class=\"mpl-message\"/>');\n",
       "    nav_element.append(status_bar);\n",
       "    this.message = status_bar[0];\n",
       "}\n",
       "\n",
       "mpl.figure.prototype.request_resize = function(x_pixels, y_pixels) {\n",
       "    // Request matplotlib to resize the figure. Matplotlib will then trigger a resize in the client,\n",
       "    // which will in turn request a refresh of the image.\n",
       "    this.send_message('resize', {'width': x_pixels, 'height': y_pixels});\n",
       "}\n",
       "\n",
       "mpl.figure.prototype.send_message = function(type, properties) {\n",
       "    properties['type'] = type;\n",
       "    properties['figure_id'] = this.id;\n",
       "    this.ws.send(JSON.stringify(properties));\n",
       "}\n",
       "\n",
       "mpl.figure.prototype.send_draw_message = function() {\n",
       "    if (!this.waiting) {\n",
       "        this.waiting = true;\n",
       "        this.ws.send(JSON.stringify({type: \"draw\", figure_id: this.id}));\n",
       "    }\n",
       "}\n",
       "\n",
       "\n",
       "mpl.figure.prototype.handle_save = function(fig, msg) {\n",
       "    var format_dropdown = fig.format_dropdown;\n",
       "    var format = format_dropdown.options[format_dropdown.selectedIndex].value;\n",
       "    fig.ondownload(fig, format);\n",
       "}\n",
       "\n",
       "\n",
       "mpl.figure.prototype.handle_resize = function(fig, msg) {\n",
       "    var size = msg['size'];\n",
       "    if (size[0] != fig.canvas.width || size[1] != fig.canvas.height) {\n",
       "        fig._resize_canvas(size[0], size[1]);\n",
       "        fig.send_message(\"refresh\", {});\n",
       "    };\n",
       "}\n",
       "\n",
       "mpl.figure.prototype.handle_rubberband = function(fig, msg) {\n",
       "    var x0 = msg['x0'] / mpl.ratio;\n",
       "    var y0 = (fig.canvas.height - msg['y0']) / mpl.ratio;\n",
       "    var x1 = msg['x1'] / mpl.ratio;\n",
       "    var y1 = (fig.canvas.height - msg['y1']) / mpl.ratio;\n",
       "    x0 = Math.floor(x0) + 0.5;\n",
       "    y0 = Math.floor(y0) + 0.5;\n",
       "    x1 = Math.floor(x1) + 0.5;\n",
       "    y1 = Math.floor(y1) + 0.5;\n",
       "    var min_x = Math.min(x0, x1);\n",
       "    var min_y = Math.min(y0, y1);\n",
       "    var width = Math.abs(x1 - x0);\n",
       "    var height = Math.abs(y1 - y0);\n",
       "\n",
       "    fig.rubberband_context.clearRect(\n",
       "        0, 0, fig.canvas.width / mpl.ratio, fig.canvas.height / mpl.ratio);\n",
       "\n",
       "    fig.rubberband_context.strokeRect(min_x, min_y, width, height);\n",
       "}\n",
       "\n",
       "mpl.figure.prototype.handle_figure_label = function(fig, msg) {\n",
       "    // Updates the figure title.\n",
       "    fig.header.textContent = msg['label'];\n",
       "}\n",
       "\n",
       "mpl.figure.prototype.handle_cursor = function(fig, msg) {\n",
       "    var cursor = msg['cursor'];\n",
       "    switch(cursor)\n",
       "    {\n",
       "    case 0:\n",
       "        cursor = 'pointer';\n",
       "        break;\n",
       "    case 1:\n",
       "        cursor = 'default';\n",
       "        break;\n",
       "    case 2:\n",
       "        cursor = 'crosshair';\n",
       "        break;\n",
       "    case 3:\n",
       "        cursor = 'move';\n",
       "        break;\n",
       "    }\n",
       "    fig.rubberband_canvas.style.cursor = cursor;\n",
       "}\n",
       "\n",
       "mpl.figure.prototype.handle_message = function(fig, msg) {\n",
       "    fig.message.textContent = msg['message'];\n",
       "}\n",
       "\n",
       "mpl.figure.prototype.handle_draw = function(fig, msg) {\n",
       "    // Request the server to send over a new figure.\n",
       "    fig.send_draw_message();\n",
       "}\n",
       "\n",
       "mpl.figure.prototype.handle_image_mode = function(fig, msg) {\n",
       "    fig.image_mode = msg['mode'];\n",
       "}\n",
       "\n",
       "mpl.figure.prototype.updated_canvas_event = function() {\n",
       "    // Called whenever the canvas gets updated.\n",
       "    this.send_message(\"ack\", {});\n",
       "}\n",
       "\n",
       "// A function to construct a web socket function for onmessage handling.\n",
       "// Called in the figure constructor.\n",
       "mpl.figure.prototype._make_on_message_function = function(fig) {\n",
       "    return function socket_on_message(evt) {\n",
       "        if (evt.data instanceof Blob) {\n",
       "            /* FIXME: We get \"Resource interpreted as Image but\n",
       "             * transferred with MIME type text/plain:\" errors on\n",
       "             * Chrome.  But how to set the MIME type?  It doesn't seem\n",
       "             * to be part of the websocket stream */\n",
       "            evt.data.type = \"image/png\";\n",
       "\n",
       "            /* Free the memory for the previous frames */\n",
       "            if (fig.imageObj.src) {\n",
       "                (window.URL || window.webkitURL).revokeObjectURL(\n",
       "                    fig.imageObj.src);\n",
       "            }\n",
       "\n",
       "            fig.imageObj.src = (window.URL || window.webkitURL).createObjectURL(\n",
       "                evt.data);\n",
       "            fig.updated_canvas_event();\n",
       "            fig.waiting = false;\n",
       "            return;\n",
       "        }\n",
       "        else if (typeof evt.data === 'string' && evt.data.slice(0, 21) == \"data:image/png;base64\") {\n",
       "            fig.imageObj.src = evt.data;\n",
       "            fig.updated_canvas_event();\n",
       "            fig.waiting = false;\n",
       "            return;\n",
       "        }\n",
       "\n",
       "        var msg = JSON.parse(evt.data);\n",
       "        var msg_type = msg['type'];\n",
       "\n",
       "        // Call the  \"handle_{type}\" callback, which takes\n",
       "        // the figure and JSON message as its only arguments.\n",
       "        try {\n",
       "            var callback = fig[\"handle_\" + msg_type];\n",
       "        } catch (e) {\n",
       "            console.log(\"No handler for the '\" + msg_type + \"' message type: \", msg);\n",
       "            return;\n",
       "        }\n",
       "\n",
       "        if (callback) {\n",
       "            try {\n",
       "                // console.log(\"Handling '\" + msg_type + \"' message: \", msg);\n",
       "                callback(fig, msg);\n",
       "            } catch (e) {\n",
       "                console.log(\"Exception inside the 'handler_\" + msg_type + \"' callback:\", e, e.stack, msg);\n",
       "            }\n",
       "        }\n",
       "    };\n",
       "}\n",
       "\n",
       "// from http://stackoverflow.com/questions/1114465/getting-mouse-location-in-canvas\n",
       "mpl.findpos = function(e) {\n",
       "    //this section is from http://www.quirksmode.org/js/events_properties.html\n",
       "    var targ;\n",
       "    if (!e)\n",
       "        e = window.event;\n",
       "    if (e.target)\n",
       "        targ = e.target;\n",
       "    else if (e.srcElement)\n",
       "        targ = e.srcElement;\n",
       "    if (targ.nodeType == 3) // defeat Safari bug\n",
       "        targ = targ.parentNode;\n",
       "\n",
       "    // jQuery normalizes the pageX and pageY\n",
       "    // pageX,Y are the mouse positions relative to the document\n",
       "    // offset() returns the position of the element relative to the document\n",
       "    var x = e.pageX - $(targ).offset().left;\n",
       "    var y = e.pageY - $(targ).offset().top;\n",
       "\n",
       "    return {\"x\": x, \"y\": y};\n",
       "};\n",
       "\n",
       "/*\n",
       " * return a copy of an object with only non-object keys\n",
       " * we need this to avoid circular references\n",
       " * http://stackoverflow.com/a/24161582/3208463\n",
       " */\n",
       "function simpleKeys (original) {\n",
       "  return Object.keys(original).reduce(function (obj, key) {\n",
       "    if (typeof original[key] !== 'object')\n",
       "        obj[key] = original[key]\n",
       "    return obj;\n",
       "  }, {});\n",
       "}\n",
       "\n",
       "mpl.figure.prototype.mouse_event = function(event, name) {\n",
       "    var canvas_pos = mpl.findpos(event)\n",
       "\n",
       "    if (name === 'button_press')\n",
       "    {\n",
       "        this.canvas.focus();\n",
       "        this.canvas_div.focus();\n",
       "    }\n",
       "\n",
       "    var x = canvas_pos.x * mpl.ratio;\n",
       "    var y = canvas_pos.y * mpl.ratio;\n",
       "\n",
       "    this.send_message(name, {x: x, y: y, button: event.button,\n",
       "                             step: event.step,\n",
       "                             guiEvent: simpleKeys(event)});\n",
       "\n",
       "    /* This prevents the web browser from automatically changing to\n",
       "     * the text insertion cursor when the button is pressed.  We want\n",
       "     * to control all of the cursor setting manually through the\n",
       "     * 'cursor' event from matplotlib */\n",
       "    event.preventDefault();\n",
       "    return false;\n",
       "}\n",
       "\n",
       "mpl.figure.prototype._key_event_extra = function(event, name) {\n",
       "    // Handle any extra behaviour associated with a key event\n",
       "}\n",
       "\n",
       "mpl.figure.prototype.key_event = function(event, name) {\n",
       "\n",
       "    // Prevent repeat events\n",
       "    if (name == 'key_press')\n",
       "    {\n",
       "        if (event.which === this._key)\n",
       "            return;\n",
       "        else\n",
       "            this._key = event.which;\n",
       "    }\n",
       "    if (name == 'key_release')\n",
       "        this._key = null;\n",
       "\n",
       "    var value = '';\n",
       "    if (event.ctrlKey && event.which != 17)\n",
       "        value += \"ctrl+\";\n",
       "    if (event.altKey && event.which != 18)\n",
       "        value += \"alt+\";\n",
       "    if (event.shiftKey && event.which != 16)\n",
       "        value += \"shift+\";\n",
       "\n",
       "    value += 'k';\n",
       "    value += event.which.toString();\n",
       "\n",
       "    this._key_event_extra(event, name);\n",
       "\n",
       "    this.send_message(name, {key: value,\n",
       "                             guiEvent: simpleKeys(event)});\n",
       "    return false;\n",
       "}\n",
       "\n",
       "mpl.figure.prototype.toolbar_button_onclick = function(name) {\n",
       "    if (name == 'download') {\n",
       "        this.handle_save(this, null);\n",
       "    } else {\n",
       "        this.send_message(\"toolbar_button\", {name: name});\n",
       "    }\n",
       "};\n",
       "\n",
       "mpl.figure.prototype.toolbar_button_onmouseover = function(tooltip) {\n",
       "    this.message.textContent = tooltip;\n",
       "};\n",
       "mpl.toolbar_items = [[\"Home\", \"Reset original view\", \"fa fa-home icon-home\", \"home\"], [\"Back\", \"Back to previous view\", \"fa fa-arrow-left icon-arrow-left\", \"back\"], [\"Forward\", \"Forward to next view\", \"fa fa-arrow-right icon-arrow-right\", \"forward\"], [\"\", \"\", \"\", \"\"], [\"Pan\", \"Pan axes with left mouse, zoom with right\", \"fa fa-arrows icon-move\", \"pan\"], [\"Zoom\", \"Zoom to rectangle\", \"fa fa-square-o icon-check-empty\", \"zoom\"], [\"\", \"\", \"\", \"\"], [\"Download\", \"Download plot\", \"fa fa-floppy-o icon-save\", \"download\"]];\n",
       "\n",
       "mpl.extensions = [\"eps\", \"jpeg\", \"pdf\", \"png\", \"ps\", \"raw\", \"svg\", \"tif\"];\n",
       "\n",
       "mpl.default_extension = \"png\";var comm_websocket_adapter = function(comm) {\n",
       "    // Create a \"websocket\"-like object which calls the given IPython comm\n",
       "    // object with the appropriate methods. Currently this is a non binary\n",
       "    // socket, so there is still some room for performance tuning.\n",
       "    var ws = {};\n",
       "\n",
       "    ws.close = function() {\n",
       "        comm.close()\n",
       "    };\n",
       "    ws.send = function(m) {\n",
       "        //console.log('sending', m);\n",
       "        comm.send(m);\n",
       "    };\n",
       "    // Register the callback with on_msg.\n",
       "    comm.on_msg(function(msg) {\n",
       "        //console.log('receiving', msg['content']['data'], msg);\n",
       "        // Pass the mpl event to the overridden (by mpl) onmessage function.\n",
       "        ws.onmessage(msg['content']['data'])\n",
       "    });\n",
       "    return ws;\n",
       "}\n",
       "\n",
       "mpl.mpl_figure_comm = function(comm, msg) {\n",
       "    // This is the function which gets called when the mpl process\n",
       "    // starts-up an IPython Comm through the \"matplotlib\" channel.\n",
       "\n",
       "    var id = msg.content.data.id;\n",
       "    // Get hold of the div created by the display call when the Comm\n",
       "    // socket was opened in Python.\n",
       "    var element = $(\"#\" + id);\n",
       "    var ws_proxy = comm_websocket_adapter(comm)\n",
       "\n",
       "    function ondownload(figure, format) {\n",
       "        window.open(figure.imageObj.src);\n",
       "    }\n",
       "\n",
       "    var fig = new mpl.figure(id, ws_proxy,\n",
       "                           ondownload,\n",
       "                           element.get(0));\n",
       "\n",
       "    // Call onopen now - mpl needs it, as it is assuming we've passed it a real\n",
       "    // web socket which is closed, not our websocket->open comm proxy.\n",
       "    ws_proxy.onopen();\n",
       "\n",
       "    fig.parent_element = element.get(0);\n",
       "    fig.cell_info = mpl.find_output_cell(\"<div id='\" + id + \"'></div>\");\n",
       "    if (!fig.cell_info) {\n",
       "        console.error(\"Failed to find cell for figure\", id, fig);\n",
       "        return;\n",
       "    }\n",
       "\n",
       "    var output_index = fig.cell_info[2]\n",
       "    var cell = fig.cell_info[0];\n",
       "\n",
       "};\n",
       "\n",
       "mpl.figure.prototype.handle_close = function(fig, msg) {\n",
       "    var width = fig.canvas.width/mpl.ratio\n",
       "    fig.root.unbind('remove')\n",
       "\n",
       "    // Update the output cell to use the data from the current canvas.\n",
       "    fig.push_to_output();\n",
       "    var dataURL = fig.canvas.toDataURL();\n",
       "    // Re-enable the keyboard manager in IPython - without this line, in FF,\n",
       "    // the notebook keyboard shortcuts fail.\n",
       "    IPython.keyboard_manager.enable()\n",
       "    $(fig.parent_element).html('<img src=\"' + dataURL + '\" width=\"' + width + '\">');\n",
       "    fig.close_ws(fig, msg);\n",
       "}\n",
       "\n",
       "mpl.figure.prototype.close_ws = function(fig, msg){\n",
       "    fig.send_message('closing', msg);\n",
       "    // fig.ws.close()\n",
       "}\n",
       "\n",
       "mpl.figure.prototype.push_to_output = function(remove_interactive) {\n",
       "    // Turn the data on the canvas into data in the output cell.\n",
       "    var width = this.canvas.width/mpl.ratio\n",
       "    var dataURL = this.canvas.toDataURL();\n",
       "    this.cell_info[1]['text/html'] = '<img src=\"' + dataURL + '\" width=\"' + width + '\">';\n",
       "}\n",
       "\n",
       "mpl.figure.prototype.updated_canvas_event = function() {\n",
       "    // Tell IPython that the notebook contents must change.\n",
       "    IPython.notebook.set_dirty(true);\n",
       "    this.send_message(\"ack\", {});\n",
       "    var fig = this;\n",
       "    // Wait a second, then push the new image to the DOM so\n",
       "    // that it is saved nicely (might be nice to debounce this).\n",
       "    setTimeout(function () { fig.push_to_output() }, 1000);\n",
       "}\n",
       "\n",
       "mpl.figure.prototype._init_toolbar = function() {\n",
       "    var fig = this;\n",
       "\n",
       "    var nav_element = $('<div/>');\n",
       "    nav_element.attr('style', 'width: 100%');\n",
       "    this.root.append(nav_element);\n",
       "\n",
       "    // Define a callback function for later on.\n",
       "    function toolbar_event(event) {\n",
       "        return fig.toolbar_button_onclick(event['data']);\n",
       "    }\n",
       "    function toolbar_mouse_event(event) {\n",
       "        return fig.toolbar_button_onmouseover(event['data']);\n",
       "    }\n",
       "\n",
       "    for(var toolbar_ind in mpl.toolbar_items){\n",
       "        var name = mpl.toolbar_items[toolbar_ind][0];\n",
       "        var tooltip = mpl.toolbar_items[toolbar_ind][1];\n",
       "        var image = mpl.toolbar_items[toolbar_ind][2];\n",
       "        var method_name = mpl.toolbar_items[toolbar_ind][3];\n",
       "\n",
       "        if (!name) { continue; };\n",
       "\n",
       "        var button = $('<button class=\"btn btn-default\" href=\"#\" title=\"' + name + '\"><i class=\"fa ' + image + ' fa-lg\"></i></button>');\n",
       "        button.click(method_name, toolbar_event);\n",
       "        button.mouseover(tooltip, toolbar_mouse_event);\n",
       "        nav_element.append(button);\n",
       "    }\n",
       "\n",
       "    // Add the status bar.\n",
       "    var status_bar = $('<span class=\"mpl-message\" style=\"text-align:right; float: right;\"/>');\n",
       "    nav_element.append(status_bar);\n",
       "    this.message = status_bar[0];\n",
       "\n",
       "    // Add the close button to the window.\n",
       "    var buttongrp = $('<div class=\"btn-group inline pull-right\"></div>');\n",
       "    var button = $('<button class=\"btn btn-mini btn-primary\" href=\"#\" title=\"Stop Interaction\"><i class=\"fa fa-power-off icon-remove icon-large\"></i></button>');\n",
       "    button.click(function (evt) { fig.handle_close(fig, {}); } );\n",
       "    button.mouseover('Stop Interaction', toolbar_mouse_event);\n",
       "    buttongrp.append(button);\n",
       "    var titlebar = this.root.find($('.ui-dialog-titlebar'));\n",
       "    titlebar.prepend(buttongrp);\n",
       "}\n",
       "\n",
       "mpl.figure.prototype._root_extra_style = function(el){\n",
       "    var fig = this\n",
       "    el.on(\"remove\", function(){\n",
       "\tfig.close_ws(fig, {});\n",
       "    });\n",
       "}\n",
       "\n",
       "mpl.figure.prototype._canvas_extra_style = function(el){\n",
       "    // this is important to make the div 'focusable\n",
       "    el.attr('tabindex', 0)\n",
       "    // reach out to IPython and tell the keyboard manager to turn it's self\n",
       "    // off when our div gets focus\n",
       "\n",
       "    // location in version 3\n",
       "    if (IPython.notebook.keyboard_manager) {\n",
       "        IPython.notebook.keyboard_manager.register_events(el);\n",
       "    }\n",
       "    else {\n",
       "        // location in version 2\n",
       "        IPython.keyboard_manager.register_events(el);\n",
       "    }\n",
       "\n",
       "}\n",
       "\n",
       "mpl.figure.prototype._key_event_extra = function(event, name) {\n",
       "    var manager = IPython.notebook.keyboard_manager;\n",
       "    if (!manager)\n",
       "        manager = IPython.keyboard_manager;\n",
       "\n",
       "    // Check for shift+enter\n",
       "    if (event.shiftKey && event.which == 13) {\n",
       "        this.canvas_div.blur();\n",
       "        // select the cell after this one\n",
       "        var index = IPython.notebook.find_cell_index(this.cell_info[0]);\n",
       "        IPython.notebook.select(index + 1);\n",
       "    }\n",
       "}\n",
       "\n",
       "mpl.figure.prototype.handle_save = function(fig, msg) {\n",
       "    fig.ondownload(fig, null);\n",
       "}\n",
       "\n",
       "\n",
       "mpl.find_output_cell = function(html_output) {\n",
       "    // Return the cell and output element which can be found *uniquely* in the notebook.\n",
       "    // Note - this is a bit hacky, but it is done because the \"notebook_saving.Notebook\"\n",
       "    // IPython event is triggered only after the cells have been serialised, which for\n",
       "    // our purposes (turning an active figure into a static one), is too late.\n",
       "    var cells = IPython.notebook.get_cells();\n",
       "    var ncells = cells.length;\n",
       "    for (var i=0; i<ncells; i++) {\n",
       "        var cell = cells[i];\n",
       "        if (cell.cell_type === 'code'){\n",
       "            for (var j=0; j<cell.output_area.outputs.length; j++) {\n",
       "                var data = cell.output_area.outputs[j];\n",
       "                if (data.data) {\n",
       "                    // IPython >= 3 moved mimebundle to data attribute of output\n",
       "                    data = data.data;\n",
       "                }\n",
       "                if (data['text/html'] == html_output) {\n",
       "                    return [cell, data, j];\n",
       "                }\n",
       "            }\n",
       "        }\n",
       "    }\n",
       "}\n",
       "\n",
       "// Register the function which deals with the matplotlib target/channel.\n",
       "// The kernel may be null if the page has been refreshed.\n",
       "if (IPython.notebook.kernel != null) {\n",
       "    IPython.notebook.kernel.comm_manager.register_target('matplotlib', mpl.mpl_figure_comm);\n",
       "}\n"
      ],
      "text/plain": [
       "<IPython.core.display.Javascript object>"
      ]
     },
     "metadata": {},
     "output_type": "display_data"
    },
    {
     "data": {
      "text/html": [
       "<img src=\"data:image/png;base64,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\" width=\"899.9999804930258\">"
      ],
      "text/plain": [
       "<IPython.core.display.HTML object>"
      ]
     },
     "metadata": {},
     "output_type": "display_data"
    }
   ],
   "source": [
    "plt.figure()\n",
    "plt.errorbar(\n",
    "    mus_to_test, \n",
    "    [metric.metrics['PSNR'].mean() for metric in metrics], \n",
    "#     [metric.metrics['PSNR'].stddev() for metric in metrics],\n",
    "    linestyle='None', \n",
    "    marker='o',\n",
    ")\n",
    "plt.xscale('log')"
   ]
  },
  {
   "cell_type": "code",
   "execution_count": 48,
   "metadata": {},
   "outputs": [],
   "source": [
    "mus_to_test = np.logspace(-11, -7, 7)"
   ]
  },
  {
   "cell_type": "code",
   "execution_count": 51,
   "metadata": {
    "scrolled": true
   },
   "outputs": [
    {
     "name": "stderr",
     "output_type": "stream",
     "text": [
      "/volatile/home/Zaccharie/workspace/fastmri-reproducible-benchmark/venv/lib/python3.6/site-packages/ipykernel_launcher.py:2: TqdmDeprecationWarning: This function will be removed in tqdm==5.0.0\n",
      "Please use `tqdm.notebook.tqdm` instead of `tqdm.tqdm_notebook`\n",
      "  \n"
     ]
    },
    {
     "data": {
      "application/vnd.jupyter.widget-view+json": {
       "model_id": "",
       "version_major": 2,
       "version_minor": 0
      },
      "text/plain": [
       "HBox(children=(FloatProgress(value=0.0, description='mus', max=7.0, style=ProgressStyle(description_width='ini…"
      ]
     },
     "metadata": {},
     "output_type": "display_data"
    },
    {
     "name": "stderr",
     "output_type": "stream",
     "text": [
      "/volatile/home/Zaccharie/workspace/fastmri-reproducible-benchmark/venv/lib/python3.6/site-packages/ipykernel_launcher.py:6: TqdmDeprecationWarning: This function will be removed in tqdm==5.0.0\n",
      "Please use `tqdm.notebook.tqdm` instead of `tqdm.tqdm_notebook`\n",
      "  \n"
     ]
    },
    {
     "data": {
      "application/vnd.jupyter.widget-view+json": {
       "model_id": "",
       "version_major": 2,
       "version_minor": 0
      },
      "text/plain": [
       "HBox(children=(FloatProgress(value=0.0, description='K-spaces', max=4.0, style=ProgressStyle(description_width…"
      ]
     },
     "metadata": {},
     "output_type": "display_data"
    },
    {
     "name": "stderr",
     "output_type": "stream",
     "text": [
      "/volatile/home/Zaccharie/workspace/fastmri-reproducible-benchmark/fastmri_recon/data/data_utils.py:18: H5pyDeprecationWarning: The default file mode will change to 'r' (read-only) in h5py 3.0. To suppress this warning, pass the mode you need to h5py.File(), or set the global default h5.get_config().default_file_mode, or set the environment variable H5PY_DEFAULT_READONLY=1. Available modes are: 'r', 'r+', 'w', 'w-'/'x', 'a'. See the docs for details.\n",
      "  with h5py.File(filename) as h5_obj:\n",
      "/volatile/home/Zaccharie/workspace/fastmri-reproducible-benchmark/venv/lib/python3.6/site-packages/mri/reconstruct/utils.py:74: FutureWarning: Using a non-tuple sequence for multidimensional indexing is deprecated; use `arr[tuple(seq)]` instead of `arr[seq]`. In the future this will be interpreted as an array index, `arr[np.array(seq)]`, which will result either in an error or a different result.\n",
      "  mask[test] = 1\n",
      "\u001b[33mWARNING\u001b[0m: Making input data immutable.\n"
     ]
    },
    {
     "name": "stdout",
     "output_type": "stream",
     "text": [
      "\n",
      "  _____             ____     _____      _\n",
      " |\" ___|    ___    / __\"| u |_ \" _| U  /\"\\  u\n",
      "U| |_  u   |_\"_|  <\\___ \\/    | |    \\/ _ \\/\n",
      "\\|  _|/     | |    u___) |   /| |\\   / ___ \\\\\n",
      " |_|      U/| |\\u  |____/>> u |_|U  /_/   \\_\\\\\n",
      " )(\\\\\\,-.-,_|___|_,-.)(  (__)_// \\\\\\_  \\\\\\    >>\n",
      "(__)(_/ \\_)-' '-(_/(__)    (__) (__)(__)  (__)\n",
      "    \n",
      " - mu:  1e-11\n",
      " - lipschitz constant:  1.0999999999999817\n",
      " - data:  (640, 322)\n",
      " - wavelet:  <mri.reconstruct.linear.WaveletN object at 0x7fa415b3d860> - 4\n",
      " - max iterations:  200\n",
      " - image variable shape:  (640, 322)\n",
      " - alpha variable shape:  (206640,)\n",
      "----------------------------------------\n",
      "Starting optimization...\n"
     ]
    },
    {
     "name": "stderr",
     "output_type": "stream",
     "text": [
      "100% (200 of 200) |######################| Elapsed Time: 0:00:47 Time:  0:00:47\n"
     ]
    },
    {
     "name": "stdout",
     "output_type": "stream",
     "text": [
      " - final iteration number:  200\n",
      " - final log10 cost value:  -5.493515778658051\n",
      " - converged:  True\n",
      "Done.\n",
      "Execution time:  1572.4279509999978  seconds\n",
      "----------------------------------------\n"
     ]
    },
    {
     "name": "stderr",
     "output_type": "stream",
     "text": [
      "\u001b[33mWARNING\u001b[0m: Making input data immutable.\n"
     ]
    },
    {
     "name": "stdout",
     "output_type": "stream",
     "text": [
      "\n",
      "  _____             ____     _____      _\n",
      " |\" ___|    ___    / __\"| u |_ \" _| U  /\"\\  u\n",
      "U| |_  u   |_\"_|  <\\___ \\/    | |    \\/ _ \\/\n",
      "\\|  _|/     | |    u___) |   /| |\\   / ___ \\\\\n",
      " |_|      U/| |\\u  |____/>> u |_|U  /_/   \\_\\\\\n",
      " )(\\\\\\,-.-,_|___|_,-.)(  (__)_// \\\\\\_  \\\\\\    >>\n",
      "(__)(_/ \\_)-' '-(_/(__)    (__) (__)(__)  (__)\n",
      "    \n",
      " - mu:  1e-11\n",
      " - lipschitz constant:  1.1000000000000285\n",
      " - data:  (640, 372)\n",
      " - wavelet:  <mri.reconstruct.linear.WaveletN object at 0x7fa415b3d908> - 4\n",
      " - max iterations:  200\n",
      " - image variable shape:  (640, 372)\n",
      " - alpha variable shape:  (238320,)\n",
      "----------------------------------------\n",
      "Starting optimization...\n"
     ]
    },
    {
     "name": "stderr",
     "output_type": "stream",
     "text": [
      "100% (200 of 200) |######################| Elapsed Time: 0:00:52 Time:  0:00:52\n"
     ]
    },
    {
     "name": "stdout",
     "output_type": "stream",
     "text": [
      " - final iteration number:  200\n",
      " - final log10 cost value:  -6.396083298061219\n",
      " - converged:  True\n",
      "Done.\n",
      "Execution time:  1669.598524000001  seconds\n",
      "----------------------------------------\n"
     ]
    },
    {
     "name": "stderr",
     "output_type": "stream",
     "text": [
      "\u001b[33mWARNING\u001b[0m: Making input data immutable.\n"
     ]
    },
    {
     "name": "stdout",
     "output_type": "stream",
     "text": [
      "\n",
      "  _____             ____     _____      _\n",
      " |\" ___|    ___    / __\"| u |_ \" _| U  /\"\\  u\n",
      "U| |_  u   |_\"_|  <\\___ \\/    | |    \\/ _ \\/\n",
      "\\|  _|/     | |    u___) |   /| |\\   / ___ \\\\\n",
      " |_|      U/| |\\u  |____/>> u |_|U  /_/   \\_\\\\\n",
      " )(\\\\\\,-.-,_|___|_,-.)(  (__)_// \\\\\\_  \\\\\\    >>\n",
      "(__)(_/ \\_)-' '-(_/(__)    (__) (__)(__)  (__)\n",
      "    \n",
      " - mu:  1e-11\n",
      " - lipschitz constant:  1.1000000000000716\n",
      " - data:  (640, 368)\n",
      " - wavelet:  <mri.reconstruct.linear.WaveletN object at 0x7fa415b3db00> - 4\n",
      " - max iterations:  200\n",
      " - image variable shape:  (640, 368)\n",
      " - alpha variable shape:  (235520,)\n",
      "----------------------------------------\n",
      "Starting optimization...\n"
     ]
    },
    {
     "name": "stderr",
     "output_type": "stream",
     "text": [
      "100% (200 of 200) |######################| Elapsed Time: 0:00:50 Time:  0:00:50\n"
     ]
    },
    {
     "name": "stdout",
     "output_type": "stream",
     "text": [
      " - final iteration number:  200\n",
      " - final log10 cost value:  -5.2851692721160575\n",
      " - converged:  True\n",
      "Done.\n",
      "Execution time:  1647.618914000006  seconds\n",
      "----------------------------------------\n"
     ]
    },
    {
     "name": "stderr",
     "output_type": "stream",
     "text": [
      "\u001b[33mWARNING\u001b[0m: Making input data immutable.\n"
     ]
    },
    {
     "name": "stdout",
     "output_type": "stream",
     "text": [
      "\n",
      "  _____             ____     _____      _\n",
      " |\" ___|    ___    / __\"| u |_ \" _| U  /\"\\  u\n",
      "U| |_  u   |_\"_|  <\\___ \\/    | |    \\/ _ \\/\n",
      "\\|  _|/     | |    u___) |   /| |\\   / ___ \\\\\n",
      " |_|      U/| |\\u  |____/>> u |_|U  /_/   \\_\\\\\n",
      " )(\\\\\\,-.-,_|___|_,-.)(  (__)_// \\\\\\_  \\\\\\    >>\n",
      "(__)(_/ \\_)-' '-(_/(__)    (__) (__)(__)  (__)\n",
      "    \n",
      " - mu:  1e-11\n",
      " - lipschitz constant:  1.1000000000001362\n",
      " - data:  (640, 372)\n",
      " - wavelet:  <mri.reconstruct.linear.WaveletN object at 0x7fa415b3df60> - 4\n",
      " - max iterations:  200\n",
      " - image variable shape:  (640, 372)\n",
      " - alpha variable shape:  (238320,)\n",
      "----------------------------------------\n",
      "Starting optimization...\n"
     ]
    },
    {
     "name": "stderr",
     "output_type": "stream",
     "text": [
      "100% (200 of 200) |######################| Elapsed Time: 0:00:52 Time:  0:00:52\n"
     ]
    },
    {
     "name": "stdout",
     "output_type": "stream",
     "text": [
      " - final iteration number:  200\n",
      " - final log10 cost value:  -6.556865581664425\n",
      " - converged:  True\n",
      "Done.\n",
      "Execution time:  1671.5205940000014  seconds\n",
      "----------------------------------------\n",
      "\n"
     ]
    },
    {
     "name": "stderr",
     "output_type": "stream",
     "text": [
      "/volatile/home/Zaccharie/workspace/fastmri-reproducible-benchmark/venv/lib/python3.6/site-packages/ipykernel_launcher.py:9: TqdmDeprecationWarning: This function will be removed in tqdm==5.0.0\n",
      "Please use `tqdm.notebook.tqdm` instead of `tqdm.tqdm_notebook`\n",
      "  if __name__ == '__main__':\n"
     ]
    },
    {
     "data": {
      "application/vnd.jupyter.widget-view+json": {
       "model_id": "",
       "version_major": 2,
       "version_minor": 0
      },
      "text/plain": [
       "HBox(children=(FloatProgress(value=0.0, description='Stats', max=4.0, style=ProgressStyle(description_width='i…"
      ]
     },
     "metadata": {},
     "output_type": "display_data"
    },
    {
     "name": "stderr",
     "output_type": "stream",
     "text": [
      "/volatile/home/Zaccharie/workspace/fastmri-reproducible-benchmark/fastmri_recon/helpers/evaluate.py:25: UserWarning: DEPRECATED: skimage.measure.compare_psnr has been moved to skimage.metrics.peak_signal_noise_ratio. It will be removed from skimage.measure in version 0.18.\n",
      "  return compare_psnr(gt, pred, data_range=gt.max() - gt.min())\n",
      "/volatile/home/Zaccharie/workspace/fastmri-reproducible-benchmark/fastmri_recon/helpers/evaluate.py:31: UserWarning: DEPRECATED: skimage.measure.compare_ssim has been moved to skimage.metrics.structural_similarity. It will be removed from skimage.measure in version 0.18.\n",
      "  gt.transpose(1, 2, 0), pred.transpose(1, 2, 0), multichannel=True, data_range=gt.max() - gt.min()\n"
     ]
    },
    {
     "name": "stdout",
     "output_type": "stream",
     "text": [
      "\n"
     ]
    },
    {
     "data": {
      "application/vnd.jupyter.widget-view+json": {
       "model_id": "",
       "version_major": 2,
       "version_minor": 0
      },
      "text/plain": [
       "HBox(children=(FloatProgress(value=0.0, description='K-spaces', max=4.0, style=ProgressStyle(description_width…"
      ]
     },
     "metadata": {},
     "output_type": "display_data"
    },
    {
     "name": "stderr",
     "output_type": "stream",
     "text": [
      "\u001b[33mWARNING\u001b[0m: Making input data immutable.\n"
     ]
    },
    {
     "name": "stdout",
     "output_type": "stream",
     "text": [
      "\n",
      "  _____             ____     _____      _\n",
      " |\" ___|    ___    / __\"| u |_ \" _| U  /\"\\  u\n",
      "U| |_  u   |_\"_|  <\\___ \\/    | |    \\/ _ \\/\n",
      "\\|  _|/     | |    u___) |   /| |\\   / ___ \\\\\n",
      " |_|      U/| |\\u  |____/>> u |_|U  /_/   \\_\\\\\n",
      " )(\\\\\\,-.-,_|___|_,-.)(  (__)_// \\\\\\_  \\\\\\    >>\n",
      "(__)(_/ \\_)-' '-(_/(__)    (__) (__)(__)  (__)\n",
      "    \n",
      " - mu:  1.4677992676220674e-10\n",
      " - lipschitz constant:  1.0999999999999812\n",
      " - data:  (640, 368)\n",
      " - wavelet:  <mri.reconstruct.linear.WaveletN object at 0x7fa415b52c88> - 4\n",
      " - max iterations:  200\n",
      " - image variable shape:  (640, 368)\n",
      " - alpha variable shape:  (235520,)\n",
      "----------------------------------------\n",
      "Starting optimization...\n"
     ]
    },
    {
     "name": "stderr",
     "output_type": "stream",
     "text": [
      "100% (200 of 200) |######################| Elapsed Time: 0:00:49 Time:  0:00:49\n"
     ]
    },
    {
     "name": "stdout",
     "output_type": "stream",
     "text": [
      " - final iteration number:  200\n",
      " - final log10 cost value:  -5.262954015456705\n",
      " - converged:  True\n",
      "Done.\n",
      "Execution time:  1642.581508999996  seconds\n",
      "----------------------------------------\n"
     ]
    },
    {
     "name": "stderr",
     "output_type": "stream",
     "text": [
      "\u001b[33mWARNING\u001b[0m: Making input data immutable.\n"
     ]
    },
    {
     "name": "stdout",
     "output_type": "stream",
     "text": [
      "\n",
      "  _____             ____     _____      _\n",
      " |\" ___|    ___    / __\"| u |_ \" _| U  /\"\\  u\n",
      "U| |_  u   |_\"_|  <\\___ \\/    | |    \\/ _ \\/\n",
      "\\|  _|/     | |    u___) |   /| |\\   / ___ \\\\\n",
      " |_|      U/| |\\u  |____/>> u |_|U  /_/   \\_\\\\\n",
      " )(\\\\\\,-.-,_|___|_,-.)(  (__)_// \\\\\\_  \\\\\\    >>\n",
      "(__)(_/ \\_)-' '-(_/(__)    (__) (__)(__)  (__)\n",
      "    \n",
      " - mu:  1.4677992676220674e-10\n",
      " - lipschitz constant:  1.0999999999999837\n",
      " - data:  (640, 368)\n",
      " - wavelet:  <mri.reconstruct.linear.WaveletN object at 0x7fa415b52cf8> - 4\n",
      " - max iterations:  200\n",
      " - image variable shape:  (640, 368)\n",
      " - alpha variable shape:  (235520,)\n",
      "----------------------------------------\n",
      "Starting optimization...\n"
     ]
    },
    {
     "name": "stderr",
     "output_type": "stream",
     "text": [
      "100% (200 of 200) |######################| Elapsed Time: 0:00:50 Time:  0:00:50\n"
     ]
    },
    {
     "name": "stdout",
     "output_type": "stream",
     "text": [
      " - final iteration number:  200\n",
      " - final log10 cost value:  -5.326892737042205\n",
      " - converged:  True\n",
      "Done.\n",
      "Execution time:  1640.0267820000008  seconds\n",
      "----------------------------------------\n"
     ]
    },
    {
     "name": "stderr",
     "output_type": "stream",
     "text": [
      "\u001b[33mWARNING\u001b[0m: Making input data immutable.\n"
     ]
    },
    {
     "name": "stdout",
     "output_type": "stream",
     "text": [
      "\n",
      "  _____             ____     _____      _\n",
      " |\" ___|    ___    / __\"| u |_ \" _| U  /\"\\  u\n",
      "U| |_  u   |_\"_|  <\\___ \\/    | |    \\/ _ \\/\n",
      "\\|  _|/     | |    u___) |   /| |\\   / ___ \\\\\n",
      " |_|      U/| |\\u  |____/>> u |_|U  /_/   \\_\\\\\n",
      " )(\\\\\\,-.-,_|___|_,-.)(  (__)_// \\\\\\_  \\\\\\    >>\n",
      "(__)(_/ \\_)-' '-(_/(__)    (__) (__)(__)  (__)\n",
      "    \n",
      " - mu:  1.4677992676220674e-10\n",
      " - lipschitz constant:  1.1000000000000278\n",
      " - data:  (640, 372)\n",
      " - wavelet:  <mri.reconstruct.linear.WaveletN object at 0x7fa415b52b70> - 4\n",
      " - max iterations:  200\n",
      " - image variable shape:  (640, 372)\n",
      " - alpha variable shape:  (238320,)\n",
      "----------------------------------------\n",
      "Starting optimization...\n"
     ]
    },
    {
     "name": "stderr",
     "output_type": "stream",
     "text": [
      "100% (200 of 200) |######################| Elapsed Time: 0:00:52 Time:  0:00:52\n"
     ]
    },
    {
     "name": "stdout",
     "output_type": "stream",
     "text": [
      " - final iteration number:  200\n",
      " - final log10 cost value:  -6.463128261277675\n",
      " - converged:  True\n",
      "Done.\n",
      "Execution time:  1631.0264049999969  seconds\n",
      "----------------------------------------\n"
     ]
    },
    {
     "name": "stderr",
     "output_type": "stream",
     "text": [
      "\u001b[33mWARNING\u001b[0m: Making input data immutable.\n"
     ]
    },
    {
     "name": "stdout",
     "output_type": "stream",
     "text": [
      "\n",
      "  _____             ____     _____      _\n",
      " |\" ___|    ___    / __\"| u |_ \" _| U  /\"\\  u\n",
      "U| |_  u   |_\"_|  <\\___ \\/    | |    \\/ _ \\/\n",
      "\\|  _|/     | |    u___) |   /| |\\   / ___ \\\\\n",
      " |_|      U/| |\\u  |____/>> u |_|U  /_/   \\_\\\\\n",
      " )(\\\\\\,-.-,_|___|_,-.)(  (__)_// \\\\\\_  \\\\\\    >>\n",
      "(__)(_/ \\_)-' '-(_/(__)    (__) (__)(__)  (__)\n",
      "    \n",
      " - mu:  1.4677992676220674e-10\n",
      " - lipschitz constant:  1.0999999999999825\n",
      " - data:  (640, 368)\n",
      " - wavelet:  <mri.reconstruct.linear.WaveletN object at 0x7fa415b52518> - 4\n",
      " - max iterations:  200\n",
      " - image variable shape:  (640, 368)\n",
      " - alpha variable shape:  (235520,)\n",
      "----------------------------------------\n",
      "Starting optimization...\n"
     ]
    },
    {
     "name": "stderr",
     "output_type": "stream",
     "text": [
      "100% (200 of 200) |######################| Elapsed Time: 0:00:51 Time:  0:00:51\n"
     ]
    },
    {
     "name": "stdout",
     "output_type": "stream",
     "text": [
      " - final iteration number:  200\n",
      " - final log10 cost value:  -5.050566004646409\n",
      " - converged:  True\n",
      "Done.\n",
      "Execution time:  1583.2849700000006  seconds\n",
      "----------------------------------------\n",
      "\n"
     ]
    },
    {
     "data": {
      "application/vnd.jupyter.widget-view+json": {
       "model_id": "",
       "version_major": 2,
       "version_minor": 0
      },
      "text/plain": [
       "HBox(children=(FloatProgress(value=0.0, description='Stats', max=4.0, style=ProgressStyle(description_width='i…"
      ]
     },
     "metadata": {},
     "output_type": "display_data"
    },
    {
     "name": "stdout",
     "output_type": "stream",
     "text": [
      "\n"
     ]
    },
    {
     "data": {
      "application/vnd.jupyter.widget-view+json": {
       "model_id": "",
       "version_major": 2,
       "version_minor": 0
      },
      "text/plain": [
       "HBox(children=(FloatProgress(value=0.0, description='K-spaces', max=4.0, style=ProgressStyle(description_width…"
      ]
     },
     "metadata": {},
     "output_type": "display_data"
    },
    {
     "name": "stderr",
     "output_type": "stream",
     "text": [
      "\u001b[33mWARNING\u001b[0m: Making input data immutable.\n"
     ]
    },
    {
     "name": "stdout",
     "output_type": "stream",
     "text": [
      "\n",
      "  _____             ____     _____      _\n",
      " |\" ___|    ___    / __\"| u |_ \" _| U  /\"\\  u\n",
      "U| |_  u   |_\"_|  <\\___ \\/    | |    \\/ _ \\/\n",
      "\\|  _|/     | |    u___) |   /| |\\   / ___ \\\\\n",
      " |_|      U/| |\\u  |____/>> u |_|U  /_/   \\_\\\\\n",
      " )(\\\\\\,-.-,_|___|_,-.)(  (__)_// \\\\\\_  \\\\\\    >>\n",
      "(__)(_/ \\_)-' '-(_/(__)    (__) (__)(__)  (__)\n",
      "    \n",
      " - mu:  2.1544346900318866e-09\n",
      " - lipschitz constant:  1.0999999999999845\n",
      " - data:  (640, 388)\n",
      " - wavelet:  <mri.reconstruct.linear.WaveletN object at 0x7fa415b61f60> - 4\n",
      " - max iterations:  200\n",
      " - image variable shape:  (640, 388)\n",
      " - alpha variable shape:  (248560,)\n",
      "----------------------------------------\n",
      "Starting optimization...\n"
     ]
    },
    {
     "name": "stderr",
     "output_type": "stream",
     "text": [
      "100% (200 of 200) |######################| Elapsed Time: 0:01:03 Time:  0:01:03\n"
     ]
    },
    {
     "name": "stdout",
     "output_type": "stream",
     "text": [
      " - final iteration number:  200\n",
      " - final log10 cost value:  -5.85661500107787\n",
      " - converged:  True\n",
      "Done.\n",
      "Execution time:  1871.8117899999997  seconds\n",
      "----------------------------------------\n"
     ]
    },
    {
     "name": "stderr",
     "output_type": "stream",
     "text": [
      "\u001b[33mWARNING\u001b[0m: Making input data immutable.\n"
     ]
    },
    {
     "name": "stdout",
     "output_type": "stream",
     "text": [
      "\n",
      "  _____             ____     _____      _\n",
      " |\" ___|    ___    / __\"| u |_ \" _| U  /\"\\  u\n",
      "U| |_  u   |_\"_|  <\\___ \\/    | |    \\/ _ \\/\n",
      "\\|  _|/     | |    u___) |   /| |\\   / ___ \\\\\n",
      " |_|      U/| |\\u  |____/>> u |_|U  /_/   \\_\\\\\n",
      " )(\\\\\\,-.-,_|___|_,-.)(  (__)_// \\\\\\_  \\\\\\    >>\n",
      "(__)(_/ \\_)-' '-(_/(__)    (__) (__)(__)  (__)\n",
      "    \n",
      " - mu:  2.1544346900318866e-09\n",
      " - lipschitz constant:  1.1000000000000634\n",
      " - data:  (640, 368)\n",
      " - wavelet:  <mri.reconstruct.linear.WaveletN object at 0x7fa415b4bd30> - 4\n",
      " - max iterations:  200\n",
      " - image variable shape:  (640, 368)\n",
      " - alpha variable shape:  (235520,)\n",
      "----------------------------------------\n",
      "Starting optimization...\n"
     ]
    },
    {
     "name": "stderr",
     "output_type": "stream",
     "text": [
      "100% (200 of 200) |######################| Elapsed Time: 0:00:51 Time:  0:00:51\n"
     ]
    },
    {
     "name": "stdout",
     "output_type": "stream",
     "text": [
      " - final iteration number:  200\n",
      " - final log10 cost value:  -5.117512115370984\n",
      " - converged:  True\n",
      "Done.\n",
      "Execution time:  1595.6515200000067  seconds\n",
      "----------------------------------------\n"
     ]
    },
    {
     "name": "stderr",
     "output_type": "stream",
     "text": [
      "\u001b[33mWARNING\u001b[0m: Making input data immutable.\n"
     ]
    },
    {
     "name": "stdout",
     "output_type": "stream",
     "text": [
      "\n",
      "  _____             ____     _____      _\n",
      " |\" ___|    ___    / __\"| u |_ \" _| U  /\"\\  u\n",
      "U| |_  u   |_\"_|  <\\___ \\/    | |    \\/ _ \\/\n",
      "\\|  _|/     | |    u___) |   /| |\\   / ___ \\\\\n",
      " |_|      U/| |\\u  |____/>> u |_|U  /_/   \\_\\\\\n",
      " )(\\\\\\,-.-,_|___|_,-.)(  (__)_// \\\\\\_  \\\\\\    >>\n",
      "(__)(_/ \\_)-' '-(_/(__)    (__) (__)(__)  (__)\n",
      "    \n",
      " - mu:  2.1544346900318866e-09\n",
      " - lipschitz constant:  1.099999999999979\n",
      " - data:  (640, 368)\n",
      " - wavelet:  <mri.reconstruct.linear.WaveletN object at 0x7fa415b4b198> - 4\n",
      " - max iterations:  200\n",
      " - image variable shape:  (640, 368)\n",
      " - alpha variable shape:  (235520,)\n",
      "----------------------------------------\n",
      "Starting optimization...\n"
     ]
    },
    {
     "name": "stderr",
     "output_type": "stream",
     "text": [
      "100% (200 of 200) |######################| Elapsed Time: 0:00:52 Time:  0:00:52\n"
     ]
    },
    {
     "name": "stdout",
     "output_type": "stream",
     "text": [
      " - final iteration number:  200\n",
      " - final log10 cost value:  -5.067498197384393\n",
      " - converged:  True\n",
      "Done.\n",
      "Execution time:  1533.588214000003  seconds\n",
      "----------------------------------------\n"
     ]
    },
    {
     "name": "stderr",
     "output_type": "stream",
     "text": [
      "\u001b[33mWARNING\u001b[0m: Making input data immutable.\n"
     ]
    },
    {
     "name": "stdout",
     "output_type": "stream",
     "text": [
      "\n",
      "  _____             ____     _____      _\n",
      " |\" ___|    ___    / __\"| u |_ \" _| U  /\"\\  u\n",
      "U| |_  u   |_\"_|  <\\___ \\/    | |    \\/ _ \\/\n",
      "\\|  _|/     | |    u___) |   /| |\\   / ___ \\\\\n",
      " |_|      U/| |\\u  |____/>> u |_|U  /_/   \\_\\\\\n",
      " )(\\\\\\,-.-,_|___|_,-.)(  (__)_// \\\\\\_  \\\\\\    >>\n",
      "(__)(_/ \\_)-' '-(_/(__)    (__) (__)(__)  (__)\n",
      "    \n",
      " - mu:  2.1544346900318866e-09\n",
      " - lipschitz constant:  1.1000000000001486\n",
      " - data:  (640, 368)\n",
      " - wavelet:  <mri.reconstruct.linear.WaveletN object at 0x7fa415b614e0> - 4\n",
      " - max iterations:  200\n",
      " - image variable shape:  (640, 368)\n",
      " - alpha variable shape:  (235520,)\n",
      "----------------------------------------\n",
      "Starting optimization...\n"
     ]
    },
    {
     "name": "stderr",
     "output_type": "stream",
     "text": [
      "100% (200 of 200) |######################| Elapsed Time: 0:00:50 Time:  0:00:50\n"
     ]
    },
    {
     "name": "stdout",
     "output_type": "stream",
     "text": [
      " - final iteration number:  200\n",
      " - final log10 cost value:  -5.451876062459753\n",
      " - converged:  True\n",
      "Done.\n",
      "Execution time:  1560.305518000001  seconds\n",
      "----------------------------------------\n",
      "\n"
     ]
    },
    {
     "data": {
      "application/vnd.jupyter.widget-view+json": {
       "model_id": "",
       "version_major": 2,
       "version_minor": 0
      },
      "text/plain": [
       "HBox(children=(FloatProgress(value=0.0, description='Stats', max=4.0, style=ProgressStyle(description_width='i…"
      ]
     },
     "metadata": {},
     "output_type": "display_data"
    },
    {
     "name": "stdout",
     "output_type": "stream",
     "text": [
      "\n"
     ]
    },
    {
     "data": {
      "application/vnd.jupyter.widget-view+json": {
       "model_id": "",
       "version_major": 2,
       "version_minor": 0
      },
      "text/plain": [
       "HBox(children=(FloatProgress(value=0.0, description='K-spaces', max=4.0, style=ProgressStyle(description_width…"
      ]
     },
     "metadata": {},
     "output_type": "display_data"
    },
    {
     "name": "stderr",
     "output_type": "stream",
     "text": [
      "\u001b[33mWARNING\u001b[0m: Making input data immutable.\n"
     ]
    },
    {
     "name": "stdout",
     "output_type": "stream",
     "text": [
      "\n",
      "  _____             ____     _____      _\n",
      " |\" ___|    ___    / __\"| u |_ \" _| U  /\"\\  u\n",
      "U| |_  u   |_\"_|  <\\___ \\/    | |    \\/ _ \\/\n",
      "\\|  _|/     | |    u___) |   /| |\\   / ___ \\\\\n",
      " |_|      U/| |\\u  |____/>> u |_|U  /_/   \\_\\\\\n",
      " )(\\\\\\,-.-,_|___|_,-.)(  (__)_// \\\\\\_  \\\\\\    >>\n",
      "(__)(_/ \\_)-' '-(_/(__)    (__) (__)(__)  (__)\n",
      "    \n",
      " - mu:  3.162277660168379e-08\n",
      " - lipschitz constant:  1.0999999999999779\n",
      " - data:  (640, 400)\n",
      " - wavelet:  <mri.reconstruct.linear.WaveletN object at 0x7fa415af6c50> - 4\n",
      " - max iterations:  200\n",
      " - image variable shape:  (640, 400)\n",
      " - alpha variable shape:  (256000,)\n",
      "----------------------------------------\n",
      "Starting optimization...\n"
     ]
    },
    {
     "name": "stderr",
     "output_type": "stream",
     "text": [
      "100% (200 of 200) |######################| Elapsed Time: 0:00:52 Time:  0:00:52\n"
     ]
    },
    {
     "name": "stdout",
     "output_type": "stream",
     "text": [
      " - final iteration number:  200\n",
      " - final log10 cost value:  -4.883754175045879\n",
      " - converged:  True\n",
      "Done.\n",
      "Execution time:  1606.436606999996  seconds\n",
      "----------------------------------------\n"
     ]
    },
    {
     "name": "stderr",
     "output_type": "stream",
     "text": [
      "\u001b[33mWARNING\u001b[0m: Making input data immutable.\n"
     ]
    },
    {
     "name": "stdout",
     "output_type": "stream",
     "text": [
      "\n",
      "  _____             ____     _____      _\n",
      " |\" ___|    ___    / __\"| u |_ \" _| U  /\"\\  u\n",
      "U| |_  u   |_\"_|  <\\___ \\/    | |    \\/ _ \\/\n",
      "\\|  _|/     | |    u___) |   /| |\\   / ___ \\\\\n",
      " |_|      U/| |\\u  |____/>> u |_|U  /_/   \\_\\\\\n",
      " )(\\\\\\,-.-,_|___|_,-.)(  (__)_// \\\\\\_  \\\\\\    >>\n",
      "(__)(_/ \\_)-' '-(_/(__)    (__) (__)(__)  (__)\n",
      "    \n",
      " - mu:  3.162277660168379e-08\n",
      " - lipschitz constant:  1.0999999999999774\n",
      " - data:  (640, 368)\n",
      " - wavelet:  <mri.reconstruct.linear.WaveletN object at 0x7fa415b52cf8> - 4\n",
      " - max iterations:  200\n",
      " - image variable shape:  (640, 368)\n",
      " - alpha variable shape:  (235520,)\n",
      "----------------------------------------\n",
      "Starting optimization...\n"
     ]
    },
    {
     "name": "stderr",
     "output_type": "stream",
     "text": [
      "100% (200 of 200) |######################| Elapsed Time: 0:00:50 Time:  0:00:50\n"
     ]
    },
    {
     "name": "stdout",
     "output_type": "stream",
     "text": [
      " - final iteration number:  200\n",
      " - final log10 cost value:  -5.247036531725583\n",
      " - converged:  True\n",
      "Done.\n",
      "Execution time:  1632.8043000000034  seconds\n",
      "----------------------------------------\n"
     ]
    },
    {
     "name": "stderr",
     "output_type": "stream",
     "text": [
      "\u001b[33mWARNING\u001b[0m: Making input data immutable.\n"
     ]
    },
    {
     "name": "stdout",
     "output_type": "stream",
     "text": [
      "\n",
      "  _____             ____     _____      _\n",
      " |\" ___|    ___    / __\"| u |_ \" _| U  /\"\\  u\n",
      "U| |_  u   |_\"_|  <\\___ \\/    | |    \\/ _ \\/\n",
      "\\|  _|/     | |    u___) |   /| |\\   / ___ \\\\\n",
      " |_|      U/| |\\u  |____/>> u |_|U  /_/   \\_\\\\\n",
      " )(\\\\\\,-.-,_|___|_,-.)(  (__)_// \\\\\\_  \\\\\\    >>\n",
      "(__)(_/ \\_)-' '-(_/(__)    (__) (__)(__)  (__)\n",
      "    \n",
      " - mu:  3.162277660168379e-08\n",
      " - lipschitz constant:  1.0999999999999828\n",
      " - data:  (640, 368)\n",
      " - wavelet:  <mri.reconstruct.linear.WaveletN object at 0x7fa415b3d208> - 4\n",
      " - max iterations:  200\n",
      " - image variable shape:  (640, 368)\n",
      " - alpha variable shape:  (235520,)\n",
      "----------------------------------------\n",
      "Starting optimization...\n"
     ]
    },
    {
     "name": "stderr",
     "output_type": "stream",
     "text": [
      "100% (200 of 200) |######################| Elapsed Time: 0:00:51 Time:  0:00:51\n"
     ]
    },
    {
     "name": "stdout",
     "output_type": "stream",
     "text": [
      " - final iteration number:  200\n",
      " - final log10 cost value:  -5.346631602060272\n",
      " - converged:  True\n",
      "Done.\n",
      "Execution time:  1601.3869640000048  seconds\n",
      "----------------------------------------\n"
     ]
    },
    {
     "name": "stderr",
     "output_type": "stream",
     "text": [
      "\u001b[33mWARNING\u001b[0m: Making input data immutable.\n"
     ]
    },
    {
     "name": "stdout",
     "output_type": "stream",
     "text": [
      "\n",
      "  _____             ____     _____      _\n",
      " |\" ___|    ___    / __\"| u |_ \" _| U  /\"\\  u\n",
      "U| |_  u   |_\"_|  <\\___ \\/    | |    \\/ _ \\/\n",
      "\\|  _|/     | |    u___) |   /| |\\   / ___ \\\\\n",
      " |_|      U/| |\\u  |____/>> u |_|U  /_/   \\_\\\\\n",
      " )(\\\\\\,-.-,_|___|_,-.)(  (__)_// \\\\\\_  \\\\\\    >>\n",
      "(__)(_/ \\_)-' '-(_/(__)    (__) (__)(__)  (__)\n",
      "    \n",
      " - mu:  3.162277660168379e-08\n",
      " - lipschitz constant:  1.0999999999999777\n",
      " - data:  (640, 368)\n",
      " - wavelet:  <mri.reconstruct.linear.WaveletN object at 0x7fa415b4bdd8> - 4\n",
      " - max iterations:  200\n",
      " - image variable shape:  (640, 368)\n",
      " - alpha variable shape:  (235520,)\n",
      "----------------------------------------\n",
      "Starting optimization...\n"
     ]
    },
    {
     "name": "stderr",
     "output_type": "stream",
     "text": [
      "100% (200 of 200) |######################| Elapsed Time: 0:00:50 Time:  0:00:50\n"
     ]
    },
    {
     "name": "stdout",
     "output_type": "stream",
     "text": [
      " - final iteration number:  200\n",
      " - final log10 cost value:  -5.280415834295898\n",
      " - converged:  True\n",
      "Done.\n",
      "Execution time:  1596.0980639999907  seconds\n",
      "----------------------------------------\n",
      "\n"
     ]
    },
    {
     "data": {
      "application/vnd.jupyter.widget-view+json": {
       "model_id": "",
       "version_major": 2,
       "version_minor": 0
      },
      "text/plain": [
       "HBox(children=(FloatProgress(value=0.0, description='Stats', max=4.0, style=ProgressStyle(description_width='i…"
      ]
     },
     "metadata": {},
     "output_type": "display_data"
    },
    {
     "name": "stdout",
     "output_type": "stream",
     "text": [
      "\n"
     ]
    },
    {
     "data": {
      "application/vnd.jupyter.widget-view+json": {
       "model_id": "",
       "version_major": 2,
       "version_minor": 0
      },
      "text/plain": [
       "HBox(children=(FloatProgress(value=0.0, description='K-spaces', max=4.0, style=ProgressStyle(description_width…"
      ]
     },
     "metadata": {},
     "output_type": "display_data"
    },
    {
     "name": "stderr",
     "output_type": "stream",
     "text": [
      "\u001b[33mWARNING\u001b[0m: Making input data immutable.\n"
     ]
    },
    {
     "name": "stdout",
     "output_type": "stream",
     "text": [
      "\n",
      "  _____             ____     _____      _\n",
      " |\" ___|    ___    / __\"| u |_ \" _| U  /\"\\  u\n",
      "U| |_  u   |_\"_|  <\\___ \\/    | |    \\/ _ \\/\n",
      "\\|  _|/     | |    u___) |   /| |\\   / ___ \\\\\n",
      " |_|      U/| |\\u  |____/>> u |_|U  /_/   \\_\\\\\n",
      " )(\\\\\\,-.-,_|___|_,-.)(  (__)_// \\\\\\_  \\\\\\    >>\n",
      "(__)(_/ \\_)-' '-(_/(__)    (__) (__)(__)  (__)\n",
      "    \n",
      " - mu:  4.641588833612782e-07\n",
      " - lipschitz constant:  1.0999999999999825\n",
      " - data:  (640, 372)\n",
      " - wavelet:  <mri.reconstruct.linear.WaveletN object at 0x7fa415b0aa58> - 4\n",
      " - max iterations:  200\n",
      " - image variable shape:  (640, 372)\n",
      " - alpha variable shape:  (238320,)\n",
      "----------------------------------------\n",
      "Starting optimization...\n"
     ]
    },
    {
     "name": "stderr",
     "output_type": "stream",
     "text": [
      "100% (200 of 200) |######################| Elapsed Time: 0:00:54 Time:  0:00:54\n"
     ]
    },
    {
     "name": "stdout",
     "output_type": "stream",
     "text": [
      " - final iteration number:  200\n",
      " - final log10 cost value:  -5.933481701878006\n",
      " - converged:  True\n",
      "Done.\n",
      "Execution time:  1607.957064999995  seconds\n",
      "----------------------------------------\n"
     ]
    },
    {
     "name": "stderr",
     "output_type": "stream",
     "text": [
      "\u001b[33mWARNING\u001b[0m: Making input data immutable.\n"
     ]
    },
    {
     "name": "stdout",
     "output_type": "stream",
     "text": [
      "\n",
      "  _____             ____     _____      _\n",
      " |\" ___|    ___    / __\"| u |_ \" _| U  /\"\\  u\n",
      "U| |_  u   |_\"_|  <\\___ \\/    | |    \\/ _ \\/\n",
      "\\|  _|/     | |    u___) |   /| |\\   / ___ \\\\\n",
      " |_|      U/| |\\u  |____/>> u |_|U  /_/   \\_\\\\\n",
      " )(\\\\\\,-.-,_|___|_,-.)(  (__)_// \\\\\\_  \\\\\\    >>\n",
      "(__)(_/ \\_)-' '-(_/(__)    (__) (__)(__)  (__)\n",
      "    \n",
      " - mu:  4.641588833612782e-07\n",
      " - lipschitz constant:  1.099999999999982\n",
      " - data:  (640, 372)\n",
      " - wavelet:  <mri.reconstruct.linear.WaveletN object at 0x7fa415b3d208> - 4\n",
      " - max iterations:  200\n",
      " - image variable shape:  (640, 372)\n",
      " - alpha variable shape:  (238320,)\n",
      "----------------------------------------\n",
      "Starting optimization...\n"
     ]
    },
    {
     "name": "stderr",
     "output_type": "stream",
     "text": [
      "100% (200 of 200) |######################| Elapsed Time: 0:00:53 Time:  0:00:53\n"
     ]
    },
    {
     "name": "stdout",
     "output_type": "stream",
     "text": [
      " - final iteration number:  200\n",
      " - final log10 cost value:  -5.941342438385866\n",
      " - converged:  True\n",
      "Done.\n",
      "Execution time:  1635.3343529999984  seconds\n",
      "----------------------------------------\n"
     ]
    },
    {
     "name": "stderr",
     "output_type": "stream",
     "text": [
      "\u001b[33mWARNING\u001b[0m: Making input data immutable.\n"
     ]
    },
    {
     "name": "stdout",
     "output_type": "stream",
     "text": [
      "\n",
      "  _____             ____     _____      _\n",
      " |\" ___|    ___    / __\"| u |_ \" _| U  /\"\\  u\n",
      "U| |_  u   |_\"_|  <\\___ \\/    | |    \\/ _ \\/\n",
      "\\|  _|/     | |    u___) |   /| |\\   / ___ \\\\\n",
      " |_|      U/| |\\u  |____/>> u |_|U  /_/   \\_\\\\\n",
      " )(\\\\\\,-.-,_|___|_,-.)(  (__)_// \\\\\\_  \\\\\\    >>\n",
      "(__)(_/ \\_)-' '-(_/(__)    (__) (__)(__)  (__)\n",
      "    \n",
      " - mu:  4.641588833612782e-07\n",
      " - lipschitz constant:  1.0999999999999825\n",
      " - data:  (640, 372)\n",
      " - wavelet:  <mri.reconstruct.linear.WaveletN object at 0x7fa415b3db00> - 4\n",
      " - max iterations:  200\n",
      " - image variable shape:  (640, 372)\n",
      " - alpha variable shape:  (238320,)\n",
      "----------------------------------------\n",
      "Starting optimization...\n"
     ]
    },
    {
     "name": "stderr",
     "output_type": "stream",
     "text": [
      "100% (200 of 200) |######################| Elapsed Time: 0:00:52 Time:  0:00:52\n"
     ]
    },
    {
     "name": "stdout",
     "output_type": "stream",
     "text": [
      " - final iteration number:  200\n",
      " - final log10 cost value:  -5.986008129485627\n",
      " - converged:  True\n",
      "Done.\n",
      "Execution time:  1619.2139939999906  seconds\n",
      "----------------------------------------\n"
     ]
    },
    {
     "name": "stderr",
     "output_type": "stream",
     "text": [
      "\u001b[33mWARNING\u001b[0m: Making input data immutable.\n"
     ]
    },
    {
     "name": "stdout",
     "output_type": "stream",
     "text": [
      "\n",
      "  _____             ____     _____      _\n",
      " |\" ___|    ___    / __\"| u |_ \" _| U  /\"\\  u\n",
      "U| |_  u   |_\"_|  <\\___ \\/    | |    \\/ _ \\/\n",
      "\\|  _|/     | |    u___) |   /| |\\   / ___ \\\\\n",
      " |_|      U/| |\\u  |____/>> u |_|U  /_/   \\_\\\\\n",
      " )(\\\\\\,-.-,_|___|_,-.)(  (__)_// \\\\\\_  \\\\\\    >>\n",
      "(__)(_/ \\_)-' '-(_/(__)    (__) (__)(__)  (__)\n",
      "    \n",
      " - mu:  4.641588833612782e-07\n",
      " - lipschitz constant:  1.0999999999999739\n",
      " - data:  (640, 372)\n",
      " - wavelet:  <mri.reconstruct.linear.WaveletN object at 0x7fa415b61a20> - 4\n",
      " - max iterations:  200\n",
      " - image variable shape:  (640, 372)\n",
      " - alpha variable shape:  (238320,)\n",
      "----------------------------------------\n",
      "Starting optimization...\n"
     ]
    },
    {
     "name": "stderr",
     "output_type": "stream",
     "text": [
      "100% (200 of 200) |######################| Elapsed Time: 0:00:53 Time:  0:00:53\n"
     ]
    },
    {
     "name": "stdout",
     "output_type": "stream",
     "text": [
      " - final iteration number:  200\n",
      " - final log10 cost value:  -5.900159501102902\n",
      " - converged:  True\n",
      "Done.\n",
      "Execution time:  1550.432072999989  seconds\n",
      "----------------------------------------\n",
      "\n"
     ]
    },
    {
     "data": {
      "application/vnd.jupyter.widget-view+json": {
       "model_id": "",
       "version_major": 2,
       "version_minor": 0
      },
      "text/plain": [
       "HBox(children=(FloatProgress(value=0.0, description='Stats', max=4.0, style=ProgressStyle(description_width='i…"
      ]
     },
     "metadata": {},
     "output_type": "display_data"
    },
    {
     "name": "stdout",
     "output_type": "stream",
     "text": [
      "\n"
     ]
    },
    {
     "data": {
      "application/vnd.jupyter.widget-view+json": {
       "model_id": "",
       "version_major": 2,
       "version_minor": 0
      },
      "text/plain": [
       "HBox(children=(FloatProgress(value=0.0, description='K-spaces', max=4.0, style=ProgressStyle(description_width…"
      ]
     },
     "metadata": {},
     "output_type": "display_data"
    },
    {
     "name": "stderr",
     "output_type": "stream",
     "text": [
      "\u001b[33mWARNING\u001b[0m: Making input data immutable.\n"
     ]
    },
    {
     "name": "stdout",
     "output_type": "stream",
     "text": [
      "\n",
      "  _____             ____     _____      _\n",
      " |\" ___|    ___    / __\"| u |_ \" _| U  /\"\\  u\n",
      "U| |_  u   |_\"_|  <\\___ \\/    | |    \\/ _ \\/\n",
      "\\|  _|/     | |    u___) |   /| |\\   / ___ \\\\\n",
      " |_|      U/| |\\u  |____/>> u |_|U  /_/   \\_\\\\\n",
      " )(\\\\\\,-.-,_|___|_,-.)(  (__)_// \\\\\\_  \\\\\\    >>\n",
      "(__)(_/ \\_)-' '-(_/(__)    (__) (__)(__)  (__)\n",
      "    \n",
      " - mu:  6.812920690579622e-06\n",
      " - lipschitz constant:  1.1000000000000323\n",
      " - data:  (640, 368)\n",
      " - wavelet:  <mri.reconstruct.linear.WaveletN object at 0x7fa415b13be0> - 4\n",
      " - max iterations:  200\n",
      " - image variable shape:  (640, 368)\n",
      " - alpha variable shape:  (235520,)\n",
      "----------------------------------------\n",
      "Starting optimization...\n"
     ]
    },
    {
     "name": "stderr",
     "output_type": "stream",
     "text": [
      "100% (200 of 200) |######################| Elapsed Time: 0:00:51 Time:  0:00:51\n"
     ]
    },
    {
     "name": "stdout",
     "output_type": "stream",
     "text": [
      " - final iteration number:  200\n",
      " - final log10 cost value:  -4.790040296742598\n",
      " - converged:  True\n",
      "Done.\n",
      "Execution time:  1538.3899680000031  seconds\n",
      "----------------------------------------\n"
     ]
    },
    {
     "name": "stderr",
     "output_type": "stream",
     "text": [
      "\u001b[33mWARNING\u001b[0m: Making input data immutable.\n"
     ]
    },
    {
     "name": "stdout",
     "output_type": "stream",
     "text": [
      "\n",
      "  _____             ____     _____      _\n",
      " |\" ___|    ___    / __\"| u |_ \" _| U  /\"\\  u\n",
      "U| |_  u   |_\"_|  <\\___ \\/    | |    \\/ _ \\/\n",
      "\\|  _|/     | |    u___) |   /| |\\   / ___ \\\\\n",
      " |_|      U/| |\\u  |____/>> u |_|U  /_/   \\_\\\\\n",
      " )(\\\\\\,-.-,_|___|_,-.)(  (__)_// \\\\\\_  \\\\\\    >>\n",
      "(__)(_/ \\_)-' '-(_/(__)    (__) (__)(__)  (__)\n",
      "    \n",
      " - mu:  6.812920690579622e-06\n",
      " - lipschitz constant:  1.1000000000000374\n",
      " - data:  (640, 368)\n",
      " - wavelet:  <mri.reconstruct.linear.WaveletN object at 0x7fa415af62e8> - 4\n",
      " - max iterations:  200\n",
      " - image variable shape:  (640, 368)\n",
      " - alpha variable shape:  (235520,)\n",
      "----------------------------------------\n",
      "Starting optimization...\n"
     ]
    },
    {
     "name": "stderr",
     "output_type": "stream",
     "text": [
      "100% (200 of 200) |######################| Elapsed Time: 0:00:51 Time:  0:00:51\n"
     ]
    },
    {
     "name": "stdout",
     "output_type": "stream",
     "text": [
      " - final iteration number:  200\n",
      " - final log10 cost value:  -4.722573919754533\n",
      " - converged:  True\n",
      "Done.\n",
      "Execution time:  1532.5850330000103  seconds\n",
      "----------------------------------------\n"
     ]
    },
    {
     "name": "stderr",
     "output_type": "stream",
     "text": [
      "\u001b[33mWARNING\u001b[0m: Making input data immutable.\n"
     ]
    },
    {
     "name": "stdout",
     "output_type": "stream",
     "text": [
      "\n",
      "  _____             ____     _____      _\n",
      " |\" ___|    ___    / __\"| u |_ \" _| U  /\"\\  u\n",
      "U| |_  u   |_\"_|  <\\___ \\/    | |    \\/ _ \\/\n",
      "\\|  _|/     | |    u___) |   /| |\\   / ___ \\\\\n",
      " |_|      U/| |\\u  |____/>> u |_|U  /_/   \\_\\\\\n",
      " )(\\\\\\,-.-,_|___|_,-.)(  (__)_// \\\\\\_  \\\\\\    >>\n",
      "(__)(_/ \\_)-' '-(_/(__)    (__) (__)(__)  (__)\n",
      "    \n",
      " - mu:  6.812920690579622e-06\n",
      " - lipschitz constant:  1.1000000000000323\n",
      " - data:  (640, 372)\n",
      " - wavelet:  <mri.reconstruct.linear.WaveletN object at 0x7fa415b0a358> - 4\n",
      " - max iterations:  200\n",
      " - image variable shape:  (640, 372)\n",
      " - alpha variable shape:  (238320,)\n",
      "----------------------------------------\n",
      "Starting optimization...\n"
     ]
    },
    {
     "name": "stderr",
     "output_type": "stream",
     "text": [
      "100% (200 of 200) |######################| Elapsed Time: 0:00:52 Time:  0:00:52\n"
     ]
    },
    {
     "name": "stdout",
     "output_type": "stream",
     "text": [
      " - final iteration number:  200\n",
      " - final log10 cost value:  -4.770981651190188\n",
      " - converged:  True\n",
      "Done.\n",
      "Execution time:  1646.94855500001  seconds\n",
      "----------------------------------------\n"
     ]
    },
    {
     "name": "stderr",
     "output_type": "stream",
     "text": [
      "\u001b[33mWARNING\u001b[0m: Making input data immutable.\n"
     ]
    },
    {
     "name": "stdout",
     "output_type": "stream",
     "text": [
      "\n",
      "  _____             ____     _____      _\n",
      " |\" ___|    ___    / __\"| u |_ \" _| U  /\"\\  u\n",
      "U| |_  u   |_\"_|  <\\___ \\/    | |    \\/ _ \\/\n",
      "\\|  _|/     | |    u___) |   /| |\\   / ___ \\\\\n",
      " |_|      U/| |\\u  |____/>> u |_|U  /_/   \\_\\\\\n",
      " )(\\\\\\,-.-,_|___|_,-.)(  (__)_// \\\\\\_  \\\\\\    >>\n",
      "(__)(_/ \\_)-' '-(_/(__)    (__) (__)(__)  (__)\n",
      "    \n",
      " - mu:  6.812920690579622e-06\n",
      " - lipschitz constant:  1.1000000000000776\n",
      " - data:  (640, 368)\n",
      " - wavelet:  <mri.reconstruct.linear.WaveletN object at 0x7fa415b3db00> - 4\n",
      " - max iterations:  200\n",
      " - image variable shape:  (640, 368)\n",
      " - alpha variable shape:  (235520,)\n",
      "----------------------------------------\n",
      "Starting optimization...\n"
     ]
    },
    {
     "name": "stderr",
     "output_type": "stream",
     "text": [
      "100% (200 of 200) |######################| Elapsed Time: 0:00:51 Time:  0:00:51\n"
     ]
    },
    {
     "name": "stdout",
     "output_type": "stream",
     "text": [
      " - final iteration number:  200\n",
      " - final log10 cost value:  -4.826363295227551\n",
      " - converged:  True\n",
      "Done.\n",
      "Execution time:  1578.227365999992  seconds\n",
      "----------------------------------------\n",
      "\n"
     ]
    },
    {
     "data": {
      "application/vnd.jupyter.widget-view+json": {
       "model_id": "",
       "version_major": 2,
       "version_minor": 0
      },
      "text/plain": [
       "HBox(children=(FloatProgress(value=0.0, description='Stats', max=4.0, style=ProgressStyle(description_width='i…"
      ]
     },
     "metadata": {},
     "output_type": "display_data"
    },
    {
     "name": "stdout",
     "output_type": "stream",
     "text": [
      "\n"
     ]
    },
    {
     "data": {
      "application/vnd.jupyter.widget-view+json": {
       "model_id": "",
       "version_major": 2,
       "version_minor": 0
      },
      "text/plain": [
       "HBox(children=(FloatProgress(value=0.0, description='K-spaces', max=4.0, style=ProgressStyle(description_width…"
      ]
     },
     "metadata": {},
     "output_type": "display_data"
    },
    {
     "name": "stderr",
     "output_type": "stream",
     "text": [
      "\u001b[33mWARNING\u001b[0m: Making input data immutable.\n"
     ]
    },
    {
     "name": "stdout",
     "output_type": "stream",
     "text": [
      "\n",
      "  _____             ____     _____      _\n",
      " |\" ___|    ___    / __\"| u |_ \" _| U  /\"\\  u\n",
      "U| |_  u   |_\"_|  <\\___ \\/    | |    \\/ _ \\/\n",
      "\\|  _|/     | |    u___) |   /| |\\   / ___ \\\\\n",
      " |_|      U/| |\\u  |____/>> u |_|U  /_/   \\_\\\\\n",
      " )(\\\\\\,-.-,_|___|_,-.)(  (__)_// \\\\\\_  \\\\\\    >>\n",
      "(__)(_/ \\_)-' '-(_/(__)    (__) (__)(__)  (__)\n",
      "    \n",
      " - mu:  0.0001\n",
      " - lipschitz constant:  1.1000000000000292\n",
      " - data:  (640, 368)\n",
      " - wavelet:  <mri.reconstruct.linear.WaveletN object at 0x7fa415aaa940> - 4\n",
      " - max iterations:  200\n",
      " - image variable shape:  (640, 368)\n",
      " - alpha variable shape:  (235520,)\n",
      "----------------------------------------\n",
      "Starting optimization...\n"
     ]
    },
    {
     "name": "stderr",
     "output_type": "stream",
     "text": [
      "100% (200 of 200) |######################| Elapsed Time: 0:00:51 Time:  0:00:51\n"
     ]
    },
    {
     "name": "stdout",
     "output_type": "stream",
     "text": [
      " - final iteration number:  200\n",
      " - final log10 cost value:  -3.9818425647123092\n",
      " - converged:  True\n",
      "Done.\n",
      "Execution time:  1566.4737319999986  seconds\n",
      "----------------------------------------\n"
     ]
    },
    {
     "name": "stderr",
     "output_type": "stream",
     "text": [
      "\u001b[33mWARNING\u001b[0m: Making input data immutable.\n"
     ]
    },
    {
     "name": "stdout",
     "output_type": "stream",
     "text": [
      "\n",
      "  _____             ____     _____      _\n",
      " |\" ___|    ___    / __\"| u |_ \" _| U  /\"\\  u\n",
      "U| |_  u   |_\"_|  <\\___ \\/    | |    \\/ _ \\/\n",
      "\\|  _|/     | |    u___) |   /| |\\   / ___ \\\\\n",
      " |_|      U/| |\\u  |____/>> u |_|U  /_/   \\_\\\\\n",
      " )(\\\\\\,-.-,_|___|_,-.)(  (__)_// \\\\\\_  \\\\\\    >>\n",
      "(__)(_/ \\_)-' '-(_/(__)    (__) (__)(__)  (__)\n",
      "    \n",
      " - mu:  0.0001\n",
      " - lipschitz constant:  1.1000000000000332\n",
      " - data:  (640, 368)\n",
      " - wavelet:  <mri.reconstruct.linear.WaveletN object at 0x7fa415b13a58> - 4\n",
      " - max iterations:  200\n",
      " - image variable shape:  (640, 368)\n",
      " - alpha variable shape:  (235520,)\n",
      "----------------------------------------\n",
      "Starting optimization...\n"
     ]
    },
    {
     "name": "stderr",
     "output_type": "stream",
     "text": [
      "100% (200 of 200) |######################| Elapsed Time: 0:00:51 Time:  0:00:51\n"
     ]
    },
    {
     "name": "stdout",
     "output_type": "stream",
     "text": [
      " - final iteration number:  200\n",
      " - final log10 cost value:  -4.106740474555082\n",
      " - converged:  True\n",
      "Done.\n",
      "Execution time:  1589.403323999999  seconds\n",
      "----------------------------------------\n"
     ]
    },
    {
     "name": "stderr",
     "output_type": "stream",
     "text": [
      "\u001b[33mWARNING\u001b[0m: Making input data immutable.\n"
     ]
    },
    {
     "name": "stdout",
     "output_type": "stream",
     "text": [
      "\n",
      "  _____             ____     _____      _\n",
      " |\" ___|    ___    / __\"| u |_ \" _| U  /\"\\  u\n",
      "U| |_  u   |_\"_|  <\\___ \\/    | |    \\/ _ \\/\n",
      "\\|  _|/     | |    u___) |   /| |\\   / ___ \\\\\n",
      " |_|      U/| |\\u  |____/>> u |_|U  /_/   \\_\\\\\n",
      " )(\\\\\\,-.-,_|___|_,-.)(  (__)_// \\\\\\_  \\\\\\    >>\n",
      "(__)(_/ \\_)-' '-(_/(__)    (__) (__)(__)  (__)\n",
      "    \n",
      " - mu:  0.0001\n",
      " - lipschitz constant:  1.0999999999999763\n",
      " - data:  (640, 372)\n",
      " - wavelet:  <mri.reconstruct.linear.WaveletN object at 0x7fa415b0af98> - 4\n",
      " - max iterations:  200\n",
      " - image variable shape:  (640, 372)\n",
      " - alpha variable shape:  (238320,)\n",
      "----------------------------------------\n",
      "Starting optimization...\n"
     ]
    },
    {
     "name": "stderr",
     "output_type": "stream",
     "text": [
      "100% (200 of 200) |######################| Elapsed Time: 0:00:53 Time:  0:00:53\n"
     ]
    },
    {
     "name": "stdout",
     "output_type": "stream",
     "text": [
      " - final iteration number:  200\n",
      " - final log10 cost value:  -4.366682591998301\n",
      " - converged:  True\n",
      "Done.\n",
      "Execution time:  1599.4137210000044  seconds\n",
      "----------------------------------------\n"
     ]
    },
    {
     "name": "stderr",
     "output_type": "stream",
     "text": [
      "\u001b[33mWARNING\u001b[0m: Making input data immutable.\n"
     ]
    },
    {
     "name": "stdout",
     "output_type": "stream",
     "text": [
      "\n",
      "  _____             ____     _____      _\n",
      " |\" ___|    ___    / __\"| u |_ \" _| U  /\"\\  u\n",
      "U| |_  u   |_\"_|  <\\___ \\/    | |    \\/ _ \\/\n",
      "\\|  _|/     | |    u___) |   /| |\\   / ___ \\\\\n",
      " |_|      U/| |\\u  |____/>> u |_|U  /_/   \\_\\\\\n",
      " )(\\\\\\,-.-,_|___|_,-.)(  (__)_// \\\\\\_  \\\\\\    >>\n",
      "(__)(_/ \\_)-' '-(_/(__)    (__) (__)(__)  (__)\n",
      "    \n",
      " - mu:  0.0001\n",
      " - lipschitz constant:  1.1000000000000614\n",
      " - data:  (640, 368)\n",
      " - wavelet:  <mri.reconstruct.linear.WaveletN object at 0x7fa415b13d68> - 4\n",
      " - max iterations:  200\n",
      " - image variable shape:  (640, 368)\n",
      " - alpha variable shape:  (235520,)\n",
      "----------------------------------------\n",
      "Starting optimization...\n"
     ]
    },
    {
     "name": "stderr",
     "output_type": "stream",
     "text": [
      "100% (200 of 200) |######################| Elapsed Time: 0:00:51 Time:  0:00:51\n"
     ]
    },
    {
     "name": "stdout",
     "output_type": "stream",
     "text": [
      " - final iteration number:  200\n",
      " - final log10 cost value:  -4.378344688748578\n",
      " - converged:  True\n",
      "Done.\n",
      "Execution time:  1618.5021720000077  seconds\n",
      "----------------------------------------\n",
      "\n"
     ]
    },
    {
     "data": {
      "application/vnd.jupyter.widget-view+json": {
       "model_id": "",
       "version_major": 2,
       "version_minor": 0
      },
      "text/plain": [
       "HBox(children=(FloatProgress(value=0.0, description='Stats', max=4.0, style=ProgressStyle(description_width='i…"
      ]
     },
     "metadata": {},
     "output_type": "display_data"
    },
    {
     "name": "stdout",
     "output_type": "stream",
     "text": [
      "\n",
      "\n",
      "CPU times: user 5h 39min 26s, sys: 7h 1min 33s, total: 12h 40min 59s\n",
      "Wall time: 25min 2s\n"
     ]
    }
   ],
   "source": [
    "%%time\n",
    "metrics = []\n",
    "for mu in tqdm(mus_to_test, desc='mus'):\n",
    "    metric = metrics_for_args(sub_prop=0.01, mu=mu)\n",
    "    metrics.append(metric)"
   ]
  },
  {
   "cell_type": "code",
   "execution_count": 53,
   "metadata": {},
   "outputs": [
    {
     "data": {
      "application/javascript": [
       "/* Put everything inside the global mpl namespace */\n",
       "window.mpl = {};\n",
       "\n",
       "\n",
       "mpl.get_websocket_type = function() {\n",
       "    if (typeof(WebSocket) !== 'undefined') {\n",
       "        return WebSocket;\n",
       "    } else if (typeof(MozWebSocket) !== 'undefined') {\n",
       "        return MozWebSocket;\n",
       "    } else {\n",
       "        alert('Your browser does not have WebSocket support. ' +\n",
       "              'Please try Chrome, Safari or Firefox ≥ 6. ' +\n",
       "              'Firefox 4 and 5 are also supported but you ' +\n",
       "              'have to enable WebSockets in about:config.');\n",
       "    };\n",
       "}\n",
       "\n",
       "mpl.figure = function(figure_id, websocket, ondownload, parent_element) {\n",
       "    this.id = figure_id;\n",
       "\n",
       "    this.ws = websocket;\n",
       "\n",
       "    this.supports_binary = (this.ws.binaryType != undefined);\n",
       "\n",
       "    if (!this.supports_binary) {\n",
       "        var warnings = document.getElementById(\"mpl-warnings\");\n",
       "        if (warnings) {\n",
       "            warnings.style.display = 'block';\n",
       "            warnings.textContent = (\n",
       "                \"This browser does not support binary websocket messages. \" +\n",
       "                    \"Performance may be slow.\");\n",
       "        }\n",
       "    }\n",
       "\n",
       "    this.imageObj = new Image();\n",
       "\n",
       "    this.context = undefined;\n",
       "    this.message = undefined;\n",
       "    this.canvas = undefined;\n",
       "    this.rubberband_canvas = undefined;\n",
       "    this.rubberband_context = undefined;\n",
       "    this.format_dropdown = undefined;\n",
       "\n",
       "    this.image_mode = 'full';\n",
       "\n",
       "    this.root = $('<div/>');\n",
       "    this._root_extra_style(this.root)\n",
       "    this.root.attr('style', 'display: inline-block');\n",
       "\n",
       "    $(parent_element).append(this.root);\n",
       "\n",
       "    this._init_header(this);\n",
       "    this._init_canvas(this);\n",
       "    this._init_toolbar(this);\n",
       "\n",
       "    var fig = this;\n",
       "\n",
       "    this.waiting = false;\n",
       "\n",
       "    this.ws.onopen =  function () {\n",
       "            fig.send_message(\"supports_binary\", {value: fig.supports_binary});\n",
       "            fig.send_message(\"send_image_mode\", {});\n",
       "            if (mpl.ratio != 1) {\n",
       "                fig.send_message(\"set_dpi_ratio\", {'dpi_ratio': mpl.ratio});\n",
       "            }\n",
       "            fig.send_message(\"refresh\", {});\n",
       "        }\n",
       "\n",
       "    this.imageObj.onload = function() {\n",
       "            if (fig.image_mode == 'full') {\n",
       "                // Full images could contain transparency (where diff images\n",
       "                // almost always do), so we need to clear the canvas so that\n",
       "                // there is no ghosting.\n",
       "                fig.context.clearRect(0, 0, fig.canvas.width, fig.canvas.height);\n",
       "            }\n",
       "            fig.context.drawImage(fig.imageObj, 0, 0);\n",
       "        };\n",
       "\n",
       "    this.imageObj.onunload = function() {\n",
       "        fig.ws.close();\n",
       "    }\n",
       "\n",
       "    this.ws.onmessage = this._make_on_message_function(this);\n",
       "\n",
       "    this.ondownload = ondownload;\n",
       "}\n",
       "\n",
       "mpl.figure.prototype._init_header = function() {\n",
       "    var titlebar = $(\n",
       "        '<div class=\"ui-dialog-titlebar ui-widget-header ui-corner-all ' +\n",
       "        'ui-helper-clearfix\"/>');\n",
       "    var titletext = $(\n",
       "        '<div class=\"ui-dialog-title\" style=\"width: 100%; ' +\n",
       "        'text-align: center; padding: 3px;\"/>');\n",
       "    titlebar.append(titletext)\n",
       "    this.root.append(titlebar);\n",
       "    this.header = titletext[0];\n",
       "}\n",
       "\n",
       "\n",
       "\n",
       "mpl.figure.prototype._canvas_extra_style = function(canvas_div) {\n",
       "\n",
       "}\n",
       "\n",
       "\n",
       "mpl.figure.prototype._root_extra_style = function(canvas_div) {\n",
       "\n",
       "}\n",
       "\n",
       "mpl.figure.prototype._init_canvas = function() {\n",
       "    var fig = this;\n",
       "\n",
       "    var canvas_div = $('<div/>');\n",
       "\n",
       "    canvas_div.attr('style', 'position: relative; clear: both; outline: 0');\n",
       "\n",
       "    function canvas_keyboard_event(event) {\n",
       "        return fig.key_event(event, event['data']);\n",
       "    }\n",
       "\n",
       "    canvas_div.keydown('key_press', canvas_keyboard_event);\n",
       "    canvas_div.keyup('key_release', canvas_keyboard_event);\n",
       "    this.canvas_div = canvas_div\n",
       "    this._canvas_extra_style(canvas_div)\n",
       "    this.root.append(canvas_div);\n",
       "\n",
       "    var canvas = $('<canvas/>');\n",
       "    canvas.addClass('mpl-canvas');\n",
       "    canvas.attr('style', \"left: 0; top: 0; z-index: 0; outline: 0\")\n",
       "\n",
       "    this.canvas = canvas[0];\n",
       "    this.context = canvas[0].getContext(\"2d\");\n",
       "\n",
       "    var backingStore = this.context.backingStorePixelRatio ||\n",
       "\tthis.context.webkitBackingStorePixelRatio ||\n",
       "\tthis.context.mozBackingStorePixelRatio ||\n",
       "\tthis.context.msBackingStorePixelRatio ||\n",
       "\tthis.context.oBackingStorePixelRatio ||\n",
       "\tthis.context.backingStorePixelRatio || 1;\n",
       "\n",
       "    mpl.ratio = (window.devicePixelRatio || 1) / backingStore;\n",
       "\n",
       "    var rubberband = $('<canvas/>');\n",
       "    rubberband.attr('style', \"position: absolute; left: 0; top: 0; z-index: 1;\")\n",
       "\n",
       "    var pass_mouse_events = true;\n",
       "\n",
       "    canvas_div.resizable({\n",
       "        start: function(event, ui) {\n",
       "            pass_mouse_events = false;\n",
       "        },\n",
       "        resize: function(event, ui) {\n",
       "            fig.request_resize(ui.size.width, ui.size.height);\n",
       "        },\n",
       "        stop: function(event, ui) {\n",
       "            pass_mouse_events = true;\n",
       "            fig.request_resize(ui.size.width, ui.size.height);\n",
       "        },\n",
       "    });\n",
       "\n",
       "    function mouse_event_fn(event) {\n",
       "        if (pass_mouse_events)\n",
       "            return fig.mouse_event(event, event['data']);\n",
       "    }\n",
       "\n",
       "    rubberband.mousedown('button_press', mouse_event_fn);\n",
       "    rubberband.mouseup('button_release', mouse_event_fn);\n",
       "    // Throttle sequential mouse events to 1 every 20ms.\n",
       "    rubberband.mousemove('motion_notify', mouse_event_fn);\n",
       "\n",
       "    rubberband.mouseenter('figure_enter', mouse_event_fn);\n",
       "    rubberband.mouseleave('figure_leave', mouse_event_fn);\n",
       "\n",
       "    canvas_div.on(\"wheel\", function (event) {\n",
       "        event = event.originalEvent;\n",
       "        event['data'] = 'scroll'\n",
       "        if (event.deltaY < 0) {\n",
       "            event.step = 1;\n",
       "        } else {\n",
       "            event.step = -1;\n",
       "        }\n",
       "        mouse_event_fn(event);\n",
       "    });\n",
       "\n",
       "    canvas_div.append(canvas);\n",
       "    canvas_div.append(rubberband);\n",
       "\n",
       "    this.rubberband = rubberband;\n",
       "    this.rubberband_canvas = rubberband[0];\n",
       "    this.rubberband_context = rubberband[0].getContext(\"2d\");\n",
       "    this.rubberband_context.strokeStyle = \"#000000\";\n",
       "\n",
       "    this._resize_canvas = function(width, height) {\n",
       "        // Keep the size of the canvas, canvas container, and rubber band\n",
       "        // canvas in synch.\n",
       "        canvas_div.css('width', width)\n",
       "        canvas_div.css('height', height)\n",
       "\n",
       "        canvas.attr('width', width * mpl.ratio);\n",
       "        canvas.attr('height', height * mpl.ratio);\n",
       "        canvas.attr('style', 'width: ' + width + 'px; height: ' + height + 'px;');\n",
       "\n",
       "        rubberband.attr('width', width);\n",
       "        rubberband.attr('height', height);\n",
       "    }\n",
       "\n",
       "    // Set the figure to an initial 600x600px, this will subsequently be updated\n",
       "    // upon first draw.\n",
       "    this._resize_canvas(600, 600);\n",
       "\n",
       "    // Disable right mouse context menu.\n",
       "    $(this.rubberband_canvas).bind(\"contextmenu\",function(e){\n",
       "        return false;\n",
       "    });\n",
       "\n",
       "    function set_focus () {\n",
       "        canvas.focus();\n",
       "        canvas_div.focus();\n",
       "    }\n",
       "\n",
       "    window.setTimeout(set_focus, 100);\n",
       "}\n",
       "\n",
       "mpl.figure.prototype._init_toolbar = function() {\n",
       "    var fig = this;\n",
       "\n",
       "    var nav_element = $('<div/>');\n",
       "    nav_element.attr('style', 'width: 100%');\n",
       "    this.root.append(nav_element);\n",
       "\n",
       "    // Define a callback function for later on.\n",
       "    function toolbar_event(event) {\n",
       "        return fig.toolbar_button_onclick(event['data']);\n",
       "    }\n",
       "    function toolbar_mouse_event(event) {\n",
       "        return fig.toolbar_button_onmouseover(event['data']);\n",
       "    }\n",
       "\n",
       "    for(var toolbar_ind in mpl.toolbar_items) {\n",
       "        var name = mpl.toolbar_items[toolbar_ind][0];\n",
       "        var tooltip = mpl.toolbar_items[toolbar_ind][1];\n",
       "        var image = mpl.toolbar_items[toolbar_ind][2];\n",
       "        var method_name = mpl.toolbar_items[toolbar_ind][3];\n",
       "\n",
       "        if (!name) {\n",
       "            // put a spacer in here.\n",
       "            continue;\n",
       "        }\n",
       "        var button = $('<button/>');\n",
       "        button.addClass('ui-button ui-widget ui-state-default ui-corner-all ' +\n",
       "                        'ui-button-icon-only');\n",
       "        button.attr('role', 'button');\n",
       "        button.attr('aria-disabled', 'false');\n",
       "        button.click(method_name, toolbar_event);\n",
       "        button.mouseover(tooltip, toolbar_mouse_event);\n",
       "\n",
       "        var icon_img = $('<span/>');\n",
       "        icon_img.addClass('ui-button-icon-primary ui-icon');\n",
       "        icon_img.addClass(image);\n",
       "        icon_img.addClass('ui-corner-all');\n",
       "\n",
       "        var tooltip_span = $('<span/>');\n",
       "        tooltip_span.addClass('ui-button-text');\n",
       "        tooltip_span.html(tooltip);\n",
       "\n",
       "        button.append(icon_img);\n",
       "        button.append(tooltip_span);\n",
       "\n",
       "        nav_element.append(button);\n",
       "    }\n",
       "\n",
       "    var fmt_picker_span = $('<span/>');\n",
       "\n",
       "    var fmt_picker = $('<select/>');\n",
       "    fmt_picker.addClass('mpl-toolbar-option ui-widget ui-widget-content');\n",
       "    fmt_picker_span.append(fmt_picker);\n",
       "    nav_element.append(fmt_picker_span);\n",
       "    this.format_dropdown = fmt_picker[0];\n",
       "\n",
       "    for (var ind in mpl.extensions) {\n",
       "        var fmt = mpl.extensions[ind];\n",
       "        var option = $(\n",
       "            '<option/>', {selected: fmt === mpl.default_extension}).html(fmt);\n",
       "        fmt_picker.append(option);\n",
       "    }\n",
       "\n",
       "    // Add hover states to the ui-buttons\n",
       "    $( \".ui-button\" ).hover(\n",
       "        function() { $(this).addClass(\"ui-state-hover\");},\n",
       "        function() { $(this).removeClass(\"ui-state-hover\");}\n",
       "    );\n",
       "\n",
       "    var status_bar = $('<span class=\"mpl-message\"/>');\n",
       "    nav_element.append(status_bar);\n",
       "    this.message = status_bar[0];\n",
       "}\n",
       "\n",
       "mpl.figure.prototype.request_resize = function(x_pixels, y_pixels) {\n",
       "    // Request matplotlib to resize the figure. Matplotlib will then trigger a resize in the client,\n",
       "    // which will in turn request a refresh of the image.\n",
       "    this.send_message('resize', {'width': x_pixels, 'height': y_pixels});\n",
       "}\n",
       "\n",
       "mpl.figure.prototype.send_message = function(type, properties) {\n",
       "    properties['type'] = type;\n",
       "    properties['figure_id'] = this.id;\n",
       "    this.ws.send(JSON.stringify(properties));\n",
       "}\n",
       "\n",
       "mpl.figure.prototype.send_draw_message = function() {\n",
       "    if (!this.waiting) {\n",
       "        this.waiting = true;\n",
       "        this.ws.send(JSON.stringify({type: \"draw\", figure_id: this.id}));\n",
       "    }\n",
       "}\n",
       "\n",
       "\n",
       "mpl.figure.prototype.handle_save = function(fig, msg) {\n",
       "    var format_dropdown = fig.format_dropdown;\n",
       "    var format = format_dropdown.options[format_dropdown.selectedIndex].value;\n",
       "    fig.ondownload(fig, format);\n",
       "}\n",
       "\n",
       "\n",
       "mpl.figure.prototype.handle_resize = function(fig, msg) {\n",
       "    var size = msg['size'];\n",
       "    if (size[0] != fig.canvas.width || size[1] != fig.canvas.height) {\n",
       "        fig._resize_canvas(size[0], size[1]);\n",
       "        fig.send_message(\"refresh\", {});\n",
       "    };\n",
       "}\n",
       "\n",
       "mpl.figure.prototype.handle_rubberband = function(fig, msg) {\n",
       "    var x0 = msg['x0'] / mpl.ratio;\n",
       "    var y0 = (fig.canvas.height - msg['y0']) / mpl.ratio;\n",
       "    var x1 = msg['x1'] / mpl.ratio;\n",
       "    var y1 = (fig.canvas.height - msg['y1']) / mpl.ratio;\n",
       "    x0 = Math.floor(x0) + 0.5;\n",
       "    y0 = Math.floor(y0) + 0.5;\n",
       "    x1 = Math.floor(x1) + 0.5;\n",
       "    y1 = Math.floor(y1) + 0.5;\n",
       "    var min_x = Math.min(x0, x1);\n",
       "    var min_y = Math.min(y0, y1);\n",
       "    var width = Math.abs(x1 - x0);\n",
       "    var height = Math.abs(y1 - y0);\n",
       "\n",
       "    fig.rubberband_context.clearRect(\n",
       "        0, 0, fig.canvas.width / mpl.ratio, fig.canvas.height / mpl.ratio);\n",
       "\n",
       "    fig.rubberband_context.strokeRect(min_x, min_y, width, height);\n",
       "}\n",
       "\n",
       "mpl.figure.prototype.handle_figure_label = function(fig, msg) {\n",
       "    // Updates the figure title.\n",
       "    fig.header.textContent = msg['label'];\n",
       "}\n",
       "\n",
       "mpl.figure.prototype.handle_cursor = function(fig, msg) {\n",
       "    var cursor = msg['cursor'];\n",
       "    switch(cursor)\n",
       "    {\n",
       "    case 0:\n",
       "        cursor = 'pointer';\n",
       "        break;\n",
       "    case 1:\n",
       "        cursor = 'default';\n",
       "        break;\n",
       "    case 2:\n",
       "        cursor = 'crosshair';\n",
       "        break;\n",
       "    case 3:\n",
       "        cursor = 'move';\n",
       "        break;\n",
       "    }\n",
       "    fig.rubberband_canvas.style.cursor = cursor;\n",
       "}\n",
       "\n",
       "mpl.figure.prototype.handle_message = function(fig, msg) {\n",
       "    fig.message.textContent = msg['message'];\n",
       "}\n",
       "\n",
       "mpl.figure.prototype.handle_draw = function(fig, msg) {\n",
       "    // Request the server to send over a new figure.\n",
       "    fig.send_draw_message();\n",
       "}\n",
       "\n",
       "mpl.figure.prototype.handle_image_mode = function(fig, msg) {\n",
       "    fig.image_mode = msg['mode'];\n",
       "}\n",
       "\n",
       "mpl.figure.prototype.updated_canvas_event = function() {\n",
       "    // Called whenever the canvas gets updated.\n",
       "    this.send_message(\"ack\", {});\n",
       "}\n",
       "\n",
       "// A function to construct a web socket function for onmessage handling.\n",
       "// Called in the figure constructor.\n",
       "mpl.figure.prototype._make_on_message_function = function(fig) {\n",
       "    return function socket_on_message(evt) {\n",
       "        if (evt.data instanceof Blob) {\n",
       "            /* FIXME: We get \"Resource interpreted as Image but\n",
       "             * transferred with MIME type text/plain:\" errors on\n",
       "             * Chrome.  But how to set the MIME type?  It doesn't seem\n",
       "             * to be part of the websocket stream */\n",
       "            evt.data.type = \"image/png\";\n",
       "\n",
       "            /* Free the memory for the previous frames */\n",
       "            if (fig.imageObj.src) {\n",
       "                (window.URL || window.webkitURL).revokeObjectURL(\n",
       "                    fig.imageObj.src);\n",
       "            }\n",
       "\n",
       "            fig.imageObj.src = (window.URL || window.webkitURL).createObjectURL(\n",
       "                evt.data);\n",
       "            fig.updated_canvas_event();\n",
       "            fig.waiting = false;\n",
       "            return;\n",
       "        }\n",
       "        else if (typeof evt.data === 'string' && evt.data.slice(0, 21) == \"data:image/png;base64\") {\n",
       "            fig.imageObj.src = evt.data;\n",
       "            fig.updated_canvas_event();\n",
       "            fig.waiting = false;\n",
       "            return;\n",
       "        }\n",
       "\n",
       "        var msg = JSON.parse(evt.data);\n",
       "        var msg_type = msg['type'];\n",
       "\n",
       "        // Call the  \"handle_{type}\" callback, which takes\n",
       "        // the figure and JSON message as its only arguments.\n",
       "        try {\n",
       "            var callback = fig[\"handle_\" + msg_type];\n",
       "        } catch (e) {\n",
       "            console.log(\"No handler for the '\" + msg_type + \"' message type: \", msg);\n",
       "            return;\n",
       "        }\n",
       "\n",
       "        if (callback) {\n",
       "            try {\n",
       "                // console.log(\"Handling '\" + msg_type + \"' message: \", msg);\n",
       "                callback(fig, msg);\n",
       "            } catch (e) {\n",
       "                console.log(\"Exception inside the 'handler_\" + msg_type + \"' callback:\", e, e.stack, msg);\n",
       "            }\n",
       "        }\n",
       "    };\n",
       "}\n",
       "\n",
       "// from http://stackoverflow.com/questions/1114465/getting-mouse-location-in-canvas\n",
       "mpl.findpos = function(e) {\n",
       "    //this section is from http://www.quirksmode.org/js/events_properties.html\n",
       "    var targ;\n",
       "    if (!e)\n",
       "        e = window.event;\n",
       "    if (e.target)\n",
       "        targ = e.target;\n",
       "    else if (e.srcElement)\n",
       "        targ = e.srcElement;\n",
       "    if (targ.nodeType == 3) // defeat Safari bug\n",
       "        targ = targ.parentNode;\n",
       "\n",
       "    // jQuery normalizes the pageX and pageY\n",
       "    // pageX,Y are the mouse positions relative to the document\n",
       "    // offset() returns the position of the element relative to the document\n",
       "    var x = e.pageX - $(targ).offset().left;\n",
       "    var y = e.pageY - $(targ).offset().top;\n",
       "\n",
       "    return {\"x\": x, \"y\": y};\n",
       "};\n",
       "\n",
       "/*\n",
       " * return a copy of an object with only non-object keys\n",
       " * we need this to avoid circular references\n",
       " * http://stackoverflow.com/a/24161582/3208463\n",
       " */\n",
       "function simpleKeys (original) {\n",
       "  return Object.keys(original).reduce(function (obj, key) {\n",
       "    if (typeof original[key] !== 'object')\n",
       "        obj[key] = original[key]\n",
       "    return obj;\n",
       "  }, {});\n",
       "}\n",
       "\n",
       "mpl.figure.prototype.mouse_event = function(event, name) {\n",
       "    var canvas_pos = mpl.findpos(event)\n",
       "\n",
       "    if (name === 'button_press')\n",
       "    {\n",
       "        this.canvas.focus();\n",
       "        this.canvas_div.focus();\n",
       "    }\n",
       "\n",
       "    var x = canvas_pos.x * mpl.ratio;\n",
       "    var y = canvas_pos.y * mpl.ratio;\n",
       "\n",
       "    this.send_message(name, {x: x, y: y, button: event.button,\n",
       "                             step: event.step,\n",
       "                             guiEvent: simpleKeys(event)});\n",
       "\n",
       "    /* This prevents the web browser from automatically changing to\n",
       "     * the text insertion cursor when the button is pressed.  We want\n",
       "     * to control all of the cursor setting manually through the\n",
       "     * 'cursor' event from matplotlib */\n",
       "    event.preventDefault();\n",
       "    return false;\n",
       "}\n",
       "\n",
       "mpl.figure.prototype._key_event_extra = function(event, name) {\n",
       "    // Handle any extra behaviour associated with a key event\n",
       "}\n",
       "\n",
       "mpl.figure.prototype.key_event = function(event, name) {\n",
       "\n",
       "    // Prevent repeat events\n",
       "    if (name == 'key_press')\n",
       "    {\n",
       "        if (event.which === this._key)\n",
       "            return;\n",
       "        else\n",
       "            this._key = event.which;\n",
       "    }\n",
       "    if (name == 'key_release')\n",
       "        this._key = null;\n",
       "\n",
       "    var value = '';\n",
       "    if (event.ctrlKey && event.which != 17)\n",
       "        value += \"ctrl+\";\n",
       "    if (event.altKey && event.which != 18)\n",
       "        value += \"alt+\";\n",
       "    if (event.shiftKey && event.which != 16)\n",
       "        value += \"shift+\";\n",
       "\n",
       "    value += 'k';\n",
       "    value += event.which.toString();\n",
       "\n",
       "    this._key_event_extra(event, name);\n",
       "\n",
       "    this.send_message(name, {key: value,\n",
       "                             guiEvent: simpleKeys(event)});\n",
       "    return false;\n",
       "}\n",
       "\n",
       "mpl.figure.prototype.toolbar_button_onclick = function(name) {\n",
       "    if (name == 'download') {\n",
       "        this.handle_save(this, null);\n",
       "    } else {\n",
       "        this.send_message(\"toolbar_button\", {name: name});\n",
       "    }\n",
       "};\n",
       "\n",
       "mpl.figure.prototype.toolbar_button_onmouseover = function(tooltip) {\n",
       "    this.message.textContent = tooltip;\n",
       "};\n",
       "mpl.toolbar_items = [[\"Home\", \"Reset original view\", \"fa fa-home icon-home\", \"home\"], [\"Back\", \"Back to previous view\", \"fa fa-arrow-left icon-arrow-left\", \"back\"], [\"Forward\", \"Forward to next view\", \"fa fa-arrow-right icon-arrow-right\", \"forward\"], [\"\", \"\", \"\", \"\"], [\"Pan\", \"Pan axes with left mouse, zoom with right\", \"fa fa-arrows icon-move\", \"pan\"], [\"Zoom\", \"Zoom to rectangle\", \"fa fa-square-o icon-check-empty\", \"zoom\"], [\"\", \"\", \"\", \"\"], [\"Download\", \"Download plot\", \"fa fa-floppy-o icon-save\", \"download\"]];\n",
       "\n",
       "mpl.extensions = [\"eps\", \"jpeg\", \"pdf\", \"png\", \"ps\", \"raw\", \"svg\", \"tif\"];\n",
       "\n",
       "mpl.default_extension = \"png\";var comm_websocket_adapter = function(comm) {\n",
       "    // Create a \"websocket\"-like object which calls the given IPython comm\n",
       "    // object with the appropriate methods. Currently this is a non binary\n",
       "    // socket, so there is still some room for performance tuning.\n",
       "    var ws = {};\n",
       "\n",
       "    ws.close = function() {\n",
       "        comm.close()\n",
       "    };\n",
       "    ws.send = function(m) {\n",
       "        //console.log('sending', m);\n",
       "        comm.send(m);\n",
       "    };\n",
       "    // Register the callback with on_msg.\n",
       "    comm.on_msg(function(msg) {\n",
       "        //console.log('receiving', msg['content']['data'], msg);\n",
       "        // Pass the mpl event to the overridden (by mpl) onmessage function.\n",
       "        ws.onmessage(msg['content']['data'])\n",
       "    });\n",
       "    return ws;\n",
       "}\n",
       "\n",
       "mpl.mpl_figure_comm = function(comm, msg) {\n",
       "    // This is the function which gets called when the mpl process\n",
       "    // starts-up an IPython Comm through the \"matplotlib\" channel.\n",
       "\n",
       "    var id = msg.content.data.id;\n",
       "    // Get hold of the div created by the display call when the Comm\n",
       "    // socket was opened in Python.\n",
       "    var element = $(\"#\" + id);\n",
       "    var ws_proxy = comm_websocket_adapter(comm)\n",
       "\n",
       "    function ondownload(figure, format) {\n",
       "        window.open(figure.imageObj.src);\n",
       "    }\n",
       "\n",
       "    var fig = new mpl.figure(id, ws_proxy,\n",
       "                           ondownload,\n",
       "                           element.get(0));\n",
       "\n",
       "    // Call onopen now - mpl needs it, as it is assuming we've passed it a real\n",
       "    // web socket which is closed, not our websocket->open comm proxy.\n",
       "    ws_proxy.onopen();\n",
       "\n",
       "    fig.parent_element = element.get(0);\n",
       "    fig.cell_info = mpl.find_output_cell(\"<div id='\" + id + \"'></div>\");\n",
       "    if (!fig.cell_info) {\n",
       "        console.error(\"Failed to find cell for figure\", id, fig);\n",
       "        return;\n",
       "    }\n",
       "\n",
       "    var output_index = fig.cell_info[2]\n",
       "    var cell = fig.cell_info[0];\n",
       "\n",
       "};\n",
       "\n",
       "mpl.figure.prototype.handle_close = function(fig, msg) {\n",
       "    var width = fig.canvas.width/mpl.ratio\n",
       "    fig.root.unbind('remove')\n",
       "\n",
       "    // Update the output cell to use the data from the current canvas.\n",
       "    fig.push_to_output();\n",
       "    var dataURL = fig.canvas.toDataURL();\n",
       "    // Re-enable the keyboard manager in IPython - without this line, in FF,\n",
       "    // the notebook keyboard shortcuts fail.\n",
       "    IPython.keyboard_manager.enable()\n",
       "    $(fig.parent_element).html('<img src=\"' + dataURL + '\" width=\"' + width + '\">');\n",
       "    fig.close_ws(fig, msg);\n",
       "}\n",
       "\n",
       "mpl.figure.prototype.close_ws = function(fig, msg){\n",
       "    fig.send_message('closing', msg);\n",
       "    // fig.ws.close()\n",
       "}\n",
       "\n",
       "mpl.figure.prototype.push_to_output = function(remove_interactive) {\n",
       "    // Turn the data on the canvas into data in the output cell.\n",
       "    var width = this.canvas.width/mpl.ratio\n",
       "    var dataURL = this.canvas.toDataURL();\n",
       "    this.cell_info[1]['text/html'] = '<img src=\"' + dataURL + '\" width=\"' + width + '\">';\n",
       "}\n",
       "\n",
       "mpl.figure.prototype.updated_canvas_event = function() {\n",
       "    // Tell IPython that the notebook contents must change.\n",
       "    IPython.notebook.set_dirty(true);\n",
       "    this.send_message(\"ack\", {});\n",
       "    var fig = this;\n",
       "    // Wait a second, then push the new image to the DOM so\n",
       "    // that it is saved nicely (might be nice to debounce this).\n",
       "    setTimeout(function () { fig.push_to_output() }, 1000);\n",
       "}\n",
       "\n",
       "mpl.figure.prototype._init_toolbar = function() {\n",
       "    var fig = this;\n",
       "\n",
       "    var nav_element = $('<div/>');\n",
       "    nav_element.attr('style', 'width: 100%');\n",
       "    this.root.append(nav_element);\n",
       "\n",
       "    // Define a callback function for later on.\n",
       "    function toolbar_event(event) {\n",
       "        return fig.toolbar_button_onclick(event['data']);\n",
       "    }\n",
       "    function toolbar_mouse_event(event) {\n",
       "        return fig.toolbar_button_onmouseover(event['data']);\n",
       "    }\n",
       "\n",
       "    for(var toolbar_ind in mpl.toolbar_items){\n",
       "        var name = mpl.toolbar_items[toolbar_ind][0];\n",
       "        var tooltip = mpl.toolbar_items[toolbar_ind][1];\n",
       "        var image = mpl.toolbar_items[toolbar_ind][2];\n",
       "        var method_name = mpl.toolbar_items[toolbar_ind][3];\n",
       "\n",
       "        if (!name) { continue; };\n",
       "\n",
       "        var button = $('<button class=\"btn btn-default\" href=\"#\" title=\"' + name + '\"><i class=\"fa ' + image + ' fa-lg\"></i></button>');\n",
       "        button.click(method_name, toolbar_event);\n",
       "        button.mouseover(tooltip, toolbar_mouse_event);\n",
       "        nav_element.append(button);\n",
       "    }\n",
       "\n",
       "    // Add the status bar.\n",
       "    var status_bar = $('<span class=\"mpl-message\" style=\"text-align:right; float: right;\"/>');\n",
       "    nav_element.append(status_bar);\n",
       "    this.message = status_bar[0];\n",
       "\n",
       "    // Add the close button to the window.\n",
       "    var buttongrp = $('<div class=\"btn-group inline pull-right\"></div>');\n",
       "    var button = $('<button class=\"btn btn-mini btn-primary\" href=\"#\" title=\"Stop Interaction\"><i class=\"fa fa-power-off icon-remove icon-large\"></i></button>');\n",
       "    button.click(function (evt) { fig.handle_close(fig, {}); } );\n",
       "    button.mouseover('Stop Interaction', toolbar_mouse_event);\n",
       "    buttongrp.append(button);\n",
       "    var titlebar = this.root.find($('.ui-dialog-titlebar'));\n",
       "    titlebar.prepend(buttongrp);\n",
       "}\n",
       "\n",
       "mpl.figure.prototype._root_extra_style = function(el){\n",
       "    var fig = this\n",
       "    el.on(\"remove\", function(){\n",
       "\tfig.close_ws(fig, {});\n",
       "    });\n",
       "}\n",
       "\n",
       "mpl.figure.prototype._canvas_extra_style = function(el){\n",
       "    // this is important to make the div 'focusable\n",
       "    el.attr('tabindex', 0)\n",
       "    // reach out to IPython and tell the keyboard manager to turn it's self\n",
       "    // off when our div gets focus\n",
       "\n",
       "    // location in version 3\n",
       "    if (IPython.notebook.keyboard_manager) {\n",
       "        IPython.notebook.keyboard_manager.register_events(el);\n",
       "    }\n",
       "    else {\n",
       "        // location in version 2\n",
       "        IPython.keyboard_manager.register_events(el);\n",
       "    }\n",
       "\n",
       "}\n",
       "\n",
       "mpl.figure.prototype._key_event_extra = function(event, name) {\n",
       "    var manager = IPython.notebook.keyboard_manager;\n",
       "    if (!manager)\n",
       "        manager = IPython.keyboard_manager;\n",
       "\n",
       "    // Check for shift+enter\n",
       "    if (event.shiftKey && event.which == 13) {\n",
       "        this.canvas_div.blur();\n",
       "        // select the cell after this one\n",
       "        var index = IPython.notebook.find_cell_index(this.cell_info[0]);\n",
       "        IPython.notebook.select(index + 1);\n",
       "    }\n",
       "}\n",
       "\n",
       "mpl.figure.prototype.handle_save = function(fig, msg) {\n",
       "    fig.ondownload(fig, null);\n",
       "}\n",
       "\n",
       "\n",
       "mpl.find_output_cell = function(html_output) {\n",
       "    // Return the cell and output element which can be found *uniquely* in the notebook.\n",
       "    // Note - this is a bit hacky, but it is done because the \"notebook_saving.Notebook\"\n",
       "    // IPython event is triggered only after the cells have been serialised, which for\n",
       "    // our purposes (turning an active figure into a static one), is too late.\n",
       "    var cells = IPython.notebook.get_cells();\n",
       "    var ncells = cells.length;\n",
       "    for (var i=0; i<ncells; i++) {\n",
       "        var cell = cells[i];\n",
       "        if (cell.cell_type === 'code'){\n",
       "            for (var j=0; j<cell.output_area.outputs.length; j++) {\n",
       "                var data = cell.output_area.outputs[j];\n",
       "                if (data.data) {\n",
       "                    // IPython >= 3 moved mimebundle to data attribute of output\n",
       "                    data = data.data;\n",
       "                }\n",
       "                if (data['text/html'] == html_output) {\n",
       "                    return [cell, data, j];\n",
       "                }\n",
       "            }\n",
       "        }\n",
       "    }\n",
       "}\n",
       "\n",
       "// Register the function which deals with the matplotlib target/channel.\n",
       "// The kernel may be null if the page has been refreshed.\n",
       "if (IPython.notebook.kernel != null) {\n",
       "    IPython.notebook.kernel.comm_manager.register_target('matplotlib', mpl.mpl_figure_comm);\n",
       "}\n"
      ],
      "text/plain": [
       "<IPython.core.display.Javascript object>"
      ]
     },
     "metadata": {},
     "output_type": "display_data"
    },
    {
     "data": {
      "text/html": [
       "<img src=\"data:image/png;base64,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\" width=\"899.9999804930258\">"
      ],
      "text/plain": [
       "<IPython.core.display.HTML object>"
      ]
     },
     "metadata": {},
     "output_type": "display_data"
    }
   ],
   "source": [
    "plt.figure()\n",
    "plt.errorbar(\n",
    "    mus_to_test, \n",
    "    [metric.metrics['PSNR'].mean() for metric in metrics], \n",
    "    [metric.metrics['PSNR'].stddev() for metric in metrics],\n",
    "    linestyle='None', \n",
    "    marker='o',\n",
    ")\n",
    "plt.xscale('log')"
   ]
  },
  {
   "cell_type": "code",
   "execution_count": 54,
   "metadata": {},
   "outputs": [],
   "source": [
    "mus_to_test = np.logspace(-10, -8, 7)"
   ]
  },
  {
   "cell_type": "code",
   "execution_count": 55,
   "metadata": {
    "scrolled": true
   },
   "outputs": [
    {
     "name": "stderr",
     "output_type": "stream",
     "text": [
      "/volatile/home/Zaccharie/workspace/fastmri-reproducible-benchmark/venv/lib/python3.6/site-packages/ipykernel_launcher.py:2: TqdmDeprecationWarning: This function will be removed in tqdm==5.0.0\n",
      "Please use `tqdm.notebook.tqdm` instead of `tqdm.tqdm_notebook`\n",
      "  \n"
     ]
    },
    {
     "data": {
      "application/vnd.jupyter.widget-view+json": {
       "model_id": "a706e9edebd24eedb20c53b9682c3f05",
       "version_major": 2,
       "version_minor": 0
      },
      "text/plain": [
       "HBox(children=(FloatProgress(value=0.0, description='mus', max=7.0, style=ProgressStyle(description_width='ini…"
      ]
     },
     "metadata": {},
     "output_type": "display_data"
    },
    {
     "name": "stderr",
     "output_type": "stream",
     "text": [
      "/volatile/home/Zaccharie/workspace/fastmri-reproducible-benchmark/venv/lib/python3.6/site-packages/ipykernel_launcher.py:6: TqdmDeprecationWarning: This function will be removed in tqdm==5.0.0\n",
      "Please use `tqdm.notebook.tqdm` instead of `tqdm.tqdm_notebook`\n",
      "  \n"
     ]
    },
    {
     "data": {
      "application/vnd.jupyter.widget-view+json": {
       "model_id": "c8b6807eab93447fa11d834194e57bbd",
       "version_major": 2,
       "version_minor": 0
      },
      "text/plain": [
       "HBox(children=(FloatProgress(value=0.0, description='K-spaces', max=24.0, style=ProgressStyle(description_widt…"
      ]
     },
     "metadata": {},
     "output_type": "display_data"
    },
    {
     "name": "stderr",
     "output_type": "stream",
     "text": [
      "/volatile/home/Zaccharie/workspace/fastmri-reproducible-benchmark/fastmri_recon/data/data_utils.py:18: H5pyDeprecationWarning: The default file mode will change to 'r' (read-only) in h5py 3.0. To suppress this warning, pass the mode you need to h5py.File(), or set the global default h5.get_config().default_file_mode, or set the environment variable H5PY_DEFAULT_READONLY=1. Available modes are: 'r', 'r+', 'w', 'w-'/'x', 'a'. See the docs for details.\n",
      "  with h5py.File(filename) as h5_obj:\n",
      "/volatile/home/Zaccharie/workspace/fastmri-reproducible-benchmark/venv/lib/python3.6/site-packages/mri/reconstruct/utils.py:74: FutureWarning: Using a non-tuple sequence for multidimensional indexing is deprecated; use `arr[tuple(seq)]` instead of `arr[seq]`. In the future this will be interpreted as an array index, `arr[np.array(seq)]`, which will result either in an error or a different result.\n",
      "  mask[test] = 1\n",
      "\u001b[33mWARNING\u001b[0m: Making input data immutable.\n"
     ]
    },
    {
     "name": "stdout",
     "output_type": "stream",
     "text": [
      "\n",
      "  _____             ____     _____      _\n",
      " |\" ___|    ___    / __\"| u |_ \" _| U  /\"\\  u\n",
      "U| |_  u   |_\"_|  <\\___ \\/    | |    \\/ _ \\/\n",
      "\\|  _|/     | |    u___) |   /| |\\   / ___ \\\\\n",
      " |_|      U/| |\\u  |____/>> u |_|U  /_/   \\_\\\\\n",
      " )(\\\\\\,-.-,_|___|_,-.)(  (__)_// \\\\\\_  \\\\\\    >>\n",
      "(__)(_/ \\_)-' '-(_/(__)    (__) (__)(__)  (__)\n",
      "    \n",
      " - mu:  1e-10\n",
      " - lipschitz constant:  1.0999999999999774\n",
      " - data:  (640, 368)\n",
      " - wavelet:  <mri.reconstruct.linear.WaveletN object at 0x7fa415738780> - 4\n",
      " - max iterations:  200\n",
      " - image variable shape:  (640, 368)\n",
      " - alpha variable shape:  (235520,)\n",
      "----------------------------------------\n",
      "Starting optimization...\n"
     ]
    },
    {
     "name": "stderr",
     "output_type": "stream",
     "text": [
      "100% (200 of 200) |######################| Elapsed Time: 0:00:50 Time:  0:00:50\n"
     ]
    },
    {
     "name": "stdout",
     "output_type": "stream",
     "text": [
      " - final iteration number:  200\n",
      " - final log10 cost value:  -5.129166774908001\n",
      " - converged:  True\n",
      "Done.\n",
      "Execution time:  1604.404189000008  seconds\n",
      "----------------------------------------\n"
     ]
    },
    {
     "name": "stderr",
     "output_type": "stream",
     "text": [
      "\u001b[33mWARNING\u001b[0m: Making input data immutable.\n"
     ]
    },
    {
     "name": "stdout",
     "output_type": "stream",
     "text": [
      "\n",
      "  _____             ____     _____      _\n",
      " |\" ___|    ___    / __\"| u |_ \" _| U  /\"\\  u\n",
      "U| |_  u   |_\"_|  <\\___ \\/    | |    \\/ _ \\/\n",
      "\\|  _|/     | |    u___) |   /| |\\   / ___ \\\\\n",
      " |_|      U/| |\\u  |____/>> u |_|U  /_/   \\_\\\\\n",
      " )(\\\\\\,-.-,_|___|_,-.)(  (__)_// \\\\\\_  \\\\\\    >>\n",
      "(__)(_/ \\_)-' '-(_/(__)    (__) (__)(__)  (__)\n",
      "    \n",
      " - mu:  1e-10\n",
      " - lipschitz constant:  1.0999999999999854\n",
      " - data:  (640, 372)\n",
      " - wavelet:  <mri.reconstruct.linear.WaveletN object at 0x7fa415738470> - 4\n",
      " - max iterations:  200\n",
      " - image variable shape:  (640, 372)\n",
      " - alpha variable shape:  (238320,)\n",
      "----------------------------------------\n",
      "Starting optimization...\n"
     ]
    },
    {
     "name": "stderr",
     "output_type": "stream",
     "text": [
      "100% (200 of 200) |######################| Elapsed Time: 0:00:52 Time:  0:00:52\n"
     ]
    },
    {
     "name": "stdout",
     "output_type": "stream",
     "text": [
      " - final iteration number:  200\n",
      " - final log10 cost value:  -6.418936831273035\n",
      " - converged:  True\n",
      "Done.\n",
      "Execution time:  1556.348484000002  seconds\n",
      "----------------------------------------\n"
     ]
    },
    {
     "name": "stderr",
     "output_type": "stream",
     "text": [
      "\u001b[33mWARNING\u001b[0m: Making input data immutable.\n"
     ]
    },
    {
     "name": "stdout",
     "output_type": "stream",
     "text": [
      "\n",
      "  _____             ____     _____      _\n",
      " |\" ___|    ___    / __\"| u |_ \" _| U  /\"\\  u\n",
      "U| |_  u   |_\"_|  <\\___ \\/    | |    \\/ _ \\/\n",
      "\\|  _|/     | |    u___) |   /| |\\   / ___ \\\\\n",
      " |_|      U/| |\\u  |____/>> u |_|U  /_/   \\_\\\\\n",
      " )(\\\\\\,-.-,_|___|_,-.)(  (__)_// \\\\\\_  \\\\\\    >>\n",
      "(__)(_/ \\_)-' '-(_/(__)    (__) (__)(__)  (__)\n",
      "    \n",
      " - mu:  1e-10\n",
      " - lipschitz constant:  1.1000000000000307\n",
      " - data:  (640, 368)\n",
      " - wavelet:  <mri.reconstruct.linear.WaveletN object at 0x7fa415738358> - 4\n",
      " - max iterations:  200\n",
      " - image variable shape:  (640, 368)\n",
      " - alpha variable shape:  (235520,)\n",
      "----------------------------------------\n",
      "Starting optimization...\n"
     ]
    },
    {
     "name": "stderr",
     "output_type": "stream",
     "text": [
      "100% (200 of 200) |######################| Elapsed Time: 0:00:51 Time:  0:00:51\n"
     ]
    },
    {
     "name": "stdout",
     "output_type": "stream",
     "text": [
      " - final iteration number:  200\n",
      " - final log10 cost value:  -5.175782095709387\n",
      " - converged:  True\n",
      "Done.\n",
      "Execution time:  1600.4624179999955  seconds\n",
      "----------------------------------------\n"
     ]
    },
    {
     "name": "stderr",
     "output_type": "stream",
     "text": [
      "\u001b[33mWARNING\u001b[0m: Making input data immutable.\n"
     ]
    },
    {
     "name": "stdout",
     "output_type": "stream",
     "text": [
      "\n",
      "  _____             ____     _____      _\n",
      " |\" ___|    ___    / __\"| u |_ \" _| U  /\"\\  u\n",
      "U| |_  u   |_\"_|  <\\___ \\/    | |    \\/ _ \\/\n",
      "\\|  _|/     | |    u___) |   /| |\\   / ___ \\\\\n",
      " |_|      U/| |\\u  |____/>> u |_|U  /_/   \\_\\\\\n",
      " )(\\\\\\,-.-,_|___|_,-.)(  (__)_// \\\\\\_  \\\\\\    >>\n",
      "(__)(_/ \\_)-' '-(_/(__)    (__) (__)(__)  (__)\n",
      "    \n",
      " - mu:  1e-10\n",
      " - lipschitz constant:  1.1000000000000216\n",
      " - data:  (640, 338)\n",
      " - wavelet:  <mri.reconstruct.linear.WaveletN object at 0x7fa415738be0> - 4\n",
      " - max iterations:  200\n",
      " - image variable shape:  (640, 338)\n",
      " - alpha variable shape:  (216880,)\n",
      "----------------------------------------\n",
      "Starting optimization...\n"
     ]
    },
    {
     "name": "stderr",
     "output_type": "stream",
     "text": [
      "100% (200 of 200) |######################| Elapsed Time: 0:00:48 Time:  0:00:48\n"
     ]
    },
    {
     "name": "stdout",
     "output_type": "stream",
     "text": [
      " - final iteration number:  200\n",
      " - final log10 cost value:  -6.12450223235385\n",
      " - converged:  True\n",
      "Done.\n",
      "Execution time:  1610.3389529999986  seconds\n",
      "----------------------------------------\n"
     ]
    },
    {
     "name": "stderr",
     "output_type": "stream",
     "text": [
      "\u001b[33mWARNING\u001b[0m: Making input data immutable.\n"
     ]
    },
    {
     "name": "stdout",
     "output_type": "stream",
     "text": [
      "\n",
      "  _____             ____     _____      _\n",
      " |\" ___|    ___    / __\"| u |_ \" _| U  /\"\\  u\n",
      "U| |_  u   |_\"_|  <\\___ \\/    | |    \\/ _ \\/\n",
      "\\|  _|/     | |    u___) |   /| |\\   / ___ \\\\\n",
      " |_|      U/| |\\u  |____/>> u |_|U  /_/   \\_\\\\\n",
      " )(\\\\\\,-.-,_|___|_,-.)(  (__)_// \\\\\\_  \\\\\\    >>\n",
      "(__)(_/ \\_)-' '-(_/(__)    (__) (__)(__)  (__)\n",
      "    \n",
      " - mu:  1e-10\n",
      " - lipschitz constant:  1.1000000000000878\n",
      " - data:  (640, 368)\n",
      " - wavelet:  <mri.reconstruct.linear.WaveletN object at 0x7fa41578ec88> - 4\n",
      " - max iterations:  200\n",
      " - image variable shape:  (640, 368)\n",
      " - alpha variable shape:  (235520,)\n",
      "----------------------------------------\n",
      "Starting optimization...\n"
     ]
    },
    {
     "name": "stderr",
     "output_type": "stream",
     "text": [
      "100% (200 of 200) |######################| Elapsed Time: 0:00:50 Time:  0:00:50\n"
     ]
    },
    {
     "name": "stdout",
     "output_type": "stream",
     "text": [
      " - final iteration number:  200\n",
      " - final log10 cost value:  -5.4349043533584265\n",
      " - converged:  True\n",
      "Done.\n",
      "Execution time:  1644.1018040000054  seconds\n",
      "----------------------------------------\n"
     ]
    },
    {
     "name": "stderr",
     "output_type": "stream",
     "text": [
      "\u001b[33mWARNING\u001b[0m: Making input data immutable.\n"
     ]
    },
    {
     "name": "stdout",
     "output_type": "stream",
     "text": [
      "\n",
      "  _____             ____     _____      _\n",
      " |\" ___|    ___    / __\"| u |_ \" _| U  /\"\\  u\n",
      "U| |_  u   |_\"_|  <\\___ \\/    | |    \\/ _ \\/\n",
      "\\|  _|/     | |    u___) |   /| |\\   / ___ \\\\\n",
      " |_|      U/| |\\u  |____/>> u |_|U  /_/   \\_\\\\\n",
      " )(\\\\\\,-.-,_|___|_,-.)(  (__)_// \\\\\\_  \\\\\\    >>\n",
      "(__)(_/ \\_)-' '-(_/(__)    (__) (__)(__)  (__)\n",
      "    \n",
      " - mu:  1e-10\n",
      " - lipschitz constant:  1.1000000000000303\n",
      " - data:  (640, 372)\n",
      " - wavelet:  <mri.reconstruct.linear.WaveletN object at 0x7fa41578ebe0> - 4\n",
      " - max iterations:  200\n",
      " - image variable shape:  (640, 372)\n",
      " - alpha variable shape:  (238320,)\n",
      "----------------------------------------\n",
      "Starting optimization...\n"
     ]
    },
    {
     "name": "stderr",
     "output_type": "stream",
     "text": [
      "100% (200 of 200) |######################| Elapsed Time: 0:00:51 Time:  0:00:51\n"
     ]
    },
    {
     "name": "stdout",
     "output_type": "stream",
     "text": [
      " - final iteration number:  200\n",
      " - final log10 cost value:  -6.5467727080736875\n",
      " - converged:  True\n",
      "Done.\n",
      "Execution time:  1670.9342869999964  seconds\n",
      "----------------------------------------\n"
     ]
    },
    {
     "name": "stderr",
     "output_type": "stream",
     "text": [
      "\u001b[33mWARNING\u001b[0m: Making input data immutable.\n"
     ]
    },
    {
     "name": "stdout",
     "output_type": "stream",
     "text": [
      "\n",
      "  _____             ____     _____      _\n",
      " |\" ___|    ___    / __\"| u |_ \" _| U  /\"\\  u\n",
      "U| |_  u   |_\"_|  <\\___ \\/    | |    \\/ _ \\/\n",
      "\\|  _|/     | |    u___) |   /| |\\   / ___ \\\\\n",
      " |_|      U/| |\\u  |____/>> u |_|U  /_/   \\_\\\\\n",
      " )(\\\\\\,-.-,_|___|_,-.)(  (__)_// \\\\\\_  \\\\\\    >>\n",
      "(__)(_/ \\_)-' '-(_/(__)    (__) (__)(__)  (__)\n",
      "    \n",
      " - mu:  1e-10\n",
      " - lipschitz constant:  1.099999999999974\n",
      " - data:  (640, 372)\n",
      " - wavelet:  <mri.reconstruct.linear.WaveletN object at 0x7fa415738be0> - 4\n",
      " - max iterations:  200\n",
      " - image variable shape:  (640, 372)\n",
      " - alpha variable shape:  (238320,)\n",
      "----------------------------------------\n",
      "Starting optimization...\n"
     ]
    },
    {
     "name": "stderr",
     "output_type": "stream",
     "text": [
      "100% (200 of 200) |######################| Elapsed Time: 0:00:52 Time:  0:00:52\n"
     ]
    },
    {
     "name": "stdout",
     "output_type": "stream",
     "text": [
      " - final iteration number:  200\n",
      " - final log10 cost value:  -6.276227700315011\n",
      " - converged:  True\n",
      "Done.\n",
      "Execution time:  1680.9568870000076  seconds\n",
      "----------------------------------------\n"
     ]
    },
    {
     "name": "stderr",
     "output_type": "stream",
     "text": [
      "\u001b[33mWARNING\u001b[0m: Making input data immutable.\n"
     ]
    },
    {
     "name": "stdout",
     "output_type": "stream",
     "text": [
      "\n",
      "  _____             ____     _____      _\n",
      " |\" ___|    ___    / __\"| u |_ \" _| U  /\"\\  u\n",
      "U| |_  u   |_\"_|  <\\___ \\/    | |    \\/ _ \\/\n",
      "\\|  _|/     | |    u___) |   /| |\\   / ___ \\\\\n",
      " |_|      U/| |\\u  |____/>> u |_|U  /_/   \\_\\\\\n",
      " )(\\\\\\,-.-,_|___|_,-.)(  (__)_// \\\\\\_  \\\\\\    >>\n",
      "(__)(_/ \\_)-' '-(_/(__)    (__) (__)(__)  (__)\n",
      "    \n",
      " - mu:  1e-10\n",
      " - lipschitz constant:  1.100000000000089\n",
      " - data:  (640, 368)\n",
      " - wavelet:  <mri.reconstruct.linear.WaveletN object at 0x7fa41578e630> - 4\n",
      " - max iterations:  200\n",
      " - image variable shape:  (640, 368)\n",
      " - alpha variable shape:  (235520,)\n",
      "----------------------------------------\n",
      "Starting optimization...\n"
     ]
    },
    {
     "name": "stderr",
     "output_type": "stream",
     "text": [
      "100% (200 of 200) |######################| Elapsed Time: 0:00:50 Time:  0:00:50\n"
     ]
    },
    {
     "name": "stdout",
     "output_type": "stream",
     "text": [
      " - final iteration number:  200\n",
      " - final log10 cost value:  -5.364504777813146\n",
      " - converged:  True\n",
      "Done.\n",
      "Execution time:  1642.4891770000104  seconds\n",
      "----------------------------------------\n"
     ]
    },
    {
     "name": "stderr",
     "output_type": "stream",
     "text": [
      "\u001b[33mWARNING\u001b[0m: Making input data immutable.\n"
     ]
    },
    {
     "name": "stdout",
     "output_type": "stream",
     "text": [
      "\n",
      "  _____             ____     _____      _\n",
      " |\" ___|    ___    / __\"| u |_ \" _| U  /\"\\  u\n",
      "U| |_  u   |_\"_|  <\\___ \\/    | |    \\/ _ \\/\n",
      "\\|  _|/     | |    u___) |   /| |\\   / ___ \\\\\n",
      " |_|      U/| |\\u  |____/>> u |_|U  /_/   \\_\\\\\n",
      " )(\\\\\\,-.-,_|___|_,-.)(  (__)_// \\\\\\_  \\\\\\    >>\n",
      "(__)(_/ \\_)-' '-(_/(__)    (__) (__)(__)  (__)\n",
      "    \n",
      " - mu:  1e-10\n",
      " - lipschitz constant:  1.099999999999977\n",
      " - data:  (640, 372)\n",
      " - wavelet:  <mri.reconstruct.linear.WaveletN object at 0x7fa41578ed30> - 4\n",
      " - max iterations:  200\n",
      " - image variable shape:  (640, 372)\n",
      " - alpha variable shape:  (238320,)\n",
      "----------------------------------------\n",
      "Starting optimization...\n"
     ]
    },
    {
     "name": "stderr",
     "output_type": "stream",
     "text": [
      "100% (200 of 200) |######################| Elapsed Time: 0:00:51 Time:  0:00:51\n"
     ]
    },
    {
     "name": "stdout",
     "output_type": "stream",
     "text": [
      " - final iteration number:  200\n",
      " - final log10 cost value:  -6.471197495286625\n",
      " - converged:  True\n",
      "Done.\n",
      "Execution time:  1679.9251610000065  seconds\n",
      "----------------------------------------\n"
     ]
    },
    {
     "name": "stderr",
     "output_type": "stream",
     "text": [
      "\u001b[33mWARNING\u001b[0m: Making input data immutable.\n"
     ]
    },
    {
     "name": "stdout",
     "output_type": "stream",
     "text": [
      "\n",
      "  _____             ____     _____      _\n",
      " |\" ___|    ___    / __\"| u |_ \" _| U  /\"\\  u\n",
      "U| |_  u   |_\"_|  <\\___ \\/    | |    \\/ _ \\/\n",
      "\\|  _|/     | |    u___) |   /| |\\   / ___ \\\\\n",
      " |_|      U/| |\\u  |____/>> u |_|U  /_/   \\_\\\\\n",
      " )(\\\\\\,-.-,_|___|_,-.)(  (__)_// \\\\\\_  \\\\\\    >>\n",
      "(__)(_/ \\_)-' '-(_/(__)    (__) (__)(__)  (__)\n",
      "    \n",
      " - mu:  1e-10\n",
      " - lipschitz constant:  1.100000000000085\n",
      " - data:  (640, 368)\n",
      " - wavelet:  <mri.reconstruct.linear.WaveletN object at 0x7fa41578e860> - 4\n",
      " - max iterations:  200\n",
      " - image variable shape:  (640, 368)\n",
      " - alpha variable shape:  (235520,)\n",
      "----------------------------------------\n",
      "Starting optimization...\n"
     ]
    },
    {
     "name": "stderr",
     "output_type": "stream",
     "text": [
      "100% (200 of 200) |######################| Elapsed Time: 0:00:50 Time:  0:00:50\n"
     ]
    },
    {
     "name": "stdout",
     "output_type": "stream",
     "text": [
      " - final iteration number:  200\n",
      " - final log10 cost value:  -5.3912519208579806\n",
      " - converged:  True\n",
      "Done.\n",
      "Execution time:  1644.2491330000048  seconds\n",
      "----------------------------------------\n"
     ]
    },
    {
     "name": "stderr",
     "output_type": "stream",
     "text": [
      "\u001b[33mWARNING\u001b[0m: Making input data immutable.\n"
     ]
    },
    {
     "name": "stdout",
     "output_type": "stream",
     "text": [
      "\n",
      "  _____             ____     _____      _\n",
      " |\" ___|    ___    / __\"| u |_ \" _| U  /\"\\  u\n",
      "U| |_  u   |_\"_|  <\\___ \\/    | |    \\/ _ \\/\n",
      "\\|  _|/     | |    u___) |   /| |\\   / ___ \\\\\n",
      " |_|      U/| |\\u  |____/>> u |_|U  /_/   \\_\\\\\n",
      " )(\\\\\\,-.-,_|___|_,-.)(  (__)_// \\\\\\_  \\\\\\    >>\n",
      "(__)(_/ \\_)-' '-(_/(__)    (__) (__)(__)  (__)\n",
      "    \n",
      " - mu:  1e-10\n",
      " - lipschitz constant:  1.1000000000000845\n",
      " - data:  (640, 372)\n",
      " - wavelet:  <mri.reconstruct.linear.WaveletN object at 0x7fa415760ef0> - 4\n",
      " - max iterations:  200\n",
      " - image variable shape:  (640, 372)\n",
      " - alpha variable shape:  (238320,)\n",
      "----------------------------------------\n",
      "Starting optimization...\n"
     ]
    },
    {
     "name": "stderr",
     "output_type": "stream",
     "text": [
      "100% (200 of 200) |######################| Elapsed Time: 0:00:52 Time:  0:00:52\n"
     ]
    },
    {
     "name": "stdout",
     "output_type": "stream",
     "text": [
      " - final iteration number:  200\n",
      " - final log10 cost value:  -6.1479384899800475\n",
      " - converged:  True\n",
      "Done.\n",
      "Execution time:  1677.750469000006  seconds\n",
      "----------------------------------------\n"
     ]
    },
    {
     "name": "stderr",
     "output_type": "stream",
     "text": [
      "\u001b[33mWARNING\u001b[0m: Making input data immutable.\n"
     ]
    },
    {
     "name": "stdout",
     "output_type": "stream",
     "text": [
      "\n",
      "  _____             ____     _____      _\n",
      " |\" ___|    ___    / __\"| u |_ \" _| U  /\"\\  u\n",
      "U| |_  u   |_\"_|  <\\___ \\/    | |    \\/ _ \\/\n",
      "\\|  _|/     | |    u___) |   /| |\\   / ___ \\\\\n",
      " |_|      U/| |\\u  |____/>> u |_|U  /_/   \\_\\\\\n",
      " )(\\\\\\,-.-,_|___|_,-.)(  (__)_// \\\\\\_  \\\\\\    >>\n",
      "(__)(_/ \\_)-' '-(_/(__)    (__) (__)(__)  (__)\n",
      "    \n",
      " - mu:  1e-10\n",
      " - lipschitz constant:  1.1000000000000694\n",
      " - data:  (640, 372)\n",
      " - wavelet:  <mri.reconstruct.linear.WaveletN object at 0x7fa415760320> - 4\n",
      " - max iterations:  200\n",
      " - image variable shape:  (640, 372)\n",
      " - alpha variable shape:  (238320,)\n",
      "----------------------------------------\n",
      "Starting optimization...\n"
     ]
    },
    {
     "name": "stderr",
     "output_type": "stream",
     "text": [
      "100% (200 of 200) |######################| Elapsed Time: 0:00:51 Time:  0:00:51\n"
     ]
    },
    {
     "name": "stdout",
     "output_type": "stream",
     "text": [
      " - final iteration number:  200\n",
      " - final log10 cost value:  -6.289961427742488\n",
      " - converged:  True\n",
      "Done.\n",
      "Execution time:  1671.3306490000105  seconds\n",
      "----------------------------------------\n"
     ]
    },
    {
     "name": "stderr",
     "output_type": "stream",
     "text": [
      "\u001b[33mWARNING\u001b[0m: Making input data immutable.\n"
     ]
    },
    {
     "name": "stdout",
     "output_type": "stream",
     "text": [
      "\n",
      "  _____             ____     _____      _\n",
      " |\" ___|    ___    / __\"| u |_ \" _| U  /\"\\  u\n",
      "U| |_  u   |_\"_|  <\\___ \\/    | |    \\/ _ \\/\n",
      "\\|  _|/     | |    u___) |   /| |\\   / ___ \\\\\n",
      " |_|      U/| |\\u  |____/>> u |_|U  /_/   \\_\\\\\n",
      " )(\\\\\\,-.-,_|___|_,-.)(  (__)_// \\\\\\_  \\\\\\    >>\n",
      "(__)(_/ \\_)-' '-(_/(__)    (__) (__)(__)  (__)\n",
      "    \n",
      " - mu:  1e-10\n",
      " - lipschitz constant:  1.1000000000000292\n",
      " - data:  (640, 372)\n",
      " - wavelet:  <mri.reconstruct.linear.WaveletN object at 0x7fa415738f28> - 4\n",
      " - max iterations:  200\n",
      " - image variable shape:  (640, 372)\n",
      " - alpha variable shape:  (238320,)\n",
      "----------------------------------------\n",
      "Starting optimization...\n"
     ]
    },
    {
     "name": "stderr",
     "output_type": "stream",
     "text": [
      "100% (200 of 200) |######################| Elapsed Time: 0:00:52 Time:  0:00:52\n"
     ]
    },
    {
     "name": "stdout",
     "output_type": "stream",
     "text": [
      " - final iteration number:  200\n",
      " - final log10 cost value:  -6.4303912926666955\n",
      " - converged:  True\n",
      "Done.\n",
      "Execution time:  1680.4874300000083  seconds\n",
      "----------------------------------------\n"
     ]
    },
    {
     "name": "stderr",
     "output_type": "stream",
     "text": [
      "\u001b[33mWARNING\u001b[0m: Making input data immutable.\n"
     ]
    },
    {
     "name": "stdout",
     "output_type": "stream",
     "text": [
      "\n",
      "  _____             ____     _____      _\n",
      " |\" ___|    ___    / __\"| u |_ \" _| U  /\"\\  u\n",
      "U| |_  u   |_\"_|  <\\___ \\/    | |    \\/ _ \\/\n",
      "\\|  _|/     | |    u___) |   /| |\\   / ___ \\\\\n",
      " |_|      U/| |\\u  |____/>> u |_|U  /_/   \\_\\\\\n",
      " )(\\\\\\,-.-,_|___|_,-.)(  (__)_// \\\\\\_  \\\\\\    >>\n",
      "(__)(_/ \\_)-' '-(_/(__)    (__) (__)(__)  (__)\n",
      "    \n",
      " - mu:  1e-10\n",
      " - lipschitz constant:  1.1000000000000734\n",
      " - data:  (640, 368)\n",
      " - wavelet:  <mri.reconstruct.linear.WaveletN object at 0x7fa415760c18> - 4\n",
      " - max iterations:  200\n",
      " - image variable shape:  (640, 368)\n",
      " - alpha variable shape:  (235520,)\n",
      "----------------------------------------\n",
      "Starting optimization...\n"
     ]
    },
    {
     "name": "stderr",
     "output_type": "stream",
     "text": [
      "100% (200 of 200) |######################| Elapsed Time: 0:00:50 Time:  0:00:50\n"
     ]
    },
    {
     "name": "stdout",
     "output_type": "stream",
     "text": [
      " - final iteration number:  200\n",
      " - final log10 cost value:  -5.373431815844556\n",
      " - converged:  True\n",
      "Done.\n",
      "Execution time:  1644.9911970000103  seconds\n",
      "----------------------------------------\n"
     ]
    },
    {
     "name": "stderr",
     "output_type": "stream",
     "text": [
      "\u001b[33mWARNING\u001b[0m: Making input data immutable.\n"
     ]
    },
    {
     "name": "stdout",
     "output_type": "stream",
     "text": [
      "\n",
      "  _____             ____     _____      _\n",
      " |\" ___|    ___    / __\"| u |_ \" _| U  /\"\\  u\n",
      "U| |_  u   |_\"_|  <\\___ \\/    | |    \\/ _ \\/\n",
      "\\|  _|/     | |    u___) |   /| |\\   / ___ \\\\\n",
      " |_|      U/| |\\u  |____/>> u |_|U  /_/   \\_\\\\\n",
      " )(\\\\\\,-.-,_|___|_,-.)(  (__)_// \\\\\\_  \\\\\\    >>\n",
      "(__)(_/ \\_)-' '-(_/(__)    (__) (__)(__)  (__)\n",
      "    \n",
      " - mu:  1e-10\n",
      " - lipschitz constant:  1.099999999999977\n",
      " - data:  (640, 372)\n",
      " - wavelet:  <mri.reconstruct.linear.WaveletN object at 0x7fa4157602e8> - 4\n",
      " - max iterations:  200\n",
      " - image variable shape:  (640, 372)\n",
      " - alpha variable shape:  (238320,)\n",
      "----------------------------------------\n",
      "Starting optimization...\n"
     ]
    },
    {
     "name": "stderr",
     "output_type": "stream",
     "text": [
      "100% (200 of 200) |######################| Elapsed Time: 0:00:52 Time:  0:00:52\n"
     ]
    },
    {
     "name": "stdout",
     "output_type": "stream",
     "text": [
      " - final iteration number:  200\n",
      " - final log10 cost value:  -6.45388146050302\n",
      " - converged:  True\n",
      "Done.\n",
      "Execution time:  1652.7812750000012  seconds\n",
      "----------------------------------------\n"
     ]
    },
    {
     "name": "stderr",
     "output_type": "stream",
     "text": [
      "\u001b[33mWARNING\u001b[0m: Making input data immutable.\n"
     ]
    },
    {
     "name": "stdout",
     "output_type": "stream",
     "text": [
      "\n",
      "  _____             ____     _____      _\n",
      " |\" ___|    ___    / __\"| u |_ \" _| U  /\"\\  u\n",
      "U| |_  u   |_\"_|  <\\___ \\/    | |    \\/ _ \\/\n",
      "\\|  _|/     | |    u___) |   /| |\\   / ___ \\\\\n",
      " |_|      U/| |\\u  |____/>> u |_|U  /_/   \\_\\\\\n",
      " )(\\\\\\,-.-,_|___|_,-.)(  (__)_// \\\\\\_  \\\\\\    >>\n",
      "(__)(_/ \\_)-' '-(_/(__)    (__) (__)(__)  (__)\n",
      "    \n",
      " - mu:  1e-10\n",
      " - lipschitz constant:  1.1000000000000822\n",
      " - data:  (640, 372)\n",
      " - wavelet:  <mri.reconstruct.linear.WaveletN object at 0x7fa41578e630> - 4\n",
      " - max iterations:  200\n",
      " - image variable shape:  (640, 372)\n",
      " - alpha variable shape:  (238320,)\n",
      "----------------------------------------\n",
      "Starting optimization...\n"
     ]
    },
    {
     "name": "stderr",
     "output_type": "stream",
     "text": [
      "100% (200 of 200) |######################| Elapsed Time: 0:00:53 Time:  0:00:53\n"
     ]
    },
    {
     "name": "stdout",
     "output_type": "stream",
     "text": [
      " - final iteration number:  200\n",
      " - final log10 cost value:  -6.359165348174548\n",
      " - converged:  True\n",
      "Done.\n",
      "Execution time:  1605.553031000003  seconds\n",
      "----------------------------------------\n"
     ]
    },
    {
     "name": "stderr",
     "output_type": "stream",
     "text": [
      "\u001b[33mWARNING\u001b[0m: Making input data immutable.\n"
     ]
    },
    {
     "name": "stdout",
     "output_type": "stream",
     "text": [
      "\n",
      "  _____             ____     _____      _\n",
      " |\" ___|    ___    / __\"| u |_ \" _| U  /\"\\  u\n",
      "U| |_  u   |_\"_|  <\\___ \\/    | |    \\/ _ \\/\n",
      "\\|  _|/     | |    u___) |   /| |\\   / ___ \\\\\n",
      " |_|      U/| |\\u  |____/>> u |_|U  /_/   \\_\\\\\n",
      " )(\\\\\\,-.-,_|___|_,-.)(  (__)_// \\\\\\_  \\\\\\    >>\n",
      "(__)(_/ \\_)-' '-(_/(__)    (__) (__)(__)  (__)\n",
      "    \n",
      " - mu:  1e-10\n",
      " - lipschitz constant:  1.10000000000007\n",
      " - data:  (640, 372)\n",
      " - wavelet:  <mri.reconstruct.linear.WaveletN object at 0x7fa41578e860> - 4\n",
      " - max iterations:  200\n",
      " - image variable shape:  (640, 372)\n",
      " - alpha variable shape:  (238320,)\n",
      "----------------------------------------\n",
      "Starting optimization...\n"
     ]
    },
    {
     "name": "stderr",
     "output_type": "stream",
     "text": [
      "100% (200 of 200) |######################| Elapsed Time: 0:00:53 Time:  0:00:53\n"
     ]
    },
    {
     "name": "stdout",
     "output_type": "stream",
     "text": [
      " - final iteration number:  200\n",
      " - final log10 cost value:  -6.395988665477855\n",
      " - converged:  True\n",
      "Done.\n",
      "Execution time:  1571.0063910000026  seconds\n",
      "----------------------------------------\n"
     ]
    },
    {
     "name": "stderr",
     "output_type": "stream",
     "text": [
      "\u001b[33mWARNING\u001b[0m: Making input data immutable.\n"
     ]
    },
    {
     "name": "stdout",
     "output_type": "stream",
     "text": [
      "\n",
      "  _____             ____     _____      _\n",
      " |\" ___|    ___    / __\"| u |_ \" _| U  /\"\\  u\n",
      "U| |_  u   |_\"_|  <\\___ \\/    | |    \\/ _ \\/\n",
      "\\|  _|/     | |    u___) |   /| |\\   / ___ \\\\\n",
      " |_|      U/| |\\u  |____/>> u |_|U  /_/   \\_\\\\\n",
      " )(\\\\\\,-.-,_|___|_,-.)(  (__)_// \\\\\\_  \\\\\\    >>\n",
      "(__)(_/ \\_)-' '-(_/(__)    (__) (__)(__)  (__)\n",
      "    \n",
      " - mu:  1e-10\n",
      " - lipschitz constant:  1.1000000000000356\n",
      " - data:  (640, 368)\n",
      " - wavelet:  <mri.reconstruct.linear.WaveletN object at 0x7fa415738cf8> - 4\n",
      " - max iterations:  200\n",
      " - image variable shape:  (640, 368)\n",
      " - alpha variable shape:  (235520,)\n",
      "----------------------------------------\n",
      "Starting optimization...\n"
     ]
    },
    {
     "name": "stderr",
     "output_type": "stream",
     "text": [
      "100% (200 of 200) |######################| Elapsed Time: 0:00:51 Time:  0:00:51\n"
     ]
    },
    {
     "name": "stdout",
     "output_type": "stream",
     "text": [
      " - final iteration number:  200\n",
      " - final log10 cost value:  -5.353593210690113\n",
      " - converged:  True\n",
      "Done.\n",
      "Execution time:  1526.273061999993  seconds\n",
      "----------------------------------------\n"
     ]
    },
    {
     "name": "stderr",
     "output_type": "stream",
     "text": [
      "\u001b[33mWARNING\u001b[0m: Making input data immutable.\n"
     ]
    },
    {
     "name": "stdout",
     "output_type": "stream",
     "text": [
      "\n",
      "  _____             ____     _____      _\n",
      " |\" ___|    ___    / __\"| u |_ \" _| U  /\"\\  u\n",
      "U| |_  u   |_\"_|  <\\___ \\/    | |    \\/ _ \\/\n",
      "\\|  _|/     | |    u___) |   /| |\\   / ___ \\\\\n",
      " |_|      U/| |\\u  |____/>> u |_|U  /_/   \\_\\\\\n",
      " )(\\\\\\,-.-,_|___|_,-.)(  (__)_// \\\\\\_  \\\\\\    >>\n",
      "(__)(_/ \\_)-' '-(_/(__)    (__) (__)(__)  (__)\n",
      "    \n",
      " - mu:  1e-10\n",
      " - lipschitz constant:  1.0999999999999794\n",
      " - data:  (640, 372)\n",
      " - wavelet:  <mri.reconstruct.linear.WaveletN object at 0x7fa415766e80> - 4\n",
      " - max iterations:  200\n",
      " - image variable shape:  (640, 372)\n",
      " - alpha variable shape:  (238320,)\n",
      "----------------------------------------\n",
      "Starting optimization...\n"
     ]
    },
    {
     "name": "stderr",
     "output_type": "stream",
     "text": [
      "100% (200 of 200) |######################| Elapsed Time: 0:00:53 Time:  0:00:53\n"
     ]
    },
    {
     "name": "stdout",
     "output_type": "stream",
     "text": [
      " - final iteration number:  200\n",
      " - final log10 cost value:  -6.308658413179068\n",
      " - converged:  True\n",
      "Done.\n",
      "Execution time:  1573.7708620000049  seconds\n",
      "----------------------------------------\n"
     ]
    },
    {
     "name": "stderr",
     "output_type": "stream",
     "text": [
      "\u001b[33mWARNING\u001b[0m: Making input data immutable.\n"
     ]
    },
    {
     "name": "stdout",
     "output_type": "stream",
     "text": [
      "\n",
      "  _____             ____     _____      _\n",
      " |\" ___|    ___    / __\"| u |_ \" _| U  /\"\\  u\n",
      "U| |_  u   |_\"_|  <\\___ \\/    | |    \\/ _ \\/\n",
      "\\|  _|/     | |    u___) |   /| |\\   / ___ \\\\\n",
      " |_|      U/| |\\u  |____/>> u |_|U  /_/   \\_\\\\\n",
      " )(\\\\\\,-.-,_|___|_,-.)(  (__)_// \\\\\\_  \\\\\\    >>\n",
      "(__)(_/ \\_)-' '-(_/(__)    (__) (__)(__)  (__)\n",
      "    \n",
      " - mu:  1e-10\n",
      " - lipschitz constant:  1.1000000000000278\n",
      " - data:  (640, 368)\n",
      " - wavelet:  <mri.reconstruct.linear.WaveletN object at 0x7fa415766b00> - 4\n",
      " - max iterations:  200\n",
      " - image variable shape:  (640, 368)\n",
      " - alpha variable shape:  (235520,)\n",
      "----------------------------------------\n",
      "Starting optimization...\n"
     ]
    },
    {
     "name": "stderr",
     "output_type": "stream",
     "text": [
      "100% (200 of 200) |######################| Elapsed Time: 0:00:51 Time:  0:00:51\n"
     ]
    },
    {
     "name": "stdout",
     "output_type": "stream",
     "text": [
      " - final iteration number:  200\n",
      " - final log10 cost value:  -5.245438671904571\n",
      " - converged:  True\n",
      "Done.\n",
      "Execution time:  1527.0944900000031  seconds\n",
      "----------------------------------------\n"
     ]
    },
    {
     "name": "stderr",
     "output_type": "stream",
     "text": [
      "\u001b[33mWARNING\u001b[0m: Making input data immutable.\n"
     ]
    },
    {
     "name": "stdout",
     "output_type": "stream",
     "text": [
      "\n",
      "  _____             ____     _____      _\n",
      " |\" ___|    ___    / __\"| u |_ \" _| U  /\"\\  u\n",
      "U| |_  u   |_\"_|  <\\___ \\/    | |    \\/ _ \\/\n",
      "\\|  _|/     | |    u___) |   /| |\\   / ___ \\\\\n",
      " |_|      U/| |\\u  |____/>> u |_|U  /_/   \\_\\\\\n",
      " )(\\\\\\,-.-,_|___|_,-.)(  (__)_// \\\\\\_  \\\\\\    >>\n",
      "(__)(_/ \\_)-' '-(_/(__)    (__) (__)(__)  (__)\n",
      "    \n",
      " - mu:  1e-10\n",
      " - lipschitz constant:  1.1000000000000323\n",
      " - data:  (640, 372)\n",
      " - wavelet:  <mri.reconstruct.linear.WaveletN object at 0x7fa415766c88> - 4\n",
      " - max iterations:  200\n",
      " - image variable shape:  (640, 372)\n",
      " - alpha variable shape:  (238320,)\n",
      "----------------------------------------\n",
      "Starting optimization...\n"
     ]
    },
    {
     "name": "stderr",
     "output_type": "stream",
     "text": [
      "100% (200 of 200) |######################| Elapsed Time: 0:00:54 Time:  0:00:54\n"
     ]
    },
    {
     "name": "stdout",
     "output_type": "stream",
     "text": [
      " - final iteration number:  200\n",
      " - final log10 cost value:  -6.369252216028483\n",
      " - converged:  True\n",
      "Done.\n",
      "Execution time:  1609.2352939999982  seconds\n",
      "----------------------------------------\n"
     ]
    },
    {
     "name": "stderr",
     "output_type": "stream",
     "text": [
      "\u001b[33mWARNING\u001b[0m: Making input data immutable.\n"
     ]
    },
    {
     "name": "stdout",
     "output_type": "stream",
     "text": [
      "\n",
      "  _____             ____     _____      _\n",
      " |\" ___|    ___    / __\"| u |_ \" _| U  /\"\\  u\n",
      "U| |_  u   |_\"_|  <\\___ \\/    | |    \\/ _ \\/\n",
      "\\|  _|/     | |    u___) |   /| |\\   / ___ \\\\\n",
      " |_|      U/| |\\u  |____/>> u |_|U  /_/   \\_\\\\\n",
      " )(\\\\\\,-.-,_|___|_,-.)(  (__)_// \\\\\\_  \\\\\\    >>\n",
      "(__)(_/ \\_)-' '-(_/(__)    (__) (__)(__)  (__)\n",
      "    \n",
      " - mu:  1e-10\n",
      " - lipschitz constant:  1.0999999999999808\n",
      " - data:  (640, 368)\n",
      " - wavelet:  <mri.reconstruct.linear.WaveletN object at 0x7fa415766be0> - 4\n",
      " - max iterations:  200\n",
      " - image variable shape:  (640, 368)\n",
      " - alpha variable shape:  (235520,)\n",
      "----------------------------------------\n",
      "Starting optimization...\n"
     ]
    },
    {
     "name": "stderr",
     "output_type": "stream",
     "text": [
      "100% (200 of 200) |######################| Elapsed Time: 0:00:51 Time:  0:00:51\n"
     ]
    },
    {
     "name": "stdout",
     "output_type": "stream",
     "text": [
      " - final iteration number:  200\n",
      " - final log10 cost value:  -5.311845780146264\n",
      " - converged:  True\n",
      "Done.\n",
      "Execution time:  1522.939818999992  seconds\n",
      "----------------------------------------\n"
     ]
    },
    {
     "name": "stderr",
     "output_type": "stream",
     "text": [
      "\u001b[33mWARNING\u001b[0m: Making input data immutable.\n"
     ]
    },
    {
     "name": "stdout",
     "output_type": "stream",
     "text": [
      "\n",
      "  _____             ____     _____      _\n",
      " |\" ___|    ___    / __\"| u |_ \" _| U  /\"\\  u\n",
      "U| |_  u   |_\"_|  <\\___ \\/    | |    \\/ _ \\/\n",
      "\\|  _|/     | |    u___) |   /| |\\   / ___ \\\\\n",
      " |_|      U/| |\\u  |____/>> u |_|U  /_/   \\_\\\\\n",
      " )(\\\\\\,-.-,_|___|_,-.)(  (__)_// \\\\\\_  \\\\\\    >>\n",
      "(__)(_/ \\_)-' '-(_/(__)    (__) (__)(__)  (__)\n",
      "    \n",
      " - mu:  1e-10\n",
      " - lipschitz constant:  1.099999999999975\n",
      " - data:  (640, 372)\n",
      " - wavelet:  <mri.reconstruct.linear.WaveletN object at 0x7fa415766a90> - 4\n",
      " - max iterations:  200\n",
      " - image variable shape:  (640, 372)\n",
      " - alpha variable shape:  (238320,)\n",
      "----------------------------------------\n",
      "Starting optimization...\n"
     ]
    },
    {
     "name": "stderr",
     "output_type": "stream",
     "text": [
      "100% (200 of 200) |######################| Elapsed Time: 0:00:54 Time:  0:00:54\n"
     ]
    },
    {
     "name": "stdout",
     "output_type": "stream",
     "text": [
      " - final iteration number:  200\n",
      " - final log10 cost value:  -6.292623545788726\n",
      " - converged:  True\n",
      "Done.\n",
      "Execution time:  1609.0213039999944  seconds\n",
      "----------------------------------------\n"
     ]
    },
    {
     "name": "stderr",
     "output_type": "stream",
     "text": [
      "\u001b[33mWARNING\u001b[0m: Making input data immutable.\n"
     ]
    },
    {
     "name": "stdout",
     "output_type": "stream",
     "text": [
      "\n",
      "  _____             ____     _____      _\n",
      " |\" ___|    ___    / __\"| u |_ \" _| U  /\"\\  u\n",
      "U| |_  u   |_\"_|  <\\___ \\/    | |    \\/ _ \\/\n",
      "\\|  _|/     | |    u___) |   /| |\\   / ___ \\\\\n",
      " |_|      U/| |\\u  |____/>> u |_|U  /_/   \\_\\\\\n",
      " )(\\\\\\,-.-,_|___|_,-.)(  (__)_// \\\\\\_  \\\\\\    >>\n",
      "(__)(_/ \\_)-' '-(_/(__)    (__) (__)(__)  (__)\n",
      "    \n",
      " - mu:  1e-10\n",
      " - lipschitz constant:  1.0999999999999792\n",
      " - data:  (640, 368)\n",
      " - wavelet:  <mri.reconstruct.linear.WaveletN object at 0x7fa4157600f0> - 4\n",
      " - max iterations:  200\n",
      " - image variable shape:  (640, 368)\n",
      " - alpha variable shape:  (235520,)\n",
      "----------------------------------------\n",
      "Starting optimization...\n"
     ]
    },
    {
     "name": "stderr",
     "output_type": "stream",
     "text": [
      "100% (200 of 200) |######################| Elapsed Time: 0:00:52 Time:  0:00:52\n"
     ]
    },
    {
     "name": "stdout",
     "output_type": "stream",
     "text": [
      " - final iteration number:  200\n",
      " - final log10 cost value:  -5.031631085328165\n",
      " - converged:  True\n",
      "Done.\n",
      "Execution time:  1544.8128929999948  seconds\n",
      "----------------------------------------\n",
      "\n"
     ]
    },
    {
     "name": "stderr",
     "output_type": "stream",
     "text": [
      "/volatile/home/Zaccharie/workspace/fastmri-reproducible-benchmark/venv/lib/python3.6/site-packages/ipykernel_launcher.py:9: TqdmDeprecationWarning: This function will be removed in tqdm==5.0.0\n",
      "Please use `tqdm.notebook.tqdm` instead of `tqdm.tqdm_notebook`\n",
      "  if __name__ == '__main__':\n"
     ]
    },
    {
     "data": {
      "application/vnd.jupyter.widget-view+json": {
       "model_id": "857ffbb4a2c94849ad9bbd770eabd7eb",
       "version_major": 2,
       "version_minor": 0
      },
      "text/plain": [
       "HBox(children=(FloatProgress(value=0.0, description='Stats', max=24.0, style=ProgressStyle(description_width='…"
      ]
     },
     "metadata": {},
     "output_type": "display_data"
    },
    {
     "name": "stderr",
     "output_type": "stream",
     "text": [
      "/volatile/home/Zaccharie/workspace/fastmri-reproducible-benchmark/fastmri_recon/helpers/evaluate.py:25: UserWarning: DEPRECATED: skimage.measure.compare_psnr has been moved to skimage.metrics.peak_signal_noise_ratio. It will be removed from skimage.measure in version 0.18.\n",
      "  return compare_psnr(gt, pred, data_range=gt.max() - gt.min())\n",
      "/volatile/home/Zaccharie/workspace/fastmri-reproducible-benchmark/fastmri_recon/helpers/evaluate.py:31: UserWarning: DEPRECATED: skimage.measure.compare_ssim has been moved to skimage.metrics.structural_similarity. It will be removed from skimage.measure in version 0.18.\n",
      "  gt.transpose(1, 2, 0), pred.transpose(1, 2, 0), multichannel=True, data_range=gt.max() - gt.min()\n"
     ]
    },
    {
     "name": "stdout",
     "output_type": "stream",
     "text": [
      "\n"
     ]
    },
    {
     "data": {
      "application/vnd.jupyter.widget-view+json": {
       "model_id": "a9e3658844784a8f82d7641c820a2d48",
       "version_major": 2,
       "version_minor": 0
      },
      "text/plain": [
       "HBox(children=(FloatProgress(value=0.0, description='K-spaces', max=24.0, style=ProgressStyle(description_widt…"
      ]
     },
     "metadata": {},
     "output_type": "display_data"
    },
    {
     "name": "stderr",
     "output_type": "stream",
     "text": [
      "\u001b[33mWARNING\u001b[0m: Making input data immutable.\n"
     ]
    },
    {
     "name": "stdout",
     "output_type": "stream",
     "text": [
      "\n",
      "  _____             ____     _____      _\n",
      " |\" ___|    ___    / __\"| u |_ \" _| U  /\"\\  u\n",
      "U| |_  u   |_\"_|  <\\___ \\/    | |    \\/ _ \\/\n",
      "\\|  _|/     | |    u___) |   /| |\\   / ___ \\\\\n",
      " |_|      U/| |\\u  |____/>> u |_|U  /_/   \\_\\\\\n",
      " )(\\\\\\,-.-,_|___|_,-.)(  (__)_// \\\\\\_  \\\\\\    >>\n",
      "(__)(_/ \\_)-' '-(_/(__)    (__) (__)(__)  (__)\n",
      "    \n",
      " - mu:  2.1544346900318867e-10\n",
      " - lipschitz constant:  1.1000000000000596\n",
      " - data:  (640, 372)\n",
      " - wavelet:  <mri.reconstruct.linear.WaveletN object at 0x7fa4157602e8> - 4\n",
      " - max iterations:  200\n",
      " - image variable shape:  (640, 372)\n",
      " - alpha variable shape:  (238320,)\n",
      "----------------------------------------\n",
      "Starting optimization...\n"
     ]
    },
    {
     "name": "stderr",
     "output_type": "stream",
     "text": [
      "100% (200 of 200) |######################| Elapsed Time: 0:00:53 Time:  0:00:53\n"
     ]
    },
    {
     "name": "stdout",
     "output_type": "stream",
     "text": [
      " - final iteration number:  200\n",
      " - final log10 cost value:  -6.284584605819866\n",
      " - converged:  True\n",
      "Done.\n",
      "Execution time:  1637.9881440000026  seconds\n",
      "----------------------------------------\n"
     ]
    },
    {
     "name": "stderr",
     "output_type": "stream",
     "text": [
      "\u001b[33mWARNING\u001b[0m: Making input data immutable.\n"
     ]
    },
    {
     "name": "stdout",
     "output_type": "stream",
     "text": [
      "\n",
      "  _____             ____     _____      _\n",
      " |\" ___|    ___    / __\"| u |_ \" _| U  /\"\\  u\n",
      "U| |_  u   |_\"_|  <\\___ \\/    | |    \\/ _ \\/\n",
      "\\|  _|/     | |    u___) |   /| |\\   / ___ \\\\\n",
      " |_|      U/| |\\u  |____/>> u |_|U  /_/   \\_\\\\\n",
      " )(\\\\\\,-.-,_|___|_,-.)(  (__)_// \\\\\\_  \\\\\\    >>\n",
      "(__)(_/ \\_)-' '-(_/(__)    (__) (__)(__)  (__)\n",
      "    \n",
      " - mu:  2.1544346900318867e-10\n",
      " - lipschitz constant:  1.1000000000000316\n",
      " - data:  (640, 372)\n",
      " - wavelet:  <mri.reconstruct.linear.WaveletN object at 0x7fa4157604e0> - 4\n",
      " - max iterations:  200\n",
      " - image variable shape:  (640, 372)\n",
      " - alpha variable shape:  (238320,)\n",
      "----------------------------------------\n",
      "Starting optimization...\n"
     ]
    },
    {
     "name": "stderr",
     "output_type": "stream",
     "text": [
      "100% (200 of 200) |######################| Elapsed Time: 0:00:51 Time:  0:00:51\n"
     ]
    },
    {
     "name": "stdout",
     "output_type": "stream",
     "text": [
      " - final iteration number:  200\n",
      " - final log10 cost value:  -6.333141420704984\n",
      " - converged:  True\n",
      "Done.\n",
      "Execution time:  1667.5507439999783  seconds\n",
      "----------------------------------------\n"
     ]
    },
    {
     "name": "stderr",
     "output_type": "stream",
     "text": [
      "\u001b[33mWARNING\u001b[0m: Making input data immutable.\n"
     ]
    },
    {
     "name": "stdout",
     "output_type": "stream",
     "text": [
      "\n",
      "  _____             ____     _____      _\n",
      " |\" ___|    ___    / __\"| u |_ \" _| U  /\"\\  u\n",
      "U| |_  u   |_\"_|  <\\___ \\/    | |    \\/ _ \\/\n",
      "\\|  _|/     | |    u___) |   /| |\\   / ___ \\\\\n",
      " |_|      U/| |\\u  |____/>> u |_|U  /_/   \\_\\\\\n",
      " )(\\\\\\,-.-,_|___|_,-.)(  (__)_// \\\\\\_  \\\\\\    >>\n",
      "(__)(_/ \\_)-' '-(_/(__)    (__) (__)(__)  (__)\n",
      "    \n",
      " - mu:  2.1544346900318867e-10\n",
      " - lipschitz constant:  1.1000000000000851\n",
      " - data:  (640, 372)\n",
      " - wavelet:  <mri.reconstruct.linear.WaveletN object at 0x7fa415766ac8> - 4\n",
      " - max iterations:  200\n",
      " - image variable shape:  (640, 372)\n",
      " - alpha variable shape:  (238320,)\n",
      "----------------------------------------\n",
      "Starting optimization...\n"
     ]
    },
    {
     "name": "stderr",
     "output_type": "stream",
     "text": [
      "100% (200 of 200) |######################| Elapsed Time: 0:00:52 Time:  0:00:52\n"
     ]
    },
    {
     "name": "stdout",
     "output_type": "stream",
     "text": [
      " - final iteration number:  200\n",
      " - final log10 cost value:  -6.443470980668161\n",
      " - converged:  True\n",
      "Done.\n",
      "Execution time:  1675.906295999972  seconds\n",
      "----------------------------------------\n"
     ]
    },
    {
     "name": "stderr",
     "output_type": "stream",
     "text": [
      "\u001b[33mWARNING\u001b[0m: Making input data immutable.\n"
     ]
    },
    {
     "name": "stdout",
     "output_type": "stream",
     "text": [
      "\n",
      "  _____             ____     _____      _\n",
      " |\" ___|    ___    / __\"| u |_ \" _| U  /\"\\  u\n",
      "U| |_  u   |_\"_|  <\\___ \\/    | |    \\/ _ \\/\n",
      "\\|  _|/     | |    u___) |   /| |\\   / ___ \\\\\n",
      " |_|      U/| |\\u  |____/>> u |_|U  /_/   \\_\\\\\n",
      " )(\\\\\\,-.-,_|___|_,-.)(  (__)_// \\\\\\_  \\\\\\    >>\n",
      "(__)(_/ \\_)-' '-(_/(__)    (__) (__)(__)  (__)\n",
      "    \n",
      " - mu:  2.1544346900318867e-10\n",
      " - lipschitz constant:  1.0999999999999743\n",
      " - data:  (640, 368)\n",
      " - wavelet:  <mri.reconstruct.linear.WaveletN object at 0x7fa415766eb8> - 4\n",
      " - max iterations:  200\n",
      " - image variable shape:  (640, 368)\n",
      " - alpha variable shape:  (235520,)\n",
      "----------------------------------------\n",
      "Starting optimization...\n"
     ]
    },
    {
     "name": "stderr",
     "output_type": "stream",
     "text": [
      "100% (200 of 200) |######################| Elapsed Time: 0:00:50 Time:  0:00:50\n"
     ]
    },
    {
     "name": "stdout",
     "output_type": "stream",
     "text": [
      " - final iteration number:  200\n",
      " - final log10 cost value:  -5.243735535334302\n",
      " - converged:  True\n",
      "Done.\n",
      "Execution time:  1605.0694169999915  seconds\n",
      "----------------------------------------\n"
     ]
    },
    {
     "name": "stderr",
     "output_type": "stream",
     "text": [
      "\u001b[33mWARNING\u001b[0m: Making input data immutable.\n"
     ]
    },
    {
     "name": "stdout",
     "output_type": "stream",
     "text": [
      "\n",
      "  _____             ____     _____      _\n",
      " |\" ___|    ___    / __\"| u |_ \" _| U  /\"\\  u\n",
      "U| |_  u   |_\"_|  <\\___ \\/    | |    \\/ _ \\/\n",
      "\\|  _|/     | |    u___) |   /| |\\   / ___ \\\\\n",
      " |_|      U/| |\\u  |____/>> u |_|U  /_/   \\_\\\\\n",
      " )(\\\\\\,-.-,_|___|_,-.)(  (__)_// \\\\\\_  \\\\\\    >>\n",
      "(__)(_/ \\_)-' '-(_/(__)    (__) (__)(__)  (__)\n",
      "    \n",
      " - mu:  2.1544346900318867e-10\n",
      " - lipschitz constant:  1.1000000000000871\n",
      " - data:  (640, 368)\n",
      " - wavelet:  <mri.reconstruct.linear.WaveletN object at 0x7fa415766c88> - 4\n",
      " - max iterations:  200\n",
      " - image variable shape:  (640, 368)\n",
      " - alpha variable shape:  (235520,)\n",
      "----------------------------------------\n",
      "Starting optimization...\n"
     ]
    },
    {
     "name": "stderr",
     "output_type": "stream",
     "text": [
      "100% (200 of 200) |######################| Elapsed Time: 0:00:50 Time:  0:00:50\n"
     ]
    },
    {
     "name": "stdout",
     "output_type": "stream",
     "text": [
      " - final iteration number:  200\n",
      " - final log10 cost value:  -5.649936579650119\n",
      " - converged:  True\n",
      "Done.\n",
      "Execution time:  1585.8347479999939  seconds\n",
      "----------------------------------------\n"
     ]
    },
    {
     "name": "stderr",
     "output_type": "stream",
     "text": [
      "\u001b[33mWARNING\u001b[0m: Making input data immutable.\n"
     ]
    },
    {
     "name": "stdout",
     "output_type": "stream",
     "text": [
      "\n",
      "  _____             ____     _____      _\n",
      " |\" ___|    ___    / __\"| u |_ \" _| U  /\"\\  u\n",
      "U| |_  u   |_\"_|  <\\___ \\/    | |    \\/ _ \\/\n",
      "\\|  _|/     | |    u___) |   /| |\\   / ___ \\\\\n",
      " |_|      U/| |\\u  |____/>> u |_|U  /_/   \\_\\\\\n",
      " )(\\\\\\,-.-,_|___|_,-.)(  (__)_// \\\\\\_  \\\\\\    >>\n",
      "(__)(_/ \\_)-' '-(_/(__)    (__) (__)(__)  (__)\n",
      "    \n",
      " - mu:  2.1544346900318867e-10\n",
      " - lipschitz constant:  1.099999999999977\n",
      " - data:  (640, 368)\n",
      " - wavelet:  <mri.reconstruct.linear.WaveletN object at 0x7fa415738048> - 4\n",
      " - max iterations:  200\n",
      " - image variable shape:  (640, 368)\n",
      " - alpha variable shape:  (235520,)\n",
      "----------------------------------------\n",
      "Starting optimization...\n"
     ]
    },
    {
     "name": "stderr",
     "output_type": "stream",
     "text": [
      "100% (200 of 200) |######################| Elapsed Time: 0:00:51 Time:  0:00:51\n"
     ]
    },
    {
     "name": "stdout",
     "output_type": "stream",
     "text": [
      " - final iteration number:  200\n",
      " - final log10 cost value:  -5.487080402098002\n",
      " - converged:  True\n",
      "Done.\n",
      "Execution time:  1536.4451129999943  seconds\n",
      "----------------------------------------\n"
     ]
    },
    {
     "name": "stderr",
     "output_type": "stream",
     "text": [
      "\u001b[33mWARNING\u001b[0m: Making input data immutable.\n"
     ]
    },
    {
     "name": "stdout",
     "output_type": "stream",
     "text": [
      "\n",
      "  _____             ____     _____      _\n",
      " |\" ___|    ___    / __\"| u |_ \" _| U  /\"\\  u\n",
      "U| |_  u   |_\"_|  <\\___ \\/    | |    \\/ _ \\/\n",
      "\\|  _|/     | |    u___) |   /| |\\   / ___ \\\\\n",
      " |_|      U/| |\\u  |____/>> u |_|U  /_/   \\_\\\\\n",
      " )(\\\\\\,-.-,_|___|_,-.)(  (__)_// \\\\\\_  \\\\\\    >>\n",
      "(__)(_/ \\_)-' '-(_/(__)    (__) (__)(__)  (__)\n",
      "    \n",
      " - mu:  2.1544346900318867e-10\n",
      " - lipschitz constant:  1.100000000000092\n",
      " - data:  (640, 368)\n",
      " - wavelet:  <mri.reconstruct.linear.WaveletN object at 0x7fa415760c50> - 4\n",
      " - max iterations:  200\n",
      " - image variable shape:  (640, 368)\n",
      " - alpha variable shape:  (235520,)\n",
      "----------------------------------------\n",
      "Starting optimization...\n"
     ]
    },
    {
     "name": "stderr",
     "output_type": "stream",
     "text": [
      "100% (200 of 200) |######################| Elapsed Time: 0:00:51 Time:  0:00:51\n"
     ]
    },
    {
     "name": "stdout",
     "output_type": "stream",
     "text": [
      " - final iteration number:  200\n",
      " - final log10 cost value:  -5.013436274551487\n",
      " - converged:  True\n",
      "Done.\n",
      "Execution time:  1549.4358799999754  seconds\n",
      "----------------------------------------\n"
     ]
    },
    {
     "name": "stderr",
     "output_type": "stream",
     "text": [
      "\u001b[33mWARNING\u001b[0m: Making input data immutable.\n"
     ]
    },
    {
     "name": "stdout",
     "output_type": "stream",
     "text": [
      "\n",
      "  _____             ____     _____      _\n",
      " |\" ___|    ___    / __\"| u |_ \" _| U  /\"\\  u\n",
      "U| |_  u   |_\"_|  <\\___ \\/    | |    \\/ _ \\/\n",
      "\\|  _|/     | |    u___) |   /| |\\   / ___ \\\\\n",
      " |_|      U/| |\\u  |____/>> u |_|U  /_/   \\_\\\\\n",
      " )(\\\\\\,-.-,_|___|_,-.)(  (__)_// \\\\\\_  \\\\\\    >>\n",
      "(__)(_/ \\_)-' '-(_/(__)    (__) (__)(__)  (__)\n",
      "    \n",
      " - mu:  2.1544346900318867e-10\n",
      " - lipschitz constant:  1.099999999999981\n",
      " - data:  (640, 372)\n",
      " - wavelet:  <mri.reconstruct.linear.WaveletN object at 0x7fa415738c18> - 4\n",
      " - max iterations:  200\n",
      " - image variable shape:  (640, 372)\n",
      " - alpha variable shape:  (238320,)\n",
      "----------------------------------------\n",
      "Starting optimization...\n"
     ]
    },
    {
     "name": "stderr",
     "output_type": "stream",
     "text": [
      "100% (200 of 200) |######################| Elapsed Time: 0:00:54 Time:  0:00:54\n"
     ]
    },
    {
     "name": "stdout",
     "output_type": "stream",
     "text": [
      " - final iteration number:  200\n",
      " - final log10 cost value:  -6.378708520845294\n",
      " - converged:  True\n",
      "Done.\n",
      "Execution time:  1569.5121759999893  seconds\n",
      "----------------------------------------\n"
     ]
    },
    {
     "name": "stderr",
     "output_type": "stream",
     "text": [
      "\u001b[33mWARNING\u001b[0m: Making input data immutable.\n"
     ]
    },
    {
     "name": "stdout",
     "output_type": "stream",
     "text": [
      "\n",
      "  _____             ____     _____      _\n",
      " |\" ___|    ___    / __\"| u |_ \" _| U  /\"\\  u\n",
      "U| |_  u   |_\"_|  <\\___ \\/    | |    \\/ _ \\/\n",
      "\\|  _|/     | |    u___) |   /| |\\   / ___ \\\\\n",
      " |_|      U/| |\\u  |____/>> u |_|U  /_/   \\_\\\\\n",
      " )(\\\\\\,-.-,_|___|_,-.)(  (__)_// \\\\\\_  \\\\\\    >>\n",
      "(__)(_/ \\_)-' '-(_/(__)    (__) (__)(__)  (__)\n",
      "    \n",
      " - mu:  2.1544346900318867e-10\n",
      " - lipschitz constant:  1.1000000000000736\n",
      " - data:  (640, 356)\n",
      " - wavelet:  <mri.reconstruct.linear.WaveletN object at 0x7fa415738470> - 4\n",
      " - max iterations:  200\n",
      " - image variable shape:  (640, 356)\n",
      " - alpha variable shape:  (228080,)\n",
      "----------------------------------------\n",
      "Starting optimization...\n"
     ]
    },
    {
     "name": "stderr",
     "output_type": "stream",
     "text": [
      "100% (200 of 200) |######################| Elapsed Time: 0:00:58 Time:  0:00:58\n"
     ]
    },
    {
     "name": "stdout",
     "output_type": "stream",
     "text": [
      " - final iteration number:  200\n",
      " - final log10 cost value:  -4.926795640676506\n",
      " - converged:  True\n",
      "Done.\n",
      "Execution time:  1698.5204870000016  seconds\n",
      "----------------------------------------\n"
     ]
    },
    {
     "name": "stderr",
     "output_type": "stream",
     "text": [
      "\u001b[33mWARNING\u001b[0m: Making input data immutable.\n"
     ]
    },
    {
     "name": "stdout",
     "output_type": "stream",
     "text": [
      "\n",
      "  _____             ____     _____      _\n",
      " |\" ___|    ___    / __\"| u |_ \" _| U  /\"\\  u\n",
      "U| |_  u   |_\"_|  <\\___ \\/    | |    \\/ _ \\/\n",
      "\\|  _|/     | |    u___) |   /| |\\   / ___ \\\\\n",
      " |_|      U/| |\\u  |____/>> u |_|U  /_/   \\_\\\\\n",
      " )(\\\\\\,-.-,_|___|_,-.)(  (__)_// \\\\\\_  \\\\\\    >>\n",
      "(__)(_/ \\_)-' '-(_/(__)    (__) (__)(__)  (__)\n",
      "    \n",
      " - mu:  2.1544346900318867e-10\n",
      " - lipschitz constant:  1.1000000000000343\n",
      " - data:  (640, 368)\n",
      " - wavelet:  <mri.reconstruct.linear.WaveletN object at 0x7fa415766390> - 4\n",
      " - max iterations:  200\n",
      " - image variable shape:  (640, 368)\n",
      " - alpha variable shape:  (235520,)\n",
      "----------------------------------------\n",
      "Starting optimization...\n"
     ]
    },
    {
     "name": "stderr",
     "output_type": "stream",
     "text": [
      "100% (200 of 200) |######################| Elapsed Time: 0:00:51 Time:  0:00:51\n"
     ]
    },
    {
     "name": "stdout",
     "output_type": "stream",
     "text": [
      " - final iteration number:  200\n",
      " - final log10 cost value:  -4.912965319647921\n",
      " - converged:  True\n",
      "Done.\n",
      "Execution time:  1544.6013410000014  seconds\n",
      "----------------------------------------\n"
     ]
    },
    {
     "name": "stderr",
     "output_type": "stream",
     "text": [
      "\u001b[33mWARNING\u001b[0m: Making input data immutable.\n"
     ]
    },
    {
     "name": "stdout",
     "output_type": "stream",
     "text": [
      "\n",
      "  _____             ____     _____      _\n",
      " |\" ___|    ___    / __\"| u |_ \" _| U  /\"\\  u\n",
      "U| |_  u   |_\"_|  <\\___ \\/    | |    \\/ _ \\/\n",
      "\\|  _|/     | |    u___) |   /| |\\   / ___ \\\\\n",
      " |_|      U/| |\\u  |____/>> u |_|U  /_/   \\_\\\\\n",
      " )(\\\\\\,-.-,_|___|_,-.)(  (__)_// \\\\\\_  \\\\\\    >>\n",
      "(__)(_/ \\_)-' '-(_/(__)    (__) (__)(__)  (__)\n",
      "    \n",
      " - mu:  2.1544346900318867e-10\n",
      " - lipschitz constant:  1.1000000000000303\n",
      " - data:  (640, 368)\n",
      " - wavelet:  <mri.reconstruct.linear.WaveletN object at 0x7fa415766a90> - 4\n",
      " - max iterations:  200\n",
      " - image variable shape:  (640, 368)\n",
      " - alpha variable shape:  (235520,)\n",
      "----------------------------------------\n",
      "Starting optimization...\n"
     ]
    },
    {
     "name": "stderr",
     "output_type": "stream",
     "text": [
      "100% (200 of 200) |######################| Elapsed Time: 0:00:51 Time:  0:00:51\n"
     ]
    },
    {
     "name": "stdout",
     "output_type": "stream",
     "text": [
      " - final iteration number:  200\n",
      " - final log10 cost value:  -5.309171501880667\n",
      " - converged:  True\n",
      "Done.\n",
      "Execution time:  1509.4566889999842  seconds\n",
      "----------------------------------------\n"
     ]
    },
    {
     "name": "stderr",
     "output_type": "stream",
     "text": [
      "\u001b[33mWARNING\u001b[0m: Making input data immutable.\n"
     ]
    },
    {
     "name": "stdout",
     "output_type": "stream",
     "text": [
      "\n",
      "  _____             ____     _____      _\n",
      " |\" ___|    ___    / __\"| u |_ \" _| U  /\"\\  u\n",
      "U| |_  u   |_\"_|  <\\___ \\/    | |    \\/ _ \\/\n",
      "\\|  _|/     | |    u___) |   /| |\\   / ___ \\\\\n",
      " |_|      U/| |\\u  |____/>> u |_|U  /_/   \\_\\\\\n",
      " )(\\\\\\,-.-,_|___|_,-.)(  (__)_// \\\\\\_  \\\\\\    >>\n",
      "(__)(_/ \\_)-' '-(_/(__)    (__) (__)(__)  (__)\n",
      "    \n",
      " - mu:  2.1544346900318867e-10\n",
      " - lipschitz constant:  1.0999999999999772\n",
      " - data:  (640, 368)\n",
      " - wavelet:  <mri.reconstruct.linear.WaveletN object at 0x7fa41578e048> - 4\n",
      " - max iterations:  200\n",
      " - image variable shape:  (640, 368)\n",
      " - alpha variable shape:  (235520,)\n",
      "----------------------------------------\n",
      "Starting optimization...\n"
     ]
    },
    {
     "name": "stderr",
     "output_type": "stream",
     "text": [
      "100% (200 of 200) |######################| Elapsed Time: 0:00:50 Time:  0:00:50\n"
     ]
    },
    {
     "name": "stdout",
     "output_type": "stream",
     "text": [
      " - final iteration number:  200\n",
      " - final log10 cost value:  -5.036575411883558\n",
      " - converged:  True\n",
      "Done.\n",
      "Execution time:  1546.6370469999965  seconds\n",
      "----------------------------------------\n"
     ]
    },
    {
     "name": "stderr",
     "output_type": "stream",
     "text": [
      "\u001b[33mWARNING\u001b[0m: Making input data immutable.\n"
     ]
    },
    {
     "name": "stdout",
     "output_type": "stream",
     "text": [
      "\n",
      "  _____             ____     _____      _\n",
      " |\" ___|    ___    / __\"| u |_ \" _| U  /\"\\  u\n",
      "U| |_  u   |_\"_|  <\\___ \\/    | |    \\/ _ \\/\n",
      "\\|  _|/     | |    u___) |   /| |\\   / ___ \\\\\n",
      " |_|      U/| |\\u  |____/>> u |_|U  /_/   \\_\\\\\n",
      " )(\\\\\\,-.-,_|___|_,-.)(  (__)_// \\\\\\_  \\\\\\    >>\n",
      "(__)(_/ \\_)-' '-(_/(__)    (__) (__)(__)  (__)\n",
      "    \n",
      " - mu:  2.1544346900318867e-10\n",
      " - lipschitz constant:  1.1000000000000694\n",
      " - data:  (640, 368)\n",
      " - wavelet:  <mri.reconstruct.linear.WaveletN object at 0x7fa415806e10> - 4\n",
      " - max iterations:  200\n",
      " - image variable shape:  (640, 368)\n",
      " - alpha variable shape:  (235520,)\n",
      "----------------------------------------\n",
      "Starting optimization...\n"
     ]
    },
    {
     "name": "stderr",
     "output_type": "stream",
     "text": [
      "100% (200 of 200) |######################| Elapsed Time: 0:00:51 Time:  0:00:51\n"
     ]
    },
    {
     "name": "stdout",
     "output_type": "stream",
     "text": [
      " - final iteration number:  200\n",
      " - final log10 cost value:  -5.537652046844512\n",
      " - converged:  True\n",
      "Done.\n",
      "Execution time:  1557.525358999992  seconds\n",
      "----------------------------------------\n"
     ]
    },
    {
     "name": "stderr",
     "output_type": "stream",
     "text": [
      "\u001b[33mWARNING\u001b[0m: Making input data immutable.\n"
     ]
    },
    {
     "name": "stdout",
     "output_type": "stream",
     "text": [
      "\n",
      "  _____             ____     _____      _\n",
      " |\" ___|    ___    / __\"| u |_ \" _| U  /\"\\  u\n",
      "U| |_  u   |_\"_|  <\\___ \\/    | |    \\/ _ \\/\n",
      "\\|  _|/     | |    u___) |   /| |\\   / ___ \\\\\n",
      " |_|      U/| |\\u  |____/>> u |_|U  /_/   \\_\\\\\n",
      " )(\\\\\\,-.-,_|___|_,-.)(  (__)_// \\\\\\_  \\\\\\    >>\n",
      "(__)(_/ \\_)-' '-(_/(__)    (__) (__)(__)  (__)\n",
      "    \n",
      " - mu:  2.1544346900318867e-10\n",
      " - lipschitz constant:  1.1000000000000314\n",
      " - data:  (640, 372)\n",
      " - wavelet:  <mri.reconstruct.linear.WaveletN object at 0x7fa415806c18> - 4\n",
      " - max iterations:  200\n",
      " - image variable shape:  (640, 372)\n",
      " - alpha variable shape:  (238320,)\n",
      "----------------------------------------\n",
      "Starting optimization...\n"
     ]
    },
    {
     "name": "stderr",
     "output_type": "stream",
     "text": [
      "100% (200 of 200) |######################| Elapsed Time: 0:00:53 Time:  0:00:53\n"
     ]
    },
    {
     "name": "stdout",
     "output_type": "stream",
     "text": [
      " - final iteration number:  200\n",
      " - final log10 cost value:  -6.34249784701638\n",
      " - converged:  True\n",
      "Done.\n",
      "Execution time:  1590.2235130000045  seconds\n",
      "----------------------------------------\n"
     ]
    },
    {
     "name": "stderr",
     "output_type": "stream",
     "text": [
      "\u001b[33mWARNING\u001b[0m: Making input data immutable.\n"
     ]
    },
    {
     "name": "stdout",
     "output_type": "stream",
     "text": [
      "\n",
      "  _____             ____     _____      _\n",
      " |\" ___|    ___    / __\"| u |_ \" _| U  /\"\\  u\n",
      "U| |_  u   |_\"_|  <\\___ \\/    | |    \\/ _ \\/\n",
      "\\|  _|/     | |    u___) |   /| |\\   / ___ \\\\\n",
      " |_|      U/| |\\u  |____/>> u |_|U  /_/   \\_\\\\\n",
      " )(\\\\\\,-.-,_|___|_,-.)(  (__)_// \\\\\\_  \\\\\\    >>\n",
      "(__)(_/ \\_)-' '-(_/(__)    (__) (__)(__)  (__)\n",
      "    \n",
      " - mu:  2.1544346900318867e-10\n",
      " - lipschitz constant:  1.0999999999999805\n",
      " - data:  (640, 372)\n",
      " - wavelet:  <mri.reconstruct.linear.WaveletN object at 0x7fa4157cbcc0> - 4\n",
      " - max iterations:  200\n",
      " - image variable shape:  (640, 372)\n",
      " - alpha variable shape:  (238320,)\n",
      "----------------------------------------\n",
      "Starting optimization...\n"
     ]
    },
    {
     "name": "stderr",
     "output_type": "stream",
     "text": [
      "100% (200 of 200) |######################| Elapsed Time: 0:00:52 Time:  0:00:52\n"
     ]
    },
    {
     "name": "stdout",
     "output_type": "stream",
     "text": [
      " - final iteration number:  200\n",
      " - final log10 cost value:  -6.284568660989276\n",
      " - converged:  True\n",
      "Done.\n",
      "Execution time:  1674.3750569999975  seconds\n",
      "----------------------------------------\n"
     ]
    },
    {
     "name": "stderr",
     "output_type": "stream",
     "text": [
      "\u001b[33mWARNING\u001b[0m: Making input data immutable.\n"
     ]
    },
    {
     "name": "stdout",
     "output_type": "stream",
     "text": [
      "\n",
      "  _____             ____     _____      _\n",
      " |\" ___|    ___    / __\"| u |_ \" _| U  /\"\\  u\n",
      "U| |_  u   |_\"_|  <\\___ \\/    | |    \\/ _ \\/\n",
      "\\|  _|/     | |    u___) |   /| |\\   / ___ \\\\\n",
      " |_|      U/| |\\u  |____/>> u |_|U  /_/   \\_\\\\\n",
      " )(\\\\\\,-.-,_|___|_,-.)(  (__)_// \\\\\\_  \\\\\\    >>\n",
      "(__)(_/ \\_)-' '-(_/(__)    (__) (__)(__)  (__)\n",
      "    \n",
      " - mu:  2.1544346900318867e-10\n",
      " - lipschitz constant:  1.1000000000000316\n",
      " - data:  (640, 368)\n",
      " - wavelet:  <mri.reconstruct.linear.WaveletN object at 0x7fa415760828> - 4\n",
      " - max iterations:  200\n",
      " - image variable shape:  (640, 368)\n",
      " - alpha variable shape:  (235520,)\n",
      "----------------------------------------\n",
      "Starting optimization...\n"
     ]
    },
    {
     "name": "stderr",
     "output_type": "stream",
     "text": [
      "100% (200 of 200) |######################| Elapsed Time: 0:00:50 Time:  0:00:50\n"
     ]
    },
    {
     "name": "stdout",
     "output_type": "stream",
     "text": [
      " - final iteration number:  200\n",
      " - final log10 cost value:  -5.493649700536307\n",
      " - converged:  True\n",
      "Done.\n",
      "Execution time:  1621.369255000027  seconds\n",
      "----------------------------------------\n"
     ]
    },
    {
     "name": "stderr",
     "output_type": "stream",
     "text": [
      "\u001b[33mWARNING\u001b[0m: Making input data immutable.\n"
     ]
    },
    {
     "name": "stdout",
     "output_type": "stream",
     "text": [
      "\n",
      "  _____             ____     _____      _\n",
      " |\" ___|    ___    / __\"| u |_ \" _| U  /\"\\  u\n",
      "U| |_  u   |_\"_|  <\\___ \\/    | |    \\/ _ \\/\n",
      "\\|  _|/     | |    u___) |   /| |\\   / ___ \\\\\n",
      " |_|      U/| |\\u  |____/>> u |_|U  /_/   \\_\\\\\n",
      " )(\\\\\\,-.-,_|___|_,-.)(  (__)_// \\\\\\_  \\\\\\    >>\n",
      "(__)(_/ \\_)-' '-(_/(__)    (__) (__)(__)  (__)\n",
      "    \n",
      " - mu:  2.1544346900318867e-10\n",
      " - lipschitz constant:  1.0999999999999828\n",
      " - data:  (640, 372)\n",
      " - wavelet:  <mri.reconstruct.linear.WaveletN object at 0x7fa415777128> - 4\n",
      " - max iterations:  200\n",
      " - image variable shape:  (640, 372)\n",
      " - alpha variable shape:  (238320,)\n",
      "----------------------------------------\n",
      "Starting optimization...\n"
     ]
    },
    {
     "name": "stderr",
     "output_type": "stream",
     "text": [
      "100% (200 of 200) |######################| Elapsed Time: 0:00:52 Time:  0:00:52\n"
     ]
    },
    {
     "name": "stdout",
     "output_type": "stream",
     "text": [
      " - final iteration number:  200\n",
      " - final log10 cost value:  -6.244687944337405\n",
      " - converged:  True\n",
      "Done.\n",
      "Execution time:  1670.6353189999936  seconds\n",
      "----------------------------------------\n"
     ]
    },
    {
     "name": "stderr",
     "output_type": "stream",
     "text": [
      "\u001b[33mWARNING\u001b[0m: Making input data immutable.\n"
     ]
    },
    {
     "name": "stdout",
     "output_type": "stream",
     "text": [
      "\n",
      "  _____             ____     _____      _\n",
      " |\" ___|    ___    / __\"| u |_ \" _| U  /\"\\  u\n",
      "U| |_  u   |_\"_|  <\\___ \\/    | |    \\/ _ \\/\n",
      "\\|  _|/     | |    u___) |   /| |\\   / ___ \\\\\n",
      " |_|      U/| |\\u  |____/>> u |_|U  /_/   \\_\\\\\n",
      " )(\\\\\\,-.-,_|___|_,-.)(  (__)_// \\\\\\_  \\\\\\    >>\n",
      "(__)(_/ \\_)-' '-(_/(__)    (__) (__)(__)  (__)\n",
      "    \n",
      " - mu:  2.1544346900318867e-10\n",
      " - lipschitz constant:  1.099999999999981\n",
      " - data:  (640, 368)\n",
      " - wavelet:  <mri.reconstruct.linear.WaveletN object at 0x7fa4157779e8> - 4\n",
      " - max iterations:  200\n",
      " - image variable shape:  (640, 368)\n",
      " - alpha variable shape:  (235520,)\n",
      "----------------------------------------\n",
      "Starting optimization...\n"
     ]
    },
    {
     "name": "stderr",
     "output_type": "stream",
     "text": [
      "100% (200 of 200) |######################| Elapsed Time: 0:00:51 Time:  0:00:51\n"
     ]
    },
    {
     "name": "stdout",
     "output_type": "stream",
     "text": [
      " - final iteration number:  200\n",
      " - final log10 cost value:  -5.099264614450328\n",
      " - converged:  True\n",
      "Done.\n",
      "Execution time:  1654.1876819999889  seconds\n",
      "----------------------------------------\n"
     ]
    },
    {
     "name": "stderr",
     "output_type": "stream",
     "text": [
      "\u001b[33mWARNING\u001b[0m: Making input data immutable.\n"
     ]
    },
    {
     "name": "stdout",
     "output_type": "stream",
     "text": [
      "\n",
      "  _____             ____     _____      _\n",
      " |\" ___|    ___    / __\"| u |_ \" _| U  /\"\\  u\n",
      "U| |_  u   |_\"_|  <\\___ \\/    | |    \\/ _ \\/\n",
      "\\|  _|/     | |    u___) |   /| |\\   / ___ \\\\\n",
      " |_|      U/| |\\u  |____/>> u |_|U  /_/   \\_\\\\\n",
      " )(\\\\\\,-.-,_|___|_,-.)(  (__)_// \\\\\\_  \\\\\\    >>\n",
      "(__)(_/ \\_)-' '-(_/(__)    (__) (__)(__)  (__)\n",
      "    \n",
      " - mu:  2.1544346900318867e-10\n",
      " - lipschitz constant:  1.099999999999976\n",
      " - data:  (640, 368)\n",
      " - wavelet:  <mri.reconstruct.linear.WaveletN object at 0x7fa4157d56d8> - 4\n",
      " - max iterations:  200\n",
      " - image variable shape:  (640, 368)\n",
      " - alpha variable shape:  (235520,)\n",
      "----------------------------------------\n",
      "Starting optimization...\n"
     ]
    },
    {
     "name": "stderr",
     "output_type": "stream",
     "text": [
      "100% (200 of 200) |######################| Elapsed Time: 0:00:50 Time:  0:00:50\n"
     ]
    },
    {
     "name": "stdout",
     "output_type": "stream",
     "text": [
      " - final iteration number:  200\n",
      " - final log10 cost value:  -5.177662768573012\n",
      " - converged:  True\n",
      "Done.\n",
      "Execution time:  1605.1780689999869  seconds\n",
      "----------------------------------------\n"
     ]
    },
    {
     "name": "stderr",
     "output_type": "stream",
     "text": [
      "\u001b[33mWARNING\u001b[0m: Making input data immutable.\n"
     ]
    },
    {
     "name": "stdout",
     "output_type": "stream",
     "text": [
      "\n",
      "  _____             ____     _____      _\n",
      " |\" ___|    ___    / __\"| u |_ \" _| U  /\"\\  u\n",
      "U| |_  u   |_\"_|  <\\___ \\/    | |    \\/ _ \\/\n",
      "\\|  _|/     | |    u___) |   /| |\\   / ___ \\\\\n",
      " |_|      U/| |\\u  |____/>> u |_|U  /_/   \\_\\\\\n",
      " )(\\\\\\,-.-,_|___|_,-.)(  (__)_// \\\\\\_  \\\\\\    >>\n",
      "(__)(_/ \\_)-' '-(_/(__)    (__) (__)(__)  (__)\n",
      "    \n",
      " - mu:  2.1544346900318867e-10\n",
      " - lipschitz constant:  1.1000000000000743\n",
      " - data:  (640, 368)\n",
      " - wavelet:  <mri.reconstruct.linear.WaveletN object at 0x7fa415806e10> - 4\n",
      " - max iterations:  200\n",
      " - image variable shape:  (640, 368)\n",
      " - alpha variable shape:  (235520,)\n",
      "----------------------------------------\n",
      "Starting optimization...\n"
     ]
    },
    {
     "name": "stderr",
     "output_type": "stream",
     "text": [
      "100% (200 of 200) |######################| Elapsed Time: 0:00:52 Time:  0:00:52\n"
     ]
    },
    {
     "name": "stdout",
     "output_type": "stream",
     "text": [
      " - final iteration number:  200\n",
      " - final log10 cost value:  -5.174506047266066\n",
      " - converged:  True\n",
      "Done.\n",
      "Execution time:  1571.047544000001  seconds\n",
      "----------------------------------------\n"
     ]
    },
    {
     "name": "stderr",
     "output_type": "stream",
     "text": [
      "\u001b[33mWARNING\u001b[0m: Making input data immutable.\n"
     ]
    },
    {
     "name": "stdout",
     "output_type": "stream",
     "text": [
      "\n",
      "  _____             ____     _____      _\n",
      " |\" ___|    ___    / __\"| u |_ \" _| U  /\"\\  u\n",
      "U| |_  u   |_\"_|  <\\___ \\/    | |    \\/ _ \\/\n",
      "\\|  _|/     | |    u___) |   /| |\\   / ___ \\\\\n",
      " |_|      U/| |\\u  |____/>> u |_|U  /_/   \\_\\\\\n",
      " )(\\\\\\,-.-,_|___|_,-.)(  (__)_// \\\\\\_  \\\\\\    >>\n",
      "(__)(_/ \\_)-' '-(_/(__)    (__) (__)(__)  (__)\n",
      "    \n",
      " - mu:  2.1544346900318867e-10\n",
      " - lipschitz constant:  1.099999999999979\n",
      " - data:  (640, 372)\n",
      " - wavelet:  <mri.reconstruct.linear.WaveletN object at 0x7fa4157d5940> - 4\n",
      " - max iterations:  200\n",
      " - image variable shape:  (640, 372)\n",
      " - alpha variable shape:  (238320,)\n",
      "----------------------------------------\n",
      "Starting optimization...\n"
     ]
    },
    {
     "name": "stderr",
     "output_type": "stream",
     "text": [
      "100% (200 of 200) |######################| Elapsed Time: 0:00:54 Time:  0:00:54\n"
     ]
    },
    {
     "name": "stdout",
     "output_type": "stream",
     "text": [
      " - final iteration number:  200\n",
      " - final log10 cost value:  -6.033223393996825\n",
      " - converged:  True\n",
      "Done.\n",
      "Execution time:  1593.2278959999967  seconds\n",
      "----------------------------------------\n"
     ]
    },
    {
     "name": "stderr",
     "output_type": "stream",
     "text": [
      "\u001b[33mWARNING\u001b[0m: Making input data immutable.\n"
     ]
    },
    {
     "name": "stdout",
     "output_type": "stream",
     "text": [
      "\n",
      "  _____             ____     _____      _\n",
      " |\" ___|    ___    / __\"| u |_ \" _| U  /\"\\  u\n",
      "U| |_  u   |_\"_|  <\\___ \\/    | |    \\/ _ \\/\n",
      "\\|  _|/     | |    u___) |   /| |\\   / ___ \\\\\n",
      " |_|      U/| |\\u  |____/>> u |_|U  /_/   \\_\\\\\n",
      " )(\\\\\\,-.-,_|___|_,-.)(  (__)_// \\\\\\_  \\\\\\    >>\n",
      "(__)(_/ \\_)-' '-(_/(__)    (__) (__)(__)  (__)\n",
      "    \n",
      " - mu:  2.1544346900318867e-10\n",
      " - lipschitz constant:  1.0999999999999799\n",
      " - data:  (640, 368)\n",
      " - wavelet:  <mri.reconstruct.linear.WaveletN object at 0x7fa415806c18> - 4\n",
      " - max iterations:  200\n",
      " - image variable shape:  (640, 368)\n",
      " - alpha variable shape:  (235520,)\n",
      "----------------------------------------\n",
      "Starting optimization...\n"
     ]
    },
    {
     "name": "stderr",
     "output_type": "stream",
     "text": [
      "100% (200 of 200) |######################| Elapsed Time: 0:00:51 Time:  0:00:51\n"
     ]
    },
    {
     "name": "stdout",
     "output_type": "stream",
     "text": [
      " - final iteration number:  200\n",
      " - final log10 cost value:  -4.851420405308618\n",
      " - converged:  True\n",
      "Done.\n",
      "Execution time:  1557.2928019999817  seconds\n",
      "----------------------------------------\n"
     ]
    },
    {
     "name": "stderr",
     "output_type": "stream",
     "text": [
      "\u001b[33mWARNING\u001b[0m: Making input data immutable.\n"
     ]
    },
    {
     "name": "stdout",
     "output_type": "stream",
     "text": [
      "\n",
      "  _____             ____     _____      _\n",
      " |\" ___|    ___    / __\"| u |_ \" _| U  /\"\\  u\n",
      "U| |_  u   |_\"_|  <\\___ \\/    | |    \\/ _ \\/\n",
      "\\|  _|/     | |    u___) |   /| |\\   / ___ \\\\\n",
      " |_|      U/| |\\u  |____/>> u |_|U  /_/   \\_\\\\\n",
      " )(\\\\\\,-.-,_|___|_,-.)(  (__)_// \\\\\\_  \\\\\\    >>\n",
      "(__)(_/ \\_)-' '-(_/(__)    (__) (__)(__)  (__)\n",
      "    \n",
      " - mu:  2.1544346900318867e-10\n",
      " - lipschitz constant:  1.0999999999999814\n",
      " - data:  (640, 372)\n",
      " - wavelet:  <mri.reconstruct.linear.WaveletN object at 0x7fa415777b38> - 4\n",
      " - max iterations:  200\n",
      " - image variable shape:  (640, 372)\n",
      " - alpha variable shape:  (238320,)\n",
      "----------------------------------------\n",
      "Starting optimization...\n"
     ]
    },
    {
     "name": "stderr",
     "output_type": "stream",
     "text": [
      "100% (200 of 200) |######################| Elapsed Time: 0:00:54 Time:  0:00:54\n"
     ]
    },
    {
     "name": "stdout",
     "output_type": "stream",
     "text": [
      " - final iteration number:  200\n",
      " - final log10 cost value:  -6.5279073128353815\n",
      " - converged:  True\n",
      "Done.\n",
      "Execution time:  1555.7802479999955  seconds\n",
      "----------------------------------------\n"
     ]
    },
    {
     "name": "stderr",
     "output_type": "stream",
     "text": [
      "\u001b[33mWARNING\u001b[0m: Making input data immutable.\n"
     ]
    },
    {
     "name": "stdout",
     "output_type": "stream",
     "text": [
      "\n",
      "  _____             ____     _____      _\n",
      " |\" ___|    ___    / __\"| u |_ \" _| U  /\"\\  u\n",
      "U| |_  u   |_\"_|  <\\___ \\/    | |    \\/ _ \\/\n",
      "\\|  _|/     | |    u___) |   /| |\\   / ___ \\\\\n",
      " |_|      U/| |\\u  |____/>> u |_|U  /_/   \\_\\\\\n",
      " )(\\\\\\,-.-,_|___|_,-.)(  (__)_// \\\\\\_  \\\\\\    >>\n",
      "(__)(_/ \\_)-' '-(_/(__)    (__) (__)(__)  (__)\n",
      "    \n",
      " - mu:  2.1544346900318867e-10\n",
      " - lipschitz constant:  1.100000000000073\n",
      " - data:  (640, 368)\n",
      " - wavelet:  <mri.reconstruct.linear.WaveletN object at 0x7fa415766978> - 4\n",
      " - max iterations:  200\n",
      " - image variable shape:  (640, 368)\n",
      " - alpha variable shape:  (235520,)\n",
      "----------------------------------------\n",
      "Starting optimization...\n"
     ]
    },
    {
     "name": "stderr",
     "output_type": "stream",
     "text": [
      "100% (200 of 200) |######################| Elapsed Time: 0:00:52 Time:  0:00:52\n"
     ]
    },
    {
     "name": "stdout",
     "output_type": "stream",
     "text": [
      " - final iteration number:  200\n",
      " - final log10 cost value:  -4.988086896290388\n",
      " - converged:  True\n",
      "Done.\n",
      "Execution time:  1550.4071650000114  seconds\n",
      "----------------------------------------\n",
      "\n"
     ]
    },
    {
     "data": {
      "application/vnd.jupyter.widget-view+json": {
       "model_id": "23b7fcae4ab447f19c08c9a36e7255d7",
       "version_major": 2,
       "version_minor": 0
      },
      "text/plain": [
       "HBox(children=(FloatProgress(value=0.0, description='Stats', max=24.0, style=ProgressStyle(description_width='…"
      ]
     },
     "metadata": {},
     "output_type": "display_data"
    },
    {
     "name": "stdout",
     "output_type": "stream",
     "text": [
      "\n"
     ]
    },
    {
     "data": {
      "application/vnd.jupyter.widget-view+json": {
       "model_id": "25fbb0f3b4074d5c95a9cac635b0e9d3",
       "version_major": 2,
       "version_minor": 0
      },
      "text/plain": [
       "HBox(children=(FloatProgress(value=0.0, description='K-spaces', max=24.0, style=ProgressStyle(description_widt…"
      ]
     },
     "metadata": {},
     "output_type": "display_data"
    },
    {
     "name": "stderr",
     "output_type": "stream",
     "text": [
      "\u001b[33mWARNING\u001b[0m: Making input data immutable.\n"
     ]
    },
    {
     "name": "stdout",
     "output_type": "stream",
     "text": [
      "\n",
      "  _____             ____     _____      _\n",
      " |\" ___|    ___    / __\"| u |_ \" _| U  /\"\\  u\n",
      "U| |_  u   |_\"_|  <\\___ \\/    | |    \\/ _ \\/\n",
      "\\|  _|/     | |    u___) |   /| |\\   / ___ \\\\\n",
      " |_|      U/| |\\u  |____/>> u |_|U  /_/   \\_\\\\\n",
      " )(\\\\\\,-.-,_|___|_,-.)(  (__)_// \\\\\\_  \\\\\\    >>\n",
      "(__)(_/ \\_)-' '-(_/(__)    (__) (__)(__)  (__)\n",
      "    \n",
      " - mu:  4.6415888336127727e-10\n",
      " - lipschitz constant:  1.1000000000000345\n",
      " - data:  (640, 368)\n",
      " - wavelet:  <mri.reconstruct.linear.WaveletN object at 0x7fa41578eb70> - 4\n",
      " - max iterations:  200\n",
      " - image variable shape:  (640, 368)\n",
      " - alpha variable shape:  (235520,)\n",
      "----------------------------------------\n",
      "Starting optimization...\n"
     ]
    },
    {
     "name": "stderr",
     "output_type": "stream",
     "text": [
      "100% (200 of 200) |######################| Elapsed Time: 0:00:52 Time:  0:00:52\n"
     ]
    },
    {
     "name": "stdout",
     "output_type": "stream",
     "text": [
      " - final iteration number:  200\n",
      " - final log10 cost value:  -4.990289946095847\n",
      " - converged:  True\n",
      "Done.\n",
      "Execution time:  1560.2592550000118  seconds\n",
      "----------------------------------------\n"
     ]
    },
    {
     "name": "stderr",
     "output_type": "stream",
     "text": [
      "\u001b[33mWARNING\u001b[0m: Making input data immutable.\n"
     ]
    },
    {
     "name": "stdout",
     "output_type": "stream",
     "text": [
      "\n",
      "  _____             ____     _____      _\n",
      " |\" ___|    ___    / __\"| u |_ \" _| U  /\"\\  u\n",
      "U| |_  u   |_\"_|  <\\___ \\/    | |    \\/ _ \\/\n",
      "\\|  _|/     | |    u___) |   /| |\\   / ___ \\\\\n",
      " |_|      U/| |\\u  |____/>> u |_|U  /_/   \\_\\\\\n",
      " )(\\\\\\,-.-,_|___|_,-.)(  (__)_// \\\\\\_  \\\\\\    >>\n",
      "(__)(_/ \\_)-' '-(_/(__)    (__) (__)(__)  (__)\n",
      "    \n",
      " - mu:  4.6415888336127727e-10\n",
      " - lipschitz constant:  1.1000000000001402\n",
      " - data:  (640, 372)\n",
      " - wavelet:  <mri.reconstruct.linear.WaveletN object at 0x7fa4157d5940> - 4\n",
      " - max iterations:  200\n",
      " - image variable shape:  (640, 372)\n",
      " - alpha variable shape:  (238320,)\n",
      "----------------------------------------\n",
      "Starting optimization...\n"
     ]
    },
    {
     "name": "stderr",
     "output_type": "stream",
     "text": [
      "100% (200 of 200) |######################| Elapsed Time: 0:00:53 Time:  0:00:53\n"
     ]
    },
    {
     "name": "stdout",
     "output_type": "stream",
     "text": [
      " - final iteration number:  200\n",
      " - final log10 cost value:  -6.123077369416291\n",
      " - converged:  True\n",
      "Done.\n",
      "Execution time:  1540.2863570000045  seconds\n",
      "----------------------------------------\n"
     ]
    },
    {
     "name": "stderr",
     "output_type": "stream",
     "text": [
      "\u001b[33mWARNING\u001b[0m: Making input data immutable.\n"
     ]
    },
    {
     "name": "stdout",
     "output_type": "stream",
     "text": [
      "\n",
      "  _____             ____     _____      _\n",
      " |\" ___|    ___    / __\"| u |_ \" _| U  /\"\\  u\n",
      "U| |_  u   |_\"_|  <\\___ \\/    | |    \\/ _ \\/\n",
      "\\|  _|/     | |    u___) |   /| |\\   / ___ \\\\\n",
      " |_|      U/| |\\u  |____/>> u |_|U  /_/   \\_\\\\\n",
      " )(\\\\\\,-.-,_|___|_,-.)(  (__)_// \\\\\\_  \\\\\\    >>\n",
      "(__)(_/ \\_)-' '-(_/(__)    (__) (__)(__)  (__)\n",
      "    \n",
      " - mu:  4.6415888336127727e-10\n",
      " - lipschitz constant:  1.1000000000000862\n",
      " - data:  (640, 368)\n",
      " - wavelet:  <mri.reconstruct.linear.WaveletN object at 0x7fa4157d5748> - 4\n",
      " - max iterations:  200\n",
      " - image variable shape:  (640, 368)\n",
      " - alpha variable shape:  (235520,)\n",
      "----------------------------------------\n",
      "Starting optimization...\n"
     ]
    },
    {
     "name": "stderr",
     "output_type": "stream",
     "text": [
      "100% (200 of 200) |######################| Elapsed Time: 0:00:51 Time:  0:00:51\n"
     ]
    },
    {
     "name": "stdout",
     "output_type": "stream",
     "text": [
      " - final iteration number:  200\n",
      " - final log10 cost value:  -5.36275983035422\n",
      " - converged:  True\n",
      "Done.\n",
      "Execution time:  1547.6352809999953  seconds\n",
      "----------------------------------------\n"
     ]
    },
    {
     "name": "stderr",
     "output_type": "stream",
     "text": [
      "\u001b[33mWARNING\u001b[0m: Making input data immutable.\n"
     ]
    },
    {
     "name": "stdout",
     "output_type": "stream",
     "text": [
      "\n",
      "  _____             ____     _____      _\n",
      " |\" ___|    ___    / __\"| u |_ \" _| U  /\"\\  u\n",
      "U| |_  u   |_\"_|  <\\___ \\/    | |    \\/ _ \\/\n",
      "\\|  _|/     | |    u___) |   /| |\\   / ___ \\\\\n",
      " |_|      U/| |\\u  |____/>> u |_|U  /_/   \\_\\\\\n",
      " )(\\\\\\,-.-,_|___|_,-.)(  (__)_// \\\\\\_  \\\\\\    >>\n",
      "(__)(_/ \\_)-' '-(_/(__)    (__) (__)(__)  (__)\n",
      "    \n",
      " - mu:  4.6415888336127727e-10\n",
      " - lipschitz constant:  1.0999999999999721\n",
      " - data:  (640, 368)\n",
      " - wavelet:  <mri.reconstruct.linear.WaveletN object at 0x7fa415777e80> - 4\n",
      " - max iterations:  200\n",
      " - image variable shape:  (640, 368)\n",
      " - alpha variable shape:  (235520,)\n",
      "----------------------------------------\n",
      "Starting optimization...\n"
     ]
    },
    {
     "name": "stderr",
     "output_type": "stream",
     "text": [
      "100% (200 of 200) |######################| Elapsed Time: 0:00:51 Time:  0:00:51\n"
     ]
    },
    {
     "name": "stdout",
     "output_type": "stream",
     "text": [
      " - final iteration number:  200\n",
      " - final log10 cost value:  -5.480272046536967\n",
      " - converged:  True\n",
      "Done.\n",
      "Execution time:  1543.8021290000179  seconds\n",
      "----------------------------------------\n"
     ]
    },
    {
     "name": "stderr",
     "output_type": "stream",
     "text": [
      "\u001b[33mWARNING\u001b[0m: Making input data immutable.\n"
     ]
    },
    {
     "name": "stdout",
     "output_type": "stream",
     "text": [
      "\n",
      "  _____             ____     _____      _\n",
      " |\" ___|    ___    / __\"| u |_ \" _| U  /\"\\  u\n",
      "U| |_  u   |_\"_|  <\\___ \\/    | |    \\/ _ \\/\n",
      "\\|  _|/     | |    u___) |   /| |\\   / ___ \\\\\n",
      " |_|      U/| |\\u  |____/>> u |_|U  /_/   \\_\\\\\n",
      " )(\\\\\\,-.-,_|___|_,-.)(  (__)_// \\\\\\_  \\\\\\    >>\n",
      "(__)(_/ \\_)-' '-(_/(__)    (__) (__)(__)  (__)\n",
      "    \n",
      " - mu:  4.6415888336127727e-10\n",
      " - lipschitz constant:  1.1000000000000876\n",
      " - data:  (640, 372)\n",
      " - wavelet:  <mri.reconstruct.linear.WaveletN object at 0x7fa41578ed30> - 4\n",
      " - max iterations:  200\n",
      " - image variable shape:  (640, 372)\n",
      " - alpha variable shape:  (238320,)\n",
      "----------------------------------------\n",
      "Starting optimization...\n"
     ]
    },
    {
     "name": "stderr",
     "output_type": "stream",
     "text": [
      "100% (200 of 200) |######################| Elapsed Time: 0:00:52 Time:  0:00:52\n"
     ]
    },
    {
     "name": "stdout",
     "output_type": "stream",
     "text": [
      " - final iteration number:  200\n",
      " - final log10 cost value:  -6.383950889224809\n",
      " - converged:  True\n",
      "Done.\n",
      "Execution time:  1580.724623999995  seconds\n",
      "----------------------------------------\n"
     ]
    },
    {
     "name": "stderr",
     "output_type": "stream",
     "text": [
      "\u001b[33mWARNING\u001b[0m: Making input data immutable.\n"
     ]
    },
    {
     "name": "stdout",
     "output_type": "stream",
     "text": [
      "\n",
      "  _____             ____     _____      _\n",
      " |\" ___|    ___    / __\"| u |_ \" _| U  /\"\\  u\n",
      "U| |_  u   |_\"_|  <\\___ \\/    | |    \\/ _ \\/\n",
      "\\|  _|/     | |    u___) |   /| |\\   / ___ \\\\\n",
      " |_|      U/| |\\u  |____/>> u |_|U  /_/   \\_\\\\\n",
      " )(\\\\\\,-.-,_|___|_,-.)(  (__)_// \\\\\\_  \\\\\\    >>\n",
      "(__)(_/ \\_)-' '-(_/(__)    (__) (__)(__)  (__)\n",
      "    \n",
      " - mu:  4.6415888336127727e-10\n",
      " - lipschitz constant:  1.0999999999999879\n",
      " - data:  (640, 372)\n",
      " - wavelet:  <mri.reconstruct.linear.WaveletN object at 0x7fa415760978> - 4\n",
      " - max iterations:  200\n",
      " - image variable shape:  (640, 372)\n",
      " - alpha variable shape:  (238320,)\n",
      "----------------------------------------\n",
      "Starting optimization...\n"
     ]
    },
    {
     "name": "stderr",
     "output_type": "stream",
     "text": [
      "100% (200 of 200) |######################| Elapsed Time: 0:00:52 Time:  0:00:52\n"
     ]
    },
    {
     "name": "stdout",
     "output_type": "stream",
     "text": [
      " - final iteration number:  200\n",
      " - final log10 cost value:  -6.358795944847378\n",
      " - converged:  True\n",
      "Done.\n",
      "Execution time:  1647.3839119999902  seconds\n",
      "----------------------------------------\n"
     ]
    },
    {
     "name": "stderr",
     "output_type": "stream",
     "text": [
      "\u001b[33mWARNING\u001b[0m: Making input data immutable.\n"
     ]
    },
    {
     "name": "stdout",
     "output_type": "stream",
     "text": [
      "\n",
      "  _____             ____     _____      _\n",
      " |\" ___|    ___    / __\"| u |_ \" _| U  /\"\\  u\n",
      "U| |_  u   |_\"_|  <\\___ \\/    | |    \\/ _ \\/\n",
      "\\|  _|/     | |    u___) |   /| |\\   / ___ \\\\\n",
      " |_|      U/| |\\u  |____/>> u |_|U  /_/   \\_\\\\\n",
      " )(\\\\\\,-.-,_|___|_,-.)(  (__)_// \\\\\\_  \\\\\\    >>\n",
      "(__)(_/ \\_)-' '-(_/(__)    (__) (__)(__)  (__)\n",
      "    \n",
      " - mu:  4.6415888336127727e-10\n",
      " - lipschitz constant:  1.0999999999999763\n",
      " - data:  (640, 372)\n",
      " - wavelet:  <mri.reconstruct.linear.WaveletN object at 0x7fa4157604e0> - 4\n",
      " - max iterations:  200\n",
      " - image variable shape:  (640, 372)\n",
      " - alpha variable shape:  (238320,)\n",
      "----------------------------------------\n",
      "Starting optimization...\n"
     ]
    },
    {
     "name": "stderr",
     "output_type": "stream",
     "text": [
      "100% (200 of 200) |######################| Elapsed Time: 0:00:52 Time:  0:00:52\n"
     ]
    },
    {
     "name": "stdout",
     "output_type": "stream",
     "text": [
      " - final iteration number:  200\n",
      " - final log10 cost value:  -6.167136568846719\n",
      " - converged:  True\n",
      "Done.\n",
      "Execution time:  1634.9034939999983  seconds\n",
      "----------------------------------------\n"
     ]
    },
    {
     "name": "stderr",
     "output_type": "stream",
     "text": [
      "\u001b[33mWARNING\u001b[0m: Making input data immutable.\n"
     ]
    },
    {
     "name": "stdout",
     "output_type": "stream",
     "text": [
      "\n",
      "  _____             ____     _____      _\n",
      " |\" ___|    ___    / __\"| u |_ \" _| U  /\"\\  u\n",
      "U| |_  u   |_\"_|  <\\___ \\/    | |    \\/ _ \\/\n",
      "\\|  _|/     | |    u___) |   /| |\\   / ___ \\\\\n",
      " |_|      U/| |\\u  |____/>> u |_|U  /_/   \\_\\\\\n",
      " )(\\\\\\,-.-,_|___|_,-.)(  (__)_// \\\\\\_  \\\\\\    >>\n",
      "(__)(_/ \\_)-' '-(_/(__)    (__) (__)(__)  (__)\n",
      "    \n",
      " - mu:  4.6415888336127727e-10\n",
      " - lipschitz constant:  1.1000000000000667\n",
      " - data:  (640, 368)\n",
      " - wavelet:  <mri.reconstruct.linear.WaveletN object at 0x7fa415760f28> - 4\n",
      " - max iterations:  200\n",
      " - image variable shape:  (640, 368)\n",
      " - alpha variable shape:  (235520,)\n",
      "----------------------------------------\n",
      "Starting optimization...\n"
     ]
    },
    {
     "name": "stderr",
     "output_type": "stream",
     "text": [
      "100% (200 of 200) |######################| Elapsed Time: 0:00:52 Time:  0:00:52\n"
     ]
    },
    {
     "name": "stdout",
     "output_type": "stream",
     "text": [
      " - final iteration number:  200\n",
      " - final log10 cost value:  -5.213854647430532\n",
      " - converged:  True\n",
      "Done.\n",
      "Execution time:  1529.7643749999988  seconds\n",
      "----------------------------------------\n"
     ]
    },
    {
     "name": "stderr",
     "output_type": "stream",
     "text": [
      "\u001b[33mWARNING\u001b[0m: Making input data immutable.\n"
     ]
    },
    {
     "name": "stdout",
     "output_type": "stream",
     "text": [
      "\n",
      "  _____             ____     _____      _\n",
      " |\" ___|    ___    / __\"| u |_ \" _| U  /\"\\  u\n",
      "U| |_  u   |_\"_|  <\\___ \\/    | |    \\/ _ \\/\n",
      "\\|  _|/     | |    u___) |   /| |\\   / ___ \\\\\n",
      " |_|      U/| |\\u  |____/>> u |_|U  /_/   \\_\\\\\n",
      " )(\\\\\\,-.-,_|___|_,-.)(  (__)_// \\\\\\_  \\\\\\    >>\n",
      "(__)(_/ \\_)-' '-(_/(__)    (__) (__)(__)  (__)\n",
      "    \n",
      " - mu:  4.6415888336127727e-10\n",
      " - lipschitz constant:  1.1000000000000323\n",
      " - data:  (640, 372)\n",
      " - wavelet:  <mri.reconstruct.linear.WaveletN object at 0x7fa415799ef0> - 4\n",
      " - max iterations:  200\n",
      " - image variable shape:  (640, 372)\n",
      " - alpha variable shape:  (238320,)\n",
      "----------------------------------------\n",
      "Starting optimization...\n"
     ]
    },
    {
     "name": "stderr",
     "output_type": "stream",
     "text": [
      "100% (200 of 200) |######################| Elapsed Time: 0:00:53 Time:  0:00:53\n"
     ]
    },
    {
     "name": "stdout",
     "output_type": "stream",
     "text": [
      " - final iteration number:  200\n",
      " - final log10 cost value:  -6.541624305533552\n",
      " - converged:  True\n",
      "Done.\n",
      "Execution time:  1586.0670470000186  seconds\n",
      "----------------------------------------\n"
     ]
    },
    {
     "name": "stderr",
     "output_type": "stream",
     "text": [
      "\u001b[33mWARNING\u001b[0m: Making input data immutable.\n"
     ]
    },
    {
     "name": "stdout",
     "output_type": "stream",
     "text": [
      "\n",
      "  _____             ____     _____      _\n",
      " |\" ___|    ___    / __\"| u |_ \" _| U  /\"\\  u\n",
      "U| |_  u   |_\"_|  <\\___ \\/    | |    \\/ _ \\/\n",
      "\\|  _|/     | |    u___) |   /| |\\   / ___ \\\\\n",
      " |_|      U/| |\\u  |____/>> u |_|U  /_/   \\_\\\\\n",
      " )(\\\\\\,-.-,_|___|_,-.)(  (__)_// \\\\\\_  \\\\\\    >>\n",
      "(__)(_/ \\_)-' '-(_/(__)    (__) (__)(__)  (__)\n",
      "    \n",
      " - mu:  4.6415888336127727e-10\n",
      " - lipschitz constant:  1.1000000000000276\n",
      " - data:  (640, 372)\n",
      " - wavelet:  <mri.reconstruct.linear.WaveletN object at 0x7fa415738710> - 4\n",
      " - max iterations:  200\n",
      " - image variable shape:  (640, 372)\n",
      " - alpha variable shape:  (238320,)\n",
      "----------------------------------------\n",
      "Starting optimization...\n"
     ]
    },
    {
     "name": "stderr",
     "output_type": "stream",
     "text": [
      "100% (200 of 200) |######################| Elapsed Time: 0:00:53 Time:  0:00:53\n"
     ]
    },
    {
     "name": "stdout",
     "output_type": "stream",
     "text": [
      " - final iteration number:  200\n",
      " - final log10 cost value:  -6.28207876258263\n",
      " - converged:  True\n",
      "Done.\n",
      "Execution time:  1578.0400760000048  seconds\n",
      "----------------------------------------\n"
     ]
    },
    {
     "name": "stderr",
     "output_type": "stream",
     "text": [
      "\u001b[33mWARNING\u001b[0m: Making input data immutable.\n"
     ]
    },
    {
     "name": "stdout",
     "output_type": "stream",
     "text": [
      "\n",
      "  _____             ____     _____      _\n",
      " |\" ___|    ___    / __\"| u |_ \" _| U  /\"\\  u\n",
      "U| |_  u   |_\"_|  <\\___ \\/    | |    \\/ _ \\/\n",
      "\\|  _|/     | |    u___) |   /| |\\   / ___ \\\\\n",
      " |_|      U/| |\\u  |____/>> u |_|U  /_/   \\_\\\\\n",
      " )(\\\\\\,-.-,_|___|_,-.)(  (__)_// \\\\\\_  \\\\\\    >>\n",
      "(__)(_/ \\_)-' '-(_/(__)    (__) (__)(__)  (__)\n",
      "    \n",
      " - mu:  4.6415888336127727e-10\n",
      " - lipschitz constant:  1.0999999999999839\n",
      " - data:  (640, 372)\n",
      " - wavelet:  <mri.reconstruct.linear.WaveletN object at 0x7fa415766ac8> - 4\n",
      " - max iterations:  200\n",
      " - image variable shape:  (640, 372)\n",
      " - alpha variable shape:  (238320,)\n",
      "----------------------------------------\n",
      "Starting optimization...\n"
     ]
    },
    {
     "name": "stderr",
     "output_type": "stream",
     "text": [
      "100% (200 of 200) |######################| Elapsed Time: 0:00:54 Time:  0:00:54\n"
     ]
    },
    {
     "name": "stdout",
     "output_type": "stream",
     "text": [
      " - final iteration number:  200\n",
      " - final log10 cost value:  -6.518039338293987\n",
      " - converged:  True\n",
      "Done.\n",
      "Execution time:  1582.7076159999997  seconds\n",
      "----------------------------------------\n"
     ]
    },
    {
     "name": "stderr",
     "output_type": "stream",
     "text": [
      "\u001b[33mWARNING\u001b[0m: Making input data immutable.\n"
     ]
    },
    {
     "name": "stdout",
     "output_type": "stream",
     "text": [
      "\n",
      "  _____             ____     _____      _\n",
      " |\" ___|    ___    / __\"| u |_ \" _| U  /\"\\  u\n",
      "U| |_  u   |_\"_|  <\\___ \\/    | |    \\/ _ \\/\n",
      "\\|  _|/     | |    u___) |   /| |\\   / ___ \\\\\n",
      " |_|      U/| |\\u  |____/>> u |_|U  /_/   \\_\\\\\n",
      " )(\\\\\\,-.-,_|___|_,-.)(  (__)_// \\\\\\_  \\\\\\    >>\n",
      "(__)(_/ \\_)-' '-(_/(__)    (__) (__)(__)  (__)\n",
      "    \n",
      " - mu:  4.6415888336127727e-10\n",
      " - lipschitz constant:  1.1000000000001497\n",
      " - data:  (640, 368)\n",
      " - wavelet:  <mri.reconstruct.linear.WaveletN object at 0x7fa415766b00> - 4\n",
      " - max iterations:  200\n",
      " - image variable shape:  (640, 368)\n",
      " - alpha variable shape:  (235520,)\n",
      "----------------------------------------\n",
      "Starting optimization...\n"
     ]
    },
    {
     "name": "stderr",
     "output_type": "stream",
     "text": [
      "100% (200 of 200) |######################| Elapsed Time: 0:00:50 Time:  0:00:50\n"
     ]
    },
    {
     "name": "stdout",
     "output_type": "stream",
     "text": [
      " - final iteration number:  200\n",
      " - final log10 cost value:  -5.752232998822134\n",
      " - converged:  True\n",
      "Done.\n",
      "Execution time:  1551.8085510000237  seconds\n",
      "----------------------------------------\n"
     ]
    },
    {
     "name": "stderr",
     "output_type": "stream",
     "text": [
      "\u001b[33mWARNING\u001b[0m: Making input data immutable.\n"
     ]
    },
    {
     "name": "stdout",
     "output_type": "stream",
     "text": [
      "\n",
      "  _____             ____     _____      _\n",
      " |\" ___|    ___    / __\"| u |_ \" _| U  /\"\\  u\n",
      "U| |_  u   |_\"_|  <\\___ \\/    | |    \\/ _ \\/\n",
      "\\|  _|/     | |    u___) |   /| |\\   / ___ \\\\\n",
      " |_|      U/| |\\u  |____/>> u |_|U  /_/   \\_\\\\\n",
      " )(\\\\\\,-.-,_|___|_,-.)(  (__)_// \\\\\\_  \\\\\\    >>\n",
      "(__)(_/ \\_)-' '-(_/(__)    (__) (__)(__)  (__)\n",
      "    \n",
      " - mu:  4.6415888336127727e-10\n",
      " - lipschitz constant:  1.1000000000000316\n",
      " - data:  (640, 372)\n",
      " - wavelet:  <mri.reconstruct.linear.WaveletN object at 0x7fa415738f60> - 4\n",
      " - max iterations:  200\n",
      " - image variable shape:  (640, 372)\n",
      " - alpha variable shape:  (238320,)\n",
      "----------------------------------------\n",
      "Starting optimization...\n"
     ]
    },
    {
     "name": "stderr",
     "output_type": "stream",
     "text": [
      "100% (200 of 200) |######################| Elapsed Time: 0:00:54 Time:  0:00:54\n"
     ]
    },
    {
     "name": "stdout",
     "output_type": "stream",
     "text": [
      " - final iteration number:  200\n",
      " - final log10 cost value:  -6.25637050113421\n",
      " - converged:  True\n",
      "Done.\n",
      "Execution time:  1539.903668999992  seconds\n",
      "----------------------------------------\n"
     ]
    },
    {
     "name": "stderr",
     "output_type": "stream",
     "text": [
      "\u001b[33mWARNING\u001b[0m: Making input data immutable.\n"
     ]
    },
    {
     "name": "stdout",
     "output_type": "stream",
     "text": [
      "\n",
      "  _____             ____     _____      _\n",
      " |\" ___|    ___    / __\"| u |_ \" _| U  /\"\\  u\n",
      "U| |_  u   |_\"_|  <\\___ \\/    | |    \\/ _ \\/\n",
      "\\|  _|/     | |    u___) |   /| |\\   / ___ \\\\\n",
      " |_|      U/| |\\u  |____/>> u |_|U  /_/   \\_\\\\\n",
      " )(\\\\\\,-.-,_|___|_,-.)(  (__)_// \\\\\\_  \\\\\\    >>\n",
      "(__)(_/ \\_)-' '-(_/(__)    (__) (__)(__)  (__)\n",
      "    \n",
      " - mu:  4.6415888336127727e-10\n",
      " - lipschitz constant:  1.1000000000000314\n",
      " - data:  (640, 372)\n",
      " - wavelet:  <mri.reconstruct.linear.WaveletN object at 0x7fa4156f21d0> - 4\n",
      " - max iterations:  200\n",
      " - image variable shape:  (640, 372)\n",
      " - alpha variable shape:  (238320,)\n",
      "----------------------------------------\n",
      "Starting optimization...\n"
     ]
    },
    {
     "name": "stderr",
     "output_type": "stream",
     "text": [
      "100% (200 of 200) |######################| Elapsed Time: 0:00:53 Time:  0:00:53\n"
     ]
    },
    {
     "name": "stdout",
     "output_type": "stream",
     "text": [
      " - final iteration number:  200\n",
      " - final log10 cost value:  -6.367421867037847\n",
      " - converged:  True\n",
      "Done.\n",
      "Execution time:  1605.9578439999896  seconds\n",
      "----------------------------------------\n"
     ]
    },
    {
     "name": "stderr",
     "output_type": "stream",
     "text": [
      "\u001b[33mWARNING\u001b[0m: Making input data immutable.\n"
     ]
    },
    {
     "name": "stdout",
     "output_type": "stream",
     "text": [
      "\n",
      "  _____             ____     _____      _\n",
      " |\" ___|    ___    / __\"| u |_ \" _| U  /\"\\  u\n",
      "U| |_  u   |_\"_|  <\\___ \\/    | |    \\/ _ \\/\n",
      "\\|  _|/     | |    u___) |   /| |\\   / ___ \\\\\n",
      " |_|      U/| |\\u  |____/>> u |_|U  /_/   \\_\\\\\n",
      " )(\\\\\\,-.-,_|___|_,-.)(  (__)_// \\\\\\_  \\\\\\    >>\n",
      "(__)(_/ \\_)-' '-(_/(__)    (__) (__)(__)  (__)\n",
      "    \n",
      " - mu:  4.6415888336127727e-10\n",
      " - lipschitz constant:  1.1000000000000638\n",
      " - data:  (640, 372)\n",
      " - wavelet:  <mri.reconstruct.linear.WaveletN object at 0x7fa4156f2198> - 4\n",
      " - max iterations:  200\n",
      " - image variable shape:  (640, 372)\n",
      " - alpha variable shape:  (238320,)\n",
      "----------------------------------------\n",
      "Starting optimization...\n"
     ]
    },
    {
     "name": "stderr",
     "output_type": "stream",
     "text": [
      "100% (200 of 200) |######################| Elapsed Time: 0:00:55 Time:  0:00:55\n"
     ]
    },
    {
     "name": "stdout",
     "output_type": "stream",
     "text": [
      " - final iteration number:  200\n",
      " - final log10 cost value:  -6.633370877985645\n",
      " - converged:  True\n",
      "Done.\n",
      "Execution time:  1571.0277720000013  seconds\n",
      "----------------------------------------\n"
     ]
    },
    {
     "name": "stderr",
     "output_type": "stream",
     "text": [
      "\u001b[33mWARNING\u001b[0m: Making input data immutable.\n"
     ]
    },
    {
     "name": "stdout",
     "output_type": "stream",
     "text": [
      "\n",
      "  _____             ____     _____      _\n",
      " |\" ___|    ___    / __\"| u |_ \" _| U  /\"\\  u\n",
      "U| |_  u   |_\"_|  <\\___ \\/    | |    \\/ _ \\/\n",
      "\\|  _|/     | |    u___) |   /| |\\   / ___ \\\\\n",
      " |_|      U/| |\\u  |____/>> u |_|U  /_/   \\_\\\\\n",
      " )(\\\\\\,-.-,_|___|_,-.)(  (__)_// \\\\\\_  \\\\\\    >>\n",
      "(__)(_/ \\_)-' '-(_/(__)    (__) (__)(__)  (__)\n",
      "    \n",
      " - mu:  4.6415888336127727e-10\n",
      " - lipschitz constant:  1.0999999999999888\n",
      " - data:  (640, 372)\n",
      " - wavelet:  <mri.reconstruct.linear.WaveletN object at 0x7fa415738470> - 4\n",
      " - max iterations:  200\n",
      " - image variable shape:  (640, 372)\n",
      " - alpha variable shape:  (238320,)\n",
      "----------------------------------------\n",
      "Starting optimization...\n"
     ]
    },
    {
     "name": "stderr",
     "output_type": "stream",
     "text": [
      "100% (200 of 200) |######################| Elapsed Time: 0:00:54 Time:  0:00:54\n"
     ]
    },
    {
     "name": "stdout",
     "output_type": "stream",
     "text": [
      " - final iteration number:  200\n",
      " - final log10 cost value:  -6.4757996465600325\n",
      " - converged:  True\n",
      "Done.\n",
      "Execution time:  1608.5751140000066  seconds\n",
      "----------------------------------------\n"
     ]
    },
    {
     "name": "stderr",
     "output_type": "stream",
     "text": [
      "\u001b[33mWARNING\u001b[0m: Making input data immutable.\n"
     ]
    },
    {
     "name": "stdout",
     "output_type": "stream",
     "text": [
      "\n",
      "  _____             ____     _____      _\n",
      " |\" ___|    ___    / __\"| u |_ \" _| U  /\"\\  u\n",
      "U| |_  u   |_\"_|  <\\___ \\/    | |    \\/ _ \\/\n",
      "\\|  _|/     | |    u___) |   /| |\\   / ___ \\\\\n",
      " |_|      U/| |\\u  |____/>> u |_|U  /_/   \\_\\\\\n",
      " )(\\\\\\,-.-,_|___|_,-.)(  (__)_// \\\\\\_  \\\\\\    >>\n",
      "(__)(_/ \\_)-' '-(_/(__)    (__) (__)(__)  (__)\n",
      "    \n",
      " - mu:  4.6415888336127727e-10\n",
      " - lipschitz constant:  1.1000000000000751\n",
      " - data:  (640, 372)\n",
      " - wavelet:  <mri.reconstruct.linear.WaveletN object at 0x7fa415738710> - 4\n",
      " - max iterations:  200\n",
      " - image variable shape:  (640, 372)\n",
      " - alpha variable shape:  (238320,)\n",
      "----------------------------------------\n",
      "Starting optimization...\n"
     ]
    },
    {
     "name": "stderr",
     "output_type": "stream",
     "text": [
      "100% (200 of 200) |######################| Elapsed Time: 0:00:52 Time:  0:00:52\n"
     ]
    },
    {
     "name": "stdout",
     "output_type": "stream",
     "text": [
      " - final iteration number:  200\n",
      " - final log10 cost value:  -6.299281388914781\n",
      " - converged:  True\n",
      "Done.\n",
      "Execution time:  1646.995368999982  seconds\n",
      "----------------------------------------\n"
     ]
    },
    {
     "name": "stderr",
     "output_type": "stream",
     "text": [
      "\u001b[33mWARNING\u001b[0m: Making input data immutable.\n"
     ]
    },
    {
     "name": "stdout",
     "output_type": "stream",
     "text": [
      "\n",
      "  _____             ____     _____      _\n",
      " |\" ___|    ___    / __\"| u |_ \" _| U  /\"\\  u\n",
      "U| |_  u   |_\"_|  <\\___ \\/    | |    \\/ _ \\/\n",
      "\\|  _|/     | |    u___) |   /| |\\   / ___ \\\\\n",
      " |_|      U/| |\\u  |____/>> u |_|U  /_/   \\_\\\\\n",
      " )(\\\\\\,-.-,_|___|_,-.)(  (__)_// \\\\\\_  \\\\\\    >>\n",
      "(__)(_/ \\_)-' '-(_/(__)    (__) (__)(__)  (__)\n",
      "    \n",
      " - mu:  4.6415888336127727e-10\n",
      " - lipschitz constant:  1.1000000000000798\n",
      " - data:  (640, 368)\n",
      " - wavelet:  <mri.reconstruct.linear.WaveletN object at 0x7fa415799198> - 4\n",
      " - max iterations:  200\n",
      " - image variable shape:  (640, 368)\n",
      " - alpha variable shape:  (235520,)\n",
      "----------------------------------------\n",
      "Starting optimization...\n"
     ]
    },
    {
     "name": "stderr",
     "output_type": "stream",
     "text": [
      "100% (200 of 200) |######################| Elapsed Time: 0:00:50 Time:  0:00:50\n"
     ]
    },
    {
     "name": "stdout",
     "output_type": "stream",
     "text": [
      " - final iteration number:  200\n",
      " - final log10 cost value:  -5.046437968245987\n",
      " - converged:  True\n",
      "Done.\n",
      "Execution time:  1631.5164740000037  seconds\n",
      "----------------------------------------\n"
     ]
    },
    {
     "name": "stderr",
     "output_type": "stream",
     "text": [
      "\u001b[33mWARNING\u001b[0m: Making input data immutable.\n"
     ]
    },
    {
     "name": "stdout",
     "output_type": "stream",
     "text": [
      "\n",
      "  _____             ____     _____      _\n",
      " |\" ___|    ___    / __\"| u |_ \" _| U  /\"\\  u\n",
      "U| |_  u   |_\"_|  <\\___ \\/    | |    \\/ _ \\/\n",
      "\\|  _|/     | |    u___) |   /| |\\   / ___ \\\\\n",
      " |_|      U/| |\\u  |____/>> u |_|U  /_/   \\_\\\\\n",
      " )(\\\\\\,-.-,_|___|_,-.)(  (__)_// \\\\\\_  \\\\\\    >>\n",
      "(__)(_/ \\_)-' '-(_/(__)    (__) (__)(__)  (__)\n",
      "    \n",
      " - mu:  4.6415888336127727e-10\n",
      " - lipschitz constant:  1.100000000000088\n",
      " - data:  (640, 368)\n",
      " - wavelet:  <mri.reconstruct.linear.WaveletN object at 0x7fa415766ac8> - 4\n",
      " - max iterations:  200\n",
      " - image variable shape:  (640, 368)\n",
      " - alpha variable shape:  (235520,)\n",
      "----------------------------------------\n",
      "Starting optimization...\n"
     ]
    },
    {
     "name": "stderr",
     "output_type": "stream",
     "text": [
      "100% (200 of 200) |######################| Elapsed Time: 0:00:50 Time:  0:00:50\n"
     ]
    },
    {
     "name": "stdout",
     "output_type": "stream",
     "text": [
      " - final iteration number:  200\n",
      " - final log10 cost value:  -5.3490363288939085\n",
      " - converged:  True\n",
      "Done.\n",
      "Execution time:  1556.9497149999952  seconds\n",
      "----------------------------------------\n"
     ]
    },
    {
     "name": "stderr",
     "output_type": "stream",
     "text": [
      "\u001b[33mWARNING\u001b[0m: Making input data immutable.\n"
     ]
    },
    {
     "name": "stdout",
     "output_type": "stream",
     "text": [
      "\n",
      "  _____             ____     _____      _\n",
      " |\" ___|    ___    / __\"| u |_ \" _| U  /\"\\  u\n",
      "U| |_  u   |_\"_|  <\\___ \\/    | |    \\/ _ \\/\n",
      "\\|  _|/     | |    u___) |   /| |\\   / ___ \\\\\n",
      " |_|      U/| |\\u  |____/>> u |_|U  /_/   \\_\\\\\n",
      " )(\\\\\\,-.-,_|___|_,-.)(  (__)_// \\\\\\_  \\\\\\    >>\n",
      "(__)(_/ \\_)-' '-(_/(__)    (__) (__)(__)  (__)\n",
      "    \n",
      " - mu:  4.6415888336127727e-10\n",
      " - lipschitz constant:  1.1000000000000694\n",
      " - data:  (640, 368)\n",
      " - wavelet:  <mri.reconstruct.linear.WaveletN object at 0x7fa415760160> - 4\n",
      " - max iterations:  200\n",
      " - image variable shape:  (640, 368)\n",
      " - alpha variable shape:  (235520,)\n",
      "----------------------------------------\n",
      "Starting optimization...\n"
     ]
    },
    {
     "name": "stderr",
     "output_type": "stream",
     "text": [
      "100% (200 of 200) |######################| Elapsed Time: 0:00:51 Time:  0:00:51\n"
     ]
    },
    {
     "name": "stdout",
     "output_type": "stream",
     "text": [
      " - final iteration number:  200\n",
      " - final log10 cost value:  -4.801880100051701\n",
      " - converged:  True\n",
      "Done.\n",
      "Execution time:  1571.054214999982  seconds\n",
      "----------------------------------------\n"
     ]
    },
    {
     "name": "stderr",
     "output_type": "stream",
     "text": [
      "\u001b[33mWARNING\u001b[0m: Making input data immutable.\n"
     ]
    },
    {
     "name": "stdout",
     "output_type": "stream",
     "text": [
      "\n",
      "  _____             ____     _____      _\n",
      " |\" ___|    ___    / __\"| u |_ \" _| U  /\"\\  u\n",
      "U| |_  u   |_\"_|  <\\___ \\/    | |    \\/ _ \\/\n",
      "\\|  _|/     | |    u___) |   /| |\\   / ___ \\\\\n",
      " |_|      U/| |\\u  |____/>> u |_|U  /_/   \\_\\\\\n",
      " )(\\\\\\,-.-,_|___|_,-.)(  (__)_// \\\\\\_  \\\\\\    >>\n",
      "(__)(_/ \\_)-' '-(_/(__)    (__) (__)(__)  (__)\n",
      "    \n",
      " - mu:  4.6415888336127727e-10\n",
      " - lipschitz constant:  1.1000000000000665\n",
      " - data:  (640, 372)\n",
      " - wavelet:  <mri.reconstruct.linear.WaveletN object at 0x7fa415760f28> - 4\n",
      " - max iterations:  200\n",
      " - image variable shape:  (640, 372)\n",
      " - alpha variable shape:  (238320,)\n",
      "----------------------------------------\n",
      "Starting optimization...\n"
     ]
    },
    {
     "name": "stderr",
     "output_type": "stream",
     "text": [
      "100% (200 of 200) |######################| Elapsed Time: 0:00:53 Time:  0:00:53\n"
     ]
    },
    {
     "name": "stdout",
     "output_type": "stream",
     "text": [
      " - final iteration number:  200\n",
      " - final log10 cost value:  -6.300477411146958\n",
      " - converged:  True\n",
      "Done.\n",
      "Execution time:  1551.170053000009  seconds\n",
      "----------------------------------------\n"
     ]
    },
    {
     "name": "stderr",
     "output_type": "stream",
     "text": [
      "\u001b[33mWARNING\u001b[0m: Making input data immutable.\n"
     ]
    },
    {
     "name": "stdout",
     "output_type": "stream",
     "text": [
      "\n",
      "  _____             ____     _____      _\n",
      " |\" ___|    ___    / __\"| u |_ \" _| U  /\"\\  u\n",
      "U| |_  u   |_\"_|  <\\___ \\/    | |    \\/ _ \\/\n",
      "\\|  _|/     | |    u___) |   /| |\\   / ___ \\\\\n",
      " |_|      U/| |\\u  |____/>> u |_|U  /_/   \\_\\\\\n",
      " )(\\\\\\,-.-,_|___|_,-.)(  (__)_// \\\\\\_  \\\\\\    >>\n",
      "(__)(_/ \\_)-' '-(_/(__)    (__) (__)(__)  (__)\n",
      "    \n",
      " - mu:  4.6415888336127727e-10\n",
      " - lipschitz constant:  1.099999999999976\n",
      " - data:  (640, 372)\n",
      " - wavelet:  <mri.reconstruct.linear.WaveletN object at 0x7fa415738c18> - 4\n",
      " - max iterations:  200\n",
      " - image variable shape:  (640, 372)\n",
      " - alpha variable shape:  (238320,)\n",
      "----------------------------------------\n",
      "Starting optimization...\n"
     ]
    },
    {
     "name": "stderr",
     "output_type": "stream",
     "text": [
      "100% (200 of 200) |######################| Elapsed Time: 0:00:53 Time:  0:00:53\n"
     ]
    },
    {
     "name": "stdout",
     "output_type": "stream",
     "text": [
      " - final iteration number:  200\n",
      " - final log10 cost value:  -6.478021954730058\n",
      " - converged:  True\n",
      "Done.\n",
      "Execution time:  1533.1889220000012  seconds\n",
      "----------------------------------------\n"
     ]
    },
    {
     "name": "stderr",
     "output_type": "stream",
     "text": [
      "\u001b[33mWARNING\u001b[0m: Making input data immutable.\n"
     ]
    },
    {
     "name": "stdout",
     "output_type": "stream",
     "text": [
      "\n",
      "  _____             ____     _____      _\n",
      " |\" ___|    ___    / __\"| u |_ \" _| U  /\"\\  u\n",
      "U| |_  u   |_\"_|  <\\___ \\/    | |    \\/ _ \\/\n",
      "\\|  _|/     | |    u___) |   /| |\\   / ___ \\\\\n",
      " |_|      U/| |\\u  |____/>> u |_|U  /_/   \\_\\\\\n",
      " )(\\\\\\,-.-,_|___|_,-.)(  (__)_// \\\\\\_  \\\\\\    >>\n",
      "(__)(_/ \\_)-' '-(_/(__)    (__) (__)(__)  (__)\n",
      "    \n",
      " - mu:  4.6415888336127727e-10\n",
      " - lipschitz constant:  1.1000000000000734\n",
      " - data:  (640, 368)\n",
      " - wavelet:  <mri.reconstruct.linear.WaveletN object at 0x7fa4157668d0> - 4\n",
      " - max iterations:  200\n",
      " - image variable shape:  (640, 368)\n",
      " - alpha variable shape:  (235520,)\n",
      "----------------------------------------\n",
      "Starting optimization...\n"
     ]
    },
    {
     "name": "stderr",
     "output_type": "stream",
     "text": [
      "100% (200 of 200) |######################| Elapsed Time: 0:00:51 Time:  0:00:51\n"
     ]
    },
    {
     "name": "stdout",
     "output_type": "stream",
     "text": [
      " - final iteration number:  200\n",
      " - final log10 cost value:  -5.016051704664077\n",
      " - converged:  True\n",
      "Done.\n",
      "Execution time:  1498.1514329999918  seconds\n",
      "----------------------------------------\n"
     ]
    },
    {
     "name": "stderr",
     "output_type": "stream",
     "text": [
      "\u001b[33mWARNING\u001b[0m: Making input data immutable.\n"
     ]
    },
    {
     "name": "stdout",
     "output_type": "stream",
     "text": [
      "\n",
      "  _____             ____     _____      _\n",
      " |\" ___|    ___    / __\"| u |_ \" _| U  /\"\\  u\n",
      "U| |_  u   |_\"_|  <\\___ \\/    | |    \\/ _ \\/\n",
      "\\|  _|/     | |    u___) |   /| |\\   / ___ \\\\\n",
      " |_|      U/| |\\u  |____/>> u |_|U  /_/   \\_\\\\\n",
      " )(\\\\\\,-.-,_|___|_,-.)(  (__)_// \\\\\\_  \\\\\\    >>\n",
      "(__)(_/ \\_)-' '-(_/(__)    (__) (__)(__)  (__)\n",
      "    \n",
      " - mu:  4.6415888336127727e-10\n",
      " - lipschitz constant:  1.0999999999999803\n",
      " - data:  (640, 368)\n",
      " - wavelet:  <mri.reconstruct.linear.WaveletN object at 0x7fa415738f60> - 4\n",
      " - max iterations:  200\n",
      " - image variable shape:  (640, 368)\n",
      " - alpha variable shape:  (235520,)\n",
      "----------------------------------------\n",
      "Starting optimization...\n"
     ]
    },
    {
     "name": "stderr",
     "output_type": "stream",
     "text": [
      "100% (200 of 200) |######################| Elapsed Time: 0:00:52 Time:  0:00:52\n"
     ]
    },
    {
     "name": "stdout",
     "output_type": "stream",
     "text": [
      " - final iteration number:  200\n",
      " - final log10 cost value:  -5.193165571213524\n",
      " - converged:  True\n",
      "Done.\n",
      "Execution time:  1547.0837769999926  seconds\n",
      "----------------------------------------\n",
      "\n"
     ]
    },
    {
     "data": {
      "application/vnd.jupyter.widget-view+json": {
       "model_id": "cb6d697b98944f31af5fda4f3ab08b05",
       "version_major": 2,
       "version_minor": 0
      },
      "text/plain": [
       "HBox(children=(FloatProgress(value=0.0, description='Stats', max=24.0, style=ProgressStyle(description_width='…"
      ]
     },
     "metadata": {},
     "output_type": "display_data"
    },
    {
     "name": "stdout",
     "output_type": "stream",
     "text": [
      "\n"
     ]
    },
    {
     "data": {
      "application/vnd.jupyter.widget-view+json": {
       "model_id": "323c0fc3259144878db1415ac0158e77",
       "version_major": 2,
       "version_minor": 0
      },
      "text/plain": [
       "HBox(children=(FloatProgress(value=0.0, description='K-spaces', max=24.0, style=ProgressStyle(description_widt…"
      ]
     },
     "metadata": {},
     "output_type": "display_data"
    },
    {
     "name": "stderr",
     "output_type": "stream",
     "text": [
      "\u001b[33mWARNING\u001b[0m: Making input data immutable.\n"
     ]
    },
    {
     "name": "stdout",
     "output_type": "stream",
     "text": [
      "\n",
      "  _____             ____     _____      _\n",
      " |\" ___|    ___    / __\"| u |_ \" _| U  /\"\\  u\n",
      "U| |_  u   |_\"_|  <\\___ \\/    | |    \\/ _ \\/\n",
      "\\|  _|/     | |    u___) |   /| |\\   / ___ \\\\\n",
      " |_|      U/| |\\u  |____/>> u |_|U  /_/   \\_\\\\\n",
      " )(\\\\\\,-.-,_|___|_,-.)(  (__)_// \\\\\\_  \\\\\\    >>\n",
      "(__)(_/ \\_)-' '-(_/(__)    (__) (__)(__)  (__)\n",
      "    \n",
      " - mu:  1e-09\n",
      " - lipschitz constant:  1.1000000000001449\n",
      " - data:  (640, 368)\n",
      " - wavelet:  <mri.reconstruct.linear.WaveletN object at 0x7fa41578e630> - 4\n",
      " - max iterations:  200\n",
      " - image variable shape:  (640, 368)\n",
      " - alpha variable shape:  (235520,)\n",
      "----------------------------------------\n",
      "Starting optimization...\n"
     ]
    },
    {
     "name": "stderr",
     "output_type": "stream",
     "text": [
      "100% (200 of 200) |######################| Elapsed Time: 0:00:51 Time:  0:00:51\n"
     ]
    },
    {
     "name": "stdout",
     "output_type": "stream",
     "text": [
      " - final iteration number:  200\n",
      " - final log10 cost value:  -5.301385037964724\n",
      " - converged:  True\n",
      "Done.\n",
      "Execution time:  1505.342249999987  seconds\n",
      "----------------------------------------\n"
     ]
    },
    {
     "name": "stderr",
     "output_type": "stream",
     "text": [
      "\u001b[33mWARNING\u001b[0m: Making input data immutable.\n"
     ]
    },
    {
     "name": "stdout",
     "output_type": "stream",
     "text": [
      "\n",
      "  _____             ____     _____      _\n",
      " |\" ___|    ___    / __\"| u |_ \" _| U  /\"\\  u\n",
      "U| |_  u   |_\"_|  <\\___ \\/    | |    \\/ _ \\/\n",
      "\\|  _|/     | |    u___) |   /| |\\   / ___ \\\\\n",
      " |_|      U/| |\\u  |____/>> u |_|U  /_/   \\_\\\\\n",
      " )(\\\\\\,-.-,_|___|_,-.)(  (__)_// \\\\\\_  \\\\\\    >>\n",
      "(__)(_/ \\_)-' '-(_/(__)    (__) (__)(__)  (__)\n",
      "    \n",
      " - mu:  1e-09\n",
      " - lipschitz constant:  1.100000000000071\n",
      " - data:  (640, 372)\n",
      " - wavelet:  <mri.reconstruct.linear.WaveletN object at 0x7fa415766f28> - 4\n",
      " - max iterations:  200\n",
      " - image variable shape:  (640, 372)\n",
      " - alpha variable shape:  (238320,)\n",
      "----------------------------------------\n",
      "Starting optimization...\n"
     ]
    },
    {
     "name": "stderr",
     "output_type": "stream",
     "text": [
      "100% (200 of 200) |######################| Elapsed Time: 0:00:52 Time:  0:00:52\n"
     ]
    },
    {
     "name": "stdout",
     "output_type": "stream",
     "text": [
      " - final iteration number:  200\n",
      " - final log10 cost value:  -6.258356024028352\n",
      " - converged:  True\n",
      "Done.\n",
      "Execution time:  1562.9389329999976  seconds\n",
      "----------------------------------------\n"
     ]
    },
    {
     "name": "stderr",
     "output_type": "stream",
     "text": [
      "\u001b[33mWARNING\u001b[0m: Making input data immutable.\n"
     ]
    },
    {
     "name": "stdout",
     "output_type": "stream",
     "text": [
      "\n",
      "  _____             ____     _____      _\n",
      " |\" ___|    ___    / __\"| u |_ \" _| U  /\"\\  u\n",
      "U| |_  u   |_\"_|  <\\___ \\/    | |    \\/ _ \\/\n",
      "\\|  _|/     | |    u___) |   /| |\\   / ___ \\\\\n",
      " |_|      U/| |\\u  |____/>> u |_|U  /_/   \\_\\\\\n",
      " )(\\\\\\,-.-,_|___|_,-.)(  (__)_// \\\\\\_  \\\\\\    >>\n",
      "(__)(_/ \\_)-' '-(_/(__)    (__) (__)(__)  (__)\n",
      "    \n",
      " - mu:  1e-09\n",
      " - lipschitz constant:  1.0999999999999808\n",
      " - data:  (640, 368)\n",
      " - wavelet:  <mri.reconstruct.linear.WaveletN object at 0x7fa41578eb70> - 4\n",
      " - max iterations:  200\n",
      " - image variable shape:  (640, 368)\n",
      " - alpha variable shape:  (235520,)\n",
      "----------------------------------------\n",
      "Starting optimization...\n"
     ]
    },
    {
     "name": "stderr",
     "output_type": "stream",
     "text": [
      "100% (200 of 200) |######################| Elapsed Time: 0:00:50 Time:  0:00:50\n"
     ]
    },
    {
     "name": "stdout",
     "output_type": "stream",
     "text": [
      " - final iteration number:  200\n",
      " - final log10 cost value:  -5.316313571646152\n",
      " - converged:  True\n",
      "Done.\n",
      "Execution time:  1636.306958000001  seconds\n",
      "----------------------------------------\n"
     ]
    },
    {
     "name": "stderr",
     "output_type": "stream",
     "text": [
      "\u001b[33mWARNING\u001b[0m: Making input data immutable.\n"
     ]
    },
    {
     "name": "stdout",
     "output_type": "stream",
     "text": [
      "\n",
      "  _____             ____     _____      _\n",
      " |\" ___|    ___    / __\"| u |_ \" _| U  /\"\\  u\n",
      "U| |_  u   |_\"_|  <\\___ \\/    | |    \\/ _ \\/\n",
      "\\|  _|/     | |    u___) |   /| |\\   / ___ \\\\\n",
      " |_|      U/| |\\u  |____/>> u |_|U  /_/   \\_\\\\\n",
      " )(\\\\\\,-.-,_|___|_,-.)(  (__)_// \\\\\\_  \\\\\\    >>\n",
      "(__)(_/ \\_)-' '-(_/(__)    (__) (__)(__)  (__)\n",
      "    \n",
      " - mu:  1e-09\n",
      " - lipschitz constant:  1.0999999999999814\n",
      " - data:  (640, 368)\n",
      " - wavelet:  <mri.reconstruct.linear.WaveletN object at 0x7fa4156f2908> - 4\n",
      " - max iterations:  200\n",
      " - image variable shape:  (640, 368)\n",
      " - alpha variable shape:  (235520,)\n",
      "----------------------------------------\n",
      "Starting optimization...\n"
     ]
    },
    {
     "name": "stderr",
     "output_type": "stream",
     "text": [
      "100% (200 of 200) |######################| Elapsed Time: 0:00:50 Time:  0:00:50\n"
     ]
    },
    {
     "name": "stdout",
     "output_type": "stream",
     "text": [
      " - final iteration number:  200\n",
      " - final log10 cost value:  -5.200147619692579\n",
      " - converged:  True\n",
      "Done.\n",
      "Execution time:  1574.1924430000072  seconds\n",
      "----------------------------------------\n"
     ]
    },
    {
     "name": "stderr",
     "output_type": "stream",
     "text": [
      "\u001b[33mWARNING\u001b[0m: Making input data immutable.\n"
     ]
    },
    {
     "name": "stdout",
     "output_type": "stream",
     "text": [
      "\n",
      "  _____             ____     _____      _\n",
      " |\" ___|    ___    / __\"| u |_ \" _| U  /\"\\  u\n",
      "U| |_  u   |_\"_|  <\\___ \\/    | |    \\/ _ \\/\n",
      "\\|  _|/     | |    u___) |   /| |\\   / ___ \\\\\n",
      " |_|      U/| |\\u  |____/>> u |_|U  /_/   \\_\\\\\n",
      " )(\\\\\\,-.-,_|___|_,-.)(  (__)_// \\\\\\_  \\\\\\    >>\n",
      "(__)(_/ \\_)-' '-(_/(__)    (__) (__)(__)  (__)\n",
      "    \n",
      " - mu:  1e-09\n",
      " - lipschitz constant:  1.1000000000000654\n",
      " - data:  (640, 372)\n",
      " - wavelet:  <mri.reconstruct.linear.WaveletN object at 0x7fa415766c50> - 4\n",
      " - max iterations:  200\n",
      " - image variable shape:  (640, 372)\n",
      " - alpha variable shape:  (238320,)\n",
      "----------------------------------------\n",
      "Starting optimization...\n"
     ]
    },
    {
     "name": "stderr",
     "output_type": "stream",
     "text": [
      "100% (200 of 200) |######################| Elapsed Time: 0:00:54 Time:  0:00:54\n"
     ]
    },
    {
     "name": "stdout",
     "output_type": "stream",
     "text": [
      " - final iteration number:  200\n",
      " - final log10 cost value:  -6.053394900076589\n",
      " - converged:  True\n",
      "Done.\n",
      "Execution time:  1604.0512919999892  seconds\n",
      "----------------------------------------\n"
     ]
    },
    {
     "name": "stderr",
     "output_type": "stream",
     "text": [
      "\u001b[33mWARNING\u001b[0m: Making input data immutable.\n"
     ]
    },
    {
     "name": "stdout",
     "output_type": "stream",
     "text": [
      "\n",
      "  _____             ____     _____      _\n",
      " |\" ___|    ___    / __\"| u |_ \" _| U  /\"\\  u\n",
      "U| |_  u   |_\"_|  <\\___ \\/    | |    \\/ _ \\/\n",
      "\\|  _|/     | |    u___) |   /| |\\   / ___ \\\\\n",
      " |_|      U/| |\\u  |____/>> u |_|U  /_/   \\_\\\\\n",
      " )(\\\\\\,-.-,_|___|_,-.)(  (__)_// \\\\\\_  \\\\\\    >>\n",
      "(__)(_/ \\_)-' '-(_/(__)    (__) (__)(__)  (__)\n",
      "    \n",
      " - mu:  1e-09\n",
      " - lipschitz constant:  1.0999999999999823\n",
      " - data:  (640, 372)\n",
      " - wavelet:  <mri.reconstruct.linear.WaveletN object at 0x7fa41578e630> - 4\n",
      " - max iterations:  200\n",
      " - image variable shape:  (640, 372)\n",
      " - alpha variable shape:  (238320,)\n",
      "----------------------------------------\n",
      "Starting optimization...\n"
     ]
    },
    {
     "name": "stderr",
     "output_type": "stream",
     "text": [
      "100% (200 of 200) |######################| Elapsed Time: 0:00:53 Time:  0:00:53\n"
     ]
    },
    {
     "name": "stdout",
     "output_type": "stream",
     "text": [
      " - final iteration number:  200\n",
      " - final log10 cost value:  -6.319177152154036\n",
      " - converged:  True\n",
      "Done.\n",
      "Execution time:  1554.4649679999857  seconds\n",
      "----------------------------------------\n"
     ]
    },
    {
     "name": "stderr",
     "output_type": "stream",
     "text": [
      "\u001b[33mWARNING\u001b[0m: Making input data immutable.\n"
     ]
    },
    {
     "name": "stdout",
     "output_type": "stream",
     "text": [
      "\n",
      "  _____             ____     _____      _\n",
      " |\" ___|    ___    / __\"| u |_ \" _| U  /\"\\  u\n",
      "U| |_  u   |_\"_|  <\\___ \\/    | |    \\/ _ \\/\n",
      "\\|  _|/     | |    u___) |   /| |\\   / ___ \\\\\n",
      " |_|      U/| |\\u  |____/>> u |_|U  /_/   \\_\\\\\n",
      " )(\\\\\\,-.-,_|___|_,-.)(  (__)_// \\\\\\_  \\\\\\    >>\n",
      "(__)(_/ \\_)-' '-(_/(__)    (__) (__)(__)  (__)\n",
      "    \n",
      " - mu:  1e-09\n",
      " - lipschitz constant:  1.1000000000000838\n",
      " - data:  (640, 372)\n",
      " - wavelet:  <mri.reconstruct.linear.WaveletN object at 0x7fa4157604e0> - 4\n",
      " - max iterations:  200\n",
      " - image variable shape:  (640, 372)\n",
      " - alpha variable shape:  (238320,)\n",
      "----------------------------------------\n",
      "Starting optimization...\n"
     ]
    },
    {
     "name": "stderr",
     "output_type": "stream",
     "text": [
      "100% (200 of 200) |######################| Elapsed Time: 0:00:54 Time:  0:00:54\n"
     ]
    },
    {
     "name": "stdout",
     "output_type": "stream",
     "text": [
      " - final iteration number:  200\n",
      " - final log10 cost value:  -6.252545127177224\n",
      " - converged:  True\n",
      "Done.\n",
      "Execution time:  1584.9791199999745  seconds\n",
      "----------------------------------------\n"
     ]
    },
    {
     "name": "stderr",
     "output_type": "stream",
     "text": [
      "\u001b[33mWARNING\u001b[0m: Making input data immutable.\n"
     ]
    },
    {
     "name": "stdout",
     "output_type": "stream",
     "text": [
      "\n",
      "  _____             ____     _____      _\n",
      " |\" ___|    ___    / __\"| u |_ \" _| U  /\"\\  u\n",
      "U| |_  u   |_\"_|  <\\___ \\/    | |    \\/ _ \\/\n",
      "\\|  _|/     | |    u___) |   /| |\\   / ___ \\\\\n",
      " |_|      U/| |\\u  |____/>> u |_|U  /_/   \\_\\\\\n",
      " )(\\\\\\,-.-,_|___|_,-.)(  (__)_// \\\\\\_  \\\\\\    >>\n",
      "(__)(_/ \\_)-' '-(_/(__)    (__) (__)(__)  (__)\n",
      "    \n",
      " - mu:  1e-09\n",
      " - lipschitz constant:  1.099999999999975\n",
      " - data:  (640, 356)\n",
      " - wavelet:  <mri.reconstruct.linear.WaveletN object at 0x7fa4156f2e48> - 4\n",
      " - max iterations:  200\n",
      " - image variable shape:  (640, 356)\n",
      " - alpha variable shape:  (228080,)\n",
      "----------------------------------------\n",
      "Starting optimization...\n"
     ]
    },
    {
     "name": "stderr",
     "output_type": "stream",
     "text": [
      "100% (200 of 200) |######################| Elapsed Time: 0:00:59 Time:  0:00:59\n"
     ]
    },
    {
     "name": "stdout",
     "output_type": "stream",
     "text": [
      " - final iteration number:  200\n",
      " - final log10 cost value:  -4.918132160862778\n",
      " - converged:  True\n",
      "Done.\n",
      "Execution time:  1647.8298869999999  seconds\n",
      "----------------------------------------\n"
     ]
    },
    {
     "name": "stderr",
     "output_type": "stream",
     "text": [
      "\u001b[33mWARNING\u001b[0m: Making input data immutable.\n"
     ]
    },
    {
     "name": "stdout",
     "output_type": "stream",
     "text": [
      "\n",
      "  _____             ____     _____      _\n",
      " |\" ___|    ___    / __\"| u |_ \" _| U  /\"\\  u\n",
      "U| |_  u   |_\"_|  <\\___ \\/    | |    \\/ _ \\/\n",
      "\\|  _|/     | |    u___) |   /| |\\   / ___ \\\\\n",
      " |_|      U/| |\\u  |____/>> u |_|U  /_/   \\_\\\\\n",
      " )(\\\\\\,-.-,_|___|_,-.)(  (__)_// \\\\\\_  \\\\\\    >>\n",
      "(__)(_/ \\_)-' '-(_/(__)    (__) (__)(__)  (__)\n",
      "    \n",
      " - mu:  1e-09\n",
      " - lipschitz constant:  1.100000000000075\n",
      " - data:  (640, 368)\n",
      " - wavelet:  <mri.reconstruct.linear.WaveletN object at 0x7fa415766f28> - 4\n",
      " - max iterations:  200\n",
      " - image variable shape:  (640, 368)\n",
      " - alpha variable shape:  (235520,)\n",
      "----------------------------------------\n",
      "Starting optimization...\n"
     ]
    },
    {
     "name": "stderr",
     "output_type": "stream",
     "text": [
      "100% (200 of 200) |######################| Elapsed Time: 0:00:52 Time:  0:00:52\n"
     ]
    },
    {
     "name": "stdout",
     "output_type": "stream",
     "text": [
      " - final iteration number:  200\n",
      " - final log10 cost value:  -5.609753904670292\n",
      " - converged:  True\n",
      "Done.\n",
      "Execution time:  1568.3410880000156  seconds\n",
      "----------------------------------------\n"
     ]
    },
    {
     "name": "stderr",
     "output_type": "stream",
     "text": [
      "\u001b[33mWARNING\u001b[0m: Making input data immutable.\n"
     ]
    },
    {
     "name": "stdout",
     "output_type": "stream",
     "text": [
      "\n",
      "  _____             ____     _____      _\n",
      " |\" ___|    ___    / __\"| u |_ \" _| U  /\"\\  u\n",
      "U| |_  u   |_\"_|  <\\___ \\/    | |    \\/ _ \\/\n",
      "\\|  _|/     | |    u___) |   /| |\\   / ___ \\\\\n",
      " |_|      U/| |\\u  |____/>> u |_|U  /_/   \\_\\\\\n",
      " )(\\\\\\,-.-,_|___|_,-.)(  (__)_// \\\\\\_  \\\\\\    >>\n",
      "(__)(_/ \\_)-' '-(_/(__)    (__) (__)(__)  (__)\n",
      "    \n",
      " - mu:  1e-09\n",
      " - lipschitz constant:  1.0999999999999754\n",
      " - data:  (640, 372)\n",
      " - wavelet:  <mri.reconstruct.linear.WaveletN object at 0x7fa4156f2c18> - 4\n",
      " - max iterations:  200\n",
      " - image variable shape:  (640, 372)\n",
      " - alpha variable shape:  (238320,)\n",
      "----------------------------------------\n",
      "Starting optimization...\n"
     ]
    },
    {
     "name": "stderr",
     "output_type": "stream",
     "text": [
      "100% (200 of 200) |######################| Elapsed Time: 0:00:52 Time:  0:00:52\n"
     ]
    },
    {
     "name": "stdout",
     "output_type": "stream",
     "text": [
      " - final iteration number:  200\n",
      " - final log10 cost value:  -6.502182833200285\n",
      " - converged:  True\n",
      "Done.\n",
      "Execution time:  1561.3500100000238  seconds\n",
      "----------------------------------------\n"
     ]
    },
    {
     "name": "stderr",
     "output_type": "stream",
     "text": [
      "\u001b[33mWARNING\u001b[0m: Making input data immutable.\n"
     ]
    },
    {
     "name": "stdout",
     "output_type": "stream",
     "text": [
      "\n",
      "  _____             ____     _____      _\n",
      " |\" ___|    ___    / __\"| u |_ \" _| U  /\"\\  u\n",
      "U| |_  u   |_\"_|  <\\___ \\/    | |    \\/ _ \\/\n",
      "\\|  _|/     | |    u___) |   /| |\\   / ___ \\\\\n",
      " |_|      U/| |\\u  |____/>> u |_|U  /_/   \\_\\\\\n",
      " )(\\\\\\,-.-,_|___|_,-.)(  (__)_// \\\\\\_  \\\\\\    >>\n",
      "(__)(_/ \\_)-' '-(_/(__)    (__) (__)(__)  (__)\n",
      "    \n",
      " - mu:  1e-09\n",
      " - lipschitz constant:  1.099999999999985\n",
      " - data:  (640, 368)\n",
      " - wavelet:  <mri.reconstruct.linear.WaveletN object at 0x7fa41570e668> - 4\n",
      " - max iterations:  200\n",
      " - image variable shape:  (640, 368)\n",
      " - alpha variable shape:  (235520,)\n",
      "----------------------------------------\n",
      "Starting optimization...\n"
     ]
    },
    {
     "name": "stderr",
     "output_type": "stream",
     "text": [
      "100% (200 of 200) |######################| Elapsed Time: 0:00:51 Time:  0:00:51\n"
     ]
    },
    {
     "name": "stdout",
     "output_type": "stream",
     "text": [
      " - final iteration number:  200\n",
      " - final log10 cost value:  -5.442332410190506\n",
      " - converged:  True\n",
      "Done.\n",
      "Execution time:  1514.8848550000112  seconds\n",
      "----------------------------------------\n"
     ]
    },
    {
     "name": "stderr",
     "output_type": "stream",
     "text": [
      "\u001b[33mWARNING\u001b[0m: Making input data immutable.\n"
     ]
    },
    {
     "name": "stdout",
     "output_type": "stream",
     "text": [
      "\n",
      "  _____             ____     _____      _\n",
      " |\" ___|    ___    / __\"| u |_ \" _| U  /\"\\  u\n",
      "U| |_  u   |_\"_|  <\\___ \\/    | |    \\/ _ \\/\n",
      "\\|  _|/     | |    u___) |   /| |\\   / ___ \\\\\n",
      " |_|      U/| |\\u  |____/>> u |_|U  /_/   \\_\\\\\n",
      " )(\\\\\\,-.-,_|___|_,-.)(  (__)_// \\\\\\_  \\\\\\    >>\n",
      "(__)(_/ \\_)-' '-(_/(__)    (__) (__)(__)  (__)\n",
      "    \n",
      " - mu:  1e-09\n",
      " - lipschitz constant:  1.1000000000000287\n",
      " - data:  (640, 372)\n",
      " - wavelet:  <mri.reconstruct.linear.WaveletN object at 0x7fa415777e80> - 4\n",
      " - max iterations:  200\n",
      " - image variable shape:  (640, 372)\n",
      " - alpha variable shape:  (238320,)\n",
      "----------------------------------------\n",
      "Starting optimization...\n"
     ]
    },
    {
     "name": "stderr",
     "output_type": "stream",
     "text": [
      "100% (200 of 200) |######################| Elapsed Time: 0:00:52 Time:  0:00:52\n"
     ]
    },
    {
     "name": "stdout",
     "output_type": "stream",
     "text": [
      " - final iteration number:  200\n",
      " - final log10 cost value:  -6.328210061474686\n",
      " - converged:  True\n",
      "Done.\n",
      "Execution time:  1595.6319779999903  seconds\n",
      "----------------------------------------\n"
     ]
    },
    {
     "name": "stderr",
     "output_type": "stream",
     "text": [
      "\u001b[33mWARNING\u001b[0m: Making input data immutable.\n"
     ]
    },
    {
     "name": "stdout",
     "output_type": "stream",
     "text": [
      "\n",
      "  _____             ____     _____      _\n",
      " |\" ___|    ___    / __\"| u |_ \" _| U  /\"\\  u\n",
      "U| |_  u   |_\"_|  <\\___ \\/    | |    \\/ _ \\/\n",
      "\\|  _|/     | |    u___) |   /| |\\   / ___ \\\\\n",
      " |_|      U/| |\\u  |____/>> u |_|U  /_/   \\_\\\\\n",
      " )(\\\\\\,-.-,_|___|_,-.)(  (__)_// \\\\\\_  \\\\\\    >>\n",
      "(__)(_/ \\_)-' '-(_/(__)    (__) (__)(__)  (__)\n",
      "    \n",
      " - mu:  1e-09\n",
      " - lipschitz constant:  1.1000000000000287\n",
      " - data:  (640, 372)\n",
      " - wavelet:  <mri.reconstruct.linear.WaveletN object at 0x7fa41570e198> - 4\n",
      " - max iterations:  200\n",
      " - image variable shape:  (640, 372)\n",
      " - alpha variable shape:  (238320,)\n",
      "----------------------------------------\n",
      "Starting optimization...\n"
     ]
    },
    {
     "name": "stderr",
     "output_type": "stream",
     "text": [
      "100% (200 of 200) |######################| Elapsed Time: 0:00:55 Time:  0:00:55\n"
     ]
    },
    {
     "name": "stdout",
     "output_type": "stream",
     "text": [
      " - final iteration number:  200\n",
      " - final log10 cost value:  -6.361413130873295\n",
      " - converged:  True\n",
      "Done.\n",
      "Execution time:  1531.53592200001  seconds\n",
      "----------------------------------------\n"
     ]
    },
    {
     "name": "stderr",
     "output_type": "stream",
     "text": [
      "\u001b[33mWARNING\u001b[0m: Making input data immutable.\n"
     ]
    },
    {
     "name": "stdout",
     "output_type": "stream",
     "text": [
      "\n",
      "  _____             ____     _____      _\n",
      " |\" ___|    ___    / __\"| u |_ \" _| U  /\"\\  u\n",
      "U| |_  u   |_\"_|  <\\___ \\/    | |    \\/ _ \\/\n",
      "\\|  _|/     | |    u___) |   /| |\\   / ___ \\\\\n",
      " |_|      U/| |\\u  |____/>> u |_|U  /_/   \\_\\\\\n",
      " )(\\\\\\,-.-,_|___|_,-.)(  (__)_// \\\\\\_  \\\\\\    >>\n",
      "(__)(_/ \\_)-' '-(_/(__)    (__) (__)(__)  (__)\n",
      "    \n",
      " - mu:  1e-09\n",
      " - lipschitz constant:  1.0999999999999819\n",
      " - data:  (640, 372)\n",
      " - wavelet:  <mri.reconstruct.linear.WaveletN object at 0x7fa41570e438> - 4\n",
      " - max iterations:  200\n",
      " - image variable shape:  (640, 372)\n",
      " - alpha variable shape:  (238320,)\n",
      "----------------------------------------\n",
      "Starting optimization...\n"
     ]
    },
    {
     "name": "stderr",
     "output_type": "stream",
     "text": [
      "100% (200 of 200) |######################| Elapsed Time: 0:00:52 Time:  0:00:52\n"
     ]
    },
    {
     "name": "stdout",
     "output_type": "stream",
     "text": [
      " - final iteration number:  200\n",
      " - final log10 cost value:  -6.246367110371379\n",
      " - converged:  True\n",
      "Done.\n",
      "Execution time:  1588.5399390000093  seconds\n",
      "----------------------------------------\n"
     ]
    },
    {
     "name": "stderr",
     "output_type": "stream",
     "text": [
      "\u001b[33mWARNING\u001b[0m: Making input data immutable.\n"
     ]
    },
    {
     "name": "stdout",
     "output_type": "stream",
     "text": [
      "\n",
      "  _____             ____     _____      _\n",
      " |\" ___|    ___    / __\"| u |_ \" _| U  /\"\\  u\n",
      "U| |_  u   |_\"_|  <\\___ \\/    | |    \\/ _ \\/\n",
      "\\|  _|/     | |    u___) |   /| |\\   / ___ \\\\\n",
      " |_|      U/| |\\u  |____/>> u |_|U  /_/   \\_\\\\\n",
      " )(\\\\\\,-.-,_|___|_,-.)(  (__)_// \\\\\\_  \\\\\\    >>\n",
      "(__)(_/ \\_)-' '-(_/(__)    (__) (__)(__)  (__)\n",
      "    \n",
      " - mu:  1e-09\n",
      " - lipschitz constant:  1.1000000000000307\n",
      " - data:  (640, 386)\n",
      " - wavelet:  <mri.reconstruct.linear.WaveletN object at 0x7fa4156f20f0> - 4\n",
      " - max iterations:  200\n",
      " - image variable shape:  (640, 386)\n",
      " - alpha variable shape:  (247600,)\n",
      "----------------------------------------\n",
      "Starting optimization...\n"
     ]
    },
    {
     "name": "stderr",
     "output_type": "stream",
     "text": [
      "100% (200 of 200) |######################| Elapsed Time: 0:01:02 Time:  0:01:02\n"
     ]
    },
    {
     "name": "stdout",
     "output_type": "stream",
     "text": [
      " - final iteration number:  200\n",
      " - final log10 cost value:  -6.144802362347721\n",
      " - converged:  True\n",
      "Done.\n",
      "Execution time:  1784.6908770000155  seconds\n",
      "----------------------------------------\n"
     ]
    },
    {
     "name": "stderr",
     "output_type": "stream",
     "text": [
      "\u001b[33mWARNING\u001b[0m: Making input data immutable.\n"
     ]
    },
    {
     "name": "stdout",
     "output_type": "stream",
     "text": [
      "\n",
      "  _____             ____     _____      _\n",
      " |\" ___|    ___    / __\"| u |_ \" _| U  /\"\\  u\n",
      "U| |_  u   |_\"_|  <\\___ \\/    | |    \\/ _ \\/\n",
      "\\|  _|/     | |    u___) |   /| |\\   / ___ \\\\\n",
      " |_|      U/| |\\u  |____/>> u |_|U  /_/   \\_\\\\\n",
      " )(\\\\\\,-.-,_|___|_,-.)(  (__)_// \\\\\\_  \\\\\\    >>\n",
      "(__)(_/ \\_)-' '-(_/(__)    (__) (__)(__)  (__)\n",
      "    \n",
      " - mu:  1e-09\n",
      " - lipschitz constant:  1.0999999999999808\n",
      " - data:  (640, 388)\n",
      " - wavelet:  <mri.reconstruct.linear.WaveletN object at 0x7fa4156f2668> - 4\n",
      " - max iterations:  200\n",
      " - image variable shape:  (640, 388)\n",
      " - alpha variable shape:  (248560,)\n",
      "----------------------------------------\n",
      "Starting optimization...\n"
     ]
    },
    {
     "name": "stderr",
     "output_type": "stream",
     "text": [
      "100% (200 of 200) |######################| Elapsed Time: 0:01:03 Time:  0:01:03\n"
     ]
    },
    {
     "name": "stdout",
     "output_type": "stream",
     "text": [
      " - final iteration number:  200\n",
      " - final log10 cost value:  -5.83184023365012\n",
      " - converged:  True\n",
      "Done.\n",
      "Execution time:  1865.1285700000008  seconds\n",
      "----------------------------------------\n"
     ]
    },
    {
     "name": "stderr",
     "output_type": "stream",
     "text": [
      "\u001b[33mWARNING\u001b[0m: Making input data immutable.\n"
     ]
    },
    {
     "name": "stdout",
     "output_type": "stream",
     "text": [
      "\n",
      "  _____             ____     _____      _\n",
      " |\" ___|    ___    / __\"| u |_ \" _| U  /\"\\  u\n",
      "U| |_  u   |_\"_|  <\\___ \\/    | |    \\/ _ \\/\n",
      "\\|  _|/     | |    u___) |   /| |\\   / ___ \\\\\n",
      " |_|      U/| |\\u  |____/>> u |_|U  /_/   \\_\\\\\n",
      " )(\\\\\\,-.-,_|___|_,-.)(  (__)_// \\\\\\_  \\\\\\    >>\n",
      "(__)(_/ \\_)-' '-(_/(__)    (__) (__)(__)  (__)\n",
      "    \n",
      " - mu:  1e-09\n",
      " - lipschitz constant:  1.099999999999979\n",
      " - data:  (640, 372)\n",
      " - wavelet:  <mri.reconstruct.linear.WaveletN object at 0x7fa4156f29e8> - 4\n",
      " - max iterations:  200\n",
      " - image variable shape:  (640, 372)\n",
      " - alpha variable shape:  (238320,)\n",
      "----------------------------------------\n",
      "Starting optimization...\n"
     ]
    },
    {
     "name": "stderr",
     "output_type": "stream",
     "text": [
      "100% (200 of 200) |######################| Elapsed Time: 0:00:52 Time:  0:00:52\n"
     ]
    },
    {
     "name": "stdout",
     "output_type": "stream",
     "text": [
      " - final iteration number:  200\n",
      " - final log10 cost value:  -6.3007439418704125\n",
      " - converged:  True\n",
      "Done.\n",
      "Execution time:  1692.5009730000165  seconds\n",
      "----------------------------------------\n"
     ]
    },
    {
     "name": "stderr",
     "output_type": "stream",
     "text": [
      "\u001b[33mWARNING\u001b[0m: Making input data immutable.\n"
     ]
    },
    {
     "name": "stdout",
     "output_type": "stream",
     "text": [
      "\n",
      "  _____             ____     _____      _\n",
      " |\" ___|    ___    / __\"| u |_ \" _| U  /\"\\  u\n",
      "U| |_  u   |_\"_|  <\\___ \\/    | |    \\/ _ \\/\n",
      "\\|  _|/     | |    u___) |   /| |\\   / ___ \\\\\n",
      " |_|      U/| |\\u  |____/>> u |_|U  /_/   \\_\\\\\n",
      " )(\\\\\\,-.-,_|___|_,-.)(  (__)_// \\\\\\_  \\\\\\    >>\n",
      "(__)(_/ \\_)-' '-(_/(__)    (__) (__)(__)  (__)\n",
      "    \n",
      " - mu:  1e-09\n",
      " - lipschitz constant:  1.1000000000000618\n",
      " - data:  (640, 368)\n",
      " - wavelet:  <mri.reconstruct.linear.WaveletN object at 0x7fa415720ac8> - 4\n",
      " - max iterations:  200\n",
      " - image variable shape:  (640, 368)\n",
      " - alpha variable shape:  (235520,)\n",
      "----------------------------------------\n",
      "Starting optimization...\n"
     ]
    },
    {
     "name": "stderr",
     "output_type": "stream",
     "text": [
      "100% (200 of 200) |######################| Elapsed Time: 0:00:50 Time:  0:00:50\n"
     ]
    },
    {
     "name": "stdout",
     "output_type": "stream",
     "text": [
      " - final iteration number:  200\n",
      " - final log10 cost value:  -5.637752071845453\n",
      " - converged:  True\n",
      "Done.\n",
      "Execution time:  1638.8941259999992  seconds\n",
      "----------------------------------------\n"
     ]
    },
    {
     "name": "stderr",
     "output_type": "stream",
     "text": [
      "\u001b[33mWARNING\u001b[0m: Making input data immutable.\n"
     ]
    },
    {
     "name": "stdout",
     "output_type": "stream",
     "text": [
      "\n",
      "  _____             ____     _____      _\n",
      " |\" ___|    ___    / __\"| u |_ \" _| U  /\"\\  u\n",
      "U| |_  u   |_\"_|  <\\___ \\/    | |    \\/ _ \\/\n",
      "\\|  _|/     | |    u___) |   /| |\\   / ___ \\\\\n",
      " |_|      U/| |\\u  |____/>> u |_|U  /_/   \\_\\\\\n",
      " )(\\\\\\,-.-,_|___|_,-.)(  (__)_// \\\\\\_  \\\\\\    >>\n",
      "(__)(_/ \\_)-' '-(_/(__)    (__) (__)(__)  (__)\n",
      "    \n",
      " - mu:  1e-09\n",
      " - lipschitz constant:  1.1000000000000663\n",
      " - data:  (640, 368)\n",
      " - wavelet:  <mri.reconstruct.linear.WaveletN object at 0x7fa41570e400> - 4\n",
      " - max iterations:  200\n",
      " - image variable shape:  (640, 368)\n",
      " - alpha variable shape:  (235520,)\n",
      "----------------------------------------\n",
      "Starting optimization...\n"
     ]
    },
    {
     "name": "stderr",
     "output_type": "stream",
     "text": [
      "100% (200 of 200) |######################| Elapsed Time: 0:00:50 Time:  0:00:50\n"
     ]
    },
    {
     "name": "stdout",
     "output_type": "stream",
     "text": [
      " - final iteration number:  200\n",
      " - final log10 cost value:  -5.123650757589723\n",
      " - converged:  True\n",
      "Done.\n",
      "Execution time:  1614.0852979999909  seconds\n",
      "----------------------------------------\n"
     ]
    },
    {
     "name": "stderr",
     "output_type": "stream",
     "text": [
      "\u001b[33mWARNING\u001b[0m: Making input data immutable.\n"
     ]
    },
    {
     "name": "stdout",
     "output_type": "stream",
     "text": [
      "\n",
      "  _____             ____     _____      _\n",
      " |\" ___|    ___    / __\"| u |_ \" _| U  /\"\\  u\n",
      "U| |_  u   |_\"_|  <\\___ \\/    | |    \\/ _ \\/\n",
      "\\|  _|/     | |    u___) |   /| |\\   / ___ \\\\\n",
      " |_|      U/| |\\u  |____/>> u |_|U  /_/   \\_\\\\\n",
      " )(\\\\\\,-.-,_|___|_,-.)(  (__)_// \\\\\\_  \\\\\\    >>\n",
      "(__)(_/ \\_)-' '-(_/(__)    (__) (__)(__)  (__)\n",
      "    \n",
      " - mu:  1e-09\n",
      " - lipschitz constant:  1.0999999999999837\n",
      " - data:  (640, 368)\n",
      " - wavelet:  <mri.reconstruct.linear.WaveletN object at 0x7fa415799198> - 4\n",
      " - max iterations:  200\n",
      " - image variable shape:  (640, 368)\n",
      " - alpha variable shape:  (235520,)\n",
      "----------------------------------------\n",
      "Starting optimization...\n"
     ]
    },
    {
     "name": "stderr",
     "output_type": "stream",
     "text": [
      "100% (200 of 200) |######################| Elapsed Time: 0:00:50 Time:  0:00:50\n"
     ]
    },
    {
     "name": "stdout",
     "output_type": "stream",
     "text": [
      " - final iteration number:  200\n",
      " - final log10 cost value:  -5.473602709616496\n",
      " - converged:  True\n",
      "Done.\n",
      "Execution time:  1601.8969030000153  seconds\n",
      "----------------------------------------\n"
     ]
    },
    {
     "name": "stderr",
     "output_type": "stream",
     "text": [
      "\u001b[33mWARNING\u001b[0m: Making input data immutable.\n"
     ]
    },
    {
     "name": "stdout",
     "output_type": "stream",
     "text": [
      "\n",
      "  _____             ____     _____      _\n",
      " |\" ___|    ___    / __\"| u |_ \" _| U  /\"\\  u\n",
      "U| |_  u   |_\"_|  <\\___ \\/    | |    \\/ _ \\/\n",
      "\\|  _|/     | |    u___) |   /| |\\   / ___ \\\\\n",
      " |_|      U/| |\\u  |____/>> u |_|U  /_/   \\_\\\\\n",
      " )(\\\\\\,-.-,_|___|_,-.)(  (__)_// \\\\\\_  \\\\\\    >>\n",
      "(__)(_/ \\_)-' '-(_/(__)    (__) (__)(__)  (__)\n",
      "    \n",
      " - mu:  1e-09\n",
      " - lipschitz constant:  1.1000000000000723\n",
      " - data:  (640, 368)\n",
      " - wavelet:  <mri.reconstruct.linear.WaveletN object at 0x7fa415799fd0> - 4\n",
      " - max iterations:  200\n",
      " - image variable shape:  (640, 368)\n",
      " - alpha variable shape:  (235520,)\n",
      "----------------------------------------\n",
      "Starting optimization...\n"
     ]
    },
    {
     "name": "stderr",
     "output_type": "stream",
     "text": [
      "100% (200 of 200) |######################| Elapsed Time: 0:00:50 Time:  0:00:50\n"
     ]
    },
    {
     "name": "stdout",
     "output_type": "stream",
     "text": [
      " - final iteration number:  200\n",
      " - final log10 cost value:  -4.75218050765945\n",
      " - converged:  True\n",
      "Done.\n",
      "Execution time:  1607.5367909999914  seconds\n",
      "----------------------------------------\n"
     ]
    },
    {
     "name": "stderr",
     "output_type": "stream",
     "text": [
      "\u001b[33mWARNING\u001b[0m: Making input data immutable.\n"
     ]
    },
    {
     "name": "stdout",
     "output_type": "stream",
     "text": [
      "\n",
      "  _____             ____     _____      _\n",
      " |\" ___|    ___    / __\"| u |_ \" _| U  /\"\\  u\n",
      "U| |_  u   |_\"_|  <\\___ \\/    | |    \\/ _ \\/\n",
      "\\|  _|/     | |    u___) |   /| |\\   / ___ \\\\\n",
      " |_|      U/| |\\u  |____/>> u |_|U  /_/   \\_\\\\\n",
      " )(\\\\\\,-.-,_|___|_,-.)(  (__)_// \\\\\\_  \\\\\\    >>\n",
      "(__)(_/ \\_)-' '-(_/(__)    (__) (__)(__)  (__)\n",
      "    \n",
      " - mu:  1e-09\n",
      " - lipschitz constant:  1.0999999999999786\n",
      " - data:  (640, 368)\n",
      " - wavelet:  <mri.reconstruct.linear.WaveletN object at 0x7fa41570eb00> - 4\n",
      " - max iterations:  200\n",
      " - image variable shape:  (640, 368)\n",
      " - alpha variable shape:  (235520,)\n",
      "----------------------------------------\n",
      "Starting optimization...\n"
     ]
    },
    {
     "name": "stderr",
     "output_type": "stream",
     "text": [
      "100% (200 of 200) |######################| Elapsed Time: 0:00:50 Time:  0:00:50\n"
     ]
    },
    {
     "name": "stdout",
     "output_type": "stream",
     "text": [
      " - final iteration number:  200\n",
      " - final log10 cost value:  -5.148635902848347\n",
      " - converged:  True\n",
      "Done.\n",
      "Execution time:  1543.62557199999  seconds\n",
      "----------------------------------------\n"
     ]
    },
    {
     "name": "stderr",
     "output_type": "stream",
     "text": [
      "\u001b[33mWARNING\u001b[0m: Making input data immutable.\n"
     ]
    },
    {
     "name": "stdout",
     "output_type": "stream",
     "text": [
      "\n",
      "  _____             ____     _____      _\n",
      " |\" ___|    ___    / __\"| u |_ \" _| U  /\"\\  u\n",
      "U| |_  u   |_\"_|  <\\___ \\/    | |    \\/ _ \\/\n",
      "\\|  _|/     | |    u___) |   /| |\\   / ___ \\\\\n",
      " |_|      U/| |\\u  |____/>> u |_|U  /_/   \\_\\\\\n",
      " )(\\\\\\,-.-,_|___|_,-.)(  (__)_// \\\\\\_  \\\\\\    >>\n",
      "(__)(_/ \\_)-' '-(_/(__)    (__) (__)(__)  (__)\n",
      "    \n",
      " - mu:  1e-09\n",
      " - lipschitz constant:  1.0999999999999783\n",
      " - data:  (640, 372)\n",
      " - wavelet:  <mri.reconstruct.linear.WaveletN object at 0x7fa4157990f0> - 4\n",
      " - max iterations:  200\n",
      " - image variable shape:  (640, 372)\n",
      " - alpha variable shape:  (238320,)\n",
      "----------------------------------------\n",
      "Starting optimization...\n"
     ]
    },
    {
     "name": "stderr",
     "output_type": "stream",
     "text": [
      "100% (200 of 200) |######################| Elapsed Time: 0:00:52 Time:  0:00:52\n"
     ]
    },
    {
     "name": "stdout",
     "output_type": "stream",
     "text": [
      " - final iteration number:  200\n",
      " - final log10 cost value:  -6.235445003206886\n",
      " - converged:  True\n",
      "Done.\n",
      "Execution time:  1579.027632000012  seconds\n",
      "----------------------------------------\n"
     ]
    },
    {
     "name": "stderr",
     "output_type": "stream",
     "text": [
      "\u001b[33mWARNING\u001b[0m: Making input data immutable.\n"
     ]
    },
    {
     "name": "stdout",
     "output_type": "stream",
     "text": [
      "\n",
      "  _____             ____     _____      _\n",
      " |\" ___|    ___    / __\"| u |_ \" _| U  /\"\\  u\n",
      "U| |_  u   |_\"_|  <\\___ \\/    | |    \\/ _ \\/\n",
      "\\|  _|/     | |    u___) |   /| |\\   / ___ \\\\\n",
      " |_|      U/| |\\u  |____/>> u |_|U  /_/   \\_\\\\\n",
      " )(\\\\\\,-.-,_|___|_,-.)(  (__)_// \\\\\\_  \\\\\\    >>\n",
      "(__)(_/ \\_)-' '-(_/(__)    (__) (__)(__)  (__)\n",
      "    \n",
      " - mu:  1e-09\n",
      " - lipschitz constant:  1.0999999999999823\n",
      " - data:  (640, 372)\n",
      " - wavelet:  <mri.reconstruct.linear.WaveletN object at 0x7fa4157d5630> - 4\n",
      " - max iterations:  200\n",
      " - image variable shape:  (640, 372)\n",
      " - alpha variable shape:  (238320,)\n",
      "----------------------------------------\n",
      "Starting optimization...\n"
     ]
    },
    {
     "name": "stderr",
     "output_type": "stream",
     "text": [
      "100% (200 of 200) |######################| Elapsed Time: 0:00:52 Time:  0:00:52\n"
     ]
    },
    {
     "name": "stdout",
     "output_type": "stream",
     "text": [
      " - final iteration number:  200\n",
      " - final log10 cost value:  -6.335478455557225\n",
      " - converged:  True\n",
      "Done.\n",
      "Execution time:  1610.8389939999906  seconds\n",
      "----------------------------------------\n",
      "\n"
     ]
    },
    {
     "data": {
      "application/vnd.jupyter.widget-view+json": {
       "model_id": "7fd08215f0af4cb38bfac47c8d81ce44",
       "version_major": 2,
       "version_minor": 0
      },
      "text/plain": [
       "HBox(children=(FloatProgress(value=0.0, description='Stats', max=24.0, style=ProgressStyle(description_width='…"
      ]
     },
     "metadata": {},
     "output_type": "display_data"
    },
    {
     "name": "stdout",
     "output_type": "stream",
     "text": [
      "\n"
     ]
    },
    {
     "data": {
      "application/vnd.jupyter.widget-view+json": {
       "model_id": "2875bcddb5fc4be3b4106ee207a4d398",
       "version_major": 2,
       "version_minor": 0
      },
      "text/plain": [
       "HBox(children=(FloatProgress(value=0.0, description='K-spaces', max=24.0, style=ProgressStyle(description_widt…"
      ]
     },
     "metadata": {},
     "output_type": "display_data"
    },
    {
     "name": "stderr",
     "output_type": "stream",
     "text": [
      "\u001b[33mWARNING\u001b[0m: Making input data immutable.\n"
     ]
    },
    {
     "name": "stdout",
     "output_type": "stream",
     "text": [
      "\n",
      "  _____             ____     _____      _\n",
      " |\" ___|    ___    / __\"| u |_ \" _| U  /\"\\  u\n",
      "U| |_  u   |_\"_|  <\\___ \\/    | |    \\/ _ \\/\n",
      "\\|  _|/     | |    u___) |   /| |\\   / ___ \\\\\n",
      " |_|      U/| |\\u  |____/>> u |_|U  /_/   \\_\\\\\n",
      " )(\\\\\\,-.-,_|___|_,-.)(  (__)_// \\\\\\_  \\\\\\    >>\n",
      "(__)(_/ \\_)-' '-(_/(__)    (__) (__)(__)  (__)\n",
      "    \n",
      " - mu:  2.1544346900318866e-09\n",
      " - lipschitz constant:  1.099999999999979\n",
      " - data:  (640, 368)\n",
      " - wavelet:  <mri.reconstruct.linear.WaveletN object at 0x7fa4156f2080> - 4\n",
      " - max iterations:  200\n",
      " - image variable shape:  (640, 368)\n",
      " - alpha variable shape:  (235520,)\n",
      "----------------------------------------\n",
      "Starting optimization...\n"
     ]
    },
    {
     "name": "stderr",
     "output_type": "stream",
     "text": [
      "100% (200 of 200) |######################| Elapsed Time: 0:00:50 Time:  0:00:50\n"
     ]
    },
    {
     "name": "stdout",
     "output_type": "stream",
     "text": [
      " - final iteration number:  200\n",
      " - final log10 cost value:  -5.367617883832146\n",
      " - converged:  True\n",
      "Done.\n",
      "Execution time:  1574.5681420000037  seconds\n",
      "----------------------------------------\n"
     ]
    },
    {
     "name": "stderr",
     "output_type": "stream",
     "text": [
      "\u001b[33mWARNING\u001b[0m: Making input data immutable.\n"
     ]
    },
    {
     "name": "stdout",
     "output_type": "stream",
     "text": [
      "\n",
      "  _____             ____     _____      _\n",
      " |\" ___|    ___    / __\"| u |_ \" _| U  /\"\\  u\n",
      "U| |_  u   |_\"_|  <\\___ \\/    | |    \\/ _ \\/\n",
      "\\|  _|/     | |    u___) |   /| |\\   / ___ \\\\\n",
      " |_|      U/| |\\u  |____/>> u |_|U  /_/   \\_\\\\\n",
      " )(\\\\\\,-.-,_|___|_,-.)(  (__)_// \\\\\\_  \\\\\\    >>\n",
      "(__)(_/ \\_)-' '-(_/(__)    (__) (__)(__)  (__)\n",
      "    \n",
      " - mu:  2.1544346900318866e-09\n",
      " - lipschitz constant:  1.1000000000000738\n",
      " - data:  (640, 368)\n",
      " - wavelet:  <mri.reconstruct.linear.WaveletN object at 0x7fa4156f2208> - 4\n",
      " - max iterations:  200\n",
      " - image variable shape:  (640, 368)\n",
      " - alpha variable shape:  (235520,)\n",
      "----------------------------------------\n",
      "Starting optimization...\n"
     ]
    },
    {
     "name": "stderr",
     "output_type": "stream",
     "text": [
      "100% (200 of 200) |######################| Elapsed Time: 0:00:49 Time:  0:00:49\n"
     ]
    },
    {
     "name": "stdout",
     "output_type": "stream",
     "text": [
      " - final iteration number:  200\n",
      " - final log10 cost value:  -4.762120735612271\n",
      " - converged:  True\n",
      "Done.\n",
      "Execution time:  1566.012281000003  seconds\n",
      "----------------------------------------\n"
     ]
    },
    {
     "name": "stderr",
     "output_type": "stream",
     "text": [
      "\u001b[33mWARNING\u001b[0m: Making input data immutable.\n"
     ]
    },
    {
     "name": "stdout",
     "output_type": "stream",
     "text": [
      "\n",
      "  _____             ____     _____      _\n",
      " |\" ___|    ___    / __\"| u |_ \" _| U  /\"\\  u\n",
      "U| |_  u   |_\"_|  <\\___ \\/    | |    \\/ _ \\/\n",
      "\\|  _|/     | |    u___) |   /| |\\   / ___ \\\\\n",
      " |_|      U/| |\\u  |____/>> u |_|U  /_/   \\_\\\\\n",
      " )(\\\\\\,-.-,_|___|_,-.)(  (__)_// \\\\\\_  \\\\\\    >>\n",
      "(__)(_/ \\_)-' '-(_/(__)    (__) (__)(__)  (__)\n",
      "    \n",
      " - mu:  2.1544346900318866e-09\n",
      " - lipschitz constant:  1.0999999999999803\n",
      " - data:  (640, 368)\n",
      " - wavelet:  <mri.reconstruct.linear.WaveletN object at 0x7fa4156f2eb8> - 4\n",
      " - max iterations:  200\n",
      " - image variable shape:  (640, 368)\n",
      " - alpha variable shape:  (235520,)\n",
      "----------------------------------------\n",
      "Starting optimization...\n"
     ]
    },
    {
     "name": "stderr",
     "output_type": "stream",
     "text": [
      "100% (200 of 200) |######################| Elapsed Time: 0:00:50 Time:  0:00:50\n"
     ]
    },
    {
     "name": "stdout",
     "output_type": "stream",
     "text": [
      " - final iteration number:  200\n",
      " - final log10 cost value:  -5.372893668990267\n",
      " - converged:  True\n",
      "Done.\n",
      "Execution time:  1589.8651700000046  seconds\n",
      "----------------------------------------\n"
     ]
    },
    {
     "name": "stderr",
     "output_type": "stream",
     "text": [
      "\u001b[33mWARNING\u001b[0m: Making input data immutable.\n"
     ]
    },
    {
     "name": "stdout",
     "output_type": "stream",
     "text": [
      "\n",
      "  _____             ____     _____      _\n",
      " |\" ___|    ___    / __\"| u |_ \" _| U  /\"\\  u\n",
      "U| |_  u   |_\"_|  <\\___ \\/    | |    \\/ _ \\/\n",
      "\\|  _|/     | |    u___) |   /| |\\   / ___ \\\\\n",
      " |_|      U/| |\\u  |____/>> u |_|U  /_/   \\_\\\\\n",
      " )(\\\\\\,-.-,_|___|_,-.)(  (__)_// \\\\\\_  \\\\\\    >>\n",
      "(__)(_/ \\_)-' '-(_/(__)    (__) (__)(__)  (__)\n",
      "    \n",
      " - mu:  2.1544346900318866e-09\n",
      " - lipschitz constant:  1.099999999999989\n",
      " - data:  (640, 368)\n",
      " - wavelet:  <mri.reconstruct.linear.WaveletN object at 0x7fa41570e4e0> - 4\n",
      " - max iterations:  200\n",
      " - image variable shape:  (640, 368)\n",
      " - alpha variable shape:  (235520,)\n",
      "----------------------------------------\n",
      "Starting optimization...\n"
     ]
    },
    {
     "name": "stderr",
     "output_type": "stream",
     "text": [
      "100% (200 of 200) |######################| Elapsed Time: 0:00:50 Time:  0:00:50\n"
     ]
    },
    {
     "name": "stdout",
     "output_type": "stream",
     "text": [
      " - final iteration number:  200\n",
      " - final log10 cost value:  -5.588925926732768\n",
      " - converged:  True\n",
      "Done.\n",
      "Execution time:  1581.4752579999913  seconds\n",
      "----------------------------------------\n"
     ]
    },
    {
     "name": "stderr",
     "output_type": "stream",
     "text": [
      "\u001b[33mWARNING\u001b[0m: Making input data immutable.\n"
     ]
    },
    {
     "name": "stdout",
     "output_type": "stream",
     "text": [
      "\n",
      "  _____             ____     _____      _\n",
      " |\" ___|    ___    / __\"| u |_ \" _| U  /\"\\  u\n",
      "U| |_  u   |_\"_|  <\\___ \\/    | |    \\/ _ \\/\n",
      "\\|  _|/     | |    u___) |   /| |\\   / ___ \\\\\n",
      " |_|      U/| |\\u  |____/>> u |_|U  /_/   \\_\\\\\n",
      " )(\\\\\\,-.-,_|___|_,-.)(  (__)_// \\\\\\_  \\\\\\    >>\n",
      "(__)(_/ \\_)-' '-(_/(__)    (__) (__)(__)  (__)\n",
      "    \n",
      " - mu:  2.1544346900318866e-09\n",
      " - lipschitz constant:  1.0999999999999857\n",
      " - data:  (640, 368)\n",
      " - wavelet:  <mri.reconstruct.linear.WaveletN object at 0x7fa415799dd8> - 4\n",
      " - max iterations:  200\n",
      " - image variable shape:  (640, 368)\n",
      " - alpha variable shape:  (235520,)\n",
      "----------------------------------------\n",
      "Starting optimization...\n"
     ]
    },
    {
     "name": "stderr",
     "output_type": "stream",
     "text": [
      "100% (200 of 200) |######################| Elapsed Time: 0:00:51 Time:  0:00:51\n"
     ]
    },
    {
     "name": "stdout",
     "output_type": "stream",
     "text": [
      " - final iteration number:  200\n",
      " - final log10 cost value:  -5.176976499634129\n",
      " - converged:  True\n",
      "Done.\n",
      "Execution time:  1603.0411719999975  seconds\n",
      "----------------------------------------\n"
     ]
    },
    {
     "name": "stderr",
     "output_type": "stream",
     "text": [
      "\u001b[33mWARNING\u001b[0m: Making input data immutable.\n"
     ]
    },
    {
     "name": "stdout",
     "output_type": "stream",
     "text": [
      "\n",
      "  _____             ____     _____      _\n",
      " |\" ___|    ___    / __\"| u |_ \" _| U  /\"\\  u\n",
      "U| |_  u   |_\"_|  <\\___ \\/    | |    \\/ _ \\/\n",
      "\\|  _|/     | |    u___) |   /| |\\   / ___ \\\\\n",
      " |_|      U/| |\\u  |____/>> u |_|U  /_/   \\_\\\\\n",
      " )(\\\\\\,-.-,_|___|_,-.)(  (__)_// \\\\\\_  \\\\\\    >>\n",
      "(__)(_/ \\_)-' '-(_/(__)    (__) (__)(__)  (__)\n",
      "    \n",
      " - mu:  2.1544346900318866e-09\n",
      " - lipschitz constant:  1.0999999999999759\n",
      " - data:  (640, 368)\n",
      " - wavelet:  <mri.reconstruct.linear.WaveletN object at 0x7fa41570e6d8> - 4\n",
      " - max iterations:  200\n",
      " - image variable shape:  (640, 368)\n",
      " - alpha variable shape:  (235520,)\n",
      "----------------------------------------\n",
      "Starting optimization...\n"
     ]
    },
    {
     "name": "stderr",
     "output_type": "stream",
     "text": [
      "100% (200 of 200) |######################| Elapsed Time: 0:00:50 Time:  0:00:50\n"
     ]
    },
    {
     "name": "stdout",
     "output_type": "stream",
     "text": [
      " - final iteration number:  200\n",
      " - final log10 cost value:  -5.183085754224406\n",
      " - converged:  True\n",
      "Done.\n",
      "Execution time:  1611.2799130000058  seconds\n",
      "----------------------------------------\n"
     ]
    },
    {
     "name": "stderr",
     "output_type": "stream",
     "text": [
      "\u001b[33mWARNING\u001b[0m: Making input data immutable.\n"
     ]
    },
    {
     "name": "stdout",
     "output_type": "stream",
     "text": [
      "\n",
      "  _____             ____     _____      _\n",
      " |\" ___|    ___    / __\"| u |_ \" _| U  /\"\\  u\n",
      "U| |_  u   |_\"_|  <\\___ \\/    | |    \\/ _ \\/\n",
      "\\|  _|/     | |    u___) |   /| |\\   / ___ \\\\\n",
      " |_|      U/| |\\u  |____/>> u |_|U  /_/   \\_\\\\\n",
      " )(\\\\\\,-.-,_|___|_,-.)(  (__)_// \\\\\\_  \\\\\\    >>\n",
      "(__)(_/ \\_)-' '-(_/(__)    (__) (__)(__)  (__)\n",
      "    \n",
      " - mu:  2.1544346900318866e-09\n",
      " - lipschitz constant:  1.1000000000000754\n",
      " - data:  (640, 368)\n",
      " - wavelet:  <mri.reconstruct.linear.WaveletN object at 0x7fa41570eb70> - 4\n",
      " - max iterations:  200\n",
      " - image variable shape:  (640, 368)\n",
      " - alpha variable shape:  (235520,)\n",
      "----------------------------------------\n",
      "Starting optimization...\n"
     ]
    },
    {
     "name": "stderr",
     "output_type": "stream",
     "text": [
      "100% (200 of 200) |######################| Elapsed Time: 0:00:50 Time:  0:00:50\n"
     ]
    },
    {
     "name": "stdout",
     "output_type": "stream",
     "text": [
      " - final iteration number:  200\n",
      " - final log10 cost value:  -5.280141409155237\n",
      " - converged:  True\n",
      "Done.\n",
      "Execution time:  1594.958381000004  seconds\n",
      "----------------------------------------\n"
     ]
    },
    {
     "name": "stderr",
     "output_type": "stream",
     "text": [
      "\u001b[33mWARNING\u001b[0m: Making input data immutable.\n"
     ]
    },
    {
     "name": "stdout",
     "output_type": "stream",
     "text": [
      "\n",
      "  _____             ____     _____      _\n",
      " |\" ___|    ___    / __\"| u |_ \" _| U  /\"\\  u\n",
      "U| |_  u   |_\"_|  <\\___ \\/    | |    \\/ _ \\/\n",
      "\\|  _|/     | |    u___) |   /| |\\   / ___ \\\\\n",
      " |_|      U/| |\\u  |____/>> u |_|U  /_/   \\_\\\\\n",
      " )(\\\\\\,-.-,_|___|_,-.)(  (__)_// \\\\\\_  \\\\\\    >>\n",
      "(__)(_/ \\_)-' '-(_/(__)    (__) (__)(__)  (__)\n",
      "    \n",
      " - mu:  2.1544346900318866e-09\n",
      " - lipschitz constant:  1.0999999999999794\n",
      " - data:  (640, 368)\n",
      " - wavelet:  <mri.reconstruct.linear.WaveletN object at 0x7fa41570ec88> - 4\n",
      " - max iterations:  200\n",
      " - image variable shape:  (640, 368)\n",
      " - alpha variable shape:  (235520,)\n",
      "----------------------------------------\n",
      "Starting optimization...\n"
     ]
    },
    {
     "name": "stderr",
     "output_type": "stream",
     "text": [
      "100% (200 of 200) |######################| Elapsed Time: 0:00:49 Time:  0:00:49\n"
     ]
    },
    {
     "name": "stdout",
     "output_type": "stream",
     "text": [
      " - final iteration number:  200\n",
      " - final log10 cost value:  -5.0745792913562315\n",
      " - converged:  True\n",
      "Done.\n",
      "Execution time:  1580.8778929999971  seconds\n",
      "----------------------------------------\n"
     ]
    },
    {
     "name": "stderr",
     "output_type": "stream",
     "text": [
      "\u001b[33mWARNING\u001b[0m: Making input data immutable.\n"
     ]
    },
    {
     "name": "stdout",
     "output_type": "stream",
     "text": [
      "\n",
      "  _____             ____     _____      _\n",
      " |\" ___|    ___    / __\"| u |_ \" _| U  /\"\\  u\n",
      "U| |_  u   |_\"_|  <\\___ \\/    | |    \\/ _ \\/\n",
      "\\|  _|/     | |    u___) |   /| |\\   / ___ \\\\\n",
      " |_|      U/| |\\u  |____/>> u |_|U  /_/   \\_\\\\\n",
      " )(\\\\\\,-.-,_|___|_,-.)(  (__)_// \\\\\\_  \\\\\\    >>\n",
      "(__)(_/ \\_)-' '-(_/(__)    (__) (__)(__)  (__)\n",
      "    \n",
      " - mu:  2.1544346900318866e-09\n",
      " - lipschitz constant:  1.0999999999999783\n",
      " - data:  (640, 368)\n",
      " - wavelet:  <mri.reconstruct.linear.WaveletN object at 0x7fa415777198> - 4\n",
      " - max iterations:  200\n",
      " - image variable shape:  (640, 368)\n",
      " - alpha variable shape:  (235520,)\n",
      "----------------------------------------\n",
      "Starting optimization...\n"
     ]
    },
    {
     "name": "stderr",
     "output_type": "stream",
     "text": [
      "100% (200 of 200) |######################| Elapsed Time: 0:00:50 Time:  0:00:50\n"
     ]
    },
    {
     "name": "stdout",
     "output_type": "stream",
     "text": [
      " - final iteration number:  200\n",
      " - final log10 cost value:  -5.2438151029396955\n",
      " - converged:  True\n",
      "Done.\n",
      "Execution time:  1596.1716250000172  seconds\n",
      "----------------------------------------\n"
     ]
    },
    {
     "name": "stderr",
     "output_type": "stream",
     "text": [
      "\u001b[33mWARNING\u001b[0m: Making input data immutable.\n"
     ]
    },
    {
     "name": "stdout",
     "output_type": "stream",
     "text": [
      "\n",
      "  _____             ____     _____      _\n",
      " |\" ___|    ___    / __\"| u |_ \" _| U  /\"\\  u\n",
      "U| |_  u   |_\"_|  <\\___ \\/    | |    \\/ _ \\/\n",
      "\\|  _|/     | |    u___) |   /| |\\   / ___ \\\\\n",
      " |_|      U/| |\\u  |____/>> u |_|U  /_/   \\_\\\\\n",
      " )(\\\\\\,-.-,_|___|_,-.)(  (__)_// \\\\\\_  \\\\\\    >>\n",
      "(__)(_/ \\_)-' '-(_/(__)    (__) (__)(__)  (__)\n",
      "    \n",
      " - mu:  2.1544346900318866e-09\n",
      " - lipschitz constant:  1.1000000000000887\n",
      " - data:  (640, 368)\n",
      " - wavelet:  <mri.reconstruct.linear.WaveletN object at 0x7fa41570eac8> - 4\n",
      " - max iterations:  200\n",
      " - image variable shape:  (640, 368)\n",
      " - alpha variable shape:  (235520,)\n",
      "----------------------------------------\n",
      "Starting optimization...\n"
     ]
    },
    {
     "name": "stderr",
     "output_type": "stream",
     "text": [
      "100% (200 of 200) |######################| Elapsed Time: 0:00:49 Time:  0:00:49\n"
     ]
    },
    {
     "name": "stdout",
     "output_type": "stream",
     "text": [
      " - final iteration number:  200\n",
      " - final log10 cost value:  -5.170165748257095\n",
      " - converged:  True\n",
      "Done.\n",
      "Execution time:  1588.1426729999948  seconds\n",
      "----------------------------------------\n"
     ]
    },
    {
     "name": "stderr",
     "output_type": "stream",
     "text": [
      "\u001b[33mWARNING\u001b[0m: Making input data immutable.\n"
     ]
    },
    {
     "name": "stdout",
     "output_type": "stream",
     "text": [
      "\n",
      "  _____             ____     _____      _\n",
      " |\" ___|    ___    / __\"| u |_ \" _| U  /\"\\  u\n",
      "U| |_  u   |_\"_|  <\\___ \\/    | |    \\/ _ \\/\n",
      "\\|  _|/     | |    u___) |   /| |\\   / ___ \\\\\n",
      " |_|      U/| |\\u  |____/>> u |_|U  /_/   \\_\\\\\n",
      " )(\\\\\\,-.-,_|___|_,-.)(  (__)_// \\\\\\_  \\\\\\    >>\n",
      "(__)(_/ \\_)-' '-(_/(__)    (__) (__)(__)  (__)\n",
      "    \n",
      " - mu:  2.1544346900318866e-09\n",
      " - lipschitz constant:  1.099999999999974\n",
      " - data:  (640, 372)\n",
      " - wavelet:  <mri.reconstruct.linear.WaveletN object at 0x7fa415777320> - 4\n",
      " - max iterations:  200\n",
      " - image variable shape:  (640, 372)\n",
      " - alpha variable shape:  (238320,)\n",
      "----------------------------------------\n",
      "Starting optimization...\n"
     ]
    },
    {
     "name": "stderr",
     "output_type": "stream",
     "text": [
      "100% (200 of 200) |######################| Elapsed Time: 0:00:52 Time:  0:00:52\n"
     ]
    },
    {
     "name": "stdout",
     "output_type": "stream",
     "text": [
      " - final iteration number:  200\n",
      " - final log10 cost value:  -6.177475493957613\n",
      " - converged:  True\n",
      "Done.\n",
      "Execution time:  1618.6763899999787  seconds\n",
      "----------------------------------------\n"
     ]
    },
    {
     "name": "stderr",
     "output_type": "stream",
     "text": [
      "\u001b[33mWARNING\u001b[0m: Making input data immutable.\n"
     ]
    },
    {
     "name": "stdout",
     "output_type": "stream",
     "text": [
      "\n",
      "  _____             ____     _____      _\n",
      " |\" ___|    ___    / __\"| u |_ \" _| U  /\"\\  u\n",
      "U| |_  u   |_\"_|  <\\___ \\/    | |    \\/ _ \\/\n",
      "\\|  _|/     | |    u___) |   /| |\\   / ___ \\\\\n",
      " |_|      U/| |\\u  |____/>> u |_|U  /_/   \\_\\\\\n",
      " )(\\\\\\,-.-,_|___|_,-.)(  (__)_// \\\\\\_  \\\\\\    >>\n",
      "(__)(_/ \\_)-' '-(_/(__)    (__) (__)(__)  (__)\n",
      "    \n",
      " - mu:  2.1544346900318866e-09\n",
      " - lipschitz constant:  1.100000000000062\n",
      " - data:  (640, 372)\n",
      " - wavelet:  <mri.reconstruct.linear.WaveletN object at 0x7fa415760be0> - 4\n",
      " - max iterations:  200\n",
      " - image variable shape:  (640, 372)\n",
      " - alpha variable shape:  (238320,)\n",
      "----------------------------------------\n",
      "Starting optimization...\n"
     ]
    },
    {
     "name": "stderr",
     "output_type": "stream",
     "text": [
      "100% (200 of 200) |######################| Elapsed Time: 0:00:52 Time:  0:00:52\n"
     ]
    },
    {
     "name": "stdout",
     "output_type": "stream",
     "text": [
      " - final iteration number:  200\n",
      " - final log10 cost value:  -6.346661815702636\n",
      " - converged:  True\n",
      "Done.\n",
      "Execution time:  1649.5355160000036  seconds\n",
      "----------------------------------------\n"
     ]
    },
    {
     "name": "stderr",
     "output_type": "stream",
     "text": [
      "\u001b[33mWARNING\u001b[0m: Making input data immutable.\n"
     ]
    },
    {
     "name": "stdout",
     "output_type": "stream",
     "text": [
      "\n",
      "  _____             ____     _____      _\n",
      " |\" ___|    ___    / __\"| u |_ \" _| U  /\"\\  u\n",
      "U| |_  u   |_\"_|  <\\___ \\/    | |    \\/ _ \\/\n",
      "\\|  _|/     | |    u___) |   /| |\\   / ___ \\\\\n",
      " |_|      U/| |\\u  |____/>> u |_|U  /_/   \\_\\\\\n",
      " )(\\\\\\,-.-,_|___|_,-.)(  (__)_// \\\\\\_  \\\\\\    >>\n",
      "(__)(_/ \\_)-' '-(_/(__)    (__) (__)(__)  (__)\n",
      "    \n",
      " - mu:  2.1544346900318866e-09\n",
      " - lipschitz constant:  1.1000000000000678\n",
      " - data:  (640, 368)\n",
      " - wavelet:  <mri.reconstruct.linear.WaveletN object at 0x7fa41578e860> - 4\n",
      " - max iterations:  200\n",
      " - image variable shape:  (640, 368)\n",
      " - alpha variable shape:  (235520,)\n",
      "----------------------------------------\n",
      "Starting optimization...\n"
     ]
    },
    {
     "name": "stderr",
     "output_type": "stream",
     "text": [
      "100% (200 of 200) |######################| Elapsed Time: 0:00:50 Time:  0:00:50\n"
     ]
    },
    {
     "name": "stdout",
     "output_type": "stream",
     "text": [
      " - final iteration number:  200\n",
      " - final log10 cost value:  -5.47382707430091\n",
      " - converged:  True\n",
      "Done.\n",
      "Execution time:  1578.3130860000383  seconds\n",
      "----------------------------------------\n"
     ]
    },
    {
     "name": "stderr",
     "output_type": "stream",
     "text": [
      "\u001b[33mWARNING\u001b[0m: Making input data immutable.\n"
     ]
    },
    {
     "name": "stdout",
     "output_type": "stream",
     "text": [
      "\n",
      "  _____             ____     _____      _\n",
      " |\" ___|    ___    / __\"| u |_ \" _| U  /\"\\  u\n",
      "U| |_  u   |_\"_|  <\\___ \\/    | |    \\/ _ \\/\n",
      "\\|  _|/     | |    u___) |   /| |\\   / ___ \\\\\n",
      " |_|      U/| |\\u  |____/>> u |_|U  /_/   \\_\\\\\n",
      " )(\\\\\\,-.-,_|___|_,-.)(  (__)_// \\\\\\_  \\\\\\    >>\n",
      "(__)(_/ \\_)-' '-(_/(__)    (__) (__)(__)  (__)\n",
      "    \n",
      " - mu:  2.1544346900318866e-09\n",
      " - lipschitz constant:  1.1000000000000594\n",
      " - data:  (640, 372)\n",
      " - wavelet:  <mri.reconstruct.linear.WaveletN object at 0x7fa415b3df60> - 4\n",
      " - max iterations:  200\n",
      " - image variable shape:  (640, 372)\n",
      " - alpha variable shape:  (238320,)\n",
      "----------------------------------------\n",
      "Starting optimization...\n"
     ]
    },
    {
     "name": "stderr",
     "output_type": "stream",
     "text": [
      "100% (200 of 200) |######################| Elapsed Time: 0:00:52 Time:  0:00:52\n"
     ]
    },
    {
     "name": "stdout",
     "output_type": "stream",
     "text": [
      " - final iteration number:  200\n",
      " - final log10 cost value:  -6.153129231443277\n",
      " - converged:  True\n",
      "Done.\n",
      "Execution time:  1638.4842330000247  seconds\n",
      "----------------------------------------\n"
     ]
    },
    {
     "name": "stderr",
     "output_type": "stream",
     "text": [
      "\u001b[33mWARNING\u001b[0m: Making input data immutable.\n"
     ]
    },
    {
     "name": "stdout",
     "output_type": "stream",
     "text": [
      "\n",
      "  _____             ____     _____      _\n",
      " |\" ___|    ___    / __\"| u |_ \" _| U  /\"\\  u\n",
      "U| |_  u   |_\"_|  <\\___ \\/    | |    \\/ _ \\/\n",
      "\\|  _|/     | |    u___) |   /| |\\   / ___ \\\\\n",
      " |_|      U/| |\\u  |____/>> u |_|U  /_/   \\_\\\\\n",
      " )(\\\\\\,-.-,_|___|_,-.)(  (__)_// \\\\\\_  \\\\\\    >>\n",
      "(__)(_/ \\_)-' '-(_/(__)    (__) (__)(__)  (__)\n",
      "    \n",
      " - mu:  2.1544346900318866e-09\n",
      " - lipschitz constant:  1.0999999999999823\n",
      " - data:  (640, 368)\n",
      " - wavelet:  <mri.reconstruct.linear.WaveletN object at 0x7fa4156f20f0> - 4\n",
      " - max iterations:  200\n",
      " - image variable shape:  (640, 368)\n",
      " - alpha variable shape:  (235520,)\n",
      "----------------------------------------\n",
      "Starting optimization...\n"
     ]
    },
    {
     "name": "stderr",
     "output_type": "stream",
     "text": [
      "100% (200 of 200) |######################| Elapsed Time: 0:00:50 Time:  0:00:50\n"
     ]
    },
    {
     "name": "stdout",
     "output_type": "stream",
     "text": [
      " - final iteration number:  200\n",
      " - final log10 cost value:  -5.333510088069523\n",
      " - converged:  True\n",
      "Done.\n",
      "Execution time:  1597.7918090000167  seconds\n",
      "----------------------------------------\n"
     ]
    },
    {
     "name": "stderr",
     "output_type": "stream",
     "text": [
      "\u001b[33mWARNING\u001b[0m: Making input data immutable.\n"
     ]
    },
    {
     "name": "stdout",
     "output_type": "stream",
     "text": [
      "\n",
      "  _____             ____     _____      _\n",
      " |\" ___|    ___    / __\"| u |_ \" _| U  /\"\\  u\n",
      "U| |_  u   |_\"_|  <\\___ \\/    | |    \\/ _ \\/\n",
      "\\|  _|/     | |    u___) |   /| |\\   / ___ \\\\\n",
      " |_|      U/| |\\u  |____/>> u |_|U  /_/   \\_\\\\\n",
      " )(\\\\\\,-.-,_|___|_,-.)(  (__)_// \\\\\\_  \\\\\\    >>\n",
      "(__)(_/ \\_)-' '-(_/(__)    (__) (__)(__)  (__)\n",
      "    \n",
      " - mu:  2.1544346900318866e-09\n",
      " - lipschitz constant:  1.0999999999999819\n",
      " - data:  (640, 368)\n",
      " - wavelet:  <mri.reconstruct.linear.WaveletN object at 0x7fa4157389e8> - 4\n",
      " - max iterations:  200\n",
      " - image variable shape:  (640, 368)\n",
      " - alpha variable shape:  (235520,)\n",
      "----------------------------------------\n",
      "Starting optimization...\n"
     ]
    },
    {
     "name": "stderr",
     "output_type": "stream",
     "text": [
      "100% (200 of 200) |######################| Elapsed Time: 0:00:49 Time:  0:00:49\n"
     ]
    },
    {
     "name": "stdout",
     "output_type": "stream",
     "text": [
      " - final iteration number:  200\n",
      " - final log10 cost value:  -5.362341126236309\n",
      " - converged:  True\n",
      "Done.\n",
      "Execution time:  1586.3174059999874  seconds\n",
      "----------------------------------------\n"
     ]
    },
    {
     "name": "stderr",
     "output_type": "stream",
     "text": [
      "\u001b[33mWARNING\u001b[0m: Making input data immutable.\n"
     ]
    },
    {
     "name": "stdout",
     "output_type": "stream",
     "text": [
      "\n",
      "  _____             ____     _____      _\n",
      " |\" ___|    ___    / __\"| u |_ \" _| U  /\"\\  u\n",
      "U| |_  u   |_\"_|  <\\___ \\/    | |    \\/ _ \\/\n",
      "\\|  _|/     | |    u___) |   /| |\\   / ___ \\\\\n",
      " |_|      U/| |\\u  |____/>> u |_|U  /_/   \\_\\\\\n",
      " )(\\\\\\,-.-,_|___|_,-.)(  (__)_// \\\\\\_  \\\\\\    >>\n",
      "(__)(_/ \\_)-' '-(_/(__)    (__) (__)(__)  (__)\n",
      "    \n",
      " - mu:  2.1544346900318866e-09\n",
      " - lipschitz constant:  1.0999999999999768\n",
      " - data:  (640, 368)\n",
      " - wavelet:  <mri.reconstruct.linear.WaveletN object at 0x7fa41578ea90> - 4\n",
      " - max iterations:  200\n",
      " - image variable shape:  (640, 368)\n",
      " - alpha variable shape:  (235520,)\n",
      "----------------------------------------\n",
      "Starting optimization...\n"
     ]
    },
    {
     "name": "stderr",
     "output_type": "stream",
     "text": [
      "100% (200 of 200) |######################| Elapsed Time: 0:00:50 Time:  0:00:50\n"
     ]
    },
    {
     "name": "stdout",
     "output_type": "stream",
     "text": [
      " - final iteration number:  200\n",
      " - final log10 cost value:  -5.125462849291174\n",
      " - converged:  True\n",
      "Done.\n",
      "Execution time:  1603.0367020000122  seconds\n",
      "----------------------------------------\n"
     ]
    },
    {
     "name": "stderr",
     "output_type": "stream",
     "text": [
      "\u001b[33mWARNING\u001b[0m: Making input data immutable.\n"
     ]
    },
    {
     "name": "stdout",
     "output_type": "stream",
     "text": [
      "\n",
      "  _____             ____     _____      _\n",
      " |\" ___|    ___    / __\"| u |_ \" _| U  /\"\\  u\n",
      "U| |_  u   |_\"_|  <\\___ \\/    | |    \\/ _ \\/\n",
      "\\|  _|/     | |    u___) |   /| |\\   / ___ \\\\\n",
      " |_|      U/| |\\u  |____/>> u |_|U  /_/   \\_\\\\\n",
      " )(\\\\\\,-.-,_|___|_,-.)(  (__)_// \\\\\\_  \\\\\\    >>\n",
      "(__)(_/ \\_)-' '-(_/(__)    (__) (__)(__)  (__)\n",
      "    \n",
      " - mu:  2.1544346900318866e-09\n",
      " - lipschitz constant:  1.0999999999999728\n",
      " - data:  (640, 372)\n",
      " - wavelet:  <mri.reconstruct.linear.WaveletN object at 0x7fa415738780> - 4\n",
      " - max iterations:  200\n",
      " - image variable shape:  (640, 372)\n",
      " - alpha variable shape:  (238320,)\n",
      "----------------------------------------\n",
      "Starting optimization...\n"
     ]
    },
    {
     "name": "stderr",
     "output_type": "stream",
     "text": [
      "100% (200 of 200) |######################| Elapsed Time: 0:00:52 Time:  0:00:52\n"
     ]
    },
    {
     "name": "stdout",
     "output_type": "stream",
     "text": [
      " - final iteration number:  200\n",
      " - final log10 cost value:  -6.2451570185705565\n",
      " - converged:  True\n",
      "Done.\n",
      "Execution time:  1637.1757249999791  seconds\n",
      "----------------------------------------\n"
     ]
    },
    {
     "name": "stderr",
     "output_type": "stream",
     "text": [
      "\u001b[33mWARNING\u001b[0m: Making input data immutable.\n"
     ]
    },
    {
     "name": "stdout",
     "output_type": "stream",
     "text": [
      "\n",
      "  _____             ____     _____      _\n",
      " |\" ___|    ___    / __\"| u |_ \" _| U  /\"\\  u\n",
      "U| |_  u   |_\"_|  <\\___ \\/    | |    \\/ _ \\/\n",
      "\\|  _|/     | |    u___) |   /| |\\   / ___ \\\\\n",
      " |_|      U/| |\\u  |____/>> u |_|U  /_/   \\_\\\\\n",
      " )(\\\\\\,-.-,_|___|_,-.)(  (__)_// \\\\\\_  \\\\\\    >>\n",
      "(__)(_/ \\_)-' '-(_/(__)    (__) (__)(__)  (__)\n",
      "    \n",
      " - mu:  2.1544346900318866e-09\n",
      " - lipschitz constant:  1.1000000000000694\n",
      " - data:  (640, 368)\n",
      " - wavelet:  <mri.reconstruct.linear.WaveletN object at 0x7fa4157604e0> - 4\n",
      " - max iterations:  200\n",
      " - image variable shape:  (640, 368)\n",
      " - alpha variable shape:  (235520,)\n",
      "----------------------------------------\n",
      "Starting optimization...\n"
     ]
    },
    {
     "name": "stderr",
     "output_type": "stream",
     "text": [
      "100% (200 of 200) |######################| Elapsed Time: 0:00:49 Time:  0:00:49\n"
     ]
    },
    {
     "name": "stdout",
     "output_type": "stream",
     "text": [
      " - final iteration number:  200\n",
      " - final log10 cost value:  -5.142849133305113\n",
      " - converged:  True\n",
      "Done.\n",
      "Execution time:  1579.735109000001  seconds\n",
      "----------------------------------------\n"
     ]
    },
    {
     "name": "stderr",
     "output_type": "stream",
     "text": [
      "\u001b[33mWARNING\u001b[0m: Making input data immutable.\n"
     ]
    },
    {
     "name": "stdout",
     "output_type": "stream",
     "text": [
      "\n",
      "  _____             ____     _____      _\n",
      " |\" ___|    ___    / __\"| u |_ \" _| U  /\"\\  u\n",
      "U| |_  u   |_\"_|  <\\___ \\/    | |    \\/ _ \\/\n",
      "\\|  _|/     | |    u___) |   /| |\\   / ___ \\\\\n",
      " |_|      U/| |\\u  |____/>> u |_|U  /_/   \\_\\\\\n",
      " )(\\\\\\,-.-,_|___|_,-.)(  (__)_// \\\\\\_  \\\\\\    >>\n",
      "(__)(_/ \\_)-' '-(_/(__)    (__) (__)(__)  (__)\n",
      "    \n",
      " - mu:  2.1544346900318866e-09\n",
      " - lipschitz constant:  1.1000000000000703\n",
      " - data:  (640, 372)\n",
      " - wavelet:  <mri.reconstruct.linear.WaveletN object at 0x7fa41578e8d0> - 4\n",
      " - max iterations:  200\n",
      " - image variable shape:  (640, 372)\n",
      " - alpha variable shape:  (238320,)\n",
      "----------------------------------------\n",
      "Starting optimization...\n"
     ]
    },
    {
     "name": "stderr",
     "output_type": "stream",
     "text": [
      "100% (200 of 200) |######################| Elapsed Time: 0:00:52 Time:  0:00:52\n"
     ]
    },
    {
     "name": "stdout",
     "output_type": "stream",
     "text": [
      " - final iteration number:  200\n",
      " - final log10 cost value:  -6.296344962561328\n",
      " - converged:  True\n",
      "Done.\n",
      "Execution time:  1645.8904079999775  seconds\n",
      "----------------------------------------\n"
     ]
    },
    {
     "name": "stderr",
     "output_type": "stream",
     "text": [
      "\u001b[33mWARNING\u001b[0m: Making input data immutable.\n"
     ]
    },
    {
     "name": "stdout",
     "output_type": "stream",
     "text": [
      "\n",
      "  _____             ____     _____      _\n",
      " |\" ___|    ___    / __\"| u |_ \" _| U  /\"\\  u\n",
      "U| |_  u   |_\"_|  <\\___ \\/    | |    \\/ _ \\/\n",
      "\\|  _|/     | |    u___) |   /| |\\   / ___ \\\\\n",
      " |_|      U/| |\\u  |____/>> u |_|U  /_/   \\_\\\\\n",
      " )(\\\\\\,-.-,_|___|_,-.)(  (__)_// \\\\\\_  \\\\\\    >>\n",
      "(__)(_/ \\_)-' '-(_/(__)    (__) (__)(__)  (__)\n",
      "    \n",
      " - mu:  2.1544346900318866e-09\n",
      " - lipschitz constant:  1.1000000000000654\n",
      " - data:  (640, 372)\n",
      " - wavelet:  <mri.reconstruct.linear.WaveletN object at 0x7fa415760978> - 4\n",
      " - max iterations:  200\n",
      " - image variable shape:  (640, 372)\n",
      " - alpha variable shape:  (238320,)\n",
      "----------------------------------------\n",
      "Starting optimization...\n"
     ]
    },
    {
     "name": "stderr",
     "output_type": "stream",
     "text": [
      "100% (200 of 200) |######################| Elapsed Time: 0:00:52 Time:  0:00:52\n"
     ]
    },
    {
     "name": "stdout",
     "output_type": "stream",
     "text": [
      " - final iteration number:  200\n",
      " - final log10 cost value:  -6.337954142925233\n",
      " - converged:  True\n",
      "Done.\n",
      "Execution time:  1640.0149299999466  seconds\n",
      "----------------------------------------\n"
     ]
    },
    {
     "name": "stderr",
     "output_type": "stream",
     "text": [
      "\u001b[33mWARNING\u001b[0m: Making input data immutable.\n"
     ]
    },
    {
     "name": "stdout",
     "output_type": "stream",
     "text": [
      "\n",
      "  _____             ____     _____      _\n",
      " |\" ___|    ___    / __\"| u |_ \" _| U  /\"\\  u\n",
      "U| |_  u   |_\"_|  <\\___ \\/    | |    \\/ _ \\/\n",
      "\\|  _|/     | |    u___) |   /| |\\   / ___ \\\\\n",
      " |_|      U/| |\\u  |____/>> u |_|U  /_/   \\_\\\\\n",
      " )(\\\\\\,-.-,_|___|_,-.)(  (__)_// \\\\\\_  \\\\\\    >>\n",
      "(__)(_/ \\_)-' '-(_/(__)    (__) (__)(__)  (__)\n",
      "    \n",
      " - mu:  2.1544346900318866e-09\n",
      " - lipschitz constant:  1.1000000000000685\n",
      " - data:  (640, 372)\n",
      " - wavelet:  <mri.reconstruct.linear.WaveletN object at 0x7fa415b3df60> - 4\n",
      " - max iterations:  200\n",
      " - image variable shape:  (640, 372)\n",
      " - alpha variable shape:  (238320,)\n",
      "----------------------------------------\n",
      "Starting optimization...\n"
     ]
    },
    {
     "name": "stderr",
     "output_type": "stream",
     "text": [
      "100% (200 of 200) |######################| Elapsed Time: 0:00:51 Time:  0:00:51\n"
     ]
    },
    {
     "name": "stdout",
     "output_type": "stream",
     "text": [
      " - final iteration number:  200\n",
      " - final log10 cost value:  -6.306288472555329\n",
      " - converged:  True\n",
      "Done.\n",
      "Execution time:  1601.4444119999534  seconds\n",
      "----------------------------------------\n"
     ]
    },
    {
     "name": "stderr",
     "output_type": "stream",
     "text": [
      "\u001b[33mWARNING\u001b[0m: Making input data immutable.\n"
     ]
    },
    {
     "name": "stdout",
     "output_type": "stream",
     "text": [
      "\n",
      "  _____             ____     _____      _\n",
      " |\" ___|    ___    / __\"| u |_ \" _| U  /\"\\  u\n",
      "U| |_  u   |_\"_|  <\\___ \\/    | |    \\/ _ \\/\n",
      "\\|  _|/     | |    u___) |   /| |\\   / ___ \\\\\n",
      " |_|      U/| |\\u  |____/>> u |_|U  /_/   \\_\\\\\n",
      " )(\\\\\\,-.-,_|___|_,-.)(  (__)_// \\\\\\_  \\\\\\    >>\n",
      "(__)(_/ \\_)-' '-(_/(__)    (__) (__)(__)  (__)\n",
      "    \n",
      " - mu:  2.1544346900318866e-09\n",
      " - lipschitz constant:  1.0999999999999834\n",
      " - data:  (640, 368)\n",
      " - wavelet:  <mri.reconstruct.linear.WaveletN object at 0x7fa4156f2668> - 4\n",
      " - max iterations:  200\n",
      " - image variable shape:  (640, 368)\n",
      " - alpha variable shape:  (235520,)\n",
      "----------------------------------------\n",
      "Starting optimization...\n"
     ]
    },
    {
     "name": "stderr",
     "output_type": "stream",
     "text": [
      "100% (200 of 200) |######################| Elapsed Time: 0:00:50 Time:  0:00:50\n"
     ]
    },
    {
     "name": "stdout",
     "output_type": "stream",
     "text": [
      " - final iteration number:  200\n",
      " - final log10 cost value:  -5.4458239097175705\n",
      " - converged:  True\n",
      "Done.\n",
      "Execution time:  1591.188908000011  seconds\n",
      "----------------------------------------\n"
     ]
    },
    {
     "name": "stderr",
     "output_type": "stream",
     "text": [
      "\u001b[33mWARNING\u001b[0m: Making input data immutable.\n"
     ]
    },
    {
     "name": "stdout",
     "output_type": "stream",
     "text": [
      "\n",
      "  _____             ____     _____      _\n",
      " |\" ___|    ___    / __\"| u |_ \" _| U  /\"\\  u\n",
      "U| |_  u   |_\"_|  <\\___ \\/    | |    \\/ _ \\/\n",
      "\\|  _|/     | |    u___) |   /| |\\   / ___ \\\\\n",
      " |_|      U/| |\\u  |____/>> u |_|U  /_/   \\_\\\\\n",
      " )(\\\\\\,-.-,_|___|_,-.)(  (__)_// \\\\\\_  \\\\\\    >>\n",
      "(__)(_/ \\_)-' '-(_/(__)    (__) (__)(__)  (__)\n",
      "    \n",
      " - mu:  2.1544346900318866e-09\n",
      " - lipschitz constant:  1.0999999999999748\n",
      " - data:  (640, 372)\n",
      " - wavelet:  <mri.reconstruct.linear.WaveletN object at 0x7fa415777320> - 4\n",
      " - max iterations:  200\n",
      " - image variable shape:  (640, 372)\n",
      " - alpha variable shape:  (238320,)\n",
      "----------------------------------------\n",
      "Starting optimization...\n"
     ]
    },
    {
     "name": "stderr",
     "output_type": "stream",
     "text": [
      "100% (200 of 200) |######################| Elapsed Time: 0:00:51 Time:  0:00:51\n"
     ]
    },
    {
     "name": "stdout",
     "output_type": "stream",
     "text": [
      " - final iteration number:  200\n",
      " - final log10 cost value:  -6.518919788222123\n",
      " - converged:  True\n",
      "Done.\n",
      "Execution time:  1630.296876999957  seconds\n",
      "----------------------------------------\n",
      "\n"
     ]
    },
    {
     "data": {
      "application/vnd.jupyter.widget-view+json": {
       "model_id": "a322b89292a54b9c9580f2448335cf64",
       "version_major": 2,
       "version_minor": 0
      },
      "text/plain": [
       "HBox(children=(FloatProgress(value=0.0, description='Stats', max=24.0, style=ProgressStyle(description_width='…"
      ]
     },
     "metadata": {},
     "output_type": "display_data"
    },
    {
     "name": "stdout",
     "output_type": "stream",
     "text": [
      "\n"
     ]
    },
    {
     "data": {
      "application/vnd.jupyter.widget-view+json": {
       "model_id": "6c5ec16bc65340748b9d0b59da8b29df",
       "version_major": 2,
       "version_minor": 0
      },
      "text/plain": [
       "HBox(children=(FloatProgress(value=0.0, description='K-spaces', max=24.0, style=ProgressStyle(description_widt…"
      ]
     },
     "metadata": {},
     "output_type": "display_data"
    },
    {
     "name": "stderr",
     "output_type": "stream",
     "text": [
      "\u001b[33mWARNING\u001b[0m: Making input data immutable.\n"
     ]
    },
    {
     "name": "stdout",
     "output_type": "stream",
     "text": [
      "\n",
      "  _____             ____     _____      _\n",
      " |\" ___|    ___    / __\"| u |_ \" _| U  /\"\\  u\n",
      "U| |_  u   |_\"_|  <\\___ \\/    | |    \\/ _ \\/\n",
      "\\|  _|/     | |    u___) |   /| |\\   / ___ \\\\\n",
      " |_|      U/| |\\u  |____/>> u |_|U  /_/   \\_\\\\\n",
      " )(\\\\\\,-.-,_|___|_,-.)(  (__)_// \\\\\\_  \\\\\\    >>\n",
      "(__)(_/ \\_)-' '-(_/(__)    (__) (__)(__)  (__)\n",
      "    \n",
      " - mu:  4.641588833612773e-09\n",
      " - lipschitz constant:  1.0999999999999819\n",
      " - data:  (640, 368)\n",
      " - wavelet:  <mri.reconstruct.linear.WaveletN object at 0x7fa4157661d0> - 4\n",
      " - max iterations:  200\n",
      " - image variable shape:  (640, 368)\n",
      " - alpha variable shape:  (235520,)\n",
      "----------------------------------------\n",
      "Starting optimization...\n"
     ]
    },
    {
     "name": "stderr",
     "output_type": "stream",
     "text": [
      "100% (200 of 200) |######################| Elapsed Time: 0:00:50 Time:  0:00:50\n"
     ]
    },
    {
     "name": "stdout",
     "output_type": "stream",
     "text": [
      " - final iteration number:  200\n",
      " - final log10 cost value:  -5.214383409833588\n",
      " - converged:  True\n",
      "Done.\n",
      "Execution time:  1615.0541890000459  seconds\n",
      "----------------------------------------\n"
     ]
    },
    {
     "name": "stderr",
     "output_type": "stream",
     "text": [
      "\u001b[33mWARNING\u001b[0m: Making input data immutable.\n"
     ]
    },
    {
     "name": "stdout",
     "output_type": "stream",
     "text": [
      "\n",
      "  _____             ____     _____      _\n",
      " |\" ___|    ___    / __\"| u |_ \" _| U  /\"\\  u\n",
      "U| |_  u   |_\"_|  <\\___ \\/    | |    \\/ _ \\/\n",
      "\\|  _|/     | |    u___) |   /| |\\   / ___ \\\\\n",
      " |_|      U/| |\\u  |____/>> u |_|U  /_/   \\_\\\\\n",
      " )(\\\\\\,-.-,_|___|_,-.)(  (__)_// \\\\\\_  \\\\\\    >>\n",
      "(__)(_/ \\_)-' '-(_/(__)    (__) (__)(__)  (__)\n",
      "    \n",
      " - mu:  4.641588833612773e-09\n",
      " - lipschitz constant:  1.100000000000031\n",
      " - data:  (640, 372)\n",
      " - wavelet:  <mri.reconstruct.linear.WaveletN object at 0x7fa41578ea90> - 4\n",
      " - max iterations:  200\n",
      " - image variable shape:  (640, 372)\n",
      " - alpha variable shape:  (238320,)\n",
      "----------------------------------------\n",
      "Starting optimization...\n"
     ]
    },
    {
     "name": "stderr",
     "output_type": "stream",
     "text": [
      "100% (200 of 200) |######################| Elapsed Time: 0:00:52 Time:  0:00:52\n"
     ]
    },
    {
     "name": "stdout",
     "output_type": "stream",
     "text": [
      " - final iteration number:  200\n",
      " - final log10 cost value:  -6.751284478500436\n",
      " - converged:  True\n",
      "Done.\n",
      "Execution time:  1632.6227679999429  seconds\n",
      "----------------------------------------\n"
     ]
    },
    {
     "name": "stderr",
     "output_type": "stream",
     "text": [
      "\u001b[33mWARNING\u001b[0m: Making input data immutable.\n"
     ]
    },
    {
     "name": "stdout",
     "output_type": "stream",
     "text": [
      "\n",
      "  _____             ____     _____      _\n",
      " |\" ___|    ___    / __\"| u |_ \" _| U  /\"\\  u\n",
      "U| |_  u   |_\"_|  <\\___ \\/    | |    \\/ _ \\/\n",
      "\\|  _|/     | |    u___) |   /| |\\   / ___ \\\\\n",
      " |_|      U/| |\\u  |____/>> u |_|U  /_/   \\_\\\\\n",
      " )(\\\\\\,-.-,_|___|_,-.)(  (__)_// \\\\\\_  \\\\\\    >>\n",
      "(__)(_/ \\_)-' '-(_/(__)    (__) (__)(__)  (__)\n",
      "    \n",
      " - mu:  4.641588833612773e-09\n",
      " - lipschitz constant:  1.1000000000000727\n",
      " - data:  (640, 368)\n",
      " - wavelet:  <mri.reconstruct.linear.WaveletN object at 0x7fa415799198> - 4\n",
      " - max iterations:  200\n",
      " - image variable shape:  (640, 368)\n",
      " - alpha variable shape:  (235520,)\n",
      "----------------------------------------\n",
      "Starting optimization...\n"
     ]
    },
    {
     "name": "stderr",
     "output_type": "stream",
     "text": [
      "100% (200 of 200) |######################| Elapsed Time: 0:00:50 Time:  0:00:50\n"
     ]
    },
    {
     "name": "stdout",
     "output_type": "stream",
     "text": [
      " - final iteration number:  200\n",
      " - final log10 cost value:  -4.844922377292427\n",
      " - converged:  True\n",
      "Done.\n",
      "Execution time:  1576.844969000027  seconds\n",
      "----------------------------------------\n"
     ]
    },
    {
     "name": "stderr",
     "output_type": "stream",
     "text": [
      "\u001b[33mWARNING\u001b[0m: Making input data immutable.\n"
     ]
    },
    {
     "name": "stdout",
     "output_type": "stream",
     "text": [
      "\n",
      "  _____             ____     _____      _\n",
      " |\" ___|    ___    / __\"| u |_ \" _| U  /\"\\  u\n",
      "U| |_  u   |_\"_|  <\\___ \\/    | |    \\/ _ \\/\n",
      "\\|  _|/     | |    u___) |   /| |\\   / ___ \\\\\n",
      " |_|      U/| |\\u  |____/>> u |_|U  /_/   \\_\\\\\n",
      " )(\\\\\\,-.-,_|___|_,-.)(  (__)_// \\\\\\_  \\\\\\    >>\n",
      "(__)(_/ \\_)-' '-(_/(__)    (__) (__)(__)  (__)\n",
      "    \n",
      " - mu:  4.641588833612773e-09\n",
      " - lipschitz constant:  1.099999999999979\n",
      " - data:  (640, 356)\n",
      " - wavelet:  <mri.reconstruct.linear.WaveletN object at 0x7fa415760978> - 4\n",
      " - max iterations:  200\n",
      " - image variable shape:  (640, 356)\n",
      " - alpha variable shape:  (228080,)\n",
      "----------------------------------------\n",
      "Starting optimization...\n"
     ]
    },
    {
     "name": "stderr",
     "output_type": "stream",
     "text": [
      "100% (200 of 200) |######################| Elapsed Time: 0:00:57 Time:  0:00:57\n"
     ]
    },
    {
     "name": "stdout",
     "output_type": "stream",
     "text": [
      " - final iteration number:  200\n",
      " - final log10 cost value:  -5.087340922392365\n",
      " - converged:  True\n",
      "Done.\n",
      "Execution time:  1759.186457999982  seconds\n",
      "----------------------------------------\n"
     ]
    },
    {
     "name": "stderr",
     "output_type": "stream",
     "text": [
      "\u001b[33mWARNING\u001b[0m: Making input data immutable.\n"
     ]
    },
    {
     "name": "stdout",
     "output_type": "stream",
     "text": [
      "\n",
      "  _____             ____     _____      _\n",
      " |\" ___|    ___    / __\"| u |_ \" _| U  /\"\\  u\n",
      "U| |_  u   |_\"_|  <\\___ \\/    | |    \\/ _ \\/\n",
      "\\|  _|/     | |    u___) |   /| |\\   / ___ \\\\\n",
      " |_|      U/| |\\u  |____/>> u |_|U  /_/   \\_\\\\\n",
      " )(\\\\\\,-.-,_|___|_,-.)(  (__)_// \\\\\\_  \\\\\\    >>\n",
      "(__)(_/ \\_)-' '-(_/(__)    (__) (__)(__)  (__)\n",
      "    \n",
      " - mu:  4.641588833612773e-09\n",
      " - lipschitz constant:  1.1000000000000674\n",
      " - data:  (640, 372)\n",
      " - wavelet:  <mri.reconstruct.linear.WaveletN object at 0x7fa4156f2cc0> - 4\n",
      " - max iterations:  200\n",
      " - image variable shape:  (640, 372)\n",
      " - alpha variable shape:  (238320,)\n",
      "----------------------------------------\n",
      "Starting optimization...\n"
     ]
    },
    {
     "name": "stderr",
     "output_type": "stream",
     "text": [
      "100% (200 of 200) |######################| Elapsed Time: 0:00:52 Time:  0:00:52\n"
     ]
    },
    {
     "name": "stdout",
     "output_type": "stream",
     "text": [
      " - final iteration number:  200\n",
      " - final log10 cost value:  -6.3602559840899096\n",
      " - converged:  True\n",
      "Done.\n",
      "Execution time:  1612.7803430000204  seconds\n",
      "----------------------------------------\n"
     ]
    },
    {
     "name": "stderr",
     "output_type": "stream",
     "text": [
      "\u001b[33mWARNING\u001b[0m: Making input data immutable.\n"
     ]
    },
    {
     "name": "stdout",
     "output_type": "stream",
     "text": [
      "\n",
      "  _____             ____     _____      _\n",
      " |\" ___|    ___    / __\"| u |_ \" _| U  /\"\\  u\n",
      "U| |_  u   |_\"_|  <\\___ \\/    | |    \\/ _ \\/\n",
      "\\|  _|/     | |    u___) |   /| |\\   / ___ \\\\\n",
      " |_|      U/| |\\u  |____/>> u |_|U  /_/   \\_\\\\\n",
      " )(\\\\\\,-.-,_|___|_,-.)(  (__)_// \\\\\\_  \\\\\\    >>\n",
      "(__)(_/ \\_)-' '-(_/(__)    (__) (__)(__)  (__)\n",
      "    \n",
      " - mu:  4.641588833612773e-09\n",
      " - lipschitz constant:  1.0999999999999894\n",
      " - data:  (640, 368)\n",
      " - wavelet:  <mri.reconstruct.linear.WaveletN object at 0x7fa41570e6d8> - 4\n",
      " - max iterations:  200\n",
      " - image variable shape:  (640, 368)\n",
      " - alpha variable shape:  (235520,)\n",
      "----------------------------------------\n",
      "Starting optimization...\n"
     ]
    },
    {
     "name": "stderr",
     "output_type": "stream",
     "text": [
      "100% (200 of 200) |######################| Elapsed Time: 0:00:50 Time:  0:00:50\n"
     ]
    },
    {
     "name": "stdout",
     "output_type": "stream",
     "text": [
      " - final iteration number:  200\n",
      " - final log10 cost value:  -5.518532541051384\n",
      " - converged:  True\n",
      "Done.\n",
      "Execution time:  1597.0265079999808  seconds\n",
      "----------------------------------------\n"
     ]
    },
    {
     "name": "stderr",
     "output_type": "stream",
     "text": [
      "\u001b[33mWARNING\u001b[0m: Making input data immutable.\n"
     ]
    },
    {
     "name": "stdout",
     "output_type": "stream",
     "text": [
      "\n",
      "  _____             ____     _____      _\n",
      " |\" ___|    ___    / __\"| u |_ \" _| U  /\"\\  u\n",
      "U| |_  u   |_\"_|  <\\___ \\/    | |    \\/ _ \\/\n",
      "\\|  _|/     | |    u___) |   /| |\\   / ___ \\\\\n",
      " |_|      U/| |\\u  |____/>> u |_|U  /_/   \\_\\\\\n",
      " )(\\\\\\,-.-,_|___|_,-.)(  (__)_// \\\\\\_  \\\\\\    >>\n",
      "(__)(_/ \\_)-' '-(_/(__)    (__) (__)(__)  (__)\n",
      "    \n",
      " - mu:  4.641588833612773e-09\n",
      " - lipschitz constant:  1.1000000000000827\n",
      " - data:  (640, 372)\n",
      " - wavelet:  <mri.reconstruct.linear.WaveletN object at 0x7fa415738c50> - 4\n",
      " - max iterations:  200\n",
      " - image variable shape:  (640, 372)\n",
      " - alpha variable shape:  (238320,)\n",
      "----------------------------------------\n",
      "Starting optimization...\n"
     ]
    },
    {
     "name": "stderr",
     "output_type": "stream",
     "text": [
      "100% (200 of 200) |######################| Elapsed Time: 0:00:52 Time:  0:00:52\n"
     ]
    },
    {
     "name": "stdout",
     "output_type": "stream",
     "text": [
      " - final iteration number:  200\n",
      " - final log10 cost value:  -6.4364729173497786\n",
      " - converged:  True\n",
      "Done.\n",
      "Execution time:  1635.7316310000024  seconds\n",
      "----------------------------------------\n"
     ]
    },
    {
     "name": "stderr",
     "output_type": "stream",
     "text": [
      "\u001b[33mWARNING\u001b[0m: Making input data immutable.\n"
     ]
    },
    {
     "name": "stdout",
     "output_type": "stream",
     "text": [
      "\n",
      "  _____             ____     _____      _\n",
      " |\" ___|    ___    / __\"| u |_ \" _| U  /\"\\  u\n",
      "U| |_  u   |_\"_|  <\\___ \\/    | |    \\/ _ \\/\n",
      "\\|  _|/     | |    u___) |   /| |\\   / ___ \\\\\n",
      " |_|      U/| |\\u  |____/>> u |_|U  /_/   \\_\\\\\n",
      " )(\\\\\\,-.-,_|___|_,-.)(  (__)_// \\\\\\_  \\\\\\    >>\n",
      "(__)(_/ \\_)-' '-(_/(__)    (__) (__)(__)  (__)\n",
      "    \n",
      " - mu:  4.641588833612773e-09\n",
      " - lipschitz constant:  1.0999999999999848\n",
      " - data:  (640, 368)\n",
      " - wavelet:  <mri.reconstruct.linear.WaveletN object at 0x7fa4157667f0> - 4\n",
      " - max iterations:  200\n",
      " - image variable shape:  (640, 368)\n",
      " - alpha variable shape:  (235520,)\n",
      "----------------------------------------\n",
      "Starting optimization...\n"
     ]
    },
    {
     "name": "stderr",
     "output_type": "stream",
     "text": [
      "100% (200 of 200) |######################| Elapsed Time: 0:00:49 Time:  0:00:49\n"
     ]
    },
    {
     "name": "stdout",
     "output_type": "stream",
     "text": [
      " - final iteration number:  200\n",
      " - final log10 cost value:  -5.236387569293441\n",
      " - converged:  True\n",
      "Done.\n",
      "Execution time:  1577.876419999986  seconds\n",
      "----------------------------------------\n"
     ]
    },
    {
     "name": "stderr",
     "output_type": "stream",
     "text": [
      "\u001b[33mWARNING\u001b[0m: Making input data immutable.\n"
     ]
    },
    {
     "name": "stdout",
     "output_type": "stream",
     "text": [
      "\n",
      "  _____             ____     _____      _\n",
      " |\" ___|    ___    / __\"| u |_ \" _| U  /\"\\  u\n",
      "U| |_  u   |_\"_|  <\\___ \\/    | |    \\/ _ \\/\n",
      "\\|  _|/     | |    u___) |   /| |\\   / ___ \\\\\n",
      " |_|      U/| |\\u  |____/>> u |_|U  /_/   \\_\\\\\n",
      " )(\\\\\\,-.-,_|___|_,-.)(  (__)_// \\\\\\_  \\\\\\    >>\n",
      "(__)(_/ \\_)-' '-(_/(__)    (__) (__)(__)  (__)\n",
      "    \n",
      " - mu:  4.641588833612773e-09\n",
      " - lipschitz constant:  1.099999999999974\n",
      " - data:  (640, 372)\n",
      " - wavelet:  <mri.reconstruct.linear.WaveletN object at 0x7fa41570ea20> - 4\n",
      " - max iterations:  200\n",
      " - image variable shape:  (640, 372)\n",
      " - alpha variable shape:  (238320,)\n",
      "----------------------------------------\n",
      "Starting optimization...\n"
     ]
    },
    {
     "name": "stderr",
     "output_type": "stream",
     "text": [
      "100% (200 of 200) |######################| Elapsed Time: 0:00:51 Time:  0:00:51\n"
     ]
    },
    {
     "name": "stdout",
     "output_type": "stream",
     "text": [
      " - final iteration number:  200\n",
      " - final log10 cost value:  -6.5441157605702776\n",
      " - converged:  True\n",
      "Done.\n",
      "Execution time:  1608.172630999994  seconds\n",
      "----------------------------------------\n"
     ]
    },
    {
     "name": "stderr",
     "output_type": "stream",
     "text": [
      "\u001b[33mWARNING\u001b[0m: Making input data immutable.\n"
     ]
    },
    {
     "name": "stdout",
     "output_type": "stream",
     "text": [
      "\n",
      "  _____             ____     _____      _\n",
      " |\" ___|    ___    / __\"| u |_ \" _| U  /\"\\  u\n",
      "U| |_  u   |_\"_|  <\\___ \\/    | |    \\/ _ \\/\n",
      "\\|  _|/     | |    u___) |   /| |\\   / ___ \\\\\n",
      " |_|      U/| |\\u  |____/>> u |_|U  /_/   \\_\\\\\n",
      " )(\\\\\\,-.-,_|___|_,-.)(  (__)_// \\\\\\_  \\\\\\    >>\n",
      "(__)(_/ \\_)-' '-(_/(__)    (__) (__)(__)  (__)\n",
      "    \n",
      " - mu:  4.641588833612773e-09\n",
      " - lipschitz constant:  1.0999999999999792\n",
      " - data:  (640, 372)\n",
      " - wavelet:  <mri.reconstruct.linear.WaveletN object at 0x7fa41570ee80> - 4\n",
      " - max iterations:  200\n",
      " - image variable shape:  (640, 372)\n",
      " - alpha variable shape:  (238320,)\n",
      "----------------------------------------\n",
      "Starting optimization...\n"
     ]
    },
    {
     "name": "stderr",
     "output_type": "stream",
     "text": [
      "100% (200 of 200) |######################| Elapsed Time: 0:00:51 Time:  0:00:51\n"
     ]
    },
    {
     "name": "stdout",
     "output_type": "stream",
     "text": [
      " - final iteration number:  200\n",
      " - final log10 cost value:  -6.5834764524787275\n",
      " - converged:  True\n",
      "Done.\n",
      "Execution time:  1625.192108999996  seconds\n",
      "----------------------------------------\n"
     ]
    },
    {
     "name": "stderr",
     "output_type": "stream",
     "text": [
      "\u001b[33mWARNING\u001b[0m: Making input data immutable.\n"
     ]
    },
    {
     "name": "stdout",
     "output_type": "stream",
     "text": [
      "\n",
      "  _____             ____     _____      _\n",
      " |\" ___|    ___    / __\"| u |_ \" _| U  /\"\\  u\n",
      "U| |_  u   |_\"_|  <\\___ \\/    | |    \\/ _ \\/\n",
      "\\|  _|/     | |    u___) |   /| |\\   / ___ \\\\\n",
      " |_|      U/| |\\u  |____/>> u |_|U  /_/   \\_\\\\\n",
      " )(\\\\\\,-.-,_|___|_,-.)(  (__)_// \\\\\\_  \\\\\\    >>\n",
      "(__)(_/ \\_)-' '-(_/(__)    (__) (__)(__)  (__)\n",
      "    \n",
      " - mu:  4.641588833612773e-09\n",
      " - lipschitz constant:  1.0999999999999794\n",
      " - data:  (640, 372)\n",
      " - wavelet:  <mri.reconstruct.linear.WaveletN object at 0x7fa415777cc0> - 4\n",
      " - max iterations:  200\n",
      " - image variable shape:  (640, 372)\n",
      " - alpha variable shape:  (238320,)\n",
      "----------------------------------------\n",
      "Starting optimization...\n"
     ]
    },
    {
     "name": "stderr",
     "output_type": "stream",
     "text": [
      "100% (200 of 200) |######################| Elapsed Time: 0:00:52 Time:  0:00:52\n"
     ]
    },
    {
     "name": "stdout",
     "output_type": "stream",
     "text": [
      " - final iteration number:  200\n",
      " - final log10 cost value:  -6.290576893530339\n",
      " - converged:  True\n",
      "Done.\n",
      "Execution time:  1646.2072530000005  seconds\n",
      "----------------------------------------\n"
     ]
    },
    {
     "name": "stderr",
     "output_type": "stream",
     "text": [
      "\u001b[33mWARNING\u001b[0m: Making input data immutable.\n"
     ]
    },
    {
     "name": "stdout",
     "output_type": "stream",
     "text": [
      "\n",
      "  _____             ____     _____      _\n",
      " |\" ___|    ___    / __\"| u |_ \" _| U  /\"\\  u\n",
      "U| |_  u   |_\"_|  <\\___ \\/    | |    \\/ _ \\/\n",
      "\\|  _|/     | |    u___) |   /| |\\   / ___ \\\\\n",
      " |_|      U/| |\\u  |____/>> u |_|U  /_/   \\_\\\\\n",
      " )(\\\\\\,-.-,_|___|_,-.)(  (__)_// \\\\\\_  \\\\\\    >>\n",
      "(__)(_/ \\_)-' '-(_/(__)    (__) (__)(__)  (__)\n",
      "    \n",
      " - mu:  4.641588833612773e-09\n",
      " - lipschitz constant:  1.0999999999999763\n",
      " - data:  (640, 368)\n",
      " - wavelet:  <mri.reconstruct.linear.WaveletN object at 0x7fa415777d30> - 4\n",
      " - max iterations:  200\n",
      " - image variable shape:  (640, 368)\n",
      " - alpha variable shape:  (235520,)\n",
      "----------------------------------------\n",
      "Starting optimization...\n"
     ]
    },
    {
     "name": "stderr",
     "output_type": "stream",
     "text": [
      "100% (200 of 200) |######################| Elapsed Time: 0:00:50 Time:  0:00:50\n"
     ]
    },
    {
     "name": "stdout",
     "output_type": "stream",
     "text": [
      " - final iteration number:  200\n",
      " - final log10 cost value:  -5.541294653337418\n",
      " - converged:  True\n",
      "Done.\n",
      "Execution time:  1606.8117590000038  seconds\n",
      "----------------------------------------\n"
     ]
    },
    {
     "name": "stderr",
     "output_type": "stream",
     "text": [
      "\u001b[33mWARNING\u001b[0m: Making input data immutable.\n"
     ]
    },
    {
     "name": "stdout",
     "output_type": "stream",
     "text": [
      "\n",
      "  _____             ____     _____      _\n",
      " |\" ___|    ___    / __\"| u |_ \" _| U  /\"\\  u\n",
      "U| |_  u   |_\"_|  <\\___ \\/    | |    \\/ _ \\/\n",
      "\\|  _|/     | |    u___) |   /| |\\   / ___ \\\\\n",
      " |_|      U/| |\\u  |____/>> u |_|U  /_/   \\_\\\\\n",
      " )(\\\\\\,-.-,_|___|_,-.)(  (__)_// \\\\\\_  \\\\\\    >>\n",
      "(__)(_/ \\_)-' '-(_/(__)    (__) (__)(__)  (__)\n",
      "    \n",
      " - mu:  4.641588833612773e-09\n",
      " - lipschitz constant:  1.0999999999999845\n",
      " - data:  (640, 368)\n",
      " - wavelet:  <mri.reconstruct.linear.WaveletN object at 0x7fa415720940> - 4\n",
      " - max iterations:  200\n",
      " - image variable shape:  (640, 368)\n",
      " - alpha variable shape:  (235520,)\n",
      "----------------------------------------\n",
      "Starting optimization...\n"
     ]
    },
    {
     "name": "stderr",
     "output_type": "stream",
     "text": [
      "100% (200 of 200) |######################| Elapsed Time: 0:00:50 Time:  0:00:50\n"
     ]
    },
    {
     "name": "stdout",
     "output_type": "stream",
     "text": [
      " - final iteration number:  200\n",
      " - final log10 cost value:  -5.362003193738225\n",
      " - converged:  True\n",
      "Done.\n",
      "Execution time:  1620.477665000013  seconds\n",
      "----------------------------------------\n"
     ]
    },
    {
     "name": "stderr",
     "output_type": "stream",
     "text": [
      "\u001b[33mWARNING\u001b[0m: Making input data immutable.\n"
     ]
    },
    {
     "name": "stdout",
     "output_type": "stream",
     "text": [
      "\n",
      "  _____             ____     _____      _\n",
      " |\" ___|    ___    / __\"| u |_ \" _| U  /\"\\  u\n",
      "U| |_  u   |_\"_|  <\\___ \\/    | |    \\/ _ \\/\n",
      "\\|  _|/     | |    u___) |   /| |\\   / ___ \\\\\n",
      " |_|      U/| |\\u  |____/>> u |_|U  /_/   \\_\\\\\n",
      " )(\\\\\\,-.-,_|___|_,-.)(  (__)_// \\\\\\_  \\\\\\    >>\n",
      "(__)(_/ \\_)-' '-(_/(__)    (__) (__)(__)  (__)\n",
      "    \n",
      " - mu:  4.641588833612773e-09\n",
      " - lipschitz constant:  1.0999999999999819\n",
      " - data:  (640, 368)\n",
      " - wavelet:  <mri.reconstruct.linear.WaveletN object at 0x7fa4157207f0> - 4\n",
      " - max iterations:  200\n",
      " - image variable shape:  (640, 368)\n",
      " - alpha variable shape:  (235520,)\n",
      "----------------------------------------\n",
      "Starting optimization...\n"
     ]
    },
    {
     "name": "stderr",
     "output_type": "stream",
     "text": [
      "100% (200 of 200) |######################| Elapsed Time: 0:00:50 Time:  0:00:50\n"
     ]
    },
    {
     "name": "stdout",
     "output_type": "stream",
     "text": [
      " - final iteration number:  200\n",
      " - final log10 cost value:  -5.833673268981418\n",
      " - converged:  True\n",
      "Done.\n",
      "Execution time:  1585.3495040000416  seconds\n",
      "----------------------------------------\n"
     ]
    },
    {
     "name": "stderr",
     "output_type": "stream",
     "text": [
      "\u001b[33mWARNING\u001b[0m: Making input data immutable.\n"
     ]
    },
    {
     "name": "stdout",
     "output_type": "stream",
     "text": [
      "\n",
      "  _____             ____     _____      _\n",
      " |\" ___|    ___    / __\"| u |_ \" _| U  /\"\\  u\n",
      "U| |_  u   |_\"_|  <\\___ \\/    | |    \\/ _ \\/\n",
      "\\|  _|/     | |    u___) |   /| |\\   / ___ \\\\\n",
      " |_|      U/| |\\u  |____/>> u |_|U  /_/   \\_\\\\\n",
      " )(\\\\\\,-.-,_|___|_,-.)(  (__)_// \\\\\\_  \\\\\\    >>\n",
      "(__)(_/ \\_)-' '-(_/(__)    (__) (__)(__)  (__)\n",
      "    \n",
      " - mu:  4.641588833612773e-09\n",
      " - lipschitz constant:  1.0999999999999803\n",
      " - data:  (640, 368)\n",
      " - wavelet:  <mri.reconstruct.linear.WaveletN object at 0x7fa4157661d0> - 4\n",
      " - max iterations:  200\n",
      " - image variable shape:  (640, 368)\n",
      " - alpha variable shape:  (235520,)\n",
      "----------------------------------------\n",
      "Starting optimization...\n"
     ]
    },
    {
     "name": "stderr",
     "output_type": "stream",
     "text": [
      "100% (200 of 200) |######################| Elapsed Time: 0:00:49 Time:  0:00:49\n"
     ]
    },
    {
     "name": "stdout",
     "output_type": "stream",
     "text": [
      " - final iteration number:  200\n",
      " - final log10 cost value:  -4.606205340410237\n",
      " - converged:  True\n",
      "Done.\n",
      "Execution time:  1580.4049879999948  seconds\n",
      "----------------------------------------\n"
     ]
    },
    {
     "name": "stderr",
     "output_type": "stream",
     "text": [
      "\u001b[33mWARNING\u001b[0m: Making input data immutable.\n"
     ]
    },
    {
     "name": "stdout",
     "output_type": "stream",
     "text": [
      "\n",
      "  _____             ____     _____      _\n",
      " |\" ___|    ___    / __\"| u |_ \" _| U  /\"\\  u\n",
      "U| |_  u   |_\"_|  <\\___ \\/    | |    \\/ _ \\/\n",
      "\\|  _|/     | |    u___) |   /| |\\   / ___ \\\\\n",
      " |_|      U/| |\\u  |____/>> u |_|U  /_/   \\_\\\\\n",
      " )(\\\\\\,-.-,_|___|_,-.)(  (__)_// \\\\\\_  \\\\\\    >>\n",
      "(__)(_/ \\_)-' '-(_/(__)    (__) (__)(__)  (__)\n",
      "    \n",
      " - mu:  4.641588833612773e-09\n",
      " - lipschitz constant:  1.0999999999999759\n",
      " - data:  (640, 368)\n",
      " - wavelet:  <mri.reconstruct.linear.WaveletN object at 0x7fa415738c50> - 4\n",
      " - max iterations:  200\n",
      " - image variable shape:  (640, 368)\n",
      " - alpha variable shape:  (235520,)\n",
      "----------------------------------------\n",
      "Starting optimization...\n"
     ]
    },
    {
     "name": "stderr",
     "output_type": "stream",
     "text": [
      "100% (200 of 200) |######################| Elapsed Time: 0:00:50 Time:  0:00:50\n"
     ]
    },
    {
     "name": "stdout",
     "output_type": "stream",
     "text": [
      " - final iteration number:  200\n",
      " - final log10 cost value:  -4.821846752923392\n",
      " - converged:  True\n",
      "Done.\n",
      "Execution time:  1603.058098999958  seconds\n",
      "----------------------------------------\n"
     ]
    },
    {
     "name": "stderr",
     "output_type": "stream",
     "text": [
      "\u001b[33mWARNING\u001b[0m: Making input data immutable.\n"
     ]
    },
    {
     "name": "stdout",
     "output_type": "stream",
     "text": [
      "\n",
      "  _____             ____     _____      _\n",
      " |\" ___|    ___    / __\"| u |_ \" _| U  /\"\\  u\n",
      "U| |_  u   |_\"_|  <\\___ \\/    | |    \\/ _ \\/\n",
      "\\|  _|/     | |    u___) |   /| |\\   / ___ \\\\\n",
      " |_|      U/| |\\u  |____/>> u |_|U  /_/   \\_\\\\\n",
      " )(\\\\\\,-.-,_|___|_,-.)(  (__)_// \\\\\\_  \\\\\\    >>\n",
      "(__)(_/ \\_)-' '-(_/(__)    (__) (__)(__)  (__)\n",
      "    \n",
      " - mu:  4.641588833612773e-09\n",
      " - lipschitz constant:  1.0999999999999832\n",
      " - data:  (640, 368)\n",
      " - wavelet:  <mri.reconstruct.linear.WaveletN object at 0x7fa41578e240> - 4\n",
      " - max iterations:  200\n",
      " - image variable shape:  (640, 368)\n",
      " - alpha variable shape:  (235520,)\n",
      "----------------------------------------\n",
      "Starting optimization...\n"
     ]
    },
    {
     "name": "stderr",
     "output_type": "stream",
     "text": [
      "100% (200 of 200) |######################| Elapsed Time: 0:00:50 Time:  0:00:50\n"
     ]
    },
    {
     "name": "stdout",
     "output_type": "stream",
     "text": [
      " - final iteration number:  200\n",
      " - final log10 cost value:  -5.716499455646329\n",
      " - converged:  True\n",
      "Done.\n",
      "Execution time:  1596.475043000013  seconds\n",
      "----------------------------------------\n"
     ]
    },
    {
     "name": "stderr",
     "output_type": "stream",
     "text": [
      "\u001b[33mWARNING\u001b[0m: Making input data immutable.\n"
     ]
    },
    {
     "name": "stdout",
     "output_type": "stream",
     "text": [
      "\n",
      "  _____             ____     _____      _\n",
      " |\" ___|    ___    / __\"| u |_ \" _| U  /\"\\  u\n",
      "U| |_  u   |_\"_|  <\\___ \\/    | |    \\/ _ \\/\n",
      "\\|  _|/     | |    u___) |   /| |\\   / ___ \\\\\n",
      " |_|      U/| |\\u  |____/>> u |_|U  /_/   \\_\\\\\n",
      " )(\\\\\\,-.-,_|___|_,-.)(  (__)_// \\\\\\_  \\\\\\    >>\n",
      "(__)(_/ \\_)-' '-(_/(__)    (__) (__)(__)  (__)\n",
      "    \n",
      " - mu:  4.641588833612773e-09\n",
      " - lipschitz constant:  1.0999999999999865\n",
      " - data:  (640, 368)\n",
      " - wavelet:  <mri.reconstruct.linear.WaveletN object at 0x7fa41570ed30> - 4\n",
      " - max iterations:  200\n",
      " - image variable shape:  (640, 368)\n",
      " - alpha variable shape:  (235520,)\n",
      "----------------------------------------\n",
      "Starting optimization...\n"
     ]
    },
    {
     "name": "stderr",
     "output_type": "stream",
     "text": [
      "100% (200 of 200) |######################| Elapsed Time: 0:00:49 Time:  0:00:49\n"
     ]
    },
    {
     "name": "stdout",
     "output_type": "stream",
     "text": [
      " - final iteration number:  200\n",
      " - final log10 cost value:  -5.123280891072524\n",
      " - converged:  True\n",
      "Done.\n",
      "Execution time:  1609.8110369999777  seconds\n",
      "----------------------------------------\n"
     ]
    },
    {
     "name": "stderr",
     "output_type": "stream",
     "text": [
      "\u001b[33mWARNING\u001b[0m: Making input data immutable.\n"
     ]
    },
    {
     "name": "stdout",
     "output_type": "stream",
     "text": [
      "\n",
      "  _____             ____     _____      _\n",
      " |\" ___|    ___    / __\"| u |_ \" _| U  /\"\\  u\n",
      "U| |_  u   |_\"_|  <\\___ \\/    | |    \\/ _ \\/\n",
      "\\|  _|/     | |    u___) |   /| |\\   / ___ \\\\\n",
      " |_|      U/| |\\u  |____/>> u |_|U  /_/   \\_\\\\\n",
      " )(\\\\\\,-.-,_|___|_,-.)(  (__)_// \\\\\\_  \\\\\\    >>\n",
      "(__)(_/ \\_)-' '-(_/(__)    (__) (__)(__)  (__)\n",
      "    \n",
      " - mu:  4.641588833612773e-09\n",
      " - lipschitz constant:  1.10000000000003\n",
      " - data:  (640, 372)\n",
      " - wavelet:  <mri.reconstruct.linear.WaveletN object at 0x7fa415760e48> - 4\n",
      " - max iterations:  200\n",
      " - image variable shape:  (640, 372)\n",
      " - alpha variable shape:  (238320,)\n",
      "----------------------------------------\n",
      "Starting optimization...\n"
     ]
    },
    {
     "name": "stderr",
     "output_type": "stream",
     "text": [
      "100% (200 of 200) |######################| Elapsed Time: 0:00:51 Time:  0:00:51\n"
     ]
    },
    {
     "name": "stdout",
     "output_type": "stream",
     "text": [
      " - final iteration number:  200\n",
      " - final log10 cost value:  -6.355481142618463\n",
      " - converged:  True\n",
      "Done.\n",
      "Execution time:  1623.3321949999663  seconds\n",
      "----------------------------------------\n"
     ]
    },
    {
     "name": "stderr",
     "output_type": "stream",
     "text": [
      "\u001b[33mWARNING\u001b[0m: Making input data immutable.\n"
     ]
    },
    {
     "name": "stdout",
     "output_type": "stream",
     "text": [
      "\n",
      "  _____             ____     _____      _\n",
      " |\" ___|    ___    / __\"| u |_ \" _| U  /\"\\  u\n",
      "U| |_  u   |_\"_|  <\\___ \\/    | |    \\/ _ \\/\n",
      "\\|  _|/     | |    u___) |   /| |\\   / ___ \\\\\n",
      " |_|      U/| |\\u  |____/>> u |_|U  /_/   \\_\\\\\n",
      " )(\\\\\\,-.-,_|___|_,-.)(  (__)_// \\\\\\_  \\\\\\    >>\n",
      "(__)(_/ \\_)-' '-(_/(__)    (__) (__)(__)  (__)\n",
      "    \n",
      " - mu:  4.641588833612773e-09\n",
      " - lipschitz constant:  1.099999999999977\n",
      " - data:  (640, 372)\n",
      " - wavelet:  <mri.reconstruct.linear.WaveletN object at 0x7fa4157667f0> - 4\n",
      " - max iterations:  200\n",
      " - image variable shape:  (640, 372)\n",
      " - alpha variable shape:  (238320,)\n",
      "----------------------------------------\n",
      "Starting optimization...\n"
     ]
    },
    {
     "name": "stderr",
     "output_type": "stream",
     "text": [
      "100% (200 of 200) |######################| Elapsed Time: 0:00:52 Time:  0:00:52\n"
     ]
    },
    {
     "name": "stdout",
     "output_type": "stream",
     "text": [
      " - final iteration number:  200\n",
      " - final log10 cost value:  -6.226597954238462\n",
      " - converged:  True\n",
      "Done.\n",
      "Execution time:  1626.8657670000102  seconds\n",
      "----------------------------------------\n"
     ]
    },
    {
     "name": "stderr",
     "output_type": "stream",
     "text": [
      "\u001b[33mWARNING\u001b[0m: Making input data immutable.\n"
     ]
    },
    {
     "name": "stdout",
     "output_type": "stream",
     "text": [
      "\n",
      "  _____             ____     _____      _\n",
      " |\" ___|    ___    / __\"| u |_ \" _| U  /\"\\  u\n",
      "U| |_  u   |_\"_|  <\\___ \\/    | |    \\/ _ \\/\n",
      "\\|  _|/     | |    u___) |   /| |\\   / ___ \\\\\n",
      " |_|      U/| |\\u  |____/>> u |_|U  /_/   \\_\\\\\n",
      " )(\\\\\\,-.-,_|___|_,-.)(  (__)_// \\\\\\_  \\\\\\    >>\n",
      "(__)(_/ \\_)-' '-(_/(__)    (__) (__)(__)  (__)\n",
      "    \n",
      " - mu:  4.641588833612773e-09\n",
      " - lipschitz constant:  1.0999999999999854\n",
      " - data:  (640, 368)\n",
      " - wavelet:  <mri.reconstruct.linear.WaveletN object at 0x7fa415799fd0> - 4\n",
      " - max iterations:  200\n",
      " - image variable shape:  (640, 368)\n",
      " - alpha variable shape:  (235520,)\n",
      "----------------------------------------\n",
      "Starting optimization...\n"
     ]
    },
    {
     "name": "stderr",
     "output_type": "stream",
     "text": [
      "100% (200 of 200) |######################| Elapsed Time: 0:00:50 Time:  0:00:50\n"
     ]
    },
    {
     "name": "stdout",
     "output_type": "stream",
     "text": [
      " - final iteration number:  200\n",
      " - final log10 cost value:  -5.228911639193204\n",
      " - converged:  True\n",
      "Done.\n",
      "Execution time:  1599.017441999982  seconds\n",
      "----------------------------------------\n"
     ]
    },
    {
     "name": "stderr",
     "output_type": "stream",
     "text": [
      "\u001b[33mWARNING\u001b[0m: Making input data immutable.\n"
     ]
    },
    {
     "name": "stdout",
     "output_type": "stream",
     "text": [
      "\n",
      "  _____             ____     _____      _\n",
      " |\" ___|    ___    / __\"| u |_ \" _| U  /\"\\  u\n",
      "U| |_  u   |_\"_|  <\\___ \\/    | |    \\/ _ \\/\n",
      "\\|  _|/     | |    u___) |   /| |\\   / ___ \\\\\n",
      " |_|      U/| |\\u  |____/>> u |_|U  /_/   \\_\\\\\n",
      " )(\\\\\\,-.-,_|___|_,-.)(  (__)_// \\\\\\_  \\\\\\    >>\n",
      "(__)(_/ \\_)-' '-(_/(__)    (__) (__)(__)  (__)\n",
      "    \n",
      " - mu:  4.641588833612773e-09\n",
      " - lipschitz constant:  1.0999999999999812\n",
      " - data:  (640, 368)\n",
      " - wavelet:  <mri.reconstruct.linear.WaveletN object at 0x7fa4156f2208> - 4\n",
      " - max iterations:  200\n",
      " - image variable shape:  (640, 368)\n",
      " - alpha variable shape:  (235520,)\n",
      "----------------------------------------\n",
      "Starting optimization...\n"
     ]
    },
    {
     "name": "stderr",
     "output_type": "stream",
     "text": [
      "100% (200 of 200) |######################| Elapsed Time: 0:00:49 Time:  0:00:49\n"
     ]
    },
    {
     "name": "stdout",
     "output_type": "stream",
     "text": [
      " - final iteration number:  200\n",
      " - final log10 cost value:  -5.597729481847598\n",
      " - converged:  True\n",
      "Done.\n",
      "Execution time:  1580.133559000038  seconds\n",
      "----------------------------------------\n"
     ]
    },
    {
     "name": "stderr",
     "output_type": "stream",
     "text": [
      "\u001b[33mWARNING\u001b[0m: Making input data immutable.\n"
     ]
    },
    {
     "name": "stdout",
     "output_type": "stream",
     "text": [
      "\n",
      "  _____             ____     _____      _\n",
      " |\" ___|    ___    / __\"| u |_ \" _| U  /\"\\  u\n",
      "U| |_  u   |_\"_|  <\\___ \\/    | |    \\/ _ \\/\n",
      "\\|  _|/     | |    u___) |   /| |\\   / ___ \\\\\n",
      " |_|      U/| |\\u  |____/>> u |_|U  /_/   \\_\\\\\n",
      " )(\\\\\\,-.-,_|___|_,-.)(  (__)_// \\\\\\_  \\\\\\    >>\n",
      "(__)(_/ \\_)-' '-(_/(__)    (__) (__)(__)  (__)\n",
      "    \n",
      " - mu:  4.641588833612773e-09\n",
      " - lipschitz constant:  1.0999999999999774\n",
      " - data:  (640, 368)\n",
      " - wavelet:  <mri.reconstruct.linear.WaveletN object at 0x7fa4157661d0> - 4\n",
      " - max iterations:  200\n",
      " - image variable shape:  (640, 368)\n",
      " - alpha variable shape:  (235520,)\n",
      "----------------------------------------\n",
      "Starting optimization...\n"
     ]
    },
    {
     "name": "stderr",
     "output_type": "stream",
     "text": [
      "100% (200 of 200) |######################| Elapsed Time: 0:00:49 Time:  0:00:49\n"
     ]
    },
    {
     "name": "stdout",
     "output_type": "stream",
     "text": [
      " - final iteration number:  200\n",
      " - final log10 cost value:  -4.851355209946308\n",
      " - converged:  True\n",
      "Done.\n",
      "Execution time:  1598.2965030000196  seconds\n",
      "----------------------------------------\n"
     ]
    },
    {
     "name": "stderr",
     "output_type": "stream",
     "text": [
      "\u001b[33mWARNING\u001b[0m: Making input data immutable.\n"
     ]
    },
    {
     "name": "stdout",
     "output_type": "stream",
     "text": [
      "\n",
      "  _____             ____     _____      _\n",
      " |\" ___|    ___    / __\"| u |_ \" _| U  /\"\\  u\n",
      "U| |_  u   |_\"_|  <\\___ \\/    | |    \\/ _ \\/\n",
      "\\|  _|/     | |    u___) |   /| |\\   / ___ \\\\\n",
      " |_|      U/| |\\u  |____/>> u |_|U  /_/   \\_\\\\\n",
      " )(\\\\\\,-.-,_|___|_,-.)(  (__)_// \\\\\\_  \\\\\\    >>\n",
      "(__)(_/ \\_)-' '-(_/(__)    (__) (__)(__)  (__)\n",
      "    \n",
      " - mu:  4.641588833612773e-09\n",
      " - lipschitz constant:  1.1000000000001473\n",
      " - data:  (640, 368)\n",
      " - wavelet:  <mri.reconstruct.linear.WaveletN object at 0x7fa4157607b8> - 4\n",
      " - max iterations:  200\n",
      " - image variable shape:  (640, 368)\n",
      " - alpha variable shape:  (235520,)\n",
      "----------------------------------------\n",
      "Starting optimization...\n"
     ]
    },
    {
     "name": "stderr",
     "output_type": "stream",
     "text": [
      "100% (200 of 200) |######################| Elapsed Time: 0:00:49 Time:  0:00:49\n"
     ]
    },
    {
     "name": "stdout",
     "output_type": "stream",
     "text": [
      " - final iteration number:  200\n",
      " - final log10 cost value:  -5.620859431243074\n",
      " - converged:  True\n",
      "Done.\n",
      "Execution time:  1583.0785339999711  seconds\n",
      "----------------------------------------\n",
      "\n"
     ]
    },
    {
     "data": {
      "application/vnd.jupyter.widget-view+json": {
       "model_id": "cfeaf136e00d487c9cd38aae5defe42b",
       "version_major": 2,
       "version_minor": 0
      },
      "text/plain": [
       "HBox(children=(FloatProgress(value=0.0, description='Stats', max=24.0, style=ProgressStyle(description_width='…"
      ]
     },
     "metadata": {},
     "output_type": "display_data"
    },
    {
     "name": "stdout",
     "output_type": "stream",
     "text": [
      "\n"
     ]
    },
    {
     "data": {
      "application/vnd.jupyter.widget-view+json": {
       "model_id": "d4134a2631c54c4d8a9eb92f74195f86",
       "version_major": 2,
       "version_minor": 0
      },
      "text/plain": [
       "HBox(children=(FloatProgress(value=0.0, description='K-spaces', max=24.0, style=ProgressStyle(description_widt…"
      ]
     },
     "metadata": {},
     "output_type": "display_data"
    },
    {
     "name": "stderr",
     "output_type": "stream",
     "text": [
      "\u001b[33mWARNING\u001b[0m: Making input data immutable.\n"
     ]
    },
    {
     "name": "stdout",
     "output_type": "stream",
     "text": [
      "\n",
      "  _____             ____     _____      _\n",
      " |\" ___|    ___    / __\"| u |_ \" _| U  /\"\\  u\n",
      "U| |_  u   |_\"_|  <\\___ \\/    | |    \\/ _ \\/\n",
      "\\|  _|/     | |    u___) |   /| |\\   / ___ \\\\\n",
      " |_|      U/| |\\u  |____/>> u |_|U  /_/   \\_\\\\\n",
      " )(\\\\\\,-.-,_|___|_,-.)(  (__)_// \\\\\\_  \\\\\\    >>\n",
      "(__)(_/ \\_)-' '-(_/(__)    (__) (__)(__)  (__)\n",
      "    \n",
      " - mu:  1e-08\n",
      " - lipschitz constant:  1.0999999999999746\n",
      " - data:  (640, 372)\n",
      " - wavelet:  <mri.reconstruct.linear.WaveletN object at 0x7fa415760198> - 4\n",
      " - max iterations:  200\n",
      " - image variable shape:  (640, 372)\n",
      " - alpha variable shape:  (238320,)\n",
      "----------------------------------------\n",
      "Starting optimization...\n"
     ]
    },
    {
     "name": "stderr",
     "output_type": "stream",
     "text": [
      "100% (200 of 200) |######################| Elapsed Time: 0:00:52 Time:  0:00:52\n"
     ]
    },
    {
     "name": "stdout",
     "output_type": "stream",
     "text": [
      " - final iteration number:  200\n",
      " - final log10 cost value:  -6.296078064481873\n",
      " - converged:  True\n",
      "Done.\n",
      "Execution time:  1618.9475169999641  seconds\n",
      "----------------------------------------\n"
     ]
    },
    {
     "name": "stderr",
     "output_type": "stream",
     "text": [
      "\u001b[33mWARNING\u001b[0m: Making input data immutable.\n"
     ]
    },
    {
     "name": "stdout",
     "output_type": "stream",
     "text": [
      "\n",
      "  _____             ____     _____      _\n",
      " |\" ___|    ___    / __\"| u |_ \" _| U  /\"\\  u\n",
      "U| |_  u   |_\"_|  <\\___ \\/    | |    \\/ _ \\/\n",
      "\\|  _|/     | |    u___) |   /| |\\   / ___ \\\\\n",
      " |_|      U/| |\\u  |____/>> u |_|U  /_/   \\_\\\\\n",
      " )(\\\\\\,-.-,_|___|_,-.)(  (__)_// \\\\\\_  \\\\\\    >>\n",
      "(__)(_/ \\_)-' '-(_/(__)    (__) (__)(__)  (__)\n",
      "    \n",
      " - mu:  1e-08\n",
      " - lipschitz constant:  1.1000000000000685\n",
      " - data:  (640, 368)\n",
      " - wavelet:  <mri.reconstruct.linear.WaveletN object at 0x7fa415720c50> - 4\n",
      " - max iterations:  200\n",
      " - image variable shape:  (640, 368)\n",
      " - alpha variable shape:  (235520,)\n",
      "----------------------------------------\n",
      "Starting optimization...\n"
     ]
    },
    {
     "name": "stderr",
     "output_type": "stream",
     "text": [
      "100% (200 of 200) |######################| Elapsed Time: 0:00:50 Time:  0:00:50\n"
     ]
    },
    {
     "name": "stdout",
     "output_type": "stream",
     "text": [
      " - final iteration number:  200\n",
      " - final log10 cost value:  -5.7442697482873255\n",
      " - converged:  True\n",
      "Done.\n",
      "Execution time:  1577.5587280000327  seconds\n",
      "----------------------------------------\n"
     ]
    },
    {
     "name": "stderr",
     "output_type": "stream",
     "text": [
      "\u001b[33mWARNING\u001b[0m: Making input data immutable.\n"
     ]
    },
    {
     "name": "stdout",
     "output_type": "stream",
     "text": [
      "\n",
      "  _____             ____     _____      _\n",
      " |\" ___|    ___    / __\"| u |_ \" _| U  /\"\\  u\n",
      "U| |_  u   |_\"_|  <\\___ \\/    | |    \\/ _ \\/\n",
      "\\|  _|/     | |    u___) |   /| |\\   / ___ \\\\\n",
      " |_|      U/| |\\u  |____/>> u |_|U  /_/   \\_\\\\\n",
      " )(\\\\\\,-.-,_|___|_,-.)(  (__)_// \\\\\\_  \\\\\\    >>\n",
      "(__)(_/ \\_)-' '-(_/(__)    (__) (__)(__)  (__)\n",
      "    \n",
      " - mu:  1e-08\n",
      " - lipschitz constant:  1.1000000000000336\n",
      " - data:  (640, 368)\n",
      " - wavelet:  <mri.reconstruct.linear.WaveletN object at 0x7fa415738f98> - 4\n",
      " - max iterations:  200\n",
      " - image variable shape:  (640, 368)\n",
      " - alpha variable shape:  (235520,)\n",
      "----------------------------------------\n",
      "Starting optimization...\n"
     ]
    },
    {
     "name": "stderr",
     "output_type": "stream",
     "text": [
      "100% (200 of 200) |######################| Elapsed Time: 0:00:49 Time:  0:00:49\n"
     ]
    },
    {
     "name": "stdout",
     "output_type": "stream",
     "text": [
      " - final iteration number:  200\n",
      " - final log10 cost value:  -5.64227570493377\n",
      " - converged:  True\n",
      "Done.\n",
      "Execution time:  1586.3604129999876  seconds\n",
      "----------------------------------------\n"
     ]
    },
    {
     "name": "stderr",
     "output_type": "stream",
     "text": [
      "\u001b[33mWARNING\u001b[0m: Making input data immutable.\n"
     ]
    },
    {
     "name": "stdout",
     "output_type": "stream",
     "text": [
      "\n",
      "  _____             ____     _____      _\n",
      " |\" ___|    ___    / __\"| u |_ \" _| U  /\"\\  u\n",
      "U| |_  u   |_\"_|  <\\___ \\/    | |    \\/ _ \\/\n",
      "\\|  _|/     | |    u___) |   /| |\\   / ___ \\\\\n",
      " |_|      U/| |\\u  |____/>> u |_|U  /_/   \\_\\\\\n",
      " )(\\\\\\,-.-,_|___|_,-.)(  (__)_// \\\\\\_  \\\\\\    >>\n",
      "(__)(_/ \\_)-' '-(_/(__)    (__) (__)(__)  (__)\n",
      "    \n",
      " - mu:  1e-08\n",
      " - lipschitz constant:  1.0999999999999877\n",
      " - data:  (640, 368)\n",
      " - wavelet:  <mri.reconstruct.linear.WaveletN object at 0x7fa41570e828> - 4\n",
      " - max iterations:  200\n",
      " - image variable shape:  (640, 368)\n",
      " - alpha variable shape:  (235520,)\n",
      "----------------------------------------\n",
      "Starting optimization...\n"
     ]
    },
    {
     "name": "stderr",
     "output_type": "stream",
     "text": [
      "100% (200 of 200) |######################| Elapsed Time: 0:00:49 Time:  0:00:49\n"
     ]
    },
    {
     "name": "stdout",
     "output_type": "stream",
     "text": [
      " - final iteration number:  200\n",
      " - final log10 cost value:  -5.011754855011911\n",
      " - converged:  True\n",
      "Done.\n",
      "Execution time:  1582.466281000001  seconds\n",
      "----------------------------------------\n"
     ]
    },
    {
     "name": "stderr",
     "output_type": "stream",
     "text": [
      "\u001b[33mWARNING\u001b[0m: Making input data immutable.\n"
     ]
    },
    {
     "name": "stdout",
     "output_type": "stream",
     "text": [
      "\n",
      "  _____             ____     _____      _\n",
      " |\" ___|    ___    / __\"| u |_ \" _| U  /\"\\  u\n",
      "U| |_  u   |_\"_|  <\\___ \\/    | |    \\/ _ \\/\n",
      "\\|  _|/     | |    u___) |   /| |\\   / ___ \\\\\n",
      " |_|      U/| |\\u  |____/>> u |_|U  /_/   \\_\\\\\n",
      " )(\\\\\\,-.-,_|___|_,-.)(  (__)_// \\\\\\_  \\\\\\    >>\n",
      "(__)(_/ \\_)-' '-(_/(__)    (__) (__)(__)  (__)\n",
      "    \n",
      " - mu:  1e-08\n",
      " - lipschitz constant:  1.100000000000073\n",
      " - data:  (640, 372)\n",
      " - wavelet:  <mri.reconstruct.linear.WaveletN object at 0x7fa415738c50> - 4\n",
      " - max iterations:  200\n",
      " - image variable shape:  (640, 372)\n",
      " - alpha variable shape:  (238320,)\n",
      "----------------------------------------\n",
      "Starting optimization...\n"
     ]
    },
    {
     "name": "stderr",
     "output_type": "stream",
     "text": [
      "100% (200 of 200) |######################| Elapsed Time: 0:00:51 Time:  0:00:51\n"
     ]
    },
    {
     "name": "stdout",
     "output_type": "stream",
     "text": [
      " - final iteration number:  200\n",
      " - final log10 cost value:  -6.281556028523493\n",
      " - converged:  True\n",
      "Done.\n",
      "Execution time:  1628.8736799999606  seconds\n",
      "----------------------------------------\n"
     ]
    },
    {
     "name": "stderr",
     "output_type": "stream",
     "text": [
      "\u001b[33mWARNING\u001b[0m: Making input data immutable.\n"
     ]
    },
    {
     "name": "stdout",
     "output_type": "stream",
     "text": [
      "\n",
      "  _____             ____     _____      _\n",
      " |\" ___|    ___    / __\"| u |_ \" _| U  /\"\\  u\n",
      "U| |_  u   |_\"_|  <\\___ \\/    | |    \\/ _ \\/\n",
      "\\|  _|/     | |    u___) |   /| |\\   / ___ \\\\\n",
      " |_|      U/| |\\u  |____/>> u |_|U  /_/   \\_\\\\\n",
      " )(\\\\\\,-.-,_|___|_,-.)(  (__)_// \\\\\\_  \\\\\\    >>\n",
      "(__)(_/ \\_)-' '-(_/(__)    (__) (__)(__)  (__)\n",
      "    \n",
      " - mu:  1e-08\n",
      " - lipschitz constant:  1.0999999999999788\n",
      " - data:  (640, 368)\n",
      " - wavelet:  <mri.reconstruct.linear.WaveletN object at 0x7fa41570e940> - 4\n",
      " - max iterations:  200\n",
      " - image variable shape:  (640, 368)\n",
      " - alpha variable shape:  (235520,)\n",
      "----------------------------------------\n",
      "Starting optimization...\n"
     ]
    },
    {
     "name": "stderr",
     "output_type": "stream",
     "text": [
      "100% (200 of 200) |######################| Elapsed Time: 0:00:49 Time:  0:00:49\n"
     ]
    },
    {
     "name": "stdout",
     "output_type": "stream",
     "text": [
      " - final iteration number:  200\n",
      " - final log10 cost value:  -5.615478136828998\n",
      " - converged:  True\n",
      "Done.\n",
      "Execution time:  1609.9719499999774  seconds\n",
      "----------------------------------------\n"
     ]
    },
    {
     "name": "stderr",
     "output_type": "stream",
     "text": [
      "\u001b[33mWARNING\u001b[0m: Making input data immutable.\n"
     ]
    },
    {
     "name": "stdout",
     "output_type": "stream",
     "text": [
      "\n",
      "  _____             ____     _____      _\n",
      " |\" ___|    ___    / __\"| u |_ \" _| U  /\"\\  u\n",
      "U| |_  u   |_\"_|  <\\___ \\/    | |    \\/ _ \\/\n",
      "\\|  _|/     | |    u___) |   /| |\\   / ___ \\\\\n",
      " |_|      U/| |\\u  |____/>> u |_|U  /_/   \\_\\\\\n",
      " )(\\\\\\,-.-,_|___|_,-.)(  (__)_// \\\\\\_  \\\\\\    >>\n",
      "(__)(_/ \\_)-' '-(_/(__)    (__) (__)(__)  (__)\n",
      "    \n",
      " - mu:  1e-08\n",
      " - lipschitz constant:  1.0999999999999786\n",
      " - data:  (640, 388)\n",
      " - wavelet:  <mri.reconstruct.linear.WaveletN object at 0x7fa4156a8438> - 4\n",
      " - max iterations:  200\n",
      " - image variable shape:  (640, 388)\n",
      " - alpha variable shape:  (248560,)\n",
      "----------------------------------------\n",
      "Starting optimization...\n"
     ]
    },
    {
     "name": "stderr",
     "output_type": "stream",
     "text": [
      "100% (200 of 200) |######################| Elapsed Time: 0:01:03 Time:  0:01:03\n"
     ]
    },
    {
     "name": "stdout",
     "output_type": "stream",
     "text": [
      " - final iteration number:  200\n",
      " - final log10 cost value:  -5.636111531050658\n",
      " - converged:  True\n",
      "Done.\n",
      "Execution time:  1838.2412219999824  seconds\n",
      "----------------------------------------\n"
     ]
    },
    {
     "name": "stderr",
     "output_type": "stream",
     "text": [
      "\u001b[33mWARNING\u001b[0m: Making input data immutable.\n"
     ]
    },
    {
     "name": "stdout",
     "output_type": "stream",
     "text": [
      "\n",
      "  _____             ____     _____      _\n",
      " |\" ___|    ___    / __\"| u |_ \" _| U  /\"\\  u\n",
      "U| |_  u   |_\"_|  <\\___ \\/    | |    \\/ _ \\/\n",
      "\\|  _|/     | |    u___) |   /| |\\   / ___ \\\\\n",
      " |_|      U/| |\\u  |____/>> u |_|U  /_/   \\_\\\\\n",
      " )(\\\\\\,-.-,_|___|_,-.)(  (__)_// \\\\\\_  \\\\\\    >>\n",
      "(__)(_/ \\_)-' '-(_/(__)    (__) (__)(__)  (__)\n",
      "    \n",
      " - mu:  1e-08\n",
      " - lipschitz constant:  1.1000000000000854\n",
      " - data:  (640, 400)\n",
      " - wavelet:  <mri.reconstruct.linear.WaveletN object at 0x7fa4156f2208> - 4\n",
      " - max iterations:  200\n",
      " - image variable shape:  (640, 400)\n",
      " - alpha variable shape:  (256000,)\n",
      "----------------------------------------\n",
      "Starting optimization...\n"
     ]
    },
    {
     "name": "stderr",
     "output_type": "stream",
     "text": [
      "100% (200 of 200) |######################| Elapsed Time: 0:00:51 Time:  0:00:51\n"
     ]
    },
    {
     "name": "stdout",
     "output_type": "stream",
     "text": [
      " - final iteration number:  200\n",
      " - final log10 cost value:  -4.884946612756571\n",
      " - converged:  True\n",
      "Done.\n",
      "Execution time:  1631.025576999993  seconds\n",
      "----------------------------------------\n"
     ]
    },
    {
     "name": "stderr",
     "output_type": "stream",
     "text": [
      "\u001b[33mWARNING\u001b[0m: Making input data immutable.\n"
     ]
    },
    {
     "name": "stdout",
     "output_type": "stream",
     "text": [
      "\n",
      "  _____             ____     _____      _\n",
      " |\" ___|    ___    / __\"| u |_ \" _| U  /\"\\  u\n",
      "U| |_  u   |_\"_|  <\\___ \\/    | |    \\/ _ \\/\n",
      "\\|  _|/     | |    u___) |   /| |\\   / ___ \\\\\n",
      " |_|      U/| |\\u  |____/>> u |_|U  /_/   \\_\\\\\n",
      " )(\\\\\\,-.-,_|___|_,-.)(  (__)_// \\\\\\_  \\\\\\    >>\n",
      "(__)(_/ \\_)-' '-(_/(__)    (__) (__)(__)  (__)\n",
      "    \n",
      " - mu:  1e-08\n",
      " - lipschitz constant:  1.100000000000027\n",
      " - data:  (640, 368)\n",
      " - wavelet:  <mri.reconstruct.linear.WaveletN object at 0x7fa415760400> - 4\n",
      " - max iterations:  200\n",
      " - image variable shape:  (640, 368)\n",
      " - alpha variable shape:  (235520,)\n",
      "----------------------------------------\n",
      "Starting optimization...\n"
     ]
    },
    {
     "name": "stderr",
     "output_type": "stream",
     "text": [
      "100% (200 of 200) |######################| Elapsed Time: 0:00:50 Time:  0:00:50\n"
     ]
    },
    {
     "name": "stdout",
     "output_type": "stream",
     "text": [
      " - final iteration number:  200\n",
      " - final log10 cost value:  -5.257670503981364\n",
      " - converged:  True\n",
      "Done.\n",
      "Execution time:  1597.081481000001  seconds\n",
      "----------------------------------------\n"
     ]
    },
    {
     "name": "stderr",
     "output_type": "stream",
     "text": [
      "\u001b[33mWARNING\u001b[0m: Making input data immutable.\n"
     ]
    },
    {
     "name": "stdout",
     "output_type": "stream",
     "text": [
      "\n",
      "  _____             ____     _____      _\n",
      " |\" ___|    ___    / __\"| u |_ \" _| U  /\"\\  u\n",
      "U| |_  u   |_\"_|  <\\___ \\/    | |    \\/ _ \\/\n",
      "\\|  _|/     | |    u___) |   /| |\\   / ___ \\\\\n",
      " |_|      U/| |\\u  |____/>> u |_|U  /_/   \\_\\\\\n",
      " )(\\\\\\,-.-,_|___|_,-.)(  (__)_// \\\\\\_  \\\\\\    >>\n",
      "(__)(_/ \\_)-' '-(_/(__)    (__) (__)(__)  (__)\n",
      "    \n",
      " - mu:  1e-08\n",
      " - lipschitz constant:  1.0999999999999808\n",
      " - data:  (640, 372)\n",
      " - wavelet:  <mri.reconstruct.linear.WaveletN object at 0x7fa41578e8d0> - 4\n",
      " - max iterations:  200\n",
      " - image variable shape:  (640, 372)\n",
      " - alpha variable shape:  (238320,)\n",
      "----------------------------------------\n",
      "Starting optimization...\n"
     ]
    },
    {
     "name": "stderr",
     "output_type": "stream",
     "text": [
      "100% (200 of 200) |######################| Elapsed Time: 0:00:51 Time:  0:00:51\n"
     ]
    },
    {
     "name": "stdout",
     "output_type": "stream",
     "text": [
      " - final iteration number:  200\n",
      " - final log10 cost value:  -6.381774557699733\n",
      " - converged:  True\n",
      "Done.\n",
      "Execution time:  1646.6014600000344  seconds\n",
      "----------------------------------------\n"
     ]
    },
    {
     "name": "stderr",
     "output_type": "stream",
     "text": [
      "\u001b[33mWARNING\u001b[0m: Making input data immutable.\n"
     ]
    },
    {
     "name": "stdout",
     "output_type": "stream",
     "text": [
      "\n",
      "  _____             ____     _____      _\n",
      " |\" ___|    ___    / __\"| u |_ \" _| U  /\"\\  u\n",
      "U| |_  u   |_\"_|  <\\___ \\/    | |    \\/ _ \\/\n",
      "\\|  _|/     | |    u___) |   /| |\\   / ___ \\\\\n",
      " |_|      U/| |\\u  |____/>> u |_|U  /_/   \\_\\\\\n",
      " )(\\\\\\,-.-,_|___|_,-.)(  (__)_// \\\\\\_  \\\\\\    >>\n",
      "(__)(_/ \\_)-' '-(_/(__)    (__) (__)(__)  (__)\n",
      "    \n",
      " - mu:  1e-08\n",
      " - lipschitz constant:  1.0999999999999681\n",
      " - data:  (640, 372)\n",
      " - wavelet:  <mri.reconstruct.linear.WaveletN object at 0x7fa41570e5f8> - 4\n",
      " - max iterations:  200\n",
      " - image variable shape:  (640, 372)\n",
      " - alpha variable shape:  (238320,)\n",
      "----------------------------------------\n",
      "Starting optimization...\n"
     ]
    },
    {
     "name": "stderr",
     "output_type": "stream",
     "text": [
      "100% (200 of 200) |######################| Elapsed Time: 0:00:52 Time:  0:00:52\n"
     ]
    },
    {
     "name": "stdout",
     "output_type": "stream",
     "text": [
      " - final iteration number:  200\n",
      " - final log10 cost value:  -6.289917020510698\n",
      " - converged:  True\n",
      "Done.\n",
      "Execution time:  1634.2898389999755  seconds\n",
      "----------------------------------------\n"
     ]
    },
    {
     "name": "stderr",
     "output_type": "stream",
     "text": [
      "\u001b[33mWARNING\u001b[0m: Making input data immutable.\n"
     ]
    },
    {
     "name": "stdout",
     "output_type": "stream",
     "text": [
      "\n",
      "  _____             ____     _____      _\n",
      " |\" ___|    ___    / __\"| u |_ \" _| U  /\"\\  u\n",
      "U| |_  u   |_\"_|  <\\___ \\/    | |    \\/ _ \\/\n",
      "\\|  _|/     | |    u___) |   /| |\\   / ___ \\\\\n",
      " |_|      U/| |\\u  |____/>> u |_|U  /_/   \\_\\\\\n",
      " )(\\\\\\,-.-,_|___|_,-.)(  (__)_// \\\\\\_  \\\\\\    >>\n",
      "(__)(_/ \\_)-' '-(_/(__)    (__) (__)(__)  (__)\n",
      "    \n",
      " - mu:  1e-08\n",
      " - lipschitz constant:  1.1000000000000687\n",
      " - data:  (640, 372)\n",
      " - wavelet:  <mri.reconstruct.linear.WaveletN object at 0x7fa415777ac8> - 4\n",
      " - max iterations:  200\n",
      " - image variable shape:  (640, 372)\n",
      " - alpha variable shape:  (238320,)\n",
      "----------------------------------------\n",
      "Starting optimization...\n"
     ]
    },
    {
     "name": "stderr",
     "output_type": "stream",
     "text": [
      "100% (200 of 200) |######################| Elapsed Time: 0:00:52 Time:  0:00:52\n"
     ]
    },
    {
     "name": "stdout",
     "output_type": "stream",
     "text": [
      " - final iteration number:  200\n",
      " - final log10 cost value:  -6.417415870400221\n",
      " - converged:  True\n",
      "Done.\n",
      "Execution time:  1637.6214679999975  seconds\n",
      "----------------------------------------\n"
     ]
    },
    {
     "name": "stderr",
     "output_type": "stream",
     "text": [
      "\u001b[33mWARNING\u001b[0m: Making input data immutable.\n"
     ]
    },
    {
     "name": "stdout",
     "output_type": "stream",
     "text": [
      "\n",
      "  _____             ____     _____      _\n",
      " |\" ___|    ___    / __\"| u |_ \" _| U  /\"\\  u\n",
      "U| |_  u   |_\"_|  <\\___ \\/    | |    \\/ _ \\/\n",
      "\\|  _|/     | |    u___) |   /| |\\   / ___ \\\\\n",
      " |_|      U/| |\\u  |____/>> u |_|U  /_/   \\_\\\\\n",
      " )(\\\\\\,-.-,_|___|_,-.)(  (__)_// \\\\\\_  \\\\\\    >>\n",
      "(__)(_/ \\_)-' '-(_/(__)    (__) (__)(__)  (__)\n",
      "    \n",
      " - mu:  1e-08\n",
      " - lipschitz constant:  1.1000000000000723\n",
      " - data:  (640, 368)\n",
      " - wavelet:  <mri.reconstruct.linear.WaveletN object at 0x7fa415738c50> - 4\n",
      " - max iterations:  200\n",
      " - image variable shape:  (640, 368)\n",
      " - alpha variable shape:  (235520,)\n",
      "----------------------------------------\n",
      "Starting optimization...\n"
     ]
    },
    {
     "name": "stderr",
     "output_type": "stream",
     "text": [
      "100% (200 of 200) |######################| Elapsed Time: 0:00:50 Time:  0:00:50\n"
     ]
    },
    {
     "name": "stdout",
     "output_type": "stream",
     "text": [
      " - final iteration number:  200\n",
      " - final log10 cost value:  -5.120523650586075\n",
      " - converged:  True\n",
      "Done.\n",
      "Execution time:  1579.405724000011  seconds\n",
      "----------------------------------------\n"
     ]
    },
    {
     "name": "stderr",
     "output_type": "stream",
     "text": [
      "\u001b[33mWARNING\u001b[0m: Making input data immutable.\n"
     ]
    },
    {
     "name": "stdout",
     "output_type": "stream",
     "text": [
      "\n",
      "  _____             ____     _____      _\n",
      " |\" ___|    ___    / __\"| u |_ \" _| U  /\"\\  u\n",
      "U| |_  u   |_\"_|  <\\___ \\/    | |    \\/ _ \\/\n",
      "\\|  _|/     | |    u___) |   /| |\\   / ___ \\\\\n",
      " |_|      U/| |\\u  |____/>> u |_|U  /_/   \\_\\\\\n",
      " )(\\\\\\,-.-,_|___|_,-.)(  (__)_// \\\\\\_  \\\\\\    >>\n",
      "(__)(_/ \\_)-' '-(_/(__)    (__) (__)(__)  (__)\n",
      "    \n",
      " - mu:  1e-08\n",
      " - lipschitz constant:  1.1000000000000603\n",
      " - data:  (640, 368)\n",
      " - wavelet:  <mri.reconstruct.linear.WaveletN object at 0x7fa41578e668> - 4\n",
      " - max iterations:  200\n",
      " - image variable shape:  (640, 368)\n",
      " - alpha variable shape:  (235520,)\n",
      "----------------------------------------\n",
      "Starting optimization...\n"
     ]
    },
    {
     "name": "stderr",
     "output_type": "stream",
     "text": [
      "100% (200 of 200) |######################| Elapsed Time: 0:00:49 Time:  0:00:49\n"
     ]
    },
    {
     "name": "stdout",
     "output_type": "stream",
     "text": [
      " - final iteration number:  200\n",
      " - final log10 cost value:  -5.211049290141536\n",
      " - converged:  True\n",
      "Done.\n",
      "Execution time:  1592.3622529999702  seconds\n",
      "----------------------------------------\n"
     ]
    },
    {
     "name": "stderr",
     "output_type": "stream",
     "text": [
      "\u001b[33mWARNING\u001b[0m: Making input data immutable.\n"
     ]
    },
    {
     "name": "stdout",
     "output_type": "stream",
     "text": [
      "\n",
      "  _____             ____     _____      _\n",
      " |\" ___|    ___    / __\"| u |_ \" _| U  /\"\\  u\n",
      "U| |_  u   |_\"_|  <\\___ \\/    | |    \\/ _ \\/\n",
      "\\|  _|/     | |    u___) |   /| |\\   / ___ \\\\\n",
      " |_|      U/| |\\u  |____/>> u |_|U  /_/   \\_\\\\\n",
      " )(\\\\\\,-.-,_|___|_,-.)(  (__)_// \\\\\\_  \\\\\\    >>\n",
      "(__)(_/ \\_)-' '-(_/(__)    (__) (__)(__)  (__)\n",
      "    \n",
      " - mu:  1e-08\n",
      " - lipschitz constant:  1.0999999999999792\n",
      " - data:  (640, 372)\n",
      " - wavelet:  <mri.reconstruct.linear.WaveletN object at 0x7fa4156d3860> - 4\n",
      " - max iterations:  200\n",
      " - image variable shape:  (640, 372)\n",
      " - alpha variable shape:  (238320,)\n",
      "----------------------------------------\n",
      "Starting optimization...\n"
     ]
    },
    {
     "name": "stderr",
     "output_type": "stream",
     "text": [
      "100% (200 of 200) |######################| Elapsed Time: 0:00:52 Time:  0:00:52\n"
     ]
    },
    {
     "name": "stdout",
     "output_type": "stream",
     "text": [
      " - final iteration number:  200\n",
      " - final log10 cost value:  -6.270659941015538\n",
      " - converged:  True\n",
      "Done.\n",
      "Execution time:  1636.0332469999557  seconds\n",
      "----------------------------------------\n"
     ]
    },
    {
     "name": "stderr",
     "output_type": "stream",
     "text": [
      "\u001b[33mWARNING\u001b[0m: Making input data immutable.\n"
     ]
    },
    {
     "name": "stdout",
     "output_type": "stream",
     "text": [
      "\n",
      "  _____             ____     _____      _\n",
      " |\" ___|    ___    / __\"| u |_ \" _| U  /\"\\  u\n",
      "U| |_  u   |_\"_|  <\\___ \\/    | |    \\/ _ \\/\n",
      "\\|  _|/     | |    u___) |   /| |\\   / ___ \\\\\n",
      " |_|      U/| |\\u  |____/>> u |_|U  /_/   \\_\\\\\n",
      " )(\\\\\\,-.-,_|___|_,-.)(  (__)_// \\\\\\_  \\\\\\    >>\n",
      "(__)(_/ \\_)-' '-(_/(__)    (__) (__)(__)  (__)\n",
      "    \n",
      " - mu:  1e-08\n",
      " - lipschitz constant:  1.1000000000001475\n",
      " - data:  (640, 372)\n",
      " - wavelet:  <mri.reconstruct.linear.WaveletN object at 0x7fa4156d3668> - 4\n",
      " - max iterations:  200\n",
      " - image variable shape:  (640, 372)\n",
      " - alpha variable shape:  (238320,)\n",
      "----------------------------------------\n",
      "Starting optimization...\n"
     ]
    },
    {
     "name": "stderr",
     "output_type": "stream",
     "text": [
      "100% (200 of 200) |######################| Elapsed Time: 0:00:51 Time:  0:00:51\n"
     ]
    },
    {
     "name": "stdout",
     "output_type": "stream",
     "text": [
      " - final iteration number:  200\n",
      " - final log10 cost value:  -6.313804784151993\n",
      " - converged:  True\n",
      "Done.\n",
      "Execution time:  1632.3587219999754  seconds\n",
      "----------------------------------------\n"
     ]
    },
    {
     "name": "stderr",
     "output_type": "stream",
     "text": [
      "\u001b[33mWARNING\u001b[0m: Making input data immutable.\n"
     ]
    },
    {
     "name": "stdout",
     "output_type": "stream",
     "text": [
      "\n",
      "  _____             ____     _____      _\n",
      " |\" ___|    ___    / __\"| u |_ \" _| U  /\"\\  u\n",
      "U| |_  u   |_\"_|  <\\___ \\/    | |    \\/ _ \\/\n",
      "\\|  _|/     | |    u___) |   /| |\\   / ___ \\\\\n",
      " |_|      U/| |\\u  |____/>> u |_|U  /_/   \\_\\\\\n",
      " )(\\\\\\,-.-,_|___|_,-.)(  (__)_// \\\\\\_  \\\\\\    >>\n",
      "(__)(_/ \\_)-' '-(_/(__)    (__) (__)(__)  (__)\n",
      "    \n",
      " - mu:  1e-08\n",
      " - lipschitz constant:  1.1000000000000676\n",
      " - data:  (640, 368)\n",
      " - wavelet:  <mri.reconstruct.linear.WaveletN object at 0x7fa415738c50> - 4\n",
      " - max iterations:  200\n",
      " - image variable shape:  (640, 368)\n",
      " - alpha variable shape:  (235520,)\n",
      "----------------------------------------\n",
      "Starting optimization...\n"
     ]
    },
    {
     "name": "stderr",
     "output_type": "stream",
     "text": [
      "100% (200 of 200) |######################| Elapsed Time: 0:00:50 Time:  0:00:50\n"
     ]
    },
    {
     "name": "stdout",
     "output_type": "stream",
     "text": [
      " - final iteration number:  200\n",
      " - final log10 cost value:  -4.81165906477803\n",
      " - converged:  True\n",
      "Done.\n",
      "Execution time:  1610.2370970000047  seconds\n",
      "----------------------------------------\n"
     ]
    },
    {
     "name": "stderr",
     "output_type": "stream",
     "text": [
      "\u001b[33mWARNING\u001b[0m: Making input data immutable.\n"
     ]
    },
    {
     "name": "stdout",
     "output_type": "stream",
     "text": [
      "\n",
      "  _____             ____     _____      _\n",
      " |\" ___|    ___    / __\"| u |_ \" _| U  /\"\\  u\n",
      "U| |_  u   |_\"_|  <\\___ \\/    | |    \\/ _ \\/\n",
      "\\|  _|/     | |    u___) |   /| |\\   / ___ \\\\\n",
      " |_|      U/| |\\u  |____/>> u |_|U  /_/   \\_\\\\\n",
      " )(\\\\\\,-.-,_|___|_,-.)(  (__)_// \\\\\\_  \\\\\\    >>\n",
      "(__)(_/ \\_)-' '-(_/(__)    (__) (__)(__)  (__)\n",
      "    \n",
      " - mu:  1e-08\n",
      " - lipschitz constant:  1.0999999999999792\n",
      " - data:  (640, 368)\n",
      " - wavelet:  <mri.reconstruct.linear.WaveletN object at 0x7fa41578e240> - 4\n",
      " - max iterations:  200\n",
      " - image variable shape:  (640, 368)\n",
      " - alpha variable shape:  (235520,)\n",
      "----------------------------------------\n",
      "Starting optimization...\n"
     ]
    },
    {
     "name": "stderr",
     "output_type": "stream",
     "text": [
      "100% (200 of 200) |######################| Elapsed Time: 0:00:50 Time:  0:00:50\n"
     ]
    },
    {
     "name": "stdout",
     "output_type": "stream",
     "text": [
      " - final iteration number:  200\n",
      " - final log10 cost value:  -5.619535568255418\n",
      " - converged:  True\n",
      "Done.\n",
      "Execution time:  1602.6450220000115  seconds\n",
      "----------------------------------------\n"
     ]
    },
    {
     "name": "stderr",
     "output_type": "stream",
     "text": [
      "\u001b[33mWARNING\u001b[0m: Making input data immutable.\n"
     ]
    },
    {
     "name": "stdout",
     "output_type": "stream",
     "text": [
      "\n",
      "  _____             ____     _____      _\n",
      " |\" ___|    ___    / __\"| u |_ \" _| U  /\"\\  u\n",
      "U| |_  u   |_\"_|  <\\___ \\/    | |    \\/ _ \\/\n",
      "\\|  _|/     | |    u___) |   /| |\\   / ___ \\\\\n",
      " |_|      U/| |\\u  |____/>> u |_|U  /_/   \\_\\\\\n",
      " )(\\\\\\,-.-,_|___|_,-.)(  (__)_// \\\\\\_  \\\\\\    >>\n",
      "(__)(_/ \\_)-' '-(_/(__)    (__) (__)(__)  (__)\n",
      "    \n",
      " - mu:  1e-08\n",
      " - lipschitz constant:  1.0999999999999788\n",
      " - data:  (640, 368)\n",
      " - wavelet:  <mri.reconstruct.linear.WaveletN object at 0x7fa4156d3470> - 4\n",
      " - max iterations:  200\n",
      " - image variable shape:  (640, 368)\n",
      " - alpha variable shape:  (235520,)\n",
      "----------------------------------------\n",
      "Starting optimization...\n"
     ]
    },
    {
     "name": "stderr",
     "output_type": "stream",
     "text": [
      "100% (200 of 200) |######################| Elapsed Time: 0:00:50 Time:  0:00:50\n"
     ]
    },
    {
     "name": "stdout",
     "output_type": "stream",
     "text": [
      " - final iteration number:  200\n",
      " - final log10 cost value:  -4.76685810609642\n",
      " - converged:  True\n",
      "Done.\n",
      "Execution time:  1595.489719999954  seconds\n",
      "----------------------------------------\n"
     ]
    },
    {
     "name": "stderr",
     "output_type": "stream",
     "text": [
      "\u001b[33mWARNING\u001b[0m: Making input data immutable.\n"
     ]
    },
    {
     "name": "stdout",
     "output_type": "stream",
     "text": [
      "\n",
      "  _____             ____     _____      _\n",
      " |\" ___|    ___    / __\"| u |_ \" _| U  /\"\\  u\n",
      "U| |_  u   |_\"_|  <\\___ \\/    | |    \\/ _ \\/\n",
      "\\|  _|/     | |    u___) |   /| |\\   / ___ \\\\\n",
      " |_|      U/| |\\u  |____/>> u |_|U  /_/   \\_\\\\\n",
      " )(\\\\\\,-.-,_|___|_,-.)(  (__)_// \\\\\\_  \\\\\\    >>\n",
      "(__)(_/ \\_)-' '-(_/(__)    (__) (__)(__)  (__)\n",
      "    \n",
      " - mu:  1e-08\n",
      " - lipschitz constant:  1.0999999999999783\n",
      " - data:  (640, 368)\n",
      " - wavelet:  <mri.reconstruct.linear.WaveletN object at 0x7fa4156d3278> - 4\n",
      " - max iterations:  200\n",
      " - image variable shape:  (640, 368)\n",
      " - alpha variable shape:  (235520,)\n",
      "----------------------------------------\n",
      "Starting optimization...\n"
     ]
    },
    {
     "name": "stderr",
     "output_type": "stream",
     "text": [
      "100% (200 of 200) |######################| Elapsed Time: 0:00:50 Time:  0:00:50\n"
     ]
    },
    {
     "name": "stdout",
     "output_type": "stream",
     "text": [
      " - final iteration number:  200\n",
      " - final log10 cost value:  -5.652201266883239\n",
      " - converged:  True\n",
      "Done.\n",
      "Execution time:  1600.35639000003  seconds\n",
      "----------------------------------------\n"
     ]
    },
    {
     "name": "stderr",
     "output_type": "stream",
     "text": [
      "\u001b[33mWARNING\u001b[0m: Making input data immutable.\n"
     ]
    },
    {
     "name": "stdout",
     "output_type": "stream",
     "text": [
      "\n",
      "  _____             ____     _____      _\n",
      " |\" ___|    ___    / __\"| u |_ \" _| U  /\"\\  u\n",
      "U| |_  u   |_\"_|  <\\___ \\/    | |    \\/ _ \\/\n",
      "\\|  _|/     | |    u___) |   /| |\\   / ___ \\\\\n",
      " |_|      U/| |\\u  |____/>> u |_|U  /_/   \\_\\\\\n",
      " )(\\\\\\,-.-,_|___|_,-.)(  (__)_// \\\\\\_  \\\\\\    >>\n",
      "(__)(_/ \\_)-' '-(_/(__)    (__) (__)(__)  (__)\n",
      "    \n",
      " - mu:  1e-08\n",
      " - lipschitz constant:  1.0999999999999852\n",
      " - data:  (640, 372)\n",
      " - wavelet:  <mri.reconstruct.linear.WaveletN object at 0x7fa4156d3710> - 4\n",
      " - max iterations:  200\n",
      " - image variable shape:  (640, 372)\n",
      " - alpha variable shape:  (238320,)\n",
      "----------------------------------------\n",
      "Starting optimization...\n"
     ]
    },
    {
     "name": "stderr",
     "output_type": "stream",
     "text": [
      "100% (200 of 200) |######################| Elapsed Time: 0:00:52 Time:  0:00:52\n"
     ]
    },
    {
     "name": "stdout",
     "output_type": "stream",
     "text": [
      " - final iteration number:  200\n",
      " - final log10 cost value:  -6.454001644200325\n",
      " - converged:  True\n",
      "Done.\n",
      "Execution time:  1639.7400339999585  seconds\n",
      "----------------------------------------\n"
     ]
    },
    {
     "name": "stderr",
     "output_type": "stream",
     "text": [
      "\u001b[33mWARNING\u001b[0m: Making input data immutable.\n"
     ]
    },
    {
     "name": "stdout",
     "output_type": "stream",
     "text": [
      "\n",
      "  _____             ____     _____      _\n",
      " |\" ___|    ___    / __\"| u |_ \" _| U  /\"\\  u\n",
      "U| |_  u   |_\"_|  <\\___ \\/    | |    \\/ _ \\/\n",
      "\\|  _|/     | |    u___) |   /| |\\   / ___ \\\\\n",
      " |_|      U/| |\\u  |____/>> u |_|U  /_/   \\_\\\\\n",
      " )(\\\\\\,-.-,_|___|_,-.)(  (__)_// \\\\\\_  \\\\\\    >>\n",
      "(__)(_/ \\_)-' '-(_/(__)    (__) (__)(__)  (__)\n",
      "    \n",
      " - mu:  1e-08\n",
      " - lipschitz constant:  1.099999999999985\n",
      " - data:  (640, 368)\n",
      " - wavelet:  <mri.reconstruct.linear.WaveletN object at 0x7fa4156d3550> - 4\n",
      " - max iterations:  200\n",
      " - image variable shape:  (640, 368)\n",
      " - alpha variable shape:  (235520,)\n",
      "----------------------------------------\n",
      "Starting optimization...\n"
     ]
    },
    {
     "name": "stderr",
     "output_type": "stream",
     "text": [
      "100% (200 of 200) |######################| Elapsed Time: 0:00:50 Time:  0:00:50\n"
     ]
    },
    {
     "name": "stdout",
     "output_type": "stream",
     "text": [
      " - final iteration number:  200\n",
      " - final log10 cost value:  -5.20189266534393\n",
      " - converged:  True\n",
      "Done.\n",
      "Execution time:  1608.1809369999683  seconds\n",
      "----------------------------------------\n"
     ]
    },
    {
     "name": "stderr",
     "output_type": "stream",
     "text": [
      "\u001b[33mWARNING\u001b[0m: Making input data immutable.\n"
     ]
    },
    {
     "name": "stdout",
     "output_type": "stream",
     "text": [
      "\n",
      "  _____             ____     _____      _\n",
      " |\" ___|    ___    / __\"| u |_ \" _| U  /\"\\  u\n",
      "U| |_  u   |_\"_|  <\\___ \\/    | |    \\/ _ \\/\n",
      "\\|  _|/     | |    u___) |   /| |\\   / ___ \\\\\n",
      " |_|      U/| |\\u  |____/>> u |_|U  /_/   \\_\\\\\n",
      " )(\\\\\\,-.-,_|___|_,-.)(  (__)_// \\\\\\_  \\\\\\    >>\n",
      "(__)(_/ \\_)-' '-(_/(__)    (__) (__)(__)  (__)\n",
      "    \n",
      " - mu:  1e-08\n",
      " - lipschitz constant:  1.099999999999972\n",
      " - data:  (640, 368)\n",
      " - wavelet:  <mri.reconstruct.linear.WaveletN object at 0x7fa4156d3198> - 4\n",
      " - max iterations:  200\n",
      " - image variable shape:  (640, 368)\n",
      " - alpha variable shape:  (235520,)\n",
      "----------------------------------------\n",
      "Starting optimization...\n"
     ]
    },
    {
     "name": "stderr",
     "output_type": "stream",
     "text": [
      "100% (200 of 200) |######################| Elapsed Time: 0:00:50 Time:  0:00:50\n"
     ]
    },
    {
     "name": "stdout",
     "output_type": "stream",
     "text": [
      " - final iteration number:  200\n",
      " - final log10 cost value:  -5.19914857704656\n",
      " - converged:  True\n",
      "Done.\n",
      "Execution time:  1593.273429999943  seconds\n",
      "----------------------------------------\n"
     ]
    },
    {
     "name": "stderr",
     "output_type": "stream",
     "text": [
      "\u001b[33mWARNING\u001b[0m: Making input data immutable.\n"
     ]
    },
    {
     "name": "stdout",
     "output_type": "stream",
     "text": [
      "\n",
      "  _____             ____     _____      _\n",
      " |\" ___|    ___    / __\"| u |_ \" _| U  /\"\\  u\n",
      "U| |_  u   |_\"_|  <\\___ \\/    | |    \\/ _ \\/\n",
      "\\|  _|/     | |    u___) |   /| |\\   / ___ \\\\\n",
      " |_|      U/| |\\u  |____/>> u |_|U  /_/   \\_\\\\\n",
      " )(\\\\\\,-.-,_|___|_,-.)(  (__)_// \\\\\\_  \\\\\\    >>\n",
      "(__)(_/ \\_)-' '-(_/(__)    (__) (__)(__)  (__)\n",
      "    \n",
      " - mu:  1e-08\n",
      " - lipschitz constant:  1.0999999999999825\n",
      " - data:  (640, 368)\n",
      " - wavelet:  <mri.reconstruct.linear.WaveletN object at 0x7fa4156d3a58> - 4\n",
      " - max iterations:  200\n",
      " - image variable shape:  (640, 368)\n",
      " - alpha variable shape:  (235520,)\n",
      "----------------------------------------\n",
      "Starting optimization...\n"
     ]
    },
    {
     "name": "stderr",
     "output_type": "stream",
     "text": [
      "100% (200 of 200) |######################| Elapsed Time: 0:00:50 Time:  0:00:50\n"
     ]
    },
    {
     "name": "stdout",
     "output_type": "stream",
     "text": [
      " - final iteration number:  200\n",
      " - final log10 cost value:  -5.246464041142865\n",
      " - converged:  True\n",
      "Done.\n",
      "Execution time:  1623.560832999996  seconds\n",
      "----------------------------------------\n",
      "\n"
     ]
    },
    {
     "data": {
      "application/vnd.jupyter.widget-view+json": {
       "model_id": "7ed491a9fd3b431d9c230ecbfbeb97db",
       "version_major": 2,
       "version_minor": 0
      },
      "text/plain": [
       "HBox(children=(FloatProgress(value=0.0, description='Stats', max=24.0, style=ProgressStyle(description_width='…"
      ]
     },
     "metadata": {},
     "output_type": "display_data"
    },
    {
     "name": "stdout",
     "output_type": "stream",
     "text": [
      "\n",
      "\n",
      "CPU times: user 1d 9h 45min 5s, sys: 1d 17h 57min 29s, total: 3d 3h 42min 35s\n",
      "Wall time: 2h 29min 49s\n"
     ]
    }
   ],
   "source": [
    "%%time\n",
    "metrics = []\n",
    "for mu in tqdm(mus_to_test, desc='mus'):\n",
    "    metric = metrics_for_args(sub_prop=0.05, mu=mu)\n",
    "    metrics.append(metric)"
   ]
  },
  {
   "cell_type": "code",
   "execution_count": 56,
   "metadata": {},
   "outputs": [
    {
     "data": {
      "application/javascript": [
       "/* Put everything inside the global mpl namespace */\n",
       "window.mpl = {};\n",
       "\n",
       "\n",
       "mpl.get_websocket_type = function() {\n",
       "    if (typeof(WebSocket) !== 'undefined') {\n",
       "        return WebSocket;\n",
       "    } else if (typeof(MozWebSocket) !== 'undefined') {\n",
       "        return MozWebSocket;\n",
       "    } else {\n",
       "        alert('Your browser does not have WebSocket support. ' +\n",
       "              'Please try Chrome, Safari or Firefox ≥ 6. ' +\n",
       "              'Firefox 4 and 5 are also supported but you ' +\n",
       "              'have to enable WebSockets in about:config.');\n",
       "    };\n",
       "}\n",
       "\n",
       "mpl.figure = function(figure_id, websocket, ondownload, parent_element) {\n",
       "    this.id = figure_id;\n",
       "\n",
       "    this.ws = websocket;\n",
       "\n",
       "    this.supports_binary = (this.ws.binaryType != undefined);\n",
       "\n",
       "    if (!this.supports_binary) {\n",
       "        var warnings = document.getElementById(\"mpl-warnings\");\n",
       "        if (warnings) {\n",
       "            warnings.style.display = 'block';\n",
       "            warnings.textContent = (\n",
       "                \"This browser does not support binary websocket messages. \" +\n",
       "                    \"Performance may be slow.\");\n",
       "        }\n",
       "    }\n",
       "\n",
       "    this.imageObj = new Image();\n",
       "\n",
       "    this.context = undefined;\n",
       "    this.message = undefined;\n",
       "    this.canvas = undefined;\n",
       "    this.rubberband_canvas = undefined;\n",
       "    this.rubberband_context = undefined;\n",
       "    this.format_dropdown = undefined;\n",
       "\n",
       "    this.image_mode = 'full';\n",
       "\n",
       "    this.root = $('<div/>');\n",
       "    this._root_extra_style(this.root)\n",
       "    this.root.attr('style', 'display: inline-block');\n",
       "\n",
       "    $(parent_element).append(this.root);\n",
       "\n",
       "    this._init_header(this);\n",
       "    this._init_canvas(this);\n",
       "    this._init_toolbar(this);\n",
       "\n",
       "    var fig = this;\n",
       "\n",
       "    this.waiting = false;\n",
       "\n",
       "    this.ws.onopen =  function () {\n",
       "            fig.send_message(\"supports_binary\", {value: fig.supports_binary});\n",
       "            fig.send_message(\"send_image_mode\", {});\n",
       "            if (mpl.ratio != 1) {\n",
       "                fig.send_message(\"set_dpi_ratio\", {'dpi_ratio': mpl.ratio});\n",
       "            }\n",
       "            fig.send_message(\"refresh\", {});\n",
       "        }\n",
       "\n",
       "    this.imageObj.onload = function() {\n",
       "            if (fig.image_mode == 'full') {\n",
       "                // Full images could contain transparency (where diff images\n",
       "                // almost always do), so we need to clear the canvas so that\n",
       "                // there is no ghosting.\n",
       "                fig.context.clearRect(0, 0, fig.canvas.width, fig.canvas.height);\n",
       "            }\n",
       "            fig.context.drawImage(fig.imageObj, 0, 0);\n",
       "        };\n",
       "\n",
       "    this.imageObj.onunload = function() {\n",
       "        fig.ws.close();\n",
       "    }\n",
       "\n",
       "    this.ws.onmessage = this._make_on_message_function(this);\n",
       "\n",
       "    this.ondownload = ondownload;\n",
       "}\n",
       "\n",
       "mpl.figure.prototype._init_header = function() {\n",
       "    var titlebar = $(\n",
       "        '<div class=\"ui-dialog-titlebar ui-widget-header ui-corner-all ' +\n",
       "        'ui-helper-clearfix\"/>');\n",
       "    var titletext = $(\n",
       "        '<div class=\"ui-dialog-title\" style=\"width: 100%; ' +\n",
       "        'text-align: center; padding: 3px;\"/>');\n",
       "    titlebar.append(titletext)\n",
       "    this.root.append(titlebar);\n",
       "    this.header = titletext[0];\n",
       "}\n",
       "\n",
       "\n",
       "\n",
       "mpl.figure.prototype._canvas_extra_style = function(canvas_div) {\n",
       "\n",
       "}\n",
       "\n",
       "\n",
       "mpl.figure.prototype._root_extra_style = function(canvas_div) {\n",
       "\n",
       "}\n",
       "\n",
       "mpl.figure.prototype._init_canvas = function() {\n",
       "    var fig = this;\n",
       "\n",
       "    var canvas_div = $('<div/>');\n",
       "\n",
       "    canvas_div.attr('style', 'position: relative; clear: both; outline: 0');\n",
       "\n",
       "    function canvas_keyboard_event(event) {\n",
       "        return fig.key_event(event, event['data']);\n",
       "    }\n",
       "\n",
       "    canvas_div.keydown('key_press', canvas_keyboard_event);\n",
       "    canvas_div.keyup('key_release', canvas_keyboard_event);\n",
       "    this.canvas_div = canvas_div\n",
       "    this._canvas_extra_style(canvas_div)\n",
       "    this.root.append(canvas_div);\n",
       "\n",
       "    var canvas = $('<canvas/>');\n",
       "    canvas.addClass('mpl-canvas');\n",
       "    canvas.attr('style', \"left: 0; top: 0; z-index: 0; outline: 0\")\n",
       "\n",
       "    this.canvas = canvas[0];\n",
       "    this.context = canvas[0].getContext(\"2d\");\n",
       "\n",
       "    var backingStore = this.context.backingStorePixelRatio ||\n",
       "\tthis.context.webkitBackingStorePixelRatio ||\n",
       "\tthis.context.mozBackingStorePixelRatio ||\n",
       "\tthis.context.msBackingStorePixelRatio ||\n",
       "\tthis.context.oBackingStorePixelRatio ||\n",
       "\tthis.context.backingStorePixelRatio || 1;\n",
       "\n",
       "    mpl.ratio = (window.devicePixelRatio || 1) / backingStore;\n",
       "\n",
       "    var rubberband = $('<canvas/>');\n",
       "    rubberband.attr('style', \"position: absolute; left: 0; top: 0; z-index: 1;\")\n",
       "\n",
       "    var pass_mouse_events = true;\n",
       "\n",
       "    canvas_div.resizable({\n",
       "        start: function(event, ui) {\n",
       "            pass_mouse_events = false;\n",
       "        },\n",
       "        resize: function(event, ui) {\n",
       "            fig.request_resize(ui.size.width, ui.size.height);\n",
       "        },\n",
       "        stop: function(event, ui) {\n",
       "            pass_mouse_events = true;\n",
       "            fig.request_resize(ui.size.width, ui.size.height);\n",
       "        },\n",
       "    });\n",
       "\n",
       "    function mouse_event_fn(event) {\n",
       "        if (pass_mouse_events)\n",
       "            return fig.mouse_event(event, event['data']);\n",
       "    }\n",
       "\n",
       "    rubberband.mousedown('button_press', mouse_event_fn);\n",
       "    rubberband.mouseup('button_release', mouse_event_fn);\n",
       "    // Throttle sequential mouse events to 1 every 20ms.\n",
       "    rubberband.mousemove('motion_notify', mouse_event_fn);\n",
       "\n",
       "    rubberband.mouseenter('figure_enter', mouse_event_fn);\n",
       "    rubberband.mouseleave('figure_leave', mouse_event_fn);\n",
       "\n",
       "    canvas_div.on(\"wheel\", function (event) {\n",
       "        event = event.originalEvent;\n",
       "        event['data'] = 'scroll'\n",
       "        if (event.deltaY < 0) {\n",
       "            event.step = 1;\n",
       "        } else {\n",
       "            event.step = -1;\n",
       "        }\n",
       "        mouse_event_fn(event);\n",
       "    });\n",
       "\n",
       "    canvas_div.append(canvas);\n",
       "    canvas_div.append(rubberband);\n",
       "\n",
       "    this.rubberband = rubberband;\n",
       "    this.rubberband_canvas = rubberband[0];\n",
       "    this.rubberband_context = rubberband[0].getContext(\"2d\");\n",
       "    this.rubberband_context.strokeStyle = \"#000000\";\n",
       "\n",
       "    this._resize_canvas = function(width, height) {\n",
       "        // Keep the size of the canvas, canvas container, and rubber band\n",
       "        // canvas in synch.\n",
       "        canvas_div.css('width', width)\n",
       "        canvas_div.css('height', height)\n",
       "\n",
       "        canvas.attr('width', width * mpl.ratio);\n",
       "        canvas.attr('height', height * mpl.ratio);\n",
       "        canvas.attr('style', 'width: ' + width + 'px; height: ' + height + 'px;');\n",
       "\n",
       "        rubberband.attr('width', width);\n",
       "        rubberband.attr('height', height);\n",
       "    }\n",
       "\n",
       "    // Set the figure to an initial 600x600px, this will subsequently be updated\n",
       "    // upon first draw.\n",
       "    this._resize_canvas(600, 600);\n",
       "\n",
       "    // Disable right mouse context menu.\n",
       "    $(this.rubberband_canvas).bind(\"contextmenu\",function(e){\n",
       "        return false;\n",
       "    });\n",
       "\n",
       "    function set_focus () {\n",
       "        canvas.focus();\n",
       "        canvas_div.focus();\n",
       "    }\n",
       "\n",
       "    window.setTimeout(set_focus, 100);\n",
       "}\n",
       "\n",
       "mpl.figure.prototype._init_toolbar = function() {\n",
       "    var fig = this;\n",
       "\n",
       "    var nav_element = $('<div/>');\n",
       "    nav_element.attr('style', 'width: 100%');\n",
       "    this.root.append(nav_element);\n",
       "\n",
       "    // Define a callback function for later on.\n",
       "    function toolbar_event(event) {\n",
       "        return fig.toolbar_button_onclick(event['data']);\n",
       "    }\n",
       "    function toolbar_mouse_event(event) {\n",
       "        return fig.toolbar_button_onmouseover(event['data']);\n",
       "    }\n",
       "\n",
       "    for(var toolbar_ind in mpl.toolbar_items) {\n",
       "        var name = mpl.toolbar_items[toolbar_ind][0];\n",
       "        var tooltip = mpl.toolbar_items[toolbar_ind][1];\n",
       "        var image = mpl.toolbar_items[toolbar_ind][2];\n",
       "        var method_name = mpl.toolbar_items[toolbar_ind][3];\n",
       "\n",
       "        if (!name) {\n",
       "            // put a spacer in here.\n",
       "            continue;\n",
       "        }\n",
       "        var button = $('<button/>');\n",
       "        button.addClass('ui-button ui-widget ui-state-default ui-corner-all ' +\n",
       "                        'ui-button-icon-only');\n",
       "        button.attr('role', 'button');\n",
       "        button.attr('aria-disabled', 'false');\n",
       "        button.click(method_name, toolbar_event);\n",
       "        button.mouseover(tooltip, toolbar_mouse_event);\n",
       "\n",
       "        var icon_img = $('<span/>');\n",
       "        icon_img.addClass('ui-button-icon-primary ui-icon');\n",
       "        icon_img.addClass(image);\n",
       "        icon_img.addClass('ui-corner-all');\n",
       "\n",
       "        var tooltip_span = $('<span/>');\n",
       "        tooltip_span.addClass('ui-button-text');\n",
       "        tooltip_span.html(tooltip);\n",
       "\n",
       "        button.append(icon_img);\n",
       "        button.append(tooltip_span);\n",
       "\n",
       "        nav_element.append(button);\n",
       "    }\n",
       "\n",
       "    var fmt_picker_span = $('<span/>');\n",
       "\n",
       "    var fmt_picker = $('<select/>');\n",
       "    fmt_picker.addClass('mpl-toolbar-option ui-widget ui-widget-content');\n",
       "    fmt_picker_span.append(fmt_picker);\n",
       "    nav_element.append(fmt_picker_span);\n",
       "    this.format_dropdown = fmt_picker[0];\n",
       "\n",
       "    for (var ind in mpl.extensions) {\n",
       "        var fmt = mpl.extensions[ind];\n",
       "        var option = $(\n",
       "            '<option/>', {selected: fmt === mpl.default_extension}).html(fmt);\n",
       "        fmt_picker.append(option);\n",
       "    }\n",
       "\n",
       "    // Add hover states to the ui-buttons\n",
       "    $( \".ui-button\" ).hover(\n",
       "        function() { $(this).addClass(\"ui-state-hover\");},\n",
       "        function() { $(this).removeClass(\"ui-state-hover\");}\n",
       "    );\n",
       "\n",
       "    var status_bar = $('<span class=\"mpl-message\"/>');\n",
       "    nav_element.append(status_bar);\n",
       "    this.message = status_bar[0];\n",
       "}\n",
       "\n",
       "mpl.figure.prototype.request_resize = function(x_pixels, y_pixels) {\n",
       "    // Request matplotlib to resize the figure. Matplotlib will then trigger a resize in the client,\n",
       "    // which will in turn request a refresh of the image.\n",
       "    this.send_message('resize', {'width': x_pixels, 'height': y_pixels});\n",
       "}\n",
       "\n",
       "mpl.figure.prototype.send_message = function(type, properties) {\n",
       "    properties['type'] = type;\n",
       "    properties['figure_id'] = this.id;\n",
       "    this.ws.send(JSON.stringify(properties));\n",
       "}\n",
       "\n",
       "mpl.figure.prototype.send_draw_message = function() {\n",
       "    if (!this.waiting) {\n",
       "        this.waiting = true;\n",
       "        this.ws.send(JSON.stringify({type: \"draw\", figure_id: this.id}));\n",
       "    }\n",
       "}\n",
       "\n",
       "\n",
       "mpl.figure.prototype.handle_save = function(fig, msg) {\n",
       "    var format_dropdown = fig.format_dropdown;\n",
       "    var format = format_dropdown.options[format_dropdown.selectedIndex].value;\n",
       "    fig.ondownload(fig, format);\n",
       "}\n",
       "\n",
       "\n",
       "mpl.figure.prototype.handle_resize = function(fig, msg) {\n",
       "    var size = msg['size'];\n",
       "    if (size[0] != fig.canvas.width || size[1] != fig.canvas.height) {\n",
       "        fig._resize_canvas(size[0], size[1]);\n",
       "        fig.send_message(\"refresh\", {});\n",
       "    };\n",
       "}\n",
       "\n",
       "mpl.figure.prototype.handle_rubberband = function(fig, msg) {\n",
       "    var x0 = msg['x0'] / mpl.ratio;\n",
       "    var y0 = (fig.canvas.height - msg['y0']) / mpl.ratio;\n",
       "    var x1 = msg['x1'] / mpl.ratio;\n",
       "    var y1 = (fig.canvas.height - msg['y1']) / mpl.ratio;\n",
       "    x0 = Math.floor(x0) + 0.5;\n",
       "    y0 = Math.floor(y0) + 0.5;\n",
       "    x1 = Math.floor(x1) + 0.5;\n",
       "    y1 = Math.floor(y1) + 0.5;\n",
       "    var min_x = Math.min(x0, x1);\n",
       "    var min_y = Math.min(y0, y1);\n",
       "    var width = Math.abs(x1 - x0);\n",
       "    var height = Math.abs(y1 - y0);\n",
       "\n",
       "    fig.rubberband_context.clearRect(\n",
       "        0, 0, fig.canvas.width / mpl.ratio, fig.canvas.height / mpl.ratio);\n",
       "\n",
       "    fig.rubberband_context.strokeRect(min_x, min_y, width, height);\n",
       "}\n",
       "\n",
       "mpl.figure.prototype.handle_figure_label = function(fig, msg) {\n",
       "    // Updates the figure title.\n",
       "    fig.header.textContent = msg['label'];\n",
       "}\n",
       "\n",
       "mpl.figure.prototype.handle_cursor = function(fig, msg) {\n",
       "    var cursor = msg['cursor'];\n",
       "    switch(cursor)\n",
       "    {\n",
       "    case 0:\n",
       "        cursor = 'pointer';\n",
       "        break;\n",
       "    case 1:\n",
       "        cursor = 'default';\n",
       "        break;\n",
       "    case 2:\n",
       "        cursor = 'crosshair';\n",
       "        break;\n",
       "    case 3:\n",
       "        cursor = 'move';\n",
       "        break;\n",
       "    }\n",
       "    fig.rubberband_canvas.style.cursor = cursor;\n",
       "}\n",
       "\n",
       "mpl.figure.prototype.handle_message = function(fig, msg) {\n",
       "    fig.message.textContent = msg['message'];\n",
       "}\n",
       "\n",
       "mpl.figure.prototype.handle_draw = function(fig, msg) {\n",
       "    // Request the server to send over a new figure.\n",
       "    fig.send_draw_message();\n",
       "}\n",
       "\n",
       "mpl.figure.prototype.handle_image_mode = function(fig, msg) {\n",
       "    fig.image_mode = msg['mode'];\n",
       "}\n",
       "\n",
       "mpl.figure.prototype.updated_canvas_event = function() {\n",
       "    // Called whenever the canvas gets updated.\n",
       "    this.send_message(\"ack\", {});\n",
       "}\n",
       "\n",
       "// A function to construct a web socket function for onmessage handling.\n",
       "// Called in the figure constructor.\n",
       "mpl.figure.prototype._make_on_message_function = function(fig) {\n",
       "    return function socket_on_message(evt) {\n",
       "        if (evt.data instanceof Blob) {\n",
       "            /* FIXME: We get \"Resource interpreted as Image but\n",
       "             * transferred with MIME type text/plain:\" errors on\n",
       "             * Chrome.  But how to set the MIME type?  It doesn't seem\n",
       "             * to be part of the websocket stream */\n",
       "            evt.data.type = \"image/png\";\n",
       "\n",
       "            /* Free the memory for the previous frames */\n",
       "            if (fig.imageObj.src) {\n",
       "                (window.URL || window.webkitURL).revokeObjectURL(\n",
       "                    fig.imageObj.src);\n",
       "            }\n",
       "\n",
       "            fig.imageObj.src = (window.URL || window.webkitURL).createObjectURL(\n",
       "                evt.data);\n",
       "            fig.updated_canvas_event();\n",
       "            fig.waiting = false;\n",
       "            return;\n",
       "        }\n",
       "        else if (typeof evt.data === 'string' && evt.data.slice(0, 21) == \"data:image/png;base64\") {\n",
       "            fig.imageObj.src = evt.data;\n",
       "            fig.updated_canvas_event();\n",
       "            fig.waiting = false;\n",
       "            return;\n",
       "        }\n",
       "\n",
       "        var msg = JSON.parse(evt.data);\n",
       "        var msg_type = msg['type'];\n",
       "\n",
       "        // Call the  \"handle_{type}\" callback, which takes\n",
       "        // the figure and JSON message as its only arguments.\n",
       "        try {\n",
       "            var callback = fig[\"handle_\" + msg_type];\n",
       "        } catch (e) {\n",
       "            console.log(\"No handler for the '\" + msg_type + \"' message type: \", msg);\n",
       "            return;\n",
       "        }\n",
       "\n",
       "        if (callback) {\n",
       "            try {\n",
       "                // console.log(\"Handling '\" + msg_type + \"' message: \", msg);\n",
       "                callback(fig, msg);\n",
       "            } catch (e) {\n",
       "                console.log(\"Exception inside the 'handler_\" + msg_type + \"' callback:\", e, e.stack, msg);\n",
       "            }\n",
       "        }\n",
       "    };\n",
       "}\n",
       "\n",
       "// from http://stackoverflow.com/questions/1114465/getting-mouse-location-in-canvas\n",
       "mpl.findpos = function(e) {\n",
       "    //this section is from http://www.quirksmode.org/js/events_properties.html\n",
       "    var targ;\n",
       "    if (!e)\n",
       "        e = window.event;\n",
       "    if (e.target)\n",
       "        targ = e.target;\n",
       "    else if (e.srcElement)\n",
       "        targ = e.srcElement;\n",
       "    if (targ.nodeType == 3) // defeat Safari bug\n",
       "        targ = targ.parentNode;\n",
       "\n",
       "    // jQuery normalizes the pageX and pageY\n",
       "    // pageX,Y are the mouse positions relative to the document\n",
       "    // offset() returns the position of the element relative to the document\n",
       "    var x = e.pageX - $(targ).offset().left;\n",
       "    var y = e.pageY - $(targ).offset().top;\n",
       "\n",
       "    return {\"x\": x, \"y\": y};\n",
       "};\n",
       "\n",
       "/*\n",
       " * return a copy of an object with only non-object keys\n",
       " * we need this to avoid circular references\n",
       " * http://stackoverflow.com/a/24161582/3208463\n",
       " */\n",
       "function simpleKeys (original) {\n",
       "  return Object.keys(original).reduce(function (obj, key) {\n",
       "    if (typeof original[key] !== 'object')\n",
       "        obj[key] = original[key]\n",
       "    return obj;\n",
       "  }, {});\n",
       "}\n",
       "\n",
       "mpl.figure.prototype.mouse_event = function(event, name) {\n",
       "    var canvas_pos = mpl.findpos(event)\n",
       "\n",
       "    if (name === 'button_press')\n",
       "    {\n",
       "        this.canvas.focus();\n",
       "        this.canvas_div.focus();\n",
       "    }\n",
       "\n",
       "    var x = canvas_pos.x * mpl.ratio;\n",
       "    var y = canvas_pos.y * mpl.ratio;\n",
       "\n",
       "    this.send_message(name, {x: x, y: y, button: event.button,\n",
       "                             step: event.step,\n",
       "                             guiEvent: simpleKeys(event)});\n",
       "\n",
       "    /* This prevents the web browser from automatically changing to\n",
       "     * the text insertion cursor when the button is pressed.  We want\n",
       "     * to control all of the cursor setting manually through the\n",
       "     * 'cursor' event from matplotlib */\n",
       "    event.preventDefault();\n",
       "    return false;\n",
       "}\n",
       "\n",
       "mpl.figure.prototype._key_event_extra = function(event, name) {\n",
       "    // Handle any extra behaviour associated with a key event\n",
       "}\n",
       "\n",
       "mpl.figure.prototype.key_event = function(event, name) {\n",
       "\n",
       "    // Prevent repeat events\n",
       "    if (name == 'key_press')\n",
       "    {\n",
       "        if (event.which === this._key)\n",
       "            return;\n",
       "        else\n",
       "            this._key = event.which;\n",
       "    }\n",
       "    if (name == 'key_release')\n",
       "        this._key = null;\n",
       "\n",
       "    var value = '';\n",
       "    if (event.ctrlKey && event.which != 17)\n",
       "        value += \"ctrl+\";\n",
       "    if (event.altKey && event.which != 18)\n",
       "        value += \"alt+\";\n",
       "    if (event.shiftKey && event.which != 16)\n",
       "        value += \"shift+\";\n",
       "\n",
       "    value += 'k';\n",
       "    value += event.which.toString();\n",
       "\n",
       "    this._key_event_extra(event, name);\n",
       "\n",
       "    this.send_message(name, {key: value,\n",
       "                             guiEvent: simpleKeys(event)});\n",
       "    return false;\n",
       "}\n",
       "\n",
       "mpl.figure.prototype.toolbar_button_onclick = function(name) {\n",
       "    if (name == 'download') {\n",
       "        this.handle_save(this, null);\n",
       "    } else {\n",
       "        this.send_message(\"toolbar_button\", {name: name});\n",
       "    }\n",
       "};\n",
       "\n",
       "mpl.figure.prototype.toolbar_button_onmouseover = function(tooltip) {\n",
       "    this.message.textContent = tooltip;\n",
       "};\n",
       "mpl.toolbar_items = [[\"Home\", \"Reset original view\", \"fa fa-home icon-home\", \"home\"], [\"Back\", \"Back to previous view\", \"fa fa-arrow-left icon-arrow-left\", \"back\"], [\"Forward\", \"Forward to next view\", \"fa fa-arrow-right icon-arrow-right\", \"forward\"], [\"\", \"\", \"\", \"\"], [\"Pan\", \"Pan axes with left mouse, zoom with right\", \"fa fa-arrows icon-move\", \"pan\"], [\"Zoom\", \"Zoom to rectangle\", \"fa fa-square-o icon-check-empty\", \"zoom\"], [\"\", \"\", \"\", \"\"], [\"Download\", \"Download plot\", \"fa fa-floppy-o icon-save\", \"download\"]];\n",
       "\n",
       "mpl.extensions = [\"eps\", \"jpeg\", \"pdf\", \"png\", \"ps\", \"raw\", \"svg\", \"tif\"];\n",
       "\n",
       "mpl.default_extension = \"png\";var comm_websocket_adapter = function(comm) {\n",
       "    // Create a \"websocket\"-like object which calls the given IPython comm\n",
       "    // object with the appropriate methods. Currently this is a non binary\n",
       "    // socket, so there is still some room for performance tuning.\n",
       "    var ws = {};\n",
       "\n",
       "    ws.close = function() {\n",
       "        comm.close()\n",
       "    };\n",
       "    ws.send = function(m) {\n",
       "        //console.log('sending', m);\n",
       "        comm.send(m);\n",
       "    };\n",
       "    // Register the callback with on_msg.\n",
       "    comm.on_msg(function(msg) {\n",
       "        //console.log('receiving', msg['content']['data'], msg);\n",
       "        // Pass the mpl event to the overridden (by mpl) onmessage function.\n",
       "        ws.onmessage(msg['content']['data'])\n",
       "    });\n",
       "    return ws;\n",
       "}\n",
       "\n",
       "mpl.mpl_figure_comm = function(comm, msg) {\n",
       "    // This is the function which gets called when the mpl process\n",
       "    // starts-up an IPython Comm through the \"matplotlib\" channel.\n",
       "\n",
       "    var id = msg.content.data.id;\n",
       "    // Get hold of the div created by the display call when the Comm\n",
       "    // socket was opened in Python.\n",
       "    var element = $(\"#\" + id);\n",
       "    var ws_proxy = comm_websocket_adapter(comm)\n",
       "\n",
       "    function ondownload(figure, format) {\n",
       "        window.open(figure.imageObj.src);\n",
       "    }\n",
       "\n",
       "    var fig = new mpl.figure(id, ws_proxy,\n",
       "                           ondownload,\n",
       "                           element.get(0));\n",
       "\n",
       "    // Call onopen now - mpl needs it, as it is assuming we've passed it a real\n",
       "    // web socket which is closed, not our websocket->open comm proxy.\n",
       "    ws_proxy.onopen();\n",
       "\n",
       "    fig.parent_element = element.get(0);\n",
       "    fig.cell_info = mpl.find_output_cell(\"<div id='\" + id + \"'></div>\");\n",
       "    if (!fig.cell_info) {\n",
       "        console.error(\"Failed to find cell for figure\", id, fig);\n",
       "        return;\n",
       "    }\n",
       "\n",
       "    var output_index = fig.cell_info[2]\n",
       "    var cell = fig.cell_info[0];\n",
       "\n",
       "};\n",
       "\n",
       "mpl.figure.prototype.handle_close = function(fig, msg) {\n",
       "    var width = fig.canvas.width/mpl.ratio\n",
       "    fig.root.unbind('remove')\n",
       "\n",
       "    // Update the output cell to use the data from the current canvas.\n",
       "    fig.push_to_output();\n",
       "    var dataURL = fig.canvas.toDataURL();\n",
       "    // Re-enable the keyboard manager in IPython - without this line, in FF,\n",
       "    // the notebook keyboard shortcuts fail.\n",
       "    IPython.keyboard_manager.enable()\n",
       "    $(fig.parent_element).html('<img src=\"' + dataURL + '\" width=\"' + width + '\">');\n",
       "    fig.close_ws(fig, msg);\n",
       "}\n",
       "\n",
       "mpl.figure.prototype.close_ws = function(fig, msg){\n",
       "    fig.send_message('closing', msg);\n",
       "    // fig.ws.close()\n",
       "}\n",
       "\n",
       "mpl.figure.prototype.push_to_output = function(remove_interactive) {\n",
       "    // Turn the data on the canvas into data in the output cell.\n",
       "    var width = this.canvas.width/mpl.ratio\n",
       "    var dataURL = this.canvas.toDataURL();\n",
       "    this.cell_info[1]['text/html'] = '<img src=\"' + dataURL + '\" width=\"' + width + '\">';\n",
       "}\n",
       "\n",
       "mpl.figure.prototype.updated_canvas_event = function() {\n",
       "    // Tell IPython that the notebook contents must change.\n",
       "    IPython.notebook.set_dirty(true);\n",
       "    this.send_message(\"ack\", {});\n",
       "    var fig = this;\n",
       "    // Wait a second, then push the new image to the DOM so\n",
       "    // that it is saved nicely (might be nice to debounce this).\n",
       "    setTimeout(function () { fig.push_to_output() }, 1000);\n",
       "}\n",
       "\n",
       "mpl.figure.prototype._init_toolbar = function() {\n",
       "    var fig = this;\n",
       "\n",
       "    var nav_element = $('<div/>');\n",
       "    nav_element.attr('style', 'width: 100%');\n",
       "    this.root.append(nav_element);\n",
       "\n",
       "    // Define a callback function for later on.\n",
       "    function toolbar_event(event) {\n",
       "        return fig.toolbar_button_onclick(event['data']);\n",
       "    }\n",
       "    function toolbar_mouse_event(event) {\n",
       "        return fig.toolbar_button_onmouseover(event['data']);\n",
       "    }\n",
       "\n",
       "    for(var toolbar_ind in mpl.toolbar_items){\n",
       "        var name = mpl.toolbar_items[toolbar_ind][0];\n",
       "        var tooltip = mpl.toolbar_items[toolbar_ind][1];\n",
       "        var image = mpl.toolbar_items[toolbar_ind][2];\n",
       "        var method_name = mpl.toolbar_items[toolbar_ind][3];\n",
       "\n",
       "        if (!name) { continue; };\n",
       "\n",
       "        var button = $('<button class=\"btn btn-default\" href=\"#\" title=\"' + name + '\"><i class=\"fa ' + image + ' fa-lg\"></i></button>');\n",
       "        button.click(method_name, toolbar_event);\n",
       "        button.mouseover(tooltip, toolbar_mouse_event);\n",
       "        nav_element.append(button);\n",
       "    }\n",
       "\n",
       "    // Add the status bar.\n",
       "    var status_bar = $('<span class=\"mpl-message\" style=\"text-align:right; float: right;\"/>');\n",
       "    nav_element.append(status_bar);\n",
       "    this.message = status_bar[0];\n",
       "\n",
       "    // Add the close button to the window.\n",
       "    var buttongrp = $('<div class=\"btn-group inline pull-right\"></div>');\n",
       "    var button = $('<button class=\"btn btn-mini btn-primary\" href=\"#\" title=\"Stop Interaction\"><i class=\"fa fa-power-off icon-remove icon-large\"></i></button>');\n",
       "    button.click(function (evt) { fig.handle_close(fig, {}); } );\n",
       "    button.mouseover('Stop Interaction', toolbar_mouse_event);\n",
       "    buttongrp.append(button);\n",
       "    var titlebar = this.root.find($('.ui-dialog-titlebar'));\n",
       "    titlebar.prepend(buttongrp);\n",
       "}\n",
       "\n",
       "mpl.figure.prototype._root_extra_style = function(el){\n",
       "    var fig = this\n",
       "    el.on(\"remove\", function(){\n",
       "\tfig.close_ws(fig, {});\n",
       "    });\n",
       "}\n",
       "\n",
       "mpl.figure.prototype._canvas_extra_style = function(el){\n",
       "    // this is important to make the div 'focusable\n",
       "    el.attr('tabindex', 0)\n",
       "    // reach out to IPython and tell the keyboard manager to turn it's self\n",
       "    // off when our div gets focus\n",
       "\n",
       "    // location in version 3\n",
       "    if (IPython.notebook.keyboard_manager) {\n",
       "        IPython.notebook.keyboard_manager.register_events(el);\n",
       "    }\n",
       "    else {\n",
       "        // location in version 2\n",
       "        IPython.keyboard_manager.register_events(el);\n",
       "    }\n",
       "\n",
       "}\n",
       "\n",
       "mpl.figure.prototype._key_event_extra = function(event, name) {\n",
       "    var manager = IPython.notebook.keyboard_manager;\n",
       "    if (!manager)\n",
       "        manager = IPython.keyboard_manager;\n",
       "\n",
       "    // Check for shift+enter\n",
       "    if (event.shiftKey && event.which == 13) {\n",
       "        this.canvas_div.blur();\n",
       "        // select the cell after this one\n",
       "        var index = IPython.notebook.find_cell_index(this.cell_info[0]);\n",
       "        IPython.notebook.select(index + 1);\n",
       "    }\n",
       "}\n",
       "\n",
       "mpl.figure.prototype.handle_save = function(fig, msg) {\n",
       "    fig.ondownload(fig, null);\n",
       "}\n",
       "\n",
       "\n",
       "mpl.find_output_cell = function(html_output) {\n",
       "    // Return the cell and output element which can be found *uniquely* in the notebook.\n",
       "    // Note - this is a bit hacky, but it is done because the \"notebook_saving.Notebook\"\n",
       "    // IPython event is triggered only after the cells have been serialised, which for\n",
       "    // our purposes (turning an active figure into a static one), is too late.\n",
       "    var cells = IPython.notebook.get_cells();\n",
       "    var ncells = cells.length;\n",
       "    for (var i=0; i<ncells; i++) {\n",
       "        var cell = cells[i];\n",
       "        if (cell.cell_type === 'code'){\n",
       "            for (var j=0; j<cell.output_area.outputs.length; j++) {\n",
       "                var data = cell.output_area.outputs[j];\n",
       "                if (data.data) {\n",
       "                    // IPython >= 3 moved mimebundle to data attribute of output\n",
       "                    data = data.data;\n",
       "                }\n",
       "                if (data['text/html'] == html_output) {\n",
       "                    return [cell, data, j];\n",
       "                }\n",
       "            }\n",
       "        }\n",
       "    }\n",
       "}\n",
       "\n",
       "// Register the function which deals with the matplotlib target/channel.\n",
       "// The kernel may be null if the page has been refreshed.\n",
       "if (IPython.notebook.kernel != null) {\n",
       "    IPython.notebook.kernel.comm_manager.register_target('matplotlib', mpl.mpl_figure_comm);\n",
       "}\n"
      ],
      "text/plain": [
       "<IPython.core.display.Javascript object>"
      ]
     },
     "metadata": {},
     "output_type": "display_data"
    },
    {
     "data": {
      "text/html": [
       "<img src=\"data:image/png;base64,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\" width=\"899.9999804930258\">"
      ],
      "text/plain": [
       "<IPython.core.display.HTML object>"
      ]
     },
     "metadata": {},
     "output_type": "display_data"
    }
   ],
   "source": [
    "plt.figure()\n",
    "plt.errorbar(\n",
    "    mus_to_test, \n",
    "    [metric.metrics['PSNR'].mean() for metric in metrics], \n",
    "    [metric.metrics['PSNR'].stddev() for metric in metrics],\n",
    "    linestyle='None', \n",
    "    marker='o',\n",
    ")\n",
    "plt.xscale('log')"
   ]
  },
  {
   "cell_type": "code",
   "execution_count": null,
   "metadata": {},
   "outputs": [],
   "source": []
  }
 ],
 "metadata": {
  "kernelspec": {
   "display_name": "Python 3",
   "language": "python",
   "name": "python3"
  },
  "language_info": {
   "codemirror_mode": {
    "name": "ipython",
    "version": 3
   },
   "file_extension": ".py",
   "mimetype": "text/x-python",
   "name": "python",
   "nbconvert_exporter": "python",
   "pygments_lexer": "ipython3",
   "version": "3.6.8"
  }
 },
 "nbformat": 4,
 "nbformat_minor": 2
}
