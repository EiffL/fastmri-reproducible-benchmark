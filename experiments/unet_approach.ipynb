{
 "cells": [
  {
   "cell_type": "code",
   "execution_count": 1,
   "metadata": {},
   "outputs": [
    {
     "name": "stdout",
     "output_type": "stream",
     "text": [
      "/volatile/home/Zaccharie/workspace/fastmri-reproducible-benchmark\n"
     ]
    }
   ],
   "source": [
    "%cd .."
   ]
  },
  {
   "cell_type": "code",
   "execution_count": 2,
   "metadata": {},
   "outputs": [
    {
     "name": "stderr",
     "output_type": "stream",
     "text": [
      "/volatile/home/Zaccharie/workspace/fastmri-reproducible-benchmark/venv/lib/python3.6/site-packages/h5py/__init__.py:36: FutureWarning: Conversion of the second argument of issubdtype from `float` to `np.floating` is deprecated. In future, it will be treated as `np.float64 == np.dtype(float).type`.\n",
      "  from ._conv import register_converters as _register_converters\n",
      "Using TensorFlow backend.\n"
     ]
    }
   ],
   "source": [
    "%load_ext autoreload\n",
    "%autoreload 2\n",
    "%matplotlib nbagg\n",
    "import os.path as op\n",
    "from keras.callbacks import TensorBoard, ModelCheckpoint, ReduceLROnPlateau\n",
    "from keras.models import load_model\n",
    "from keras_tqdm import TQDMNotebookCallback\n",
    "from tqdm import tqdm_notebook\n",
    "\n",
    "from data import ZeroFilled2DSequence\n",
    "from unet import unet"
   ]
  },
  {
   "cell_type": "code",
   "execution_count": 3,
   "metadata": {},
   "outputs": [],
   "source": [
    "# paths\n",
    "train_path = '/media/Zaccharie/UHRes/singlecoil_train/singlecoil_train/'\n",
    "val_path = '/media/Zaccharie/UHRes/singlecoil_val/'\n",
    "test_path = '/media/Zaccharie/UHRes/singlecoil_test/'"
   ]
  },
  {
   "cell_type": "code",
   "execution_count": 4,
   "metadata": {},
   "outputs": [],
   "source": [
    "n_samples_train = 34742\n",
    "n_samples_val = 7135\n",
    "\n",
    "n_volumes_train = 973\n",
    "n_volumes_val = 199"
   ]
  },
  {
   "cell_type": "code",
   "execution_count": 5,
   "metadata": {},
   "outputs": [],
   "source": [
    "# generators\n",
    "AF = 4\n",
    "train_gen = ZeroFilled2DSequence(train_path, af=AF, norm=True)\n",
    "val_gen = ZeroFilled2DSequence(val_path, mode='validation', af=AF, norm=True)"
   ]
  },
  {
   "cell_type": "code",
   "execution_count": 6,
   "metadata": {},
   "outputs": [],
   "source": [
    "run_params = {\n",
    "    'n_layers': 4, \n",
    "    'pool': 'max', \n",
    "    \"layers_n_channels\": [32, 64, 128, 256], \n",
    "    'layers_n_non_lins': 2,\n",
    "}\n",
    "n_epochs = 100\n",
    "run_id = 'unet_wo_lastrelu_af4'\n",
    "chkpt_path = f'checkpoints/{run_id}' + '-{epoch:02d}.hdf5'"
   ]
  },
  {
   "cell_type": "code",
   "execution_count": 7,
   "metadata": {},
   "outputs": [],
   "source": [
    "chkpt_cback = ModelCheckpoint(chkpt_path, period=50)\n",
    "log_dir = op.join('logs', run_id)\n",
    "tboard_cback = TensorBoard(\n",
    "    log_dir=log_dir, \n",
    "    histogram_freq=0, \n",
    "    write_graph=True, \n",
    "    write_images=False, \n",
    ")\n",
    "lr_on_plat_cback = ReduceLROnPlateau(monitor='val_loss', min_lr=5*1e-5, mode='auto', patience=3)\n",
    "# fix from https://github.com/bstriner/keras-tqdm/issues/31#issuecomment-488453557\n",
    "tqdm_cb = TQDMNotebookCallback()\n",
    "setattr(tqdm_cb,'on_train_batch_begin',lambda x,y:None)\n",
    "setattr(tqdm_cb,'on_train_batch_end',lambda x,y:None)"
   ]
  },
  {
   "cell_type": "code",
   "execution_count": 8,
   "metadata": {
    "scrolled": true
   },
   "outputs": [
    {
     "name": "stderr",
     "output_type": "stream",
     "text": [
      "WARNING: Logging before flag parsing goes to stderr.\n",
      "W0730 11:40:20.487751 140259640231680 deprecation_wrapper.py:119] From /volatile/home/Zaccharie/workspace/fastmri-reproducible-benchmark/venv/lib/python3.6/site-packages/keras/backend/tensorflow_backend.py:74: The name tf.get_default_graph is deprecated. Please use tf.compat.v1.get_default_graph instead.\n",
      "\n",
      "W0730 11:40:20.508064 140259640231680 deprecation_wrapper.py:119] From /volatile/home/Zaccharie/workspace/fastmri-reproducible-benchmark/venv/lib/python3.6/site-packages/keras/backend/tensorflow_backend.py:517: The name tf.placeholder is deprecated. Please use tf.compat.v1.placeholder instead.\n",
      "\n",
      "W0730 11:40:20.513346 140259640231680 deprecation_wrapper.py:119] From /volatile/home/Zaccharie/workspace/fastmri-reproducible-benchmark/venv/lib/python3.6/site-packages/keras/backend/tensorflow_backend.py:4185: The name tf.truncated_normal is deprecated. Please use tf.random.truncated_normal instead.\n",
      "\n",
      "W0730 11:40:20.537530 140259640231680 deprecation_wrapper.py:119] From /volatile/home/Zaccharie/workspace/fastmri-reproducible-benchmark/venv/lib/python3.6/site-packages/keras/backend/tensorflow_backend.py:3976: The name tf.nn.max_pool is deprecated. Please use tf.nn.max_pool2d instead.\n",
      "\n",
      "W0730 11:40:20.607802 140259640231680 deprecation_wrapper.py:119] From /volatile/home/Zaccharie/workspace/fastmri-reproducible-benchmark/venv/lib/python3.6/site-packages/keras/backend/tensorflow_backend.py:2018: The name tf.image.resize_nearest_neighbor is deprecated. Please use tf.compat.v1.image.resize_nearest_neighbor instead.\n",
      "\n",
      "W0730 11:40:20.744536 140259640231680 deprecation_wrapper.py:119] From /volatile/home/Zaccharie/workspace/fastmri-reproducible-benchmark/venv/lib/python3.6/site-packages/keras/optimizers.py:790: The name tf.train.Optimizer is deprecated. Please use tf.compat.v1.train.Optimizer instead.\n",
      "\n"
     ]
    },
    {
     "name": "stdout",
     "output_type": "stream",
     "text": [
      "__________________________________________________________________________________________________\n",
      "Layer (type)                    Output Shape         Param #     Connected to                     \n",
      "==================================================================================================\n",
      "input_1 (InputLayer)            (None, 320, 320, 1)  0                                            \n",
      "__________________________________________________________________________________________________\n",
      "conv2d_1 (Conv2D)               (None, 320, 320, 32) 320         input_1[0][0]                    \n",
      "__________________________________________________________________________________________________\n",
      "conv2d_2 (Conv2D)               (None, 320, 320, 32) 9248        conv2d_1[0][0]                   \n",
      "__________________________________________________________________________________________________\n",
      "max_pooling2d_1 (MaxPooling2D)  (None, 160, 160, 32) 0           conv2d_2[0][0]                   \n",
      "__________________________________________________________________________________________________\n",
      "conv2d_3 (Conv2D)               (None, 160, 160, 64) 18496       max_pooling2d_1[0][0]            \n",
      "__________________________________________________________________________________________________\n",
      "conv2d_4 (Conv2D)               (None, 160, 160, 64) 36928       conv2d_3[0][0]                   \n",
      "__________________________________________________________________________________________________\n",
      "max_pooling2d_2 (MaxPooling2D)  (None, 80, 80, 64)   0           conv2d_4[0][0]                   \n",
      "__________________________________________________________________________________________________\n",
      "conv2d_5 (Conv2D)               (None, 80, 80, 128)  73856       max_pooling2d_2[0][0]            \n",
      "__________________________________________________________________________________________________\n",
      "conv2d_6 (Conv2D)               (None, 80, 80, 128)  147584      conv2d_5[0][0]                   \n",
      "__________________________________________________________________________________________________\n",
      "max_pooling2d_3 (MaxPooling2D)  (None, 40, 40, 128)  0           conv2d_6[0][0]                   \n",
      "__________________________________________________________________________________________________\n",
      "conv2d_7 (Conv2D)               (None, 40, 40, 256)  295168      max_pooling2d_3[0][0]            \n",
      "__________________________________________________________________________________________________\n",
      "conv2d_8 (Conv2D)               (None, 40, 40, 256)  590080      conv2d_7[0][0]                   \n",
      "__________________________________________________________________________________________________\n",
      "up_sampling2d_1 (UpSampling2D)  (None, 80, 80, 256)  0           conv2d_8[0][0]                   \n",
      "__________________________________________________________________________________________________\n",
      "conv2d_9 (Conv2D)               (None, 80, 80, 128)  131200      up_sampling2d_1[0][0]            \n",
      "__________________________________________________________________________________________________\n",
      "concatenate_1 (Concatenate)     (None, 80, 80, 256)  0           conv2d_6[0][0]                   \n",
      "                                                                 conv2d_9[0][0]                   \n",
      "__________________________________________________________________________________________________\n",
      "conv2d_10 (Conv2D)              (None, 80, 80, 128)  295040      concatenate_1[0][0]              \n",
      "__________________________________________________________________________________________________\n",
      "conv2d_11 (Conv2D)              (None, 80, 80, 128)  147584      conv2d_10[0][0]                  \n",
      "__________________________________________________________________________________________________\n",
      "up_sampling2d_2 (UpSampling2D)  (None, 160, 160, 128 0           conv2d_11[0][0]                  \n",
      "__________________________________________________________________________________________________\n",
      "conv2d_12 (Conv2D)              (None, 160, 160, 64) 32832       up_sampling2d_2[0][0]            \n",
      "__________________________________________________________________________________________________\n",
      "concatenate_2 (Concatenate)     (None, 160, 160, 128 0           conv2d_4[0][0]                   \n",
      "                                                                 conv2d_12[0][0]                  \n",
      "__________________________________________________________________________________________________\n",
      "conv2d_13 (Conv2D)              (None, 160, 160, 64) 73792       concatenate_2[0][0]              \n",
      "__________________________________________________________________________________________________\n",
      "conv2d_14 (Conv2D)              (None, 160, 160, 64) 36928       conv2d_13[0][0]                  \n",
      "__________________________________________________________________________________________________\n",
      "up_sampling2d_3 (UpSampling2D)  (None, 320, 320, 64) 0           conv2d_14[0][0]                  \n",
      "__________________________________________________________________________________________________\n",
      "conv2d_15 (Conv2D)              (None, 320, 320, 32) 8224        up_sampling2d_3[0][0]            \n",
      "__________________________________________________________________________________________________\n",
      "concatenate_3 (Concatenate)     (None, 320, 320, 64) 0           conv2d_2[0][0]                   \n",
      "                                                                 conv2d_15[0][0]                  \n",
      "__________________________________________________________________________________________________\n",
      "conv2d_16 (Conv2D)              (None, 320, 320, 32) 18464       concatenate_3[0][0]              \n",
      "__________________________________________________________________________________________________\n",
      "conv2d_17 (Conv2D)              (None, 320, 320, 32) 9248        conv2d_16[0][0]                  \n",
      "__________________________________________________________________________________________________\n",
      "conv2d_18 (Conv2D)              (None, 320, 320, 4)  132         conv2d_17[0][0]                  \n",
      "__________________________________________________________________________________________________\n",
      "conv2d_19 (Conv2D)              (None, 320, 320, 1)  5           conv2d_18[0][0]                  \n",
      "==================================================================================================\n",
      "Total params: 1,925,129\n",
      "Trainable params: 1,925,129\n",
      "Non-trainable params: 0\n",
      "__________________________________________________________________________________________________\n",
      "None\n"
     ]
    }
   ],
   "source": [
    "model = unet(input_size=(320, 320, 1), lr=1e-3, **run_params)\n",
    "print(model.summary())"
   ]
  },
  {
   "cell_type": "code",
   "execution_count": 9,
   "metadata": {
    "scrolled": true
   },
   "outputs": [],
   "source": [
    "model.fit_generator(\n",
    "    train_gen, \n",
    "    steps_per_epoch=n_volumes_train, \n",
    "    epochs=n_epochs,\n",
    "    validation_data=val_gen,\n",
    "    validation_steps=n_volumes_val,\n",
    "    verbose=0,\n",
    "    callbacks=[tqdm_cb, tboard_cback, chkpt_cback, lr_on_plat_cback],\n",
    "    max_queue_size=50,\n",
    "    use_multiprocessing=True,\n",
    "    workers=35,\n",
    ")"
   ]
  },
  {
   "cell_type": "code",
   "execution_count": 10,
   "metadata": {
    "scrolled": true
   },
   "outputs": [
    {
     "name": "stderr",
     "output_type": "stream",
     "text": [
      "W0730 11:40:23.671902 140259640231680 deprecation_wrapper.py:119] From /volatile/home/Zaccharie/workspace/fastmri-reproducible-benchmark/venv/lib/python3.6/site-packages/keras/backend/tensorflow_backend.py:986: The name tf.assign_add is deprecated. Please use tf.compat.v1.assign_add instead.\n",
      "\n",
      "W0730 11:40:24.145766 140259640231680 deprecation_wrapper.py:119] From /volatile/home/Zaccharie/workspace/fastmri-reproducible-benchmark/venv/lib/python3.6/site-packages/keras/backend/tensorflow_backend.py:973: The name tf.assign is deprecated. Please use tf.compat.v1.assign instead.\n",
      "\n"
     ]
    },
    {
     "name": "stdout",
     "output_type": "stream",
     "text": [
      "Epoch 1/50\n",
      " - 9s - loss: 1.4108 - mean_squared_error: 4.2043 - keras_psnr: 25.0042 - keras_ssim: -1.0433e-01\n",
      "Epoch 2/50\n",
      " - 1s - loss: 8.3795 - mean_squared_error: 103.3717 - keras_psnr: 11.0815 - keras_ssim: -2.0473e-02\n",
      "Epoch 3/50\n",
      " - 1s - loss: 1.7845 - mean_squared_error: 5.7691 - keras_psnr: 23.7973 - keras_ssim: 0.0691\n",
      "Epoch 4/50\n",
      " - 1s - loss: 0.5254 - mean_squared_error: 0.6258 - keras_psnr: 34.4398 - keras_ssim: 0.6909\n",
      "Epoch 5/50\n",
      " - 1s - loss: 0.5675 - mean_squared_error: 0.6494 - keras_psnr: 33.9805 - keras_ssim: 0.6394\n",
      "Epoch 6/50\n",
      " - 1s - loss: 0.6040 - mean_squared_error: 0.7701 - keras_psnr: 33.4162 - keras_ssim: 0.6137\n",
      "Epoch 7/50\n",
      " - 1s - loss: 0.5159 - mean_squared_error: 0.6111 - keras_psnr: 34.5128 - keras_ssim: 0.6842\n",
      "Epoch 8/50\n",
      " - 1s - loss: 0.4977 - mean_squared_error: 0.5603 - keras_psnr: 34.8786 - keras_ssim: 0.7117\n",
      "Epoch 9/50\n",
      " - 1s - loss: 0.5066 - mean_squared_error: 0.5632 - keras_psnr: 34.8036 - keras_ssim: 0.7066\n",
      "Epoch 10/50\n",
      " - 1s - loss: 0.4960 - mean_squared_error: 0.5500 - keras_psnr: 34.9785 - keras_ssim: 0.7131\n",
      "Epoch 11/50\n",
      " - 1s - loss: 0.4871 - mean_squared_error: 0.5423 - keras_psnr: 35.1440 - keras_ssim: 0.7143\n",
      "Epoch 12/50\n",
      " - 1s - loss: 0.4897 - mean_squared_error: 0.5488 - keras_psnr: 35.1303 - keras_ssim: 0.7094\n",
      "Epoch 13/50\n",
      " - 1s - loss: 0.4878 - mean_squared_error: 0.5431 - keras_psnr: 35.2057 - keras_ssim: 0.7120\n",
      "Epoch 14/50\n",
      " - 1s - loss: 0.4793 - mean_squared_error: 0.5216 - keras_psnr: 35.4336 - keras_ssim: 0.7213\n",
      "Epoch 15/50\n",
      " - 1s - loss: 0.4763 - mean_squared_error: 0.5067 - keras_psnr: 35.5666 - keras_ssim: 0.7266\n",
      "Epoch 16/50\n",
      " - 1s - loss: 0.4766 - mean_squared_error: 0.5004 - keras_psnr: 35.6121 - keras_ssim: 0.7285\n",
      "Epoch 17/50\n",
      " - 1s - loss: 0.4710 - mean_squared_error: 0.4906 - keras_psnr: 35.7754 - keras_ssim: 0.7329\n",
      "Epoch 18/50\n",
      " - 1s - loss: 0.4676 - mean_squared_error: 0.4900 - keras_psnr: 35.8477 - keras_ssim: 0.7349\n",
      "Epoch 19/50\n",
      " - 1s - loss: 0.4665 - mean_squared_error: 0.4863 - keras_psnr: 35.9058 - keras_ssim: 0.7341\n",
      "Epoch 20/50\n",
      " - 1s - loss: 0.4606 - mean_squared_error: 0.4680 - keras_psnr: 36.0869 - keras_ssim: 0.7398\n",
      "Epoch 21/50\n",
      " - 1s - loss: 0.4616 - mean_squared_error: 0.4607 - keras_psnr: 36.1163 - keras_ssim: 0.7395\n",
      "Epoch 22/50\n",
      " - 1s - loss: 0.4564 - mean_squared_error: 0.4543 - keras_psnr: 36.2537 - keras_ssim: 0.7433\n",
      "Epoch 23/50\n",
      " - 1s - loss: 0.4555 - mean_squared_error: 0.4564 - keras_psnr: 36.2865 - keras_ssim: 0.7446\n",
      "Epoch 24/50\n",
      " - 1s - loss: 0.4538 - mean_squared_error: 0.4524 - keras_psnr: 36.3441 - keras_ssim: 0.7463\n",
      "Epoch 25/50\n",
      " - 1s - loss: 0.4506 - mean_squared_error: 0.4419 - keras_psnr: 36.4462 - keras_ssim: 0.7486\n",
      "Epoch 26/50\n",
      " - 1s - loss: 0.4510 - mean_squared_error: 0.4384 - keras_psnr: 36.4527 - keras_ssim: 0.7491\n",
      "Epoch 27/50\n",
      " - 1s - loss: 0.4481 - mean_squared_error: 0.4359 - keras_psnr: 36.5210 - keras_ssim: 0.7518\n",
      "Epoch 28/50\n",
      " - 1s - loss: 0.4486 - mean_squared_error: 0.4394 - keras_psnr: 36.4917 - keras_ssim: 0.7512\n",
      "Epoch 29/50\n",
      " - 1s - loss: 0.4461 - mean_squared_error: 0.4325 - keras_psnr: 36.5615 - keras_ssim: 0.7529\n",
      "Epoch 30/50\n",
      " - 1s - loss: 0.4460 - mean_squared_error: 0.4284 - keras_psnr: 36.5669 - keras_ssim: 0.7536\n",
      "Epoch 31/50\n",
      " - 1s - loss: 0.4443 - mean_squared_error: 0.4258 - keras_psnr: 36.6087 - keras_ssim: 0.7552\n",
      "Epoch 32/50\n",
      " - 1s - loss: 0.4434 - mean_squared_error: 0.4265 - keras_psnr: 36.6245 - keras_ssim: 0.7564\n",
      "Epoch 33/50\n",
      " - 1s - loss: 0.4426 - mean_squared_error: 0.4252 - keras_psnr: 36.6438 - keras_ssim: 0.7571\n",
      "Epoch 34/50\n",
      " - 1s - loss: 0.4409 - mean_squared_error: 0.4199 - keras_psnr: 36.6928 - keras_ssim: 0.7585\n",
      "Epoch 35/50\n",
      " - 1s - loss: 0.4406 - mean_squared_error: 0.4176 - keras_psnr: 36.7007 - keras_ssim: 0.7592\n",
      "Epoch 36/50\n",
      " - 1s - loss: 0.4389 - mean_squared_error: 0.4161 - keras_psnr: 36.7479 - keras_ssim: 0.7604\n",
      "Epoch 37/50\n",
      " - 1s - loss: 0.4386 - mean_squared_error: 0.4168 - keras_psnr: 36.7512 - keras_ssim: 0.7605\n",
      "Epoch 38/50\n",
      " - 1s - loss: 0.4371 - mean_squared_error: 0.4123 - keras_psnr: 36.7963 - keras_ssim: 0.7618\n",
      "Epoch 39/50\n",
      " - 1s - loss: 0.4366 - mean_squared_error: 0.4088 - keras_psnr: 36.8130 - keras_ssim: 0.7622\n",
      "Epoch 40/50\n",
      " - 1s - loss: 0.4354 - mean_squared_error: 0.4075 - keras_psnr: 36.8414 - keras_ssim: 0.7630\n",
      "Epoch 41/50\n",
      " - 1s - loss: 0.4348 - mean_squared_error: 0.4083 - keras_psnr: 36.8511 - keras_ssim: 0.7627\n",
      "Epoch 42/50\n",
      " - 1s - loss: 0.4336 - mean_squared_error: 0.4036 - keras_psnr: 36.8811 - keras_ssim: 0.7646\n",
      "Epoch 43/50\n",
      " - 1s - loss: 0.4332 - mean_squared_error: 0.3994 - keras_psnr: 36.9007 - keras_ssim: 0.7652\n",
      "Epoch 44/50\n",
      " - 1s - loss: 0.4319 - mean_squared_error: 0.3997 - keras_psnr: 36.9219 - keras_ssim: 0.7661\n",
      "Epoch 45/50\n",
      " - 1s - loss: 0.4313 - mean_squared_error: 0.3997 - keras_psnr: 36.9320 - keras_ssim: 0.7662\n",
      "Epoch 46/50\n",
      " - 1s - loss: 0.4304 - mean_squared_error: 0.3933 - keras_psnr: 36.9621 - keras_ssim: 0.7690\n",
      "Epoch 47/50\n",
      " - 1s - loss: 0.4291 - mean_squared_error: 0.3927 - keras_psnr: 36.9849 - keras_ssim: 0.7707\n",
      "Epoch 48/50\n",
      " - 1s - loss: 0.4285 - mean_squared_error: 0.3928 - keras_psnr: 36.9920 - keras_ssim: 0.7707\n",
      "Epoch 49/50\n",
      " - 1s - loss: 0.4293 - mean_squared_error: 0.3860 - keras_psnr: 37.0026 - keras_ssim: 0.7709\n",
      "Epoch 50/50\n",
      " - 1s - loss: 0.4295 - mean_squared_error: 0.3962 - keras_psnr: 36.9701 - keras_ssim: 0.7668\n"
     ]
    },
    {
     "data": {
      "text/plain": [
       "<keras.callbacks.History at 0x7f8fe4ca46d8>"
      ]
     },
     "execution_count": 10,
     "metadata": {},
     "output_type": "execute_result"
    }
   ],
   "source": [
    "# # overfitting trials\n",
    "\n",
    "# data = train_gen[0]\n",
    "# val_data = val_gen[0]\n",
    "# model.fit(\n",
    "#     x=data[0], \n",
    "#     y=data[1], \n",
    "# #     validation_data=val_data, \n",
    "#     batch_size=data[0].shape[0], \n",
    "#     epochs=50, \n",
    "#     verbose=2, \n",
    "#     shuffle=False,\n",
    "# )"
   ]
  },
  {
   "cell_type": "code",
   "execution_count": null,
   "metadata": {},
   "outputs": [],
   "source": []
  }
 ],
 "metadata": {
  "kernelspec": {
   "display_name": "Python 3",
   "language": "python",
   "name": "python3"
  },
  "language_info": {
   "codemirror_mode": {
    "name": "ipython",
    "version": 3
   },
   "file_extension": ".py",
   "mimetype": "text/x-python",
   "name": "python",
   "nbconvert_exporter": "python",
   "pygments_lexer": "ipython3",
   "version": "3.6.8"
  },
  "notify_time": "30"
 },
 "nbformat": 4,
 "nbformat_minor": 2
}
