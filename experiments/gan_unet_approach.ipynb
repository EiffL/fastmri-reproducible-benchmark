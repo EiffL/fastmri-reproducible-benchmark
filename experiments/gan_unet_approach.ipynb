{
 "cells": [
  {
   "cell_type": "code",
   "execution_count": 1,
   "metadata": {},
   "outputs": [
    {
     "name": "stderr",
     "output_type": "stream",
     "text": [
      "/volatile/home/Zaccharie/workspace/fastmri-reproducible-benchmark/venv/lib/python3.6/site-packages/h5py/__init__.py:36: FutureWarning: Conversion of the second argument of issubdtype from `float` to `np.floating` is deprecated. In future, it will be treated as `np.float64 == np.dtype(float).type`.\n",
      "  from ._conv import register_converters as _register_converters\n",
      "Using TensorFlow backend.\n"
     ]
    }
   ],
   "source": [
    "%load_ext autoreload\n",
    "%autoreload 2\n",
    "%matplotlib nbagg\n",
    "import os.path as op\n",
    "import time\n",
    "\n",
    "from keras.callbacks import TensorBoard, ModelCheckpoint\n",
    "from keras.optimizers import Adam\n",
    "from keras_tqdm import TQDMNotebookCallback\n",
    "import matplotlib.pyplot as plt\n",
    "import numpy as np\n",
    "from tqdm import tqdm_notebook\n",
    "\n",
    "from fastmri_recon.data.fastmri_sequences import ZeroFilled2DSequence\n",
    "from fastmri_recon.helpers.adversarial_training import compile_models, adversarial_training_loop\n",
    "from fastmri_recon.helpers.image_tboard_cback import TensorBoardImage\n",
    "from fastmri_recon.helpers.keras_utils import wasserstein_loss\n",
    "from fastmri_recon.models.discriminator import discriminator_model, generator_containing_discriminator_multiple_outputs\n",
    "from fastmri_recon.models.unet import unet"
   ]
  },
  {
   "cell_type": "code",
   "execution_count": 2,
   "metadata": {},
   "outputs": [],
   "source": [
    "run_params = {\n",
    "    'n_layers': 4, \n",
    "    'pool': 'max', \n",
    "    \"layers_n_channels\": [16, 32, 64, 128], \n",
    "    'layers_n_non_lins': 2,\n",
    "}\n",
    "\n",
    "def generator_model():\n",
    "    model = unet(input_size=(320, 320, 1), **run_params, compile=False)\n",
    "    model.name = 'Reconstructor'\n",
    "    return model"
   ]
  },
  {
   "cell_type": "code",
   "execution_count": 3,
   "metadata": {},
   "outputs": [
    {
     "name": "stderr",
     "output_type": "stream",
     "text": [
      "WARNING: Logging before flag parsing goes to stderr.\n",
      "W1026 14:59:13.956563 140209183528704 deprecation_wrapper.py:119] From /volatile/home/Zaccharie/workspace/keras/keras/backend/tensorflow_backend.py:4070: The name tf.nn.max_pool is deprecated. Please use tf.nn.max_pool2d instead.\n",
      "\n"
     ]
    }
   ],
   "source": [
    "# model definitions\n",
    "g = generator_model()\n",
    "# prev_run_id = 'unet_wo_lastrelu_af4_1572013433'\n",
    "# prev_epoch = 500\n",
    "# chkpt_path = f'checkpoints/{prev_run_id}-{prev_epoch}.hdf5'\n",
    "# g.load_weights(chkpt_path)\n",
    "d = discriminator_model()\n",
    "d_on_g = generator_containing_discriminator_multiple_outputs(g, d)"
   ]
  },
  {
   "cell_type": "code",
   "execution_count": 4,
   "metadata": {},
   "outputs": [],
   "source": [
    "# model compiling\n",
    "perceptual_loss = 'mae'\n",
    "\n",
    "discriminator_lr = 1e-4\n",
    "d_on_reconstructor_lr = 1e-3\n",
    "\n",
    "compile_models(\n",
    "    d, \n",
    "    g, \n",
    "    d_on_g, \n",
    "    d_lr=discriminator_lr, \n",
    "    d_on_g_lr=d_on_reconstructor_lr, \n",
    "    perceptual_loss=perceptual_loss, \n",
    "    perceptual_weight=1.0,\n",
    ")"
   ]
  },
  {
   "cell_type": "code",
   "execution_count": 5,
   "metadata": {},
   "outputs": [
    {
     "name": "stdout",
     "output_type": "stream",
     "text": [
      "unet_gan_af4_1572094755\n"
     ]
    }
   ],
   "source": [
    "train_path = '/media/Zaccharie/UHRes/singlecoil_train/singlecoil_train/'\n",
    "val_path = '/media/Zaccharie/UHRes/singlecoil_val/'\n",
    "n_volumes_train = 973\n",
    "n_volumes_val = 199\n",
    "AF = 4\n",
    "train_gen = ZeroFilled2DSequence(train_path, af=AF, norm=True)\n",
    "val_gen = ZeroFilled2DSequence(val_path, af=AF, norm=True)\n",
    "\n",
    "epoch_num = 100\n",
    "critic_updates = 5\n",
    "\n",
    "run_id = f'unet_gan_af{AF}_{int(time.time())}'\n",
    "chkpt_path = f'checkpoints/{run_id}' + '-{epoch:02d}.hdf5'\n",
    "print(run_id)"
   ]
  },
  {
   "cell_type": "code",
   "execution_count": 6,
   "metadata": {},
   "outputs": [],
   "source": [
    "log_dir = op.join('logs', run_id)\n",
    "tqdm_cb = TQDMNotebookCallback(metric_format=\"{name}: {value:e}\")\n",
    "tboard_cback = TensorBoard(\n",
    "    log_dir=log_dir, \n",
    "    write_graph=True, \n",
    "    update_freq=50,\n",
    ")\n",
    "chkpt_cback = ModelCheckpoint(chkpt_path, period=epoch_num)\n",
    "selected_slice = 15\n",
    "tboard_image_cback = TensorBoardImage(\n",
    "    log_dir=log_dir + '/images',\n",
    "    image=val_gen[0][1][selected_slice:selected_slice+1],\n",
    "    # NOTE: for cross-domain slice has to be on kspace and mask\n",
    "    model_input=val_gen[0][0][selected_slice:selected_slice+1],\n",
    ")"
   ]
  },
  {
   "cell_type": "code",
   "execution_count": null,
   "metadata": {},
   "outputs": [
    {
     "name": "stderr",
     "output_type": "stream",
     "text": [
      "W1026 14:59:19.706170 140209183528704 deprecation_wrapper.py:119] From /volatile/home/Zaccharie/workspace/keras/keras/callbacks/tensorboard_v1.py:200: The name tf.summary.merge_all is deprecated. Please use tf.compat.v1.summary.merge_all instead.\n",
      "\n",
      "W1026 14:59:19.711432 140209183528704 deprecation_wrapper.py:119] From /volatile/home/Zaccharie/workspace/keras/keras/callbacks/tensorboard_v1.py:203: The name tf.summary.FileWriter is deprecated. Please use tf.compat.v1.summary.FileWriter instead.\n",
      "\n"
     ]
    },
    {
     "data": {
      "application/vnd.jupyter.widget-view+json": {
       "model_id": "bbc6c13d469a4489b2e74d42f82bbdf1",
       "version_major": 2,
       "version_minor": 0
      },
      "text/plain": [
       "HBox(children=(IntProgress(value=0, description='Training', style=ProgressStyle(description_width='initial')),…"
      ]
     },
     "metadata": {},
     "output_type": "display_data"
    },
    {
     "name": "stderr",
     "output_type": "stream",
     "text": [
      "/volatile/home/Zaccharie/workspace/fastmri-reproducible-benchmark/venv/lib/python3.6/site-packages/skimage/util/dtype.py:135: UserWarning: Possible precision loss when converting from float32 to uint8\n",
      "  .format(dtypeobj_in, dtypeobj_out))\n",
      "W1026 14:59:19.944834 140209183528704 deprecation_wrapper.py:119] From /volatile/home/Zaccharie/workspace/fastmri-reproducible-benchmark/fastmri_recon/helpers/image_tboard_cback.py:26: The name tf.Summary is deprecated. Please use tf.compat.v1.Summary instead.\n",
      "\n"
     ]
    },
    {
     "data": {
      "application/vnd.jupyter.widget-view+json": {
       "model_id": "966b1073a8f949b0bcac7723fcd933ae",
       "version_major": 2,
       "version_minor": 0
      },
      "text/plain": [
       "HBox(children=(IntProgress(value=0, description='Epoch 0', max=973, style=ProgressStyle(description_width='ini…"
      ]
     },
     "metadata": {},
     "output_type": "display_data"
    },
    {
     "name": "stderr",
     "output_type": "stream",
     "text": [
      "W1026 14:59:26.360121 140209183528704 deprecation_wrapper.py:119] From /volatile/home/Zaccharie/workspace/keras/keras/backend/tensorflow_backend.py:422: The name tf.global_variables is deprecated. Please use tf.compat.v1.global_variables instead.\n",
      "\n"
     ]
    }
   ],
   "source": [
    "%%time\n",
    "adversarial_training_loop(\n",
    "    g, \n",
    "    d, \n",
    "    d_on_g, \n",
    "    train_gen, \n",
    "    val_gen=val_gen,\n",
    "    validation_steps=1,\n",
    "    n_epochs=epoch_num, \n",
    "    n_batches=n_volumes_train, \n",
    "    n_critic_updates=critic_updates,\n",
    "    callbacks=[tqdm_cb, tboard_cback, chkpt_cback, tboard_image_cback],\n",
    "    workers=35,\n",
    "    use_multiprocessing=True,\n",
    "    max_queue_size=35,\n",
    "    include_d_metrics=True,\n",
    ")"
   ]
  },
  {
   "cell_type": "code",
   "execution_count": null,
   "metadata": {
    "scrolled": false
   },
   "outputs": [],
   "source": [
    "# %%time\n",
    "# #overfitting trial\n",
    "# adversarial_training_loop(\n",
    "#     g, \n",
    "#     d, \n",
    "#     d_on_g, \n",
    "#     train_gen, \n",
    "# #     val_gen=val_gen,\n",
    "# #     validation_steps=1,\n",
    "#     n_epochs=500, \n",
    "#     n_batches=1, \n",
    "#     n_critic_updates=5,\n",
    "#     callbacks=[tqdm_cb, tboard_cback, tboard_image_cback],\n",
    "# #     workers=35,\n",
    "# #     use_multiprocessing=True,\n",
    "# #     max_queue_size=35,\n",
    "#     include_d_metrics=True,\n",
    "# )"
   ]
  },
  {
   "cell_type": "code",
   "execution_count": null,
   "metadata": {},
   "outputs": [],
   "source": []
  }
 ],
 "metadata": {
  "kernelspec": {
   "display_name": "Python 3",
   "language": "python",
   "name": "python3"
  },
  "language_info": {
   "codemirror_mode": {
    "name": "ipython",
    "version": 3
   },
   "file_extension": ".py",
   "mimetype": "text/x-python",
   "name": "python",
   "nbconvert_exporter": "python",
   "pygments_lexer": "ipython3",
   "version": "3.6.8"
  },
  "notify_time": "30"
 },
 "nbformat": 4,
 "nbformat_minor": 2
}
