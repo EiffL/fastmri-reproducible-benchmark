{
 "cells": [
  {
   "cell_type": "code",
   "execution_count": 1,
   "metadata": {},
   "outputs": [
    {
     "name": "stdout",
     "output_type": "stream",
     "text": [
      "/volatile/home/Zaccharie/workspace/fastmri-reproducible-benchmark\n"
     ]
    }
   ],
   "source": [
    "%cd .."
   ]
  },
  {
   "cell_type": "code",
   "execution_count": 2,
   "metadata": {},
   "outputs": [
    {
     "name": "stderr",
     "output_type": "stream",
     "text": [
      "/volatile/home/Zaccharie/workspace/fastmri-reproducible-benchmark/venv/lib/python3.6/site-packages/h5py/__init__.py:36: FutureWarning: Conversion of the second argument of issubdtype from `float` to `np.floating` is deprecated. In future, it will be treated as `np.float64 == np.dtype(float).type`.\n",
      "  from ._conv import register_converters as _register_converters\n",
      "Using TensorFlow backend.\n"
     ]
    }
   ],
   "source": [
    "%load_ext autoreload\n",
    "%autoreload 2\n",
    "%matplotlib nbagg\n",
    "import os.path as op\n",
    "import time\n",
    "\n",
    "from tensorflow.keras.callbacks import TensorBoard, ModelCheckpoint, ReduceLROnPlateau\n",
    "from tensorflow.keras.optimizers import Adam\n",
    "from keras_tqdm import TQDMNotebookCallback\n",
    "import tensorflow as tf\n",
    "from tqdm import tqdm_notebook\n",
    "\n",
    "from data import MaskedUntouched2DSequence, MaskedUntouchedSingleSlice2DSequence\n",
    "from pdnet import PDNet, InvShiftCropNet\n",
    "from utils import keras_psnr, keras_ssim"
   ]
  },
  {
   "cell_type": "code",
   "execution_count": 3,
   "metadata": {},
   "outputs": [],
   "source": [
    "# paths\n",
    "train_path = '/media/Zaccharie/UHRes/singlecoil_train/singlecoil_train/'\n",
    "val_path = '/media/Zaccharie/UHRes/singlecoil_val/'\n",
    "test_path = '/media/Zaccharie/UHRes/singlecoil_test/'"
   ]
  },
  {
   "cell_type": "code",
   "execution_count": 4,
   "metadata": {},
   "outputs": [],
   "source": [
    "n_samples_train = 34742\n",
    "n_samples_val = 7135\n",
    "\n",
    "n_volumes_train = 973\n",
    "n_volumes_val = 199"
   ]
  },
  {
   "cell_type": "code",
   "execution_count": 5,
   "metadata": {},
   "outputs": [],
   "source": [
    "# generators\n",
    "AF = 4\n",
    "# MaskedUntouched2DSequence, MaskedUntouchedSingleSlice2DSequence\n",
    "train_gen = MaskedUntouched2DSequence(train_path, af=AF, inner_slices=16)\n",
    "val_gen = MaskedUntouched2DSequence(val_path, af=AF)"
   ]
  },
  {
   "cell_type": "code",
   "execution_count": 6,
   "metadata": {},
   "outputs": [],
   "source": [
    "run_params = {\n",
    "    'n_primal': 3,\n",
    "    'n_dual': 3,\n",
    "    'n_iter': 5,\n",
    "    'n_filters': 8,\n",
    "#     'n_primal': 2,\n",
    "#     'n_dual': 2,\n",
    "#     'n_iter': 2,\n",
    "#     'n_filters': 8,\n",
    "}\n",
    "\n",
    "n_epochs = 1\n",
    "run_id = f'pdnet_subclassed_af{AF}_{int(time.time())}'\n",
    "chkpt_path = f'checkpoints/{run_id}' + '-{epoch:02d}.hdf5'"
   ]
  },
  {
   "cell_type": "code",
   "execution_count": 7,
   "metadata": {},
   "outputs": [
    {
     "name": "stderr",
     "output_type": "stream",
     "text": [
      "WARNING: Logging before flag parsing goes to stderr.\n",
      "W0806 17:55:45.971202 140508429580032 callbacks.py:875] `period` argument is deprecated. Please use `save_freq` to specify the frequency in number of samples seen.\n"
     ]
    }
   ],
   "source": [
    "chkpt_cback = ModelCheckpoint(chkpt_path, period=500, save_weights_only=True)\n",
    "log_dir = op.join('logs', run_id)\n",
    "tboard_cback = TensorBoard(\n",
    "    log_dir=log_dir, \n",
    "    histogram_freq=0, \n",
    "    write_graph=True, \n",
    "    write_images=False, \n",
    ")\n",
    "lr_on_plat_cback = ReduceLROnPlateau(monitor='val_loss', min_lr=5*1e-5, mode='auto', patience=3)\n",
    "# fix from https://github.com/bstriner/keras-tqdm/issues/31#issuecomment-516325065\n",
    "tqdm_cb = TQDMNotebookCallback(metric_format=\"{name}: {value:e}\")\n",
    "# tqdm_cb.on_train_batch_begin = tqdm_cb.on_batch_begin\n",
    "# tqdm_cb.on_train_batch_end = tqdm_cb.on_batch_end\n",
    "# tqdm_cb.on_test_begin = lambda x,y:None\n",
    "# tqdm_cb.on_test_end = lambda x,y:None"
   ]
  },
  {
   "cell_type": "code",
   "execution_count": 8,
   "metadata": {
    "scrolled": false
   },
   "outputs": [],
   "source": [
    "# model = InvShiftCropNet(**run_params)\n",
    "model = PDNet(**run_params)\n",
    "model.compile(\n",
    "    optimizer=Adam(lr=1e-2),\n",
    "    loss='mean_absolute_error',\n",
    "    metrics=['mean_squared_error', keras_psnr, keras_ssim],\n",
    ")"
   ]
  },
  {
   "cell_type": "code",
   "execution_count": 9,
   "metadata": {
    "scrolled": true
   },
   "outputs": [
    {
     "data": {
      "application/vnd.jupyter.widget-view+json": {
       "model_id": "5f8bd7f56767436199947876698946b9",
       "version_major": 2,
       "version_minor": 0
      },
      "text/plain": [
       "HBox(children=(IntProgress(value=0, description='Training', max=1000, style=ProgressStyle(description_width='i…"
      ]
     },
     "metadata": {},
     "output_type": "display_data"
    },
    {
     "data": {
      "application/vnd.jupyter.widget-view+json": {
       "model_id": "",
       "version_major": 2,
       "version_minor": 0
      },
      "text/plain": [
       "HBox(children=(IntProgress(value=0, description='Epoch 0', max=10, style=ProgressStyle(description_width='init…"
      ]
     },
     "metadata": {},
     "output_type": "display_data"
    },
    {
     "name": "stdout",
     "output_type": "stream",
     "text": [
      "Epoch 1/1000\n"
     ]
    },
    {
     "name": "stderr",
     "output_type": "stream",
     "text": [
      "W0806 17:55:50.961128 140508429580032 deprecation.py:323] From /volatile/home/Zaccharie/workspace/fastmri-reproducible-benchmark/venv/lib/python3.6/site-packages/tensorflow/python/autograph/impl/api.py:255: to_float (from tensorflow.python.ops.math_ops) is deprecated and will be removed in a future version.\n",
      "Instructions for updating:\n",
      "Use `tf.cast` instead.\n"
     ]
    },
    {
     "name": "stdout",
     "output_type": "stream",
     "text": [
      "10/10 - 50s - loss: 4.1251e-05 - mean_squared_error: 5.3749e-09 - keras_psnr: 14.2776 - keras_ssim: 0.2722 - val_loss: 2.9233e-05 - val_mean_squared_error: 2.4908e-09 - val_keras_psnr: 19.3870 - val_keras_ssim: 0.3451\n"
     ]
    },
    {
     "data": {
      "application/vnd.jupyter.widget-view+json": {
       "model_id": "",
       "version_major": 2,
       "version_minor": 0
      },
      "text/plain": [
       "HBox(children=(IntProgress(value=0, description='Epoch 1', max=10, style=ProgressStyle(description_width='init…"
      ]
     },
     "metadata": {},
     "output_type": "display_data"
    },
    {
     "name": "stdout",
     "output_type": "stream",
     "text": [
      "Epoch 2/1000\n",
      "10/10 - 30s - loss: 2.9372e-05 - mean_squared_error: 3.0021e-09 - keras_psnr: 18.6773 - keras_ssim: 0.3644 - val_loss: 2.1300e-05 - val_mean_squared_error: 1.2145e-09 - val_keras_psnr: 22.1491 - val_keras_ssim: 0.4146\n"
     ]
    },
    {
     "data": {
      "application/vnd.jupyter.widget-view+json": {
       "model_id": "",
       "version_major": 2,
       "version_minor": 0
      },
      "text/plain": [
       "HBox(children=(IntProgress(value=0, description='Epoch 2', max=10, style=ProgressStyle(description_width='init…"
      ]
     },
     "metadata": {},
     "output_type": "display_data"
    },
    {
     "name": "stdout",
     "output_type": "stream",
     "text": [
      "Epoch 3/1000\n",
      "10/10 - 30s - loss: 2.6145e-05 - mean_squared_error: 8.8683e-10 - keras_psnr: 19.9570 - keras_ssim: 0.3606 - val_loss: 1.8458e-05 - val_mean_squared_error: 8.8591e-10 - val_keras_psnr: 22.9230 - val_keras_ssim: 0.4291\n"
     ]
    },
    {
     "data": {
      "application/vnd.jupyter.widget-view+json": {
       "model_id": "",
       "version_major": 2,
       "version_minor": 0
      },
      "text/plain": [
       "HBox(children=(IntProgress(value=0, description='Epoch 3', max=10, style=ProgressStyle(description_width='init…"
      ]
     },
     "metadata": {},
     "output_type": "display_data"
    },
    {
     "name": "stdout",
     "output_type": "stream",
     "text": [
      "Epoch 4/1000\n",
      "10/10 - 30s - loss: 2.2990e-05 - mean_squared_error: 1.0619e-09 - keras_psnr: 22.2671 - keras_ssim: 0.4418 - val_loss: 1.5685e-05 - val_mean_squared_error: 6.1621e-10 - val_keras_psnr: 24.0370 - val_keras_ssim: 0.4423\n"
     ]
    },
    {
     "data": {
      "application/vnd.jupyter.widget-view+json": {
       "model_id": "",
       "version_major": 2,
       "version_minor": 0
      },
      "text/plain": [
       "HBox(children=(IntProgress(value=0, description='Epoch 4', max=10, style=ProgressStyle(description_width='init…"
      ]
     },
     "metadata": {},
     "output_type": "display_data"
    },
    {
     "name": "stdout",
     "output_type": "stream",
     "text": [
      "Epoch 5/1000\n",
      "10/10 - 30s - loss: 1.8653e-05 - mean_squared_error: 7.7735e-10 - keras_psnr: 22.2876 - keras_ssim: 0.4428 - val_loss: 1.5181e-05 - val_mean_squared_error: 5.6369e-10 - val_keras_psnr: 24.3416 - val_keras_ssim: 0.4478\n"
     ]
    },
    {
     "data": {
      "application/vnd.jupyter.widget-view+json": {
       "model_id": "",
       "version_major": 2,
       "version_minor": 0
      },
      "text/plain": [
       "HBox(children=(IntProgress(value=0, description='Epoch 5', max=10, style=ProgressStyle(description_width='init…"
      ]
     },
     "metadata": {},
     "output_type": "display_data"
    },
    {
     "name": "stdout",
     "output_type": "stream",
     "text": [
      "Epoch 6/1000\n",
      "10/10 - 30s - loss: 2.4467e-05 - mean_squared_error: 1.6670e-09 - keras_psnr: 23.6168 - keras_ssim: 0.4957 - val_loss: 1.4484e-05 - val_mean_squared_error: 5.1239e-10 - val_keras_psnr: 24.7390 - val_keras_ssim: 0.4531\n"
     ]
    },
    {
     "data": {
      "application/vnd.jupyter.widget-view+json": {
       "model_id": "",
       "version_major": 2,
       "version_minor": 0
      },
      "text/plain": [
       "HBox(children=(IntProgress(value=0, description='Epoch 6', max=10, style=ProgressStyle(description_width='init…"
      ]
     },
     "metadata": {},
     "output_type": "display_data"
    },
    {
     "name": "stdout",
     "output_type": "stream",
     "text": [
      "Epoch 7/1000\n",
      "10/10 - 30s - loss: 2.0401e-05 - mean_squared_error: 9.4997e-10 - keras_psnr: 23.6180 - keras_ssim: 0.4045 - val_loss: 1.4068e-05 - val_mean_squared_error: 4.8706e-10 - val_keras_psnr: 25.0011 - val_keras_ssim: 0.4572\n"
     ]
    },
    {
     "data": {
      "application/vnd.jupyter.widget-view+json": {
       "model_id": "",
       "version_major": 2,
       "version_minor": 0
      },
      "text/plain": [
       "HBox(children=(IntProgress(value=0, description='Epoch 7', max=10, style=ProgressStyle(description_width='init…"
      ]
     },
     "metadata": {},
     "output_type": "display_data"
    },
    {
     "name": "stdout",
     "output_type": "stream",
     "text": [
      "Epoch 8/1000\n",
      "10/10 - 29s - loss: 1.6034e-05 - mean_squared_error: 5.5222e-10 - keras_psnr: 25.0186 - keras_ssim: 0.5205 - val_loss: 1.4024e-05 - val_mean_squared_error: 4.8369e-10 - val_keras_psnr: 25.0123 - val_keras_ssim: 0.4572\n"
     ]
    },
    {
     "data": {
      "application/vnd.jupyter.widget-view+json": {
       "model_id": "",
       "version_major": 2,
       "version_minor": 0
      },
      "text/plain": [
       "HBox(children=(IntProgress(value=0, description='Epoch 8', max=10, style=ProgressStyle(description_width='init…"
      ]
     },
     "metadata": {},
     "output_type": "display_data"
    },
    {
     "name": "stdout",
     "output_type": "stream",
     "text": [
      "Epoch 9/1000\n",
      "10/10 - 30s - loss: 1.3974e-05 - mean_squared_error: 4.9505e-10 - keras_psnr: 23.9841 - keras_ssim: 0.4413 - val_loss: 1.3967e-05 - val_mean_squared_error: 4.7837e-10 - val_keras_psnr: 25.0346 - val_keras_ssim: 0.4577\n"
     ]
    },
    {
     "data": {
      "application/vnd.jupyter.widget-view+json": {
       "model_id": "",
       "version_major": 2,
       "version_minor": 0
      },
      "text/plain": [
       "HBox(children=(IntProgress(value=0, description='Epoch 9', max=10, style=ProgressStyle(description_width='init…"
      ]
     },
     "metadata": {},
     "output_type": "display_data"
    },
    {
     "name": "stdout",
     "output_type": "stream",
     "text": [
      "Epoch 10/1000\n",
      "10/10 - 30s - loss: 1.4380e-05 - mean_squared_error: 6.0035e-10 - keras_psnr: 22.8746 - keras_ssim: 0.3935 - val_loss: 1.3939e-05 - val_mean_squared_error: 4.7610e-10 - val_keras_psnr: 25.0456 - val_keras_ssim: 0.4578\n"
     ]
    },
    {
     "data": {
      "application/vnd.jupyter.widget-view+json": {
       "model_id": "",
       "version_major": 2,
       "version_minor": 0
      },
      "text/plain": [
       "HBox(children=(IntProgress(value=0, description='Epoch 10', max=10, style=ProgressStyle(description_width='ini…"
      ]
     },
     "metadata": {},
     "output_type": "display_data"
    },
    {
     "name": "stdout",
     "output_type": "stream",
     "text": [
      "Epoch 11/1000\n",
      "10/10 - 30s - loss: 1.9550e-05 - mean_squared_error: 5.7333e-10 - keras_psnr: 23.9298 - keras_ssim: 0.4384 - val_loss: 1.3910e-05 - val_mean_squared_error: 4.7360e-10 - val_keras_psnr: 25.0558 - val_keras_ssim: 0.4580\n"
     ]
    },
    {
     "data": {
      "application/vnd.jupyter.widget-view+json": {
       "model_id": "",
       "version_major": 2,
       "version_minor": 0
      },
      "text/plain": [
       "HBox(children=(IntProgress(value=0, description='Epoch 11', max=10, style=ProgressStyle(description_width='ini…"
      ]
     },
     "metadata": {},
     "output_type": "display_data"
    },
    {
     "name": "stdout",
     "output_type": "stream",
     "text": [
      "Epoch 12/1000\n",
      "10/10 - 30s - loss: 1.9904e-05 - mean_squared_error: 9.3532e-10 - keras_psnr: 24.5927 - keras_ssim: 0.5440 - val_loss: 1.3896e-05 - val_mean_squared_error: 4.7236e-10 - val_keras_psnr: 25.0564 - val_keras_ssim: 0.4580\n"
     ]
    },
    {
     "data": {
      "application/vnd.jupyter.widget-view+json": {
       "model_id": "",
       "version_major": 2,
       "version_minor": 0
      },
      "text/plain": [
       "HBox(children=(IntProgress(value=0, description='Epoch 12', max=10, style=ProgressStyle(description_width='ini…"
      ]
     },
     "metadata": {},
     "output_type": "display_data"
    },
    {
     "name": "stdout",
     "output_type": "stream",
     "text": [
      "Epoch 13/1000\n",
      "10/10 - 31s - loss: 1.4862e-05 - mean_squared_error: 6.2181e-10 - keras_psnr: 23.9741 - keras_ssim: 0.4246 - val_loss: 1.3884e-05 - val_mean_squared_error: 4.7028e-10 - val_keras_psnr: 25.0585 - val_keras_ssim: 0.4580\n"
     ]
    },
    {
     "data": {
      "application/vnd.jupyter.widget-view+json": {
       "model_id": "",
       "version_major": 2,
       "version_minor": 0
      },
      "text/plain": [
       "HBox(children=(IntProgress(value=0, description='Epoch 13', max=10, style=ProgressStyle(description_width='ini…"
      ]
     },
     "metadata": {},
     "output_type": "display_data"
    },
    {
     "name": "stdout",
     "output_type": "stream",
     "text": [
      "Epoch 14/1000\n",
      "10/10 - 30s - loss: 1.6452e-05 - mean_squared_error: 5.9461e-10 - keras_psnr: 26.0925 - keras_ssim: 0.5649 - val_loss: 1.3855e-05 - val_mean_squared_error: 4.6750e-10 - val_keras_psnr: 25.0730 - val_keras_ssim: 0.4583\n"
     ]
    },
    {
     "data": {
      "application/vnd.jupyter.widget-view+json": {
       "model_id": "",
       "version_major": 2,
       "version_minor": 0
      },
      "text/plain": [
       "HBox(children=(IntProgress(value=0, description='Epoch 14', max=10, style=ProgressStyle(description_width='ini…"
      ]
     },
     "metadata": {},
     "output_type": "display_data"
    },
    {
     "name": "stdout",
     "output_type": "stream",
     "text": [
      "Epoch 15/1000\n",
      "10/10 - 29s - loss: 1.1679e-05 - mean_squared_error: 2.6937e-10 - keras_psnr: 23.6059 - keras_ssim: 0.3594 - val_loss: 1.3839e-05 - val_mean_squared_error: 4.6645e-10 - val_keras_psnr: 25.0875 - val_keras_ssim: 0.4585\n"
     ]
    },
    {
     "data": {
      "application/vnd.jupyter.widget-view+json": {
       "model_id": "",
       "version_major": 2,
       "version_minor": 0
      },
      "text/plain": [
       "HBox(children=(IntProgress(value=0, description='Epoch 15', max=10, style=ProgressStyle(description_width='ini…"
      ]
     },
     "metadata": {},
     "output_type": "display_data"
    },
    {
     "name": "stdout",
     "output_type": "stream",
     "text": [
      "Epoch 16/1000\n",
      "10/10 - 29s - loss: 1.9951e-05 - mean_squared_error: 1.2397e-09 - keras_psnr: 24.0871 - keras_ssim: 0.5193 - val_loss: 1.3832e-05 - val_mean_squared_error: 4.6558e-10 - val_keras_psnr: 25.0810 - val_keras_ssim: 0.4584\n"
     ]
    },
    {
     "data": {
      "application/vnd.jupyter.widget-view+json": {
       "model_id": "",
       "version_major": 2,
       "version_minor": 0
      },
      "text/plain": [
       "HBox(children=(IntProgress(value=0, description='Epoch 16', max=10, style=ProgressStyle(description_width='ini…"
      ]
     },
     "metadata": {},
     "output_type": "display_data"
    },
    {
     "name": "stdout",
     "output_type": "stream",
     "text": [
      "Epoch 17/1000\n",
      "10/10 - 30s - loss: 1.3271e-05 - mean_squared_error: 4.2836e-10 - keras_psnr: 24.2316 - keras_ssim: 0.4254 - val_loss: 1.3813e-05 - val_mean_squared_error: 4.6415e-10 - val_keras_psnr: 25.0927 - val_keras_ssim: 0.4587\n"
     ]
    },
    {
     "data": {
      "application/vnd.jupyter.widget-view+json": {
       "model_id": "",
       "version_major": 2,
       "version_minor": 0
      },
      "text/plain": [
       "HBox(children=(IntProgress(value=0, description='Epoch 17', max=10, style=ProgressStyle(description_width='ini…"
      ]
     },
     "metadata": {},
     "output_type": "display_data"
    },
    {
     "name": "stdout",
     "output_type": "stream",
     "text": [
      "Epoch 18/1000\n",
      "10/10 - 30s - loss: 1.9993e-05 - mean_squared_error: 8.8116e-10 - keras_psnr: 25.0496 - keras_ssim: 0.5530 - val_loss: 1.3801e-05 - val_mean_squared_error: 4.6256e-10 - val_keras_psnr: 25.0970 - val_keras_ssim: 0.4587\n"
     ]
    },
    {
     "data": {
      "application/vnd.jupyter.widget-view+json": {
       "model_id": "",
       "version_major": 2,
       "version_minor": 0
      },
      "text/plain": [
       "HBox(children=(IntProgress(value=0, description='Epoch 18', max=10, style=ProgressStyle(description_width='ini…"
      ]
     },
     "metadata": {},
     "output_type": "display_data"
    },
    {
     "name": "stdout",
     "output_type": "stream",
     "text": [
      "Epoch 19/1000\n",
      "10/10 - 30s - loss: 2.3903e-05 - mean_squared_error: 1.2917e-09 - keras_psnr: 24.9136 - keras_ssim: 0.5571 - val_loss: 1.3769e-05 - val_mean_squared_error: 4.5943e-10 - val_keras_psnr: 25.1119 - val_keras_ssim: 0.4590\n"
     ]
    },
    {
     "data": {
      "application/vnd.jupyter.widget-view+json": {
       "model_id": "",
       "version_major": 2,
       "version_minor": 0
      },
      "text/plain": [
       "HBox(children=(IntProgress(value=0, description='Epoch 19', max=10, style=ProgressStyle(description_width='ini…"
      ]
     },
     "metadata": {},
     "output_type": "display_data"
    },
    {
     "name": "stdout",
     "output_type": "stream",
     "text": [
      "Epoch 20/1000\n",
      "10/10 - 29s - loss: 1.6866e-05 - mean_squared_error: 1.1837e-09 - keras_psnr: 25.1526 - keras_ssim: 0.5412 - val_loss: 1.3749e-05 - val_mean_squared_error: 4.5783e-10 - val_keras_psnr: 25.1194 - val_keras_ssim: 0.4590\n"
     ]
    },
    {
     "data": {
      "application/vnd.jupyter.widget-view+json": {
       "model_id": "",
       "version_major": 2,
       "version_minor": 0
      },
      "text/plain": [
       "HBox(children=(IntProgress(value=0, description='Epoch 20', max=10, style=ProgressStyle(description_width='ini…"
      ]
     },
     "metadata": {},
     "output_type": "display_data"
    },
    {
     "name": "stdout",
     "output_type": "stream",
     "text": [
      "Epoch 21/1000\n",
      "10/10 - 30s - loss: 1.6836e-05 - mean_squared_error: 5.4867e-10 - keras_psnr: 23.9650 - keras_ssim: 0.4834 - val_loss: 1.3716e-05 - val_mean_squared_error: 4.5568e-10 - val_keras_psnr: 25.1366 - val_keras_ssim: 0.4593\n"
     ]
    },
    {
     "data": {
      "application/vnd.jupyter.widget-view+json": {
       "model_id": "",
       "version_major": 2,
       "version_minor": 0
      },
      "text/plain": [
       "HBox(children=(IntProgress(value=0, description='Epoch 21', max=10, style=ProgressStyle(description_width='ini…"
      ]
     },
     "metadata": {},
     "output_type": "display_data"
    },
    {
     "name": "stdout",
     "output_type": "stream",
     "text": [
      "Epoch 22/1000\n",
      "10/10 - 31s - loss: 1.9239e-05 - mean_squared_error: 2.0548e-09 - keras_psnr: 22.9116 - keras_ssim: 0.4584 - val_loss: 1.3698e-05 - val_mean_squared_error: 4.5417e-10 - val_keras_psnr: 25.1392 - val_keras_ssim: 0.4593\n"
     ]
    },
    {
     "data": {
      "application/vnd.jupyter.widget-view+json": {
       "model_id": "",
       "version_major": 2,
       "version_minor": 0
      },
      "text/plain": [
       "HBox(children=(IntProgress(value=0, description='Epoch 22', max=10, style=ProgressStyle(description_width='ini…"
      ]
     },
     "metadata": {},
     "output_type": "display_data"
    },
    {
     "name": "stdout",
     "output_type": "stream",
     "text": [
      "Epoch 23/1000\n",
      "10/10 - 31s - loss: 1.6683e-05 - mean_squared_error: 6.7144e-10 - keras_psnr: 23.4389 - keras_ssim: 0.4770 - val_loss: 1.3694e-05 - val_mean_squared_error: 4.5451e-10 - val_keras_psnr: 25.1349 - val_keras_ssim: 0.4592\n"
     ]
    },
    {
     "data": {
      "application/vnd.jupyter.widget-view+json": {
       "model_id": "",
       "version_major": 2,
       "version_minor": 0
      },
      "text/plain": [
       "HBox(children=(IntProgress(value=0, description='Epoch 23', max=10, style=ProgressStyle(description_width='ini…"
      ]
     },
     "metadata": {},
     "output_type": "display_data"
    },
    {
     "name": "stdout",
     "output_type": "stream",
     "text": [
      "Epoch 24/1000\n",
      "10/10 - 32s - loss: 1.9332e-05 - mean_squared_error: 7.3276e-10 - keras_psnr: 22.9069 - keras_ssim: 0.4267 - val_loss: 1.3687e-05 - val_mean_squared_error: 4.5428e-10 - val_keras_psnr: 25.1422 - val_keras_ssim: 0.4592\n"
     ]
    },
    {
     "data": {
      "application/vnd.jupyter.widget-view+json": {
       "model_id": "",
       "version_major": 2,
       "version_minor": 0
      },
      "text/plain": [
       "HBox(children=(IntProgress(value=0, description='Epoch 24', max=10, style=ProgressStyle(description_width='ini…"
      ]
     },
     "metadata": {},
     "output_type": "display_data"
    },
    {
     "name": "stdout",
     "output_type": "stream",
     "text": [
      "Epoch 25/1000\n",
      "10/10 - 31s - loss: 1.2807e-05 - mean_squared_error: 3.7677e-10 - keras_psnr: 23.9379 - keras_ssim: 0.4141 - val_loss: 1.3638e-05 - val_mean_squared_error: 4.5083e-10 - val_keras_psnr: 25.1802 - val_keras_ssim: 0.4600\n"
     ]
    },
    {
     "data": {
      "application/vnd.jupyter.widget-view+json": {
       "model_id": "",
       "version_major": 2,
       "version_minor": 0
      },
      "text/plain": [
       "HBox(children=(IntProgress(value=0, description='Epoch 25', max=10, style=ProgressStyle(description_width='ini…"
      ]
     },
     "metadata": {},
     "output_type": "display_data"
    },
    {
     "name": "stdout",
     "output_type": "stream",
     "text": [
      "Epoch 26/1000\n",
      "10/10 - 31s - loss: 1.2405e-05 - mean_squared_error: 2.9449e-10 - keras_psnr: 24.4304 - keras_ssim: 0.4054 - val_loss: 1.3627e-05 - val_mean_squared_error: 4.5039e-10 - val_keras_psnr: 25.2026 - val_keras_ssim: 0.4602\n"
     ]
    },
    {
     "data": {
      "application/vnd.jupyter.widget-view+json": {
       "model_id": "",
       "version_major": 2,
       "version_minor": 0
      },
      "text/plain": [
       "HBox(children=(IntProgress(value=0, description='Epoch 26', max=10, style=ProgressStyle(description_width='ini…"
      ]
     },
     "metadata": {},
     "output_type": "display_data"
    },
    {
     "name": "stdout",
     "output_type": "stream",
     "text": [
      "Epoch 27/1000\n",
      "10/10 - 30s - loss: 1.5688e-05 - mean_squared_error: 4.4019e-10 - keras_psnr: 23.4791 - keras_ssim: 0.3981 - val_loss: 1.3610e-05 - val_mean_squared_error: 4.4914e-10 - val_keras_psnr: 25.2187 - val_keras_ssim: 0.4604\n"
     ]
    },
    {
     "data": {
      "application/vnd.jupyter.widget-view+json": {
       "model_id": "",
       "version_major": 2,
       "version_minor": 0
      },
      "text/plain": [
       "HBox(children=(IntProgress(value=0, description='Epoch 27', max=10, style=ProgressStyle(description_width='ini…"
      ]
     },
     "metadata": {},
     "output_type": "display_data"
    },
    {
     "name": "stdout",
     "output_type": "stream",
     "text": [
      "Epoch 28/1000\n",
      "10/10 - 30s - loss: 1.4351e-05 - mean_squared_error: 3.6095e-10 - keras_psnr: 24.8538 - keras_ssim: 0.4510 - val_loss: 1.3593e-05 - val_mean_squared_error: 4.4734e-10 - val_keras_psnr: 25.2386 - val_keras_ssim: 0.4607\n"
     ]
    },
    {
     "data": {
      "application/vnd.jupyter.widget-view+json": {
       "model_id": "",
       "version_major": 2,
       "version_minor": 0
      },
      "text/plain": [
       "HBox(children=(IntProgress(value=0, description='Epoch 28', max=10, style=ProgressStyle(description_width='ini…"
      ]
     },
     "metadata": {},
     "output_type": "display_data"
    },
    {
     "name": "stdout",
     "output_type": "stream",
     "text": [
      "Epoch 29/1000\n",
      "10/10 - 30s - loss: 1.7422e-05 - mean_squared_error: 8.3259e-10 - keras_psnr: 24.4046 - keras_ssim: 0.4973 - val_loss: 1.3577e-05 - val_mean_squared_error: 4.4520e-10 - val_keras_psnr: 25.2395 - val_keras_ssim: 0.4607\n"
     ]
    },
    {
     "data": {
      "application/vnd.jupyter.widget-view+json": {
       "model_id": "",
       "version_major": 2,
       "version_minor": 0
      },
      "text/plain": [
       "HBox(children=(IntProgress(value=0, description='Epoch 29', max=10, style=ProgressStyle(description_width='ini…"
      ]
     },
     "metadata": {},
     "output_type": "display_data"
    },
    {
     "name": "stdout",
     "output_type": "stream",
     "text": [
      "Epoch 30/1000\n",
      "10/10 - 30s - loss: 1.4837e-05 - mean_squared_error: 4.7844e-10 - keras_psnr: 24.2272 - keras_ssim: 0.4341 - val_loss: 1.3555e-05 - val_mean_squared_error: 4.4338e-10 - val_keras_psnr: 25.2482 - val_keras_ssim: 0.4609\n"
     ]
    },
    {
     "data": {
      "application/vnd.jupyter.widget-view+json": {
       "model_id": "",
       "version_major": 2,
       "version_minor": 0
      },
      "text/plain": [
       "HBox(children=(IntProgress(value=0, description='Epoch 30', max=10, style=ProgressStyle(description_width='ini…"
      ]
     },
     "metadata": {},
     "output_type": "display_data"
    },
    {
     "name": "stdout",
     "output_type": "stream",
     "text": [
      "Epoch 31/1000\n",
      "10/10 - 29s - loss: 1.8110e-05 - mean_squared_error: 8.4261e-10 - keras_psnr: 25.4267 - keras_ssim: 0.5483 - val_loss: 1.3528e-05 - val_mean_squared_error: 4.4135e-10 - val_keras_psnr: 25.2687 - val_keras_ssim: 0.4612\n"
     ]
    },
    {
     "data": {
      "application/vnd.jupyter.widget-view+json": {
       "model_id": "",
       "version_major": 2,
       "version_minor": 0
      },
      "text/plain": [
       "HBox(children=(IntProgress(value=0, description='Epoch 31', max=10, style=ProgressStyle(description_width='ini…"
      ]
     },
     "metadata": {},
     "output_type": "display_data"
    },
    {
     "name": "stdout",
     "output_type": "stream",
     "text": [
      "Epoch 32/1000\n",
      "10/10 - 28s - loss: 1.7724e-05 - mean_squared_error: 6.5594e-10 - keras_psnr: 25.7571 - keras_ssim: 0.5149 - val_loss: 1.3504e-05 - val_mean_squared_error: 4.3878e-10 - val_keras_psnr: 25.2924 - val_keras_ssim: 0.4616\n"
     ]
    },
    {
     "data": {
      "application/vnd.jupyter.widget-view+json": {
       "model_id": "",
       "version_major": 2,
       "version_minor": 0
      },
      "text/plain": [
       "HBox(children=(IntProgress(value=0, description='Epoch 32', max=10, style=ProgressStyle(description_width='ini…"
      ]
     },
     "metadata": {},
     "output_type": "display_data"
    },
    {
     "name": "stdout",
     "output_type": "stream",
     "text": [
      "Epoch 33/1000\n",
      "10/10 - 29s - loss: 1.2846e-05 - mean_squared_error: 2.9452e-10 - keras_psnr: 24.6772 - keras_ssim: 0.4349 - val_loss: 1.3492e-05 - val_mean_squared_error: 4.3796e-10 - val_keras_psnr: 25.2982 - val_keras_ssim: 0.4618\n"
     ]
    },
    {
     "data": {
      "application/vnd.jupyter.widget-view+json": {
       "model_id": "",
       "version_major": 2,
       "version_minor": 0
      },
      "text/plain": [
       "HBox(children=(IntProgress(value=0, description='Epoch 33', max=10, style=ProgressStyle(description_width='ini…"
      ]
     },
     "metadata": {},
     "output_type": "display_data"
    },
    {
     "name": "stdout",
     "output_type": "stream",
     "text": [
      "Epoch 34/1000\n",
      "10/10 - 29s - loss: 1.6284e-05 - mean_squared_error: 6.7541e-10 - keras_psnr: 25.0278 - keras_ssim: 0.4688 - val_loss: 1.3479e-05 - val_mean_squared_error: 4.3687e-10 - val_keras_psnr: 25.2979 - val_keras_ssim: 0.4617\n"
     ]
    },
    {
     "data": {
      "application/vnd.jupyter.widget-view+json": {
       "model_id": "",
       "version_major": 2,
       "version_minor": 0
      },
      "text/plain": [
       "HBox(children=(IntProgress(value=0, description='Epoch 34', max=10, style=ProgressStyle(description_width='ini…"
      ]
     },
     "metadata": {},
     "output_type": "display_data"
    },
    {
     "name": "stdout",
     "output_type": "stream",
     "text": [
      "Epoch 35/1000\n",
      "10/10 - 29s - loss: 1.2992e-05 - mean_squared_error: 4.2112e-10 - keras_psnr: 24.2112 - keras_ssim: 0.4430 - val_loss: 1.3462e-05 - val_mean_squared_error: 4.3627e-10 - val_keras_psnr: 25.2951 - val_keras_ssim: 0.4615\n"
     ]
    },
    {
     "data": {
      "application/vnd.jupyter.widget-view+json": {
       "model_id": "",
       "version_major": 2,
       "version_minor": 0
      },
      "text/plain": [
       "HBox(children=(IntProgress(value=0, description='Epoch 35', max=10, style=ProgressStyle(description_width='ini…"
      ]
     },
     "metadata": {},
     "output_type": "display_data"
    },
    {
     "name": "stdout",
     "output_type": "stream",
     "text": [
      "Epoch 36/1000\n",
      "10/10 - 30s - loss: 1.3260e-05 - mean_squared_error: 3.7373e-10 - keras_psnr: 23.2179 - keras_ssim: 0.4015 - val_loss: 1.3443e-05 - val_mean_squared_error: 4.3558e-10 - val_keras_psnr: 25.3070 - val_keras_ssim: 0.4617\n"
     ]
    },
    {
     "data": {
      "application/vnd.jupyter.widget-view+json": {
       "model_id": "",
       "version_major": 2,
       "version_minor": 0
      },
      "text/plain": [
       "HBox(children=(IntProgress(value=0, description='Epoch 36', max=10, style=ProgressStyle(description_width='ini…"
      ]
     },
     "metadata": {},
     "output_type": "display_data"
    },
    {
     "name": "stdout",
     "output_type": "stream",
     "text": [
      "Epoch 37/1000\n",
      "10/10 - 30s - loss: 1.5016e-05 - mean_squared_error: 4.9362e-10 - keras_psnr: 25.0802 - keras_ssim: 0.4494 - val_loss: 1.3433e-05 - val_mean_squared_error: 4.3505e-10 - val_keras_psnr: 25.3118 - val_keras_ssim: 0.4618\n"
     ]
    },
    {
     "data": {
      "application/vnd.jupyter.widget-view+json": {
       "model_id": "",
       "version_major": 2,
       "version_minor": 0
      },
      "text/plain": [
       "HBox(children=(IntProgress(value=0, description='Epoch 37', max=10, style=ProgressStyle(description_width='ini…"
      ]
     },
     "metadata": {},
     "output_type": "display_data"
    },
    {
     "name": "stdout",
     "output_type": "stream",
     "text": [
      "Epoch 38/1000\n",
      "10/10 - 30s - loss: 1.3604e-05 - mean_squared_error: 4.6626e-10 - keras_psnr: 24.1121 - keras_ssim: 0.4476 - val_loss: 1.3419e-05 - val_mean_squared_error: 4.3415e-10 - val_keras_psnr: 25.3147 - val_keras_ssim: 0.4619\n"
     ]
    },
    {
     "data": {
      "application/vnd.jupyter.widget-view+json": {
       "model_id": "",
       "version_major": 2,
       "version_minor": 0
      },
      "text/plain": [
       "HBox(children=(IntProgress(value=0, description='Epoch 38', max=10, style=ProgressStyle(description_width='ini…"
      ]
     },
     "metadata": {},
     "output_type": "display_data"
    },
    {
     "name": "stdout",
     "output_type": "stream",
     "text": [
      "Epoch 39/1000\n",
      "10/10 - 30s - loss: 1.4394e-05 - mean_squared_error: 9.4911e-10 - keras_psnr: 23.9023 - keras_ssim: 0.3933 - val_loss: 1.3400e-05 - val_mean_squared_error: 4.3263e-10 - val_keras_psnr: 25.3261 - val_keras_ssim: 0.4620\n"
     ]
    },
    {
     "data": {
      "application/vnd.jupyter.widget-view+json": {
       "model_id": "",
       "version_major": 2,
       "version_minor": 0
      },
      "text/plain": [
       "HBox(children=(IntProgress(value=0, description='Epoch 39', max=10, style=ProgressStyle(description_width='ini…"
      ]
     },
     "metadata": {},
     "output_type": "display_data"
    },
    {
     "name": "stdout",
     "output_type": "stream",
     "text": [
      "Epoch 40/1000\n",
      "10/10 - 29s - loss: 1.9087e-05 - mean_squared_error: 6.8798e-10 - keras_psnr: 22.9506 - keras_ssim: 0.3938 - val_loss: 1.3381e-05 - val_mean_squared_error: 4.3155e-10 - val_keras_psnr: 25.3477 - val_keras_ssim: 0.4624\n"
     ]
    },
    {
     "data": {
      "application/vnd.jupyter.widget-view+json": {
       "model_id": "",
       "version_major": 2,
       "version_minor": 0
      },
      "text/plain": [
       "HBox(children=(IntProgress(value=0, description='Epoch 40', max=10, style=ProgressStyle(description_width='ini…"
      ]
     },
     "metadata": {},
     "output_type": "display_data"
    },
    {
     "name": "stdout",
     "output_type": "stream",
     "text": [
      "Epoch 41/1000\n",
      "10/10 - 29s - loss: 1.7363e-05 - mean_squared_error: 5.0554e-10 - keras_psnr: 24.5834 - keras_ssim: 0.4597 - val_loss: 1.3369e-05 - val_mean_squared_error: 4.3107e-10 - val_keras_psnr: 25.3514 - val_keras_ssim: 0.4623\n"
     ]
    },
    {
     "data": {
      "application/vnd.jupyter.widget-view+json": {
       "model_id": "",
       "version_major": 2,
       "version_minor": 0
      },
      "text/plain": [
       "HBox(children=(IntProgress(value=0, description='Epoch 41', max=10, style=ProgressStyle(description_width='ini…"
      ]
     },
     "metadata": {},
     "output_type": "display_data"
    },
    {
     "name": "stdout",
     "output_type": "stream",
     "text": [
      "Epoch 42/1000\n",
      "10/10 - 30s - loss: 1.7584e-05 - mean_squared_error: 1.1423e-09 - keras_psnr: 25.0482 - keras_ssim: 0.5309 - val_loss: 1.3352e-05 - val_mean_squared_error: 4.2978e-10 - val_keras_psnr: 25.3617 - val_keras_ssim: 0.4624\n"
     ]
    },
    {
     "data": {
      "application/vnd.jupyter.widget-view+json": {
       "model_id": "",
       "version_major": 2,
       "version_minor": 0
      },
      "text/plain": [
       "HBox(children=(IntProgress(value=0, description='Epoch 42', max=10, style=ProgressStyle(description_width='ini…"
      ]
     },
     "metadata": {},
     "output_type": "display_data"
    },
    {
     "name": "stdout",
     "output_type": "stream",
     "text": [
      "Epoch 43/1000\n",
      "10/10 - 31s - loss: 1.9049e-05 - mean_squared_error: 7.2765e-10 - keras_psnr: 25.2160 - keras_ssim: 0.4878 - val_loss: 1.3326e-05 - val_mean_squared_error: 4.2752e-10 - val_keras_psnr: 25.3813 - val_keras_ssim: 0.4628\n"
     ]
    },
    {
     "data": {
      "application/vnd.jupyter.widget-view+json": {
       "model_id": "",
       "version_major": 2,
       "version_minor": 0
      },
      "text/plain": [
       "HBox(children=(IntProgress(value=0, description='Epoch 43', max=10, style=ProgressStyle(description_width='ini…"
      ]
     },
     "metadata": {},
     "output_type": "display_data"
    },
    {
     "name": "stdout",
     "output_type": "stream",
     "text": [
      "Epoch 44/1000\n",
      "10/10 - 28s - loss: 1.7723e-05 - mean_squared_error: 5.2304e-10 - keras_psnr: 25.5899 - keras_ssim: 0.5328 - val_loss: 1.3299e-05 - val_mean_squared_error: 4.2555e-10 - val_keras_psnr: 25.4032 - val_keras_ssim: 0.4633\n"
     ]
    },
    {
     "data": {
      "application/vnd.jupyter.widget-view+json": {
       "model_id": "",
       "version_major": 2,
       "version_minor": 0
      },
      "text/plain": [
       "HBox(children=(IntProgress(value=0, description='Epoch 44', max=10, style=ProgressStyle(description_width='ini…"
      ]
     },
     "metadata": {},
     "output_type": "display_data"
    },
    {
     "name": "stdout",
     "output_type": "stream",
     "text": [
      "Epoch 45/1000\n",
      "10/10 - 29s - loss: 1.4337e-05 - mean_squared_error: 4.8627e-10 - keras_psnr: 22.7082 - keras_ssim: 0.3636 - val_loss: 1.3264e-05 - val_mean_squared_error: 4.2234e-10 - val_keras_psnr: 25.4266 - val_keras_ssim: 0.4637\n"
     ]
    },
    {
     "data": {
      "application/vnd.jupyter.widget-view+json": {
       "model_id": "",
       "version_major": 2,
       "version_minor": 0
      },
      "text/plain": [
       "HBox(children=(IntProgress(value=0, description='Epoch 45', max=10, style=ProgressStyle(description_width='ini…"
      ]
     },
     "metadata": {},
     "output_type": "display_data"
    },
    {
     "name": "stdout",
     "output_type": "stream",
     "text": [
      "Epoch 46/1000\n",
      "10/10 - 28s - loss: 1.6880e-05 - mean_squared_error: 6.7303e-10 - keras_psnr: 24.9965 - keras_ssim: 0.5192 - val_loss: 1.3262e-05 - val_mean_squared_error: 4.2191e-10 - val_keras_psnr: 25.4264 - val_keras_ssim: 0.4635\n"
     ]
    },
    {
     "data": {
      "application/vnd.jupyter.widget-view+json": {
       "model_id": "",
       "version_major": 2,
       "version_minor": 0
      },
      "text/plain": [
       "HBox(children=(IntProgress(value=0, description='Epoch 46', max=10, style=ProgressStyle(description_width='ini…"
      ]
     },
     "metadata": {},
     "output_type": "display_data"
    },
    {
     "name": "stdout",
     "output_type": "stream",
     "text": [
      "Epoch 47/1000\n",
      "10/10 - 28s - loss: 1.4219e-05 - mean_squared_error: 6.8031e-10 - keras_psnr: 24.4722 - keras_ssim: 0.4245 - val_loss: 1.3251e-05 - val_mean_squared_error: 4.2140e-10 - val_keras_psnr: 25.4341 - val_keras_ssim: 0.4637\n"
     ]
    },
    {
     "data": {
      "application/vnd.jupyter.widget-view+json": {
       "model_id": "",
       "version_major": 2,
       "version_minor": 0
      },
      "text/plain": [
       "HBox(children=(IntProgress(value=0, description='Epoch 47', max=10, style=ProgressStyle(description_width='ini…"
      ]
     },
     "metadata": {},
     "output_type": "display_data"
    },
    {
     "name": "stdout",
     "output_type": "stream",
     "text": [
      "Epoch 48/1000\n",
      "10/10 - 29s - loss: 1.8837e-05 - mean_squared_error: 7.0129e-10 - keras_psnr: 24.2582 - keras_ssim: 0.4633 - val_loss: 1.3229e-05 - val_mean_squared_error: 4.1993e-10 - val_keras_psnr: 25.4463 - val_keras_ssim: 0.4639\n"
     ]
    },
    {
     "data": {
      "application/vnd.jupyter.widget-view+json": {
       "model_id": "",
       "version_major": 2,
       "version_minor": 0
      },
      "text/plain": [
       "HBox(children=(IntProgress(value=0, description='Epoch 48', max=10, style=ProgressStyle(description_width='ini…"
      ]
     },
     "metadata": {},
     "output_type": "display_data"
    },
    {
     "name": "stdout",
     "output_type": "stream",
     "text": [
      "Epoch 49/1000\n",
      "10/10 - 29s - loss: 1.4230e-05 - mean_squared_error: 2.3914e-10 - keras_psnr: 23.9416 - keras_ssim: 0.3950 - val_loss: 1.3224e-05 - val_mean_squared_error: 4.1967e-10 - val_keras_psnr: 25.4440 - val_keras_ssim: 0.4638\n"
     ]
    },
    {
     "data": {
      "application/vnd.jupyter.widget-view+json": {
       "model_id": "",
       "version_major": 2,
       "version_minor": 0
      },
      "text/plain": [
       "HBox(children=(IntProgress(value=0, description='Epoch 49', max=10, style=ProgressStyle(description_width='ini…"
      ]
     },
     "metadata": {},
     "output_type": "display_data"
    },
    {
     "name": "stdout",
     "output_type": "stream",
     "text": [
      "Epoch 50/1000\n",
      "10/10 - 29s - loss: 1.5677e-05 - mean_squared_error: 5.8321e-10 - keras_psnr: 24.8814 - keras_ssim: 0.4482 - val_loss: 1.3210e-05 - val_mean_squared_error: 4.1833e-10 - val_keras_psnr: 25.4523 - val_keras_ssim: 0.4639\n"
     ]
    },
    {
     "data": {
      "application/vnd.jupyter.widget-view+json": {
       "model_id": "",
       "version_major": 2,
       "version_minor": 0
      },
      "text/plain": [
       "HBox(children=(IntProgress(value=0, description='Epoch 50', max=10, style=ProgressStyle(description_width='ini…"
      ]
     },
     "metadata": {},
     "output_type": "display_data"
    },
    {
     "name": "stdout",
     "output_type": "stream",
     "text": [
      "Epoch 51/1000\n",
      "10/10 - 29s - loss: 2.2602e-05 - mean_squared_error: 1.1493e-09 - keras_psnr: 24.5195 - keras_ssim: 0.5573 - val_loss: 1.3168e-05 - val_mean_squared_error: 4.1532e-10 - val_keras_psnr: 25.4695 - val_keras_ssim: 0.4643\n"
     ]
    },
    {
     "data": {
      "application/vnd.jupyter.widget-view+json": {
       "model_id": "",
       "version_major": 2,
       "version_minor": 0
      },
      "text/plain": [
       "HBox(children=(IntProgress(value=0, description='Epoch 51', max=10, style=ProgressStyle(description_width='ini…"
      ]
     },
     "metadata": {},
     "output_type": "display_data"
    },
    {
     "name": "stdout",
     "output_type": "stream",
     "text": [
      "Epoch 52/1000\n",
      "10/10 - 29s - loss: 1.4924e-05 - mean_squared_error: 3.7222e-10 - keras_psnr: 25.6341 - keras_ssim: 0.4908 - val_loss: 1.3168e-05 - val_mean_squared_error: 4.1629e-10 - val_keras_psnr: 25.4721 - val_keras_ssim: 0.4641\n"
     ]
    },
    {
     "data": {
      "application/vnd.jupyter.widget-view+json": {
       "model_id": "",
       "version_major": 2,
       "version_minor": 0
      },
      "text/plain": [
       "HBox(children=(IntProgress(value=0, description='Epoch 52', max=10, style=ProgressStyle(description_width='ini…"
      ]
     },
     "metadata": {},
     "output_type": "display_data"
    },
    {
     "name": "stdout",
     "output_type": "stream",
     "text": [
      "Epoch 53/1000\n",
      "10/10 - 29s - loss: 1.5050e-05 - mean_squared_error: 6.7915e-10 - keras_psnr: 24.0920 - keras_ssim: 0.4452 - val_loss: 1.3137e-05 - val_mean_squared_error: 4.1383e-10 - val_keras_psnr: 25.4972 - val_keras_ssim: 0.4644\n"
     ]
    },
    {
     "data": {
      "application/vnd.jupyter.widget-view+json": {
       "model_id": "",
       "version_major": 2,
       "version_minor": 0
      },
      "text/plain": [
       "HBox(children=(IntProgress(value=0, description='Epoch 53', max=10, style=ProgressStyle(description_width='ini…"
      ]
     },
     "metadata": {},
     "output_type": "display_data"
    },
    {
     "name": "stdout",
     "output_type": "stream",
     "text": [
      "Epoch 54/1000\n",
      "10/10 - 29s - loss: 1.7738e-05 - mean_squared_error: 8.4825e-10 - keras_psnr: 23.2864 - keras_ssim: 0.4462 - val_loss: 1.3128e-05 - val_mean_squared_error: 4.1344e-10 - val_keras_psnr: 25.5093 - val_keras_ssim: 0.4646\n"
     ]
    },
    {
     "data": {
      "application/vnd.jupyter.widget-view+json": {
       "model_id": "",
       "version_major": 2,
       "version_minor": 0
      },
      "text/plain": [
       "HBox(children=(IntProgress(value=0, description='Epoch 54', max=10, style=ProgressStyle(description_width='ini…"
      ]
     },
     "metadata": {},
     "output_type": "display_data"
    },
    {
     "name": "stdout",
     "output_type": "stream",
     "text": [
      "Epoch 55/1000\n",
      "10/10 - 29s - loss: 1.6924e-05 - mean_squared_error: 5.8964e-10 - keras_psnr: 24.6559 - keras_ssim: 0.4915 - val_loss: 1.3106e-05 - val_mean_squared_error: 4.1202e-10 - val_keras_psnr: 25.5151 - val_keras_ssim: 0.4646\n"
     ]
    },
    {
     "data": {
      "application/vnd.jupyter.widget-view+json": {
       "model_id": "",
       "version_major": 2,
       "version_minor": 0
      },
      "text/plain": [
       "HBox(children=(IntProgress(value=0, description='Epoch 55', max=10, style=ProgressStyle(description_width='ini…"
      ]
     },
     "metadata": {},
     "output_type": "display_data"
    },
    {
     "name": "stdout",
     "output_type": "stream",
     "text": [
      "Epoch 56/1000\n",
      "10/10 - 28s - loss: 1.2500e-05 - mean_squared_error: 5.3472e-10 - keras_psnr: 26.2745 - keras_ssim: 0.5350 - val_loss: 1.3101e-05 - val_mean_squared_error: 4.1188e-10 - val_keras_psnr: 25.5228 - val_keras_ssim: 0.4647\n"
     ]
    },
    {
     "data": {
      "application/vnd.jupyter.widget-view+json": {
       "model_id": "",
       "version_major": 2,
       "version_minor": 0
      },
      "text/plain": [
       "HBox(children=(IntProgress(value=0, description='Epoch 56', max=10, style=ProgressStyle(description_width='ini…"
      ]
     },
     "metadata": {},
     "output_type": "display_data"
    },
    {
     "name": "stdout",
     "output_type": "stream",
     "text": [
      "Epoch 57/1000\n",
      "10/10 - 29s - loss: 1.2465e-05 - mean_squared_error: 2.6560e-10 - keras_psnr: 24.6569 - keras_ssim: 0.3994 - val_loss: 1.3066e-05 - val_mean_squared_error: 4.0868e-10 - val_keras_psnr: 25.5518 - val_keras_ssim: 0.4652\n"
     ]
    },
    {
     "data": {
      "application/vnd.jupyter.widget-view+json": {
       "model_id": "",
       "version_major": 2,
       "version_minor": 0
      },
      "text/plain": [
       "HBox(children=(IntProgress(value=0, description='Epoch 57', max=10, style=ProgressStyle(description_width='ini…"
      ]
     },
     "metadata": {},
     "output_type": "display_data"
    },
    {
     "name": "stdout",
     "output_type": "stream",
     "text": [
      "Epoch 58/1000\n",
      "10/10 - 29s - loss: 1.4444e-05 - mean_squared_error: 4.0015e-10 - keras_psnr: 24.0234 - keras_ssim: 0.4411 - val_loss: 1.3076e-05 - val_mean_squared_error: 4.0996e-10 - val_keras_psnr: 25.5524 - val_keras_ssim: 0.4650\n"
     ]
    },
    {
     "data": {
      "application/vnd.jupyter.widget-view+json": {
       "model_id": "",
       "version_major": 2,
       "version_minor": 0
      },
      "text/plain": [
       "HBox(children=(IntProgress(value=0, description='Epoch 58', max=10, style=ProgressStyle(description_width='ini…"
      ]
     },
     "metadata": {},
     "output_type": "display_data"
    },
    {
     "name": "stdout",
     "output_type": "stream",
     "text": [
      "Epoch 59/1000\n",
      "10/10 - 29s - loss: 1.6087e-05 - mean_squared_error: 4.1741e-10 - keras_psnr: 24.4045 - keras_ssim: 0.4563 - val_loss: 1.3041e-05 - val_mean_squared_error: 4.0740e-10 - val_keras_psnr: 25.5783 - val_keras_ssim: 0.4656\n"
     ]
    },
    {
     "data": {
      "application/vnd.jupyter.widget-view+json": {
       "model_id": "",
       "version_major": 2,
       "version_minor": 0
      },
      "text/plain": [
       "HBox(children=(IntProgress(value=0, description='Epoch 59', max=10, style=ProgressStyle(description_width='ini…"
      ]
     },
     "metadata": {},
     "output_type": "display_data"
    },
    {
     "name": "stdout",
     "output_type": "stream",
     "text": [
      "Epoch 60/1000\n",
      "10/10 - 29s - loss: 1.8156e-05 - mean_squared_error: 9.3454e-10 - keras_psnr: 25.5658 - keras_ssim: 0.5108 - val_loss: 1.3020e-05 - val_mean_squared_error: 4.0573e-10 - val_keras_psnr: 25.5832 - val_keras_ssim: 0.4657\n"
     ]
    },
    {
     "data": {
      "application/vnd.jupyter.widget-view+json": {
       "model_id": "",
       "version_major": 2,
       "version_minor": 0
      },
      "text/plain": [
       "HBox(children=(IntProgress(value=0, description='Epoch 60', max=10, style=ProgressStyle(description_width='ini…"
      ]
     },
     "metadata": {},
     "output_type": "display_data"
    },
    {
     "name": "stdout",
     "output_type": "stream",
     "text": [
      "Epoch 61/1000\n",
      "10/10 - 30s - loss: 1.9026e-05 - mean_squared_error: 5.2056e-10 - keras_psnr: 23.9842 - keras_ssim: 0.4172 - val_loss: 1.2993e-05 - val_mean_squared_error: 4.0354e-10 - val_keras_psnr: 25.5881 - val_keras_ssim: 0.4658\n"
     ]
    },
    {
     "data": {
      "application/vnd.jupyter.widget-view+json": {
       "model_id": "",
       "version_major": 2,
       "version_minor": 0
      },
      "text/plain": [
       "HBox(children=(IntProgress(value=0, description='Epoch 61', max=10, style=ProgressStyle(description_width='ini…"
      ]
     },
     "metadata": {},
     "output_type": "display_data"
    },
    {
     "name": "stdout",
     "output_type": "stream",
     "text": [
      "Epoch 62/1000\n",
      "10/10 - 29s - loss: 1.5019e-05 - mean_squared_error: 3.9814e-10 - keras_psnr: 27.1187 - keras_ssim: 0.5587 - val_loss: 1.3001e-05 - val_mean_squared_error: 4.0459e-10 - val_keras_psnr: 25.5796 - val_keras_ssim: 0.4654\n"
     ]
    },
    {
     "data": {
      "application/vnd.jupyter.widget-view+json": {
       "model_id": "",
       "version_major": 2,
       "version_minor": 0
      },
      "text/plain": [
       "HBox(children=(IntProgress(value=0, description='Epoch 62', max=10, style=ProgressStyle(description_width='ini…"
      ]
     },
     "metadata": {},
     "output_type": "display_data"
    },
    {
     "name": "stdout",
     "output_type": "stream",
     "text": [
      "Epoch 63/1000\n",
      "10/10 - 30s - loss: 1.7140e-05 - mean_squared_error: 8.4290e-10 - keras_psnr: 24.6577 - keras_ssim: 0.4347 - val_loss: 1.2972e-05 - val_mean_squared_error: 4.0248e-10 - val_keras_psnr: 25.6031 - val_keras_ssim: 0.4659\n"
     ]
    },
    {
     "data": {
      "application/vnd.jupyter.widget-view+json": {
       "model_id": "",
       "version_major": 2,
       "version_minor": 0
      },
      "text/plain": [
       "HBox(children=(IntProgress(value=0, description='Epoch 63', max=10, style=ProgressStyle(description_width='ini…"
      ]
     },
     "metadata": {},
     "output_type": "display_data"
    },
    {
     "name": "stdout",
     "output_type": "stream",
     "text": [
      "Epoch 64/1000\n",
      "10/10 - 29s - loss: 8.9024e-06 - mean_squared_error: 1.1441e-10 - keras_psnr: 25.8727 - keras_ssim: 0.4375 - val_loss: 1.2968e-05 - val_mean_squared_error: 4.0226e-10 - val_keras_psnr: 25.6124 - val_keras_ssim: 0.4661\n"
     ]
    },
    {
     "data": {
      "application/vnd.jupyter.widget-view+json": {
       "model_id": "",
       "version_major": 2,
       "version_minor": 0
      },
      "text/plain": [
       "HBox(children=(IntProgress(value=0, description='Epoch 64', max=10, style=ProgressStyle(description_width='ini…"
      ]
     },
     "metadata": {},
     "output_type": "display_data"
    },
    {
     "name": "stdout",
     "output_type": "stream",
     "text": [
      "Epoch 65/1000\n",
      "10/10 - 30s - loss: 1.5124e-05 - mean_squared_error: 3.4688e-10 - keras_psnr: 23.7818 - keras_ssim: 0.3770 - val_loss: 1.2957e-05 - val_mean_squared_error: 4.0155e-10 - val_keras_psnr: 25.6185 - val_keras_ssim: 0.4663\n"
     ]
    },
    {
     "data": {
      "application/vnd.jupyter.widget-view+json": {
       "model_id": "",
       "version_major": 2,
       "version_minor": 0
      },
      "text/plain": [
       "HBox(children=(IntProgress(value=0, description='Epoch 65', max=10, style=ProgressStyle(description_width='ini…"
      ]
     },
     "metadata": {},
     "output_type": "display_data"
    },
    {
     "name": "stdout",
     "output_type": "stream",
     "text": [
      "Epoch 66/1000\n",
      "10/10 - 30s - loss: 1.2773e-05 - mean_squared_error: 4.4449e-10 - keras_psnr: 24.1513 - keras_ssim: 0.4187 - val_loss: 1.2946e-05 - val_mean_squared_error: 4.0043e-10 - val_keras_psnr: 25.6279 - val_keras_ssim: 0.4664\n"
     ]
    },
    {
     "data": {
      "application/vnd.jupyter.widget-view+json": {
       "model_id": "",
       "version_major": 2,
       "version_minor": 0
      },
      "text/plain": [
       "HBox(children=(IntProgress(value=0, description='Epoch 66', max=10, style=ProgressStyle(description_width='ini…"
      ]
     },
     "metadata": {},
     "output_type": "display_data"
    },
    {
     "name": "stdout",
     "output_type": "stream",
     "text": [
      "Epoch 67/1000\n",
      "10/10 - 30s - loss: 1.2168e-05 - mean_squared_error: 2.4648e-10 - keras_psnr: 24.8956 - keras_ssim: 0.4163 - val_loss: 1.2927e-05 - val_mean_squared_error: 3.9971e-10 - val_keras_psnr: 25.6452 - val_keras_ssim: 0.4668\n"
     ]
    },
    {
     "data": {
      "application/vnd.jupyter.widget-view+json": {
       "model_id": "",
       "version_major": 2,
       "version_minor": 0
      },
      "text/plain": [
       "HBox(children=(IntProgress(value=0, description='Epoch 67', max=10, style=ProgressStyle(description_width='ini…"
      ]
     },
     "metadata": {},
     "output_type": "display_data"
    },
    {
     "name": "stdout",
     "output_type": "stream",
     "text": [
      "Epoch 68/1000\n",
      "10/10 - 29s - loss: 1.0878e-05 - mean_squared_error: 2.7560e-10 - keras_psnr: 25.7521 - keras_ssim: 0.4250 - val_loss: 1.2912e-05 - val_mean_squared_error: 3.9826e-10 - val_keras_psnr: 25.6530 - val_keras_ssim: 0.4669\n"
     ]
    },
    {
     "data": {
      "application/vnd.jupyter.widget-view+json": {
       "model_id": "",
       "version_major": 2,
       "version_minor": 0
      },
      "text/plain": [
       "HBox(children=(IntProgress(value=0, description='Epoch 68', max=10, style=ProgressStyle(description_width='ini…"
      ]
     },
     "metadata": {},
     "output_type": "display_data"
    },
    {
     "name": "stdout",
     "output_type": "stream",
     "text": [
      "Epoch 69/1000\n",
      "10/10 - 28s - loss: 1.0535e-05 - mean_squared_error: 1.7356e-10 - keras_psnr: 24.5033 - keras_ssim: 0.3860 - val_loss: 1.2912e-05 - val_mean_squared_error: 3.9870e-10 - val_keras_psnr: 25.6640 - val_keras_ssim: 0.4671\n"
     ]
    },
    {
     "data": {
      "application/vnd.jupyter.widget-view+json": {
       "model_id": "",
       "version_major": 2,
       "version_minor": 0
      },
      "text/plain": [
       "HBox(children=(IntProgress(value=0, description='Epoch 69', max=10, style=ProgressStyle(description_width='ini…"
      ]
     },
     "metadata": {},
     "output_type": "display_data"
    },
    {
     "name": "stdout",
     "output_type": "stream",
     "text": [
      "Epoch 70/1000\n",
      "10/10 - 30s - loss: 1.5742e-05 - mean_squared_error: 4.6698e-10 - keras_psnr: 25.1049 - keras_ssim: 0.4497 - val_loss: 1.2892e-05 - val_mean_squared_error: 3.9718e-10 - val_keras_psnr: 25.6687 - val_keras_ssim: 0.4672\n"
     ]
    },
    {
     "data": {
      "application/vnd.jupyter.widget-view+json": {
       "model_id": "",
       "version_major": 2,
       "version_minor": 0
      },
      "text/plain": [
       "HBox(children=(IntProgress(value=0, description='Epoch 70', max=10, style=ProgressStyle(description_width='ini…"
      ]
     },
     "metadata": {},
     "output_type": "display_data"
    },
    {
     "name": "stdout",
     "output_type": "stream",
     "text": [
      "Epoch 71/1000\n",
      "10/10 - 30s - loss: 9.3343e-06 - mean_squared_error: 1.8119e-10 - keras_psnr: 24.9339 - keras_ssim: 0.4198 - val_loss: 1.2885e-05 - val_mean_squared_error: 3.9691e-10 - val_keras_psnr: 25.6629 - val_keras_ssim: 0.4672\n"
     ]
    },
    {
     "data": {
      "application/vnd.jupyter.widget-view+json": {
       "model_id": "",
       "version_major": 2,
       "version_minor": 0
      },
      "text/plain": [
       "HBox(children=(IntProgress(value=0, description='Epoch 71', max=10, style=ProgressStyle(description_width='ini…"
      ]
     },
     "metadata": {},
     "output_type": "display_data"
    },
    {
     "name": "stdout",
     "output_type": "stream",
     "text": [
      "Epoch 72/1000\n",
      "10/10 - 29s - loss: 1.2234e-05 - mean_squared_error: 2.5695e-10 - keras_psnr: 24.0048 - keras_ssim: 0.3701 - val_loss: 1.2879e-05 - val_mean_squared_error: 3.9645e-10 - val_keras_psnr: 25.6681 - val_keras_ssim: 0.4672\n"
     ]
    },
    {
     "data": {
      "application/vnd.jupyter.widget-view+json": {
       "model_id": "",
       "version_major": 2,
       "version_minor": 0
      },
      "text/plain": [
       "HBox(children=(IntProgress(value=0, description='Epoch 72', max=10, style=ProgressStyle(description_width='ini…"
      ]
     },
     "metadata": {},
     "output_type": "display_data"
    },
    {
     "name": "stdout",
     "output_type": "stream",
     "text": [
      "Epoch 73/1000\n",
      "10/10 - 29s - loss: 1.5535e-05 - mean_squared_error: 5.3515e-10 - keras_psnr: 24.6844 - keras_ssim: 0.5000 - val_loss: 1.2853e-05 - val_mean_squared_error: 3.9459e-10 - val_keras_psnr: 25.6959 - val_keras_ssim: 0.4677\n"
     ]
    },
    {
     "data": {
      "application/vnd.jupyter.widget-view+json": {
       "model_id": "",
       "version_major": 2,
       "version_minor": 0
      },
      "text/plain": [
       "HBox(children=(IntProgress(value=0, description='Epoch 73', max=10, style=ProgressStyle(description_width='ini…"
      ]
     },
     "metadata": {},
     "output_type": "display_data"
    },
    {
     "name": "stdout",
     "output_type": "stream",
     "text": [
      "Epoch 74/1000\n",
      "10/10 - 29s - loss: 2.2504e-05 - mean_squared_error: 1.0551e-09 - keras_psnr: 25.6209 - keras_ssim: 0.5818 - val_loss: 1.2837e-05 - val_mean_squared_error: 3.9341e-10 - val_keras_psnr: 25.7011 - val_keras_ssim: 0.4677\n"
     ]
    },
    {
     "data": {
      "application/vnd.jupyter.widget-view+json": {
       "model_id": "",
       "version_major": 2,
       "version_minor": 0
      },
      "text/plain": [
       "HBox(children=(IntProgress(value=0, description='Epoch 74', max=10, style=ProgressStyle(description_width='ini…"
      ]
     },
     "metadata": {},
     "output_type": "display_data"
    },
    {
     "name": "stdout",
     "output_type": "stream",
     "text": [
      "Epoch 75/1000\n",
      "10/10 - 29s - loss: 1.3695e-05 - mean_squared_error: 3.4949e-10 - keras_psnr: 23.7578 - keras_ssim: 0.4051 - val_loss: 1.2819e-05 - val_mean_squared_error: 3.9196e-10 - val_keras_psnr: 25.6961 - val_keras_ssim: 0.4677\n"
     ]
    },
    {
     "data": {
      "application/vnd.jupyter.widget-view+json": {
       "model_id": "",
       "version_major": 2,
       "version_minor": 0
      },
      "text/plain": [
       "HBox(children=(IntProgress(value=0, description='Epoch 75', max=10, style=ProgressStyle(description_width='ini…"
      ]
     },
     "metadata": {},
     "output_type": "display_data"
    },
    {
     "name": "stdout",
     "output_type": "stream",
     "text": [
      "Epoch 76/1000\n",
      "10/10 - 29s - loss: 1.7114e-05 - mean_squared_error: 4.3952e-10 - keras_psnr: 24.8098 - keras_ssim: 0.4757 - val_loss: 1.2819e-05 - val_mean_squared_error: 3.9207e-10 - val_keras_psnr: 25.6926 - val_keras_ssim: 0.4674\n"
     ]
    },
    {
     "data": {
      "application/vnd.jupyter.widget-view+json": {
       "model_id": "",
       "version_major": 2,
       "version_minor": 0
      },
      "text/plain": [
       "HBox(children=(IntProgress(value=0, description='Epoch 76', max=10, style=ProgressStyle(description_width='ini…"
      ]
     },
     "metadata": {},
     "output_type": "display_data"
    },
    {
     "name": "stdout",
     "output_type": "stream",
     "text": [
      "Epoch 77/1000\n",
      "10/10 - 30s - loss: 1.1896e-05 - mean_squared_error: 2.7576e-10 - keras_psnr: 24.4236 - keras_ssim: 0.4028 - val_loss: 1.2785e-05 - val_mean_squared_error: 3.8969e-10 - val_keras_psnr: 25.7224 - val_keras_ssim: 0.4680\n"
     ]
    },
    {
     "data": {
      "application/vnd.jupyter.widget-view+json": {
       "model_id": "",
       "version_major": 2,
       "version_minor": 0
      },
      "text/plain": [
       "HBox(children=(IntProgress(value=0, description='Epoch 77', max=10, style=ProgressStyle(description_width='ini…"
      ]
     },
     "metadata": {},
     "output_type": "display_data"
    },
    {
     "name": "stdout",
     "output_type": "stream",
     "text": [
      "Epoch 78/1000\n",
      "10/10 - 30s - loss: 1.1662e-05 - mean_squared_error: 3.4978e-10 - keras_psnr: 24.5315 - keras_ssim: 0.4484 - val_loss: 1.2773e-05 - val_mean_squared_error: 3.8872e-10 - val_keras_psnr: 25.7412 - val_keras_ssim: 0.4682\n"
     ]
    },
    {
     "data": {
      "application/vnd.jupyter.widget-view+json": {
       "model_id": "",
       "version_major": 2,
       "version_minor": 0
      },
      "text/plain": [
       "HBox(children=(IntProgress(value=0, description='Epoch 78', max=10, style=ProgressStyle(description_width='ini…"
      ]
     },
     "metadata": {},
     "output_type": "display_data"
    },
    {
     "name": "stdout",
     "output_type": "stream",
     "text": [
      "Epoch 79/1000\n",
      "10/10 - 30s - loss: 1.5738e-05 - mean_squared_error: 4.7257e-10 - keras_psnr: 25.1380 - keras_ssim: 0.5005 - val_loss: 1.2770e-05 - val_mean_squared_error: 3.8884e-10 - val_keras_psnr: 25.7462 - val_keras_ssim: 0.4682\n"
     ]
    },
    {
     "data": {
      "application/vnd.jupyter.widget-view+json": {
       "model_id": "",
       "version_major": 2,
       "version_minor": 0
      },
      "text/plain": [
       "HBox(children=(IntProgress(value=0, description='Epoch 79', max=10, style=ProgressStyle(description_width='ini…"
      ]
     },
     "metadata": {},
     "output_type": "display_data"
    },
    {
     "name": "stdout",
     "output_type": "stream",
     "text": [
      "Epoch 80/1000\n",
      "10/10 - 30s - loss: 1.0494e-05 - mean_squared_error: 1.9023e-10 - keras_psnr: 24.9858 - keras_ssim: 0.4252 - val_loss: 1.2751e-05 - val_mean_squared_error: 3.8735e-10 - val_keras_psnr: 25.7570 - val_keras_ssim: 0.4685\n"
     ]
    },
    {
     "data": {
      "application/vnd.jupyter.widget-view+json": {
       "model_id": "",
       "version_major": 2,
       "version_minor": 0
      },
      "text/plain": [
       "HBox(children=(IntProgress(value=0, description='Epoch 80', max=10, style=ProgressStyle(description_width='ini…"
      ]
     },
     "metadata": {},
     "output_type": "display_data"
    },
    {
     "name": "stdout",
     "output_type": "stream",
     "text": [
      "Epoch 81/1000\n",
      "10/10 - 30s - loss: 2.0548e-05 - mean_squared_error: 1.1303e-09 - keras_psnr: 25.1928 - keras_ssim: 0.5244 - val_loss: 1.2742e-05 - val_mean_squared_error: 3.8728e-10 - val_keras_psnr: 25.7621 - val_keras_ssim: 0.4685\n"
     ]
    },
    {
     "data": {
      "application/vnd.jupyter.widget-view+json": {
       "model_id": "",
       "version_major": 2,
       "version_minor": 0
      },
      "text/plain": [
       "HBox(children=(IntProgress(value=0, description='Epoch 81', max=10, style=ProgressStyle(description_width='ini…"
      ]
     },
     "metadata": {},
     "output_type": "display_data"
    },
    {
     "name": "stdout",
     "output_type": "stream",
     "text": [
      "Epoch 82/1000\n",
      "10/10 - 30s - loss: 1.1376e-05 - mean_squared_error: 2.1743e-10 - keras_psnr: 27.1452 - keras_ssim: 0.5490 - val_loss: 1.2729e-05 - val_mean_squared_error: 3.8575e-10 - val_keras_psnr: 25.7640 - val_keras_ssim: 0.4686\n"
     ]
    },
    {
     "data": {
      "application/vnd.jupyter.widget-view+json": {
       "model_id": "",
       "version_major": 2,
       "version_minor": 0
      },
      "text/plain": [
       "HBox(children=(IntProgress(value=0, description='Epoch 82', max=10, style=ProgressStyle(description_width='ini…"
      ]
     },
     "metadata": {},
     "output_type": "display_data"
    },
    {
     "name": "stdout",
     "output_type": "stream",
     "text": [
      "Epoch 83/1000\n",
      "10/10 - 30s - loss: 1.4314e-05 - mean_squared_error: 7.7483e-10 - keras_psnr: 22.5123 - keras_ssim: 0.3998 - val_loss: 1.2711e-05 - val_mean_squared_error: 3.8359e-10 - val_keras_psnr: 25.7631 - val_keras_ssim: 0.4685\n"
     ]
    },
    {
     "data": {
      "application/vnd.jupyter.widget-view+json": {
       "model_id": "",
       "version_major": 2,
       "version_minor": 0
      },
      "text/plain": [
       "HBox(children=(IntProgress(value=0, description='Epoch 83', max=10, style=ProgressStyle(description_width='ini…"
      ]
     },
     "metadata": {},
     "output_type": "display_data"
    },
    {
     "name": "stdout",
     "output_type": "stream",
     "text": [
      "Epoch 84/1000\n",
      "10/10 - 29s - loss: 1.9099e-05 - mean_squared_error: 7.5532e-10 - keras_psnr: 25.4154 - keras_ssim: 0.5167 - val_loss: 1.2703e-05 - val_mean_squared_error: 3.8413e-10 - val_keras_psnr: 25.7613 - val_keras_ssim: 0.4686\n"
     ]
    },
    {
     "data": {
      "application/vnd.jupyter.widget-view+json": {
       "model_id": "",
       "version_major": 2,
       "version_minor": 0
      },
      "text/plain": [
       "HBox(children=(IntProgress(value=0, description='Epoch 84', max=10, style=ProgressStyle(description_width='ini…"
      ]
     },
     "metadata": {},
     "output_type": "display_data"
    },
    {
     "name": "stdout",
     "output_type": "stream",
     "text": [
      "Epoch 85/1000\n",
      "10/10 - 29s - loss: 1.5214e-05 - mean_squared_error: 6.0912e-10 - keras_psnr: 25.3417 - keras_ssim: 0.5125 - val_loss: 1.2700e-05 - val_mean_squared_error: 3.8416e-10 - val_keras_psnr: 25.7678 - val_keras_ssim: 0.4685\n"
     ]
    },
    {
     "data": {
      "application/vnd.jupyter.widget-view+json": {
       "model_id": "",
       "version_major": 2,
       "version_minor": 0
      },
      "text/plain": [
       "HBox(children=(IntProgress(value=0, description='Epoch 85', max=10, style=ProgressStyle(description_width='ini…"
      ]
     },
     "metadata": {},
     "output_type": "display_data"
    },
    {
     "name": "stdout",
     "output_type": "stream",
     "text": [
      "Epoch 86/1000\n",
      "10/10 - 30s - loss: 1.1527e-05 - mean_squared_error: 3.9323e-10 - keras_psnr: 24.4067 - keras_ssim: 0.4049 - val_loss: 1.2679e-05 - val_mean_squared_error: 3.8238e-10 - val_keras_psnr: 25.7791 - val_keras_ssim: 0.4687\n"
     ]
    },
    {
     "data": {
      "application/vnd.jupyter.widget-view+json": {
       "model_id": "",
       "version_major": 2,
       "version_minor": 0
      },
      "text/plain": [
       "HBox(children=(IntProgress(value=0, description='Epoch 86', max=10, style=ProgressStyle(description_width='ini…"
      ]
     },
     "metadata": {},
     "output_type": "display_data"
    },
    {
     "name": "stdout",
     "output_type": "stream",
     "text": [
      "Epoch 87/1000\n",
      "10/10 - 29s - loss: 1.8713e-05 - mean_squared_error: 8.0121e-10 - keras_psnr: 25.2836 - keras_ssim: 0.5069 - val_loss: 1.2658e-05 - val_mean_squared_error: 3.8078e-10 - val_keras_psnr: 25.8017 - val_keras_ssim: 0.4693\n"
     ]
    },
    {
     "data": {
      "application/vnd.jupyter.widget-view+json": {
       "model_id": "",
       "version_major": 2,
       "version_minor": 0
      },
      "text/plain": [
       "HBox(children=(IntProgress(value=0, description='Epoch 87', max=10, style=ProgressStyle(description_width='ini…"
      ]
     },
     "metadata": {},
     "output_type": "display_data"
    },
    {
     "name": "stdout",
     "output_type": "stream",
     "text": [
      "Epoch 88/1000\n",
      "10/10 - 33s - loss: 3.1871e-05 - mean_squared_error: 2.1373e-09 - keras_psnr: 24.0940 - keras_ssim: 0.4339 - val_loss: 1.2646e-05 - val_mean_squared_error: 3.8031e-10 - val_keras_psnr: 25.8044 - val_keras_ssim: 0.4693\n"
     ]
    },
    {
     "data": {
      "application/vnd.jupyter.widget-view+json": {
       "model_id": "",
       "version_major": 2,
       "version_minor": 0
      },
      "text/plain": [
       "HBox(children=(IntProgress(value=0, description='Epoch 88', max=10, style=ProgressStyle(description_width='ini…"
      ]
     },
     "metadata": {},
     "output_type": "display_data"
    },
    {
     "name": "stdout",
     "output_type": "stream",
     "text": [
      "Epoch 89/1000\n",
      "10/10 - 29s - loss: 1.2184e-05 - mean_squared_error: 3.8109e-10 - keras_psnr: 24.2914 - keras_ssim: 0.4112 - val_loss: 1.2638e-05 - val_mean_squared_error: 3.7921e-10 - val_keras_psnr: 25.8149 - val_keras_ssim: 0.4695\n"
     ]
    },
    {
     "data": {
      "application/vnd.jupyter.widget-view+json": {
       "model_id": "",
       "version_major": 2,
       "version_minor": 0
      },
      "text/plain": [
       "HBox(children=(IntProgress(value=0, description='Epoch 89', max=10, style=ProgressStyle(description_width='ini…"
      ]
     },
     "metadata": {},
     "output_type": "display_data"
    },
    {
     "name": "stdout",
     "output_type": "stream",
     "text": [
      "Epoch 90/1000\n",
      "10/10 - 29s - loss: 9.9425e-06 - mean_squared_error: 2.0570e-10 - keras_psnr: 24.3876 - keras_ssim: 0.3792 - val_loss: 1.2627e-05 - val_mean_squared_error: 3.7852e-10 - val_keras_psnr: 25.8286 - val_keras_ssim: 0.4698\n"
     ]
    },
    {
     "data": {
      "application/vnd.jupyter.widget-view+json": {
       "model_id": "",
       "version_major": 2,
       "version_minor": 0
      },
      "text/plain": [
       "HBox(children=(IntProgress(value=0, description='Epoch 90', max=10, style=ProgressStyle(description_width='ini…"
      ]
     },
     "metadata": {},
     "output_type": "display_data"
    },
    {
     "name": "stdout",
     "output_type": "stream",
     "text": [
      "Epoch 91/1000\n",
      "10/10 - 30s - loss: 1.2319e-05 - mean_squared_error: 4.1763e-10 - keras_psnr: 25.3341 - keras_ssim: 0.4869 - val_loss: 1.2623e-05 - val_mean_squared_error: 3.7839e-10 - val_keras_psnr: 25.8321 - val_keras_ssim: 0.4698\n"
     ]
    },
    {
     "data": {
      "application/vnd.jupyter.widget-view+json": {
       "model_id": "",
       "version_major": 2,
       "version_minor": 0
      },
      "text/plain": [
       "HBox(children=(IntProgress(value=0, description='Epoch 91', max=10, style=ProgressStyle(description_width='ini…"
      ]
     },
     "metadata": {},
     "output_type": "display_data"
    },
    {
     "name": "stdout",
     "output_type": "stream",
     "text": [
      "Epoch 92/1000\n",
      "10/10 - 29s - loss: 1.0548e-05 - mean_squared_error: 1.9305e-10 - keras_psnr: 24.9849 - keras_ssim: 0.3999 - val_loss: 1.2606e-05 - val_mean_squared_error: 3.7718e-10 - val_keras_psnr: 25.8497 - val_keras_ssim: 0.4704\n"
     ]
    },
    {
     "data": {
      "application/vnd.jupyter.widget-view+json": {
       "model_id": "",
       "version_major": 2,
       "version_minor": 0
      },
      "text/plain": [
       "HBox(children=(IntProgress(value=0, description='Epoch 92', max=10, style=ProgressStyle(description_width='ini…"
      ]
     },
     "metadata": {},
     "output_type": "display_data"
    },
    {
     "name": "stdout",
     "output_type": "stream",
     "text": [
      "Epoch 93/1000\n",
      "10/10 - 30s - loss: 1.1837e-05 - mean_squared_error: 3.7715e-10 - keras_psnr: 24.3837 - keras_ssim: 0.4168 - val_loss: 1.2600e-05 - val_mean_squared_error: 3.7701e-10 - val_keras_psnr: 25.8575 - val_keras_ssim: 0.4705\n"
     ]
    },
    {
     "data": {
      "application/vnd.jupyter.widget-view+json": {
       "model_id": "",
       "version_major": 2,
       "version_minor": 0
      },
      "text/plain": [
       "HBox(children=(IntProgress(value=0, description='Epoch 93', max=10, style=ProgressStyle(description_width='ini…"
      ]
     },
     "metadata": {},
     "output_type": "display_data"
    },
    {
     "name": "stdout",
     "output_type": "stream",
     "text": [
      "Epoch 94/1000\n",
      "10/10 - 29s - loss: 1.4565e-05 - mean_squared_error: 6.9255e-10 - keras_psnr: 24.2286 - keras_ssim: 0.4309 - val_loss: 1.2586e-05 - val_mean_squared_error: 3.7585e-10 - val_keras_psnr: 25.8583 - val_keras_ssim: 0.4706\n"
     ]
    },
    {
     "data": {
      "application/vnd.jupyter.widget-view+json": {
       "model_id": "",
       "version_major": 2,
       "version_minor": 0
      },
      "text/plain": [
       "HBox(children=(IntProgress(value=0, description='Epoch 94', max=10, style=ProgressStyle(description_width='ini…"
      ]
     },
     "metadata": {},
     "output_type": "display_data"
    },
    {
     "name": "stdout",
     "output_type": "stream",
     "text": [
      "Epoch 95/1000\n",
      "10/10 - 30s - loss: 1.7937e-05 - mean_squared_error: 9.0006e-10 - keras_psnr: 23.8424 - keras_ssim: 0.5087 - val_loss: 1.2575e-05 - val_mean_squared_error: 3.7532e-10 - val_keras_psnr: 25.8561 - val_keras_ssim: 0.4706\n"
     ]
    },
    {
     "data": {
      "application/vnd.jupyter.widget-view+json": {
       "model_id": "",
       "version_major": 2,
       "version_minor": 0
      },
      "text/plain": [
       "HBox(children=(IntProgress(value=0, description='Epoch 95', max=10, style=ProgressStyle(description_width='ini…"
      ]
     },
     "metadata": {},
     "output_type": "display_data"
    },
    {
     "name": "stdout",
     "output_type": "stream",
     "text": [
      "Epoch 96/1000\n",
      "10/10 - 29s - loss: 1.8063e-05 - mean_squared_error: 6.8333e-10 - keras_psnr: 26.3382 - keras_ssim: 0.5281 - val_loss: 1.2565e-05 - val_mean_squared_error: 3.7463e-10 - val_keras_psnr: 25.8448 - val_keras_ssim: 0.4704\n"
     ]
    },
    {
     "data": {
      "application/vnd.jupyter.widget-view+json": {
       "model_id": "",
       "version_major": 2,
       "version_minor": 0
      },
      "text/plain": [
       "HBox(children=(IntProgress(value=0, description='Epoch 96', max=10, style=ProgressStyle(description_width='ini…"
      ]
     },
     "metadata": {},
     "output_type": "display_data"
    },
    {
     "name": "stdout",
     "output_type": "stream",
     "text": [
      "Epoch 97/1000\n",
      "10/10 - 29s - loss: 1.5021e-05 - mean_squared_error: 1.0551e-09 - keras_psnr: 24.9561 - keras_ssim: 0.4955 - val_loss: 1.2550e-05 - val_mean_squared_error: 3.7338e-10 - val_keras_psnr: 25.8547 - val_keras_ssim: 0.4706\n"
     ]
    },
    {
     "data": {
      "application/vnd.jupyter.widget-view+json": {
       "model_id": "",
       "version_major": 2,
       "version_minor": 0
      },
      "text/plain": [
       "HBox(children=(IntProgress(value=0, description='Epoch 97', max=10, style=ProgressStyle(description_width='ini…"
      ]
     },
     "metadata": {},
     "output_type": "display_data"
    },
    {
     "name": "stdout",
     "output_type": "stream",
     "text": [
      "Epoch 98/1000\n",
      "10/10 - 32s - loss: 1.2436e-05 - mean_squared_error: 4.9454e-10 - keras_psnr: 24.6823 - keras_ssim: 0.4188 - val_loss: 1.2531e-05 - val_mean_squared_error: 3.7184e-10 - val_keras_psnr: 25.8800 - val_keras_ssim: 0.4709\n"
     ]
    },
    {
     "data": {
      "application/vnd.jupyter.widget-view+json": {
       "model_id": "",
       "version_major": 2,
       "version_minor": 0
      },
      "text/plain": [
       "HBox(children=(IntProgress(value=0, description='Epoch 98', max=10, style=ProgressStyle(description_width='ini…"
      ]
     },
     "metadata": {},
     "output_type": "display_data"
    },
    {
     "name": "stdout",
     "output_type": "stream",
     "text": [
      "Epoch 99/1000\n",
      "10/10 - 29s - loss: 1.2665e-05 - mean_squared_error: 3.0534e-10 - keras_psnr: 23.9711 - keras_ssim: 0.3843 - val_loss: 1.2525e-05 - val_mean_squared_error: 3.7143e-10 - val_keras_psnr: 25.8932 - val_keras_ssim: 0.4712\n"
     ]
    },
    {
     "data": {
      "application/vnd.jupyter.widget-view+json": {
       "model_id": "",
       "version_major": 2,
       "version_minor": 0
      },
      "text/plain": [
       "HBox(children=(IntProgress(value=0, description='Epoch 99', max=10, style=ProgressStyle(description_width='ini…"
      ]
     },
     "metadata": {},
     "output_type": "display_data"
    },
    {
     "name": "stdout",
     "output_type": "stream",
     "text": [
      "Epoch 100/1000\n",
      "10/10 - 29s - loss: 1.6445e-05 - mean_squared_error: 7.9512e-10 - keras_psnr: 24.0915 - keras_ssim: 0.4440 - val_loss: 1.2515e-05 - val_mean_squared_error: 3.7090e-10 - val_keras_psnr: 25.8993 - val_keras_ssim: 0.4713\n"
     ]
    },
    {
     "data": {
      "application/vnd.jupyter.widget-view+json": {
       "model_id": "",
       "version_major": 2,
       "version_minor": 0
      },
      "text/plain": [
       "HBox(children=(IntProgress(value=0, description='Epoch 100', max=10, style=ProgressStyle(description_width='in…"
      ]
     },
     "metadata": {},
     "output_type": "display_data"
    },
    {
     "name": "stdout",
     "output_type": "stream",
     "text": [
      "Epoch 101/1000\n",
      "10/10 - 29s - loss: 9.7900e-06 - mean_squared_error: 2.7514e-10 - keras_psnr: 25.6427 - keras_ssim: 0.4956 - val_loss: 1.2504e-05 - val_mean_squared_error: 3.7002e-10 - val_keras_psnr: 25.9071 - val_keras_ssim: 0.4716\n"
     ]
    },
    {
     "data": {
      "application/vnd.jupyter.widget-view+json": {
       "model_id": "",
       "version_major": 2,
       "version_minor": 0
      },
      "text/plain": [
       "HBox(children=(IntProgress(value=0, description='Epoch 101', max=10, style=ProgressStyle(description_width='in…"
      ]
     },
     "metadata": {},
     "output_type": "display_data"
    },
    {
     "name": "stdout",
     "output_type": "stream",
     "text": [
      "Epoch 102/1000\n",
      "10/10 - 30s - loss: 1.2952e-05 - mean_squared_error: 3.9304e-10 - keras_psnr: 24.7496 - keras_ssim: 0.4271 - val_loss: 1.2494e-05 - val_mean_squared_error: 3.6985e-10 - val_keras_psnr: 25.9215 - val_keras_ssim: 0.4718\n"
     ]
    },
    {
     "data": {
      "application/vnd.jupyter.widget-view+json": {
       "model_id": "",
       "version_major": 2,
       "version_minor": 0
      },
      "text/plain": [
       "HBox(children=(IntProgress(value=0, description='Epoch 102', max=10, style=ProgressStyle(description_width='in…"
      ]
     },
     "metadata": {},
     "output_type": "display_data"
    },
    {
     "name": "stdout",
     "output_type": "stream",
     "text": [
      "Epoch 103/1000\n",
      "10/10 - 29s - loss: 1.6068e-05 - mean_squared_error: 1.3529e-09 - keras_psnr: 25.2616 - keras_ssim: 0.4545 - val_loss: 1.2480e-05 - val_mean_squared_error: 3.6872e-10 - val_keras_psnr: 25.9339 - val_keras_ssim: 0.4720\n"
     ]
    },
    {
     "data": {
      "application/vnd.jupyter.widget-view+json": {
       "model_id": "",
       "version_major": 2,
       "version_minor": 0
      },
      "text/plain": [
       "HBox(children=(IntProgress(value=0, description='Epoch 103', max=10, style=ProgressStyle(description_width='in…"
      ]
     },
     "metadata": {},
     "output_type": "display_data"
    },
    {
     "name": "stdout",
     "output_type": "stream",
     "text": [
      "Epoch 104/1000\n",
      "10/10 - 29s - loss: 2.1973e-05 - mean_squared_error: 2.1127e-09 - keras_psnr: 23.6127 - keras_ssim: 0.5000 - val_loss: 1.2483e-05 - val_mean_squared_error: 3.7010e-10 - val_keras_psnr: 25.9096 - val_keras_ssim: 0.4716\n"
     ]
    },
    {
     "data": {
      "application/vnd.jupyter.widget-view+json": {
       "model_id": "",
       "version_major": 2,
       "version_minor": 0
      },
      "text/plain": [
       "HBox(children=(IntProgress(value=0, description='Epoch 104', max=10, style=ProgressStyle(description_width='in…"
      ]
     },
     "metadata": {},
     "output_type": "display_data"
    },
    {
     "name": "stdout",
     "output_type": "stream",
     "text": [
      "Epoch 105/1000\n",
      "10/10 - 29s - loss: 1.3194e-05 - mean_squared_error: 4.9069e-10 - keras_psnr: 24.5794 - keras_ssim: 0.4511 - val_loss: 1.2485e-05 - val_mean_squared_error: 3.6988e-10 - val_keras_psnr: 25.8925 - val_keras_ssim: 0.4713\n"
     ]
    },
    {
     "data": {
      "application/vnd.jupyter.widget-view+json": {
       "model_id": "",
       "version_major": 2,
       "version_minor": 0
      },
      "text/plain": [
       "HBox(children=(IntProgress(value=0, description='Epoch 105', max=10, style=ProgressStyle(description_width='in…"
      ]
     },
     "metadata": {},
     "output_type": "display_data"
    },
    {
     "name": "stdout",
     "output_type": "stream",
     "text": [
      "Epoch 106/1000\n",
      "10/10 - 29s - loss: 1.4106e-05 - mean_squared_error: 5.2396e-10 - keras_psnr: 24.9263 - keras_ssim: 0.4845 - val_loss: 1.2464e-05 - val_mean_squared_error: 3.6847e-10 - val_keras_psnr: 25.9118 - val_keras_ssim: 0.4715\n"
     ]
    },
    {
     "data": {
      "application/vnd.jupyter.widget-view+json": {
       "model_id": "",
       "version_major": 2,
       "version_minor": 0
      },
      "text/plain": [
       "HBox(children=(IntProgress(value=0, description='Epoch 106', max=10, style=ProgressStyle(description_width='in…"
      ]
     },
     "metadata": {},
     "output_type": "display_data"
    },
    {
     "name": "stdout",
     "output_type": "stream",
     "text": [
      "Epoch 107/1000\n",
      "10/10 - 30s - loss: 1.0355e-05 - mean_squared_error: 2.7375e-10 - keras_psnr: 25.9344 - keras_ssim: 0.4785 - val_loss: 1.2439e-05 - val_mean_squared_error: 3.6656e-10 - val_keras_psnr: 25.9385 - val_keras_ssim: 0.4720\n"
     ]
    },
    {
     "data": {
      "application/vnd.jupyter.widget-view+json": {
       "model_id": "",
       "version_major": 2,
       "version_minor": 0
      },
      "text/plain": [
       "HBox(children=(IntProgress(value=0, description='Epoch 107', max=10, style=ProgressStyle(description_width='in…"
      ]
     },
     "metadata": {},
     "output_type": "display_data"
    },
    {
     "name": "stdout",
     "output_type": "stream",
     "text": [
      "Epoch 108/1000\n",
      "10/10 - 30s - loss: 1.9735e-05 - mean_squared_error: 5.8863e-10 - keras_psnr: 25.0826 - keras_ssim: 0.4695 - val_loss: 1.2410e-05 - val_mean_squared_error: 3.6459e-10 - val_keras_psnr: 25.9586 - val_keras_ssim: 0.4725\n"
     ]
    },
    {
     "data": {
      "application/vnd.jupyter.widget-view+json": {
       "model_id": "",
       "version_major": 2,
       "version_minor": 0
      },
      "text/plain": [
       "HBox(children=(IntProgress(value=0, description='Epoch 108', max=10, style=ProgressStyle(description_width='in…"
      ]
     },
     "metadata": {},
     "output_type": "display_data"
    },
    {
     "name": "stdout",
     "output_type": "stream",
     "text": [
      "Epoch 109/1000\n",
      "10/10 - 30s - loss: 1.7658e-05 - mean_squared_error: 5.7362e-10 - keras_psnr: 23.8916 - keras_ssim: 0.3738 - val_loss: 1.2415e-05 - val_mean_squared_error: 3.6501e-10 - val_keras_psnr: 25.9484 - val_keras_ssim: 0.4721\n"
     ]
    },
    {
     "data": {
      "application/vnd.jupyter.widget-view+json": {
       "model_id": "",
       "version_major": 2,
       "version_minor": 0
      },
      "text/plain": [
       "HBox(children=(IntProgress(value=0, description='Epoch 109', max=10, style=ProgressStyle(description_width='in…"
      ]
     },
     "metadata": {},
     "output_type": "display_data"
    },
    {
     "name": "stdout",
     "output_type": "stream",
     "text": [
      "Epoch 110/1000\n",
      "10/10 - 30s - loss: 1.0579e-05 - mean_squared_error: 3.2790e-10 - keras_psnr: 24.5680 - keras_ssim: 0.4584 - val_loss: 1.2406e-05 - val_mean_squared_error: 3.6409e-10 - val_keras_psnr: 25.9493 - val_keras_ssim: 0.4722\n"
     ]
    },
    {
     "data": {
      "application/vnd.jupyter.widget-view+json": {
       "model_id": "",
       "version_major": 2,
       "version_minor": 0
      },
      "text/plain": [
       "HBox(children=(IntProgress(value=0, description='Epoch 110', max=10, style=ProgressStyle(description_width='in…"
      ]
     },
     "metadata": {},
     "output_type": "display_data"
    },
    {
     "name": "stdout",
     "output_type": "stream",
     "text": [
      "Epoch 111/1000\n",
      "10/10 - 29s - loss: 1.2642e-05 - mean_squared_error: 4.4857e-10 - keras_psnr: 24.5329 - keras_ssim: 0.4556 - val_loss: 1.2387e-05 - val_mean_squared_error: 3.6256e-10 - val_keras_psnr: 25.9608 - val_keras_ssim: 0.4725\n"
     ]
    },
    {
     "data": {
      "application/vnd.jupyter.widget-view+json": {
       "model_id": "",
       "version_major": 2,
       "version_minor": 0
      },
      "text/plain": [
       "HBox(children=(IntProgress(value=0, description='Epoch 111', max=10, style=ProgressStyle(description_width='in…"
      ]
     },
     "metadata": {},
     "output_type": "display_data"
    },
    {
     "name": "stdout",
     "output_type": "stream",
     "text": [
      "Epoch 112/1000\n",
      "10/10 - 30s - loss: 1.2408e-05 - mean_squared_error: 4.4035e-10 - keras_psnr: 25.1265 - keras_ssim: 0.4688 - val_loss: 1.2382e-05 - val_mean_squared_error: 3.6228e-10 - val_keras_psnr: 25.9679 - val_keras_ssim: 0.4725\n"
     ]
    },
    {
     "data": {
      "application/vnd.jupyter.widget-view+json": {
       "model_id": "",
       "version_major": 2,
       "version_minor": 0
      },
      "text/plain": [
       "HBox(children=(IntProgress(value=0, description='Epoch 112', max=10, style=ProgressStyle(description_width='in…"
      ]
     },
     "metadata": {},
     "output_type": "display_data"
    },
    {
     "name": "stdout",
     "output_type": "stream",
     "text": [
      "Epoch 113/1000\n",
      "10/10 - 29s - loss: 1.5217e-05 - mean_squared_error: 4.4291e-10 - keras_psnr: 25.0554 - keras_ssim: 0.4790 - val_loss: 1.2370e-05 - val_mean_squared_error: 3.6162e-10 - val_keras_psnr: 25.9813 - val_keras_ssim: 0.4728\n"
     ]
    },
    {
     "data": {
      "application/vnd.jupyter.widget-view+json": {
       "model_id": "",
       "version_major": 2,
       "version_minor": 0
      },
      "text/plain": [
       "HBox(children=(IntProgress(value=0, description='Epoch 113', max=10, style=ProgressStyle(description_width='in…"
      ]
     },
     "metadata": {},
     "output_type": "display_data"
    },
    {
     "name": "stdout",
     "output_type": "stream",
     "text": [
      "Epoch 114/1000\n",
      "10/10 - 30s - loss: 1.0866e-05 - mean_squared_error: 3.9834e-10 - keras_psnr: 25.3807 - keras_ssim: 0.4902 - val_loss: 1.2359e-05 - val_mean_squared_error: 3.6060e-10 - val_keras_psnr: 25.9825 - val_keras_ssim: 0.4728\n"
     ]
    },
    {
     "data": {
      "application/vnd.jupyter.widget-view+json": {
       "model_id": "",
       "version_major": 2,
       "version_minor": 0
      },
      "text/plain": [
       "HBox(children=(IntProgress(value=0, description='Epoch 114', max=10, style=ProgressStyle(description_width='in…"
      ]
     },
     "metadata": {},
     "output_type": "display_data"
    },
    {
     "name": "stdout",
     "output_type": "stream",
     "text": [
      "Epoch 115/1000\n",
      "10/10 - 29s - loss: 1.7634e-05 - mean_squared_error: 7.8725e-10 - keras_psnr: 24.9961 - keras_ssim: 0.5210 - val_loss: 1.2347e-05 - val_mean_squared_error: 3.5998e-10 - val_keras_psnr: 25.9948 - val_keras_ssim: 0.4731\n"
     ]
    },
    {
     "data": {
      "application/vnd.jupyter.widget-view+json": {
       "model_id": "",
       "version_major": 2,
       "version_minor": 0
      },
      "text/plain": [
       "HBox(children=(IntProgress(value=0, description='Epoch 115', max=10, style=ProgressStyle(description_width='in…"
      ]
     },
     "metadata": {},
     "output_type": "display_data"
    },
    {
     "name": "stdout",
     "output_type": "stream",
     "text": [
      "Epoch 116/1000\n",
      "10/10 - 29s - loss: 1.3164e-05 - mean_squared_error: 4.6046e-10 - keras_psnr: 24.5177 - keras_ssim: 0.4092 - val_loss: 1.2343e-05 - val_mean_squared_error: 3.5988e-10 - val_keras_psnr: 26.0049 - val_keras_ssim: 0.4732\n"
     ]
    },
    {
     "data": {
      "application/vnd.jupyter.widget-view+json": {
       "model_id": "",
       "version_major": 2,
       "version_minor": 0
      },
      "text/plain": [
       "HBox(children=(IntProgress(value=0, description='Epoch 116', max=10, style=ProgressStyle(description_width='in…"
      ]
     },
     "metadata": {},
     "output_type": "display_data"
    },
    {
     "name": "stdout",
     "output_type": "stream",
     "text": [
      "Epoch 117/1000\n",
      "10/10 - 29s - loss: 1.0841e-05 - mean_squared_error: 2.5912e-10 - keras_psnr: 26.2175 - keras_ssim: 0.4894 - val_loss: 1.2317e-05 - val_mean_squared_error: 3.5828e-10 - val_keras_psnr: 26.0265 - val_keras_ssim: 0.4738\n"
     ]
    },
    {
     "data": {
      "application/vnd.jupyter.widget-view+json": {
       "model_id": "",
       "version_major": 2,
       "version_minor": 0
      },
      "text/plain": [
       "HBox(children=(IntProgress(value=0, description='Epoch 117', max=10, style=ProgressStyle(description_width='in…"
      ]
     },
     "metadata": {},
     "output_type": "display_data"
    },
    {
     "name": "stdout",
     "output_type": "stream",
     "text": [
      "Epoch 118/1000\n",
      "10/10 - 28s - loss: 1.7501e-05 - mean_squared_error: 8.4133e-10 - keras_psnr: 26.3372 - keras_ssim: 0.5454 - val_loss: 1.2313e-05 - val_mean_squared_error: 3.5837e-10 - val_keras_psnr: 26.0284 - val_keras_ssim: 0.4738\n"
     ]
    },
    {
     "data": {
      "application/vnd.jupyter.widget-view+json": {
       "model_id": "",
       "version_major": 2,
       "version_minor": 0
      },
      "text/plain": [
       "HBox(children=(IntProgress(value=0, description='Epoch 118', max=10, style=ProgressStyle(description_width='in…"
      ]
     },
     "metadata": {},
     "output_type": "display_data"
    },
    {
     "name": "stdout",
     "output_type": "stream",
     "text": [
      "Epoch 119/1000\n",
      "10/10 - 28s - loss: 1.3563e-05 - mean_squared_error: 5.4943e-10 - keras_psnr: 23.9789 - keras_ssim: 0.4190 - val_loss: 1.2311e-05 - val_mean_squared_error: 3.5793e-10 - val_keras_psnr: 26.0280 - val_keras_ssim: 0.4738\n"
     ]
    },
    {
     "data": {
      "application/vnd.jupyter.widget-view+json": {
       "model_id": "",
       "version_major": 2,
       "version_minor": 0
      },
      "text/plain": [
       "HBox(children=(IntProgress(value=0, description='Epoch 119', max=10, style=ProgressStyle(description_width='in…"
      ]
     },
     "metadata": {},
     "output_type": "display_data"
    },
    {
     "name": "stdout",
     "output_type": "stream",
     "text": [
      "Epoch 120/1000\n",
      "10/10 - 28s - loss: 1.8161e-05 - mean_squared_error: 7.7217e-10 - keras_psnr: 24.1116 - keras_ssim: 0.5107 - val_loss: 1.2277e-05 - val_mean_squared_error: 3.5526e-10 - val_keras_psnr: 26.0412 - val_keras_ssim: 0.4741\n"
     ]
    },
    {
     "data": {
      "application/vnd.jupyter.widget-view+json": {
       "model_id": "",
       "version_major": 2,
       "version_minor": 0
      },
      "text/plain": [
       "HBox(children=(IntProgress(value=0, description='Epoch 120', max=10, style=ProgressStyle(description_width='in…"
      ]
     },
     "metadata": {},
     "output_type": "display_data"
    },
    {
     "name": "stdout",
     "output_type": "stream",
     "text": [
      "Epoch 121/1000\n",
      "10/10 - 29s - loss: 1.5829e-05 - mean_squared_error: 5.9117e-10 - keras_psnr: 24.9392 - keras_ssim: 0.4827 - val_loss: 1.2290e-05 - val_mean_squared_error: 3.5624e-10 - val_keras_psnr: 26.0423 - val_keras_ssim: 0.4740\n"
     ]
    },
    {
     "data": {
      "application/vnd.jupyter.widget-view+json": {
       "model_id": "",
       "version_major": 2,
       "version_minor": 0
      },
      "text/plain": [
       "HBox(children=(IntProgress(value=0, description='Epoch 121', max=10, style=ProgressStyle(description_width='in…"
      ]
     },
     "metadata": {},
     "output_type": "display_data"
    },
    {
     "name": "stdout",
     "output_type": "stream",
     "text": [
      "Epoch 122/1000\n",
      "10/10 - 28s - loss: 1.1256e-05 - mean_squared_error: 2.5936e-10 - keras_psnr: 24.8683 - keras_ssim: 0.4066 - val_loss: 1.2272e-05 - val_mean_squared_error: 3.5515e-10 - val_keras_psnr: 26.0583 - val_keras_ssim: 0.4743\n"
     ]
    },
    {
     "data": {
      "application/vnd.jupyter.widget-view+json": {
       "model_id": "",
       "version_major": 2,
       "version_minor": 0
      },
      "text/plain": [
       "HBox(children=(IntProgress(value=0, description='Epoch 122', max=10, style=ProgressStyle(description_width='in…"
      ]
     },
     "metadata": {},
     "output_type": "display_data"
    },
    {
     "name": "stdout",
     "output_type": "stream",
     "text": [
      "Epoch 123/1000\n",
      "10/10 - 28s - loss: 1.5656e-05 - mean_squared_error: 5.8929e-10 - keras_psnr: 24.3684 - keras_ssim: 0.4565 - val_loss: 1.2258e-05 - val_mean_squared_error: 3.5449e-10 - val_keras_psnr: 26.0650 - val_keras_ssim: 0.4745\n"
     ]
    },
    {
     "data": {
      "application/vnd.jupyter.widget-view+json": {
       "model_id": "",
       "version_major": 2,
       "version_minor": 0
      },
      "text/plain": [
       "HBox(children=(IntProgress(value=0, description='Epoch 123', max=10, style=ProgressStyle(description_width='in…"
      ]
     },
     "metadata": {},
     "output_type": "display_data"
    },
    {
     "name": "stdout",
     "output_type": "stream",
     "text": [
      "Epoch 124/1000\n",
      "10/10 - 28s - loss: 1.2931e-05 - mean_squared_error: 6.3534e-10 - keras_psnr: 25.0436 - keras_ssim: 0.4983 - val_loss: 1.2257e-05 - val_mean_squared_error: 3.5424e-10 - val_keras_psnr: 26.0572 - val_keras_ssim: 0.4743\n"
     ]
    },
    {
     "data": {
      "application/vnd.jupyter.widget-view+json": {
       "model_id": "",
       "version_major": 2,
       "version_minor": 0
      },
      "text/plain": [
       "HBox(children=(IntProgress(value=0, description='Epoch 124', max=10, style=ProgressStyle(description_width='in…"
      ]
     },
     "metadata": {},
     "output_type": "display_data"
    },
    {
     "name": "stdout",
     "output_type": "stream",
     "text": [
      "Epoch 125/1000\n",
      "10/10 - 29s - loss: 1.0341e-05 - mean_squared_error: 1.9949e-10 - keras_psnr: 25.2653 - keras_ssim: 0.4434 - val_loss: 1.2250e-05 - val_mean_squared_error: 3.5396e-10 - val_keras_psnr: 26.0617 - val_keras_ssim: 0.4744\n"
     ]
    },
    {
     "data": {
      "application/vnd.jupyter.widget-view+json": {
       "model_id": "",
       "version_major": 2,
       "version_minor": 0
      },
      "text/plain": [
       "HBox(children=(IntProgress(value=0, description='Epoch 125', max=10, style=ProgressStyle(description_width='in…"
      ]
     },
     "metadata": {},
     "output_type": "display_data"
    },
    {
     "name": "stdout",
     "output_type": "stream",
     "text": [
      "Epoch 126/1000\n",
      "10/10 - 29s - loss: 1.3664e-05 - mean_squared_error: 4.4426e-10 - keras_psnr: 23.9802 - keras_ssim: 0.4482 - val_loss: 1.2234e-05 - val_mean_squared_error: 3.5247e-10 - val_keras_psnr: 26.0699 - val_keras_ssim: 0.4747\n"
     ]
    },
    {
     "data": {
      "application/vnd.jupyter.widget-view+json": {
       "model_id": "",
       "version_major": 2,
       "version_minor": 0
      },
      "text/plain": [
       "HBox(children=(IntProgress(value=0, description='Epoch 126', max=10, style=ProgressStyle(description_width='in…"
      ]
     },
     "metadata": {},
     "output_type": "display_data"
    },
    {
     "name": "stdout",
     "output_type": "stream",
     "text": [
      "Epoch 127/1000\n",
      "10/10 - 29s - loss: 1.6208e-05 - mean_squared_error: 1.1511e-09 - keras_psnr: 25.5759 - keras_ssim: 0.4807 - val_loss: 1.2229e-05 - val_mean_squared_error: 3.5218e-10 - val_keras_psnr: 26.0849 - val_keras_ssim: 0.4748\n"
     ]
    },
    {
     "data": {
      "application/vnd.jupyter.widget-view+json": {
       "model_id": "",
       "version_major": 2,
       "version_minor": 0
      },
      "text/plain": [
       "HBox(children=(IntProgress(value=0, description='Epoch 127', max=10, style=ProgressStyle(description_width='in…"
      ]
     },
     "metadata": {},
     "output_type": "display_data"
    },
    {
     "name": "stdout",
     "output_type": "stream",
     "text": [
      "Epoch 128/1000\n",
      "10/10 - 29s - loss: 1.3383e-05 - mean_squared_error: 4.0247e-10 - keras_psnr: 25.4197 - keras_ssim: 0.4832 - val_loss: 1.2222e-05 - val_mean_squared_error: 3.5189e-10 - val_keras_psnr: 26.0844 - val_keras_ssim: 0.4748\n"
     ]
    },
    {
     "data": {
      "application/vnd.jupyter.widget-view+json": {
       "model_id": "",
       "version_major": 2,
       "version_minor": 0
      },
      "text/plain": [
       "HBox(children=(IntProgress(value=0, description='Epoch 128', max=10, style=ProgressStyle(description_width='in…"
      ]
     },
     "metadata": {},
     "output_type": "display_data"
    },
    {
     "name": "stdout",
     "output_type": "stream",
     "text": [
      "Epoch 129/1000\n",
      "10/10 - 29s - loss: 1.2672e-05 - mean_squared_error: 2.7023e-10 - keras_psnr: 24.0014 - keras_ssim: 0.3611 - val_loss: 1.2218e-05 - val_mean_squared_error: 3.5200e-10 - val_keras_psnr: 26.0702 - val_keras_ssim: 0.4746\n"
     ]
    },
    {
     "data": {
      "application/vnd.jupyter.widget-view+json": {
       "model_id": "",
       "version_major": 2,
       "version_minor": 0
      },
      "text/plain": [
       "HBox(children=(IntProgress(value=0, description='Epoch 129', max=10, style=ProgressStyle(description_width='in…"
      ]
     },
     "metadata": {},
     "output_type": "display_data"
    },
    {
     "name": "stdout",
     "output_type": "stream",
     "text": [
      "Epoch 130/1000\n",
      "10/10 - 29s - loss: 1.5663e-05 - mean_squared_error: 6.4324e-10 - keras_psnr: 24.3032 - keras_ssim: 0.4625 - val_loss: 1.2205e-05 - val_mean_squared_error: 3.5125e-10 - val_keras_psnr: 26.0790 - val_keras_ssim: 0.4748\n"
     ]
    },
    {
     "data": {
      "application/vnd.jupyter.widget-view+json": {
       "model_id": "",
       "version_major": 2,
       "version_minor": 0
      },
      "text/plain": [
       "HBox(children=(IntProgress(value=0, description='Epoch 130', max=10, style=ProgressStyle(description_width='in…"
      ]
     },
     "metadata": {},
     "output_type": "display_data"
    },
    {
     "name": "stdout",
     "output_type": "stream",
     "text": [
      "Epoch 131/1000\n",
      "10/10 - 29s - loss: 1.5818e-05 - mean_squared_error: 5.1073e-10 - keras_psnr: 25.0754 - keras_ssim: 0.4537 - val_loss: 1.2181e-05 - val_mean_squared_error: 3.4936e-10 - val_keras_psnr: 26.1030 - val_keras_ssim: 0.4752\n"
     ]
    },
    {
     "data": {
      "application/vnd.jupyter.widget-view+json": {
       "model_id": "",
       "version_major": 2,
       "version_minor": 0
      },
      "text/plain": [
       "HBox(children=(IntProgress(value=0, description='Epoch 131', max=10, style=ProgressStyle(description_width='in…"
      ]
     },
     "metadata": {},
     "output_type": "display_data"
    },
    {
     "name": "stdout",
     "output_type": "stream",
     "text": [
      "Epoch 132/1000\n",
      "10/10 - 29s - loss: 1.4209e-05 - mean_squared_error: 6.6460e-10 - keras_psnr: 23.1168 - keras_ssim: 0.4224 - val_loss: 1.2184e-05 - val_mean_squared_error: 3.4972e-10 - val_keras_psnr: 26.1095 - val_keras_ssim: 0.4753\n"
     ]
    },
    {
     "data": {
      "application/vnd.jupyter.widget-view+json": {
       "model_id": "",
       "version_major": 2,
       "version_minor": 0
      },
      "text/plain": [
       "HBox(children=(IntProgress(value=0, description='Epoch 132', max=10, style=ProgressStyle(description_width='in…"
      ]
     },
     "metadata": {},
     "output_type": "display_data"
    },
    {
     "name": "stdout",
     "output_type": "stream",
     "text": [
      "Epoch 133/1000\n",
      "10/10 - 30s - loss: 1.2518e-05 - mean_squared_error: 3.4843e-10 - keras_psnr: 24.3129 - keras_ssim: 0.4135 - val_loss: 1.2175e-05 - val_mean_squared_error: 3.4933e-10 - val_keras_psnr: 26.1177 - val_keras_ssim: 0.4755\n"
     ]
    },
    {
     "data": {
      "application/vnd.jupyter.widget-view+json": {
       "model_id": "",
       "version_major": 2,
       "version_minor": 0
      },
      "text/plain": [
       "HBox(children=(IntProgress(value=0, description='Epoch 133', max=10, style=ProgressStyle(description_width='in…"
      ]
     },
     "metadata": {},
     "output_type": "display_data"
    },
    {
     "name": "stdout",
     "output_type": "stream",
     "text": [
      "Epoch 134/1000\n",
      "10/10 - 29s - loss: 1.3009e-05 - mean_squared_error: 2.6640e-10 - keras_psnr: 25.5827 - keras_ssim: 0.4348 - val_loss: 1.2158e-05 - val_mean_squared_error: 3.4783e-10 - val_keras_psnr: 26.1222 - val_keras_ssim: 0.4757\n"
     ]
    },
    {
     "data": {
      "application/vnd.jupyter.widget-view+json": {
       "model_id": "",
       "version_major": 2,
       "version_minor": 0
      },
      "text/plain": [
       "HBox(children=(IntProgress(value=0, description='Epoch 134', max=10, style=ProgressStyle(description_width='in…"
      ]
     },
     "metadata": {},
     "output_type": "display_data"
    },
    {
     "name": "stdout",
     "output_type": "stream",
     "text": [
      "Epoch 135/1000\n",
      "10/10 - 30s - loss: 1.4499e-05 - mean_squared_error: 4.0878e-10 - keras_psnr: 27.4096 - keras_ssim: 0.5787 - val_loss: 1.2179e-05 - val_mean_squared_error: 3.4994e-10 - val_keras_psnr: 26.0979 - val_keras_ssim: 0.4753\n"
     ]
    },
    {
     "data": {
      "application/vnd.jupyter.widget-view+json": {
       "model_id": "",
       "version_major": 2,
       "version_minor": 0
      },
      "text/plain": [
       "HBox(children=(IntProgress(value=0, description='Epoch 135', max=10, style=ProgressStyle(description_width='in…"
      ]
     },
     "metadata": {},
     "output_type": "display_data"
    },
    {
     "name": "stdout",
     "output_type": "stream",
     "text": [
      "Epoch 136/1000\n",
      "10/10 - 30s - loss: 1.8790e-05 - mean_squared_error: 9.4580e-10 - keras_psnr: 24.6915 - keras_ssim: 0.4781 - val_loss: 1.2158e-05 - val_mean_squared_error: 3.4795e-10 - val_keras_psnr: 26.1125 - val_keras_ssim: 0.4754\n"
     ]
    },
    {
     "data": {
      "application/vnd.jupyter.widget-view+json": {
       "model_id": "",
       "version_major": 2,
       "version_minor": 0
      },
      "text/plain": [
       "HBox(children=(IntProgress(value=0, description='Epoch 136', max=10, style=ProgressStyle(description_width='in…"
      ]
     },
     "metadata": {},
     "output_type": "display_data"
    },
    {
     "name": "stdout",
     "output_type": "stream",
     "text": [
      "Epoch 137/1000\n",
      "10/10 - 29s - loss: 2.1383e-05 - mean_squared_error: 1.6421e-09 - keras_psnr: 23.7025 - keras_ssim: 0.5155 - val_loss: 1.2146e-05 - val_mean_squared_error: 3.4773e-10 - val_keras_psnr: 26.1163 - val_keras_ssim: 0.4757\n"
     ]
    },
    {
     "data": {
      "application/vnd.jupyter.widget-view+json": {
       "model_id": "",
       "version_major": 2,
       "version_minor": 0
      },
      "text/plain": [
       "HBox(children=(IntProgress(value=0, description='Epoch 137', max=10, style=ProgressStyle(description_width='in…"
      ]
     },
     "metadata": {},
     "output_type": "display_data"
    },
    {
     "name": "stdout",
     "output_type": "stream",
     "text": [
      "Epoch 138/1000\n",
      "10/10 - 30s - loss: 3.1091e-05 - mean_squared_error: 5.1193e-09 - keras_psnr: 24.6424 - keras_ssim: 0.5072 - val_loss: 1.2136e-05 - val_mean_squared_error: 3.4690e-10 - val_keras_psnr: 26.1169 - val_keras_ssim: 0.4756\n"
     ]
    },
    {
     "data": {
      "application/vnd.jupyter.widget-view+json": {
       "model_id": "",
       "version_major": 2,
       "version_minor": 0
      },
      "text/plain": [
       "HBox(children=(IntProgress(value=0, description='Epoch 138', max=10, style=ProgressStyle(description_width='in…"
      ]
     },
     "metadata": {},
     "output_type": "display_data"
    },
    {
     "name": "stdout",
     "output_type": "stream",
     "text": [
      "Epoch 139/1000\n",
      "10/10 - 29s - loss: 1.4754e-05 - mean_squared_error: 2.9096e-10 - keras_psnr: 24.4745 - keras_ssim: 0.3726 - val_loss: 1.2107e-05 - val_mean_squared_error: 3.4473e-10 - val_keras_psnr: 26.1474 - val_keras_ssim: 0.4763\n"
     ]
    },
    {
     "data": {
      "application/vnd.jupyter.widget-view+json": {
       "model_id": "",
       "version_major": 2,
       "version_minor": 0
      },
      "text/plain": [
       "HBox(children=(IntProgress(value=0, description='Epoch 139', max=10, style=ProgressStyle(description_width='in…"
      ]
     },
     "metadata": {},
     "output_type": "display_data"
    },
    {
     "name": "stdout",
     "output_type": "stream",
     "text": [
      "Epoch 140/1000\n",
      "10/10 - 29s - loss: 1.5484e-05 - mean_squared_error: 6.2658e-10 - keras_psnr: 24.3948 - keras_ssim: 0.5052 - val_loss: 1.2094e-05 - val_mean_squared_error: 3.4370e-10 - val_keras_psnr: 26.1630 - val_keras_ssim: 0.4766\n"
     ]
    },
    {
     "data": {
      "application/vnd.jupyter.widget-view+json": {
       "model_id": "",
       "version_major": 2,
       "version_minor": 0
      },
      "text/plain": [
       "HBox(children=(IntProgress(value=0, description='Epoch 140', max=10, style=ProgressStyle(description_width='in…"
      ]
     },
     "metadata": {},
     "output_type": "display_data"
    },
    {
     "name": "stdout",
     "output_type": "stream",
     "text": [
      "Epoch 141/1000\n",
      "10/10 - 29s - loss: 1.6164e-05 - mean_squared_error: 1.0653e-09 - keras_psnr: 25.2152 - keras_ssim: 0.5080 - val_loss: 1.2077e-05 - val_mean_squared_error: 3.4162e-10 - val_keras_psnr: 26.1709 - val_keras_ssim: 0.4767\n"
     ]
    },
    {
     "data": {
      "application/vnd.jupyter.widget-view+json": {
       "model_id": "",
       "version_major": 2,
       "version_minor": 0
      },
      "text/plain": [
       "HBox(children=(IntProgress(value=0, description='Epoch 141', max=10, style=ProgressStyle(description_width='in…"
      ]
     },
     "metadata": {},
     "output_type": "display_data"
    },
    {
     "name": "stdout",
     "output_type": "stream",
     "text": [
      "Epoch 142/1000\n",
      "10/10 - 29s - loss: 1.4808e-05 - mean_squared_error: 7.0765e-10 - keras_psnr: 25.4295 - keras_ssim: 0.5230 - val_loss: 1.2071e-05 - val_mean_squared_error: 3.4194e-10 - val_keras_psnr: 26.1649 - val_keras_ssim: 0.4768\n"
     ]
    },
    {
     "data": {
      "application/vnd.jupyter.widget-view+json": {
       "model_id": "",
       "version_major": 2,
       "version_minor": 0
      },
      "text/plain": [
       "HBox(children=(IntProgress(value=0, description='Epoch 142', max=10, style=ProgressStyle(description_width='in…"
      ]
     },
     "metadata": {},
     "output_type": "display_data"
    },
    {
     "name": "stdout",
     "output_type": "stream",
     "text": [
      "Epoch 143/1000\n",
      "10/10 - 29s - loss: 1.1493e-05 - mean_squared_error: 3.4659e-10 - keras_psnr: 26.2148 - keras_ssim: 0.5167 - val_loss: 1.2071e-05 - val_mean_squared_error: 3.4180e-10 - val_keras_psnr: 26.1527 - val_keras_ssim: 0.4764\n"
     ]
    },
    {
     "data": {
      "application/vnd.jupyter.widget-view+json": {
       "model_id": "",
       "version_major": 2,
       "version_minor": 0
      },
      "text/plain": [
       "HBox(children=(IntProgress(value=0, description='Epoch 143', max=10, style=ProgressStyle(description_width='in…"
      ]
     },
     "metadata": {},
     "output_type": "display_data"
    },
    {
     "name": "stdout",
     "output_type": "stream",
     "text": [
      "Epoch 144/1000\n",
      "10/10 - 29s - loss: 1.3139e-05 - mean_squared_error: 3.5630e-10 - keras_psnr: 26.3250 - keras_ssim: 0.5287 - val_loss: 1.2057e-05 - val_mean_squared_error: 3.4121e-10 - val_keras_psnr: 26.1713 - val_keras_ssim: 0.4768\n"
     ]
    },
    {
     "data": {
      "application/vnd.jupyter.widget-view+json": {
       "model_id": "",
       "version_major": 2,
       "version_minor": 0
      },
      "text/plain": [
       "HBox(children=(IntProgress(value=0, description='Epoch 144', max=10, style=ProgressStyle(description_width='in…"
      ]
     },
     "metadata": {},
     "output_type": "display_data"
    },
    {
     "name": "stdout",
     "output_type": "stream",
     "text": [
      "Epoch 145/1000\n",
      "10/10 - 28s - loss: 1.3051e-05 - mean_squared_error: 4.0450e-10 - keras_psnr: 25.2635 - keras_ssim: 0.5115 - val_loss: 1.2043e-05 - val_mean_squared_error: 3.4011e-10 - val_keras_psnr: 26.1896 - val_keras_ssim: 0.4770\n"
     ]
    },
    {
     "data": {
      "application/vnd.jupyter.widget-view+json": {
       "model_id": "",
       "version_major": 2,
       "version_minor": 0
      },
      "text/plain": [
       "HBox(children=(IntProgress(value=0, description='Epoch 145', max=10, style=ProgressStyle(description_width='in…"
      ]
     },
     "metadata": {},
     "output_type": "display_data"
    },
    {
     "name": "stdout",
     "output_type": "stream",
     "text": [
      "Epoch 146/1000\n",
      "10/10 - 28s - loss: 1.1471e-05 - mean_squared_error: 2.5482e-10 - keras_psnr: 26.0666 - keras_ssim: 0.5093 - val_loss: 1.2025e-05 - val_mean_squared_error: 3.3897e-10 - val_keras_psnr: 26.2095 - val_keras_ssim: 0.4773\n"
     ]
    },
    {
     "data": {
      "application/vnd.jupyter.widget-view+json": {
       "model_id": "",
       "version_major": 2,
       "version_minor": 0
      },
      "text/plain": [
       "HBox(children=(IntProgress(value=0, description='Epoch 146', max=10, style=ProgressStyle(description_width='in…"
      ]
     },
     "metadata": {},
     "output_type": "display_data"
    },
    {
     "name": "stdout",
     "output_type": "stream",
     "text": [
      "Epoch 147/1000\n",
      "10/10 - 28s - loss: 9.7618e-06 - mean_squared_error: 2.6274e-10 - keras_psnr: 24.9637 - keras_ssim: 0.4665 - val_loss: 1.2022e-05 - val_mean_squared_error: 3.3954e-10 - val_keras_psnr: 26.2157 - val_keras_ssim: 0.4775\n"
     ]
    },
    {
     "data": {
      "application/vnd.jupyter.widget-view+json": {
       "model_id": "",
       "version_major": 2,
       "version_minor": 0
      },
      "text/plain": [
       "HBox(children=(IntProgress(value=0, description='Epoch 147', max=10, style=ProgressStyle(description_width='in…"
      ]
     },
     "metadata": {},
     "output_type": "display_data"
    },
    {
     "name": "stdout",
     "output_type": "stream",
     "text": [
      "Epoch 148/1000\n",
      "10/10 - 28s - loss: 1.5135e-05 - mean_squared_error: 3.9030e-10 - keras_psnr: 26.0630 - keras_ssim: 0.4871 - val_loss: 1.2032e-05 - val_mean_squared_error: 3.4021e-10 - val_keras_psnr: 26.2191 - val_keras_ssim: 0.4775\n"
     ]
    },
    {
     "data": {
      "application/vnd.jupyter.widget-view+json": {
       "model_id": "",
       "version_major": 2,
       "version_minor": 0
      },
      "text/plain": [
       "HBox(children=(IntProgress(value=0, description='Epoch 148', max=10, style=ProgressStyle(description_width='in…"
      ]
     },
     "metadata": {},
     "output_type": "display_data"
    },
    {
     "name": "stdout",
     "output_type": "stream",
     "text": [
      "Epoch 149/1000\n",
      "10/10 - 28s - loss: 1.2402e-05 - mean_squared_error: 5.5514e-10 - keras_psnr: 23.9412 - keras_ssim: 0.4441 - val_loss: 1.2031e-05 - val_mean_squared_error: 3.4027e-10 - val_keras_psnr: 26.2306 - val_keras_ssim: 0.4777\n"
     ]
    },
    {
     "data": {
      "application/vnd.jupyter.widget-view+json": {
       "model_id": "",
       "version_major": 2,
       "version_minor": 0
      },
      "text/plain": [
       "HBox(children=(IntProgress(value=0, description='Epoch 149', max=10, style=ProgressStyle(description_width='in…"
      ]
     },
     "metadata": {},
     "output_type": "display_data"
    },
    {
     "name": "stdout",
     "output_type": "stream",
     "text": [
      "Epoch 150/1000\n",
      "10/10 - 29s - loss: 1.4116e-05 - mean_squared_error: 5.7984e-10 - keras_psnr: 25.6464 - keras_ssim: 0.4957 - val_loss: 1.2010e-05 - val_mean_squared_error: 3.3924e-10 - val_keras_psnr: 26.2316 - val_keras_ssim: 0.4779\n"
     ]
    },
    {
     "data": {
      "application/vnd.jupyter.widget-view+json": {
       "model_id": "",
       "version_major": 2,
       "version_minor": 0
      },
      "text/plain": [
       "HBox(children=(IntProgress(value=0, description='Epoch 150', max=10, style=ProgressStyle(description_width='in…"
      ]
     },
     "metadata": {},
     "output_type": "display_data"
    },
    {
     "name": "stdout",
     "output_type": "stream",
     "text": [
      "Epoch 151/1000\n",
      "10/10 - 29s - loss: 1.3704e-05 - mean_squared_error: 5.1205e-10 - keras_psnr: 25.5278 - keras_ssim: 0.4751 - val_loss: 1.2002e-05 - val_mean_squared_error: 3.3853e-10 - val_keras_psnr: 26.2145 - val_keras_ssim: 0.4776\n"
     ]
    },
    {
     "data": {
      "application/vnd.jupyter.widget-view+json": {
       "model_id": "",
       "version_major": 2,
       "version_minor": 0
      },
      "text/plain": [
       "HBox(children=(IntProgress(value=0, description='Epoch 151', max=10, style=ProgressStyle(description_width='in…"
      ]
     },
     "metadata": {},
     "output_type": "display_data"
    },
    {
     "name": "stdout",
     "output_type": "stream",
     "text": [
      "Epoch 152/1000\n",
      "10/10 - 29s - loss: 1.4049e-05 - mean_squared_error: 5.4665e-10 - keras_psnr: 25.8470 - keras_ssim: 0.5355 - val_loss: 1.1979e-05 - val_mean_squared_error: 3.3597e-10 - val_keras_psnr: 26.2144 - val_keras_ssim: 0.4779\n"
     ]
    },
    {
     "data": {
      "application/vnd.jupyter.widget-view+json": {
       "model_id": "",
       "version_major": 2,
       "version_minor": 0
      },
      "text/plain": [
       "HBox(children=(IntProgress(value=0, description='Epoch 152', max=10, style=ProgressStyle(description_width='in…"
      ]
     },
     "metadata": {},
     "output_type": "display_data"
    },
    {
     "name": "stdout",
     "output_type": "stream",
     "text": [
      "Epoch 153/1000\n",
      "10/10 - 30s - loss: 1.5585e-05 - mean_squared_error: 5.8171e-10 - keras_psnr: 26.6070 - keras_ssim: 0.5905 - val_loss: 1.1965e-05 - val_mean_squared_error: 3.3474e-10 - val_keras_psnr: 26.2333 - val_keras_ssim: 0.4781\n"
     ]
    },
    {
     "data": {
      "application/vnd.jupyter.widget-view+json": {
       "model_id": "",
       "version_major": 2,
       "version_minor": 0
      },
      "text/plain": [
       "HBox(children=(IntProgress(value=0, description='Epoch 153', max=10, style=ProgressStyle(description_width='in…"
      ]
     },
     "metadata": {},
     "output_type": "display_data"
    },
    {
     "name": "stdout",
     "output_type": "stream",
     "text": [
      "Epoch 154/1000\n",
      "10/10 - 28s - loss: 1.3017e-05 - mean_squared_error: 4.2537e-10 - keras_psnr: 24.4501 - keras_ssim: 0.4327 - val_loss: 1.1956e-05 - val_mean_squared_error: 3.3444e-10 - val_keras_psnr: 26.2471 - val_keras_ssim: 0.4784\n"
     ]
    },
    {
     "data": {
      "application/vnd.jupyter.widget-view+json": {
       "model_id": "",
       "version_major": 2,
       "version_minor": 0
      },
      "text/plain": [
       "HBox(children=(IntProgress(value=0, description='Epoch 154', max=10, style=ProgressStyle(description_width='in…"
      ]
     },
     "metadata": {},
     "output_type": "display_data"
    },
    {
     "name": "stdout",
     "output_type": "stream",
     "text": [
      "Epoch 155/1000\n",
      "10/10 - 29s - loss: 1.4650e-05 - mean_squared_error: 4.3285e-10 - keras_psnr: 24.7941 - keras_ssim: 0.4786 - val_loss: 1.1959e-05 - val_mean_squared_error: 3.3534e-10 - val_keras_psnr: 26.2577 - val_keras_ssim: 0.4785\n"
     ]
    },
    {
     "data": {
      "application/vnd.jupyter.widget-view+json": {
       "model_id": "",
       "version_major": 2,
       "version_minor": 0
      },
      "text/plain": [
       "HBox(children=(IntProgress(value=0, description='Epoch 155', max=10, style=ProgressStyle(description_width='in…"
      ]
     },
     "metadata": {},
     "output_type": "display_data"
    },
    {
     "name": "stdout",
     "output_type": "stream",
     "text": [
      "Epoch 156/1000\n",
      "10/10 - 29s - loss: 1.7944e-05 - mean_squared_error: 1.1241e-09 - keras_psnr: 25.3363 - keras_ssim: 0.5144 - val_loss: 1.1952e-05 - val_mean_squared_error: 3.3478e-10 - val_keras_psnr: 26.2564 - val_keras_ssim: 0.4784\n"
     ]
    },
    {
     "data": {
      "application/vnd.jupyter.widget-view+json": {
       "model_id": "",
       "version_major": 2,
       "version_minor": 0
      },
      "text/plain": [
       "HBox(children=(IntProgress(value=0, description='Epoch 156', max=10, style=ProgressStyle(description_width='in…"
      ]
     },
     "metadata": {},
     "output_type": "display_data"
    },
    {
     "name": "stdout",
     "output_type": "stream",
     "text": [
      "Epoch 157/1000\n",
      "10/10 - 29s - loss: 1.2719e-05 - mean_squared_error: 4.6413e-10 - keras_psnr: 25.5061 - keras_ssim: 0.5302 - val_loss: 1.1929e-05 - val_mean_squared_error: 3.3279e-10 - val_keras_psnr: 26.2700 - val_keras_ssim: 0.4788\n"
     ]
    },
    {
     "data": {
      "application/vnd.jupyter.widget-view+json": {
       "model_id": "",
       "version_major": 2,
       "version_minor": 0
      },
      "text/plain": [
       "HBox(children=(IntProgress(value=0, description='Epoch 157', max=10, style=ProgressStyle(description_width='in…"
      ]
     },
     "metadata": {},
     "output_type": "display_data"
    },
    {
     "name": "stdout",
     "output_type": "stream",
     "text": [
      "Epoch 158/1000\n",
      "10/10 - 30s - loss: 1.2888e-05 - mean_squared_error: 2.9771e-10 - keras_psnr: 24.0922 - keras_ssim: 0.3804 - val_loss: 1.1934e-05 - val_mean_squared_error: 3.3328e-10 - val_keras_psnr: 26.2732 - val_keras_ssim: 0.4788\n"
     ]
    },
    {
     "data": {
      "application/vnd.jupyter.widget-view+json": {
       "model_id": "",
       "version_major": 2,
       "version_minor": 0
      },
      "text/plain": [
       "HBox(children=(IntProgress(value=0, description='Epoch 158', max=10, style=ProgressStyle(description_width='in…"
      ]
     },
     "metadata": {},
     "output_type": "display_data"
    },
    {
     "name": "stdout",
     "output_type": "stream",
     "text": [
      "Epoch 159/1000\n",
      "10/10 - 28s - loss: 2.0407e-05 - mean_squared_error: 1.1048e-09 - keras_psnr: 23.1175 - keras_ssim: 0.4600 - val_loss: 1.1916e-05 - val_mean_squared_error: 3.3274e-10 - val_keras_psnr: 26.2777 - val_keras_ssim: 0.4789\n"
     ]
    },
    {
     "data": {
      "application/vnd.jupyter.widget-view+json": {
       "model_id": "",
       "version_major": 2,
       "version_minor": 0
      },
      "text/plain": [
       "HBox(children=(IntProgress(value=0, description='Epoch 159', max=10, style=ProgressStyle(description_width='in…"
      ]
     },
     "metadata": {},
     "output_type": "display_data"
    },
    {
     "name": "stdout",
     "output_type": "stream",
     "text": [
      "Epoch 160/1000\n",
      "10/10 - 29s - loss: 1.2875e-05 - mean_squared_error: 5.2405e-10 - keras_psnr: 25.7702 - keras_ssim: 0.4743 - val_loss: 1.1909e-05 - val_mean_squared_error: 3.3236e-10 - val_keras_psnr: 26.2801 - val_keras_ssim: 0.4791\n"
     ]
    },
    {
     "data": {
      "application/vnd.jupyter.widget-view+json": {
       "model_id": "",
       "version_major": 2,
       "version_minor": 0
      },
      "text/plain": [
       "HBox(children=(IntProgress(value=0, description='Epoch 160', max=10, style=ProgressStyle(description_width='in…"
      ]
     },
     "metadata": {},
     "output_type": "display_data"
    },
    {
     "name": "stdout",
     "output_type": "stream",
     "text": [
      "Epoch 161/1000\n",
      "10/10 - 29s - loss: 1.3713e-05 - mean_squared_error: 2.8496e-10 - keras_psnr: 26.4200 - keras_ssim: 0.4968 - val_loss: 1.1916e-05 - val_mean_squared_error: 3.3277e-10 - val_keras_psnr: 26.2756 - val_keras_ssim: 0.4789\n"
     ]
    },
    {
     "data": {
      "application/vnd.jupyter.widget-view+json": {
       "model_id": "",
       "version_major": 2,
       "version_minor": 0
      },
      "text/plain": [
       "HBox(children=(IntProgress(value=0, description='Epoch 161', max=10, style=ProgressStyle(description_width='in…"
      ]
     },
     "metadata": {},
     "output_type": "display_data"
    },
    {
     "name": "stdout",
     "output_type": "stream",
     "text": [
      "Epoch 162/1000\n",
      "10/10 - 29s - loss: 1.0898e-05 - mean_squared_error: 3.0749e-10 - keras_psnr: 26.5309 - keras_ssim: 0.5043 - val_loss: 1.1903e-05 - val_mean_squared_error: 3.3182e-10 - val_keras_psnr: 26.2786 - val_keras_ssim: 0.4791\n"
     ]
    },
    {
     "data": {
      "application/vnd.jupyter.widget-view+json": {
       "model_id": "",
       "version_major": 2,
       "version_minor": 0
      },
      "text/plain": [
       "HBox(children=(IntProgress(value=0, description='Epoch 162', max=10, style=ProgressStyle(description_width='in…"
      ]
     },
     "metadata": {},
     "output_type": "display_data"
    },
    {
     "name": "stdout",
     "output_type": "stream",
     "text": [
      "Epoch 163/1000\n",
      "10/10 - 29s - loss: 1.1936e-05 - mean_squared_error: 3.8981e-10 - keras_psnr: 25.5848 - keras_ssim: 0.4765 - val_loss: 1.1884e-05 - val_mean_squared_error: 3.3051e-10 - val_keras_psnr: 26.3041 - val_keras_ssim: 0.4796\n"
     ]
    },
    {
     "data": {
      "application/vnd.jupyter.widget-view+json": {
       "model_id": "",
       "version_major": 2,
       "version_minor": 0
      },
      "text/plain": [
       "HBox(children=(IntProgress(value=0, description='Epoch 163', max=10, style=ProgressStyle(description_width='in…"
      ]
     },
     "metadata": {},
     "output_type": "display_data"
    },
    {
     "name": "stdout",
     "output_type": "stream",
     "text": [
      "Epoch 164/1000\n",
      "10/10 - 30s - loss: 1.1331e-05 - mean_squared_error: 2.3871e-10 - keras_psnr: 24.8729 - keras_ssim: 0.4327 - val_loss: 1.1885e-05 - val_mean_squared_error: 3.3074e-10 - val_keras_psnr: 26.3117 - val_keras_ssim: 0.4797\n"
     ]
    },
    {
     "data": {
      "application/vnd.jupyter.widget-view+json": {
       "model_id": "",
       "version_major": 2,
       "version_minor": 0
      },
      "text/plain": [
       "HBox(children=(IntProgress(value=0, description='Epoch 164', max=10, style=ProgressStyle(description_width='in…"
      ]
     },
     "metadata": {},
     "output_type": "display_data"
    },
    {
     "name": "stdout",
     "output_type": "stream",
     "text": [
      "Epoch 165/1000\n",
      "10/10 - 30s - loss: 1.1049e-05 - mean_squared_error: 2.3515e-10 - keras_psnr: 26.1054 - keras_ssim: 0.4810 - val_loss: 1.1893e-05 - val_mean_squared_error: 3.3153e-10 - val_keras_psnr: 26.3162 - val_keras_ssim: 0.4798\n"
     ]
    },
    {
     "data": {
      "application/vnd.jupyter.widget-view+json": {
       "model_id": "",
       "version_major": 2,
       "version_minor": 0
      },
      "text/plain": [
       "HBox(children=(IntProgress(value=0, description='Epoch 165', max=10, style=ProgressStyle(description_width='in…"
      ]
     },
     "metadata": {},
     "output_type": "display_data"
    },
    {
     "name": "stdout",
     "output_type": "stream",
     "text": [
      "Epoch 166/1000\n",
      "10/10 - 29s - loss: 1.4881e-05 - mean_squared_error: 3.9161e-10 - keras_psnr: 25.7919 - keras_ssim: 0.5172 - val_loss: 1.1870e-05 - val_mean_squared_error: 3.3011e-10 - val_keras_psnr: 26.3157 - val_keras_ssim: 0.4798\n"
     ]
    },
    {
     "data": {
      "application/vnd.jupyter.widget-view+json": {
       "model_id": "",
       "version_major": 2,
       "version_minor": 0
      },
      "text/plain": [
       "HBox(children=(IntProgress(value=0, description='Epoch 166', max=10, style=ProgressStyle(description_width='in…"
      ]
     },
     "metadata": {},
     "output_type": "display_data"
    },
    {
     "name": "stdout",
     "output_type": "stream",
     "text": [
      "Epoch 167/1000\n",
      "10/10 - 30s - loss: 1.9682e-05 - mean_squared_error: 6.5698e-10 - keras_psnr: 25.6662 - keras_ssim: 0.5380 - val_loss: 1.1860e-05 - val_mean_squared_error: 3.2895e-10 - val_keras_psnr: 26.3125 - val_keras_ssim: 0.4798\n"
     ]
    },
    {
     "data": {
      "application/vnd.jupyter.widget-view+json": {
       "model_id": "",
       "version_major": 2,
       "version_minor": 0
      },
      "text/plain": [
       "HBox(children=(IntProgress(value=0, description='Epoch 167', max=10, style=ProgressStyle(description_width='in…"
      ]
     },
     "metadata": {},
     "output_type": "display_data"
    },
    {
     "name": "stdout",
     "output_type": "stream",
     "text": [
      "Epoch 168/1000\n",
      "10/10 - 29s - loss: 1.3421e-05 - mean_squared_error: 3.4519e-10 - keras_psnr: 25.8944 - keras_ssim: 0.5051 - val_loss: 1.1829e-05 - val_mean_squared_error: 3.2665e-10 - val_keras_psnr: 26.3439 - val_keras_ssim: 0.4807\n"
     ]
    },
    {
     "data": {
      "application/vnd.jupyter.widget-view+json": {
       "model_id": "",
       "version_major": 2,
       "version_minor": 0
      },
      "text/plain": [
       "HBox(children=(IntProgress(value=0, description='Epoch 168', max=10, style=ProgressStyle(description_width='in…"
      ]
     },
     "metadata": {},
     "output_type": "display_data"
    },
    {
     "name": "stdout",
     "output_type": "stream",
     "text": [
      "Epoch 169/1000\n",
      "10/10 - 30s - loss: 1.7042e-05 - mean_squared_error: 4.9007e-10 - keras_psnr: 24.3275 - keras_ssim: 0.4886 - val_loss: 1.1842e-05 - val_mean_squared_error: 3.2802e-10 - val_keras_psnr: 26.3308 - val_keras_ssim: 0.4801\n"
     ]
    },
    {
     "data": {
      "application/vnd.jupyter.widget-view+json": {
       "model_id": "",
       "version_major": 2,
       "version_minor": 0
      },
      "text/plain": [
       "HBox(children=(IntProgress(value=0, description='Epoch 169', max=10, style=ProgressStyle(description_width='in…"
      ]
     },
     "metadata": {},
     "output_type": "display_data"
    },
    {
     "name": "stdout",
     "output_type": "stream",
     "text": [
      "Epoch 170/1000\n",
      "10/10 - 30s - loss: 1.4891e-05 - mean_squared_error: 2.4570e-10 - keras_psnr: 24.5015 - keras_ssim: 0.3976 - val_loss: 1.1848e-05 - val_mean_squared_error: 3.2810e-10 - val_keras_psnr: 26.3148 - val_keras_ssim: 0.4797\n"
     ]
    },
    {
     "data": {
      "application/vnd.jupyter.widget-view+json": {
       "model_id": "",
       "version_major": 2,
       "version_minor": 0
      },
      "text/plain": [
       "HBox(children=(IntProgress(value=0, description='Epoch 170', max=10, style=ProgressStyle(description_width='in…"
      ]
     },
     "metadata": {},
     "output_type": "display_data"
    },
    {
     "name": "stdout",
     "output_type": "stream",
     "text": [
      "Epoch 171/1000\n",
      "10/10 - 29s - loss: 1.1122e-05 - mean_squared_error: 3.9316e-10 - keras_psnr: 26.3150 - keras_ssim: 0.5341 - val_loss: 1.1834e-05 - val_mean_squared_error: 3.2703e-10 - val_keras_psnr: 26.3146 - val_keras_ssim: 0.4799\n"
     ]
    },
    {
     "data": {
      "application/vnd.jupyter.widget-view+json": {
       "model_id": "",
       "version_major": 2,
       "version_minor": 0
      },
      "text/plain": [
       "HBox(children=(IntProgress(value=0, description='Epoch 171', max=10, style=ProgressStyle(description_width='in…"
      ]
     },
     "metadata": {},
     "output_type": "display_data"
    },
    {
     "name": "stdout",
     "output_type": "stream",
     "text": [
      "Epoch 172/1000\n",
      "10/10 - 29s - loss: 1.3205e-05 - mean_squared_error: 3.2650e-10 - keras_psnr: 26.0629 - keras_ssim: 0.4890 - val_loss: 1.1810e-05 - val_mean_squared_error: 3.2555e-10 - val_keras_psnr: 26.3317 - val_keras_ssim: 0.4805\n"
     ]
    },
    {
     "data": {
      "application/vnd.jupyter.widget-view+json": {
       "model_id": "",
       "version_major": 2,
       "version_minor": 0
      },
      "text/plain": [
       "HBox(children=(IntProgress(value=0, description='Epoch 172', max=10, style=ProgressStyle(description_width='in…"
      ]
     },
     "metadata": {},
     "output_type": "display_data"
    },
    {
     "name": "stdout",
     "output_type": "stream",
     "text": [
      "Epoch 173/1000\n",
      "10/10 - 29s - loss: 1.2682e-05 - mean_squared_error: 4.5136e-10 - keras_psnr: 26.3942 - keras_ssim: 0.5332 - val_loss: 1.1821e-05 - val_mean_squared_error: 3.2697e-10 - val_keras_psnr: 26.3290 - val_keras_ssim: 0.4803\n"
     ]
    },
    {
     "data": {
      "application/vnd.jupyter.widget-view+json": {
       "model_id": "",
       "version_major": 2,
       "version_minor": 0
      },
      "text/plain": [
       "HBox(children=(IntProgress(value=0, description='Epoch 173', max=10, style=ProgressStyle(description_width='in…"
      ]
     },
     "metadata": {},
     "output_type": "display_data"
    },
    {
     "name": "stdout",
     "output_type": "stream",
     "text": [
      "Epoch 174/1000\n",
      "10/10 - 29s - loss: 1.6836e-05 - mean_squared_error: 4.1278e-10 - keras_psnr: 24.4818 - keras_ssim: 0.4390 - val_loss: 1.1809e-05 - val_mean_squared_error: 3.2584e-10 - val_keras_psnr: 26.3346 - val_keras_ssim: 0.4803\n"
     ]
    },
    {
     "data": {
      "application/vnd.jupyter.widget-view+json": {
       "model_id": "",
       "version_major": 2,
       "version_minor": 0
      },
      "text/plain": [
       "HBox(children=(IntProgress(value=0, description='Epoch 174', max=10, style=ProgressStyle(description_width='in…"
      ]
     },
     "metadata": {},
     "output_type": "display_data"
    },
    {
     "name": "stdout",
     "output_type": "stream",
     "text": [
      "Epoch 175/1000\n",
      "10/10 - 29s - loss: 9.2213e-06 - mean_squared_error: 2.0940e-10 - keras_psnr: 24.6311 - keras_ssim: 0.3916 - val_loss: 1.1811e-05 - val_mean_squared_error: 3.2628e-10 - val_keras_psnr: 26.3297 - val_keras_ssim: 0.4805\n"
     ]
    },
    {
     "data": {
      "application/vnd.jupyter.widget-view+json": {
       "model_id": "",
       "version_major": 2,
       "version_minor": 0
      },
      "text/plain": [
       "HBox(children=(IntProgress(value=0, description='Epoch 175', max=10, style=ProgressStyle(description_width='in…"
      ]
     },
     "metadata": {},
     "output_type": "display_data"
    },
    {
     "name": "stdout",
     "output_type": "stream",
     "text": [
      "Epoch 176/1000\n",
      "10/10 - 30s - loss: 1.3515e-05 - mean_squared_error: 4.9181e-10 - keras_psnr: 25.5449 - keras_ssim: 0.4712 - val_loss: 1.1811e-05 - val_mean_squared_error: 3.2596e-10 - val_keras_psnr: 26.3260 - val_keras_ssim: 0.4803\n"
     ]
    },
    {
     "data": {
      "application/vnd.jupyter.widget-view+json": {
       "model_id": "",
       "version_major": 2,
       "version_minor": 0
      },
      "text/plain": [
       "HBox(children=(IntProgress(value=0, description='Epoch 176', max=10, style=ProgressStyle(description_width='in…"
      ]
     },
     "metadata": {},
     "output_type": "display_data"
    },
    {
     "name": "stdout",
     "output_type": "stream",
     "text": [
      "Epoch 177/1000\n",
      "10/10 - 30s - loss: 1.3957e-05 - mean_squared_error: 4.5455e-10 - keras_psnr: 25.9618 - keras_ssim: 0.5292 - val_loss: 1.1803e-05 - val_mean_squared_error: 3.2557e-10 - val_keras_psnr: 26.3373 - val_keras_ssim: 0.4805\n"
     ]
    },
    {
     "data": {
      "application/vnd.jupyter.widget-view+json": {
       "model_id": "",
       "version_major": 2,
       "version_minor": 0
      },
      "text/plain": [
       "HBox(children=(IntProgress(value=0, description='Epoch 177', max=10, style=ProgressStyle(description_width='in…"
      ]
     },
     "metadata": {},
     "output_type": "display_data"
    },
    {
     "name": "stdout",
     "output_type": "stream",
     "text": [
      "Epoch 178/1000\n",
      "10/10 - 29s - loss: 1.3314e-05 - mean_squared_error: 4.4363e-10 - keras_psnr: 25.7050 - keras_ssim: 0.5259 - val_loss: 1.1780e-05 - val_mean_squared_error: 3.2413e-10 - val_keras_psnr: 26.3654 - val_keras_ssim: 0.4812\n"
     ]
    },
    {
     "data": {
      "application/vnd.jupyter.widget-view+json": {
       "model_id": "",
       "version_major": 2,
       "version_minor": 0
      },
      "text/plain": [
       "HBox(children=(IntProgress(value=0, description='Epoch 178', max=10, style=ProgressStyle(description_width='in…"
      ]
     },
     "metadata": {},
     "output_type": "display_data"
    },
    {
     "name": "stdout",
     "output_type": "stream",
     "text": [
      "Epoch 179/1000\n",
      "10/10 - 29s - loss: 1.4329e-05 - mean_squared_error: 4.7214e-10 - keras_psnr: 24.7125 - keras_ssim: 0.4141 - val_loss: 1.1759e-05 - val_mean_squared_error: 3.2267e-10 - val_keras_psnr: 26.3919 - val_keras_ssim: 0.4818\n"
     ]
    },
    {
     "data": {
      "application/vnd.jupyter.widget-view+json": {
       "model_id": "",
       "version_major": 2,
       "version_minor": 0
      },
      "text/plain": [
       "HBox(children=(IntProgress(value=0, description='Epoch 179', max=10, style=ProgressStyle(description_width='in…"
      ]
     },
     "metadata": {},
     "output_type": "display_data"
    },
    {
     "name": "stdout",
     "output_type": "stream",
     "text": [
      "Epoch 180/1000\n",
      "10/10 - 29s - loss: 1.4839e-05 - mean_squared_error: 6.9949e-10 - keras_psnr: 25.9532 - keras_ssim: 0.5761 - val_loss: 1.1751e-05 - val_mean_squared_error: 3.2253e-10 - val_keras_psnr: 26.3970 - val_keras_ssim: 0.4820\n"
     ]
    },
    {
     "data": {
      "application/vnd.jupyter.widget-view+json": {
       "model_id": "",
       "version_major": 2,
       "version_minor": 0
      },
      "text/plain": [
       "HBox(children=(IntProgress(value=0, description='Epoch 180', max=10, style=ProgressStyle(description_width='in…"
      ]
     },
     "metadata": {},
     "output_type": "display_data"
    },
    {
     "name": "stdout",
     "output_type": "stream",
     "text": [
      "Epoch 181/1000\n",
      "10/10 - 29s - loss: 1.6946e-05 - mean_squared_error: 7.9709e-10 - keras_psnr: 23.0583 - keras_ssim: 0.4302 - val_loss: 1.1762e-05 - val_mean_squared_error: 3.2335e-10 - val_keras_psnr: 26.3840 - val_keras_ssim: 0.4816\n"
     ]
    },
    {
     "data": {
      "application/vnd.jupyter.widget-view+json": {
       "model_id": "",
       "version_major": 2,
       "version_minor": 0
      },
      "text/plain": [
       "HBox(children=(IntProgress(value=0, description='Epoch 181', max=10, style=ProgressStyle(description_width='in…"
      ]
     },
     "metadata": {},
     "output_type": "display_data"
    },
    {
     "name": "stdout",
     "output_type": "stream",
     "text": [
      "Epoch 182/1000\n",
      "10/10 - 30s - loss: 1.3657e-05 - mean_squared_error: 3.5005e-10 - keras_psnr: 27.7912 - keras_ssim: 0.5985 - val_loss: 1.1759e-05 - val_mean_squared_error: 3.2314e-10 - val_keras_psnr: 26.3782 - val_keras_ssim: 0.4815\n"
     ]
    },
    {
     "data": {
      "application/vnd.jupyter.widget-view+json": {
       "model_id": "",
       "version_major": 2,
       "version_minor": 0
      },
      "text/plain": [
       "HBox(children=(IntProgress(value=0, description='Epoch 182', max=10, style=ProgressStyle(description_width='in…"
      ]
     },
     "metadata": {},
     "output_type": "display_data"
    },
    {
     "name": "stdout",
     "output_type": "stream",
     "text": [
      "Epoch 183/1000\n",
      "10/10 - 29s - loss: 1.3367e-05 - mean_squared_error: 4.2595e-10 - keras_psnr: 24.6141 - keras_ssim: 0.4399 - val_loss: 1.1731e-05 - val_mean_squared_error: 3.2087e-10 - val_keras_psnr: 26.3949 - val_keras_ssim: 0.4819\n"
     ]
    },
    {
     "data": {
      "application/vnd.jupyter.widget-view+json": {
       "model_id": "",
       "version_major": 2,
       "version_minor": 0
      },
      "text/plain": [
       "HBox(children=(IntProgress(value=0, description='Epoch 183', max=10, style=ProgressStyle(description_width='in…"
      ]
     },
     "metadata": {},
     "output_type": "display_data"
    },
    {
     "name": "stdout",
     "output_type": "stream",
     "text": [
      "Epoch 184/1000\n",
      "10/10 - 30s - loss: 1.3365e-05 - mean_squared_error: 3.4755e-10 - keras_psnr: 25.9079 - keras_ssim: 0.4607 - val_loss: 1.1728e-05 - val_mean_squared_error: 3.2064e-10 - val_keras_psnr: 26.4025 - val_keras_ssim: 0.4821\n"
     ]
    },
    {
     "data": {
      "application/vnd.jupyter.widget-view+json": {
       "model_id": "",
       "version_major": 2,
       "version_minor": 0
      },
      "text/plain": [
       "HBox(children=(IntProgress(value=0, description='Epoch 184', max=10, style=ProgressStyle(description_width='in…"
      ]
     },
     "metadata": {},
     "output_type": "display_data"
    },
    {
     "name": "stdout",
     "output_type": "stream",
     "text": [
      "Epoch 185/1000\n",
      "10/10 - 29s - loss: 1.0291e-05 - mean_squared_error: 3.6893e-10 - keras_psnr: 25.0799 - keras_ssim: 0.4700 - val_loss: 1.1735e-05 - val_mean_squared_error: 3.2160e-10 - val_keras_psnr: 26.4033 - val_keras_ssim: 0.4821\n"
     ]
    },
    {
     "data": {
      "application/vnd.jupyter.widget-view+json": {
       "model_id": "",
       "version_major": 2,
       "version_minor": 0
      },
      "text/plain": [
       "HBox(children=(IntProgress(value=0, description='Epoch 185', max=10, style=ProgressStyle(description_width='in…"
      ]
     },
     "metadata": {},
     "output_type": "display_data"
    },
    {
     "name": "stdout",
     "output_type": "stream",
     "text": [
      "Epoch 186/1000\n",
      "10/10 - 29s - loss: 1.6226e-05 - mean_squared_error: 5.1248e-10 - keras_psnr: 25.5441 - keras_ssim: 0.4933 - val_loss: 1.1717e-05 - val_mean_squared_error: 3.2053e-10 - val_keras_psnr: 26.4237 - val_keras_ssim: 0.4827\n"
     ]
    },
    {
     "data": {
      "application/vnd.jupyter.widget-view+json": {
       "model_id": "",
       "version_major": 2,
       "version_minor": 0
      },
      "text/plain": [
       "HBox(children=(IntProgress(value=0, description='Epoch 186', max=10, style=ProgressStyle(description_width='in…"
      ]
     },
     "metadata": {},
     "output_type": "display_data"
    },
    {
     "name": "stdout",
     "output_type": "stream",
     "text": [
      "Epoch 187/1000\n",
      "10/10 - 29s - loss: 1.4532e-05 - mean_squared_error: 5.4485e-10 - keras_psnr: 25.1656 - keras_ssim: 0.4794 - val_loss: 1.1714e-05 - val_mean_squared_error: 3.2042e-10 - val_keras_psnr: 26.4113 - val_keras_ssim: 0.4824\n"
     ]
    },
    {
     "data": {
      "application/vnd.jupyter.widget-view+json": {
       "model_id": "",
       "version_major": 2,
       "version_minor": 0
      },
      "text/plain": [
       "HBox(children=(IntProgress(value=0, description='Epoch 187', max=10, style=ProgressStyle(description_width='in…"
      ]
     },
     "metadata": {},
     "output_type": "display_data"
    },
    {
     "name": "stdout",
     "output_type": "stream",
     "text": [
      "Epoch 188/1000\n",
      "10/10 - 29s - loss: 1.6967e-05 - mean_squared_error: 1.0657e-09 - keras_psnr: 25.2990 - keras_ssim: 0.5187 - val_loss: 1.1706e-05 - val_mean_squared_error: 3.1961e-10 - val_keras_psnr: 26.4059 - val_keras_ssim: 0.4824\n"
     ]
    },
    {
     "data": {
      "application/vnd.jupyter.widget-view+json": {
       "model_id": "",
       "version_major": 2,
       "version_minor": 0
      },
      "text/plain": [
       "HBox(children=(IntProgress(value=0, description='Epoch 188', max=10, style=ProgressStyle(description_width='in…"
      ]
     },
     "metadata": {},
     "output_type": "display_data"
    },
    {
     "name": "stdout",
     "output_type": "stream",
     "text": [
      "Epoch 189/1000\n",
      "10/10 - 29s - loss: 1.0745e-05 - mean_squared_error: 2.9693e-10 - keras_psnr: 24.0612 - keras_ssim: 0.4109 - val_loss: 1.1708e-05 - val_mean_squared_error: 3.1980e-10 - val_keras_psnr: 26.4078 - val_keras_ssim: 0.4823\n"
     ]
    },
    {
     "data": {
      "application/vnd.jupyter.widget-view+json": {
       "model_id": "",
       "version_major": 2,
       "version_minor": 0
      },
      "text/plain": [
       "HBox(children=(IntProgress(value=0, description='Epoch 189', max=10, style=ProgressStyle(description_width='in…"
      ]
     },
     "metadata": {},
     "output_type": "display_data"
    },
    {
     "name": "stdout",
     "output_type": "stream",
     "text": [
      "Epoch 190/1000\n",
      "10/10 - 29s - loss: 1.3460e-05 - mean_squared_error: 4.0262e-10 - keras_psnr: 25.0884 - keras_ssim: 0.4514 - val_loss: 1.1676e-05 - val_mean_squared_error: 3.1725e-10 - val_keras_psnr: 26.4357 - val_keras_ssim: 0.4831\n"
     ]
    },
    {
     "data": {
      "application/vnd.jupyter.widget-view+json": {
       "model_id": "",
       "version_major": 2,
       "version_minor": 0
      },
      "text/plain": [
       "HBox(children=(IntProgress(value=0, description='Epoch 190', max=10, style=ProgressStyle(description_width='in…"
      ]
     },
     "metadata": {},
     "output_type": "display_data"
    },
    {
     "name": "stdout",
     "output_type": "stream",
     "text": [
      "Epoch 191/1000\n",
      "10/10 - 29s - loss: 1.1463e-05 - mean_squared_error: 3.5589e-10 - keras_psnr: 25.6426 - keras_ssim: 0.5091 - val_loss: 1.1680e-05 - val_mean_squared_error: 3.1817e-10 - val_keras_psnr: 26.4337 - val_keras_ssim: 0.4829\n"
     ]
    },
    {
     "data": {
      "application/vnd.jupyter.widget-view+json": {
       "model_id": "",
       "version_major": 2,
       "version_minor": 0
      },
      "text/plain": [
       "HBox(children=(IntProgress(value=0, description='Epoch 191', max=10, style=ProgressStyle(description_width='in…"
      ]
     },
     "metadata": {},
     "output_type": "display_data"
    },
    {
     "name": "stdout",
     "output_type": "stream",
     "text": [
      "Epoch 192/1000\n",
      "10/10 - 28s - loss: 1.6903e-05 - mean_squared_error: 6.5989e-10 - keras_psnr: 24.2541 - keras_ssim: 0.4299 - val_loss: 1.1671e-05 - val_mean_squared_error: 3.1751e-10 - val_keras_psnr: 26.4384 - val_keras_ssim: 0.4831\n"
     ]
    },
    {
     "data": {
      "application/vnd.jupyter.widget-view+json": {
       "model_id": "",
       "version_major": 2,
       "version_minor": 0
      },
      "text/plain": [
       "HBox(children=(IntProgress(value=0, description='Epoch 192', max=10, style=ProgressStyle(description_width='in…"
      ]
     },
     "metadata": {},
     "output_type": "display_data"
    },
    {
     "name": "stdout",
     "output_type": "stream",
     "text": [
      "Epoch 193/1000\n",
      "10/10 - 28s - loss: 1.2026e-05 - mean_squared_error: 3.8088e-10 - keras_psnr: 25.7455 - keras_ssim: 0.5047 - val_loss: 1.1648e-05 - val_mean_squared_error: 3.1535e-10 - val_keras_psnr: 26.4483 - val_keras_ssim: 0.4833\n"
     ]
    },
    {
     "data": {
      "application/vnd.jupyter.widget-view+json": {
       "model_id": "",
       "version_major": 2,
       "version_minor": 0
      },
      "text/plain": [
       "HBox(children=(IntProgress(value=0, description='Epoch 193', max=10, style=ProgressStyle(description_width='in…"
      ]
     },
     "metadata": {},
     "output_type": "display_data"
    },
    {
     "name": "stdout",
     "output_type": "stream",
     "text": [
      "Epoch 194/1000\n",
      "10/10 - 28s - loss: 1.6044e-05 - mean_squared_error: 7.5316e-10 - keras_psnr: 24.9590 - keras_ssim: 0.5208 - val_loss: 1.1667e-05 - val_mean_squared_error: 3.1752e-10 - val_keras_psnr: 26.4211 - val_keras_ssim: 0.4828\n"
     ]
    },
    {
     "data": {
      "application/vnd.jupyter.widget-view+json": {
       "model_id": "",
       "version_major": 2,
       "version_minor": 0
      },
      "text/plain": [
       "HBox(children=(IntProgress(value=0, description='Epoch 194', max=10, style=ProgressStyle(description_width='in…"
      ]
     },
     "metadata": {},
     "output_type": "display_data"
    },
    {
     "name": "stdout",
     "output_type": "stream",
     "text": [
      "Epoch 195/1000\n",
      "10/10 - 30s - loss: 1.5074e-05 - mean_squared_error: 4.8726e-10 - keras_psnr: 24.3215 - keras_ssim: 0.4379 - val_loss: 1.1679e-05 - val_mean_squared_error: 3.1877e-10 - val_keras_psnr: 26.4169 - val_keras_ssim: 0.4829\n"
     ]
    },
    {
     "data": {
      "application/vnd.jupyter.widget-view+json": {
       "model_id": "",
       "version_major": 2,
       "version_minor": 0
      },
      "text/plain": [
       "HBox(children=(IntProgress(value=0, description='Epoch 195', max=10, style=ProgressStyle(description_width='in…"
      ]
     },
     "metadata": {},
     "output_type": "display_data"
    },
    {
     "name": "stdout",
     "output_type": "stream",
     "text": [
      "Epoch 196/1000\n",
      "10/10 - 29s - loss: 9.7432e-06 - mean_squared_error: 1.6844e-10 - keras_psnr: 25.2946 - keras_ssim: 0.4322 - val_loss: 1.1654e-05 - val_mean_squared_error: 3.1684e-10 - val_keras_psnr: 26.4320 - val_keras_ssim: 0.4833\n"
     ]
    },
    {
     "data": {
      "application/vnd.jupyter.widget-view+json": {
       "model_id": "",
       "version_major": 2,
       "version_minor": 0
      },
      "text/plain": [
       "HBox(children=(IntProgress(value=0, description='Epoch 196', max=10, style=ProgressStyle(description_width='in…"
      ]
     },
     "metadata": {},
     "output_type": "display_data"
    },
    {
     "name": "stdout",
     "output_type": "stream",
     "text": [
      "Epoch 197/1000\n",
      "10/10 - 29s - loss: 2.1479e-05 - mean_squared_error: 1.6182e-09 - keras_psnr: 25.6744 - keras_ssim: 0.5927 - val_loss: 1.1653e-05 - val_mean_squared_error: 3.1707e-10 - val_keras_psnr: 26.4380 - val_keras_ssim: 0.4834\n"
     ]
    },
    {
     "data": {
      "application/vnd.jupyter.widget-view+json": {
       "model_id": "",
       "version_major": 2,
       "version_minor": 0
      },
      "text/plain": [
       "HBox(children=(IntProgress(value=0, description='Epoch 197', max=10, style=ProgressStyle(description_width='in…"
      ]
     },
     "metadata": {},
     "output_type": "display_data"
    },
    {
     "name": "stdout",
     "output_type": "stream",
     "text": [
      "Epoch 198/1000\n",
      "10/10 - 29s - loss: 1.2944e-05 - mean_squared_error: 3.4421e-10 - keras_psnr: 24.8961 - keras_ssim: 0.4337 - val_loss: 1.1648e-05 - val_mean_squared_error: 3.1704e-10 - val_keras_psnr: 26.4464 - val_keras_ssim: 0.4835\n"
     ]
    },
    {
     "data": {
      "application/vnd.jupyter.widget-view+json": {
       "model_id": "",
       "version_major": 2,
       "version_minor": 0
      },
      "text/plain": [
       "HBox(children=(IntProgress(value=0, description='Epoch 198', max=10, style=ProgressStyle(description_width='in…"
      ]
     },
     "metadata": {},
     "output_type": "display_data"
    },
    {
     "name": "stdout",
     "output_type": "stream",
     "text": [
      "Epoch 199/1000\n",
      "10/10 - 29s - loss: 1.5189e-05 - mean_squared_error: 5.3054e-10 - keras_psnr: 25.5955 - keras_ssim: 0.5129 - val_loss: 1.1623e-05 - val_mean_squared_error: 3.1488e-10 - val_keras_psnr: 26.4672 - val_keras_ssim: 0.4840\n"
     ]
    },
    {
     "data": {
      "application/vnd.jupyter.widget-view+json": {
       "model_id": "",
       "version_major": 2,
       "version_minor": 0
      },
      "text/plain": [
       "HBox(children=(IntProgress(value=0, description='Epoch 199', max=10, style=ProgressStyle(description_width='in…"
      ]
     },
     "metadata": {},
     "output_type": "display_data"
    },
    {
     "name": "stdout",
     "output_type": "stream",
     "text": [
      "Epoch 200/1000\n",
      "10/10 - 30s - loss: 1.6612e-05 - mean_squared_error: 7.9774e-10 - keras_psnr: 21.8858 - keras_ssim: 0.3646 - val_loss: 1.1624e-05 - val_mean_squared_error: 3.1520e-10 - val_keras_psnr: 26.4735 - val_keras_ssim: 0.4841\n"
     ]
    },
    {
     "data": {
      "application/vnd.jupyter.widget-view+json": {
       "model_id": "",
       "version_major": 2,
       "version_minor": 0
      },
      "text/plain": [
       "HBox(children=(IntProgress(value=0, description='Epoch 200', max=10, style=ProgressStyle(description_width='in…"
      ]
     },
     "metadata": {},
     "output_type": "display_data"
    },
    {
     "name": "stdout",
     "output_type": "stream",
     "text": [
      "Epoch 201/1000\n",
      "10/10 - 29s - loss: 1.5205e-05 - mean_squared_error: 5.8017e-10 - keras_psnr: 26.8862 - keras_ssim: 0.5281 - val_loss: 1.1612e-05 - val_mean_squared_error: 3.1453e-10 - val_keras_psnr: 26.4820 - val_keras_ssim: 0.4844\n"
     ]
    },
    {
     "data": {
      "application/vnd.jupyter.widget-view+json": {
       "model_id": "",
       "version_major": 2,
       "version_minor": 0
      },
      "text/plain": [
       "HBox(children=(IntProgress(value=0, description='Epoch 201', max=10, style=ProgressStyle(description_width='in…"
      ]
     },
     "metadata": {},
     "output_type": "display_data"
    },
    {
     "name": "stdout",
     "output_type": "stream",
     "text": [
      "Epoch 202/1000\n",
      "10/10 - 30s - loss: 1.5167e-05 - mean_squared_error: 7.8149e-10 - keras_psnr: 26.4180 - keras_ssim: 0.5913 - val_loss: 1.1617e-05 - val_mean_squared_error: 3.1480e-10 - val_keras_psnr: 26.4677 - val_keras_ssim: 0.4839\n"
     ]
    },
    {
     "data": {
      "application/vnd.jupyter.widget-view+json": {
       "model_id": "",
       "version_major": 2,
       "version_minor": 0
      },
      "text/plain": [
       "HBox(children=(IntProgress(value=0, description='Epoch 202', max=10, style=ProgressStyle(description_width='in…"
      ]
     },
     "metadata": {},
     "output_type": "display_data"
    },
    {
     "name": "stdout",
     "output_type": "stream",
     "text": [
      "Epoch 203/1000\n",
      "10/10 - 30s - loss: 1.4528e-05 - mean_squared_error: 4.2522e-10 - keras_psnr: 25.3655 - keras_ssim: 0.4409 - val_loss: 1.1594e-05 - val_mean_squared_error: 3.1303e-10 - val_keras_psnr: 26.4809 - val_keras_ssim: 0.4844\n"
     ]
    },
    {
     "data": {
      "application/vnd.jupyter.widget-view+json": {
       "model_id": "",
       "version_major": 2,
       "version_minor": 0
      },
      "text/plain": [
       "HBox(children=(IntProgress(value=0, description='Epoch 203', max=10, style=ProgressStyle(description_width='in…"
      ]
     },
     "metadata": {},
     "output_type": "display_data"
    },
    {
     "name": "stdout",
     "output_type": "stream",
     "text": [
      "Epoch 204/1000\n",
      "10/10 - 30s - loss: 1.3905e-05 - mean_squared_error: 3.5407e-10 - keras_psnr: 26.3766 - keras_ssim: 0.5104 - val_loss: 1.1594e-05 - val_mean_squared_error: 3.1321e-10 - val_keras_psnr: 26.4889 - val_keras_ssim: 0.4845\n"
     ]
    },
    {
     "data": {
      "application/vnd.jupyter.widget-view+json": {
       "model_id": "",
       "version_major": 2,
       "version_minor": 0
      },
      "text/plain": [
       "HBox(children=(IntProgress(value=0, description='Epoch 204', max=10, style=ProgressStyle(description_width='in…"
      ]
     },
     "metadata": {},
     "output_type": "display_data"
    },
    {
     "name": "stdout",
     "output_type": "stream",
     "text": [
      "Epoch 205/1000\n",
      "10/10 - 29s - loss: 1.6213e-05 - mean_squared_error: 9.8992e-10 - keras_psnr: 25.5207 - keras_ssim: 0.5565 - val_loss: 1.1598e-05 - val_mean_squared_error: 3.1348e-10 - val_keras_psnr: 26.4796 - val_keras_ssim: 0.4843\n"
     ]
    },
    {
     "data": {
      "application/vnd.jupyter.widget-view+json": {
       "model_id": "",
       "version_major": 2,
       "version_minor": 0
      },
      "text/plain": [
       "HBox(children=(IntProgress(value=0, description='Epoch 205', max=10, style=ProgressStyle(description_width='in…"
      ]
     },
     "metadata": {},
     "output_type": "display_data"
    },
    {
     "name": "stdout",
     "output_type": "stream",
     "text": [
      "Epoch 206/1000\n",
      "10/10 - 29s - loss: 1.4361e-05 - mean_squared_error: 4.3577e-10 - keras_psnr: 25.4157 - keras_ssim: 0.4741 - val_loss: 1.1589e-05 - val_mean_squared_error: 3.1299e-10 - val_keras_psnr: 26.4737 - val_keras_ssim: 0.4845\n"
     ]
    },
    {
     "data": {
      "application/vnd.jupyter.widget-view+json": {
       "model_id": "",
       "version_major": 2,
       "version_minor": 0
      },
      "text/plain": [
       "HBox(children=(IntProgress(value=0, description='Epoch 206', max=10, style=ProgressStyle(description_width='in…"
      ]
     },
     "metadata": {},
     "output_type": "display_data"
    },
    {
     "name": "stdout",
     "output_type": "stream",
     "text": [
      "Epoch 207/1000\n",
      "10/10 - 29s - loss: 1.3880e-05 - mean_squared_error: 3.2499e-10 - keras_psnr: 26.0200 - keras_ssim: 0.4947 - val_loss: 1.1584e-05 - val_mean_squared_error: 3.1224e-10 - val_keras_psnr: 26.4743 - val_keras_ssim: 0.4845\n"
     ]
    },
    {
     "data": {
      "application/vnd.jupyter.widget-view+json": {
       "model_id": "",
       "version_major": 2,
       "version_minor": 0
      },
      "text/plain": [
       "HBox(children=(IntProgress(value=0, description='Epoch 207', max=10, style=ProgressStyle(description_width='in…"
      ]
     },
     "metadata": {},
     "output_type": "display_data"
    },
    {
     "name": "stdout",
     "output_type": "stream",
     "text": [
      "Epoch 208/1000\n",
      "10/10 - 29s - loss: 1.7519e-05 - mean_squared_error: 8.5434e-10 - keras_psnr: 26.9287 - keras_ssim: 0.6146 - val_loss: 1.1560e-05 - val_mean_squared_error: 3.1104e-10 - val_keras_psnr: 26.5059 - val_keras_ssim: 0.4851\n"
     ]
    },
    {
     "data": {
      "application/vnd.jupyter.widget-view+json": {
       "model_id": "",
       "version_major": 2,
       "version_minor": 0
      },
      "text/plain": [
       "HBox(children=(IntProgress(value=0, description='Epoch 208', max=10, style=ProgressStyle(description_width='in…"
      ]
     },
     "metadata": {},
     "output_type": "display_data"
    },
    {
     "name": "stdout",
     "output_type": "stream",
     "text": [
      "Epoch 209/1000\n",
      "10/10 - 29s - loss: 1.5076e-05 - mean_squared_error: 5.5026e-10 - keras_psnr: 26.1080 - keras_ssim: 0.5879 - val_loss: 1.1550e-05 - val_mean_squared_error: 3.1043e-10 - val_keras_psnr: 26.5199 - val_keras_ssim: 0.4855\n"
     ]
    },
    {
     "data": {
      "application/vnd.jupyter.widget-view+json": {
       "model_id": "",
       "version_major": 2,
       "version_minor": 0
      },
      "text/plain": [
       "HBox(children=(IntProgress(value=0, description='Epoch 209', max=10, style=ProgressStyle(description_width='in…"
      ]
     },
     "metadata": {},
     "output_type": "display_data"
    },
    {
     "name": "stdout",
     "output_type": "stream",
     "text": [
      "Epoch 210/1000\n",
      "10/10 - 29s - loss: 1.0019e-05 - mean_squared_error: 1.6910e-10 - keras_psnr: 25.0341 - keras_ssim: 0.4166 - val_loss: 1.1536e-05 - val_mean_squared_error: 3.0905e-10 - val_keras_psnr: 26.5221 - val_keras_ssim: 0.4855\n"
     ]
    },
    {
     "data": {
      "application/vnd.jupyter.widget-view+json": {
       "model_id": "",
       "version_major": 2,
       "version_minor": 0
      },
      "text/plain": [
       "HBox(children=(IntProgress(value=0, description='Epoch 210', max=10, style=ProgressStyle(description_width='in…"
      ]
     },
     "metadata": {},
     "output_type": "display_data"
    },
    {
     "name": "stdout",
     "output_type": "stream",
     "text": [
      "Epoch 211/1000\n",
      "10/10 - 28s - loss: 1.2664e-05 - mean_squared_error: 3.3372e-10 - keras_psnr: 25.4168 - keras_ssim: 0.4790 - val_loss: 1.1518e-05 - val_mean_squared_error: 3.0801e-10 - val_keras_psnr: 26.5320 - val_keras_ssim: 0.4858\n"
     ]
    },
    {
     "data": {
      "application/vnd.jupyter.widget-view+json": {
       "model_id": "",
       "version_major": 2,
       "version_minor": 0
      },
      "text/plain": [
       "HBox(children=(IntProgress(value=0, description='Epoch 211', max=10, style=ProgressStyle(description_width='in…"
      ]
     },
     "metadata": {},
     "output_type": "display_data"
    },
    {
     "name": "stdout",
     "output_type": "stream",
     "text": [
      "Epoch 212/1000\n",
      "10/10 - 29s - loss: 1.4340e-05 - mean_squared_error: 4.5753e-10 - keras_psnr: 25.9662 - keras_ssim: 0.5499 - val_loss: 1.1533e-05 - val_mean_squared_error: 3.0950e-10 - val_keras_psnr: 26.5279 - val_keras_ssim: 0.4856\n"
     ]
    },
    {
     "data": {
      "application/vnd.jupyter.widget-view+json": {
       "model_id": "",
       "version_major": 2,
       "version_minor": 0
      },
      "text/plain": [
       "HBox(children=(IntProgress(value=0, description='Epoch 212', max=10, style=ProgressStyle(description_width='in…"
      ]
     },
     "metadata": {},
     "output_type": "display_data"
    },
    {
     "name": "stdout",
     "output_type": "stream",
     "text": [
      "Epoch 213/1000\n",
      "10/10 - 29s - loss: 1.4192e-05 - mean_squared_error: 3.7141e-10 - keras_psnr: 24.9706 - keras_ssim: 0.4479 - val_loss: 1.1516e-05 - val_mean_squared_error: 3.0810e-10 - val_keras_psnr: 26.5381 - val_keras_ssim: 0.4858\n"
     ]
    },
    {
     "data": {
      "application/vnd.jupyter.widget-view+json": {
       "model_id": "",
       "version_major": 2,
       "version_minor": 0
      },
      "text/plain": [
       "HBox(children=(IntProgress(value=0, description='Epoch 213', max=10, style=ProgressStyle(description_width='in…"
      ]
     },
     "metadata": {},
     "output_type": "display_data"
    },
    {
     "name": "stdout",
     "output_type": "stream",
     "text": [
      "Epoch 214/1000\n",
      "10/10 - 29s - loss: 1.4255e-05 - mean_squared_error: 3.3998e-10 - keras_psnr: 25.1263 - keras_ssim: 0.4492 - val_loss: 1.1516e-05 - val_mean_squared_error: 3.0808e-10 - val_keras_psnr: 26.5377 - val_keras_ssim: 0.4857\n"
     ]
    },
    {
     "data": {
      "application/vnd.jupyter.widget-view+json": {
       "model_id": "",
       "version_major": 2,
       "version_minor": 0
      },
      "text/plain": [
       "HBox(children=(IntProgress(value=0, description='Epoch 214', max=10, style=ProgressStyle(description_width='in…"
      ]
     },
     "metadata": {},
     "output_type": "display_data"
    },
    {
     "name": "stdout",
     "output_type": "stream",
     "text": [
      "Epoch 215/1000\n",
      "10/10 - 29s - loss: 1.6402e-05 - mean_squared_error: 1.1218e-09 - keras_psnr: 25.7617 - keras_ssim: 0.5363 - val_loss: 1.1494e-05 - val_mean_squared_error: 3.0667e-10 - val_keras_psnr: 26.5409 - val_keras_ssim: 0.4859\n"
     ]
    },
    {
     "data": {
      "application/vnd.jupyter.widget-view+json": {
       "model_id": "",
       "version_major": 2,
       "version_minor": 0
      },
      "text/plain": [
       "HBox(children=(IntProgress(value=0, description='Epoch 215', max=10, style=ProgressStyle(description_width='in…"
      ]
     },
     "metadata": {},
     "output_type": "display_data"
    },
    {
     "name": "stdout",
     "output_type": "stream",
     "text": [
      "Epoch 216/1000\n",
      "10/10 - 30s - loss: 1.0323e-05 - mean_squared_error: 2.4091e-10 - keras_psnr: 23.9915 - keras_ssim: 0.4209 - val_loss: 1.1490e-05 - val_mean_squared_error: 3.0671e-10 - val_keras_psnr: 26.5507 - val_keras_ssim: 0.4862\n"
     ]
    },
    {
     "data": {
      "application/vnd.jupyter.widget-view+json": {
       "model_id": "",
       "version_major": 2,
       "version_minor": 0
      },
      "text/plain": [
       "HBox(children=(IntProgress(value=0, description='Epoch 216', max=10, style=ProgressStyle(description_width='in…"
      ]
     },
     "metadata": {},
     "output_type": "display_data"
    },
    {
     "name": "stdout",
     "output_type": "stream",
     "text": [
      "Epoch 217/1000\n",
      "10/10 - 30s - loss: 1.3036e-05 - mean_squared_error: 4.0711e-10 - keras_psnr: 27.3006 - keras_ssim: 0.5663 - val_loss: 1.1497e-05 - val_mean_squared_error: 3.0743e-10 - val_keras_psnr: 26.5479 - val_keras_ssim: 0.4861\n"
     ]
    },
    {
     "data": {
      "application/vnd.jupyter.widget-view+json": {
       "model_id": "",
       "version_major": 2,
       "version_minor": 0
      },
      "text/plain": [
       "HBox(children=(IntProgress(value=0, description='Epoch 217', max=10, style=ProgressStyle(description_width='in…"
      ]
     },
     "metadata": {},
     "output_type": "display_data"
    },
    {
     "name": "stdout",
     "output_type": "stream",
     "text": [
      "Epoch 218/1000\n",
      "10/10 - 29s - loss: 1.1832e-05 - mean_squared_error: 3.6593e-10 - keras_psnr: 26.2619 - keras_ssim: 0.5321 - val_loss: 1.1489e-05 - val_mean_squared_error: 3.0636e-10 - val_keras_psnr: 26.5495 - val_keras_ssim: 0.4861\n"
     ]
    },
    {
     "data": {
      "application/vnd.jupyter.widget-view+json": {
       "model_id": "",
       "version_major": 2,
       "version_minor": 0
      },
      "text/plain": [
       "HBox(children=(IntProgress(value=0, description='Epoch 218', max=10, style=ProgressStyle(description_width='in…"
      ]
     },
     "metadata": {},
     "output_type": "display_data"
    },
    {
     "name": "stdout",
     "output_type": "stream",
     "text": [
      "Epoch 219/1000\n",
      "10/10 - 29s - loss: 1.1780e-05 - mean_squared_error: 2.7179e-10 - keras_psnr: 25.9323 - keras_ssim: 0.4949 - val_loss: 1.1482e-05 - val_mean_squared_error: 3.0678e-10 - val_keras_psnr: 26.5500 - val_keras_ssim: 0.4863\n"
     ]
    },
    {
     "data": {
      "application/vnd.jupyter.widget-view+json": {
       "model_id": "",
       "version_major": 2,
       "version_minor": 0
      },
      "text/plain": [
       "HBox(children=(IntProgress(value=0, description='Epoch 219', max=10, style=ProgressStyle(description_width='in…"
      ]
     },
     "metadata": {},
     "output_type": "display_data"
    },
    {
     "name": "stdout",
     "output_type": "stream",
     "text": [
      "Epoch 220/1000\n",
      "10/10 - 29s - loss: 1.4293e-05 - mean_squared_error: 4.8160e-10 - keras_psnr: 25.9445 - keras_ssim: 0.5258 - val_loss: 1.1484e-05 - val_mean_squared_error: 3.0644e-10 - val_keras_psnr: 26.5495 - val_keras_ssim: 0.4861\n"
     ]
    },
    {
     "data": {
      "application/vnd.jupyter.widget-view+json": {
       "model_id": "",
       "version_major": 2,
       "version_minor": 0
      },
      "text/plain": [
       "HBox(children=(IntProgress(value=0, description='Epoch 220', max=10, style=ProgressStyle(description_width='in…"
      ]
     },
     "metadata": {},
     "output_type": "display_data"
    },
    {
     "name": "stdout",
     "output_type": "stream",
     "text": [
      "Epoch 221/1000\n",
      "10/10 - 29s - loss: 1.3361e-05 - mean_squared_error: 3.0664e-10 - keras_psnr: 25.8067 - keras_ssim: 0.4731 - val_loss: 1.1478e-05 - val_mean_squared_error: 3.0665e-10 - val_keras_psnr: 26.5606 - val_keras_ssim: 0.4865\n"
     ]
    },
    {
     "data": {
      "application/vnd.jupyter.widget-view+json": {
       "model_id": "",
       "version_major": 2,
       "version_minor": 0
      },
      "text/plain": [
       "HBox(children=(IntProgress(value=0, description='Epoch 221', max=10, style=ProgressStyle(description_width='in…"
      ]
     },
     "metadata": {},
     "output_type": "display_data"
    },
    {
     "name": "stdout",
     "output_type": "stream",
     "text": [
      "Epoch 222/1000\n",
      "10/10 - 29s - loss: 9.5171e-06 - mean_squared_error: 1.6483e-10 - keras_psnr: 25.6215 - keras_ssim: 0.4709 - val_loss: 1.1468e-05 - val_mean_squared_error: 3.0537e-10 - val_keras_psnr: 26.5734 - val_keras_ssim: 0.4867\n"
     ]
    },
    {
     "data": {
      "application/vnd.jupyter.widget-view+json": {
       "model_id": "",
       "version_major": 2,
       "version_minor": 0
      },
      "text/plain": [
       "HBox(children=(IntProgress(value=0, description='Epoch 222', max=10, style=ProgressStyle(description_width='in…"
      ]
     },
     "metadata": {},
     "output_type": "display_data"
    },
    {
     "name": "stdout",
     "output_type": "stream",
     "text": [
      "Epoch 223/1000\n",
      "10/10 - 30s - loss: 1.9760e-05 - mean_squared_error: 1.4318e-09 - keras_psnr: 25.4866 - keras_ssim: 0.5497 - val_loss: 1.1470e-05 - val_mean_squared_error: 3.0595e-10 - val_keras_psnr: 26.5712 - val_keras_ssim: 0.4867\n"
     ]
    },
    {
     "data": {
      "application/vnd.jupyter.widget-view+json": {
       "model_id": "",
       "version_major": 2,
       "version_minor": 0
      },
      "text/plain": [
       "HBox(children=(IntProgress(value=0, description='Epoch 223', max=10, style=ProgressStyle(description_width='in…"
      ]
     },
     "metadata": {},
     "output_type": "display_data"
    },
    {
     "name": "stdout",
     "output_type": "stream",
     "text": [
      "Epoch 224/1000\n",
      "10/10 - 29s - loss: 1.1216e-05 - mean_squared_error: 1.9504e-10 - keras_psnr: 25.7175 - keras_ssim: 0.4402 - val_loss: 1.1455e-05 - val_mean_squared_error: 3.0422e-10 - val_keras_psnr: 26.5812 - val_keras_ssim: 0.4871\n"
     ]
    },
    {
     "data": {
      "application/vnd.jupyter.widget-view+json": {
       "model_id": "",
       "version_major": 2,
       "version_minor": 0
      },
      "text/plain": [
       "HBox(children=(IntProgress(value=0, description='Epoch 224', max=10, style=ProgressStyle(description_width='in…"
      ]
     },
     "metadata": {},
     "output_type": "display_data"
    },
    {
     "name": "stdout",
     "output_type": "stream",
     "text": [
      "Epoch 225/1000\n",
      "10/10 - 29s - loss: 1.5280e-05 - mean_squared_error: 6.1993e-10 - keras_psnr: 24.9994 - keras_ssim: 0.4855 - val_loss: 1.1448e-05 - val_mean_squared_error: 3.0474e-10 - val_keras_psnr: 26.5839 - val_keras_ssim: 0.4873\n"
     ]
    },
    {
     "data": {
      "application/vnd.jupyter.widget-view+json": {
       "model_id": "",
       "version_major": 2,
       "version_minor": 0
      },
      "text/plain": [
       "HBox(children=(IntProgress(value=0, description='Epoch 225', max=10, style=ProgressStyle(description_width='in…"
      ]
     },
     "metadata": {},
     "output_type": "display_data"
    },
    {
     "name": "stdout",
     "output_type": "stream",
     "text": [
      "Epoch 226/1000\n",
      "10/10 - 29s - loss: 1.1803e-05 - mean_squared_error: 2.7927e-10 - keras_psnr: 25.8158 - keras_ssim: 0.5058 - val_loss: 1.1451e-05 - val_mean_squared_error: 3.0465e-10 - val_keras_psnr: 26.5642 - val_keras_ssim: 0.4867\n"
     ]
    },
    {
     "data": {
      "application/vnd.jupyter.widget-view+json": {
       "model_id": "",
       "version_major": 2,
       "version_minor": 0
      },
      "text/plain": [
       "HBox(children=(IntProgress(value=0, description='Epoch 226', max=10, style=ProgressStyle(description_width='in…"
      ]
     },
     "metadata": {},
     "output_type": "display_data"
    },
    {
     "name": "stdout",
     "output_type": "stream",
     "text": [
      "Epoch 227/1000\n",
      "10/10 - 29s - loss: 1.9215e-05 - mean_squared_error: 1.6179e-09 - keras_psnr: 22.9971 - keras_ssim: 0.4177 - val_loss: 1.1459e-05 - val_mean_squared_error: 3.0534e-10 - val_keras_psnr: 26.5539 - val_keras_ssim: 0.4865\n"
     ]
    },
    {
     "data": {
      "application/vnd.jupyter.widget-view+json": {
       "model_id": "",
       "version_major": 2,
       "version_minor": 0
      },
      "text/plain": [
       "HBox(children=(IntProgress(value=0, description='Epoch 227', max=10, style=ProgressStyle(description_width='in…"
      ]
     },
     "metadata": {},
     "output_type": "display_data"
    },
    {
     "name": "stdout",
     "output_type": "stream",
     "text": [
      "Epoch 228/1000\n",
      "10/10 - 29s - loss: 8.6917e-06 - mean_squared_error: 1.5471e-10 - keras_psnr: 23.8956 - keras_ssim: 0.3459 - val_loss: 1.1440e-05 - val_mean_squared_error: 3.0463e-10 - val_keras_psnr: 26.5823 - val_keras_ssim: 0.4871\n"
     ]
    },
    {
     "data": {
      "application/vnd.jupyter.widget-view+json": {
       "model_id": "",
       "version_major": 2,
       "version_minor": 0
      },
      "text/plain": [
       "HBox(children=(IntProgress(value=0, description='Epoch 228', max=10, style=ProgressStyle(description_width='in…"
      ]
     },
     "metadata": {},
     "output_type": "display_data"
    },
    {
     "name": "stdout",
     "output_type": "stream",
     "text": [
      "Epoch 229/1000\n",
      "10/10 - 29s - loss: 1.2791e-05 - mean_squared_error: 3.8173e-10 - keras_psnr: 26.1851 - keras_ssim: 0.5076 - val_loss: 1.1430e-05 - val_mean_squared_error: 3.0388e-10 - val_keras_psnr: 26.6039 - val_keras_ssim: 0.4876\n"
     ]
    },
    {
     "data": {
      "application/vnd.jupyter.widget-view+json": {
       "model_id": "",
       "version_major": 2,
       "version_minor": 0
      },
      "text/plain": [
       "HBox(children=(IntProgress(value=0, description='Epoch 229', max=10, style=ProgressStyle(description_width='in…"
      ]
     },
     "metadata": {},
     "output_type": "display_data"
    },
    {
     "name": "stdout",
     "output_type": "stream",
     "text": [
      "Epoch 230/1000\n",
      "10/10 - 29s - loss: 1.1655e-05 - mean_squared_error: 2.8884e-10 - keras_psnr: 25.8055 - keras_ssim: 0.4825 - val_loss: 1.1432e-05 - val_mean_squared_error: 3.0398e-10 - val_keras_psnr: 26.5998 - val_keras_ssim: 0.4875\n"
     ]
    },
    {
     "data": {
      "application/vnd.jupyter.widget-view+json": {
       "model_id": "",
       "version_major": 2,
       "version_minor": 0
      },
      "text/plain": [
       "HBox(children=(IntProgress(value=0, description='Epoch 230', max=10, style=ProgressStyle(description_width='in…"
      ]
     },
     "metadata": {},
     "output_type": "display_data"
    },
    {
     "name": "stdout",
     "output_type": "stream",
     "text": [
      "Epoch 231/1000\n",
      "10/10 - 29s - loss: 8.9163e-06 - mean_squared_error: 1.3962e-10 - keras_psnr: 25.7218 - keras_ssim: 0.4286 - val_loss: 1.1397e-05 - val_mean_squared_error: 3.0122e-10 - val_keras_psnr: 26.6143 - val_keras_ssim: 0.4879\n"
     ]
    },
    {
     "data": {
      "application/vnd.jupyter.widget-view+json": {
       "model_id": "",
       "version_major": 2,
       "version_minor": 0
      },
      "text/plain": [
       "HBox(children=(IntProgress(value=0, description='Epoch 231', max=10, style=ProgressStyle(description_width='in…"
      ]
     },
     "metadata": {},
     "output_type": "display_data"
    },
    {
     "name": "stdout",
     "output_type": "stream",
     "text": [
      "Epoch 232/1000\n",
      "10/10 - 30s - loss: 2.6894e-05 - mean_squared_error: 4.8043e-09 - keras_psnr: 24.2564 - keras_ssim: 0.4573 - val_loss: 1.1419e-05 - val_mean_squared_error: 3.0331e-10 - val_keras_psnr: 26.6112 - val_keras_ssim: 0.4880\n"
     ]
    },
    {
     "data": {
      "application/vnd.jupyter.widget-view+json": {
       "model_id": "",
       "version_major": 2,
       "version_minor": 0
      },
      "text/plain": [
       "HBox(children=(IntProgress(value=0, description='Epoch 232', max=10, style=ProgressStyle(description_width='in…"
      ]
     },
     "metadata": {},
     "output_type": "display_data"
    },
    {
     "name": "stdout",
     "output_type": "stream",
     "text": [
      "Epoch 233/1000\n",
      "10/10 - 29s - loss: 1.3564e-05 - mean_squared_error: 3.4421e-10 - keras_psnr: 25.9948 - keras_ssim: 0.4893 - val_loss: 1.1397e-05 - val_mean_squared_error: 3.0153e-10 - val_keras_psnr: 26.6230 - val_keras_ssim: 0.4883\n"
     ]
    },
    {
     "data": {
      "application/vnd.jupyter.widget-view+json": {
       "model_id": "",
       "version_major": 2,
       "version_minor": 0
      },
      "text/plain": [
       "HBox(children=(IntProgress(value=0, description='Epoch 233', max=10, style=ProgressStyle(description_width='in…"
      ]
     },
     "metadata": {},
     "output_type": "display_data"
    },
    {
     "name": "stdout",
     "output_type": "stream",
     "text": [
      "Epoch 234/1000\n",
      "10/10 - 29s - loss: 1.2441e-05 - mean_squared_error: 5.4914e-10 - keras_psnr: 25.0820 - keras_ssim: 0.4422 - val_loss: 1.1395e-05 - val_mean_squared_error: 3.0098e-10 - val_keras_psnr: 26.6201 - val_keras_ssim: 0.4882\n"
     ]
    },
    {
     "data": {
      "application/vnd.jupyter.widget-view+json": {
       "model_id": "",
       "version_major": 2,
       "version_minor": 0
      },
      "text/plain": [
       "HBox(children=(IntProgress(value=0, description='Epoch 234', max=10, style=ProgressStyle(description_width='in…"
      ]
     },
     "metadata": {},
     "output_type": "display_data"
    },
    {
     "name": "stdout",
     "output_type": "stream",
     "text": [
      "Epoch 235/1000\n",
      "10/10 - 28s - loss: 1.2168e-05 - mean_squared_error: 2.4833e-10 - keras_psnr: 27.7486 - keras_ssim: 0.5590 - val_loss: 1.1399e-05 - val_mean_squared_error: 3.0171e-10 - val_keras_psnr: 26.6091 - val_keras_ssim: 0.4880\n"
     ]
    },
    {
     "data": {
      "application/vnd.jupyter.widget-view+json": {
       "model_id": "",
       "version_major": 2,
       "version_minor": 0
      },
      "text/plain": [
       "HBox(children=(IntProgress(value=0, description='Epoch 235', max=10, style=ProgressStyle(description_width='in…"
      ]
     },
     "metadata": {},
     "output_type": "display_data"
    },
    {
     "name": "stdout",
     "output_type": "stream",
     "text": [
      "Epoch 236/1000\n",
      "10/10 - 29s - loss: 1.4348e-05 - mean_squared_error: 4.5001e-10 - keras_psnr: 25.7040 - keras_ssim: 0.4765 - val_loss: 1.1398e-05 - val_mean_squared_error: 3.0158e-10 - val_keras_psnr: 26.6101 - val_keras_ssim: 0.4880\n"
     ]
    },
    {
     "data": {
      "application/vnd.jupyter.widget-view+json": {
       "model_id": "",
       "version_major": 2,
       "version_minor": 0
      },
      "text/plain": [
       "HBox(children=(IntProgress(value=0, description='Epoch 236', max=10, style=ProgressStyle(description_width='in…"
      ]
     },
     "metadata": {},
     "output_type": "display_data"
    },
    {
     "name": "stdout",
     "output_type": "stream",
     "text": [
      "Epoch 237/1000\n",
      "10/10 - 29s - loss: 1.3584e-05 - mean_squared_error: 4.6434e-10 - keras_psnr: 26.7586 - keras_ssim: 0.5363 - val_loss: 1.1358e-05 - val_mean_squared_error: 2.9892e-10 - val_keras_psnr: 26.6449 - val_keras_ssim: 0.4889\n"
     ]
    },
    {
     "data": {
      "application/vnd.jupyter.widget-view+json": {
       "model_id": "",
       "version_major": 2,
       "version_minor": 0
      },
      "text/plain": [
       "HBox(children=(IntProgress(value=0, description='Epoch 237', max=10, style=ProgressStyle(description_width='in…"
      ]
     },
     "metadata": {},
     "output_type": "display_data"
    },
    {
     "name": "stdout",
     "output_type": "stream",
     "text": [
      "Epoch 238/1000\n",
      "10/10 - 29s - loss: 1.4736e-05 - mean_squared_error: 5.7344e-10 - keras_psnr: 26.2134 - keras_ssim: 0.5537 - val_loss: 1.1392e-05 - val_mean_squared_error: 3.0221e-10 - val_keras_psnr: 26.6229 - val_keras_ssim: 0.4883\n"
     ]
    },
    {
     "data": {
      "application/vnd.jupyter.widget-view+json": {
       "model_id": "",
       "version_major": 2,
       "version_minor": 0
      },
      "text/plain": [
       "HBox(children=(IntProgress(value=0, description='Epoch 238', max=10, style=ProgressStyle(description_width='in…"
      ]
     },
     "metadata": {},
     "output_type": "display_data"
    },
    {
     "name": "stdout",
     "output_type": "stream",
     "text": [
      "Epoch 239/1000\n",
      "10/10 - 29s - loss: 1.1884e-05 - mean_squared_error: 3.6655e-10 - keras_psnr: 25.1326 - keras_ssim: 0.4633 - val_loss: 1.1396e-05 - val_mean_squared_error: 3.0261e-10 - val_keras_psnr: 26.6236 - val_keras_ssim: 0.4882\n"
     ]
    },
    {
     "data": {
      "application/vnd.jupyter.widget-view+json": {
       "model_id": "",
       "version_major": 2,
       "version_minor": 0
      },
      "text/plain": [
       "HBox(children=(IntProgress(value=0, description='Epoch 239', max=10, style=ProgressStyle(description_width='in…"
      ]
     },
     "metadata": {},
     "output_type": "display_data"
    },
    {
     "name": "stdout",
     "output_type": "stream",
     "text": [
      "Epoch 240/1000\n",
      "10/10 - 29s - loss: 1.6600e-05 - mean_squared_error: 6.9240e-10 - keras_psnr: 24.7286 - keras_ssim: 0.4464 - val_loss: 1.1394e-05 - val_mean_squared_error: 3.0249e-10 - val_keras_psnr: 26.6247 - val_keras_ssim: 0.4882\n"
     ]
    },
    {
     "data": {
      "application/vnd.jupyter.widget-view+json": {
       "model_id": "",
       "version_major": 2,
       "version_minor": 0
      },
      "text/plain": [
       "HBox(children=(IntProgress(value=0, description='Epoch 240', max=10, style=ProgressStyle(description_width='in…"
      ]
     },
     "metadata": {},
     "output_type": "display_data"
    },
    {
     "name": "stdout",
     "output_type": "stream",
     "text": [
      "Epoch 241/1000\n",
      "10/10 - 29s - loss: 1.3900e-05 - mean_squared_error: 3.5400e-10 - keras_psnr: 25.9965 - keras_ssim: 0.4529 - val_loss: 1.1369e-05 - val_mean_squared_error: 3.0059e-10 - val_keras_psnr: 26.6546 - val_keras_ssim: 0.4892\n"
     ]
    },
    {
     "data": {
      "application/vnd.jupyter.widget-view+json": {
       "model_id": "",
       "version_major": 2,
       "version_minor": 0
      },
      "text/plain": [
       "HBox(children=(IntProgress(value=0, description='Epoch 241', max=10, style=ProgressStyle(description_width='in…"
      ]
     },
     "metadata": {},
     "output_type": "display_data"
    },
    {
     "name": "stdout",
     "output_type": "stream",
     "text": [
      "Epoch 242/1000\n",
      "10/10 - 30s - loss: 1.6789e-05 - mean_squared_error: 5.5303e-10 - keras_psnr: 25.7214 - keras_ssim: 0.4786 - val_loss: 1.1379e-05 - val_mean_squared_error: 3.0167e-10 - val_keras_psnr: 26.6485 - val_keras_ssim: 0.4891\n"
     ]
    },
    {
     "data": {
      "application/vnd.jupyter.widget-view+json": {
       "model_id": "",
       "version_major": 2,
       "version_minor": 0
      },
      "text/plain": [
       "HBox(children=(IntProgress(value=0, description='Epoch 242', max=10, style=ProgressStyle(description_width='in…"
      ]
     },
     "metadata": {},
     "output_type": "display_data"
    },
    {
     "name": "stdout",
     "output_type": "stream",
     "text": [
      "Epoch 243/1000\n",
      "10/10 - 29s - loss: 1.6325e-05 - mean_squared_error: 7.7720e-10 - keras_psnr: 26.5402 - keras_ssim: 0.5750 - val_loss: 1.1328e-05 - val_mean_squared_error: 2.9815e-10 - val_keras_psnr: 26.6482 - val_keras_ssim: 0.4892\n"
     ]
    },
    {
     "data": {
      "application/vnd.jupyter.widget-view+json": {
       "model_id": "",
       "version_major": 2,
       "version_minor": 0
      },
      "text/plain": [
       "HBox(children=(IntProgress(value=0, description='Epoch 243', max=10, style=ProgressStyle(description_width='in…"
      ]
     },
     "metadata": {},
     "output_type": "display_data"
    },
    {
     "name": "stdout",
     "output_type": "stream",
     "text": [
      "Epoch 244/1000\n",
      "10/10 - 29s - loss: 1.1508e-05 - mean_squared_error: 2.0846e-10 - keras_psnr: 24.6242 - keras_ssim: 0.3597 - val_loss: 1.1351e-05 - val_mean_squared_error: 2.9934e-10 - val_keras_psnr: 26.6299 - val_keras_ssim: 0.4889\n"
     ]
    },
    {
     "data": {
      "application/vnd.jupyter.widget-view+json": {
       "model_id": "",
       "version_major": 2,
       "version_minor": 0
      },
      "text/plain": [
       "HBox(children=(IntProgress(value=0, description='Epoch 244', max=10, style=ProgressStyle(description_width='in…"
      ]
     },
     "metadata": {},
     "output_type": "display_data"
    },
    {
     "name": "stdout",
     "output_type": "stream",
     "text": [
      "Epoch 245/1000\n",
      "10/10 - 29s - loss: 9.2897e-06 - mean_squared_error: 1.3722e-10 - keras_psnr: 25.7477 - keras_ssim: 0.4550 - val_loss: 1.1349e-05 - val_mean_squared_error: 2.9908e-10 - val_keras_psnr: 26.6346 - val_keras_ssim: 0.4889\n"
     ]
    },
    {
     "data": {
      "application/vnd.jupyter.widget-view+json": {
       "model_id": "",
       "version_major": 2,
       "version_minor": 0
      },
      "text/plain": [
       "HBox(children=(IntProgress(value=0, description='Epoch 245', max=10, style=ProgressStyle(description_width='in…"
      ]
     },
     "metadata": {},
     "output_type": "display_data"
    },
    {
     "name": "stdout",
     "output_type": "stream",
     "text": [
      "Epoch 246/1000\n",
      "10/10 - 29s - loss: 1.5878e-05 - mean_squared_error: 8.3653e-10 - keras_psnr: 24.6851 - keras_ssim: 0.4587 - val_loss: 1.1356e-05 - val_mean_squared_error: 3.0003e-10 - val_keras_psnr: 26.6226 - val_keras_ssim: 0.4887\n"
     ]
    },
    {
     "data": {
      "application/vnd.jupyter.widget-view+json": {
       "model_id": "",
       "version_major": 2,
       "version_minor": 0
      },
      "text/plain": [
       "HBox(children=(IntProgress(value=0, description='Epoch 246', max=10, style=ProgressStyle(description_width='in…"
      ]
     },
     "metadata": {},
     "output_type": "display_data"
    },
    {
     "name": "stdout",
     "output_type": "stream",
     "text": [
      "Epoch 247/1000\n",
      "10/10 - 29s - loss: 1.4997e-05 - mean_squared_error: 6.6496e-10 - keras_psnr: 24.1503 - keras_ssim: 0.4602 - val_loss: 1.1326e-05 - val_mean_squared_error: 2.9841e-10 - val_keras_psnr: 26.6504 - val_keras_ssim: 0.4895\n"
     ]
    },
    {
     "data": {
      "application/vnd.jupyter.widget-view+json": {
       "model_id": "",
       "version_major": 2,
       "version_minor": 0
      },
      "text/plain": [
       "HBox(children=(IntProgress(value=0, description='Epoch 247', max=10, style=ProgressStyle(description_width='in…"
      ]
     },
     "metadata": {},
     "output_type": "display_data"
    },
    {
     "name": "stdout",
     "output_type": "stream",
     "text": [
      "Epoch 248/1000\n",
      "10/10 - 29s - loss: 1.1162e-05 - mean_squared_error: 3.5396e-10 - keras_psnr: 26.3908 - keras_ssim: 0.5491 - val_loss: 1.1327e-05 - val_mean_squared_error: 2.9802e-10 - val_keras_psnr: 26.6722 - val_keras_ssim: 0.4899\n"
     ]
    },
    {
     "data": {
      "application/vnd.jupyter.widget-view+json": {
       "model_id": "",
       "version_major": 2,
       "version_minor": 0
      },
      "text/plain": [
       "HBox(children=(IntProgress(value=0, description='Epoch 248', max=10, style=ProgressStyle(description_width='in…"
      ]
     },
     "metadata": {},
     "output_type": "display_data"
    },
    {
     "name": "stdout",
     "output_type": "stream",
     "text": [
      "Epoch 249/1000\n",
      "10/10 - 29s - loss: 1.5073e-05 - mean_squared_error: 9.2769e-10 - keras_psnr: 23.8240 - keras_ssim: 0.3797 - val_loss: 1.1336e-05 - val_mean_squared_error: 2.9947e-10 - val_keras_psnr: 26.6774 - val_keras_ssim: 0.4902\n"
     ]
    },
    {
     "data": {
      "application/vnd.jupyter.widget-view+json": {
       "model_id": "",
       "version_major": 2,
       "version_minor": 0
      },
      "text/plain": [
       "HBox(children=(IntProgress(value=0, description='Epoch 249', max=10, style=ProgressStyle(description_width='in…"
      ]
     },
     "metadata": {},
     "output_type": "display_data"
    },
    {
     "name": "stdout",
     "output_type": "stream",
     "text": [
      "Epoch 250/1000\n",
      "10/10 - 29s - loss: 1.2276e-05 - mean_squared_error: 3.7795e-10 - keras_psnr: 27.0101 - keras_ssim: 0.5555 - val_loss: 1.1307e-05 - val_mean_squared_error: 2.9747e-10 - val_keras_psnr: 26.6757 - val_keras_ssim: 0.4900\n"
     ]
    },
    {
     "data": {
      "application/vnd.jupyter.widget-view+json": {
       "model_id": "",
       "version_major": 2,
       "version_minor": 0
      },
      "text/plain": [
       "HBox(children=(IntProgress(value=0, description='Epoch 250', max=10, style=ProgressStyle(description_width='in…"
      ]
     },
     "metadata": {},
     "output_type": "display_data"
    },
    {
     "name": "stdout",
     "output_type": "stream",
     "text": [
      "Epoch 251/1000\n",
      "10/10 - 29s - loss: 1.0082e-05 - mean_squared_error: 1.4696e-10 - keras_psnr: 24.9384 - keras_ssim: 0.3810 - val_loss: 1.1317e-05 - val_mean_squared_error: 2.9796e-10 - val_keras_psnr: 26.6649 - val_keras_ssim: 0.4897\n"
     ]
    },
    {
     "data": {
      "application/vnd.jupyter.widget-view+json": {
       "model_id": "",
       "version_major": 2,
       "version_minor": 0
      },
      "text/plain": [
       "HBox(children=(IntProgress(value=0, description='Epoch 251', max=10, style=ProgressStyle(description_width='in…"
      ]
     },
     "metadata": {},
     "output_type": "display_data"
    },
    {
     "name": "stdout",
     "output_type": "stream",
     "text": [
      "Epoch 252/1000\n",
      "10/10 - 29s - loss: 1.1773e-05 - mean_squared_error: 2.3139e-10 - keras_psnr: 26.5267 - keras_ssim: 0.4819 - val_loss: 1.1296e-05 - val_mean_squared_error: 2.9644e-10 - val_keras_psnr: 26.6817 - val_keras_ssim: 0.4903\n"
     ]
    },
    {
     "data": {
      "application/vnd.jupyter.widget-view+json": {
       "model_id": "",
       "version_major": 2,
       "version_minor": 0
      },
      "text/plain": [
       "HBox(children=(IntProgress(value=0, description='Epoch 252', max=10, style=ProgressStyle(description_width='in…"
      ]
     },
     "metadata": {},
     "output_type": "display_data"
    },
    {
     "name": "stdout",
     "output_type": "stream",
     "text": [
      "Epoch 253/1000\n",
      "10/10 - 29s - loss: 1.4014e-05 - mean_squared_error: 4.2071e-10 - keras_psnr: 25.6102 - keras_ssim: 0.4649 - val_loss: 1.1293e-05 - val_mean_squared_error: 2.9654e-10 - val_keras_psnr: 26.6996 - val_keras_ssim: 0.4909\n"
     ]
    },
    {
     "data": {
      "application/vnd.jupyter.widget-view+json": {
       "model_id": "",
       "version_major": 2,
       "version_minor": 0
      },
      "text/plain": [
       "HBox(children=(IntProgress(value=0, description='Epoch 253', max=10, style=ProgressStyle(description_width='in…"
      ]
     },
     "metadata": {},
     "output_type": "display_data"
    },
    {
     "name": "stdout",
     "output_type": "stream",
     "text": [
      "Epoch 254/1000\n",
      "10/10 - 29s - loss: 1.2062e-05 - mean_squared_error: 2.4175e-10 - keras_psnr: 25.9622 - keras_ssim: 0.4529 - val_loss: 1.1318e-05 - val_mean_squared_error: 2.9845e-10 - val_keras_psnr: 26.6955 - val_keras_ssim: 0.4908\n"
     ]
    },
    {
     "data": {
      "application/vnd.jupyter.widget-view+json": {
       "model_id": "",
       "version_major": 2,
       "version_minor": 0
      },
      "text/plain": [
       "HBox(children=(IntProgress(value=0, description='Epoch 254', max=10, style=ProgressStyle(description_width='in…"
      ]
     },
     "metadata": {},
     "output_type": "display_data"
    },
    {
     "name": "stdout",
     "output_type": "stream",
     "text": [
      "Epoch 255/1000\n",
      "10/10 - 29s - loss: 1.2077e-05 - mean_squared_error: 3.2826e-10 - keras_psnr: 26.1525 - keras_ssim: 0.5106 - val_loss: 1.1301e-05 - val_mean_squared_error: 2.9709e-10 - val_keras_psnr: 26.7003 - val_keras_ssim: 0.4909\n"
     ]
    },
    {
     "data": {
      "application/vnd.jupyter.widget-view+json": {
       "model_id": "",
       "version_major": 2,
       "version_minor": 0
      },
      "text/plain": [
       "HBox(children=(IntProgress(value=0, description='Epoch 255', max=10, style=ProgressStyle(description_width='in…"
      ]
     },
     "metadata": {},
     "output_type": "display_data"
    },
    {
     "name": "stdout",
     "output_type": "stream",
     "text": [
      "Epoch 256/1000\n",
      "10/10 - 29s - loss: 1.0876e-05 - mean_squared_error: 3.0429e-10 - keras_psnr: 26.1125 - keras_ssim: 0.4746 - val_loss: 1.1291e-05 - val_mean_squared_error: 2.9634e-10 - val_keras_psnr: 26.6976 - val_keras_ssim: 0.4909\n"
     ]
    },
    {
     "data": {
      "application/vnd.jupyter.widget-view+json": {
       "model_id": "",
       "version_major": 2,
       "version_minor": 0
      },
      "text/plain": [
       "HBox(children=(IntProgress(value=0, description='Epoch 256', max=10, style=ProgressStyle(description_width='in…"
      ]
     },
     "metadata": {},
     "output_type": "display_data"
    },
    {
     "name": "stdout",
     "output_type": "stream",
     "text": [
      "Epoch 257/1000\n",
      "10/10 - 29s - loss: 9.7303e-06 - mean_squared_error: 1.5457e-10 - keras_psnr: 25.2952 - keras_ssim: 0.3935 - val_loss: 1.1284e-05 - val_mean_squared_error: 2.9629e-10 - val_keras_psnr: 26.7000 - val_keras_ssim: 0.4910\n"
     ]
    },
    {
     "data": {
      "application/vnd.jupyter.widget-view+json": {
       "model_id": "",
       "version_major": 2,
       "version_minor": 0
      },
      "text/plain": [
       "HBox(children=(IntProgress(value=0, description='Epoch 257', max=10, style=ProgressStyle(description_width='in…"
      ]
     },
     "metadata": {},
     "output_type": "display_data"
    },
    {
     "name": "stdout",
     "output_type": "stream",
     "text": [
      "Epoch 258/1000\n",
      "10/10 - 30s - loss: 1.7287e-05 - mean_squared_error: 8.4986e-10 - keras_psnr: 26.9996 - keras_ssim: 0.6152 - val_loss: 1.1293e-05 - val_mean_squared_error: 2.9695e-10 - val_keras_psnr: 26.6743 - val_keras_ssim: 0.4903\n"
     ]
    },
    {
     "data": {
      "application/vnd.jupyter.widget-view+json": {
       "model_id": "",
       "version_major": 2,
       "version_minor": 0
      },
      "text/plain": [
       "HBox(children=(IntProgress(value=0, description='Epoch 258', max=10, style=ProgressStyle(description_width='in…"
      ]
     },
     "metadata": {},
     "output_type": "display_data"
    },
    {
     "name": "stdout",
     "output_type": "stream",
     "text": [
      "Epoch 259/1000\n",
      "10/10 - 29s - loss: 1.6383e-05 - mean_squared_error: 5.5340e-10 - keras_psnr: 25.7964 - keras_ssim: 0.5462 - val_loss: 1.1274e-05 - val_mean_squared_error: 2.9497e-10 - val_keras_psnr: 26.6842 - val_keras_ssim: 0.4906\n"
     ]
    },
    {
     "data": {
      "application/vnd.jupyter.widget-view+json": {
       "model_id": "",
       "version_major": 2,
       "version_minor": 0
      },
      "text/plain": [
       "HBox(children=(IntProgress(value=0, description='Epoch 259', max=10, style=ProgressStyle(description_width='in…"
      ]
     },
     "metadata": {},
     "output_type": "display_data"
    },
    {
     "name": "stdout",
     "output_type": "stream",
     "text": [
      "Epoch 260/1000\n",
      "10/10 - 29s - loss: 1.2449e-05 - mean_squared_error: 3.8118e-10 - keras_psnr: 24.9988 - keras_ssim: 0.4344 - val_loss: 1.1260e-05 - val_mean_squared_error: 2.9472e-10 - val_keras_psnr: 26.7025 - val_keras_ssim: 0.4913\n"
     ]
    },
    {
     "data": {
      "application/vnd.jupyter.widget-view+json": {
       "model_id": "",
       "version_major": 2,
       "version_minor": 0
      },
      "text/plain": [
       "HBox(children=(IntProgress(value=0, description='Epoch 260', max=10, style=ProgressStyle(description_width='in…"
      ]
     },
     "metadata": {},
     "output_type": "display_data"
    },
    {
     "name": "stdout",
     "output_type": "stream",
     "text": [
      "Epoch 261/1000\n",
      "10/10 - 29s - loss: 1.1771e-05 - mean_squared_error: 1.9480e-10 - keras_psnr: 26.0718 - keras_ssim: 0.4652 - val_loss: 1.1249e-05 - val_mean_squared_error: 2.9336e-10 - val_keras_psnr: 26.7113 - val_keras_ssim: 0.4916\n"
     ]
    },
    {
     "data": {
      "application/vnd.jupyter.widget-view+json": {
       "model_id": "",
       "version_major": 2,
       "version_minor": 0
      },
      "text/plain": [
       "HBox(children=(IntProgress(value=0, description='Epoch 261', max=10, style=ProgressStyle(description_width='in…"
      ]
     },
     "metadata": {},
     "output_type": "display_data"
    },
    {
     "name": "stdout",
     "output_type": "stream",
     "text": [
      "Epoch 262/1000\n",
      "10/10 - 29s - loss: 1.5424e-05 - mean_squared_error: 5.3226e-10 - keras_psnr: 26.2874 - keras_ssim: 0.5603 - val_loss: 1.1260e-05 - val_mean_squared_error: 2.9448e-10 - val_keras_psnr: 26.7086 - val_keras_ssim: 0.4914\n"
     ]
    },
    {
     "data": {
      "application/vnd.jupyter.widget-view+json": {
       "model_id": "",
       "version_major": 2,
       "version_minor": 0
      },
      "text/plain": [
       "HBox(children=(IntProgress(value=0, description='Epoch 262', max=10, style=ProgressStyle(description_width='in…"
      ]
     },
     "metadata": {},
     "output_type": "display_data"
    },
    {
     "name": "stdout",
     "output_type": "stream",
     "text": [
      "Epoch 263/1000\n",
      "10/10 - 29s - loss: 9.4676e-06 - mean_squared_error: 2.4607e-10 - keras_psnr: 27.4319 - keras_ssim: 0.5209 - val_loss: 1.1264e-05 - val_mean_squared_error: 2.9519e-10 - val_keras_psnr: 26.7135 - val_keras_ssim: 0.4916\n"
     ]
    },
    {
     "data": {
      "application/vnd.jupyter.widget-view+json": {
       "model_id": "",
       "version_major": 2,
       "version_minor": 0
      },
      "text/plain": [
       "HBox(children=(IntProgress(value=0, description='Epoch 263', max=10, style=ProgressStyle(description_width='in…"
      ]
     },
     "metadata": {},
     "output_type": "display_data"
    },
    {
     "name": "stdout",
     "output_type": "stream",
     "text": [
      "Epoch 264/1000\n",
      "10/10 - 29s - loss: 1.1970e-05 - mean_squared_error: 3.0352e-10 - keras_psnr: 25.4588 - keras_ssim: 0.4605 - val_loss: 1.1243e-05 - val_mean_squared_error: 2.9345e-10 - val_keras_psnr: 26.7249 - val_keras_ssim: 0.4919\n"
     ]
    },
    {
     "data": {
      "application/vnd.jupyter.widget-view+json": {
       "model_id": "",
       "version_major": 2,
       "version_minor": 0
      },
      "text/plain": [
       "HBox(children=(IntProgress(value=0, description='Epoch 264', max=10, style=ProgressStyle(description_width='in…"
      ]
     },
     "metadata": {},
     "output_type": "display_data"
    },
    {
     "name": "stdout",
     "output_type": "stream",
     "text": [
      "Epoch 265/1000\n",
      "10/10 - 29s - loss: 1.2031e-05 - mean_squared_error: 3.1256e-10 - keras_psnr: 24.5249 - keras_ssim: 0.3962 - val_loss: 1.1247e-05 - val_mean_squared_error: 2.9391e-10 - val_keras_psnr: 26.7135 - val_keras_ssim: 0.4915\n"
     ]
    },
    {
     "data": {
      "application/vnd.jupyter.widget-view+json": {
       "model_id": "",
       "version_major": 2,
       "version_minor": 0
      },
      "text/plain": [
       "HBox(children=(IntProgress(value=0, description='Epoch 265', max=10, style=ProgressStyle(description_width='in…"
      ]
     },
     "metadata": {},
     "output_type": "display_data"
    },
    {
     "name": "stdout",
     "output_type": "stream",
     "text": [
      "Epoch 266/1000\n",
      "10/10 - 29s - loss: 1.5350e-05 - mean_squared_error: 1.5580e-09 - keras_psnr: 25.0961 - keras_ssim: 0.4864 - val_loss: 1.1231e-05 - val_mean_squared_error: 2.9303e-10 - val_keras_psnr: 26.7202 - val_keras_ssim: 0.4917\n"
     ]
    },
    {
     "data": {
      "application/vnd.jupyter.widget-view+json": {
       "model_id": "",
       "version_major": 2,
       "version_minor": 0
      },
      "text/plain": [
       "HBox(children=(IntProgress(value=0, description='Epoch 266', max=10, style=ProgressStyle(description_width='in…"
      ]
     },
     "metadata": {},
     "output_type": "display_data"
    },
    {
     "name": "stdout",
     "output_type": "stream",
     "text": [
      "Epoch 267/1000\n",
      "10/10 - 29s - loss: 1.4352e-05 - mean_squared_error: 6.4314e-10 - keras_psnr: 25.6947 - keras_ssim: 0.5425 - val_loss: 1.1219e-05 - val_mean_squared_error: 2.9180e-10 - val_keras_psnr: 26.7202 - val_keras_ssim: 0.4918\n"
     ]
    },
    {
     "data": {
      "application/vnd.jupyter.widget-view+json": {
       "model_id": "",
       "version_major": 2,
       "version_minor": 0
      },
      "text/plain": [
       "HBox(children=(IntProgress(value=0, description='Epoch 267', max=10, style=ProgressStyle(description_width='in…"
      ]
     },
     "metadata": {},
     "output_type": "display_data"
    },
    {
     "name": "stdout",
     "output_type": "stream",
     "text": [
      "Epoch 268/1000\n",
      "10/10 - 30s - loss: 8.7170e-06 - mean_squared_error: 1.1075e-10 - keras_psnr: 25.7454 - keras_ssim: 0.4212 - val_loss: 1.1236e-05 - val_mean_squared_error: 2.9366e-10 - val_keras_psnr: 26.7178 - val_keras_ssim: 0.4919\n"
     ]
    },
    {
     "data": {
      "application/vnd.jupyter.widget-view+json": {
       "model_id": "",
       "version_major": 2,
       "version_minor": 0
      },
      "text/plain": [
       "HBox(children=(IntProgress(value=0, description='Epoch 268', max=10, style=ProgressStyle(description_width='in…"
      ]
     },
     "metadata": {},
     "output_type": "display_data"
    },
    {
     "name": "stdout",
     "output_type": "stream",
     "text": [
      "Epoch 269/1000\n",
      "10/10 - 30s - loss: 1.3244e-05 - mean_squared_error: 4.5172e-10 - keras_psnr: 25.4525 - keras_ssim: 0.4760 - val_loss: 1.1231e-05 - val_mean_squared_error: 2.9356e-10 - val_keras_psnr: 26.7250 - val_keras_ssim: 0.4921\n"
     ]
    },
    {
     "data": {
      "application/vnd.jupyter.widget-view+json": {
       "model_id": "",
       "version_major": 2,
       "version_minor": 0
      },
      "text/plain": [
       "HBox(children=(IntProgress(value=0, description='Epoch 269', max=10, style=ProgressStyle(description_width='in…"
      ]
     },
     "metadata": {},
     "output_type": "display_data"
    },
    {
     "name": "stdout",
     "output_type": "stream",
     "text": [
      "Epoch 270/1000\n",
      "10/10 - 29s - loss: 1.6029e-05 - mean_squared_error: 6.6150e-10 - keras_psnr: 26.6169 - keras_ssim: 0.5769 - val_loss: 1.1206e-05 - val_mean_squared_error: 2.9157e-10 - val_keras_psnr: 26.7482 - val_keras_ssim: 0.4927\n"
     ]
    },
    {
     "data": {
      "application/vnd.jupyter.widget-view+json": {
       "model_id": "",
       "version_major": 2,
       "version_minor": 0
      },
      "text/plain": [
       "HBox(children=(IntProgress(value=0, description='Epoch 270', max=10, style=ProgressStyle(description_width='in…"
      ]
     },
     "metadata": {},
     "output_type": "display_data"
    },
    {
     "name": "stdout",
     "output_type": "stream",
     "text": [
      "Epoch 271/1000\n",
      "10/10 - 30s - loss: 1.5942e-05 - mean_squared_error: 6.5311e-10 - keras_psnr: 24.0550 - keras_ssim: 0.4397 - val_loss: 1.1223e-05 - val_mean_squared_error: 2.9357e-10 - val_keras_psnr: 26.7377 - val_keras_ssim: 0.4925\n"
     ]
    },
    {
     "data": {
      "application/vnd.jupyter.widget-view+json": {
       "model_id": "",
       "version_major": 2,
       "version_minor": 0
      },
      "text/plain": [
       "HBox(children=(IntProgress(value=0, description='Epoch 271', max=10, style=ProgressStyle(description_width='in…"
      ]
     },
     "metadata": {},
     "output_type": "display_data"
    },
    {
     "name": "stdout",
     "output_type": "stream",
     "text": [
      "Epoch 272/1000\n",
      "10/10 - 29s - loss: 1.2966e-05 - mean_squared_error: 3.9641e-10 - keras_psnr: 26.8198 - keras_ssim: 0.5024 - val_loss: 1.1230e-05 - val_mean_squared_error: 2.9399e-10 - val_keras_psnr: 26.7254 - val_keras_ssim: 0.4922\n"
     ]
    },
    {
     "data": {
      "application/vnd.jupyter.widget-view+json": {
       "model_id": "",
       "version_major": 2,
       "version_minor": 0
      },
      "text/plain": [
       "HBox(children=(IntProgress(value=0, description='Epoch 272', max=10, style=ProgressStyle(description_width='in…"
      ]
     },
     "metadata": {},
     "output_type": "display_data"
    },
    {
     "name": "stdout",
     "output_type": "stream",
     "text": [
      "Epoch 273/1000\n",
      "10/10 - 30s - loss: 1.8859e-05 - mean_squared_error: 2.8872e-09 - keras_psnr: 25.4928 - keras_ssim: 0.4969 - val_loss: 1.1216e-05 - val_mean_squared_error: 2.9216e-10 - val_keras_psnr: 26.7174 - val_keras_ssim: 0.4920\n"
     ]
    },
    {
     "data": {
      "application/vnd.jupyter.widget-view+json": {
       "model_id": "",
       "version_major": 2,
       "version_minor": 0
      },
      "text/plain": [
       "HBox(children=(IntProgress(value=0, description='Epoch 273', max=10, style=ProgressStyle(description_width='in…"
      ]
     },
     "metadata": {},
     "output_type": "display_data"
    },
    {
     "name": "stdout",
     "output_type": "stream",
     "text": [
      "Epoch 274/1000\n",
      "10/10 - 29s - loss: 1.1624e-05 - mean_squared_error: 2.6133e-10 - keras_psnr: 26.2642 - keras_ssim: 0.4985 - val_loss: 1.1210e-05 - val_mean_squared_error: 2.9261e-10 - val_keras_psnr: 26.7409 - val_keras_ssim: 0.4927\n"
     ]
    },
    {
     "data": {
      "application/vnd.jupyter.widget-view+json": {
       "model_id": "",
       "version_major": 2,
       "version_minor": 0
      },
      "text/plain": [
       "HBox(children=(IntProgress(value=0, description='Epoch 274', max=10, style=ProgressStyle(description_width='in…"
      ]
     },
     "metadata": {},
     "output_type": "display_data"
    },
    {
     "name": "stdout",
     "output_type": "stream",
     "text": [
      "Epoch 275/1000\n",
      "10/10 - 29s - loss: 1.5580e-05 - mean_squared_error: 4.1615e-10 - keras_psnr: 25.4745 - keras_ssim: 0.5177 - val_loss: 1.1203e-05 - val_mean_squared_error: 2.9210e-10 - val_keras_psnr: 26.7437 - val_keras_ssim: 0.4926\n"
     ]
    },
    {
     "data": {
      "application/vnd.jupyter.widget-view+json": {
       "model_id": "",
       "version_major": 2,
       "version_minor": 0
      },
      "text/plain": [
       "HBox(children=(IntProgress(value=0, description='Epoch 275', max=10, style=ProgressStyle(description_width='in…"
      ]
     },
     "metadata": {},
     "output_type": "display_data"
    },
    {
     "name": "stdout",
     "output_type": "stream",
     "text": [
      "Epoch 276/1000\n",
      "10/10 - 28s - loss: 1.1657e-05 - mean_squared_error: 2.0326e-10 - keras_psnr: 25.4719 - keras_ssim: 0.4257 - val_loss: 1.1186e-05 - val_mean_squared_error: 2.9116e-10 - val_keras_psnr: 26.7488 - val_keras_ssim: 0.4928\n"
     ]
    },
    {
     "data": {
      "application/vnd.jupyter.widget-view+json": {
       "model_id": "",
       "version_major": 2,
       "version_minor": 0
      },
      "text/plain": [
       "HBox(children=(IntProgress(value=0, description='Epoch 276', max=10, style=ProgressStyle(description_width='in…"
      ]
     },
     "metadata": {},
     "output_type": "display_data"
    },
    {
     "name": "stdout",
     "output_type": "stream",
     "text": [
      "Epoch 277/1000\n",
      "10/10 - 29s - loss: 1.1423e-05 - mean_squared_error: 2.9388e-10 - keras_psnr: 26.7514 - keras_ssim: 0.5290 - val_loss: 1.1180e-05 - val_mean_squared_error: 2.9101e-10 - val_keras_psnr: 26.7555 - val_keras_ssim: 0.4930\n"
     ]
    },
    {
     "data": {
      "application/vnd.jupyter.widget-view+json": {
       "model_id": "",
       "version_major": 2,
       "version_minor": 0
      },
      "text/plain": [
       "HBox(children=(IntProgress(value=0, description='Epoch 277', max=10, style=ProgressStyle(description_width='in…"
      ]
     },
     "metadata": {},
     "output_type": "display_data"
    },
    {
     "name": "stdout",
     "output_type": "stream",
     "text": [
      "Epoch 278/1000\n",
      "10/10 - 30s - loss: 1.1789e-05 - mean_squared_error: 2.4802e-10 - keras_psnr: 24.9829 - keras_ssim: 0.4383 - val_loss: 1.1174e-05 - val_mean_squared_error: 2.9045e-10 - val_keras_psnr: 26.7619 - val_keras_ssim: 0.4930\n"
     ]
    },
    {
     "data": {
      "application/vnd.jupyter.widget-view+json": {
       "model_id": "",
       "version_major": 2,
       "version_minor": 0
      },
      "text/plain": [
       "HBox(children=(IntProgress(value=0, description='Epoch 278', max=10, style=ProgressStyle(description_width='in…"
      ]
     },
     "metadata": {},
     "output_type": "display_data"
    },
    {
     "name": "stdout",
     "output_type": "stream",
     "text": [
      "Epoch 279/1000\n",
      "10/10 - 30s - loss: 1.3636e-05 - mean_squared_error: 3.2028e-10 - keras_psnr: 26.3687 - keras_ssim: 0.5395 - val_loss: 1.1182e-05 - val_mean_squared_error: 2.9072e-10 - val_keras_psnr: 26.7477 - val_keras_ssim: 0.4925\n"
     ]
    },
    {
     "data": {
      "application/vnd.jupyter.widget-view+json": {
       "model_id": "",
       "version_major": 2,
       "version_minor": 0
      },
      "text/plain": [
       "HBox(children=(IntProgress(value=0, description='Epoch 279', max=10, style=ProgressStyle(description_width='in…"
      ]
     },
     "metadata": {},
     "output_type": "display_data"
    },
    {
     "name": "stdout",
     "output_type": "stream",
     "text": [
      "Epoch 280/1000\n",
      "10/10 - 29s - loss: 1.2292e-05 - mean_squared_error: 4.1843e-10 - keras_psnr: 25.3788 - keras_ssim: 0.5117 - val_loss: 1.1178e-05 - val_mean_squared_error: 2.9043e-10 - val_keras_psnr: 26.7444 - val_keras_ssim: 0.4926\n"
     ]
    },
    {
     "data": {
      "application/vnd.jupyter.widget-view+json": {
       "model_id": "",
       "version_major": 2,
       "version_minor": 0
      },
      "text/plain": [
       "HBox(children=(IntProgress(value=0, description='Epoch 280', max=10, style=ProgressStyle(description_width='in…"
      ]
     },
     "metadata": {},
     "output_type": "display_data"
    },
    {
     "name": "stdout",
     "output_type": "stream",
     "text": [
      "Epoch 281/1000\n",
      "10/10 - 28s - loss: 1.2950e-05 - mean_squared_error: 4.3415e-10 - keras_psnr: 25.9956 - keras_ssim: 0.4966 - val_loss: 1.1156e-05 - val_mean_squared_error: 2.8822e-10 - val_keras_psnr: 26.7618 - val_keras_ssim: 0.4931\n"
     ]
    },
    {
     "data": {
      "application/vnd.jupyter.widget-view+json": {
       "model_id": "",
       "version_major": 2,
       "version_minor": 0
      },
      "text/plain": [
       "HBox(children=(IntProgress(value=0, description='Epoch 281', max=10, style=ProgressStyle(description_width='in…"
      ]
     },
     "metadata": {},
     "output_type": "display_data"
    },
    {
     "name": "stdout",
     "output_type": "stream",
     "text": [
      "Epoch 282/1000\n",
      "10/10 - 30s - loss: 9.3213e-06 - mean_squared_error: 2.6459e-10 - keras_psnr: 25.8729 - keras_ssim: 0.4823 - val_loss: 1.1164e-05 - val_mean_squared_error: 2.8960e-10 - val_keras_psnr: 26.7703 - val_keras_ssim: 0.4935\n"
     ]
    },
    {
     "data": {
      "application/vnd.jupyter.widget-view+json": {
       "model_id": "",
       "version_major": 2,
       "version_minor": 0
      },
      "text/plain": [
       "HBox(children=(IntProgress(value=0, description='Epoch 282', max=10, style=ProgressStyle(description_width='in…"
      ]
     },
     "metadata": {},
     "output_type": "display_data"
    },
    {
     "name": "stdout",
     "output_type": "stream",
     "text": [
      "Epoch 283/1000\n",
      "10/10 - 29s - loss: 1.1119e-05 - mean_squared_error: 2.9100e-10 - keras_psnr: 25.8561 - keras_ssim: 0.4711 - val_loss: 1.1160e-05 - val_mean_squared_error: 2.8996e-10 - val_keras_psnr: 26.7848 - val_keras_ssim: 0.4940\n"
     ]
    },
    {
     "data": {
      "application/vnd.jupyter.widget-view+json": {
       "model_id": "",
       "version_major": 2,
       "version_minor": 0
      },
      "text/plain": [
       "HBox(children=(IntProgress(value=0, description='Epoch 283', max=10, style=ProgressStyle(description_width='in…"
      ]
     },
     "metadata": {},
     "output_type": "display_data"
    },
    {
     "name": "stdout",
     "output_type": "stream",
     "text": [
      "Epoch 284/1000\n",
      "10/10 - 30s - loss: 1.0004e-05 - mean_squared_error: 1.4467e-10 - keras_psnr: 26.4497 - keras_ssim: 0.4712 - val_loss: 1.1157e-05 - val_mean_squared_error: 2.8901e-10 - val_keras_psnr: 26.7877 - val_keras_ssim: 0.4939\n"
     ]
    },
    {
     "data": {
      "application/vnd.jupyter.widget-view+json": {
       "model_id": "",
       "version_major": 2,
       "version_minor": 0
      },
      "text/plain": [
       "HBox(children=(IntProgress(value=0, description='Epoch 284', max=10, style=ProgressStyle(description_width='in…"
      ]
     },
     "metadata": {},
     "output_type": "display_data"
    },
    {
     "name": "stdout",
     "output_type": "stream",
     "text": [
      "Epoch 285/1000\n",
      "10/10 - 30s - loss: 1.7784e-05 - mean_squared_error: 7.5312e-10 - keras_psnr: 26.0118 - keras_ssim: 0.5929 - val_loss: 1.1152e-05 - val_mean_squared_error: 2.8910e-10 - val_keras_psnr: 26.7682 - val_keras_ssim: 0.4935\n"
     ]
    },
    {
     "data": {
      "application/vnd.jupyter.widget-view+json": {
       "model_id": "",
       "version_major": 2,
       "version_minor": 0
      },
      "text/plain": [
       "HBox(children=(IntProgress(value=0, description='Epoch 285', max=10, style=ProgressStyle(description_width='in…"
      ]
     },
     "metadata": {},
     "output_type": "display_data"
    },
    {
     "name": "stdout",
     "output_type": "stream",
     "text": [
      "Epoch 286/1000\n",
      "10/10 - 29s - loss: 1.6486e-05 - mean_squared_error: 6.2841e-10 - keras_psnr: 24.1854 - keras_ssim: 0.4628 - val_loss: 1.1151e-05 - val_mean_squared_error: 2.8880e-10 - val_keras_psnr: 26.7599 - val_keras_ssim: 0.4933\n"
     ]
    },
    {
     "data": {
      "application/vnd.jupyter.widget-view+json": {
       "model_id": "",
       "version_major": 2,
       "version_minor": 0
      },
      "text/plain": [
       "HBox(children=(IntProgress(value=0, description='Epoch 286', max=10, style=ProgressStyle(description_width='in…"
      ]
     },
     "metadata": {},
     "output_type": "display_data"
    },
    {
     "name": "stdout",
     "output_type": "stream",
     "text": [
      "Epoch 287/1000\n",
      "10/10 - 30s - loss: 1.0254e-05 - mean_squared_error: 2.5051e-10 - keras_psnr: 26.5008 - keras_ssim: 0.5256 - val_loss: 1.1127e-05 - val_mean_squared_error: 2.8708e-10 - val_keras_psnr: 26.7842 - val_keras_ssim: 0.4938\n"
     ]
    },
    {
     "data": {
      "application/vnd.jupyter.widget-view+json": {
       "model_id": "",
       "version_major": 2,
       "version_minor": 0
      },
      "text/plain": [
       "HBox(children=(IntProgress(value=0, description='Epoch 287', max=10, style=ProgressStyle(description_width='in…"
      ]
     },
     "metadata": {},
     "output_type": "display_data"
    },
    {
     "name": "stdout",
     "output_type": "stream",
     "text": [
      "Epoch 288/1000\n",
      "10/10 - 30s - loss: 1.2864e-05 - mean_squared_error: 4.5373e-10 - keras_psnr: 23.7915 - keras_ssim: 0.4140 - val_loss: 1.1126e-05 - val_mean_squared_error: 2.8780e-10 - val_keras_psnr: 26.7945 - val_keras_ssim: 0.4943\n"
     ]
    },
    {
     "data": {
      "application/vnd.jupyter.widget-view+json": {
       "model_id": "",
       "version_major": 2,
       "version_minor": 0
      },
      "text/plain": [
       "HBox(children=(IntProgress(value=0, description='Epoch 288', max=10, style=ProgressStyle(description_width='in…"
      ]
     },
     "metadata": {},
     "output_type": "display_data"
    },
    {
     "name": "stdout",
     "output_type": "stream",
     "text": [
      "Epoch 289/1000\n",
      "10/10 - 30s - loss: 1.3559e-05 - mean_squared_error: 5.3545e-10 - keras_psnr: 26.2224 - keras_ssim: 0.5553 - val_loss: 1.1141e-05 - val_mean_squared_error: 2.8871e-10 - val_keras_psnr: 26.7839 - val_keras_ssim: 0.4939\n"
     ]
    },
    {
     "data": {
      "application/vnd.jupyter.widget-view+json": {
       "model_id": "",
       "version_major": 2,
       "version_minor": 0
      },
      "text/plain": [
       "HBox(children=(IntProgress(value=0, description='Epoch 289', max=10, style=ProgressStyle(description_width='in…"
      ]
     },
     "metadata": {},
     "output_type": "display_data"
    },
    {
     "name": "stdout",
     "output_type": "stream",
     "text": [
      "Epoch 290/1000\n",
      "10/10 - 28s - loss: 1.0706e-05 - mean_squared_error: 2.1770e-10 - keras_psnr: 25.8598 - keras_ssim: 0.4424 - val_loss: 1.1121e-05 - val_mean_squared_error: 2.8721e-10 - val_keras_psnr: 26.8002 - val_keras_ssim: 0.4944\n"
     ]
    },
    {
     "data": {
      "application/vnd.jupyter.widget-view+json": {
       "model_id": "",
       "version_major": 2,
       "version_minor": 0
      },
      "text/plain": [
       "HBox(children=(IntProgress(value=0, description='Epoch 290', max=10, style=ProgressStyle(description_width='in…"
      ]
     },
     "metadata": {},
     "output_type": "display_data"
    },
    {
     "name": "stdout",
     "output_type": "stream",
     "text": [
      "Epoch 291/1000\n",
      "10/10 - 29s - loss: 1.1229e-05 - mean_squared_error: 1.9467e-10 - keras_psnr: 25.2206 - keras_ssim: 0.3906 - val_loss: 1.1118e-05 - val_mean_squared_error: 2.8736e-10 - val_keras_psnr: 26.8142 - val_keras_ssim: 0.4951\n"
     ]
    },
    {
     "data": {
      "application/vnd.jupyter.widget-view+json": {
       "model_id": "",
       "version_major": 2,
       "version_minor": 0
      },
      "text/plain": [
       "HBox(children=(IntProgress(value=0, description='Epoch 291', max=10, style=ProgressStyle(description_width='in…"
      ]
     },
     "metadata": {},
     "output_type": "display_data"
    },
    {
     "name": "stdout",
     "output_type": "stream",
     "text": [
      "Epoch 292/1000\n",
      "10/10 - 31s - loss: 1.3241e-05 - mean_squared_error: 3.7432e-10 - keras_psnr: 26.7683 - keras_ssim: 0.5682 - val_loss: 1.1100e-05 - val_mean_squared_error: 2.8622e-10 - val_keras_psnr: 26.8125 - val_keras_ssim: 0.4949\n"
     ]
    },
    {
     "data": {
      "application/vnd.jupyter.widget-view+json": {
       "model_id": "",
       "version_major": 2,
       "version_minor": 0
      },
      "text/plain": [
       "HBox(children=(IntProgress(value=0, description='Epoch 292', max=10, style=ProgressStyle(description_width='in…"
      ]
     },
     "metadata": {},
     "output_type": "display_data"
    },
    {
     "name": "stdout",
     "output_type": "stream",
     "text": [
      "Epoch 293/1000\n",
      "10/10 - 29s - loss: 1.4952e-05 - mean_squared_error: 7.5320e-10 - keras_psnr: 25.8888 - keras_ssim: 0.5169 - val_loss: 1.1126e-05 - val_mean_squared_error: 2.8716e-10 - val_keras_psnr: 26.7775 - val_keras_ssim: 0.4941\n"
     ]
    },
    {
     "data": {
      "application/vnd.jupyter.widget-view+json": {
       "model_id": "",
       "version_major": 2,
       "version_minor": 0
      },
      "text/plain": [
       "HBox(children=(IntProgress(value=0, description='Epoch 293', max=10, style=ProgressStyle(description_width='in…"
      ]
     },
     "metadata": {},
     "output_type": "display_data"
    },
    {
     "name": "stdout",
     "output_type": "stream",
     "text": [
      "Epoch 294/1000\n",
      "10/10 - 29s - loss: 1.5192e-05 - mean_squared_error: 7.5666e-10 - keras_psnr: 24.6442 - keras_ssim: 0.4602 - val_loss: 1.1117e-05 - val_mean_squared_error: 2.8677e-10 - val_keras_psnr: 26.7864 - val_keras_ssim: 0.4944\n"
     ]
    },
    {
     "data": {
      "application/vnd.jupyter.widget-view+json": {
       "model_id": "",
       "version_major": 2,
       "version_minor": 0
      },
      "text/plain": [
       "HBox(children=(IntProgress(value=0, description='Epoch 294', max=10, style=ProgressStyle(description_width='in…"
      ]
     },
     "metadata": {},
     "output_type": "display_data"
    },
    {
     "name": "stdout",
     "output_type": "stream",
     "text": [
      "Epoch 295/1000\n",
      "10/10 - 30s - loss: 1.4791e-05 - mean_squared_error: 7.2837e-10 - keras_psnr: 27.0442 - keras_ssim: 0.5891 - val_loss: 1.1119e-05 - val_mean_squared_error: 2.8763e-10 - val_keras_psnr: 26.8096 - val_keras_ssim: 0.4949\n"
     ]
    },
    {
     "data": {
      "application/vnd.jupyter.widget-view+json": {
       "model_id": "",
       "version_major": 2,
       "version_minor": 0
      },
      "text/plain": [
       "HBox(children=(IntProgress(value=0, description='Epoch 295', max=10, style=ProgressStyle(description_width='in…"
      ]
     },
     "metadata": {},
     "output_type": "display_data"
    },
    {
     "name": "stdout",
     "output_type": "stream",
     "text": [
      "Epoch 296/1000\n",
      "10/10 - 29s - loss: 1.3298e-05 - mean_squared_error: 3.7759e-10 - keras_psnr: 26.1789 - keras_ssim: 0.5293 - val_loss: 1.1100e-05 - val_mean_squared_error: 2.8646e-10 - val_keras_psnr: 26.8302 - val_keras_ssim: 0.4957\n"
     ]
    },
    {
     "data": {
      "application/vnd.jupyter.widget-view+json": {
       "model_id": "",
       "version_major": 2,
       "version_minor": 0
      },
      "text/plain": [
       "HBox(children=(IntProgress(value=0, description='Epoch 296', max=10, style=ProgressStyle(description_width='in…"
      ]
     },
     "metadata": {},
     "output_type": "display_data"
    },
    {
     "name": "stdout",
     "output_type": "stream",
     "text": [
      "Epoch 297/1000\n",
      "10/10 - 30s - loss: 1.2596e-05 - mean_squared_error: 4.7983e-10 - keras_psnr: 26.1474 - keras_ssim: 0.5467 - val_loss: 1.1102e-05 - val_mean_squared_error: 2.8585e-10 - val_keras_psnr: 26.8107 - val_keras_ssim: 0.4949\n"
     ]
    },
    {
     "data": {
      "application/vnd.jupyter.widget-view+json": {
       "model_id": "",
       "version_major": 2,
       "version_minor": 0
      },
      "text/plain": [
       "HBox(children=(IntProgress(value=0, description='Epoch 297', max=10, style=ProgressStyle(description_width='in…"
      ]
     },
     "metadata": {},
     "output_type": "display_data"
    },
    {
     "name": "stdout",
     "output_type": "stream",
     "text": [
      "Epoch 298/1000\n",
      "10/10 - 30s - loss: 1.5717e-05 - mean_squared_error: 5.8484e-10 - keras_psnr: 25.5316 - keras_ssim: 0.5028 - val_loss: 1.1089e-05 - val_mean_squared_error: 2.8502e-10 - val_keras_psnr: 26.8256 - val_keras_ssim: 0.4954\n"
     ]
    },
    {
     "data": {
      "application/vnd.jupyter.widget-view+json": {
       "model_id": "",
       "version_major": 2,
       "version_minor": 0
      },
      "text/plain": [
       "HBox(children=(IntProgress(value=0, description='Epoch 298', max=10, style=ProgressStyle(description_width='in…"
      ]
     },
     "metadata": {},
     "output_type": "display_data"
    },
    {
     "name": "stdout",
     "output_type": "stream",
     "text": [
      "Epoch 299/1000\n",
      "10/10 - 29s - loss: 1.2958e-05 - mean_squared_error: 2.9173e-10 - keras_psnr: 25.8399 - keras_ssim: 0.4917 - val_loss: 1.1091e-05 - val_mean_squared_error: 2.8611e-10 - val_keras_psnr: 26.8171 - val_keras_ssim: 0.4953\n"
     ]
    },
    {
     "data": {
      "application/vnd.jupyter.widget-view+json": {
       "model_id": "",
       "version_major": 2,
       "version_minor": 0
      },
      "text/plain": [
       "HBox(children=(IntProgress(value=0, description='Epoch 299', max=10, style=ProgressStyle(description_width='in…"
      ]
     },
     "metadata": {},
     "output_type": "display_data"
    },
    {
     "name": "stdout",
     "output_type": "stream",
     "text": [
      "Epoch 300/1000\n",
      "10/10 - 29s - loss: 1.4737e-05 - mean_squared_error: 5.9280e-10 - keras_psnr: 27.1866 - keras_ssim: 0.5474 - val_loss: 1.1096e-05 - val_mean_squared_error: 2.8595e-10 - val_keras_psnr: 26.8103 - val_keras_ssim: 0.4950\n"
     ]
    },
    {
     "data": {
      "application/vnd.jupyter.widget-view+json": {
       "model_id": "",
       "version_major": 2,
       "version_minor": 0
      },
      "text/plain": [
       "HBox(children=(IntProgress(value=0, description='Epoch 300', max=10, style=ProgressStyle(description_width='in…"
      ]
     },
     "metadata": {},
     "output_type": "display_data"
    },
    {
     "name": "stdout",
     "output_type": "stream",
     "text": [
      "Epoch 301/1000\n",
      "10/10 - 29s - loss: 1.4729e-05 - mean_squared_error: 4.3895e-10 - keras_psnr: 26.2288 - keras_ssim: 0.5041 - val_loss: 1.1084e-05 - val_mean_squared_error: 2.8566e-10 - val_keras_psnr: 26.8153 - val_keras_ssim: 0.4952\n"
     ]
    },
    {
     "data": {
      "application/vnd.jupyter.widget-view+json": {
       "model_id": "",
       "version_major": 2,
       "version_minor": 0
      },
      "text/plain": [
       "HBox(children=(IntProgress(value=0, description='Epoch 301', max=10, style=ProgressStyle(description_width='in…"
      ]
     },
     "metadata": {},
     "output_type": "display_data"
    },
    {
     "name": "stdout",
     "output_type": "stream",
     "text": [
      "Epoch 302/1000\n",
      "10/10 - 29s - loss: 1.5258e-05 - mean_squared_error: 4.1977e-10 - keras_psnr: 25.0385 - keras_ssim: 0.4552 - val_loss: 1.1078e-05 - val_mean_squared_error: 2.8514e-10 - val_keras_psnr: 26.8287 - val_keras_ssim: 0.4957\n"
     ]
    },
    {
     "data": {
      "application/vnd.jupyter.widget-view+json": {
       "model_id": "",
       "version_major": 2,
       "version_minor": 0
      },
      "text/plain": [
       "HBox(children=(IntProgress(value=0, description='Epoch 302', max=10, style=ProgressStyle(description_width='in…"
      ]
     },
     "metadata": {},
     "output_type": "display_data"
    },
    {
     "name": "stdout",
     "output_type": "stream",
     "text": [
      "Epoch 303/1000\n",
      "10/10 - 29s - loss: 1.5596e-05 - mean_squared_error: 7.1439e-10 - keras_psnr: 25.2956 - keras_ssim: 0.4891 - val_loss: 1.1068e-05 - val_mean_squared_error: 2.8451e-10 - val_keras_psnr: 26.8247 - val_keras_ssim: 0.4955\n"
     ]
    },
    {
     "data": {
      "application/vnd.jupyter.widget-view+json": {
       "model_id": "",
       "version_major": 2,
       "version_minor": 0
      },
      "text/plain": [
       "HBox(children=(IntProgress(value=0, description='Epoch 303', max=10, style=ProgressStyle(description_width='in…"
      ]
     },
     "metadata": {},
     "output_type": "display_data"
    },
    {
     "name": "stdout",
     "output_type": "stream",
     "text": [
      "Epoch 304/1000\n",
      "10/10 - 29s - loss: 1.1235e-05 - mean_squared_error: 2.8126e-10 - keras_psnr: 26.5166 - keras_ssim: 0.5065 - val_loss: 1.1067e-05 - val_mean_squared_error: 2.8471e-10 - val_keras_psnr: 26.8218 - val_keras_ssim: 0.4956\n"
     ]
    },
    {
     "data": {
      "application/vnd.jupyter.widget-view+json": {
       "model_id": "",
       "version_major": 2,
       "version_minor": 0
      },
      "text/plain": [
       "HBox(children=(IntProgress(value=0, description='Epoch 304', max=10, style=ProgressStyle(description_width='in…"
      ]
     },
     "metadata": {},
     "output_type": "display_data"
    },
    {
     "name": "stdout",
     "output_type": "stream",
     "text": [
      "Epoch 305/1000\n",
      "10/10 - 30s - loss: 1.4296e-05 - mean_squared_error: 6.4147e-10 - keras_psnr: 25.7471 - keras_ssim: 0.4919 - val_loss: 1.1060e-05 - val_mean_squared_error: 2.8411e-10 - val_keras_psnr: 26.8304 - val_keras_ssim: 0.4957\n"
     ]
    },
    {
     "data": {
      "application/vnd.jupyter.widget-view+json": {
       "model_id": "",
       "version_major": 2,
       "version_minor": 0
      },
      "text/plain": [
       "HBox(children=(IntProgress(value=0, description='Epoch 305', max=10, style=ProgressStyle(description_width='in…"
      ]
     },
     "metadata": {},
     "output_type": "display_data"
    },
    {
     "name": "stdout",
     "output_type": "stream",
     "text": [
      "Epoch 306/1000\n",
      "10/10 - 29s - loss: 1.3932e-05 - mean_squared_error: 6.7735e-10 - keras_psnr: 27.8662 - keras_ssim: 0.6167 - val_loss: 1.1061e-05 - val_mean_squared_error: 2.8444e-10 - val_keras_psnr: 26.8399 - val_keras_ssim: 0.4960\n"
     ]
    },
    {
     "data": {
      "application/vnd.jupyter.widget-view+json": {
       "model_id": "",
       "version_major": 2,
       "version_minor": 0
      },
      "text/plain": [
       "HBox(children=(IntProgress(value=0, description='Epoch 306', max=10, style=ProgressStyle(description_width='in…"
      ]
     },
     "metadata": {},
     "output_type": "display_data"
    },
    {
     "name": "stdout",
     "output_type": "stream",
     "text": [
      "Epoch 307/1000\n",
      "10/10 - 29s - loss: 1.2422e-05 - mean_squared_error: 4.3900e-10 - keras_psnr: 26.2861 - keras_ssim: 0.5208 - val_loss: 1.1044e-05 - val_mean_squared_error: 2.8289e-10 - val_keras_psnr: 26.8541 - val_keras_ssim: 0.4964\n"
     ]
    },
    {
     "data": {
      "application/vnd.jupyter.widget-view+json": {
       "model_id": "",
       "version_major": 2,
       "version_minor": 0
      },
      "text/plain": [
       "HBox(children=(IntProgress(value=0, description='Epoch 307', max=10, style=ProgressStyle(description_width='in…"
      ]
     },
     "metadata": {},
     "output_type": "display_data"
    },
    {
     "name": "stdout",
     "output_type": "stream",
     "text": [
      "Epoch 308/1000\n",
      "10/10 - 29s - loss: 1.1860e-05 - mean_squared_error: 2.7969e-10 - keras_psnr: 25.5757 - keras_ssim: 0.4766 - val_loss: 1.1036e-05 - val_mean_squared_error: 2.8276e-10 - val_keras_psnr: 26.8571 - val_keras_ssim: 0.4965\n"
     ]
    },
    {
     "data": {
      "application/vnd.jupyter.widget-view+json": {
       "model_id": "",
       "version_major": 2,
       "version_minor": 0
      },
      "text/plain": [
       "HBox(children=(IntProgress(value=0, description='Epoch 308', max=10, style=ProgressStyle(description_width='in…"
      ]
     },
     "metadata": {},
     "output_type": "display_data"
    },
    {
     "name": "stdout",
     "output_type": "stream",
     "text": [
      "Epoch 309/1000\n",
      "10/10 - 29s - loss: 1.3602e-05 - mean_squared_error: 5.2886e-10 - keras_psnr: 22.1115 - keras_ssim: 0.3647 - val_loss: 1.1043e-05 - val_mean_squared_error: 2.8347e-10 - val_keras_psnr: 26.8537 - val_keras_ssim: 0.4966\n"
     ]
    },
    {
     "data": {
      "application/vnd.jupyter.widget-view+json": {
       "model_id": "",
       "version_major": 2,
       "version_minor": 0
      },
      "text/plain": [
       "HBox(children=(IntProgress(value=0, description='Epoch 309', max=10, style=ProgressStyle(description_width='in…"
      ]
     },
     "metadata": {},
     "output_type": "display_data"
    },
    {
     "name": "stdout",
     "output_type": "stream",
     "text": [
      "Epoch 310/1000\n",
      "10/10 - 29s - loss: 9.2589e-06 - mean_squared_error: 1.5991e-10 - keras_psnr: 25.6699 - keras_ssim: 0.4251 - val_loss: 1.1047e-05 - val_mean_squared_error: 2.8401e-10 - val_keras_psnr: 26.8563 - val_keras_ssim: 0.4967\n"
     ]
    },
    {
     "data": {
      "application/vnd.jupyter.widget-view+json": {
       "model_id": "",
       "version_major": 2,
       "version_minor": 0
      },
      "text/plain": [
       "HBox(children=(IntProgress(value=0, description='Epoch 310', max=10, style=ProgressStyle(description_width='in…"
      ]
     },
     "metadata": {},
     "output_type": "display_data"
    },
    {
     "name": "stdout",
     "output_type": "stream",
     "text": [
      "Epoch 311/1000\n",
      "10/10 - 29s - loss: 1.2709e-05 - mean_squared_error: 5.2026e-10 - keras_psnr: 25.2474 - keras_ssim: 0.5044 - val_loss: 1.1036e-05 - val_mean_squared_error: 2.8283e-10 - val_keras_psnr: 26.8475 - val_keras_ssim: 0.4966\n"
     ]
    },
    {
     "data": {
      "application/vnd.jupyter.widget-view+json": {
       "model_id": "",
       "version_major": 2,
       "version_minor": 0
      },
      "text/plain": [
       "HBox(children=(IntProgress(value=0, description='Epoch 311', max=10, style=ProgressStyle(description_width='in…"
      ]
     },
     "metadata": {},
     "output_type": "display_data"
    },
    {
     "name": "stdout",
     "output_type": "stream",
     "text": [
      "Epoch 312/1000\n",
      "10/10 - 29s - loss: 1.3545e-05 - mean_squared_error: 4.5512e-10 - keras_psnr: 25.9332 - keras_ssim: 0.5380 - val_loss: 1.1042e-05 - val_mean_squared_error: 2.8328e-10 - val_keras_psnr: 26.8364 - val_keras_ssim: 0.4962\n"
     ]
    },
    {
     "data": {
      "application/vnd.jupyter.widget-view+json": {
       "model_id": "",
       "version_major": 2,
       "version_minor": 0
      },
      "text/plain": [
       "HBox(children=(IntProgress(value=0, description='Epoch 312', max=10, style=ProgressStyle(description_width='in…"
      ]
     },
     "metadata": {},
     "output_type": "display_data"
    },
    {
     "name": "stdout",
     "output_type": "stream",
     "text": [
      "Epoch 313/1000\n",
      "10/10 - 29s - loss: 9.5304e-06 - mean_squared_error: 1.7797e-10 - keras_psnr: 25.1329 - keras_ssim: 0.4120 - val_loss: 1.1021e-05 - val_mean_squared_error: 2.8225e-10 - val_keras_psnr: 26.8614 - val_keras_ssim: 0.4970\n"
     ]
    },
    {
     "data": {
      "application/vnd.jupyter.widget-view+json": {
       "model_id": "",
       "version_major": 2,
       "version_minor": 0
      },
      "text/plain": [
       "HBox(children=(IntProgress(value=0, description='Epoch 313', max=10, style=ProgressStyle(description_width='in…"
      ]
     },
     "metadata": {},
     "output_type": "display_data"
    },
    {
     "name": "stdout",
     "output_type": "stream",
     "text": [
      "Epoch 314/1000\n",
      "10/10 - 29s - loss: 1.0524e-05 - mean_squared_error: 2.3276e-10 - keras_psnr: 25.4441 - keras_ssim: 0.4350 - val_loss: 1.1022e-05 - val_mean_squared_error: 2.8269e-10 - val_keras_psnr: 26.8741 - val_keras_ssim: 0.4974\n"
     ]
    },
    {
     "data": {
      "application/vnd.jupyter.widget-view+json": {
       "model_id": "",
       "version_major": 2,
       "version_minor": 0
      },
      "text/plain": [
       "HBox(children=(IntProgress(value=0, description='Epoch 314', max=10, style=ProgressStyle(description_width='in…"
      ]
     },
     "metadata": {},
     "output_type": "display_data"
    },
    {
     "name": "stdout",
     "output_type": "stream",
     "text": [
      "Epoch 315/1000\n",
      "10/10 - 29s - loss: 1.8598e-05 - mean_squared_error: 1.2718e-09 - keras_psnr: 25.7690 - keras_ssim: 0.5445 - val_loss: 1.1021e-05 - val_mean_squared_error: 2.8251e-10 - val_keras_psnr: 26.8473 - val_keras_ssim: 0.4967\n"
     ]
    },
    {
     "data": {
      "application/vnd.jupyter.widget-view+json": {
       "model_id": "",
       "version_major": 2,
       "version_minor": 0
      },
      "text/plain": [
       "HBox(children=(IntProgress(value=0, description='Epoch 315', max=10, style=ProgressStyle(description_width='in…"
      ]
     },
     "metadata": {},
     "output_type": "display_data"
    },
    {
     "name": "stdout",
     "output_type": "stream",
     "text": [
      "Epoch 316/1000\n",
      "10/10 - 29s - loss: 1.2880e-05 - mean_squared_error: 3.0893e-10 - keras_psnr: 25.0786 - keras_ssim: 0.4163 - val_loss: 1.1023e-05 - val_mean_squared_error: 2.8190e-10 - val_keras_psnr: 26.8371 - val_keras_ssim: 0.4964\n"
     ]
    },
    {
     "data": {
      "application/vnd.jupyter.widget-view+json": {
       "model_id": "",
       "version_major": 2,
       "version_minor": 0
      },
      "text/plain": [
       "HBox(children=(IntProgress(value=0, description='Epoch 316', max=10, style=ProgressStyle(description_width='in…"
      ]
     },
     "metadata": {},
     "output_type": "display_data"
    },
    {
     "name": "stdout",
     "output_type": "stream",
     "text": [
      "Epoch 317/1000\n",
      "10/10 - 29s - loss: 1.3573e-05 - mean_squared_error: 3.1327e-10 - keras_psnr: 26.5225 - keras_ssim: 0.5191 - val_loss: 1.1013e-05 - val_mean_squared_error: 2.8205e-10 - val_keras_psnr: 26.8611 - val_keras_ssim: 0.4971\n"
     ]
    },
    {
     "data": {
      "application/vnd.jupyter.widget-view+json": {
       "model_id": "",
       "version_major": 2,
       "version_minor": 0
      },
      "text/plain": [
       "HBox(children=(IntProgress(value=0, description='Epoch 317', max=10, style=ProgressStyle(description_width='in…"
      ]
     },
     "metadata": {},
     "output_type": "display_data"
    },
    {
     "name": "stdout",
     "output_type": "stream",
     "text": [
      "Epoch 318/1000\n",
      "10/10 - 30s - loss: 1.3887e-05 - mean_squared_error: 5.9818e-10 - keras_psnr: 26.0763 - keras_ssim: 0.5344 - val_loss: 1.1003e-05 - val_mean_squared_error: 2.8173e-10 - val_keras_psnr: 26.8759 - val_keras_ssim: 0.4974\n"
     ]
    },
    {
     "data": {
      "application/vnd.jupyter.widget-view+json": {
       "model_id": "",
       "version_major": 2,
       "version_minor": 0
      },
      "text/plain": [
       "HBox(children=(IntProgress(value=0, description='Epoch 318', max=10, style=ProgressStyle(description_width='in…"
      ]
     },
     "metadata": {},
     "output_type": "display_data"
    },
    {
     "name": "stdout",
     "output_type": "stream",
     "text": [
      "Epoch 319/1000\n",
      "10/10 - 29s - loss: 1.0881e-05 - mean_squared_error: 2.5233e-10 - keras_psnr: 25.1777 - keras_ssim: 0.4463 - val_loss: 1.1002e-05 - val_mean_squared_error: 2.8189e-10 - val_keras_psnr: 26.8890 - val_keras_ssim: 0.4978\n"
     ]
    },
    {
     "data": {
      "application/vnd.jupyter.widget-view+json": {
       "model_id": "",
       "version_major": 2,
       "version_minor": 0
      },
      "text/plain": [
       "HBox(children=(IntProgress(value=0, description='Epoch 319', max=10, style=ProgressStyle(description_width='in…"
      ]
     },
     "metadata": {},
     "output_type": "display_data"
    },
    {
     "name": "stdout",
     "output_type": "stream",
     "text": [
      "Epoch 320/1000\n",
      "10/10 - 29s - loss: 8.8360e-06 - mean_squared_error: 1.9409e-10 - keras_psnr: 25.6924 - keras_ssim: 0.4549 - val_loss: 1.1020e-05 - val_mean_squared_error: 2.8259e-10 - val_keras_psnr: 26.8917 - val_keras_ssim: 0.4981\n"
     ]
    },
    {
     "data": {
      "application/vnd.jupyter.widget-view+json": {
       "model_id": "",
       "version_major": 2,
       "version_minor": 0
      },
      "text/plain": [
       "HBox(children=(IntProgress(value=0, description='Epoch 320', max=10, style=ProgressStyle(description_width='in…"
      ]
     },
     "metadata": {},
     "output_type": "display_data"
    },
    {
     "name": "stdout",
     "output_type": "stream",
     "text": [
      "Epoch 321/1000\n",
      "10/10 - 29s - loss: 1.5456e-05 - mean_squared_error: 7.5595e-10 - keras_psnr: 24.3186 - keras_ssim: 0.5068 - val_loss: 1.0997e-05 - val_mean_squared_error: 2.8172e-10 - val_keras_psnr: 26.8934 - val_keras_ssim: 0.4980\n"
     ]
    },
    {
     "data": {
      "application/vnd.jupyter.widget-view+json": {
       "model_id": "",
       "version_major": 2,
       "version_minor": 0
      },
      "text/plain": [
       "HBox(children=(IntProgress(value=0, description='Epoch 321', max=10, style=ProgressStyle(description_width='in…"
      ]
     },
     "metadata": {},
     "output_type": "display_data"
    },
    {
     "name": "stdout",
     "output_type": "stream",
     "text": [
      "Epoch 322/1000\n",
      "10/10 - 29s - loss: 1.1271e-05 - mean_squared_error: 3.2908e-10 - keras_psnr: 26.7227 - keras_ssim: 0.5260 - val_loss: 1.0998e-05 - val_mean_squared_error: 2.8163e-10 - val_keras_psnr: 26.8716 - val_keras_ssim: 0.4973\n"
     ]
    },
    {
     "data": {
      "application/vnd.jupyter.widget-view+json": {
       "model_id": "",
       "version_major": 2,
       "version_minor": 0
      },
      "text/plain": [
       "HBox(children=(IntProgress(value=0, description='Epoch 322', max=10, style=ProgressStyle(description_width='in…"
      ]
     },
     "metadata": {},
     "output_type": "display_data"
    },
    {
     "name": "stdout",
     "output_type": "stream",
     "text": [
      "Epoch 323/1000\n",
      "10/10 - 29s - loss: 1.8669e-05 - mean_squared_error: 2.2117e-09 - keras_psnr: 23.8773 - keras_ssim: 0.4721 - val_loss: 1.0999e-05 - val_mean_squared_error: 2.8181e-10 - val_keras_psnr: 26.8760 - val_keras_ssim: 0.4976\n"
     ]
    },
    {
     "data": {
      "application/vnd.jupyter.widget-view+json": {
       "model_id": "",
       "version_major": 2,
       "version_minor": 0
      },
      "text/plain": [
       "HBox(children=(IntProgress(value=0, description='Epoch 323', max=10, style=ProgressStyle(description_width='in…"
      ]
     },
     "metadata": {},
     "output_type": "display_data"
    },
    {
     "name": "stdout",
     "output_type": "stream",
     "text": [
      "Epoch 324/1000\n",
      "10/10 - 29s - loss: 1.2092e-05 - mean_squared_error: 3.2833e-10 - keras_psnr: 25.1956 - keras_ssim: 0.4206 - val_loss: 1.0999e-05 - val_mean_squared_error: 2.8200e-10 - val_keras_psnr: 26.8869 - val_keras_ssim: 0.4981\n"
     ]
    },
    {
     "data": {
      "application/vnd.jupyter.widget-view+json": {
       "model_id": "",
       "version_major": 2,
       "version_minor": 0
      },
      "text/plain": [
       "HBox(children=(IntProgress(value=0, description='Epoch 324', max=10, style=ProgressStyle(description_width='in…"
      ]
     },
     "metadata": {},
     "output_type": "display_data"
    },
    {
     "name": "stdout",
     "output_type": "stream",
     "text": [
      "Epoch 325/1000\n",
      "10/10 - 29s - loss: 1.7457e-05 - mean_squared_error: 7.1925e-10 - keras_psnr: 26.3832 - keras_ssim: 0.5625 - val_loss: 1.0985e-05 - val_mean_squared_error: 2.8112e-10 - val_keras_psnr: 26.8902 - val_keras_ssim: 0.4982\n"
     ]
    },
    {
     "data": {
      "application/vnd.jupyter.widget-view+json": {
       "model_id": "",
       "version_major": 2,
       "version_minor": 0
      },
      "text/plain": [
       "HBox(children=(IntProgress(value=0, description='Epoch 325', max=10, style=ProgressStyle(description_width='in…"
      ]
     },
     "metadata": {},
     "output_type": "display_data"
    },
    {
     "name": "stdout",
     "output_type": "stream",
     "text": [
      "Epoch 326/1000\n",
      "10/10 - 28s - loss: 1.1100e-05 - mean_squared_error: 2.3535e-10 - keras_psnr: 24.7875 - keras_ssim: 0.3880 - val_loss: 1.0968e-05 - val_mean_squared_error: 2.7972e-10 - val_keras_psnr: 26.9015 - val_keras_ssim: 0.4985\n"
     ]
    },
    {
     "data": {
      "application/vnd.jupyter.widget-view+json": {
       "model_id": "",
       "version_major": 2,
       "version_minor": 0
      },
      "text/plain": [
       "HBox(children=(IntProgress(value=0, description='Epoch 326', max=10, style=ProgressStyle(description_width='in…"
      ]
     },
     "metadata": {},
     "output_type": "display_data"
    },
    {
     "name": "stdout",
     "output_type": "stream",
     "text": [
      "Epoch 327/1000\n",
      "10/10 - 28s - loss: 1.1467e-05 - mean_squared_error: 2.1979e-10 - keras_psnr: 24.2987 - keras_ssim: 0.3963 - val_loss: 1.0972e-05 - val_mean_squared_error: 2.8008e-10 - val_keras_psnr: 26.9035 - val_keras_ssim: 0.4986\n"
     ]
    },
    {
     "data": {
      "application/vnd.jupyter.widget-view+json": {
       "model_id": "",
       "version_major": 2,
       "version_minor": 0
      },
      "text/plain": [
       "HBox(children=(IntProgress(value=0, description='Epoch 327', max=10, style=ProgressStyle(description_width='in…"
      ]
     },
     "metadata": {},
     "output_type": "display_data"
    },
    {
     "name": "stdout",
     "output_type": "stream",
     "text": [
      "Epoch 328/1000\n",
      "10/10 - 29s - loss: 1.6199e-05 - mean_squared_error: 7.3575e-10 - keras_psnr: 25.0691 - keras_ssim: 0.5296 - val_loss: 1.0978e-05 - val_mean_squared_error: 2.8041e-10 - val_keras_psnr: 26.8850 - val_keras_ssim: 0.4981\n"
     ]
    },
    {
     "data": {
      "application/vnd.jupyter.widget-view+json": {
       "model_id": "",
       "version_major": 2,
       "version_minor": 0
      },
      "text/plain": [
       "HBox(children=(IntProgress(value=0, description='Epoch 328', max=10, style=ProgressStyle(description_width='in…"
      ]
     },
     "metadata": {},
     "output_type": "display_data"
    },
    {
     "name": "stdout",
     "output_type": "stream",
     "text": [
      "Epoch 329/1000\n",
      "10/10 - 28s - loss: 1.0355e-05 - mean_squared_error: 2.4416e-10 - keras_psnr: 25.8313 - keras_ssim: 0.4886 - val_loss: 1.0959e-05 - val_mean_squared_error: 2.7910e-10 - val_keras_psnr: 26.9022 - val_keras_ssim: 0.4986\n"
     ]
    },
    {
     "data": {
      "application/vnd.jupyter.widget-view+json": {
       "model_id": "",
       "version_major": 2,
       "version_minor": 0
      },
      "text/plain": [
       "HBox(children=(IntProgress(value=0, description='Epoch 329', max=10, style=ProgressStyle(description_width='in…"
      ]
     },
     "metadata": {},
     "output_type": "display_data"
    },
    {
     "name": "stdout",
     "output_type": "stream",
     "text": [
      "Epoch 330/1000\n",
      "10/10 - 28s - loss: 9.2254e-06 - mean_squared_error: 1.9263e-10 - keras_psnr: 25.3748 - keras_ssim: 0.4523 - val_loss: 1.0963e-05 - val_mean_squared_error: 2.7993e-10 - val_keras_psnr: 26.9007 - val_keras_ssim: 0.4986\n"
     ]
    },
    {
     "data": {
      "application/vnd.jupyter.widget-view+json": {
       "model_id": "",
       "version_major": 2,
       "version_minor": 0
      },
      "text/plain": [
       "HBox(children=(IntProgress(value=0, description='Epoch 330', max=10, style=ProgressStyle(description_width='in…"
      ]
     },
     "metadata": {},
     "output_type": "display_data"
    },
    {
     "name": "stdout",
     "output_type": "stream",
     "text": [
      "Epoch 331/1000\n",
      "10/10 - 29s - loss: 1.1470e-05 - mean_squared_error: 3.9216e-10 - keras_psnr: 24.5644 - keras_ssim: 0.4286 - val_loss: 1.0966e-05 - val_mean_squared_error: 2.8014e-10 - val_keras_psnr: 26.9018 - val_keras_ssim: 0.4985\n"
     ]
    },
    {
     "data": {
      "application/vnd.jupyter.widget-view+json": {
       "model_id": "",
       "version_major": 2,
       "version_minor": 0
      },
      "text/plain": [
       "HBox(children=(IntProgress(value=0, description='Epoch 331', max=10, style=ProgressStyle(description_width='in…"
      ]
     },
     "metadata": {},
     "output_type": "display_data"
    },
    {
     "name": "stdout",
     "output_type": "stream",
     "text": [
      "Epoch 332/1000\n",
      "10/10 - 28s - loss: 1.0456e-05 - mean_squared_error: 3.0036e-10 - keras_psnr: 26.7637 - keras_ssim: 0.5463 - val_loss: 1.0942e-05 - val_mean_squared_error: 2.7876e-10 - val_keras_psnr: 26.9210 - val_keras_ssim: 0.4991\n"
     ]
    },
    {
     "data": {
      "application/vnd.jupyter.widget-view+json": {
       "model_id": "",
       "version_major": 2,
       "version_minor": 0
      },
      "text/plain": [
       "HBox(children=(IntProgress(value=0, description='Epoch 332', max=10, style=ProgressStyle(description_width='in…"
      ]
     },
     "metadata": {},
     "output_type": "display_data"
    },
    {
     "name": "stdout",
     "output_type": "stream",
     "text": [
      "Epoch 333/1000\n",
      "10/10 - 29s - loss: 1.1463e-05 - mean_squared_error: 2.0777e-10 - keras_psnr: 25.6805 - keras_ssim: 0.4357 - val_loss: 1.0934e-05 - val_mean_squared_error: 2.7824e-10 - val_keras_psnr: 26.9267 - val_keras_ssim: 0.4993\n"
     ]
    },
    {
     "data": {
      "application/vnd.jupyter.widget-view+json": {
       "model_id": "",
       "version_major": 2,
       "version_minor": 0
      },
      "text/plain": [
       "HBox(children=(IntProgress(value=0, description='Epoch 333', max=10, style=ProgressStyle(description_width='in…"
      ]
     },
     "metadata": {},
     "output_type": "display_data"
    },
    {
     "name": "stdout",
     "output_type": "stream",
     "text": [
      "Epoch 334/1000\n",
      "10/10 - 28s - loss: 1.0114e-05 - mean_squared_error: 2.2325e-10 - keras_psnr: 25.8142 - keras_ssim: 0.4460 - val_loss: 1.0947e-05 - val_mean_squared_error: 2.7902e-10 - val_keras_psnr: 26.9144 - val_keras_ssim: 0.4990\n"
     ]
    },
    {
     "data": {
      "application/vnd.jupyter.widget-view+json": {
       "model_id": "",
       "version_major": 2,
       "version_minor": 0
      },
      "text/plain": [
       "HBox(children=(IntProgress(value=0, description='Epoch 334', max=10, style=ProgressStyle(description_width='in…"
      ]
     },
     "metadata": {},
     "output_type": "display_data"
    },
    {
     "name": "stdout",
     "output_type": "stream",
     "text": [
      "Epoch 335/1000\n",
      "10/10 - 27s - loss: 1.5063e-05 - mean_squared_error: 4.2090e-10 - keras_psnr: 28.3331 - keras_ssim: 0.6258 - val_loss: 1.0943e-05 - val_mean_squared_error: 2.7819e-10 - val_keras_psnr: 26.9163 - val_keras_ssim: 0.4990\n"
     ]
    },
    {
     "data": {
      "application/vnd.jupyter.widget-view+json": {
       "model_id": "",
       "version_major": 2,
       "version_minor": 0
      },
      "text/plain": [
       "HBox(children=(IntProgress(value=0, description='Epoch 335', max=10, style=ProgressStyle(description_width='in…"
      ]
     },
     "metadata": {},
     "output_type": "display_data"
    },
    {
     "name": "stdout",
     "output_type": "stream",
     "text": [
      "Epoch 336/1000\n",
      "10/10 - 29s - loss: 1.2645e-05 - mean_squared_error: 3.8213e-10 - keras_psnr: 27.0676 - keras_ssim: 0.5268 - val_loss: 1.0933e-05 - val_mean_squared_error: 2.7681e-10 - val_keras_psnr: 26.9251 - val_keras_ssim: 0.4995\n"
     ]
    },
    {
     "data": {
      "application/vnd.jupyter.widget-view+json": {
       "model_id": "",
       "version_major": 2,
       "version_minor": 0
      },
      "text/plain": [
       "HBox(children=(IntProgress(value=0, description='Epoch 336', max=10, style=ProgressStyle(description_width='in…"
      ]
     },
     "metadata": {},
     "output_type": "display_data"
    },
    {
     "name": "stdout",
     "output_type": "stream",
     "text": [
      "Epoch 337/1000\n",
      "10/10 - 29s - loss: 1.2106e-05 - mean_squared_error: 3.6678e-10 - keras_psnr: 27.0647 - keras_ssim: 0.5559 - val_loss: 1.0936e-05 - val_mean_squared_error: 2.7825e-10 - val_keras_psnr: 26.9230 - val_keras_ssim: 0.4994\n"
     ]
    },
    {
     "data": {
      "application/vnd.jupyter.widget-view+json": {
       "model_id": "",
       "version_major": 2,
       "version_minor": 0
      },
      "text/plain": [
       "HBox(children=(IntProgress(value=0, description='Epoch 337', max=10, style=ProgressStyle(description_width='in…"
      ]
     },
     "metadata": {},
     "output_type": "display_data"
    },
    {
     "name": "stdout",
     "output_type": "stream",
     "text": [
      "Epoch 338/1000\n",
      "10/10 - 29s - loss: 1.3361e-05 - mean_squared_error: 7.9481e-10 - keras_psnr: 27.2143 - keras_ssim: 0.6235 - val_loss: 1.0929e-05 - val_mean_squared_error: 2.7780e-10 - val_keras_psnr: 26.9203 - val_keras_ssim: 0.4992\n"
     ]
    },
    {
     "data": {
      "application/vnd.jupyter.widget-view+json": {
       "model_id": "",
       "version_major": 2,
       "version_minor": 0
      },
      "text/plain": [
       "HBox(children=(IntProgress(value=0, description='Epoch 338', max=10, style=ProgressStyle(description_width='in…"
      ]
     },
     "metadata": {},
     "output_type": "display_data"
    },
    {
     "name": "stdout",
     "output_type": "stream",
     "text": [
      "Epoch 339/1000\n",
      "10/10 - 29s - loss: 1.3945e-05 - mean_squared_error: 4.9109e-10 - keras_psnr: 25.0707 - keras_ssim: 0.4581 - val_loss: 1.0924e-05 - val_mean_squared_error: 2.7765e-10 - val_keras_psnr: 26.9236 - val_keras_ssim: 0.4995\n"
     ]
    },
    {
     "data": {
      "application/vnd.jupyter.widget-view+json": {
       "model_id": "",
       "version_major": 2,
       "version_minor": 0
      },
      "text/plain": [
       "HBox(children=(IntProgress(value=0, description='Epoch 339', max=10, style=ProgressStyle(description_width='in…"
      ]
     },
     "metadata": {},
     "output_type": "display_data"
    },
    {
     "name": "stdout",
     "output_type": "stream",
     "text": [
      "Epoch 340/1000\n",
      "10/10 - 29s - loss: 1.2709e-05 - mean_squared_error: 4.0392e-10 - keras_psnr: 24.6972 - keras_ssim: 0.4901 - val_loss: 1.0928e-05 - val_mean_squared_error: 2.7800e-10 - val_keras_psnr: 26.9179 - val_keras_ssim: 0.4994\n"
     ]
    },
    {
     "data": {
      "application/vnd.jupyter.widget-view+json": {
       "model_id": "",
       "version_major": 2,
       "version_minor": 0
      },
      "text/plain": [
       "HBox(children=(IntProgress(value=0, description='Epoch 340', max=10, style=ProgressStyle(description_width='in…"
      ]
     },
     "metadata": {},
     "output_type": "display_data"
    },
    {
     "name": "stdout",
     "output_type": "stream",
     "text": [
      "Epoch 341/1000\n",
      "10/10 - 29s - loss: 1.2019e-05 - mean_squared_error: 3.0901e-10 - keras_psnr: 25.2624 - keras_ssim: 0.4885 - val_loss: 1.0917e-05 - val_mean_squared_error: 2.7709e-10 - val_keras_psnr: 26.9242 - val_keras_ssim: 0.4995\n"
     ]
    },
    {
     "data": {
      "application/vnd.jupyter.widget-view+json": {
       "model_id": "",
       "version_major": 2,
       "version_minor": 0
      },
      "text/plain": [
       "HBox(children=(IntProgress(value=0, description='Epoch 341', max=10, style=ProgressStyle(description_width='in…"
      ]
     },
     "metadata": {},
     "output_type": "display_data"
    },
    {
     "name": "stdout",
     "output_type": "stream",
     "text": [
      "Epoch 342/1000\n",
      "10/10 - 30s - loss: 1.2624e-05 - mean_squared_error: 4.7589e-10 - keras_psnr: 27.1206 - keras_ssim: 0.6020 - val_loss: 1.0916e-05 - val_mean_squared_error: 2.7699e-10 - val_keras_psnr: 26.9157 - val_keras_ssim: 0.4995\n"
     ]
    },
    {
     "data": {
      "application/vnd.jupyter.widget-view+json": {
       "model_id": "",
       "version_major": 2,
       "version_minor": 0
      },
      "text/plain": [
       "HBox(children=(IntProgress(value=0, description='Epoch 342', max=10, style=ProgressStyle(description_width='in…"
      ]
     },
     "metadata": {},
     "output_type": "display_data"
    },
    {
     "name": "stdout",
     "output_type": "stream",
     "text": [
      "Epoch 343/1000\n",
      "10/10 - 29s - loss: 1.7792e-05 - mean_squared_error: 8.8747e-10 - keras_psnr: 26.5548 - keras_ssim: 0.6004 - val_loss: 1.0920e-05 - val_mean_squared_error: 2.7714e-10 - val_keras_psnr: 26.9201 - val_keras_ssim: 0.4995\n"
     ]
    },
    {
     "data": {
      "application/vnd.jupyter.widget-view+json": {
       "model_id": "",
       "version_major": 2,
       "version_minor": 0
      },
      "text/plain": [
       "HBox(children=(IntProgress(value=0, description='Epoch 343', max=10, style=ProgressStyle(description_width='in…"
      ]
     },
     "metadata": {},
     "output_type": "display_data"
    },
    {
     "name": "stdout",
     "output_type": "stream",
     "text": [
      "Epoch 344/1000\n",
      "10/10 - 30s - loss: 1.1594e-05 - mean_squared_error: 2.7534e-10 - keras_psnr: 25.3302 - keras_ssim: 0.4556 - val_loss: 1.0897e-05 - val_mean_squared_error: 2.7577e-10 - val_keras_psnr: 26.9526 - val_keras_ssim: 0.5006\n"
     ]
    },
    {
     "data": {
      "application/vnd.jupyter.widget-view+json": {
       "model_id": "",
       "version_major": 2,
       "version_minor": 0
      },
      "text/plain": [
       "HBox(children=(IntProgress(value=0, description='Epoch 344', max=10, style=ProgressStyle(description_width='in…"
      ]
     },
     "metadata": {},
     "output_type": "display_data"
    },
    {
     "name": "stdout",
     "output_type": "stream",
     "text": [
      "Epoch 345/1000\n",
      "10/10 - 29s - loss: 1.6186e-05 - mean_squared_error: 1.2201e-09 - keras_psnr: 25.1897 - keras_ssim: 0.5384 - val_loss: 1.0926e-05 - val_mean_squared_error: 2.7809e-10 - val_keras_psnr: 26.9405 - val_keras_ssim: 0.5003\n"
     ]
    },
    {
     "data": {
      "application/vnd.jupyter.widget-view+json": {
       "model_id": "",
       "version_major": 2,
       "version_minor": 0
      },
      "text/plain": [
       "HBox(children=(IntProgress(value=0, description='Epoch 345', max=10, style=ProgressStyle(description_width='in…"
      ]
     },
     "metadata": {},
     "output_type": "display_data"
    },
    {
     "name": "stdout",
     "output_type": "stream",
     "text": [
      "Epoch 346/1000\n",
      "10/10 - 29s - loss: 8.3442e-06 - mean_squared_error: 1.4425e-10 - keras_psnr: 24.9920 - keras_ssim: 0.3970 - val_loss: 1.0914e-05 - val_mean_squared_error: 2.7740e-10 - val_keras_psnr: 26.9524 - val_keras_ssim: 0.5008\n"
     ]
    },
    {
     "data": {
      "application/vnd.jupyter.widget-view+json": {
       "model_id": "",
       "version_major": 2,
       "version_minor": 0
      },
      "text/plain": [
       "HBox(children=(IntProgress(value=0, description='Epoch 346', max=10, style=ProgressStyle(description_width='in…"
      ]
     },
     "metadata": {},
     "output_type": "display_data"
    },
    {
     "name": "stdout",
     "output_type": "stream",
     "text": [
      "Epoch 347/1000\n",
      "10/10 - 30s - loss: 1.2192e-05 - mean_squared_error: 3.4741e-10 - keras_psnr: 24.5710 - keras_ssim: 0.3905 - val_loss: 1.0913e-05 - val_mean_squared_error: 2.7697e-10 - val_keras_psnr: 26.9457 - val_keras_ssim: 0.5004\n"
     ]
    },
    {
     "data": {
      "application/vnd.jupyter.widget-view+json": {
       "model_id": "",
       "version_major": 2,
       "version_minor": 0
      },
      "text/plain": [
       "HBox(children=(IntProgress(value=0, description='Epoch 347', max=10, style=ProgressStyle(description_width='in…"
      ]
     },
     "metadata": {},
     "output_type": "display_data"
    },
    {
     "name": "stdout",
     "output_type": "stream",
     "text": [
      "Epoch 348/1000\n",
      "10/10 - 30s - loss: 1.2613e-05 - mean_squared_error: 4.6105e-10 - keras_psnr: 26.6185 - keras_ssim: 0.5206 - val_loss: 1.0909e-05 - val_mean_squared_error: 2.7724e-10 - val_keras_psnr: 26.9429 - val_keras_ssim: 0.5004\n"
     ]
    },
    {
     "data": {
      "application/vnd.jupyter.widget-view+json": {
       "model_id": "",
       "version_major": 2,
       "version_minor": 0
      },
      "text/plain": [
       "HBox(children=(IntProgress(value=0, description='Epoch 348', max=10, style=ProgressStyle(description_width='in…"
      ]
     },
     "metadata": {},
     "output_type": "display_data"
    },
    {
     "name": "stdout",
     "output_type": "stream",
     "text": [
      "Epoch 349/1000\n",
      "10/10 - 30s - loss: 1.4658e-05 - mean_squared_error: 6.0969e-10 - keras_psnr: 27.0052 - keras_ssim: 0.5872 - val_loss: 1.0900e-05 - val_mean_squared_error: 2.7689e-10 - val_keras_psnr: 26.9537 - val_keras_ssim: 0.5009\n"
     ]
    },
    {
     "data": {
      "application/vnd.jupyter.widget-view+json": {
       "model_id": "",
       "version_major": 2,
       "version_minor": 0
      },
      "text/plain": [
       "HBox(children=(IntProgress(value=0, description='Epoch 349', max=10, style=ProgressStyle(description_width='in…"
      ]
     },
     "metadata": {},
     "output_type": "display_data"
    },
    {
     "name": "stdout",
     "output_type": "stream",
     "text": [
      "Epoch 350/1000\n",
      "10/10 - 30s - loss: 9.9851e-06 - mean_squared_error: 3.8434e-10 - keras_psnr: 25.4967 - keras_ssim: 0.5047 - val_loss: 1.0895e-05 - val_mean_squared_error: 2.7620e-10 - val_keras_psnr: 26.9438 - val_keras_ssim: 0.5006\n"
     ]
    },
    {
     "data": {
      "application/vnd.jupyter.widget-view+json": {
       "model_id": "",
       "version_major": 2,
       "version_minor": 0
      },
      "text/plain": [
       "HBox(children=(IntProgress(value=0, description='Epoch 350', max=10, style=ProgressStyle(description_width='in…"
      ]
     },
     "metadata": {},
     "output_type": "display_data"
    },
    {
     "name": "stdout",
     "output_type": "stream",
     "text": [
      "Epoch 351/1000\n",
      "10/10 - 29s - loss: 9.7469e-06 - mean_squared_error: 1.8831e-10 - keras_psnr: 25.5510 - keras_ssim: 0.4296 - val_loss: 1.0884e-05 - val_mean_squared_error: 2.7553e-10 - val_keras_psnr: 26.9530 - val_keras_ssim: 0.5009\n"
     ]
    },
    {
     "data": {
      "application/vnd.jupyter.widget-view+json": {
       "model_id": "",
       "version_major": 2,
       "version_minor": 0
      },
      "text/plain": [
       "HBox(children=(IntProgress(value=0, description='Epoch 351', max=10, style=ProgressStyle(description_width='in…"
      ]
     },
     "metadata": {},
     "output_type": "display_data"
    },
    {
     "name": "stdout",
     "output_type": "stream",
     "text": [
      "Epoch 352/1000\n",
      "10/10 - 29s - loss: 9.8139e-06 - mean_squared_error: 2.1175e-10 - keras_psnr: 26.7924 - keras_ssim: 0.4931 - val_loss: 1.0882e-05 - val_mean_squared_error: 2.7555e-10 - val_keras_psnr: 26.9565 - val_keras_ssim: 0.5011\n"
     ]
    },
    {
     "data": {
      "application/vnd.jupyter.widget-view+json": {
       "model_id": "",
       "version_major": 2,
       "version_minor": 0
      },
      "text/plain": [
       "HBox(children=(IntProgress(value=0, description='Epoch 352', max=10, style=ProgressStyle(description_width='in…"
      ]
     },
     "metadata": {},
     "output_type": "display_data"
    },
    {
     "name": "stdout",
     "output_type": "stream",
     "text": [
      "Epoch 353/1000\n",
      "10/10 - 29s - loss: 1.3972e-05 - mean_squared_error: 3.6417e-10 - keras_psnr: 27.1182 - keras_ssim: 0.5716 - val_loss: 1.0884e-05 - val_mean_squared_error: 2.7587e-10 - val_keras_psnr: 26.9558 - val_keras_ssim: 0.5010\n"
     ]
    },
    {
     "data": {
      "application/vnd.jupyter.widget-view+json": {
       "model_id": "",
       "version_major": 2,
       "version_minor": 0
      },
      "text/plain": [
       "HBox(children=(IntProgress(value=0, description='Epoch 353', max=10, style=ProgressStyle(description_width='in…"
      ]
     },
     "metadata": {},
     "output_type": "display_data"
    },
    {
     "name": "stdout",
     "output_type": "stream",
     "text": [
      "Epoch 354/1000\n",
      "10/10 - 30s - loss: 1.2467e-05 - mean_squared_error: 3.4353e-10 - keras_psnr: 25.8072 - keras_ssim: 0.5100 - val_loss: 1.0897e-05 - val_mean_squared_error: 2.7689e-10 - val_keras_psnr: 26.9478 - val_keras_ssim: 0.5008\n"
     ]
    },
    {
     "data": {
      "application/vnd.jupyter.widget-view+json": {
       "model_id": "",
       "version_major": 2,
       "version_minor": 0
      },
      "text/plain": [
       "HBox(children=(IntProgress(value=0, description='Epoch 354', max=10, style=ProgressStyle(description_width='in…"
      ]
     },
     "metadata": {},
     "output_type": "display_data"
    },
    {
     "name": "stdout",
     "output_type": "stream",
     "text": [
      "Epoch 355/1000\n",
      "10/10 - 29s - loss: 1.0836e-05 - mean_squared_error: 6.4182e-10 - keras_psnr: 25.8245 - keras_ssim: 0.4848 - val_loss: 1.0889e-05 - val_mean_squared_error: 2.7607e-10 - val_keras_psnr: 26.9587 - val_keras_ssim: 0.5011\n"
     ]
    },
    {
     "data": {
      "application/vnd.jupyter.widget-view+json": {
       "model_id": "",
       "version_major": 2,
       "version_minor": 0
      },
      "text/plain": [
       "HBox(children=(IntProgress(value=0, description='Epoch 355', max=10, style=ProgressStyle(description_width='in…"
      ]
     },
     "metadata": {},
     "output_type": "display_data"
    },
    {
     "name": "stdout",
     "output_type": "stream",
     "text": [
      "Epoch 356/1000\n",
      "10/10 - 29s - loss: 1.1969e-05 - mean_squared_error: 2.6647e-10 - keras_psnr: 27.3806 - keras_ssim: 0.5381 - val_loss: 1.0886e-05 - val_mean_squared_error: 2.7587e-10 - val_keras_psnr: 26.9610 - val_keras_ssim: 0.5013\n"
     ]
    },
    {
     "data": {
      "application/vnd.jupyter.widget-view+json": {
       "model_id": "",
       "version_major": 2,
       "version_minor": 0
      },
      "text/plain": [
       "HBox(children=(IntProgress(value=0, description='Epoch 356', max=10, style=ProgressStyle(description_width='in…"
      ]
     },
     "metadata": {},
     "output_type": "display_data"
    },
    {
     "name": "stdout",
     "output_type": "stream",
     "text": [
      "Epoch 357/1000\n",
      "10/10 - 29s - loss: 1.2152e-05 - mean_squared_error: 3.0744e-10 - keras_psnr: 25.9590 - keras_ssim: 0.4800 - val_loss: 1.0871e-05 - val_mean_squared_error: 2.7524e-10 - val_keras_psnr: 26.9652 - val_keras_ssim: 0.5015\n"
     ]
    },
    {
     "data": {
      "application/vnd.jupyter.widget-view+json": {
       "model_id": "",
       "version_major": 2,
       "version_minor": 0
      },
      "text/plain": [
       "HBox(children=(IntProgress(value=0, description='Epoch 357', max=10, style=ProgressStyle(description_width='in…"
      ]
     },
     "metadata": {},
     "output_type": "display_data"
    },
    {
     "name": "stdout",
     "output_type": "stream",
     "text": [
      "Epoch 358/1000\n",
      "10/10 - 27s - loss: 9.9217e-06 - mean_squared_error: 1.9760e-10 - keras_psnr: 25.0942 - keras_ssim: 0.4475 - val_loss: 1.0880e-05 - val_mean_squared_error: 2.7575e-10 - val_keras_psnr: 26.9521 - val_keras_ssim: 0.5012\n"
     ]
    },
    {
     "data": {
      "application/vnd.jupyter.widget-view+json": {
       "model_id": "",
       "version_major": 2,
       "version_minor": 0
      },
      "text/plain": [
       "HBox(children=(IntProgress(value=0, description='Epoch 358', max=10, style=ProgressStyle(description_width='in…"
      ]
     },
     "metadata": {},
     "output_type": "display_data"
    },
    {
     "name": "stdout",
     "output_type": "stream",
     "text": [
      "Epoch 359/1000\n",
      "10/10 - 28s - loss: 1.6235e-05 - mean_squared_error: 6.2741e-10 - keras_psnr: 26.3629 - keras_ssim: 0.5417 - val_loss: 1.0880e-05 - val_mean_squared_error: 2.7562e-10 - val_keras_psnr: 26.9489 - val_keras_ssim: 0.5011\n"
     ]
    },
    {
     "data": {
      "application/vnd.jupyter.widget-view+json": {
       "model_id": "",
       "version_major": 2,
       "version_minor": 0
      },
      "text/plain": [
       "HBox(children=(IntProgress(value=0, description='Epoch 359', max=10, style=ProgressStyle(description_width='in…"
      ]
     },
     "metadata": {},
     "output_type": "display_data"
    },
    {
     "name": "stdout",
     "output_type": "stream",
     "text": [
      "Epoch 360/1000\n",
      "10/10 - 28s - loss: 1.2888e-05 - mean_squared_error: 4.2375e-10 - keras_psnr: 26.8632 - keras_ssim: 0.5689 - val_loss: 1.0856e-05 - val_mean_squared_error: 2.7367e-10 - val_keras_psnr: 26.9719 - val_keras_ssim: 0.5017\n"
     ]
    },
    {
     "data": {
      "application/vnd.jupyter.widget-view+json": {
       "model_id": "",
       "version_major": 2,
       "version_minor": 0
      },
      "text/plain": [
       "HBox(children=(IntProgress(value=0, description='Epoch 360', max=10, style=ProgressStyle(description_width='in…"
      ]
     },
     "metadata": {},
     "output_type": "display_data"
    },
    {
     "name": "stdout",
     "output_type": "stream",
     "text": [
      "Epoch 361/1000\n",
      "10/10 - 27s - loss: 1.2089e-05 - mean_squared_error: 2.9004e-10 - keras_psnr: 25.1297 - keras_ssim: 0.4251 - val_loss: 1.0859e-05 - val_mean_squared_error: 2.7436e-10 - val_keras_psnr: 26.9759 - val_keras_ssim: 0.5021\n"
     ]
    },
    {
     "data": {
      "application/vnd.jupyter.widget-view+json": {
       "model_id": "",
       "version_major": 2,
       "version_minor": 0
      },
      "text/plain": [
       "HBox(children=(IntProgress(value=0, description='Epoch 361', max=10, style=ProgressStyle(description_width='in…"
      ]
     },
     "metadata": {},
     "output_type": "display_data"
    },
    {
     "name": "stdout",
     "output_type": "stream",
     "text": [
      "Epoch 362/1000\n",
      "10/10 - 27s - loss: 1.3788e-05 - mean_squared_error: 3.8407e-10 - keras_psnr: 25.3828 - keras_ssim: 0.4811 - val_loss: 1.0855e-05 - val_mean_squared_error: 2.7442e-10 - val_keras_psnr: 26.9774 - val_keras_ssim: 0.5021\n"
     ]
    },
    {
     "data": {
      "application/vnd.jupyter.widget-view+json": {
       "model_id": "",
       "version_major": 2,
       "version_minor": 0
      },
      "text/plain": [
       "HBox(children=(IntProgress(value=0, description='Epoch 362', max=10, style=ProgressStyle(description_width='in…"
      ]
     },
     "metadata": {},
     "output_type": "display_data"
    },
    {
     "name": "stdout",
     "output_type": "stream",
     "text": [
      "Epoch 363/1000\n",
      "10/10 - 29s - loss: 1.4562e-05 - mean_squared_error: 4.8921e-10 - keras_psnr: 26.4268 - keras_ssim: 0.5598 - val_loss: 1.0850e-05 - val_mean_squared_error: 2.7354e-10 - val_keras_psnr: 26.9654 - val_keras_ssim: 0.5017\n"
     ]
    },
    {
     "data": {
      "application/vnd.jupyter.widget-view+json": {
       "model_id": "",
       "version_major": 2,
       "version_minor": 0
      },
      "text/plain": [
       "HBox(children=(IntProgress(value=0, description='Epoch 363', max=10, style=ProgressStyle(description_width='in…"
      ]
     },
     "metadata": {},
     "output_type": "display_data"
    },
    {
     "name": "stdout",
     "output_type": "stream",
     "text": [
      "Epoch 364/1000\n",
      "10/10 - 29s - loss: 1.3219e-05 - mean_squared_error: 7.0386e-10 - keras_psnr: 24.3959 - keras_ssim: 0.4119 - val_loss: 1.0841e-05 - val_mean_squared_error: 2.7391e-10 - val_keras_psnr: 26.9854 - val_keras_ssim: 0.5024\n"
     ]
    },
    {
     "data": {
      "application/vnd.jupyter.widget-view+json": {
       "model_id": "",
       "version_major": 2,
       "version_minor": 0
      },
      "text/plain": [
       "HBox(children=(IntProgress(value=0, description='Epoch 364', max=10, style=ProgressStyle(description_width='in…"
      ]
     },
     "metadata": {},
     "output_type": "display_data"
    },
    {
     "name": "stdout",
     "output_type": "stream",
     "text": [
      "Epoch 365/1000\n",
      "10/10 - 29s - loss: 1.0812e-05 - mean_squared_error: 2.2221e-10 - keras_psnr: 25.5544 - keras_ssim: 0.4720 - val_loss: 1.0849e-05 - val_mean_squared_error: 2.7424e-10 - val_keras_psnr: 26.9812 - val_keras_ssim: 0.5022\n"
     ]
    },
    {
     "data": {
      "application/vnd.jupyter.widget-view+json": {
       "model_id": "",
       "version_major": 2,
       "version_minor": 0
      },
      "text/plain": [
       "HBox(children=(IntProgress(value=0, description='Epoch 365', max=10, style=ProgressStyle(description_width='in…"
      ]
     },
     "metadata": {},
     "output_type": "display_data"
    },
    {
     "name": "stdout",
     "output_type": "stream",
     "text": [
      "Epoch 366/1000\n",
      "10/10 - 30s - loss: 8.8785e-06 - mean_squared_error: 1.4091e-10 - keras_psnr: 25.7324 - keras_ssim: 0.4353 - val_loss: 1.0849e-05 - val_mean_squared_error: 2.7415e-10 - val_keras_psnr: 26.9771 - val_keras_ssim: 0.5023\n"
     ]
    },
    {
     "data": {
      "application/vnd.jupyter.widget-view+json": {
       "model_id": "",
       "version_major": 2,
       "version_minor": 0
      },
      "text/plain": [
       "HBox(children=(IntProgress(value=0, description='Epoch 366', max=10, style=ProgressStyle(description_width='in…"
      ]
     },
     "metadata": {},
     "output_type": "display_data"
    },
    {
     "name": "stdout",
     "output_type": "stream",
     "text": [
      "Epoch 367/1000\n",
      "10/10 - 30s - loss: 1.1946e-05 - mean_squared_error: 2.8552e-10 - keras_psnr: 25.6069 - keras_ssim: 0.4851 - val_loss: 1.0846e-05 - val_mean_squared_error: 2.7385e-10 - val_keras_psnr: 26.9775 - val_keras_ssim: 0.5023\n"
     ]
    },
    {
     "data": {
      "application/vnd.jupyter.widget-view+json": {
       "model_id": "",
       "version_major": 2,
       "version_minor": 0
      },
      "text/plain": [
       "HBox(children=(IntProgress(value=0, description='Epoch 367', max=10, style=ProgressStyle(description_width='in…"
      ]
     },
     "metadata": {},
     "output_type": "display_data"
    },
    {
     "name": "stdout",
     "output_type": "stream",
     "text": [
      "Epoch 368/1000\n",
      "10/10 - 28s - loss: 8.2916e-06 - mean_squared_error: 9.0649e-11 - keras_psnr: 25.8681 - keras_ssim: 0.4251 - val_loss: 1.0832e-05 - val_mean_squared_error: 2.7296e-10 - val_keras_psnr: 26.9973 - val_keras_ssim: 0.5030\n"
     ]
    },
    {
     "data": {
      "application/vnd.jupyter.widget-view+json": {
       "model_id": "",
       "version_major": 2,
       "version_minor": 0
      },
      "text/plain": [
       "HBox(children=(IntProgress(value=0, description='Epoch 368', max=10, style=ProgressStyle(description_width='in…"
      ]
     },
     "metadata": {},
     "output_type": "display_data"
    },
    {
     "name": "stdout",
     "output_type": "stream",
     "text": [
      "Epoch 369/1000\n",
      "10/10 - 27s - loss: 1.1082e-05 - mean_squared_error: 5.9018e-10 - keras_psnr: 26.3880 - keras_ssim: 0.5648 - val_loss: 1.0831e-05 - val_mean_squared_error: 2.7316e-10 - val_keras_psnr: 26.9939 - val_keras_ssim: 0.5028\n"
     ]
    },
    {
     "data": {
      "application/vnd.jupyter.widget-view+json": {
       "model_id": "",
       "version_major": 2,
       "version_minor": 0
      },
      "text/plain": [
       "HBox(children=(IntProgress(value=0, description='Epoch 369', max=10, style=ProgressStyle(description_width='in…"
      ]
     },
     "metadata": {},
     "output_type": "display_data"
    },
    {
     "name": "stdout",
     "output_type": "stream",
     "text": [
      "Epoch 370/1000\n",
      "10/10 - 29s - loss: 1.1917e-05 - mean_squared_error: 3.1015e-10 - keras_psnr: 25.6593 - keras_ssim: 0.4469 - val_loss: 1.0835e-05 - val_mean_squared_error: 2.7336e-10 - val_keras_psnr: 26.9884 - val_keras_ssim: 0.5027\n"
     ]
    },
    {
     "data": {
      "application/vnd.jupyter.widget-view+json": {
       "model_id": "",
       "version_major": 2,
       "version_minor": 0
      },
      "text/plain": [
       "HBox(children=(IntProgress(value=0, description='Epoch 370', max=10, style=ProgressStyle(description_width='in…"
      ]
     },
     "metadata": {},
     "output_type": "display_data"
    },
    {
     "name": "stdout",
     "output_type": "stream",
     "text": [
      "Epoch 371/1000\n",
      "10/10 - 29s - loss: 1.7412e-05 - mean_squared_error: 7.9559e-10 - keras_psnr: 26.0279 - keras_ssim: 0.5520 - val_loss: 1.0823e-05 - val_mean_squared_error: 2.7242e-10 - val_keras_psnr: 26.9952 - val_keras_ssim: 0.5029\n"
     ]
    },
    {
     "data": {
      "application/vnd.jupyter.widget-view+json": {
       "model_id": "",
       "version_major": 2,
       "version_minor": 0
      },
      "text/plain": [
       "HBox(children=(IntProgress(value=0, description='Epoch 371', max=10, style=ProgressStyle(description_width='in…"
      ]
     },
     "metadata": {},
     "output_type": "display_data"
    },
    {
     "name": "stdout",
     "output_type": "stream",
     "text": [
      "Epoch 372/1000\n",
      "10/10 - 29s - loss: 1.3716e-05 - mean_squared_error: 3.7857e-10 - keras_psnr: 26.9031 - keras_ssim: 0.5448 - val_loss: 1.0826e-05 - val_mean_squared_error: 2.7276e-10 - val_keras_psnr: 26.9873 - val_keras_ssim: 0.5029\n"
     ]
    },
    {
     "data": {
      "application/vnd.jupyter.widget-view+json": {
       "model_id": "",
       "version_major": 2,
       "version_minor": 0
      },
      "text/plain": [
       "HBox(children=(IntProgress(value=0, description='Epoch 372', max=10, style=ProgressStyle(description_width='in…"
      ]
     },
     "metadata": {},
     "output_type": "display_data"
    },
    {
     "name": "stdout",
     "output_type": "stream",
     "text": [
      "Epoch 373/1000\n",
      "10/10 - 30s - loss: 1.1037e-05 - mean_squared_error: 2.6991e-10 - keras_psnr: 25.4017 - keras_ssim: 0.4603 - val_loss: 1.0828e-05 - val_mean_squared_error: 2.7296e-10 - val_keras_psnr: 26.9868 - val_keras_ssim: 0.5029\n"
     ]
    },
    {
     "data": {
      "application/vnd.jupyter.widget-view+json": {
       "model_id": "",
       "version_major": 2,
       "version_minor": 0
      },
      "text/plain": [
       "HBox(children=(IntProgress(value=0, description='Epoch 373', max=10, style=ProgressStyle(description_width='in…"
      ]
     },
     "metadata": {},
     "output_type": "display_data"
    },
    {
     "name": "stdout",
     "output_type": "stream",
     "text": [
      "Epoch 374/1000\n",
      "10/10 - 29s - loss: 1.7353e-05 - mean_squared_error: 6.2896e-10 - keras_psnr: 26.3749 - keras_ssim: 0.5081 - val_loss: 1.0821e-05 - val_mean_squared_error: 2.7253e-10 - val_keras_psnr: 27.0007 - val_keras_ssim: 0.5034\n"
     ]
    },
    {
     "data": {
      "application/vnd.jupyter.widget-view+json": {
       "model_id": "",
       "version_major": 2,
       "version_minor": 0
      },
      "text/plain": [
       "HBox(children=(IntProgress(value=0, description='Epoch 374', max=10, style=ProgressStyle(description_width='in…"
      ]
     },
     "metadata": {},
     "output_type": "display_data"
    },
    {
     "name": "stdout",
     "output_type": "stream",
     "text": [
      "Epoch 375/1000\n",
      "10/10 - 29s - loss: 1.2880e-05 - mean_squared_error: 4.6966e-10 - keras_psnr: 27.2885 - keras_ssim: 0.5920 - val_loss: 1.0827e-05 - val_mean_squared_error: 2.7302e-10 - val_keras_psnr: 26.9838 - val_keras_ssim: 0.5029\n"
     ]
    },
    {
     "data": {
      "application/vnd.jupyter.widget-view+json": {
       "model_id": "",
       "version_major": 2,
       "version_minor": 0
      },
      "text/plain": [
       "HBox(children=(IntProgress(value=0, description='Epoch 375', max=10, style=ProgressStyle(description_width='in…"
      ]
     },
     "metadata": {},
     "output_type": "display_data"
    },
    {
     "name": "stdout",
     "output_type": "stream",
     "text": [
      "Epoch 376/1000\n",
      "10/10 - 30s - loss: 1.5405e-05 - mean_squared_error: 6.4543e-10 - keras_psnr: 24.8321 - keras_ssim: 0.4888 - val_loss: 1.0810e-05 - val_mean_squared_error: 2.7166e-10 - val_keras_psnr: 27.0016 - val_keras_ssim: 0.5033\n"
     ]
    },
    {
     "data": {
      "application/vnd.jupyter.widget-view+json": {
       "model_id": "",
       "version_major": 2,
       "version_minor": 0
      },
      "text/plain": [
       "HBox(children=(IntProgress(value=0, description='Epoch 376', max=10, style=ProgressStyle(description_width='in…"
      ]
     },
     "metadata": {},
     "output_type": "display_data"
    },
    {
     "name": "stdout",
     "output_type": "stream",
     "text": [
      "Epoch 377/1000\n",
      "10/10 - 29s - loss: 1.2785e-05 - mean_squared_error: 4.0184e-10 - keras_psnr: 26.2625 - keras_ssim: 0.5168 - val_loss: 1.0802e-05 - val_mean_squared_error: 2.7167e-10 - val_keras_psnr: 27.0056 - val_keras_ssim: 0.5034\n"
     ]
    },
    {
     "data": {
      "application/vnd.jupyter.widget-view+json": {
       "model_id": "",
       "version_major": 2,
       "version_minor": 0
      },
      "text/plain": [
       "HBox(children=(IntProgress(value=0, description='Epoch 377', max=10, style=ProgressStyle(description_width='in…"
      ]
     },
     "metadata": {},
     "output_type": "display_data"
    },
    {
     "name": "stdout",
     "output_type": "stream",
     "text": [
      "Epoch 378/1000\n",
      "10/10 - 30s - loss: 1.3318e-05 - mean_squared_error: 5.1082e-10 - keras_psnr: 26.1398 - keras_ssim: 0.5356 - val_loss: 1.0813e-05 - val_mean_squared_error: 2.7222e-10 - val_keras_psnr: 26.9953 - val_keras_ssim: 0.5032\n"
     ]
    },
    {
     "data": {
      "application/vnd.jupyter.widget-view+json": {
       "model_id": "",
       "version_major": 2,
       "version_minor": 0
      },
      "text/plain": [
       "HBox(children=(IntProgress(value=0, description='Epoch 378', max=10, style=ProgressStyle(description_width='in…"
      ]
     },
     "metadata": {},
     "output_type": "display_data"
    },
    {
     "name": "stdout",
     "output_type": "stream",
     "text": [
      "Epoch 379/1000\n",
      "10/10 - 29s - loss: 9.4609e-06 - mean_squared_error: 1.8665e-10 - keras_psnr: 26.3429 - keras_ssim: 0.4787 - val_loss: 1.0812e-05 - val_mean_squared_error: 2.7239e-10 - val_keras_psnr: 26.9985 - val_keras_ssim: 0.5035\n"
     ]
    },
    {
     "data": {
      "application/vnd.jupyter.widget-view+json": {
       "model_id": "",
       "version_major": 2,
       "version_minor": 0
      },
      "text/plain": [
       "HBox(children=(IntProgress(value=0, description='Epoch 379', max=10, style=ProgressStyle(description_width='in…"
      ]
     },
     "metadata": {},
     "output_type": "display_data"
    },
    {
     "name": "stdout",
     "output_type": "stream",
     "text": [
      "Epoch 380/1000\n",
      "10/10 - 30s - loss: 2.6781e-05 - mean_squared_error: 2.0227e-09 - keras_psnr: 25.5010 - keras_ssim: 0.4979 - val_loss: 1.0793e-05 - val_mean_squared_error: 2.7118e-10 - val_keras_psnr: 27.0118 - val_keras_ssim: 0.5039\n"
     ]
    },
    {
     "data": {
      "application/vnd.jupyter.widget-view+json": {
       "model_id": "",
       "version_major": 2,
       "version_minor": 0
      },
      "text/plain": [
       "HBox(children=(IntProgress(value=0, description='Epoch 380', max=10, style=ProgressStyle(description_width='in…"
      ]
     },
     "metadata": {},
     "output_type": "display_data"
    },
    {
     "name": "stdout",
     "output_type": "stream",
     "text": [
      "Epoch 381/1000\n",
      "10/10 - 29s - loss: 1.4208e-05 - mean_squared_error: 4.8106e-10 - keras_psnr: 28.7213 - keras_ssim: 0.6486 - val_loss: 1.0801e-05 - val_mean_squared_error: 2.7165e-10 - val_keras_psnr: 27.0103 - val_keras_ssim: 0.5039\n"
     ]
    },
    {
     "data": {
      "application/vnd.jupyter.widget-view+json": {
       "model_id": "",
       "version_major": 2,
       "version_minor": 0
      },
      "text/plain": [
       "HBox(children=(IntProgress(value=0, description='Epoch 381', max=10, style=ProgressStyle(description_width='in…"
      ]
     },
     "metadata": {},
     "output_type": "display_data"
    },
    {
     "name": "stdout",
     "output_type": "stream",
     "text": [
      "Epoch 382/1000\n",
      "10/10 - 28s - loss: 1.1058e-05 - mean_squared_error: 3.3462e-10 - keras_psnr: 26.5368 - keras_ssim: 0.5275 - val_loss: 1.0782e-05 - val_mean_squared_error: 2.7096e-10 - val_keras_psnr: 27.0303 - val_keras_ssim: 0.5045\n"
     ]
    },
    {
     "data": {
      "application/vnd.jupyter.widget-view+json": {
       "model_id": "",
       "version_major": 2,
       "version_minor": 0
      },
      "text/plain": [
       "HBox(children=(IntProgress(value=0, description='Epoch 382', max=10, style=ProgressStyle(description_width='in…"
      ]
     },
     "metadata": {},
     "output_type": "display_data"
    },
    {
     "name": "stdout",
     "output_type": "stream",
     "text": [
      "Epoch 383/1000\n",
      "10/10 - 29s - loss: 1.1598e-05 - mean_squared_error: 3.9349e-10 - keras_psnr: 27.3360 - keras_ssim: 0.5743 - val_loss: 1.0799e-05 - val_mean_squared_error: 2.7130e-10 - val_keras_psnr: 27.0064 - val_keras_ssim: 0.5036\n"
     ]
    },
    {
     "data": {
      "application/vnd.jupyter.widget-view+json": {
       "model_id": "",
       "version_major": 2,
       "version_minor": 0
      },
      "text/plain": [
       "HBox(children=(IntProgress(value=0, description='Epoch 383', max=10, style=ProgressStyle(description_width='in…"
      ]
     },
     "metadata": {},
     "output_type": "display_data"
    },
    {
     "name": "stdout",
     "output_type": "stream",
     "text": [
      "Epoch 384/1000\n",
      "10/10 - 29s - loss: 1.2141e-05 - mean_squared_error: 4.1606e-10 - keras_psnr: 26.8839 - keras_ssim: 0.5520 - val_loss: 1.0786e-05 - val_mean_squared_error: 2.7038e-10 - val_keras_psnr: 27.0087 - val_keras_ssim: 0.5035\n"
     ]
    },
    {
     "data": {
      "application/vnd.jupyter.widget-view+json": {
       "model_id": "",
       "version_major": 2,
       "version_minor": 0
      },
      "text/plain": [
       "HBox(children=(IntProgress(value=0, description='Epoch 384', max=10, style=ProgressStyle(description_width='in…"
      ]
     },
     "metadata": {},
     "output_type": "display_data"
    },
    {
     "name": "stdout",
     "output_type": "stream",
     "text": [
      "Epoch 385/1000\n",
      "10/10 - 28s - loss: 1.5614e-05 - mean_squared_error: 1.1449e-09 - keras_psnr: 23.4500 - keras_ssim: 0.4290 - val_loss: 1.0777e-05 - val_mean_squared_error: 2.7016e-10 - val_keras_psnr: 27.0208 - val_keras_ssim: 0.5040\n"
     ]
    },
    {
     "data": {
      "application/vnd.jupyter.widget-view+json": {
       "model_id": "",
       "version_major": 2,
       "version_minor": 0
      },
      "text/plain": [
       "HBox(children=(IntProgress(value=0, description='Epoch 385', max=10, style=ProgressStyle(description_width='in…"
      ]
     },
     "metadata": {},
     "output_type": "display_data"
    },
    {
     "name": "stdout",
     "output_type": "stream",
     "text": [
      "Epoch 386/1000\n",
      "10/10 - 30s - loss: 1.5467e-05 - mean_squared_error: 4.7525e-10 - keras_psnr: 26.0816 - keras_ssim: 0.5243 - val_loss: 1.0791e-05 - val_mean_squared_error: 2.7153e-10 - val_keras_psnr: 27.0169 - val_keras_ssim: 0.5041\n"
     ]
    },
    {
     "data": {
      "application/vnd.jupyter.widget-view+json": {
       "model_id": "",
       "version_major": 2,
       "version_minor": 0
      },
      "text/plain": [
       "HBox(children=(IntProgress(value=0, description='Epoch 386', max=10, style=ProgressStyle(description_width='in…"
      ]
     },
     "metadata": {},
     "output_type": "display_data"
    },
    {
     "name": "stdout",
     "output_type": "stream",
     "text": [
      "Epoch 387/1000\n",
      "10/10 - 29s - loss: 1.2438e-05 - mean_squared_error: 4.6687e-10 - keras_psnr: 27.5653 - keras_ssim: 0.5883 - val_loss: 1.0778e-05 - val_mean_squared_error: 2.7041e-10 - val_keras_psnr: 27.0348 - val_keras_ssim: 0.5046\n"
     ]
    },
    {
     "data": {
      "application/vnd.jupyter.widget-view+json": {
       "model_id": "",
       "version_major": 2,
       "version_minor": 0
      },
      "text/plain": [
       "HBox(children=(IntProgress(value=0, description='Epoch 387', max=10, style=ProgressStyle(description_width='in…"
      ]
     },
     "metadata": {},
     "output_type": "display_data"
    },
    {
     "name": "stdout",
     "output_type": "stream",
     "text": [
      "Epoch 388/1000\n",
      "10/10 - 29s - loss: 1.3836e-05 - mean_squared_error: 2.7892e-10 - keras_psnr: 26.5082 - keras_ssim: 0.5156 - val_loss: 1.0785e-05 - val_mean_squared_error: 2.7129e-10 - val_keras_psnr: 27.0291 - val_keras_ssim: 0.5046\n"
     ]
    },
    {
     "data": {
      "application/vnd.jupyter.widget-view+json": {
       "model_id": "",
       "version_major": 2,
       "version_minor": 0
      },
      "text/plain": [
       "HBox(children=(IntProgress(value=0, description='Epoch 388', max=10, style=ProgressStyle(description_width='in…"
      ]
     },
     "metadata": {},
     "output_type": "display_data"
    },
    {
     "name": "stdout",
     "output_type": "stream",
     "text": [
      "Epoch 389/1000\n",
      "10/10 - 28s - loss: 1.4150e-05 - mean_squared_error: 4.4004e-10 - keras_psnr: 26.5301 - keras_ssim: 0.5567 - val_loss: 1.0782e-05 - val_mean_squared_error: 2.7094e-10 - val_keras_psnr: 27.0159 - val_keras_ssim: 0.5041\n"
     ]
    },
    {
     "data": {
      "application/vnd.jupyter.widget-view+json": {
       "model_id": "",
       "version_major": 2,
       "version_minor": 0
      },
      "text/plain": [
       "HBox(children=(IntProgress(value=0, description='Epoch 389', max=10, style=ProgressStyle(description_width='in…"
      ]
     },
     "metadata": {},
     "output_type": "display_data"
    },
    {
     "name": "stdout",
     "output_type": "stream",
     "text": [
      "Epoch 390/1000\n",
      "10/10 - 32s - loss: 1.1459e-05 - mean_squared_error: 2.4171e-10 - keras_psnr: 25.1541 - keras_ssim: 0.4215 - val_loss: 1.0769e-05 - val_mean_squared_error: 2.6985e-10 - val_keras_psnr: 27.0223 - val_keras_ssim: 0.5042\n"
     ]
    },
    {
     "data": {
      "application/vnd.jupyter.widget-view+json": {
       "model_id": "",
       "version_major": 2,
       "version_minor": 0
      },
      "text/plain": [
       "HBox(children=(IntProgress(value=0, description='Epoch 390', max=10, style=ProgressStyle(description_width='in…"
      ]
     },
     "metadata": {},
     "output_type": "display_data"
    },
    {
     "name": "stdout",
     "output_type": "stream",
     "text": [
      "Epoch 391/1000\n",
      "10/10 - 30s - loss: 1.2829e-05 - mean_squared_error: 3.6570e-10 - keras_psnr: 26.1652 - keras_ssim: 0.4974 - val_loss: 1.0769e-05 - val_mean_squared_error: 2.7006e-10 - val_keras_psnr: 27.0311 - val_keras_ssim: 0.5045\n"
     ]
    },
    {
     "data": {
      "application/vnd.jupyter.widget-view+json": {
       "model_id": "",
       "version_major": 2,
       "version_minor": 0
      },
      "text/plain": [
       "HBox(children=(IntProgress(value=0, description='Epoch 391', max=10, style=ProgressStyle(description_width='in…"
      ]
     },
     "metadata": {},
     "output_type": "display_data"
    },
    {
     "name": "stdout",
     "output_type": "stream",
     "text": [
      "Epoch 392/1000\n",
      "10/10 - 30s - loss: 1.1102e-05 - mean_squared_error: 1.6046e-10 - keras_psnr: 25.9330 - keras_ssim: 0.4499 - val_loss: 1.0759e-05 - val_mean_squared_error: 2.6963e-10 - val_keras_psnr: 27.0392 - val_keras_ssim: 0.5049\n"
     ]
    },
    {
     "data": {
      "application/vnd.jupyter.widget-view+json": {
       "model_id": "",
       "version_major": 2,
       "version_minor": 0
      },
      "text/plain": [
       "HBox(children=(IntProgress(value=0, description='Epoch 392', max=10, style=ProgressStyle(description_width='in…"
      ]
     },
     "metadata": {},
     "output_type": "display_data"
    },
    {
     "name": "stdout",
     "output_type": "stream",
     "text": [
      "Epoch 393/1000\n",
      "10/10 - 29s - loss: 1.4229e-05 - mean_squared_error: 4.0827e-10 - keras_psnr: 24.4302 - keras_ssim: 0.4907 - val_loss: 1.0765e-05 - val_mean_squared_error: 2.6996e-10 - val_keras_psnr: 27.0297 - val_keras_ssim: 0.5046\n"
     ]
    },
    {
     "data": {
      "application/vnd.jupyter.widget-view+json": {
       "model_id": "",
       "version_major": 2,
       "version_minor": 0
      },
      "text/plain": [
       "HBox(children=(IntProgress(value=0, description='Epoch 393', max=10, style=ProgressStyle(description_width='in…"
      ]
     },
     "metadata": {},
     "output_type": "display_data"
    },
    {
     "name": "stdout",
     "output_type": "stream",
     "text": [
      "Epoch 394/1000\n",
      "10/10 - 29s - loss: 9.7422e-06 - mean_squared_error: 4.4206e-10 - keras_psnr: 26.8686 - keras_ssim: 0.5290 - val_loss: 1.0758e-05 - val_mean_squared_error: 2.6936e-10 - val_keras_psnr: 27.0412 - val_keras_ssim: 0.5050\n"
     ]
    },
    {
     "data": {
      "application/vnd.jupyter.widget-view+json": {
       "model_id": "",
       "version_major": 2,
       "version_minor": 0
      },
      "text/plain": [
       "HBox(children=(IntProgress(value=0, description='Epoch 394', max=10, style=ProgressStyle(description_width='in…"
      ]
     },
     "metadata": {},
     "output_type": "display_data"
    },
    {
     "name": "stdout",
     "output_type": "stream",
     "text": [
      "Epoch 395/1000\n",
      "10/10 - 28s - loss: 1.5211e-05 - mean_squared_error: 2.4402e-09 - keras_psnr: 26.6603 - keras_ssim: 0.5435 - val_loss: 1.0760e-05 - val_mean_squared_error: 2.6925e-10 - val_keras_psnr: 27.0230 - val_keras_ssim: 0.5047\n"
     ]
    },
    {
     "data": {
      "application/vnd.jupyter.widget-view+json": {
       "model_id": "",
       "version_major": 2,
       "version_minor": 0
      },
      "text/plain": [
       "HBox(children=(IntProgress(value=0, description='Epoch 395', max=10, style=ProgressStyle(description_width='in…"
      ]
     },
     "metadata": {},
     "output_type": "display_data"
    },
    {
     "name": "stdout",
     "output_type": "stream",
     "text": [
      "Epoch 396/1000\n",
      "10/10 - 28s - loss: 9.3811e-06 - mean_squared_error: 2.2364e-10 - keras_psnr: 26.0278 - keras_ssim: 0.4877 - val_loss: 1.0756e-05 - val_mean_squared_error: 2.6919e-10 - val_keras_psnr: 27.0258 - val_keras_ssim: 0.5046\n"
     ]
    },
    {
     "data": {
      "application/vnd.jupyter.widget-view+json": {
       "model_id": "",
       "version_major": 2,
       "version_minor": 0
      },
      "text/plain": [
       "HBox(children=(IntProgress(value=0, description='Epoch 396', max=10, style=ProgressStyle(description_width='in…"
      ]
     },
     "metadata": {},
     "output_type": "display_data"
    },
    {
     "name": "stdout",
     "output_type": "stream",
     "text": [
      "Epoch 397/1000\n",
      "10/10 - 29s - loss: 1.8498e-05 - mean_squared_error: 1.6686e-09 - keras_psnr: 25.2042 - keras_ssim: 0.5471 - val_loss: 1.0726e-05 - val_mean_squared_error: 2.6763e-10 - val_keras_psnr: 27.0598 - val_keras_ssim: 0.5055\n"
     ]
    },
    {
     "data": {
      "application/vnd.jupyter.widget-view+json": {
       "model_id": "",
       "version_major": 2,
       "version_minor": 0
      },
      "text/plain": [
       "HBox(children=(IntProgress(value=0, description='Epoch 397', max=10, style=ProgressStyle(description_width='in…"
      ]
     },
     "metadata": {},
     "output_type": "display_data"
    },
    {
     "name": "stdout",
     "output_type": "stream",
     "text": [
      "Epoch 398/1000\n",
      "10/10 - 28s - loss: 1.2657e-05 - mean_squared_error: 1.9840e-10 - keras_psnr: 24.8060 - keras_ssim: 0.3914 - val_loss: 1.0745e-05 - val_mean_squared_error: 2.6901e-10 - val_keras_psnr: 27.0550 - val_keras_ssim: 0.5054\n"
     ]
    },
    {
     "data": {
      "application/vnd.jupyter.widget-view+json": {
       "model_id": "",
       "version_major": 2,
       "version_minor": 0
      },
      "text/plain": [
       "HBox(children=(IntProgress(value=0, description='Epoch 398', max=10, style=ProgressStyle(description_width='in…"
      ]
     },
     "metadata": {},
     "output_type": "display_data"
    },
    {
     "name": "stdout",
     "output_type": "stream",
     "text": [
      "Epoch 399/1000\n",
      "10/10 - 28s - loss: 1.2052e-05 - mean_squared_error: 2.3968e-10 - keras_psnr: 27.3205 - keras_ssim: 0.5285 - val_loss: 1.0749e-05 - val_mean_squared_error: 2.6967e-10 - val_keras_psnr: 27.0403 - val_keras_ssim: 0.5051\n"
     ]
    },
    {
     "data": {
      "application/vnd.jupyter.widget-view+json": {
       "model_id": "",
       "version_major": 2,
       "version_minor": 0
      },
      "text/plain": [
       "HBox(children=(IntProgress(value=0, description='Epoch 399', max=10, style=ProgressStyle(description_width='in…"
      ]
     },
     "metadata": {},
     "output_type": "display_data"
    },
    {
     "name": "stdout",
     "output_type": "stream",
     "text": [
      "Epoch 400/1000\n",
      "10/10 - 28s - loss: 1.3315e-05 - mean_squared_error: 3.5718e-10 - keras_psnr: 26.0647 - keras_ssim: 0.5142 - val_loss: 1.0717e-05 - val_mean_squared_error: 2.6735e-10 - val_keras_psnr: 27.0611 - val_keras_ssim: 0.5058\n"
     ]
    },
    {
     "data": {
      "application/vnd.jupyter.widget-view+json": {
       "model_id": "",
       "version_major": 2,
       "version_minor": 0
      },
      "text/plain": [
       "HBox(children=(IntProgress(value=0, description='Epoch 400', max=10, style=ProgressStyle(description_width='in…"
      ]
     },
     "metadata": {},
     "output_type": "display_data"
    },
    {
     "name": "stdout",
     "output_type": "stream",
     "text": [
      "Epoch 401/1000\n",
      "10/10 - 29s - loss: 9.6548e-06 - mean_squared_error: 1.7605e-10 - keras_psnr: 27.0971 - keras_ssim: 0.5158 - val_loss: 1.0744e-05 - val_mean_squared_error: 2.6948e-10 - val_keras_psnr: 27.0366 - val_keras_ssim: 0.5052\n"
     ]
    },
    {
     "data": {
      "application/vnd.jupyter.widget-view+json": {
       "model_id": "",
       "version_major": 2,
       "version_minor": 0
      },
      "text/plain": [
       "HBox(children=(IntProgress(value=0, description='Epoch 401', max=10, style=ProgressStyle(description_width='in…"
      ]
     },
     "metadata": {},
     "output_type": "display_data"
    },
    {
     "name": "stdout",
     "output_type": "stream",
     "text": [
      "Epoch 402/1000\n",
      "10/10 - 30s - loss: 1.7368e-05 - mean_squared_error: 5.7521e-10 - keras_psnr: 25.3151 - keras_ssim: 0.5267 - val_loss: 1.0738e-05 - val_mean_squared_error: 2.6910e-10 - val_keras_psnr: 27.0457 - val_keras_ssim: 0.5054\n"
     ]
    },
    {
     "data": {
      "application/vnd.jupyter.widget-view+json": {
       "model_id": "",
       "version_major": 2,
       "version_minor": 0
      },
      "text/plain": [
       "HBox(children=(IntProgress(value=0, description='Epoch 402', max=10, style=ProgressStyle(description_width='in…"
      ]
     },
     "metadata": {},
     "output_type": "display_data"
    },
    {
     "name": "stdout",
     "output_type": "stream",
     "text": [
      "Epoch 403/1000\n",
      "10/10 - 29s - loss: 9.0912e-06 - mean_squared_error: 1.8143e-10 - keras_psnr: 26.2320 - keras_ssim: 0.4532 - val_loss: 1.0732e-05 - val_mean_squared_error: 2.6851e-10 - val_keras_psnr: 27.0480 - val_keras_ssim: 0.5055\n"
     ]
    },
    {
     "data": {
      "application/vnd.jupyter.widget-view+json": {
       "model_id": "",
       "version_major": 2,
       "version_minor": 0
      },
      "text/plain": [
       "HBox(children=(IntProgress(value=0, description='Epoch 403', max=10, style=ProgressStyle(description_width='in…"
      ]
     },
     "metadata": {},
     "output_type": "display_data"
    },
    {
     "name": "stdout",
     "output_type": "stream",
     "text": [
      "Epoch 404/1000\n",
      "10/10 - 29s - loss: 1.1370e-05 - mean_squared_error: 3.1085e-10 - keras_psnr: 26.1748 - keras_ssim: 0.4820 - val_loss: 1.0741e-05 - val_mean_squared_error: 2.6936e-10 - val_keras_psnr: 27.0535 - val_keras_ssim: 0.5058\n"
     ]
    },
    {
     "data": {
      "application/vnd.jupyter.widget-view+json": {
       "model_id": "",
       "version_major": 2,
       "version_minor": 0
      },
      "text/plain": [
       "HBox(children=(IntProgress(value=0, description='Epoch 404', max=10, style=ProgressStyle(description_width='in…"
      ]
     },
     "metadata": {},
     "output_type": "display_data"
    },
    {
     "name": "stdout",
     "output_type": "stream",
     "text": [
      "Epoch 405/1000\n",
      "10/10 - 29s - loss: 1.1036e-05 - mean_squared_error: 3.5248e-10 - keras_psnr: 27.1504 - keras_ssim: 0.5805 - val_loss: 1.0725e-05 - val_mean_squared_error: 2.6815e-10 - val_keras_psnr: 27.0551 - val_keras_ssim: 0.5058\n"
     ]
    },
    {
     "data": {
      "application/vnd.jupyter.widget-view+json": {
       "model_id": "",
       "version_major": 2,
       "version_minor": 0
      },
      "text/plain": [
       "HBox(children=(IntProgress(value=0, description='Epoch 405', max=10, style=ProgressStyle(description_width='in…"
      ]
     },
     "metadata": {},
     "output_type": "display_data"
    },
    {
     "name": "stdout",
     "output_type": "stream",
     "text": [
      "Epoch 406/1000\n",
      "10/10 - 30s - loss: 1.0970e-05 - mean_squared_error: 1.8915e-10 - keras_psnr: 25.7110 - keras_ssim: 0.4281 - val_loss: 1.0719e-05 - val_mean_squared_error: 2.6817e-10 - val_keras_psnr: 27.0587 - val_keras_ssim: 0.5060\n"
     ]
    },
    {
     "data": {
      "application/vnd.jupyter.widget-view+json": {
       "model_id": "",
       "version_major": 2,
       "version_minor": 0
      },
      "text/plain": [
       "HBox(children=(IntProgress(value=0, description='Epoch 406', max=10, style=ProgressStyle(description_width='in…"
      ]
     },
     "metadata": {},
     "output_type": "display_data"
    },
    {
     "name": "stdout",
     "output_type": "stream",
     "text": [
      "Epoch 407/1000\n",
      "10/10 - 30s - loss: 1.6018e-05 - mean_squared_error: 3.0231e-10 - keras_psnr: 25.4665 - keras_ssim: 0.4455 - val_loss: 1.0704e-05 - val_mean_squared_error: 2.6725e-10 - val_keras_psnr: 27.0687 - val_keras_ssim: 0.5062\n"
     ]
    },
    {
     "data": {
      "application/vnd.jupyter.widget-view+json": {
       "model_id": "",
       "version_major": 2,
       "version_minor": 0
      },
      "text/plain": [
       "HBox(children=(IntProgress(value=0, description='Epoch 407', max=10, style=ProgressStyle(description_width='in…"
      ]
     },
     "metadata": {},
     "output_type": "display_data"
    },
    {
     "name": "stdout",
     "output_type": "stream",
     "text": [
      "Epoch 408/1000\n",
      "10/10 - 29s - loss: 9.4000e-06 - mean_squared_error: 1.2261e-10 - keras_psnr: 26.0447 - keras_ssim: 0.4397 - val_loss: 1.0728e-05 - val_mean_squared_error: 2.6894e-10 - val_keras_psnr: 27.0622 - val_keras_ssim: 0.5062\n"
     ]
    },
    {
     "data": {
      "application/vnd.jupyter.widget-view+json": {
       "model_id": "",
       "version_major": 2,
       "version_minor": 0
      },
      "text/plain": [
       "HBox(children=(IntProgress(value=0, description='Epoch 408', max=10, style=ProgressStyle(description_width='in…"
      ]
     },
     "metadata": {},
     "output_type": "display_data"
    },
    {
     "name": "stdout",
     "output_type": "stream",
     "text": [
      "Epoch 409/1000\n",
      "10/10 - 29s - loss: 1.2210e-05 - mean_squared_error: 2.9714e-10 - keras_psnr: 27.2409 - keras_ssim: 0.5444 - val_loss: 1.0707e-05 - val_mean_squared_error: 2.6744e-10 - val_keras_psnr: 27.0815 - val_keras_ssim: 0.5069\n"
     ]
    },
    {
     "data": {
      "application/vnd.jupyter.widget-view+json": {
       "model_id": "",
       "version_major": 2,
       "version_minor": 0
      },
      "text/plain": [
       "HBox(children=(IntProgress(value=0, description='Epoch 409', max=10, style=ProgressStyle(description_width='in…"
      ]
     },
     "metadata": {},
     "output_type": "display_data"
    },
    {
     "name": "stdout",
     "output_type": "stream",
     "text": [
      "Epoch 410/1000\n",
      "10/10 - 29s - loss: 1.2922e-05 - mean_squared_error: 4.2869e-10 - keras_psnr: 26.9618 - keras_ssim: 0.5381 - val_loss: 1.0702e-05 - val_mean_squared_error: 2.6642e-10 - val_keras_psnr: 27.0834 - val_keras_ssim: 0.5067\n"
     ]
    },
    {
     "data": {
      "application/vnd.jupyter.widget-view+json": {
       "model_id": "",
       "version_major": 2,
       "version_minor": 0
      },
      "text/plain": [
       "HBox(children=(IntProgress(value=0, description='Epoch 410', max=10, style=ProgressStyle(description_width='in…"
      ]
     },
     "metadata": {},
     "output_type": "display_data"
    },
    {
     "name": "stdout",
     "output_type": "stream",
     "text": [
      "Epoch 411/1000\n",
      "10/10 - 29s - loss: 1.2490e-05 - mean_squared_error: 4.8195e-10 - keras_psnr: 24.6551 - keras_ssim: 0.4567 - val_loss: 1.0730e-05 - val_mean_squared_error: 2.6918e-10 - val_keras_psnr: 27.0681 - val_keras_ssim: 0.5065\n"
     ]
    },
    {
     "data": {
      "application/vnd.jupyter.widget-view+json": {
       "model_id": "",
       "version_major": 2,
       "version_minor": 0
      },
      "text/plain": [
       "HBox(children=(IntProgress(value=0, description='Epoch 411', max=10, style=ProgressStyle(description_width='in…"
      ]
     },
     "metadata": {},
     "output_type": "display_data"
    },
    {
     "name": "stdout",
     "output_type": "stream",
     "text": [
      "Epoch 412/1000\n",
      "10/10 - 29s - loss: 1.0452e-05 - mean_squared_error: 2.7946e-10 - keras_psnr: 25.1626 - keras_ssim: 0.4609 - val_loss: 1.0693e-05 - val_mean_squared_error: 2.6641e-10 - val_keras_psnr: 27.0786 - val_keras_ssim: 0.5068\n"
     ]
    },
    {
     "data": {
      "application/vnd.jupyter.widget-view+json": {
       "model_id": "",
       "version_major": 2,
       "version_minor": 0
      },
      "text/plain": [
       "HBox(children=(IntProgress(value=0, description='Epoch 412', max=10, style=ProgressStyle(description_width='in…"
      ]
     },
     "metadata": {},
     "output_type": "display_data"
    },
    {
     "name": "stdout",
     "output_type": "stream",
     "text": [
      "Epoch 413/1000\n",
      "10/10 - 28s - loss: 1.5128e-05 - mean_squared_error: 6.6742e-10 - keras_psnr: 27.2731 - keras_ssim: 0.5948 - val_loss: 1.0694e-05 - val_mean_squared_error: 2.6667e-10 - val_keras_psnr: 27.0771 - val_keras_ssim: 0.5068\n"
     ]
    },
    {
     "data": {
      "application/vnd.jupyter.widget-view+json": {
       "model_id": "",
       "version_major": 2,
       "version_minor": 0
      },
      "text/plain": [
       "HBox(children=(IntProgress(value=0, description='Epoch 413', max=10, style=ProgressStyle(description_width='in…"
      ]
     },
     "metadata": {},
     "output_type": "display_data"
    },
    {
     "name": "stdout",
     "output_type": "stream",
     "text": [
      "Epoch 414/1000\n",
      "10/10 - 29s - loss: 1.0626e-05 - mean_squared_error: 2.2218e-10 - keras_psnr: 26.7916 - keras_ssim: 0.5059 - val_loss: 1.0704e-05 - val_mean_squared_error: 2.6746e-10 - val_keras_psnr: 27.0747 - val_keras_ssim: 0.5069\n"
     ]
    },
    {
     "data": {
      "application/vnd.jupyter.widget-view+json": {
       "model_id": "",
       "version_major": 2,
       "version_minor": 0
      },
      "text/plain": [
       "HBox(children=(IntProgress(value=0, description='Epoch 414', max=10, style=ProgressStyle(description_width='in…"
      ]
     },
     "metadata": {},
     "output_type": "display_data"
    },
    {
     "name": "stdout",
     "output_type": "stream",
     "text": [
      "Epoch 415/1000\n",
      "10/10 - 29s - loss: 1.3850e-05 - mean_squared_error: 5.9543e-10 - keras_psnr: 27.4822 - keras_ssim: 0.5860 - val_loss: 1.0695e-05 - val_mean_squared_error: 2.6652e-10 - val_keras_psnr: 27.0726 - val_keras_ssim: 0.5066\n"
     ]
    },
    {
     "data": {
      "application/vnd.jupyter.widget-view+json": {
       "model_id": "",
       "version_major": 2,
       "version_minor": 0
      },
      "text/plain": [
       "HBox(children=(IntProgress(value=0, description='Epoch 415', max=10, style=ProgressStyle(description_width='in…"
      ]
     },
     "metadata": {},
     "output_type": "display_data"
    },
    {
     "name": "stdout",
     "output_type": "stream",
     "text": [
      "Epoch 416/1000\n",
      "10/10 - 29s - loss: 1.5348e-05 - mean_squared_error: 3.6241e-10 - keras_psnr: 26.2131 - keras_ssim: 0.5319 - val_loss: 1.0710e-05 - val_mean_squared_error: 2.6771e-10 - val_keras_psnr: 27.0622 - val_keras_ssim: 0.5065\n"
     ]
    },
    {
     "data": {
      "application/vnd.jupyter.widget-view+json": {
       "model_id": "",
       "version_major": 2,
       "version_minor": 0
      },
      "text/plain": [
       "HBox(children=(IntProgress(value=0, description='Epoch 416', max=10, style=ProgressStyle(description_width='in…"
      ]
     },
     "metadata": {},
     "output_type": "display_data"
    },
    {
     "name": "stdout",
     "output_type": "stream",
     "text": [
      "Epoch 417/1000\n",
      "10/10 - 30s - loss: 1.0655e-05 - mean_squared_error: 2.0610e-10 - keras_psnr: 25.8296 - keras_ssim: 0.4752 - val_loss: 1.0693e-05 - val_mean_squared_error: 2.6675e-10 - val_keras_psnr: 27.0782 - val_keras_ssim: 0.5070\n"
     ]
    },
    {
     "data": {
      "application/vnd.jupyter.widget-view+json": {
       "model_id": "",
       "version_major": 2,
       "version_minor": 0
      },
      "text/plain": [
       "HBox(children=(IntProgress(value=0, description='Epoch 417', max=10, style=ProgressStyle(description_width='in…"
      ]
     },
     "metadata": {},
     "output_type": "display_data"
    },
    {
     "name": "stdout",
     "output_type": "stream",
     "text": [
      "Epoch 418/1000\n",
      "10/10 - 29s - loss: 1.1838e-05 - mean_squared_error: 2.7707e-10 - keras_psnr: 26.7931 - keras_ssim: 0.5222 - val_loss: 1.0697e-05 - val_mean_squared_error: 2.6735e-10 - val_keras_psnr: 27.0851 - val_keras_ssim: 0.5073\n"
     ]
    },
    {
     "data": {
      "application/vnd.jupyter.widget-view+json": {
       "model_id": "",
       "version_major": 2,
       "version_minor": 0
      },
      "text/plain": [
       "HBox(children=(IntProgress(value=0, description='Epoch 418', max=10, style=ProgressStyle(description_width='in…"
      ]
     },
     "metadata": {},
     "output_type": "display_data"
    },
    {
     "name": "stdout",
     "output_type": "stream",
     "text": [
      "Epoch 419/1000\n",
      "10/10 - 29s - loss: 1.5544e-05 - mean_squared_error: 5.3089e-10 - keras_psnr: 25.3338 - keras_ssim: 0.4999 - val_loss: 1.0702e-05 - val_mean_squared_error: 2.6730e-10 - val_keras_psnr: 27.0651 - val_keras_ssim: 0.5067\n"
     ]
    },
    {
     "data": {
      "application/vnd.jupyter.widget-view+json": {
       "model_id": "",
       "version_major": 2,
       "version_minor": 0
      },
      "text/plain": [
       "HBox(children=(IntProgress(value=0, description='Epoch 419', max=10, style=ProgressStyle(description_width='in…"
      ]
     },
     "metadata": {},
     "output_type": "display_data"
    },
    {
     "name": "stdout",
     "output_type": "stream",
     "text": [
      "Epoch 420/1000\n",
      "10/10 - 28s - loss: 1.1881e-05 - mean_squared_error: 3.2326e-10 - keras_psnr: 26.1334 - keras_ssim: 0.5114 - val_loss: 1.0712e-05 - val_mean_squared_error: 2.6819e-10 - val_keras_psnr: 27.0677 - val_keras_ssim: 0.5070\n"
     ]
    },
    {
     "data": {
      "application/vnd.jupyter.widget-view+json": {
       "model_id": "",
       "version_major": 2,
       "version_minor": 0
      },
      "text/plain": [
       "HBox(children=(IntProgress(value=0, description='Epoch 420', max=10, style=ProgressStyle(description_width='in…"
      ]
     },
     "metadata": {},
     "output_type": "display_data"
    },
    {
     "name": "stdout",
     "output_type": "stream",
     "text": [
      "Epoch 421/1000\n",
      "10/10 - 29s - loss: 1.2833e-05 - mean_squared_error: 6.2874e-10 - keras_psnr: 26.7658 - keras_ssim: 0.5766 - val_loss: 1.0685e-05 - val_mean_squared_error: 2.6664e-10 - val_keras_psnr: 27.0922 - val_keras_ssim: 0.5078\n"
     ]
    },
    {
     "data": {
      "application/vnd.jupyter.widget-view+json": {
       "model_id": "",
       "version_major": 2,
       "version_minor": 0
      },
      "text/plain": [
       "HBox(children=(IntProgress(value=0, description='Epoch 421', max=10, style=ProgressStyle(description_width='in…"
      ]
     },
     "metadata": {},
     "output_type": "display_data"
    },
    {
     "name": "stdout",
     "output_type": "stream",
     "text": [
      "Epoch 422/1000\n",
      "10/10 - 29s - loss: 1.0783e-05 - mean_squared_error: 3.8676e-10 - keras_psnr: 26.0915 - keras_ssim: 0.4998 - val_loss: 1.0680e-05 - val_mean_squared_error: 2.6600e-10 - val_keras_psnr: 27.0932 - val_keras_ssim: 0.5076\n"
     ]
    },
    {
     "data": {
      "application/vnd.jupyter.widget-view+json": {
       "model_id": "",
       "version_major": 2,
       "version_minor": 0
      },
      "text/plain": [
       "HBox(children=(IntProgress(value=0, description='Epoch 422', max=10, style=ProgressStyle(description_width='in…"
      ]
     },
     "metadata": {},
     "output_type": "display_data"
    },
    {
     "name": "stdout",
     "output_type": "stream",
     "text": [
      "Epoch 423/1000\n",
      "10/10 - 29s - loss: 1.4347e-05 - mean_squared_error: 4.7065e-10 - keras_psnr: 25.5811 - keras_ssim: 0.5198 - val_loss: 1.0680e-05 - val_mean_squared_error: 2.6584e-10 - val_keras_psnr: 27.0891 - val_keras_ssim: 0.5076\n"
     ]
    },
    {
     "data": {
      "application/vnd.jupyter.widget-view+json": {
       "model_id": "",
       "version_major": 2,
       "version_minor": 0
      },
      "text/plain": [
       "HBox(children=(IntProgress(value=0, description='Epoch 423', max=10, style=ProgressStyle(description_width='in…"
      ]
     },
     "metadata": {},
     "output_type": "display_data"
    },
    {
     "name": "stdout",
     "output_type": "stream",
     "text": [
      "Epoch 424/1000\n",
      "10/10 - 29s - loss: 1.3072e-05 - mean_squared_error: 7.6623e-10 - keras_psnr: 26.9565 - keras_ssim: 0.5734 - val_loss: 1.0681e-05 - val_mean_squared_error: 2.6614e-10 - val_keras_psnr: 27.0798 - val_keras_ssim: 0.5073\n"
     ]
    },
    {
     "data": {
      "application/vnd.jupyter.widget-view+json": {
       "model_id": "",
       "version_major": 2,
       "version_minor": 0
      },
      "text/plain": [
       "HBox(children=(IntProgress(value=0, description='Epoch 424', max=10, style=ProgressStyle(description_width='in…"
      ]
     },
     "metadata": {},
     "output_type": "display_data"
    },
    {
     "name": "stdout",
     "output_type": "stream",
     "text": [
      "Epoch 425/1000\n",
      "10/10 - 28s - loss: 1.2665e-05 - mean_squared_error: 2.9166e-10 - keras_psnr: 26.2267 - keras_ssim: 0.4816 - val_loss: 1.0678e-05 - val_mean_squared_error: 2.6616e-10 - val_keras_psnr: 27.0895 - val_keras_ssim: 0.5077\n"
     ]
    },
    {
     "data": {
      "application/vnd.jupyter.widget-view+json": {
       "model_id": "",
       "version_major": 2,
       "version_minor": 0
      },
      "text/plain": [
       "HBox(children=(IntProgress(value=0, description='Epoch 425', max=10, style=ProgressStyle(description_width='in…"
      ]
     },
     "metadata": {},
     "output_type": "display_data"
    },
    {
     "name": "stdout",
     "output_type": "stream",
     "text": [
      "Epoch 426/1000\n",
      "10/10 - 28s - loss: 1.1464e-05 - mean_squared_error: 2.9825e-10 - keras_psnr: 25.8260 - keras_ssim: 0.4848 - val_loss: 1.0678e-05 - val_mean_squared_error: 2.6641e-10 - val_keras_psnr: 27.0983 - val_keras_ssim: 0.5080\n"
     ]
    },
    {
     "data": {
      "application/vnd.jupyter.widget-view+json": {
       "model_id": "",
       "version_major": 2,
       "version_minor": 0
      },
      "text/plain": [
       "HBox(children=(IntProgress(value=0, description='Epoch 426', max=10, style=ProgressStyle(description_width='in…"
      ]
     },
     "metadata": {},
     "output_type": "display_data"
    },
    {
     "name": "stdout",
     "output_type": "stream",
     "text": [
      "Epoch 427/1000\n",
      "10/10 - 27s - loss: 1.2759e-05 - mean_squared_error: 3.7924e-10 - keras_psnr: 25.6934 - keras_ssim: 0.4984 - val_loss: 1.0662e-05 - val_mean_squared_error: 2.6511e-10 - val_keras_psnr: 27.1133 - val_keras_ssim: 0.5086\n"
     ]
    },
    {
     "data": {
      "application/vnd.jupyter.widget-view+json": {
       "model_id": "",
       "version_major": 2,
       "version_minor": 0
      },
      "text/plain": [
       "HBox(children=(IntProgress(value=0, description='Epoch 427', max=10, style=ProgressStyle(description_width='in…"
      ]
     },
     "metadata": {},
     "output_type": "display_data"
    },
    {
     "name": "stdout",
     "output_type": "stream",
     "text": [
      "Epoch 428/1000\n",
      "10/10 - 30s - loss: 1.0615e-05 - mean_squared_error: 2.5720e-10 - keras_psnr: 26.0232 - keras_ssim: 0.4936 - val_loss: 1.0656e-05 - val_mean_squared_error: 2.6428e-10 - val_keras_psnr: 27.1198 - val_keras_ssim: 0.5087\n"
     ]
    },
    {
     "data": {
      "application/vnd.jupyter.widget-view+json": {
       "model_id": "",
       "version_major": 2,
       "version_minor": 0
      },
      "text/plain": [
       "HBox(children=(IntProgress(value=0, description='Epoch 428', max=10, style=ProgressStyle(description_width='in…"
      ]
     },
     "metadata": {},
     "output_type": "display_data"
    },
    {
     "name": "stdout",
     "output_type": "stream",
     "text": [
      "Epoch 429/1000\n",
      "10/10 - 28s - loss: 1.1652e-05 - mean_squared_error: 2.4457e-10 - keras_psnr: 25.2436 - keras_ssim: 0.4547 - val_loss: 1.0676e-05 - val_mean_squared_error: 2.6611e-10 - val_keras_psnr: 27.1051 - val_keras_ssim: 0.5083\n"
     ]
    },
    {
     "data": {
      "application/vnd.jupyter.widget-view+json": {
       "model_id": "",
       "version_major": 2,
       "version_minor": 0
      },
      "text/plain": [
       "HBox(children=(IntProgress(value=0, description='Epoch 429', max=10, style=ProgressStyle(description_width='in…"
      ]
     },
     "metadata": {},
     "output_type": "display_data"
    },
    {
     "name": "stdout",
     "output_type": "stream",
     "text": [
      "Epoch 430/1000\n",
      "10/10 - 29s - loss: 1.6220e-05 - mean_squared_error: 1.1128e-09 - keras_psnr: 26.7396 - keras_ssim: 0.6001 - val_loss: 1.0687e-05 - val_mean_squared_error: 2.6650e-10 - val_keras_psnr: 27.0649 - val_keras_ssim: 0.5071\n"
     ]
    },
    {
     "data": {
      "application/vnd.jupyter.widget-view+json": {
       "model_id": "",
       "version_major": 2,
       "version_minor": 0
      },
      "text/plain": [
       "HBox(children=(IntProgress(value=0, description='Epoch 430', max=10, style=ProgressStyle(description_width='in…"
      ]
     },
     "metadata": {},
     "output_type": "display_data"
    },
    {
     "name": "stdout",
     "output_type": "stream",
     "text": [
      "Epoch 431/1000\n",
      "10/10 - 29s - loss: 1.4126e-05 - mean_squared_error: 4.2782e-10 - keras_psnr: 24.8157 - keras_ssim: 0.4736 - val_loss: 1.0659e-05 - val_mean_squared_error: 2.6517e-10 - val_keras_psnr: 27.0918 - val_keras_ssim: 0.5080\n"
     ]
    },
    {
     "data": {
      "application/vnd.jupyter.widget-view+json": {
       "model_id": "",
       "version_major": 2,
       "version_minor": 0
      },
      "text/plain": [
       "HBox(children=(IntProgress(value=0, description='Epoch 431', max=10, style=ProgressStyle(description_width='in…"
      ]
     },
     "metadata": {},
     "output_type": "display_data"
    },
    {
     "name": "stdout",
     "output_type": "stream",
     "text": [
      "Epoch 432/1000\n",
      "10/10 - 29s - loss: 1.5268e-05 - mean_squared_error: 6.3012e-10 - keras_psnr: 26.7778 - keras_ssim: 0.5632 - val_loss: 1.0661e-05 - val_mean_squared_error: 2.6538e-10 - val_keras_psnr: 27.0970 - val_keras_ssim: 0.5080\n"
     ]
    },
    {
     "data": {
      "application/vnd.jupyter.widget-view+json": {
       "model_id": "",
       "version_major": 2,
       "version_minor": 0
      },
      "text/plain": [
       "HBox(children=(IntProgress(value=0, description='Epoch 432', max=10, style=ProgressStyle(description_width='in…"
      ]
     },
     "metadata": {},
     "output_type": "display_data"
    },
    {
     "name": "stdout",
     "output_type": "stream",
     "text": [
      "Epoch 433/1000\n",
      "10/10 - 30s - loss: 1.0154e-05 - mean_squared_error: 2.5004e-10 - keras_psnr: 26.7905 - keras_ssim: 0.5020 - val_loss: 1.0668e-05 - val_mean_squared_error: 2.6569e-10 - val_keras_psnr: 27.1032 - val_keras_ssim: 0.5083\n"
     ]
    },
    {
     "data": {
      "application/vnd.jupyter.widget-view+json": {
       "model_id": "",
       "version_major": 2,
       "version_minor": 0
      },
      "text/plain": [
       "HBox(children=(IntProgress(value=0, description='Epoch 433', max=10, style=ProgressStyle(description_width='in…"
      ]
     },
     "metadata": {},
     "output_type": "display_data"
    },
    {
     "name": "stdout",
     "output_type": "stream",
     "text": [
      "Epoch 434/1000\n",
      "10/10 - 29s - loss: 1.0927e-05 - mean_squared_error: 2.4795e-10 - keras_psnr: 27.2068 - keras_ssim: 0.5303 - val_loss: 1.0665e-05 - val_mean_squared_error: 2.6555e-10 - val_keras_psnr: 27.1064 - val_keras_ssim: 0.5085\n"
     ]
    },
    {
     "data": {
      "application/vnd.jupyter.widget-view+json": {
       "model_id": "",
       "version_major": 2,
       "version_minor": 0
      },
      "text/plain": [
       "HBox(children=(IntProgress(value=0, description='Epoch 434', max=10, style=ProgressStyle(description_width='in…"
      ]
     },
     "metadata": {},
     "output_type": "display_data"
    },
    {
     "name": "stdout",
     "output_type": "stream",
     "text": [
      "Epoch 435/1000\n",
      "10/10 - 29s - loss: 1.2373e-05 - mean_squared_error: 2.8495e-10 - keras_psnr: 26.2528 - keras_ssim: 0.4724 - val_loss: 1.0641e-05 - val_mean_squared_error: 2.6408e-10 - val_keras_psnr: 27.1231 - val_keras_ssim: 0.5090\n"
     ]
    },
    {
     "data": {
      "application/vnd.jupyter.widget-view+json": {
       "model_id": "",
       "version_major": 2,
       "version_minor": 0
      },
      "text/plain": [
       "HBox(children=(IntProgress(value=0, description='Epoch 435', max=10, style=ProgressStyle(description_width='in…"
      ]
     },
     "metadata": {},
     "output_type": "display_data"
    },
    {
     "name": "stdout",
     "output_type": "stream",
     "text": [
      "Epoch 436/1000\n",
      "10/10 - 29s - loss: 1.1308e-05 - mean_squared_error: 2.8454e-10 - keras_psnr: 26.8722 - keras_ssim: 0.5280 - val_loss: 1.0641e-05 - val_mean_squared_error: 2.6401e-10 - val_keras_psnr: 27.1189 - val_keras_ssim: 0.5089\n"
     ]
    },
    {
     "data": {
      "application/vnd.jupyter.widget-view+json": {
       "model_id": "",
       "version_major": 2,
       "version_minor": 0
      },
      "text/plain": [
       "HBox(children=(IntProgress(value=0, description='Epoch 436', max=10, style=ProgressStyle(description_width='in…"
      ]
     },
     "metadata": {},
     "output_type": "display_data"
    },
    {
     "name": "stdout",
     "output_type": "stream",
     "text": [
      "Epoch 437/1000\n",
      "10/10 - 29s - loss: 1.2340e-05 - mean_squared_error: 2.8492e-10 - keras_psnr: 26.0121 - keras_ssim: 0.5171 - val_loss: 1.0647e-05 - val_mean_squared_error: 2.6464e-10 - val_keras_psnr: 27.1050 - val_keras_ssim: 0.5085\n"
     ]
    },
    {
     "data": {
      "application/vnd.jupyter.widget-view+json": {
       "model_id": "",
       "version_major": 2,
       "version_minor": 0
      },
      "text/plain": [
       "HBox(children=(IntProgress(value=0, description='Epoch 437', max=10, style=ProgressStyle(description_width='in…"
      ]
     },
     "metadata": {},
     "output_type": "display_data"
    },
    {
     "name": "stdout",
     "output_type": "stream",
     "text": [
      "Epoch 438/1000\n",
      "10/10 - 28s - loss: 9.8598e-06 - mean_squared_error: 2.8453e-10 - keras_psnr: 26.2469 - keras_ssim: 0.5166 - val_loss: 1.0654e-05 - val_mean_squared_error: 2.6519e-10 - val_keras_psnr: 27.0977 - val_keras_ssim: 0.5084\n"
     ]
    },
    {
     "data": {
      "application/vnd.jupyter.widget-view+json": {
       "model_id": "",
       "version_major": 2,
       "version_minor": 0
      },
      "text/plain": [
       "HBox(children=(IntProgress(value=0, description='Epoch 438', max=10, style=ProgressStyle(description_width='in…"
      ]
     },
     "metadata": {},
     "output_type": "display_data"
    },
    {
     "name": "stdout",
     "output_type": "stream",
     "text": [
      "Epoch 439/1000\n",
      "10/10 - 29s - loss: 1.3176e-05 - mean_squared_error: 1.2326e-09 - keras_psnr: 23.8324 - keras_ssim: 0.4801 - val_loss: 1.0629e-05 - val_mean_squared_error: 2.6387e-10 - val_keras_psnr: 27.1203 - val_keras_ssim: 0.5090\n"
     ]
    },
    {
     "data": {
      "application/vnd.jupyter.widget-view+json": {
       "model_id": "",
       "version_major": 2,
       "version_minor": 0
      },
      "text/plain": [
       "HBox(children=(IntProgress(value=0, description='Epoch 439', max=10, style=ProgressStyle(description_width='in…"
      ]
     },
     "metadata": {},
     "output_type": "display_data"
    },
    {
     "name": "stdout",
     "output_type": "stream",
     "text": [
      "Epoch 440/1000\n",
      "10/10 - 29s - loss: 1.1485e-05 - mean_squared_error: 3.4695e-10 - keras_psnr: 27.4055 - keras_ssim: 0.5763 - val_loss: 1.0629e-05 - val_mean_squared_error: 2.6302e-10 - val_keras_psnr: 27.1149 - val_keras_ssim: 0.5088\n"
     ]
    },
    {
     "data": {
      "application/vnd.jupyter.widget-view+json": {
       "model_id": "",
       "version_major": 2,
       "version_minor": 0
      },
      "text/plain": [
       "HBox(children=(IntProgress(value=0, description='Epoch 440', max=10, style=ProgressStyle(description_width='in…"
      ]
     },
     "metadata": {},
     "output_type": "display_data"
    },
    {
     "name": "stdout",
     "output_type": "stream",
     "text": [
      "Epoch 441/1000\n",
      "10/10 - 29s - loss: 1.4316e-05 - mean_squared_error: 2.0671e-09 - keras_psnr: 23.4469 - keras_ssim: 0.4231 - val_loss: 1.0627e-05 - val_mean_squared_error: 2.6311e-10 - val_keras_psnr: 27.1217 - val_keras_ssim: 0.5091\n"
     ]
    },
    {
     "data": {
      "application/vnd.jupyter.widget-view+json": {
       "model_id": "",
       "version_major": 2,
       "version_minor": 0
      },
      "text/plain": [
       "HBox(children=(IntProgress(value=0, description='Epoch 441', max=10, style=ProgressStyle(description_width='in…"
      ]
     },
     "metadata": {},
     "output_type": "display_data"
    },
    {
     "name": "stdout",
     "output_type": "stream",
     "text": [
      "Epoch 442/1000\n",
      "10/10 - 29s - loss: 8.5258e-06 - mean_squared_error: 1.3614e-10 - keras_psnr: 25.7348 - keras_ssim: 0.4425 - val_loss: 1.0613e-05 - val_mean_squared_error: 2.6247e-10 - val_keras_psnr: 27.1426 - val_keras_ssim: 0.5098\n"
     ]
    },
    {
     "data": {
      "application/vnd.jupyter.widget-view+json": {
       "model_id": "",
       "version_major": 2,
       "version_minor": 0
      },
      "text/plain": [
       "HBox(children=(IntProgress(value=0, description='Epoch 442', max=10, style=ProgressStyle(description_width='in…"
      ]
     },
     "metadata": {},
     "output_type": "display_data"
    },
    {
     "name": "stdout",
     "output_type": "stream",
     "text": [
      "Epoch 443/1000\n",
      "10/10 - 29s - loss: 1.2881e-05 - mean_squared_error: 3.1008e-10 - keras_psnr: 25.6428 - keras_ssim: 0.5003 - val_loss: 1.0626e-05 - val_mean_squared_error: 2.6370e-10 - val_keras_psnr: 27.1377 - val_keras_ssim: 0.5097\n"
     ]
    },
    {
     "data": {
      "application/vnd.jupyter.widget-view+json": {
       "model_id": "",
       "version_major": 2,
       "version_minor": 0
      },
      "text/plain": [
       "HBox(children=(IntProgress(value=0, description='Epoch 443', max=10, style=ProgressStyle(description_width='in…"
      ]
     },
     "metadata": {},
     "output_type": "display_data"
    },
    {
     "name": "stdout",
     "output_type": "stream",
     "text": [
      "Epoch 444/1000\n",
      "10/10 - 28s - loss: 8.7001e-06 - mean_squared_error: 1.0122e-10 - keras_psnr: 26.2216 - keras_ssim: 0.4452 - val_loss: 1.0632e-05 - val_mean_squared_error: 2.6433e-10 - val_keras_psnr: 27.1278 - val_keras_ssim: 0.5094\n"
     ]
    },
    {
     "data": {
      "application/vnd.jupyter.widget-view+json": {
       "model_id": "",
       "version_major": 2,
       "version_minor": 0
      },
      "text/plain": [
       "HBox(children=(IntProgress(value=0, description='Epoch 444', max=10, style=ProgressStyle(description_width='in…"
      ]
     },
     "metadata": {},
     "output_type": "display_data"
    },
    {
     "name": "stdout",
     "output_type": "stream",
     "text": [
      "Epoch 445/1000\n",
      "10/10 - 29s - loss: 1.2563e-05 - mean_squared_error: 2.5719e-10 - keras_psnr: 25.3778 - keras_ssim: 0.4527 - val_loss: 1.0622e-05 - val_mean_squared_error: 2.6386e-10 - val_keras_psnr: 27.1284 - val_keras_ssim: 0.5095\n"
     ]
    },
    {
     "data": {
      "application/vnd.jupyter.widget-view+json": {
       "model_id": "",
       "version_major": 2,
       "version_minor": 0
      },
      "text/plain": [
       "HBox(children=(IntProgress(value=0, description='Epoch 445', max=10, style=ProgressStyle(description_width='in…"
      ]
     },
     "metadata": {},
     "output_type": "display_data"
    },
    {
     "name": "stdout",
     "output_type": "stream",
     "text": [
      "Epoch 446/1000\n",
      "10/10 - 28s - loss: 1.4169e-05 - mean_squared_error: 3.6461e-10 - keras_psnr: 27.0874 - keras_ssim: 0.5743 - val_loss: 1.0633e-05 - val_mean_squared_error: 2.6411e-10 - val_keras_psnr: 27.1076 - val_keras_ssim: 0.5090\n"
     ]
    },
    {
     "data": {
      "application/vnd.jupyter.widget-view+json": {
       "model_id": "",
       "version_major": 2,
       "version_minor": 0
      },
      "text/plain": [
       "HBox(children=(IntProgress(value=0, description='Epoch 446', max=10, style=ProgressStyle(description_width='in…"
      ]
     },
     "metadata": {},
     "output_type": "display_data"
    },
    {
     "name": "stdout",
     "output_type": "stream",
     "text": [
      "Epoch 447/1000\n",
      "10/10 - 29s - loss: 1.7089e-05 - mean_squared_error: 7.7330e-10 - keras_psnr: 28.0890 - keras_ssim: 0.6167 - val_loss: 1.0604e-05 - val_mean_squared_error: 2.6228e-10 - val_keras_psnr: 27.1404 - val_keras_ssim: 0.5098\n"
     ]
    },
    {
     "data": {
      "application/vnd.jupyter.widget-view+json": {
       "model_id": "",
       "version_major": 2,
       "version_minor": 0
      },
      "text/plain": [
       "HBox(children=(IntProgress(value=0, description='Epoch 447', max=10, style=ProgressStyle(description_width='in…"
      ]
     },
     "metadata": {},
     "output_type": "display_data"
    },
    {
     "name": "stdout",
     "output_type": "stream",
     "text": [
      "Epoch 448/1000\n",
      "10/10 - 29s - loss: 1.3258e-05 - mean_squared_error: 5.4496e-10 - keras_psnr: 24.8487 - keras_ssim: 0.4903 - val_loss: 1.0618e-05 - val_mean_squared_error: 2.6319e-10 - val_keras_psnr: 27.1352 - val_keras_ssim: 0.5099\n"
     ]
    },
    {
     "data": {
      "application/vnd.jupyter.widget-view+json": {
       "model_id": "",
       "version_major": 2,
       "version_minor": 0
      },
      "text/plain": [
       "HBox(children=(IntProgress(value=0, description='Epoch 448', max=10, style=ProgressStyle(description_width='in…"
      ]
     },
     "metadata": {},
     "output_type": "display_data"
    },
    {
     "name": "stdout",
     "output_type": "stream",
     "text": [
      "Epoch 449/1000\n",
      "10/10 - 29s - loss: 1.4744e-05 - mean_squared_error: 6.1209e-10 - keras_psnr: 22.4338 - keras_ssim: 0.3979 - val_loss: 1.0596e-05 - val_mean_squared_error: 2.6157e-10 - val_keras_psnr: 27.1442 - val_keras_ssim: 0.5101\n"
     ]
    },
    {
     "data": {
      "application/vnd.jupyter.widget-view+json": {
       "model_id": "",
       "version_major": 2,
       "version_minor": 0
      },
      "text/plain": [
       "HBox(children=(IntProgress(value=0, description='Epoch 449', max=10, style=ProgressStyle(description_width='in…"
      ]
     },
     "metadata": {},
     "output_type": "display_data"
    },
    {
     "name": "stdout",
     "output_type": "stream",
     "text": [
      "Epoch 450/1000\n",
      "10/10 - 28s - loss: 1.3078e-05 - mean_squared_error: 4.1910e-10 - keras_psnr: 26.7604 - keras_ssim: 0.5708 - val_loss: 1.0608e-05 - val_mean_squared_error: 2.6297e-10 - val_keras_psnr: 27.1271 - val_keras_ssim: 0.5098\n"
     ]
    },
    {
     "data": {
      "application/vnd.jupyter.widget-view+json": {
       "model_id": "",
       "version_major": 2,
       "version_minor": 0
      },
      "text/plain": [
       "HBox(children=(IntProgress(value=0, description='Epoch 450', max=10, style=ProgressStyle(description_width='in…"
      ]
     },
     "metadata": {},
     "output_type": "display_data"
    },
    {
     "name": "stdout",
     "output_type": "stream",
     "text": [
      "Epoch 451/1000\n",
      "10/10 - 29s - loss: 1.3984e-05 - mean_squared_error: 4.5911e-10 - keras_psnr: 27.5777 - keras_ssim: 0.5980 - val_loss: 1.0628e-05 - val_mean_squared_error: 2.6353e-10 - val_keras_psnr: 27.1116 - val_keras_ssim: 0.5091\n"
     ]
    },
    {
     "data": {
      "application/vnd.jupyter.widget-view+json": {
       "model_id": "",
       "version_major": 2,
       "version_minor": 0
      },
      "text/plain": [
       "HBox(children=(IntProgress(value=0, description='Epoch 451', max=10, style=ProgressStyle(description_width='in…"
      ]
     },
     "metadata": {},
     "output_type": "display_data"
    },
    {
     "name": "stdout",
     "output_type": "stream",
     "text": [
      "Epoch 452/1000\n",
      "10/10 - 29s - loss: 1.4724e-05 - mean_squared_error: 4.9945e-10 - keras_psnr: 24.6421 - keras_ssim: 0.4912 - val_loss: 1.0626e-05 - val_mean_squared_error: 2.6396e-10 - val_keras_psnr: 27.1128 - val_keras_ssim: 0.5094\n"
     ]
    },
    {
     "data": {
      "application/vnd.jupyter.widget-view+json": {
       "model_id": "",
       "version_major": 2,
       "version_minor": 0
      },
      "text/plain": [
       "HBox(children=(IntProgress(value=0, description='Epoch 452', max=10, style=ProgressStyle(description_width='in…"
      ]
     },
     "metadata": {},
     "output_type": "display_data"
    },
    {
     "name": "stdout",
     "output_type": "stream",
     "text": [
      "Epoch 453/1000\n",
      "10/10 - 29s - loss: 1.1065e-05 - mean_squared_error: 3.0127e-10 - keras_psnr: 26.1176 - keras_ssim: 0.4930 - val_loss: 1.0597e-05 - val_mean_squared_error: 2.6240e-10 - val_keras_psnr: 27.1441 - val_keras_ssim: 0.5104\n"
     ]
    },
    {
     "data": {
      "application/vnd.jupyter.widget-view+json": {
       "model_id": "",
       "version_major": 2,
       "version_minor": 0
      },
      "text/plain": [
       "HBox(children=(IntProgress(value=0, description='Epoch 453', max=10, style=ProgressStyle(description_width='in…"
      ]
     },
     "metadata": {},
     "output_type": "display_data"
    },
    {
     "name": "stdout",
     "output_type": "stream",
     "text": [
      "Epoch 454/1000\n",
      "10/10 - 29s - loss: 9.5069e-06 - mean_squared_error: 1.4588e-10 - keras_psnr: 24.6979 - keras_ssim: 0.3762 - val_loss: 1.0606e-05 - val_mean_squared_error: 2.6252e-10 - val_keras_psnr: 27.1511 - val_keras_ssim: 0.5106\n"
     ]
    },
    {
     "data": {
      "application/vnd.jupyter.widget-view+json": {
       "model_id": "",
       "version_major": 2,
       "version_minor": 0
      },
      "text/plain": [
       "HBox(children=(IntProgress(value=0, description='Epoch 454', max=10, style=ProgressStyle(description_width='in…"
      ]
     },
     "metadata": {},
     "output_type": "display_data"
    },
    {
     "name": "stdout",
     "output_type": "stream",
     "text": [
      "Epoch 455/1000\n",
      "10/10 - 29s - loss: 1.4125e-05 - mean_squared_error: 4.6152e-10 - keras_psnr: 26.4256 - keras_ssim: 0.5742 - val_loss: 1.0608e-05 - val_mean_squared_error: 2.6255e-10 - val_keras_psnr: 27.1417 - val_keras_ssim: 0.5102\n"
     ]
    },
    {
     "data": {
      "application/vnd.jupyter.widget-view+json": {
       "model_id": "",
       "version_major": 2,
       "version_minor": 0
      },
      "text/plain": [
       "HBox(children=(IntProgress(value=0, description='Epoch 455', max=10, style=ProgressStyle(description_width='in…"
      ]
     },
     "metadata": {},
     "output_type": "display_data"
    },
    {
     "name": "stdout",
     "output_type": "stream",
     "text": [
      "Epoch 456/1000\n",
      "10/10 - 29s - loss: 1.2195e-05 - mean_squared_error: 3.2247e-10 - keras_psnr: 25.6971 - keras_ssim: 0.4796 - val_loss: 1.0606e-05 - val_mean_squared_error: 2.6261e-10 - val_keras_psnr: 27.1339 - val_keras_ssim: 0.5099\n"
     ]
    },
    {
     "data": {
      "application/vnd.jupyter.widget-view+json": {
       "model_id": "",
       "version_major": 2,
       "version_minor": 0
      },
      "text/plain": [
       "HBox(children=(IntProgress(value=0, description='Epoch 456', max=10, style=ProgressStyle(description_width='in…"
      ]
     },
     "metadata": {},
     "output_type": "display_data"
    },
    {
     "name": "stdout",
     "output_type": "stream",
     "text": [
      "Epoch 457/1000\n",
      "10/10 - 29s - loss: 1.0010e-05 - mean_squared_error: 1.6500e-10 - keras_psnr: 26.5792 - keras_ssim: 0.4794 - val_loss: 1.0608e-05 - val_mean_squared_error: 2.6267e-10 - val_keras_psnr: 27.1366 - val_keras_ssim: 0.5100\n"
     ]
    },
    {
     "data": {
      "application/vnd.jupyter.widget-view+json": {
       "model_id": "",
       "version_major": 2,
       "version_minor": 0
      },
      "text/plain": [
       "HBox(children=(IntProgress(value=0, description='Epoch 457', max=10, style=ProgressStyle(description_width='in…"
      ]
     },
     "metadata": {},
     "output_type": "display_data"
    },
    {
     "name": "stdout",
     "output_type": "stream",
     "text": [
      "Epoch 458/1000\n",
      "10/10 - 29s - loss: 1.4700e-05 - mean_squared_error: 5.1247e-10 - keras_psnr: 26.6728 - keras_ssim: 0.6054 - val_loss: 1.0615e-05 - val_mean_squared_error: 2.6342e-10 - val_keras_psnr: 27.1241 - val_keras_ssim: 0.5097\n"
     ]
    },
    {
     "data": {
      "application/vnd.jupyter.widget-view+json": {
       "model_id": "",
       "version_major": 2,
       "version_minor": 0
      },
      "text/plain": [
       "HBox(children=(IntProgress(value=0, description='Epoch 458', max=10, style=ProgressStyle(description_width='in…"
      ]
     },
     "metadata": {},
     "output_type": "display_data"
    },
    {
     "name": "stdout",
     "output_type": "stream",
     "text": [
      "Epoch 459/1000\n",
      "10/10 - 29s - loss: 9.6203e-06 - mean_squared_error: 1.6664e-10 - keras_psnr: 27.6736 - keras_ssim: 0.5350 - val_loss: 1.0599e-05 - val_mean_squared_error: 2.6244e-10 - val_keras_psnr: 27.1420 - val_keras_ssim: 0.5102\n"
     ]
    },
    {
     "data": {
      "application/vnd.jupyter.widget-view+json": {
       "model_id": "",
       "version_major": 2,
       "version_minor": 0
      },
      "text/plain": [
       "HBox(children=(IntProgress(value=0, description='Epoch 459', max=10, style=ProgressStyle(description_width='in…"
      ]
     },
     "metadata": {},
     "output_type": "display_data"
    },
    {
     "name": "stdout",
     "output_type": "stream",
     "text": [
      "Epoch 460/1000\n",
      "10/10 - 29s - loss: 1.5511e-05 - mean_squared_error: 4.9060e-10 - keras_psnr: 26.9079 - keras_ssim: 0.5513 - val_loss: 1.0598e-05 - val_mean_squared_error: 2.6241e-10 - val_keras_psnr: 27.1494 - val_keras_ssim: 0.5105\n"
     ]
    },
    {
     "data": {
      "application/vnd.jupyter.widget-view+json": {
       "model_id": "",
       "version_major": 2,
       "version_minor": 0
      },
      "text/plain": [
       "HBox(children=(IntProgress(value=0, description='Epoch 460', max=10, style=ProgressStyle(description_width='in…"
      ]
     },
     "metadata": {},
     "output_type": "display_data"
    },
    {
     "name": "stdout",
     "output_type": "stream",
     "text": [
      "Epoch 461/1000\n",
      "10/10 - 30s - loss: 1.1266e-05 - mean_squared_error: 3.8713e-10 - keras_psnr: 24.9336 - keras_ssim: 0.4423 - val_loss: 1.0595e-05 - val_mean_squared_error: 2.6143e-10 - val_keras_psnr: 27.1472 - val_keras_ssim: 0.5106\n"
     ]
    },
    {
     "data": {
      "application/vnd.jupyter.widget-view+json": {
       "model_id": "",
       "version_major": 2,
       "version_minor": 0
      },
      "text/plain": [
       "HBox(children=(IntProgress(value=0, description='Epoch 461', max=10, style=ProgressStyle(description_width='in…"
      ]
     },
     "metadata": {},
     "output_type": "display_data"
    },
    {
     "name": "stdout",
     "output_type": "stream",
     "text": [
      "Epoch 462/1000\n",
      "10/10 - 29s - loss: 3.2843e-05 - mean_squared_error: 1.2865e-08 - keras_psnr: 21.4931 - keras_ssim: 0.4188 - val_loss: 1.0590e-05 - val_mean_squared_error: 2.6150e-10 - val_keras_psnr: 27.1457 - val_keras_ssim: 0.5105\n"
     ]
    },
    {
     "data": {
      "application/vnd.jupyter.widget-view+json": {
       "model_id": "",
       "version_major": 2,
       "version_minor": 0
      },
      "text/plain": [
       "HBox(children=(IntProgress(value=0, description='Epoch 462', max=10, style=ProgressStyle(description_width='in…"
      ]
     },
     "metadata": {},
     "output_type": "display_data"
    },
    {
     "name": "stdout",
     "output_type": "stream",
     "text": [
      "Epoch 463/1000\n",
      "10/10 - 29s - loss: 1.3918e-05 - mean_squared_error: 6.7585e-10 - keras_psnr: 25.7752 - keras_ssim: 0.4895 - val_loss: 1.0594e-05 - val_mean_squared_error: 2.6205e-10 - val_keras_psnr: 27.1496 - val_keras_ssim: 0.5106\n"
     ]
    },
    {
     "data": {
      "application/vnd.jupyter.widget-view+json": {
       "model_id": "",
       "version_major": 2,
       "version_minor": 0
      },
      "text/plain": [
       "HBox(children=(IntProgress(value=0, description='Epoch 463', max=10, style=ProgressStyle(description_width='in…"
      ]
     },
     "metadata": {},
     "output_type": "display_data"
    },
    {
     "name": "stdout",
     "output_type": "stream",
     "text": [
      "Epoch 464/1000\n",
      "10/10 - 29s - loss: 1.0074e-05 - mean_squared_error: 2.0971e-10 - keras_psnr: 26.3847 - keras_ssim: 0.4910 - val_loss: 1.0589e-05 - val_mean_squared_error: 2.6199e-10 - val_keras_psnr: 27.1605 - val_keras_ssim: 0.5111\n"
     ]
    },
    {
     "data": {
      "application/vnd.jupyter.widget-view+json": {
       "model_id": "",
       "version_major": 2,
       "version_minor": 0
      },
      "text/plain": [
       "HBox(children=(IntProgress(value=0, description='Epoch 464', max=10, style=ProgressStyle(description_width='in…"
      ]
     },
     "metadata": {},
     "output_type": "display_data"
    },
    {
     "name": "stdout",
     "output_type": "stream",
     "text": [
      "Epoch 465/1000\n",
      "10/10 - 28s - loss: 1.3642e-05 - mean_squared_error: 5.7216e-10 - keras_psnr: 26.0059 - keras_ssim: 0.4695 - val_loss: 1.0589e-05 - val_mean_squared_error: 2.6135e-10 - val_keras_psnr: 27.1612 - val_keras_ssim: 0.5109\n"
     ]
    },
    {
     "data": {
      "application/vnd.jupyter.widget-view+json": {
       "model_id": "",
       "version_major": 2,
       "version_minor": 0
      },
      "text/plain": [
       "HBox(children=(IntProgress(value=0, description='Epoch 465', max=10, style=ProgressStyle(description_width='in…"
      ]
     },
     "metadata": {},
     "output_type": "display_data"
    },
    {
     "name": "stdout",
     "output_type": "stream",
     "text": [
      "Epoch 466/1000\n",
      "10/10 - 28s - loss: 1.0991e-05 - mean_squared_error: 4.0281e-10 - keras_psnr: 25.5402 - keras_ssim: 0.4975 - val_loss: 1.0602e-05 - val_mean_squared_error: 2.6240e-10 - val_keras_psnr: 27.1353 - val_keras_ssim: 0.5102\n"
     ]
    },
    {
     "data": {
      "application/vnd.jupyter.widget-view+json": {
       "model_id": "",
       "version_major": 2,
       "version_minor": 0
      },
      "text/plain": [
       "HBox(children=(IntProgress(value=0, description='Epoch 466', max=10, style=ProgressStyle(description_width='in…"
      ]
     },
     "metadata": {},
     "output_type": "display_data"
    },
    {
     "name": "stdout",
     "output_type": "stream",
     "text": [
      "Epoch 467/1000\n",
      "10/10 - 29s - loss: 1.2849e-05 - mean_squared_error: 4.7836e-10 - keras_psnr: 25.5307 - keras_ssim: 0.4709 - val_loss: 1.0593e-05 - val_mean_squared_error: 2.6223e-10 - val_keras_psnr: 27.1492 - val_keras_ssim: 0.5107\n"
     ]
    },
    {
     "data": {
      "application/vnd.jupyter.widget-view+json": {
       "model_id": "",
       "version_major": 2,
       "version_minor": 0
      },
      "text/plain": [
       "HBox(children=(IntProgress(value=0, description='Epoch 467', max=10, style=ProgressStyle(description_width='in…"
      ]
     },
     "metadata": {},
     "output_type": "display_data"
    },
    {
     "name": "stdout",
     "output_type": "stream",
     "text": [
      "Epoch 468/1000\n",
      "10/10 - 29s - loss: 1.1802e-05 - mean_squared_error: 4.9763e-10 - keras_psnr: 25.6570 - keras_ssim: 0.4792 - val_loss: 1.0595e-05 - val_mean_squared_error: 2.6218e-10 - val_keras_psnr: 27.1638 - val_keras_ssim: 0.5113\n"
     ]
    },
    {
     "data": {
      "application/vnd.jupyter.widget-view+json": {
       "model_id": "",
       "version_major": 2,
       "version_minor": 0
      },
      "text/plain": [
       "HBox(children=(IntProgress(value=0, description='Epoch 468', max=10, style=ProgressStyle(description_width='in…"
      ]
     },
     "metadata": {},
     "output_type": "display_data"
    },
    {
     "name": "stdout",
     "output_type": "stream",
     "text": [
      "Epoch 469/1000\n",
      "10/10 - 28s - loss: 1.3301e-05 - mean_squared_error: 3.9826e-10 - keras_psnr: 25.9265 - keras_ssim: 0.5496 - val_loss: 1.0592e-05 - val_mean_squared_error: 2.6239e-10 - val_keras_psnr: 27.1545 - val_keras_ssim: 0.5109\n"
     ]
    },
    {
     "data": {
      "application/vnd.jupyter.widget-view+json": {
       "model_id": "",
       "version_major": 2,
       "version_minor": 0
      },
      "text/plain": [
       "HBox(children=(IntProgress(value=0, description='Epoch 469', max=10, style=ProgressStyle(description_width='in…"
      ]
     },
     "metadata": {},
     "output_type": "display_data"
    },
    {
     "name": "stdout",
     "output_type": "stream",
     "text": [
      "Epoch 470/1000\n",
      "10/10 - 28s - loss: 9.8194e-06 - mean_squared_error: 2.4044e-10 - keras_psnr: 26.4590 - keras_ssim: 0.4978 - val_loss: 1.0572e-05 - val_mean_squared_error: 2.6101e-10 - val_keras_psnr: 27.1536 - val_keras_ssim: 0.5108\n"
     ]
    },
    {
     "data": {
      "application/vnd.jupyter.widget-view+json": {
       "model_id": "",
       "version_major": 2,
       "version_minor": 0
      },
      "text/plain": [
       "HBox(children=(IntProgress(value=0, description='Epoch 470', max=10, style=ProgressStyle(description_width='in…"
      ]
     },
     "metadata": {},
     "output_type": "display_data"
    },
    {
     "name": "stdout",
     "output_type": "stream",
     "text": [
      "Epoch 471/1000\n",
      "10/10 - 29s - loss: 1.2949e-05 - mean_squared_error: 4.4481e-10 - keras_psnr: 26.5157 - keras_ssim: 0.5307 - val_loss: 1.0577e-05 - val_mean_squared_error: 2.6103e-10 - val_keras_psnr: 27.1490 - val_keras_ssim: 0.5107\n"
     ]
    },
    {
     "data": {
      "application/vnd.jupyter.widget-view+json": {
       "model_id": "",
       "version_major": 2,
       "version_minor": 0
      },
      "text/plain": [
       "HBox(children=(IntProgress(value=0, description='Epoch 471', max=10, style=ProgressStyle(description_width='in…"
      ]
     },
     "metadata": {},
     "output_type": "display_data"
    },
    {
     "name": "stdout",
     "output_type": "stream",
     "text": [
      "Epoch 472/1000\n",
      "10/10 - 28s - loss: 1.5070e-05 - mean_squared_error: 4.7370e-10 - keras_psnr: 26.3599 - keras_ssim: 0.5538 - val_loss: 1.0565e-05 - val_mean_squared_error: 2.6061e-10 - val_keras_psnr: 27.1595 - val_keras_ssim: 0.5111\n"
     ]
    },
    {
     "data": {
      "application/vnd.jupyter.widget-view+json": {
       "model_id": "",
       "version_major": 2,
       "version_minor": 0
      },
      "text/plain": [
       "HBox(children=(IntProgress(value=0, description='Epoch 472', max=10, style=ProgressStyle(description_width='in…"
      ]
     },
     "metadata": {},
     "output_type": "display_data"
    },
    {
     "name": "stdout",
     "output_type": "stream",
     "text": [
      "Epoch 473/1000\n",
      "10/10 - 29s - loss: 1.1283e-05 - mean_squared_error: 2.2786e-10 - keras_psnr: 27.3167 - keras_ssim: 0.5384 - val_loss: 1.0557e-05 - val_mean_squared_error: 2.6049e-10 - val_keras_psnr: 27.1675 - val_keras_ssim: 0.5114\n"
     ]
    },
    {
     "data": {
      "application/vnd.jupyter.widget-view+json": {
       "model_id": "",
       "version_major": 2,
       "version_minor": 0
      },
      "text/plain": [
       "HBox(children=(IntProgress(value=0, description='Epoch 473', max=10, style=ProgressStyle(description_width='in…"
      ]
     },
     "metadata": {},
     "output_type": "display_data"
    },
    {
     "name": "stdout",
     "output_type": "stream",
     "text": [
      "Epoch 474/1000\n",
      "10/10 - 28s - loss: 9.6890e-06 - mean_squared_error: 1.8647e-10 - keras_psnr: 26.9346 - keras_ssim: 0.5174 - val_loss: 1.0567e-05 - val_mean_squared_error: 2.6047e-10 - val_keras_psnr: 27.1578 - val_keras_ssim: 0.5109\n"
     ]
    },
    {
     "data": {
      "application/vnd.jupyter.widget-view+json": {
       "model_id": "",
       "version_major": 2,
       "version_minor": 0
      },
      "text/plain": [
       "HBox(children=(IntProgress(value=0, description='Epoch 474', max=10, style=ProgressStyle(description_width='in…"
      ]
     },
     "metadata": {},
     "output_type": "display_data"
    },
    {
     "name": "stdout",
     "output_type": "stream",
     "text": [
      "Epoch 475/1000\n",
      "10/10 - 30s - loss: 1.3100e-05 - mean_squared_error: 4.7615e-10 - keras_psnr: 26.6645 - keras_ssim: 0.5352 - val_loss: 1.0574e-05 - val_mean_squared_error: 2.6139e-10 - val_keras_psnr: 27.1525 - val_keras_ssim: 0.5109\n"
     ]
    },
    {
     "data": {
      "application/vnd.jupyter.widget-view+json": {
       "model_id": "",
       "version_major": 2,
       "version_minor": 0
      },
      "text/plain": [
       "HBox(children=(IntProgress(value=0, description='Epoch 475', max=10, style=ProgressStyle(description_width='in…"
      ]
     },
     "metadata": {},
     "output_type": "display_data"
    },
    {
     "name": "stdout",
     "output_type": "stream",
     "text": [
      "Epoch 476/1000\n",
      "10/10 - 29s - loss: 1.2461e-05 - mean_squared_error: 4.0493e-10 - keras_psnr: 25.2992 - keras_ssim: 0.5181 - val_loss: 1.0572e-05 - val_mean_squared_error: 2.6161e-10 - val_keras_psnr: 27.1549 - val_keras_ssim: 0.5110\n"
     ]
    },
    {
     "data": {
      "application/vnd.jupyter.widget-view+json": {
       "model_id": "",
       "version_major": 2,
       "version_minor": 0
      },
      "text/plain": [
       "HBox(children=(IntProgress(value=0, description='Epoch 476', max=10, style=ProgressStyle(description_width='in…"
      ]
     },
     "metadata": {},
     "output_type": "display_data"
    },
    {
     "name": "stdout",
     "output_type": "stream",
     "text": [
      "Epoch 477/1000\n",
      "10/10 - 29s - loss: 9.6120e-06 - mean_squared_error: 1.9873e-10 - keras_psnr: 26.4202 - keras_ssim: 0.5008 - val_loss: 1.0557e-05 - val_mean_squared_error: 2.6091e-10 - val_keras_psnr: 27.1740 - val_keras_ssim: 0.5117\n"
     ]
    },
    {
     "data": {
      "application/vnd.jupyter.widget-view+json": {
       "model_id": "",
       "version_major": 2,
       "version_minor": 0
      },
      "text/plain": [
       "HBox(children=(IntProgress(value=0, description='Epoch 477', max=10, style=ProgressStyle(description_width='in…"
      ]
     },
     "metadata": {},
     "output_type": "display_data"
    },
    {
     "name": "stdout",
     "output_type": "stream",
     "text": [
      "Epoch 478/1000\n",
      "10/10 - 28s - loss: 1.2831e-05 - mean_squared_error: 3.1310e-10 - keras_psnr: 26.5390 - keras_ssim: 0.5519 - val_loss: 1.0548e-05 - val_mean_squared_error: 2.6052e-10 - val_keras_psnr: 27.1762 - val_keras_ssim: 0.5119\n"
     ]
    },
    {
     "data": {
      "application/vnd.jupyter.widget-view+json": {
       "model_id": "",
       "version_major": 2,
       "version_minor": 0
      },
      "text/plain": [
       "HBox(children=(IntProgress(value=0, description='Epoch 478', max=10, style=ProgressStyle(description_width='in…"
      ]
     },
     "metadata": {},
     "output_type": "display_data"
    },
    {
     "name": "stdout",
     "output_type": "stream",
     "text": [
      "Epoch 479/1000\n",
      "10/10 - 29s - loss: 1.1910e-05 - mean_squared_error: 2.5533e-10 - keras_psnr: 24.8782 - keras_ssim: 0.4290 - val_loss: 1.0557e-05 - val_mean_squared_error: 2.6072e-10 - val_keras_psnr: 27.1584 - val_keras_ssim: 0.5113\n"
     ]
    },
    {
     "data": {
      "application/vnd.jupyter.widget-view+json": {
       "model_id": "",
       "version_major": 2,
       "version_minor": 0
      },
      "text/plain": [
       "HBox(children=(IntProgress(value=0, description='Epoch 479', max=10, style=ProgressStyle(description_width='in…"
      ]
     },
     "metadata": {},
     "output_type": "display_data"
    },
    {
     "name": "stdout",
     "output_type": "stream",
     "text": [
      "Epoch 480/1000\n",
      "10/10 - 29s - loss: 1.2037e-05 - mean_squared_error: 2.1399e-10 - keras_psnr: 24.2022 - keras_ssim: 0.3488 - val_loss: 1.0549e-05 - val_mean_squared_error: 2.5992e-10 - val_keras_psnr: 27.1701 - val_keras_ssim: 0.5115\n"
     ]
    },
    {
     "data": {
      "application/vnd.jupyter.widget-view+json": {
       "model_id": "",
       "version_major": 2,
       "version_minor": 0
      },
      "text/plain": [
       "HBox(children=(IntProgress(value=0, description='Epoch 480', max=10, style=ProgressStyle(description_width='in…"
      ]
     },
     "metadata": {},
     "output_type": "display_data"
    },
    {
     "name": "stdout",
     "output_type": "stream",
     "text": [
      "Epoch 481/1000\n",
      "10/10 - 29s - loss: 1.3295e-05 - mean_squared_error: 5.3852e-10 - keras_psnr: 26.6458 - keras_ssim: 0.5526 - val_loss: 1.0554e-05 - val_mean_squared_error: 2.6087e-10 - val_keras_psnr: 27.1780 - val_keras_ssim: 0.5120\n"
     ]
    },
    {
     "data": {
      "application/vnd.jupyter.widget-view+json": {
       "model_id": "",
       "version_major": 2,
       "version_minor": 0
      },
      "text/plain": [
       "HBox(children=(IntProgress(value=0, description='Epoch 481', max=10, style=ProgressStyle(description_width='in…"
      ]
     },
     "metadata": {},
     "output_type": "display_data"
    },
    {
     "name": "stdout",
     "output_type": "stream",
     "text": [
      "Epoch 482/1000\n",
      "10/10 - 29s - loss: 1.1411e-05 - mean_squared_error: 4.1568e-10 - keras_psnr: 26.3439 - keras_ssim: 0.5283 - val_loss: 1.0544e-05 - val_mean_squared_error: 2.6001e-10 - val_keras_psnr: 27.1873 - val_keras_ssim: 0.5121\n"
     ]
    },
    {
     "data": {
      "application/vnd.jupyter.widget-view+json": {
       "model_id": "",
       "version_major": 2,
       "version_minor": 0
      },
      "text/plain": [
       "HBox(children=(IntProgress(value=0, description='Epoch 482', max=10, style=ProgressStyle(description_width='in…"
      ]
     },
     "metadata": {},
     "output_type": "display_data"
    },
    {
     "name": "stdout",
     "output_type": "stream",
     "text": [
      "Epoch 483/1000\n",
      "10/10 - 29s - loss: 9.3468e-06 - mean_squared_error: 1.7944e-10 - keras_psnr: 25.1758 - keras_ssim: 0.4120 - val_loss: 1.0540e-05 - val_mean_squared_error: 2.5925e-10 - val_keras_psnr: 27.1886 - val_keras_ssim: 0.5122\n"
     ]
    },
    {
     "data": {
      "application/vnd.jupyter.widget-view+json": {
       "model_id": "",
       "version_major": 2,
       "version_minor": 0
      },
      "text/plain": [
       "HBox(children=(IntProgress(value=0, description='Epoch 483', max=10, style=ProgressStyle(description_width='in…"
      ]
     },
     "metadata": {},
     "output_type": "display_data"
    },
    {
     "name": "stdout",
     "output_type": "stream",
     "text": [
      "Epoch 484/1000\n",
      "10/10 - 29s - loss: 1.5736e-05 - mean_squared_error: 8.9781e-10 - keras_psnr: 26.0797 - keras_ssim: 0.5684 - val_loss: 1.0544e-05 - val_mean_squared_error: 2.5987e-10 - val_keras_psnr: 27.1787 - val_keras_ssim: 0.5119\n"
     ]
    },
    {
     "data": {
      "application/vnd.jupyter.widget-view+json": {
       "model_id": "",
       "version_major": 2,
       "version_minor": 0
      },
      "text/plain": [
       "HBox(children=(IntProgress(value=0, description='Epoch 484', max=10, style=ProgressStyle(description_width='in…"
      ]
     },
     "metadata": {},
     "output_type": "display_data"
    },
    {
     "name": "stdout",
     "output_type": "stream",
     "text": [
      "Epoch 485/1000\n",
      "10/10 - 28s - loss: 1.3738e-05 - mean_squared_error: 9.3034e-10 - keras_psnr: 24.2237 - keras_ssim: 0.4910 - val_loss: 1.0558e-05 - val_mean_squared_error: 2.6092e-10 - val_keras_psnr: 27.1680 - val_keras_ssim: 0.5115\n"
     ]
    },
    {
     "data": {
      "application/vnd.jupyter.widget-view+json": {
       "model_id": "",
       "version_major": 2,
       "version_minor": 0
      },
      "text/plain": [
       "HBox(children=(IntProgress(value=0, description='Epoch 485', max=10, style=ProgressStyle(description_width='in…"
      ]
     },
     "metadata": {},
     "output_type": "display_data"
    },
    {
     "name": "stdout",
     "output_type": "stream",
     "text": [
      "Epoch 486/1000\n",
      "10/10 - 29s - loss: 1.4505e-05 - mean_squared_error: 3.5256e-10 - keras_psnr: 26.5957 - keras_ssim: 0.5320 - val_loss: 1.0532e-05 - val_mean_squared_error: 2.5885e-10 - val_keras_psnr: 27.1861 - val_keras_ssim: 0.5120\n"
     ]
    },
    {
     "data": {
      "application/vnd.jupyter.widget-view+json": {
       "model_id": "",
       "version_major": 2,
       "version_minor": 0
      },
      "text/plain": [
       "HBox(children=(IntProgress(value=0, description='Epoch 486', max=10, style=ProgressStyle(description_width='in…"
      ]
     },
     "metadata": {},
     "output_type": "display_data"
    },
    {
     "name": "stdout",
     "output_type": "stream",
     "text": [
      "Epoch 487/1000\n",
      "10/10 - 31s - loss: 9.9351e-06 - mean_squared_error: 2.4327e-10 - keras_psnr: 25.5087 - keras_ssim: 0.4297 - val_loss: 1.0548e-05 - val_mean_squared_error: 2.6052e-10 - val_keras_psnr: 27.1769 - val_keras_ssim: 0.5120\n"
     ]
    },
    {
     "data": {
      "application/vnd.jupyter.widget-view+json": {
       "model_id": "",
       "version_major": 2,
       "version_minor": 0
      },
      "text/plain": [
       "HBox(children=(IntProgress(value=0, description='Epoch 487', max=10, style=ProgressStyle(description_width='in…"
      ]
     },
     "metadata": {},
     "output_type": "display_data"
    },
    {
     "name": "stdout",
     "output_type": "stream",
     "text": [
      "Epoch 488/1000\n",
      "10/10 - 29s - loss: 1.4316e-05 - mean_squared_error: 6.1819e-10 - keras_psnr: 27.3308 - keras_ssim: 0.5716 - val_loss: 1.0536e-05 - val_mean_squared_error: 2.5977e-10 - val_keras_psnr: 27.1943 - val_keras_ssim: 0.5128\n"
     ]
    },
    {
     "data": {
      "application/vnd.jupyter.widget-view+json": {
       "model_id": "",
       "version_major": 2,
       "version_minor": 0
      },
      "text/plain": [
       "HBox(children=(IntProgress(value=0, description='Epoch 488', max=10, style=ProgressStyle(description_width='in…"
      ]
     },
     "metadata": {},
     "output_type": "display_data"
    },
    {
     "name": "stdout",
     "output_type": "stream",
     "text": [
      "Epoch 489/1000\n",
      "10/10 - 28s - loss: 1.1324e-05 - mean_squared_error: 2.9299e-10 - keras_psnr: 26.6228 - keras_ssim: 0.5375 - val_loss: 1.0541e-05 - val_mean_squared_error: 2.6029e-10 - val_keras_psnr: 27.1833 - val_keras_ssim: 0.5124\n"
     ]
    },
    {
     "data": {
      "application/vnd.jupyter.widget-view+json": {
       "model_id": "",
       "version_major": 2,
       "version_minor": 0
      },
      "text/plain": [
       "HBox(children=(IntProgress(value=0, description='Epoch 489', max=10, style=ProgressStyle(description_width='in…"
      ]
     },
     "metadata": {},
     "output_type": "display_data"
    },
    {
     "name": "stdout",
     "output_type": "stream",
     "text": [
      "Epoch 490/1000\n",
      "10/10 - 30s - loss: 9.8947e-06 - mean_squared_error: 1.6740e-10 - keras_psnr: 25.2142 - keras_ssim: 0.4340 - val_loss: 1.0541e-05 - val_mean_squared_error: 2.6045e-10 - val_keras_psnr: 27.1823 - val_keras_ssim: 0.5125\n"
     ]
    },
    {
     "data": {
      "application/vnd.jupyter.widget-view+json": {
       "model_id": "",
       "version_major": 2,
       "version_minor": 0
      },
      "text/plain": [
       "HBox(children=(IntProgress(value=0, description='Epoch 490', max=10, style=ProgressStyle(description_width='in…"
      ]
     },
     "metadata": {},
     "output_type": "display_data"
    },
    {
     "name": "stdout",
     "output_type": "stream",
     "text": [
      "Epoch 491/1000\n",
      "10/10 - 30s - loss: 1.3280e-05 - mean_squared_error: 3.2414e-10 - keras_psnr: 26.4210 - keras_ssim: 0.5030 - val_loss: 1.0528e-05 - val_mean_squared_error: 2.5914e-10 - val_keras_psnr: 27.1897 - val_keras_ssim: 0.5125\n"
     ]
    },
    {
     "data": {
      "application/vnd.jupyter.widget-view+json": {
       "model_id": "",
       "version_major": 2,
       "version_minor": 0
      },
      "text/plain": [
       "HBox(children=(IntProgress(value=0, description='Epoch 491', max=10, style=ProgressStyle(description_width='in…"
      ]
     },
     "metadata": {},
     "output_type": "display_data"
    },
    {
     "name": "stdout",
     "output_type": "stream",
     "text": [
      "Epoch 492/1000\n",
      "10/10 - 30s - loss: 1.7509e-05 - mean_squared_error: 6.8123e-10 - keras_psnr: 26.4462 - keras_ssim: 0.5513 - val_loss: 1.0522e-05 - val_mean_squared_error: 2.5886e-10 - val_keras_psnr: 27.1965 - val_keras_ssim: 0.5127\n"
     ]
    },
    {
     "data": {
      "application/vnd.jupyter.widget-view+json": {
       "model_id": "",
       "version_major": 2,
       "version_minor": 0
      },
      "text/plain": [
       "HBox(children=(IntProgress(value=0, description='Epoch 492', max=10, style=ProgressStyle(description_width='in…"
      ]
     },
     "metadata": {},
     "output_type": "display_data"
    },
    {
     "name": "stdout",
     "output_type": "stream",
     "text": [
      "Epoch 493/1000\n",
      "10/10 - 29s - loss: 1.6177e-05 - mean_squared_error: 5.8139e-10 - keras_psnr: 26.8207 - keras_ssim: 0.5851 - val_loss: 1.0529e-05 - val_mean_squared_error: 2.5978e-10 - val_keras_psnr: 27.1969 - val_keras_ssim: 0.5129\n"
     ]
    },
    {
     "data": {
      "application/vnd.jupyter.widget-view+json": {
       "model_id": "",
       "version_major": 2,
       "version_minor": 0
      },
      "text/plain": [
       "HBox(children=(IntProgress(value=0, description='Epoch 493', max=10, style=ProgressStyle(description_width='in…"
      ]
     },
     "metadata": {},
     "output_type": "display_data"
    },
    {
     "name": "stdout",
     "output_type": "stream",
     "text": [
      "Epoch 494/1000\n",
      "10/10 - 30s - loss: 9.4195e-06 - mean_squared_error: 1.6601e-10 - keras_psnr: 26.0174 - keras_ssim: 0.4746 - val_loss: 1.0519e-05 - val_mean_squared_error: 2.5900e-10 - val_keras_psnr: 27.1970 - val_keras_ssim: 0.5128\n"
     ]
    },
    {
     "data": {
      "application/vnd.jupyter.widget-view+json": {
       "model_id": "",
       "version_major": 2,
       "version_minor": 0
      },
      "text/plain": [
       "HBox(children=(IntProgress(value=0, description='Epoch 494', max=10, style=ProgressStyle(description_width='in…"
      ]
     },
     "metadata": {},
     "output_type": "display_data"
    },
    {
     "name": "stdout",
     "output_type": "stream",
     "text": [
      "Epoch 495/1000\n",
      "10/10 - 30s - loss: 1.0656e-05 - mean_squared_error: 2.3463e-10 - keras_psnr: 26.0011 - keras_ssim: 0.4620 - val_loss: 1.0516e-05 - val_mean_squared_error: 2.5853e-10 - val_keras_psnr: 27.1955 - val_keras_ssim: 0.5127\n"
     ]
    },
    {
     "data": {
      "application/vnd.jupyter.widget-view+json": {
       "model_id": "",
       "version_major": 2,
       "version_minor": 0
      },
      "text/plain": [
       "HBox(children=(IntProgress(value=0, description='Epoch 495', max=10, style=ProgressStyle(description_width='in…"
      ]
     },
     "metadata": {},
     "output_type": "display_data"
    },
    {
     "name": "stdout",
     "output_type": "stream",
     "text": [
      "Epoch 496/1000\n",
      "10/10 - 30s - loss: 1.2453e-05 - mean_squared_error: 3.2124e-10 - keras_psnr: 25.3650 - keras_ssim: 0.4828 - val_loss: 1.0513e-05 - val_mean_squared_error: 2.5839e-10 - val_keras_psnr: 27.1960 - val_keras_ssim: 0.5128\n"
     ]
    },
    {
     "data": {
      "application/vnd.jupyter.widget-view+json": {
       "model_id": "",
       "version_major": 2,
       "version_minor": 0
      },
      "text/plain": [
       "HBox(children=(IntProgress(value=0, description='Epoch 496', max=10, style=ProgressStyle(description_width='in…"
      ]
     },
     "metadata": {},
     "output_type": "display_data"
    },
    {
     "name": "stdout",
     "output_type": "stream",
     "text": [
      "Epoch 497/1000\n",
      "10/10 - 29s - loss: 8.7972e-06 - mean_squared_error: 1.3719e-10 - keras_psnr: 26.2902 - keras_ssim: 0.4761 - val_loss: 1.0509e-05 - val_mean_squared_error: 2.5824e-10 - val_keras_psnr: 27.2039 - val_keras_ssim: 0.5132\n"
     ]
    },
    {
     "data": {
      "application/vnd.jupyter.widget-view+json": {
       "model_id": "",
       "version_major": 2,
       "version_minor": 0
      },
      "text/plain": [
       "HBox(children=(IntProgress(value=0, description='Epoch 497', max=10, style=ProgressStyle(description_width='in…"
      ]
     },
     "metadata": {},
     "output_type": "display_data"
    },
    {
     "name": "stdout",
     "output_type": "stream",
     "text": [
      "Epoch 498/1000\n",
      "10/10 - 29s - loss: 1.5591e-05 - mean_squared_error: 4.2242e-10 - keras_psnr: 26.2901 - keras_ssim: 0.5145 - val_loss: 1.0509e-05 - val_mean_squared_error: 2.5758e-10 - val_keras_psnr: 27.2033 - val_keras_ssim: 0.5130\n"
     ]
    },
    {
     "data": {
      "application/vnd.jupyter.widget-view+json": {
       "model_id": "",
       "version_major": 2,
       "version_minor": 0
      },
      "text/plain": [
       "HBox(children=(IntProgress(value=0, description='Epoch 498', max=10, style=ProgressStyle(description_width='in…"
      ]
     },
     "metadata": {},
     "output_type": "display_data"
    },
    {
     "name": "stdout",
     "output_type": "stream",
     "text": [
      "Epoch 499/1000\n",
      "10/10 - 28s - loss: 1.3205e-05 - mean_squared_error: 5.6304e-10 - keras_psnr: 26.1751 - keras_ssim: 0.5198 - val_loss: 1.0521e-05 - val_mean_squared_error: 2.5869e-10 - val_keras_psnr: 27.1908 - val_keras_ssim: 0.5127\n"
     ]
    },
    {
     "data": {
      "application/vnd.jupyter.widget-view+json": {
       "model_id": "",
       "version_major": 2,
       "version_minor": 0
      },
      "text/plain": [
       "HBox(children=(IntProgress(value=0, description='Epoch 499', max=10, style=ProgressStyle(description_width='in…"
      ]
     },
     "metadata": {},
     "output_type": "display_data"
    },
    {
     "name": "stdout",
     "output_type": "stream",
     "text": [
      "Epoch 500/1000\n",
      "10/10 - 29s - loss: 1.2807e-05 - mean_squared_error: 4.3942e-10 - keras_psnr: 26.1697 - keras_ssim: 0.5647 - val_loss: 1.0524e-05 - val_mean_squared_error: 2.5883e-10 - val_keras_psnr: 27.1927 - val_keras_ssim: 0.5128\n"
     ]
    },
    {
     "data": {
      "application/vnd.jupyter.widget-view+json": {
       "model_id": "",
       "version_major": 2,
       "version_minor": 0
      },
      "text/plain": [
       "HBox(children=(IntProgress(value=0, description='Epoch 500', max=10, style=ProgressStyle(description_width='in…"
      ]
     },
     "metadata": {},
     "output_type": "display_data"
    },
    {
     "name": "stdout",
     "output_type": "stream",
     "text": [
      "Epoch 501/1000\n",
      "10/10 - 29s - loss: 1.1708e-05 - mean_squared_error: 3.3577e-10 - keras_psnr: 25.8741 - keras_ssim: 0.5195 - val_loss: 1.0517e-05 - val_mean_squared_error: 2.5902e-10 - val_keras_psnr: 27.1987 - val_keras_ssim: 0.5131\n"
     ]
    },
    {
     "data": {
      "application/vnd.jupyter.widget-view+json": {
       "model_id": "",
       "version_major": 2,
       "version_minor": 0
      },
      "text/plain": [
       "HBox(children=(IntProgress(value=0, description='Epoch 501', max=10, style=ProgressStyle(description_width='in…"
      ]
     },
     "metadata": {},
     "output_type": "display_data"
    },
    {
     "name": "stdout",
     "output_type": "stream",
     "text": [
      "Epoch 502/1000\n",
      "10/10 - 28s - loss: 7.8650e-06 - mean_squared_error: 1.0529e-10 - keras_psnr: 24.3470 - keras_ssim: 0.3407 - val_loss: 1.0516e-05 - val_mean_squared_error: 2.5861e-10 - val_keras_psnr: 27.1977 - val_keras_ssim: 0.5131\n"
     ]
    },
    {
     "data": {
      "application/vnd.jupyter.widget-view+json": {
       "model_id": "",
       "version_major": 2,
       "version_minor": 0
      },
      "text/plain": [
       "HBox(children=(IntProgress(value=0, description='Epoch 502', max=10, style=ProgressStyle(description_width='in…"
      ]
     },
     "metadata": {},
     "output_type": "display_data"
    },
    {
     "name": "stdout",
     "output_type": "stream",
     "text": [
      "Epoch 503/1000\n",
      "10/10 - 28s - loss: 1.0731e-05 - mean_squared_error: 2.8146e-10 - keras_psnr: 27.1271 - keras_ssim: 0.5390 - val_loss: 1.0500e-05 - val_mean_squared_error: 2.5764e-10 - val_keras_psnr: 27.2140 - val_keras_ssim: 0.5136\n"
     ]
    },
    {
     "data": {
      "application/vnd.jupyter.widget-view+json": {
       "model_id": "",
       "version_major": 2,
       "version_minor": 0
      },
      "text/plain": [
       "HBox(children=(IntProgress(value=0, description='Epoch 503', max=10, style=ProgressStyle(description_width='in…"
      ]
     },
     "metadata": {},
     "output_type": "display_data"
    },
    {
     "name": "stdout",
     "output_type": "stream",
     "text": [
      "Epoch 504/1000\n",
      "10/10 - 29s - loss: 9.5110e-06 - mean_squared_error: 1.9495e-10 - keras_psnr: 26.9505 - keras_ssim: 0.5348 - val_loss: 1.0497e-05 - val_mean_squared_error: 2.5776e-10 - val_keras_psnr: 27.2159 - val_keras_ssim: 0.5137\n"
     ]
    },
    {
     "data": {
      "application/vnd.jupyter.widget-view+json": {
       "model_id": "",
       "version_major": 2,
       "version_minor": 0
      },
      "text/plain": [
       "HBox(children=(IntProgress(value=0, description='Epoch 504', max=10, style=ProgressStyle(description_width='in…"
      ]
     },
     "metadata": {},
     "output_type": "display_data"
    },
    {
     "name": "stdout",
     "output_type": "stream",
     "text": [
      "Epoch 505/1000\n",
      "10/10 - 28s - loss: 9.3308e-06 - mean_squared_error: 2.1166e-10 - keras_psnr: 26.2822 - keras_ssim: 0.4751 - val_loss: 1.0501e-05 - val_mean_squared_error: 2.5798e-10 - val_keras_psnr: 27.2141 - val_keras_ssim: 0.5136\n"
     ]
    },
    {
     "data": {
      "application/vnd.jupyter.widget-view+json": {
       "model_id": "",
       "version_major": 2,
       "version_minor": 0
      },
      "text/plain": [
       "HBox(children=(IntProgress(value=0, description='Epoch 505', max=10, style=ProgressStyle(description_width='in…"
      ]
     },
     "metadata": {},
     "output_type": "display_data"
    },
    {
     "name": "stdout",
     "output_type": "stream",
     "text": [
      "Epoch 506/1000\n",
      "10/10 - 29s - loss: 1.1277e-05 - mean_squared_error: 1.7694e-10 - keras_psnr: 25.5572 - keras_ssim: 0.4335 - val_loss: 1.0485e-05 - val_mean_squared_error: 2.5668e-10 - val_keras_psnr: 27.2289 - val_keras_ssim: 0.5141\n"
     ]
    },
    {
     "data": {
      "application/vnd.jupyter.widget-view+json": {
       "model_id": "",
       "version_major": 2,
       "version_minor": 0
      },
      "text/plain": [
       "HBox(children=(IntProgress(value=0, description='Epoch 506', max=10, style=ProgressStyle(description_width='in…"
      ]
     },
     "metadata": {},
     "output_type": "display_data"
    },
    {
     "name": "stdout",
     "output_type": "stream",
     "text": [
      "Epoch 507/1000\n",
      "10/10 - 29s - loss: 1.8596e-05 - mean_squared_error: 7.2996e-10 - keras_psnr: 27.3640 - keras_ssim: 0.6404 - val_loss: 1.0501e-05 - val_mean_squared_error: 2.5834e-10 - val_keras_psnr: 27.2026 - val_keras_ssim: 0.5135\n"
     ]
    },
    {
     "data": {
      "application/vnd.jupyter.widget-view+json": {
       "model_id": "",
       "version_major": 2,
       "version_minor": 0
      },
      "text/plain": [
       "HBox(children=(IntProgress(value=0, description='Epoch 507', max=10, style=ProgressStyle(description_width='in…"
      ]
     },
     "metadata": {},
     "output_type": "display_data"
    },
    {
     "name": "stdout",
     "output_type": "stream",
     "text": [
      "Epoch 508/1000\n",
      "10/10 - 29s - loss: 1.2569e-05 - mean_squared_error: 3.2398e-10 - keras_psnr: 26.0573 - keras_ssim: 0.5198 - val_loss: 1.0505e-05 - val_mean_squared_error: 2.5871e-10 - val_keras_psnr: 27.1987 - val_keras_ssim: 0.5133\n"
     ]
    },
    {
     "data": {
      "application/vnd.jupyter.widget-view+json": {
       "model_id": "",
       "version_major": 2,
       "version_minor": 0
      },
      "text/plain": [
       "HBox(children=(IntProgress(value=0, description='Epoch 508', max=10, style=ProgressStyle(description_width='in…"
      ]
     },
     "metadata": {},
     "output_type": "display_data"
    },
    {
     "name": "stdout",
     "output_type": "stream",
     "text": [
      "Epoch 509/1000\n",
      "10/10 - 29s - loss: 1.9824e-05 - mean_squared_error: 8.6807e-10 - keras_psnr: 25.3348 - keras_ssim: 0.5068 - val_loss: 1.0509e-05 - val_mean_squared_error: 2.5876e-10 - val_keras_psnr: 27.1940 - val_keras_ssim: 0.5133\n"
     ]
    },
    {
     "data": {
      "application/vnd.jupyter.widget-view+json": {
       "model_id": "",
       "version_major": 2,
       "version_minor": 0
      },
      "text/plain": [
       "HBox(children=(IntProgress(value=0, description='Epoch 509', max=10, style=ProgressStyle(description_width='in…"
      ]
     },
     "metadata": {},
     "output_type": "display_data"
    },
    {
     "name": "stdout",
     "output_type": "stream",
     "text": [
      "Epoch 510/1000\n",
      "10/10 - 29s - loss: 1.0420e-05 - mean_squared_error: 1.8820e-10 - keras_psnr: 26.9257 - keras_ssim: 0.5221 - val_loss: 1.0504e-05 - val_mean_squared_error: 2.5806e-10 - val_keras_psnr: 27.2071 - val_keras_ssim: 0.5136\n"
     ]
    },
    {
     "data": {
      "application/vnd.jupyter.widget-view+json": {
       "model_id": "",
       "version_major": 2,
       "version_minor": 0
      },
      "text/plain": [
       "HBox(children=(IntProgress(value=0, description='Epoch 510', max=10, style=ProgressStyle(description_width='in…"
      ]
     },
     "metadata": {},
     "output_type": "display_data"
    },
    {
     "name": "stdout",
     "output_type": "stream",
     "text": [
      "Epoch 511/1000\n",
      "10/10 - 28s - loss: 1.0898e-05 - mean_squared_error: 1.7241e-10 - keras_psnr: 26.3960 - keras_ssim: 0.4824 - val_loss: 1.0509e-05 - val_mean_squared_error: 2.5879e-10 - val_keras_psnr: 27.2092 - val_keras_ssim: 0.5138\n"
     ]
    },
    {
     "data": {
      "application/vnd.jupyter.widget-view+json": {
       "model_id": "",
       "version_major": 2,
       "version_minor": 0
      },
      "text/plain": [
       "HBox(children=(IntProgress(value=0, description='Epoch 511', max=10, style=ProgressStyle(description_width='in…"
      ]
     },
     "metadata": {},
     "output_type": "display_data"
    },
    {
     "name": "stdout",
     "output_type": "stream",
     "text": [
      "Epoch 512/1000\n",
      "10/10 - 29s - loss: 9.0359e-06 - mean_squared_error: 1.6167e-10 - keras_psnr: 26.1002 - keras_ssim: 0.4567 - val_loss: 1.0499e-05 - val_mean_squared_error: 2.5841e-10 - val_keras_psnr: 27.2159 - val_keras_ssim: 0.5140\n"
     ]
    },
    {
     "data": {
      "application/vnd.jupyter.widget-view+json": {
       "model_id": "",
       "version_major": 2,
       "version_minor": 0
      },
      "text/plain": [
       "HBox(children=(IntProgress(value=0, description='Epoch 512', max=10, style=ProgressStyle(description_width='in…"
      ]
     },
     "metadata": {},
     "output_type": "display_data"
    },
    {
     "name": "stdout",
     "output_type": "stream",
     "text": [
      "Epoch 513/1000\n",
      "10/10 - 28s - loss: 1.0068e-05 - mean_squared_error: 2.0408e-10 - keras_psnr: 26.0332 - keras_ssim: 0.5052 - val_loss: 1.0492e-05 - val_mean_squared_error: 2.5822e-10 - val_keras_psnr: 27.2221 - val_keras_ssim: 0.5143\n"
     ]
    },
    {
     "data": {
      "application/vnd.jupyter.widget-view+json": {
       "model_id": "",
       "version_major": 2,
       "version_minor": 0
      },
      "text/plain": [
       "HBox(children=(IntProgress(value=0, description='Epoch 513', max=10, style=ProgressStyle(description_width='in…"
      ]
     },
     "metadata": {},
     "output_type": "display_data"
    },
    {
     "name": "stdout",
     "output_type": "stream",
     "text": [
      "Epoch 514/1000\n",
      "10/10 - 29s - loss: 1.3455e-05 - mean_squared_error: 4.8708e-10 - keras_psnr: 26.8781 - keras_ssim: 0.5791 - val_loss: 1.0483e-05 - val_mean_squared_error: 2.5719e-10 - val_keras_psnr: 27.2092 - val_keras_ssim: 0.5137\n"
     ]
    },
    {
     "data": {
      "application/vnd.jupyter.widget-view+json": {
       "model_id": "",
       "version_major": 2,
       "version_minor": 0
      },
      "text/plain": [
       "HBox(children=(IntProgress(value=0, description='Epoch 514', max=10, style=ProgressStyle(description_width='in…"
      ]
     },
     "metadata": {},
     "output_type": "display_data"
    },
    {
     "name": "stdout",
     "output_type": "stream",
     "text": [
      "Epoch 515/1000\n",
      "10/10 - 29s - loss: 1.5254e-05 - mean_squared_error: 3.8583e-10 - keras_psnr: 25.2568 - keras_ssim: 0.4829 - val_loss: 1.0486e-05 - val_mean_squared_error: 2.5742e-10 - val_keras_psnr: 27.2118 - val_keras_ssim: 0.5138\n"
     ]
    },
    {
     "data": {
      "application/vnd.jupyter.widget-view+json": {
       "model_id": "",
       "version_major": 2,
       "version_minor": 0
      },
      "text/plain": [
       "HBox(children=(IntProgress(value=0, description='Epoch 515', max=10, style=ProgressStyle(description_width='in…"
      ]
     },
     "metadata": {},
     "output_type": "display_data"
    },
    {
     "name": "stdout",
     "output_type": "stream",
     "text": [
      "Epoch 516/1000\n",
      "10/10 - 28s - loss: 1.0207e-05 - mean_squared_error: 2.1315e-10 - keras_psnr: 26.3932 - keras_ssim: 0.4762 - val_loss: 1.0487e-05 - val_mean_squared_error: 2.5772e-10 - val_keras_psnr: 27.2194 - val_keras_ssim: 0.5140\n"
     ]
    },
    {
     "data": {
      "application/vnd.jupyter.widget-view+json": {
       "model_id": "",
       "version_major": 2,
       "version_minor": 0
      },
      "text/plain": [
       "HBox(children=(IntProgress(value=0, description='Epoch 516', max=10, style=ProgressStyle(description_width='in…"
      ]
     },
     "metadata": {},
     "output_type": "display_data"
    },
    {
     "name": "stdout",
     "output_type": "stream",
     "text": [
      "Epoch 517/1000\n",
      "10/10 - 29s - loss: 1.0032e-05 - mean_squared_error: 3.1581e-10 - keras_psnr: 25.9192 - keras_ssim: 0.4864 - val_loss: 1.0482e-05 - val_mean_squared_error: 2.5714e-10 - val_keras_psnr: 27.2262 - val_keras_ssim: 0.5142\n"
     ]
    },
    {
     "data": {
      "application/vnd.jupyter.widget-view+json": {
       "model_id": "",
       "version_major": 2,
       "version_minor": 0
      },
      "text/plain": [
       "HBox(children=(IntProgress(value=0, description='Epoch 517', max=10, style=ProgressStyle(description_width='in…"
      ]
     },
     "metadata": {},
     "output_type": "display_data"
    },
    {
     "name": "stdout",
     "output_type": "stream",
     "text": [
      "Epoch 518/1000\n",
      "10/10 - 30s - loss: 1.1220e-05 - mean_squared_error: 2.3266e-10 - keras_psnr: 27.5254 - keras_ssim: 0.5443 - val_loss: 1.0463e-05 - val_mean_squared_error: 2.5563e-10 - val_keras_psnr: 27.2302 - val_keras_ssim: 0.5143\n"
     ]
    },
    {
     "data": {
      "application/vnd.jupyter.widget-view+json": {
       "model_id": "",
       "version_major": 2,
       "version_minor": 0
      },
      "text/plain": [
       "HBox(children=(IntProgress(value=0, description='Epoch 518', max=10, style=ProgressStyle(description_width='in…"
      ]
     },
     "metadata": {},
     "output_type": "display_data"
    },
    {
     "name": "stdout",
     "output_type": "stream",
     "text": [
      "Epoch 519/1000\n",
      "10/10 - 29s - loss: 1.0641e-05 - mean_squared_error: 3.0080e-10 - keras_psnr: 25.3984 - keras_ssim: 0.4657 - val_loss: 1.0462e-05 - val_mean_squared_error: 2.5630e-10 - val_keras_psnr: 27.2322 - val_keras_ssim: 0.5146\n"
     ]
    },
    {
     "data": {
      "application/vnd.jupyter.widget-view+json": {
       "model_id": "",
       "version_major": 2,
       "version_minor": 0
      },
      "text/plain": [
       "HBox(children=(IntProgress(value=0, description='Epoch 519', max=10, style=ProgressStyle(description_width='in…"
      ]
     },
     "metadata": {},
     "output_type": "display_data"
    },
    {
     "name": "stdout",
     "output_type": "stream",
     "text": [
      "Epoch 520/1000\n",
      "10/10 - 30s - loss: 1.1084e-05 - mean_squared_error: 4.8402e-10 - keras_psnr: 27.7071 - keras_ssim: 0.5933 - val_loss: 1.0455e-05 - val_mean_squared_error: 2.5555e-10 - val_keras_psnr: 27.2402 - val_keras_ssim: 0.5148\n"
     ]
    },
    {
     "data": {
      "application/vnd.jupyter.widget-view+json": {
       "model_id": "",
       "version_major": 2,
       "version_minor": 0
      },
      "text/plain": [
       "HBox(children=(IntProgress(value=0, description='Epoch 520', max=10, style=ProgressStyle(description_width='in…"
      ]
     },
     "metadata": {},
     "output_type": "display_data"
    },
    {
     "name": "stdout",
     "output_type": "stream",
     "text": [
      "Epoch 521/1000\n",
      "10/10 - 29s - loss: 1.3537e-05 - mean_squared_error: 4.1105e-10 - keras_psnr: 28.4317 - keras_ssim: 0.6107 - val_loss: 1.0471e-05 - val_mean_squared_error: 2.5699e-10 - val_keras_psnr: 27.2284 - val_keras_ssim: 0.5144\n"
     ]
    },
    {
     "data": {
      "application/vnd.jupyter.widget-view+json": {
       "model_id": "",
       "version_major": 2,
       "version_minor": 0
      },
      "text/plain": [
       "HBox(children=(IntProgress(value=0, description='Epoch 521', max=10, style=ProgressStyle(description_width='in…"
      ]
     },
     "metadata": {},
     "output_type": "display_data"
    },
    {
     "name": "stdout",
     "output_type": "stream",
     "text": [
      "Epoch 522/1000\n",
      "10/10 - 29s - loss: 1.0932e-05 - mean_squared_error: 1.9048e-10 - keras_psnr: 25.8110 - keras_ssim: 0.4547 - val_loss: 1.0468e-05 - val_mean_squared_error: 2.5672e-10 - val_keras_psnr: 27.2305 - val_keras_ssim: 0.5145\n"
     ]
    },
    {
     "data": {
      "application/vnd.jupyter.widget-view+json": {
       "model_id": "",
       "version_major": 2,
       "version_minor": 0
      },
      "text/plain": [
       "HBox(children=(IntProgress(value=0, description='Epoch 522', max=10, style=ProgressStyle(description_width='in…"
      ]
     },
     "metadata": {},
     "output_type": "display_data"
    },
    {
     "name": "stdout",
     "output_type": "stream",
     "text": [
      "Epoch 523/1000\n",
      "10/10 - 30s - loss: 1.1189e-05 - mean_squared_error: 2.5764e-10 - keras_psnr: 27.3656 - keras_ssim: 0.5362 - val_loss: 1.0468e-05 - val_mean_squared_error: 2.5645e-10 - val_keras_psnr: 27.2302 - val_keras_ssim: 0.5145\n"
     ]
    },
    {
     "data": {
      "application/vnd.jupyter.widget-view+json": {
       "model_id": "",
       "version_major": 2,
       "version_minor": 0
      },
      "text/plain": [
       "HBox(children=(IntProgress(value=0, description='Epoch 523', max=10, style=ProgressStyle(description_width='in…"
      ]
     },
     "metadata": {},
     "output_type": "display_data"
    },
    {
     "name": "stdout",
     "output_type": "stream",
     "text": [
      "Epoch 524/1000\n",
      "10/10 - 29s - loss: 1.0036e-05 - mean_squared_error: 2.3116e-10 - keras_psnr: 25.9708 - keras_ssim: 0.5191 - val_loss: 1.0447e-05 - val_mean_squared_error: 2.5508e-10 - val_keras_psnr: 27.2356 - val_keras_ssim: 0.5147\n"
     ]
    },
    {
     "data": {
      "application/vnd.jupyter.widget-view+json": {
       "model_id": "",
       "version_major": 2,
       "version_minor": 0
      },
      "text/plain": [
       "HBox(children=(IntProgress(value=0, description='Epoch 524', max=10, style=ProgressStyle(description_width='in…"
      ]
     },
     "metadata": {},
     "output_type": "display_data"
    },
    {
     "name": "stdout",
     "output_type": "stream",
     "text": [
      "Epoch 525/1000\n",
      "10/10 - 28s - loss: 1.3801e-05 - mean_squared_error: 3.3668e-10 - keras_psnr: 26.4434 - keras_ssim: 0.5003 - val_loss: 1.0459e-05 - val_mean_squared_error: 2.5617e-10 - val_keras_psnr: 27.2380 - val_keras_ssim: 0.5149\n"
     ]
    },
    {
     "data": {
      "application/vnd.jupyter.widget-view+json": {
       "model_id": "",
       "version_major": 2,
       "version_minor": 0
      },
      "text/plain": [
       "HBox(children=(IntProgress(value=0, description='Epoch 525', max=10, style=ProgressStyle(description_width='in…"
      ]
     },
     "metadata": {},
     "output_type": "display_data"
    },
    {
     "name": "stdout",
     "output_type": "stream",
     "text": [
      "Epoch 526/1000\n",
      "10/10 - 28s - loss: 1.2344e-05 - mean_squared_error: 2.5568e-10 - keras_psnr: 26.5315 - keras_ssim: 0.5159 - val_loss: 1.0454e-05 - val_mean_squared_error: 2.5622e-10 - val_keras_psnr: 27.2383 - val_keras_ssim: 0.5148\n"
     ]
    },
    {
     "data": {
      "application/vnd.jupyter.widget-view+json": {
       "model_id": "",
       "version_major": 2,
       "version_minor": 0
      },
      "text/plain": [
       "HBox(children=(IntProgress(value=0, description='Epoch 526', max=10, style=ProgressStyle(description_width='in…"
      ]
     },
     "metadata": {},
     "output_type": "display_data"
    },
    {
     "name": "stdout",
     "output_type": "stream",
     "text": [
      "Epoch 527/1000\n",
      "10/10 - 29s - loss: 1.2336e-05 - mean_squared_error: 5.7868e-10 - keras_psnr: 27.1781 - keras_ssim: 0.5285 - val_loss: 1.0492e-05 - val_mean_squared_error: 2.5750e-10 - val_keras_psnr: 27.1936 - val_keras_ssim: 0.5137\n"
     ]
    },
    {
     "data": {
      "application/vnd.jupyter.widget-view+json": {
       "model_id": "",
       "version_major": 2,
       "version_minor": 0
      },
      "text/plain": [
       "HBox(children=(IntProgress(value=0, description='Epoch 527', max=10, style=ProgressStyle(description_width='in…"
      ]
     },
     "metadata": {},
     "output_type": "display_data"
    },
    {
     "name": "stdout",
     "output_type": "stream",
     "text": [
      "Epoch 528/1000\n",
      "10/10 - 28s - loss: 8.8755e-06 - mean_squared_error: 1.3945e-10 - keras_psnr: 25.1596 - keras_ssim: 0.4105 - val_loss: 1.0497e-05 - val_mean_squared_error: 2.5767e-10 - val_keras_psnr: 27.1861 - val_keras_ssim: 0.5137\n"
     ]
    },
    {
     "data": {
      "application/vnd.jupyter.widget-view+json": {
       "model_id": "",
       "version_major": 2,
       "version_minor": 0
      },
      "text/plain": [
       "HBox(children=(IntProgress(value=0, description='Epoch 528', max=10, style=ProgressStyle(description_width='in…"
      ]
     },
     "metadata": {},
     "output_type": "display_data"
    },
    {
     "name": "stdout",
     "output_type": "stream",
     "text": [
      "Epoch 529/1000\n",
      "10/10 - 28s - loss: 1.3725e-05 - mean_squared_error: 4.1579e-10 - keras_psnr: 27.0876 - keras_ssim: 0.5611 - val_loss: 1.0454e-05 - val_mean_squared_error: 2.5614e-10 - val_keras_psnr: 27.2287 - val_keras_ssim: 0.5147\n"
     ]
    },
    {
     "data": {
      "application/vnd.jupyter.widget-view+json": {
       "model_id": "",
       "version_major": 2,
       "version_minor": 0
      },
      "text/plain": [
       "HBox(children=(IntProgress(value=0, description='Epoch 529', max=10, style=ProgressStyle(description_width='in…"
      ]
     },
     "metadata": {},
     "output_type": "display_data"
    },
    {
     "name": "stdout",
     "output_type": "stream",
     "text": [
      "Epoch 530/1000\n",
      "10/10 - 29s - loss: 1.4700e-05 - mean_squared_error: 4.5679e-10 - keras_psnr: 25.4082 - keras_ssim: 0.4748 - val_loss: 1.0435e-05 - val_mean_squared_error: 2.5467e-10 - val_keras_psnr: 27.2551 - val_keras_ssim: 0.5154\n"
     ]
    },
    {
     "data": {
      "application/vnd.jupyter.widget-view+json": {
       "model_id": "",
       "version_major": 2,
       "version_minor": 0
      },
      "text/plain": [
       "HBox(children=(IntProgress(value=0, description='Epoch 530', max=10, style=ProgressStyle(description_width='in…"
      ]
     },
     "metadata": {},
     "output_type": "display_data"
    },
    {
     "name": "stdout",
     "output_type": "stream",
     "text": [
      "Epoch 531/1000\n",
      "10/10 - 28s - loss: 1.5275e-05 - mean_squared_error: 6.7333e-10 - keras_psnr: 25.9380 - keras_ssim: 0.5308 - val_loss: 1.0448e-05 - val_mean_squared_error: 2.5618e-10 - val_keras_psnr: 27.2565 - val_keras_ssim: 0.5157\n"
     ]
    },
    {
     "data": {
      "application/vnd.jupyter.widget-view+json": {
       "model_id": "",
       "version_major": 2,
       "version_minor": 0
      },
      "text/plain": [
       "HBox(children=(IntProgress(value=0, description='Epoch 531', max=10, style=ProgressStyle(description_width='in…"
      ]
     },
     "metadata": {},
     "output_type": "display_data"
    },
    {
     "name": "stdout",
     "output_type": "stream",
     "text": [
      "Epoch 532/1000\n",
      "10/10 - 29s - loss: 9.0741e-06 - mean_squared_error: 1.9796e-10 - keras_psnr: 26.3561 - keras_ssim: 0.5046 - val_loss: 1.0457e-05 - val_mean_squared_error: 2.5663e-10 - val_keras_psnr: 27.2388 - val_keras_ssim: 0.5151\n"
     ]
    },
    {
     "data": {
      "application/vnd.jupyter.widget-view+json": {
       "model_id": "",
       "version_major": 2,
       "version_minor": 0
      },
      "text/plain": [
       "HBox(children=(IntProgress(value=0, description='Epoch 532', max=10, style=ProgressStyle(description_width='in…"
      ]
     },
     "metadata": {},
     "output_type": "display_data"
    },
    {
     "name": "stdout",
     "output_type": "stream",
     "text": [
      "Epoch 533/1000\n",
      "10/10 - 29s - loss: 1.5341e-05 - mean_squared_error: 1.0324e-09 - keras_psnr: 27.3081 - keras_ssim: 0.6053 - val_loss: 1.0460e-05 - val_mean_squared_error: 2.5628e-10 - val_keras_psnr: 27.2289 - val_keras_ssim: 0.5146\n"
     ]
    },
    {
     "data": {
      "application/vnd.jupyter.widget-view+json": {
       "model_id": "",
       "version_major": 2,
       "version_minor": 0
      },
      "text/plain": [
       "HBox(children=(IntProgress(value=0, description='Epoch 533', max=10, style=ProgressStyle(description_width='in…"
      ]
     },
     "metadata": {},
     "output_type": "display_data"
    },
    {
     "name": "stdout",
     "output_type": "stream",
     "text": [
      "Epoch 534/1000\n",
      "10/10 - 29s - loss: 1.7252e-05 - mean_squared_error: 9.4203e-10 - keras_psnr: 26.8295 - keras_ssim: 0.5974 - val_loss: 1.0453e-05 - val_mean_squared_error: 2.5590e-10 - val_keras_psnr: 27.2298 - val_keras_ssim: 0.5147\n"
     ]
    },
    {
     "data": {
      "application/vnd.jupyter.widget-view+json": {
       "model_id": "",
       "version_major": 2,
       "version_minor": 0
      },
      "text/plain": [
       "HBox(children=(IntProgress(value=0, description='Epoch 534', max=10, style=ProgressStyle(description_width='in…"
      ]
     },
     "metadata": {},
     "output_type": "display_data"
    },
    {
     "name": "stdout",
     "output_type": "stream",
     "text": [
      "Epoch 535/1000\n",
      "10/10 - 29s - loss: 1.2851e-05 - mean_squared_error: 3.7659e-10 - keras_psnr: 25.3046 - keras_ssim: 0.5003 - val_loss: 1.0444e-05 - val_mean_squared_error: 2.5580e-10 - val_keras_psnr: 27.2408 - val_keras_ssim: 0.5150\n"
     ]
    },
    {
     "data": {
      "application/vnd.jupyter.widget-view+json": {
       "model_id": "",
       "version_major": 2,
       "version_minor": 0
      },
      "text/plain": [
       "HBox(children=(IntProgress(value=0, description='Epoch 535', max=10, style=ProgressStyle(description_width='in…"
      ]
     },
     "metadata": {},
     "output_type": "display_data"
    },
    {
     "name": "stdout",
     "output_type": "stream",
     "text": [
      "Epoch 536/1000\n",
      "10/10 - 28s - loss: 1.6114e-05 - mean_squared_error: 5.6630e-10 - keras_psnr: 25.2234 - keras_ssim: 0.4926 - val_loss: 1.0429e-05 - val_mean_squared_error: 2.5490e-10 - val_keras_psnr: 27.2622 - val_keras_ssim: 0.5157\n"
     ]
    },
    {
     "data": {
      "application/vnd.jupyter.widget-view+json": {
       "model_id": "",
       "version_major": 2,
       "version_minor": 0
      },
      "text/plain": [
       "HBox(children=(IntProgress(value=0, description='Epoch 536', max=10, style=ProgressStyle(description_width='in…"
      ]
     },
     "metadata": {},
     "output_type": "display_data"
    },
    {
     "name": "stdout",
     "output_type": "stream",
     "text": [
      "Epoch 537/1000\n",
      "10/10 - 29s - loss: 2.9079e-05 - mean_squared_error: 8.3810e-09 - keras_psnr: 24.9586 - keras_ssim: 0.4798 - val_loss: 1.0457e-05 - val_mean_squared_error: 2.5658e-10 - val_keras_psnr: 27.2343 - val_keras_ssim: 0.5151\n"
     ]
    },
    {
     "data": {
      "application/vnd.jupyter.widget-view+json": {
       "model_id": "",
       "version_major": 2,
       "version_minor": 0
      },
      "text/plain": [
       "HBox(children=(IntProgress(value=0, description='Epoch 537', max=10, style=ProgressStyle(description_width='in…"
      ]
     },
     "metadata": {},
     "output_type": "display_data"
    },
    {
     "name": "stdout",
     "output_type": "stream",
     "text": [
      "Epoch 538/1000\n",
      "10/10 - 28s - loss: 9.9761e-06 - mean_squared_error: 2.2526e-10 - keras_psnr: 26.0666 - keras_ssim: 0.4620 - val_loss: 1.0428e-05 - val_mean_squared_error: 2.5435e-10 - val_keras_psnr: 27.2520 - val_keras_ssim: 0.5156\n"
     ]
    },
    {
     "data": {
      "application/vnd.jupyter.widget-view+json": {
       "model_id": "",
       "version_major": 2,
       "version_minor": 0
      },
      "text/plain": [
       "HBox(children=(IntProgress(value=0, description='Epoch 538', max=10, style=ProgressStyle(description_width='in…"
      ]
     },
     "metadata": {},
     "output_type": "display_data"
    },
    {
     "name": "stdout",
     "output_type": "stream",
     "text": [
      "Epoch 539/1000\n",
      "10/10 - 28s - loss: 1.3477e-05 - mean_squared_error: 4.7795e-10 - keras_psnr: 26.0277 - keras_ssim: 0.5197 - val_loss: 1.0426e-05 - val_mean_squared_error: 2.5461e-10 - val_keras_psnr: 27.2628 - val_keras_ssim: 0.5159\n"
     ]
    },
    {
     "data": {
      "application/vnd.jupyter.widget-view+json": {
       "model_id": "",
       "version_major": 2,
       "version_minor": 0
      },
      "text/plain": [
       "HBox(children=(IntProgress(value=0, description='Epoch 539', max=10, style=ProgressStyle(description_width='in…"
      ]
     },
     "metadata": {},
     "output_type": "display_data"
    },
    {
     "name": "stdout",
     "output_type": "stream",
     "text": [
      "Epoch 540/1000\n",
      "10/10 - 29s - loss: 1.2058e-05 - mean_squared_error: 3.9804e-10 - keras_psnr: 24.5578 - keras_ssim: 0.4068 - val_loss: 1.0440e-05 - val_mean_squared_error: 2.5580e-10 - val_keras_psnr: 27.2451 - val_keras_ssim: 0.5155\n"
     ]
    },
    {
     "data": {
      "application/vnd.jupyter.widget-view+json": {
       "model_id": "",
       "version_major": 2,
       "version_minor": 0
      },
      "text/plain": [
       "HBox(children=(IntProgress(value=0, description='Epoch 540', max=10, style=ProgressStyle(description_width='in…"
      ]
     },
     "metadata": {},
     "output_type": "display_data"
    },
    {
     "name": "stdout",
     "output_type": "stream",
     "text": [
      "Epoch 541/1000\n",
      "10/10 - 28s - loss: 1.4450e-05 - mean_squared_error: 4.9831e-10 - keras_psnr: 25.5227 - keras_ssim: 0.5242 - val_loss: 1.0447e-05 - val_mean_squared_error: 2.5621e-10 - val_keras_psnr: 27.2350 - val_keras_ssim: 0.5152\n"
     ]
    },
    {
     "data": {
      "application/vnd.jupyter.widget-view+json": {
       "model_id": "",
       "version_major": 2,
       "version_minor": 0
      },
      "text/plain": [
       "HBox(children=(IntProgress(value=0, description='Epoch 541', max=10, style=ProgressStyle(description_width='in…"
      ]
     },
     "metadata": {},
     "output_type": "display_data"
    },
    {
     "name": "stdout",
     "output_type": "stream",
     "text": [
      "Epoch 542/1000\n",
      "10/10 - 29s - loss: 1.0403e-05 - mean_squared_error: 2.6812e-10 - keras_psnr: 26.4438 - keras_ssim: 0.5107 - val_loss: 1.0436e-05 - val_mean_squared_error: 2.5526e-10 - val_keras_psnr: 27.2421 - val_keras_ssim: 0.5156\n"
     ]
    },
    {
     "data": {
      "application/vnd.jupyter.widget-view+json": {
       "model_id": "",
       "version_major": 2,
       "version_minor": 0
      },
      "text/plain": [
       "HBox(children=(IntProgress(value=0, description='Epoch 542', max=10, style=ProgressStyle(description_width='in…"
      ]
     },
     "metadata": {},
     "output_type": "display_data"
    },
    {
     "name": "stdout",
     "output_type": "stream",
     "text": [
      "Epoch 543/1000\n",
      "10/10 - 29s - loss: 1.4669e-05 - mean_squared_error: 7.8718e-10 - keras_psnr: 25.1491 - keras_ssim: 0.5086 - val_loss: 1.0424e-05 - val_mean_squared_error: 2.5482e-10 - val_keras_psnr: 27.2570 - val_keras_ssim: 0.5160\n"
     ]
    },
    {
     "data": {
      "application/vnd.jupyter.widget-view+json": {
       "model_id": "",
       "version_major": 2,
       "version_minor": 0
      },
      "text/plain": [
       "HBox(children=(IntProgress(value=0, description='Epoch 543', max=10, style=ProgressStyle(description_width='in…"
      ]
     },
     "metadata": {},
     "output_type": "display_data"
    },
    {
     "name": "stdout",
     "output_type": "stream",
     "text": [
      "Epoch 544/1000\n",
      "10/10 - 29s - loss: 1.2706e-05 - mean_squared_error: 4.1033e-10 - keras_psnr: 26.9868 - keras_ssim: 0.5910 - val_loss: 1.0439e-05 - val_mean_squared_error: 2.5610e-10 - val_keras_psnr: 27.2577 - val_keras_ssim: 0.5161\n"
     ]
    },
    {
     "data": {
      "application/vnd.jupyter.widget-view+json": {
       "model_id": "",
       "version_major": 2,
       "version_minor": 0
      },
      "text/plain": [
       "HBox(children=(IntProgress(value=0, description='Epoch 544', max=10, style=ProgressStyle(description_width='in…"
      ]
     },
     "metadata": {},
     "output_type": "display_data"
    },
    {
     "name": "stdout",
     "output_type": "stream",
     "text": [
      "Epoch 545/1000\n",
      "10/10 - 29s - loss: 1.1074e-05 - mean_squared_error: 1.7163e-10 - keras_psnr: 27.5678 - keras_ssim: 0.5192 - val_loss: 1.0425e-05 - val_mean_squared_error: 2.5496e-10 - val_keras_psnr: 27.2693 - val_keras_ssim: 0.5164\n"
     ]
    },
    {
     "data": {
      "application/vnd.jupyter.widget-view+json": {
       "model_id": "",
       "version_major": 2,
       "version_minor": 0
      },
      "text/plain": [
       "HBox(children=(IntProgress(value=0, description='Epoch 545', max=10, style=ProgressStyle(description_width='in…"
      ]
     },
     "metadata": {},
     "output_type": "display_data"
    },
    {
     "name": "stdout",
     "output_type": "stream",
     "text": [
      "Epoch 546/1000\n",
      "10/10 - 28s - loss: 1.1486e-05 - mean_squared_error: 2.6824e-10 - keras_psnr: 26.7466 - keras_ssim: 0.5012 - val_loss: 1.0428e-05 - val_mean_squared_error: 2.5523e-10 - val_keras_psnr: 27.2602 - val_keras_ssim: 0.5161\n"
     ]
    },
    {
     "data": {
      "application/vnd.jupyter.widget-view+json": {
       "model_id": "",
       "version_major": 2,
       "version_minor": 0
      },
      "text/plain": [
       "HBox(children=(IntProgress(value=0, description='Epoch 546', max=10, style=ProgressStyle(description_width='in…"
      ]
     },
     "metadata": {},
     "output_type": "display_data"
    },
    {
     "name": "stdout",
     "output_type": "stream",
     "text": [
      "Epoch 547/1000\n",
      "10/10 - 28s - loss: 1.1299e-05 - mean_squared_error: 2.4700e-10 - keras_psnr: 27.0442 - keras_ssim: 0.5492 - val_loss: 1.0413e-05 - val_mean_squared_error: 2.5431e-10 - val_keras_psnr: 27.2717 - val_keras_ssim: 0.5165\n"
     ]
    },
    {
     "data": {
      "application/vnd.jupyter.widget-view+json": {
       "model_id": "",
       "version_major": 2,
       "version_minor": 0
      },
      "text/plain": [
       "HBox(children=(IntProgress(value=0, description='Epoch 547', max=10, style=ProgressStyle(description_width='in…"
      ]
     },
     "metadata": {},
     "output_type": "display_data"
    },
    {
     "name": "stdout",
     "output_type": "stream",
     "text": [
      "Epoch 548/1000\n",
      "10/10 - 27s - loss: 1.0986e-05 - mean_squared_error: 2.5746e-10 - keras_psnr: 24.0302 - keras_ssim: 0.3622 - val_loss: 1.0410e-05 - val_mean_squared_error: 2.5410e-10 - val_keras_psnr: 27.2729 - val_keras_ssim: 0.5165\n"
     ]
    },
    {
     "data": {
      "application/vnd.jupyter.widget-view+json": {
       "model_id": "",
       "version_major": 2,
       "version_minor": 0
      },
      "text/plain": [
       "HBox(children=(IntProgress(value=0, description='Epoch 548', max=10, style=ProgressStyle(description_width='in…"
      ]
     },
     "metadata": {},
     "output_type": "display_data"
    },
    {
     "name": "stdout",
     "output_type": "stream",
     "text": [
      "Epoch 549/1000\n",
      "10/10 - 27s - loss: 1.0544e-05 - mean_squared_error: 2.8449e-10 - keras_psnr: 26.0584 - keras_ssim: 0.5134 - val_loss: 1.0428e-05 - val_mean_squared_error: 2.5553e-10 - val_keras_psnr: 27.2523 - val_keras_ssim: 0.5161\n"
     ]
    },
    {
     "data": {
      "application/vnd.jupyter.widget-view+json": {
       "model_id": "",
       "version_major": 2,
       "version_minor": 0
      },
      "text/plain": [
       "HBox(children=(IntProgress(value=0, description='Epoch 549', max=10, style=ProgressStyle(description_width='in…"
      ]
     },
     "metadata": {},
     "output_type": "display_data"
    },
    {
     "name": "stdout",
     "output_type": "stream",
     "text": [
      "Epoch 550/1000\n",
      "10/10 - 28s - loss: 1.1701e-05 - mean_squared_error: 4.4480e-10 - keras_psnr: 27.6817 - keras_ssim: 0.6285 - val_loss: 1.0420e-05 - val_mean_squared_error: 2.5518e-10 - val_keras_psnr: 27.2550 - val_keras_ssim: 0.5161\n"
     ]
    },
    {
     "data": {
      "application/vnd.jupyter.widget-view+json": {
       "model_id": "",
       "version_major": 2,
       "version_minor": 0
      },
      "text/plain": [
       "HBox(children=(IntProgress(value=0, description='Epoch 550', max=10, style=ProgressStyle(description_width='in…"
      ]
     },
     "metadata": {},
     "output_type": "display_data"
    },
    {
     "name": "stdout",
     "output_type": "stream",
     "text": [
      "Epoch 551/1000\n",
      "10/10 - 28s - loss: 1.3304e-05 - mean_squared_error: 3.5022e-10 - keras_psnr: 25.1099 - keras_ssim: 0.4617 - val_loss: 1.0398e-05 - val_mean_squared_error: 2.5341e-10 - val_keras_psnr: 27.2802 - val_keras_ssim: 0.5167\n"
     ]
    },
    {
     "data": {
      "application/vnd.jupyter.widget-view+json": {
       "model_id": "",
       "version_major": 2,
       "version_minor": 0
      },
      "text/plain": [
       "HBox(children=(IntProgress(value=0, description='Epoch 551', max=10, style=ProgressStyle(description_width='in…"
      ]
     },
     "metadata": {},
     "output_type": "display_data"
    },
    {
     "name": "stdout",
     "output_type": "stream",
     "text": [
      "Epoch 552/1000\n",
      "10/10 - 29s - loss: 1.0094e-05 - mean_squared_error: 2.7876e-10 - keras_psnr: 27.7822 - keras_ssim: 0.5844 - val_loss: 1.0406e-05 - val_mean_squared_error: 2.5373e-10 - val_keras_psnr: 27.2824 - val_keras_ssim: 0.5169\n"
     ]
    },
    {
     "data": {
      "application/vnd.jupyter.widget-view+json": {
       "model_id": "",
       "version_major": 2,
       "version_minor": 0
      },
      "text/plain": [
       "HBox(children=(IntProgress(value=0, description='Epoch 552', max=10, style=ProgressStyle(description_width='in…"
      ]
     },
     "metadata": {},
     "output_type": "display_data"
    },
    {
     "name": "stdout",
     "output_type": "stream",
     "text": [
      "Epoch 553/1000\n",
      "10/10 - 29s - loss: 1.1962e-05 - mean_squared_error: 2.7157e-10 - keras_psnr: 26.7232 - keras_ssim: 0.5178 - val_loss: 1.0406e-05 - val_mean_squared_error: 2.5364e-10 - val_keras_psnr: 27.2674 - val_keras_ssim: 0.5164\n"
     ]
    },
    {
     "data": {
      "application/vnd.jupyter.widget-view+json": {
       "model_id": "",
       "version_major": 2,
       "version_minor": 0
      },
      "text/plain": [
       "HBox(children=(IntProgress(value=0, description='Epoch 553', max=10, style=ProgressStyle(description_width='in…"
      ]
     },
     "metadata": {},
     "output_type": "display_data"
    },
    {
     "name": "stdout",
     "output_type": "stream",
     "text": [
      "Epoch 554/1000\n",
      "10/10 - 29s - loss: 1.3480e-05 - mean_squared_error: 4.9533e-10 - keras_psnr: 26.7951 - keras_ssim: 0.5551 - val_loss: 1.0411e-05 - val_mean_squared_error: 2.5440e-10 - val_keras_psnr: 27.2639 - val_keras_ssim: 0.5164\n"
     ]
    },
    {
     "data": {
      "application/vnd.jupyter.widget-view+json": {
       "model_id": "",
       "version_major": 2,
       "version_minor": 0
      },
      "text/plain": [
       "HBox(children=(IntProgress(value=0, description='Epoch 554', max=10, style=ProgressStyle(description_width='in…"
      ]
     },
     "metadata": {},
     "output_type": "display_data"
    },
    {
     "name": "stdout",
     "output_type": "stream",
     "text": [
      "Epoch 555/1000\n",
      "10/10 - 28s - loss: 1.7170e-05 - mean_squared_error: 1.6481e-09 - keras_psnr: 23.9888 - keras_ssim: 0.4849 - val_loss: 1.0407e-05 - val_mean_squared_error: 2.5407e-10 - val_keras_psnr: 27.2707 - val_keras_ssim: 0.5167\n"
     ]
    },
    {
     "data": {
      "application/vnd.jupyter.widget-view+json": {
       "model_id": "",
       "version_major": 2,
       "version_minor": 0
      },
      "text/plain": [
       "HBox(children=(IntProgress(value=0, description='Epoch 555', max=10, style=ProgressStyle(description_width='in…"
      ]
     },
     "metadata": {},
     "output_type": "display_data"
    },
    {
     "name": "stdout",
     "output_type": "stream",
     "text": [
      "Epoch 556/1000\n",
      "10/10 - 29s - loss: 1.1524e-05 - mean_squared_error: 4.9515e-10 - keras_psnr: 25.6423 - keras_ssim: 0.5282 - val_loss: 1.0410e-05 - val_mean_squared_error: 2.5471e-10 - val_keras_psnr: 27.2657 - val_keras_ssim: 0.5164\n"
     ]
    },
    {
     "data": {
      "application/vnd.jupyter.widget-view+json": {
       "model_id": "",
       "version_major": 2,
       "version_minor": 0
      },
      "text/plain": [
       "HBox(children=(IntProgress(value=0, description='Epoch 556', max=10, style=ProgressStyle(description_width='in…"
      ]
     },
     "metadata": {},
     "output_type": "display_data"
    },
    {
     "name": "stdout",
     "output_type": "stream",
     "text": [
      "Epoch 557/1000\n",
      "10/10 - 28s - loss: 1.4046e-05 - mean_squared_error: 4.1521e-10 - keras_psnr: 26.9141 - keras_ssim: 0.5884 - val_loss: 1.0408e-05 - val_mean_squared_error: 2.5437e-10 - val_keras_psnr: 27.2704 - val_keras_ssim: 0.5166\n"
     ]
    },
    {
     "data": {
      "application/vnd.jupyter.widget-view+json": {
       "model_id": "",
       "version_major": 2,
       "version_minor": 0
      },
      "text/plain": [
       "HBox(children=(IntProgress(value=0, description='Epoch 557', max=10, style=ProgressStyle(description_width='in…"
      ]
     },
     "metadata": {},
     "output_type": "display_data"
    },
    {
     "name": "stdout",
     "output_type": "stream",
     "text": [
      "Epoch 558/1000\n",
      "10/10 - 28s - loss: 1.2609e-05 - mean_squared_error: 4.0089e-10 - keras_psnr: 26.0534 - keras_ssim: 0.5556 - val_loss: 1.0409e-05 - val_mean_squared_error: 2.5453e-10 - val_keras_psnr: 27.2650 - val_keras_ssim: 0.5164\n"
     ]
    },
    {
     "data": {
      "application/vnd.jupyter.widget-view+json": {
       "model_id": "",
       "version_major": 2,
       "version_minor": 0
      },
      "text/plain": [
       "HBox(children=(IntProgress(value=0, description='Epoch 558', max=10, style=ProgressStyle(description_width='in…"
      ]
     },
     "metadata": {},
     "output_type": "display_data"
    },
    {
     "name": "stdout",
     "output_type": "stream",
     "text": [
      "Epoch 559/1000\n",
      "10/10 - 28s - loss: 1.3976e-05 - mean_squared_error: 4.3762e-10 - keras_psnr: 25.1218 - keras_ssim: 0.4595 - val_loss: 1.0413e-05 - val_mean_squared_error: 2.5476e-10 - val_keras_psnr: 27.2686 - val_keras_ssim: 0.5165\n"
     ]
    },
    {
     "data": {
      "application/vnd.jupyter.widget-view+json": {
       "model_id": "",
       "version_major": 2,
       "version_minor": 0
      },
      "text/plain": [
       "HBox(children=(IntProgress(value=0, description='Epoch 559', max=10, style=ProgressStyle(description_width='in…"
      ]
     },
     "metadata": {},
     "output_type": "display_data"
    },
    {
     "name": "stdout",
     "output_type": "stream",
     "text": [
      "Epoch 560/1000\n",
      "10/10 - 28s - loss: 1.2717e-05 - mean_squared_error: 5.1323e-10 - keras_psnr: 28.3448 - keras_ssim: 0.6239 - val_loss: 1.0400e-05 - val_mean_squared_error: 2.5418e-10 - val_keras_psnr: 27.2787 - val_keras_ssim: 0.5171\n"
     ]
    },
    {
     "data": {
      "application/vnd.jupyter.widget-view+json": {
       "model_id": "",
       "version_major": 2,
       "version_minor": 0
      },
      "text/plain": [
       "HBox(children=(IntProgress(value=0, description='Epoch 560', max=10, style=ProgressStyle(description_width='in…"
      ]
     },
     "metadata": {},
     "output_type": "display_data"
    },
    {
     "name": "stdout",
     "output_type": "stream",
     "text": [
      "Epoch 561/1000\n",
      "10/10 - 28s - loss: 1.2184e-05 - mean_squared_error: 3.8884e-10 - keras_psnr: 27.2653 - keras_ssim: 0.5980 - val_loss: 1.0404e-05 - val_mean_squared_error: 2.5386e-10 - val_keras_psnr: 27.2661 - val_keras_ssim: 0.5165\n"
     ]
    },
    {
     "data": {
      "application/vnd.jupyter.widget-view+json": {
       "model_id": "",
       "version_major": 2,
       "version_minor": 0
      },
      "text/plain": [
       "HBox(children=(IntProgress(value=0, description='Epoch 561', max=10, style=ProgressStyle(description_width='in…"
      ]
     },
     "metadata": {},
     "output_type": "display_data"
    },
    {
     "name": "stdout",
     "output_type": "stream",
     "text": [
      "Epoch 562/1000\n",
      "10/10 - 28s - loss: 1.1597e-05 - mean_squared_error: 3.6142e-10 - keras_psnr: 24.8219 - keras_ssim: 0.4627 - val_loss: 1.0410e-05 - val_mean_squared_error: 2.5469e-10 - val_keras_psnr: 27.2692 - val_keras_ssim: 0.5168\n"
     ]
    },
    {
     "data": {
      "application/vnd.jupyter.widget-view+json": {
       "model_id": "",
       "version_major": 2,
       "version_minor": 0
      },
      "text/plain": [
       "HBox(children=(IntProgress(value=0, description='Epoch 562', max=10, style=ProgressStyle(description_width='in…"
      ]
     },
     "metadata": {},
     "output_type": "display_data"
    },
    {
     "name": "stdout",
     "output_type": "stream",
     "text": [
      "Epoch 563/1000\n",
      "10/10 - 28s - loss: 1.0099e-05 - mean_squared_error: 4.8087e-10 - keras_psnr: 26.6287 - keras_ssim: 0.5270 - val_loss: 1.0416e-05 - val_mean_squared_error: 2.5463e-10 - val_keras_psnr: 27.2541 - val_keras_ssim: 0.5164\n"
     ]
    },
    {
     "data": {
      "application/vnd.jupyter.widget-view+json": {
       "model_id": "",
       "version_major": 2,
       "version_minor": 0
      },
      "text/plain": [
       "HBox(children=(IntProgress(value=0, description='Epoch 563', max=10, style=ProgressStyle(description_width='in…"
      ]
     },
     "metadata": {},
     "output_type": "display_data"
    },
    {
     "name": "stdout",
     "output_type": "stream",
     "text": [
      "Epoch 564/1000\n",
      "10/10 - 29s - loss: 1.1917e-05 - mean_squared_error: 2.4857e-10 - keras_psnr: 26.7893 - keras_ssim: 0.4930 - val_loss: 1.0401e-05 - val_mean_squared_error: 2.5404e-10 - val_keras_psnr: 27.2716 - val_keras_ssim: 0.5170\n"
     ]
    },
    {
     "data": {
      "application/vnd.jupyter.widget-view+json": {
       "model_id": "",
       "version_major": 2,
       "version_minor": 0
      },
      "text/plain": [
       "HBox(children=(IntProgress(value=0, description='Epoch 564', max=10, style=ProgressStyle(description_width='in…"
      ]
     },
     "metadata": {},
     "output_type": "display_data"
    },
    {
     "name": "stdout",
     "output_type": "stream",
     "text": [
      "Epoch 565/1000\n",
      "10/10 - 28s - loss: 1.2760e-05 - mean_squared_error: 3.0802e-10 - keras_psnr: 26.5497 - keras_ssim: 0.5178 - val_loss: 1.0402e-05 - val_mean_squared_error: 2.5379e-10 - val_keras_psnr: 27.2896 - val_keras_ssim: 0.5178\n"
     ]
    },
    {
     "data": {
      "application/vnd.jupyter.widget-view+json": {
       "model_id": "",
       "version_major": 2,
       "version_minor": 0
      },
      "text/plain": [
       "HBox(children=(IntProgress(value=0, description='Epoch 565', max=10, style=ProgressStyle(description_width='in…"
      ]
     },
     "metadata": {},
     "output_type": "display_data"
    },
    {
     "name": "stdout",
     "output_type": "stream",
     "text": [
      "Epoch 566/1000\n",
      "10/10 - 29s - loss: 9.6919e-06 - mean_squared_error: 2.1996e-10 - keras_psnr: 25.7959 - keras_ssim: 0.4118 - val_loss: 1.0425e-05 - val_mean_squared_error: 2.5547e-10 - val_keras_psnr: 27.2855 - val_keras_ssim: 0.5180\n"
     ]
    },
    {
     "data": {
      "application/vnd.jupyter.widget-view+json": {
       "model_id": "",
       "version_major": 2,
       "version_minor": 0
      },
      "text/plain": [
       "HBox(children=(IntProgress(value=0, description='Epoch 566', max=10, style=ProgressStyle(description_width='in…"
      ]
     },
     "metadata": {},
     "output_type": "display_data"
    },
    {
     "name": "stdout",
     "output_type": "stream",
     "text": [
      "Epoch 567/1000\n",
      "10/10 - 29s - loss: 1.1876e-05 - mean_squared_error: 4.3202e-10 - keras_psnr: 27.8517 - keras_ssim: 0.5966 - val_loss: 1.0396e-05 - val_mean_squared_error: 2.5329e-10 - val_keras_psnr: 27.2914 - val_keras_ssim: 0.5176\n"
     ]
    },
    {
     "data": {
      "application/vnd.jupyter.widget-view+json": {
       "model_id": "",
       "version_major": 2,
       "version_minor": 0
      },
      "text/plain": [
       "HBox(children=(IntProgress(value=0, description='Epoch 567', max=10, style=ProgressStyle(description_width='in…"
      ]
     },
     "metadata": {},
     "output_type": "display_data"
    },
    {
     "name": "stdout",
     "output_type": "stream",
     "text": [
      "Epoch 568/1000\n",
      "10/10 - 28s - loss: 9.5837e-06 - mean_squared_error: 2.0812e-10 - keras_psnr: 25.9536 - keras_ssim: 0.4594 - val_loss: 1.0383e-05 - val_mean_squared_error: 2.5260e-10 - val_keras_psnr: 27.2824 - val_keras_ssim: 0.5171\n"
     ]
    },
    {
     "data": {
      "application/vnd.jupyter.widget-view+json": {
       "model_id": "",
       "version_major": 2,
       "version_minor": 0
      },
      "text/plain": [
       "HBox(children=(IntProgress(value=0, description='Epoch 568', max=10, style=ProgressStyle(description_width='in…"
      ]
     },
     "metadata": {},
     "output_type": "display_data"
    },
    {
     "name": "stdout",
     "output_type": "stream",
     "text": [
      "Epoch 569/1000\n",
      "10/10 - 28s - loss: 1.2500e-05 - mean_squared_error: 4.2992e-10 - keras_psnr: 27.5252 - keras_ssim: 0.6097 - val_loss: 1.0390e-05 - val_mean_squared_error: 2.5276e-10 - val_keras_psnr: 27.2741 - val_keras_ssim: 0.5170\n"
     ]
    },
    {
     "data": {
      "application/vnd.jupyter.widget-view+json": {
       "model_id": "",
       "version_major": 2,
       "version_minor": 0
      },
      "text/plain": [
       "HBox(children=(IntProgress(value=0, description='Epoch 569', max=10, style=ProgressStyle(description_width='in…"
      ]
     },
     "metadata": {},
     "output_type": "display_data"
    },
    {
     "name": "stdout",
     "output_type": "stream",
     "text": [
      "Epoch 570/1000\n",
      "10/10 - 27s - loss: 1.2969e-05 - mean_squared_error: 4.5214e-10 - keras_psnr: 26.6295 - keras_ssim: 0.5408 - val_loss: 1.0399e-05 - val_mean_squared_error: 2.5353e-10 - val_keras_psnr: 27.2779 - val_keras_ssim: 0.5171\n"
     ]
    },
    {
     "data": {
      "application/vnd.jupyter.widget-view+json": {
       "model_id": "",
       "version_major": 2,
       "version_minor": 0
      },
      "text/plain": [
       "HBox(children=(IntProgress(value=0, description='Epoch 570', max=10, style=ProgressStyle(description_width='in…"
      ]
     },
     "metadata": {},
     "output_type": "display_data"
    },
    {
     "name": "stdout",
     "output_type": "stream",
     "text": [
      "Epoch 571/1000\n",
      "10/10 - 28s - loss: 1.5958e-05 - mean_squared_error: 5.1340e-10 - keras_psnr: 26.0148 - keras_ssim: 0.5225 - val_loss: 1.0396e-05 - val_mean_squared_error: 2.5388e-10 - val_keras_psnr: 27.2836 - val_keras_ssim: 0.5173\n"
     ]
    },
    {
     "data": {
      "application/vnd.jupyter.widget-view+json": {
       "model_id": "",
       "version_major": 2,
       "version_minor": 0
      },
      "text/plain": [
       "HBox(children=(IntProgress(value=0, description='Epoch 571', max=10, style=ProgressStyle(description_width='in…"
      ]
     },
     "metadata": {},
     "output_type": "display_data"
    },
    {
     "name": "stdout",
     "output_type": "stream",
     "text": [
      "Epoch 572/1000\n",
      "10/10 - 27s - loss: 9.7661e-06 - mean_squared_error: 1.4032e-10 - keras_psnr: 27.3387 - keras_ssim: 0.4915 - val_loss: 1.0385e-05 - val_mean_squared_error: 2.5354e-10 - val_keras_psnr: 27.2876 - val_keras_ssim: 0.5176\n"
     ]
    },
    {
     "data": {
      "application/vnd.jupyter.widget-view+json": {
       "model_id": "",
       "version_major": 2,
       "version_minor": 0
      },
      "text/plain": [
       "HBox(children=(IntProgress(value=0, description='Epoch 572', max=10, style=ProgressStyle(description_width='in…"
      ]
     },
     "metadata": {},
     "output_type": "display_data"
    },
    {
     "name": "stdout",
     "output_type": "stream",
     "text": [
      "Epoch 573/1000\n",
      "10/10 - 28s - loss: 1.5733e-05 - mean_squared_error: 7.2025e-10 - keras_psnr: 28.7969 - keras_ssim: 0.6653 - val_loss: 1.0376e-05 - val_mean_squared_error: 2.5230e-10 - val_keras_psnr: 27.2925 - val_keras_ssim: 0.5176\n"
     ]
    },
    {
     "data": {
      "application/vnd.jupyter.widget-view+json": {
       "model_id": "",
       "version_major": 2,
       "version_minor": 0
      },
      "text/plain": [
       "HBox(children=(IntProgress(value=0, description='Epoch 573', max=10, style=ProgressStyle(description_width='in…"
      ]
     },
     "metadata": {},
     "output_type": "display_data"
    },
    {
     "name": "stdout",
     "output_type": "stream",
     "text": [
      "Epoch 574/1000\n",
      "10/10 - 28s - loss: 1.1956e-05 - mean_squared_error: 3.1850e-10 - keras_psnr: 26.0990 - keras_ssim: 0.4874 - val_loss: 1.0385e-05 - val_mean_squared_error: 2.5240e-10 - val_keras_psnr: 27.2790 - val_keras_ssim: 0.5172\n"
     ]
    },
    {
     "data": {
      "application/vnd.jupyter.widget-view+json": {
       "model_id": "",
       "version_major": 2,
       "version_minor": 0
      },
      "text/plain": [
       "HBox(children=(IntProgress(value=0, description='Epoch 574', max=10, style=ProgressStyle(description_width='in…"
      ]
     },
     "metadata": {},
     "output_type": "display_data"
    },
    {
     "name": "stdout",
     "output_type": "stream",
     "text": [
      "Epoch 575/1000\n",
      "10/10 - 29s - loss: 1.0175e-05 - mean_squared_error: 2.0823e-10 - keras_psnr: 26.2189 - keras_ssim: 0.4905 - val_loss: 1.0382e-05 - val_mean_squared_error: 2.5293e-10 - val_keras_psnr: 27.2808 - val_keras_ssim: 0.5174\n"
     ]
    },
    {
     "data": {
      "application/vnd.jupyter.widget-view+json": {
       "model_id": "",
       "version_major": 2,
       "version_minor": 0
      },
      "text/plain": [
       "HBox(children=(IntProgress(value=0, description='Epoch 575', max=10, style=ProgressStyle(description_width='in…"
      ]
     },
     "metadata": {},
     "output_type": "display_data"
    },
    {
     "name": "stdout",
     "output_type": "stream",
     "text": [
      "Epoch 576/1000\n",
      "10/10 - 29s - loss: 9.6720e-06 - mean_squared_error: 2.6575e-10 - keras_psnr: 26.5947 - keras_ssim: 0.4682 - val_loss: 1.0399e-05 - val_mean_squared_error: 2.5412e-10 - val_keras_psnr: 27.2653 - val_keras_ssim: 0.5171\n"
     ]
    },
    {
     "data": {
      "application/vnd.jupyter.widget-view+json": {
       "model_id": "",
       "version_major": 2,
       "version_minor": 0
      },
      "text/plain": [
       "HBox(children=(IntProgress(value=0, description='Epoch 576', max=10, style=ProgressStyle(description_width='in…"
      ]
     },
     "metadata": {},
     "output_type": "display_data"
    },
    {
     "name": "stdout",
     "output_type": "stream",
     "text": [
      "Epoch 577/1000\n",
      "10/10 - 30s - loss: 1.5220e-05 - mean_squared_error: 5.3632e-10 - keras_psnr: 27.1998 - keras_ssim: 0.6169 - val_loss: 1.0378e-05 - val_mean_squared_error: 2.5269e-10 - val_keras_psnr: 27.2862 - val_keras_ssim: 0.5175\n"
     ]
    },
    {
     "data": {
      "application/vnd.jupyter.widget-view+json": {
       "model_id": "",
       "version_major": 2,
       "version_minor": 0
      },
      "text/plain": [
       "HBox(children=(IntProgress(value=0, description='Epoch 577', max=10, style=ProgressStyle(description_width='in…"
      ]
     },
     "metadata": {},
     "output_type": "display_data"
    },
    {
     "name": "stdout",
     "output_type": "stream",
     "text": [
      "Epoch 578/1000\n",
      "10/10 - 29s - loss: 1.0784e-05 - mean_squared_error: 3.3097e-10 - keras_psnr: 27.1531 - keras_ssim: 0.5662 - val_loss: 1.0390e-05 - val_mean_squared_error: 2.5359e-10 - val_keras_psnr: 27.2767 - val_keras_ssim: 0.5174\n"
     ]
    },
    {
     "data": {
      "application/vnd.jupyter.widget-view+json": {
       "model_id": "",
       "version_major": 2,
       "version_minor": 0
      },
      "text/plain": [
       "HBox(children=(IntProgress(value=0, description='Epoch 578', max=10, style=ProgressStyle(description_width='in…"
      ]
     },
     "metadata": {},
     "output_type": "display_data"
    },
    {
     "name": "stdout",
     "output_type": "stream",
     "text": [
      "Epoch 579/1000\n",
      "10/10 - 29s - loss: 1.4171e-05 - mean_squared_error: 3.9368e-10 - keras_psnr: 27.0483 - keras_ssim: 0.5710 - val_loss: 1.0374e-05 - val_mean_squared_error: 2.5251e-10 - val_keras_psnr: 27.2906 - val_keras_ssim: 0.5177\n"
     ]
    },
    {
     "data": {
      "application/vnd.jupyter.widget-view+json": {
       "model_id": "",
       "version_major": 2,
       "version_minor": 0
      },
      "text/plain": [
       "HBox(children=(IntProgress(value=0, description='Epoch 579', max=10, style=ProgressStyle(description_width='in…"
      ]
     },
     "metadata": {},
     "output_type": "display_data"
    },
    {
     "name": "stdout",
     "output_type": "stream",
     "text": [
      "Epoch 580/1000\n",
      "10/10 - 29s - loss: 1.0304e-05 - mean_squared_error: 4.6653e-10 - keras_psnr: 24.0887 - keras_ssim: 0.4228 - val_loss: 1.0379e-05 - val_mean_squared_error: 2.5267e-10 - val_keras_psnr: 27.2858 - val_keras_ssim: 0.5176\n"
     ]
    },
    {
     "data": {
      "application/vnd.jupyter.widget-view+json": {
       "model_id": "",
       "version_major": 2,
       "version_minor": 0
      },
      "text/plain": [
       "HBox(children=(IntProgress(value=0, description='Epoch 580', max=10, style=ProgressStyle(description_width='in…"
      ]
     },
     "metadata": {},
     "output_type": "display_data"
    },
    {
     "name": "stdout",
     "output_type": "stream",
     "text": [
      "Epoch 581/1000\n",
      "10/10 - 29s - loss: 1.3741e-05 - mean_squared_error: 3.4829e-10 - keras_psnr: 24.3994 - keras_ssim: 0.4271 - val_loss: 1.0357e-05 - val_mean_squared_error: 2.5153e-10 - val_keras_psnr: 27.3072 - val_keras_ssim: 0.5183\n"
     ]
    },
    {
     "data": {
      "application/vnd.jupyter.widget-view+json": {
       "model_id": "",
       "version_major": 2,
       "version_minor": 0
      },
      "text/plain": [
       "HBox(children=(IntProgress(value=0, description='Epoch 581', max=10, style=ProgressStyle(description_width='in…"
      ]
     },
     "metadata": {},
     "output_type": "display_data"
    },
    {
     "name": "stdout",
     "output_type": "stream",
     "text": [
      "Epoch 582/1000\n",
      "10/10 - 27s - loss: 1.0445e-05 - mean_squared_error: 3.3278e-10 - keras_psnr: 27.2726 - keras_ssim: 0.5705 - val_loss: 1.0371e-05 - val_mean_squared_error: 2.5224e-10 - val_keras_psnr: 27.2888 - val_keras_ssim: 0.5178\n"
     ]
    },
    {
     "data": {
      "application/vnd.jupyter.widget-view+json": {
       "model_id": "",
       "version_major": 2,
       "version_minor": 0
      },
      "text/plain": [
       "HBox(children=(IntProgress(value=0, description='Epoch 582', max=10, style=ProgressStyle(description_width='in…"
      ]
     },
     "metadata": {},
     "output_type": "display_data"
    },
    {
     "name": "stdout",
     "output_type": "stream",
     "text": [
      "Epoch 583/1000\n",
      "10/10 - 27s - loss: 1.1644e-05 - mean_squared_error: 2.7735e-10 - keras_psnr: 26.3336 - keras_ssim: 0.5059 - val_loss: 1.0380e-05 - val_mean_squared_error: 2.5314e-10 - val_keras_psnr: 27.2868 - val_keras_ssim: 0.5177\n"
     ]
    },
    {
     "data": {
      "application/vnd.jupyter.widget-view+json": {
       "model_id": "",
       "version_major": 2,
       "version_minor": 0
      },
      "text/plain": [
       "HBox(children=(IntProgress(value=0, description='Epoch 583', max=10, style=ProgressStyle(description_width='in…"
      ]
     },
     "metadata": {},
     "output_type": "display_data"
    },
    {
     "name": "stdout",
     "output_type": "stream",
     "text": [
      "Epoch 584/1000\n",
      "10/10 - 29s - loss: 1.3455e-05 - mean_squared_error: 3.5225e-10 - keras_psnr: 26.4235 - keras_ssim: 0.5102 - val_loss: 1.0386e-05 - val_mean_squared_error: 2.5382e-10 - val_keras_psnr: 27.3028 - val_keras_ssim: 0.5187\n"
     ]
    },
    {
     "data": {
      "application/vnd.jupyter.widget-view+json": {
       "model_id": "",
       "version_major": 2,
       "version_minor": 0
      },
      "text/plain": [
       "HBox(children=(IntProgress(value=0, description='Epoch 584', max=10, style=ProgressStyle(description_width='in…"
      ]
     },
     "metadata": {},
     "output_type": "display_data"
    },
    {
     "name": "stdout",
     "output_type": "stream",
     "text": [
      "Epoch 585/1000\n",
      "10/10 - 28s - loss: 1.5573e-05 - mean_squared_error: 4.9387e-10 - keras_psnr: 26.6553 - keras_ssim: 0.5670 - val_loss: 1.0372e-05 - val_mean_squared_error: 2.5284e-10 - val_keras_psnr: 27.3011 - val_keras_ssim: 0.5183\n"
     ]
    },
    {
     "data": {
      "application/vnd.jupyter.widget-view+json": {
       "model_id": "",
       "version_major": 2,
       "version_minor": 0
      },
      "text/plain": [
       "HBox(children=(IntProgress(value=0, description='Epoch 585', max=10, style=ProgressStyle(description_width='in…"
      ]
     },
     "metadata": {},
     "output_type": "display_data"
    },
    {
     "name": "stdout",
     "output_type": "stream",
     "text": [
      "Epoch 586/1000\n",
      "10/10 - 29s - loss: 1.0523e-05 - mean_squared_error: 2.9478e-10 - keras_psnr: 25.3409 - keras_ssim: 0.4688 - val_loss: 1.0364e-05 - val_mean_squared_error: 2.5221e-10 - val_keras_psnr: 27.2939 - val_keras_ssim: 0.5183\n"
     ]
    },
    {
     "data": {
      "application/vnd.jupyter.widget-view+json": {
       "model_id": "",
       "version_major": 2,
       "version_minor": 0
      },
      "text/plain": [
       "HBox(children=(IntProgress(value=0, description='Epoch 586', max=10, style=ProgressStyle(description_width='in…"
      ]
     },
     "metadata": {},
     "output_type": "display_data"
    },
    {
     "name": "stdout",
     "output_type": "stream",
     "text": [
      "Epoch 587/1000\n",
      "10/10 - 28s - loss: 1.0407e-05 - mean_squared_error: 3.3155e-10 - keras_psnr: 26.7822 - keras_ssim: 0.5397 - val_loss: 1.0371e-05 - val_mean_squared_error: 2.5225e-10 - val_keras_psnr: 27.2858 - val_keras_ssim: 0.5180\n"
     ]
    },
    {
     "data": {
      "application/vnd.jupyter.widget-view+json": {
       "model_id": "",
       "version_major": 2,
       "version_minor": 0
      },
      "text/plain": [
       "HBox(children=(IntProgress(value=0, description='Epoch 587', max=10, style=ProgressStyle(description_width='in…"
      ]
     },
     "metadata": {},
     "output_type": "display_data"
    },
    {
     "name": "stdout",
     "output_type": "stream",
     "text": [
      "Epoch 588/1000\n",
      "10/10 - 29s - loss: 1.6808e-05 - mean_squared_error: 4.5916e-10 - keras_psnr: 25.1387 - keras_ssim: 0.4621 - val_loss: 1.0357e-05 - val_mean_squared_error: 2.5185e-10 - val_keras_psnr: 27.3035 - val_keras_ssim: 0.5185\n"
     ]
    },
    {
     "data": {
      "application/vnd.jupyter.widget-view+json": {
       "model_id": "",
       "version_major": 2,
       "version_minor": 0
      },
      "text/plain": [
       "HBox(children=(IntProgress(value=0, description='Epoch 588', max=10, style=ProgressStyle(description_width='in…"
      ]
     },
     "metadata": {},
     "output_type": "display_data"
    },
    {
     "name": "stdout",
     "output_type": "stream",
     "text": [
      "Epoch 589/1000\n",
      "10/10 - 28s - loss: 1.3019e-05 - mean_squared_error: 8.6391e-10 - keras_psnr: 23.8684 - keras_ssim: 0.4426 - val_loss: 1.0364e-05 - val_mean_squared_error: 2.5257e-10 - val_keras_psnr: 27.3042 - val_keras_ssim: 0.5183\n"
     ]
    },
    {
     "data": {
      "application/vnd.jupyter.widget-view+json": {
       "model_id": "",
       "version_major": 2,
       "version_minor": 0
      },
      "text/plain": [
       "HBox(children=(IntProgress(value=0, description='Epoch 589', max=10, style=ProgressStyle(description_width='in…"
      ]
     },
     "metadata": {},
     "output_type": "display_data"
    },
    {
     "name": "stdout",
     "output_type": "stream",
     "text": [
      "Epoch 590/1000\n",
      "10/10 - 28s - loss: 1.1470e-05 - mean_squared_error: 2.2155e-10 - keras_psnr: 27.0073 - keras_ssim: 0.5120 - val_loss: 1.0351e-05 - val_mean_squared_error: 2.5167e-10 - val_keras_psnr: 27.3187 - val_keras_ssim: 0.5189\n"
     ]
    },
    {
     "data": {
      "application/vnd.jupyter.widget-view+json": {
       "model_id": "",
       "version_major": 2,
       "version_minor": 0
      },
      "text/plain": [
       "HBox(children=(IntProgress(value=0, description='Epoch 590', max=10, style=ProgressStyle(description_width='in…"
      ]
     },
     "metadata": {},
     "output_type": "display_data"
    },
    {
     "name": "stdout",
     "output_type": "stream",
     "text": [
      "Epoch 591/1000\n",
      "10/10 - 29s - loss: 1.2545e-05 - mean_squared_error: 1.8337e-10 - keras_psnr: 27.1566 - keras_ssim: 0.5113 - val_loss: 1.0352e-05 - val_mean_squared_error: 2.5153e-10 - val_keras_psnr: 27.3132 - val_keras_ssim: 0.5187\n"
     ]
    },
    {
     "data": {
      "application/vnd.jupyter.widget-view+json": {
       "model_id": "",
       "version_major": 2,
       "version_minor": 0
      },
      "text/plain": [
       "HBox(children=(IntProgress(value=0, description='Epoch 591', max=10, style=ProgressStyle(description_width='in…"
      ]
     },
     "metadata": {},
     "output_type": "display_data"
    },
    {
     "name": "stdout",
     "output_type": "stream",
     "text": [
      "Epoch 592/1000\n",
      "10/10 - 28s - loss: 1.4325e-05 - mean_squared_error: 5.4160e-10 - keras_psnr: 25.1391 - keras_ssim: 0.4949 - val_loss: 1.0367e-05 - val_mean_squared_error: 2.5233e-10 - val_keras_psnr: 27.2835 - val_keras_ssim: 0.5180\n"
     ]
    },
    {
     "data": {
      "application/vnd.jupyter.widget-view+json": {
       "model_id": "",
       "version_major": 2,
       "version_minor": 0
      },
      "text/plain": [
       "HBox(children=(IntProgress(value=0, description='Epoch 592', max=10, style=ProgressStyle(description_width='in…"
      ]
     },
     "metadata": {},
     "output_type": "display_data"
    },
    {
     "name": "stdout",
     "output_type": "stream",
     "text": [
      "Epoch 593/1000\n",
      "10/10 - 29s - loss: 9.8563e-06 - mean_squared_error: 1.5557e-10 - keras_psnr: 26.1510 - keras_ssim: 0.4506 - val_loss: 1.0367e-05 - val_mean_squared_error: 2.5293e-10 - val_keras_psnr: 27.2908 - val_keras_ssim: 0.5183\n"
     ]
    },
    {
     "data": {
      "application/vnd.jupyter.widget-view+json": {
       "model_id": "",
       "version_major": 2,
       "version_minor": 0
      },
      "text/plain": [
       "HBox(children=(IntProgress(value=0, description='Epoch 593', max=10, style=ProgressStyle(description_width='in…"
      ]
     },
     "metadata": {},
     "output_type": "display_data"
    },
    {
     "name": "stdout",
     "output_type": "stream",
     "text": [
      "Epoch 594/1000\n",
      "10/10 - 29s - loss: 9.7705e-06 - mean_squared_error: 2.3996e-10 - keras_psnr: 26.2431 - keras_ssim: 0.4962 - val_loss: 1.0356e-05 - val_mean_squared_error: 2.5243e-10 - val_keras_psnr: 27.3064 - val_keras_ssim: 0.5187\n"
     ]
    },
    {
     "data": {
      "application/vnd.jupyter.widget-view+json": {
       "model_id": "",
       "version_major": 2,
       "version_minor": 0
      },
      "text/plain": [
       "HBox(children=(IntProgress(value=0, description='Epoch 594', max=10, style=ProgressStyle(description_width='in…"
      ]
     },
     "metadata": {},
     "output_type": "display_data"
    },
    {
     "name": "stdout",
     "output_type": "stream",
     "text": [
      "Epoch 595/1000\n",
      "10/10 - 28s - loss: 1.3371e-05 - mean_squared_error: 3.5951e-10 - keras_psnr: 27.4940 - keras_ssim: 0.5707 - val_loss: 1.0353e-05 - val_mean_squared_error: 2.5233e-10 - val_keras_psnr: 27.3081 - val_keras_ssim: 0.5188\n"
     ]
    },
    {
     "data": {
      "application/vnd.jupyter.widget-view+json": {
       "model_id": "",
       "version_major": 2,
       "version_minor": 0
      },
      "text/plain": [
       "HBox(children=(IntProgress(value=0, description='Epoch 595', max=10, style=ProgressStyle(description_width='in…"
      ]
     },
     "metadata": {},
     "output_type": "display_data"
    },
    {
     "name": "stdout",
     "output_type": "stream",
     "text": [
      "Epoch 596/1000\n",
      "10/10 - 27s - loss: 1.5227e-05 - mean_squared_error: 5.8509e-10 - keras_psnr: 24.9944 - keras_ssim: 0.4749 - val_loss: 1.0348e-05 - val_mean_squared_error: 2.5153e-10 - val_keras_psnr: 27.3145 - val_keras_ssim: 0.5189\n"
     ]
    },
    {
     "data": {
      "application/vnd.jupyter.widget-view+json": {
       "model_id": "",
       "version_major": 2,
       "version_minor": 0
      },
      "text/plain": [
       "HBox(children=(IntProgress(value=0, description='Epoch 596', max=10, style=ProgressStyle(description_width='in…"
      ]
     },
     "metadata": {},
     "output_type": "display_data"
    },
    {
     "name": "stdout",
     "output_type": "stream",
     "text": [
      "Epoch 597/1000\n",
      "10/10 - 28s - loss: 1.2068e-05 - mean_squared_error: 2.9974e-10 - keras_psnr: 26.0644 - keras_ssim: 0.4870 - val_loss: 1.0339e-05 - val_mean_squared_error: 2.5122e-10 - val_keras_psnr: 27.3194 - val_keras_ssim: 0.5190\n"
     ]
    },
    {
     "data": {
      "application/vnd.jupyter.widget-view+json": {
       "model_id": "",
       "version_major": 2,
       "version_minor": 0
      },
      "text/plain": [
       "HBox(children=(IntProgress(value=0, description='Epoch 597', max=10, style=ProgressStyle(description_width='in…"
      ]
     },
     "metadata": {},
     "output_type": "display_data"
    },
    {
     "name": "stdout",
     "output_type": "stream",
     "text": [
      "Epoch 598/1000\n",
      "10/10 - 28s - loss: 7.7867e-06 - mean_squared_error: 8.8851e-11 - keras_psnr: 26.1094 - keras_ssim: 0.4396 - val_loss: 1.0361e-05 - val_mean_squared_error: 2.5254e-10 - val_keras_psnr: 27.3055 - val_keras_ssim: 0.5184\n"
     ]
    },
    {
     "data": {
      "application/vnd.jupyter.widget-view+json": {
       "model_id": "",
       "version_major": 2,
       "version_minor": 0
      },
      "text/plain": [
       "HBox(children=(IntProgress(value=0, description='Epoch 598', max=10, style=ProgressStyle(description_width='in…"
      ]
     },
     "metadata": {},
     "output_type": "display_data"
    },
    {
     "name": "stdout",
     "output_type": "stream",
     "text": [
      "Epoch 599/1000\n",
      "10/10 - 28s - loss: 1.0639e-05 - mean_squared_error: 3.6375e-10 - keras_psnr: 27.1682 - keras_ssim: 0.5511 - val_loss: 1.0348e-05 - val_mean_squared_error: 2.5161e-10 - val_keras_psnr: 27.3156 - val_keras_ssim: 0.5188\n"
     ]
    },
    {
     "data": {
      "application/vnd.jupyter.widget-view+json": {
       "model_id": "",
       "version_major": 2,
       "version_minor": 0
      },
      "text/plain": [
       "HBox(children=(IntProgress(value=0, description='Epoch 599', max=10, style=ProgressStyle(description_width='in…"
      ]
     },
     "metadata": {},
     "output_type": "display_data"
    },
    {
     "name": "stdout",
     "output_type": "stream",
     "text": [
      "Epoch 600/1000\n",
      "10/10 - 28s - loss: 1.0670e-05 - mean_squared_error: 2.1862e-10 - keras_psnr: 26.0028 - keras_ssim: 0.4872 - val_loss: 1.0350e-05 - val_mean_squared_error: 2.5163e-10 - val_keras_psnr: 27.3138 - val_keras_ssim: 0.5188\n"
     ]
    },
    {
     "data": {
      "application/vnd.jupyter.widget-view+json": {
       "model_id": "",
       "version_major": 2,
       "version_minor": 0
      },
      "text/plain": [
       "HBox(children=(IntProgress(value=0, description='Epoch 600', max=10, style=ProgressStyle(description_width='in…"
      ]
     },
     "metadata": {},
     "output_type": "display_data"
    },
    {
     "name": "stdout",
     "output_type": "stream",
     "text": [
      "Epoch 601/1000\n",
      "10/10 - 28s - loss: 9.5091e-06 - mean_squared_error: 1.4839e-10 - keras_psnr: 25.9668 - keras_ssim: 0.4521 - val_loss: 1.0355e-05 - val_mean_squared_error: 2.5228e-10 - val_keras_psnr: 27.3040 - val_keras_ssim: 0.5185\n"
     ]
    },
    {
     "data": {
      "application/vnd.jupyter.widget-view+json": {
       "model_id": "",
       "version_major": 2,
       "version_minor": 0
      },
      "text/plain": [
       "HBox(children=(IntProgress(value=0, description='Epoch 601', max=10, style=ProgressStyle(description_width='in…"
      ]
     },
     "metadata": {},
     "output_type": "display_data"
    },
    {
     "name": "stdout",
     "output_type": "stream",
     "text": [
      "Epoch 602/1000\n",
      "10/10 - 28s - loss: 1.3883e-05 - mean_squared_error: 5.1249e-10 - keras_psnr: 26.8806 - keras_ssim: 0.5674 - val_loss: 1.0323e-05 - val_mean_squared_error: 2.4979e-10 - val_keras_psnr: 27.3242 - val_keras_ssim: 0.5191\n"
     ]
    },
    {
     "data": {
      "application/vnd.jupyter.widget-view+json": {
       "model_id": "",
       "version_major": 2,
       "version_minor": 0
      },
      "text/plain": [
       "HBox(children=(IntProgress(value=0, description='Epoch 602', max=10, style=ProgressStyle(description_width='in…"
      ]
     },
     "metadata": {},
     "output_type": "display_data"
    },
    {
     "name": "stdout",
     "output_type": "stream",
     "text": [
      "Epoch 603/1000\n",
      "10/10 - 28s - loss: 1.1987e-05 - mean_squared_error: 3.9269e-10 - keras_psnr: 25.1651 - keras_ssim: 0.4251 - val_loss: 1.0334e-05 - val_mean_squared_error: 2.5094e-10 - val_keras_psnr: 27.3179 - val_keras_ssim: 0.5190\n"
     ]
    },
    {
     "data": {
      "application/vnd.jupyter.widget-view+json": {
       "model_id": "",
       "version_major": 2,
       "version_minor": 0
      },
      "text/plain": [
       "HBox(children=(IntProgress(value=0, description='Epoch 603', max=10, style=ProgressStyle(description_width='in…"
      ]
     },
     "metadata": {},
     "output_type": "display_data"
    },
    {
     "name": "stdout",
     "output_type": "stream",
     "text": [
      "Epoch 604/1000\n",
      "10/10 - 28s - loss: 1.3339e-05 - mean_squared_error: 8.9313e-10 - keras_psnr: 27.2327 - keras_ssim: 0.5506 - val_loss: 1.0339e-05 - val_mean_squared_error: 2.5180e-10 - val_keras_psnr: 27.3199 - val_keras_ssim: 0.5192\n"
     ]
    },
    {
     "data": {
      "application/vnd.jupyter.widget-view+json": {
       "model_id": "",
       "version_major": 2,
       "version_minor": 0
      },
      "text/plain": [
       "HBox(children=(IntProgress(value=0, description='Epoch 604', max=10, style=ProgressStyle(description_width='in…"
      ]
     },
     "metadata": {},
     "output_type": "display_data"
    },
    {
     "name": "stdout",
     "output_type": "stream",
     "text": [
      "Epoch 605/1000\n",
      "10/10 - 28s - loss: 1.2693e-05 - mean_squared_error: 3.8573e-10 - keras_psnr: 26.6161 - keras_ssim: 0.5547 - val_loss: 1.0341e-05 - val_mean_squared_error: 2.5155e-10 - val_keras_psnr: 27.3154 - val_keras_ssim: 0.5190\n"
     ]
    },
    {
     "data": {
      "application/vnd.jupyter.widget-view+json": {
       "model_id": "",
       "version_major": 2,
       "version_minor": 0
      },
      "text/plain": [
       "HBox(children=(IntProgress(value=0, description='Epoch 605', max=10, style=ProgressStyle(description_width='in…"
      ]
     },
     "metadata": {},
     "output_type": "display_data"
    },
    {
     "name": "stdout",
     "output_type": "stream",
     "text": [
      "Epoch 606/1000\n",
      "10/10 - 28s - loss: 1.1672e-05 - mean_squared_error: 4.4648e-10 - keras_psnr: 26.8652 - keras_ssim: 0.5804 - val_loss: 1.0346e-05 - val_mean_squared_error: 2.5168e-10 - val_keras_psnr: 27.2996 - val_keras_ssim: 0.5186\n"
     ]
    },
    {
     "data": {
      "application/vnd.jupyter.widget-view+json": {
       "model_id": "",
       "version_major": 2,
       "version_minor": 0
      },
      "text/plain": [
       "HBox(children=(IntProgress(value=0, description='Epoch 606', max=10, style=ProgressStyle(description_width='in…"
      ]
     },
     "metadata": {},
     "output_type": "display_data"
    },
    {
     "name": "stdout",
     "output_type": "stream",
     "text": [
      "Epoch 607/1000\n",
      "10/10 - 28s - loss: 1.6146e-05 - mean_squared_error: 4.4636e-10 - keras_psnr: 26.4760 - keras_ssim: 0.5359 - val_loss: 1.0338e-05 - val_mean_squared_error: 2.5099e-10 - val_keras_psnr: 27.3057 - val_keras_ssim: 0.5187\n"
     ]
    },
    {
     "data": {
      "application/vnd.jupyter.widget-view+json": {
       "model_id": "",
       "version_major": 2,
       "version_minor": 0
      },
      "text/plain": [
       "HBox(children=(IntProgress(value=0, description='Epoch 607', max=10, style=ProgressStyle(description_width='in…"
      ]
     },
     "metadata": {},
     "output_type": "display_data"
    },
    {
     "name": "stdout",
     "output_type": "stream",
     "text": [
      "Epoch 608/1000\n",
      "10/10 - 28s - loss: 1.1002e-05 - mean_squared_error: 5.0049e-10 - keras_psnr: 26.4091 - keras_ssim: 0.5140 - val_loss: 1.0343e-05 - val_mean_squared_error: 2.5196e-10 - val_keras_psnr: 27.3236 - val_keras_ssim: 0.5196\n"
     ]
    },
    {
     "data": {
      "application/vnd.jupyter.widget-view+json": {
       "model_id": "",
       "version_major": 2,
       "version_minor": 0
      },
      "text/plain": [
       "HBox(children=(IntProgress(value=0, description='Epoch 608', max=10, style=ProgressStyle(description_width='in…"
      ]
     },
     "metadata": {},
     "output_type": "display_data"
    },
    {
     "name": "stdout",
     "output_type": "stream",
     "text": [
      "Epoch 609/1000\n",
      "10/10 - 28s - loss: 1.8447e-05 - mean_squared_error: 1.2224e-09 - keras_psnr: 25.4191 - keras_ssim: 0.5566 - val_loss: 1.0329e-05 - val_mean_squared_error: 2.5132e-10 - val_keras_psnr: 27.3201 - val_keras_ssim: 0.5194\n"
     ]
    },
    {
     "data": {
      "application/vnd.jupyter.widget-view+json": {
       "model_id": "",
       "version_major": 2,
       "version_minor": 0
      },
      "text/plain": [
       "HBox(children=(IntProgress(value=0, description='Epoch 609', max=10, style=ProgressStyle(description_width='in…"
      ]
     },
     "metadata": {},
     "output_type": "display_data"
    },
    {
     "name": "stdout",
     "output_type": "stream",
     "text": [
      "Epoch 610/1000\n",
      "10/10 - 28s - loss: 1.4656e-05 - mean_squared_error: 3.3393e-10 - keras_psnr: 25.7673 - keras_ssim: 0.4810 - val_loss: 1.0323e-05 - val_mean_squared_error: 2.5003e-10 - val_keras_psnr: 27.3199 - val_keras_ssim: 0.5192\n"
     ]
    },
    {
     "data": {
      "application/vnd.jupyter.widget-view+json": {
       "model_id": "",
       "version_major": 2,
       "version_minor": 0
      },
      "text/plain": [
       "HBox(children=(IntProgress(value=0, description='Epoch 610', max=10, style=ProgressStyle(description_width='in…"
      ]
     },
     "metadata": {},
     "output_type": "display_data"
    },
    {
     "name": "stdout",
     "output_type": "stream",
     "text": [
      "Epoch 611/1000\n",
      "10/10 - 28s - loss: 1.1253e-05 - mean_squared_error: 3.7543e-10 - keras_psnr: 27.3221 - keras_ssim: 0.5625 - val_loss: 1.0335e-05 - val_mean_squared_error: 2.5094e-10 - val_keras_psnr: 27.3122 - val_keras_ssim: 0.5190\n"
     ]
    },
    {
     "data": {
      "application/vnd.jupyter.widget-view+json": {
       "model_id": "",
       "version_major": 2,
       "version_minor": 0
      },
      "text/plain": [
       "HBox(children=(IntProgress(value=0, description='Epoch 611', max=10, style=ProgressStyle(description_width='in…"
      ]
     },
     "metadata": {},
     "output_type": "display_data"
    },
    {
     "name": "stdout",
     "output_type": "stream",
     "text": [
      "Epoch 612/1000\n",
      "10/10 - 29s - loss: 1.1429e-05 - mean_squared_error: 2.7995e-10 - keras_psnr: 26.6385 - keras_ssim: 0.5470 - val_loss: 1.0339e-05 - val_mean_squared_error: 2.5181e-10 - val_keras_psnr: 27.3110 - val_keras_ssim: 0.5192\n"
     ]
    },
    {
     "data": {
      "application/vnd.jupyter.widget-view+json": {
       "model_id": "",
       "version_major": 2,
       "version_minor": 0
      },
      "text/plain": [
       "HBox(children=(IntProgress(value=0, description='Epoch 612', max=10, style=ProgressStyle(description_width='in…"
      ]
     },
     "metadata": {},
     "output_type": "display_data"
    },
    {
     "name": "stdout",
     "output_type": "stream",
     "text": [
      "Epoch 613/1000\n",
      "10/10 - 28s - loss: 1.2472e-05 - mean_squared_error: 3.6568e-10 - keras_psnr: 27.0916 - keras_ssim: 0.5694 - val_loss: 1.0310e-05 - val_mean_squared_error: 2.4985e-10 - val_keras_psnr: 27.3335 - val_keras_ssim: 0.5198\n"
     ]
    },
    {
     "data": {
      "application/vnd.jupyter.widget-view+json": {
       "model_id": "",
       "version_major": 2,
       "version_minor": 0
      },
      "text/plain": [
       "HBox(children=(IntProgress(value=0, description='Epoch 613', max=10, style=ProgressStyle(description_width='in…"
      ]
     },
     "metadata": {},
     "output_type": "display_data"
    },
    {
     "name": "stdout",
     "output_type": "stream",
     "text": [
      "Epoch 614/1000\n",
      "10/10 - 28s - loss: 1.1947e-05 - mean_squared_error: 3.2707e-10 - keras_psnr: 26.1810 - keras_ssim: 0.5224 - val_loss: 1.0319e-05 - val_mean_squared_error: 2.5065e-10 - val_keras_psnr: 27.3288 - val_keras_ssim: 0.5198\n"
     ]
    },
    {
     "data": {
      "application/vnd.jupyter.widget-view+json": {
       "model_id": "",
       "version_major": 2,
       "version_minor": 0
      },
      "text/plain": [
       "HBox(children=(IntProgress(value=0, description='Epoch 614', max=10, style=ProgressStyle(description_width='in…"
      ]
     },
     "metadata": {},
     "output_type": "display_data"
    },
    {
     "name": "stdout",
     "output_type": "stream",
     "text": [
      "Epoch 615/1000\n",
      "10/10 - 27s - loss: 1.1725e-05 - mean_squared_error: 3.6288e-10 - keras_psnr: 26.7315 - keras_ssim: 0.5302 - val_loss: 1.0322e-05 - val_mean_squared_error: 2.5101e-10 - val_keras_psnr: 27.3281 - val_keras_ssim: 0.5198\n"
     ]
    },
    {
     "data": {
      "application/vnd.jupyter.widget-view+json": {
       "model_id": "",
       "version_major": 2,
       "version_minor": 0
      },
      "text/plain": [
       "HBox(children=(IntProgress(value=0, description='Epoch 615', max=10, style=ProgressStyle(description_width='in…"
      ]
     },
     "metadata": {},
     "output_type": "display_data"
    },
    {
     "name": "stdout",
     "output_type": "stream",
     "text": [
      "Epoch 616/1000\n",
      "10/10 - 27s - loss: 1.4273e-05 - mean_squared_error: 4.2817e-10 - keras_psnr: 25.4030 - keras_ssim: 0.4903 - val_loss: 1.0326e-05 - val_mean_squared_error: 2.5132e-10 - val_keras_psnr: 27.3217 - val_keras_ssim: 0.5197\n"
     ]
    },
    {
     "data": {
      "application/vnd.jupyter.widget-view+json": {
       "model_id": "",
       "version_major": 2,
       "version_minor": 0
      },
      "text/plain": [
       "HBox(children=(IntProgress(value=0, description='Epoch 616', max=10, style=ProgressStyle(description_width='in…"
      ]
     },
     "metadata": {},
     "output_type": "display_data"
    },
    {
     "name": "stdout",
     "output_type": "stream",
     "text": [
      "Epoch 617/1000\n",
      "10/10 - 28s - loss: 1.1122e-05 - mean_squared_error: 2.8480e-10 - keras_psnr: 26.3011 - keras_ssim: 0.5174 - val_loss: 1.0325e-05 - val_mean_squared_error: 2.5048e-10 - val_keras_psnr: 27.3232 - val_keras_ssim: 0.5196\n"
     ]
    },
    {
     "data": {
      "application/vnd.jupyter.widget-view+json": {
       "model_id": "",
       "version_major": 2,
       "version_minor": 0
      },
      "text/plain": [
       "HBox(children=(IntProgress(value=0, description='Epoch 617', max=10, style=ProgressStyle(description_width='in…"
      ]
     },
     "metadata": {},
     "output_type": "display_data"
    },
    {
     "name": "stdout",
     "output_type": "stream",
     "text": [
      "Epoch 618/1000\n",
      "10/10 - 28s - loss: 1.2738e-05 - mean_squared_error: 3.5782e-10 - keras_psnr: 26.4445 - keras_ssim: 0.5466 - val_loss: 1.0324e-05 - val_mean_squared_error: 2.5108e-10 - val_keras_psnr: 27.3196 - val_keras_ssim: 0.5195\n"
     ]
    },
    {
     "data": {
      "application/vnd.jupyter.widget-view+json": {
       "model_id": "",
       "version_major": 2,
       "version_minor": 0
      },
      "text/plain": [
       "HBox(children=(IntProgress(value=0, description='Epoch 618', max=10, style=ProgressStyle(description_width='in…"
      ]
     },
     "metadata": {},
     "output_type": "display_data"
    },
    {
     "name": "stdout",
     "output_type": "stream",
     "text": [
      "Epoch 619/1000\n",
      "10/10 - 28s - loss: 1.2581e-05 - mean_squared_error: 5.1210e-10 - keras_psnr: 26.8386 - keras_ssim: 0.5603 - val_loss: 1.0330e-05 - val_mean_squared_error: 2.5138e-10 - val_keras_psnr: 27.3252 - val_keras_ssim: 0.5198\n"
     ]
    },
    {
     "data": {
      "application/vnd.jupyter.widget-view+json": {
       "model_id": "",
       "version_major": 2,
       "version_minor": 0
      },
      "text/plain": [
       "HBox(children=(IntProgress(value=0, description='Epoch 619', max=10, style=ProgressStyle(description_width='in…"
      ]
     },
     "metadata": {},
     "output_type": "display_data"
    },
    {
     "name": "stdout",
     "output_type": "stream",
     "text": [
      "Epoch 620/1000\n",
      "10/10 - 29s - loss: 8.7993e-06 - mean_squared_error: 1.9143e-10 - keras_psnr: 25.8588 - keras_ssim: 0.4812 - val_loss: 1.0315e-05 - val_mean_squared_error: 2.5038e-10 - val_keras_psnr: 27.3394 - val_keras_ssim: 0.5203\n"
     ]
    },
    {
     "data": {
      "application/vnd.jupyter.widget-view+json": {
       "model_id": "",
       "version_major": 2,
       "version_minor": 0
      },
      "text/plain": [
       "HBox(children=(IntProgress(value=0, description='Epoch 620', max=10, style=ProgressStyle(description_width='in…"
      ]
     },
     "metadata": {},
     "output_type": "display_data"
    },
    {
     "name": "stdout",
     "output_type": "stream",
     "text": [
      "Epoch 621/1000\n",
      "10/10 - 27s - loss: 1.4977e-05 - mean_squared_error: 5.5634e-10 - keras_psnr: 24.8569 - keras_ssim: 0.4856 - val_loss: 1.0329e-05 - val_mean_squared_error: 2.5142e-10 - val_keras_psnr: 27.3239 - val_keras_ssim: 0.5198\n"
     ]
    },
    {
     "data": {
      "application/vnd.jupyter.widget-view+json": {
       "model_id": "",
       "version_major": 2,
       "version_minor": 0
      },
      "text/plain": [
       "HBox(children=(IntProgress(value=0, description='Epoch 621', max=10, style=ProgressStyle(description_width='in…"
      ]
     },
     "metadata": {},
     "output_type": "display_data"
    },
    {
     "name": "stdout",
     "output_type": "stream",
     "text": [
      "Epoch 622/1000\n",
      "10/10 - 28s - loss: 1.1656e-05 - mean_squared_error: 3.0645e-10 - keras_psnr: 25.5334 - keras_ssim: 0.4719 - val_loss: 1.0316e-05 - val_mean_squared_error: 2.5079e-10 - val_keras_psnr: 27.3304 - val_keras_ssim: 0.5200\n"
     ]
    },
    {
     "data": {
      "application/vnd.jupyter.widget-view+json": {
       "model_id": "",
       "version_major": 2,
       "version_minor": 0
      },
      "text/plain": [
       "HBox(children=(IntProgress(value=0, description='Epoch 622', max=10, style=ProgressStyle(description_width='in…"
      ]
     },
     "metadata": {},
     "output_type": "display_data"
    },
    {
     "name": "stdout",
     "output_type": "stream",
     "text": [
      "Epoch 623/1000\n",
      "10/10 - 28s - loss: 1.3471e-05 - mean_squared_error: 3.8989e-10 - keras_psnr: 26.0797 - keras_ssim: 0.5246 - val_loss: 1.0300e-05 - val_mean_squared_error: 2.4956e-10 - val_keras_psnr: 27.3424 - val_keras_ssim: 0.5204\n"
     ]
    },
    {
     "data": {
      "application/vnd.jupyter.widget-view+json": {
       "model_id": "",
       "version_major": 2,
       "version_minor": 0
      },
      "text/plain": [
       "HBox(children=(IntProgress(value=0, description='Epoch 623', max=10, style=ProgressStyle(description_width='in…"
      ]
     },
     "metadata": {},
     "output_type": "display_data"
    },
    {
     "name": "stdout",
     "output_type": "stream",
     "text": [
      "Epoch 624/1000\n",
      "10/10 - 28s - loss: 1.4766e-05 - mean_squared_error: 5.2398e-10 - keras_psnr: 27.7881 - keras_ssim: 0.5621 - val_loss: 1.0297e-05 - val_mean_squared_error: 2.4988e-10 - val_keras_psnr: 27.3443 - val_keras_ssim: 0.5205\n"
     ]
    },
    {
     "data": {
      "application/vnd.jupyter.widget-view+json": {
       "model_id": "",
       "version_major": 2,
       "version_minor": 0
      },
      "text/plain": [
       "HBox(children=(IntProgress(value=0, description='Epoch 624', max=10, style=ProgressStyle(description_width='in…"
      ]
     },
     "metadata": {},
     "output_type": "display_data"
    },
    {
     "name": "stdout",
     "output_type": "stream",
     "text": [
      "Epoch 625/1000\n",
      "10/10 - 28s - loss: 1.1455e-05 - mean_squared_error: 4.6819e-10 - keras_psnr: 26.1145 - keras_ssim: 0.5165 - val_loss: 1.0311e-05 - val_mean_squared_error: 2.5063e-10 - val_keras_psnr: 27.3324 - val_keras_ssim: 0.5202\n"
     ]
    },
    {
     "data": {
      "application/vnd.jupyter.widget-view+json": {
       "model_id": "",
       "version_major": 2,
       "version_minor": 0
      },
      "text/plain": [
       "HBox(children=(IntProgress(value=0, description='Epoch 625', max=10, style=ProgressStyle(description_width='in…"
      ]
     },
     "metadata": {},
     "output_type": "display_data"
    },
    {
     "name": "stdout",
     "output_type": "stream",
     "text": [
      "Epoch 626/1000\n",
      "10/10 - 28s - loss: 7.9413e-06 - mean_squared_error: 1.3007e-10 - keras_psnr: 25.3694 - keras_ssim: 0.4389 - val_loss: 1.0301e-05 - val_mean_squared_error: 2.4976e-10 - val_keras_psnr: 27.3442 - val_keras_ssim: 0.5204\n"
     ]
    },
    {
     "data": {
      "application/vnd.jupyter.widget-view+json": {
       "model_id": "",
       "version_major": 2,
       "version_minor": 0
      },
      "text/plain": [
       "HBox(children=(IntProgress(value=0, description='Epoch 626', max=10, style=ProgressStyle(description_width='in…"
      ]
     },
     "metadata": {},
     "output_type": "display_data"
    },
    {
     "name": "stdout",
     "output_type": "stream",
     "text": [
      "Epoch 627/1000\n",
      "10/10 - 27s - loss: 9.0062e-06 - mean_squared_error: 2.2216e-10 - keras_psnr: 25.4915 - keras_ssim: 0.4879 - val_loss: 1.0313e-05 - val_mean_squared_error: 2.5055e-10 - val_keras_psnr: 27.3420 - val_keras_ssim: 0.5204\n"
     ]
    },
    {
     "data": {
      "application/vnd.jupyter.widget-view+json": {
       "model_id": "",
       "version_major": 2,
       "version_minor": 0
      },
      "text/plain": [
       "HBox(children=(IntProgress(value=0, description='Epoch 627', max=10, style=ProgressStyle(description_width='in…"
      ]
     },
     "metadata": {},
     "output_type": "display_data"
    },
    {
     "name": "stdout",
     "output_type": "stream",
     "text": [
      "Epoch 628/1000\n",
      "10/10 - 27s - loss: 1.1125e-05 - mean_squared_error: 3.5346e-10 - keras_psnr: 24.8578 - keras_ssim: 0.4507 - val_loss: 1.0293e-05 - val_mean_squared_error: 2.4938e-10 - val_keras_psnr: 27.3546 - val_keras_ssim: 0.5209\n"
     ]
    },
    {
     "data": {
      "application/vnd.jupyter.widget-view+json": {
       "model_id": "",
       "version_major": 2,
       "version_minor": 0
      },
      "text/plain": [
       "HBox(children=(IntProgress(value=0, description='Epoch 628', max=10, style=ProgressStyle(description_width='in…"
      ]
     },
     "metadata": {},
     "output_type": "display_data"
    },
    {
     "name": "stdout",
     "output_type": "stream",
     "text": [
      "Epoch 629/1000\n",
      "10/10 - 27s - loss: 1.0497e-05 - mean_squared_error: 4.7318e-10 - keras_psnr: 27.7775 - keras_ssim: 0.5593 - val_loss: 1.0274e-05 - val_mean_squared_error: 2.4843e-10 - val_keras_psnr: 27.3600 - val_keras_ssim: 0.5210\n"
     ]
    },
    {
     "data": {
      "application/vnd.jupyter.widget-view+json": {
       "model_id": "",
       "version_major": 2,
       "version_minor": 0
      },
      "text/plain": [
       "HBox(children=(IntProgress(value=0, description='Epoch 629', max=10, style=ProgressStyle(description_width='in…"
      ]
     },
     "metadata": {},
     "output_type": "display_data"
    },
    {
     "name": "stdout",
     "output_type": "stream",
     "text": [
      "Epoch 630/1000\n",
      "10/10 - 28s - loss: 1.5324e-05 - mean_squared_error: 5.0691e-10 - keras_psnr: 27.7768 - keras_ssim: 0.6364 - val_loss: 1.0293e-05 - val_mean_squared_error: 2.4966e-10 - val_keras_psnr: 27.3522 - val_keras_ssim: 0.5209\n"
     ]
    },
    {
     "data": {
      "application/vnd.jupyter.widget-view+json": {
       "model_id": "",
       "version_major": 2,
       "version_minor": 0
      },
      "text/plain": [
       "HBox(children=(IntProgress(value=0, description='Epoch 630', max=10, style=ProgressStyle(description_width='in…"
      ]
     },
     "metadata": {},
     "output_type": "display_data"
    },
    {
     "name": "stdout",
     "output_type": "stream",
     "text": [
      "Epoch 631/1000\n",
      "10/10 - 28s - loss: 1.2724e-05 - mean_squared_error: 3.6312e-10 - keras_psnr: 26.8721 - keras_ssim: 0.5710 - val_loss: 1.0309e-05 - val_mean_squared_error: 2.5047e-10 - val_keras_psnr: 27.3320 - val_keras_ssim: 0.5203\n"
     ]
    },
    {
     "data": {
      "application/vnd.jupyter.widget-view+json": {
       "model_id": "",
       "version_major": 2,
       "version_minor": 0
      },
      "text/plain": [
       "HBox(children=(IntProgress(value=0, description='Epoch 631', max=10, style=ProgressStyle(description_width='in…"
      ]
     },
     "metadata": {},
     "output_type": "display_data"
    },
    {
     "name": "stdout",
     "output_type": "stream",
     "text": [
      "Epoch 632/1000\n",
      "10/10 - 28s - loss: 1.1748e-05 - mean_squared_error: 6.4588e-10 - keras_psnr: 28.2243 - keras_ssim: 0.6176 - val_loss: 1.0292e-05 - val_mean_squared_error: 2.4949e-10 - val_keras_psnr: 27.3494 - val_keras_ssim: 0.5210\n"
     ]
    },
    {
     "data": {
      "application/vnd.jupyter.widget-view+json": {
       "model_id": "",
       "version_major": 2,
       "version_minor": 0
      },
      "text/plain": [
       "HBox(children=(IntProgress(value=0, description='Epoch 632', max=10, style=ProgressStyle(description_width='in…"
      ]
     },
     "metadata": {},
     "output_type": "display_data"
    },
    {
     "name": "stdout",
     "output_type": "stream",
     "text": [
      "Epoch 633/1000\n",
      "10/10 - 28s - loss: 1.0028e-05 - mean_squared_error: 1.8096e-10 - keras_psnr: 25.4959 - keras_ssim: 0.4406 - val_loss: 1.0295e-05 - val_mean_squared_error: 2.4946e-10 - val_keras_psnr: 27.3422 - val_keras_ssim: 0.5204\n"
     ]
    },
    {
     "data": {
      "application/vnd.jupyter.widget-view+json": {
       "model_id": "",
       "version_major": 2,
       "version_minor": 0
      },
      "text/plain": [
       "HBox(children=(IntProgress(value=0, description='Epoch 633', max=10, style=ProgressStyle(description_width='in…"
      ]
     },
     "metadata": {},
     "output_type": "display_data"
    },
    {
     "name": "stdout",
     "output_type": "stream",
     "text": [
      "Epoch 634/1000\n",
      "10/10 - 28s - loss: 1.4995e-05 - mean_squared_error: 9.6081e-10 - keras_psnr: 24.3498 - keras_ssim: 0.4891 - val_loss: 1.0294e-05 - val_mean_squared_error: 2.4955e-10 - val_keras_psnr: 27.3396 - val_keras_ssim: 0.5206\n"
     ]
    },
    {
     "data": {
      "application/vnd.jupyter.widget-view+json": {
       "model_id": "",
       "version_major": 2,
       "version_minor": 0
      },
      "text/plain": [
       "HBox(children=(IntProgress(value=0, description='Epoch 634', max=10, style=ProgressStyle(description_width='in…"
      ]
     },
     "metadata": {},
     "output_type": "display_data"
    },
    {
     "name": "stdout",
     "output_type": "stream",
     "text": [
      "Epoch 635/1000\n",
      "10/10 - 28s - loss: 1.1563e-05 - mean_squared_error: 3.9103e-10 - keras_psnr: 27.0146 - keras_ssim: 0.5976 - val_loss: 1.0285e-05 - val_mean_squared_error: 2.4894e-10 - val_keras_psnr: 27.3530 - val_keras_ssim: 0.5209\n"
     ]
    },
    {
     "data": {
      "application/vnd.jupyter.widget-view+json": {
       "model_id": "",
       "version_major": 2,
       "version_minor": 0
      },
      "text/plain": [
       "HBox(children=(IntProgress(value=0, description='Epoch 635', max=10, style=ProgressStyle(description_width='in…"
      ]
     },
     "metadata": {},
     "output_type": "display_data"
    },
    {
     "name": "stdout",
     "output_type": "stream",
     "text": [
      "Epoch 636/1000\n",
      "10/10 - 28s - loss: 1.2594e-05 - mean_squared_error: 6.0222e-10 - keras_psnr: 25.6822 - keras_ssim: 0.5184 - val_loss: 1.0279e-05 - val_mean_squared_error: 2.4906e-10 - val_keras_psnr: 27.3563 - val_keras_ssim: 0.5210\n"
     ]
    },
    {
     "data": {
      "application/vnd.jupyter.widget-view+json": {
       "model_id": "",
       "version_major": 2,
       "version_minor": 0
      },
      "text/plain": [
       "HBox(children=(IntProgress(value=0, description='Epoch 636', max=10, style=ProgressStyle(description_width='in…"
      ]
     },
     "metadata": {},
     "output_type": "display_data"
    },
    {
     "name": "stdout",
     "output_type": "stream",
     "text": [
      "Epoch 637/1000\n",
      "10/10 - 28s - loss: 1.1127e-05 - mean_squared_error: 3.2295e-10 - keras_psnr: 25.4155 - keras_ssim: 0.4954 - val_loss: 1.0285e-05 - val_mean_squared_error: 2.4860e-10 - val_keras_psnr: 27.3466 - val_keras_ssim: 0.5207\n"
     ]
    },
    {
     "data": {
      "application/vnd.jupyter.widget-view+json": {
       "model_id": "",
       "version_major": 2,
       "version_minor": 0
      },
      "text/plain": [
       "HBox(children=(IntProgress(value=0, description='Epoch 637', max=10, style=ProgressStyle(description_width='in…"
      ]
     },
     "metadata": {},
     "output_type": "display_data"
    },
    {
     "name": "stdout",
     "output_type": "stream",
     "text": [
      "Epoch 638/1000\n",
      "10/10 - 28s - loss: 1.6416e-05 - mean_squared_error: 5.0964e-10 - keras_psnr: 27.0880 - keras_ssim: 0.5822 - val_loss: 1.0286e-05 - val_mean_squared_error: 2.4955e-10 - val_keras_psnr: 27.3538 - val_keras_ssim: 0.5211\n"
     ]
    },
    {
     "data": {
      "application/vnd.jupyter.widget-view+json": {
       "model_id": "",
       "version_major": 2,
       "version_minor": 0
      },
      "text/plain": [
       "HBox(children=(IntProgress(value=0, description='Epoch 638', max=10, style=ProgressStyle(description_width='in…"
      ]
     },
     "metadata": {},
     "output_type": "display_data"
    },
    {
     "name": "stdout",
     "output_type": "stream",
     "text": [
      "Epoch 639/1000\n",
      "10/10 - 28s - loss: 1.0743e-05 - mean_squared_error: 1.7479e-10 - keras_psnr: 24.9259 - keras_ssim: 0.3879 - val_loss: 1.0279e-05 - val_mean_squared_error: 2.4840e-10 - val_keras_psnr: 27.3677 - val_keras_ssim: 0.5217\n"
     ]
    },
    {
     "data": {
      "application/vnd.jupyter.widget-view+json": {
       "model_id": "",
       "version_major": 2,
       "version_minor": 0
      },
      "text/plain": [
       "HBox(children=(IntProgress(value=0, description='Epoch 639', max=10, style=ProgressStyle(description_width='in…"
      ]
     },
     "metadata": {},
     "output_type": "display_data"
    },
    {
     "name": "stdout",
     "output_type": "stream",
     "text": [
      "Epoch 640/1000\n",
      "10/10 - 28s - loss: 1.5551e-05 - mean_squared_error: 5.3285e-10 - keras_psnr: 28.0811 - keras_ssim: 0.6023 - val_loss: 1.0305e-05 - val_mean_squared_error: 2.5050e-10 - val_keras_psnr: 27.3285 - val_keras_ssim: 0.5206\n"
     ]
    },
    {
     "data": {
      "application/vnd.jupyter.widget-view+json": {
       "model_id": "",
       "version_major": 2,
       "version_minor": 0
      },
      "text/plain": [
       "HBox(children=(IntProgress(value=0, description='Epoch 640', max=10, style=ProgressStyle(description_width='in…"
      ]
     },
     "metadata": {},
     "output_type": "display_data"
    },
    {
     "name": "stdout",
     "output_type": "stream",
     "text": [
      "Epoch 641/1000\n",
      "10/10 - 28s - loss: 1.2290e-05 - mean_squared_error: 4.3026e-10 - keras_psnr: 27.4689 - keras_ssim: 0.5806 - val_loss: 1.0300e-05 - val_mean_squared_error: 2.4980e-10 - val_keras_psnr: 27.3379 - val_keras_ssim: 0.5205\n"
     ]
    },
    {
     "data": {
      "application/vnd.jupyter.widget-view+json": {
       "model_id": "",
       "version_major": 2,
       "version_minor": 0
      },
      "text/plain": [
       "HBox(children=(IntProgress(value=0, description='Epoch 641', max=10, style=ProgressStyle(description_width='in…"
      ]
     },
     "metadata": {},
     "output_type": "display_data"
    },
    {
     "name": "stdout",
     "output_type": "stream",
     "text": [
      "Epoch 642/1000\n",
      "10/10 - 28s - loss: 1.6304e-05 - mean_squared_error: 5.9770e-10 - keras_psnr: 27.6196 - keras_ssim: 0.6296 - val_loss: 1.0287e-05 - val_mean_squared_error: 2.4897e-10 - val_keras_psnr: 27.3549 - val_keras_ssim: 0.5210\n"
     ]
    },
    {
     "data": {
      "application/vnd.jupyter.widget-view+json": {
       "model_id": "",
       "version_major": 2,
       "version_minor": 0
      },
      "text/plain": [
       "HBox(children=(IntProgress(value=0, description='Epoch 642', max=10, style=ProgressStyle(description_width='in…"
      ]
     },
     "metadata": {},
     "output_type": "display_data"
    },
    {
     "name": "stdout",
     "output_type": "stream",
     "text": [
      "Epoch 643/1000\n",
      "10/10 - 28s - loss: 1.3046e-05 - mean_squared_error: 5.6693e-10 - keras_psnr: 28.4673 - keras_ssim: 0.6759 - val_loss: 1.0300e-05 - val_mean_squared_error: 2.4955e-10 - val_keras_psnr: 27.3377 - val_keras_ssim: 0.5206\n"
     ]
    },
    {
     "data": {
      "application/vnd.jupyter.widget-view+json": {
       "model_id": "",
       "version_major": 2,
       "version_minor": 0
      },
      "text/plain": [
       "HBox(children=(IntProgress(value=0, description='Epoch 643', max=10, style=ProgressStyle(description_width='in…"
      ]
     },
     "metadata": {},
     "output_type": "display_data"
    },
    {
     "name": "stdout",
     "output_type": "stream",
     "text": [
      "Epoch 644/1000\n",
      "10/10 - 27s - loss: 1.2618e-05 - mean_squared_error: 5.0688e-10 - keras_psnr: 26.1511 - keras_ssim: 0.5277 - val_loss: 1.0302e-05 - val_mean_squared_error: 2.4989e-10 - val_keras_psnr: 27.3377 - val_keras_ssim: 0.5206\n"
     ]
    },
    {
     "data": {
      "application/vnd.jupyter.widget-view+json": {
       "model_id": "",
       "version_major": 2,
       "version_minor": 0
      },
      "text/plain": [
       "HBox(children=(IntProgress(value=0, description='Epoch 644', max=10, style=ProgressStyle(description_width='in…"
      ]
     },
     "metadata": {},
     "output_type": "display_data"
    },
    {
     "name": "stdout",
     "output_type": "stream",
     "text": [
      "Epoch 645/1000\n",
      "10/10 - 28s - loss: 1.0357e-05 - mean_squared_error: 2.8310e-10 - keras_psnr: 28.1535 - keras_ssim: 0.6048 - val_loss: 1.0286e-05 - val_mean_squared_error: 2.4888e-10 - val_keras_psnr: 27.3503 - val_keras_ssim: 0.5209\n"
     ]
    },
    {
     "data": {
      "application/vnd.jupyter.widget-view+json": {
       "model_id": "",
       "version_major": 2,
       "version_minor": 0
      },
      "text/plain": [
       "HBox(children=(IntProgress(value=0, description='Epoch 645', max=10, style=ProgressStyle(description_width='in…"
      ]
     },
     "metadata": {},
     "output_type": "display_data"
    },
    {
     "name": "stdout",
     "output_type": "stream",
     "text": [
      "Epoch 646/1000\n",
      "10/10 - 28s - loss: 2.5220e-05 - mean_squared_error: 8.0063e-09 - keras_psnr: 24.2848 - keras_ssim: 0.4260 - val_loss: 1.0276e-05 - val_mean_squared_error: 2.4838e-10 - val_keras_psnr: 27.3569 - val_keras_ssim: 0.5213\n"
     ]
    },
    {
     "data": {
      "application/vnd.jupyter.widget-view+json": {
       "model_id": "",
       "version_major": 2,
       "version_minor": 0
      },
      "text/plain": [
       "HBox(children=(IntProgress(value=0, description='Epoch 646', max=10, style=ProgressStyle(description_width='in…"
      ]
     },
     "metadata": {},
     "output_type": "display_data"
    },
    {
     "name": "stdout",
     "output_type": "stream",
     "text": [
      "Epoch 647/1000\n",
      "10/10 - 28s - loss: 9.8062e-06 - mean_squared_error: 1.9453e-10 - keras_psnr: 27.2167 - keras_ssim: 0.5413 - val_loss: 1.0281e-05 - val_mean_squared_error: 2.4892e-10 - val_keras_psnr: 27.3590 - val_keras_ssim: 0.5212\n"
     ]
    },
    {
     "data": {
      "application/vnd.jupyter.widget-view+json": {
       "model_id": "",
       "version_major": 2,
       "version_minor": 0
      },
      "text/plain": [
       "HBox(children=(IntProgress(value=0, description='Epoch 647', max=10, style=ProgressStyle(description_width='in…"
      ]
     },
     "metadata": {},
     "output_type": "display_data"
    },
    {
     "name": "stdout",
     "output_type": "stream",
     "text": [
      "Epoch 648/1000\n",
      "10/10 - 28s - loss: 1.1868e-05 - mean_squared_error: 3.6219e-10 - keras_psnr: 27.1129 - keras_ssim: 0.5761 - val_loss: 1.0283e-05 - val_mean_squared_error: 2.4887e-10 - val_keras_psnr: 27.3569 - val_keras_ssim: 0.5211\n"
     ]
    },
    {
     "data": {
      "application/vnd.jupyter.widget-view+json": {
       "model_id": "",
       "version_major": 2,
       "version_minor": 0
      },
      "text/plain": [
       "HBox(children=(IntProgress(value=0, description='Epoch 648', max=10, style=ProgressStyle(description_width='in…"
      ]
     },
     "metadata": {},
     "output_type": "display_data"
    },
    {
     "name": "stdout",
     "output_type": "stream",
     "text": [
      "Epoch 649/1000\n",
      "10/10 - 28s - loss: 1.3717e-05 - mean_squared_error: 3.8674e-10 - keras_psnr: 24.6354 - keras_ssim: 0.4523 - val_loss: 1.0299e-05 - val_mean_squared_error: 2.5012e-10 - val_keras_psnr: 27.3359 - val_keras_ssim: 0.5204\n"
     ]
    },
    {
     "data": {
      "application/vnd.jupyter.widget-view+json": {
       "model_id": "",
       "version_major": 2,
       "version_minor": 0
      },
      "text/plain": [
       "HBox(children=(IntProgress(value=0, description='Epoch 649', max=10, style=ProgressStyle(description_width='in…"
      ]
     },
     "metadata": {},
     "output_type": "display_data"
    },
    {
     "name": "stdout",
     "output_type": "stream",
     "text": [
      "Epoch 650/1000\n",
      "10/10 - 28s - loss: 1.2661e-05 - mean_squared_error: 3.8376e-10 - keras_psnr: 25.7962 - keras_ssim: 0.5482 - val_loss: 1.0278e-05 - val_mean_squared_error: 2.4862e-10 - val_keras_psnr: 27.3566 - val_keras_ssim: 0.5210\n"
     ]
    },
    {
     "data": {
      "application/vnd.jupyter.widget-view+json": {
       "model_id": "",
       "version_major": 2,
       "version_minor": 0
      },
      "text/plain": [
       "HBox(children=(IntProgress(value=0, description='Epoch 650', max=10, style=ProgressStyle(description_width='in…"
      ]
     },
     "metadata": {},
     "output_type": "display_data"
    },
    {
     "name": "stdout",
     "output_type": "stream",
     "text": [
      "Epoch 651/1000\n",
      "10/10 - 28s - loss: 1.1082e-05 - mean_squared_error: 3.0614e-10 - keras_psnr: 26.3458 - keras_ssim: 0.5267 - val_loss: 1.0298e-05 - val_mean_squared_error: 2.4980e-10 - val_keras_psnr: 27.3497 - val_keras_ssim: 0.5207\n"
     ]
    },
    {
     "data": {
      "application/vnd.jupyter.widget-view+json": {
       "model_id": "",
       "version_major": 2,
       "version_minor": 0
      },
      "text/plain": [
       "HBox(children=(IntProgress(value=0, description='Epoch 651', max=10, style=ProgressStyle(description_width='in…"
      ]
     },
     "metadata": {},
     "output_type": "display_data"
    },
    {
     "name": "stdout",
     "output_type": "stream",
     "text": [
      "Epoch 652/1000\n",
      "10/10 - 28s - loss: 1.2515e-05 - mean_squared_error: 4.0053e-10 - keras_psnr: 27.5013 - keras_ssim: 0.6020 - val_loss: 1.0287e-05 - val_mean_squared_error: 2.4942e-10 - val_keras_psnr: 27.3471 - val_keras_ssim: 0.5206\n"
     ]
    },
    {
     "data": {
      "application/vnd.jupyter.widget-view+json": {
       "model_id": "",
       "version_major": 2,
       "version_minor": 0
      },
      "text/plain": [
       "HBox(children=(IntProgress(value=0, description='Epoch 652', max=10, style=ProgressStyle(description_width='in…"
      ]
     },
     "metadata": {},
     "output_type": "display_data"
    },
    {
     "name": "stdout",
     "output_type": "stream",
     "text": [
      "Epoch 653/1000\n",
      "10/10 - 28s - loss: 1.0737e-05 - mean_squared_error: 2.5195e-10 - keras_psnr: 25.4500 - keras_ssim: 0.4680 - val_loss: 1.0285e-05 - val_mean_squared_error: 2.4896e-10 - val_keras_psnr: 27.3437 - val_keras_ssim: 0.5206\n"
     ]
    },
    {
     "data": {
      "application/vnd.jupyter.widget-view+json": {
       "model_id": "",
       "version_major": 2,
       "version_minor": 0
      },
      "text/plain": [
       "HBox(children=(IntProgress(value=0, description='Epoch 653', max=10, style=ProgressStyle(description_width='in…"
      ]
     },
     "metadata": {},
     "output_type": "display_data"
    },
    {
     "name": "stdout",
     "output_type": "stream",
     "text": [
      "Epoch 654/1000\n",
      "10/10 - 28s - loss: 1.0471e-05 - mean_squared_error: 2.5593e-10 - keras_psnr: 26.7244 - keras_ssim: 0.5181 - val_loss: 1.0270e-05 - val_mean_squared_error: 2.4810e-10 - val_keras_psnr: 27.3596 - val_keras_ssim: 0.5211\n"
     ]
    },
    {
     "data": {
      "application/vnd.jupyter.widget-view+json": {
       "model_id": "",
       "version_major": 2,
       "version_minor": 0
      },
      "text/plain": [
       "HBox(children=(IntProgress(value=0, description='Epoch 654', max=10, style=ProgressStyle(description_width='in…"
      ]
     },
     "metadata": {},
     "output_type": "display_data"
    },
    {
     "name": "stdout",
     "output_type": "stream",
     "text": [
      "Epoch 655/1000\n",
      "10/10 - 28s - loss: 9.4359e-06 - mean_squared_error: 3.0310e-10 - keras_psnr: 26.6939 - keras_ssim: 0.5161 - val_loss: 1.0264e-05 - val_mean_squared_error: 2.4793e-10 - val_keras_psnr: 27.3635 - val_keras_ssim: 0.5214\n"
     ]
    },
    {
     "data": {
      "application/vnd.jupyter.widget-view+json": {
       "model_id": "",
       "version_major": 2,
       "version_minor": 0
      },
      "text/plain": [
       "HBox(children=(IntProgress(value=0, description='Epoch 655', max=10, style=ProgressStyle(description_width='in…"
      ]
     },
     "metadata": {},
     "output_type": "display_data"
    },
    {
     "name": "stdout",
     "output_type": "stream",
     "text": [
      "Epoch 656/1000\n",
      "10/10 - 29s - loss: 1.0557e-05 - mean_squared_error: 3.8722e-10 - keras_psnr: 26.9967 - keras_ssim: 0.5723 - val_loss: 1.0265e-05 - val_mean_squared_error: 2.4833e-10 - val_keras_psnr: 27.3656 - val_keras_ssim: 0.5216\n"
     ]
    },
    {
     "data": {
      "application/vnd.jupyter.widget-view+json": {
       "model_id": "",
       "version_major": 2,
       "version_minor": 0
      },
      "text/plain": [
       "HBox(children=(IntProgress(value=0, description='Epoch 656', max=10, style=ProgressStyle(description_width='in…"
      ]
     },
     "metadata": {},
     "output_type": "display_data"
    },
    {
     "name": "stdout",
     "output_type": "stream",
     "text": [
      "Epoch 657/1000\n",
      "10/10 - 27s - loss: 1.3000e-05 - mean_squared_error: 3.4574e-10 - keras_psnr: 27.0949 - keras_ssim: 0.5573 - val_loss: 1.0252e-05 - val_mean_squared_error: 2.4742e-10 - val_keras_psnr: 27.3766 - val_keras_ssim: 0.5219\n"
     ]
    },
    {
     "data": {
      "application/vnd.jupyter.widget-view+json": {
       "model_id": "",
       "version_major": 2,
       "version_minor": 0
      },
      "text/plain": [
       "HBox(children=(IntProgress(value=0, description='Epoch 657', max=10, style=ProgressStyle(description_width='in…"
      ]
     },
     "metadata": {},
     "output_type": "display_data"
    },
    {
     "name": "stdout",
     "output_type": "stream",
     "text": [
      "Epoch 658/1000\n",
      "10/10 - 27s - loss: 1.3056e-05 - mean_squared_error: 7.8290e-10 - keras_psnr: 25.9723 - keras_ssim: 0.5097 - val_loss: 1.0275e-05 - val_mean_squared_error: 2.4874e-10 - val_keras_psnr: 27.3573 - val_keras_ssim: 0.5212\n"
     ]
    },
    {
     "data": {
      "application/vnd.jupyter.widget-view+json": {
       "model_id": "",
       "version_major": 2,
       "version_minor": 0
      },
      "text/plain": [
       "HBox(children=(IntProgress(value=0, description='Epoch 658', max=10, style=ProgressStyle(description_width='in…"
      ]
     },
     "metadata": {},
     "output_type": "display_data"
    },
    {
     "name": "stdout",
     "output_type": "stream",
     "text": [
      "Epoch 659/1000\n",
      "10/10 - 27s - loss: 1.0336e-05 - mean_squared_error: 2.2855e-10 - keras_psnr: 25.5334 - keras_ssim: 0.4422 - val_loss: 1.0274e-05 - val_mean_squared_error: 2.4878e-10 - val_keras_psnr: 27.3577 - val_keras_ssim: 0.5212\n"
     ]
    },
    {
     "data": {
      "application/vnd.jupyter.widget-view+json": {
       "model_id": "",
       "version_major": 2,
       "version_minor": 0
      },
      "text/plain": [
       "HBox(children=(IntProgress(value=0, description='Epoch 659', max=10, style=ProgressStyle(description_width='in…"
      ]
     },
     "metadata": {},
     "output_type": "display_data"
    },
    {
     "name": "stdout",
     "output_type": "stream",
     "text": [
      "Epoch 660/1000\n",
      "10/10 - 27s - loss: 1.2121e-05 - mean_squared_error: 3.3724e-10 - keras_psnr: 26.4959 - keras_ssim: 0.5482 - val_loss: 1.0284e-05 - val_mean_squared_error: 2.4941e-10 - val_keras_psnr: 27.3554 - val_keras_ssim: 0.5210\n"
     ]
    },
    {
     "data": {
      "application/vnd.jupyter.widget-view+json": {
       "model_id": "",
       "version_major": 2,
       "version_minor": 0
      },
      "text/plain": [
       "HBox(children=(IntProgress(value=0, description='Epoch 660', max=10, style=ProgressStyle(description_width='in…"
      ]
     },
     "metadata": {},
     "output_type": "display_data"
    },
    {
     "name": "stdout",
     "output_type": "stream",
     "text": [
      "Epoch 661/1000\n",
      "10/10 - 28s - loss: 1.3741e-05 - mean_squared_error: 8.6092e-10 - keras_psnr: 25.4124 - keras_ssim: 0.5291 - val_loss: 1.0265e-05 - val_mean_squared_error: 2.4842e-10 - val_keras_psnr: 27.3744 - val_keras_ssim: 0.5217\n"
     ]
    },
    {
     "data": {
      "application/vnd.jupyter.widget-view+json": {
       "model_id": "",
       "version_major": 2,
       "version_minor": 0
      },
      "text/plain": [
       "HBox(children=(IntProgress(value=0, description='Epoch 661', max=10, style=ProgressStyle(description_width='in…"
      ]
     },
     "metadata": {},
     "output_type": "display_data"
    },
    {
     "name": "stdout",
     "output_type": "stream",
     "text": [
      "Epoch 662/1000\n",
      "10/10 - 28s - loss: 1.2791e-05 - mean_squared_error: 5.5134e-10 - keras_psnr: 27.4854 - keras_ssim: 0.5818 - val_loss: 1.0265e-05 - val_mean_squared_error: 2.4830e-10 - val_keras_psnr: 27.3608 - val_keras_ssim: 0.5212\n"
     ]
    },
    {
     "data": {
      "application/vnd.jupyter.widget-view+json": {
       "model_id": "",
       "version_major": 2,
       "version_minor": 0
      },
      "text/plain": [
       "HBox(children=(IntProgress(value=0, description='Epoch 662', max=10, style=ProgressStyle(description_width='in…"
      ]
     },
     "metadata": {},
     "output_type": "display_data"
    },
    {
     "name": "stdout",
     "output_type": "stream",
     "text": [
      "Epoch 663/1000\n",
      "10/10 - 28s - loss: 1.2192e-05 - mean_squared_error: 5.3573e-10 - keras_psnr: 26.2133 - keras_ssim: 0.5301 - val_loss: 1.0273e-05 - val_mean_squared_error: 2.4881e-10 - val_keras_psnr: 27.3530 - val_keras_ssim: 0.5212\n"
     ]
    },
    {
     "data": {
      "application/vnd.jupyter.widget-view+json": {
       "model_id": "",
       "version_major": 2,
       "version_minor": 0
      },
      "text/plain": [
       "HBox(children=(IntProgress(value=0, description='Epoch 663', max=10, style=ProgressStyle(description_width='in…"
      ]
     },
     "metadata": {},
     "output_type": "display_data"
    },
    {
     "name": "stdout",
     "output_type": "stream",
     "text": [
      "Epoch 664/1000\n",
      "10/10 - 28s - loss: 1.1152e-05 - mean_squared_error: 2.8201e-10 - keras_psnr: 26.8802 - keras_ssim: 0.5300 - val_loss: 1.0253e-05 - val_mean_squared_error: 2.4734e-10 - val_keras_psnr: 27.3691 - val_keras_ssim: 0.5216\n"
     ]
    },
    {
     "data": {
      "application/vnd.jupyter.widget-view+json": {
       "model_id": "",
       "version_major": 2,
       "version_minor": 0
      },
      "text/plain": [
       "HBox(children=(IntProgress(value=0, description='Epoch 664', max=10, style=ProgressStyle(description_width='in…"
      ]
     },
     "metadata": {},
     "output_type": "display_data"
    },
    {
     "name": "stdout",
     "output_type": "stream",
     "text": [
      "Epoch 665/1000\n",
      "10/10 - 28s - loss: 1.2812e-05 - mean_squared_error: 2.5636e-10 - keras_psnr: 27.1649 - keras_ssim: 0.5207 - val_loss: 1.0233e-05 - val_mean_squared_error: 2.4596e-10 - val_keras_psnr: 27.3865 - val_keras_ssim: 0.5220\n"
     ]
    },
    {
     "data": {
      "application/vnd.jupyter.widget-view+json": {
       "model_id": "",
       "version_major": 2,
       "version_minor": 0
      },
      "text/plain": [
       "HBox(children=(IntProgress(value=0, description='Epoch 665', max=10, style=ProgressStyle(description_width='in…"
      ]
     },
     "metadata": {},
     "output_type": "display_data"
    },
    {
     "name": "stdout",
     "output_type": "stream",
     "text": [
      "Epoch 666/1000\n",
      "10/10 - 27s - loss: 1.1035e-05 - mean_squared_error: 2.4041e-10 - keras_psnr: 25.3546 - keras_ssim: 0.4531 - val_loss: 1.0265e-05 - val_mean_squared_error: 2.4849e-10 - val_keras_psnr: 27.3720 - val_keras_ssim: 0.5218\n"
     ]
    },
    {
     "data": {
      "application/vnd.jupyter.widget-view+json": {
       "model_id": "",
       "version_major": 2,
       "version_minor": 0
      },
      "text/plain": [
       "HBox(children=(IntProgress(value=0, description='Epoch 666', max=10, style=ProgressStyle(description_width='in…"
      ]
     },
     "metadata": {},
     "output_type": "display_data"
    },
    {
     "name": "stdout",
     "output_type": "stream",
     "text": [
      "Epoch 667/1000\n",
      "10/10 - 27s - loss: 9.5356e-06 - mean_squared_error: 1.8504e-10 - keras_psnr: 25.7940 - keras_ssim: 0.4319 - val_loss: 1.0273e-05 - val_mean_squared_error: 2.4900e-10 - val_keras_psnr: 27.3704 - val_keras_ssim: 0.5218\n"
     ]
    },
    {
     "data": {
      "application/vnd.jupyter.widget-view+json": {
       "model_id": "",
       "version_major": 2,
       "version_minor": 0
      },
      "text/plain": [
       "HBox(children=(IntProgress(value=0, description='Epoch 667', max=10, style=ProgressStyle(description_width='in…"
      ]
     },
     "metadata": {},
     "output_type": "display_data"
    },
    {
     "name": "stdout",
     "output_type": "stream",
     "text": [
      "Epoch 668/1000\n",
      "10/10 - 28s - loss: 1.0892e-05 - mean_squared_error: 3.8030e-10 - keras_psnr: 28.7061 - keras_ssim: 0.6206 - val_loss: 1.0251e-05 - val_mean_squared_error: 2.4745e-10 - val_keras_psnr: 27.3753 - val_keras_ssim: 0.5219\n"
     ]
    },
    {
     "data": {
      "application/vnd.jupyter.widget-view+json": {
       "model_id": "",
       "version_major": 2,
       "version_minor": 0
      },
      "text/plain": [
       "HBox(children=(IntProgress(value=0, description='Epoch 668', max=10, style=ProgressStyle(description_width='in…"
      ]
     },
     "metadata": {},
     "output_type": "display_data"
    },
    {
     "name": "stdout",
     "output_type": "stream",
     "text": [
      "Epoch 669/1000\n",
      "10/10 - 28s - loss: 1.5453e-05 - mean_squared_error: 7.4874e-10 - keras_psnr: 25.1731 - keras_ssim: 0.4722 - val_loss: 1.0263e-05 - val_mean_squared_error: 2.4846e-10 - val_keras_psnr: 27.3625 - val_keras_ssim: 0.5216\n"
     ]
    },
    {
     "data": {
      "application/vnd.jupyter.widget-view+json": {
       "model_id": "",
       "version_major": 2,
       "version_minor": 0
      },
      "text/plain": [
       "HBox(children=(IntProgress(value=0, description='Epoch 669', max=10, style=ProgressStyle(description_width='in…"
      ]
     },
     "metadata": {},
     "output_type": "display_data"
    },
    {
     "name": "stdout",
     "output_type": "stream",
     "text": [
      "Epoch 670/1000\n",
      "10/10 - 27s - loss: 1.1282e-05 - mean_squared_error: 2.0947e-10 - keras_psnr: 25.4794 - keras_ssim: 0.4492 - val_loss: 1.0256e-05 - val_mean_squared_error: 2.4826e-10 - val_keras_psnr: 27.3737 - val_keras_ssim: 0.5220\n"
     ]
    },
    {
     "data": {
      "application/vnd.jupyter.widget-view+json": {
       "model_id": "",
       "version_major": 2,
       "version_minor": 0
      },
      "text/plain": [
       "HBox(children=(IntProgress(value=0, description='Epoch 670', max=10, style=ProgressStyle(description_width='in…"
      ]
     },
     "metadata": {},
     "output_type": "display_data"
    },
    {
     "name": "stdout",
     "output_type": "stream",
     "text": [
      "Epoch 671/1000\n",
      "10/10 - 28s - loss: 9.3765e-06 - mean_squared_error: 2.1502e-10 - keras_psnr: 26.8563 - keras_ssim: 0.5073 - val_loss: 1.0254e-05 - val_mean_squared_error: 2.4809e-10 - val_keras_psnr: 27.3725 - val_keras_ssim: 0.5220\n"
     ]
    },
    {
     "data": {
      "application/vnd.jupyter.widget-view+json": {
       "model_id": "",
       "version_major": 2,
       "version_minor": 0
      },
      "text/plain": [
       "HBox(children=(IntProgress(value=0, description='Epoch 671', max=10, style=ProgressStyle(description_width='in…"
      ]
     },
     "metadata": {},
     "output_type": "display_data"
    },
    {
     "name": "stdout",
     "output_type": "stream",
     "text": [
      "Epoch 672/1000\n",
      "10/10 - 28s - loss: 1.1794e-05 - mean_squared_error: 2.1635e-10 - keras_psnr: 24.9098 - keras_ssim: 0.4123 - val_loss: 1.0241e-05 - val_mean_squared_error: 2.4717e-10 - val_keras_psnr: 27.3840 - val_keras_ssim: 0.5223\n"
     ]
    },
    {
     "data": {
      "application/vnd.jupyter.widget-view+json": {
       "model_id": "",
       "version_major": 2,
       "version_minor": 0
      },
      "text/plain": [
       "HBox(children=(IntProgress(value=0, description='Epoch 672', max=10, style=ProgressStyle(description_width='in…"
      ]
     },
     "metadata": {},
     "output_type": "display_data"
    },
    {
     "name": "stdout",
     "output_type": "stream",
     "text": [
      "Epoch 673/1000\n",
      "10/10 - 28s - loss: 1.3062e-05 - mean_squared_error: 4.1391e-10 - keras_psnr: 25.7628 - keras_ssim: 0.4838 - val_loss: 1.0250e-05 - val_mean_squared_error: 2.4796e-10 - val_keras_psnr: 27.3834 - val_keras_ssim: 0.5224\n"
     ]
    },
    {
     "data": {
      "application/vnd.jupyter.widget-view+json": {
       "model_id": "",
       "version_major": 2,
       "version_minor": 0
      },
      "text/plain": [
       "HBox(children=(IntProgress(value=0, description='Epoch 673', max=10, style=ProgressStyle(description_width='in…"
      ]
     },
     "metadata": {},
     "output_type": "display_data"
    },
    {
     "name": "stdout",
     "output_type": "stream",
     "text": [
      "Epoch 674/1000\n",
      "10/10 - 27s - loss: 1.4465e-05 - mean_squared_error: 9.8922e-10 - keras_psnr: 24.7568 - keras_ssim: 0.5351 - val_loss: 1.0238e-05 - val_mean_squared_error: 2.4718e-10 - val_keras_psnr: 27.3893 - val_keras_ssim: 0.5227\n"
     ]
    },
    {
     "data": {
      "application/vnd.jupyter.widget-view+json": {
       "model_id": "",
       "version_major": 2,
       "version_minor": 0
      },
      "text/plain": [
       "HBox(children=(IntProgress(value=0, description='Epoch 674', max=10, style=ProgressStyle(description_width='in…"
      ]
     },
     "metadata": {},
     "output_type": "display_data"
    },
    {
     "name": "stdout",
     "output_type": "stream",
     "text": [
      "Epoch 675/1000\n",
      "10/10 - 28s - loss: 1.2419e-05 - mean_squared_error: 4.7529e-10 - keras_psnr: 27.6822 - keras_ssim: 0.6063 - val_loss: 1.0244e-05 - val_mean_squared_error: 2.4713e-10 - val_keras_psnr: 27.3844 - val_keras_ssim: 0.5225\n"
     ]
    },
    {
     "data": {
      "application/vnd.jupyter.widget-view+json": {
       "model_id": "",
       "version_major": 2,
       "version_minor": 0
      },
      "text/plain": [
       "HBox(children=(IntProgress(value=0, description='Epoch 675', max=10, style=ProgressStyle(description_width='in…"
      ]
     },
     "metadata": {},
     "output_type": "display_data"
    },
    {
     "name": "stdout",
     "output_type": "stream",
     "text": [
      "Epoch 676/1000\n",
      "10/10 - 28s - loss: 8.8305e-06 - mean_squared_error: 1.4935e-10 - keras_psnr: 25.7378 - keras_ssim: 0.4348 - val_loss: 1.0247e-05 - val_mean_squared_error: 2.4722e-10 - val_keras_psnr: 27.3808 - val_keras_ssim: 0.5224\n"
     ]
    },
    {
     "data": {
      "application/vnd.jupyter.widget-view+json": {
       "model_id": "",
       "version_major": 2,
       "version_minor": 0
      },
      "text/plain": [
       "HBox(children=(IntProgress(value=0, description='Epoch 676', max=10, style=ProgressStyle(description_width='in…"
      ]
     },
     "metadata": {},
     "output_type": "display_data"
    },
    {
     "name": "stdout",
     "output_type": "stream",
     "text": [
      "Epoch 677/1000\n",
      "10/10 - 28s - loss: 1.2067e-05 - mean_squared_error: 3.9554e-10 - keras_psnr: 26.3474 - keras_ssim: 0.5042 - val_loss: 1.0237e-05 - val_mean_squared_error: 2.4697e-10 - val_keras_psnr: 27.3761 - val_keras_ssim: 0.5223\n"
     ]
    },
    {
     "data": {
      "application/vnd.jupyter.widget-view+json": {
       "model_id": "",
       "version_major": 2,
       "version_minor": 0
      },
      "text/plain": [
       "HBox(children=(IntProgress(value=0, description='Epoch 677', max=10, style=ProgressStyle(description_width='in…"
      ]
     },
     "metadata": {},
     "output_type": "display_data"
    },
    {
     "name": "stdout",
     "output_type": "stream",
     "text": [
      "Epoch 678/1000\n",
      "10/10 - 28s - loss: 1.3871e-05 - mean_squared_error: 5.8211e-10 - keras_psnr: 25.7592 - keras_ssim: 0.4857 - val_loss: 1.0243e-05 - val_mean_squared_error: 2.4766e-10 - val_keras_psnr: 27.3806 - val_keras_ssim: 0.5226\n"
     ]
    },
    {
     "data": {
      "application/vnd.jupyter.widget-view+json": {
       "model_id": "",
       "version_major": 2,
       "version_minor": 0
      },
      "text/plain": [
       "HBox(children=(IntProgress(value=0, description='Epoch 678', max=10, style=ProgressStyle(description_width='in…"
      ]
     },
     "metadata": {},
     "output_type": "display_data"
    },
    {
     "name": "stdout",
     "output_type": "stream",
     "text": [
      "Epoch 679/1000\n",
      "10/10 - 27s - loss: 1.1070e-05 - mean_squared_error: 5.0293e-10 - keras_psnr: 27.6014 - keras_ssim: 0.5787 - val_loss: 1.0238e-05 - val_mean_squared_error: 2.4721e-10 - val_keras_psnr: 27.3863 - val_keras_ssim: 0.5228\n"
     ]
    },
    {
     "data": {
      "application/vnd.jupyter.widget-view+json": {
       "model_id": "",
       "version_major": 2,
       "version_minor": 0
      },
      "text/plain": [
       "HBox(children=(IntProgress(value=0, description='Epoch 679', max=10, style=ProgressStyle(description_width='in…"
      ]
     },
     "metadata": {},
     "output_type": "display_data"
    },
    {
     "name": "stdout",
     "output_type": "stream",
     "text": [
      "Epoch 680/1000\n",
      "10/10 - 27s - loss: 1.1215e-05 - mean_squared_error: 2.5944e-10 - keras_psnr: 25.6209 - keras_ssim: 0.4494 - val_loss: 1.0243e-05 - val_mean_squared_error: 2.4744e-10 - val_keras_psnr: 27.3887 - val_keras_ssim: 0.5229\n"
     ]
    },
    {
     "data": {
      "application/vnd.jupyter.widget-view+json": {
       "model_id": "",
       "version_major": 2,
       "version_minor": 0
      },
      "text/plain": [
       "HBox(children=(IntProgress(value=0, description='Epoch 680', max=10, style=ProgressStyle(description_width='in…"
      ]
     },
     "metadata": {},
     "output_type": "display_data"
    },
    {
     "name": "stdout",
     "output_type": "stream",
     "text": [
      "Epoch 681/1000\n",
      "10/10 - 28s - loss: 8.9301e-06 - mean_squared_error: 2.7017e-10 - keras_psnr: 26.3412 - keras_ssim: 0.5054 - val_loss: 1.0243e-05 - val_mean_squared_error: 2.4725e-10 - val_keras_psnr: 27.3852 - val_keras_ssim: 0.5227\n"
     ]
    },
    {
     "data": {
      "application/vnd.jupyter.widget-view+json": {
       "model_id": "",
       "version_major": 2,
       "version_minor": 0
      },
      "text/plain": [
       "HBox(children=(IntProgress(value=0, description='Epoch 681', max=10, style=ProgressStyle(description_width='in…"
      ]
     },
     "metadata": {},
     "output_type": "display_data"
    },
    {
     "name": "stdout",
     "output_type": "stream",
     "text": [
      "Epoch 682/1000\n",
      "10/10 - 28s - loss: 1.1388e-05 - mean_squared_error: 2.4961e-10 - keras_psnr: 26.6550 - keras_ssim: 0.5127 - val_loss: 1.0212e-05 - val_mean_squared_error: 2.4595e-10 - val_keras_psnr: 27.4047 - val_keras_ssim: 0.5235\n"
     ]
    },
    {
     "data": {
      "application/vnd.jupyter.widget-view+json": {
       "model_id": "",
       "version_major": 2,
       "version_minor": 0
      },
      "text/plain": [
       "HBox(children=(IntProgress(value=0, description='Epoch 682', max=10, style=ProgressStyle(description_width='in…"
      ]
     },
     "metadata": {},
     "output_type": "display_data"
    },
    {
     "name": "stdout",
     "output_type": "stream",
     "text": [
      "Epoch 683/1000\n",
      "10/10 - 29s - loss: 1.1595e-05 - mean_squared_error: 2.3938e-10 - keras_psnr: 26.4614 - keras_ssim: 0.4921 - val_loss: 1.0235e-05 - val_mean_squared_error: 2.4699e-10 - val_keras_psnr: 27.4006 - val_keras_ssim: 0.5236\n"
     ]
    },
    {
     "data": {
      "application/vnd.jupyter.widget-view+json": {
       "model_id": "",
       "version_major": 2,
       "version_minor": 0
      },
      "text/plain": [
       "HBox(children=(IntProgress(value=0, description='Epoch 683', max=10, style=ProgressStyle(description_width='in…"
      ]
     },
     "metadata": {},
     "output_type": "display_data"
    },
    {
     "name": "stdout",
     "output_type": "stream",
     "text": [
      "Epoch 684/1000\n",
      "10/10 - 28s - loss: 1.0608e-05 - mean_squared_error: 4.0953e-10 - keras_psnr: 27.6520 - keras_ssim: 0.6007 - val_loss: 1.0231e-05 - val_mean_squared_error: 2.4720e-10 - val_keras_psnr: 27.4039 - val_keras_ssim: 0.5237\n"
     ]
    },
    {
     "data": {
      "application/vnd.jupyter.widget-view+json": {
       "model_id": "",
       "version_major": 2,
       "version_minor": 0
      },
      "text/plain": [
       "HBox(children=(IntProgress(value=0, description='Epoch 684', max=10, style=ProgressStyle(description_width='in…"
      ]
     },
     "metadata": {},
     "output_type": "display_data"
    },
    {
     "name": "stdout",
     "output_type": "stream",
     "text": [
      "Epoch 685/1000\n",
      "10/10 - 29s - loss: 1.2847e-05 - mean_squared_error: 5.3632e-10 - keras_psnr: 26.9499 - keras_ssim: 0.6127 - val_loss: 1.0234e-05 - val_mean_squared_error: 2.4725e-10 - val_keras_psnr: 27.3812 - val_keras_ssim: 0.5229\n"
     ]
    },
    {
     "data": {
      "application/vnd.jupyter.widget-view+json": {
       "model_id": "",
       "version_major": 2,
       "version_minor": 0
      },
      "text/plain": [
       "HBox(children=(IntProgress(value=0, description='Epoch 685', max=10, style=ProgressStyle(description_width='in…"
      ]
     },
     "metadata": {},
     "output_type": "display_data"
    },
    {
     "name": "stdout",
     "output_type": "stream",
     "text": [
      "Epoch 686/1000\n",
      "10/10 - 29s - loss: 1.1470e-05 - mean_squared_error: 3.1066e-10 - keras_psnr: 26.0028 - keras_ssim: 0.5300 - val_loss: 1.0247e-05 - val_mean_squared_error: 2.4755e-10 - val_keras_psnr: 27.3621 - val_keras_ssim: 0.5225\n"
     ]
    },
    {
     "data": {
      "application/vnd.jupyter.widget-view+json": {
       "model_id": "",
       "version_major": 2,
       "version_minor": 0
      },
      "text/plain": [
       "HBox(children=(IntProgress(value=0, description='Epoch 686', max=10, style=ProgressStyle(description_width='in…"
      ]
     },
     "metadata": {},
     "output_type": "display_data"
    },
    {
     "name": "stdout",
     "output_type": "stream",
     "text": [
      "Epoch 687/1000\n",
      "10/10 - 28s - loss: 1.1900e-05 - mean_squared_error: 2.2081e-10 - keras_psnr: 25.3496 - keras_ssim: 0.4305 - val_loss: 1.0243e-05 - val_mean_squared_error: 2.4775e-10 - val_keras_psnr: 27.3750 - val_keras_ssim: 0.5228\n"
     ]
    },
    {
     "data": {
      "application/vnd.jupyter.widget-view+json": {
       "model_id": "",
       "version_major": 2,
       "version_minor": 0
      },
      "text/plain": [
       "HBox(children=(IntProgress(value=0, description='Epoch 687', max=10, style=ProgressStyle(description_width='in…"
      ]
     },
     "metadata": {},
     "output_type": "display_data"
    },
    {
     "name": "stdout",
     "output_type": "stream",
     "text": [
      "Epoch 688/1000\n",
      "10/10 - 28s - loss: 1.0401e-05 - mean_squared_error: 3.4408e-10 - keras_psnr: 25.4505 - keras_ssim: 0.4774 - val_loss: 1.0218e-05 - val_mean_squared_error: 2.4633e-10 - val_keras_psnr: 27.4004 - val_keras_ssim: 0.5236\n"
     ]
    },
    {
     "data": {
      "application/vnd.jupyter.widget-view+json": {
       "model_id": "",
       "version_major": 2,
       "version_minor": 0
      },
      "text/plain": [
       "HBox(children=(IntProgress(value=0, description='Epoch 688', max=10, style=ProgressStyle(description_width='in…"
      ]
     },
     "metadata": {},
     "output_type": "display_data"
    },
    {
     "name": "stdout",
     "output_type": "stream",
     "text": [
      "Epoch 689/1000\n",
      "10/10 - 28s - loss: 1.2934e-05 - mean_squared_error: 3.9715e-10 - keras_psnr: 24.3007 - keras_ssim: 0.4494 - val_loss: 1.0220e-05 - val_mean_squared_error: 2.4606e-10 - val_keras_psnr: 27.3989 - val_keras_ssim: 0.5234\n"
     ]
    },
    {
     "data": {
      "application/vnd.jupyter.widget-view+json": {
       "model_id": "",
       "version_major": 2,
       "version_minor": 0
      },
      "text/plain": [
       "HBox(children=(IntProgress(value=0, description='Epoch 689', max=10, style=ProgressStyle(description_width='in…"
      ]
     },
     "metadata": {},
     "output_type": "display_data"
    },
    {
     "name": "stdout",
     "output_type": "stream",
     "text": [
      "Epoch 690/1000\n",
      "10/10 - 27s - loss: 1.5334e-05 - mean_squared_error: 6.6708e-10 - keras_psnr: 27.5792 - keras_ssim: 0.6314 - val_loss: 1.0237e-05 - val_mean_squared_error: 2.4758e-10 - val_keras_psnr: 27.3785 - val_keras_ssim: 0.5231\n"
     ]
    },
    {
     "data": {
      "application/vnd.jupyter.widget-view+json": {
       "model_id": "",
       "version_major": 2,
       "version_minor": 0
      },
      "text/plain": [
       "HBox(children=(IntProgress(value=0, description='Epoch 690', max=10, style=ProgressStyle(description_width='in…"
      ]
     },
     "metadata": {},
     "output_type": "display_data"
    },
    {
     "name": "stdout",
     "output_type": "stream",
     "text": [
      "Epoch 691/1000\n",
      "10/10 - 28s - loss: 1.2706e-05 - mean_squared_error: 3.8007e-10 - keras_psnr: 25.7483 - keras_ssim: 0.4943 - val_loss: 1.0210e-05 - val_mean_squared_error: 2.4550e-10 - val_keras_psnr: 27.3977 - val_keras_ssim: 0.5235\n"
     ]
    },
    {
     "data": {
      "application/vnd.jupyter.widget-view+json": {
       "model_id": "",
       "version_major": 2,
       "version_minor": 0
      },
      "text/plain": [
       "HBox(children=(IntProgress(value=0, description='Epoch 691', max=10, style=ProgressStyle(description_width='in…"
      ]
     },
     "metadata": {},
     "output_type": "display_data"
    },
    {
     "name": "stdout",
     "output_type": "stream",
     "text": [
      "Epoch 692/1000\n",
      "10/10 - 28s - loss: 9.4819e-06 - mean_squared_error: 2.0785e-10 - keras_psnr: 27.4981 - keras_ssim: 0.5475 - val_loss: 1.0221e-05 - val_mean_squared_error: 2.4618e-10 - val_keras_psnr: 27.3946 - val_keras_ssim: 0.5234\n"
     ]
    },
    {
     "data": {
      "application/vnd.jupyter.widget-view+json": {
       "model_id": "",
       "version_major": 2,
       "version_minor": 0
      },
      "text/plain": [
       "HBox(children=(IntProgress(value=0, description='Epoch 692', max=10, style=ProgressStyle(description_width='in…"
      ]
     },
     "metadata": {},
     "output_type": "display_data"
    },
    {
     "name": "stdout",
     "output_type": "stream",
     "text": [
      "Epoch 693/1000\n",
      "10/10 - 28s - loss: 1.1439e-05 - mean_squared_error: 2.4411e-10 - keras_psnr: 26.7090 - keras_ssim: 0.5213 - val_loss: 1.0207e-05 - val_mean_squared_error: 2.4549e-10 - val_keras_psnr: 27.4037 - val_keras_ssim: 0.5238\n"
     ]
    },
    {
     "data": {
      "application/vnd.jupyter.widget-view+json": {
       "model_id": "",
       "version_major": 2,
       "version_minor": 0
      },
      "text/plain": [
       "HBox(children=(IntProgress(value=0, description='Epoch 693', max=10, style=ProgressStyle(description_width='in…"
      ]
     },
     "metadata": {},
     "output_type": "display_data"
    },
    {
     "name": "stdout",
     "output_type": "stream",
     "text": [
      "Epoch 694/1000\n",
      "10/10 - 28s - loss: 1.0177e-05 - mean_squared_error: 3.6011e-10 - keras_psnr: 26.6619 - keras_ssim: 0.5499 - val_loss: 1.0232e-05 - val_mean_squared_error: 2.4706e-10 - val_keras_psnr: 27.3826 - val_keras_ssim: 0.5232\n"
     ]
    },
    {
     "data": {
      "application/vnd.jupyter.widget-view+json": {
       "model_id": "",
       "version_major": 2,
       "version_minor": 0
      },
      "text/plain": [
       "HBox(children=(IntProgress(value=0, description='Epoch 694', max=10, style=ProgressStyle(description_width='in…"
      ]
     },
     "metadata": {},
     "output_type": "display_data"
    },
    {
     "name": "stdout",
     "output_type": "stream",
     "text": [
      "Epoch 695/1000\n",
      "10/10 - 28s - loss: 1.0418e-05 - mean_squared_error: 2.3540e-10 - keras_psnr: 26.7461 - keras_ssim: 0.4879 - val_loss: 1.0205e-05 - val_mean_squared_error: 2.4548e-10 - val_keras_psnr: 27.4056 - val_keras_ssim: 0.5238\n"
     ]
    },
    {
     "data": {
      "application/vnd.jupyter.widget-view+json": {
       "model_id": "",
       "version_major": 2,
       "version_minor": 0
      },
      "text/plain": [
       "HBox(children=(IntProgress(value=0, description='Epoch 695', max=10, style=ProgressStyle(description_width='in…"
      ]
     },
     "metadata": {},
     "output_type": "display_data"
    },
    {
     "name": "stdout",
     "output_type": "stream",
     "text": [
      "Epoch 696/1000\n",
      "10/10 - 28s - loss: 1.5263e-05 - mean_squared_error: 4.4774e-10 - keras_psnr: 27.8050 - keras_ssim: 0.5950 - val_loss: 1.0205e-05 - val_mean_squared_error: 2.4545e-10 - val_keras_psnr: 27.4022 - val_keras_ssim: 0.5236\n"
     ]
    },
    {
     "data": {
      "application/vnd.jupyter.widget-view+json": {
       "model_id": "",
       "version_major": 2,
       "version_minor": 0
      },
      "text/plain": [
       "HBox(children=(IntProgress(value=0, description='Epoch 696', max=10, style=ProgressStyle(description_width='in…"
      ]
     },
     "metadata": {},
     "output_type": "display_data"
    },
    {
     "name": "stdout",
     "output_type": "stream",
     "text": [
      "Epoch 697/1000\n",
      "10/10 - 28s - loss: 9.5081e-06 - mean_squared_error: 1.8399e-10 - keras_psnr: 25.8337 - keras_ssim: 0.4883 - val_loss: 1.0230e-05 - val_mean_squared_error: 2.4679e-10 - val_keras_psnr: 27.3840 - val_keras_ssim: 0.5231\n"
     ]
    },
    {
     "data": {
      "application/vnd.jupyter.widget-view+json": {
       "model_id": "",
       "version_major": 2,
       "version_minor": 0
      },
      "text/plain": [
       "HBox(children=(IntProgress(value=0, description='Epoch 697', max=10, style=ProgressStyle(description_width='in…"
      ]
     },
     "metadata": {},
     "output_type": "display_data"
    },
    {
     "name": "stdout",
     "output_type": "stream",
     "text": [
      "Epoch 698/1000\n",
      "10/10 - 28s - loss: 1.3977e-05 - mean_squared_error: 6.0822e-10 - keras_psnr: 26.2023 - keras_ssim: 0.5824 - val_loss: 1.0230e-05 - val_mean_squared_error: 2.4725e-10 - val_keras_psnr: 27.3980 - val_keras_ssim: 0.5237\n"
     ]
    },
    {
     "data": {
      "application/vnd.jupyter.widget-view+json": {
       "model_id": "",
       "version_major": 2,
       "version_minor": 0
      },
      "text/plain": [
       "HBox(children=(IntProgress(value=0, description='Epoch 698', max=10, style=ProgressStyle(description_width='in…"
      ]
     },
     "metadata": {},
     "output_type": "display_data"
    },
    {
     "name": "stdout",
     "output_type": "stream",
     "text": [
      "Epoch 699/1000\n",
      "10/10 - 27s - loss: 1.0104e-05 - mean_squared_error: 1.5908e-10 - keras_psnr: 26.4133 - keras_ssim: 0.5035 - val_loss: 1.0211e-05 - val_mean_squared_error: 2.4589e-10 - val_keras_psnr: 27.4121 - val_keras_ssim: 0.5241\n"
     ]
    },
    {
     "data": {
      "application/vnd.jupyter.widget-view+json": {
       "model_id": "",
       "version_major": 2,
       "version_minor": 0
      },
      "text/plain": [
       "HBox(children=(IntProgress(value=0, description='Epoch 699', max=10, style=ProgressStyle(description_width='in…"
      ]
     },
     "metadata": {},
     "output_type": "display_data"
    },
    {
     "name": "stdout",
     "output_type": "stream",
     "text": [
      "Epoch 700/1000\n",
      "10/10 - 28s - loss: 1.0280e-05 - mean_squared_error: 2.4673e-10 - keras_psnr: 27.4176 - keras_ssim: 0.5600 - val_loss: 1.0204e-05 - val_mean_squared_error: 2.4529e-10 - val_keras_psnr: 27.4037 - val_keras_ssim: 0.5237\n"
     ]
    },
    {
     "data": {
      "application/vnd.jupyter.widget-view+json": {
       "model_id": "",
       "version_major": 2,
       "version_minor": 0
      },
      "text/plain": [
       "HBox(children=(IntProgress(value=0, description='Epoch 700', max=10, style=ProgressStyle(description_width='in…"
      ]
     },
     "metadata": {},
     "output_type": "display_data"
    },
    {
     "name": "stdout",
     "output_type": "stream",
     "text": [
      "Epoch 701/1000\n",
      "10/10 - 28s - loss: 1.2968e-05 - mean_squared_error: 2.6097e-10 - keras_psnr: 26.1031 - keras_ssim: 0.4928 - val_loss: 1.0199e-05 - val_mean_squared_error: 2.4541e-10 - val_keras_psnr: 27.4119 - val_keras_ssim: 0.5240\n"
     ]
    },
    {
     "data": {
      "application/vnd.jupyter.widget-view+json": {
       "model_id": "",
       "version_major": 2,
       "version_minor": 0
      },
      "text/plain": [
       "HBox(children=(IntProgress(value=0, description='Epoch 701', max=10, style=ProgressStyle(description_width='in…"
      ]
     },
     "metadata": {},
     "output_type": "display_data"
    },
    {
     "name": "stdout",
     "output_type": "stream",
     "text": [
      "Epoch 702/1000\n",
      "10/10 - 28s - loss: 1.2068e-05 - mean_squared_error: 7.7421e-10 - keras_psnr: 22.9291 - keras_ssim: 0.3978 - val_loss: 1.0220e-05 - val_mean_squared_error: 2.4706e-10 - val_keras_psnr: 27.3981 - val_keras_ssim: 0.5240\n"
     ]
    },
    {
     "data": {
      "application/vnd.jupyter.widget-view+json": {
       "model_id": "",
       "version_major": 2,
       "version_minor": 0
      },
      "text/plain": [
       "HBox(children=(IntProgress(value=0, description='Epoch 702', max=10, style=ProgressStyle(description_width='in…"
      ]
     },
     "metadata": {},
     "output_type": "display_data"
    },
    {
     "name": "stdout",
     "output_type": "stream",
     "text": [
      "Epoch 703/1000\n",
      "10/10 - 28s - loss: 1.1210e-05 - mean_squared_error: 2.3827e-10 - keras_psnr: 26.8014 - keras_ssim: 0.5315 - val_loss: 1.0206e-05 - val_mean_squared_error: 2.4594e-10 - val_keras_psnr: 27.4058 - val_keras_ssim: 0.5240\n"
     ]
    },
    {
     "data": {
      "application/vnd.jupyter.widget-view+json": {
       "model_id": "",
       "version_major": 2,
       "version_minor": 0
      },
      "text/plain": [
       "HBox(children=(IntProgress(value=0, description='Epoch 703', max=10, style=ProgressStyle(description_width='in…"
      ]
     },
     "metadata": {},
     "output_type": "display_data"
    },
    {
     "name": "stdout",
     "output_type": "stream",
     "text": [
      "Epoch 704/1000\n",
      "10/10 - 28s - loss: 1.5816e-05 - mean_squared_error: 4.1584e-10 - keras_psnr: 26.6485 - keras_ssim: 0.5371 - val_loss: 1.0207e-05 - val_mean_squared_error: 2.4626e-10 - val_keras_psnr: 27.4054 - val_keras_ssim: 0.5241\n"
     ]
    },
    {
     "data": {
      "application/vnd.jupyter.widget-view+json": {
       "model_id": "",
       "version_major": 2,
       "version_minor": 0
      },
      "text/plain": [
       "HBox(children=(IntProgress(value=0, description='Epoch 704', max=10, style=ProgressStyle(description_width='in…"
      ]
     },
     "metadata": {},
     "output_type": "display_data"
    },
    {
     "name": "stdout",
     "output_type": "stream",
     "text": [
      "Epoch 705/1000\n",
      "10/10 - 28s - loss: 1.4032e-05 - mean_squared_error: 4.2929e-10 - keras_psnr: 27.5265 - keras_ssim: 0.5986 - val_loss: 1.0223e-05 - val_mean_squared_error: 2.4684e-10 - val_keras_psnr: 27.3882 - val_keras_ssim: 0.5234\n"
     ]
    },
    {
     "data": {
      "application/vnd.jupyter.widget-view+json": {
       "model_id": "",
       "version_major": 2,
       "version_minor": 0
      },
      "text/plain": [
       "HBox(children=(IntProgress(value=0, description='Epoch 705', max=10, style=ProgressStyle(description_width='in…"
      ]
     },
     "metadata": {},
     "output_type": "display_data"
    },
    {
     "name": "stdout",
     "output_type": "stream",
     "text": [
      "Epoch 706/1000\n",
      "10/10 - 28s - loss: 1.3448e-05 - mean_squared_error: 2.3452e-10 - keras_psnr: 26.1870 - keras_ssim: 0.4913 - val_loss: 1.0198e-05 - val_mean_squared_error: 2.4517e-10 - val_keras_psnr: 27.4078 - val_keras_ssim: 0.5239\n"
     ]
    },
    {
     "data": {
      "application/vnd.jupyter.widget-view+json": {
       "model_id": "",
       "version_major": 2,
       "version_minor": 0
      },
      "text/plain": [
       "HBox(children=(IntProgress(value=0, description='Epoch 706', max=10, style=ProgressStyle(description_width='in…"
      ]
     },
     "metadata": {},
     "output_type": "display_data"
    },
    {
     "name": "stdout",
     "output_type": "stream",
     "text": [
      "Epoch 707/1000\n",
      "10/10 - 28s - loss: 1.0170e-05 - mean_squared_error: 2.1782e-10 - keras_psnr: 26.0213 - keras_ssim: 0.4607 - val_loss: 1.0206e-05 - val_mean_squared_error: 2.4588e-10 - val_keras_psnr: 27.4041 - val_keras_ssim: 0.5238\n"
     ]
    },
    {
     "data": {
      "application/vnd.jupyter.widget-view+json": {
       "model_id": "",
       "version_major": 2,
       "version_minor": 0
      },
      "text/plain": [
       "HBox(children=(IntProgress(value=0, description='Epoch 707', max=10, style=ProgressStyle(description_width='in…"
      ]
     },
     "metadata": {},
     "output_type": "display_data"
    },
    {
     "name": "stdout",
     "output_type": "stream",
     "text": [
      "Epoch 708/1000\n",
      "10/10 - 28s - loss: 1.1243e-05 - mean_squared_error: 4.0500e-10 - keras_psnr: 25.0224 - keras_ssim: 0.4371 - val_loss: 1.0204e-05 - val_mean_squared_error: 2.4506e-10 - val_keras_psnr: 27.4114 - val_keras_ssim: 0.5240\n"
     ]
    },
    {
     "data": {
      "application/vnd.jupyter.widget-view+json": {
       "model_id": "",
       "version_major": 2,
       "version_minor": 0
      },
      "text/plain": [
       "HBox(children=(IntProgress(value=0, description='Epoch 708', max=10, style=ProgressStyle(description_width='in…"
      ]
     },
     "metadata": {},
     "output_type": "display_data"
    },
    {
     "name": "stdout",
     "output_type": "stream",
     "text": [
      "Epoch 709/1000\n",
      "10/10 - 27s - loss: 1.3807e-05 - mean_squared_error: 4.0215e-10 - keras_psnr: 26.9783 - keras_ssim: 0.5826 - val_loss: 1.0197e-05 - val_mean_squared_error: 2.4476e-10 - val_keras_psnr: 27.4093 - val_keras_ssim: 0.5239\n"
     ]
    },
    {
     "data": {
      "application/vnd.jupyter.widget-view+json": {
       "model_id": "",
       "version_major": 2,
       "version_minor": 0
      },
      "text/plain": [
       "HBox(children=(IntProgress(value=0, description='Epoch 709', max=10, style=ProgressStyle(description_width='in…"
      ]
     },
     "metadata": {},
     "output_type": "display_data"
    },
    {
     "name": "stdout",
     "output_type": "stream",
     "text": [
      "Epoch 710/1000\n",
      "10/10 - 28s - loss: 1.1272e-05 - mean_squared_error: 2.2700e-10 - keras_psnr: 27.3064 - keras_ssim: 0.5588 - val_loss: 1.0200e-05 - val_mean_squared_error: 2.4576e-10 - val_keras_psnr: 27.4034 - val_keras_ssim: 0.5240\n"
     ]
    },
    {
     "data": {
      "application/vnd.jupyter.widget-view+json": {
       "model_id": "",
       "version_major": 2,
       "version_minor": 0
      },
      "text/plain": [
       "HBox(children=(IntProgress(value=0, description='Epoch 710', max=10, style=ProgressStyle(description_width='in…"
      ]
     },
     "metadata": {},
     "output_type": "display_data"
    },
    {
     "name": "stdout",
     "output_type": "stream",
     "text": [
      "Epoch 711/1000\n",
      "10/10 - 28s - loss: 1.0876e-05 - mean_squared_error: 4.0218e-10 - keras_psnr: 27.0507 - keras_ssim: 0.5551 - val_loss: 1.0197e-05 - val_mean_squared_error: 2.4553e-10 - val_keras_psnr: 27.4129 - val_keras_ssim: 0.5243\n"
     ]
    },
    {
     "data": {
      "application/vnd.jupyter.widget-view+json": {
       "model_id": "",
       "version_major": 2,
       "version_minor": 0
      },
      "text/plain": [
       "HBox(children=(IntProgress(value=0, description='Epoch 711', max=10, style=ProgressStyle(description_width='in…"
      ]
     },
     "metadata": {},
     "output_type": "display_data"
    },
    {
     "name": "stdout",
     "output_type": "stream",
     "text": [
      "Epoch 712/1000\n",
      "10/10 - 28s - loss: 1.1959e-05 - mean_squared_error: 2.9770e-10 - keras_psnr: 27.2770 - keras_ssim: 0.5383 - val_loss: 1.0204e-05 - val_mean_squared_error: 2.4614e-10 - val_keras_psnr: 27.4113 - val_keras_ssim: 0.5244\n"
     ]
    },
    {
     "data": {
      "application/vnd.jupyter.widget-view+json": {
       "model_id": "",
       "version_major": 2,
       "version_minor": 0
      },
      "text/plain": [
       "HBox(children=(IntProgress(value=0, description='Epoch 712', max=10, style=ProgressStyle(description_width='in…"
      ]
     },
     "metadata": {},
     "output_type": "display_data"
    },
    {
     "name": "stdout",
     "output_type": "stream",
     "text": [
      "Epoch 713/1000\n",
      "10/10 - 28s - loss: 8.1807e-06 - mean_squared_error: 1.3864e-10 - keras_psnr: 27.0503 - keras_ssim: 0.5131 - val_loss: 1.0208e-05 - val_mean_squared_error: 2.4605e-10 - val_keras_psnr: 27.3959 - val_keras_ssim: 0.5237\n"
     ]
    },
    {
     "data": {
      "application/vnd.jupyter.widget-view+json": {
       "model_id": "",
       "version_major": 2,
       "version_minor": 0
      },
      "text/plain": [
       "HBox(children=(IntProgress(value=0, description='Epoch 713', max=10, style=ProgressStyle(description_width='in…"
      ]
     },
     "metadata": {},
     "output_type": "display_data"
    },
    {
     "name": "stdout",
     "output_type": "stream",
     "text": [
      "Epoch 714/1000\n",
      "10/10 - 27s - loss: 1.1796e-05 - mean_squared_error: 3.7288e-10 - keras_psnr: 26.3446 - keras_ssim: 0.5197 - val_loss: 1.0205e-05 - val_mean_squared_error: 2.4619e-10 - val_keras_psnr: 27.4071 - val_keras_ssim: 0.5242\n"
     ]
    },
    {
     "data": {
      "application/vnd.jupyter.widget-view+json": {
       "model_id": "",
       "version_major": 2,
       "version_minor": 0
      },
      "text/plain": [
       "HBox(children=(IntProgress(value=0, description='Epoch 714', max=10, style=ProgressStyle(description_width='in…"
      ]
     },
     "metadata": {},
     "output_type": "display_data"
    },
    {
     "name": "stdout",
     "output_type": "stream",
     "text": [
      "Epoch 715/1000\n",
      "10/10 - 28s - loss: 1.2101e-05 - mean_squared_error: 4.2733e-10 - keras_psnr: 27.7158 - keras_ssim: 0.6346 - val_loss: 1.0197e-05 - val_mean_squared_error: 2.4530e-10 - val_keras_psnr: 27.4027 - val_keras_ssim: 0.5240\n"
     ]
    },
    {
     "data": {
      "application/vnd.jupyter.widget-view+json": {
       "model_id": "",
       "version_major": 2,
       "version_minor": 0
      },
      "text/plain": [
       "HBox(children=(IntProgress(value=0, description='Epoch 715', max=10, style=ProgressStyle(description_width='in…"
      ]
     },
     "metadata": {},
     "output_type": "display_data"
    },
    {
     "name": "stdout",
     "output_type": "stream",
     "text": [
      "Epoch 716/1000\n",
      "10/10 - 28s - loss: 1.0547e-05 - mean_squared_error: 2.2114e-10 - keras_psnr: 27.6458 - keras_ssim: 0.5503 - val_loss: 1.0198e-05 - val_mean_squared_error: 2.4544e-10 - val_keras_psnr: 27.4100 - val_keras_ssim: 0.5242\n"
     ]
    },
    {
     "data": {
      "application/vnd.jupyter.widget-view+json": {
       "model_id": "",
       "version_major": 2,
       "version_minor": 0
      },
      "text/plain": [
       "HBox(children=(IntProgress(value=0, description='Epoch 716', max=10, style=ProgressStyle(description_width='in…"
      ]
     },
     "metadata": {},
     "output_type": "display_data"
    },
    {
     "name": "stdout",
     "output_type": "stream",
     "text": [
      "Epoch 717/1000\n",
      "10/10 - 28s - loss: 1.0818e-05 - mean_squared_error: 2.1420e-10 - keras_psnr: 27.1845 - keras_ssim: 0.5451 - val_loss: 1.0192e-05 - val_mean_squared_error: 2.4513e-10 - val_keras_psnr: 27.4181 - val_keras_ssim: 0.5245\n"
     ]
    },
    {
     "data": {
      "application/vnd.jupyter.widget-view+json": {
       "model_id": "",
       "version_major": 2,
       "version_minor": 0
      },
      "text/plain": [
       "HBox(children=(IntProgress(value=0, description='Epoch 717', max=10, style=ProgressStyle(description_width='in…"
      ]
     },
     "metadata": {},
     "output_type": "display_data"
    },
    {
     "name": "stdout",
     "output_type": "stream",
     "text": [
      "Epoch 718/1000\n",
      "10/10 - 29s - loss: 1.4380e-05 - mean_squared_error: 6.6773e-10 - keras_psnr: 27.0029 - keras_ssim: 0.6107 - val_loss: 1.0203e-05 - val_mean_squared_error: 2.4618e-10 - val_keras_psnr: 27.4036 - val_keras_ssim: 0.5241\n"
     ]
    },
    {
     "data": {
      "application/vnd.jupyter.widget-view+json": {
       "model_id": "",
       "version_major": 2,
       "version_minor": 0
      },
      "text/plain": [
       "HBox(children=(IntProgress(value=0, description='Epoch 718', max=10, style=ProgressStyle(description_width='in…"
      ]
     },
     "metadata": {},
     "output_type": "display_data"
    },
    {
     "name": "stdout",
     "output_type": "stream",
     "text": [
      "Epoch 719/1000\n",
      "10/10 - 28s - loss: 1.3485e-05 - mean_squared_error: 4.4227e-10 - keras_psnr: 27.6132 - keras_ssim: 0.6171 - val_loss: 1.0190e-05 - val_mean_squared_error: 2.4532e-10 - val_keras_psnr: 27.4173 - val_keras_ssim: 0.5245\n"
     ]
    },
    {
     "data": {
      "application/vnd.jupyter.widget-view+json": {
       "model_id": "",
       "version_major": 2,
       "version_minor": 0
      },
      "text/plain": [
       "HBox(children=(IntProgress(value=0, description='Epoch 719', max=10, style=ProgressStyle(description_width='in…"
      ]
     },
     "metadata": {},
     "output_type": "display_data"
    },
    {
     "name": "stdout",
     "output_type": "stream",
     "text": [
      "Epoch 720/1000\n",
      "10/10 - 28s - loss: 1.2706e-05 - mean_squared_error: 6.8724e-10 - keras_psnr: 26.5941 - keras_ssim: 0.5577 - val_loss: 1.0177e-05 - val_mean_squared_error: 2.4469e-10 - val_keras_psnr: 27.4338 - val_keras_ssim: 0.5251\n"
     ]
    },
    {
     "data": {
      "application/vnd.jupyter.widget-view+json": {
       "model_id": "",
       "version_major": 2,
       "version_minor": 0
      },
      "text/plain": [
       "HBox(children=(IntProgress(value=0, description='Epoch 720', max=10, style=ProgressStyle(description_width='in…"
      ]
     },
     "metadata": {},
     "output_type": "display_data"
    },
    {
     "name": "stdout",
     "output_type": "stream",
     "text": [
      "Epoch 721/1000\n",
      "10/10 - 28s - loss: 9.2682e-06 - mean_squared_error: 1.4413e-10 - keras_psnr: 25.9917 - keras_ssim: 0.4572 - val_loss: 1.0196e-05 - val_mean_squared_error: 2.4587e-10 - val_keras_psnr: 27.4208 - val_keras_ssim: 0.5248\n"
     ]
    },
    {
     "data": {
      "application/vnd.jupyter.widget-view+json": {
       "model_id": "",
       "version_major": 2,
       "version_minor": 0
      },
      "text/plain": [
       "HBox(children=(IntProgress(value=0, description='Epoch 721', max=10, style=ProgressStyle(description_width='in…"
      ]
     },
     "metadata": {},
     "output_type": "display_data"
    },
    {
     "name": "stdout",
     "output_type": "stream",
     "text": [
      "Epoch 722/1000\n",
      "10/10 - 28s - loss: 8.6852e-06 - mean_squared_error: 1.4883e-10 - keras_psnr: 24.9759 - keras_ssim: 0.4103 - val_loss: 1.0191e-05 - val_mean_squared_error: 2.4566e-10 - val_keras_psnr: 27.4226 - val_keras_ssim: 0.5249\n"
     ]
    },
    {
     "data": {
      "application/vnd.jupyter.widget-view+json": {
       "model_id": "",
       "version_major": 2,
       "version_minor": 0
      },
      "text/plain": [
       "HBox(children=(IntProgress(value=0, description='Epoch 722', max=10, style=ProgressStyle(description_width='in…"
      ]
     },
     "metadata": {},
     "output_type": "display_data"
    },
    {
     "name": "stdout",
     "output_type": "stream",
     "text": [
      "Epoch 723/1000\n",
      "10/10 - 28s - loss: 1.2633e-05 - mean_squared_error: 3.8575e-10 - keras_psnr: 26.2939 - keras_ssim: 0.5070 - val_loss: 1.0168e-05 - val_mean_squared_error: 2.4327e-10 - val_keras_psnr: 27.4293 - val_keras_ssim: 0.5249\n"
     ]
    },
    {
     "data": {
      "application/vnd.jupyter.widget-view+json": {
       "model_id": "",
       "version_major": 2,
       "version_minor": 0
      },
      "text/plain": [
       "HBox(children=(IntProgress(value=0, description='Epoch 723', max=10, style=ProgressStyle(description_width='in…"
      ]
     },
     "metadata": {},
     "output_type": "display_data"
    },
    {
     "name": "stdout",
     "output_type": "stream",
     "text": [
      "Epoch 724/1000\n",
      "10/10 - 28s - loss: 2.9218e-05 - mean_squared_error: 6.3013e-09 - keras_psnr: 25.3217 - keras_ssim: 0.5461 - val_loss: 1.0191e-05 - val_mean_squared_error: 2.4495e-10 - val_keras_psnr: 27.4082 - val_keras_ssim: 0.5242\n"
     ]
    },
    {
     "data": {
      "application/vnd.jupyter.widget-view+json": {
       "model_id": "",
       "version_major": 2,
       "version_minor": 0
      },
      "text/plain": [
       "HBox(children=(IntProgress(value=0, description='Epoch 724', max=10, style=ProgressStyle(description_width='in…"
      ]
     },
     "metadata": {},
     "output_type": "display_data"
    },
    {
     "name": "stdout",
     "output_type": "stream",
     "text": [
      "Epoch 725/1000\n",
      "10/10 - 28s - loss: 1.7918e-05 - mean_squared_error: 1.6328e-09 - keras_psnr: 24.6382 - keras_ssim: 0.5292 - val_loss: 1.0179e-05 - val_mean_squared_error: 2.4423e-10 - val_keras_psnr: 27.4185 - val_keras_ssim: 0.5243\n"
     ]
    },
    {
     "data": {
      "application/vnd.jupyter.widget-view+json": {
       "model_id": "",
       "version_major": 2,
       "version_minor": 0
      },
      "text/plain": [
       "HBox(children=(IntProgress(value=0, description='Epoch 725', max=10, style=ProgressStyle(description_width='in…"
      ]
     },
     "metadata": {},
     "output_type": "display_data"
    },
    {
     "name": "stdout",
     "output_type": "stream",
     "text": [
      "Epoch 726/1000\n",
      "10/10 - 28s - loss: 9.6769e-06 - mean_squared_error: 1.8633e-10 - keras_psnr: 26.4021 - keras_ssim: 0.4853 - val_loss: 1.0176e-05 - val_mean_squared_error: 2.4442e-10 - val_keras_psnr: 27.4358 - val_keras_ssim: 0.5249\n"
     ]
    },
    {
     "data": {
      "application/vnd.jupyter.widget-view+json": {
       "model_id": "",
       "version_major": 2,
       "version_minor": 0
      },
      "text/plain": [
       "HBox(children=(IntProgress(value=0, description='Epoch 726', max=10, style=ProgressStyle(description_width='in…"
      ]
     },
     "metadata": {},
     "output_type": "display_data"
    },
    {
     "name": "stdout",
     "output_type": "stream",
     "text": [
      "Epoch 727/1000\n",
      "10/10 - 28s - loss: 1.1328e-05 - mean_squared_error: 2.7690e-10 - keras_psnr: 26.1022 - keras_ssim: 0.4973 - val_loss: 1.0177e-05 - val_mean_squared_error: 2.4449e-10 - val_keras_psnr: 27.4328 - val_keras_ssim: 0.5247\n"
     ]
    },
    {
     "data": {
      "application/vnd.jupyter.widget-view+json": {
       "model_id": "",
       "version_major": 2,
       "version_minor": 0
      },
      "text/plain": [
       "HBox(children=(IntProgress(value=0, description='Epoch 727', max=10, style=ProgressStyle(description_width='in…"
      ]
     },
     "metadata": {},
     "output_type": "display_data"
    },
    {
     "name": "stdout",
     "output_type": "stream",
     "text": [
      "Epoch 728/1000\n",
      "10/10 - 28s - loss: 1.2683e-05 - mean_squared_error: 3.5411e-10 - keras_psnr: 24.9259 - keras_ssim: 0.4476 - val_loss: 1.0192e-05 - val_mean_squared_error: 2.4578e-10 - val_keras_psnr: 27.4111 - val_keras_ssim: 0.5243\n"
     ]
    },
    {
     "data": {
      "application/vnd.jupyter.widget-view+json": {
       "model_id": "",
       "version_major": 2,
       "version_minor": 0
      },
      "text/plain": [
       "HBox(children=(IntProgress(value=0, description='Epoch 728', max=10, style=ProgressStyle(description_width='in…"
      ]
     },
     "metadata": {},
     "output_type": "display_data"
    },
    {
     "name": "stdout",
     "output_type": "stream",
     "text": [
      "Epoch 729/1000\n",
      "10/10 - 28s - loss: 9.1622e-06 - mean_squared_error: 1.4332e-10 - keras_psnr: 26.3314 - keras_ssim: 0.4728 - val_loss: 1.0178e-05 - val_mean_squared_error: 2.4470e-10 - val_keras_psnr: 27.4202 - val_keras_ssim: 0.5245\n"
     ]
    },
    {
     "data": {
      "application/vnd.jupyter.widget-view+json": {
       "model_id": "",
       "version_major": 2,
       "version_minor": 0
      },
      "text/plain": [
       "HBox(children=(IntProgress(value=0, description='Epoch 729', max=10, style=ProgressStyle(description_width='in…"
      ]
     },
     "metadata": {},
     "output_type": "display_data"
    },
    {
     "name": "stdout",
     "output_type": "stream",
     "text": [
      "Epoch 730/1000\n",
      "10/10 - 28s - loss: 1.4218e-05 - mean_squared_error: 4.9567e-10 - keras_psnr: 26.0932 - keras_ssim: 0.5435 - val_loss: 1.0189e-05 - val_mean_squared_error: 2.4527e-10 - val_keras_psnr: 27.4134 - val_keras_ssim: 0.5242\n"
     ]
    },
    {
     "data": {
      "application/vnd.jupyter.widget-view+json": {
       "model_id": "",
       "version_major": 2,
       "version_minor": 0
      },
      "text/plain": [
       "HBox(children=(IntProgress(value=0, description='Epoch 730', max=10, style=ProgressStyle(description_width='in…"
      ]
     },
     "metadata": {},
     "output_type": "display_data"
    },
    {
     "name": "stdout",
     "output_type": "stream",
     "text": [
      "Epoch 731/1000\n",
      "10/10 - 28s - loss: 9.5628e-06 - mean_squared_error: 3.3819e-10 - keras_psnr: 26.5260 - keras_ssim: 0.4931 - val_loss: 1.0178e-05 - val_mean_squared_error: 2.4503e-10 - val_keras_psnr: 27.4322 - val_keras_ssim: 0.5250\n"
     ]
    },
    {
     "data": {
      "application/vnd.jupyter.widget-view+json": {
       "model_id": "",
       "version_major": 2,
       "version_minor": 0
      },
      "text/plain": [
       "HBox(children=(IntProgress(value=0, description='Epoch 731', max=10, style=ProgressStyle(description_width='in…"
      ]
     },
     "metadata": {},
     "output_type": "display_data"
    },
    {
     "name": "stdout",
     "output_type": "stream",
     "text": [
      "Epoch 732/1000\n",
      "10/10 - 28s - loss: 1.5299e-05 - mean_squared_error: 1.6012e-09 - keras_psnr: 25.7344 - keras_ssim: 0.5824 - val_loss: 1.0151e-05 - val_mean_squared_error: 2.4240e-10 - val_keras_psnr: 27.4399 - val_keras_ssim: 0.5251\n"
     ]
    },
    {
     "data": {
      "application/vnd.jupyter.widget-view+json": {
       "model_id": "",
       "version_major": 2,
       "version_minor": 0
      },
      "text/plain": [
       "HBox(children=(IntProgress(value=0, description='Epoch 732', max=10, style=ProgressStyle(description_width='in…"
      ]
     },
     "metadata": {},
     "output_type": "display_data"
    },
    {
     "name": "stdout",
     "output_type": "stream",
     "text": [
      "Epoch 733/1000\n",
      "10/10 - 28s - loss: 1.3484e-05 - mean_squared_error: 4.0330e-10 - keras_psnr: 26.2069 - keras_ssim: 0.5372 - val_loss: 1.0159e-05 - val_mean_squared_error: 2.4404e-10 - val_keras_psnr: 27.4421 - val_keras_ssim: 0.5254\n"
     ]
    },
    {
     "data": {
      "application/vnd.jupyter.widget-view+json": {
       "model_id": "",
       "version_major": 2,
       "version_minor": 0
      },
      "text/plain": [
       "HBox(children=(IntProgress(value=0, description='Epoch 733', max=10, style=ProgressStyle(description_width='in…"
      ]
     },
     "metadata": {},
     "output_type": "display_data"
    },
    {
     "name": "stdout",
     "output_type": "stream",
     "text": [
      "Epoch 734/1000\n",
      "10/10 - 28s - loss: 1.0671e-05 - mean_squared_error: 3.3134e-10 - keras_psnr: 26.9157 - keras_ssim: 0.5466 - val_loss: 1.0166e-05 - val_mean_squared_error: 2.4462e-10 - val_keras_psnr: 27.4396 - val_keras_ssim: 0.5254\n"
     ]
    },
    {
     "data": {
      "application/vnd.jupyter.widget-view+json": {
       "model_id": "",
       "version_major": 2,
       "version_minor": 0
      },
      "text/plain": [
       "HBox(children=(IntProgress(value=0, description='Epoch 734', max=10, style=ProgressStyle(description_width='in…"
      ]
     },
     "metadata": {},
     "output_type": "display_data"
    },
    {
     "name": "stdout",
     "output_type": "stream",
     "text": [
      "Epoch 735/1000\n",
      "10/10 - 28s - loss: 1.0850e-05 - mean_squared_error: 1.7829e-10 - keras_psnr: 26.5164 - keras_ssim: 0.4777 - val_loss: 1.0160e-05 - val_mean_squared_error: 2.4438e-10 - val_keras_psnr: 27.4440 - val_keras_ssim: 0.5255\n"
     ]
    },
    {
     "data": {
      "application/vnd.jupyter.widget-view+json": {
       "model_id": "",
       "version_major": 2,
       "version_minor": 0
      },
      "text/plain": [
       "HBox(children=(IntProgress(value=0, description='Epoch 735', max=10, style=ProgressStyle(description_width='in…"
      ]
     },
     "metadata": {},
     "output_type": "display_data"
    },
    {
     "name": "stdout",
     "output_type": "stream",
     "text": [
      "Epoch 736/1000\n",
      "10/10 - 28s - loss: 1.5741e-05 - mean_squared_error: 5.2647e-10 - keras_psnr: 26.0130 - keras_ssim: 0.4999 - val_loss: 1.0181e-05 - val_mean_squared_error: 2.4548e-10 - val_keras_psnr: 27.4324 - val_keras_ssim: 0.5253\n"
     ]
    },
    {
     "data": {
      "application/vnd.jupyter.widget-view+json": {
       "model_id": "",
       "version_major": 2,
       "version_minor": 0
      },
      "text/plain": [
       "HBox(children=(IntProgress(value=0, description='Epoch 736', max=10, style=ProgressStyle(description_width='in…"
      ]
     },
     "metadata": {},
     "output_type": "display_data"
    },
    {
     "name": "stdout",
     "output_type": "stream",
     "text": [
      "Epoch 737/1000\n",
      "10/10 - 28s - loss: 1.2937e-05 - mean_squared_error: 4.5083e-10 - keras_psnr: 27.0185 - keras_ssim: 0.5647 - val_loss: 1.0169e-05 - val_mean_squared_error: 2.4413e-10 - val_keras_psnr: 27.4342 - val_keras_ssim: 0.5251\n"
     ]
    },
    {
     "data": {
      "application/vnd.jupyter.widget-view+json": {
       "model_id": "",
       "version_major": 2,
       "version_minor": 0
      },
      "text/plain": [
       "HBox(children=(IntProgress(value=0, description='Epoch 737', max=10, style=ProgressStyle(description_width='in…"
      ]
     },
     "metadata": {},
     "output_type": "display_data"
    },
    {
     "name": "stdout",
     "output_type": "stream",
     "text": [
      "Epoch 738/1000\n",
      "10/10 - 28s - loss: 1.1890e-05 - mean_squared_error: 3.4000e-10 - keras_psnr: 26.4722 - keras_ssim: 0.5517 - val_loss: 1.0189e-05 - val_mean_squared_error: 2.4595e-10 - val_keras_psnr: 27.4106 - val_keras_ssim: 0.5246\n"
     ]
    },
    {
     "data": {
      "application/vnd.jupyter.widget-view+json": {
       "model_id": "",
       "version_major": 2,
       "version_minor": 0
      },
      "text/plain": [
       "HBox(children=(IntProgress(value=0, description='Epoch 738', max=10, style=ProgressStyle(description_width='in…"
      ]
     },
     "metadata": {},
     "output_type": "display_data"
    },
    {
     "name": "stdout",
     "output_type": "stream",
     "text": [
      "Epoch 739/1000\n",
      "10/10 - 28s - loss: 1.2940e-05 - mean_squared_error: 4.9778e-10 - keras_psnr: 26.6661 - keras_ssim: 0.5530 - val_loss: 1.0158e-05 - val_mean_squared_error: 2.4403e-10 - val_keras_psnr: 27.4385 - val_keras_ssim: 0.5253\n"
     ]
    },
    {
     "data": {
      "application/vnd.jupyter.widget-view+json": {
       "model_id": "",
       "version_major": 2,
       "version_minor": 0
      },
      "text/plain": [
       "HBox(children=(IntProgress(value=0, description='Epoch 739', max=10, style=ProgressStyle(description_width='in…"
      ]
     },
     "metadata": {},
     "output_type": "display_data"
    },
    {
     "name": "stdout",
     "output_type": "stream",
     "text": [
      "Epoch 740/1000\n",
      "10/10 - 28s - loss: 1.3786e-05 - mean_squared_error: 8.4185e-10 - keras_psnr: 24.6313 - keras_ssim: 0.4354 - val_loss: 1.0161e-05 - val_mean_squared_error: 2.4361e-10 - val_keras_psnr: 27.4491 - val_keras_ssim: 0.5257\n"
     ]
    },
    {
     "data": {
      "application/vnd.jupyter.widget-view+json": {
       "model_id": "",
       "version_major": 2,
       "version_minor": 0
      },
      "text/plain": [
       "HBox(children=(IntProgress(value=0, description='Epoch 740', max=10, style=ProgressStyle(description_width='in…"
      ]
     },
     "metadata": {},
     "output_type": "display_data"
    },
    {
     "name": "stdout",
     "output_type": "stream",
     "text": [
      "Epoch 741/1000\n",
      "10/10 - 28s - loss: 1.1256e-05 - mean_squared_error: 2.0363e-10 - keras_psnr: 26.3470 - keras_ssim: 0.5101 - val_loss: 1.0164e-05 - val_mean_squared_error: 2.4442e-10 - val_keras_psnr: 27.4471 - val_keras_ssim: 0.5256\n"
     ]
    },
    {
     "data": {
      "application/vnd.jupyter.widget-view+json": {
       "model_id": "",
       "version_major": 2,
       "version_minor": 0
      },
      "text/plain": [
       "HBox(children=(IntProgress(value=0, description='Epoch 741', max=10, style=ProgressStyle(description_width='in…"
      ]
     },
     "metadata": {},
     "output_type": "display_data"
    },
    {
     "name": "stdout",
     "output_type": "stream",
     "text": [
      "Epoch 742/1000\n",
      "10/10 - 28s - loss: 1.3282e-05 - mean_squared_error: 5.3433e-10 - keras_psnr: 24.8483 - keras_ssim: 0.4557 - val_loss: 1.0168e-05 - val_mean_squared_error: 2.4482e-10 - val_keras_psnr: 27.4303 - val_keras_ssim: 0.5251\n"
     ]
    },
    {
     "data": {
      "application/vnd.jupyter.widget-view+json": {
       "model_id": "",
       "version_major": 2,
       "version_minor": 0
      },
      "text/plain": [
       "HBox(children=(IntProgress(value=0, description='Epoch 742', max=10, style=ProgressStyle(description_width='in…"
      ]
     },
     "metadata": {},
     "output_type": "display_data"
    },
    {
     "name": "stdout",
     "output_type": "stream",
     "text": [
      "Epoch 743/1000\n",
      "10/10 - 28s - loss: 1.3835e-05 - mean_squared_error: 3.9522e-10 - keras_psnr: 26.9271 - keras_ssim: 0.5339 - val_loss: 1.0163e-05 - val_mean_squared_error: 2.4426e-10 - val_keras_psnr: 27.4291 - val_keras_ssim: 0.5251\n"
     ]
    },
    {
     "data": {
      "application/vnd.jupyter.widget-view+json": {
       "model_id": "",
       "version_major": 2,
       "version_minor": 0
      },
      "text/plain": [
       "HBox(children=(IntProgress(value=0, description='Epoch 743', max=10, style=ProgressStyle(description_width='in…"
      ]
     },
     "metadata": {},
     "output_type": "display_data"
    },
    {
     "name": "stdout",
     "output_type": "stream",
     "text": [
      "Epoch 744/1000\n",
      "10/10 - 28s - loss: 8.5162e-06 - mean_squared_error: 1.7858e-10 - keras_psnr: 26.5719 - keras_ssim: 0.4867 - val_loss: 1.0158e-05 - val_mean_squared_error: 2.4438e-10 - val_keras_psnr: 27.4398 - val_keras_ssim: 0.5254\n"
     ]
    },
    {
     "data": {
      "application/vnd.jupyter.widget-view+json": {
       "model_id": "",
       "version_major": 2,
       "version_minor": 0
      },
      "text/plain": [
       "HBox(children=(IntProgress(value=0, description='Epoch 744', max=10, style=ProgressStyle(description_width='in…"
      ]
     },
     "metadata": {},
     "output_type": "display_data"
    },
    {
     "name": "stdout",
     "output_type": "stream",
     "text": [
      "Epoch 745/1000\n",
      "10/10 - 27s - loss: 1.3664e-05 - mean_squared_error: 5.0593e-10 - keras_psnr: 25.8070 - keras_ssim: 0.5073 - val_loss: 1.0175e-05 - val_mean_squared_error: 2.4513e-10 - val_keras_psnr: 27.4270 - val_keras_ssim: 0.5250\n"
     ]
    },
    {
     "data": {
      "application/vnd.jupyter.widget-view+json": {
       "model_id": "",
       "version_major": 2,
       "version_minor": 0
      },
      "text/plain": [
       "HBox(children=(IntProgress(value=0, description='Epoch 745', max=10, style=ProgressStyle(description_width='in…"
      ]
     },
     "metadata": {},
     "output_type": "display_data"
    },
    {
     "name": "stdout",
     "output_type": "stream",
     "text": [
      "Epoch 746/1000\n",
      "10/10 - 27s - loss: 1.2264e-05 - mean_squared_error: 4.3412e-10 - keras_psnr: 27.9733 - keras_ssim: 0.6431 - val_loss: 1.0169e-05 - val_mean_squared_error: 2.4487e-10 - val_keras_psnr: 27.4274 - val_keras_ssim: 0.5250\n"
     ]
    },
    {
     "data": {
      "application/vnd.jupyter.widget-view+json": {
       "model_id": "",
       "version_major": 2,
       "version_minor": 0
      },
      "text/plain": [
       "HBox(children=(IntProgress(value=0, description='Epoch 746', max=10, style=ProgressStyle(description_width='in…"
      ]
     },
     "metadata": {},
     "output_type": "display_data"
    },
    {
     "name": "stdout",
     "output_type": "stream",
     "text": [
      "Epoch 747/1000\n",
      "10/10 - 29s - loss: 1.2229e-05 - mean_squared_error: 3.9032e-10 - keras_psnr: 28.0919 - keras_ssim: 0.5971 - val_loss: 1.0168e-05 - val_mean_squared_error: 2.4479e-10 - val_keras_psnr: 27.4262 - val_keras_ssim: 0.5252\n"
     ]
    },
    {
     "data": {
      "application/vnd.jupyter.widget-view+json": {
       "model_id": "",
       "version_major": 2,
       "version_minor": 0
      },
      "text/plain": [
       "HBox(children=(IntProgress(value=0, description='Epoch 747', max=10, style=ProgressStyle(description_width='in…"
      ]
     },
     "metadata": {},
     "output_type": "display_data"
    },
    {
     "name": "stdout",
     "output_type": "stream",
     "text": [
      "Epoch 748/1000\n",
      "10/10 - 28s - loss: 1.1913e-05 - mean_squared_error: 2.4380e-10 - keras_psnr: 26.9962 - keras_ssim: 0.5176 - val_loss: 1.0162e-05 - val_mean_squared_error: 2.4462e-10 - val_keras_psnr: 27.4362 - val_keras_ssim: 0.5255\n"
     ]
    },
    {
     "data": {
      "application/vnd.jupyter.widget-view+json": {
       "model_id": "",
       "version_major": 2,
       "version_minor": 0
      },
      "text/plain": [
       "HBox(children=(IntProgress(value=0, description='Epoch 748', max=10, style=ProgressStyle(description_width='in…"
      ]
     },
     "metadata": {},
     "output_type": "display_data"
    },
    {
     "name": "stdout",
     "output_type": "stream",
     "text": [
      "Epoch 749/1000\n",
      "10/10 - 28s - loss: 8.8151e-06 - mean_squared_error: 1.3294e-10 - keras_psnr: 25.4217 - keras_ssim: 0.4199 - val_loss: 1.0160e-05 - val_mean_squared_error: 2.4459e-10 - val_keras_psnr: 27.4422 - val_keras_ssim: 0.5258\n"
     ]
    },
    {
     "data": {
      "application/vnd.jupyter.widget-view+json": {
       "model_id": "",
       "version_major": 2,
       "version_minor": 0
      },
      "text/plain": [
       "HBox(children=(IntProgress(value=0, description='Epoch 749', max=10, style=ProgressStyle(description_width='in…"
      ]
     },
     "metadata": {},
     "output_type": "display_data"
    },
    {
     "name": "stdout",
     "output_type": "stream",
     "text": [
      "Epoch 750/1000\n",
      "10/10 - 28s - loss: 1.0273e-05 - mean_squared_error: 2.4824e-10 - keras_psnr: 28.3458 - keras_ssim: 0.5821 - val_loss: 1.0160e-05 - val_mean_squared_error: 2.4450e-10 - val_keras_psnr: 27.4362 - val_keras_ssim: 0.5255\n"
     ]
    },
    {
     "data": {
      "application/vnd.jupyter.widget-view+json": {
       "model_id": "",
       "version_major": 2,
       "version_minor": 0
      },
      "text/plain": [
       "HBox(children=(IntProgress(value=0, description='Epoch 750', max=10, style=ProgressStyle(description_width='in…"
      ]
     },
     "metadata": {},
     "output_type": "display_data"
    },
    {
     "name": "stdout",
     "output_type": "stream",
     "text": [
      "Epoch 751/1000\n",
      "10/10 - 28s - loss: 1.1208e-05 - mean_squared_error: 3.3275e-10 - keras_psnr: 26.1314 - keras_ssim: 0.5123 - val_loss: 1.0137e-05 - val_mean_squared_error: 2.4321e-10 - val_keras_psnr: 27.4553 - val_keras_ssim: 0.5260\n"
     ]
    },
    {
     "data": {
      "application/vnd.jupyter.widget-view+json": {
       "model_id": "",
       "version_major": 2,
       "version_minor": 0
      },
      "text/plain": [
       "HBox(children=(IntProgress(value=0, description='Epoch 751', max=10, style=ProgressStyle(description_width='in…"
      ]
     },
     "metadata": {},
     "output_type": "display_data"
    },
    {
     "name": "stdout",
     "output_type": "stream",
     "text": [
      "Epoch 752/1000\n",
      "10/10 - 28s - loss: 1.4356e-05 - mean_squared_error: 4.7086e-10 - keras_psnr: 25.2848 - keras_ssim: 0.4796 - val_loss: 1.0134e-05 - val_mean_squared_error: 2.4198e-10 - val_keras_psnr: 27.4553 - val_keras_ssim: 0.5260\n"
     ]
    },
    {
     "data": {
      "application/vnd.jupyter.widget-view+json": {
       "model_id": "",
       "version_major": 2,
       "version_minor": 0
      },
      "text/plain": [
       "HBox(children=(IntProgress(value=0, description='Epoch 752', max=10, style=ProgressStyle(description_width='in…"
      ]
     },
     "metadata": {},
     "output_type": "display_data"
    },
    {
     "name": "stdout",
     "output_type": "stream",
     "text": [
      "Epoch 753/1000\n",
      "10/10 - 28s - loss: 1.3523e-05 - mean_squared_error: 3.9426e-10 - keras_psnr: 24.8530 - keras_ssim: 0.4233 - val_loss: 1.0150e-05 - val_mean_squared_error: 2.4346e-10 - val_keras_psnr: 27.4393 - val_keras_ssim: 0.5255\n"
     ]
    },
    {
     "data": {
      "application/vnd.jupyter.widget-view+json": {
       "model_id": "",
       "version_major": 2,
       "version_minor": 0
      },
      "text/plain": [
       "HBox(children=(IntProgress(value=0, description='Epoch 753', max=10, style=ProgressStyle(description_width='in…"
      ]
     },
     "metadata": {},
     "output_type": "display_data"
    },
    {
     "name": "stdout",
     "output_type": "stream",
     "text": [
      "Epoch 754/1000\n",
      "10/10 - 28s - loss: 9.7746e-06 - mean_squared_error: 1.6751e-10 - keras_psnr: 27.6520 - keras_ssim: 0.5334 - val_loss: 1.0156e-05 - val_mean_squared_error: 2.4415e-10 - val_keras_psnr: 27.4350 - val_keras_ssim: 0.5253\n"
     ]
    },
    {
     "data": {
      "application/vnd.jupyter.widget-view+json": {
       "model_id": "",
       "version_major": 2,
       "version_minor": 0
      },
      "text/plain": [
       "HBox(children=(IntProgress(value=0, description='Epoch 754', max=10, style=ProgressStyle(description_width='in…"
      ]
     },
     "metadata": {},
     "output_type": "display_data"
    },
    {
     "name": "stdout",
     "output_type": "stream",
     "text": [
      "Epoch 755/1000\n",
      "10/10 - 28s - loss: 1.4055e-05 - mean_squared_error: 4.6640e-10 - keras_psnr: 25.3463 - keras_ssim: 0.5014 - val_loss: 1.0162e-05 - val_mean_squared_error: 2.4429e-10 - val_keras_psnr: 27.4335 - val_keras_ssim: 0.5253\n"
     ]
    },
    {
     "data": {
      "application/vnd.jupyter.widget-view+json": {
       "model_id": "",
       "version_major": 2,
       "version_minor": 0
      },
      "text/plain": [
       "HBox(children=(IntProgress(value=0, description='Epoch 755', max=10, style=ProgressStyle(description_width='in…"
      ]
     },
     "metadata": {},
     "output_type": "display_data"
    },
    {
     "name": "stdout",
     "output_type": "stream",
     "text": [
      "Epoch 756/1000\n",
      "10/10 - 28s - loss: 1.2557e-05 - mean_squared_error: 2.9181e-10 - keras_psnr: 27.1300 - keras_ssim: 0.5596 - val_loss: 1.0152e-05 - val_mean_squared_error: 2.4377e-10 - val_keras_psnr: 27.4373 - val_keras_ssim: 0.5256\n"
     ]
    },
    {
     "data": {
      "application/vnd.jupyter.widget-view+json": {
       "model_id": "",
       "version_major": 2,
       "version_minor": 0
      },
      "text/plain": [
       "HBox(children=(IntProgress(value=0, description='Epoch 756', max=10, style=ProgressStyle(description_width='in…"
      ]
     },
     "metadata": {},
     "output_type": "display_data"
    },
    {
     "name": "stdout",
     "output_type": "stream",
     "text": [
      "Epoch 757/1000\n",
      "10/10 - 28s - loss: 1.0647e-05 - mean_squared_error: 2.6944e-10 - keras_psnr: 25.6936 - keras_ssim: 0.5115 - val_loss: 1.0155e-05 - val_mean_squared_error: 2.4409e-10 - val_keras_psnr: 27.4343 - val_keras_ssim: 0.5254\n"
     ]
    },
    {
     "data": {
      "application/vnd.jupyter.widget-view+json": {
       "model_id": "",
       "version_major": 2,
       "version_minor": 0
      },
      "text/plain": [
       "HBox(children=(IntProgress(value=0, description='Epoch 757', max=10, style=ProgressStyle(description_width='in…"
      ]
     },
     "metadata": {},
     "output_type": "display_data"
    },
    {
     "name": "stdout",
     "output_type": "stream",
     "text": [
      "Epoch 758/1000\n",
      "10/10 - 28s - loss: 1.2655e-05 - mean_squared_error: 2.9708e-10 - keras_psnr: 25.7218 - keras_ssim: 0.4856 - val_loss: 1.0144e-05 - val_mean_squared_error: 2.4340e-10 - val_keras_psnr: 27.4557 - val_keras_ssim: 0.5263\n"
     ]
    },
    {
     "data": {
      "application/vnd.jupyter.widget-view+json": {
       "model_id": "",
       "version_major": 2,
       "version_minor": 0
      },
      "text/plain": [
       "HBox(children=(IntProgress(value=0, description='Epoch 758', max=10, style=ProgressStyle(description_width='in…"
      ]
     },
     "metadata": {},
     "output_type": "display_data"
    },
    {
     "name": "stdout",
     "output_type": "stream",
     "text": [
      "Epoch 759/1000\n",
      "10/10 - 28s - loss: 1.1137e-05 - mean_squared_error: 3.2346e-10 - keras_psnr: 27.0423 - keras_ssim: 0.5535 - val_loss: 1.0156e-05 - val_mean_squared_error: 2.4408e-10 - val_keras_psnr: 27.4426 - val_keras_ssim: 0.5257\n"
     ]
    },
    {
     "data": {
      "application/vnd.jupyter.widget-view+json": {
       "model_id": "",
       "version_major": 2,
       "version_minor": 0
      },
      "text/plain": [
       "HBox(children=(IntProgress(value=0, description='Epoch 759', max=10, style=ProgressStyle(description_width='in…"
      ]
     },
     "metadata": {},
     "output_type": "display_data"
    },
    {
     "name": "stdout",
     "output_type": "stream",
     "text": [
      "Epoch 760/1000\n",
      "10/10 - 28s - loss: 1.2273e-05 - mean_squared_error: 3.1163e-10 - keras_psnr: 27.5844 - keras_ssim: 0.5529 - val_loss: 1.0157e-05 - val_mean_squared_error: 2.4426e-10 - val_keras_psnr: 27.4409 - val_keras_ssim: 0.5257\n"
     ]
    },
    {
     "data": {
      "application/vnd.jupyter.widget-view+json": {
       "model_id": "",
       "version_major": 2,
       "version_minor": 0
      },
      "text/plain": [
       "HBox(children=(IntProgress(value=0, description='Epoch 760', max=10, style=ProgressStyle(description_width='in…"
      ]
     },
     "metadata": {},
     "output_type": "display_data"
    },
    {
     "name": "stdout",
     "output_type": "stream",
     "text": [
      "Epoch 761/1000\n",
      "10/10 - 28s - loss: 1.3287e-05 - mean_squared_error: 7.1694e-10 - keras_psnr: 25.9589 - keras_ssim: 0.5222 - val_loss: 1.0153e-05 - val_mean_squared_error: 2.4372e-10 - val_keras_psnr: 27.4459 - val_keras_ssim: 0.5258\n"
     ]
    },
    {
     "data": {
      "application/vnd.jupyter.widget-view+json": {
       "model_id": "",
       "version_major": 2,
       "version_minor": 0
      },
      "text/plain": [
       "HBox(children=(IntProgress(value=0, description='Epoch 761', max=10, style=ProgressStyle(description_width='in…"
      ]
     },
     "metadata": {},
     "output_type": "display_data"
    },
    {
     "name": "stdout",
     "output_type": "stream",
     "text": [
      "Epoch 762/1000\n",
      "10/10 - 28s - loss: 1.2642e-05 - mean_squared_error: 4.0050e-10 - keras_psnr: 27.8310 - keras_ssim: 0.5581 - val_loss: 1.0156e-05 - val_mean_squared_error: 2.4388e-10 - val_keras_psnr: 27.4341 - val_keras_ssim: 0.5254\n"
     ]
    },
    {
     "data": {
      "application/vnd.jupyter.widget-view+json": {
       "model_id": "",
       "version_major": 2,
       "version_minor": 0
      },
      "text/plain": [
       "HBox(children=(IntProgress(value=0, description='Epoch 762', max=10, style=ProgressStyle(description_width='in…"
      ]
     },
     "metadata": {},
     "output_type": "display_data"
    },
    {
     "name": "stdout",
     "output_type": "stream",
     "text": [
      "Epoch 763/1000\n",
      "10/10 - 28s - loss: 9.7640e-06 - mean_squared_error: 2.1487e-10 - keras_psnr: 26.4831 - keras_ssim: 0.4935 - val_loss: 1.0139e-05 - val_mean_squared_error: 2.4300e-10 - val_keras_psnr: 27.4507 - val_keras_ssim: 0.5261\n"
     ]
    },
    {
     "data": {
      "application/vnd.jupyter.widget-view+json": {
       "model_id": "",
       "version_major": 2,
       "version_minor": 0
      },
      "text/plain": [
       "HBox(children=(IntProgress(value=0, description='Epoch 763', max=10, style=ProgressStyle(description_width='in…"
      ]
     },
     "metadata": {},
     "output_type": "display_data"
    },
    {
     "name": "stdout",
     "output_type": "stream",
     "text": [
      "Epoch 764/1000\n",
      "10/10 - 28s - loss: 1.4182e-05 - mean_squared_error: 6.7810e-10 - keras_psnr: 26.7039 - keras_ssim: 0.5089 - val_loss: 1.0152e-05 - val_mean_squared_error: 2.4334e-10 - val_keras_psnr: 27.4355 - val_keras_ssim: 0.5255\n"
     ]
    },
    {
     "data": {
      "application/vnd.jupyter.widget-view+json": {
       "model_id": "",
       "version_major": 2,
       "version_minor": 0
      },
      "text/plain": [
       "HBox(children=(IntProgress(value=0, description='Epoch 764', max=10, style=ProgressStyle(description_width='in…"
      ]
     },
     "metadata": {},
     "output_type": "display_data"
    },
    {
     "name": "stdout",
     "output_type": "stream",
     "text": [
      "Epoch 765/1000\n",
      "10/10 - 28s - loss: 1.0292e-05 - mean_squared_error: 1.8395e-10 - keras_psnr: 26.9265 - keras_ssim: 0.5074 - val_loss: 1.0152e-05 - val_mean_squared_error: 2.4333e-10 - val_keras_psnr: 27.4366 - val_keras_ssim: 0.5256\n"
     ]
    },
    {
     "data": {
      "application/vnd.jupyter.widget-view+json": {
       "model_id": "",
       "version_major": 2,
       "version_minor": 0
      },
      "text/plain": [
       "HBox(children=(IntProgress(value=0, description='Epoch 765', max=10, style=ProgressStyle(description_width='in…"
      ]
     },
     "metadata": {},
     "output_type": "display_data"
    },
    {
     "name": "stdout",
     "output_type": "stream",
     "text": [
      "Epoch 766/1000\n",
      "10/10 - 28s - loss: 1.8979e-05 - mean_squared_error: 1.6194e-09 - keras_psnr: 24.3324 - keras_ssim: 0.4922 - val_loss: 1.0134e-05 - val_mean_squared_error: 2.4228e-10 - val_keras_psnr: 27.4532 - val_keras_ssim: 0.5258\n"
     ]
    },
    {
     "data": {
      "application/vnd.jupyter.widget-view+json": {
       "model_id": "",
       "version_major": 2,
       "version_minor": 0
      },
      "text/plain": [
       "HBox(children=(IntProgress(value=0, description='Epoch 766', max=10, style=ProgressStyle(description_width='in…"
      ]
     },
     "metadata": {},
     "output_type": "display_data"
    },
    {
     "name": "stdout",
     "output_type": "stream",
     "text": [
      "Epoch 767/1000\n",
      "10/10 - 28s - loss: 1.4810e-05 - mean_squared_error: 4.1827e-10 - keras_psnr: 24.8465 - keras_ssim: 0.4818 - val_loss: 1.0160e-05 - val_mean_squared_error: 2.4468e-10 - val_keras_psnr: 27.4421 - val_keras_ssim: 0.5258\n"
     ]
    },
    {
     "data": {
      "application/vnd.jupyter.widget-view+json": {
       "model_id": "",
       "version_major": 2,
       "version_minor": 0
      },
      "text/plain": [
       "HBox(children=(IntProgress(value=0, description='Epoch 767', max=10, style=ProgressStyle(description_width='in…"
      ]
     },
     "metadata": {},
     "output_type": "display_data"
    },
    {
     "name": "stdout",
     "output_type": "stream",
     "text": [
      "Epoch 768/1000\n",
      "10/10 - 28s - loss: 1.1637e-05 - mean_squared_error: 2.6745e-10 - keras_psnr: 28.0135 - keras_ssim: 0.5787 - val_loss: 1.0148e-05 - val_mean_squared_error: 2.4382e-10 - val_keras_psnr: 27.4474 - val_keras_ssim: 0.5258\n"
     ]
    },
    {
     "data": {
      "application/vnd.jupyter.widget-view+json": {
       "model_id": "",
       "version_major": 2,
       "version_minor": 0
      },
      "text/plain": [
       "HBox(children=(IntProgress(value=0, description='Epoch 768', max=10, style=ProgressStyle(description_width='in…"
      ]
     },
     "metadata": {},
     "output_type": "display_data"
    },
    {
     "name": "stdout",
     "output_type": "stream",
     "text": [
      "Epoch 769/1000\n",
      "10/10 - 28s - loss: 9.8232e-06 - mean_squared_error: 2.6626e-10 - keras_psnr: 26.2104 - keras_ssim: 0.4971 - val_loss: 1.0131e-05 - val_mean_squared_error: 2.4271e-10 - val_keras_psnr: 27.4553 - val_keras_ssim: 0.5260\n"
     ]
    },
    {
     "data": {
      "application/vnd.jupyter.widget-view+json": {
       "model_id": "",
       "version_major": 2,
       "version_minor": 0
      },
      "text/plain": [
       "HBox(children=(IntProgress(value=0, description='Epoch 769', max=10, style=ProgressStyle(description_width='in…"
      ]
     },
     "metadata": {},
     "output_type": "display_data"
    },
    {
     "name": "stdout",
     "output_type": "stream",
     "text": [
      "Epoch 770/1000\n",
      "10/10 - 27s - loss: 1.3677e-05 - mean_squared_error: 4.4979e-10 - keras_psnr: 27.4066 - keras_ssim: 0.5555 - val_loss: 1.0141e-05 - val_mean_squared_error: 2.4385e-10 - val_keras_psnr: 27.4436 - val_keras_ssim: 0.5258\n"
     ]
    },
    {
     "data": {
      "application/vnd.jupyter.widget-view+json": {
       "model_id": "",
       "version_major": 2,
       "version_minor": 0
      },
      "text/plain": [
       "HBox(children=(IntProgress(value=0, description='Epoch 770', max=10, style=ProgressStyle(description_width='in…"
      ]
     },
     "metadata": {},
     "output_type": "display_data"
    },
    {
     "name": "stdout",
     "output_type": "stream",
     "text": [
      "Epoch 771/1000\n",
      "10/10 - 28s - loss: 1.1530e-05 - mean_squared_error: 2.5637e-10 - keras_psnr: 25.5381 - keras_ssim: 0.4719 - val_loss: 1.0146e-05 - val_mean_squared_error: 2.4365e-10 - val_keras_psnr: 27.4410 - val_keras_ssim: 0.5256\n"
     ]
    },
    {
     "data": {
      "application/vnd.jupyter.widget-view+json": {
       "model_id": "",
       "version_major": 2,
       "version_minor": 0
      },
      "text/plain": [
       "HBox(children=(IntProgress(value=0, description='Epoch 771', max=10, style=ProgressStyle(description_width='in…"
      ]
     },
     "metadata": {},
     "output_type": "display_data"
    },
    {
     "name": "stdout",
     "output_type": "stream",
     "text": [
      "Epoch 772/1000\n",
      "10/10 - 27s - loss: 1.5067e-05 - mean_squared_error: 4.4465e-10 - keras_psnr: 25.9334 - keras_ssim: 0.4997 - val_loss: 1.0131e-05 - val_mean_squared_error: 2.4284e-10 - val_keras_psnr: 27.4650 - val_keras_ssim: 0.5264\n"
     ]
    },
    {
     "data": {
      "application/vnd.jupyter.widget-view+json": {
       "model_id": "",
       "version_major": 2,
       "version_minor": 0
      },
      "text/plain": [
       "HBox(children=(IntProgress(value=0, description='Epoch 772', max=10, style=ProgressStyle(description_width='in…"
      ]
     },
     "metadata": {},
     "output_type": "display_data"
    },
    {
     "name": "stdout",
     "output_type": "stream",
     "text": [
      "Epoch 773/1000\n",
      "10/10 - 29s - loss: 9.4579e-06 - mean_squared_error: 1.7719e-10 - keras_psnr: 24.9640 - keras_ssim: 0.4166 - val_loss: 1.0136e-05 - val_mean_squared_error: 2.4307e-10 - val_keras_psnr: 27.4561 - val_keras_ssim: 0.5261\n"
     ]
    },
    {
     "data": {
      "application/vnd.jupyter.widget-view+json": {
       "model_id": "",
       "version_major": 2,
       "version_minor": 0
      },
      "text/plain": [
       "HBox(children=(IntProgress(value=0, description='Epoch 773', max=10, style=ProgressStyle(description_width='in…"
      ]
     },
     "metadata": {},
     "output_type": "display_data"
    },
    {
     "name": "stdout",
     "output_type": "stream",
     "text": [
      "Epoch 774/1000\n",
      "10/10 - 28s - loss: 7.1513e-06 - mean_squared_error: 1.1447e-10 - keras_psnr: 27.3320 - keras_ssim: 0.5084 - val_loss: 1.0142e-05 - val_mean_squared_error: 2.4388e-10 - val_keras_psnr: 27.4517 - val_keras_ssim: 0.5260\n"
     ]
    },
    {
     "data": {
      "application/vnd.jupyter.widget-view+json": {
       "model_id": "",
       "version_major": 2,
       "version_minor": 0
      },
      "text/plain": [
       "HBox(children=(IntProgress(value=0, description='Epoch 774', max=10, style=ProgressStyle(description_width='in…"
      ]
     },
     "metadata": {},
     "output_type": "display_data"
    },
    {
     "name": "stdout",
     "output_type": "stream",
     "text": [
      "Epoch 775/1000\n",
      "10/10 - 28s - loss: 1.0459e-05 - mean_squared_error: 1.7998e-10 - keras_psnr: 26.8855 - keras_ssim: 0.4906 - val_loss: 1.0115e-05 - val_mean_squared_error: 2.4163e-10 - val_keras_psnr: 27.4734 - val_keras_ssim: 0.5267\n"
     ]
    },
    {
     "data": {
      "application/vnd.jupyter.widget-view+json": {
       "model_id": "",
       "version_major": 2,
       "version_minor": 0
      },
      "text/plain": [
       "HBox(children=(IntProgress(value=0, description='Epoch 775', max=10, style=ProgressStyle(description_width='in…"
      ]
     },
     "metadata": {},
     "output_type": "display_data"
    },
    {
     "name": "stdout",
     "output_type": "stream",
     "text": [
      "Epoch 776/1000\n",
      "10/10 - 28s - loss: 1.1669e-05 - mean_squared_error: 2.1229e-10 - keras_psnr: 25.7398 - keras_ssim: 0.4473 - val_loss: 1.0104e-05 - val_mean_squared_error: 2.4068e-10 - val_keras_psnr: 27.4806 - val_keras_ssim: 0.5268\n"
     ]
    },
    {
     "data": {
      "application/vnd.jupyter.widget-view+json": {
       "model_id": "",
       "version_major": 2,
       "version_minor": 0
      },
      "text/plain": [
       "HBox(children=(IntProgress(value=0, description='Epoch 776', max=10, style=ProgressStyle(description_width='in…"
      ]
     },
     "metadata": {},
     "output_type": "display_data"
    },
    {
     "name": "stdout",
     "output_type": "stream",
     "text": [
      "Epoch 777/1000\n",
      "10/10 - 27s - loss: 1.0325e-05 - mean_squared_error: 2.4925e-10 - keras_psnr: 26.8728 - keras_ssim: 0.5323 - val_loss: 1.0120e-05 - val_mean_squared_error: 2.4168e-10 - val_keras_psnr: 27.4659 - val_keras_ssim: 0.5263\n"
     ]
    },
    {
     "data": {
      "application/vnd.jupyter.widget-view+json": {
       "model_id": "",
       "version_major": 2,
       "version_minor": 0
      },
      "text/plain": [
       "HBox(children=(IntProgress(value=0, description='Epoch 777', max=10, style=ProgressStyle(description_width='in…"
      ]
     },
     "metadata": {},
     "output_type": "display_data"
    },
    {
     "name": "stdout",
     "output_type": "stream",
     "text": [
      "Epoch 778/1000\n",
      "10/10 - 27s - loss: 1.1986e-05 - mean_squared_error: 2.8507e-10 - keras_psnr: 25.7311 - keras_ssim: 0.5118 - val_loss: 1.0139e-05 - val_mean_squared_error: 2.4369e-10 - val_keras_psnr: 27.4483 - val_keras_ssim: 0.5260\n"
     ]
    },
    {
     "data": {
      "application/vnd.jupyter.widget-view+json": {
       "model_id": "",
       "version_major": 2,
       "version_minor": 0
      },
      "text/plain": [
       "HBox(children=(IntProgress(value=0, description='Epoch 778', max=10, style=ProgressStyle(description_width='in…"
      ]
     },
     "metadata": {},
     "output_type": "display_data"
    },
    {
     "name": "stdout",
     "output_type": "stream",
     "text": [
      "Epoch 779/1000\n",
      "10/10 - 30s - loss: 9.9425e-06 - mean_squared_error: 1.7164e-10 - keras_psnr: 26.7230 - keras_ssim: 0.5135 - val_loss: 1.0137e-05 - val_mean_squared_error: 2.4361e-10 - val_keras_psnr: 27.4519 - val_keras_ssim: 0.5261\n"
     ]
    },
    {
     "data": {
      "application/vnd.jupyter.widget-view+json": {
       "model_id": "",
       "version_major": 2,
       "version_minor": 0
      },
      "text/plain": [
       "HBox(children=(IntProgress(value=0, description='Epoch 779', max=10, style=ProgressStyle(description_width='in…"
      ]
     },
     "metadata": {},
     "output_type": "display_data"
    },
    {
     "name": "stdout",
     "output_type": "stream",
     "text": [
      "Epoch 780/1000\n",
      "10/10 - 28s - loss: 1.2275e-05 - mean_squared_error: 2.5917e-10 - keras_psnr: 27.0228 - keras_ssim: 0.5516 - val_loss: 1.0129e-05 - val_mean_squared_error: 2.4353e-10 - val_keras_psnr: 27.4602 - val_keras_ssim: 0.5266\n"
     ]
    },
    {
     "data": {
      "application/vnd.jupyter.widget-view+json": {
       "model_id": "",
       "version_major": 2,
       "version_minor": 0
      },
      "text/plain": [
       "HBox(children=(IntProgress(value=0, description='Epoch 780', max=10, style=ProgressStyle(description_width='in…"
      ]
     },
     "metadata": {},
     "output_type": "display_data"
    },
    {
     "name": "stdout",
     "output_type": "stream",
     "text": [
      "Epoch 781/1000\n",
      "10/10 - 27s - loss: 1.0847e-05 - mean_squared_error: 1.7753e-10 - keras_psnr: 27.4745 - keras_ssim: 0.5094 - val_loss: 1.0121e-05 - val_mean_squared_error: 2.4291e-10 - val_keras_psnr: 27.4652 - val_keras_ssim: 0.5266\n"
     ]
    },
    {
     "data": {
      "application/vnd.jupyter.widget-view+json": {
       "model_id": "",
       "version_major": 2,
       "version_minor": 0
      },
      "text/plain": [
       "HBox(children=(IntProgress(value=0, description='Epoch 781', max=10, style=ProgressStyle(description_width='in…"
      ]
     },
     "metadata": {},
     "output_type": "display_data"
    },
    {
     "name": "stdout",
     "output_type": "stream",
     "text": [
      "Epoch 782/1000\n",
      "10/10 - 28s - loss: 9.8106e-06 - mean_squared_error: 1.9404e-10 - keras_psnr: 25.1893 - keras_ssim: 0.4014 - val_loss: 1.0111e-05 - val_mean_squared_error: 2.4191e-10 - val_keras_psnr: 27.4798 - val_keras_ssim: 0.5272\n"
     ]
    },
    {
     "data": {
      "application/vnd.jupyter.widget-view+json": {
       "model_id": "",
       "version_major": 2,
       "version_minor": 0
      },
      "text/plain": [
       "HBox(children=(IntProgress(value=0, description='Epoch 782', max=10, style=ProgressStyle(description_width='in…"
      ]
     },
     "metadata": {},
     "output_type": "display_data"
    },
    {
     "name": "stdout",
     "output_type": "stream",
     "text": [
      "Epoch 783/1000\n",
      "10/10 - 28s - loss: 9.6124e-06 - mean_squared_error: 3.1838e-10 - keras_psnr: 26.8613 - keras_ssim: 0.5520 - val_loss: 1.0118e-05 - val_mean_squared_error: 2.4279e-10 - val_keras_psnr: 27.4696 - val_keras_ssim: 0.5269\n"
     ]
    },
    {
     "data": {
      "application/vnd.jupyter.widget-view+json": {
       "model_id": "",
       "version_major": 2,
       "version_minor": 0
      },
      "text/plain": [
       "HBox(children=(IntProgress(value=0, description='Epoch 783', max=10, style=ProgressStyle(description_width='in…"
      ]
     },
     "metadata": {},
     "output_type": "display_data"
    },
    {
     "name": "stdout",
     "output_type": "stream",
     "text": [
      "Epoch 784/1000\n",
      "10/10 - 28s - loss: 1.6371e-05 - mean_squared_error: 5.3775e-10 - keras_psnr: 27.2224 - keras_ssim: 0.5679 - val_loss: 1.0129e-05 - val_mean_squared_error: 2.4318e-10 - val_keras_psnr: 27.4593 - val_keras_ssim: 0.5266\n"
     ]
    },
    {
     "data": {
      "application/vnd.jupyter.widget-view+json": {
       "model_id": "",
       "version_major": 2,
       "version_minor": 0
      },
      "text/plain": [
       "HBox(children=(IntProgress(value=0, description='Epoch 784', max=10, style=ProgressStyle(description_width='in…"
      ]
     },
     "metadata": {},
     "output_type": "display_data"
    },
    {
     "name": "stdout",
     "output_type": "stream",
     "text": [
      "Epoch 785/1000\n",
      "10/10 - 28s - loss: 1.2827e-05 - mean_squared_error: 2.8895e-10 - keras_psnr: 24.3772 - keras_ssim: 0.3966 - val_loss: 1.0145e-05 - val_mean_squared_error: 2.4411e-10 - val_keras_psnr: 27.4491 - val_keras_ssim: 0.5264\n"
     ]
    },
    {
     "data": {
      "application/vnd.jupyter.widget-view+json": {
       "model_id": "",
       "version_major": 2,
       "version_minor": 0
      },
      "text/plain": [
       "HBox(children=(IntProgress(value=0, description='Epoch 785', max=10, style=ProgressStyle(description_width='in…"
      ]
     },
     "metadata": {},
     "output_type": "display_data"
    },
    {
     "name": "stdout",
     "output_type": "stream",
     "text": [
      "Epoch 786/1000\n",
      "10/10 - 28s - loss: 1.3517e-05 - mean_squared_error: 3.6000e-10 - keras_psnr: 25.6870 - keras_ssim: 0.4601 - val_loss: 1.0143e-05 - val_mean_squared_error: 2.4415e-10 - val_keras_psnr: 27.4466 - val_keras_ssim: 0.5263\n"
     ]
    },
    {
     "data": {
      "application/vnd.jupyter.widget-view+json": {
       "model_id": "",
       "version_major": 2,
       "version_minor": 0
      },
      "text/plain": [
       "HBox(children=(IntProgress(value=0, description='Epoch 786', max=10, style=ProgressStyle(description_width='in…"
      ]
     },
     "metadata": {},
     "output_type": "display_data"
    },
    {
     "name": "stdout",
     "output_type": "stream",
     "text": [
      "Epoch 787/1000\n",
      "10/10 - 28s - loss: 1.2457e-05 - mean_squared_error: 3.6507e-10 - keras_psnr: 24.2526 - keras_ssim: 0.4659 - val_loss: 1.0141e-05 - val_mean_squared_error: 2.4408e-10 - val_keras_psnr: 27.4465 - val_keras_ssim: 0.5262\n"
     ]
    },
    {
     "data": {
      "application/vnd.jupyter.widget-view+json": {
       "model_id": "",
       "version_major": 2,
       "version_minor": 0
      },
      "text/plain": [
       "HBox(children=(IntProgress(value=0, description='Epoch 787', max=10, style=ProgressStyle(description_width='in…"
      ]
     },
     "metadata": {},
     "output_type": "display_data"
    },
    {
     "name": "stdout",
     "output_type": "stream",
     "text": [
      "Epoch 788/1000\n",
      "10/10 - 28s - loss: 1.0886e-05 - mean_squared_error: 2.6209e-10 - keras_psnr: 27.4426 - keras_ssim: 0.5534 - val_loss: 1.0134e-05 - val_mean_squared_error: 2.4373e-10 - val_keras_psnr: 27.4481 - val_keras_ssim: 0.5262\n"
     ]
    },
    {
     "data": {
      "application/vnd.jupyter.widget-view+json": {
       "model_id": "",
       "version_major": 2,
       "version_minor": 0
      },
      "text/plain": [
       "HBox(children=(IntProgress(value=0, description='Epoch 788', max=10, style=ProgressStyle(description_width='in…"
      ]
     },
     "metadata": {},
     "output_type": "display_data"
    },
    {
     "name": "stdout",
     "output_type": "stream",
     "text": [
      "Epoch 789/1000\n",
      "10/10 - 28s - loss: 9.8531e-06 - mean_squared_error: 2.8025e-10 - keras_psnr: 27.0891 - keras_ssim: 0.5481 - val_loss: 1.0142e-05 - val_mean_squared_error: 2.4392e-10 - val_keras_psnr: 27.4405 - val_keras_ssim: 0.5260\n"
     ]
    },
    {
     "data": {
      "application/vnd.jupyter.widget-view+json": {
       "model_id": "",
       "version_major": 2,
       "version_minor": 0
      },
      "text/plain": [
       "HBox(children=(IntProgress(value=0, description='Epoch 789', max=10, style=ProgressStyle(description_width='in…"
      ]
     },
     "metadata": {},
     "output_type": "display_data"
    },
    {
     "name": "stdout",
     "output_type": "stream",
     "text": [
      "Epoch 790/1000\n",
      "10/10 - 28s - loss: 1.1509e-05 - mean_squared_error: 3.6411e-10 - keras_psnr: 25.5466 - keras_ssim: 0.4750 - val_loss: 1.0123e-05 - val_mean_squared_error: 2.4315e-10 - val_keras_psnr: 27.4558 - val_keras_ssim: 0.5266\n"
     ]
    },
    {
     "data": {
      "application/vnd.jupyter.widget-view+json": {
       "model_id": "",
       "version_major": 2,
       "version_minor": 0
      },
      "text/plain": [
       "HBox(children=(IntProgress(value=0, description='Epoch 790', max=10, style=ProgressStyle(description_width='in…"
      ]
     },
     "metadata": {},
     "output_type": "display_data"
    },
    {
     "name": "stdout",
     "output_type": "stream",
     "text": [
      "Epoch 791/1000\n",
      "10/10 - 29s - loss: 9.3761e-06 - mean_squared_error: 1.2308e-10 - keras_psnr: 27.3956 - keras_ssim: 0.5096 - val_loss: 1.0122e-05 - val_mean_squared_error: 2.4300e-10 - val_keras_psnr: 27.4606 - val_keras_ssim: 0.5265\n"
     ]
    },
    {
     "data": {
      "application/vnd.jupyter.widget-view+json": {
       "model_id": "",
       "version_major": 2,
       "version_minor": 0
      },
      "text/plain": [
       "HBox(children=(IntProgress(value=0, description='Epoch 791', max=10, style=ProgressStyle(description_width='in…"
      ]
     },
     "metadata": {},
     "output_type": "display_data"
    },
    {
     "name": "stdout",
     "output_type": "stream",
     "text": [
      "Epoch 792/1000\n",
      "10/10 - 29s - loss: 1.1962e-05 - mean_squared_error: 2.6168e-10 - keras_psnr: 26.0691 - keras_ssim: 0.4919 - val_loss: 1.0134e-05 - val_mean_squared_error: 2.4374e-10 - val_keras_psnr: 27.4517 - val_keras_ssim: 0.5262\n"
     ]
    },
    {
     "data": {
      "application/vnd.jupyter.widget-view+json": {
       "model_id": "",
       "version_major": 2,
       "version_minor": 0
      },
      "text/plain": [
       "HBox(children=(IntProgress(value=0, description='Epoch 792', max=10, style=ProgressStyle(description_width='in…"
      ]
     },
     "metadata": {},
     "output_type": "display_data"
    },
    {
     "name": "stdout",
     "output_type": "stream",
     "text": [
      "Epoch 793/1000\n",
      "10/10 - 28s - loss: 1.2018e-05 - mean_squared_error: 3.7585e-10 - keras_psnr: 25.9798 - keras_ssim: 0.5080 - val_loss: 1.0134e-05 - val_mean_squared_error: 2.4371e-10 - val_keras_psnr: 27.4563 - val_keras_ssim: 0.5264\n"
     ]
    },
    {
     "data": {
      "application/vnd.jupyter.widget-view+json": {
       "model_id": "",
       "version_major": 2,
       "version_minor": 0
      },
      "text/plain": [
       "HBox(children=(IntProgress(value=0, description='Epoch 793', max=10, style=ProgressStyle(description_width='in…"
      ]
     },
     "metadata": {},
     "output_type": "display_data"
    },
    {
     "name": "stdout",
     "output_type": "stream",
     "text": [
      "Epoch 794/1000\n",
      "10/10 - 29s - loss: 9.1552e-06 - mean_squared_error: 1.2517e-10 - keras_psnr: 25.4193 - keras_ssim: 0.4185 - val_loss: 1.0141e-05 - val_mean_squared_error: 2.4402e-10 - val_keras_psnr: 27.4622 - val_keras_ssim: 0.5267\n"
     ]
    },
    {
     "data": {
      "application/vnd.jupyter.widget-view+json": {
       "model_id": "",
       "version_major": 2,
       "version_minor": 0
      },
      "text/plain": [
       "HBox(children=(IntProgress(value=0, description='Epoch 794', max=10, style=ProgressStyle(description_width='in…"
      ]
     },
     "metadata": {},
     "output_type": "display_data"
    },
    {
     "name": "stdout",
     "output_type": "stream",
     "text": [
      "Epoch 795/1000\n",
      "10/10 - 28s - loss: 1.2110e-05 - mean_squared_error: 2.4549e-10 - keras_psnr: 26.2278 - keras_ssim: 0.4764 - val_loss: 1.0107e-05 - val_mean_squared_error: 2.4207e-10 - val_keras_psnr: 27.4823 - val_keras_ssim: 0.5272\n"
     ]
    },
    {
     "data": {
      "application/vnd.jupyter.widget-view+json": {
       "model_id": "",
       "version_major": 2,
       "version_minor": 0
      },
      "text/plain": [
       "HBox(children=(IntProgress(value=0, description='Epoch 795', max=10, style=ProgressStyle(description_width='in…"
      ]
     },
     "metadata": {},
     "output_type": "display_data"
    },
    {
     "name": "stdout",
     "output_type": "stream",
     "text": [
      "Epoch 796/1000\n",
      "10/10 - 28s - loss: 1.4347e-05 - mean_squared_error: 4.1350e-10 - keras_psnr: 25.1477 - keras_ssim: 0.4397 - val_loss: 1.0106e-05 - val_mean_squared_error: 2.4182e-10 - val_keras_psnr: 27.4729 - val_keras_ssim: 0.5269\n"
     ]
    },
    {
     "data": {
      "application/vnd.jupyter.widget-view+json": {
       "model_id": "",
       "version_major": 2,
       "version_minor": 0
      },
      "text/plain": [
       "HBox(children=(IntProgress(value=0, description='Epoch 796', max=10, style=ProgressStyle(description_width='in…"
      ]
     },
     "metadata": {},
     "output_type": "display_data"
    },
    {
     "name": "stdout",
     "output_type": "stream",
     "text": [
      "Epoch 797/1000\n",
      "10/10 - 28s - loss: 7.9507e-06 - mean_squared_error: 1.0144e-10 - keras_psnr: 26.1437 - keras_ssim: 0.4402 - val_loss: 1.0112e-05 - val_mean_squared_error: 2.4263e-10 - val_keras_psnr: 27.4734 - val_keras_ssim: 0.5270\n"
     ]
    },
    {
     "data": {
      "application/vnd.jupyter.widget-view+json": {
       "model_id": "",
       "version_major": 2,
       "version_minor": 0
      },
      "text/plain": [
       "HBox(children=(IntProgress(value=0, description='Epoch 797', max=10, style=ProgressStyle(description_width='in…"
      ]
     },
     "metadata": {},
     "output_type": "display_data"
    },
    {
     "name": "stdout",
     "output_type": "stream",
     "text": [
      "Epoch 798/1000\n",
      "10/10 - 28s - loss: 1.4217e-05 - mean_squared_error: 7.8470e-10 - keras_psnr: 26.0370 - keras_ssim: 0.5518 - val_loss: 1.0124e-05 - val_mean_squared_error: 2.4322e-10 - val_keras_psnr: 27.4593 - val_keras_ssim: 0.5266\n"
     ]
    },
    {
     "data": {
      "application/vnd.jupyter.widget-view+json": {
       "model_id": "",
       "version_major": 2,
       "version_minor": 0
      },
      "text/plain": [
       "HBox(children=(IntProgress(value=0, description='Epoch 798', max=10, style=ProgressStyle(description_width='in…"
      ]
     },
     "metadata": {},
     "output_type": "display_data"
    },
    {
     "name": "stdout",
     "output_type": "stream",
     "text": [
      "Epoch 799/1000\n",
      "10/10 - 28s - loss: 1.3249e-05 - mean_squared_error: 4.9912e-10 - keras_psnr: 27.4319 - keras_ssim: 0.6170 - val_loss: 1.0100e-05 - val_mean_squared_error: 2.4187e-10 - val_keras_psnr: 27.4797 - val_keras_ssim: 0.5273\n"
     ]
    },
    {
     "data": {
      "application/vnd.jupyter.widget-view+json": {
       "model_id": "",
       "version_major": 2,
       "version_minor": 0
      },
      "text/plain": [
       "HBox(children=(IntProgress(value=0, description='Epoch 799', max=10, style=ProgressStyle(description_width='in…"
      ]
     },
     "metadata": {},
     "output_type": "display_data"
    },
    {
     "name": "stdout",
     "output_type": "stream",
     "text": [
      "Epoch 800/1000\n",
      "10/10 - 28s - loss: 9.9867e-06 - mean_squared_error: 2.0045e-10 - keras_psnr: 26.3150 - keras_ssim: 0.4884 - val_loss: 1.0104e-05 - val_mean_squared_error: 2.4227e-10 - val_keras_psnr: 27.4876 - val_keras_ssim: 0.5278\n"
     ]
    },
    {
     "data": {
      "application/vnd.jupyter.widget-view+json": {
       "model_id": "",
       "version_major": 2,
       "version_minor": 0
      },
      "text/plain": [
       "HBox(children=(IntProgress(value=0, description='Epoch 800', max=10, style=ProgressStyle(description_width='in…"
      ]
     },
     "metadata": {},
     "output_type": "display_data"
    },
    {
     "name": "stdout",
     "output_type": "stream",
     "text": [
      "Epoch 801/1000\n",
      "10/10 - 28s - loss: 1.2864e-05 - mean_squared_error: 3.6566e-10 - keras_psnr: 26.6534 - keras_ssim: 0.5542 - val_loss: 1.0111e-05 - val_mean_squared_error: 2.4253e-10 - val_keras_psnr: 27.4806 - val_keras_ssim: 0.5274\n"
     ]
    },
    {
     "data": {
      "application/vnd.jupyter.widget-view+json": {
       "model_id": "",
       "version_major": 2,
       "version_minor": 0
      },
      "text/plain": [
       "HBox(children=(IntProgress(value=0, description='Epoch 801', max=10, style=ProgressStyle(description_width='in…"
      ]
     },
     "metadata": {},
     "output_type": "display_data"
    },
    {
     "name": "stdout",
     "output_type": "stream",
     "text": [
      "Epoch 802/1000\n",
      "10/10 - 28s - loss: 1.2393e-05 - mean_squared_error: 8.0453e-10 - keras_psnr: 25.3937 - keras_ssim: 0.4674 - val_loss: 1.0106e-05 - val_mean_squared_error: 2.4140e-10 - val_keras_psnr: 27.4737 - val_keras_ssim: 0.5270\n"
     ]
    },
    {
     "data": {
      "application/vnd.jupyter.widget-view+json": {
       "model_id": "",
       "version_major": 2,
       "version_minor": 0
      },
      "text/plain": [
       "HBox(children=(IntProgress(value=0, description='Epoch 802', max=10, style=ProgressStyle(description_width='in…"
      ]
     },
     "metadata": {},
     "output_type": "display_data"
    },
    {
     "name": "stdout",
     "output_type": "stream",
     "text": [
      "Epoch 803/1000\n",
      "10/10 - 28s - loss: 9.6444e-06 - mean_squared_error: 1.6878e-10 - keras_psnr: 26.0737 - keras_ssim: 0.4725 - val_loss: 1.0100e-05 - val_mean_squared_error: 2.4201e-10 - val_keras_psnr: 27.4776 - val_keras_ssim: 0.5273\n"
     ]
    },
    {
     "data": {
      "application/vnd.jupyter.widget-view+json": {
       "model_id": "",
       "version_major": 2,
       "version_minor": 0
      },
      "text/plain": [
       "HBox(children=(IntProgress(value=0, description='Epoch 803', max=10, style=ProgressStyle(description_width='in…"
      ]
     },
     "metadata": {},
     "output_type": "display_data"
    },
    {
     "name": "stdout",
     "output_type": "stream",
     "text": [
      "Epoch 804/1000\n",
      "10/10 - 28s - loss: 1.1706e-05 - mean_squared_error: 2.3710e-10 - keras_psnr: 27.1617 - keras_ssim: 0.5286 - val_loss: 1.0113e-05 - val_mean_squared_error: 2.4290e-10 - val_keras_psnr: 27.4702 - val_keras_ssim: 0.5271\n"
     ]
    },
    {
     "data": {
      "application/vnd.jupyter.widget-view+json": {
       "model_id": "",
       "version_major": 2,
       "version_minor": 0
      },
      "text/plain": [
       "HBox(children=(IntProgress(value=0, description='Epoch 804', max=10, style=ProgressStyle(description_width='in…"
      ]
     },
     "metadata": {},
     "output_type": "display_data"
    },
    {
     "name": "stdout",
     "output_type": "stream",
     "text": [
      "Epoch 805/1000\n",
      "10/10 - 27s - loss: 1.3033e-05 - mean_squared_error: 5.4348e-10 - keras_psnr: 26.4778 - keras_ssim: 0.5759 - val_loss: 1.0114e-05 - val_mean_squared_error: 2.4273e-10 - val_keras_psnr: 27.4634 - val_keras_ssim: 0.5270\n"
     ]
    },
    {
     "data": {
      "application/vnd.jupyter.widget-view+json": {
       "model_id": "",
       "version_major": 2,
       "version_minor": 0
      },
      "text/plain": [
       "HBox(children=(IntProgress(value=0, description='Epoch 805', max=10, style=ProgressStyle(description_width='in…"
      ]
     },
     "metadata": {},
     "output_type": "display_data"
    },
    {
     "name": "stdout",
     "output_type": "stream",
     "text": [
      "Epoch 806/1000\n",
      "10/10 - 28s - loss: 1.0530e-05 - mean_squared_error: 2.1193e-10 - keras_psnr: 26.3708 - keras_ssim: 0.4680 - val_loss: 1.0113e-05 - val_mean_squared_error: 2.4257e-10 - val_keras_psnr: 27.4644 - val_keras_ssim: 0.5269\n"
     ]
    },
    {
     "data": {
      "application/vnd.jupyter.widget-view+json": {
       "model_id": "",
       "version_major": 2,
       "version_minor": 0
      },
      "text/plain": [
       "HBox(children=(IntProgress(value=0, description='Epoch 806', max=10, style=ProgressStyle(description_width='in…"
      ]
     },
     "metadata": {},
     "output_type": "display_data"
    },
    {
     "name": "stdout",
     "output_type": "stream",
     "text": [
      "Epoch 807/1000\n",
      "10/10 - 28s - loss: 1.6376e-05 - mean_squared_error: 8.4267e-10 - keras_psnr: 23.9521 - keras_ssim: 0.4267 - val_loss: 1.0110e-05 - val_mean_squared_error: 2.4281e-10 - val_keras_psnr: 27.4689 - val_keras_ssim: 0.5272\n"
     ]
    },
    {
     "data": {
      "application/vnd.jupyter.widget-view+json": {
       "model_id": "",
       "version_major": 2,
       "version_minor": 0
      },
      "text/plain": [
       "HBox(children=(IntProgress(value=0, description='Epoch 807', max=10, style=ProgressStyle(description_width='in…"
      ]
     },
     "metadata": {},
     "output_type": "display_data"
    },
    {
     "name": "stdout",
     "output_type": "stream",
     "text": [
      "Epoch 808/1000\n",
      "10/10 - 28s - loss: 8.6283e-06 - mean_squared_error: 1.7433e-10 - keras_psnr: 26.5237 - keras_ssim: 0.4912 - val_loss: 1.0100e-05 - val_mean_squared_error: 2.4165e-10 - val_keras_psnr: 27.4799 - val_keras_ssim: 0.5274\n"
     ]
    },
    {
     "data": {
      "application/vnd.jupyter.widget-view+json": {
       "model_id": "",
       "version_major": 2,
       "version_minor": 0
      },
      "text/plain": [
       "HBox(children=(IntProgress(value=0, description='Epoch 808', max=10, style=ProgressStyle(description_width='in…"
      ]
     },
     "metadata": {},
     "output_type": "display_data"
    },
    {
     "name": "stdout",
     "output_type": "stream",
     "text": [
      "Epoch 809/1000\n",
      "10/10 - 28s - loss: 1.1138e-05 - mean_squared_error: 2.2953e-10 - keras_psnr: 26.5084 - keras_ssim: 0.5118 - val_loss: 1.0089e-05 - val_mean_squared_error: 2.4147e-10 - val_keras_psnr: 27.4899 - val_keras_ssim: 0.5278\n"
     ]
    },
    {
     "data": {
      "application/vnd.jupyter.widget-view+json": {
       "model_id": "",
       "version_major": 2,
       "version_minor": 0
      },
      "text/plain": [
       "HBox(children=(IntProgress(value=0, description='Epoch 809', max=10, style=ProgressStyle(description_width='in…"
      ]
     },
     "metadata": {},
     "output_type": "display_data"
    },
    {
     "name": "stdout",
     "output_type": "stream",
     "text": [
      "Epoch 810/1000\n",
      "10/10 - 27s - loss: 1.3350e-05 - mean_squared_error: 2.7838e-10 - keras_psnr: 26.7910 - keras_ssim: 0.5499 - val_loss: 1.0096e-05 - val_mean_squared_error: 2.4123e-10 - val_keras_psnr: 27.4815 - val_keras_ssim: 0.5275\n"
     ]
    },
    {
     "data": {
      "application/vnd.jupyter.widget-view+json": {
       "model_id": "",
       "version_major": 2,
       "version_minor": 0
      },
      "text/plain": [
       "HBox(children=(IntProgress(value=0, description='Epoch 810', max=10, style=ProgressStyle(description_width='in…"
      ]
     },
     "metadata": {},
     "output_type": "display_data"
    },
    {
     "name": "stdout",
     "output_type": "stream",
     "text": [
      "Epoch 811/1000\n",
      "10/10 - 28s - loss: 1.2095e-05 - mean_squared_error: 4.7398e-10 - keras_psnr: 25.6635 - keras_ssim: 0.4910 - val_loss: 1.0112e-05 - val_mean_squared_error: 2.4283e-10 - val_keras_psnr: 27.4639 - val_keras_ssim: 0.5271\n"
     ]
    },
    {
     "data": {
      "application/vnd.jupyter.widget-view+json": {
       "model_id": "",
       "version_major": 2,
       "version_minor": 0
      },
      "text/plain": [
       "HBox(children=(IntProgress(value=0, description='Epoch 811', max=10, style=ProgressStyle(description_width='in…"
      ]
     },
     "metadata": {},
     "output_type": "display_data"
    },
    {
     "name": "stdout",
     "output_type": "stream",
     "text": [
      "Epoch 812/1000\n",
      "10/10 - 28s - loss: 1.2794e-05 - mean_squared_error: 4.5294e-10 - keras_psnr: 26.4736 - keras_ssim: 0.5500 - val_loss: 1.0100e-05 - val_mean_squared_error: 2.4208e-10 - val_keras_psnr: 27.4782 - val_keras_ssim: 0.5275\n"
     ]
    },
    {
     "data": {
      "application/vnd.jupyter.widget-view+json": {
       "model_id": "",
       "version_major": 2,
       "version_minor": 0
      },
      "text/plain": [
       "HBox(children=(IntProgress(value=0, description='Epoch 812', max=10, style=ProgressStyle(description_width='in…"
      ]
     },
     "metadata": {},
     "output_type": "display_data"
    },
    {
     "name": "stdout",
     "output_type": "stream",
     "text": [
      "Epoch 813/1000\n",
      "10/10 - 29s - loss: 9.4270e-06 - mean_squared_error: 1.7119e-10 - keras_psnr: 26.6393 - keras_ssim: 0.5067 - val_loss: 1.0086e-05 - val_mean_squared_error: 2.4110e-10 - val_keras_psnr: 27.4926 - val_keras_ssim: 0.5279\n"
     ]
    },
    {
     "data": {
      "application/vnd.jupyter.widget-view+json": {
       "model_id": "",
       "version_major": 2,
       "version_minor": 0
      },
      "text/plain": [
       "HBox(children=(IntProgress(value=0, description='Epoch 813', max=10, style=ProgressStyle(description_width='in…"
      ]
     },
     "metadata": {},
     "output_type": "display_data"
    },
    {
     "name": "stdout",
     "output_type": "stream",
     "text": [
      "Epoch 814/1000\n",
      "10/10 - 28s - loss: 1.1164e-05 - mean_squared_error: 2.5802e-10 - keras_psnr: 25.9588 - keras_ssim: 0.4768 - val_loss: 1.0097e-05 - val_mean_squared_error: 2.4198e-10 - val_keras_psnr: 27.4773 - val_keras_ssim: 0.5275\n"
     ]
    },
    {
     "data": {
      "application/vnd.jupyter.widget-view+json": {
       "model_id": "",
       "version_major": 2,
       "version_minor": 0
      },
      "text/plain": [
       "HBox(children=(IntProgress(value=0, description='Epoch 814', max=10, style=ProgressStyle(description_width='in…"
      ]
     },
     "metadata": {},
     "output_type": "display_data"
    },
    {
     "name": "stdout",
     "output_type": "stream",
     "text": [
      "Epoch 815/1000\n",
      "10/10 - 28s - loss: 8.7777e-06 - mean_squared_error: 1.5092e-10 - keras_psnr: 26.6050 - keras_ssim: 0.4584 - val_loss: 1.0094e-05 - val_mean_squared_error: 2.4145e-10 - val_keras_psnr: 27.4759 - val_keras_ssim: 0.5275\n"
     ]
    },
    {
     "data": {
      "application/vnd.jupyter.widget-view+json": {
       "model_id": "",
       "version_major": 2,
       "version_minor": 0
      },
      "text/plain": [
       "HBox(children=(IntProgress(value=0, description='Epoch 815', max=10, style=ProgressStyle(description_width='in…"
      ]
     },
     "metadata": {},
     "output_type": "display_data"
    },
    {
     "name": "stdout",
     "output_type": "stream",
     "text": [
      "Epoch 816/1000\n",
      "10/10 - 29s - loss: 1.1924e-05 - mean_squared_error: 2.5410e-10 - keras_psnr: 27.4439 - keras_ssim: 0.5448 - val_loss: 1.0091e-05 - val_mean_squared_error: 2.4116e-10 - val_keras_psnr: 27.4835 - val_keras_ssim: 0.5276\n"
     ]
    },
    {
     "data": {
      "application/vnd.jupyter.widget-view+json": {
       "model_id": "",
       "version_major": 2,
       "version_minor": 0
      },
      "text/plain": [
       "HBox(children=(IntProgress(value=0, description='Epoch 816', max=10, style=ProgressStyle(description_width='in…"
      ]
     },
     "metadata": {},
     "output_type": "display_data"
    },
    {
     "name": "stdout",
     "output_type": "stream",
     "text": [
      "Epoch 817/1000\n",
      "10/10 - 28s - loss: 1.5669e-05 - mean_squared_error: 5.5595e-10 - keras_psnr: 25.6212 - keras_ssim: 0.4855 - val_loss: 1.0088e-05 - val_mean_squared_error: 2.4134e-10 - val_keras_psnr: 27.4890 - val_keras_ssim: 0.5279\n"
     ]
    },
    {
     "data": {
      "application/vnd.jupyter.widget-view+json": {
       "model_id": "",
       "version_major": 2,
       "version_minor": 0
      },
      "text/plain": [
       "HBox(children=(IntProgress(value=0, description='Epoch 817', max=10, style=ProgressStyle(description_width='in…"
      ]
     },
     "metadata": {},
     "output_type": "display_data"
    },
    {
     "name": "stdout",
     "output_type": "stream",
     "text": [
      "Epoch 818/1000\n",
      "10/10 - 28s - loss: 1.2861e-05 - mean_squared_error: 4.8265e-10 - keras_psnr: 27.0637 - keras_ssim: 0.5853 - val_loss: 1.0109e-05 - val_mean_squared_error: 2.4261e-10 - val_keras_psnr: 27.4661 - val_keras_ssim: 0.5273\n"
     ]
    },
    {
     "data": {
      "application/vnd.jupyter.widget-view+json": {
       "model_id": "",
       "version_major": 2,
       "version_minor": 0
      },
      "text/plain": [
       "HBox(children=(IntProgress(value=0, description='Epoch 818', max=10, style=ProgressStyle(description_width='in…"
      ]
     },
     "metadata": {},
     "output_type": "display_data"
    },
    {
     "name": "stdout",
     "output_type": "stream",
     "text": [
      "Epoch 819/1000\n",
      "10/10 - 29s - loss: 1.1079e-05 - mean_squared_error: 2.4379e-10 - keras_psnr: 27.3488 - keras_ssim: 0.5654 - val_loss: 1.0079e-05 - val_mean_squared_error: 2.4047e-10 - val_keras_psnr: 27.4914 - val_keras_ssim: 0.5279\n"
     ]
    },
    {
     "data": {
      "application/vnd.jupyter.widget-view+json": {
       "model_id": "",
       "version_major": 2,
       "version_minor": 0
      },
      "text/plain": [
       "HBox(children=(IntProgress(value=0, description='Epoch 819', max=10, style=ProgressStyle(description_width='in…"
      ]
     },
     "metadata": {},
     "output_type": "display_data"
    },
    {
     "name": "stdout",
     "output_type": "stream",
     "text": [
      "Epoch 820/1000\n",
      "10/10 - 28s - loss: 9.7837e-06 - mean_squared_error: 1.5616e-10 - keras_psnr: 26.7368 - keras_ssim: 0.5025 - val_loss: 1.0092e-05 - val_mean_squared_error: 2.4181e-10 - val_keras_psnr: 27.4865 - val_keras_ssim: 0.5278\n"
     ]
    },
    {
     "data": {
      "application/vnd.jupyter.widget-view+json": {
       "model_id": "",
       "version_major": 2,
       "version_minor": 0
      },
      "text/plain": [
       "HBox(children=(IntProgress(value=0, description='Epoch 820', max=10, style=ProgressStyle(description_width='in…"
      ]
     },
     "metadata": {},
     "output_type": "display_data"
    },
    {
     "name": "stdout",
     "output_type": "stream",
     "text": [
      "Epoch 821/1000\n",
      "10/10 - 28s - loss: 1.5810e-05 - mean_squared_error: 1.4075e-09 - keras_psnr: 24.4597 - keras_ssim: 0.4856 - val_loss: 1.0125e-05 - val_mean_squared_error: 2.4299e-10 - val_keras_psnr: 27.4478 - val_keras_ssim: 0.5270\n"
     ]
    },
    {
     "data": {
      "application/vnd.jupyter.widget-view+json": {
       "model_id": "",
       "version_major": 2,
       "version_minor": 0
      },
      "text/plain": [
       "HBox(children=(IntProgress(value=0, description='Epoch 821', max=10, style=ProgressStyle(description_width='in…"
      ]
     },
     "metadata": {},
     "output_type": "display_data"
    },
    {
     "name": "stdout",
     "output_type": "stream",
     "text": [
      "Epoch 822/1000\n",
      "10/10 - 28s - loss: 1.2078e-05 - mean_squared_error: 4.2359e-10 - keras_psnr: 27.1507 - keras_ssim: 0.5789 - val_loss: 1.0106e-05 - val_mean_squared_error: 2.4245e-10 - val_keras_psnr: 27.4726 - val_keras_ssim: 0.5273\n"
     ]
    },
    {
     "data": {
      "application/vnd.jupyter.widget-view+json": {
       "model_id": "",
       "version_major": 2,
       "version_minor": 0
      },
      "text/plain": [
       "HBox(children=(IntProgress(value=0, description='Epoch 822', max=10, style=ProgressStyle(description_width='in…"
      ]
     },
     "metadata": {},
     "output_type": "display_data"
    },
    {
     "name": "stdout",
     "output_type": "stream",
     "text": [
      "Epoch 823/1000\n",
      "10/10 - 29s - loss: 1.1797e-05 - mean_squared_error: 2.6990e-10 - keras_psnr: 25.7023 - keras_ssim: 0.4656 - val_loss: 1.0091e-05 - val_mean_squared_error: 2.4147e-10 - val_keras_psnr: 27.4912 - val_keras_ssim: 0.5280\n"
     ]
    },
    {
     "data": {
      "application/vnd.jupyter.widget-view+json": {
       "model_id": "",
       "version_major": 2,
       "version_minor": 0
      },
      "text/plain": [
       "HBox(children=(IntProgress(value=0, description='Epoch 823', max=10, style=ProgressStyle(description_width='in…"
      ]
     },
     "metadata": {},
     "output_type": "display_data"
    },
    {
     "name": "stdout",
     "output_type": "stream",
     "text": [
      "Epoch 824/1000\n",
      "10/10 - 28s - loss: 9.6230e-06 - mean_squared_error: 2.1577e-10 - keras_psnr: 26.2377 - keras_ssim: 0.4992 - val_loss: 1.0099e-05 - val_mean_squared_error: 2.4234e-10 - val_keras_psnr: 27.4814 - val_keras_ssim: 0.5279\n"
     ]
    },
    {
     "data": {
      "application/vnd.jupyter.widget-view+json": {
       "model_id": "",
       "version_major": 2,
       "version_minor": 0
      },
      "text/plain": [
       "HBox(children=(IntProgress(value=0, description='Epoch 824', max=10, style=ProgressStyle(description_width='in…"
      ]
     },
     "metadata": {},
     "output_type": "display_data"
    },
    {
     "name": "stdout",
     "output_type": "stream",
     "text": [
      "Epoch 825/1000\n",
      "10/10 - 28s - loss: 1.5719e-05 - mean_squared_error: 8.4443e-10 - keras_psnr: 26.2408 - keras_ssim: 0.5410 - val_loss: 1.0070e-05 - val_mean_squared_error: 2.4022e-10 - val_keras_psnr: 27.4940 - val_keras_ssim: 0.5281\n"
     ]
    },
    {
     "data": {
      "application/vnd.jupyter.widget-view+json": {
       "model_id": "",
       "version_major": 2,
       "version_minor": 0
      },
      "text/plain": [
       "HBox(children=(IntProgress(value=0, description='Epoch 825', max=10, style=ProgressStyle(description_width='in…"
      ]
     },
     "metadata": {},
     "output_type": "display_data"
    },
    {
     "name": "stdout",
     "output_type": "stream",
     "text": [
      "Epoch 826/1000\n",
      "10/10 - 27s - loss: 1.0664e-05 - mean_squared_error: 2.8788e-10 - keras_psnr: 27.8853 - keras_ssim: 0.5749 - val_loss: 1.0074e-05 - val_mean_squared_error: 2.4015e-10 - val_keras_psnr: 27.5017 - val_keras_ssim: 0.5285\n"
     ]
    },
    {
     "data": {
      "application/vnd.jupyter.widget-view+json": {
       "model_id": "",
       "version_major": 2,
       "version_minor": 0
      },
      "text/plain": [
       "HBox(children=(IntProgress(value=0, description='Epoch 826', max=10, style=ProgressStyle(description_width='in…"
      ]
     },
     "metadata": {},
     "output_type": "display_data"
    },
    {
     "name": "stdout",
     "output_type": "stream",
     "text": [
      "Epoch 827/1000\n",
      "10/10 - 28s - loss: 1.2542e-05 - mean_squared_error: 6.1836e-10 - keras_psnr: 24.9828 - keras_ssim: 0.5135 - val_loss: 1.0080e-05 - val_mean_squared_error: 2.4136e-10 - val_keras_psnr: 27.4967 - val_keras_ssim: 0.5284\n"
     ]
    },
    {
     "data": {
      "application/vnd.jupyter.widget-view+json": {
       "model_id": "",
       "version_major": 2,
       "version_minor": 0
      },
      "text/plain": [
       "HBox(children=(IntProgress(value=0, description='Epoch 827', max=10, style=ProgressStyle(description_width='in…"
      ]
     },
     "metadata": {},
     "output_type": "display_data"
    },
    {
     "name": "stdout",
     "output_type": "stream",
     "text": [
      "Epoch 828/1000\n",
      "10/10 - 28s - loss: 1.9338e-05 - mean_squared_error: 9.2056e-10 - keras_psnr: 25.4209 - keras_ssim: 0.5451 - val_loss: 1.0096e-05 - val_mean_squared_error: 2.4191e-10 - val_keras_psnr: 27.4740 - val_keras_ssim: 0.5277\n"
     ]
    },
    {
     "data": {
      "application/vnd.jupyter.widget-view+json": {
       "model_id": "",
       "version_major": 2,
       "version_minor": 0
      },
      "text/plain": [
       "HBox(children=(IntProgress(value=0, description='Epoch 828', max=10, style=ProgressStyle(description_width='in…"
      ]
     },
     "metadata": {},
     "output_type": "display_data"
    },
    {
     "name": "stdout",
     "output_type": "stream",
     "text": [
      "Epoch 829/1000\n",
      "10/10 - 28s - loss: 1.0121e-05 - mean_squared_error: 2.7910e-10 - keras_psnr: 27.2255 - keras_ssim: 0.5435 - val_loss: 1.0102e-05 - val_mean_squared_error: 2.4242e-10 - val_keras_psnr: 27.4717 - val_keras_ssim: 0.5275\n"
     ]
    },
    {
     "data": {
      "application/vnd.jupyter.widget-view+json": {
       "model_id": "",
       "version_major": 2,
       "version_minor": 0
      },
      "text/plain": [
       "HBox(children=(IntProgress(value=0, description='Epoch 829', max=10, style=ProgressStyle(description_width='in…"
      ]
     },
     "metadata": {},
     "output_type": "display_data"
    },
    {
     "name": "stdout",
     "output_type": "stream",
     "text": [
      "Epoch 830/1000\n",
      "10/10 - 29s - loss: 1.2714e-05 - mean_squared_error: 3.8647e-10 - keras_psnr: 26.1148 - keras_ssim: 0.5339 - val_loss: 1.0096e-05 - val_mean_squared_error: 2.4197e-10 - val_keras_psnr: 27.4769 - val_keras_ssim: 0.5277\n"
     ]
    },
    {
     "data": {
      "application/vnd.jupyter.widget-view+json": {
       "model_id": "",
       "version_major": 2,
       "version_minor": 0
      },
      "text/plain": [
       "HBox(children=(IntProgress(value=0, description='Epoch 830', max=10, style=ProgressStyle(description_width='in…"
      ]
     },
     "metadata": {},
     "output_type": "display_data"
    },
    {
     "name": "stdout",
     "output_type": "stream",
     "text": [
      "Epoch 831/1000\n",
      "10/10 - 28s - loss: 1.5904e-05 - mean_squared_error: 4.8370e-10 - keras_psnr: 27.2414 - keras_ssim: 0.6021 - val_loss: 1.0079e-05 - val_mean_squared_error: 2.4090e-10 - val_keras_psnr: 27.4926 - val_keras_ssim: 0.5283\n"
     ]
    },
    {
     "data": {
      "application/vnd.jupyter.widget-view+json": {
       "model_id": "",
       "version_major": 2,
       "version_minor": 0
      },
      "text/plain": [
       "HBox(children=(IntProgress(value=0, description='Epoch 831', max=10, style=ProgressStyle(description_width='in…"
      ]
     },
     "metadata": {},
     "output_type": "display_data"
    },
    {
     "name": "stdout",
     "output_type": "stream",
     "text": [
      "Epoch 832/1000\n",
      "10/10 - 28s - loss: 1.0644e-05 - mean_squared_error: 1.9979e-10 - keras_psnr: 27.0190 - keras_ssim: 0.5262 - val_loss: 1.0082e-05 - val_mean_squared_error: 2.4080e-10 - val_keras_psnr: 27.4888 - val_keras_ssim: 0.5280\n"
     ]
    },
    {
     "data": {
      "application/vnd.jupyter.widget-view+json": {
       "model_id": "",
       "version_major": 2,
       "version_minor": 0
      },
      "text/plain": [
       "HBox(children=(IntProgress(value=0, description='Epoch 832', max=10, style=ProgressStyle(description_width='in…"
      ]
     },
     "metadata": {},
     "output_type": "display_data"
    },
    {
     "name": "stdout",
     "output_type": "stream",
     "text": [
      "Epoch 833/1000\n",
      "10/10 - 28s - loss: 1.4745e-05 - mean_squared_error: 1.2757e-09 - keras_psnr: 24.1867 - keras_ssim: 0.4940 - val_loss: 1.0101e-05 - val_mean_squared_error: 2.4248e-10 - val_keras_psnr: 27.4769 - val_keras_ssim: 0.5279\n"
     ]
    },
    {
     "data": {
      "application/vnd.jupyter.widget-view+json": {
       "model_id": "",
       "version_major": 2,
       "version_minor": 0
      },
      "text/plain": [
       "HBox(children=(IntProgress(value=0, description='Epoch 833', max=10, style=ProgressStyle(description_width='in…"
      ]
     },
     "metadata": {},
     "output_type": "display_data"
    },
    {
     "name": "stdout",
     "output_type": "stream",
     "text": [
      "Epoch 834/1000\n",
      "10/10 - 28s - loss: 1.3420e-05 - mean_squared_error: 5.4098e-10 - keras_psnr: 27.0543 - keras_ssim: 0.5567 - val_loss: 1.0085e-05 - val_mean_squared_error: 2.4169e-10 - val_keras_psnr: 27.4892 - val_keras_ssim: 0.5281\n"
     ]
    },
    {
     "data": {
      "application/vnd.jupyter.widget-view+json": {
       "model_id": "",
       "version_major": 2,
       "version_minor": 0
      },
      "text/plain": [
       "HBox(children=(IntProgress(value=0, description='Epoch 834', max=10, style=ProgressStyle(description_width='in…"
      ]
     },
     "metadata": {},
     "output_type": "display_data"
    },
    {
     "name": "stdout",
     "output_type": "stream",
     "text": [
      "Epoch 835/1000\n",
      "10/10 - 28s - loss: 1.3123e-05 - mean_squared_error: 4.4372e-10 - keras_psnr: 26.4022 - keras_ssim: 0.5835 - val_loss: 1.0103e-05 - val_mean_squared_error: 2.4238e-10 - val_keras_psnr: 27.4869 - val_keras_ssim: 0.5282\n"
     ]
    },
    {
     "data": {
      "application/vnd.jupyter.widget-view+json": {
       "model_id": "",
       "version_major": 2,
       "version_minor": 0
      },
      "text/plain": [
       "HBox(children=(IntProgress(value=0, description='Epoch 835', max=10, style=ProgressStyle(description_width='in…"
      ]
     },
     "metadata": {},
     "output_type": "display_data"
    },
    {
     "name": "stdout",
     "output_type": "stream",
     "text": [
      "Epoch 836/1000\n",
      "10/10 - 27s - loss: 1.0573e-05 - mean_squared_error: 2.5497e-10 - keras_psnr: 28.4540 - keras_ssim: 0.5811 - val_loss: 1.0100e-05 - val_mean_squared_error: 2.4217e-10 - val_keras_psnr: 27.4805 - val_keras_ssim: 0.5278\n"
     ]
    },
    {
     "data": {
      "application/vnd.jupyter.widget-view+json": {
       "model_id": "",
       "version_major": 2,
       "version_minor": 0
      },
      "text/plain": [
       "HBox(children=(IntProgress(value=0, description='Epoch 836', max=10, style=ProgressStyle(description_width='in…"
      ]
     },
     "metadata": {},
     "output_type": "display_data"
    },
    {
     "name": "stdout",
     "output_type": "stream",
     "text": [
      "Epoch 837/1000\n",
      "10/10 - 28s - loss: 1.1185e-05 - mean_squared_error: 2.2416e-10 - keras_psnr: 25.6718 - keras_ssim: 0.4890 - val_loss: 1.0085e-05 - val_mean_squared_error: 2.4103e-10 - val_keras_psnr: 27.4794 - val_keras_ssim: 0.5279\n"
     ]
    },
    {
     "data": {
      "application/vnd.jupyter.widget-view+json": {
       "model_id": "",
       "version_major": 2,
       "version_minor": 0
      },
      "text/plain": [
       "HBox(children=(IntProgress(value=0, description='Epoch 837', max=10, style=ProgressStyle(description_width='in…"
      ]
     },
     "metadata": {},
     "output_type": "display_data"
    },
    {
     "name": "stdout",
     "output_type": "stream",
     "text": [
      "Epoch 838/1000\n",
      "10/10 - 28s - loss: 1.3783e-05 - mean_squared_error: 6.5037e-10 - keras_psnr: 27.0449 - keras_ssim: 0.5878 - val_loss: 1.0079e-05 - val_mean_squared_error: 2.4084e-10 - val_keras_psnr: 27.4865 - val_keras_ssim: 0.5282\n"
     ]
    },
    {
     "data": {
      "application/vnd.jupyter.widget-view+json": {
       "model_id": "",
       "version_major": 2,
       "version_minor": 0
      },
      "text/plain": [
       "HBox(children=(IntProgress(value=0, description='Epoch 838', max=10, style=ProgressStyle(description_width='in…"
      ]
     },
     "metadata": {},
     "output_type": "display_data"
    },
    {
     "name": "stdout",
     "output_type": "stream",
     "text": [
      "Epoch 839/1000\n",
      "10/10 - 28s - loss: 8.4234e-06 - mean_squared_error: 1.1253e-10 - keras_psnr: 26.6287 - keras_ssim: 0.4768 - val_loss: 1.0077e-05 - val_mean_squared_error: 2.4019e-10 - val_keras_psnr: 27.4953 - val_keras_ssim: 0.5284\n"
     ]
    },
    {
     "data": {
      "application/vnd.jupyter.widget-view+json": {
       "model_id": "",
       "version_major": 2,
       "version_minor": 0
      },
      "text/plain": [
       "HBox(children=(IntProgress(value=0, description='Epoch 839', max=10, style=ProgressStyle(description_width='in…"
      ]
     },
     "metadata": {},
     "output_type": "display_data"
    },
    {
     "name": "stdout",
     "output_type": "stream",
     "text": [
      "Epoch 840/1000\n",
      "10/10 - 28s - loss: 1.0115e-05 - mean_squared_error: 1.3925e-10 - keras_psnr: 26.1703 - keras_ssim: 0.4496 - val_loss: 1.0068e-05 - val_mean_squared_error: 2.4066e-10 - val_keras_psnr: 27.5036 - val_keras_ssim: 0.5289\n"
     ]
    },
    {
     "data": {
      "application/vnd.jupyter.widget-view+json": {
       "model_id": "",
       "version_major": 2,
       "version_minor": 0
      },
      "text/plain": [
       "HBox(children=(IntProgress(value=0, description='Epoch 840', max=10, style=ProgressStyle(description_width='in…"
      ]
     },
     "metadata": {},
     "output_type": "display_data"
    },
    {
     "name": "stdout",
     "output_type": "stream",
     "text": [
      "Epoch 841/1000\n",
      "10/10 - 28s - loss: 1.1657e-05 - mean_squared_error: 4.0047e-10 - keras_psnr: 26.4169 - keras_ssim: 0.5347 - val_loss: 1.0071e-05 - val_mean_squared_error: 2.4068e-10 - val_keras_psnr: 27.4961 - val_keras_ssim: 0.5285\n"
     ]
    },
    {
     "data": {
      "application/vnd.jupyter.widget-view+json": {
       "model_id": "",
       "version_major": 2,
       "version_minor": 0
      },
      "text/plain": [
       "HBox(children=(IntProgress(value=0, description='Epoch 841', max=10, style=ProgressStyle(description_width='in…"
      ]
     },
     "metadata": {},
     "output_type": "display_data"
    },
    {
     "name": "stdout",
     "output_type": "stream",
     "text": [
      "Epoch 842/1000\n",
      "10/10 - 27s - loss: 1.1594e-05 - mean_squared_error: 2.9719e-10 - keras_psnr: 27.7722 - keras_ssim: 0.5556 - val_loss: 1.0074e-05 - val_mean_squared_error: 2.4038e-10 - val_keras_psnr: 27.4922 - val_keras_ssim: 0.5283\n"
     ]
    },
    {
     "data": {
      "application/vnd.jupyter.widget-view+json": {
       "model_id": "",
       "version_major": 2,
       "version_minor": 0
      },
      "text/plain": [
       "HBox(children=(IntProgress(value=0, description='Epoch 842', max=10, style=ProgressStyle(description_width='in…"
      ]
     },
     "metadata": {},
     "output_type": "display_data"
    },
    {
     "name": "stdout",
     "output_type": "stream",
     "text": [
      "Epoch 843/1000\n",
      "10/10 - 28s - loss: 1.1815e-05 - mean_squared_error: 3.4115e-10 - keras_psnr: 28.1330 - keras_ssim: 0.6143 - val_loss: 1.0067e-05 - val_mean_squared_error: 2.3996e-10 - val_keras_psnr: 27.5024 - val_keras_ssim: 0.5286\n"
     ]
    },
    {
     "data": {
      "application/vnd.jupyter.widget-view+json": {
       "model_id": "",
       "version_major": 2,
       "version_minor": 0
      },
      "text/plain": [
       "HBox(children=(IntProgress(value=0, description='Epoch 843', max=10, style=ProgressStyle(description_width='in…"
      ]
     },
     "metadata": {},
     "output_type": "display_data"
    },
    {
     "name": "stdout",
     "output_type": "stream",
     "text": [
      "Epoch 844/1000\n",
      "10/10 - 28s - loss: 1.2590e-05 - mean_squared_error: 5.9341e-10 - keras_psnr: 26.5891 - keras_ssim: 0.5750 - val_loss: 1.0081e-05 - val_mean_squared_error: 2.4132e-10 - val_keras_psnr: 27.4904 - val_keras_ssim: 0.5283\n"
     ]
    },
    {
     "data": {
      "application/vnd.jupyter.widget-view+json": {
       "model_id": "",
       "version_major": 2,
       "version_minor": 0
      },
      "text/plain": [
       "HBox(children=(IntProgress(value=0, description='Epoch 844', max=10, style=ProgressStyle(description_width='in…"
      ]
     },
     "metadata": {},
     "output_type": "display_data"
    },
    {
     "name": "stdout",
     "output_type": "stream",
     "text": [
      "Epoch 845/1000\n",
      "10/10 - 27s - loss: 1.1125e-05 - mean_squared_error: 3.1089e-10 - keras_psnr: 27.4330 - keras_ssim: 0.5985 - val_loss: 1.0090e-05 - val_mean_squared_error: 2.4183e-10 - val_keras_psnr: 27.4776 - val_keras_ssim: 0.5279\n"
     ]
    },
    {
     "data": {
      "application/vnd.jupyter.widget-view+json": {
       "model_id": "",
       "version_major": 2,
       "version_minor": 0
      },
      "text/plain": [
       "HBox(children=(IntProgress(value=0, description='Epoch 845', max=10, style=ProgressStyle(description_width='in…"
      ]
     },
     "metadata": {},
     "output_type": "display_data"
    },
    {
     "name": "stdout",
     "output_type": "stream",
     "text": [
      "Epoch 846/1000\n",
      "10/10 - 28s - loss: 7.9929e-06 - mean_squared_error: 1.1789e-10 - keras_psnr: 27.0922 - keras_ssim: 0.4911 - val_loss: 1.0069e-05 - val_mean_squared_error: 2.4056e-10 - val_keras_psnr: 27.4973 - val_keras_ssim: 0.5284\n"
     ]
    },
    {
     "data": {
      "application/vnd.jupyter.widget-view+json": {
       "model_id": "",
       "version_major": 2,
       "version_minor": 0
      },
      "text/plain": [
       "HBox(children=(IntProgress(value=0, description='Epoch 846', max=10, style=ProgressStyle(description_width='in…"
      ]
     },
     "metadata": {},
     "output_type": "display_data"
    },
    {
     "name": "stdout",
     "output_type": "stream",
     "text": [
      "Epoch 847/1000\n",
      "10/10 - 29s - loss: 2.4416e-05 - mean_squared_error: 4.7810e-09 - keras_psnr: 26.6107 - keras_ssim: 0.5171 - val_loss: 1.0076e-05 - val_mean_squared_error: 2.4070e-10 - val_keras_psnr: 27.4899 - val_keras_ssim: 0.5282\n"
     ]
    },
    {
     "data": {
      "application/vnd.jupyter.widget-view+json": {
       "model_id": "",
       "version_major": 2,
       "version_minor": 0
      },
      "text/plain": [
       "HBox(children=(IntProgress(value=0, description='Epoch 847', max=10, style=ProgressStyle(description_width='in…"
      ]
     },
     "metadata": {},
     "output_type": "display_data"
    },
    {
     "name": "stdout",
     "output_type": "stream",
     "text": [
      "Epoch 848/1000\n",
      "10/10 - 28s - loss: 1.0072e-05 - mean_squared_error: 2.1111e-10 - keras_psnr: 27.2568 - keras_ssim: 0.5298 - val_loss: 1.0081e-05 - val_mean_squared_error: 2.4123e-10 - val_keras_psnr: 27.4903 - val_keras_ssim: 0.5282\n"
     ]
    },
    {
     "data": {
      "application/vnd.jupyter.widget-view+json": {
       "model_id": "",
       "version_major": 2,
       "version_minor": 0
      },
      "text/plain": [
       "HBox(children=(IntProgress(value=0, description='Epoch 848', max=10, style=ProgressStyle(description_width='in…"
      ]
     },
     "metadata": {},
     "output_type": "display_data"
    },
    {
     "name": "stdout",
     "output_type": "stream",
     "text": [
      "Epoch 849/1000\n",
      "10/10 - 29s - loss: 1.2293e-05 - mean_squared_error: 4.6455e-10 - keras_psnr: 25.4338 - keras_ssim: 0.4964 - val_loss: 1.0063e-05 - val_mean_squared_error: 2.4057e-10 - val_keras_psnr: 27.5076 - val_keras_ssim: 0.5288\n"
     ]
    },
    {
     "data": {
      "application/vnd.jupyter.widget-view+json": {
       "model_id": "",
       "version_major": 2,
       "version_minor": 0
      },
      "text/plain": [
       "HBox(children=(IntProgress(value=0, description='Epoch 849', max=10, style=ProgressStyle(description_width='in…"
      ]
     },
     "metadata": {},
     "output_type": "display_data"
    },
    {
     "name": "stdout",
     "output_type": "stream",
     "text": [
      "Epoch 850/1000\n",
      "10/10 - 28s - loss: 9.9989e-06 - mean_squared_error: 2.2640e-10 - keras_psnr: 26.2364 - keras_ssim: 0.5034 - val_loss: 1.0078e-05 - val_mean_squared_error: 2.4134e-10 - val_keras_psnr: 27.5006 - val_keras_ssim: 0.5287\n"
     ]
    },
    {
     "data": {
      "application/vnd.jupyter.widget-view+json": {
       "model_id": "",
       "version_major": 2,
       "version_minor": 0
      },
      "text/plain": [
       "HBox(children=(IntProgress(value=0, description='Epoch 850', max=10, style=ProgressStyle(description_width='in…"
      ]
     },
     "metadata": {},
     "output_type": "display_data"
    },
    {
     "name": "stdout",
     "output_type": "stream",
     "text": [
      "Epoch 851/1000\n",
      "10/10 - 29s - loss: 1.5732e-05 - mean_squared_error: 6.8110e-10 - keras_psnr: 25.6221 - keras_ssim: 0.5449 - val_loss: 1.0066e-05 - val_mean_squared_error: 2.3998e-10 - val_keras_psnr: 27.5029 - val_keras_ssim: 0.5286\n"
     ]
    },
    {
     "data": {
      "application/vnd.jupyter.widget-view+json": {
       "model_id": "",
       "version_major": 2,
       "version_minor": 0
      },
      "text/plain": [
       "HBox(children=(IntProgress(value=0, description='Epoch 851', max=10, style=ProgressStyle(description_width='in…"
      ]
     },
     "metadata": {},
     "output_type": "display_data"
    },
    {
     "name": "stdout",
     "output_type": "stream",
     "text": [
      "Epoch 852/1000\n",
      "10/10 - 28s - loss: 9.4687e-06 - mean_squared_error: 2.2040e-10 - keras_psnr: 26.3804 - keras_ssim: 0.4974 - val_loss: 1.0074e-05 - val_mean_squared_error: 2.4030e-10 - val_keras_psnr: 27.4895 - val_keras_ssim: 0.5282\n"
     ]
    },
    {
     "data": {
      "application/vnd.jupyter.widget-view+json": {
       "model_id": "",
       "version_major": 2,
       "version_minor": 0
      },
      "text/plain": [
       "HBox(children=(IntProgress(value=0, description='Epoch 852', max=10, style=ProgressStyle(description_width='in…"
      ]
     },
     "metadata": {},
     "output_type": "display_data"
    },
    {
     "name": "stdout",
     "output_type": "stream",
     "text": [
      "Epoch 853/1000\n",
      "10/10 - 28s - loss: 1.0270e-05 - mean_squared_error: 2.4632e-10 - keras_psnr: 27.1238 - keras_ssim: 0.5424 - val_loss: 1.0083e-05 - val_mean_squared_error: 2.4109e-10 - val_keras_psnr: 27.4826 - val_keras_ssim: 0.5280\n"
     ]
    },
    {
     "data": {
      "application/vnd.jupyter.widget-view+json": {
       "model_id": "",
       "version_major": 2,
       "version_minor": 0
      },
      "text/plain": [
       "HBox(children=(IntProgress(value=0, description='Epoch 853', max=10, style=ProgressStyle(description_width='in…"
      ]
     },
     "metadata": {},
     "output_type": "display_data"
    },
    {
     "name": "stdout",
     "output_type": "stream",
     "text": [
      "Epoch 854/1000\n",
      "10/10 - 28s - loss: 1.5565e-05 - mean_squared_error: 1.0151e-09 - keras_psnr: 25.4198 - keras_ssim: 0.5563 - val_loss: 1.0065e-05 - val_mean_squared_error: 2.4013e-10 - val_keras_psnr: 27.4954 - val_keras_ssim: 0.5283\n"
     ]
    },
    {
     "data": {
      "application/vnd.jupyter.widget-view+json": {
       "model_id": "",
       "version_major": 2,
       "version_minor": 0
      },
      "text/plain": [
       "HBox(children=(IntProgress(value=0, description='Epoch 854', max=10, style=ProgressStyle(description_width='in…"
      ]
     },
     "metadata": {},
     "output_type": "display_data"
    },
    {
     "name": "stdout",
     "output_type": "stream",
     "text": [
      "Epoch 855/1000\n",
      "10/10 - 28s - loss: 1.3738e-05 - mean_squared_error: 5.4419e-10 - keras_psnr: 28.6506 - keras_ssim: 0.6745 - val_loss: 1.0068e-05 - val_mean_squared_error: 2.4045e-10 - val_keras_psnr: 27.4932 - val_keras_ssim: 0.5285\n"
     ]
    },
    {
     "data": {
      "application/vnd.jupyter.widget-view+json": {
       "model_id": "",
       "version_major": 2,
       "version_minor": 0
      },
      "text/plain": [
       "HBox(children=(IntProgress(value=0, description='Epoch 855', max=10, style=ProgressStyle(description_width='in…"
      ]
     },
     "metadata": {},
     "output_type": "display_data"
    },
    {
     "name": "stdout",
     "output_type": "stream",
     "text": [
      "Epoch 856/1000\n",
      "10/10 - 27s - loss: 1.1143e-05 - mean_squared_error: 2.7444e-10 - keras_psnr: 26.2649 - keras_ssim: 0.5238 - val_loss: 1.0074e-05 - val_mean_squared_error: 2.4105e-10 - val_keras_psnr: 27.4935 - val_keras_ssim: 0.5285\n"
     ]
    },
    {
     "data": {
      "application/vnd.jupyter.widget-view+json": {
       "model_id": "",
       "version_major": 2,
       "version_minor": 0
      },
      "text/plain": [
       "HBox(children=(IntProgress(value=0, description='Epoch 856', max=10, style=ProgressStyle(description_width='in…"
      ]
     },
     "metadata": {},
     "output_type": "display_data"
    },
    {
     "name": "stdout",
     "output_type": "stream",
     "text": [
      "Epoch 857/1000\n",
      "10/10 - 28s - loss: 1.2735e-05 - mean_squared_error: 3.3937e-10 - keras_psnr: 25.9420 - keras_ssim: 0.4763 - val_loss: 1.0049e-05 - val_mean_squared_error: 2.3974e-10 - val_keras_psnr: 27.5147 - val_keras_ssim: 0.5291\n"
     ]
    },
    {
     "data": {
      "application/vnd.jupyter.widget-view+json": {
       "model_id": "",
       "version_major": 2,
       "version_minor": 0
      },
      "text/plain": [
       "HBox(children=(IntProgress(value=0, description='Epoch 857', max=10, style=ProgressStyle(description_width='in…"
      ]
     },
     "metadata": {},
     "output_type": "display_data"
    },
    {
     "name": "stdout",
     "output_type": "stream",
     "text": [
      "Epoch 858/1000\n",
      "10/10 - 27s - loss: 1.2570e-05 - mean_squared_error: 3.7828e-10 - keras_psnr: 26.7211 - keras_ssim: 0.5708 - val_loss: 1.0066e-05 - val_mean_squared_error: 2.4038e-10 - val_keras_psnr: 27.5031 - val_keras_ssim: 0.5289\n"
     ]
    },
    {
     "data": {
      "application/vnd.jupyter.widget-view+json": {
       "model_id": "",
       "version_major": 2,
       "version_minor": 0
      },
      "text/plain": [
       "HBox(children=(IntProgress(value=0, description='Epoch 858', max=10, style=ProgressStyle(description_width='in…"
      ]
     },
     "metadata": {},
     "output_type": "display_data"
    },
    {
     "name": "stdout",
     "output_type": "stream",
     "text": [
      "Epoch 859/1000\n",
      "10/10 - 29s - loss: 8.5814e-06 - mean_squared_error: 1.1463e-10 - keras_psnr: 25.1500 - keras_ssim: 0.3839 - val_loss: 1.0061e-05 - val_mean_squared_error: 2.4029e-10 - val_keras_psnr: 27.5056 - val_keras_ssim: 0.5289\n"
     ]
    },
    {
     "data": {
      "application/vnd.jupyter.widget-view+json": {
       "model_id": "",
       "version_major": 2,
       "version_minor": 0
      },
      "text/plain": [
       "HBox(children=(IntProgress(value=0, description='Epoch 859', max=10, style=ProgressStyle(description_width='in…"
      ]
     },
     "metadata": {},
     "output_type": "display_data"
    },
    {
     "name": "stdout",
     "output_type": "stream",
     "text": [
      "Epoch 860/1000\n",
      "10/10 - 28s - loss: 1.2370e-05 - mean_squared_error: 2.5253e-10 - keras_psnr: 25.3278 - keras_ssim: 0.4586 - val_loss: 1.0058e-05 - val_mean_squared_error: 2.4028e-10 - val_keras_psnr: 27.5147 - val_keras_ssim: 0.5293\n"
     ]
    },
    {
     "data": {
      "application/vnd.jupyter.widget-view+json": {
       "model_id": "",
       "version_major": 2,
       "version_minor": 0
      },
      "text/plain": [
       "HBox(children=(IntProgress(value=0, description='Epoch 860', max=10, style=ProgressStyle(description_width='in…"
      ]
     },
     "metadata": {},
     "output_type": "display_data"
    },
    {
     "name": "stdout",
     "output_type": "stream",
     "text": [
      "Epoch 861/1000\n",
      "10/10 - 27s - loss: 1.1258e-05 - mean_squared_error: 2.5935e-10 - keras_psnr: 26.6391 - keras_ssim: 0.5277 - val_loss: 1.0051e-05 - val_mean_squared_error: 2.3921e-10 - val_keras_psnr: 27.5067 - val_keras_ssim: 0.5289\n"
     ]
    },
    {
     "data": {
      "application/vnd.jupyter.widget-view+json": {
       "model_id": "",
       "version_major": 2,
       "version_minor": 0
      },
      "text/plain": [
       "HBox(children=(IntProgress(value=0, description='Epoch 861', max=10, style=ProgressStyle(description_width='in…"
      ]
     },
     "metadata": {},
     "output_type": "display_data"
    },
    {
     "name": "stdout",
     "output_type": "stream",
     "text": [
      "Epoch 862/1000\n",
      "10/10 - 28s - loss: 1.0201e-05 - mean_squared_error: 2.3762e-10 - keras_psnr: 25.7718 - keras_ssim: 0.4532 - val_loss: 1.0070e-05 - val_mean_squared_error: 2.4115e-10 - val_keras_psnr: 27.4946 - val_keras_ssim: 0.5288\n"
     ]
    },
    {
     "data": {
      "application/vnd.jupyter.widget-view+json": {
       "model_id": "",
       "version_major": 2,
       "version_minor": 0
      },
      "text/plain": [
       "HBox(children=(IntProgress(value=0, description='Epoch 862', max=10, style=ProgressStyle(description_width='in…"
      ]
     },
     "metadata": {},
     "output_type": "display_data"
    },
    {
     "name": "stdout",
     "output_type": "stream",
     "text": [
      "Epoch 863/1000\n",
      "10/10 - 28s - loss: 1.5512e-05 - mean_squared_error: 4.8270e-10 - keras_psnr: 27.4274 - keras_ssim: 0.5758 - val_loss: 1.0027e-05 - val_mean_squared_error: 2.3837e-10 - val_keras_psnr: 27.5287 - val_keras_ssim: 0.5297\n"
     ]
    },
    {
     "data": {
      "application/vnd.jupyter.widget-view+json": {
       "model_id": "",
       "version_major": 2,
       "version_minor": 0
      },
      "text/plain": [
       "HBox(children=(IntProgress(value=0, description='Epoch 863', max=10, style=ProgressStyle(description_width='in…"
      ]
     },
     "metadata": {},
     "output_type": "display_data"
    },
    {
     "name": "stdout",
     "output_type": "stream",
     "text": [
      "Epoch 864/1000\n",
      "10/10 - 29s - loss: 1.3853e-05 - mean_squared_error: 4.4403e-10 - keras_psnr: 26.7596 - keras_ssim: 0.5290 - val_loss: 1.0068e-05 - val_mean_squared_error: 2.4103e-10 - val_keras_psnr: 27.5003 - val_keras_ssim: 0.5289\n"
     ]
    },
    {
     "data": {
      "application/vnd.jupyter.widget-view+json": {
       "model_id": "",
       "version_major": 2,
       "version_minor": 0
      },
      "text/plain": [
       "HBox(children=(IntProgress(value=0, description='Epoch 864', max=10, style=ProgressStyle(description_width='in…"
      ]
     },
     "metadata": {},
     "output_type": "display_data"
    },
    {
     "name": "stdout",
     "output_type": "stream",
     "text": [
      "Epoch 865/1000\n",
      "10/10 - 28s - loss: 8.8525e-06 - mean_squared_error: 1.4960e-10 - keras_psnr: 24.1628 - keras_ssim: 0.3976 - val_loss: 1.0039e-05 - val_mean_squared_error: 2.3929e-10 - val_keras_psnr: 27.5255 - val_keras_ssim: 0.5297\n"
     ]
    },
    {
     "data": {
      "application/vnd.jupyter.widget-view+json": {
       "model_id": "",
       "version_major": 2,
       "version_minor": 0
      },
      "text/plain": [
       "HBox(children=(IntProgress(value=0, description='Epoch 865', max=10, style=ProgressStyle(description_width='in…"
      ]
     },
     "metadata": {},
     "output_type": "display_data"
    },
    {
     "name": "stdout",
     "output_type": "stream",
     "text": [
      "Epoch 866/1000\n",
      "10/10 - 28s - loss: 1.1437e-05 - mean_squared_error: 2.2873e-10 - keras_psnr: 26.3875 - keras_ssim: 0.4923 - val_loss: 1.0055e-05 - val_mean_squared_error: 2.4064e-10 - val_keras_psnr: 27.5154 - val_keras_ssim: 0.5294\n"
     ]
    },
    {
     "data": {
      "application/vnd.jupyter.widget-view+json": {
       "model_id": "",
       "version_major": 2,
       "version_minor": 0
      },
      "text/plain": [
       "HBox(children=(IntProgress(value=0, description='Epoch 866', max=10, style=ProgressStyle(description_width='in…"
      ]
     },
     "metadata": {},
     "output_type": "display_data"
    },
    {
     "name": "stdout",
     "output_type": "stream",
     "text": [
      "Epoch 867/1000\n",
      "10/10 - 27s - loss: 1.1654e-05 - mean_squared_error: 5.6458e-10 - keras_psnr: 23.6826 - keras_ssim: 0.3671 - val_loss: 1.0050e-05 - val_mean_squared_error: 2.4032e-10 - val_keras_psnr: 27.5170 - val_keras_ssim: 0.5296\n"
     ]
    },
    {
     "data": {
      "application/vnd.jupyter.widget-view+json": {
       "model_id": "",
       "version_major": 2,
       "version_minor": 0
      },
      "text/plain": [
       "HBox(children=(IntProgress(value=0, description='Epoch 867', max=10, style=ProgressStyle(description_width='in…"
      ]
     },
     "metadata": {},
     "output_type": "display_data"
    },
    {
     "name": "stdout",
     "output_type": "stream",
     "text": [
      "Epoch 868/1000\n",
      "10/10 - 28s - loss: 1.0507e-05 - mean_squared_error: 3.4133e-10 - keras_psnr: 27.1211 - keras_ssim: 0.5247 - val_loss: 1.0052e-05 - val_mean_squared_error: 2.4051e-10 - val_keras_psnr: 27.5083 - val_keras_ssim: 0.5292\n"
     ]
    },
    {
     "data": {
      "application/vnd.jupyter.widget-view+json": {
       "model_id": "",
       "version_major": 2,
       "version_minor": 0
      },
      "text/plain": [
       "HBox(children=(IntProgress(value=0, description='Epoch 868', max=10, style=ProgressStyle(description_width='in…"
      ]
     },
     "metadata": {},
     "output_type": "display_data"
    },
    {
     "name": "stdout",
     "output_type": "stream",
     "text": [
      "Epoch 869/1000\n",
      "10/10 - 28s - loss: 1.3653e-05 - mean_squared_error: 5.1230e-10 - keras_psnr: 26.2266 - keras_ssim: 0.4962 - val_loss: 1.0036e-05 - val_mean_squared_error: 2.3889e-10 - val_keras_psnr: 27.5196 - val_keras_ssim: 0.5296\n"
     ]
    },
    {
     "data": {
      "application/vnd.jupyter.widget-view+json": {
       "model_id": "",
       "version_major": 2,
       "version_minor": 0
      },
      "text/plain": [
       "HBox(children=(IntProgress(value=0, description='Epoch 869', max=10, style=ProgressStyle(description_width='in…"
      ]
     },
     "metadata": {},
     "output_type": "display_data"
    },
    {
     "name": "stdout",
     "output_type": "stream",
     "text": [
      "Epoch 870/1000\n",
      "10/10 - 28s - loss: 9.7219e-06 - mean_squared_error: 2.0296e-10 - keras_psnr: 27.5952 - keras_ssim: 0.5490 - val_loss: 1.0046e-05 - val_mean_squared_error: 2.3987e-10 - val_keras_psnr: 27.5178 - val_keras_ssim: 0.5295\n"
     ]
    },
    {
     "data": {
      "application/vnd.jupyter.widget-view+json": {
       "model_id": "",
       "version_major": 2,
       "version_minor": 0
      },
      "text/plain": [
       "HBox(children=(IntProgress(value=0, description='Epoch 870', max=10, style=ProgressStyle(description_width='in…"
      ]
     },
     "metadata": {},
     "output_type": "display_data"
    },
    {
     "name": "stdout",
     "output_type": "stream",
     "text": [
      "Epoch 871/1000\n",
      "10/10 - 28s - loss: 1.7311e-05 - mean_squared_error: 7.3567e-10 - keras_psnr: 25.5651 - keras_ssim: 0.5192 - val_loss: 1.0035e-05 - val_mean_squared_error: 2.3975e-10 - val_keras_psnr: 27.5269 - val_keras_ssim: 0.5299\n"
     ]
    },
    {
     "data": {
      "application/vnd.jupyter.widget-view+json": {
       "model_id": "",
       "version_major": 2,
       "version_minor": 0
      },
      "text/plain": [
       "HBox(children=(IntProgress(value=0, description='Epoch 871', max=10, style=ProgressStyle(description_width='in…"
      ]
     },
     "metadata": {},
     "output_type": "display_data"
    },
    {
     "name": "stdout",
     "output_type": "stream",
     "text": [
      "Epoch 872/1000\n",
      "10/10 - 28s - loss: 1.0328e-05 - mean_squared_error: 1.5687e-10 - keras_psnr: 26.8411 - keras_ssim: 0.4935 - val_loss: 1.0047e-05 - val_mean_squared_error: 2.4027e-10 - val_keras_psnr: 27.5131 - val_keras_ssim: 0.5296\n"
     ]
    },
    {
     "data": {
      "application/vnd.jupyter.widget-view+json": {
       "model_id": "",
       "version_major": 2,
       "version_minor": 0
      },
      "text/plain": [
       "HBox(children=(IntProgress(value=0, description='Epoch 872', max=10, style=ProgressStyle(description_width='in…"
      ]
     },
     "metadata": {},
     "output_type": "display_data"
    },
    {
     "name": "stdout",
     "output_type": "stream",
     "text": [
      "Epoch 873/1000\n",
      "10/10 - 28s - loss: 1.0042e-05 - mean_squared_error: 2.9149e-10 - keras_psnr: 27.0177 - keras_ssim: 0.5613 - val_loss: 1.0037e-05 - val_mean_squared_error: 2.3914e-10 - val_keras_psnr: 27.5211 - val_keras_ssim: 0.5297\n"
     ]
    },
    {
     "data": {
      "application/vnd.jupyter.widget-view+json": {
       "model_id": "",
       "version_major": 2,
       "version_minor": 0
      },
      "text/plain": [
       "HBox(children=(IntProgress(value=0, description='Epoch 873', max=10, style=ProgressStyle(description_width='in…"
      ]
     },
     "metadata": {},
     "output_type": "display_data"
    },
    {
     "name": "stdout",
     "output_type": "stream",
     "text": [
      "Epoch 874/1000\n",
      "10/10 - 27s - loss: 1.5543e-05 - mean_squared_error: 4.5633e-10 - keras_psnr: 26.7456 - keras_ssim: 0.5369 - val_loss: 1.0051e-05 - val_mean_squared_error: 2.4012e-10 - val_keras_psnr: 27.5135 - val_keras_ssim: 0.5294\n"
     ]
    },
    {
     "data": {
      "application/vnd.jupyter.widget-view+json": {
       "model_id": "",
       "version_major": 2,
       "version_minor": 0
      },
      "text/plain": [
       "HBox(children=(IntProgress(value=0, description='Epoch 874', max=10, style=ProgressStyle(description_width='in…"
      ]
     },
     "metadata": {},
     "output_type": "display_data"
    },
    {
     "name": "stdout",
     "output_type": "stream",
     "text": [
      "Epoch 875/1000\n",
      "10/10 - 27s - loss: 1.1130e-05 - mean_squared_error: 2.6578e-10 - keras_psnr: 27.6789 - keras_ssim: 0.5672 - val_loss: 1.0059e-05 - val_mean_squared_error: 2.4111e-10 - val_keras_psnr: 27.5016 - val_keras_ssim: 0.5293\n"
     ]
    },
    {
     "data": {
      "application/vnd.jupyter.widget-view+json": {
       "model_id": "",
       "version_major": 2,
       "version_minor": 0
      },
      "text/plain": [
       "HBox(children=(IntProgress(value=0, description='Epoch 875', max=10, style=ProgressStyle(description_width='in…"
      ]
     },
     "metadata": {},
     "output_type": "display_data"
    },
    {
     "name": "stdout",
     "output_type": "stream",
     "text": [
      "Epoch 876/1000\n",
      "10/10 - 29s - loss: 1.1953e-05 - mean_squared_error: 3.3348e-10 - keras_psnr: 27.5106 - keras_ssim: 0.5528 - val_loss: 1.0025e-05 - val_mean_squared_error: 2.3875e-10 - val_keras_psnr: 27.5450 - val_keras_ssim: 0.5307\n"
     ]
    },
    {
     "data": {
      "application/vnd.jupyter.widget-view+json": {
       "model_id": "",
       "version_major": 2,
       "version_minor": 0
      },
      "text/plain": [
       "HBox(children=(IntProgress(value=0, description='Epoch 876', max=10, style=ProgressStyle(description_width='in…"
      ]
     },
     "metadata": {},
     "output_type": "display_data"
    },
    {
     "name": "stdout",
     "output_type": "stream",
     "text": [
      "Epoch 877/1000\n",
      "10/10 - 28s - loss: 1.3291e-05 - mean_squared_error: 3.7549e-10 - keras_psnr: 27.1820 - keras_ssim: 0.5702 - val_loss: 1.0040e-05 - val_mean_squared_error: 2.3968e-10 - val_keras_psnr: 27.5232 - val_keras_ssim: 0.5297\n"
     ]
    },
    {
     "data": {
      "application/vnd.jupyter.widget-view+json": {
       "model_id": "",
       "version_major": 2,
       "version_minor": 0
      },
      "text/plain": [
       "HBox(children=(IntProgress(value=0, description='Epoch 877', max=10, style=ProgressStyle(description_width='in…"
      ]
     },
     "metadata": {},
     "output_type": "display_data"
    },
    {
     "name": "stdout",
     "output_type": "stream",
     "text": [
      "Epoch 878/1000\n",
      "10/10 - 28s - loss: 1.0473e-05 - mean_squared_error: 2.3065e-10 - keras_psnr: 24.9918 - keras_ssim: 0.4304 - val_loss: 1.0041e-05 - val_mean_squared_error: 2.4005e-10 - val_keras_psnr: 27.5189 - val_keras_ssim: 0.5298\n"
     ]
    },
    {
     "data": {
      "application/vnd.jupyter.widget-view+json": {
       "model_id": "",
       "version_major": 2,
       "version_minor": 0
      },
      "text/plain": [
       "HBox(children=(IntProgress(value=0, description='Epoch 878', max=10, style=ProgressStyle(description_width='in…"
      ]
     },
     "metadata": {},
     "output_type": "display_data"
    },
    {
     "name": "stdout",
     "output_type": "stream",
     "text": [
      "Epoch 879/1000\n",
      "10/10 - 29s - loss: 1.0114e-05 - mean_squared_error: 2.9182e-10 - keras_psnr: 28.0246 - keras_ssim: 0.5827 - val_loss: 1.0029e-05 - val_mean_squared_error: 2.3886e-10 - val_keras_psnr: 27.5295 - val_keras_ssim: 0.5300\n"
     ]
    },
    {
     "data": {
      "application/vnd.jupyter.widget-view+json": {
       "model_id": "",
       "version_major": 2,
       "version_minor": 0
      },
      "text/plain": [
       "HBox(children=(IntProgress(value=0, description='Epoch 879', max=10, style=ProgressStyle(description_width='in…"
      ]
     },
     "metadata": {},
     "output_type": "display_data"
    },
    {
     "name": "stdout",
     "output_type": "stream",
     "text": [
      "Epoch 880/1000\n",
      "10/10 - 29s - loss: 9.2586e-06 - mean_squared_error: 2.4727e-10 - keras_psnr: 25.9732 - keras_ssim: 0.4866 - val_loss: 1.0029e-05 - val_mean_squared_error: 2.3915e-10 - val_keras_psnr: 27.5375 - val_keras_ssim: 0.5304\n"
     ]
    },
    {
     "data": {
      "application/vnd.jupyter.widget-view+json": {
       "model_id": "",
       "version_major": 2,
       "version_minor": 0
      },
      "text/plain": [
       "HBox(children=(IntProgress(value=0, description='Epoch 880', max=10, style=ProgressStyle(description_width='in…"
      ]
     },
     "metadata": {},
     "output_type": "display_data"
    },
    {
     "name": "stdout",
     "output_type": "stream",
     "text": [
      "Epoch 881/1000\n",
      "10/10 - 28s - loss: 1.3236e-05 - mean_squared_error: 5.1565e-10 - keras_psnr: 27.2923 - keras_ssim: 0.5904 - val_loss: 1.0025e-05 - val_mean_squared_error: 2.3868e-10 - val_keras_psnr: 27.5308 - val_keras_ssim: 0.5300\n"
     ]
    },
    {
     "data": {
      "application/vnd.jupyter.widget-view+json": {
       "model_id": "",
       "version_major": 2,
       "version_minor": 0
      },
      "text/plain": [
       "HBox(children=(IntProgress(value=0, description='Epoch 881', max=10, style=ProgressStyle(description_width='in…"
      ]
     },
     "metadata": {},
     "output_type": "display_data"
    },
    {
     "name": "stdout",
     "output_type": "stream",
     "text": [
      "Epoch 882/1000\n",
      "10/10 - 28s - loss: 1.4005e-05 - mean_squared_error: 4.9235e-10 - keras_psnr: 26.9823 - keras_ssim: 0.6158 - val_loss: 1.0056e-05 - val_mean_squared_error: 2.4070e-10 - val_keras_psnr: 27.4996 - val_keras_ssim: 0.5292\n"
     ]
    },
    {
     "data": {
      "application/vnd.jupyter.widget-view+json": {
       "model_id": "",
       "version_major": 2,
       "version_minor": 0
      },
      "text/plain": [
       "HBox(children=(IntProgress(value=0, description='Epoch 882', max=10, style=ProgressStyle(description_width='in…"
      ]
     },
     "metadata": {},
     "output_type": "display_data"
    },
    {
     "name": "stdout",
     "output_type": "stream",
     "text": [
      "Epoch 883/1000\n",
      "10/10 - 28s - loss: 9.3921e-06 - mean_squared_error: 2.1863e-10 - keras_psnr: 26.0344 - keras_ssim: 0.4745 - val_loss: 1.0058e-05 - val_mean_squared_error: 2.4035e-10 - val_keras_psnr: 27.4936 - val_keras_ssim: 0.5292\n"
     ]
    },
    {
     "data": {
      "application/vnd.jupyter.widget-view+json": {
       "model_id": "",
       "version_major": 2,
       "version_minor": 0
      },
      "text/plain": [
       "HBox(children=(IntProgress(value=0, description='Epoch 883', max=10, style=ProgressStyle(description_width='in…"
      ]
     },
     "metadata": {},
     "output_type": "display_data"
    },
    {
     "name": "stdout",
     "output_type": "stream",
     "text": [
      "Epoch 884/1000\n",
      "10/10 - 28s - loss: 9.7486e-06 - mean_squared_error: 2.5811e-10 - keras_psnr: 26.5566 - keras_ssim: 0.5368 - val_loss: 1.0034e-05 - val_mean_squared_error: 2.3954e-10 - val_keras_psnr: 27.5245 - val_keras_ssim: 0.5300\n"
     ]
    },
    {
     "data": {
      "application/vnd.jupyter.widget-view+json": {
       "model_id": "",
       "version_major": 2,
       "version_minor": 0
      },
      "text/plain": [
       "HBox(children=(IntProgress(value=0, description='Epoch 884', max=10, style=ProgressStyle(description_width='in…"
      ]
     },
     "metadata": {},
     "output_type": "display_data"
    },
    {
     "name": "stdout",
     "output_type": "stream",
     "text": [
      "Epoch 885/1000\n",
      "10/10 - 27s - loss: 1.2784e-05 - mean_squared_error: 2.9147e-10 - keras_psnr: 26.3081 - keras_ssim: 0.5045 - val_loss: 1.0033e-05 - val_mean_squared_error: 2.3936e-10 - val_keras_psnr: 27.5294 - val_keras_ssim: 0.5302\n"
     ]
    },
    {
     "data": {
      "application/vnd.jupyter.widget-view+json": {
       "model_id": "",
       "version_major": 2,
       "version_minor": 0
      },
      "text/plain": [
       "HBox(children=(IntProgress(value=0, description='Epoch 885', max=10, style=ProgressStyle(description_width='in…"
      ]
     },
     "metadata": {},
     "output_type": "display_data"
    },
    {
     "name": "stdout",
     "output_type": "stream",
     "text": [
      "Epoch 886/1000\n",
      "10/10 - 28s - loss: 9.8785e-06 - mean_squared_error: 3.8153e-10 - keras_psnr: 26.8594 - keras_ssim: 0.5895 - val_loss: 1.0031e-05 - val_mean_squared_error: 2.3892e-10 - val_keras_psnr: 27.5236 - val_keras_ssim: 0.5300\n"
     ]
    },
    {
     "data": {
      "application/vnd.jupyter.widget-view+json": {
       "model_id": "",
       "version_major": 2,
       "version_minor": 0
      },
      "text/plain": [
       "HBox(children=(IntProgress(value=0, description='Epoch 886', max=10, style=ProgressStyle(description_width='in…"
      ]
     },
     "metadata": {},
     "output_type": "display_data"
    },
    {
     "name": "stdout",
     "output_type": "stream",
     "text": [
      "Epoch 887/1000\n",
      "10/10 - 28s - loss: 9.4902e-06 - mean_squared_error: 1.9324e-10 - keras_psnr: 27.4248 - keras_ssim: 0.5619 - val_loss: 1.0030e-05 - val_mean_squared_error: 2.3886e-10 - val_keras_psnr: 27.5250 - val_keras_ssim: 0.5300\n"
     ]
    },
    {
     "data": {
      "application/vnd.jupyter.widget-view+json": {
       "model_id": "",
       "version_major": 2,
       "version_minor": 0
      },
      "text/plain": [
       "HBox(children=(IntProgress(value=0, description='Epoch 887', max=10, style=ProgressStyle(description_width='in…"
      ]
     },
     "metadata": {},
     "output_type": "display_data"
    },
    {
     "name": "stdout",
     "output_type": "stream",
     "text": [
      "Epoch 888/1000\n",
      "10/10 - 28s - loss: 1.1536e-05 - mean_squared_error: 4.2146e-10 - keras_psnr: 26.6794 - keras_ssim: 0.5522 - val_loss: 1.0026e-05 - val_mean_squared_error: 2.3889e-10 - val_keras_psnr: 27.5339 - val_keras_ssim: 0.5304\n"
     ]
    },
    {
     "data": {
      "application/vnd.jupyter.widget-view+json": {
       "model_id": "",
       "version_major": 2,
       "version_minor": 0
      },
      "text/plain": [
       "HBox(children=(IntProgress(value=0, description='Epoch 888', max=10, style=ProgressStyle(description_width='in…"
      ]
     },
     "metadata": {},
     "output_type": "display_data"
    },
    {
     "name": "stdout",
     "output_type": "stream",
     "text": [
      "Epoch 889/1000\n",
      "10/10 - 28s - loss: 1.1559e-05 - mean_squared_error: 2.2571e-10 - keras_psnr: 27.4533 - keras_ssim: 0.5676 - val_loss: 1.0028e-05 - val_mean_squared_error: 2.3896e-10 - val_keras_psnr: 27.5320 - val_keras_ssim: 0.5303\n"
     ]
    },
    {
     "data": {
      "application/vnd.jupyter.widget-view+json": {
       "model_id": "",
       "version_major": 2,
       "version_minor": 0
      },
      "text/plain": [
       "HBox(children=(IntProgress(value=0, description='Epoch 889', max=10, style=ProgressStyle(description_width='in…"
      ]
     },
     "metadata": {},
     "output_type": "display_data"
    },
    {
     "name": "stdout",
     "output_type": "stream",
     "text": [
      "Epoch 890/1000\n",
      "10/10 - 28s - loss: 1.2694e-05 - mean_squared_error: 4.2055e-10 - keras_psnr: 27.6730 - keras_ssim: 0.6008 - val_loss: 1.0039e-05 - val_mean_squared_error: 2.3970e-10 - val_keras_psnr: 27.5261 - val_keras_ssim: 0.5303\n"
     ]
    },
    {
     "data": {
      "application/vnd.jupyter.widget-view+json": {
       "model_id": "",
       "version_major": 2,
       "version_minor": 0
      },
      "text/plain": [
       "HBox(children=(IntProgress(value=0, description='Epoch 890', max=10, style=ProgressStyle(description_width='in…"
      ]
     },
     "metadata": {},
     "output_type": "display_data"
    },
    {
     "name": "stdout",
     "output_type": "stream",
     "text": [
      "Epoch 891/1000\n",
      "10/10 - 28s - loss: 1.6910e-05 - mean_squared_error: 6.7736e-10 - keras_psnr: 27.1416 - keras_ssim: 0.5953 - val_loss: 1.0050e-05 - val_mean_squared_error: 2.4064e-10 - val_keras_psnr: 27.5090 - val_keras_ssim: 0.5298\n"
     ]
    },
    {
     "data": {
      "application/vnd.jupyter.widget-view+json": {
       "model_id": "",
       "version_major": 2,
       "version_minor": 0
      },
      "text/plain": [
       "HBox(children=(IntProgress(value=0, description='Epoch 891', max=10, style=ProgressStyle(description_width='in…"
      ]
     },
     "metadata": {},
     "output_type": "display_data"
    },
    {
     "name": "stdout",
     "output_type": "stream",
     "text": [
      "Epoch 892/1000\n",
      "10/10 - 27s - loss: 1.1875e-05 - mean_squared_error: 2.2572e-10 - keras_psnr: 25.5717 - keras_ssim: 0.4786 - val_loss: 1.0047e-05 - val_mean_squared_error: 2.3990e-10 - val_keras_psnr: 27.5054 - val_keras_ssim: 0.5296\n"
     ]
    },
    {
     "data": {
      "application/vnd.jupyter.widget-view+json": {
       "model_id": "",
       "version_major": 2,
       "version_minor": 0
      },
      "text/plain": [
       "HBox(children=(IntProgress(value=0, description='Epoch 892', max=10, style=ProgressStyle(description_width='in…"
      ]
     },
     "metadata": {},
     "output_type": "display_data"
    },
    {
     "name": "stdout",
     "output_type": "stream",
     "text": [
      "Epoch 893/1000\n",
      "10/10 - 28s - loss: 9.0395e-06 - mean_squared_error: 1.7055e-10 - keras_psnr: 24.5727 - keras_ssim: 0.4006 - val_loss: 1.0026e-05 - val_mean_squared_error: 2.3890e-10 - val_keras_psnr: 27.5276 - val_keras_ssim: 0.5303\n"
     ]
    },
    {
     "data": {
      "application/vnd.jupyter.widget-view+json": {
       "model_id": "",
       "version_major": 2,
       "version_minor": 0
      },
      "text/plain": [
       "HBox(children=(IntProgress(value=0, description='Epoch 893', max=10, style=ProgressStyle(description_width='in…"
      ]
     },
     "metadata": {},
     "output_type": "display_data"
    },
    {
     "name": "stdout",
     "output_type": "stream",
     "text": [
      "Epoch 894/1000\n",
      "10/10 - 29s - loss: 1.1819e-05 - mean_squared_error: 3.6225e-10 - keras_psnr: 26.3579 - keras_ssim: 0.5303 - val_loss: 1.0016e-05 - val_mean_squared_error: 2.3827e-10 - val_keras_psnr: 27.5408 - val_keras_ssim: 0.5306\n"
     ]
    },
    {
     "data": {
      "application/vnd.jupyter.widget-view+json": {
       "model_id": "",
       "version_major": 2,
       "version_minor": 0
      },
      "text/plain": [
       "HBox(children=(IntProgress(value=0, description='Epoch 894', max=10, style=ProgressStyle(description_width='in…"
      ]
     },
     "metadata": {},
     "output_type": "display_data"
    },
    {
     "name": "stdout",
     "output_type": "stream",
     "text": [
      "Epoch 895/1000\n",
      "10/10 - 27s - loss: 8.1834e-06 - mean_squared_error: 1.7303e-10 - keras_psnr: 27.2398 - keras_ssim: 0.5223 - val_loss: 1.0029e-05 - val_mean_squared_error: 2.3958e-10 - val_keras_psnr: 27.5429 - val_keras_ssim: 0.5310\n"
     ]
    },
    {
     "data": {
      "application/vnd.jupyter.widget-view+json": {
       "model_id": "",
       "version_major": 2,
       "version_minor": 0
      },
      "text/plain": [
       "HBox(children=(IntProgress(value=0, description='Epoch 895', max=10, style=ProgressStyle(description_width='in…"
      ]
     },
     "metadata": {},
     "output_type": "display_data"
    },
    {
     "name": "stdout",
     "output_type": "stream",
     "text": [
      "Epoch 896/1000\n",
      "10/10 - 28s - loss: 1.0705e-05 - mean_squared_error: 2.3071e-10 - keras_psnr: 26.7141 - keras_ssim: 0.4787 - val_loss: 1.0037e-05 - val_mean_squared_error: 2.3995e-10 - val_keras_psnr: 27.5357 - val_keras_ssim: 0.5307\n"
     ]
    },
    {
     "data": {
      "application/vnd.jupyter.widget-view+json": {
       "model_id": "",
       "version_major": 2,
       "version_minor": 0
      },
      "text/plain": [
       "HBox(children=(IntProgress(value=0, description='Epoch 896', max=10, style=ProgressStyle(description_width='in…"
      ]
     },
     "metadata": {},
     "output_type": "display_data"
    },
    {
     "name": "stdout",
     "output_type": "stream",
     "text": [
      "Epoch 897/1000\n",
      "10/10 - 28s - loss: 1.0633e-05 - mean_squared_error: 2.2258e-10 - keras_psnr: 25.6054 - keras_ssim: 0.4656 - val_loss: 1.0035e-05 - val_mean_squared_error: 2.3951e-10 - val_keras_psnr: 27.5205 - val_keras_ssim: 0.5299\n"
     ]
    },
    {
     "data": {
      "application/vnd.jupyter.widget-view+json": {
       "model_id": "",
       "version_major": 2,
       "version_minor": 0
      },
      "text/plain": [
       "HBox(children=(IntProgress(value=0, description='Epoch 897', max=10, style=ProgressStyle(description_width='in…"
      ]
     },
     "metadata": {},
     "output_type": "display_data"
    },
    {
     "name": "stdout",
     "output_type": "stream",
     "text": [
      "Epoch 898/1000\n",
      "10/10 - 28s - loss: 1.2832e-05 - mean_squared_error: 1.1137e-09 - keras_psnr: 22.6656 - keras_ssim: 0.4103 - val_loss: 1.0026e-05 - val_mean_squared_error: 2.3940e-10 - val_keras_psnr: 27.5275 - val_keras_ssim: 0.5303\n"
     ]
    },
    {
     "data": {
      "application/vnd.jupyter.widget-view+json": {
       "model_id": "",
       "version_major": 2,
       "version_minor": 0
      },
      "text/plain": [
       "HBox(children=(IntProgress(value=0, description='Epoch 898', max=10, style=ProgressStyle(description_width='in…"
      ]
     },
     "metadata": {},
     "output_type": "display_data"
    },
    {
     "name": "stdout",
     "output_type": "stream",
     "text": [
      "Epoch 899/1000\n",
      "10/10 - 28s - loss: 1.2493e-05 - mean_squared_error: 5.1517e-10 - keras_psnr: 28.2548 - keras_ssim: 0.6470 - val_loss: 1.0008e-05 - val_mean_squared_error: 2.3798e-10 - val_keras_psnr: 27.5527 - val_keras_ssim: 0.5311\n"
     ]
    },
    {
     "data": {
      "application/vnd.jupyter.widget-view+json": {
       "model_id": "",
       "version_major": 2,
       "version_minor": 0
      },
      "text/plain": [
       "HBox(children=(IntProgress(value=0, description='Epoch 899', max=10, style=ProgressStyle(description_width='in…"
      ]
     },
     "metadata": {},
     "output_type": "display_data"
    },
    {
     "name": "stdout",
     "output_type": "stream",
     "text": [
      "Epoch 900/1000\n",
      "10/10 - 28s - loss: 1.0543e-05 - mean_squared_error: 2.7428e-10 - keras_psnr: 27.4240 - keras_ssim: 0.5712 - val_loss: 1.0024e-05 - val_mean_squared_error: 2.3947e-10 - val_keras_psnr: 27.5420 - val_keras_ssim: 0.5309\n"
     ]
    },
    {
     "data": {
      "application/vnd.jupyter.widget-view+json": {
       "model_id": "",
       "version_major": 2,
       "version_minor": 0
      },
      "text/plain": [
       "HBox(children=(IntProgress(value=0, description='Epoch 900', max=10, style=ProgressStyle(description_width='in…"
      ]
     },
     "metadata": {},
     "output_type": "display_data"
    },
    {
     "name": "stdout",
     "output_type": "stream",
     "text": [
      "Epoch 901/1000\n",
      "10/10 - 28s - loss: 1.5819e-05 - mean_squared_error: 1.3163e-09 - keras_psnr: 24.4229 - keras_ssim: 0.4608 - val_loss: 1.0009e-05 - val_mean_squared_error: 2.3862e-10 - val_keras_psnr: 27.5463 - val_keras_ssim: 0.5308\n"
     ]
    },
    {
     "data": {
      "application/vnd.jupyter.widget-view+json": {
       "model_id": "",
       "version_major": 2,
       "version_minor": 0
      },
      "text/plain": [
       "HBox(children=(IntProgress(value=0, description='Epoch 901', max=10, style=ProgressStyle(description_width='in…"
      ]
     },
     "metadata": {},
     "output_type": "display_data"
    },
    {
     "name": "stdout",
     "output_type": "stream",
     "text": [
      "Epoch 902/1000\n",
      "10/10 - 28s - loss: 9.2832e-06 - mean_squared_error: 1.5322e-10 - keras_psnr: 26.2416 - keras_ssim: 0.4854 - val_loss: 1.0013e-05 - val_mean_squared_error: 2.3828e-10 - val_keras_psnr: 27.5402 - val_keras_ssim: 0.5306\n"
     ]
    },
    {
     "data": {
      "application/vnd.jupyter.widget-view+json": {
       "model_id": "",
       "version_major": 2,
       "version_minor": 0
      },
      "text/plain": [
       "HBox(children=(IntProgress(value=0, description='Epoch 902', max=10, style=ProgressStyle(description_width='in…"
      ]
     },
     "metadata": {},
     "output_type": "display_data"
    },
    {
     "name": "stdout",
     "output_type": "stream",
     "text": [
      "Epoch 903/1000\n",
      "10/10 - 28s - loss: 7.5766e-06 - mean_squared_error: 1.8754e-10 - keras_psnr: 26.5222 - keras_ssim: 0.5062 - val_loss: 1.0021e-05 - val_mean_squared_error: 2.3909e-10 - val_keras_psnr: 27.5329 - val_keras_ssim: 0.5304\n"
     ]
    },
    {
     "data": {
      "application/vnd.jupyter.widget-view+json": {
       "model_id": "",
       "version_major": 2,
       "version_minor": 0
      },
      "text/plain": [
       "HBox(children=(IntProgress(value=0, description='Epoch 903', max=10, style=ProgressStyle(description_width='in…"
      ]
     },
     "metadata": {},
     "output_type": "display_data"
    },
    {
     "name": "stdout",
     "output_type": "stream",
     "text": [
      "Epoch 904/1000\n",
      "10/10 - 28s - loss: 1.3717e-05 - mean_squared_error: 3.6018e-10 - keras_psnr: 27.0511 - keras_ssim: 0.5371 - val_loss: 1.0012e-05 - val_mean_squared_error: 2.3856e-10 - val_keras_psnr: 27.5433 - val_keras_ssim: 0.5307\n"
     ]
    },
    {
     "data": {
      "application/vnd.jupyter.widget-view+json": {
       "model_id": "",
       "version_major": 2,
       "version_minor": 0
      },
      "text/plain": [
       "HBox(children=(IntProgress(value=0, description='Epoch 904', max=10, style=ProgressStyle(description_width='in…"
      ]
     },
     "metadata": {},
     "output_type": "display_data"
    },
    {
     "name": "stdout",
     "output_type": "stream",
     "text": [
      "Epoch 905/1000\n",
      "10/10 - 28s - loss: 1.1894e-05 - mean_squared_error: 8.2253e-10 - keras_psnr: 25.9407 - keras_ssim: 0.5456 - val_loss: 1.0021e-05 - val_mean_squared_error: 2.3891e-10 - val_keras_psnr: 27.5505 - val_keras_ssim: 0.5313\n"
     ]
    },
    {
     "data": {
      "application/vnd.jupyter.widget-view+json": {
       "model_id": "",
       "version_major": 2,
       "version_minor": 0
      },
      "text/plain": [
       "HBox(children=(IntProgress(value=0, description='Epoch 905', max=10, style=ProgressStyle(description_width='in…"
      ]
     },
     "metadata": {},
     "output_type": "display_data"
    },
    {
     "name": "stdout",
     "output_type": "stream",
     "text": [
      "Epoch 906/1000\n",
      "10/10 - 28s - loss: 1.4512e-05 - mean_squared_error: 7.7453e-10 - keras_psnr: 24.0529 - keras_ssim: 0.4571 - val_loss: 1.0028e-05 - val_mean_squared_error: 2.3924e-10 - val_keras_psnr: 27.5322 - val_keras_ssim: 0.5306\n"
     ]
    },
    {
     "data": {
      "application/vnd.jupyter.widget-view+json": {
       "model_id": "",
       "version_major": 2,
       "version_minor": 0
      },
      "text/plain": [
       "HBox(children=(IntProgress(value=0, description='Epoch 906', max=10, style=ProgressStyle(description_width='in…"
      ]
     },
     "metadata": {},
     "output_type": "display_data"
    },
    {
     "name": "stdout",
     "output_type": "stream",
     "text": [
      "Epoch 907/1000\n",
      "10/10 - 28s - loss: 1.3911e-05 - mean_squared_error: 8.7557e-10 - keras_psnr: 23.7276 - keras_ssim: 0.4823 - val_loss: 1.0027e-05 - val_mean_squared_error: 2.3922e-10 - val_keras_psnr: 27.5287 - val_keras_ssim: 0.5306\n"
     ]
    },
    {
     "data": {
      "application/vnd.jupyter.widget-view+json": {
       "model_id": "",
       "version_major": 2,
       "version_minor": 0
      },
      "text/plain": [
       "HBox(children=(IntProgress(value=0, description='Epoch 907', max=10, style=ProgressStyle(description_width='in…"
      ]
     },
     "metadata": {},
     "output_type": "display_data"
    },
    {
     "name": "stdout",
     "output_type": "stream",
     "text": [
      "Epoch 908/1000\n",
      "10/10 - 28s - loss: 1.3422e-05 - mean_squared_error: 4.9570e-10 - keras_psnr: 26.8764 - keras_ssim: 0.5148 - val_loss: 1.0039e-05 - val_mean_squared_error: 2.4019e-10 - val_keras_psnr: 27.5218 - val_keras_ssim: 0.5303\n"
     ]
    },
    {
     "data": {
      "application/vnd.jupyter.widget-view+json": {
       "model_id": "",
       "version_major": 2,
       "version_minor": 0
      },
      "text/plain": [
       "HBox(children=(IntProgress(value=0, description='Epoch 908', max=10, style=ProgressStyle(description_width='in…"
      ]
     },
     "metadata": {},
     "output_type": "display_data"
    },
    {
     "name": "stdout",
     "output_type": "stream",
     "text": [
      "Epoch 909/1000\n",
      "10/10 - 28s - loss: 1.2080e-05 - mean_squared_error: 3.6640e-10 - keras_psnr: 26.7690 - keras_ssim: 0.5318 - val_loss: 1.0031e-05 - val_mean_squared_error: 2.3975e-10 - val_keras_psnr: 27.5243 - val_keras_ssim: 0.5304\n"
     ]
    },
    {
     "data": {
      "application/vnd.jupyter.widget-view+json": {
       "model_id": "",
       "version_major": 2,
       "version_minor": 0
      },
      "text/plain": [
       "HBox(children=(IntProgress(value=0, description='Epoch 909', max=10, style=ProgressStyle(description_width='in…"
      ]
     },
     "metadata": {},
     "output_type": "display_data"
    },
    {
     "name": "stdout",
     "output_type": "stream",
     "text": [
      "Epoch 910/1000\n",
      "10/10 - 28s - loss: 1.0473e-05 - mean_squared_error: 1.9038e-10 - keras_psnr: 27.0779 - keras_ssim: 0.4930 - val_loss: 1.0021e-05 - val_mean_squared_error: 2.3911e-10 - val_keras_psnr: 27.5288 - val_keras_ssim: 0.5305\n"
     ]
    },
    {
     "data": {
      "application/vnd.jupyter.widget-view+json": {
       "model_id": "",
       "version_major": 2,
       "version_minor": 0
      },
      "text/plain": [
       "HBox(children=(IntProgress(value=0, description='Epoch 910', max=10, style=ProgressStyle(description_width='in…"
      ]
     },
     "metadata": {},
     "output_type": "display_data"
    },
    {
     "name": "stdout",
     "output_type": "stream",
     "text": [
      "Epoch 911/1000\n",
      "10/10 - 28s - loss: 1.0669e-05 - mean_squared_error: 2.3652e-10 - keras_psnr: 25.5932 - keras_ssim: 0.4759 - val_loss: 1.0018e-05 - val_mean_squared_error: 2.3883e-10 - val_keras_psnr: 27.5401 - val_keras_ssim: 0.5309\n"
     ]
    },
    {
     "data": {
      "application/vnd.jupyter.widget-view+json": {
       "model_id": "",
       "version_major": 2,
       "version_minor": 0
      },
      "text/plain": [
       "HBox(children=(IntProgress(value=0, description='Epoch 911', max=10, style=ProgressStyle(description_width='in…"
      ]
     },
     "metadata": {},
     "output_type": "display_data"
    },
    {
     "name": "stdout",
     "output_type": "stream",
     "text": [
      "Epoch 912/1000\n",
      "10/10 - 28s - loss: 1.0359e-05 - mean_squared_error: 2.6097e-10 - keras_psnr: 26.0040 - keras_ssim: 0.5019 - val_loss: 1.0018e-05 - val_mean_squared_error: 2.3913e-10 - val_keras_psnr: 27.5383 - val_keras_ssim: 0.5309\n"
     ]
    },
    {
     "data": {
      "application/vnd.jupyter.widget-view+json": {
       "model_id": "",
       "version_major": 2,
       "version_minor": 0
      },
      "text/plain": [
       "HBox(children=(IntProgress(value=0, description='Epoch 912', max=10, style=ProgressStyle(description_width='in…"
      ]
     },
     "metadata": {},
     "output_type": "display_data"
    },
    {
     "name": "stdout",
     "output_type": "stream",
     "text": [
      "Epoch 913/1000\n",
      "10/10 - 28s - loss: 9.0998e-06 - mean_squared_error: 2.1799e-10 - keras_psnr: 27.0798 - keras_ssim: 0.5264 - val_loss: 1.0023e-05 - val_mean_squared_error: 2.3933e-10 - val_keras_psnr: 27.5326 - val_keras_ssim: 0.5307\n"
     ]
    },
    {
     "data": {
      "application/vnd.jupyter.widget-view+json": {
       "model_id": "",
       "version_major": 2,
       "version_minor": 0
      },
      "text/plain": [
       "HBox(children=(IntProgress(value=0, description='Epoch 913', max=10, style=ProgressStyle(description_width='in…"
      ]
     },
     "metadata": {},
     "output_type": "display_data"
    },
    {
     "name": "stdout",
     "output_type": "stream",
     "text": [
      "Epoch 914/1000\n",
      "10/10 - 28s - loss: 1.8959e-05 - mean_squared_error: 2.0328e-09 - keras_psnr: 24.4386 - keras_ssim: 0.5057 - val_loss: 1.0040e-05 - val_mean_squared_error: 2.3993e-10 - val_keras_psnr: 27.5089 - val_keras_ssim: 0.5300\n"
     ]
    },
    {
     "data": {
      "application/vnd.jupyter.widget-view+json": {
       "model_id": "",
       "version_major": 2,
       "version_minor": 0
      },
      "text/plain": [
       "HBox(children=(IntProgress(value=0, description='Epoch 914', max=10, style=ProgressStyle(description_width='in…"
      ]
     },
     "metadata": {},
     "output_type": "display_data"
    },
    {
     "name": "stdout",
     "output_type": "stream",
     "text": [
      "Epoch 915/1000\n",
      "10/10 - 28s - loss: 1.7042e-05 - mean_squared_error: 7.8407e-10 - keras_psnr: 25.0747 - keras_ssim: 0.4618 - val_loss: 1.0026e-05 - val_mean_squared_error: 2.3873e-10 - val_keras_psnr: 27.5143 - val_keras_ssim: 0.5303\n"
     ]
    },
    {
     "data": {
      "application/vnd.jupyter.widget-view+json": {
       "model_id": "",
       "version_major": 2,
       "version_minor": 0
      },
      "text/plain": [
       "HBox(children=(IntProgress(value=0, description='Epoch 915', max=10, style=ProgressStyle(description_width='in…"
      ]
     },
     "metadata": {},
     "output_type": "display_data"
    },
    {
     "name": "stdout",
     "output_type": "stream",
     "text": [
      "Epoch 916/1000\n",
      "10/10 - 28s - loss: 9.4604e-06 - mean_squared_error: 2.0990e-10 - keras_psnr: 24.3161 - keras_ssim: 0.4127 - val_loss: 1.0023e-05 - val_mean_squared_error: 2.3848e-10 - val_keras_psnr: 27.5240 - val_keras_ssim: 0.5304\n"
     ]
    },
    {
     "data": {
      "application/vnd.jupyter.widget-view+json": {
       "model_id": "",
       "version_major": 2,
       "version_minor": 0
      },
      "text/plain": [
       "HBox(children=(IntProgress(value=0, description='Epoch 916', max=10, style=ProgressStyle(description_width='in…"
      ]
     },
     "metadata": {},
     "output_type": "display_data"
    },
    {
     "name": "stdout",
     "output_type": "stream",
     "text": [
      "Epoch 917/1000\n",
      "10/10 - 28s - loss: 1.0759e-05 - mean_squared_error: 1.7733e-10 - keras_psnr: 27.2028 - keras_ssim: 0.5113 - val_loss: 1.0021e-05 - val_mean_squared_error: 2.3963e-10 - val_keras_psnr: 27.5354 - val_keras_ssim: 0.5308\n"
     ]
    },
    {
     "data": {
      "application/vnd.jupyter.widget-view+json": {
       "model_id": "",
       "version_major": 2,
       "version_minor": 0
      },
      "text/plain": [
       "HBox(children=(IntProgress(value=0, description='Epoch 917', max=10, style=ProgressStyle(description_width='in…"
      ]
     },
     "metadata": {},
     "output_type": "display_data"
    },
    {
     "name": "stdout",
     "output_type": "stream",
     "text": [
      "Epoch 918/1000\n",
      "10/10 - 28s - loss: 9.8751e-06 - mean_squared_error: 2.5384e-10 - keras_psnr: 26.7961 - keras_ssim: 0.5222 - val_loss: 9.9917e-06 - val_mean_squared_error: 2.3784e-10 - val_keras_psnr: 27.5587 - val_keras_ssim: 0.5315\n"
     ]
    },
    {
     "data": {
      "application/vnd.jupyter.widget-view+json": {
       "model_id": "",
       "version_major": 2,
       "version_minor": 0
      },
      "text/plain": [
       "HBox(children=(IntProgress(value=0, description='Epoch 918', max=10, style=ProgressStyle(description_width='in…"
      ]
     },
     "metadata": {},
     "output_type": "display_data"
    },
    {
     "name": "stdout",
     "output_type": "stream",
     "text": [
      "Epoch 919/1000\n",
      "10/10 - 28s - loss: 1.1458e-05 - mean_squared_error: 2.5503e-10 - keras_psnr: 28.5352 - keras_ssim: 0.6079 - val_loss: 9.9972e-06 - val_mean_squared_error: 2.3783e-10 - val_keras_psnr: 27.5567 - val_keras_ssim: 0.5314\n"
     ]
    },
    {
     "data": {
      "application/vnd.jupyter.widget-view+json": {
       "model_id": "",
       "version_major": 2,
       "version_minor": 0
      },
      "text/plain": [
       "HBox(children=(IntProgress(value=0, description='Epoch 919', max=10, style=ProgressStyle(description_width='in…"
      ]
     },
     "metadata": {},
     "output_type": "display_data"
    },
    {
     "name": "stdout",
     "output_type": "stream",
     "text": [
      "Epoch 920/1000\n",
      "10/10 - 28s - loss: 1.5267e-05 - mean_squared_error: 8.8330e-10 - keras_psnr: 27.7960 - keras_ssim: 0.6067 - val_loss: 1.0033e-05 - val_mean_squared_error: 2.4005e-10 - val_keras_psnr: 27.5343 - val_keras_ssim: 0.5309\n"
     ]
    },
    {
     "data": {
      "application/vnd.jupyter.widget-view+json": {
       "model_id": "",
       "version_major": 2,
       "version_minor": 0
      },
      "text/plain": [
       "HBox(children=(IntProgress(value=0, description='Epoch 920', max=10, style=ProgressStyle(description_width='in…"
      ]
     },
     "metadata": {},
     "output_type": "display_data"
    },
    {
     "name": "stdout",
     "output_type": "stream",
     "text": [
      "Epoch 921/1000\n",
      "10/10 - 29s - loss: 2.8193e-05 - mean_squared_error: 1.5055e-09 - keras_psnr: 26.5508 - keras_ssim: 0.5203 - val_loss: 1.0000e-05 - val_mean_squared_error: 2.3790e-10 - val_keras_psnr: 27.5438 - val_keras_ssim: 0.5312\n"
     ]
    },
    {
     "data": {
      "application/vnd.jupyter.widget-view+json": {
       "model_id": "",
       "version_major": 2,
       "version_minor": 0
      },
      "text/plain": [
       "HBox(children=(IntProgress(value=0, description='Epoch 921', max=10, style=ProgressStyle(description_width='in…"
      ]
     },
     "metadata": {},
     "output_type": "display_data"
    },
    {
     "name": "stdout",
     "output_type": "stream",
     "text": [
      "Epoch 922/1000\n",
      "10/10 - 28s - loss: 1.0629e-05 - mean_squared_error: 3.6712e-10 - keras_psnr: 27.3574 - keras_ssim: 0.5920 - val_loss: 1.0032e-05 - val_mean_squared_error: 2.3883e-10 - val_keras_psnr: 27.5124 - val_keras_ssim: 0.5306\n"
     ]
    },
    {
     "data": {
      "application/vnd.jupyter.widget-view+json": {
       "model_id": "",
       "version_major": 2,
       "version_minor": 0
      },
      "text/plain": [
       "HBox(children=(IntProgress(value=0, description='Epoch 922', max=10, style=ProgressStyle(description_width='in…"
      ]
     },
     "metadata": {},
     "output_type": "display_data"
    },
    {
     "name": "stdout",
     "output_type": "stream",
     "text": [
      "Epoch 923/1000\n",
      "10/10 - 28s - loss: 1.2348e-05 - mean_squared_error: 2.3369e-10 - keras_psnr: 26.1793 - keras_ssim: 0.4385 - val_loss: 1.0022e-05 - val_mean_squared_error: 2.3931e-10 - val_keras_psnr: 27.5334 - val_keras_ssim: 0.5308\n"
     ]
    },
    {
     "data": {
      "application/vnd.jupyter.widget-view+json": {
       "model_id": "",
       "version_major": 2,
       "version_minor": 0
      },
      "text/plain": [
       "HBox(children=(IntProgress(value=0, description='Epoch 923', max=10, style=ProgressStyle(description_width='in…"
      ]
     },
     "metadata": {},
     "output_type": "display_data"
    },
    {
     "name": "stdout",
     "output_type": "stream",
     "text": [
      "Epoch 924/1000\n",
      "10/10 - 28s - loss: 9.2400e-06 - mean_squared_error: 1.6923e-10 - keras_psnr: 25.8556 - keras_ssim: 0.4347 - val_loss: 1.0012e-05 - val_mean_squared_error: 2.3853e-10 - val_keras_psnr: 27.5484 - val_keras_ssim: 0.5312\n"
     ]
    },
    {
     "data": {
      "application/vnd.jupyter.widget-view+json": {
       "model_id": "",
       "version_major": 2,
       "version_minor": 0
      },
      "text/plain": [
       "HBox(children=(IntProgress(value=0, description='Epoch 924', max=10, style=ProgressStyle(description_width='in…"
      ]
     },
     "metadata": {},
     "output_type": "display_data"
    },
    {
     "name": "stdout",
     "output_type": "stream",
     "text": [
      "Epoch 925/1000\n",
      "10/10 - 28s - loss: 1.0105e-05 - mean_squared_error: 2.3441e-10 - keras_psnr: 26.6191 - keras_ssim: 0.5090 - val_loss: 1.0010e-05 - val_mean_squared_error: 2.3819e-10 - val_keras_psnr: 27.5438 - val_keras_ssim: 0.5308\n"
     ]
    },
    {
     "data": {
      "application/vnd.jupyter.widget-view+json": {
       "model_id": "",
       "version_major": 2,
       "version_minor": 0
      },
      "text/plain": [
       "HBox(children=(IntProgress(value=0, description='Epoch 925', max=10, style=ProgressStyle(description_width='in…"
      ]
     },
     "metadata": {},
     "output_type": "display_data"
    },
    {
     "name": "stdout",
     "output_type": "stream",
     "text": [
      "Epoch 926/1000\n",
      "10/10 - 28s - loss: 1.1816e-05 - mean_squared_error: 4.2411e-10 - keras_psnr: 26.6840 - keras_ssim: 0.5430 - val_loss: 1.0006e-05 - val_mean_squared_error: 2.3887e-10 - val_keras_psnr: 27.5449 - val_keras_ssim: 0.5311\n"
     ]
    },
    {
     "data": {
      "application/vnd.jupyter.widget-view+json": {
       "model_id": "",
       "version_major": 2,
       "version_minor": 0
      },
      "text/plain": [
       "HBox(children=(IntProgress(value=0, description='Epoch 926', max=10, style=ProgressStyle(description_width='in…"
      ]
     },
     "metadata": {},
     "output_type": "display_data"
    },
    {
     "name": "stdout",
     "output_type": "stream",
     "text": [
      "Epoch 927/1000\n",
      "10/10 - 28s - loss: 1.7509e-05 - mean_squared_error: 8.1395e-10 - keras_psnr: 25.9805 - keras_ssim: 0.5654 - val_loss: 1.0015e-05 - val_mean_squared_error: 2.3909e-10 - val_keras_psnr: 27.5361 - val_keras_ssim: 0.5307\n"
     ]
    },
    {
     "data": {
      "application/vnd.jupyter.widget-view+json": {
       "model_id": "",
       "version_major": 2,
       "version_minor": 0
      },
      "text/plain": [
       "HBox(children=(IntProgress(value=0, description='Epoch 927', max=10, style=ProgressStyle(description_width='in…"
      ]
     },
     "metadata": {},
     "output_type": "display_data"
    },
    {
     "name": "stdout",
     "output_type": "stream",
     "text": [
      "Epoch 928/1000\n",
      "10/10 - 28s - loss: 1.1173e-05 - mean_squared_error: 4.7512e-10 - keras_psnr: 25.7207 - keras_ssim: 0.4951 - val_loss: 1.0011e-05 - val_mean_squared_error: 2.3872e-10 - val_keras_psnr: 27.5373 - val_keras_ssim: 0.5309\n"
     ]
    },
    {
     "data": {
      "application/vnd.jupyter.widget-view+json": {
       "model_id": "",
       "version_major": 2,
       "version_minor": 0
      },
      "text/plain": [
       "HBox(children=(IntProgress(value=0, description='Epoch 928', max=10, style=ProgressStyle(description_width='in…"
      ]
     },
     "metadata": {},
     "output_type": "display_data"
    },
    {
     "name": "stdout",
     "output_type": "stream",
     "text": [
      "Epoch 929/1000\n",
      "10/10 - 28s - loss: 1.3564e-05 - mean_squared_error: 3.4191e-10 - keras_psnr: 25.4917 - keras_ssim: 0.4615 - val_loss: 1.0019e-05 - val_mean_squared_error: 2.3929e-10 - val_keras_psnr: 27.5364 - val_keras_ssim: 0.5308\n"
     ]
    },
    {
     "data": {
      "application/vnd.jupyter.widget-view+json": {
       "model_id": "",
       "version_major": 2,
       "version_minor": 0
      },
      "text/plain": [
       "HBox(children=(IntProgress(value=0, description='Epoch 929', max=10, style=ProgressStyle(description_width='in…"
      ]
     },
     "metadata": {},
     "output_type": "display_data"
    },
    {
     "name": "stdout",
     "output_type": "stream",
     "text": [
      "Epoch 930/1000\n",
      "10/10 - 28s - loss: 1.1277e-05 - mean_squared_error: 2.2352e-10 - keras_psnr: 25.8640 - keras_ssim: 0.4852 - val_loss: 1.0014e-05 - val_mean_squared_error: 2.3931e-10 - val_keras_psnr: 27.5325 - val_keras_ssim: 0.5306\n"
     ]
    },
    {
     "data": {
      "application/vnd.jupyter.widget-view+json": {
       "model_id": "",
       "version_major": 2,
       "version_minor": 0
      },
      "text/plain": [
       "HBox(children=(IntProgress(value=0, description='Epoch 930', max=10, style=ProgressStyle(description_width='in…"
      ]
     },
     "metadata": {},
     "output_type": "display_data"
    },
    {
     "name": "stdout",
     "output_type": "stream",
     "text": [
      "Epoch 931/1000\n",
      "10/10 - 28s - loss: 1.2876e-05 - mean_squared_error: 3.8194e-10 - keras_psnr: 27.4770 - keras_ssim: 0.5936 - val_loss: 1.0000e-05 - val_mean_squared_error: 2.3782e-10 - val_keras_psnr: 27.5419 - val_keras_ssim: 0.5308\n"
     ]
    },
    {
     "data": {
      "application/vnd.jupyter.widget-view+json": {
       "model_id": "",
       "version_major": 2,
       "version_minor": 0
      },
      "text/plain": [
       "HBox(children=(IntProgress(value=0, description='Epoch 931', max=10, style=ProgressStyle(description_width='in…"
      ]
     },
     "metadata": {},
     "output_type": "display_data"
    },
    {
     "name": "stdout",
     "output_type": "stream",
     "text": [
      "Epoch 932/1000\n",
      "10/10 - 28s - loss: 1.0012e-05 - mean_squared_error: 2.7520e-10 - keras_psnr: 25.6676 - keras_ssim: 0.4762 - val_loss: 1.0011e-05 - val_mean_squared_error: 2.3909e-10 - val_keras_psnr: 27.5455 - val_keras_ssim: 0.5310\n"
     ]
    },
    {
     "data": {
      "application/vnd.jupyter.widget-view+json": {
       "model_id": "",
       "version_major": 2,
       "version_minor": 0
      },
      "text/plain": [
       "HBox(children=(IntProgress(value=0, description='Epoch 932', max=10, style=ProgressStyle(description_width='in…"
      ]
     },
     "metadata": {},
     "output_type": "display_data"
    },
    {
     "name": "stdout",
     "output_type": "stream",
     "text": [
      "Epoch 933/1000\n",
      "10/10 - 28s - loss: 1.1202e-05 - mean_squared_error: 2.2063e-10 - keras_psnr: 25.5612 - keras_ssim: 0.4567 - val_loss: 1.0017e-05 - val_mean_squared_error: 2.3931e-10 - val_keras_psnr: 27.5502 - val_keras_ssim: 0.5312\n"
     ]
    },
    {
     "data": {
      "application/vnd.jupyter.widget-view+json": {
       "model_id": "",
       "version_major": 2,
       "version_minor": 0
      },
      "text/plain": [
       "HBox(children=(IntProgress(value=0, description='Epoch 933', max=10, style=ProgressStyle(description_width='in…"
      ]
     },
     "metadata": {},
     "output_type": "display_data"
    },
    {
     "name": "stdout",
     "output_type": "stream",
     "text": [
      "Epoch 934/1000\n",
      "10/10 - 28s - loss: 1.1518e-05 - mean_squared_error: 3.4282e-10 - keras_psnr: 26.3892 - keras_ssim: 0.5252 - val_loss: 9.9995e-06 - val_mean_squared_error: 2.3814e-10 - val_keras_psnr: 27.5553 - val_keras_ssim: 0.5313\n"
     ]
    },
    {
     "data": {
      "application/vnd.jupyter.widget-view+json": {
       "model_id": "",
       "version_major": 2,
       "version_minor": 0
      },
      "text/plain": [
       "HBox(children=(IntProgress(value=0, description='Epoch 934', max=10, style=ProgressStyle(description_width='in…"
      ]
     },
     "metadata": {},
     "output_type": "display_data"
    },
    {
     "name": "stdout",
     "output_type": "stream",
     "text": [
      "Epoch 935/1000\n",
      "10/10 - 28s - loss: 1.1166e-05 - mean_squared_error: 2.7760e-10 - keras_psnr: 27.2276 - keras_ssim: 0.5570 - val_loss: 1.0014e-05 - val_mean_squared_error: 2.3933e-10 - val_keras_psnr: 27.5382 - val_keras_ssim: 0.5309\n"
     ]
    },
    {
     "data": {
      "application/vnd.jupyter.widget-view+json": {
       "model_id": "",
       "version_major": 2,
       "version_minor": 0
      },
      "text/plain": [
       "HBox(children=(IntProgress(value=0, description='Epoch 935', max=10, style=ProgressStyle(description_width='in…"
      ]
     },
     "metadata": {},
     "output_type": "display_data"
    },
    {
     "name": "stdout",
     "output_type": "stream",
     "text": [
      "Epoch 936/1000\n",
      "10/10 - 28s - loss: 1.2824e-05 - mean_squared_error: 4.1653e-10 - keras_psnr: 27.1799 - keras_ssim: 0.6125 - val_loss: 9.9905e-06 - val_mean_squared_error: 2.3735e-10 - val_keras_psnr: 27.5474 - val_keras_ssim: 0.5310\n"
     ]
    },
    {
     "data": {
      "application/vnd.jupyter.widget-view+json": {
       "model_id": "",
       "version_major": 2,
       "version_minor": 0
      },
      "text/plain": [
       "HBox(children=(IntProgress(value=0, description='Epoch 936', max=10, style=ProgressStyle(description_width='in…"
      ]
     },
     "metadata": {},
     "output_type": "display_data"
    },
    {
     "name": "stdout",
     "output_type": "stream",
     "text": [
      "Epoch 937/1000\n",
      "10/10 - 28s - loss: 1.0958e-05 - mean_squared_error: 2.6679e-10 - keras_psnr: 28.1564 - keras_ssim: 0.5927 - val_loss: 1.0006e-05 - val_mean_squared_error: 2.3890e-10 - val_keras_psnr: 27.5439 - val_keras_ssim: 0.5311\n"
     ]
    },
    {
     "data": {
      "application/vnd.jupyter.widget-view+json": {
       "model_id": "",
       "version_major": 2,
       "version_minor": 0
      },
      "text/plain": [
       "HBox(children=(IntProgress(value=0, description='Epoch 937', max=10, style=ProgressStyle(description_width='in…"
      ]
     },
     "metadata": {},
     "output_type": "display_data"
    },
    {
     "name": "stdout",
     "output_type": "stream",
     "text": [
      "Epoch 938/1000\n",
      "10/10 - 28s - loss: 1.1442e-05 - mean_squared_error: 3.5187e-10 - keras_psnr: 27.0324 - keras_ssim: 0.5598 - val_loss: 1.0010e-05 - val_mean_squared_error: 2.3905e-10 - val_keras_psnr: 27.5380 - val_keras_ssim: 0.5310\n"
     ]
    },
    {
     "data": {
      "application/vnd.jupyter.widget-view+json": {
       "model_id": "",
       "version_major": 2,
       "version_minor": 0
      },
      "text/plain": [
       "HBox(children=(IntProgress(value=0, description='Epoch 938', max=10, style=ProgressStyle(description_width='in…"
      ]
     },
     "metadata": {},
     "output_type": "display_data"
    },
    {
     "name": "stdout",
     "output_type": "stream",
     "text": [
      "Epoch 939/1000\n",
      "10/10 - 28s - loss: 1.2319e-05 - mean_squared_error: 3.1477e-10 - keras_psnr: 27.0147 - keras_ssim: 0.5731 - val_loss: 1.0010e-05 - val_mean_squared_error: 2.3910e-10 - val_keras_psnr: 27.5355 - val_keras_ssim: 0.5309\n"
     ]
    },
    {
     "data": {
      "application/vnd.jupyter.widget-view+json": {
       "model_id": "",
       "version_major": 2,
       "version_minor": 0
      },
      "text/plain": [
       "HBox(children=(IntProgress(value=0, description='Epoch 939', max=10, style=ProgressStyle(description_width='in…"
      ]
     },
     "metadata": {},
     "output_type": "display_data"
    },
    {
     "name": "stdout",
     "output_type": "stream",
     "text": [
      "Epoch 940/1000\n",
      "10/10 - 28s - loss: 9.1388e-06 - mean_squared_error: 2.8158e-10 - keras_psnr: 27.1023 - keras_ssim: 0.5205 - val_loss: 9.9985e-06 - val_mean_squared_error: 2.3856e-10 - val_keras_psnr: 27.5543 - val_keras_ssim: 0.5317\n"
     ]
    },
    {
     "data": {
      "application/vnd.jupyter.widget-view+json": {
       "model_id": "",
       "version_major": 2,
       "version_minor": 0
      },
      "text/plain": [
       "HBox(children=(IntProgress(value=0, description='Epoch 940', max=10, style=ProgressStyle(description_width='in…"
      ]
     },
     "metadata": {},
     "output_type": "display_data"
    },
    {
     "name": "stdout",
     "output_type": "stream",
     "text": [
      "Epoch 941/1000\n",
      "10/10 - 28s - loss: 1.0984e-05 - mean_squared_error: 2.3988e-10 - keras_psnr: 26.6683 - keras_ssim: 0.4924 - val_loss: 9.9930e-06 - val_mean_squared_error: 2.3774e-10 - val_keras_psnr: 27.5574 - val_keras_ssim: 0.5317\n"
     ]
    },
    {
     "data": {
      "application/vnd.jupyter.widget-view+json": {
       "model_id": "",
       "version_major": 2,
       "version_minor": 0
      },
      "text/plain": [
       "HBox(children=(IntProgress(value=0, description='Epoch 941', max=10, style=ProgressStyle(description_width='in…"
      ]
     },
     "metadata": {},
     "output_type": "display_data"
    },
    {
     "name": "stdout",
     "output_type": "stream",
     "text": [
      "Epoch 942/1000\n",
      "10/10 - 28s - loss: 9.5394e-06 - mean_squared_error: 1.9852e-10 - keras_psnr: 26.5712 - keras_ssim: 0.5070 - val_loss: 9.9970e-06 - val_mean_squared_error: 2.3833e-10 - val_keras_psnr: 27.5495 - val_keras_ssim: 0.5315\n"
     ]
    },
    {
     "data": {
      "application/vnd.jupyter.widget-view+json": {
       "model_id": "",
       "version_major": 2,
       "version_minor": 0
      },
      "text/plain": [
       "HBox(children=(IntProgress(value=0, description='Epoch 942', max=10, style=ProgressStyle(description_width='in…"
      ]
     },
     "metadata": {},
     "output_type": "display_data"
    },
    {
     "name": "stdout",
     "output_type": "stream",
     "text": [
      "Epoch 943/1000\n",
      "10/10 - 28s - loss: 1.1954e-05 - mean_squared_error: 3.0798e-10 - keras_psnr: 26.5479 - keras_ssim: 0.5186 - val_loss: 9.9963e-06 - val_mean_squared_error: 2.3830e-10 - val_keras_psnr: 27.5521 - val_keras_ssim: 0.5314\n"
     ]
    },
    {
     "data": {
      "application/vnd.jupyter.widget-view+json": {
       "model_id": "",
       "version_major": 2,
       "version_minor": 0
      },
      "text/plain": [
       "HBox(children=(IntProgress(value=0, description='Epoch 943', max=10, style=ProgressStyle(description_width='in…"
      ]
     },
     "metadata": {},
     "output_type": "display_data"
    },
    {
     "name": "stdout",
     "output_type": "stream",
     "text": [
      "Epoch 944/1000\n",
      "10/10 - 27s - loss: 1.3378e-05 - mean_squared_error: 4.6634e-10 - keras_psnr: 26.0049 - keras_ssim: 0.5426 - val_loss: 1.0007e-05 - val_mean_squared_error: 2.3897e-10 - val_keras_psnr: 27.5399 - val_keras_ssim: 0.5312\n"
     ]
    },
    {
     "data": {
      "application/vnd.jupyter.widget-view+json": {
       "model_id": "",
       "version_major": 2,
       "version_minor": 0
      },
      "text/plain": [
       "HBox(children=(IntProgress(value=0, description='Epoch 944', max=10, style=ProgressStyle(description_width='in…"
      ]
     },
     "metadata": {},
     "output_type": "display_data"
    },
    {
     "name": "stdout",
     "output_type": "stream",
     "text": [
      "Epoch 945/1000\n",
      "10/10 - 28s - loss: 1.4451e-05 - mean_squared_error: 4.8413e-10 - keras_psnr: 26.0447 - keras_ssim: 0.5672 - val_loss: 1.0011e-05 - val_mean_squared_error: 2.3886e-10 - val_keras_psnr: 27.5356 - val_keras_ssim: 0.5311\n"
     ]
    },
    {
     "data": {
      "application/vnd.jupyter.widget-view+json": {
       "model_id": "",
       "version_major": 2,
       "version_minor": 0
      },
      "text/plain": [
       "HBox(children=(IntProgress(value=0, description='Epoch 945', max=10, style=ProgressStyle(description_width='in…"
      ]
     },
     "metadata": {},
     "output_type": "display_data"
    },
    {
     "name": "stdout",
     "output_type": "stream",
     "text": [
      "Epoch 946/1000\n",
      "10/10 - 28s - loss: 8.4957e-06 - mean_squared_error: 1.4979e-10 - keras_psnr: 26.3676 - keras_ssim: 0.4769 - val_loss: 9.9862e-06 - val_mean_squared_error: 2.3717e-10 - val_keras_psnr: 27.5622 - val_keras_ssim: 0.5318\n"
     ]
    },
    {
     "data": {
      "application/vnd.jupyter.widget-view+json": {
       "model_id": "",
       "version_major": 2,
       "version_minor": 0
      },
      "text/plain": [
       "HBox(children=(IntProgress(value=0, description='Epoch 946', max=10, style=ProgressStyle(description_width='in…"
      ]
     },
     "metadata": {},
     "output_type": "display_data"
    },
    {
     "name": "stdout",
     "output_type": "stream",
     "text": [
      "Epoch 947/1000\n",
      "10/10 - 28s - loss: 1.1049e-05 - mean_squared_error: 2.3551e-10 - keras_psnr: 26.2938 - keras_ssim: 0.4766 - val_loss: 1.0000e-05 - val_mean_squared_error: 2.3797e-10 - val_keras_psnr: 27.5451 - val_keras_ssim: 0.5312\n"
     ]
    },
    {
     "data": {
      "application/vnd.jupyter.widget-view+json": {
       "model_id": "",
       "version_major": 2,
       "version_minor": 0
      },
      "text/plain": [
       "HBox(children=(IntProgress(value=0, description='Epoch 947', max=10, style=ProgressStyle(description_width='in…"
      ]
     },
     "metadata": {},
     "output_type": "display_data"
    },
    {
     "name": "stdout",
     "output_type": "stream",
     "text": [
      "Epoch 948/1000\n",
      "10/10 - 28s - loss: 1.1852e-05 - mean_squared_error: 6.6196e-10 - keras_psnr: 26.0437 - keras_ssim: 0.5542 - val_loss: 1.0023e-05 - val_mean_squared_error: 2.3973e-10 - val_keras_psnr: 27.5196 - val_keras_ssim: 0.5307\n"
     ]
    },
    {
     "data": {
      "application/vnd.jupyter.widget-view+json": {
       "model_id": "",
       "version_major": 2,
       "version_minor": 0
      },
      "text/plain": [
       "HBox(children=(IntProgress(value=0, description='Epoch 948', max=10, style=ProgressStyle(description_width='in…"
      ]
     },
     "metadata": {},
     "output_type": "display_data"
    },
    {
     "name": "stdout",
     "output_type": "stream",
     "text": [
      "Epoch 949/1000\n",
      "10/10 - 28s - loss: 8.6540e-06 - mean_squared_error: 1.8006e-10 - keras_psnr: 27.1509 - keras_ssim: 0.5300 - val_loss: 1.0001e-05 - val_mean_squared_error: 2.3881e-10 - val_keras_psnr: 27.5405 - val_keras_ssim: 0.5312\n"
     ]
    },
    {
     "data": {
      "application/vnd.jupyter.widget-view+json": {
       "model_id": "",
       "version_major": 2,
       "version_minor": 0
      },
      "text/plain": [
       "HBox(children=(IntProgress(value=0, description='Epoch 949', max=10, style=ProgressStyle(description_width='in…"
      ]
     },
     "metadata": {},
     "output_type": "display_data"
    },
    {
     "name": "stdout",
     "output_type": "stream",
     "text": [
      "Epoch 950/1000\n",
      "10/10 - 28s - loss: 1.3917e-05 - mean_squared_error: 5.4571e-10 - keras_psnr: 23.9520 - keras_ssim: 0.4870 - val_loss: 9.9864e-06 - val_mean_squared_error: 2.3714e-10 - val_keras_psnr: 27.5558 - val_keras_ssim: 0.5315\n"
     ]
    },
    {
     "data": {
      "application/vnd.jupyter.widget-view+json": {
       "model_id": "",
       "version_major": 2,
       "version_minor": 0
      },
      "text/plain": [
       "HBox(children=(IntProgress(value=0, description='Epoch 950', max=10, style=ProgressStyle(description_width='in…"
      ]
     },
     "metadata": {},
     "output_type": "display_data"
    },
    {
     "name": "stdout",
     "output_type": "stream",
     "text": [
      "Epoch 951/1000\n",
      "10/10 - 28s - loss: 1.1335e-05 - mean_squared_error: 2.9834e-10 - keras_psnr: 26.0319 - keras_ssim: 0.5122 - val_loss: 9.9914e-06 - val_mean_squared_error: 2.3798e-10 - val_keras_psnr: 27.5512 - val_keras_ssim: 0.5315\n"
     ]
    },
    {
     "data": {
      "application/vnd.jupyter.widget-view+json": {
       "model_id": "",
       "version_major": 2,
       "version_minor": 0
      },
      "text/plain": [
       "HBox(children=(IntProgress(value=0, description='Epoch 951', max=10, style=ProgressStyle(description_width='in…"
      ]
     },
     "metadata": {},
     "output_type": "display_data"
    },
    {
     "name": "stdout",
     "output_type": "stream",
     "text": [
      "Epoch 952/1000\n",
      "10/10 - 29s - loss: 1.6529e-05 - mean_squared_error: 1.2915e-09 - keras_psnr: 25.3030 - keras_ssim: 0.5901 - val_loss: 9.9834e-06 - val_mean_squared_error: 2.3731e-10 - val_keras_psnr: 27.5528 - val_keras_ssim: 0.5318\n"
     ]
    },
    {
     "data": {
      "application/vnd.jupyter.widget-view+json": {
       "model_id": "",
       "version_major": 2,
       "version_minor": 0
      },
      "text/plain": [
       "HBox(children=(IntProgress(value=0, description='Epoch 952', max=10, style=ProgressStyle(description_width='in…"
      ]
     },
     "metadata": {},
     "output_type": "display_data"
    },
    {
     "name": "stdout",
     "output_type": "stream",
     "text": [
      "Epoch 953/1000\n",
      "10/10 - 28s - loss: 1.6465e-05 - mean_squared_error: 7.4186e-10 - keras_psnr: 28.9919 - keras_ssim: 0.6778 - val_loss: 9.9996e-06 - val_mean_squared_error: 2.3866e-10 - val_keras_psnr: 27.5440 - val_keras_ssim: 0.5316\n"
     ]
    },
    {
     "data": {
      "application/vnd.jupyter.widget-view+json": {
       "model_id": "",
       "version_major": 2,
       "version_minor": 0
      },
      "text/plain": [
       "HBox(children=(IntProgress(value=0, description='Epoch 953', max=10, style=ProgressStyle(description_width='in…"
      ]
     },
     "metadata": {},
     "output_type": "display_data"
    },
    {
     "name": "stdout",
     "output_type": "stream",
     "text": [
      "Epoch 954/1000\n",
      "10/10 - 28s - loss: 1.1238e-05 - mean_squared_error: 1.9917e-10 - keras_psnr: 26.5758 - keras_ssim: 0.4857 - val_loss: 9.9936e-06 - val_mean_squared_error: 2.3828e-10 - val_keras_psnr: 27.5524 - val_keras_ssim: 0.5317\n"
     ]
    },
    {
     "data": {
      "application/vnd.jupyter.widget-view+json": {
       "model_id": "",
       "version_major": 2,
       "version_minor": 0
      },
      "text/plain": [
       "HBox(children=(IntProgress(value=0, description='Epoch 954', max=10, style=ProgressStyle(description_width='in…"
      ]
     },
     "metadata": {},
     "output_type": "display_data"
    },
    {
     "name": "stdout",
     "output_type": "stream",
     "text": [
      "Epoch 955/1000\n",
      "10/10 - 28s - loss: 1.3178e-05 - mean_squared_error: 3.2578e-10 - keras_psnr: 25.6998 - keras_ssim: 0.4808 - val_loss: 9.9896e-06 - val_mean_squared_error: 2.3822e-10 - val_keras_psnr: 27.5595 - val_keras_ssim: 0.5321\n"
     ]
    },
    {
     "data": {
      "application/vnd.jupyter.widget-view+json": {
       "model_id": "",
       "version_major": 2,
       "version_minor": 0
      },
      "text/plain": [
       "HBox(children=(IntProgress(value=0, description='Epoch 955', max=10, style=ProgressStyle(description_width='in…"
      ]
     },
     "metadata": {},
     "output_type": "display_data"
    },
    {
     "name": "stdout",
     "output_type": "stream",
     "text": [
      "Epoch 956/1000\n",
      "10/10 - 28s - loss: 1.1739e-05 - mean_squared_error: 4.4242e-10 - keras_psnr: 27.1602 - keras_ssim: 0.5664 - val_loss: 9.9844e-06 - val_mean_squared_error: 2.3798e-10 - val_keras_psnr: 27.5610 - val_keras_ssim: 0.5322\n"
     ]
    },
    {
     "data": {
      "application/vnd.jupyter.widget-view+json": {
       "model_id": "",
       "version_major": 2,
       "version_minor": 0
      },
      "text/plain": [
       "HBox(children=(IntProgress(value=0, description='Epoch 956', max=10, style=ProgressStyle(description_width='in…"
      ]
     },
     "metadata": {},
     "output_type": "display_data"
    },
    {
     "name": "stdout",
     "output_type": "stream",
     "text": [
      "Epoch 957/1000\n",
      "10/10 - 29s - loss: 1.4677e-05 - mean_squared_error: 4.7602e-10 - keras_psnr: 26.8479 - keras_ssim: 0.5649 - val_loss: 9.9902e-06 - val_mean_squared_error: 2.3813e-10 - val_keras_psnr: 27.5515 - val_keras_ssim: 0.5319\n"
     ]
    },
    {
     "data": {
      "application/vnd.jupyter.widget-view+json": {
       "model_id": "",
       "version_major": 2,
       "version_minor": 0
      },
      "text/plain": [
       "HBox(children=(IntProgress(value=0, description='Epoch 957', max=10, style=ProgressStyle(description_width='in…"
      ]
     },
     "metadata": {},
     "output_type": "display_data"
    },
    {
     "name": "stdout",
     "output_type": "stream",
     "text": [
      "Epoch 958/1000\n",
      "10/10 - 28s - loss: 1.3177e-05 - mean_squared_error: 3.9747e-10 - keras_psnr: 28.7155 - keras_ssim: 0.6431 - val_loss: 9.9836e-06 - val_mean_squared_error: 2.3735e-10 - val_keras_psnr: 27.5575 - val_keras_ssim: 0.5321\n"
     ]
    },
    {
     "data": {
      "application/vnd.jupyter.widget-view+json": {
       "model_id": "",
       "version_major": 2,
       "version_minor": 0
      },
      "text/plain": [
       "HBox(children=(IntProgress(value=0, description='Epoch 958', max=10, style=ProgressStyle(description_width='in…"
      ]
     },
     "metadata": {},
     "output_type": "display_data"
    },
    {
     "name": "stdout",
     "output_type": "stream",
     "text": [
      "Epoch 959/1000\n",
      "10/10 - 29s - loss: 1.0696e-05 - mean_squared_error: 2.7092e-10 - keras_psnr: 26.2831 - keras_ssim: 0.5001 - val_loss: 9.9833e-06 - val_mean_squared_error: 2.3780e-10 - val_keras_psnr: 27.5594 - val_keras_ssim: 0.5319\n"
     ]
    },
    {
     "data": {
      "application/vnd.jupyter.widget-view+json": {
       "model_id": "",
       "version_major": 2,
       "version_minor": 0
      },
      "text/plain": [
       "HBox(children=(IntProgress(value=0, description='Epoch 959', max=10, style=ProgressStyle(description_width='in…"
      ]
     },
     "metadata": {},
     "output_type": "display_data"
    },
    {
     "name": "stdout",
     "output_type": "stream",
     "text": [
      "Epoch 960/1000\n",
      "10/10 - 28s - loss: 1.3352e-05 - mean_squared_error: 4.2285e-10 - keras_psnr: 27.2254 - keras_ssim: 0.5946 - val_loss: 9.9922e-06 - val_mean_squared_error: 2.3817e-10 - val_keras_psnr: 27.5522 - val_keras_ssim: 0.5317\n"
     ]
    },
    {
     "data": {
      "application/vnd.jupyter.widget-view+json": {
       "model_id": "",
       "version_major": 2,
       "version_minor": 0
      },
      "text/plain": [
       "HBox(children=(IntProgress(value=0, description='Epoch 960', max=10, style=ProgressStyle(description_width='in…"
      ]
     },
     "metadata": {},
     "output_type": "display_data"
    },
    {
     "name": "stdout",
     "output_type": "stream",
     "text": [
      "Epoch 961/1000\n",
      "10/10 - 28s - loss: 1.0986e-05 - mean_squared_error: 4.2654e-10 - keras_psnr: 27.0313 - keras_ssim: 0.5880 - val_loss: 9.9865e-06 - val_mean_squared_error: 2.3803e-10 - val_keras_psnr: 27.5584 - val_keras_ssim: 0.5319\n"
     ]
    },
    {
     "data": {
      "application/vnd.jupyter.widget-view+json": {
       "model_id": "",
       "version_major": 2,
       "version_minor": 0
      },
      "text/plain": [
       "HBox(children=(IntProgress(value=0, description='Epoch 961', max=10, style=ProgressStyle(description_width='in…"
      ]
     },
     "metadata": {},
     "output_type": "display_data"
    },
    {
     "name": "stdout",
     "output_type": "stream",
     "text": [
      "Epoch 962/1000\n",
      "10/10 - 28s - loss: 1.5534e-05 - mean_squared_error: 5.7380e-10 - keras_psnr: 27.6583 - keras_ssim: 0.5981 - val_loss: 9.9821e-06 - val_mean_squared_error: 2.3788e-10 - val_keras_psnr: 27.5618 - val_keras_ssim: 0.5322\n"
     ]
    },
    {
     "data": {
      "application/vnd.jupyter.widget-view+json": {
       "model_id": "",
       "version_major": 2,
       "version_minor": 0
      },
      "text/plain": [
       "HBox(children=(IntProgress(value=0, description='Epoch 962', max=10, style=ProgressStyle(description_width='in…"
      ]
     },
     "metadata": {},
     "output_type": "display_data"
    },
    {
     "name": "stdout",
     "output_type": "stream",
     "text": [
      "Epoch 963/1000\n",
      "10/10 - 28s - loss: 1.2395e-05 - mean_squared_error: 2.6129e-10 - keras_psnr: 26.8606 - keras_ssim: 0.5385 - val_loss: 9.9832e-06 - val_mean_squared_error: 2.3771e-10 - val_keras_psnr: 27.5532 - val_keras_ssim: 0.5319\n"
     ]
    },
    {
     "data": {
      "application/vnd.jupyter.widget-view+json": {
       "model_id": "",
       "version_major": 2,
       "version_minor": 0
      },
      "text/plain": [
       "HBox(children=(IntProgress(value=0, description='Epoch 963', max=10, style=ProgressStyle(description_width='in…"
      ]
     },
     "metadata": {},
     "output_type": "display_data"
    },
    {
     "name": "stdout",
     "output_type": "stream",
     "text": [
      "Epoch 964/1000\n",
      "10/10 - 28s - loss: 1.1540e-05 - mean_squared_error: 2.0984e-10 - keras_psnr: 26.4026 - keras_ssim: 0.4911 - val_loss: 9.9760e-06 - val_mean_squared_error: 2.3721e-10 - val_keras_psnr: 27.5646 - val_keras_ssim: 0.5321\n"
     ]
    },
    {
     "data": {
      "application/vnd.jupyter.widget-view+json": {
       "model_id": "",
       "version_major": 2,
       "version_minor": 0
      },
      "text/plain": [
       "HBox(children=(IntProgress(value=0, description='Epoch 964', max=10, style=ProgressStyle(description_width='in…"
      ]
     },
     "metadata": {},
     "output_type": "display_data"
    },
    {
     "name": "stdout",
     "output_type": "stream",
     "text": [
      "Epoch 965/1000\n",
      "10/10 - 28s - loss: 1.1789e-05 - mean_squared_error: 2.7433e-10 - keras_psnr: 25.4532 - keras_ssim: 0.4877 - val_loss: 9.9717e-06 - val_mean_squared_error: 2.3650e-10 - val_keras_psnr: 27.5668 - val_keras_ssim: 0.5321\n"
     ]
    },
    {
     "data": {
      "application/vnd.jupyter.widget-view+json": {
       "model_id": "",
       "version_major": 2,
       "version_minor": 0
      },
      "text/plain": [
       "HBox(children=(IntProgress(value=0, description='Epoch 965', max=10, style=ProgressStyle(description_width='in…"
      ]
     },
     "metadata": {},
     "output_type": "display_data"
    },
    {
     "name": "stdout",
     "output_type": "stream",
     "text": [
      "Epoch 966/1000\n",
      "10/10 - 28s - loss: 1.5407e-05 - mean_squared_error: 9.3137e-10 - keras_psnr: 25.5099 - keras_ssim: 0.4934 - val_loss: 9.9853e-06 - val_mean_squared_error: 2.3795e-10 - val_keras_psnr: 27.5544 - val_keras_ssim: 0.5318\n"
     ]
    },
    {
     "data": {
      "application/vnd.jupyter.widget-view+json": {
       "model_id": "",
       "version_major": 2,
       "version_minor": 0
      },
      "text/plain": [
       "HBox(children=(IntProgress(value=0, description='Epoch 966', max=10, style=ProgressStyle(description_width='in…"
      ]
     },
     "metadata": {},
     "output_type": "display_data"
    },
    {
     "name": "stdout",
     "output_type": "stream",
     "text": [
      "Epoch 967/1000\n",
      "10/10 - 28s - loss: 7.9983e-06 - mean_squared_error: 1.3208e-10 - keras_psnr: 25.5866 - keras_ssim: 0.4307 - val_loss: 9.9755e-06 - val_mean_squared_error: 2.3677e-10 - val_keras_psnr: 27.5629 - val_keras_ssim: 0.5320\n"
     ]
    },
    {
     "data": {
      "application/vnd.jupyter.widget-view+json": {
       "model_id": "",
       "version_major": 2,
       "version_minor": 0
      },
      "text/plain": [
       "HBox(children=(IntProgress(value=0, description='Epoch 967', max=10, style=ProgressStyle(description_width='in…"
      ]
     },
     "metadata": {},
     "output_type": "display_data"
    },
    {
     "name": "stdout",
     "output_type": "stream",
     "text": [
      "Epoch 968/1000\n",
      "10/10 - 28s - loss: 1.0220e-05 - mean_squared_error: 2.3691e-10 - keras_psnr: 26.6348 - keras_ssim: 0.5150 - val_loss: 9.9739e-06 - val_mean_squared_error: 2.3745e-10 - val_keras_psnr: 27.5666 - val_keras_ssim: 0.5323\n"
     ]
    },
    {
     "data": {
      "application/vnd.jupyter.widget-view+json": {
       "model_id": "",
       "version_major": 2,
       "version_minor": 0
      },
      "text/plain": [
       "HBox(children=(IntProgress(value=0, description='Epoch 968', max=10, style=ProgressStyle(description_width='in…"
      ]
     },
     "metadata": {},
     "output_type": "display_data"
    },
    {
     "name": "stdout",
     "output_type": "stream",
     "text": [
      "Epoch 969/1000\n",
      "10/10 - 29s - loss: 8.8294e-06 - mean_squared_error: 1.8716e-10 - keras_psnr: 24.9016 - keras_ssim: 0.4076 - val_loss: 9.9590e-06 - val_mean_squared_error: 2.3593e-10 - val_keras_psnr: 27.5708 - val_keras_ssim: 0.5323\n"
     ]
    },
    {
     "data": {
      "application/vnd.jupyter.widget-view+json": {
       "model_id": "",
       "version_major": 2,
       "version_minor": 0
      },
      "text/plain": [
       "HBox(children=(IntProgress(value=0, description='Epoch 969', max=10, style=ProgressStyle(description_width='in…"
      ]
     },
     "metadata": {},
     "output_type": "display_data"
    },
    {
     "name": "stdout",
     "output_type": "stream",
     "text": [
      "Epoch 970/1000\n",
      "10/10 - 28s - loss: 1.0527e-05 - mean_squared_error: 1.7124e-10 - keras_psnr: 25.9011 - keras_ssim: 0.4498 - val_loss: 9.9924e-06 - val_mean_squared_error: 2.3852e-10 - val_keras_psnr: 27.5457 - val_keras_ssim: 0.5317\n"
     ]
    },
    {
     "data": {
      "application/vnd.jupyter.widget-view+json": {
       "model_id": "",
       "version_major": 2,
       "version_minor": 0
      },
      "text/plain": [
       "HBox(children=(IntProgress(value=0, description='Epoch 970', max=10, style=ProgressStyle(description_width='in…"
      ]
     },
     "metadata": {},
     "output_type": "display_data"
    },
    {
     "name": "stdout",
     "output_type": "stream",
     "text": [
      "Epoch 971/1000\n",
      "10/10 - 28s - loss: 9.2990e-06 - mean_squared_error: 1.5804e-10 - keras_psnr: 25.2839 - keras_ssim: 0.4485 - val_loss: 9.9632e-06 - val_mean_squared_error: 2.3636e-10 - val_keras_psnr: 27.5714 - val_keras_ssim: 0.5323\n"
     ]
    },
    {
     "data": {
      "application/vnd.jupyter.widget-view+json": {
       "model_id": "",
       "version_major": 2,
       "version_minor": 0
      },
      "text/plain": [
       "HBox(children=(IntProgress(value=0, description='Epoch 971', max=10, style=ProgressStyle(description_width='in…"
      ]
     },
     "metadata": {},
     "output_type": "display_data"
    },
    {
     "name": "stdout",
     "output_type": "stream",
     "text": [
      "Epoch 972/1000\n",
      "10/10 - 26s - loss: 1.3003e-05 - mean_squared_error: 4.4351e-10 - keras_psnr: 27.9704 - keras_ssim: 0.6138 - val_loss: 9.9647e-06 - val_mean_squared_error: 2.3729e-10 - val_keras_psnr: 27.5773 - val_keras_ssim: 0.5326\n"
     ]
    },
    {
     "data": {
      "application/vnd.jupyter.widget-view+json": {
       "model_id": "",
       "version_major": 2,
       "version_minor": 0
      },
      "text/plain": [
       "HBox(children=(IntProgress(value=0, description='Epoch 972', max=10, style=ProgressStyle(description_width='in…"
      ]
     },
     "metadata": {},
     "output_type": "display_data"
    },
    {
     "name": "stdout",
     "output_type": "stream",
     "text": [
      "Epoch 973/1000\n",
      "10/10 - 29s - loss: 1.0993e-05 - mean_squared_error: 2.0395e-10 - keras_psnr: 25.0524 - keras_ssim: 0.4160 - val_loss: 9.9538e-06 - val_mean_squared_error: 2.3630e-10 - val_keras_psnr: 27.5834 - val_keras_ssim: 0.5328\n"
     ]
    },
    {
     "data": {
      "application/vnd.jupyter.widget-view+json": {
       "model_id": "",
       "version_major": 2,
       "version_minor": 0
      },
      "text/plain": [
       "HBox(children=(IntProgress(value=0, description='Epoch 973', max=10, style=ProgressStyle(description_width='in…"
      ]
     },
     "metadata": {},
     "output_type": "display_data"
    },
    {
     "name": "stdout",
     "output_type": "stream",
     "text": [
      "Epoch 974/1000\n",
      "10/10 - 29s - loss: 1.2615e-05 - mean_squared_error: 3.8079e-10 - keras_psnr: 27.7763 - keras_ssim: 0.5863 - val_loss: 9.9635e-06 - val_mean_squared_error: 2.3651e-10 - val_keras_psnr: 27.5653 - val_keras_ssim: 0.5323\n"
     ]
    },
    {
     "data": {
      "application/vnd.jupyter.widget-view+json": {
       "model_id": "",
       "version_major": 2,
       "version_minor": 0
      },
      "text/plain": [
       "HBox(children=(IntProgress(value=0, description='Epoch 974', max=10, style=ProgressStyle(description_width='in…"
      ]
     },
     "metadata": {},
     "output_type": "display_data"
    },
    {
     "name": "stdout",
     "output_type": "stream",
     "text": [
      "Epoch 975/1000\n",
      "10/10 - 28s - loss: 1.1173e-05 - mean_squared_error: 2.6613e-10 - keras_psnr: 27.2235 - keras_ssim: 0.5337 - val_loss: 9.9715e-06 - val_mean_squared_error: 2.3733e-10 - val_keras_psnr: 27.5663 - val_keras_ssim: 0.5324\n"
     ]
    },
    {
     "data": {
      "application/vnd.jupyter.widget-view+json": {
       "model_id": "",
       "version_major": 2,
       "version_minor": 0
      },
      "text/plain": [
       "HBox(children=(IntProgress(value=0, description='Epoch 975', max=10, style=ProgressStyle(description_width='in…"
      ]
     },
     "metadata": {},
     "output_type": "display_data"
    },
    {
     "name": "stdout",
     "output_type": "stream",
     "text": [
      "Epoch 976/1000\n",
      "10/10 - 28s - loss: 1.2341e-05 - mean_squared_error: 4.4416e-10 - keras_psnr: 24.4079 - keras_ssim: 0.4207 - val_loss: 9.9729e-06 - val_mean_squared_error: 2.3705e-10 - val_keras_psnr: 27.5762 - val_keras_ssim: 0.5327\n"
     ]
    },
    {
     "data": {
      "application/vnd.jupyter.widget-view+json": {
       "model_id": "",
       "version_major": 2,
       "version_minor": 0
      },
      "text/plain": [
       "HBox(children=(IntProgress(value=0, description='Epoch 976', max=10, style=ProgressStyle(description_width='in…"
      ]
     },
     "metadata": {},
     "output_type": "display_data"
    },
    {
     "name": "stdout",
     "output_type": "stream",
     "text": [
      "Epoch 977/1000\n",
      "10/10 - 28s - loss: 1.0099e-05 - mean_squared_error: 2.8332e-10 - keras_psnr: 28.0144 - keras_ssim: 0.6065 - val_loss: 9.9509e-06 - val_mean_squared_error: 2.3634e-10 - val_keras_psnr: 27.5898 - val_keras_ssim: 0.5333\n"
     ]
    },
    {
     "data": {
      "application/vnd.jupyter.widget-view+json": {
       "model_id": "",
       "version_major": 2,
       "version_minor": 0
      },
      "text/plain": [
       "HBox(children=(IntProgress(value=0, description='Epoch 977', max=10, style=ProgressStyle(description_width='in…"
      ]
     },
     "metadata": {},
     "output_type": "display_data"
    },
    {
     "name": "stdout",
     "output_type": "stream",
     "text": [
      "Epoch 978/1000\n",
      "10/10 - 28s - loss: 1.1937e-05 - mean_squared_error: 3.0071e-10 - keras_psnr: 26.6655 - keras_ssim: 0.5215 - val_loss: 9.9585e-06 - val_mean_squared_error: 2.3714e-10 - val_keras_psnr: 27.5823 - val_keras_ssim: 0.5331\n"
     ]
    },
    {
     "data": {
      "application/vnd.jupyter.widget-view+json": {
       "model_id": "",
       "version_major": 2,
       "version_minor": 0
      },
      "text/plain": [
       "HBox(children=(IntProgress(value=0, description='Epoch 978', max=10, style=ProgressStyle(description_width='in…"
      ]
     },
     "metadata": {},
     "output_type": "display_data"
    },
    {
     "name": "stdout",
     "output_type": "stream",
     "text": [
      "Epoch 979/1000\n",
      "10/10 - 28s - loss: 1.0073e-05 - mean_squared_error: 3.5220e-10 - keras_psnr: 27.5036 - keras_ssim: 0.5792 - val_loss: 9.9752e-06 - val_mean_squared_error: 2.3783e-10 - val_keras_psnr: 27.5661 - val_keras_ssim: 0.5326\n"
     ]
    },
    {
     "data": {
      "application/vnd.jupyter.widget-view+json": {
       "model_id": "",
       "version_major": 2,
       "version_minor": 0
      },
      "text/plain": [
       "HBox(children=(IntProgress(value=0, description='Epoch 979', max=10, style=ProgressStyle(description_width='in…"
      ]
     },
     "metadata": {},
     "output_type": "display_data"
    },
    {
     "name": "stdout",
     "output_type": "stream",
     "text": [
      "Epoch 980/1000\n",
      "10/10 - 28s - loss: 1.0519e-05 - mean_squared_error: 2.6468e-10 - keras_psnr: 26.9958 - keras_ssim: 0.5673 - val_loss: 9.9424e-06 - val_mean_squared_error: 2.3593e-10 - val_keras_psnr: 27.5870 - val_keras_ssim: 0.5332\n"
     ]
    },
    {
     "data": {
      "application/vnd.jupyter.widget-view+json": {
       "model_id": "",
       "version_major": 2,
       "version_minor": 0
      },
      "text/plain": [
       "HBox(children=(IntProgress(value=0, description='Epoch 980', max=10, style=ProgressStyle(description_width='in…"
      ]
     },
     "metadata": {},
     "output_type": "display_data"
    },
    {
     "name": "stdout",
     "output_type": "stream",
     "text": [
      "Epoch 981/1000\n",
      "10/10 - 28s - loss: 1.7618e-05 - mean_squared_error: 1.8850e-09 - keras_psnr: 25.9758 - keras_ssim: 0.5898 - val_loss: 9.9830e-06 - val_mean_squared_error: 2.3812e-10 - val_keras_psnr: 27.5458 - val_keras_ssim: 0.5324\n"
     ]
    },
    {
     "data": {
      "application/vnd.jupyter.widget-view+json": {
       "model_id": "",
       "version_major": 2,
       "version_minor": 0
      },
      "text/plain": [
       "HBox(children=(IntProgress(value=0, description='Epoch 981', max=10, style=ProgressStyle(description_width='in…"
      ]
     },
     "metadata": {},
     "output_type": "display_data"
    },
    {
     "name": "stdout",
     "output_type": "stream",
     "text": [
      "Epoch 982/1000\n",
      "10/10 - 28s - loss: 1.2020e-05 - mean_squared_error: 3.0356e-10 - keras_psnr: 27.4863 - keras_ssim: 0.6017 - val_loss: 9.9763e-06 - val_mean_squared_error: 2.3788e-10 - val_keras_psnr: 27.5611 - val_keras_ssim: 0.5324\n"
     ]
    },
    {
     "data": {
      "application/vnd.jupyter.widget-view+json": {
       "model_id": "",
       "version_major": 2,
       "version_minor": 0
      },
      "text/plain": [
       "HBox(children=(IntProgress(value=0, description='Epoch 982', max=10, style=ProgressStyle(description_width='in…"
      ]
     },
     "metadata": {},
     "output_type": "display_data"
    },
    {
     "name": "stdout",
     "output_type": "stream",
     "text": [
      "Epoch 983/1000\n",
      "10/10 - 28s - loss: 1.2162e-05 - mean_squared_error: 4.2675e-10 - keras_psnr: 26.9002 - keras_ssim: 0.5588 - val_loss: 9.9742e-06 - val_mean_squared_error: 2.3773e-10 - val_keras_psnr: 27.5804 - val_keras_ssim: 0.5331\n"
     ]
    },
    {
     "data": {
      "application/vnd.jupyter.widget-view+json": {
       "model_id": "",
       "version_major": 2,
       "version_minor": 0
      },
      "text/plain": [
       "HBox(children=(IntProgress(value=0, description='Epoch 983', max=10, style=ProgressStyle(description_width='in…"
      ]
     },
     "metadata": {},
     "output_type": "display_data"
    },
    {
     "name": "stdout",
     "output_type": "stream",
     "text": [
      "Epoch 984/1000\n",
      "10/10 - 28s - loss: 9.1343e-06 - mean_squared_error: 2.2253e-10 - keras_psnr: 25.9898 - keras_ssim: 0.5011 - val_loss: 9.9665e-06 - val_mean_squared_error: 2.3739e-10 - val_keras_psnr: 27.5842 - val_keras_ssim: 0.5332\n"
     ]
    },
    {
     "data": {
      "application/vnd.jupyter.widget-view+json": {
       "model_id": "",
       "version_major": 2,
       "version_minor": 0
      },
      "text/plain": [
       "HBox(children=(IntProgress(value=0, description='Epoch 984', max=10, style=ProgressStyle(description_width='in…"
      ]
     },
     "metadata": {},
     "output_type": "display_data"
    },
    {
     "name": "stdout",
     "output_type": "stream",
     "text": [
      "Epoch 985/1000\n",
      "10/10 - 28s - loss: 1.1120e-05 - mean_squared_error: 3.0713e-10 - keras_psnr: 27.1624 - keras_ssim: 0.5496 - val_loss: 9.9703e-06 - val_mean_squared_error: 2.3764e-10 - val_keras_psnr: 27.5700 - val_keras_ssim: 0.5326\n"
     ]
    },
    {
     "data": {
      "application/vnd.jupyter.widget-view+json": {
       "model_id": "",
       "version_major": 2,
       "version_minor": 0
      },
      "text/plain": [
       "HBox(children=(IntProgress(value=0, description='Epoch 985', max=10, style=ProgressStyle(description_width='in…"
      ]
     },
     "metadata": {},
     "output_type": "display_data"
    },
    {
     "name": "stdout",
     "output_type": "stream",
     "text": [
      "Epoch 986/1000\n",
      "10/10 - 28s - loss: 1.2143e-05 - mean_squared_error: 4.4296e-10 - keras_psnr: 25.0289 - keras_ssim: 0.4941 - val_loss: 9.9796e-06 - val_mean_squared_error: 2.3804e-10 - val_keras_psnr: 27.5487 - val_keras_ssim: 0.5322\n"
     ]
    },
    {
     "data": {
      "application/vnd.jupyter.widget-view+json": {
       "model_id": "",
       "version_major": 2,
       "version_minor": 0
      },
      "text/plain": [
       "HBox(children=(IntProgress(value=0, description='Epoch 986', max=10, style=ProgressStyle(description_width='in…"
      ]
     },
     "metadata": {},
     "output_type": "display_data"
    },
    {
     "name": "stdout",
     "output_type": "stream",
     "text": [
      "Epoch 987/1000\n",
      "10/10 - 28s - loss: 1.0304e-05 - mean_squared_error: 3.1745e-10 - keras_psnr: 25.8358 - keras_ssim: 0.5206 - val_loss: 9.9934e-06 - val_mean_squared_error: 2.3892e-10 - val_keras_psnr: 27.5381 - val_keras_ssim: 0.5320\n"
     ]
    },
    {
     "data": {
      "application/vnd.jupyter.widget-view+json": {
       "model_id": "",
       "version_major": 2,
       "version_minor": 0
      },
      "text/plain": [
       "HBox(children=(IntProgress(value=0, description='Epoch 987', max=10, style=ProgressStyle(description_width='in…"
      ]
     },
     "metadata": {},
     "output_type": "display_data"
    },
    {
     "name": "stdout",
     "output_type": "stream",
     "text": [
      "Epoch 988/1000\n",
      "10/10 - 28s - loss: 1.3033e-05 - mean_squared_error: 5.7816e-10 - keras_psnr: 27.8073 - keras_ssim: 0.6346 - val_loss: 9.9588e-06 - val_mean_squared_error: 2.3688e-10 - val_keras_psnr: 27.5832 - val_keras_ssim: 0.5329\n"
     ]
    },
    {
     "data": {
      "application/vnd.jupyter.widget-view+json": {
       "model_id": "",
       "version_major": 2,
       "version_minor": 0
      },
      "text/plain": [
       "HBox(children=(IntProgress(value=0, description='Epoch 988', max=10, style=ProgressStyle(description_width='in…"
      ]
     },
     "metadata": {},
     "output_type": "display_data"
    },
    {
     "name": "stdout",
     "output_type": "stream",
     "text": [
      "Epoch 989/1000\n",
      "10/10 - 27s - loss: 9.7013e-06 - mean_squared_error: 1.9183e-10 - keras_psnr: 30.0580 - keras_ssim: 0.6219 - val_loss: 9.9642e-06 - val_mean_squared_error: 2.3692e-10 - val_keras_psnr: 27.5772 - val_keras_ssim: 0.5326\n"
     ]
    },
    {
     "data": {
      "application/vnd.jupyter.widget-view+json": {
       "model_id": "",
       "version_major": 2,
       "version_minor": 0
      },
      "text/plain": [
       "HBox(children=(IntProgress(value=0, description='Epoch 989', max=10, style=ProgressStyle(description_width='in…"
      ]
     },
     "metadata": {},
     "output_type": "display_data"
    },
    {
     "name": "stdout",
     "output_type": "stream",
     "text": [
      "Epoch 990/1000\n",
      "10/10 - 28s - loss: 9.6631e-06 - mean_squared_error: 2.2041e-10 - keras_psnr: 28.4410 - keras_ssim: 0.5919 - val_loss: 9.9502e-06 - val_mean_squared_error: 2.3628e-10 - val_keras_psnr: 27.5806 - val_keras_ssim: 0.5327\n"
     ]
    },
    {
     "data": {
      "application/vnd.jupyter.widget-view+json": {
       "model_id": "",
       "version_major": 2,
       "version_minor": 0
      },
      "text/plain": [
       "HBox(children=(IntProgress(value=0, description='Epoch 990', max=10, style=ProgressStyle(description_width='in…"
      ]
     },
     "metadata": {},
     "output_type": "display_data"
    },
    {
     "name": "stdout",
     "output_type": "stream",
     "text": [
      "Epoch 991/1000\n",
      "10/10 - 28s - loss: 8.8134e-06 - mean_squared_error: 1.9634e-10 - keras_psnr: 26.2471 - keras_ssim: 0.5129 - val_loss: 9.9564e-06 - val_mean_squared_error: 2.3684e-10 - val_keras_psnr: 27.5796 - val_keras_ssim: 0.5327\n"
     ]
    },
    {
     "data": {
      "application/vnd.jupyter.widget-view+json": {
       "model_id": "",
       "version_major": 2,
       "version_minor": 0
      },
      "text/plain": [
       "HBox(children=(IntProgress(value=0, description='Epoch 991', max=10, style=ProgressStyle(description_width='in…"
      ]
     },
     "metadata": {},
     "output_type": "display_data"
    },
    {
     "name": "stdout",
     "output_type": "stream",
     "text": [
      "Epoch 992/1000\n",
      "10/10 - 29s - loss: 9.9645e-06 - mean_squared_error: 1.8270e-10 - keras_psnr: 27.6565 - keras_ssim: 0.5468 - val_loss: 9.9346e-06 - val_mean_squared_error: 2.3565e-10 - val_keras_psnr: 27.5990 - val_keras_ssim: 0.5334\n"
     ]
    },
    {
     "data": {
      "application/vnd.jupyter.widget-view+json": {
       "model_id": "",
       "version_major": 2,
       "version_minor": 0
      },
      "text/plain": [
       "HBox(children=(IntProgress(value=0, description='Epoch 992', max=10, style=ProgressStyle(description_width='in…"
      ]
     },
     "metadata": {},
     "output_type": "display_data"
    },
    {
     "name": "stdout",
     "output_type": "stream",
     "text": [
      "Epoch 993/1000\n",
      "10/10 - 27s - loss: 1.0538e-05 - mean_squared_error: 4.9680e-10 - keras_psnr: 27.4170 - keras_ssim: 0.5694 - val_loss: 9.9509e-06 - val_mean_squared_error: 2.3675e-10 - val_keras_psnr: 27.5836 - val_keras_ssim: 0.5330\n"
     ]
    },
    {
     "data": {
      "application/vnd.jupyter.widget-view+json": {
       "model_id": "",
       "version_major": 2,
       "version_minor": 0
      },
      "text/plain": [
       "HBox(children=(IntProgress(value=0, description='Epoch 993', max=10, style=ProgressStyle(description_width='in…"
      ]
     },
     "metadata": {},
     "output_type": "display_data"
    },
    {
     "name": "stdout",
     "output_type": "stream",
     "text": [
      "Epoch 994/1000\n",
      "10/10 - 28s - loss: 1.6423e-05 - mean_squared_error: 4.3535e-10 - keras_psnr: 24.7251 - keras_ssim: 0.4540 - val_loss: 9.9396e-06 - val_mean_squared_error: 2.3608e-10 - val_keras_psnr: 27.5942 - val_keras_ssim: 0.5334\n"
     ]
    },
    {
     "data": {
      "application/vnd.jupyter.widget-view+json": {
       "model_id": "",
       "version_major": 2,
       "version_minor": 0
      },
      "text/plain": [
       "HBox(children=(IntProgress(value=0, description='Epoch 994', max=10, style=ProgressStyle(description_width='in…"
      ]
     },
     "metadata": {},
     "output_type": "display_data"
    },
    {
     "name": "stdout",
     "output_type": "stream",
     "text": [
      "Epoch 995/1000\n",
      "10/10 - 28s - loss: 1.1497e-05 - mean_squared_error: 2.7343e-10 - keras_psnr: 26.7369 - keras_ssim: 0.5431 - val_loss: 9.9725e-06 - val_mean_squared_error: 2.3805e-10 - val_keras_psnr: 27.5707 - val_keras_ssim: 0.5328\n"
     ]
    },
    {
     "data": {
      "application/vnd.jupyter.widget-view+json": {
       "model_id": "",
       "version_major": 2,
       "version_minor": 0
      },
      "text/plain": [
       "HBox(children=(IntProgress(value=0, description='Epoch 995', max=10, style=ProgressStyle(description_width='in…"
      ]
     },
     "metadata": {},
     "output_type": "display_data"
    },
    {
     "name": "stdout",
     "output_type": "stream",
     "text": [
      "Epoch 996/1000\n",
      "10/10 - 28s - loss: 1.3399e-05 - mean_squared_error: 4.6129e-10 - keras_psnr: 24.4716 - keras_ssim: 0.4416 - val_loss: 9.9666e-06 - val_mean_squared_error: 2.3791e-10 - val_keras_psnr: 27.5660 - val_keras_ssim: 0.5328\n"
     ]
    },
    {
     "data": {
      "application/vnd.jupyter.widget-view+json": {
       "model_id": "",
       "version_major": 2,
       "version_minor": 0
      },
      "text/plain": [
       "HBox(children=(IntProgress(value=0, description='Epoch 996', max=10, style=ProgressStyle(description_width='in…"
      ]
     },
     "metadata": {},
     "output_type": "display_data"
    },
    {
     "name": "stdout",
     "output_type": "stream",
     "text": [
      "Epoch 997/1000\n",
      "10/10 - 28s - loss: 1.0710e-05 - mean_squared_error: 2.1578e-10 - keras_psnr: 26.3704 - keras_ssim: 0.5077 - val_loss: 9.9567e-06 - val_mean_squared_error: 2.3744e-10 - val_keras_psnr: 27.5765 - val_keras_ssim: 0.5331\n"
     ]
    },
    {
     "data": {
      "application/vnd.jupyter.widget-view+json": {
       "model_id": "",
       "version_major": 2,
       "version_minor": 0
      },
      "text/plain": [
       "HBox(children=(IntProgress(value=0, description='Epoch 997', max=10, style=ProgressStyle(description_width='in…"
      ]
     },
     "metadata": {},
     "output_type": "display_data"
    },
    {
     "name": "stdout",
     "output_type": "stream",
     "text": [
      "Epoch 998/1000\n",
      "10/10 - 28s - loss: 1.0471e-05 - mean_squared_error: 2.3370e-10 - keras_psnr: 27.1630 - keras_ssim: 0.5677 - val_loss: 9.9528e-06 - val_mean_squared_error: 2.3664e-10 - val_keras_psnr: 27.5782 - val_keras_ssim: 0.5330\n"
     ]
    },
    {
     "data": {
      "application/vnd.jupyter.widget-view+json": {
       "model_id": "",
       "version_major": 2,
       "version_minor": 0
      },
      "text/plain": [
       "HBox(children=(IntProgress(value=0, description='Epoch 998', max=10, style=ProgressStyle(description_width='in…"
      ]
     },
     "metadata": {},
     "output_type": "display_data"
    },
    {
     "name": "stdout",
     "output_type": "stream",
     "text": [
      "Epoch 999/1000\n",
      "10/10 - 28s - loss: 1.2239e-05 - mean_squared_error: 2.9022e-10 - keras_psnr: 26.2985 - keras_ssim: 0.5081 - val_loss: 9.9503e-06 - val_mean_squared_error: 2.3687e-10 - val_keras_psnr: 27.5840 - val_keras_ssim: 0.5332\n"
     ]
    },
    {
     "data": {
      "application/vnd.jupyter.widget-view+json": {
       "model_id": "",
       "version_major": 2,
       "version_minor": 0
      },
      "text/plain": [
       "HBox(children=(IntProgress(value=0, description='Epoch 999', max=10, style=ProgressStyle(description_width='in…"
      ]
     },
     "metadata": {},
     "output_type": "display_data"
    },
    {
     "name": "stdout",
     "output_type": "stream",
     "text": [
      "Epoch 1000/1000\n",
      "10/10 - 28s - loss: 1.6986e-05 - mean_squared_error: 6.8150e-10 - keras_psnr: 26.2501 - keras_ssim: 0.5839 - val_loss: 9.9543e-06 - val_mean_squared_error: 2.3721e-10 - val_keras_psnr: 27.5793 - val_keras_ssim: 0.5332\n",
      "\n"
     ]
    },
    {
     "data": {
      "text/plain": [
       "<tensorflow.python.keras.callbacks.History at 0x7fc9d22037b8>"
      ]
     },
     "execution_count": 9,
     "metadata": {},
     "output_type": "execute_result"
    }
   ],
   "source": [
    "model.fit_generator(\n",
    "    train_gen, \n",
    "    steps_per_epoch=10, \n",
    "    epochs=n_epochs,\n",
    "    validation_data=val_gen,\n",
    "    validation_steps=25,\n",
    "    verbose=2,\n",
    "    callbacks=[tqdm_cb, tboard_cback, chkpt_cback, lr_on_plat_cback],\n",
    "    max_queue_size=25,\n",
    "#     use_multiprocessing=True,\n",
    "    workers=25,\n",
    "    shuffle=True,\n",
    ")"
   ]
  },
  {
   "cell_type": "code",
   "execution_count": 10,
   "metadata": {
    "scrolled": true
   },
   "outputs": [],
   "source": [
    "# # overfitting trials\n",
    "\n",
    "# data = train_gen[0]\n",
    "# val_data = val_gen[0]\n",
    "# model.fit(\n",
    "#     x=data[0], \n",
    "#     y=data[1], \n",
    "# #     validation_data=val_data, \n",
    "#     batch_size=data[0][0].shape[0], \n",
    "#     epochs=100, \n",
    "#     verbose=2, \n",
    "#     shuffle=False,\n",
    "# )"
   ]
  },
  {
   "cell_type": "code",
   "execution_count": null,
   "metadata": {},
   "outputs": [],
   "source": []
  }
 ],
 "metadata": {
  "kernelspec": {
   "display_name": "Python 3",
   "language": "python",
   "name": "python3"
  },
  "language_info": {
   "codemirror_mode": {
    "name": "ipython",
    "version": 3
   },
   "file_extension": ".py",
   "mimetype": "text/x-python",
   "name": "python",
   "nbconvert_exporter": "python",
   "pygments_lexer": "ipython3",
   "version": "3.6.8"
  },
  "notify_time": "30"
 },
 "nbformat": 4,
 "nbformat_minor": 2
}
